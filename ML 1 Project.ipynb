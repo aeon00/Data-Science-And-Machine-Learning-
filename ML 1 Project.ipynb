{
 "cells": [
  {
   "cell_type": "markdown",
   "metadata": {},
   "source": [
    "**Review**\n",
    "\n",
    "Hi, my name is Dmitry and I will be reviewing your project.\n",
    "  \n",
    "You can find my comments in colored markdown cells:\n",
    "  \n",
    "<div class=\"alert alert-success\">\n",
    "  If everything is done successfully.\n",
    "</div>\n",
    "  \n",
    "<div class=\"alert alert-warning\">\n",
    "  If I have some (optional) suggestions, or questions to think about, or general comments.\n",
    "</div>\n",
    "  \n",
    "<div class=\"alert alert-danger\">\n",
    "  If a section requires some corrections. Work can't be accepted with red comments.\n",
    "</div>\n",
    "  \n",
    "Please don't remove my comments, as it will make further review iterations much harder for me.\n",
    "  \n",
    "Feel free to reply to my comments or ask questions using the following template:\n",
    "  \n",
    "<div class=\"alert alert-info\">\n",
    "  For your comments and questions.\n",
    "</div>\n",
    "  \n",
    "First of all, thank you for turning in the project! You did a great job! The project is accepted. Good luck on the next sprint!"
   ]
  },
  {
   "cell_type": "markdown",
   "metadata": {},
   "source": [
    "# Introduction"
   ]
  },
  {
   "cell_type": "markdown",
   "metadata": {},
   "source": [
    "Mobile carrier Megaline has found out that many of their subscribers use legacy plans. They want to develop a model that would analyze subscribers' behavior and recommend one of Megaline's newer plans: Smart or Ultra.\n",
    "\n",
    "For this classification task, you need to develop a model that will pick the right plan.\n",
    " \n",
    "The threshold for accuracy is 0.75. Check the accuracy using the test dataset."
   ]
  },
  {
   "cell_type": "markdown",
   "metadata": {},
   "source": [
    "## Initialization"
   ]
  },
  {
   "cell_type": "markdown",
   "metadata": {},
   "source": [
    "### Load necessary libraries"
   ]
  },
  {
   "cell_type": "code",
   "execution_count": 1,
   "metadata": {},
   "outputs": [],
   "source": [
    "# Load up necessary libraries\n",
    "import pandas as pd\n",
    "from sklearn.model_selection import train_test_split\n",
    "from sklearn.tree import DecisionTreeClassifier\n",
    "from sklearn.metrics import accuracy_score\n",
    "from sklearn.ensemble import RandomForestClassifier\n",
    "from sklearn.linear_model import LogisticRegression"
   ]
  },
  {
   "cell_type": "markdown",
   "metadata": {},
   "source": [
    "   ### Create and view Dataframe"
   ]
  },
  {
   "cell_type": "code",
   "execution_count": 2,
   "metadata": {},
   "outputs": [],
   "source": [
    "# Load Dataframe\n",
    "df = pd.read_csv('/datasets/users_behavior.csv')"
   ]
  },
  {
   "cell_type": "code",
   "execution_count": 3,
   "metadata": {},
   "outputs": [
    {
     "data": {
      "text/html": [
       "<div>\n",
       "<style scoped>\n",
       "    .dataframe tbody tr th:only-of-type {\n",
       "        vertical-align: middle;\n",
       "    }\n",
       "\n",
       "    .dataframe tbody tr th {\n",
       "        vertical-align: top;\n",
       "    }\n",
       "\n",
       "    .dataframe thead th {\n",
       "        text-align: right;\n",
       "    }\n",
       "</style>\n",
       "<table border=\"1\" class=\"dataframe\">\n",
       "  <thead>\n",
       "    <tr style=\"text-align: right;\">\n",
       "      <th></th>\n",
       "      <th>calls</th>\n",
       "      <th>minutes</th>\n",
       "      <th>messages</th>\n",
       "      <th>mb_used</th>\n",
       "      <th>is_ultra</th>\n",
       "    </tr>\n",
       "  </thead>\n",
       "  <tbody>\n",
       "    <tr>\n",
       "      <th>0</th>\n",
       "      <td>40.0</td>\n",
       "      <td>311.90</td>\n",
       "      <td>83.0</td>\n",
       "      <td>19915.42</td>\n",
       "      <td>0</td>\n",
       "    </tr>\n",
       "    <tr>\n",
       "      <th>1</th>\n",
       "      <td>85.0</td>\n",
       "      <td>516.75</td>\n",
       "      <td>56.0</td>\n",
       "      <td>22696.96</td>\n",
       "      <td>0</td>\n",
       "    </tr>\n",
       "    <tr>\n",
       "      <th>2</th>\n",
       "      <td>77.0</td>\n",
       "      <td>467.66</td>\n",
       "      <td>86.0</td>\n",
       "      <td>21060.45</td>\n",
       "      <td>0</td>\n",
       "    </tr>\n",
       "    <tr>\n",
       "      <th>3</th>\n",
       "      <td>106.0</td>\n",
       "      <td>745.53</td>\n",
       "      <td>81.0</td>\n",
       "      <td>8437.39</td>\n",
       "      <td>1</td>\n",
       "    </tr>\n",
       "    <tr>\n",
       "      <th>4</th>\n",
       "      <td>66.0</td>\n",
       "      <td>418.74</td>\n",
       "      <td>1.0</td>\n",
       "      <td>14502.75</td>\n",
       "      <td>0</td>\n",
       "    </tr>\n",
       "    <tr>\n",
       "      <th>...</th>\n",
       "      <td>...</td>\n",
       "      <td>...</td>\n",
       "      <td>...</td>\n",
       "      <td>...</td>\n",
       "      <td>...</td>\n",
       "    </tr>\n",
       "    <tr>\n",
       "      <th>3209</th>\n",
       "      <td>122.0</td>\n",
       "      <td>910.98</td>\n",
       "      <td>20.0</td>\n",
       "      <td>35124.90</td>\n",
       "      <td>1</td>\n",
       "    </tr>\n",
       "    <tr>\n",
       "      <th>3210</th>\n",
       "      <td>25.0</td>\n",
       "      <td>190.36</td>\n",
       "      <td>0.0</td>\n",
       "      <td>3275.61</td>\n",
       "      <td>0</td>\n",
       "    </tr>\n",
       "    <tr>\n",
       "      <th>3211</th>\n",
       "      <td>97.0</td>\n",
       "      <td>634.44</td>\n",
       "      <td>70.0</td>\n",
       "      <td>13974.06</td>\n",
       "      <td>0</td>\n",
       "    </tr>\n",
       "    <tr>\n",
       "      <th>3212</th>\n",
       "      <td>64.0</td>\n",
       "      <td>462.32</td>\n",
       "      <td>90.0</td>\n",
       "      <td>31239.78</td>\n",
       "      <td>0</td>\n",
       "    </tr>\n",
       "    <tr>\n",
       "      <th>3213</th>\n",
       "      <td>80.0</td>\n",
       "      <td>566.09</td>\n",
       "      <td>6.0</td>\n",
       "      <td>29480.52</td>\n",
       "      <td>1</td>\n",
       "    </tr>\n",
       "  </tbody>\n",
       "</table>\n",
       "<p>3214 rows × 5 columns</p>\n",
       "</div>"
      ],
      "text/plain": [
       "      calls  minutes  messages   mb_used  is_ultra\n",
       "0      40.0   311.90      83.0  19915.42         0\n",
       "1      85.0   516.75      56.0  22696.96         0\n",
       "2      77.0   467.66      86.0  21060.45         0\n",
       "3     106.0   745.53      81.0   8437.39         1\n",
       "4      66.0   418.74       1.0  14502.75         0\n",
       "...     ...      ...       ...       ...       ...\n",
       "3209  122.0   910.98      20.0  35124.90         1\n",
       "3210   25.0   190.36       0.0   3275.61         0\n",
       "3211   97.0   634.44      70.0  13974.06         0\n",
       "3212   64.0   462.32      90.0  31239.78         0\n",
       "3213   80.0   566.09       6.0  29480.52         1\n",
       "\n",
       "[3214 rows x 5 columns]"
      ]
     },
     "execution_count": 3,
     "metadata": {},
     "output_type": "execute_result"
    }
   ],
   "source": [
    "# Visualize Dataframe\n",
    "df"
   ]
  },
  {
   "cell_type": "code",
   "execution_count": 4,
   "metadata": {
    "scrolled": true
   },
   "outputs": [
    {
     "name": "stdout",
     "output_type": "stream",
     "text": [
      "<class 'pandas.core.frame.DataFrame'>\n",
      "RangeIndex: 3214 entries, 0 to 3213\n",
      "Data columns (total 5 columns):\n",
      " #   Column    Non-Null Count  Dtype  \n",
      "---  ------    --------------  -----  \n",
      " 0   calls     3214 non-null   float64\n",
      " 1   minutes   3214 non-null   float64\n",
      " 2   messages  3214 non-null   float64\n",
      " 3   mb_used   3214 non-null   float64\n",
      " 4   is_ultra  3214 non-null   int64  \n",
      "dtypes: float64(4), int64(1)\n",
      "memory usage: 125.7 KB\n"
     ]
    }
   ],
   "source": [
    "# Check df info\n",
    "df.info()"
   ]
  },
  {
   "cell_type": "markdown",
   "metadata": {},
   "source": [
    "From the above results, the dataframe seems clean with no missing data or inappropriate data types so we are ready to create our models."
   ]
  },
  {
   "cell_type": "markdown",
   "metadata": {},
   "source": [
    "<div class=\"alert alert-success\">\n",
    "<b>Reviewer's comment</b>\n",
    "\n",
    "The data was loaded and briefly inspected!\n",
    "\n",
    "</div>"
   ]
  },
  {
   "cell_type": "markdown",
   "metadata": {},
   "source": [
    "## Splitting and visualizing split Dataframes"
   ]
  },
  {
   "cell_type": "markdown",
   "metadata": {},
   "source": [
    "### Split Dataframe into train, test and validate"
   ]
  },
  {
   "cell_type": "code",
   "execution_count": 5,
   "metadata": {},
   "outputs": [],
   "source": [
    "# Split Dataframe into train, test and validate in the ratio 3:1:1 i.e 60%:20%:20% respectively\n",
    "train, test = train_test_split(df, test_size=0.2, random_state=12345)\n",
    "train, validate = train_test_split(train, test_size=0.25, random_state=12345)"
   ]
  },
  {
   "cell_type": "markdown",
   "metadata": {},
   "source": [
    "### Visualizing split Dataframes"
   ]
  },
  {
   "cell_type": "code",
   "execution_count": 6,
   "metadata": {},
   "outputs": [
    {
     "data": {
      "text/html": [
       "<div>\n",
       "<style scoped>\n",
       "    .dataframe tbody tr th:only-of-type {\n",
       "        vertical-align: middle;\n",
       "    }\n",
       "\n",
       "    .dataframe tbody tr th {\n",
       "        vertical-align: top;\n",
       "    }\n",
       "\n",
       "    .dataframe thead th {\n",
       "        text-align: right;\n",
       "    }\n",
       "</style>\n",
       "<table border=\"1\" class=\"dataframe\">\n",
       "  <thead>\n",
       "    <tr style=\"text-align: right;\">\n",
       "      <th></th>\n",
       "      <th>calls</th>\n",
       "      <th>minutes</th>\n",
       "      <th>messages</th>\n",
       "      <th>mb_used</th>\n",
       "      <th>is_ultra</th>\n",
       "    </tr>\n",
       "  </thead>\n",
       "  <tbody>\n",
       "    <tr>\n",
       "      <th>2656</th>\n",
       "      <td>30.0</td>\n",
       "      <td>185.07</td>\n",
       "      <td>34.0</td>\n",
       "      <td>17166.53</td>\n",
       "      <td>0</td>\n",
       "    </tr>\n",
       "    <tr>\n",
       "      <th>823</th>\n",
       "      <td>42.0</td>\n",
       "      <td>290.69</td>\n",
       "      <td>77.0</td>\n",
       "      <td>21507.03</td>\n",
       "      <td>0</td>\n",
       "    </tr>\n",
       "    <tr>\n",
       "      <th>2566</th>\n",
       "      <td>41.0</td>\n",
       "      <td>289.83</td>\n",
       "      <td>15.0</td>\n",
       "      <td>22151.73</td>\n",
       "      <td>0</td>\n",
       "    </tr>\n",
       "    <tr>\n",
       "      <th>1451</th>\n",
       "      <td>45.0</td>\n",
       "      <td>333.49</td>\n",
       "      <td>50.0</td>\n",
       "      <td>17275.47</td>\n",
       "      <td>0</td>\n",
       "    </tr>\n",
       "    <tr>\n",
       "      <th>2953</th>\n",
       "      <td>43.0</td>\n",
       "      <td>300.39</td>\n",
       "      <td>69.0</td>\n",
       "      <td>17277.83</td>\n",
       "      <td>0</td>\n",
       "    </tr>\n",
       "    <tr>\n",
       "      <th>...</th>\n",
       "      <td>...</td>\n",
       "      <td>...</td>\n",
       "      <td>...</td>\n",
       "      <td>...</td>\n",
       "      <td>...</td>\n",
       "    </tr>\n",
       "    <tr>\n",
       "      <th>1043</th>\n",
       "      <td>106.0</td>\n",
       "      <td>796.79</td>\n",
       "      <td>23.0</td>\n",
       "      <td>42250.70</td>\n",
       "      <td>1</td>\n",
       "    </tr>\n",
       "    <tr>\n",
       "      <th>2132</th>\n",
       "      <td>18.0</td>\n",
       "      <td>117.80</td>\n",
       "      <td>0.0</td>\n",
       "      <td>10006.79</td>\n",
       "      <td>1</td>\n",
       "    </tr>\n",
       "    <tr>\n",
       "      <th>1642</th>\n",
       "      <td>87.0</td>\n",
       "      <td>583.02</td>\n",
       "      <td>1.0</td>\n",
       "      <td>11213.97</td>\n",
       "      <td>0</td>\n",
       "    </tr>\n",
       "    <tr>\n",
       "      <th>1495</th>\n",
       "      <td>63.0</td>\n",
       "      <td>408.68</td>\n",
       "      <td>63.0</td>\n",
       "      <td>24970.26</td>\n",
       "      <td>0</td>\n",
       "    </tr>\n",
       "    <tr>\n",
       "      <th>510</th>\n",
       "      <td>83.0</td>\n",
       "      <td>597.83</td>\n",
       "      <td>0.0</td>\n",
       "      <td>16273.02</td>\n",
       "      <td>0</td>\n",
       "    </tr>\n",
       "  </tbody>\n",
       "</table>\n",
       "<p>1928 rows × 5 columns</p>\n",
       "</div>"
      ],
      "text/plain": [
       "      calls  minutes  messages   mb_used  is_ultra\n",
       "2656   30.0   185.07      34.0  17166.53         0\n",
       "823    42.0   290.69      77.0  21507.03         0\n",
       "2566   41.0   289.83      15.0  22151.73         0\n",
       "1451   45.0   333.49      50.0  17275.47         0\n",
       "2953   43.0   300.39      69.0  17277.83         0\n",
       "...     ...      ...       ...       ...       ...\n",
       "1043  106.0   796.79      23.0  42250.70         1\n",
       "2132   18.0   117.80       0.0  10006.79         1\n",
       "1642   87.0   583.02       1.0  11213.97         0\n",
       "1495   63.0   408.68      63.0  24970.26         0\n",
       "510    83.0   597.83       0.0  16273.02         0\n",
       "\n",
       "[1928 rows x 5 columns]"
      ]
     },
     "execution_count": 6,
     "metadata": {},
     "output_type": "execute_result"
    }
   ],
   "source": [
    "# Visualize train\n",
    "train"
   ]
  },
  {
   "cell_type": "code",
   "execution_count": 7,
   "metadata": {},
   "outputs": [
    {
     "data": {
      "text/html": [
       "<div>\n",
       "<style scoped>\n",
       "    .dataframe tbody tr th:only-of-type {\n",
       "        vertical-align: middle;\n",
       "    }\n",
       "\n",
       "    .dataframe tbody tr th {\n",
       "        vertical-align: top;\n",
       "    }\n",
       "\n",
       "    .dataframe thead th {\n",
       "        text-align: right;\n",
       "    }\n",
       "</style>\n",
       "<table border=\"1\" class=\"dataframe\">\n",
       "  <thead>\n",
       "    <tr style=\"text-align: right;\">\n",
       "      <th></th>\n",
       "      <th>calls</th>\n",
       "      <th>minutes</th>\n",
       "      <th>messages</th>\n",
       "      <th>mb_used</th>\n",
       "      <th>is_ultra</th>\n",
       "    </tr>\n",
       "  </thead>\n",
       "  <tbody>\n",
       "    <tr>\n",
       "      <th>1415</th>\n",
       "      <td>82.0</td>\n",
       "      <td>507.89</td>\n",
       "      <td>88.0</td>\n",
       "      <td>17543.37</td>\n",
       "      <td>1</td>\n",
       "    </tr>\n",
       "    <tr>\n",
       "      <th>916</th>\n",
       "      <td>50.0</td>\n",
       "      <td>375.91</td>\n",
       "      <td>35.0</td>\n",
       "      <td>12388.40</td>\n",
       "      <td>0</td>\n",
       "    </tr>\n",
       "    <tr>\n",
       "      <th>1670</th>\n",
       "      <td>83.0</td>\n",
       "      <td>540.49</td>\n",
       "      <td>41.0</td>\n",
       "      <td>9127.74</td>\n",
       "      <td>0</td>\n",
       "    </tr>\n",
       "    <tr>\n",
       "      <th>686</th>\n",
       "      <td>79.0</td>\n",
       "      <td>562.99</td>\n",
       "      <td>19.0</td>\n",
       "      <td>25508.19</td>\n",
       "      <td>1</td>\n",
       "    </tr>\n",
       "    <tr>\n",
       "      <th>2951</th>\n",
       "      <td>78.0</td>\n",
       "      <td>531.29</td>\n",
       "      <td>20.0</td>\n",
       "      <td>9217.25</td>\n",
       "      <td>0</td>\n",
       "    </tr>\n",
       "    <tr>\n",
       "      <th>...</th>\n",
       "      <td>...</td>\n",
       "      <td>...</td>\n",
       "      <td>...</td>\n",
       "      <td>...</td>\n",
       "      <td>...</td>\n",
       "    </tr>\n",
       "    <tr>\n",
       "      <th>2061</th>\n",
       "      <td>66.0</td>\n",
       "      <td>478.48</td>\n",
       "      <td>0.0</td>\n",
       "      <td>16962.58</td>\n",
       "      <td>0</td>\n",
       "    </tr>\n",
       "    <tr>\n",
       "      <th>1510</th>\n",
       "      <td>40.0</td>\n",
       "      <td>334.24</td>\n",
       "      <td>91.0</td>\n",
       "      <td>11304.14</td>\n",
       "      <td>0</td>\n",
       "    </tr>\n",
       "    <tr>\n",
       "      <th>2215</th>\n",
       "      <td>62.0</td>\n",
       "      <td>436.68</td>\n",
       "      <td>52.0</td>\n",
       "      <td>12311.24</td>\n",
       "      <td>0</td>\n",
       "    </tr>\n",
       "    <tr>\n",
       "      <th>664</th>\n",
       "      <td>117.0</td>\n",
       "      <td>739.27</td>\n",
       "      <td>124.0</td>\n",
       "      <td>22818.56</td>\n",
       "      <td>1</td>\n",
       "    </tr>\n",
       "    <tr>\n",
       "      <th>1196</th>\n",
       "      <td>66.0</td>\n",
       "      <td>461.84</td>\n",
       "      <td>85.0</td>\n",
       "      <td>14264.14</td>\n",
       "      <td>0</td>\n",
       "    </tr>\n",
       "  </tbody>\n",
       "</table>\n",
       "<p>643 rows × 5 columns</p>\n",
       "</div>"
      ],
      "text/plain": [
       "      calls  minutes  messages   mb_used  is_ultra\n",
       "1415   82.0   507.89      88.0  17543.37         1\n",
       "916    50.0   375.91      35.0  12388.40         0\n",
       "1670   83.0   540.49      41.0   9127.74         0\n",
       "686    79.0   562.99      19.0  25508.19         1\n",
       "2951   78.0   531.29      20.0   9217.25         0\n",
       "...     ...      ...       ...       ...       ...\n",
       "2061   66.0   478.48       0.0  16962.58         0\n",
       "1510   40.0   334.24      91.0  11304.14         0\n",
       "2215   62.0   436.68      52.0  12311.24         0\n",
       "664   117.0   739.27     124.0  22818.56         1\n",
       "1196   66.0   461.84      85.0  14264.14         0\n",
       "\n",
       "[643 rows x 5 columns]"
      ]
     },
     "execution_count": 7,
     "metadata": {},
     "output_type": "execute_result"
    }
   ],
   "source": [
    "# Visualize test\n",
    "test"
   ]
  },
  {
   "cell_type": "code",
   "execution_count": 8,
   "metadata": {},
   "outputs": [
    {
     "data": {
      "text/html": [
       "<div>\n",
       "<style scoped>\n",
       "    .dataframe tbody tr th:only-of-type {\n",
       "        vertical-align: middle;\n",
       "    }\n",
       "\n",
       "    .dataframe tbody tr th {\n",
       "        vertical-align: top;\n",
       "    }\n",
       "\n",
       "    .dataframe thead th {\n",
       "        text-align: right;\n",
       "    }\n",
       "</style>\n",
       "<table border=\"1\" class=\"dataframe\">\n",
       "  <thead>\n",
       "    <tr style=\"text-align: right;\">\n",
       "      <th></th>\n",
       "      <th>calls</th>\n",
       "      <th>minutes</th>\n",
       "      <th>messages</th>\n",
       "      <th>mb_used</th>\n",
       "      <th>is_ultra</th>\n",
       "    </tr>\n",
       "  </thead>\n",
       "  <tbody>\n",
       "    <tr>\n",
       "      <th>2699</th>\n",
       "      <td>71.0</td>\n",
       "      <td>512.53</td>\n",
       "      <td>27.0</td>\n",
       "      <td>15772.68</td>\n",
       "      <td>0</td>\n",
       "    </tr>\n",
       "    <tr>\n",
       "      <th>242</th>\n",
       "      <td>183.0</td>\n",
       "      <td>1247.04</td>\n",
       "      <td>150.0</td>\n",
       "      <td>29186.41</td>\n",
       "      <td>1</td>\n",
       "    </tr>\n",
       "    <tr>\n",
       "      <th>2854</th>\n",
       "      <td>34.0</td>\n",
       "      <td>246.06</td>\n",
       "      <td>31.0</td>\n",
       "      <td>8448.76</td>\n",
       "      <td>0</td>\n",
       "    </tr>\n",
       "    <tr>\n",
       "      <th>1638</th>\n",
       "      <td>63.0</td>\n",
       "      <td>468.66</td>\n",
       "      <td>0.0</td>\n",
       "      <td>11794.34</td>\n",
       "      <td>0</td>\n",
       "    </tr>\n",
       "    <tr>\n",
       "      <th>1632</th>\n",
       "      <td>4.0</td>\n",
       "      <td>19.85</td>\n",
       "      <td>28.0</td>\n",
       "      <td>13107.42</td>\n",
       "      <td>0</td>\n",
       "    </tr>\n",
       "    <tr>\n",
       "      <th>...</th>\n",
       "      <td>...</td>\n",
       "      <td>...</td>\n",
       "      <td>...</td>\n",
       "      <td>...</td>\n",
       "      <td>...</td>\n",
       "    </tr>\n",
       "    <tr>\n",
       "      <th>2551</th>\n",
       "      <td>83.0</td>\n",
       "      <td>539.32</td>\n",
       "      <td>33.0</td>\n",
       "      <td>20967.28</td>\n",
       "      <td>0</td>\n",
       "    </tr>\n",
       "    <tr>\n",
       "      <th>1261</th>\n",
       "      <td>80.0</td>\n",
       "      <td>552.33</td>\n",
       "      <td>23.0</td>\n",
       "      <td>18457.85</td>\n",
       "      <td>0</td>\n",
       "    </tr>\n",
       "    <tr>\n",
       "      <th>1658</th>\n",
       "      <td>111.0</td>\n",
       "      <td>899.74</td>\n",
       "      <td>0.0</td>\n",
       "      <td>26866.61</td>\n",
       "      <td>0</td>\n",
       "    </tr>\n",
       "    <tr>\n",
       "      <th>353</th>\n",
       "      <td>68.0</td>\n",
       "      <td>493.00</td>\n",
       "      <td>29.0</td>\n",
       "      <td>20021.73</td>\n",
       "      <td>0</td>\n",
       "    </tr>\n",
       "    <tr>\n",
       "      <th>1806</th>\n",
       "      <td>62.0</td>\n",
       "      <td>364.31</td>\n",
       "      <td>0.0</td>\n",
       "      <td>13259.50</td>\n",
       "      <td>0</td>\n",
       "    </tr>\n",
       "  </tbody>\n",
       "</table>\n",
       "<p>643 rows × 5 columns</p>\n",
       "</div>"
      ],
      "text/plain": [
       "      calls  minutes  messages   mb_used  is_ultra\n",
       "2699   71.0   512.53      27.0  15772.68         0\n",
       "242   183.0  1247.04     150.0  29186.41         1\n",
       "2854   34.0   246.06      31.0   8448.76         0\n",
       "1638   63.0   468.66       0.0  11794.34         0\n",
       "1632    4.0    19.85      28.0  13107.42         0\n",
       "...     ...      ...       ...       ...       ...\n",
       "2551   83.0   539.32      33.0  20967.28         0\n",
       "1261   80.0   552.33      23.0  18457.85         0\n",
       "1658  111.0   899.74       0.0  26866.61         0\n",
       "353    68.0   493.00      29.0  20021.73         0\n",
       "1806   62.0   364.31       0.0  13259.50         0\n",
       "\n",
       "[643 rows x 5 columns]"
      ]
     },
     "execution_count": 8,
     "metadata": {},
     "output_type": "execute_result"
    }
   ],
   "source": [
    "# Visualize validate\n",
    "validate"
   ]
  },
  {
   "cell_type": "markdown",
   "metadata": {},
   "source": [
    "### Checking split ratio"
   ]
  },
  {
   "cell_type": "code",
   "execution_count": 9,
   "metadata": {},
   "outputs": [
    {
     "name": "stdout",
     "output_type": "stream",
     "text": [
      "Train ratio: 60% \n"
     ]
    }
   ],
   "source": [
    "# Checking train ratio\n",
    "train_ratio = len(train)/len(df)\n",
    "print(f'Train ratio: {train_ratio:.0%} ')"
   ]
  },
  {
   "cell_type": "code",
   "execution_count": 10,
   "metadata": {},
   "outputs": [
    {
     "name": "stdout",
     "output_type": "stream",
     "text": [
      "Test ratio: 20% \n"
     ]
    }
   ],
   "source": [
    "# Checking test ratio\n",
    "test_ratio = len(test)/len(df)\n",
    "print(f'Test ratio: {test_ratio:.0%} ')"
   ]
  },
  {
   "cell_type": "code",
   "execution_count": 11,
   "metadata": {},
   "outputs": [
    {
     "name": "stdout",
     "output_type": "stream",
     "text": [
      "Validate ratio: 20% \n"
     ]
    }
   ],
   "source": [
    "# Checking validate ratio\n",
    "validate_ratio = len(validate)/len(df)\n",
    "print(f'Validate ratio: {validate_ratio:.0%} ')"
   ]
  },
  {
   "cell_type": "markdown",
   "metadata": {},
   "source": [
    "The data has been split into train, test and validate in the appropriate proportions. Now we can start testing out the best models for the task"
   ]
  },
  {
   "cell_type": "markdown",
   "metadata": {},
   "source": [
    "<div class=\"alert alert-success\">\n",
    "<b>Reviewer's comment</b>\n",
    "\n",
    "The data split is reasonable!\n",
    "\n",
    "</div>"
   ]
  },
  {
   "cell_type": "markdown",
   "metadata": {},
   "source": [
    "## Working with models"
   ]
  },
  {
   "cell_type": "markdown",
   "metadata": {},
   "source": [
    "### Establish variables"
   ]
  },
  {
   "cell_type": "code",
   "execution_count": 12,
   "metadata": {},
   "outputs": [],
   "source": [
    "# Variables for train df\n",
    "features_train = train.drop('is_ultra', axis=1)\n",
    "target_train = train['is_ultra']"
   ]
  },
  {
   "cell_type": "code",
   "execution_count": 13,
   "metadata": {},
   "outputs": [],
   "source": [
    "# Variables for test df\n",
    "features_test = test.drop('is_ultra', axis=1)\n",
    "target_test = test['is_ultra']"
   ]
  },
  {
   "cell_type": "code",
   "execution_count": 14,
   "metadata": {},
   "outputs": [],
   "source": [
    "# Variables for validate df\n",
    "features_validate = validate.drop('is_ultra', axis=1)\n",
    "target_validate = validate['is_ultra']"
   ]
  },
  {
   "cell_type": "markdown",
   "metadata": {},
   "source": [
    "All useful variables from the Dataframes have been created"
   ]
  },
  {
   "cell_type": "markdown",
   "metadata": {},
   "source": [
    "<div class=\"alert alert-success\">\n",
    "<b>Reviewer's comment</b>\n",
    "\n",
    "Ok!\n",
    "\n",
    "</div>"
   ]
  },
  {
   "cell_type": "markdown",
   "metadata": {},
   "source": [
    "### Decision Tree Model"
   ]
  },
  {
   "cell_type": "code",
   "execution_count": 15,
   "metadata": {},
   "outputs": [],
   "source": [
    "# Create decision tree model with the most accuracy\n",
    "best_result = 0\n",
    "best_tree_model = None\n",
    "best_depth = 0\n",
    "for depth in range(1,11):\n",
    "    tree_model = DecisionTreeClassifier(max_depth= depth, random_state=12345)\n",
    "    tree_model.fit(features_train, target_train)\n",
    "    prediction = tree_model.predict(features_validate)\n",
    "    result = accuracy_score(target_validate, prediction)\n",
    "    if result > best_result:\n",
    "        best_result = result\n",
    "        best_tree_model = tree_model\n",
    "        best_depth = depth"
   ]
  },
  {
   "cell_type": "code",
   "execution_count": 16,
   "metadata": {},
   "outputs": [
    {
     "name": "stdout",
     "output_type": "stream",
     "text": [
      "Accuracy of best model: 0.7744945567651633\n",
      "Most efficient depth: 7\n"
     ]
    }
   ],
   "source": [
    "# Check accuracy of tree model using validation dataset\n",
    "print(f'Accuracy of best model: {best_result}')\n",
    "print(f'Most efficient depth: {best_depth}')"
   ]
  },
  {
   "cell_type": "code",
   "execution_count": 17,
   "metadata": {},
   "outputs": [
    {
     "name": "stdout",
     "output_type": "stream",
     "text": [
      "Test results for Decision Tree Classifier: 0.7884914463452566\n"
     ]
    }
   ],
   "source": [
    "# Check accuracy of tree model using the test dataset\n",
    "tree_test_pred = best_tree_model.predict(features_test)\n",
    "tree_test_res = accuracy_score(target_test, tree_test_pred)\n",
    "print(f'Test results for Decision Tree Classifier: {tree_test_res}')"
   ]
  },
  {
   "cell_type": "markdown",
   "metadata": {},
   "source": [
    "From the results above, the decision tree model seems to be handling the task quite well and seems fairly accurate with an accuracy of 78.8% on the test dataset at a depth of 7. The model isn't over or under fitted"
   ]
  },
  {
   "cell_type": "markdown",
   "metadata": {},
   "source": [
    "### Random Forest Model"
   ]
  },
  {
   "cell_type": "code",
   "execution_count": 18,
   "metadata": {},
   "outputs": [],
   "source": [
    "# Create Random Forest Model with the most accuracy\n",
    "best_score = 0\n",
    "best_est = 0\n",
    "best_f_depth = 0\n",
    "best_rf_model = None\n",
    "for est in range(1,51, 10):\n",
    "    for depth in range(1,11):\n",
    "        forest_model = RandomForestClassifier(random_state=54321, n_estimators=est, max_depth=depth)\n",
    "        forest_model.fit(features_train, target_train)\n",
    "        rf_prediction = forest_model.predict(features_validate)\n",
    "        result = accuracy_score(target_validate, rf_prediction)\n",
    "        if result > best_score:\n",
    "            best_score = result\n",
    "            best_est = est\n",
    "            best_f_depth = depth\n",
    "            best_rf_model = forest_model"
   ]
  },
  {
   "cell_type": "code",
   "execution_count": 19,
   "metadata": {},
   "outputs": [
    {
     "name": "stdout",
     "output_type": "stream",
     "text": [
      "Accuracy of best model: 0.7931570762052877\n",
      "Best number of estimators: 11\n",
      "Most efficient depth: 10\n"
     ]
    }
   ],
   "source": [
    "# Check accuracy of forest model using validation dataset\n",
    "print(f'Accuracy of best model: {best_score}')\n",
    "print(f'Best number of estimators: {best_est}')\n",
    "print(f'Most efficient depth: {best_f_depth}')"
   ]
  },
  {
   "cell_type": "code",
   "execution_count": 20,
   "metadata": {},
   "outputs": [
    {
     "name": "stdout",
     "output_type": "stream",
     "text": [
      "Test results of Random Forest Classifier: 0.7947122861586314\n"
     ]
    }
   ],
   "source": [
    "# Check accuracy of forest model using test dataset\n",
    "forest_test_pred = best_rf_model.predict(features_test)\n",
    "forest_test_res = accuracy_score(target_test, forest_test_pred)\n",
    "print(f'Test results of Random Forest Classifier: {forest_test_res}')"
   ]
  },
  {
   "cell_type": "markdown",
   "metadata": {},
   "source": [
    "From the above results, the random forest model is also quite effective in running this task with an accuracy of 79.5% on the test dataset, a max_depth of 10 and an n_estimators of 11. But seeing as the accuracy is just marginally better than that of the decision tree model, if speed is needed for this task, then this might not be the best model for the task."
   ]
  },
  {
   "cell_type": "markdown",
   "metadata": {},
   "source": [
    "### Logistic Regression Model"
   ]
  },
  {
   "cell_type": "code",
   "execution_count": 21,
   "metadata": {},
   "outputs": [
    {
     "data": {
      "text/plain": [
       "LogisticRegression(random_state=12345)"
      ]
     },
     "execution_count": 21,
     "metadata": {},
     "output_type": "execute_result"
    }
   ],
   "source": [
    "# Create Logistic Regression Model\n",
    "lr_model = LogisticRegression(random_state= 12345, solver='lbfgs')\n",
    "lr_model.fit(features_train, target_train)"
   ]
  },
  {
   "cell_type": "code",
   "execution_count": 22,
   "metadata": {},
   "outputs": [
    {
     "name": "stdout",
     "output_type": "stream",
     "text": [
      "Accuracy score on validation dataset: 0.7262830482115086\n"
     ]
    }
   ],
   "source": [
    "# Check accuracy of logistic regression model using validation dataset\n",
    "acc_score = lr_model.score(features_validate, target_validate)\n",
    "print(f'Accuracy score on validation dataset: {acc_score}')"
   ]
  },
  {
   "cell_type": "code",
   "execution_count": 23,
   "metadata": {},
   "outputs": [
    {
     "name": "stdout",
     "output_type": "stream",
     "text": [
      "Accuracy score on test dataset: 0.7589424572317263\n"
     ]
    }
   ],
   "source": [
    "# Check accuracy of Logistic regression model using test dataset\n",
    "acc_score_test = lr_model.score(features_test, target_test)\n",
    "print(f'Accuracy score on test dataset: {acc_score_test}')"
   ]
  },
  {
   "cell_type": "markdown",
   "metadata": {},
   "source": [
    "From the above results, we can see that the Logistic Regression Model is also fairly accurate with accuracy of 72.6% and 75.9% on validationa and test datasets respectively."
   ]
  },
  {
   "cell_type": "markdown",
   "metadata": {},
   "source": [
    "<div class=\"alert alert-success\">\n",
    "<b>Reviewer's comment</b>\n",
    "\n",
    "Great, you tuned the models' hyperparameters using the validation set and evaluated the final models on the test set!\n",
    "\n",
    "</div>"
   ]
  },
  {
   "cell_type": "markdown",
   "metadata": {},
   "source": [
    "## Conclusion"
   ]
  },
  {
   "cell_type": "markdown",
   "metadata": {},
   "source": [
    "In summary, We split the dataset into train, validate and test in the ratio 3:1:1, i.e 60%, 20% and 20% respectively and created different machine learning models to decide which model is best to use to pick the right plans for the customers.\n",
    "\n",
    "We were able to create 3 models to accurately pick the right plan based on customer behaviour and data. And of the 3 models, the Random Forest Model is the most accurate and good accuracy is needed to drive up revenue. \n",
    "We recommend this model if speed of execution is not a factor.\n",
    "\n",
    "\n",
    "The Logistic Regression Model is the least accurate on our datasets but the fastest. In reality, 70% accuracy is really not bad. \n",
    "We recommend this model if speed is very important.\n",
    "\n",
    "The Decision Tree Model is quite accurate and also very fast. This might be good for the short term. But this model is prone to overfitting or underfitting. \n",
    "However, this model is the most efficient and we think it's the best model for this task."
   ]
  },
  {
   "cell_type": "markdown",
   "metadata": {},
   "source": [
    "<div class=\"alert alert-success\">\n",
    "<b>Reviewer's comment</b>\n",
    "\n",
    "Conclusions make sense!\n",
    "\n",
    "</div>"
   ]
  }
 ],
 "metadata": {
  "ExecuteTimeLog": [
   {
    "duration": 3,
    "start_time": "2022-05-19T19:45:10.787Z"
   },
   {
    "duration": 23,
    "start_time": "2022-05-19T19:45:29.365Z"
   },
   {
    "duration": 23,
    "start_time": "2022-05-19T19:46:04.978Z"
   },
   {
    "duration": 7,
    "start_time": "2022-05-20T00:02:52.364Z"
   },
   {
    "duration": 15,
    "start_time": "2022-05-20T00:02:57.336Z"
   },
   {
    "duration": 13,
    "start_time": "2022-05-20T00:03:02.927Z"
   },
   {
    "duration": 14,
    "start_time": "2022-05-20T00:03:10.004Z"
   },
   {
    "duration": 4,
    "start_time": "2022-05-20T00:04:32.852Z"
   },
   {
    "duration": 4,
    "start_time": "2022-05-20T00:05:11.994Z"
   },
   {
    "duration": 4,
    "start_time": "2022-05-20T00:05:49.146Z"
   },
   {
    "duration": 92,
    "start_time": "2022-05-20T00:11:16.814Z"
   },
   {
    "duration": 16,
    "start_time": "2022-05-20T00:12:40.456Z"
   },
   {
    "duration": 11,
    "start_time": "2022-05-20T00:16:51.348Z"
   },
   {
    "duration": 5,
    "start_time": "2022-05-20T00:17:52.163Z"
   },
   {
    "duration": 64,
    "start_time": "2022-05-20T00:29:23.070Z"
   },
   {
    "duration": 3,
    "start_time": "2022-05-20T00:30:04.154Z"
   },
   {
    "duration": 6,
    "start_time": "2022-05-20T00:30:08.920Z"
   },
   {
    "duration": 53,
    "start_time": "2022-05-20T11:21:46.513Z"
   },
   {
    "duration": 909,
    "start_time": "2022-05-20T11:22:25.888Z"
   },
   {
    "duration": 107,
    "start_time": "2022-05-20T11:22:26.799Z"
   },
   {
    "duration": 20,
    "start_time": "2022-05-20T11:22:26.908Z"
   },
   {
    "duration": 12,
    "start_time": "2022-05-20T11:22:26.930Z"
   },
   {
    "duration": 12,
    "start_time": "2022-05-20T11:22:26.943Z"
   },
   {
    "duration": 21,
    "start_time": "2022-05-20T11:22:26.957Z"
   },
   {
    "duration": 12,
    "start_time": "2022-05-20T11:22:26.980Z"
   },
   {
    "duration": 26,
    "start_time": "2022-05-20T11:22:26.994Z"
   },
   {
    "duration": 3,
    "start_time": "2022-05-20T11:22:27.022Z"
   },
   {
    "duration": 7,
    "start_time": "2022-05-20T11:22:27.027Z"
   },
   {
    "duration": 8,
    "start_time": "2022-05-20T11:22:27.036Z"
   },
   {
    "duration": 72,
    "start_time": "2022-05-20T11:22:27.045Z"
   },
   {
    "duration": 3,
    "start_time": "2022-05-20T11:22:27.119Z"
   },
   {
    "duration": 0,
    "start_time": "2022-05-20T11:22:27.123Z"
   },
   {
    "duration": 4,
    "start_time": "2022-05-20T11:22:34.834Z"
   },
   {
    "duration": 64,
    "start_time": "2022-05-20T11:24:08.159Z"
   },
   {
    "duration": 4,
    "start_time": "2022-05-20T11:24:18.246Z"
   },
   {
    "duration": 106,
    "start_time": "2022-05-20T11:27:44.007Z"
   },
   {
    "duration": 63,
    "start_time": "2022-05-20T11:27:54.771Z"
   },
   {
    "duration": 5,
    "start_time": "2022-05-20T11:27:58.692Z"
   },
   {
    "duration": 61,
    "start_time": "2022-05-20T11:28:10.721Z"
   },
   {
    "duration": 3,
    "start_time": "2022-05-20T11:28:14.492Z"
   },
   {
    "duration": 5,
    "start_time": "2022-05-20T11:28:16.992Z"
   },
   {
    "duration": 3,
    "start_time": "2022-05-20T11:29:30.373Z"
   },
   {
    "duration": 17,
    "start_time": "2022-05-20T11:47:29.806Z"
   },
   {
    "duration": 11,
    "start_time": "2022-05-20T11:47:49.370Z"
   },
   {
    "duration": 5,
    "start_time": "2022-05-20T11:53:08.140Z"
   },
   {
    "duration": 14,
    "start_time": "2022-05-20T11:54:33.075Z"
   },
   {
    "duration": 11,
    "start_time": "2022-05-20T11:54:55.010Z"
   },
   {
    "duration": 13,
    "start_time": "2022-05-20T11:55:12.252Z"
   },
   {
    "duration": 3,
    "start_time": "2022-05-20T12:02:41.421Z"
   },
   {
    "duration": 4,
    "start_time": "2022-05-20T12:03:00.392Z"
   },
   {
    "duration": 4,
    "start_time": "2022-05-20T12:03:53.105Z"
   },
   {
    "duration": 3,
    "start_time": "2022-05-20T12:05:05.837Z"
   },
   {
    "duration": 3,
    "start_time": "2022-05-20T12:08:08.662Z"
   },
   {
    "duration": 3,
    "start_time": "2022-05-20T12:08:25.427Z"
   },
   {
    "duration": 5,
    "start_time": "2022-05-20T12:08:41.618Z"
   },
   {
    "duration": 69,
    "start_time": "2022-05-20T12:11:48.333Z"
   },
   {
    "duration": 3,
    "start_time": "2022-05-20T12:12:14.270Z"
   },
   {
    "duration": 3,
    "start_time": "2022-05-20T12:12:35.754Z"
   },
   {
    "duration": 6,
    "start_time": "2022-05-20T12:14:28.365Z"
   },
   {
    "duration": 12,
    "start_time": "2022-05-20T12:18:58.952Z"
   },
   {
    "duration": 2661,
    "start_time": "2022-05-20T12:32:15.777Z"
   },
   {
    "duration": 2968,
    "start_time": "2022-05-20T12:34:30.581Z"
   },
   {
    "duration": 4,
    "start_time": "2022-05-20T12:35:31.008Z"
   },
   {
    "duration": 2573,
    "start_time": "2022-05-20T12:36:04.034Z"
   },
   {
    "duration": 5,
    "start_time": "2022-05-20T12:36:12.150Z"
   },
   {
    "duration": 6,
    "start_time": "2022-05-20T12:41:01.397Z"
   },
   {
    "duration": 11,
    "start_time": "2022-05-20T12:41:41.448Z"
   },
   {
    "duration": 3,
    "start_time": "2022-05-20T12:52:50.389Z"
   },
   {
    "duration": 39,
    "start_time": "2022-05-20T13:01:10.482Z"
   },
   {
    "duration": 5,
    "start_time": "2022-05-20T13:05:39.757Z"
   },
   {
    "duration": 6,
    "start_time": "2022-05-20T13:06:00.001Z"
   },
   {
    "duration": 5,
    "start_time": "2022-05-20T13:06:20.744Z"
   },
   {
    "duration": 6,
    "start_time": "2022-05-20T13:10:20.620Z"
   },
   {
    "duration": 887,
    "start_time": "2022-05-20T13:37:17.347Z"
   },
   {
    "duration": 26,
    "start_time": "2022-05-20T13:37:18.235Z"
   },
   {
    "duration": 20,
    "start_time": "2022-05-20T13:37:18.263Z"
   },
   {
    "duration": 24,
    "start_time": "2022-05-20T13:37:18.285Z"
   },
   {
    "duration": 21,
    "start_time": "2022-05-20T13:37:18.310Z"
   },
   {
    "duration": 21,
    "start_time": "2022-05-20T13:37:18.333Z"
   },
   {
    "duration": 17,
    "start_time": "2022-05-20T13:37:18.356Z"
   },
   {
    "duration": 19,
    "start_time": "2022-05-20T13:37:18.375Z"
   },
   {
    "duration": 10,
    "start_time": "2022-05-20T13:37:18.395Z"
   },
   {
    "duration": 22,
    "start_time": "2022-05-20T13:37:18.408Z"
   },
   {
    "duration": 18,
    "start_time": "2022-05-20T13:37:18.431Z"
   },
   {
    "duration": 25,
    "start_time": "2022-05-20T13:37:18.451Z"
   },
   {
    "duration": 20,
    "start_time": "2022-05-20T13:37:18.478Z"
   },
   {
    "duration": 31,
    "start_time": "2022-05-20T13:37:18.500Z"
   },
   {
    "duration": 98,
    "start_time": "2022-05-20T13:37:18.533Z"
   },
   {
    "duration": 3,
    "start_time": "2022-05-20T13:37:18.633Z"
   },
   {
    "duration": 35,
    "start_time": "2022-05-20T13:37:18.638Z"
   },
   {
    "duration": 2639,
    "start_time": "2022-05-20T13:37:18.674Z"
   },
   {
    "duration": 4,
    "start_time": "2022-05-20T13:37:21.315Z"
   },
   {
    "duration": 9,
    "start_time": "2022-05-20T13:37:21.321Z"
   },
   {
    "duration": 37,
    "start_time": "2022-05-20T13:37:21.332Z"
   },
   {
    "duration": 6,
    "start_time": "2022-05-20T13:37:21.370Z"
   },
   {
    "duration": 7,
    "start_time": "2022-05-20T13:37:21.377Z"
   }
  ],
  "kernelspec": {
   "display_name": "Python 3 (ipykernel)",
   "language": "python",
   "name": "python3"
  },
  "language_info": {
   "codemirror_mode": {
    "name": "ipython",
    "version": 3
   },
   "file_extension": ".py",
   "mimetype": "text/x-python",
   "name": "python",
   "nbconvert_exporter": "python",
   "pygments_lexer": "ipython3",
   "version": "3.9.5"
  },
  "toc": {
   "base_numbering": 1,
   "nav_menu": {},
   "number_sections": true,
   "sideBar": true,
   "skip_h1_title": true,
   "title_cell": "Table of Contents",
   "title_sidebar": "Contents",
   "toc_cell": false,
   "toc_position": {},
   "toc_section_display": true,
   "toc_window_display": false
  }
 },
 "nbformat": 4,
 "nbformat_minor": 2
}
