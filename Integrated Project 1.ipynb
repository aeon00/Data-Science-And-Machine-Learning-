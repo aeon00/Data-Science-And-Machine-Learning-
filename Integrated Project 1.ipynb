{
 "cells": [
  {
   "cell_type": "markdown",
   "metadata": {},
   "source": [
    "<b>Reviewer's comment v.1</b> <a class=\"tocSkip\"></a>\n",
    "    \n",
    "Hello, Harvey! \n",
    "\n",
    "I see, you changed the replacement of nans for users and critics scores)\n",
    "\n",
    "Your pie-charts for part 4 and conclusions are great!\n",
    "\n",
    "So, I'm glad to say that your project has passed code review!\n",
    "\n",
    "Good luck on your next sprint)\n",
    "\n",
    "&#127881;\n",
    "&#127881;\n",
    "&#127881;\n",
    "\n",
    "</div>"
   ]
  },
  {
   "cell_type": "markdown",
   "metadata": {},
   "source": [
    "Hello Harvey!\n",
    "\n",
    "My name is Karina. Today I'm reviewing your project.\n",
    "\n",
    "Firstly, I'll only mark mistakes, if you have them. I'll give you oppotunity to fix it yourself. Of course, I'll add details if where are any difficulties.\n",
    "\n",
    "Good luck!\n",
    "\n",
    "Please respond to my comments and mark changes using color codes. \n",
    "Below you will find my comments - please do not change them.\n",
    "You can find my comments in green, yellow or red boxes like this:\n",
    "\n",
    "<div class=\"alert alert-block alert-success\">\n",
    "<b>Reviewer's comment</b> <a class=\"tocSkip\"></a>\n",
    "\n",
    "Success. Everything is done succesfully.\n",
    "</div>\n",
    "\n",
    "<div class=\"alert alert-block alert-warning\">\n",
    "<b>Reviewer's comment</b> <a class=\"tocSkip\"></a>\n",
    "\n",
    "Remarks. Some recommendations.\n",
    "</div>\n",
    "\n",
    "<div class=\"alert alert-block alert-danger\">\n",
    "\n",
    "<b>Reviewer's comment</b> <a class=\"tocSkip\"></a>\n",
    "\n",
    "Needs fixing. The block requires some corrections. Work can't be accepted with the red comments.\n",
    "</div>\n",
    "\n",
    "You can answer me by using this:\n",
    "\n",
    "<div class=\"alert alert-block alert-info\">\n",
    "<b>Student answer.</b> <a class=\"tocSkip\"></a>\n",
    "\n",
    "Text here.\n",
    "</div>"
   ]
  },
  {
   "cell_type": "markdown",
   "metadata": {},
   "source": [
    "# Introduction"
   ]
  },
  {
   "cell_type": "markdown",
   "metadata": {},
   "source": [
    "You work for the online store Ice, which sells video games all over the world. User and expert reviews, genres, platforms (e.g. Xbox or PlayStation), and historical data on game sales are available from open sources. You need to identify patterns that determine whether a game succeeds or not. This will allow you to spot potential big winners and plan advertising campaigns."
   ]
  },
  {
   "cell_type": "markdown",
   "metadata": {},
   "source": [
    "## Initialization"
   ]
  },
  {
   "cell_type": "markdown",
   "metadata": {},
   "source": [
    "Let's begin by loading all necessary libraries"
   ]
  },
  {
   "cell_type": "code",
   "execution_count": 1,
   "metadata": {},
   "outputs": [],
   "source": [
    "# Load all relevant libraries\n",
    "import pandas as pd\n",
    "import numpy as np\n",
    "import matplotlib.pyplot as plt\n",
    "from scipy import stats as st"
   ]
  },
  {
   "cell_type": "markdown",
   "metadata": {},
   "source": [
    "### Load data"
   ]
  },
  {
   "cell_type": "markdown",
   "metadata": {},
   "source": [
    "Lets create a data frame by loading up the dataset."
   ]
  },
  {
   "cell_type": "code",
   "execution_count": 2,
   "metadata": {},
   "outputs": [],
   "source": [
    "# Create data frame from csv files\n",
    "df = pd.read_csv('/datasets/games.csv')"
   ]
  },
  {
   "cell_type": "markdown",
   "metadata": {},
   "source": [
    "### Visualise data "
   ]
  },
  {
   "cell_type": "markdown",
   "metadata": {},
   "source": [
    "Let's get our initial visualisation of the data"
   ]
  },
  {
   "cell_type": "code",
   "execution_count": 3,
   "metadata": {
    "scrolled": false
   },
   "outputs": [
    {
     "name": "stdout",
     "output_type": "stream",
     "text": [
      "<class 'pandas.core.frame.DataFrame'>\n",
      "RangeIndex: 16715 entries, 0 to 16714\n",
      "Data columns (total 11 columns):\n",
      " #   Column           Non-Null Count  Dtype  \n",
      "---  ------           --------------  -----  \n",
      " 0   Name             16713 non-null  object \n",
      " 1   Platform         16715 non-null  object \n",
      " 2   Year_of_Release  16446 non-null  float64\n",
      " 3   Genre            16713 non-null  object \n",
      " 4   NA_sales         16715 non-null  float64\n",
      " 5   EU_sales         16715 non-null  float64\n",
      " 6   JP_sales         16715 non-null  float64\n",
      " 7   Other_sales      16715 non-null  float64\n",
      " 8   Critic_Score     8137 non-null   float64\n",
      " 9   User_Score       10014 non-null  object \n",
      " 10  Rating           9949 non-null   object \n",
      "dtypes: float64(6), object(5)\n",
      "memory usage: 1.4+ MB\n"
     ]
    },
    {
     "data": {
      "text/html": [
       "<div>\n",
       "<style scoped>\n",
       "    .dataframe tbody tr th:only-of-type {\n",
       "        vertical-align: middle;\n",
       "    }\n",
       "\n",
       "    .dataframe tbody tr th {\n",
       "        vertical-align: top;\n",
       "    }\n",
       "\n",
       "    .dataframe thead th {\n",
       "        text-align: right;\n",
       "    }\n",
       "</style>\n",
       "<table border=\"1\" class=\"dataframe\">\n",
       "  <thead>\n",
       "    <tr style=\"text-align: right;\">\n",
       "      <th></th>\n",
       "      <th>Name</th>\n",
       "      <th>Platform</th>\n",
       "      <th>Year_of_Release</th>\n",
       "      <th>Genre</th>\n",
       "      <th>NA_sales</th>\n",
       "      <th>EU_sales</th>\n",
       "      <th>JP_sales</th>\n",
       "      <th>Other_sales</th>\n",
       "      <th>Critic_Score</th>\n",
       "      <th>User_Score</th>\n",
       "      <th>Rating</th>\n",
       "    </tr>\n",
       "  </thead>\n",
       "  <tbody>\n",
       "    <tr>\n",
       "      <th>0</th>\n",
       "      <td>Wii Sports</td>\n",
       "      <td>Wii</td>\n",
       "      <td>2006.0</td>\n",
       "      <td>Sports</td>\n",
       "      <td>41.36</td>\n",
       "      <td>28.96</td>\n",
       "      <td>3.77</td>\n",
       "      <td>8.45</td>\n",
       "      <td>76.0</td>\n",
       "      <td>8</td>\n",
       "      <td>E</td>\n",
       "    </tr>\n",
       "    <tr>\n",
       "      <th>1</th>\n",
       "      <td>Super Mario Bros.</td>\n",
       "      <td>NES</td>\n",
       "      <td>1985.0</td>\n",
       "      <td>Platform</td>\n",
       "      <td>29.08</td>\n",
       "      <td>3.58</td>\n",
       "      <td>6.81</td>\n",
       "      <td>0.77</td>\n",
       "      <td>NaN</td>\n",
       "      <td>NaN</td>\n",
       "      <td>NaN</td>\n",
       "    </tr>\n",
       "    <tr>\n",
       "      <th>2</th>\n",
       "      <td>Mario Kart Wii</td>\n",
       "      <td>Wii</td>\n",
       "      <td>2008.0</td>\n",
       "      <td>Racing</td>\n",
       "      <td>15.68</td>\n",
       "      <td>12.76</td>\n",
       "      <td>3.79</td>\n",
       "      <td>3.29</td>\n",
       "      <td>82.0</td>\n",
       "      <td>8.3</td>\n",
       "      <td>E</td>\n",
       "    </tr>\n",
       "    <tr>\n",
       "      <th>3</th>\n",
       "      <td>Wii Sports Resort</td>\n",
       "      <td>Wii</td>\n",
       "      <td>2009.0</td>\n",
       "      <td>Sports</td>\n",
       "      <td>15.61</td>\n",
       "      <td>10.93</td>\n",
       "      <td>3.28</td>\n",
       "      <td>2.95</td>\n",
       "      <td>80.0</td>\n",
       "      <td>8</td>\n",
       "      <td>E</td>\n",
       "    </tr>\n",
       "    <tr>\n",
       "      <th>4</th>\n",
       "      <td>Pokemon Red/Pokemon Blue</td>\n",
       "      <td>GB</td>\n",
       "      <td>1996.0</td>\n",
       "      <td>Role-Playing</td>\n",
       "      <td>11.27</td>\n",
       "      <td>8.89</td>\n",
       "      <td>10.22</td>\n",
       "      <td>1.00</td>\n",
       "      <td>NaN</td>\n",
       "      <td>NaN</td>\n",
       "      <td>NaN</td>\n",
       "    </tr>\n",
       "    <tr>\n",
       "      <th>5</th>\n",
       "      <td>Tetris</td>\n",
       "      <td>GB</td>\n",
       "      <td>1989.0</td>\n",
       "      <td>Puzzle</td>\n",
       "      <td>23.20</td>\n",
       "      <td>2.26</td>\n",
       "      <td>4.22</td>\n",
       "      <td>0.58</td>\n",
       "      <td>NaN</td>\n",
       "      <td>NaN</td>\n",
       "      <td>NaN</td>\n",
       "    </tr>\n",
       "    <tr>\n",
       "      <th>6</th>\n",
       "      <td>New Super Mario Bros.</td>\n",
       "      <td>DS</td>\n",
       "      <td>2006.0</td>\n",
       "      <td>Platform</td>\n",
       "      <td>11.28</td>\n",
       "      <td>9.14</td>\n",
       "      <td>6.50</td>\n",
       "      <td>2.88</td>\n",
       "      <td>89.0</td>\n",
       "      <td>8.5</td>\n",
       "      <td>E</td>\n",
       "    </tr>\n",
       "    <tr>\n",
       "      <th>7</th>\n",
       "      <td>Wii Play</td>\n",
       "      <td>Wii</td>\n",
       "      <td>2006.0</td>\n",
       "      <td>Misc</td>\n",
       "      <td>13.96</td>\n",
       "      <td>9.18</td>\n",
       "      <td>2.93</td>\n",
       "      <td>2.84</td>\n",
       "      <td>58.0</td>\n",
       "      <td>6.6</td>\n",
       "      <td>E</td>\n",
       "    </tr>\n",
       "    <tr>\n",
       "      <th>8</th>\n",
       "      <td>New Super Mario Bros. Wii</td>\n",
       "      <td>Wii</td>\n",
       "      <td>2009.0</td>\n",
       "      <td>Platform</td>\n",
       "      <td>14.44</td>\n",
       "      <td>6.94</td>\n",
       "      <td>4.70</td>\n",
       "      <td>2.24</td>\n",
       "      <td>87.0</td>\n",
       "      <td>8.4</td>\n",
       "      <td>E</td>\n",
       "    </tr>\n",
       "    <tr>\n",
       "      <th>9</th>\n",
       "      <td>Duck Hunt</td>\n",
       "      <td>NES</td>\n",
       "      <td>1984.0</td>\n",
       "      <td>Shooter</td>\n",
       "      <td>26.93</td>\n",
       "      <td>0.63</td>\n",
       "      <td>0.28</td>\n",
       "      <td>0.47</td>\n",
       "      <td>NaN</td>\n",
       "      <td>NaN</td>\n",
       "      <td>NaN</td>\n",
       "    </tr>\n",
       "  </tbody>\n",
       "</table>\n",
       "</div>"
      ],
      "text/plain": [
       "                        Name Platform  Year_of_Release         Genre  \\\n",
       "0                 Wii Sports      Wii           2006.0        Sports   \n",
       "1          Super Mario Bros.      NES           1985.0      Platform   \n",
       "2             Mario Kart Wii      Wii           2008.0        Racing   \n",
       "3          Wii Sports Resort      Wii           2009.0        Sports   \n",
       "4   Pokemon Red/Pokemon Blue       GB           1996.0  Role-Playing   \n",
       "5                     Tetris       GB           1989.0        Puzzle   \n",
       "6      New Super Mario Bros.       DS           2006.0      Platform   \n",
       "7                   Wii Play      Wii           2006.0          Misc   \n",
       "8  New Super Mario Bros. Wii      Wii           2009.0      Platform   \n",
       "9                  Duck Hunt      NES           1984.0       Shooter   \n",
       "\n",
       "   NA_sales  EU_sales  JP_sales  Other_sales  Critic_Score User_Score Rating  \n",
       "0     41.36     28.96      3.77         8.45          76.0          8      E  \n",
       "1     29.08      3.58      6.81         0.77           NaN        NaN    NaN  \n",
       "2     15.68     12.76      3.79         3.29          82.0        8.3      E  \n",
       "3     15.61     10.93      3.28         2.95          80.0          8      E  \n",
       "4     11.27      8.89     10.22         1.00           NaN        NaN    NaN  \n",
       "5     23.20      2.26      4.22         0.58           NaN        NaN    NaN  \n",
       "6     11.28      9.14      6.50         2.88          89.0        8.5      E  \n",
       "7     13.96      9.18      2.93         2.84          58.0        6.6      E  \n",
       "8     14.44      6.94      4.70         2.24          87.0        8.4      E  \n",
       "9     26.93      0.63      0.28         0.47           NaN        NaN    NaN  "
      ]
     },
     "execution_count": 3,
     "metadata": {},
     "output_type": "execute_result"
    }
   ],
   "source": [
    "# Print dataframe sample and info\n",
    "df.info()\n",
    "df.head(10)"
   ]
  },
  {
   "cell_type": "markdown",
   "metadata": {},
   "source": [
    "From our initial visualisation, we can see that there are missing values in the dataset, inappropriate data types and some inconvenient naming styles which all needs to be sorted before analysis can begin"
   ]
  },
  {
   "cell_type": "markdown",
   "metadata": {},
   "source": [
    "<div class=\"alert alert-block alert-success\">\n",
    "<b>Reviewer's comment</b> <a class=\"tocSkip\"></a>\n",
    "\n",
    "Pretty good observations)"
   ]
  },
  {
   "cell_type": "markdown",
   "metadata": {},
   "source": [
    "## Preprocessing."
   ]
  },
  {
   "cell_type": "markdown",
   "metadata": {},
   "source": [
    "In this step, our main aim is to make sure that the data is ready for analysis. So here we will fill missing values, change data types and add aditional data columns that could help with processing this data if necessary."
   ]
  },
  {
   "cell_type": "markdown",
   "metadata": {},
   "source": [
    "### Address column names"
   ]
  },
  {
   "cell_type": "markdown",
   "metadata": {},
   "source": [
    "To avoid mistakes, it's best to make column names coherent. This helps to reduce the amount of typos encountered. We commonly use lowercase. "
   ]
  },
  {
   "cell_type": "code",
   "execution_count": 4,
   "metadata": {},
   "outputs": [
    {
     "data": {
      "text/html": [
       "<div>\n",
       "<style scoped>\n",
       "    .dataframe tbody tr th:only-of-type {\n",
       "        vertical-align: middle;\n",
       "    }\n",
       "\n",
       "    .dataframe tbody tr th {\n",
       "        vertical-align: top;\n",
       "    }\n",
       "\n",
       "    .dataframe thead th {\n",
       "        text-align: right;\n",
       "    }\n",
       "</style>\n",
       "<table border=\"1\" class=\"dataframe\">\n",
       "  <thead>\n",
       "    <tr style=\"text-align: right;\">\n",
       "      <th></th>\n",
       "      <th>name</th>\n",
       "      <th>platform</th>\n",
       "      <th>year_of_release</th>\n",
       "      <th>genre</th>\n",
       "      <th>na_sales</th>\n",
       "      <th>eu_sales</th>\n",
       "      <th>jp_sales</th>\n",
       "      <th>other_sales</th>\n",
       "      <th>critic_score</th>\n",
       "      <th>user_score</th>\n",
       "      <th>rating</th>\n",
       "    </tr>\n",
       "  </thead>\n",
       "  <tbody>\n",
       "    <tr>\n",
       "      <th>0</th>\n",
       "      <td>Wii Sports</td>\n",
       "      <td>Wii</td>\n",
       "      <td>2006.0</td>\n",
       "      <td>Sports</td>\n",
       "      <td>41.36</td>\n",
       "      <td>28.96</td>\n",
       "      <td>3.77</td>\n",
       "      <td>8.45</td>\n",
       "      <td>76.0</td>\n",
       "      <td>8</td>\n",
       "      <td>E</td>\n",
       "    </tr>\n",
       "    <tr>\n",
       "      <th>1</th>\n",
       "      <td>Super Mario Bros.</td>\n",
       "      <td>NES</td>\n",
       "      <td>1985.0</td>\n",
       "      <td>Platform</td>\n",
       "      <td>29.08</td>\n",
       "      <td>3.58</td>\n",
       "      <td>6.81</td>\n",
       "      <td>0.77</td>\n",
       "      <td>NaN</td>\n",
       "      <td>NaN</td>\n",
       "      <td>NaN</td>\n",
       "    </tr>\n",
       "    <tr>\n",
       "      <th>2</th>\n",
       "      <td>Mario Kart Wii</td>\n",
       "      <td>Wii</td>\n",
       "      <td>2008.0</td>\n",
       "      <td>Racing</td>\n",
       "      <td>15.68</td>\n",
       "      <td>12.76</td>\n",
       "      <td>3.79</td>\n",
       "      <td>3.29</td>\n",
       "      <td>82.0</td>\n",
       "      <td>8.3</td>\n",
       "      <td>E</td>\n",
       "    </tr>\n",
       "    <tr>\n",
       "      <th>3</th>\n",
       "      <td>Wii Sports Resort</td>\n",
       "      <td>Wii</td>\n",
       "      <td>2009.0</td>\n",
       "      <td>Sports</td>\n",
       "      <td>15.61</td>\n",
       "      <td>10.93</td>\n",
       "      <td>3.28</td>\n",
       "      <td>2.95</td>\n",
       "      <td>80.0</td>\n",
       "      <td>8</td>\n",
       "      <td>E</td>\n",
       "    </tr>\n",
       "    <tr>\n",
       "      <th>4</th>\n",
       "      <td>Pokemon Red/Pokemon Blue</td>\n",
       "      <td>GB</td>\n",
       "      <td>1996.0</td>\n",
       "      <td>Role-Playing</td>\n",
       "      <td>11.27</td>\n",
       "      <td>8.89</td>\n",
       "      <td>10.22</td>\n",
       "      <td>1.00</td>\n",
       "      <td>NaN</td>\n",
       "      <td>NaN</td>\n",
       "      <td>NaN</td>\n",
       "    </tr>\n",
       "    <tr>\n",
       "      <th>5</th>\n",
       "      <td>Tetris</td>\n",
       "      <td>GB</td>\n",
       "      <td>1989.0</td>\n",
       "      <td>Puzzle</td>\n",
       "      <td>23.20</td>\n",
       "      <td>2.26</td>\n",
       "      <td>4.22</td>\n",
       "      <td>0.58</td>\n",
       "      <td>NaN</td>\n",
       "      <td>NaN</td>\n",
       "      <td>NaN</td>\n",
       "    </tr>\n",
       "    <tr>\n",
       "      <th>6</th>\n",
       "      <td>New Super Mario Bros.</td>\n",
       "      <td>DS</td>\n",
       "      <td>2006.0</td>\n",
       "      <td>Platform</td>\n",
       "      <td>11.28</td>\n",
       "      <td>9.14</td>\n",
       "      <td>6.50</td>\n",
       "      <td>2.88</td>\n",
       "      <td>89.0</td>\n",
       "      <td>8.5</td>\n",
       "      <td>E</td>\n",
       "    </tr>\n",
       "    <tr>\n",
       "      <th>7</th>\n",
       "      <td>Wii Play</td>\n",
       "      <td>Wii</td>\n",
       "      <td>2006.0</td>\n",
       "      <td>Misc</td>\n",
       "      <td>13.96</td>\n",
       "      <td>9.18</td>\n",
       "      <td>2.93</td>\n",
       "      <td>2.84</td>\n",
       "      <td>58.0</td>\n",
       "      <td>6.6</td>\n",
       "      <td>E</td>\n",
       "    </tr>\n",
       "    <tr>\n",
       "      <th>8</th>\n",
       "      <td>New Super Mario Bros. Wii</td>\n",
       "      <td>Wii</td>\n",
       "      <td>2009.0</td>\n",
       "      <td>Platform</td>\n",
       "      <td>14.44</td>\n",
       "      <td>6.94</td>\n",
       "      <td>4.70</td>\n",
       "      <td>2.24</td>\n",
       "      <td>87.0</td>\n",
       "      <td>8.4</td>\n",
       "      <td>E</td>\n",
       "    </tr>\n",
       "    <tr>\n",
       "      <th>9</th>\n",
       "      <td>Duck Hunt</td>\n",
       "      <td>NES</td>\n",
       "      <td>1984.0</td>\n",
       "      <td>Shooter</td>\n",
       "      <td>26.93</td>\n",
       "      <td>0.63</td>\n",
       "      <td>0.28</td>\n",
       "      <td>0.47</td>\n",
       "      <td>NaN</td>\n",
       "      <td>NaN</td>\n",
       "      <td>NaN</td>\n",
       "    </tr>\n",
       "  </tbody>\n",
       "</table>\n",
       "</div>"
      ],
      "text/plain": [
       "                        name platform  year_of_release         genre  \\\n",
       "0                 Wii Sports      Wii           2006.0        Sports   \n",
       "1          Super Mario Bros.      NES           1985.0      Platform   \n",
       "2             Mario Kart Wii      Wii           2008.0        Racing   \n",
       "3          Wii Sports Resort      Wii           2009.0        Sports   \n",
       "4   Pokemon Red/Pokemon Blue       GB           1996.0  Role-Playing   \n",
       "5                     Tetris       GB           1989.0        Puzzle   \n",
       "6      New Super Mario Bros.       DS           2006.0      Platform   \n",
       "7                   Wii Play      Wii           2006.0          Misc   \n",
       "8  New Super Mario Bros. Wii      Wii           2009.0      Platform   \n",
       "9                  Duck Hunt      NES           1984.0       Shooter   \n",
       "\n",
       "   na_sales  eu_sales  jp_sales  other_sales  critic_score user_score rating  \n",
       "0     41.36     28.96      3.77         8.45          76.0          8      E  \n",
       "1     29.08      3.58      6.81         0.77           NaN        NaN    NaN  \n",
       "2     15.68     12.76      3.79         3.29          82.0        8.3      E  \n",
       "3     15.61     10.93      3.28         2.95          80.0          8      E  \n",
       "4     11.27      8.89     10.22         1.00           NaN        NaN    NaN  \n",
       "5     23.20      2.26      4.22         0.58           NaN        NaN    NaN  \n",
       "6     11.28      9.14      6.50         2.88          89.0        8.5      E  \n",
       "7     13.96      9.18      2.93         2.84          58.0        6.6      E  \n",
       "8     14.44      6.94      4.70         2.24          87.0        8.4      E  \n",
       "9     26.93      0.63      0.28         0.47           NaN        NaN    NaN  "
      ]
     },
     "metadata": {},
     "output_type": "display_data"
    }
   ],
   "source": [
    "# Convert all column names to lowercase\n",
    "df.columns = df.columns.str.lower()\n",
    "display(df.head(10))"
   ]
  },
  {
   "cell_type": "markdown",
   "metadata": {},
   "source": [
    "<div class=\"alert alert-block alert-success\">\n",
    "<b>Reviewer's comment</b> <a class=\"tocSkip\"></a>\n",
    "\n",
    "Usage of str.lower() is great here)"
   ]
  },
  {
   "cell_type": "markdown",
   "metadata": {},
   "source": [
    "### Check for duplicates"
   ]
  },
  {
   "cell_type": "markdown",
   "metadata": {},
   "source": [
    "In this subsection, we will check the dataset for any duplicates and deal with them accordingly."
   ]
  },
  {
   "cell_type": "code",
   "execution_count": 5,
   "metadata": {},
   "outputs": [
    {
     "data": {
      "text/plain": [
       "False    16715\n",
       "dtype: int64"
      ]
     },
     "execution_count": 5,
     "metadata": {},
     "output_type": "execute_result"
    }
   ],
   "source": [
    "# Checking duplicates\n",
    "df.duplicated().value_counts()"
   ]
  },
  {
   "cell_type": "markdown",
   "metadata": {},
   "source": [
    "From our check, there doesn't seem to be any duplicates in our data set."
   ]
  },
  {
   "cell_type": "markdown",
   "metadata": {},
   "source": [
    "### Working with missing values"
   ]
  },
  {
   "cell_type": "markdown",
   "metadata": {},
   "source": [
    "In this section, we will visualize missing values in detail and decide on what to do with them depending on the case."
   ]
  },
  {
   "cell_type": "markdown",
   "metadata": {},
   "source": [
    "#### Visualize data in detail"
   ]
  },
  {
   "cell_type": "code",
   "execution_count": 6,
   "metadata": {
    "scrolled": false
   },
   "outputs": [
    {
     "data": {
      "text/html": [
       "<div>\n",
       "<style scoped>\n",
       "    .dataframe tbody tr th:only-of-type {\n",
       "        vertical-align: middle;\n",
       "    }\n",
       "\n",
       "    .dataframe tbody tr th {\n",
       "        vertical-align: top;\n",
       "    }\n",
       "\n",
       "    .dataframe thead th {\n",
       "        text-align: right;\n",
       "    }\n",
       "</style>\n",
       "<table border=\"1\" class=\"dataframe\">\n",
       "  <thead>\n",
       "    <tr style=\"text-align: right;\">\n",
       "      <th></th>\n",
       "      <th>name</th>\n",
       "      <th>platform</th>\n",
       "      <th>year_of_release</th>\n",
       "      <th>genre</th>\n",
       "      <th>na_sales</th>\n",
       "      <th>eu_sales</th>\n",
       "      <th>jp_sales</th>\n",
       "      <th>other_sales</th>\n",
       "      <th>critic_score</th>\n",
       "      <th>user_score</th>\n",
       "      <th>rating</th>\n",
       "    </tr>\n",
       "  </thead>\n",
       "  <tbody>\n",
       "    <tr>\n",
       "      <th>0</th>\n",
       "      <td>Wii Sports</td>\n",
       "      <td>Wii</td>\n",
       "      <td>2006.0</td>\n",
       "      <td>Sports</td>\n",
       "      <td>41.36</td>\n",
       "      <td>28.96</td>\n",
       "      <td>3.77</td>\n",
       "      <td>8.45</td>\n",
       "      <td>76.0</td>\n",
       "      <td>8</td>\n",
       "      <td>E</td>\n",
       "    </tr>\n",
       "    <tr>\n",
       "      <th>1</th>\n",
       "      <td>Super Mario Bros.</td>\n",
       "      <td>NES</td>\n",
       "      <td>1985.0</td>\n",
       "      <td>Platform</td>\n",
       "      <td>29.08</td>\n",
       "      <td>3.58</td>\n",
       "      <td>6.81</td>\n",
       "      <td>0.77</td>\n",
       "      <td>NaN</td>\n",
       "      <td>NaN</td>\n",
       "      <td>NaN</td>\n",
       "    </tr>\n",
       "    <tr>\n",
       "      <th>2</th>\n",
       "      <td>Mario Kart Wii</td>\n",
       "      <td>Wii</td>\n",
       "      <td>2008.0</td>\n",
       "      <td>Racing</td>\n",
       "      <td>15.68</td>\n",
       "      <td>12.76</td>\n",
       "      <td>3.79</td>\n",
       "      <td>3.29</td>\n",
       "      <td>82.0</td>\n",
       "      <td>8.3</td>\n",
       "      <td>E</td>\n",
       "    </tr>\n",
       "    <tr>\n",
       "      <th>3</th>\n",
       "      <td>Wii Sports Resort</td>\n",
       "      <td>Wii</td>\n",
       "      <td>2009.0</td>\n",
       "      <td>Sports</td>\n",
       "      <td>15.61</td>\n",
       "      <td>10.93</td>\n",
       "      <td>3.28</td>\n",
       "      <td>2.95</td>\n",
       "      <td>80.0</td>\n",
       "      <td>8</td>\n",
       "      <td>E</td>\n",
       "    </tr>\n",
       "    <tr>\n",
       "      <th>4</th>\n",
       "      <td>Pokemon Red/Pokemon Blue</td>\n",
       "      <td>GB</td>\n",
       "      <td>1996.0</td>\n",
       "      <td>Role-Playing</td>\n",
       "      <td>11.27</td>\n",
       "      <td>8.89</td>\n",
       "      <td>10.22</td>\n",
       "      <td>1.00</td>\n",
       "      <td>NaN</td>\n",
       "      <td>NaN</td>\n",
       "      <td>NaN</td>\n",
       "    </tr>\n",
       "    <tr>\n",
       "      <th>5</th>\n",
       "      <td>Tetris</td>\n",
       "      <td>GB</td>\n",
       "      <td>1989.0</td>\n",
       "      <td>Puzzle</td>\n",
       "      <td>23.20</td>\n",
       "      <td>2.26</td>\n",
       "      <td>4.22</td>\n",
       "      <td>0.58</td>\n",
       "      <td>NaN</td>\n",
       "      <td>NaN</td>\n",
       "      <td>NaN</td>\n",
       "    </tr>\n",
       "    <tr>\n",
       "      <th>6</th>\n",
       "      <td>New Super Mario Bros.</td>\n",
       "      <td>DS</td>\n",
       "      <td>2006.0</td>\n",
       "      <td>Platform</td>\n",
       "      <td>11.28</td>\n",
       "      <td>9.14</td>\n",
       "      <td>6.50</td>\n",
       "      <td>2.88</td>\n",
       "      <td>89.0</td>\n",
       "      <td>8.5</td>\n",
       "      <td>E</td>\n",
       "    </tr>\n",
       "    <tr>\n",
       "      <th>7</th>\n",
       "      <td>Wii Play</td>\n",
       "      <td>Wii</td>\n",
       "      <td>2006.0</td>\n",
       "      <td>Misc</td>\n",
       "      <td>13.96</td>\n",
       "      <td>9.18</td>\n",
       "      <td>2.93</td>\n",
       "      <td>2.84</td>\n",
       "      <td>58.0</td>\n",
       "      <td>6.6</td>\n",
       "      <td>E</td>\n",
       "    </tr>\n",
       "    <tr>\n",
       "      <th>8</th>\n",
       "      <td>New Super Mario Bros. Wii</td>\n",
       "      <td>Wii</td>\n",
       "      <td>2009.0</td>\n",
       "      <td>Platform</td>\n",
       "      <td>14.44</td>\n",
       "      <td>6.94</td>\n",
       "      <td>4.70</td>\n",
       "      <td>2.24</td>\n",
       "      <td>87.0</td>\n",
       "      <td>8.4</td>\n",
       "      <td>E</td>\n",
       "    </tr>\n",
       "    <tr>\n",
       "      <th>9</th>\n",
       "      <td>Duck Hunt</td>\n",
       "      <td>NES</td>\n",
       "      <td>1984.0</td>\n",
       "      <td>Shooter</td>\n",
       "      <td>26.93</td>\n",
       "      <td>0.63</td>\n",
       "      <td>0.28</td>\n",
       "      <td>0.47</td>\n",
       "      <td>NaN</td>\n",
       "      <td>NaN</td>\n",
       "      <td>NaN</td>\n",
       "    </tr>\n",
       "  </tbody>\n",
       "</table>\n",
       "</div>"
      ],
      "text/plain": [
       "                        name platform  year_of_release         genre  \\\n",
       "0                 Wii Sports      Wii           2006.0        Sports   \n",
       "1          Super Mario Bros.      NES           1985.0      Platform   \n",
       "2             Mario Kart Wii      Wii           2008.0        Racing   \n",
       "3          Wii Sports Resort      Wii           2009.0        Sports   \n",
       "4   Pokemon Red/Pokemon Blue       GB           1996.0  Role-Playing   \n",
       "5                     Tetris       GB           1989.0        Puzzle   \n",
       "6      New Super Mario Bros.       DS           2006.0      Platform   \n",
       "7                   Wii Play      Wii           2006.0          Misc   \n",
       "8  New Super Mario Bros. Wii      Wii           2009.0      Platform   \n",
       "9                  Duck Hunt      NES           1984.0       Shooter   \n",
       "\n",
       "   na_sales  eu_sales  jp_sales  other_sales  critic_score user_score rating  \n",
       "0     41.36     28.96      3.77         8.45          76.0          8      E  \n",
       "1     29.08      3.58      6.81         0.77           NaN        NaN    NaN  \n",
       "2     15.68     12.76      3.79         3.29          82.0        8.3      E  \n",
       "3     15.61     10.93      3.28         2.95          80.0          8      E  \n",
       "4     11.27      8.89     10.22         1.00           NaN        NaN    NaN  \n",
       "5     23.20      2.26      4.22         0.58           NaN        NaN    NaN  \n",
       "6     11.28      9.14      6.50         2.88          89.0        8.5      E  \n",
       "7     13.96      9.18      2.93         2.84          58.0        6.6      E  \n",
       "8     14.44      6.94      4.70         2.24          87.0        8.4      E  \n",
       "9     26.93      0.63      0.28         0.47           NaN        NaN    NaN  "
      ]
     },
     "execution_count": 6,
     "metadata": {},
     "output_type": "execute_result"
    }
   ],
   "source": [
    "# Print sample of data\n",
    "df.head(10)"
   ]
  },
  {
   "cell_type": "code",
   "execution_count": 7,
   "metadata": {},
   "outputs": [
    {
     "name": "stdout",
     "output_type": "stream",
     "text": [
      "<class 'pandas.core.frame.DataFrame'>\n",
      "RangeIndex: 16715 entries, 0 to 16714\n",
      "Data columns (total 11 columns):\n",
      " #   Column           Non-Null Count  Dtype  \n",
      "---  ------           --------------  -----  \n",
      " 0   name             16713 non-null  object \n",
      " 1   platform         16715 non-null  object \n",
      " 2   year_of_release  16446 non-null  float64\n",
      " 3   genre            16713 non-null  object \n",
      " 4   na_sales         16715 non-null  float64\n",
      " 5   eu_sales         16715 non-null  float64\n",
      " 6   jp_sales         16715 non-null  float64\n",
      " 7   other_sales      16715 non-null  float64\n",
      " 8   critic_score     8137 non-null   float64\n",
      " 9   user_score       10014 non-null  object \n",
      " 10  rating           9949 non-null   object \n",
      "dtypes: float64(6), object(5)\n",
      "memory usage: 1.4+ MB\n"
     ]
    }
   ],
   "source": [
    "# Get df info\n",
    "df.info()"
   ]
  },
  {
   "cell_type": "markdown",
   "metadata": {},
   "source": [
    "There are 6 columns with missing values in this dataset. These columns are `name`, `year_of_release`, `genre`, `critic_score`, `user_score` and `rating`."
   ]
  },
  {
   "cell_type": "code",
   "execution_count": 8,
   "metadata": {},
   "outputs": [
    {
     "data": {
      "text/html": [
       "<div>\n",
       "<style scoped>\n",
       "    .dataframe tbody tr th:only-of-type {\n",
       "        vertical-align: middle;\n",
       "    }\n",
       "\n",
       "    .dataframe tbody tr th {\n",
       "        vertical-align: top;\n",
       "    }\n",
       "\n",
       "    .dataframe thead th {\n",
       "        text-align: right;\n",
       "    }\n",
       "</style>\n",
       "<table border=\"1\" class=\"dataframe\">\n",
       "  <thead>\n",
       "    <tr style=\"text-align: right;\">\n",
       "      <th></th>\n",
       "      <th>name</th>\n",
       "      <th>platform</th>\n",
       "      <th>year_of_release</th>\n",
       "      <th>genre</th>\n",
       "      <th>na_sales</th>\n",
       "      <th>eu_sales</th>\n",
       "      <th>jp_sales</th>\n",
       "      <th>other_sales</th>\n",
       "      <th>critic_score</th>\n",
       "      <th>user_score</th>\n",
       "      <th>rating</th>\n",
       "    </tr>\n",
       "  </thead>\n",
       "  <tbody>\n",
       "    <tr>\n",
       "      <th>659</th>\n",
       "      <td>NaN</td>\n",
       "      <td>GEN</td>\n",
       "      <td>1993.0</td>\n",
       "      <td>NaN</td>\n",
       "      <td>1.78</td>\n",
       "      <td>0.53</td>\n",
       "      <td>0.00</td>\n",
       "      <td>0.08</td>\n",
       "      <td>NaN</td>\n",
       "      <td>NaN</td>\n",
       "      <td>NaN</td>\n",
       "    </tr>\n",
       "    <tr>\n",
       "      <th>14244</th>\n",
       "      <td>NaN</td>\n",
       "      <td>GEN</td>\n",
       "      <td>1993.0</td>\n",
       "      <td>NaN</td>\n",
       "      <td>0.00</td>\n",
       "      <td>0.00</td>\n",
       "      <td>0.03</td>\n",
       "      <td>0.00</td>\n",
       "      <td>NaN</td>\n",
       "      <td>NaN</td>\n",
       "      <td>NaN</td>\n",
       "    </tr>\n",
       "  </tbody>\n",
       "</table>\n",
       "</div>"
      ],
      "text/plain": [
       "      name platform  year_of_release genre  na_sales  eu_sales  jp_sales  \\\n",
       "659    NaN      GEN           1993.0   NaN      1.78      0.53      0.00   \n",
       "14244  NaN      GEN           1993.0   NaN      0.00      0.00      0.03   \n",
       "\n",
       "       other_sales  critic_score user_score rating  \n",
       "659           0.08           NaN        NaN    NaN  \n",
       "14244         0.00           NaN        NaN    NaN  "
      ]
     },
     "metadata": {},
     "output_type": "display_data"
    }
   ],
   "source": [
    "# Missing values in name column\n",
    "display(df[df['name'].isna() == True])"
   ]
  },
  {
   "cell_type": "code",
   "execution_count": 9,
   "metadata": {},
   "outputs": [
    {
     "data": {
      "text/html": [
       "<div>\n",
       "<style scoped>\n",
       "    .dataframe tbody tr th:only-of-type {\n",
       "        vertical-align: middle;\n",
       "    }\n",
       "\n",
       "    .dataframe tbody tr th {\n",
       "        vertical-align: top;\n",
       "    }\n",
       "\n",
       "    .dataframe thead th {\n",
       "        text-align: right;\n",
       "    }\n",
       "</style>\n",
       "<table border=\"1\" class=\"dataframe\">\n",
       "  <thead>\n",
       "    <tr style=\"text-align: right;\">\n",
       "      <th></th>\n",
       "      <th>name</th>\n",
       "      <th>platform</th>\n",
       "      <th>year_of_release</th>\n",
       "      <th>genre</th>\n",
       "      <th>na_sales</th>\n",
       "      <th>eu_sales</th>\n",
       "      <th>jp_sales</th>\n",
       "      <th>other_sales</th>\n",
       "      <th>critic_score</th>\n",
       "      <th>user_score</th>\n",
       "      <th>rating</th>\n",
       "    </tr>\n",
       "  </thead>\n",
       "  <tbody>\n",
       "    <tr>\n",
       "      <th>183</th>\n",
       "      <td>Madden NFL 2004</td>\n",
       "      <td>PS2</td>\n",
       "      <td>NaN</td>\n",
       "      <td>Sports</td>\n",
       "      <td>4.26</td>\n",
       "      <td>0.26</td>\n",
       "      <td>0.01</td>\n",
       "      <td>0.71</td>\n",
       "      <td>94.0</td>\n",
       "      <td>8.5</td>\n",
       "      <td>E</td>\n",
       "    </tr>\n",
       "    <tr>\n",
       "      <th>377</th>\n",
       "      <td>FIFA Soccer 2004</td>\n",
       "      <td>PS2</td>\n",
       "      <td>NaN</td>\n",
       "      <td>Sports</td>\n",
       "      <td>0.59</td>\n",
       "      <td>2.36</td>\n",
       "      <td>0.04</td>\n",
       "      <td>0.51</td>\n",
       "      <td>84.0</td>\n",
       "      <td>6.4</td>\n",
       "      <td>E</td>\n",
       "    </tr>\n",
       "    <tr>\n",
       "      <th>456</th>\n",
       "      <td>LEGO Batman: The Videogame</td>\n",
       "      <td>Wii</td>\n",
       "      <td>NaN</td>\n",
       "      <td>Action</td>\n",
       "      <td>1.80</td>\n",
       "      <td>0.97</td>\n",
       "      <td>0.00</td>\n",
       "      <td>0.29</td>\n",
       "      <td>74.0</td>\n",
       "      <td>7.9</td>\n",
       "      <td>E10+</td>\n",
       "    </tr>\n",
       "    <tr>\n",
       "      <th>475</th>\n",
       "      <td>wwe Smackdown vs. Raw 2006</td>\n",
       "      <td>PS2</td>\n",
       "      <td>NaN</td>\n",
       "      <td>Fighting</td>\n",
       "      <td>1.57</td>\n",
       "      <td>1.02</td>\n",
       "      <td>0.00</td>\n",
       "      <td>0.41</td>\n",
       "      <td>NaN</td>\n",
       "      <td>NaN</td>\n",
       "      <td>NaN</td>\n",
       "    </tr>\n",
       "    <tr>\n",
       "      <th>609</th>\n",
       "      <td>Space Invaders</td>\n",
       "      <td>2600</td>\n",
       "      <td>NaN</td>\n",
       "      <td>Shooter</td>\n",
       "      <td>2.36</td>\n",
       "      <td>0.14</td>\n",
       "      <td>0.00</td>\n",
       "      <td>0.03</td>\n",
       "      <td>NaN</td>\n",
       "      <td>NaN</td>\n",
       "      <td>NaN</td>\n",
       "    </tr>\n",
       "    <tr>\n",
       "      <th>...</th>\n",
       "      <td>...</td>\n",
       "      <td>...</td>\n",
       "      <td>...</td>\n",
       "      <td>...</td>\n",
       "      <td>...</td>\n",
       "      <td>...</td>\n",
       "      <td>...</td>\n",
       "      <td>...</td>\n",
       "      <td>...</td>\n",
       "      <td>...</td>\n",
       "      <td>...</td>\n",
       "    </tr>\n",
       "    <tr>\n",
       "      <th>16373</th>\n",
       "      <td>PDC World Championship Darts 2008</td>\n",
       "      <td>PSP</td>\n",
       "      <td>NaN</td>\n",
       "      <td>Sports</td>\n",
       "      <td>0.01</td>\n",
       "      <td>0.00</td>\n",
       "      <td>0.00</td>\n",
       "      <td>0.00</td>\n",
       "      <td>43.0</td>\n",
       "      <td>tbd</td>\n",
       "      <td>E10+</td>\n",
       "    </tr>\n",
       "    <tr>\n",
       "      <th>16405</th>\n",
       "      <td>Freaky Flyers</td>\n",
       "      <td>GC</td>\n",
       "      <td>NaN</td>\n",
       "      <td>Racing</td>\n",
       "      <td>0.01</td>\n",
       "      <td>0.00</td>\n",
       "      <td>0.00</td>\n",
       "      <td>0.00</td>\n",
       "      <td>69.0</td>\n",
       "      <td>6.5</td>\n",
       "      <td>T</td>\n",
       "    </tr>\n",
       "    <tr>\n",
       "      <th>16448</th>\n",
       "      <td>Inversion</td>\n",
       "      <td>PC</td>\n",
       "      <td>NaN</td>\n",
       "      <td>Shooter</td>\n",
       "      <td>0.01</td>\n",
       "      <td>0.00</td>\n",
       "      <td>0.00</td>\n",
       "      <td>0.00</td>\n",
       "      <td>59.0</td>\n",
       "      <td>6.7</td>\n",
       "      <td>M</td>\n",
       "    </tr>\n",
       "    <tr>\n",
       "      <th>16458</th>\n",
       "      <td>Hakuouki: Shinsengumi Kitan</td>\n",
       "      <td>PS3</td>\n",
       "      <td>NaN</td>\n",
       "      <td>Adventure</td>\n",
       "      <td>0.01</td>\n",
       "      <td>0.00</td>\n",
       "      <td>0.00</td>\n",
       "      <td>0.00</td>\n",
       "      <td>NaN</td>\n",
       "      <td>NaN</td>\n",
       "      <td>NaN</td>\n",
       "    </tr>\n",
       "    <tr>\n",
       "      <th>16522</th>\n",
       "      <td>Virtua Quest</td>\n",
       "      <td>GC</td>\n",
       "      <td>NaN</td>\n",
       "      <td>Role-Playing</td>\n",
       "      <td>0.01</td>\n",
       "      <td>0.00</td>\n",
       "      <td>0.00</td>\n",
       "      <td>0.00</td>\n",
       "      <td>55.0</td>\n",
       "      <td>5.5</td>\n",
       "      <td>T</td>\n",
       "    </tr>\n",
       "  </tbody>\n",
       "</table>\n",
       "<p>269 rows × 11 columns</p>\n",
       "</div>"
      ],
      "text/plain": [
       "                                    name platform  year_of_release  \\\n",
       "183                      Madden NFL 2004      PS2              NaN   \n",
       "377                     FIFA Soccer 2004      PS2              NaN   \n",
       "456           LEGO Batman: The Videogame      Wii              NaN   \n",
       "475           wwe Smackdown vs. Raw 2006      PS2              NaN   \n",
       "609                       Space Invaders     2600              NaN   \n",
       "...                                  ...      ...              ...   \n",
       "16373  PDC World Championship Darts 2008      PSP              NaN   \n",
       "16405                      Freaky Flyers       GC              NaN   \n",
       "16448                          Inversion       PC              NaN   \n",
       "16458        Hakuouki: Shinsengumi Kitan      PS3              NaN   \n",
       "16522                       Virtua Quest       GC              NaN   \n",
       "\n",
       "              genre  na_sales  eu_sales  jp_sales  other_sales  critic_score  \\\n",
       "183          Sports      4.26      0.26      0.01         0.71          94.0   \n",
       "377          Sports      0.59      2.36      0.04         0.51          84.0   \n",
       "456          Action      1.80      0.97      0.00         0.29          74.0   \n",
       "475        Fighting      1.57      1.02      0.00         0.41           NaN   \n",
       "609         Shooter      2.36      0.14      0.00         0.03           NaN   \n",
       "...             ...       ...       ...       ...          ...           ...   \n",
       "16373        Sports      0.01      0.00      0.00         0.00          43.0   \n",
       "16405        Racing      0.01      0.00      0.00         0.00          69.0   \n",
       "16448       Shooter      0.01      0.00      0.00         0.00          59.0   \n",
       "16458     Adventure      0.01      0.00      0.00         0.00           NaN   \n",
       "16522  Role-Playing      0.01      0.00      0.00         0.00          55.0   \n",
       "\n",
       "      user_score rating  \n",
       "183          8.5      E  \n",
       "377          6.4      E  \n",
       "456          7.9   E10+  \n",
       "475          NaN    NaN  \n",
       "609          NaN    NaN  \n",
       "...          ...    ...  \n",
       "16373        tbd   E10+  \n",
       "16405        6.5      T  \n",
       "16448        6.7      M  \n",
       "16458        NaN    NaN  \n",
       "16522        5.5      T  \n",
       "\n",
       "[269 rows x 11 columns]"
      ]
     },
     "metadata": {},
     "output_type": "display_data"
    }
   ],
   "source": [
    "# Missing values in year_of_release column\n",
    "display(df[df['year_of_release'].isna() == True])"
   ]
  },
  {
   "cell_type": "code",
   "execution_count": 10,
   "metadata": {},
   "outputs": [
    {
     "data": {
      "text/html": [
       "<div>\n",
       "<style scoped>\n",
       "    .dataframe tbody tr th:only-of-type {\n",
       "        vertical-align: middle;\n",
       "    }\n",
       "\n",
       "    .dataframe tbody tr th {\n",
       "        vertical-align: top;\n",
       "    }\n",
       "\n",
       "    .dataframe thead th {\n",
       "        text-align: right;\n",
       "    }\n",
       "</style>\n",
       "<table border=\"1\" class=\"dataframe\">\n",
       "  <thead>\n",
       "    <tr style=\"text-align: right;\">\n",
       "      <th></th>\n",
       "      <th>name</th>\n",
       "      <th>platform</th>\n",
       "      <th>year_of_release</th>\n",
       "      <th>genre</th>\n",
       "      <th>na_sales</th>\n",
       "      <th>eu_sales</th>\n",
       "      <th>jp_sales</th>\n",
       "      <th>other_sales</th>\n",
       "      <th>critic_score</th>\n",
       "      <th>user_score</th>\n",
       "      <th>rating</th>\n",
       "    </tr>\n",
       "  </thead>\n",
       "  <tbody>\n",
       "    <tr>\n",
       "      <th>659</th>\n",
       "      <td>NaN</td>\n",
       "      <td>GEN</td>\n",
       "      <td>1993.0</td>\n",
       "      <td>NaN</td>\n",
       "      <td>1.78</td>\n",
       "      <td>0.53</td>\n",
       "      <td>0.00</td>\n",
       "      <td>0.08</td>\n",
       "      <td>NaN</td>\n",
       "      <td>NaN</td>\n",
       "      <td>NaN</td>\n",
       "    </tr>\n",
       "    <tr>\n",
       "      <th>14244</th>\n",
       "      <td>NaN</td>\n",
       "      <td>GEN</td>\n",
       "      <td>1993.0</td>\n",
       "      <td>NaN</td>\n",
       "      <td>0.00</td>\n",
       "      <td>0.00</td>\n",
       "      <td>0.03</td>\n",
       "      <td>0.00</td>\n",
       "      <td>NaN</td>\n",
       "      <td>NaN</td>\n",
       "      <td>NaN</td>\n",
       "    </tr>\n",
       "  </tbody>\n",
       "</table>\n",
       "</div>"
      ],
      "text/plain": [
       "      name platform  year_of_release genre  na_sales  eu_sales  jp_sales  \\\n",
       "659    NaN      GEN           1993.0   NaN      1.78      0.53      0.00   \n",
       "14244  NaN      GEN           1993.0   NaN      0.00      0.00      0.03   \n",
       "\n",
       "       other_sales  critic_score user_score rating  \n",
       "659           0.08           NaN        NaN    NaN  \n",
       "14244         0.00           NaN        NaN    NaN  "
      ]
     },
     "metadata": {},
     "output_type": "display_data"
    }
   ],
   "source": [
    "# Missing values in genre column\n",
    "display(df[df['genre'].isna() == True])"
   ]
  },
  {
   "cell_type": "code",
   "execution_count": 11,
   "metadata": {},
   "outputs": [
    {
     "data": {
      "text/html": [
       "<div>\n",
       "<style scoped>\n",
       "    .dataframe tbody tr th:only-of-type {\n",
       "        vertical-align: middle;\n",
       "    }\n",
       "\n",
       "    .dataframe tbody tr th {\n",
       "        vertical-align: top;\n",
       "    }\n",
       "\n",
       "    .dataframe thead th {\n",
       "        text-align: right;\n",
       "    }\n",
       "</style>\n",
       "<table border=\"1\" class=\"dataframe\">\n",
       "  <thead>\n",
       "    <tr style=\"text-align: right;\">\n",
       "      <th></th>\n",
       "      <th>name</th>\n",
       "      <th>platform</th>\n",
       "      <th>year_of_release</th>\n",
       "      <th>genre</th>\n",
       "      <th>na_sales</th>\n",
       "      <th>eu_sales</th>\n",
       "      <th>jp_sales</th>\n",
       "      <th>other_sales</th>\n",
       "      <th>critic_score</th>\n",
       "      <th>user_score</th>\n",
       "      <th>rating</th>\n",
       "    </tr>\n",
       "  </thead>\n",
       "  <tbody>\n",
       "    <tr>\n",
       "      <th>1</th>\n",
       "      <td>Super Mario Bros.</td>\n",
       "      <td>NES</td>\n",
       "      <td>1985.0</td>\n",
       "      <td>Platform</td>\n",
       "      <td>29.08</td>\n",
       "      <td>3.58</td>\n",
       "      <td>6.81</td>\n",
       "      <td>0.77</td>\n",
       "      <td>NaN</td>\n",
       "      <td>NaN</td>\n",
       "      <td>NaN</td>\n",
       "    </tr>\n",
       "    <tr>\n",
       "      <th>4</th>\n",
       "      <td>Pokemon Red/Pokemon Blue</td>\n",
       "      <td>GB</td>\n",
       "      <td>1996.0</td>\n",
       "      <td>Role-Playing</td>\n",
       "      <td>11.27</td>\n",
       "      <td>8.89</td>\n",
       "      <td>10.22</td>\n",
       "      <td>1.00</td>\n",
       "      <td>NaN</td>\n",
       "      <td>NaN</td>\n",
       "      <td>NaN</td>\n",
       "    </tr>\n",
       "    <tr>\n",
       "      <th>5</th>\n",
       "      <td>Tetris</td>\n",
       "      <td>GB</td>\n",
       "      <td>1989.0</td>\n",
       "      <td>Puzzle</td>\n",
       "      <td>23.20</td>\n",
       "      <td>2.26</td>\n",
       "      <td>4.22</td>\n",
       "      <td>0.58</td>\n",
       "      <td>NaN</td>\n",
       "      <td>NaN</td>\n",
       "      <td>NaN</td>\n",
       "    </tr>\n",
       "    <tr>\n",
       "      <th>9</th>\n",
       "      <td>Duck Hunt</td>\n",
       "      <td>NES</td>\n",
       "      <td>1984.0</td>\n",
       "      <td>Shooter</td>\n",
       "      <td>26.93</td>\n",
       "      <td>0.63</td>\n",
       "      <td>0.28</td>\n",
       "      <td>0.47</td>\n",
       "      <td>NaN</td>\n",
       "      <td>NaN</td>\n",
       "      <td>NaN</td>\n",
       "    </tr>\n",
       "    <tr>\n",
       "      <th>10</th>\n",
       "      <td>Nintendogs</td>\n",
       "      <td>DS</td>\n",
       "      <td>2005.0</td>\n",
       "      <td>Simulation</td>\n",
       "      <td>9.05</td>\n",
       "      <td>10.95</td>\n",
       "      <td>1.93</td>\n",
       "      <td>2.74</td>\n",
       "      <td>NaN</td>\n",
       "      <td>NaN</td>\n",
       "      <td>NaN</td>\n",
       "    </tr>\n",
       "    <tr>\n",
       "      <th>...</th>\n",
       "      <td>...</td>\n",
       "      <td>...</td>\n",
       "      <td>...</td>\n",
       "      <td>...</td>\n",
       "      <td>...</td>\n",
       "      <td>...</td>\n",
       "      <td>...</td>\n",
       "      <td>...</td>\n",
       "      <td>...</td>\n",
       "      <td>...</td>\n",
       "      <td>...</td>\n",
       "    </tr>\n",
       "    <tr>\n",
       "      <th>16710</th>\n",
       "      <td>Samurai Warriors: Sanada Maru</td>\n",
       "      <td>PS3</td>\n",
       "      <td>2016.0</td>\n",
       "      <td>Action</td>\n",
       "      <td>0.00</td>\n",
       "      <td>0.00</td>\n",
       "      <td>0.01</td>\n",
       "      <td>0.00</td>\n",
       "      <td>NaN</td>\n",
       "      <td>NaN</td>\n",
       "      <td>NaN</td>\n",
       "    </tr>\n",
       "    <tr>\n",
       "      <th>16711</th>\n",
       "      <td>LMA Manager 2007</td>\n",
       "      <td>X360</td>\n",
       "      <td>2006.0</td>\n",
       "      <td>Sports</td>\n",
       "      <td>0.00</td>\n",
       "      <td>0.01</td>\n",
       "      <td>0.00</td>\n",
       "      <td>0.00</td>\n",
       "      <td>NaN</td>\n",
       "      <td>NaN</td>\n",
       "      <td>NaN</td>\n",
       "    </tr>\n",
       "    <tr>\n",
       "      <th>16712</th>\n",
       "      <td>Haitaka no Psychedelica</td>\n",
       "      <td>PSV</td>\n",
       "      <td>2016.0</td>\n",
       "      <td>Adventure</td>\n",
       "      <td>0.00</td>\n",
       "      <td>0.00</td>\n",
       "      <td>0.01</td>\n",
       "      <td>0.00</td>\n",
       "      <td>NaN</td>\n",
       "      <td>NaN</td>\n",
       "      <td>NaN</td>\n",
       "    </tr>\n",
       "    <tr>\n",
       "      <th>16713</th>\n",
       "      <td>Spirits &amp; Spells</td>\n",
       "      <td>GBA</td>\n",
       "      <td>2003.0</td>\n",
       "      <td>Platform</td>\n",
       "      <td>0.01</td>\n",
       "      <td>0.00</td>\n",
       "      <td>0.00</td>\n",
       "      <td>0.00</td>\n",
       "      <td>NaN</td>\n",
       "      <td>NaN</td>\n",
       "      <td>NaN</td>\n",
       "    </tr>\n",
       "    <tr>\n",
       "      <th>16714</th>\n",
       "      <td>Winning Post 8 2016</td>\n",
       "      <td>PSV</td>\n",
       "      <td>2016.0</td>\n",
       "      <td>Simulation</td>\n",
       "      <td>0.00</td>\n",
       "      <td>0.00</td>\n",
       "      <td>0.01</td>\n",
       "      <td>0.00</td>\n",
       "      <td>NaN</td>\n",
       "      <td>NaN</td>\n",
       "      <td>NaN</td>\n",
       "    </tr>\n",
       "  </tbody>\n",
       "</table>\n",
       "<p>8578 rows × 11 columns</p>\n",
       "</div>"
      ],
      "text/plain": [
       "                                name platform  year_of_release         genre  \\\n",
       "1                  Super Mario Bros.      NES           1985.0      Platform   \n",
       "4           Pokemon Red/Pokemon Blue       GB           1996.0  Role-Playing   \n",
       "5                             Tetris       GB           1989.0        Puzzle   \n",
       "9                          Duck Hunt      NES           1984.0       Shooter   \n",
       "10                        Nintendogs       DS           2005.0    Simulation   \n",
       "...                              ...      ...              ...           ...   \n",
       "16710  Samurai Warriors: Sanada Maru      PS3           2016.0        Action   \n",
       "16711               LMA Manager 2007     X360           2006.0        Sports   \n",
       "16712        Haitaka no Psychedelica      PSV           2016.0     Adventure   \n",
       "16713               Spirits & Spells      GBA           2003.0      Platform   \n",
       "16714            Winning Post 8 2016      PSV           2016.0    Simulation   \n",
       "\n",
       "       na_sales  eu_sales  jp_sales  other_sales  critic_score user_score  \\\n",
       "1         29.08      3.58      6.81         0.77           NaN        NaN   \n",
       "4         11.27      8.89     10.22         1.00           NaN        NaN   \n",
       "5         23.20      2.26      4.22         0.58           NaN        NaN   \n",
       "9         26.93      0.63      0.28         0.47           NaN        NaN   \n",
       "10         9.05     10.95      1.93         2.74           NaN        NaN   \n",
       "...         ...       ...       ...          ...           ...        ...   \n",
       "16710      0.00      0.00      0.01         0.00           NaN        NaN   \n",
       "16711      0.00      0.01      0.00         0.00           NaN        NaN   \n",
       "16712      0.00      0.00      0.01         0.00           NaN        NaN   \n",
       "16713      0.01      0.00      0.00         0.00           NaN        NaN   \n",
       "16714      0.00      0.00      0.01         0.00           NaN        NaN   \n",
       "\n",
       "      rating  \n",
       "1        NaN  \n",
       "4        NaN  \n",
       "5        NaN  \n",
       "9        NaN  \n",
       "10       NaN  \n",
       "...      ...  \n",
       "16710    NaN  \n",
       "16711    NaN  \n",
       "16712    NaN  \n",
       "16713    NaN  \n",
       "16714    NaN  \n",
       "\n",
       "[8578 rows x 11 columns]"
      ]
     },
     "metadata": {},
     "output_type": "display_data"
    }
   ],
   "source": [
    "# Missing values in critic_score column\n",
    "display(df[df['critic_score'].isna() == True])"
   ]
  },
  {
   "cell_type": "code",
   "execution_count": 12,
   "metadata": {},
   "outputs": [
    {
     "data": {
      "text/html": [
       "<div>\n",
       "<style scoped>\n",
       "    .dataframe tbody tr th:only-of-type {\n",
       "        vertical-align: middle;\n",
       "    }\n",
       "\n",
       "    .dataframe tbody tr th {\n",
       "        vertical-align: top;\n",
       "    }\n",
       "\n",
       "    .dataframe thead th {\n",
       "        text-align: right;\n",
       "    }\n",
       "</style>\n",
       "<table border=\"1\" class=\"dataframe\">\n",
       "  <thead>\n",
       "    <tr style=\"text-align: right;\">\n",
       "      <th></th>\n",
       "      <th>name</th>\n",
       "      <th>platform</th>\n",
       "      <th>year_of_release</th>\n",
       "      <th>genre</th>\n",
       "      <th>na_sales</th>\n",
       "      <th>eu_sales</th>\n",
       "      <th>jp_sales</th>\n",
       "      <th>other_sales</th>\n",
       "      <th>critic_score</th>\n",
       "      <th>user_score</th>\n",
       "      <th>rating</th>\n",
       "    </tr>\n",
       "  </thead>\n",
       "  <tbody>\n",
       "    <tr>\n",
       "      <th>1</th>\n",
       "      <td>Super Mario Bros.</td>\n",
       "      <td>NES</td>\n",
       "      <td>1985.0</td>\n",
       "      <td>Platform</td>\n",
       "      <td>29.08</td>\n",
       "      <td>3.58</td>\n",
       "      <td>6.81</td>\n",
       "      <td>0.77</td>\n",
       "      <td>NaN</td>\n",
       "      <td>NaN</td>\n",
       "      <td>NaN</td>\n",
       "    </tr>\n",
       "    <tr>\n",
       "      <th>4</th>\n",
       "      <td>Pokemon Red/Pokemon Blue</td>\n",
       "      <td>GB</td>\n",
       "      <td>1996.0</td>\n",
       "      <td>Role-Playing</td>\n",
       "      <td>11.27</td>\n",
       "      <td>8.89</td>\n",
       "      <td>10.22</td>\n",
       "      <td>1.00</td>\n",
       "      <td>NaN</td>\n",
       "      <td>NaN</td>\n",
       "      <td>NaN</td>\n",
       "    </tr>\n",
       "    <tr>\n",
       "      <th>5</th>\n",
       "      <td>Tetris</td>\n",
       "      <td>GB</td>\n",
       "      <td>1989.0</td>\n",
       "      <td>Puzzle</td>\n",
       "      <td>23.20</td>\n",
       "      <td>2.26</td>\n",
       "      <td>4.22</td>\n",
       "      <td>0.58</td>\n",
       "      <td>NaN</td>\n",
       "      <td>NaN</td>\n",
       "      <td>NaN</td>\n",
       "    </tr>\n",
       "    <tr>\n",
       "      <th>9</th>\n",
       "      <td>Duck Hunt</td>\n",
       "      <td>NES</td>\n",
       "      <td>1984.0</td>\n",
       "      <td>Shooter</td>\n",
       "      <td>26.93</td>\n",
       "      <td>0.63</td>\n",
       "      <td>0.28</td>\n",
       "      <td>0.47</td>\n",
       "      <td>NaN</td>\n",
       "      <td>NaN</td>\n",
       "      <td>NaN</td>\n",
       "    </tr>\n",
       "    <tr>\n",
       "      <th>10</th>\n",
       "      <td>Nintendogs</td>\n",
       "      <td>DS</td>\n",
       "      <td>2005.0</td>\n",
       "      <td>Simulation</td>\n",
       "      <td>9.05</td>\n",
       "      <td>10.95</td>\n",
       "      <td>1.93</td>\n",
       "      <td>2.74</td>\n",
       "      <td>NaN</td>\n",
       "      <td>NaN</td>\n",
       "      <td>NaN</td>\n",
       "    </tr>\n",
       "    <tr>\n",
       "      <th>...</th>\n",
       "      <td>...</td>\n",
       "      <td>...</td>\n",
       "      <td>...</td>\n",
       "      <td>...</td>\n",
       "      <td>...</td>\n",
       "      <td>...</td>\n",
       "      <td>...</td>\n",
       "      <td>...</td>\n",
       "      <td>...</td>\n",
       "      <td>...</td>\n",
       "      <td>...</td>\n",
       "    </tr>\n",
       "    <tr>\n",
       "      <th>16710</th>\n",
       "      <td>Samurai Warriors: Sanada Maru</td>\n",
       "      <td>PS3</td>\n",
       "      <td>2016.0</td>\n",
       "      <td>Action</td>\n",
       "      <td>0.00</td>\n",
       "      <td>0.00</td>\n",
       "      <td>0.01</td>\n",
       "      <td>0.00</td>\n",
       "      <td>NaN</td>\n",
       "      <td>NaN</td>\n",
       "      <td>NaN</td>\n",
       "    </tr>\n",
       "    <tr>\n",
       "      <th>16711</th>\n",
       "      <td>LMA Manager 2007</td>\n",
       "      <td>X360</td>\n",
       "      <td>2006.0</td>\n",
       "      <td>Sports</td>\n",
       "      <td>0.00</td>\n",
       "      <td>0.01</td>\n",
       "      <td>0.00</td>\n",
       "      <td>0.00</td>\n",
       "      <td>NaN</td>\n",
       "      <td>NaN</td>\n",
       "      <td>NaN</td>\n",
       "    </tr>\n",
       "    <tr>\n",
       "      <th>16712</th>\n",
       "      <td>Haitaka no Psychedelica</td>\n",
       "      <td>PSV</td>\n",
       "      <td>2016.0</td>\n",
       "      <td>Adventure</td>\n",
       "      <td>0.00</td>\n",
       "      <td>0.00</td>\n",
       "      <td>0.01</td>\n",
       "      <td>0.00</td>\n",
       "      <td>NaN</td>\n",
       "      <td>NaN</td>\n",
       "      <td>NaN</td>\n",
       "    </tr>\n",
       "    <tr>\n",
       "      <th>16713</th>\n",
       "      <td>Spirits &amp; Spells</td>\n",
       "      <td>GBA</td>\n",
       "      <td>2003.0</td>\n",
       "      <td>Platform</td>\n",
       "      <td>0.01</td>\n",
       "      <td>0.00</td>\n",
       "      <td>0.00</td>\n",
       "      <td>0.00</td>\n",
       "      <td>NaN</td>\n",
       "      <td>NaN</td>\n",
       "      <td>NaN</td>\n",
       "    </tr>\n",
       "    <tr>\n",
       "      <th>16714</th>\n",
       "      <td>Winning Post 8 2016</td>\n",
       "      <td>PSV</td>\n",
       "      <td>2016.0</td>\n",
       "      <td>Simulation</td>\n",
       "      <td>0.00</td>\n",
       "      <td>0.00</td>\n",
       "      <td>0.01</td>\n",
       "      <td>0.00</td>\n",
       "      <td>NaN</td>\n",
       "      <td>NaN</td>\n",
       "      <td>NaN</td>\n",
       "    </tr>\n",
       "  </tbody>\n",
       "</table>\n",
       "<p>6701 rows × 11 columns</p>\n",
       "</div>"
      ],
      "text/plain": [
       "                                name platform  year_of_release         genre  \\\n",
       "1                  Super Mario Bros.      NES           1985.0      Platform   \n",
       "4           Pokemon Red/Pokemon Blue       GB           1996.0  Role-Playing   \n",
       "5                             Tetris       GB           1989.0        Puzzle   \n",
       "9                          Duck Hunt      NES           1984.0       Shooter   \n",
       "10                        Nintendogs       DS           2005.0    Simulation   \n",
       "...                              ...      ...              ...           ...   \n",
       "16710  Samurai Warriors: Sanada Maru      PS3           2016.0        Action   \n",
       "16711               LMA Manager 2007     X360           2006.0        Sports   \n",
       "16712        Haitaka no Psychedelica      PSV           2016.0     Adventure   \n",
       "16713               Spirits & Spells      GBA           2003.0      Platform   \n",
       "16714            Winning Post 8 2016      PSV           2016.0    Simulation   \n",
       "\n",
       "       na_sales  eu_sales  jp_sales  other_sales  critic_score user_score  \\\n",
       "1         29.08      3.58      6.81         0.77           NaN        NaN   \n",
       "4         11.27      8.89     10.22         1.00           NaN        NaN   \n",
       "5         23.20      2.26      4.22         0.58           NaN        NaN   \n",
       "9         26.93      0.63      0.28         0.47           NaN        NaN   \n",
       "10         9.05     10.95      1.93         2.74           NaN        NaN   \n",
       "...         ...       ...       ...          ...           ...        ...   \n",
       "16710      0.00      0.00      0.01         0.00           NaN        NaN   \n",
       "16711      0.00      0.01      0.00         0.00           NaN        NaN   \n",
       "16712      0.00      0.00      0.01         0.00           NaN        NaN   \n",
       "16713      0.01      0.00      0.00         0.00           NaN        NaN   \n",
       "16714      0.00      0.00      0.01         0.00           NaN        NaN   \n",
       "\n",
       "      rating  \n",
       "1        NaN  \n",
       "4        NaN  \n",
       "5        NaN  \n",
       "9        NaN  \n",
       "10       NaN  \n",
       "...      ...  \n",
       "16710    NaN  \n",
       "16711    NaN  \n",
       "16712    NaN  \n",
       "16713    NaN  \n",
       "16714    NaN  \n",
       "\n",
       "[6701 rows x 11 columns]"
      ]
     },
     "metadata": {},
     "output_type": "display_data"
    }
   ],
   "source": [
    "# Missing values in user_score\n",
    "display(df[df['user_score'].isna() == True])"
   ]
  },
  {
   "cell_type": "code",
   "execution_count": 13,
   "metadata": {
    "scrolled": false
   },
   "outputs": [
    {
     "data": {
      "text/html": [
       "<div>\n",
       "<style scoped>\n",
       "    .dataframe tbody tr th:only-of-type {\n",
       "        vertical-align: middle;\n",
       "    }\n",
       "\n",
       "    .dataframe tbody tr th {\n",
       "        vertical-align: top;\n",
       "    }\n",
       "\n",
       "    .dataframe thead th {\n",
       "        text-align: right;\n",
       "    }\n",
       "</style>\n",
       "<table border=\"1\" class=\"dataframe\">\n",
       "  <thead>\n",
       "    <tr style=\"text-align: right;\">\n",
       "      <th></th>\n",
       "      <th>name</th>\n",
       "      <th>platform</th>\n",
       "      <th>year_of_release</th>\n",
       "      <th>genre</th>\n",
       "      <th>na_sales</th>\n",
       "      <th>eu_sales</th>\n",
       "      <th>jp_sales</th>\n",
       "      <th>other_sales</th>\n",
       "      <th>critic_score</th>\n",
       "      <th>user_score</th>\n",
       "      <th>rating</th>\n",
       "    </tr>\n",
       "  </thead>\n",
       "  <tbody>\n",
       "    <tr>\n",
       "      <th>1</th>\n",
       "      <td>Super Mario Bros.</td>\n",
       "      <td>NES</td>\n",
       "      <td>1985.0</td>\n",
       "      <td>Platform</td>\n",
       "      <td>29.08</td>\n",
       "      <td>3.58</td>\n",
       "      <td>6.81</td>\n",
       "      <td>0.77</td>\n",
       "      <td>NaN</td>\n",
       "      <td>NaN</td>\n",
       "      <td>NaN</td>\n",
       "    </tr>\n",
       "    <tr>\n",
       "      <th>4</th>\n",
       "      <td>Pokemon Red/Pokemon Blue</td>\n",
       "      <td>GB</td>\n",
       "      <td>1996.0</td>\n",
       "      <td>Role-Playing</td>\n",
       "      <td>11.27</td>\n",
       "      <td>8.89</td>\n",
       "      <td>10.22</td>\n",
       "      <td>1.00</td>\n",
       "      <td>NaN</td>\n",
       "      <td>NaN</td>\n",
       "      <td>NaN</td>\n",
       "    </tr>\n",
       "    <tr>\n",
       "      <th>5</th>\n",
       "      <td>Tetris</td>\n",
       "      <td>GB</td>\n",
       "      <td>1989.0</td>\n",
       "      <td>Puzzle</td>\n",
       "      <td>23.20</td>\n",
       "      <td>2.26</td>\n",
       "      <td>4.22</td>\n",
       "      <td>0.58</td>\n",
       "      <td>NaN</td>\n",
       "      <td>NaN</td>\n",
       "      <td>NaN</td>\n",
       "    </tr>\n",
       "    <tr>\n",
       "      <th>9</th>\n",
       "      <td>Duck Hunt</td>\n",
       "      <td>NES</td>\n",
       "      <td>1984.0</td>\n",
       "      <td>Shooter</td>\n",
       "      <td>26.93</td>\n",
       "      <td>0.63</td>\n",
       "      <td>0.28</td>\n",
       "      <td>0.47</td>\n",
       "      <td>NaN</td>\n",
       "      <td>NaN</td>\n",
       "      <td>NaN</td>\n",
       "    </tr>\n",
       "    <tr>\n",
       "      <th>10</th>\n",
       "      <td>Nintendogs</td>\n",
       "      <td>DS</td>\n",
       "      <td>2005.0</td>\n",
       "      <td>Simulation</td>\n",
       "      <td>9.05</td>\n",
       "      <td>10.95</td>\n",
       "      <td>1.93</td>\n",
       "      <td>2.74</td>\n",
       "      <td>NaN</td>\n",
       "      <td>NaN</td>\n",
       "      <td>NaN</td>\n",
       "    </tr>\n",
       "    <tr>\n",
       "      <th>...</th>\n",
       "      <td>...</td>\n",
       "      <td>...</td>\n",
       "      <td>...</td>\n",
       "      <td>...</td>\n",
       "      <td>...</td>\n",
       "      <td>...</td>\n",
       "      <td>...</td>\n",
       "      <td>...</td>\n",
       "      <td>...</td>\n",
       "      <td>...</td>\n",
       "      <td>...</td>\n",
       "    </tr>\n",
       "    <tr>\n",
       "      <th>16710</th>\n",
       "      <td>Samurai Warriors: Sanada Maru</td>\n",
       "      <td>PS3</td>\n",
       "      <td>2016.0</td>\n",
       "      <td>Action</td>\n",
       "      <td>0.00</td>\n",
       "      <td>0.00</td>\n",
       "      <td>0.01</td>\n",
       "      <td>0.00</td>\n",
       "      <td>NaN</td>\n",
       "      <td>NaN</td>\n",
       "      <td>NaN</td>\n",
       "    </tr>\n",
       "    <tr>\n",
       "      <th>16711</th>\n",
       "      <td>LMA Manager 2007</td>\n",
       "      <td>X360</td>\n",
       "      <td>2006.0</td>\n",
       "      <td>Sports</td>\n",
       "      <td>0.00</td>\n",
       "      <td>0.01</td>\n",
       "      <td>0.00</td>\n",
       "      <td>0.00</td>\n",
       "      <td>NaN</td>\n",
       "      <td>NaN</td>\n",
       "      <td>NaN</td>\n",
       "    </tr>\n",
       "    <tr>\n",
       "      <th>16712</th>\n",
       "      <td>Haitaka no Psychedelica</td>\n",
       "      <td>PSV</td>\n",
       "      <td>2016.0</td>\n",
       "      <td>Adventure</td>\n",
       "      <td>0.00</td>\n",
       "      <td>0.00</td>\n",
       "      <td>0.01</td>\n",
       "      <td>0.00</td>\n",
       "      <td>NaN</td>\n",
       "      <td>NaN</td>\n",
       "      <td>NaN</td>\n",
       "    </tr>\n",
       "    <tr>\n",
       "      <th>16713</th>\n",
       "      <td>Spirits &amp; Spells</td>\n",
       "      <td>GBA</td>\n",
       "      <td>2003.0</td>\n",
       "      <td>Platform</td>\n",
       "      <td>0.01</td>\n",
       "      <td>0.00</td>\n",
       "      <td>0.00</td>\n",
       "      <td>0.00</td>\n",
       "      <td>NaN</td>\n",
       "      <td>NaN</td>\n",
       "      <td>NaN</td>\n",
       "    </tr>\n",
       "    <tr>\n",
       "      <th>16714</th>\n",
       "      <td>Winning Post 8 2016</td>\n",
       "      <td>PSV</td>\n",
       "      <td>2016.0</td>\n",
       "      <td>Simulation</td>\n",
       "      <td>0.00</td>\n",
       "      <td>0.00</td>\n",
       "      <td>0.01</td>\n",
       "      <td>0.00</td>\n",
       "      <td>NaN</td>\n",
       "      <td>NaN</td>\n",
       "      <td>NaN</td>\n",
       "    </tr>\n",
       "  </tbody>\n",
       "</table>\n",
       "<p>6766 rows × 11 columns</p>\n",
       "</div>"
      ],
      "text/plain": [
       "                                name platform  year_of_release         genre  \\\n",
       "1                  Super Mario Bros.      NES           1985.0      Platform   \n",
       "4           Pokemon Red/Pokemon Blue       GB           1996.0  Role-Playing   \n",
       "5                             Tetris       GB           1989.0        Puzzle   \n",
       "9                          Duck Hunt      NES           1984.0       Shooter   \n",
       "10                        Nintendogs       DS           2005.0    Simulation   \n",
       "...                              ...      ...              ...           ...   \n",
       "16710  Samurai Warriors: Sanada Maru      PS3           2016.0        Action   \n",
       "16711               LMA Manager 2007     X360           2006.0        Sports   \n",
       "16712        Haitaka no Psychedelica      PSV           2016.0     Adventure   \n",
       "16713               Spirits & Spells      GBA           2003.0      Platform   \n",
       "16714            Winning Post 8 2016      PSV           2016.0    Simulation   \n",
       "\n",
       "       na_sales  eu_sales  jp_sales  other_sales  critic_score user_score  \\\n",
       "1         29.08      3.58      6.81         0.77           NaN        NaN   \n",
       "4         11.27      8.89     10.22         1.00           NaN        NaN   \n",
       "5         23.20      2.26      4.22         0.58           NaN        NaN   \n",
       "9         26.93      0.63      0.28         0.47           NaN        NaN   \n",
       "10         9.05     10.95      1.93         2.74           NaN        NaN   \n",
       "...         ...       ...       ...          ...           ...        ...   \n",
       "16710      0.00      0.00      0.01         0.00           NaN        NaN   \n",
       "16711      0.00      0.01      0.00         0.00           NaN        NaN   \n",
       "16712      0.00      0.00      0.01         0.00           NaN        NaN   \n",
       "16713      0.01      0.00      0.00         0.00           NaN        NaN   \n",
       "16714      0.00      0.00      0.01         0.00           NaN        NaN   \n",
       "\n",
       "      rating  \n",
       "1        NaN  \n",
       "4        NaN  \n",
       "5        NaN  \n",
       "9        NaN  \n",
       "10       NaN  \n",
       "...      ...  \n",
       "16710    NaN  \n",
       "16711    NaN  \n",
       "16712    NaN  \n",
       "16713    NaN  \n",
       "16714    NaN  \n",
       "\n",
       "[6766 rows x 11 columns]"
      ]
     },
     "metadata": {},
     "output_type": "display_data"
    }
   ],
   "source": [
    "# Missing values in rating column\n",
    "display(df[df['rating'].isna() == True])"
   ]
  },
  {
   "cell_type": "code",
   "execution_count": 14,
   "metadata": {},
   "outputs": [
    {
     "name": "stdout",
     "output_type": "stream",
     "text": [
      "                                           name platform  year_of_release  \\\n",
      "119                               Zumba Fitness      Wii           2010.0   \n",
      "301              Namco Museum: 50th Anniversary      PS2           2005.0   \n",
      "520                             Zumba Fitness 2      Wii           2011.0   \n",
      "645                                uDraw Studio      Wii           2010.0   \n",
      "657    Frogger's Adventures: Temple of the Frog      GBA              NaN   \n",
      "...                                         ...      ...              ...   \n",
      "16695                           Planet Monsters      GBA           2001.0   \n",
      "16697                          Bust-A-Move 3000       GC           2003.0   \n",
      "16698                          Mega Brain Boost       DS           2008.0   \n",
      "16704                                  Plushees       DS           2008.0   \n",
      "16706             Men in Black II: Alien Escape       GC           2003.0   \n",
      "\n",
      "            genre  na_sales  eu_sales  jp_sales  other_sales  critic_score  \\\n",
      "119        Sports      3.45      2.59       0.0         0.66           NaN   \n",
      "301          Misc      2.08      1.35       0.0         0.54          61.0   \n",
      "520        Sports      1.51      1.03       0.0         0.27           NaN   \n",
      "645          Misc      1.65      0.57       0.0         0.20          71.0   \n",
      "657     Adventure      2.15      0.18       0.0         0.07          73.0   \n",
      "...           ...       ...       ...       ...          ...           ...   \n",
      "16695      Action      0.01      0.00       0.0         0.00          67.0   \n",
      "16697      Puzzle      0.01      0.00       0.0         0.00          53.0   \n",
      "16698      Puzzle      0.01      0.00       0.0         0.00          48.0   \n",
      "16704  Simulation      0.01      0.00       0.0         0.00           NaN   \n",
      "16706     Shooter      0.01      0.00       0.0         0.00           NaN   \n",
      "\n",
      "      user_score rating  \n",
      "119          tbd      E  \n",
      "301          tbd   E10+  \n",
      "520          tbd      T  \n",
      "645          tbd      E  \n",
      "657          tbd      E  \n",
      "...          ...    ...  \n",
      "16695        tbd      E  \n",
      "16697        tbd      E  \n",
      "16698        tbd      E  \n",
      "16704        tbd      E  \n",
      "16706        tbd      T  \n",
      "\n",
      "[2424 rows x 11 columns]\n",
      "Percentage of values: 14.5%\n"
     ]
    }
   ],
   "source": [
    "# Visualize tbd scores\n",
    "print(df[df['user_score'] == 'tbd'])\n",
    "tbd_percent = len(df[df['user_score'] == 'tbd'])/len(df) \n",
    "print(f'Percentage of values: {tbd_percent:.1%}')"
   ]
  },
  {
   "cell_type": "markdown",
   "metadata": {},
   "source": [
    "<div class=\"alert alert-block alert-success\">\n",
    "<b>Reviewer's comment</b> <a class=\"tocSkip\"></a>\n",
    "\n",
    "Correct part)"
   ]
  },
  {
   "cell_type": "markdown",
   "metadata": {},
   "source": [
    "### Filling in missing values"
   ]
  },
  {
   "cell_type": "code",
   "execution_count": 15,
   "metadata": {},
   "outputs": [
    {
     "name": "stdout",
     "output_type": "stream",
     "text": [
      "Empty DataFrame\n",
      "Columns: [name, platform, year_of_release, genre, na_sales, eu_sales, jp_sales, other_sales, critic_score, user_score, rating]\n",
      "Index: []\n"
     ]
    }
   ],
   "source": [
    "# Name and genre column\n",
    "df = df.dropna(subset=['name','genre'])\n",
    "print(df[df['name'].isna() == True])"
   ]
  },
  {
   "cell_type": "markdown",
   "metadata": {},
   "source": [
    "Just two rows have missing data for both genre and name columns. These rows don't provide much in terms of value or information and so can be dropped."
   ]
  },
  {
   "cell_type": "markdown",
   "metadata": {},
   "source": [
    "<div class=\"alert alert-block alert-success\">\n",
    "<b>Reviewer's comment</b> <a class=\"tocSkip\"></a>\n",
    "\n",
    "Good ideas)"
   ]
  },
  {
   "cell_type": "code",
   "execution_count": 16,
   "metadata": {
    "scrolled": false
   },
   "outputs": [
    {
     "data": {
      "text/html": [
       "<div>\n",
       "<style scoped>\n",
       "    .dataframe tbody tr th:only-of-type {\n",
       "        vertical-align: middle;\n",
       "    }\n",
       "\n",
       "    .dataframe tbody tr th {\n",
       "        vertical-align: top;\n",
       "    }\n",
       "\n",
       "    .dataframe thead th {\n",
       "        text-align: right;\n",
       "    }\n",
       "</style>\n",
       "<table border=\"1\" class=\"dataframe\">\n",
       "  <thead>\n",
       "    <tr style=\"text-align: right;\">\n",
       "      <th></th>\n",
       "      <th>genre</th>\n",
       "      <th>rating</th>\n",
       "    </tr>\n",
       "  </thead>\n",
       "  <tbody>\n",
       "    <tr>\n",
       "      <th>0</th>\n",
       "      <td>Action</td>\n",
       "      <td>T</td>\n",
       "    </tr>\n",
       "    <tr>\n",
       "      <th>1</th>\n",
       "      <td>Adventure</td>\n",
       "      <td>E</td>\n",
       "    </tr>\n",
       "    <tr>\n",
       "      <th>2</th>\n",
       "      <td>Fighting</td>\n",
       "      <td>T</td>\n",
       "    </tr>\n",
       "    <tr>\n",
       "      <th>3</th>\n",
       "      <td>Misc</td>\n",
       "      <td>E</td>\n",
       "    </tr>\n",
       "    <tr>\n",
       "      <th>4</th>\n",
       "      <td>Platform</td>\n",
       "      <td>E</td>\n",
       "    </tr>\n",
       "    <tr>\n",
       "      <th>5</th>\n",
       "      <td>Puzzle</td>\n",
       "      <td>E</td>\n",
       "    </tr>\n",
       "    <tr>\n",
       "      <th>6</th>\n",
       "      <td>Racing</td>\n",
       "      <td>E</td>\n",
       "    </tr>\n",
       "    <tr>\n",
       "      <th>7</th>\n",
       "      <td>Role-Playing</td>\n",
       "      <td>T</td>\n",
       "    </tr>\n",
       "    <tr>\n",
       "      <th>8</th>\n",
       "      <td>Shooter</td>\n",
       "      <td>M</td>\n",
       "    </tr>\n",
       "    <tr>\n",
       "      <th>9</th>\n",
       "      <td>Simulation</td>\n",
       "      <td>E</td>\n",
       "    </tr>\n",
       "    <tr>\n",
       "      <th>10</th>\n",
       "      <td>Sports</td>\n",
       "      <td>E</td>\n",
       "    </tr>\n",
       "    <tr>\n",
       "      <th>11</th>\n",
       "      <td>Strategy</td>\n",
       "      <td>T</td>\n",
       "    </tr>\n",
       "  </tbody>\n",
       "</table>\n",
       "</div>"
      ],
      "text/plain": [
       "           genre rating\n",
       "0         Action      T\n",
       "1      Adventure      E\n",
       "2       Fighting      T\n",
       "3           Misc      E\n",
       "4       Platform      E\n",
       "5         Puzzle      E\n",
       "6         Racing      E\n",
       "7   Role-Playing      T\n",
       "8        Shooter      M\n",
       "9     Simulation      E\n",
       "10        Sports      E\n",
       "11      Strategy      T"
      ]
     },
     "metadata": {},
     "output_type": "display_data"
    },
    {
     "name": "stdout",
     "output_type": "stream",
     "text": [
      "False    16713\n",
      "Name: rating, dtype: int64\n"
     ]
    }
   ],
   "source": [
    "# Rating column\n",
    "rat_tab = df.pivot_table(index='genre', values= \"rating\", aggfunc=pd.Series.mode).reset_index()\n",
    "display(rat_tab)\n",
    "def fill_rat(value):\n",
    "    if (pd.isna(value['rating']) == True) and ((value['genre'] == 'Action') or (value['genre'] == 'Fighting') or (value['genre'] == 'Role-Playing') or (value['genre'] == 'Strategy')):\n",
    "        return 'T'\n",
    "    if (pd.isna(value['rating']) == True) and (value['genre'] == 'Shooter'):\n",
    "        return 'M'\n",
    "    if (pd.isna(value['rating']) == True) and (value['genre'] == 'Sports') or (value['genre'] == 'Simulation') or (value['genre'] == 'Adventure') or (value['genre'] == 'Misc') or (value['genre'] == 'Platform') or (value['genre'] == 'Puzzle') or (value['genre'] == 'Racing'):\n",
    "        return 'E'\n",
    "    else:\n",
    "        return value['rating']\n",
    "    \n",
    "# Apply function\n",
    "df['rating'] = df.apply(fill_rat, axis=1)\n",
    "print(df['rating'].isna().value_counts())"
   ]
  },
  {
   "cell_type": "markdown",
   "metadata": {},
   "source": [
    "<div class=\"alert alert-block alert-warning\">\n",
    "<b>Reviewer's comment</b> <a class=\"tocSkip\"></a>\n",
    "\n",
    "You've done a huge work filling nan values in rating col, but, as usual, it's impossible to replace such a big amount of missing values correctly.\n",
    "    \n",
    "So, the optimal way is to save nan values or to replace them by some word like 'unknown')"
   ]
  },
  {
   "cell_type": "code",
   "execution_count": 17,
   "metadata": {},
   "outputs": [],
   "source": [
    "# Fill in year_of_release column\n",
    "df['year_of_release'] = df['year_of_release'].fillna(0)"
   ]
  },
  {
   "cell_type": "code",
   "execution_count": 18,
   "metadata": {},
   "outputs": [
    {
     "name": "stdout",
     "output_type": "stream",
     "text": [
      "['8' '101' '8.3' '8.5' '6.6' '8.4' '8.6' '7.7' '6.3' '7.4' '8.2' '9' '7.9'\n",
      " '8.1' '8.7' '7.1' '3.4' '5.3' '4.8' '3.2' '8.9' '6.4' '7.8' '7.5' '2.6'\n",
      " '7.2' '9.2' '7' '7.3' '4.3' '7.6' '5.7' '5' '9.1' '6.5' '8.8' '6.9' '9.4'\n",
      " '6.8' '6.1' '6.7' '5.4' '4' '4.9' '4.5' '9.3' '6.2' '4.2' '6' '3.7' '4.1'\n",
      " '5.8' '5.6' '5.5' '4.4' '4.6' '5.9' '3.9' '3.1' '2.9' '5.2' '3.3' '4.7'\n",
      " '5.1' '3.5' '2.5' '1.9' '3' '2.7' '2.2' '2' '9.5' '2.1' '3.6' '2.8' '1.8'\n",
      " '3.8' '0' '1.6' '9.6' '2.4' '1.7' '1.1' '0.3' '1.5' '0.7' '1.2' '2.3'\n",
      " '0.5' '1.3' '0.2' '0.6' '1.4' '0.9' '1' '9.7']\n"
     ]
    }
   ],
   "source": [
    "# Fill in user_score column\n",
    "for value in df['user_score']:\n",
    "    if value == 'tbd':\n",
    "        df['user_score'] = df['user_score'].replace(value, '101')\n",
    "df['user_score'] = df['user_score'].fillna('101')\n",
    "print(df['user_score'].unique())"
   ]
  },
  {
   "cell_type": "markdown",
   "metadata": {},
   "source": [
    "We've now filled the rating column with the most popular ratings for the genres of the missing rows. As for the user_score column, we can use \"101\" as a place holder so we don't get errors when analysing data from this column."
   ]
  },
  {
   "cell_type": "markdown",
   "metadata": {},
   "source": [
    "<div class=\"alert alert-block alert-danger\">\n",
    "<b>Reviewer's comment</b> <a class=\"tocSkip\"></a>\n",
    "\n",
    "Oh, we have a small problem here(\n",
    "    \n",
    "You've replaced 'tbd' by \"101\", and it's correct. However, now we've got nan and '101' values, which actually mean the same. Please, try to fill nan values and 'tbd' in the same way - by nan values or by '101' for both types."
   ]
  },
  {
   "cell_type": "markdown",
   "metadata": {},
   "source": [
    "As for the rest of the missing data, we can choose to leave them as they will not affect our analysis greatly as they are. There is no way to fill in `year_of_release` column accurately based on the information on the table, so we can use 0 as a place holder."
   ]
  },
  {
   "cell_type": "markdown",
   "metadata": {},
   "source": [
    "<div class=\"alert alert-block alert-warning\">\n",
    "<b>Reviewer's comment</b> <a class=\"tocSkip\"></a>\n",
    "\n",
    "It's also possible to drop rows with missing years, cause it's only for about 2% of original data"
   ]
  },
  {
   "cell_type": "markdown",
   "metadata": {},
   "source": [
    "### Change data type"
   ]
  },
  {
   "cell_type": "code",
   "execution_count": 19,
   "metadata": {},
   "outputs": [],
   "source": [
    "# Change data type for year_of_release column\n",
    "df['year_of_release'] = df['year_of_release'].astype('int')"
   ]
  },
  {
   "cell_type": "code",
   "execution_count": 20,
   "metadata": {},
   "outputs": [],
   "source": [
    "# Change data type for user_score column\n",
    "df['user_score'] = df['user_score'].astype('float')"
   ]
  },
  {
   "cell_type": "markdown",
   "metadata": {},
   "source": [
    "### Enrich data"
   ]
  },
  {
   "cell_type": "code",
   "execution_count": 21,
   "metadata": {},
   "outputs": [
    {
     "data": {
      "text/html": [
       "<div>\n",
       "<style scoped>\n",
       "    .dataframe tbody tr th:only-of-type {\n",
       "        vertical-align: middle;\n",
       "    }\n",
       "\n",
       "    .dataframe tbody tr th {\n",
       "        vertical-align: top;\n",
       "    }\n",
       "\n",
       "    .dataframe thead th {\n",
       "        text-align: right;\n",
       "    }\n",
       "</style>\n",
       "<table border=\"1\" class=\"dataframe\">\n",
       "  <thead>\n",
       "    <tr style=\"text-align: right;\">\n",
       "      <th></th>\n",
       "      <th>name</th>\n",
       "      <th>platform</th>\n",
       "      <th>year_of_release</th>\n",
       "      <th>genre</th>\n",
       "      <th>na_sales</th>\n",
       "      <th>eu_sales</th>\n",
       "      <th>jp_sales</th>\n",
       "      <th>other_sales</th>\n",
       "      <th>critic_score</th>\n",
       "      <th>user_score</th>\n",
       "      <th>rating</th>\n",
       "      <th>total_sales</th>\n",
       "    </tr>\n",
       "  </thead>\n",
       "  <tbody>\n",
       "    <tr>\n",
       "      <th>0</th>\n",
       "      <td>Wii Sports</td>\n",
       "      <td>Wii</td>\n",
       "      <td>2006</td>\n",
       "      <td>Sports</td>\n",
       "      <td>41.36</td>\n",
       "      <td>28.96</td>\n",
       "      <td>3.77</td>\n",
       "      <td>8.45</td>\n",
       "      <td>76.0</td>\n",
       "      <td>8.0</td>\n",
       "      <td>E</td>\n",
       "      <td>82.54</td>\n",
       "    </tr>\n",
       "    <tr>\n",
       "      <th>1</th>\n",
       "      <td>Super Mario Bros.</td>\n",
       "      <td>NES</td>\n",
       "      <td>1985</td>\n",
       "      <td>Platform</td>\n",
       "      <td>29.08</td>\n",
       "      <td>3.58</td>\n",
       "      <td>6.81</td>\n",
       "      <td>0.77</td>\n",
       "      <td>NaN</td>\n",
       "      <td>101.0</td>\n",
       "      <td>E</td>\n",
       "      <td>40.24</td>\n",
       "    </tr>\n",
       "    <tr>\n",
       "      <th>2</th>\n",
       "      <td>Mario Kart Wii</td>\n",
       "      <td>Wii</td>\n",
       "      <td>2008</td>\n",
       "      <td>Racing</td>\n",
       "      <td>15.68</td>\n",
       "      <td>12.76</td>\n",
       "      <td>3.79</td>\n",
       "      <td>3.29</td>\n",
       "      <td>82.0</td>\n",
       "      <td>8.3</td>\n",
       "      <td>E</td>\n",
       "      <td>35.52</td>\n",
       "    </tr>\n",
       "    <tr>\n",
       "      <th>3</th>\n",
       "      <td>Wii Sports Resort</td>\n",
       "      <td>Wii</td>\n",
       "      <td>2009</td>\n",
       "      <td>Sports</td>\n",
       "      <td>15.61</td>\n",
       "      <td>10.93</td>\n",
       "      <td>3.28</td>\n",
       "      <td>2.95</td>\n",
       "      <td>80.0</td>\n",
       "      <td>8.0</td>\n",
       "      <td>E</td>\n",
       "      <td>32.77</td>\n",
       "    </tr>\n",
       "    <tr>\n",
       "      <th>4</th>\n",
       "      <td>Pokemon Red/Pokemon Blue</td>\n",
       "      <td>GB</td>\n",
       "      <td>1996</td>\n",
       "      <td>Role-Playing</td>\n",
       "      <td>11.27</td>\n",
       "      <td>8.89</td>\n",
       "      <td>10.22</td>\n",
       "      <td>1.00</td>\n",
       "      <td>NaN</td>\n",
       "      <td>101.0</td>\n",
       "      <td>T</td>\n",
       "      <td>31.38</td>\n",
       "    </tr>\n",
       "    <tr>\n",
       "      <th>5</th>\n",
       "      <td>Tetris</td>\n",
       "      <td>GB</td>\n",
       "      <td>1989</td>\n",
       "      <td>Puzzle</td>\n",
       "      <td>23.20</td>\n",
       "      <td>2.26</td>\n",
       "      <td>4.22</td>\n",
       "      <td>0.58</td>\n",
       "      <td>NaN</td>\n",
       "      <td>101.0</td>\n",
       "      <td>E</td>\n",
       "      <td>30.26</td>\n",
       "    </tr>\n",
       "    <tr>\n",
       "      <th>6</th>\n",
       "      <td>New Super Mario Bros.</td>\n",
       "      <td>DS</td>\n",
       "      <td>2006</td>\n",
       "      <td>Platform</td>\n",
       "      <td>11.28</td>\n",
       "      <td>9.14</td>\n",
       "      <td>6.50</td>\n",
       "      <td>2.88</td>\n",
       "      <td>89.0</td>\n",
       "      <td>8.5</td>\n",
       "      <td>E</td>\n",
       "      <td>29.80</td>\n",
       "    </tr>\n",
       "    <tr>\n",
       "      <th>7</th>\n",
       "      <td>Wii Play</td>\n",
       "      <td>Wii</td>\n",
       "      <td>2006</td>\n",
       "      <td>Misc</td>\n",
       "      <td>13.96</td>\n",
       "      <td>9.18</td>\n",
       "      <td>2.93</td>\n",
       "      <td>2.84</td>\n",
       "      <td>58.0</td>\n",
       "      <td>6.6</td>\n",
       "      <td>E</td>\n",
       "      <td>28.91</td>\n",
       "    </tr>\n",
       "    <tr>\n",
       "      <th>8</th>\n",
       "      <td>New Super Mario Bros. Wii</td>\n",
       "      <td>Wii</td>\n",
       "      <td>2009</td>\n",
       "      <td>Platform</td>\n",
       "      <td>14.44</td>\n",
       "      <td>6.94</td>\n",
       "      <td>4.70</td>\n",
       "      <td>2.24</td>\n",
       "      <td>87.0</td>\n",
       "      <td>8.4</td>\n",
       "      <td>E</td>\n",
       "      <td>28.32</td>\n",
       "    </tr>\n",
       "    <tr>\n",
       "      <th>9</th>\n",
       "      <td>Duck Hunt</td>\n",
       "      <td>NES</td>\n",
       "      <td>1984</td>\n",
       "      <td>Shooter</td>\n",
       "      <td>26.93</td>\n",
       "      <td>0.63</td>\n",
       "      <td>0.28</td>\n",
       "      <td>0.47</td>\n",
       "      <td>NaN</td>\n",
       "      <td>101.0</td>\n",
       "      <td>M</td>\n",
       "      <td>28.31</td>\n",
       "    </tr>\n",
       "  </tbody>\n",
       "</table>\n",
       "</div>"
      ],
      "text/plain": [
       "                        name platform  year_of_release         genre  \\\n",
       "0                 Wii Sports      Wii             2006        Sports   \n",
       "1          Super Mario Bros.      NES             1985      Platform   \n",
       "2             Mario Kart Wii      Wii             2008        Racing   \n",
       "3          Wii Sports Resort      Wii             2009        Sports   \n",
       "4   Pokemon Red/Pokemon Blue       GB             1996  Role-Playing   \n",
       "5                     Tetris       GB             1989        Puzzle   \n",
       "6      New Super Mario Bros.       DS             2006      Platform   \n",
       "7                   Wii Play      Wii             2006          Misc   \n",
       "8  New Super Mario Bros. Wii      Wii             2009      Platform   \n",
       "9                  Duck Hunt      NES             1984       Shooter   \n",
       "\n",
       "   na_sales  eu_sales  jp_sales  other_sales  critic_score  user_score rating  \\\n",
       "0     41.36     28.96      3.77         8.45          76.0         8.0      E   \n",
       "1     29.08      3.58      6.81         0.77           NaN       101.0      E   \n",
       "2     15.68     12.76      3.79         3.29          82.0         8.3      E   \n",
       "3     15.61     10.93      3.28         2.95          80.0         8.0      E   \n",
       "4     11.27      8.89     10.22         1.00           NaN       101.0      T   \n",
       "5     23.20      2.26      4.22         0.58           NaN       101.0      E   \n",
       "6     11.28      9.14      6.50         2.88          89.0         8.5      E   \n",
       "7     13.96      9.18      2.93         2.84          58.0         6.6      E   \n",
       "8     14.44      6.94      4.70         2.24          87.0         8.4      E   \n",
       "9     26.93      0.63      0.28         0.47           NaN       101.0      M   \n",
       "\n",
       "   total_sales  \n",
       "0        82.54  \n",
       "1        40.24  \n",
       "2        35.52  \n",
       "3        32.77  \n",
       "4        31.38  \n",
       "5        30.26  \n",
       "6        29.80  \n",
       "7        28.91  \n",
       "8        28.32  \n",
       "9        28.31  "
      ]
     },
     "execution_count": 21,
     "metadata": {},
     "output_type": "execute_result"
    }
   ],
   "source": [
    "# Create total_sales column\n",
    "df['total_sales'] = df['na_sales'] + df['eu_sales'] + df['jp_sales'] + df['other_sales']\n",
    "df.head(10)"
   ]
  },
  {
   "cell_type": "markdown",
   "metadata": {},
   "source": [
    "<div class=\"alert alert-block alert-success\">\n",
    "<b>Reviewer's comment</b> <a class=\"tocSkip\"></a>\n",
    "\n",
    "Correct calculations)\n",
    "\n",
    "One more possible way:\n",
    "    \n",
    "    df['sum_col'] = df[list_of_cols_to_sum].sum(axis=1)"
   ]
  },
  {
   "cell_type": "markdown",
   "metadata": {},
   "source": [
    "## Analysis"
   ]
  },
  {
   "cell_type": "markdown",
   "metadata": {},
   "source": [
    "### Number of games released each year"
   ]
  },
  {
   "cell_type": "code",
   "execution_count": 22,
   "metadata": {},
   "outputs": [
    {
     "data": {
      "text/html": [
       "<div>\n",
       "<style scoped>\n",
       "    .dataframe tbody tr th:only-of-type {\n",
       "        vertical-align: middle;\n",
       "    }\n",
       "\n",
       "    .dataframe tbody tr th {\n",
       "        vertical-align: top;\n",
       "    }\n",
       "\n",
       "    .dataframe thead th {\n",
       "        text-align: right;\n",
       "    }\n",
       "</style>\n",
       "<table border=\"1\" class=\"dataframe\">\n",
       "  <thead>\n",
       "    <tr style=\"text-align: right;\">\n",
       "      <th></th>\n",
       "      <th>year</th>\n",
       "      <th>number_of_games</th>\n",
       "    </tr>\n",
       "  </thead>\n",
       "  <tbody>\n",
       "    <tr>\n",
       "      <th>29</th>\n",
       "      <td>2008</td>\n",
       "      <td>1427</td>\n",
       "    </tr>\n",
       "    <tr>\n",
       "      <th>30</th>\n",
       "      <td>2009</td>\n",
       "      <td>1426</td>\n",
       "    </tr>\n",
       "    <tr>\n",
       "      <th>31</th>\n",
       "      <td>2010</td>\n",
       "      <td>1255</td>\n",
       "    </tr>\n",
       "    <tr>\n",
       "      <th>28</th>\n",
       "      <td>2007</td>\n",
       "      <td>1197</td>\n",
       "    </tr>\n",
       "    <tr>\n",
       "      <th>32</th>\n",
       "      <td>2011</td>\n",
       "      <td>1136</td>\n",
       "    </tr>\n",
       "    <tr>\n",
       "      <th>27</th>\n",
       "      <td>2006</td>\n",
       "      <td>1006</td>\n",
       "    </tr>\n",
       "    <tr>\n",
       "      <th>26</th>\n",
       "      <td>2005</td>\n",
       "      <td>939</td>\n",
       "    </tr>\n",
       "    <tr>\n",
       "      <th>23</th>\n",
       "      <td>2002</td>\n",
       "      <td>829</td>\n",
       "    </tr>\n",
       "    <tr>\n",
       "      <th>24</th>\n",
       "      <td>2003</td>\n",
       "      <td>775</td>\n",
       "    </tr>\n",
       "    <tr>\n",
       "      <th>25</th>\n",
       "      <td>2004</td>\n",
       "      <td>762</td>\n",
       "    </tr>\n",
       "    <tr>\n",
       "      <th>33</th>\n",
       "      <td>2012</td>\n",
       "      <td>653</td>\n",
       "    </tr>\n",
       "    <tr>\n",
       "      <th>36</th>\n",
       "      <td>2015</td>\n",
       "      <td>606</td>\n",
       "    </tr>\n",
       "    <tr>\n",
       "      <th>35</th>\n",
       "      <td>2014</td>\n",
       "      <td>581</td>\n",
       "    </tr>\n",
       "    <tr>\n",
       "      <th>34</th>\n",
       "      <td>2013</td>\n",
       "      <td>544</td>\n",
       "    </tr>\n",
       "    <tr>\n",
       "      <th>37</th>\n",
       "      <td>2016</td>\n",
       "      <td>502</td>\n",
       "    </tr>\n",
       "    <tr>\n",
       "      <th>22</th>\n",
       "      <td>2001</td>\n",
       "      <td>482</td>\n",
       "    </tr>\n",
       "    <tr>\n",
       "      <th>19</th>\n",
       "      <td>1998</td>\n",
       "      <td>379</td>\n",
       "    </tr>\n",
       "    <tr>\n",
       "      <th>21</th>\n",
       "      <td>2000</td>\n",
       "      <td>350</td>\n",
       "    </tr>\n",
       "    <tr>\n",
       "      <th>20</th>\n",
       "      <td>1999</td>\n",
       "      <td>338</td>\n",
       "    </tr>\n",
       "    <tr>\n",
       "      <th>18</th>\n",
       "      <td>1997</td>\n",
       "      <td>289</td>\n",
       "    </tr>\n",
       "    <tr>\n",
       "      <th>0</th>\n",
       "      <td>0</td>\n",
       "      <td>269</td>\n",
       "    </tr>\n",
       "    <tr>\n",
       "      <th>17</th>\n",
       "      <td>1996</td>\n",
       "      <td>263</td>\n",
       "    </tr>\n",
       "    <tr>\n",
       "      <th>16</th>\n",
       "      <td>1995</td>\n",
       "      <td>219</td>\n",
       "    </tr>\n",
       "    <tr>\n",
       "      <th>15</th>\n",
       "      <td>1994</td>\n",
       "      <td>121</td>\n",
       "    </tr>\n",
       "    <tr>\n",
       "      <th>14</th>\n",
       "      <td>1993</td>\n",
       "      <td>60</td>\n",
       "    </tr>\n",
       "    <tr>\n",
       "      <th>2</th>\n",
       "      <td>1981</td>\n",
       "      <td>46</td>\n",
       "    </tr>\n",
       "    <tr>\n",
       "      <th>13</th>\n",
       "      <td>1992</td>\n",
       "      <td>43</td>\n",
       "    </tr>\n",
       "    <tr>\n",
       "      <th>12</th>\n",
       "      <td>1991</td>\n",
       "      <td>41</td>\n",
       "    </tr>\n",
       "    <tr>\n",
       "      <th>3</th>\n",
       "      <td>1982</td>\n",
       "      <td>36</td>\n",
       "    </tr>\n",
       "    <tr>\n",
       "      <th>7</th>\n",
       "      <td>1986</td>\n",
       "      <td>21</td>\n",
       "    </tr>\n",
       "    <tr>\n",
       "      <th>10</th>\n",
       "      <td>1989</td>\n",
       "      <td>17</td>\n",
       "    </tr>\n",
       "    <tr>\n",
       "      <th>4</th>\n",
       "      <td>1983</td>\n",
       "      <td>17</td>\n",
       "    </tr>\n",
       "    <tr>\n",
       "      <th>8</th>\n",
       "      <td>1987</td>\n",
       "      <td>16</td>\n",
       "    </tr>\n",
       "    <tr>\n",
       "      <th>11</th>\n",
       "      <td>1990</td>\n",
       "      <td>16</td>\n",
       "    </tr>\n",
       "    <tr>\n",
       "      <th>9</th>\n",
       "      <td>1988</td>\n",
       "      <td>15</td>\n",
       "    </tr>\n",
       "    <tr>\n",
       "      <th>6</th>\n",
       "      <td>1985</td>\n",
       "      <td>14</td>\n",
       "    </tr>\n",
       "    <tr>\n",
       "      <th>5</th>\n",
       "      <td>1984</td>\n",
       "      <td>14</td>\n",
       "    </tr>\n",
       "    <tr>\n",
       "      <th>1</th>\n",
       "      <td>1980</td>\n",
       "      <td>9</td>\n",
       "    </tr>\n",
       "  </tbody>\n",
       "</table>\n",
       "</div>"
      ],
      "text/plain": [
       "    year  number_of_games\n",
       "29  2008             1427\n",
       "30  2009             1426\n",
       "31  2010             1255\n",
       "28  2007             1197\n",
       "32  2011             1136\n",
       "27  2006             1006\n",
       "26  2005              939\n",
       "23  2002              829\n",
       "24  2003              775\n",
       "25  2004              762\n",
       "33  2012              653\n",
       "36  2015              606\n",
       "35  2014              581\n",
       "34  2013              544\n",
       "37  2016              502\n",
       "22  2001              482\n",
       "19  1998              379\n",
       "21  2000              350\n",
       "20  1999              338\n",
       "18  1997              289\n",
       "0      0              269\n",
       "17  1996              263\n",
       "16  1995              219\n",
       "15  1994              121\n",
       "14  1993               60\n",
       "2   1981               46\n",
       "13  1992               43\n",
       "12  1991               41\n",
       "3   1982               36\n",
       "7   1986               21\n",
       "10  1989               17\n",
       "4   1983               17\n",
       "8   1987               16\n",
       "11  1990               16\n",
       "9   1988               15\n",
       "6   1985               14\n",
       "5   1984               14\n",
       "1   1980                9"
      ]
     },
     "metadata": {},
     "output_type": "display_data"
    },
    {
     "data": {
      "image/png": "[encoded data removed]",
      "text/plain": [
       "<Figure size 1440x720 with 1 Axes>"
      ]
     },
     "metadata": {
      "needs_background": "light"
     },
     "output_type": "display_data"
    }
   ],
   "source": [
    "# Create a pivot table with yearly number of games\n",
    "number_of_games = df.pivot_table(index='year_of_release', values='platform', aggfunc='count').reset_index().rename(columns={'year_of_release':'year', 'platform':'number_of_games'})\n",
    "display(number_of_games.sort_values(by='number_of_games', ascending=False))\n",
    "number_of_games.plot(kind='bar', y='number_of_games', x='year', figsize=(20,10))\n",
    "plt.show()"
   ]
  },
  {
   "cell_type": "markdown",
   "metadata": {},
   "source": [
    "From the above analysis, we can see the total number of games released each year. 2008 and 2009 were the years with the most game titles released."
   ]
  },
  {
   "cell_type": "markdown",
   "metadata": {},
   "source": [
    "<div class=\"alert alert-block alert-success\">\n",
    "<b>Reviewer's comment</b> <a class=\"tocSkip\"></a>\n",
    "\n",
    "Nice plot and interpretation)"
   ]
  },
  {
   "cell_type": "markdown",
   "metadata": {},
   "source": [
    "### Total sales for each platform"
   ]
  },
  {
   "cell_type": "code",
   "execution_count": 23,
   "metadata": {},
   "outputs": [
    {
     "data": {
      "text/html": [
       "<div>\n",
       "<style scoped>\n",
       "    .dataframe tbody tr th:only-of-type {\n",
       "        vertical-align: middle;\n",
       "    }\n",
       "\n",
       "    .dataframe tbody tr th {\n",
       "        vertical-align: top;\n",
       "    }\n",
       "\n",
       "    .dataframe thead th {\n",
       "        text-align: right;\n",
       "    }\n",
       "</style>\n",
       "<table border=\"1\" class=\"dataframe\">\n",
       "  <thead>\n",
       "    <tr style=\"text-align: right;\">\n",
       "      <th></th>\n",
       "      <th>platform</th>\n",
       "      <th>total_sales</th>\n",
       "    </tr>\n",
       "  </thead>\n",
       "  <tbody>\n",
       "    <tr>\n",
       "      <th>16</th>\n",
       "      <td>PS2</td>\n",
       "      <td>1255.77</td>\n",
       "    </tr>\n",
       "    <tr>\n",
       "      <th>28</th>\n",
       "      <td>X360</td>\n",
       "      <td>971.42</td>\n",
       "    </tr>\n",
       "    <tr>\n",
       "      <th>17</th>\n",
       "      <td>PS3</td>\n",
       "      <td>939.65</td>\n",
       "    </tr>\n",
       "    <tr>\n",
       "      <th>26</th>\n",
       "      <td>Wii</td>\n",
       "      <td>907.51</td>\n",
       "    </tr>\n",
       "    <tr>\n",
       "      <th>4</th>\n",
       "      <td>DS</td>\n",
       "      <td>806.12</td>\n",
       "    </tr>\n",
       "    <tr>\n",
       "      <th>15</th>\n",
       "      <td>PS</td>\n",
       "      <td>730.86</td>\n",
       "    </tr>\n",
       "    <tr>\n",
       "      <th>6</th>\n",
       "      <td>GBA</td>\n",
       "      <td>317.85</td>\n",
       "    </tr>\n",
       "    <tr>\n",
       "      <th>18</th>\n",
       "      <td>PS4</td>\n",
       "      <td>314.14</td>\n",
       "    </tr>\n",
       "    <tr>\n",
       "      <th>19</th>\n",
       "      <td>PSP</td>\n",
       "      <td>294.05</td>\n",
       "    </tr>\n",
       "    <tr>\n",
       "      <th>13</th>\n",
       "      <td>PC</td>\n",
       "      <td>259.52</td>\n",
       "    </tr>\n",
       "    <tr>\n",
       "      <th>2</th>\n",
       "      <td>3DS</td>\n",
       "      <td>259.00</td>\n",
       "    </tr>\n",
       "    <tr>\n",
       "      <th>29</th>\n",
       "      <td>XB</td>\n",
       "      <td>257.74</td>\n",
       "    </tr>\n",
       "    <tr>\n",
       "      <th>5</th>\n",
       "      <td>GB</td>\n",
       "      <td>255.46</td>\n",
       "    </tr>\n",
       "    <tr>\n",
       "      <th>11</th>\n",
       "      <td>NES</td>\n",
       "      <td>251.05</td>\n",
       "    </tr>\n",
       "    <tr>\n",
       "      <th>10</th>\n",
       "      <td>N64</td>\n",
       "      <td>218.68</td>\n",
       "    </tr>\n",
       "    <tr>\n",
       "      <th>23</th>\n",
       "      <td>SNES</td>\n",
       "      <td>200.04</td>\n",
       "    </tr>\n",
       "    <tr>\n",
       "      <th>7</th>\n",
       "      <td>GC</td>\n",
       "      <td>198.93</td>\n",
       "    </tr>\n",
       "    <tr>\n",
       "      <th>30</th>\n",
       "      <td>XOne</td>\n",
       "      <td>159.32</td>\n",
       "    </tr>\n",
       "    <tr>\n",
       "      <th>0</th>\n",
       "      <td>2600</td>\n",
       "      <td>96.98</td>\n",
       "    </tr>\n",
       "    <tr>\n",
       "      <th>27</th>\n",
       "      <td>WiiU</td>\n",
       "      <td>82.19</td>\n",
       "    </tr>\n",
       "    <tr>\n",
       "      <th>20</th>\n",
       "      <td>PSV</td>\n",
       "      <td>54.07</td>\n",
       "    </tr>\n",
       "    <tr>\n",
       "      <th>21</th>\n",
       "      <td>SAT</td>\n",
       "      <td>33.59</td>\n",
       "    </tr>\n",
       "    <tr>\n",
       "      <th>8</th>\n",
       "      <td>GEN</td>\n",
       "      <td>28.35</td>\n",
       "    </tr>\n",
       "    <tr>\n",
       "      <th>3</th>\n",
       "      <td>DC</td>\n",
       "      <td>15.95</td>\n",
       "    </tr>\n",
       "    <tr>\n",
       "      <th>22</th>\n",
       "      <td>SCD</td>\n",
       "      <td>1.86</td>\n",
       "    </tr>\n",
       "    <tr>\n",
       "      <th>12</th>\n",
       "      <td>NG</td>\n",
       "      <td>1.44</td>\n",
       "    </tr>\n",
       "    <tr>\n",
       "      <th>25</th>\n",
       "      <td>WS</td>\n",
       "      <td>1.42</td>\n",
       "    </tr>\n",
       "    <tr>\n",
       "      <th>24</th>\n",
       "      <td>TG16</td>\n",
       "      <td>0.16</td>\n",
       "    </tr>\n",
       "    <tr>\n",
       "      <th>1</th>\n",
       "      <td>3DO</td>\n",
       "      <td>0.10</td>\n",
       "    </tr>\n",
       "    <tr>\n",
       "      <th>9</th>\n",
       "      <td>GG</td>\n",
       "      <td>0.04</td>\n",
       "    </tr>\n",
       "    <tr>\n",
       "      <th>14</th>\n",
       "      <td>PCFX</td>\n",
       "      <td>0.03</td>\n",
       "    </tr>\n",
       "  </tbody>\n",
       "</table>\n",
       "</div>"
      ],
      "text/plain": [
       "   platform  total_sales\n",
       "16      PS2      1255.77\n",
       "28     X360       971.42\n",
       "17      PS3       939.65\n",
       "26      Wii       907.51\n",
       "4        DS       806.12\n",
       "15       PS       730.86\n",
       "6       GBA       317.85\n",
       "18      PS4       314.14\n",
       "19      PSP       294.05\n",
       "13       PC       259.52\n",
       "2       3DS       259.00\n",
       "29       XB       257.74\n",
       "5        GB       255.46\n",
       "11      NES       251.05\n",
       "10      N64       218.68\n",
       "23     SNES       200.04\n",
       "7        GC       198.93\n",
       "30     XOne       159.32\n",
       "0      2600        96.98\n",
       "27     WiiU        82.19\n",
       "20      PSV        54.07\n",
       "21      SAT        33.59\n",
       "8       GEN        28.35\n",
       "3        DC        15.95\n",
       "22      SCD         1.86\n",
       "12       NG         1.44\n",
       "25       WS         1.42\n",
       "24     TG16         0.16\n",
       "1       3DO         0.10\n",
       "9        GG         0.04\n",
       "14     PCFX         0.03"
      ]
     },
     "metadata": {},
     "output_type": "display_data"
    },
    {
     "data": {
      "image/png": "[encoded data removed]",
      "text/plain": [
       "<Figure size 1440x720 with 1 Axes>"
      ]
     },
     "metadata": {
      "needs_background": "light"
     },
     "output_type": "display_data"
    }
   ],
   "source": [
    "# Creat a pivot table with total sales for each platform\n",
    "tot_sales = df.pivot_table(index='platform', values='total_sales', aggfunc='sum').reset_index()\n",
    "display(tot_sales.sort_values(by='total_sales', ascending=False))\n",
    "tot_sales.plot(kind='bar', y='total_sales', x='platform', figsize=(20,10))\n",
    "plt.show()"
   ]
  },
  {
   "cell_type": "markdown",
   "metadata": {},
   "source": [
    "From our analysis, we have identified PS2, X360, PS3, Wii and DS to be the highest 5 platforms in terms of sales."
   ]
  },
  {
   "cell_type": "markdown",
   "metadata": {},
   "source": [
    "<div class=\"alert alert-block alert-success\">\n",
    "<b>Reviewer's comment</b> <a class=\"tocSkip\"></a>\n",
    "\n",
    "Great conclusion)"
   ]
  },
  {
   "cell_type": "code",
   "execution_count": 24,
   "metadata": {},
   "outputs": [
    {
     "data": {
      "text/html": [
       "<div>\n",
       "<style scoped>\n",
       "    .dataframe tbody tr th:only-of-type {\n",
       "        vertical-align: middle;\n",
       "    }\n",
       "\n",
       "    .dataframe tbody tr th {\n",
       "        vertical-align: top;\n",
       "    }\n",
       "\n",
       "    .dataframe thead th {\n",
       "        text-align: right;\n",
       "    }\n",
       "</style>\n",
       "<table border=\"1\" class=\"dataframe\">\n",
       "  <thead>\n",
       "    <tr style=\"text-align: right;\">\n",
       "      <th>platform</th>\n",
       "      <th>year_of_release</th>\n",
       "      <th>DS</th>\n",
       "      <th>GBA</th>\n",
       "      <th>PC</th>\n",
       "      <th>PS</th>\n",
       "      <th>PS2</th>\n",
       "      <th>PS3</th>\n",
       "      <th>PS4</th>\n",
       "      <th>PSP</th>\n",
       "      <th>Wii</th>\n",
       "      <th>X360</th>\n",
       "    </tr>\n",
       "  </thead>\n",
       "  <tbody>\n",
       "    <tr>\n",
       "      <th>0</th>\n",
       "      <td>0</td>\n",
       "      <td>3.34</td>\n",
       "      <td>4.97</td>\n",
       "      <td>3.76</td>\n",
       "      <td>3.28</td>\n",
       "      <td>22.21</td>\n",
       "      <td>8.31</td>\n",
       "      <td>NaN</td>\n",
       "      <td>4.52</td>\n",
       "      <td>16.33</td>\n",
       "      <td>10.18</td>\n",
       "    </tr>\n",
       "    <tr>\n",
       "      <th>1</th>\n",
       "      <td>1985</td>\n",
       "      <td>0.02</td>\n",
       "      <td>NaN</td>\n",
       "      <td>0.04</td>\n",
       "      <td>NaN</td>\n",
       "      <td>NaN</td>\n",
       "      <td>NaN</td>\n",
       "      <td>NaN</td>\n",
       "      <td>NaN</td>\n",
       "      <td>NaN</td>\n",
       "      <td>NaN</td>\n",
       "    </tr>\n",
       "    <tr>\n",
       "      <th>2</th>\n",
       "      <td>1988</td>\n",
       "      <td>NaN</td>\n",
       "      <td>NaN</td>\n",
       "      <td>0.03</td>\n",
       "      <td>NaN</td>\n",
       "      <td>NaN</td>\n",
       "      <td>NaN</td>\n",
       "      <td>NaN</td>\n",
       "      <td>NaN</td>\n",
       "      <td>NaN</td>\n",
       "      <td>NaN</td>\n",
       "    </tr>\n",
       "    <tr>\n",
       "      <th>3</th>\n",
       "      <td>1992</td>\n",
       "      <td>NaN</td>\n",
       "      <td>NaN</td>\n",
       "      <td>3.03</td>\n",
       "      <td>NaN</td>\n",
       "      <td>NaN</td>\n",
       "      <td>NaN</td>\n",
       "      <td>NaN</td>\n",
       "      <td>NaN</td>\n",
       "      <td>NaN</td>\n",
       "      <td>NaN</td>\n",
       "    </tr>\n",
       "    <tr>\n",
       "      <th>4</th>\n",
       "      <td>1994</td>\n",
       "      <td>NaN</td>\n",
       "      <td>NaN</td>\n",
       "      <td>12.87</td>\n",
       "      <td>6.03</td>\n",
       "      <td>NaN</td>\n",
       "      <td>NaN</td>\n",
       "      <td>NaN</td>\n",
       "      <td>NaN</td>\n",
       "      <td>NaN</td>\n",
       "      <td>NaN</td>\n",
       "    </tr>\n",
       "    <tr>\n",
       "      <th>5</th>\n",
       "      <td>1995</td>\n",
       "      <td>NaN</td>\n",
       "      <td>NaN</td>\n",
       "      <td>4.22</td>\n",
       "      <td>35.96</td>\n",
       "      <td>NaN</td>\n",
       "      <td>NaN</td>\n",
       "      <td>NaN</td>\n",
       "      <td>NaN</td>\n",
       "      <td>NaN</td>\n",
       "      <td>NaN</td>\n",
       "    </tr>\n",
       "    <tr>\n",
       "      <th>6</th>\n",
       "      <td>1996</td>\n",
       "      <td>NaN</td>\n",
       "      <td>NaN</td>\n",
       "      <td>10.58</td>\n",
       "      <td>94.70</td>\n",
       "      <td>NaN</td>\n",
       "      <td>NaN</td>\n",
       "      <td>NaN</td>\n",
       "      <td>NaN</td>\n",
       "      <td>NaN</td>\n",
       "      <td>NaN</td>\n",
       "    </tr>\n",
       "    <tr>\n",
       "      <th>7</th>\n",
       "      <td>1997</td>\n",
       "      <td>NaN</td>\n",
       "      <td>NaN</td>\n",
       "      <td>11.27</td>\n",
       "      <td>136.17</td>\n",
       "      <td>NaN</td>\n",
       "      <td>NaN</td>\n",
       "      <td>NaN</td>\n",
       "      <td>NaN</td>\n",
       "      <td>NaN</td>\n",
       "      <td>NaN</td>\n",
       "    </tr>\n",
       "    <tr>\n",
       "      <th>8</th>\n",
       "      <td>1998</td>\n",
       "      <td>NaN</td>\n",
       "      <td>NaN</td>\n",
       "      <td>3.26</td>\n",
       "      <td>169.49</td>\n",
       "      <td>NaN</td>\n",
       "      <td>NaN</td>\n",
       "      <td>NaN</td>\n",
       "      <td>NaN</td>\n",
       "      <td>NaN</td>\n",
       "      <td>NaN</td>\n",
       "    </tr>\n",
       "    <tr>\n",
       "      <th>9</th>\n",
       "      <td>1999</td>\n",
       "      <td>NaN</td>\n",
       "      <td>NaN</td>\n",
       "      <td>4.74</td>\n",
       "      <td>144.53</td>\n",
       "      <td>NaN</td>\n",
       "      <td>NaN</td>\n",
       "      <td>NaN</td>\n",
       "      <td>NaN</td>\n",
       "      <td>NaN</td>\n",
       "      <td>NaN</td>\n",
       "    </tr>\n",
       "    <tr>\n",
       "      <th>10</th>\n",
       "      <td>2000</td>\n",
       "      <td>NaN</td>\n",
       "      <td>0.07</td>\n",
       "      <td>4.66</td>\n",
       "      <td>96.37</td>\n",
       "      <td>39.17</td>\n",
       "      <td>NaN</td>\n",
       "      <td>NaN</td>\n",
       "      <td>NaN</td>\n",
       "      <td>NaN</td>\n",
       "      <td>NaN</td>\n",
       "    </tr>\n",
       "    <tr>\n",
       "      <th>11</th>\n",
       "      <td>2001</td>\n",
       "      <td>NaN</td>\n",
       "      <td>61.53</td>\n",
       "      <td>5.47</td>\n",
       "      <td>35.59</td>\n",
       "      <td>166.43</td>\n",
       "      <td>NaN</td>\n",
       "      <td>NaN</td>\n",
       "      <td>NaN</td>\n",
       "      <td>NaN</td>\n",
       "      <td>NaN</td>\n",
       "    </tr>\n",
       "    <tr>\n",
       "      <th>12</th>\n",
       "      <td>2002</td>\n",
       "      <td>NaN</td>\n",
       "      <td>74.16</td>\n",
       "      <td>8.57</td>\n",
       "      <td>6.67</td>\n",
       "      <td>205.38</td>\n",
       "      <td>NaN</td>\n",
       "      <td>NaN</td>\n",
       "      <td>NaN</td>\n",
       "      <td>NaN</td>\n",
       "      <td>NaN</td>\n",
       "    </tr>\n",
       "    <tr>\n",
       "      <th>13</th>\n",
       "      <td>2003</td>\n",
       "      <td>NaN</td>\n",
       "      <td>56.67</td>\n",
       "      <td>8.84</td>\n",
       "      <td>2.07</td>\n",
       "      <td>184.31</td>\n",
       "      <td>NaN</td>\n",
       "      <td>NaN</td>\n",
       "      <td>NaN</td>\n",
       "      <td>NaN</td>\n",
       "      <td>NaN</td>\n",
       "    </tr>\n",
       "    <tr>\n",
       "      <th>14</th>\n",
       "      <td>2004</td>\n",
       "      <td>17.27</td>\n",
       "      <td>77.91</td>\n",
       "      <td>10.39</td>\n",
       "      <td>NaN</td>\n",
       "      <td>211.81</td>\n",
       "      <td>NaN</td>\n",
       "      <td>NaN</td>\n",
       "      <td>7.06</td>\n",
       "      <td>NaN</td>\n",
       "      <td>NaN</td>\n",
       "    </tr>\n",
       "    <tr>\n",
       "      <th>15</th>\n",
       "      <td>2005</td>\n",
       "      <td>130.14</td>\n",
       "      <td>33.86</td>\n",
       "      <td>4.37</td>\n",
       "      <td>NaN</td>\n",
       "      <td>160.66</td>\n",
       "      <td>NaN</td>\n",
       "      <td>NaN</td>\n",
       "      <td>43.84</td>\n",
       "      <td>NaN</td>\n",
       "      <td>8.25</td>\n",
       "    </tr>\n",
       "    <tr>\n",
       "      <th>16</th>\n",
       "      <td>2006</td>\n",
       "      <td>119.81</td>\n",
       "      <td>5.28</td>\n",
       "      <td>2.85</td>\n",
       "      <td>NaN</td>\n",
       "      <td>103.42</td>\n",
       "      <td>20.96</td>\n",
       "      <td>NaN</td>\n",
       "      <td>55.32</td>\n",
       "      <td>137.15</td>\n",
       "      <td>51.62</td>\n",
       "    </tr>\n",
       "    <tr>\n",
       "      <th>17</th>\n",
       "      <td>2007</td>\n",
       "      <td>146.94</td>\n",
       "      <td>3.40</td>\n",
       "      <td>9.28</td>\n",
       "      <td>NaN</td>\n",
       "      <td>75.99</td>\n",
       "      <td>73.19</td>\n",
       "      <td>NaN</td>\n",
       "      <td>46.93</td>\n",
       "      <td>152.77</td>\n",
       "      <td>95.41</td>\n",
       "    </tr>\n",
       "    <tr>\n",
       "      <th>18</th>\n",
       "      <td>2008</td>\n",
       "      <td>145.31</td>\n",
       "      <td>NaN</td>\n",
       "      <td>12.42</td>\n",
       "      <td>NaN</td>\n",
       "      <td>53.90</td>\n",
       "      <td>118.52</td>\n",
       "      <td>NaN</td>\n",
       "      <td>34.55</td>\n",
       "      <td>171.32</td>\n",
       "      <td>135.26</td>\n",
       "    </tr>\n",
       "    <tr>\n",
       "      <th>19</th>\n",
       "      <td>2009</td>\n",
       "      <td>119.54</td>\n",
       "      <td>NaN</td>\n",
       "      <td>16.91</td>\n",
       "      <td>NaN</td>\n",
       "      <td>26.40</td>\n",
       "      <td>130.93</td>\n",
       "      <td>NaN</td>\n",
       "      <td>37.78</td>\n",
       "      <td>206.97</td>\n",
       "      <td>120.29</td>\n",
       "    </tr>\n",
       "    <tr>\n",
       "      <th>20</th>\n",
       "      <td>2010</td>\n",
       "      <td>85.02</td>\n",
       "      <td>NaN</td>\n",
       "      <td>24.28</td>\n",
       "      <td>NaN</td>\n",
       "      <td>5.64</td>\n",
       "      <td>142.17</td>\n",
       "      <td>NaN</td>\n",
       "      <td>35.04</td>\n",
       "      <td>127.95</td>\n",
       "      <td>170.03</td>\n",
       "    </tr>\n",
       "    <tr>\n",
       "      <th>21</th>\n",
       "      <td>2011</td>\n",
       "      <td>26.18</td>\n",
       "      <td>NaN</td>\n",
       "      <td>35.03</td>\n",
       "      <td>NaN</td>\n",
       "      <td>0.45</td>\n",
       "      <td>156.78</td>\n",
       "      <td>NaN</td>\n",
       "      <td>17.82</td>\n",
       "      <td>59.65</td>\n",
       "      <td>143.84</td>\n",
       "    </tr>\n",
       "    <tr>\n",
       "      <th>22</th>\n",
       "      <td>2012</td>\n",
       "      <td>11.01</td>\n",
       "      <td>NaN</td>\n",
       "      <td>23.22</td>\n",
       "      <td>NaN</td>\n",
       "      <td>NaN</td>\n",
       "      <td>107.36</td>\n",
       "      <td>NaN</td>\n",
       "      <td>7.69</td>\n",
       "      <td>21.71</td>\n",
       "      <td>99.74</td>\n",
       "    </tr>\n",
       "    <tr>\n",
       "      <th>23</th>\n",
       "      <td>2013</td>\n",
       "      <td>1.54</td>\n",
       "      <td>NaN</td>\n",
       "      <td>12.38</td>\n",
       "      <td>NaN</td>\n",
       "      <td>NaN</td>\n",
       "      <td>113.25</td>\n",
       "      <td>25.99</td>\n",
       "      <td>3.14</td>\n",
       "      <td>8.59</td>\n",
       "      <td>88.58</td>\n",
       "    </tr>\n",
       "    <tr>\n",
       "      <th>24</th>\n",
       "      <td>2014</td>\n",
       "      <td>NaN</td>\n",
       "      <td>NaN</td>\n",
       "      <td>13.28</td>\n",
       "      <td>NaN</td>\n",
       "      <td>NaN</td>\n",
       "      <td>47.76</td>\n",
       "      <td>100.00</td>\n",
       "      <td>0.24</td>\n",
       "      <td>3.75</td>\n",
       "      <td>34.74</td>\n",
       "    </tr>\n",
       "    <tr>\n",
       "      <th>25</th>\n",
       "      <td>2015</td>\n",
       "      <td>NaN</td>\n",
       "      <td>NaN</td>\n",
       "      <td>8.52</td>\n",
       "      <td>NaN</td>\n",
       "      <td>NaN</td>\n",
       "      <td>16.82</td>\n",
       "      <td>118.90</td>\n",
       "      <td>0.12</td>\n",
       "      <td>1.14</td>\n",
       "      <td>11.96</td>\n",
       "    </tr>\n",
       "    <tr>\n",
       "      <th>26</th>\n",
       "      <td>2016</td>\n",
       "      <td>NaN</td>\n",
       "      <td>NaN</td>\n",
       "      <td>5.25</td>\n",
       "      <td>NaN</td>\n",
       "      <td>NaN</td>\n",
       "      <td>3.60</td>\n",
       "      <td>69.25</td>\n",
       "      <td>NaN</td>\n",
       "      <td>0.18</td>\n",
       "      <td>1.52</td>\n",
       "    </tr>\n",
       "  </tbody>\n",
       "</table>\n",
       "</div>"
      ],
      "text/plain": [
       "platform  year_of_release      DS    GBA     PC      PS     PS2     PS3  \\\n",
       "0                       0    3.34   4.97   3.76    3.28   22.21    8.31   \n",
       "1                    1985    0.02    NaN   0.04     NaN     NaN     NaN   \n",
       "2                    1988     NaN    NaN   0.03     NaN     NaN     NaN   \n",
       "3                    1992     NaN    NaN   3.03     NaN     NaN     NaN   \n",
       "4                    1994     NaN    NaN  12.87    6.03     NaN     NaN   \n",
       "5                    1995     NaN    NaN   4.22   35.96     NaN     NaN   \n",
       "6                    1996     NaN    NaN  10.58   94.70     NaN     NaN   \n",
       "7                    1997     NaN    NaN  11.27  136.17     NaN     NaN   \n",
       "8                    1998     NaN    NaN   3.26  169.49     NaN     NaN   \n",
       "9                    1999     NaN    NaN   4.74  144.53     NaN     NaN   \n",
       "10                   2000     NaN   0.07   4.66   96.37   39.17     NaN   \n",
       "11                   2001     NaN  61.53   5.47   35.59  166.43     NaN   \n",
       "12                   2002     NaN  74.16   8.57    6.67  205.38     NaN   \n",
       "13                   2003     NaN  56.67   8.84    2.07  184.31     NaN   \n",
       "14                   2004   17.27  77.91  10.39     NaN  211.81     NaN   \n",
       "15                   2005  130.14  33.86   4.37     NaN  160.66     NaN   \n",
       "16                   2006  119.81   5.28   2.85     NaN  103.42   20.96   \n",
       "17                   2007  146.94   3.40   9.28     NaN   75.99   73.19   \n",
       "18                   2008  145.31    NaN  12.42     NaN   53.90  118.52   \n",
       "19                   2009  119.54    NaN  16.91     NaN   26.40  130.93   \n",
       "20                   2010   85.02    NaN  24.28     NaN    5.64  142.17   \n",
       "21                   2011   26.18    NaN  35.03     NaN    0.45  156.78   \n",
       "22                   2012   11.01    NaN  23.22     NaN     NaN  107.36   \n",
       "23                   2013    1.54    NaN  12.38     NaN     NaN  113.25   \n",
       "24                   2014     NaN    NaN  13.28     NaN     NaN   47.76   \n",
       "25                   2015     NaN    NaN   8.52     NaN     NaN   16.82   \n",
       "26                   2016     NaN    NaN   5.25     NaN     NaN    3.60   \n",
       "\n",
       "platform     PS4    PSP     Wii    X360  \n",
       "0            NaN   4.52   16.33   10.18  \n",
       "1            NaN    NaN     NaN     NaN  \n",
       "2            NaN    NaN     NaN     NaN  \n",
       "3            NaN    NaN     NaN     NaN  \n",
       "4            NaN    NaN     NaN     NaN  \n",
       "5            NaN    NaN     NaN     NaN  \n",
       "6            NaN    NaN     NaN     NaN  \n",
       "7            NaN    NaN     NaN     NaN  \n",
       "8            NaN    NaN     NaN     NaN  \n",
       "9            NaN    NaN     NaN     NaN  \n",
       "10           NaN    NaN     NaN     NaN  \n",
       "11           NaN    NaN     NaN     NaN  \n",
       "12           NaN    NaN     NaN     NaN  \n",
       "13           NaN    NaN     NaN     NaN  \n",
       "14           NaN   7.06     NaN     NaN  \n",
       "15           NaN  43.84     NaN    8.25  \n",
       "16           NaN  55.32  137.15   51.62  \n",
       "17           NaN  46.93  152.77   95.41  \n",
       "18           NaN  34.55  171.32  135.26  \n",
       "19           NaN  37.78  206.97  120.29  \n",
       "20           NaN  35.04  127.95  170.03  \n",
       "21           NaN  17.82   59.65  143.84  \n",
       "22           NaN   7.69   21.71   99.74  \n",
       "23         25.99   3.14    8.59   88.58  \n",
       "24        100.00   0.24    3.75   34.74  \n",
       "25        118.90   0.12    1.14   11.96  \n",
       "26         69.25    NaN    0.18    1.52  "
      ]
     },
     "metadata": {},
     "output_type": "display_data"
    }
   ],
   "source": [
    "# Build a distribution for total sales of top platform games per year.\n",
    "chosen = []\n",
    "filt = tot_sales.sort_values(by='total_sales', ascending=False)\n",
    "for plat in filt['platform'].head(10):\n",
    "    chosen.append(plat)\n",
    "top_plat_sales = df.query('platform in @chosen').pivot_table(index='year_of_release', values='total_sales', columns='platform', aggfunc='sum').reset_index()\n",
    "display(top_plat_sales)"
   ]
  },
  {
   "cell_type": "markdown",
   "metadata": {},
   "source": [
    "From the above table, we can see the sales of games on different platforms. Ps, PS2, DS,GBA and PSP were once popular platforms but now have zero sales. Also, using the data from the PS consoles, we can see that it takes 6 years for a new console to be introduced and about 5 years for the old one to fade."
   ]
  },
  {
   "cell_type": "markdown",
   "metadata": {},
   "source": [
    "<div class=\"alert alert-block alert-success\">\n",
    "<b>Reviewer's comment</b> <a class=\"tocSkip\"></a>\n",
    "\n",
    "Interesting way) The results are correct)"
   ]
  },
  {
   "cell_type": "code",
   "execution_count": 25,
   "metadata": {},
   "outputs": [
    {
     "name": "stdout",
     "output_type": "stream",
     "text": [
      "Lifespan of PS was 11 years\n",
      "Lifespan of PS2 was 13 years\n",
      "Lifespan of PS3 is 12 years now\n",
      "Lifespan of PS4 is 4 years now\n"
     ]
    }
   ],
   "source": [
    "# Calculate lifespan of console\n",
    "PS_life = len(top_plat_sales['PS'][top_plat_sales['PS'].isna() == False])\n",
    "PS2_life = len(top_plat_sales['PS2'][top_plat_sales['PS2'].isna() == False])\n",
    "PS3_life = len(top_plat_sales['PS3'][top_plat_sales['PS3'].isna() == False])\n",
    "PS4_life = len(top_plat_sales['PS4'][top_plat_sales['PS4'].isna() == False])\n",
    "\n",
    "print(f'Lifespan of PS was {PS_life} years')\n",
    "\n",
    "print(f'Lifespan of PS2 was {PS2_life} years')\n",
    "\n",
    "print(f'Lifespan of PS3 is {PS3_life} years now')\n",
    "\n",
    "print(f'Lifespan of PS4 is {PS4_life} years now')\n"
   ]
  },
  {
   "cell_type": "markdown",
   "metadata": {},
   "source": [
    "The Ps4 launched in 2013. Seeing as all other popular consoles launched before then, it would be wise to start taking data from this year to be able to predict what campaigns might be successful in 2017."
   ]
  },
  {
   "cell_type": "markdown",
   "metadata": {},
   "source": [
    "### Filter dataframe to relevant time period"
   ]
  },
  {
   "cell_type": "code",
   "execution_count": 26,
   "metadata": {
    "scrolled": false
   },
   "outputs": [
    {
     "data": {
      "text/html": [
       "<div>\n",
       "<style scoped>\n",
       "    .dataframe tbody tr th:only-of-type {\n",
       "        vertical-align: middle;\n",
       "    }\n",
       "\n",
       "    .dataframe tbody tr th {\n",
       "        vertical-align: top;\n",
       "    }\n",
       "\n",
       "    .dataframe thead th {\n",
       "        text-align: right;\n",
       "    }\n",
       "</style>\n",
       "<table border=\"1\" class=\"dataframe\">\n",
       "  <thead>\n",
       "    <tr style=\"text-align: right;\">\n",
       "      <th></th>\n",
       "      <th>name</th>\n",
       "      <th>platform</th>\n",
       "      <th>year_of_release</th>\n",
       "      <th>genre</th>\n",
       "      <th>na_sales</th>\n",
       "      <th>eu_sales</th>\n",
       "      <th>jp_sales</th>\n",
       "      <th>other_sales</th>\n",
       "      <th>critic_score</th>\n",
       "      <th>user_score</th>\n",
       "      <th>rating</th>\n",
       "      <th>total_sales</th>\n",
       "    </tr>\n",
       "  </thead>\n",
       "  <tbody>\n",
       "    <tr>\n",
       "      <th>16</th>\n",
       "      <td>Grand Theft Auto V</td>\n",
       "      <td>PS3</td>\n",
       "      <td>2013</td>\n",
       "      <td>Action</td>\n",
       "      <td>7.02</td>\n",
       "      <td>9.09</td>\n",
       "      <td>0.98</td>\n",
       "      <td>3.96</td>\n",
       "      <td>97.0</td>\n",
       "      <td>8.2</td>\n",
       "      <td>M</td>\n",
       "      <td>21.05</td>\n",
       "    </tr>\n",
       "    <tr>\n",
       "      <th>23</th>\n",
       "      <td>Grand Theft Auto V</td>\n",
       "      <td>X360</td>\n",
       "      <td>2013</td>\n",
       "      <td>Action</td>\n",
       "      <td>9.66</td>\n",
       "      <td>5.14</td>\n",
       "      <td>0.06</td>\n",
       "      <td>1.41</td>\n",
       "      <td>97.0</td>\n",
       "      <td>8.1</td>\n",
       "      <td>M</td>\n",
       "      <td>16.27</td>\n",
       "    </tr>\n",
       "    <tr>\n",
       "      <th>31</th>\n",
       "      <td>Call of Duty: Black Ops 3</td>\n",
       "      <td>PS4</td>\n",
       "      <td>2015</td>\n",
       "      <td>Shooter</td>\n",
       "      <td>6.03</td>\n",
       "      <td>5.86</td>\n",
       "      <td>0.36</td>\n",
       "      <td>2.38</td>\n",
       "      <td>NaN</td>\n",
       "      <td>101.0</td>\n",
       "      <td>M</td>\n",
       "      <td>14.63</td>\n",
       "    </tr>\n",
       "    <tr>\n",
       "      <th>33</th>\n",
       "      <td>Pokemon X/Pokemon Y</td>\n",
       "      <td>3DS</td>\n",
       "      <td>2013</td>\n",
       "      <td>Role-Playing</td>\n",
       "      <td>5.28</td>\n",
       "      <td>4.19</td>\n",
       "      <td>4.35</td>\n",
       "      <td>0.78</td>\n",
       "      <td>NaN</td>\n",
       "      <td>101.0</td>\n",
       "      <td>T</td>\n",
       "      <td>14.60</td>\n",
       "    </tr>\n",
       "    <tr>\n",
       "      <th>42</th>\n",
       "      <td>Grand Theft Auto V</td>\n",
       "      <td>PS4</td>\n",
       "      <td>2014</td>\n",
       "      <td>Action</td>\n",
       "      <td>3.96</td>\n",
       "      <td>6.31</td>\n",
       "      <td>0.38</td>\n",
       "      <td>1.97</td>\n",
       "      <td>97.0</td>\n",
       "      <td>8.3</td>\n",
       "      <td>M</td>\n",
       "      <td>12.62</td>\n",
       "    </tr>\n",
       "    <tr>\n",
       "      <th>47</th>\n",
       "      <td>Pokemon Omega Ruby/Pokemon Alpha Sapphire</td>\n",
       "      <td>3DS</td>\n",
       "      <td>2014</td>\n",
       "      <td>Role-Playing</td>\n",
       "      <td>4.35</td>\n",
       "      <td>3.49</td>\n",
       "      <td>3.10</td>\n",
       "      <td>0.74</td>\n",
       "      <td>NaN</td>\n",
       "      <td>101.0</td>\n",
       "      <td>T</td>\n",
       "      <td>11.68</td>\n",
       "    </tr>\n",
       "    <tr>\n",
       "      <th>60</th>\n",
       "      <td>Call of Duty: Ghosts</td>\n",
       "      <td>X360</td>\n",
       "      <td>2013</td>\n",
       "      <td>Shooter</td>\n",
       "      <td>6.73</td>\n",
       "      <td>2.56</td>\n",
       "      <td>0.04</td>\n",
       "      <td>0.91</td>\n",
       "      <td>73.0</td>\n",
       "      <td>2.6</td>\n",
       "      <td>M</td>\n",
       "      <td>10.24</td>\n",
       "    </tr>\n",
       "    <tr>\n",
       "      <th>69</th>\n",
       "      <td>Call of Duty: Ghosts</td>\n",
       "      <td>PS3</td>\n",
       "      <td>2013</td>\n",
       "      <td>Shooter</td>\n",
       "      <td>4.10</td>\n",
       "      <td>3.63</td>\n",
       "      <td>0.38</td>\n",
       "      <td>1.25</td>\n",
       "      <td>71.0</td>\n",
       "      <td>2.6</td>\n",
       "      <td>M</td>\n",
       "      <td>9.36</td>\n",
       "    </tr>\n",
       "    <tr>\n",
       "      <th>72</th>\n",
       "      <td>Minecraft</td>\n",
       "      <td>X360</td>\n",
       "      <td>2013</td>\n",
       "      <td>Misc</td>\n",
       "      <td>5.70</td>\n",
       "      <td>2.65</td>\n",
       "      <td>0.02</td>\n",
       "      <td>0.81</td>\n",
       "      <td>NaN</td>\n",
       "      <td>101.0</td>\n",
       "      <td>E</td>\n",
       "      <td>9.18</td>\n",
       "    </tr>\n",
       "    <tr>\n",
       "      <th>77</th>\n",
       "      <td>FIFA 16</td>\n",
       "      <td>PS4</td>\n",
       "      <td>2015</td>\n",
       "      <td>Sports</td>\n",
       "      <td>1.12</td>\n",
       "      <td>6.12</td>\n",
       "      <td>0.06</td>\n",
       "      <td>1.28</td>\n",
       "      <td>82.0</td>\n",
       "      <td>4.3</td>\n",
       "      <td>E</td>\n",
       "      <td>8.58</td>\n",
       "    </tr>\n",
       "  </tbody>\n",
       "</table>\n",
       "</div>"
      ],
      "text/plain": [
       "                                         name platform  year_of_release  \\\n",
       "16                         Grand Theft Auto V      PS3             2013   \n",
       "23                         Grand Theft Auto V     X360             2013   \n",
       "31                  Call of Duty: Black Ops 3      PS4             2015   \n",
       "33                        Pokemon X/Pokemon Y      3DS             2013   \n",
       "42                         Grand Theft Auto V      PS4             2014   \n",
       "47  Pokemon Omega Ruby/Pokemon Alpha Sapphire      3DS             2014   \n",
       "60                       Call of Duty: Ghosts     X360             2013   \n",
       "69                       Call of Duty: Ghosts      PS3             2013   \n",
       "72                                  Minecraft     X360             2013   \n",
       "77                                    FIFA 16      PS4             2015   \n",
       "\n",
       "           genre  na_sales  eu_sales  jp_sales  other_sales  critic_score  \\\n",
       "16        Action      7.02      9.09      0.98         3.96          97.0   \n",
       "23        Action      9.66      5.14      0.06         1.41          97.0   \n",
       "31       Shooter      6.03      5.86      0.36         2.38           NaN   \n",
       "33  Role-Playing      5.28      4.19      4.35         0.78           NaN   \n",
       "42        Action      3.96      6.31      0.38         1.97          97.0   \n",
       "47  Role-Playing      4.35      3.49      3.10         0.74           NaN   \n",
       "60       Shooter      6.73      2.56      0.04         0.91          73.0   \n",
       "69       Shooter      4.10      3.63      0.38         1.25          71.0   \n",
       "72          Misc      5.70      2.65      0.02         0.81           NaN   \n",
       "77        Sports      1.12      6.12      0.06         1.28          82.0   \n",
       "\n",
       "    user_score rating  total_sales  \n",
       "16         8.2      M        21.05  \n",
       "23         8.1      M        16.27  \n",
       "31       101.0      M        14.63  \n",
       "33       101.0      T        14.60  \n",
       "42         8.3      M        12.62  \n",
       "47       101.0      T        11.68  \n",
       "60         2.6      M        10.24  \n",
       "69         2.6      M         9.36  \n",
       "72       101.0      E         9.18  \n",
       "77         4.3      E         8.58  "
      ]
     },
     "execution_count": 26,
     "metadata": {},
     "output_type": "execute_result"
    }
   ],
   "source": [
    "# Filter dataframe\n",
    "df_filtered = df[df['year_of_release'] >= 2013]\n",
    "df_filtered.head(10)"
   ]
  },
  {
   "cell_type": "markdown",
   "metadata": {},
   "source": [
    "<div class=\"alert alert-block alert-success\">\n",
    "<b>Reviewer's comment</b> <a class=\"tocSkip\"></a>\n",
    "\n",
    "You've choosen the best time period! It's enought to fit models, and not to big to catch old trends) "
   ]
  },
  {
   "cell_type": "markdown",
   "metadata": {},
   "source": [
    "### Total sales for filtered dataframe"
   ]
  },
  {
   "cell_type": "code",
   "execution_count": 27,
   "metadata": {},
   "outputs": [
    {
     "data": {
      "text/html": [
       "<div>\n",
       "<style scoped>\n",
       "    .dataframe tbody tr th:only-of-type {\n",
       "        vertical-align: middle;\n",
       "    }\n",
       "\n",
       "    .dataframe tbody tr th {\n",
       "        vertical-align: top;\n",
       "    }\n",
       "\n",
       "    .dataframe thead th {\n",
       "        text-align: right;\n",
       "    }\n",
       "</style>\n",
       "<table border=\"1\" class=\"dataframe\">\n",
       "  <thead>\n",
       "    <tr style=\"text-align: right;\">\n",
       "      <th></th>\n",
       "      <th>platform</th>\n",
       "      <th>total_sales</th>\n",
       "    </tr>\n",
       "  </thead>\n",
       "  <tbody>\n",
       "    <tr>\n",
       "      <th>4</th>\n",
       "      <td>PS4</td>\n",
       "      <td>314.14</td>\n",
       "    </tr>\n",
       "    <tr>\n",
       "      <th>3</th>\n",
       "      <td>PS3</td>\n",
       "      <td>181.43</td>\n",
       "    </tr>\n",
       "    <tr>\n",
       "      <th>10</th>\n",
       "      <td>XOne</td>\n",
       "      <td>159.32</td>\n",
       "    </tr>\n",
       "    <tr>\n",
       "      <th>0</th>\n",
       "      <td>3DS</td>\n",
       "      <td>143.25</td>\n",
       "    </tr>\n",
       "    <tr>\n",
       "      <th>9</th>\n",
       "      <td>X360</td>\n",
       "      <td>136.80</td>\n",
       "    </tr>\n",
       "    <tr>\n",
       "      <th>8</th>\n",
       "      <td>WiiU</td>\n",
       "      <td>64.63</td>\n",
       "    </tr>\n",
       "    <tr>\n",
       "      <th>2</th>\n",
       "      <td>PC</td>\n",
       "      <td>39.43</td>\n",
       "    </tr>\n",
       "    <tr>\n",
       "      <th>6</th>\n",
       "      <td>PSV</td>\n",
       "      <td>32.99</td>\n",
       "    </tr>\n",
       "    <tr>\n",
       "      <th>7</th>\n",
       "      <td>Wii</td>\n",
       "      <td>13.66</td>\n",
       "    </tr>\n",
       "    <tr>\n",
       "      <th>5</th>\n",
       "      <td>PSP</td>\n",
       "      <td>3.50</td>\n",
       "    </tr>\n",
       "    <tr>\n",
       "      <th>1</th>\n",
       "      <td>DS</td>\n",
       "      <td>1.54</td>\n",
       "    </tr>\n",
       "  </tbody>\n",
       "</table>\n",
       "</div>"
      ],
      "text/plain": [
       "   platform  total_sales\n",
       "4       PS4       314.14\n",
       "3       PS3       181.43\n",
       "10     XOne       159.32\n",
       "0       3DS       143.25\n",
       "9      X360       136.80\n",
       "8      WiiU        64.63\n",
       "2        PC        39.43\n",
       "6       PSV        32.99\n",
       "7       Wii        13.66\n",
       "5       PSP         3.50\n",
       "1        DS         1.54"
      ]
     },
     "metadata": {},
     "output_type": "display_data"
    },
    {
     "data": {
      "image/png": "[encoded data removed]",
      "text/plain": [
       "<Figure size 1440x720 with 1 Axes>"
      ]
     },
     "metadata": {
      "needs_background": "light"
     },
     "output_type": "display_data"
    },
    {
     "data": {
      "image/png": "[encoded data removed]",
      "text/plain": [
       "<Figure size 1440x720 with 1 Axes>"
      ]
     },
     "metadata": {
      "needs_background": "light"
     },
     "output_type": "display_data"
    }
   ],
   "source": [
    "# Create pivot table with total sales for filtered dataframe\n",
    "filt_tab = df_filtered.pivot_table(index='platform', values='total_sales', aggfunc='sum').reset_index().sort_values(by='total_sales', ascending=False)\n",
    "display(filt_tab)\n",
    "filt_tab.plot(kind='bar', y='total_sales', x='platform', figsize=(20,10))\n",
    "df_filtered.boxplot(by='platform', column=['total_sales'], figsize= (20,10))\n",
    "plt.ylim(-5, 5)\n",
    "plt.show()"
   ]
  },
  {
   "cell_type": "code",
   "execution_count": 28,
   "metadata": {},
   "outputs": [
    {
     "data": {
      "text/html": [
       "<div>\n",
       "<style scoped>\n",
       "    .dataframe tbody tr th:only-of-type {\n",
       "        vertical-align: middle;\n",
       "    }\n",
       "\n",
       "    .dataframe tbody tr th {\n",
       "        vertical-align: top;\n",
       "    }\n",
       "\n",
       "    .dataframe thead th {\n",
       "        text-align: right;\n",
       "    }\n",
       "</style>\n",
       "<table border=\"1\" class=\"dataframe\">\n",
       "  <thead>\n",
       "    <tr style=\"text-align: right;\">\n",
       "      <th>platform</th>\n",
       "      <th>3DS</th>\n",
       "      <th>DS</th>\n",
       "      <th>PC</th>\n",
       "      <th>PS3</th>\n",
       "      <th>PS4</th>\n",
       "      <th>PSP</th>\n",
       "      <th>PSV</th>\n",
       "      <th>Wii</th>\n",
       "      <th>WiiU</th>\n",
       "      <th>X360</th>\n",
       "      <th>XOne</th>\n",
       "    </tr>\n",
       "    <tr>\n",
       "      <th>year_of_release</th>\n",
       "      <th></th>\n",
       "      <th></th>\n",
       "      <th></th>\n",
       "      <th></th>\n",
       "      <th></th>\n",
       "      <th></th>\n",
       "      <th></th>\n",
       "      <th></th>\n",
       "      <th></th>\n",
       "      <th></th>\n",
       "      <th></th>\n",
       "    </tr>\n",
       "  </thead>\n",
       "  <tbody>\n",
       "    <tr>\n",
       "      <th>2013</th>\n",
       "      <td>56.57</td>\n",
       "      <td>1.54</td>\n",
       "      <td>12.38</td>\n",
       "      <td>113.25</td>\n",
       "      <td>25.99</td>\n",
       "      <td>3.14</td>\n",
       "      <td>10.59</td>\n",
       "      <td>8.59</td>\n",
       "      <td>21.65</td>\n",
       "      <td>88.58</td>\n",
       "      <td>18.96</td>\n",
       "    </tr>\n",
       "    <tr>\n",
       "      <th>2014</th>\n",
       "      <td>43.76</td>\n",
       "      <td>NaN</td>\n",
       "      <td>13.28</td>\n",
       "      <td>47.76</td>\n",
       "      <td>100.00</td>\n",
       "      <td>0.24</td>\n",
       "      <td>11.90</td>\n",
       "      <td>3.75</td>\n",
       "      <td>22.03</td>\n",
       "      <td>34.74</td>\n",
       "      <td>54.07</td>\n",
       "    </tr>\n",
       "    <tr>\n",
       "      <th>2015</th>\n",
       "      <td>27.78</td>\n",
       "      <td>NaN</td>\n",
       "      <td>8.52</td>\n",
       "      <td>16.82</td>\n",
       "      <td>118.90</td>\n",
       "      <td>0.12</td>\n",
       "      <td>6.25</td>\n",
       "      <td>1.14</td>\n",
       "      <td>16.35</td>\n",
       "      <td>11.96</td>\n",
       "      <td>60.14</td>\n",
       "    </tr>\n",
       "    <tr>\n",
       "      <th>2016</th>\n",
       "      <td>15.14</td>\n",
       "      <td>NaN</td>\n",
       "      <td>5.25</td>\n",
       "      <td>3.60</td>\n",
       "      <td>69.25</td>\n",
       "      <td>NaN</td>\n",
       "      <td>4.25</td>\n",
       "      <td>0.18</td>\n",
       "      <td>4.60</td>\n",
       "      <td>1.52</td>\n",
       "      <td>26.15</td>\n",
       "    </tr>\n",
       "  </tbody>\n",
       "</table>\n",
       "</div>"
      ],
      "text/plain": [
       "platform           3DS    DS     PC     PS3     PS4   PSP    PSV   Wii   WiiU  \\\n",
       "year_of_release                                                                 \n",
       "2013             56.57  1.54  12.38  113.25   25.99  3.14  10.59  8.59  21.65   \n",
       "2014             43.76   NaN  13.28   47.76  100.00  0.24  11.90  3.75  22.03   \n",
       "2015             27.78   NaN   8.52   16.82  118.90  0.12   6.25  1.14  16.35   \n",
       "2016             15.14   NaN   5.25    3.60   69.25   NaN   4.25  0.18   4.60   \n",
       "\n",
       "platform          X360   XOne  \n",
       "year_of_release                \n",
       "2013             88.58  18.96  \n",
       "2014             34.74  54.07  \n",
       "2015             11.96  60.14  \n",
       "2016              1.52  26.15  "
      ]
     },
     "metadata": {},
     "output_type": "display_data"
    }
   ],
   "source": [
    "# Create pivot table with total yearly sales for each platform\n",
    "filt_year_tab = df_filtered.pivot_table(index='year_of_release', columns='platform', values='total_sales', aggfunc='sum')\n",
    "display(filt_year_tab)"
   ]
  },
  {
   "cell_type": "markdown",
   "metadata": {},
   "source": [
    "From our tables we can see that PS4, PS3 and XOne are the leading platforms in terms of modern day sales. However, when we look at the yearky sales for each platform, it seems that videogame sales dropped this year with an observed decrease accross all platforms. PS4, XOne and 3DS still show strong numbers while the rest are dwindling. They could possibly be at the end of their lifespan as is the case for the PS3."
   ]
  },
  {
   "cell_type": "markdown",
   "metadata": {},
   "source": [
    "<div class=\"alert alert-block alert-success\">\n",
    "<b>Reviewer's comment</b> <a class=\"tocSkip\"></a>\n",
    "\n",
    "Like your usage of pivot_tables) "
   ]
  },
  {
   "cell_type": "markdown",
   "metadata": {},
   "source": [
    "### Reviews and sales"
   ]
  },
  {
   "cell_type": "code",
   "execution_count": 29,
   "metadata": {},
   "outputs": [
    {
     "data": {
      "text/html": [
       "<div>\n",
       "<style scoped>\n",
       "    .dataframe tbody tr th:only-of-type {\n",
       "        vertical-align: middle;\n",
       "    }\n",
       "\n",
       "    .dataframe tbody tr th {\n",
       "        vertical-align: top;\n",
       "    }\n",
       "\n",
       "    .dataframe thead th {\n",
       "        text-align: right;\n",
       "    }\n",
       "</style>\n",
       "<table border=\"1\" class=\"dataframe\">\n",
       "  <thead>\n",
       "    <tr style=\"text-align: right;\">\n",
       "      <th></th>\n",
       "      <th>critic_score</th>\n",
       "      <th>total_sales</th>\n",
       "    </tr>\n",
       "  </thead>\n",
       "  <tbody>\n",
       "    <tr>\n",
       "      <th>0</th>\n",
       "      <td>19.0</td>\n",
       "      <td>0.12</td>\n",
       "    </tr>\n",
       "    <tr>\n",
       "      <th>1</th>\n",
       "      <td>25.0</td>\n",
       "      <td>0.06</td>\n",
       "    </tr>\n",
       "    <tr>\n",
       "      <th>2</th>\n",
       "      <td>31.0</td>\n",
       "      <td>0.02</td>\n",
       "    </tr>\n",
       "    <tr>\n",
       "      <th>3</th>\n",
       "      <td>32.0</td>\n",
       "      <td>0.20</td>\n",
       "    </tr>\n",
       "    <tr>\n",
       "      <th>4</th>\n",
       "      <td>38.0</td>\n",
       "      <td>0.16</td>\n",
       "    </tr>\n",
       "    <tr>\n",
       "      <th>5</th>\n",
       "      <td>42.0</td>\n",
       "      <td>0.07</td>\n",
       "    </tr>\n",
       "    <tr>\n",
       "      <th>6</th>\n",
       "      <td>43.0</td>\n",
       "      <td>0.29</td>\n",
       "    </tr>\n",
       "    <tr>\n",
       "      <th>7</th>\n",
       "      <td>44.0</td>\n",
       "      <td>0.09</td>\n",
       "    </tr>\n",
       "    <tr>\n",
       "      <th>8</th>\n",
       "      <td>45.0</td>\n",
       "      <td>0.14</td>\n",
       "    </tr>\n",
       "    <tr>\n",
       "      <th>9</th>\n",
       "      <td>47.0</td>\n",
       "      <td>0.41</td>\n",
       "    </tr>\n",
       "    <tr>\n",
       "      <th>10</th>\n",
       "      <td>48.0</td>\n",
       "      <td>0.36</td>\n",
       "    </tr>\n",
       "    <tr>\n",
       "      <th>11</th>\n",
       "      <td>49.0</td>\n",
       "      <td>0.01</td>\n",
       "    </tr>\n",
       "    <tr>\n",
       "      <th>12</th>\n",
       "      <td>51.0</td>\n",
       "      <td>0.01</td>\n",
       "    </tr>\n",
       "    <tr>\n",
       "      <th>13</th>\n",
       "      <td>52.0</td>\n",
       "      <td>0.07</td>\n",
       "    </tr>\n",
       "    <tr>\n",
       "      <th>14</th>\n",
       "      <td>53.0</td>\n",
       "      <td>0.33</td>\n",
       "    </tr>\n",
       "    <tr>\n",
       "      <th>15</th>\n",
       "      <td>54.0</td>\n",
       "      <td>1.73</td>\n",
       "    </tr>\n",
       "    <tr>\n",
       "      <th>16</th>\n",
       "      <td>55.0</td>\n",
       "      <td>0.02</td>\n",
       "    </tr>\n",
       "    <tr>\n",
       "      <th>17</th>\n",
       "      <td>57.0</td>\n",
       "      <td>0.27</td>\n",
       "    </tr>\n",
       "    <tr>\n",
       "      <th>18</th>\n",
       "      <td>58.0</td>\n",
       "      <td>0.19</td>\n",
       "    </tr>\n",
       "    <tr>\n",
       "      <th>19</th>\n",
       "      <td>59.0</td>\n",
       "      <td>1.19</td>\n",
       "    </tr>\n",
       "    <tr>\n",
       "      <th>20</th>\n",
       "      <td>60.0</td>\n",
       "      <td>1.04</td>\n",
       "    </tr>\n",
       "    <tr>\n",
       "      <th>21</th>\n",
       "      <td>61.0</td>\n",
       "      <td>2.27</td>\n",
       "    </tr>\n",
       "    <tr>\n",
       "      <th>22</th>\n",
       "      <td>62.0</td>\n",
       "      <td>1.46</td>\n",
       "    </tr>\n",
       "    <tr>\n",
       "      <th>23</th>\n",
       "      <td>63.0</td>\n",
       "      <td>2.36</td>\n",
       "    </tr>\n",
       "    <tr>\n",
       "      <th>24</th>\n",
       "      <td>64.0</td>\n",
       "      <td>0.24</td>\n",
       "    </tr>\n",
       "    <tr>\n",
       "      <th>25</th>\n",
       "      <td>65.0</td>\n",
       "      <td>0.78</td>\n",
       "    </tr>\n",
       "    <tr>\n",
       "      <th>26</th>\n",
       "      <td>66.0</td>\n",
       "      <td>0.95</td>\n",
       "    </tr>\n",
       "    <tr>\n",
       "      <th>27</th>\n",
       "      <td>67.0</td>\n",
       "      <td>1.06</td>\n",
       "    </tr>\n",
       "    <tr>\n",
       "      <th>28</th>\n",
       "      <td>68.0</td>\n",
       "      <td>2.59</td>\n",
       "    </tr>\n",
       "    <tr>\n",
       "      <th>29</th>\n",
       "      <td>69.0</td>\n",
       "      <td>3.01</td>\n",
       "    </tr>\n",
       "    <tr>\n",
       "      <th>30</th>\n",
       "      <td>70.0</td>\n",
       "      <td>6.03</td>\n",
       "    </tr>\n",
       "    <tr>\n",
       "      <th>31</th>\n",
       "      <td>71.0</td>\n",
       "      <td>5.52</td>\n",
       "    </tr>\n",
       "    <tr>\n",
       "      <th>32</th>\n",
       "      <td>72.0</td>\n",
       "      <td>2.49</td>\n",
       "    </tr>\n",
       "    <tr>\n",
       "      <th>33</th>\n",
       "      <td>73.0</td>\n",
       "      <td>13.07</td>\n",
       "    </tr>\n",
       "    <tr>\n",
       "      <th>34</th>\n",
       "      <td>74.0</td>\n",
       "      <td>3.71</td>\n",
       "    </tr>\n",
       "    <tr>\n",
       "      <th>35</th>\n",
       "      <td>75.0</td>\n",
       "      <td>5.25</td>\n",
       "    </tr>\n",
       "    <tr>\n",
       "      <th>36</th>\n",
       "      <td>76.0</td>\n",
       "      <td>13.42</td>\n",
       "    </tr>\n",
       "    <tr>\n",
       "      <th>37</th>\n",
       "      <td>77.0</td>\n",
       "      <td>6.07</td>\n",
       "    </tr>\n",
       "    <tr>\n",
       "      <th>38</th>\n",
       "      <td>78.0</td>\n",
       "      <td>6.50</td>\n",
       "    </tr>\n",
       "    <tr>\n",
       "      <th>39</th>\n",
       "      <td>79.0</td>\n",
       "      <td>9.39</td>\n",
       "    </tr>\n",
       "    <tr>\n",
       "      <th>40</th>\n",
       "      <td>80.0</td>\n",
       "      <td>15.90</td>\n",
       "    </tr>\n",
       "    <tr>\n",
       "      <th>41</th>\n",
       "      <td>81.0</td>\n",
       "      <td>3.76</td>\n",
       "    </tr>\n",
       "    <tr>\n",
       "      <th>42</th>\n",
       "      <td>82.0</td>\n",
       "      <td>18.10</td>\n",
       "    </tr>\n",
       "    <tr>\n",
       "      <th>43</th>\n",
       "      <td>83.0</td>\n",
       "      <td>23.82</td>\n",
       "    </tr>\n",
       "    <tr>\n",
       "      <th>44</th>\n",
       "      <td>84.0</td>\n",
       "      <td>3.71</td>\n",
       "    </tr>\n",
       "    <tr>\n",
       "      <th>45</th>\n",
       "      <td>85.0</td>\n",
       "      <td>18.30</td>\n",
       "    </tr>\n",
       "    <tr>\n",
       "      <th>46</th>\n",
       "      <td>86.0</td>\n",
       "      <td>6.67</td>\n",
       "    </tr>\n",
       "    <tr>\n",
       "      <th>47</th>\n",
       "      <td>87.0</td>\n",
       "      <td>18.99</td>\n",
       "    </tr>\n",
       "    <tr>\n",
       "      <th>48</th>\n",
       "      <td>88.0</td>\n",
       "      <td>6.75</td>\n",
       "    </tr>\n",
       "    <tr>\n",
       "      <th>49</th>\n",
       "      <td>89.0</td>\n",
       "      <td>4.43</td>\n",
       "    </tr>\n",
       "    <tr>\n",
       "      <th>50</th>\n",
       "      <td>90.0</td>\n",
       "      <td>3.23</td>\n",
       "    </tr>\n",
       "    <tr>\n",
       "      <th>51</th>\n",
       "      <td>92.0</td>\n",
       "      <td>6.45</td>\n",
       "    </tr>\n",
       "    <tr>\n",
       "      <th>52</th>\n",
       "      <td>93.0</td>\n",
       "      <td>8.81</td>\n",
       "    </tr>\n",
       "    <tr>\n",
       "      <th>53</th>\n",
       "      <td>97.0</td>\n",
       "      <td>12.62</td>\n",
       "    </tr>\n",
       "  </tbody>\n",
       "</table>\n",
       "</div>"
      ],
      "text/plain": [
       "    critic_score  total_sales\n",
       "0           19.0         0.12\n",
       "1           25.0         0.06\n",
       "2           31.0         0.02\n",
       "3           32.0         0.20\n",
       "4           38.0         0.16\n",
       "5           42.0         0.07\n",
       "6           43.0         0.29\n",
       "7           44.0         0.09\n",
       "8           45.0         0.14\n",
       "9           47.0         0.41\n",
       "10          48.0         0.36\n",
       "11          49.0         0.01\n",
       "12          51.0         0.01\n",
       "13          52.0         0.07\n",
       "14          53.0         0.33\n",
       "15          54.0         1.73\n",
       "16          55.0         0.02\n",
       "17          57.0         0.27\n",
       "18          58.0         0.19\n",
       "19          59.0         1.19\n",
       "20          60.0         1.04\n",
       "21          61.0         2.27\n",
       "22          62.0         1.46\n",
       "23          63.0         2.36\n",
       "24          64.0         0.24\n",
       "25          65.0         0.78\n",
       "26          66.0         0.95\n",
       "27          67.0         1.06\n",
       "28          68.0         2.59\n",
       "29          69.0         3.01\n",
       "30          70.0         6.03\n",
       "31          71.0         5.52\n",
       "32          72.0         2.49\n",
       "33          73.0        13.07\n",
       "34          74.0         3.71\n",
       "35          75.0         5.25\n",
       "36          76.0        13.42\n",
       "37          77.0         6.07\n",
       "38          78.0         6.50\n",
       "39          79.0         9.39\n",
       "40          80.0        15.90\n",
       "41          81.0         3.76\n",
       "42          82.0        18.10\n",
       "43          83.0        23.82\n",
       "44          84.0         3.71\n",
       "45          85.0        18.30\n",
       "46          86.0         6.67\n",
       "47          87.0        18.99\n",
       "48          88.0         6.75\n",
       "49          89.0         4.43\n",
       "50          90.0         3.23\n",
       "51          92.0         6.45\n",
       "52          93.0         8.81\n",
       "53          97.0        12.62"
      ]
     },
     "metadata": {},
     "output_type": "display_data"
    }
   ],
   "source": [
    "# Check distribution of professional reviews and sales for PS4\n",
    "prof_rev_sales = df_filtered[df_filtered['platform'] == 'PS4'].pivot_table(index=['critic_score'], values='total_sales', aggfunc='sum').reset_index()\n",
    "display(prof_rev_sales)"
   ]
  },
  {
   "cell_type": "code",
   "execution_count": 30,
   "metadata": {},
   "outputs": [
    {
     "data": {
      "text/html": [
       "<div>\n",
       "<style scoped>\n",
       "    .dataframe tbody tr th:only-of-type {\n",
       "        vertical-align: middle;\n",
       "    }\n",
       "\n",
       "    .dataframe tbody tr th {\n",
       "        vertical-align: top;\n",
       "    }\n",
       "\n",
       "    .dataframe thead th {\n",
       "        text-align: right;\n",
       "    }\n",
       "</style>\n",
       "<table border=\"1\" class=\"dataframe\">\n",
       "  <thead>\n",
       "    <tr style=\"text-align: right;\">\n",
       "      <th></th>\n",
       "      <th>user_score</th>\n",
       "      <th>total_sales</th>\n",
       "    </tr>\n",
       "  </thead>\n",
       "  <tbody>\n",
       "    <tr>\n",
       "      <th>0</th>\n",
       "      <td>1.5</td>\n",
       "      <td>0.20</td>\n",
       "    </tr>\n",
       "    <tr>\n",
       "      <th>1</th>\n",
       "      <td>1.9</td>\n",
       "      <td>0.06</td>\n",
       "    </tr>\n",
       "    <tr>\n",
       "      <th>2</th>\n",
       "      <td>2.0</td>\n",
       "      <td>0.23</td>\n",
       "    </tr>\n",
       "    <tr>\n",
       "      <th>3</th>\n",
       "      <td>2.3</td>\n",
       "      <td>0.01</td>\n",
       "    </tr>\n",
       "    <tr>\n",
       "      <th>4</th>\n",
       "      <td>2.7</td>\n",
       "      <td>0.24</td>\n",
       "    </tr>\n",
       "    <tr>\n",
       "      <th>5</th>\n",
       "      <td>2.9</td>\n",
       "      <td>0.16</td>\n",
       "    </tr>\n",
       "    <tr>\n",
       "      <th>6</th>\n",
       "      <td>3.0</td>\n",
       "      <td>0.06</td>\n",
       "    </tr>\n",
       "    <tr>\n",
       "      <th>7</th>\n",
       "      <td>3.3</td>\n",
       "      <td>0.30</td>\n",
       "    </tr>\n",
       "    <tr>\n",
       "      <th>8</th>\n",
       "      <td>3.4</td>\n",
       "      <td>5.49</td>\n",
       "    </tr>\n",
       "    <tr>\n",
       "      <th>9</th>\n",
       "      <td>3.5</td>\n",
       "      <td>0.05</td>\n",
       "    </tr>\n",
       "    <tr>\n",
       "      <th>10</th>\n",
       "      <td>3.6</td>\n",
       "      <td>0.60</td>\n",
       "    </tr>\n",
       "    <tr>\n",
       "      <th>11</th>\n",
       "      <td>3.7</td>\n",
       "      <td>4.34</td>\n",
       "    </tr>\n",
       "    <tr>\n",
       "      <th>12</th>\n",
       "      <td>3.8</td>\n",
       "      <td>0.40</td>\n",
       "    </tr>\n",
       "    <tr>\n",
       "      <th>13</th>\n",
       "      <td>4.1</td>\n",
       "      <td>0.25</td>\n",
       "    </tr>\n",
       "    <tr>\n",
       "      <th>14</th>\n",
       "      <td>4.3</td>\n",
       "      <td>9.55</td>\n",
       "    </tr>\n",
       "    <tr>\n",
       "      <th>15</th>\n",
       "      <td>4.5</td>\n",
       "      <td>1.71</td>\n",
       "    </tr>\n",
       "    <tr>\n",
       "      <th>16</th>\n",
       "      <td>4.7</td>\n",
       "      <td>0.36</td>\n",
       "    </tr>\n",
       "    <tr>\n",
       "      <th>17</th>\n",
       "      <td>4.9</td>\n",
       "      <td>5.70</td>\n",
       "    </tr>\n",
       "    <tr>\n",
       "      <th>18</th>\n",
       "      <td>5.0</td>\n",
       "      <td>9.71</td>\n",
       "    </tr>\n",
       "    <tr>\n",
       "      <th>19</th>\n",
       "      <td>5.1</td>\n",
       "      <td>2.99</td>\n",
       "    </tr>\n",
       "    <tr>\n",
       "      <th>20</th>\n",
       "      <td>5.2</td>\n",
       "      <td>1.29</td>\n",
       "    </tr>\n",
       "    <tr>\n",
       "      <th>21</th>\n",
       "      <td>5.4</td>\n",
       "      <td>1.72</td>\n",
       "    </tr>\n",
       "    <tr>\n",
       "      <th>22</th>\n",
       "      <td>5.5</td>\n",
       "      <td>1.29</td>\n",
       "    </tr>\n",
       "    <tr>\n",
       "      <th>23</th>\n",
       "      <td>5.6</td>\n",
       "      <td>0.68</td>\n",
       "    </tr>\n",
       "    <tr>\n",
       "      <th>24</th>\n",
       "      <td>5.7</td>\n",
       "      <td>14.09</td>\n",
       "    </tr>\n",
       "    <tr>\n",
       "      <th>25</th>\n",
       "      <td>5.8</td>\n",
       "      <td>0.74</td>\n",
       "    </tr>\n",
       "    <tr>\n",
       "      <th>26</th>\n",
       "      <td>5.9</td>\n",
       "      <td>3.67</td>\n",
       "    </tr>\n",
       "    <tr>\n",
       "      <th>27</th>\n",
       "      <td>6.0</td>\n",
       "      <td>2.03</td>\n",
       "    </tr>\n",
       "    <tr>\n",
       "      <th>28</th>\n",
       "      <td>6.1</td>\n",
       "      <td>13.45</td>\n",
       "    </tr>\n",
       "    <tr>\n",
       "      <th>29</th>\n",
       "      <td>6.2</td>\n",
       "      <td>5.20</td>\n",
       "    </tr>\n",
       "    <tr>\n",
       "      <th>30</th>\n",
       "      <td>6.3</td>\n",
       "      <td>10.80</td>\n",
       "    </tr>\n",
       "    <tr>\n",
       "      <th>31</th>\n",
       "      <td>6.4</td>\n",
       "      <td>0.37</td>\n",
       "    </tr>\n",
       "    <tr>\n",
       "      <th>32</th>\n",
       "      <td>6.5</td>\n",
       "      <td>12.73</td>\n",
       "    </tr>\n",
       "    <tr>\n",
       "      <th>33</th>\n",
       "      <td>6.6</td>\n",
       "      <td>4.39</td>\n",
       "    </tr>\n",
       "    <tr>\n",
       "      <th>34</th>\n",
       "      <td>6.7</td>\n",
       "      <td>5.97</td>\n",
       "    </tr>\n",
       "    <tr>\n",
       "      <th>35</th>\n",
       "      <td>6.8</td>\n",
       "      <td>7.45</td>\n",
       "    </tr>\n",
       "    <tr>\n",
       "      <th>36</th>\n",
       "      <td>6.9</td>\n",
       "      <td>4.68</td>\n",
       "    </tr>\n",
       "    <tr>\n",
       "      <th>37</th>\n",
       "      <td>7.0</td>\n",
       "      <td>8.16</td>\n",
       "    </tr>\n",
       "    <tr>\n",
       "      <th>38</th>\n",
       "      <td>7.1</td>\n",
       "      <td>6.56</td>\n",
       "    </tr>\n",
       "    <tr>\n",
       "      <th>39</th>\n",
       "      <td>7.2</td>\n",
       "      <td>1.25</td>\n",
       "    </tr>\n",
       "    <tr>\n",
       "      <th>40</th>\n",
       "      <td>7.3</td>\n",
       "      <td>4.50</td>\n",
       "    </tr>\n",
       "    <tr>\n",
       "      <th>41</th>\n",
       "      <td>7.4</td>\n",
       "      <td>4.17</td>\n",
       "    </tr>\n",
       "    <tr>\n",
       "      <th>42</th>\n",
       "      <td>7.5</td>\n",
       "      <td>1.17</td>\n",
       "    </tr>\n",
       "    <tr>\n",
       "      <th>43</th>\n",
       "      <td>7.6</td>\n",
       "      <td>5.95</td>\n",
       "    </tr>\n",
       "    <tr>\n",
       "      <th>44</th>\n",
       "      <td>7.7</td>\n",
       "      <td>12.34</td>\n",
       "    </tr>\n",
       "    <tr>\n",
       "      <th>45</th>\n",
       "      <td>7.8</td>\n",
       "      <td>7.31</td>\n",
       "    </tr>\n",
       "    <tr>\n",
       "      <th>46</th>\n",
       "      <td>7.9</td>\n",
       "      <td>10.92</td>\n",
       "    </tr>\n",
       "    <tr>\n",
       "      <th>47</th>\n",
       "      <td>8.0</td>\n",
       "      <td>1.50</td>\n",
       "    </tr>\n",
       "    <tr>\n",
       "      <th>48</th>\n",
       "      <td>8.1</td>\n",
       "      <td>12.05</td>\n",
       "    </tr>\n",
       "    <tr>\n",
       "      <th>49</th>\n",
       "      <td>8.2</td>\n",
       "      <td>6.54</td>\n",
       "    </tr>\n",
       "    <tr>\n",
       "      <th>50</th>\n",
       "      <td>8.3</td>\n",
       "      <td>13.05</td>\n",
       "    </tr>\n",
       "    <tr>\n",
       "      <th>51</th>\n",
       "      <td>8.4</td>\n",
       "      <td>5.06</td>\n",
       "    </tr>\n",
       "    <tr>\n",
       "      <th>52</th>\n",
       "      <td>8.5</td>\n",
       "      <td>1.80</td>\n",
       "    </tr>\n",
       "    <tr>\n",
       "      <th>53</th>\n",
       "      <td>8.6</td>\n",
       "      <td>3.07</td>\n",
       "    </tr>\n",
       "    <tr>\n",
       "      <th>54</th>\n",
       "      <td>8.7</td>\n",
       "      <td>0.93</td>\n",
       "    </tr>\n",
       "    <tr>\n",
       "      <th>55</th>\n",
       "      <td>8.8</td>\n",
       "      <td>1.66</td>\n",
       "    </tr>\n",
       "    <tr>\n",
       "      <th>56</th>\n",
       "      <td>9.2</td>\n",
       "      <td>3.97</td>\n",
       "    </tr>\n",
       "  </tbody>\n",
       "</table>\n",
       "</div>"
      ],
      "text/plain": [
       "    user_score  total_sales\n",
       "0          1.5         0.20\n",
       "1          1.9         0.06\n",
       "2          2.0         0.23\n",
       "3          2.3         0.01\n",
       "4          2.7         0.24\n",
       "5          2.9         0.16\n",
       "6          3.0         0.06\n",
       "7          3.3         0.30\n",
       "8          3.4         5.49\n",
       "9          3.5         0.05\n",
       "10         3.6         0.60\n",
       "11         3.7         4.34\n",
       "12         3.8         0.40\n",
       "13         4.1         0.25\n",
       "14         4.3         9.55\n",
       "15         4.5         1.71\n",
       "16         4.7         0.36\n",
       "17         4.9         5.70\n",
       "18         5.0         9.71\n",
       "19         5.1         2.99\n",
       "20         5.2         1.29\n",
       "21         5.4         1.72\n",
       "22         5.5         1.29\n",
       "23         5.6         0.68\n",
       "24         5.7        14.09\n",
       "25         5.8         0.74\n",
       "26         5.9         3.67\n",
       "27         6.0         2.03\n",
       "28         6.1        13.45\n",
       "29         6.2         5.20\n",
       "30         6.3        10.80\n",
       "31         6.4         0.37\n",
       "32         6.5        12.73\n",
       "33         6.6         4.39\n",
       "34         6.7         5.97\n",
       "35         6.8         7.45\n",
       "36         6.9         4.68\n",
       "37         7.0         8.16\n",
       "38         7.1         6.56\n",
       "39         7.2         1.25\n",
       "40         7.3         4.50\n",
       "41         7.4         4.17\n",
       "42         7.5         1.17\n",
       "43         7.6         5.95\n",
       "44         7.7        12.34\n",
       "45         7.8         7.31\n",
       "46         7.9        10.92\n",
       "47         8.0         1.50\n",
       "48         8.1        12.05\n",
       "49         8.2         6.54\n",
       "50         8.3        13.05\n",
       "51         8.4         5.06\n",
       "52         8.5         1.80\n",
       "53         8.6         3.07\n",
       "54         8.7         0.93\n",
       "55         8.8         1.66\n",
       "56         9.2         3.97"
      ]
     },
     "metadata": {},
     "output_type": "display_data"
    }
   ],
   "source": [
    "# Check distribution of user reviews and sales for PS4\n",
    "user_rev_sales = df_filtered[df_filtered['platform'] == 'PS4'].pivot_table(index=['user_score'], values='total_sales', aggfunc='sum').reset_index()\n",
    "user_rev_sales = user_rev_sales[user_rev_sales['user_score'] < 101]\n",
    "display(user_rev_sales)"
   ]
  },
  {
   "cell_type": "code",
   "execution_count": 31,
   "metadata": {},
   "outputs": [
    {
     "data": {
      "image/png": "[encoded data removed]",
      "text/plain": [
       "<Figure size 1440x720 with 1 Axes>"
      ]
     },
     "metadata": {
      "needs_background": "light"
     },
     "output_type": "display_data"
    },
    {
     "name": "stdout",
     "output_type": "stream",
     "text": [
      "Pearson Correlation Coefficient: 0.6588377171476643\n"
     ]
    }
   ],
   "source": [
    "# Build a scatterplot for professional reviews and sales and calculate correlation\n",
    "prof_rev_sales.plot(kind='scatter', y='total_sales', x='critic_score', figsize= (20,10))\n",
    "plt.show()\n",
    "\n",
    "print('Pearson Correlation Coefficient:', prof_rev_sales['total_sales'].corr(prof_rev_sales['critic_score']))"
   ]
  },
  {
   "cell_type": "code",
   "execution_count": 32,
   "metadata": {
    "scrolled": false
   },
   "outputs": [
    {
     "data": {
      "image/png": "[encoded data removed]",
      "text/plain": [
       "<Figure size 1440x720 with 1 Axes>"
      ]
     },
     "metadata": {
      "needs_background": "light"
     },
     "output_type": "display_data"
    },
    {
     "name": "stdout",
     "output_type": "stream",
     "text": [
      "Pearson Correlation Coefficient: 0.4185021550618359\n"
     ]
    }
   ],
   "source": [
    "# Build a scatterplot for user reviews and sales and calculate correlation\n",
    "user_rev_sales.plot(kind='scatter', y='total_sales', x='user_score', figsize= (20,10))\n",
    "plt.show()\n",
    "print('Pearson Correlation Coefficient:', user_rev_sales['total_sales'].corr(user_rev_sales['user_score']))"
   ]
  },
  {
   "cell_type": "markdown",
   "metadata": {},
   "source": [
    "From our analysis, we can confidently say that professional reviews does affect total sales of games on the PS4 platform. However, user reviews doesn't seem to have a direct effect on total sales as there is a positive but weak correlation between them."
   ]
  },
  {
   "cell_type": "markdown",
   "metadata": {},
   "source": [
    "<div class=\"alert alert-block alert-success\">\n",
    "<b>Reviewer's comment</b> <a class=\"tocSkip\"></a>\n",
    "\n",
    "Correct correlations and interpretations)"
   ]
  },
  {
   "cell_type": "markdown",
   "metadata": {},
   "source": [
    "### Distribution of games by genre"
   ]
  },
  {
   "cell_type": "code",
   "execution_count": 33,
   "metadata": {},
   "outputs": [
    {
     "data": {
      "text/html": [
       "<div>\n",
       "<style scoped>\n",
       "    .dataframe tbody tr th:only-of-type {\n",
       "        vertical-align: middle;\n",
       "    }\n",
       "\n",
       "    .dataframe tbody tr th {\n",
       "        vertical-align: top;\n",
       "    }\n",
       "\n",
       "    .dataframe thead th {\n",
       "        text-align: right;\n",
       "    }\n",
       "</style>\n",
       "<table border=\"1\" class=\"dataframe\">\n",
       "  <thead>\n",
       "    <tr style=\"text-align: right;\">\n",
       "      <th></th>\n",
       "      <th>genre</th>\n",
       "      <th>total_sales</th>\n",
       "    </tr>\n",
       "  </thead>\n",
       "  <tbody>\n",
       "    <tr>\n",
       "      <th>0</th>\n",
       "      <td>Action</td>\n",
       "      <td>321.87</td>\n",
       "    </tr>\n",
       "    <tr>\n",
       "      <th>8</th>\n",
       "      <td>Shooter</td>\n",
       "      <td>232.98</td>\n",
       "    </tr>\n",
       "    <tr>\n",
       "      <th>10</th>\n",
       "      <td>Sports</td>\n",
       "      <td>150.65</td>\n",
       "    </tr>\n",
       "    <tr>\n",
       "      <th>7</th>\n",
       "      <td>Role-Playing</td>\n",
       "      <td>145.89</td>\n",
       "    </tr>\n",
       "    <tr>\n",
       "      <th>3</th>\n",
       "      <td>Misc</td>\n",
       "      <td>62.82</td>\n",
       "    </tr>\n",
       "    <tr>\n",
       "      <th>4</th>\n",
       "      <td>Platform</td>\n",
       "      <td>42.63</td>\n",
       "    </tr>\n",
       "    <tr>\n",
       "      <th>6</th>\n",
       "      <td>Racing</td>\n",
       "      <td>39.89</td>\n",
       "    </tr>\n",
       "    <tr>\n",
       "      <th>2</th>\n",
       "      <td>Fighting</td>\n",
       "      <td>35.31</td>\n",
       "    </tr>\n",
       "    <tr>\n",
       "      <th>1</th>\n",
       "      <td>Adventure</td>\n",
       "      <td>23.64</td>\n",
       "    </tr>\n",
       "    <tr>\n",
       "      <th>9</th>\n",
       "      <td>Simulation</td>\n",
       "      <td>21.76</td>\n",
       "    </tr>\n",
       "    <tr>\n",
       "      <th>11</th>\n",
       "      <td>Strategy</td>\n",
       "      <td>10.08</td>\n",
       "    </tr>\n",
       "    <tr>\n",
       "      <th>5</th>\n",
       "      <td>Puzzle</td>\n",
       "      <td>3.17</td>\n",
       "    </tr>\n",
       "  </tbody>\n",
       "</table>\n",
       "</div>"
      ],
      "text/plain": [
       "           genre  total_sales\n",
       "0         Action       321.87\n",
       "8        Shooter       232.98\n",
       "10        Sports       150.65\n",
       "7   Role-Playing       145.89\n",
       "3           Misc        62.82\n",
       "4       Platform        42.63\n",
       "6         Racing        39.89\n",
       "2       Fighting        35.31\n",
       "1      Adventure        23.64\n",
       "9     Simulation        21.76\n",
       "11      Strategy        10.08\n",
       "5         Puzzle         3.17"
      ]
     },
     "metadata": {},
     "output_type": "display_data"
    }
   ],
   "source": [
    "# Create pivot table showing distribution of games by genre\n",
    "gen_tab = df_filtered.pivot_table(index='genre', values='total_sales', aggfunc='sum').reset_index().sort_values(by='total_sales', ascending=False)\n",
    "display(gen_tab)"
   ]
  },
  {
   "cell_type": "markdown",
   "metadata": {},
   "source": [
    "From our table, the most profitable genres seem to be `Action`, `Shooter` and `Sports` accross all platforms. The lowest sales fall within the `Puzzle` , `Strategy` and `Simulation` genres."
   ]
  },
  {
   "cell_type": "markdown",
   "metadata": {},
   "source": [
    "## User Profile for each region"
   ]
  },
  {
   "cell_type": "markdown",
   "metadata": {},
   "source": [
    "### Visualise table"
   ]
  },
  {
   "cell_type": "code",
   "execution_count": 34,
   "metadata": {},
   "outputs": [
    {
     "data": {
      "text/html": [
       "<div>\n",
       "<style scoped>\n",
       "    .dataframe tbody tr th:only-of-type {\n",
       "        vertical-align: middle;\n",
       "    }\n",
       "\n",
       "    .dataframe tbody tr th {\n",
       "        vertical-align: top;\n",
       "    }\n",
       "\n",
       "    .dataframe thead th {\n",
       "        text-align: right;\n",
       "    }\n",
       "</style>\n",
       "<table border=\"1\" class=\"dataframe\">\n",
       "  <thead>\n",
       "    <tr style=\"text-align: right;\">\n",
       "      <th></th>\n",
       "      <th>name</th>\n",
       "      <th>platform</th>\n",
       "      <th>year_of_release</th>\n",
       "      <th>genre</th>\n",
       "      <th>na_sales</th>\n",
       "      <th>eu_sales</th>\n",
       "      <th>jp_sales</th>\n",
       "      <th>other_sales</th>\n",
       "      <th>critic_score</th>\n",
       "      <th>user_score</th>\n",
       "      <th>rating</th>\n",
       "      <th>total_sales</th>\n",
       "    </tr>\n",
       "  </thead>\n",
       "  <tbody>\n",
       "    <tr>\n",
       "      <th>16</th>\n",
       "      <td>Grand Theft Auto V</td>\n",
       "      <td>PS3</td>\n",
       "      <td>2013</td>\n",
       "      <td>Action</td>\n",
       "      <td>7.02</td>\n",
       "      <td>9.09</td>\n",
       "      <td>0.98</td>\n",
       "      <td>3.96</td>\n",
       "      <td>97.0</td>\n",
       "      <td>8.2</td>\n",
       "      <td>M</td>\n",
       "      <td>21.05</td>\n",
       "    </tr>\n",
       "    <tr>\n",
       "      <th>23</th>\n",
       "      <td>Grand Theft Auto V</td>\n",
       "      <td>X360</td>\n",
       "      <td>2013</td>\n",
       "      <td>Action</td>\n",
       "      <td>9.66</td>\n",
       "      <td>5.14</td>\n",
       "      <td>0.06</td>\n",
       "      <td>1.41</td>\n",
       "      <td>97.0</td>\n",
       "      <td>8.1</td>\n",
       "      <td>M</td>\n",
       "      <td>16.27</td>\n",
       "    </tr>\n",
       "    <tr>\n",
       "      <th>31</th>\n",
       "      <td>Call of Duty: Black Ops 3</td>\n",
       "      <td>PS4</td>\n",
       "      <td>2015</td>\n",
       "      <td>Shooter</td>\n",
       "      <td>6.03</td>\n",
       "      <td>5.86</td>\n",
       "      <td>0.36</td>\n",
       "      <td>2.38</td>\n",
       "      <td>NaN</td>\n",
       "      <td>101.0</td>\n",
       "      <td>M</td>\n",
       "      <td>14.63</td>\n",
       "    </tr>\n",
       "    <tr>\n",
       "      <th>33</th>\n",
       "      <td>Pokemon X/Pokemon Y</td>\n",
       "      <td>3DS</td>\n",
       "      <td>2013</td>\n",
       "      <td>Role-Playing</td>\n",
       "      <td>5.28</td>\n",
       "      <td>4.19</td>\n",
       "      <td>4.35</td>\n",
       "      <td>0.78</td>\n",
       "      <td>NaN</td>\n",
       "      <td>101.0</td>\n",
       "      <td>T</td>\n",
       "      <td>14.60</td>\n",
       "    </tr>\n",
       "    <tr>\n",
       "      <th>42</th>\n",
       "      <td>Grand Theft Auto V</td>\n",
       "      <td>PS4</td>\n",
       "      <td>2014</td>\n",
       "      <td>Action</td>\n",
       "      <td>3.96</td>\n",
       "      <td>6.31</td>\n",
       "      <td>0.38</td>\n",
       "      <td>1.97</td>\n",
       "      <td>97.0</td>\n",
       "      <td>8.3</td>\n",
       "      <td>M</td>\n",
       "      <td>12.62</td>\n",
       "    </tr>\n",
       "    <tr>\n",
       "      <th>...</th>\n",
       "      <td>...</td>\n",
       "      <td>...</td>\n",
       "      <td>...</td>\n",
       "      <td>...</td>\n",
       "      <td>...</td>\n",
       "      <td>...</td>\n",
       "      <td>...</td>\n",
       "      <td>...</td>\n",
       "      <td>...</td>\n",
       "      <td>...</td>\n",
       "      <td>...</td>\n",
       "      <td>...</td>\n",
       "    </tr>\n",
       "    <tr>\n",
       "      <th>16703</th>\n",
       "      <td>Strawberry Nauts</td>\n",
       "      <td>PSV</td>\n",
       "      <td>2016</td>\n",
       "      <td>Adventure</td>\n",
       "      <td>0.00</td>\n",
       "      <td>0.00</td>\n",
       "      <td>0.01</td>\n",
       "      <td>0.00</td>\n",
       "      <td>NaN</td>\n",
       "      <td>101.0</td>\n",
       "      <td>E</td>\n",
       "      <td>0.01</td>\n",
       "    </tr>\n",
       "    <tr>\n",
       "      <th>16707</th>\n",
       "      <td>Aiyoku no Eustia</td>\n",
       "      <td>PSV</td>\n",
       "      <td>2014</td>\n",
       "      <td>Misc</td>\n",
       "      <td>0.00</td>\n",
       "      <td>0.00</td>\n",
       "      <td>0.01</td>\n",
       "      <td>0.00</td>\n",
       "      <td>NaN</td>\n",
       "      <td>101.0</td>\n",
       "      <td>E</td>\n",
       "      <td>0.01</td>\n",
       "    </tr>\n",
       "    <tr>\n",
       "      <th>16710</th>\n",
       "      <td>Samurai Warriors: Sanada Maru</td>\n",
       "      <td>PS3</td>\n",
       "      <td>2016</td>\n",
       "      <td>Action</td>\n",
       "      <td>0.00</td>\n",
       "      <td>0.00</td>\n",
       "      <td>0.01</td>\n",
       "      <td>0.00</td>\n",
       "      <td>NaN</td>\n",
       "      <td>101.0</td>\n",
       "      <td>T</td>\n",
       "      <td>0.01</td>\n",
       "    </tr>\n",
       "    <tr>\n",
       "      <th>16712</th>\n",
       "      <td>Haitaka no Psychedelica</td>\n",
       "      <td>PSV</td>\n",
       "      <td>2016</td>\n",
       "      <td>Adventure</td>\n",
       "      <td>0.00</td>\n",
       "      <td>0.00</td>\n",
       "      <td>0.01</td>\n",
       "      <td>0.00</td>\n",
       "      <td>NaN</td>\n",
       "      <td>101.0</td>\n",
       "      <td>E</td>\n",
       "      <td>0.01</td>\n",
       "    </tr>\n",
       "    <tr>\n",
       "      <th>16714</th>\n",
       "      <td>Winning Post 8 2016</td>\n",
       "      <td>PSV</td>\n",
       "      <td>2016</td>\n",
       "      <td>Simulation</td>\n",
       "      <td>0.00</td>\n",
       "      <td>0.00</td>\n",
       "      <td>0.01</td>\n",
       "      <td>0.00</td>\n",
       "      <td>NaN</td>\n",
       "      <td>101.0</td>\n",
       "      <td>E</td>\n",
       "      <td>0.01</td>\n",
       "    </tr>\n",
       "  </tbody>\n",
       "</table>\n",
       "<p>2233 rows × 12 columns</p>\n",
       "</div>"
      ],
      "text/plain": [
       "                                name platform  year_of_release         genre  \\\n",
       "16                Grand Theft Auto V      PS3             2013        Action   \n",
       "23                Grand Theft Auto V     X360             2013        Action   \n",
       "31         Call of Duty: Black Ops 3      PS4             2015       Shooter   \n",
       "33               Pokemon X/Pokemon Y      3DS             2013  Role-Playing   \n",
       "42                Grand Theft Auto V      PS4             2014        Action   \n",
       "...                              ...      ...              ...           ...   \n",
       "16703               Strawberry Nauts      PSV             2016     Adventure   \n",
       "16707               Aiyoku no Eustia      PSV             2014          Misc   \n",
       "16710  Samurai Warriors: Sanada Maru      PS3             2016        Action   \n",
       "16712        Haitaka no Psychedelica      PSV             2016     Adventure   \n",
       "16714            Winning Post 8 2016      PSV             2016    Simulation   \n",
       "\n",
       "       na_sales  eu_sales  jp_sales  other_sales  critic_score  user_score  \\\n",
       "16         7.02      9.09      0.98         3.96          97.0         8.2   \n",
       "23         9.66      5.14      0.06         1.41          97.0         8.1   \n",
       "31         6.03      5.86      0.36         2.38           NaN       101.0   \n",
       "33         5.28      4.19      4.35         0.78           NaN       101.0   \n",
       "42         3.96      6.31      0.38         1.97          97.0         8.3   \n",
       "...         ...       ...       ...          ...           ...         ...   \n",
       "16703      0.00      0.00      0.01         0.00           NaN       101.0   \n",
       "16707      0.00      0.00      0.01         0.00           NaN       101.0   \n",
       "16710      0.00      0.00      0.01         0.00           NaN       101.0   \n",
       "16712      0.00      0.00      0.01         0.00           NaN       101.0   \n",
       "16714      0.00      0.00      0.01         0.00           NaN       101.0   \n",
       "\n",
       "      rating  total_sales  \n",
       "16         M        21.05  \n",
       "23         M        16.27  \n",
       "31         M        14.63  \n",
       "33         T        14.60  \n",
       "42         M        12.62  \n",
       "...      ...          ...  \n",
       "16703      E         0.01  \n",
       "16707      E         0.01  \n",
       "16710      T         0.01  \n",
       "16712      E         0.01  \n",
       "16714      E         0.01  \n",
       "\n",
       "[2233 rows x 12 columns]"
      ]
     },
     "execution_count": 34,
     "metadata": {},
     "output_type": "execute_result"
    }
   ],
   "source": [
    "# Print overview of dataframe\n",
    "df_filtered"
   ]
  },
  {
   "cell_type": "markdown",
   "metadata": {},
   "source": [
    "### Create user profiles"
   ]
  },
  {
   "cell_type": "code",
   "execution_count": 35,
   "metadata": {},
   "outputs": [],
   "source": [
    "# NA users\n",
    "na_users = df_filtered[df_filtered['na_sales'] > 0]"
   ]
  },
  {
   "cell_type": "code",
   "execution_count": 36,
   "metadata": {},
   "outputs": [],
   "source": [
    "# EU users\n",
    "eu_users = df_filtered[df_filtered['eu_sales'] > 0]"
   ]
  },
  {
   "cell_type": "code",
   "execution_count": 37,
   "metadata": {},
   "outputs": [],
   "source": [
    "# JP users\n",
    "jp_users = df_filtered[df_filtered['jp_sales'] > 0]"
   ]
  },
  {
   "cell_type": "markdown",
   "metadata": {},
   "source": [
    "### Top 5 platforms for each profile"
   ]
  },
  {
   "cell_type": "code",
   "execution_count": 38,
   "metadata": {},
   "outputs": [
    {
     "data": {
      "text/html": [
       "<div>\n",
       "<style scoped>\n",
       "    .dataframe tbody tr th:only-of-type {\n",
       "        vertical-align: middle;\n",
       "    }\n",
       "\n",
       "    .dataframe tbody tr th {\n",
       "        vertical-align: top;\n",
       "    }\n",
       "\n",
       "    .dataframe thead th {\n",
       "        text-align: right;\n",
       "    }\n",
       "</style>\n",
       "<table border=\"1\" class=\"dataframe\">\n",
       "  <thead>\n",
       "    <tr style=\"text-align: right;\">\n",
       "      <th></th>\n",
       "      <th>platform</th>\n",
       "      <th>na_sales</th>\n",
       "    </tr>\n",
       "  </thead>\n",
       "  <tbody>\n",
       "    <tr>\n",
       "      <th>4</th>\n",
       "      <td>PS4</td>\n",
       "      <td>108.74</td>\n",
       "    </tr>\n",
       "    <tr>\n",
       "      <th>9</th>\n",
       "      <td>XOne</td>\n",
       "      <td>93.12</td>\n",
       "    </tr>\n",
       "    <tr>\n",
       "      <th>8</th>\n",
       "      <td>X360</td>\n",
       "      <td>81.66</td>\n",
       "    </tr>\n",
       "    <tr>\n",
       "      <th>3</th>\n",
       "      <td>PS3</td>\n",
       "      <td>63.50</td>\n",
       "    </tr>\n",
       "    <tr>\n",
       "      <th>0</th>\n",
       "      <td>3DS</td>\n",
       "      <td>38.20</td>\n",
       "    </tr>\n",
       "  </tbody>\n",
       "</table>\n",
       "</div>"
      ],
      "text/plain": [
       "  platform  na_sales\n",
       "4      PS4    108.74\n",
       "9     XOne     93.12\n",
       "8     X360     81.66\n",
       "3      PS3     63.50\n",
       "0      3DS     38.20"
      ]
     },
     "metadata": {},
     "output_type": "display_data"
    },
    {
     "data": {
      "image/png": "[encoded data removed]",
      "text/plain": [
       "<Figure size 1440x720 with 1 Axes>"
      ]
     },
     "metadata": {},
     "output_type": "display_data"
    }
   ],
   "source": [
    "# Create table showing platforms for NA users\n",
    "na_plat_tab = na_users.pivot_table(index='platform', values='na_sales', aggfunc='sum').reset_index().sort_values(by='na_sales', ascending=False)\n",
    "display(na_plat_tab.head())\n",
    "label = ['PS4', 'XOne', 'X360', 'PS3', '3DS']\n",
    "na_plat_tab.head().plot(kind='pie', y='na_sales', labels=label, figsize=(20,10))\n",
    "plt.show()"
   ]
  },
  {
   "cell_type": "code",
   "execution_count": 39,
   "metadata": {},
   "outputs": [
    {
     "data": {
      "text/html": [
       "<div>\n",
       "<style scoped>\n",
       "    .dataframe tbody tr th:only-of-type {\n",
       "        vertical-align: middle;\n",
       "    }\n",
       "\n",
       "    .dataframe tbody tr th {\n",
       "        vertical-align: top;\n",
       "    }\n",
       "\n",
       "    .dataframe thead th {\n",
       "        text-align: right;\n",
       "    }\n",
       "</style>\n",
       "<table border=\"1\" class=\"dataframe\">\n",
       "  <thead>\n",
       "    <tr style=\"text-align: right;\">\n",
       "      <th></th>\n",
       "      <th>platform</th>\n",
       "      <th>eu_sales</th>\n",
       "    </tr>\n",
       "  </thead>\n",
       "  <tbody>\n",
       "    <tr>\n",
       "      <th>4</th>\n",
       "      <td>PS4</td>\n",
       "      <td>138.66</td>\n",
       "    </tr>\n",
       "    <tr>\n",
       "      <th>3</th>\n",
       "      <td>PS3</td>\n",
       "      <td>67.04</td>\n",
       "    </tr>\n",
       "    <tr>\n",
       "      <th>9</th>\n",
       "      <td>XOne</td>\n",
       "      <td>51.28</td>\n",
       "    </tr>\n",
       "    <tr>\n",
       "      <th>8</th>\n",
       "      <td>X360</td>\n",
       "      <td>42.25</td>\n",
       "    </tr>\n",
       "    <tr>\n",
       "      <th>0</th>\n",
       "      <td>3DS</td>\n",
       "      <td>29.29</td>\n",
       "    </tr>\n",
       "  </tbody>\n",
       "</table>\n",
       "</div>"
      ],
      "text/plain": [
       "  platform  eu_sales\n",
       "4      PS4    138.66\n",
       "3      PS3     67.04\n",
       "9     XOne     51.28\n",
       "8     X360     42.25\n",
       "0      3DS     29.29"
      ]
     },
     "metadata": {},
     "output_type": "display_data"
    },
    {
     "data": {
      "image/png": "[encoded data removed]",
      "text/plain": [
       "<Figure size 1440x720 with 1 Axes>"
      ]
     },
     "metadata": {},
     "output_type": "display_data"
    }
   ],
   "source": [
    "# Create table showing platforms for EU users\n",
    "eu_plat_tab = na_users.pivot_table(index='platform', values='eu_sales', aggfunc='sum').reset_index().sort_values(by='eu_sales', ascending=False)\n",
    "display(eu_plat_tab.head())\n",
    "label2 = ['PS4', 'PS3', 'XOne', 'X360', '3DS']\n",
    "eu_plat_tab.head().plot(kind='pie', y='eu_sales', labels=label2, figsize=(20,10))\n",
    "plt.show()"
   ]
  },
  {
   "cell_type": "code",
   "execution_count": 40,
   "metadata": {},
   "outputs": [
    {
     "data": {
      "text/html": [
       "<div>\n",
       "<style scoped>\n",
       "    .dataframe tbody tr th:only-of-type {\n",
       "        vertical-align: middle;\n",
       "    }\n",
       "\n",
       "    .dataframe tbody tr th {\n",
       "        vertical-align: top;\n",
       "    }\n",
       "\n",
       "    .dataframe thead th {\n",
       "        text-align: right;\n",
       "    }\n",
       "</style>\n",
       "<table border=\"1\" class=\"dataframe\">\n",
       "  <thead>\n",
       "    <tr style=\"text-align: right;\">\n",
       "      <th></th>\n",
       "      <th>platform</th>\n",
       "      <th>jp_sales</th>\n",
       "    </tr>\n",
       "  </thead>\n",
       "  <tbody>\n",
       "    <tr>\n",
       "      <th>0</th>\n",
       "      <td>3DS</td>\n",
       "      <td>67.81</td>\n",
       "    </tr>\n",
       "    <tr>\n",
       "      <th>1</th>\n",
       "      <td>PS3</td>\n",
       "      <td>23.35</td>\n",
       "    </tr>\n",
       "    <tr>\n",
       "      <th>4</th>\n",
       "      <td>PSV</td>\n",
       "      <td>18.59</td>\n",
       "    </tr>\n",
       "    <tr>\n",
       "      <th>2</th>\n",
       "      <td>PS4</td>\n",
       "      <td>15.96</td>\n",
       "    </tr>\n",
       "    <tr>\n",
       "      <th>6</th>\n",
       "      <td>WiiU</td>\n",
       "      <td>10.88</td>\n",
       "    </tr>\n",
       "  </tbody>\n",
       "</table>\n",
       "</div>"
      ],
      "text/plain": [
       "  platform  jp_sales\n",
       "0      3DS     67.81\n",
       "1      PS3     23.35\n",
       "4      PSV     18.59\n",
       "2      PS4     15.96\n",
       "6     WiiU     10.88"
      ]
     },
     "metadata": {},
     "output_type": "display_data"
    },
    {
     "data": {
      "image/png": "[encoded data removed]",
      "text/plain": [
       "<Figure size 1440x720 with 1 Axes>"
      ]
     },
     "metadata": {},
     "output_type": "display_data"
    }
   ],
   "source": [
    "# Create table showing platforms for JP users\n",
    "jp_plat_tab = jp_users.pivot_table(index='platform', values='jp_sales', aggfunc='sum').reset_index().sort_values(by='jp_sales', ascending=False)\n",
    "display(jp_plat_tab.head())\n",
    "label3 = ['3DS','PS3', 'PSV', 'PS4', 'wiiU',]\n",
    "jp_plat_tab.head().plot(kind='pie', y='jp_sales', labels=label3, figsize=(20,10))\n",
    "plt.show()"
   ]
  },
  {
   "cell_type": "markdown",
   "metadata": {},
   "source": [
    "For NA users, `PS4`, `XOne` and `X360` platforms dominate the market. But for EU users `PS3` is very popular and has the second highest number of game title sales. While in the JP market, `3DS` surprisingly has the most sales, followed by `PS3` and `PSV`. `PS4` comes in 4th place and it seems `XOne` is not at all popular among JP users. All this can be seen in the pie charts for the top 5 platforms which shows the share of the top five platforms."
   ]
  },
  {
   "cell_type": "markdown",
   "metadata": {},
   "source": [
    "<div class=\"alert alert-block alert-success\">\n",
    "<b>Reviewer's comment</b> <a class=\"tocSkip\"></a>\n",
    "\n",
    "Also correct interpretation)"
   ]
  },
  {
   "cell_type": "markdown",
   "metadata": {},
   "source": [
    "### Top 5 genres for each profile"
   ]
  },
  {
   "cell_type": "code",
   "execution_count": 41,
   "metadata": {},
   "outputs": [
    {
     "data": {
      "text/html": [
       "<div>\n",
       "<style scoped>\n",
       "    .dataframe tbody tr th:only-of-type {\n",
       "        vertical-align: middle;\n",
       "    }\n",
       "\n",
       "    .dataframe tbody tr th {\n",
       "        vertical-align: top;\n",
       "    }\n",
       "\n",
       "    .dataframe thead th {\n",
       "        text-align: right;\n",
       "    }\n",
       "</style>\n",
       "<table border=\"1\" class=\"dataframe\">\n",
       "  <thead>\n",
       "    <tr style=\"text-align: right;\">\n",
       "      <th></th>\n",
       "      <th>genre</th>\n",
       "      <th>na_sales</th>\n",
       "    </tr>\n",
       "  </thead>\n",
       "  <tbody>\n",
       "    <tr>\n",
       "      <th>0</th>\n",
       "      <td>Action</td>\n",
       "      <td>126.05</td>\n",
       "    </tr>\n",
       "    <tr>\n",
       "      <th>8</th>\n",
       "      <td>Shooter</td>\n",
       "      <td>109.74</td>\n",
       "    </tr>\n",
       "    <tr>\n",
       "      <th>10</th>\n",
       "      <td>Sports</td>\n",
       "      <td>65.27</td>\n",
       "    </tr>\n",
       "    <tr>\n",
       "      <th>7</th>\n",
       "      <td>Role-Playing</td>\n",
       "      <td>46.40</td>\n",
       "    </tr>\n",
       "    <tr>\n",
       "      <th>3</th>\n",
       "      <td>Misc</td>\n",
       "      <td>27.49</td>\n",
       "    </tr>\n",
       "  </tbody>\n",
       "</table>\n",
       "</div>"
      ],
      "text/plain": [
       "           genre  na_sales\n",
       "0         Action    126.05\n",
       "8        Shooter    109.74\n",
       "10        Sports     65.27\n",
       "7   Role-Playing     46.40\n",
       "3           Misc     27.49"
      ]
     },
     "metadata": {},
     "output_type": "display_data"
    },
    {
     "data": {
      "image/png": "[encoded data removed]",
      "text/plain": [
       "<Figure size 1440x720 with 1 Axes>"
      ]
     },
     "metadata": {},
     "output_type": "display_data"
    }
   ],
   "source": [
    "# Create table showing genres for NA users\n",
    "na_gen_tab = na_users.pivot_table(index='genre', values='na_sales', aggfunc='sum').reset_index().sort_values(by='na_sales', ascending=False)\n",
    "display(na_gen_tab.head())\n",
    "label4 = ['Action', 'Shooter', 'Sports', 'Role-Playing', 'Misc']\n",
    "na_gen_tab.head().plot(kind='pie', y='na_sales', labels=label4, figsize=(20,10))\n",
    "plt.show()"
   ]
  },
  {
   "cell_type": "code",
   "execution_count": 42,
   "metadata": {},
   "outputs": [
    {
     "data": {
      "text/html": [
       "<div>\n",
       "<style scoped>\n",
       "    .dataframe tbody tr th:only-of-type {\n",
       "        vertical-align: middle;\n",
       "    }\n",
       "\n",
       "    .dataframe tbody tr th {\n",
       "        vertical-align: top;\n",
       "    }\n",
       "\n",
       "    .dataframe thead th {\n",
       "        text-align: right;\n",
       "    }\n",
       "</style>\n",
       "<table border=\"1\" class=\"dataframe\">\n",
       "  <thead>\n",
       "    <tr style=\"text-align: right;\">\n",
       "      <th></th>\n",
       "      <th>genre</th>\n",
       "      <th>eu_sales</th>\n",
       "    </tr>\n",
       "  </thead>\n",
       "  <tbody>\n",
       "    <tr>\n",
       "      <th>0</th>\n",
       "      <td>Action</td>\n",
       "      <td>118.13</td>\n",
       "    </tr>\n",
       "    <tr>\n",
       "      <th>8</th>\n",
       "      <td>Shooter</td>\n",
       "      <td>87.86</td>\n",
       "    </tr>\n",
       "    <tr>\n",
       "      <th>10</th>\n",
       "      <td>Sports</td>\n",
       "      <td>60.52</td>\n",
       "    </tr>\n",
       "    <tr>\n",
       "      <th>7</th>\n",
       "      <td>Role-Playing</td>\n",
       "      <td>36.97</td>\n",
       "    </tr>\n",
       "    <tr>\n",
       "      <th>6</th>\n",
       "      <td>Racing</td>\n",
       "      <td>20.19</td>\n",
       "    </tr>\n",
       "  </tbody>\n",
       "</table>\n",
       "</div>"
      ],
      "text/plain": [
       "           genre  eu_sales\n",
       "0         Action    118.13\n",
       "8        Shooter     87.86\n",
       "10        Sports     60.52\n",
       "7   Role-Playing     36.97\n",
       "6         Racing     20.19"
      ]
     },
     "metadata": {},
     "output_type": "display_data"
    },
    {
     "data": {
      "image/png": "[encoded data removed]",
      "text/plain": [
       "<Figure size 1440x720 with 1 Axes>"
      ]
     },
     "metadata": {},
     "output_type": "display_data"
    }
   ],
   "source": [
    "# Create table showing genres for EU users\n",
    "eu_gen_tab = eu_users.pivot_table(index='genre', values='eu_sales', aggfunc='sum').reset_index().sort_values(by='eu_sales', ascending=False)\n",
    "display(eu_gen_tab.head())\n",
    "label5 = ['Action', 'Shooter', 'Sports', 'Role-Playing', 'Racing']\n",
    "eu_gen_tab.head().plot(kind='pie', y='eu_sales', labels=label5, figsize=(20,10))\n",
    "plt.show()"
   ]
  },
  {
   "cell_type": "code",
   "execution_count": 43,
   "metadata": {},
   "outputs": [
    {
     "data": {
      "text/html": [
       "<div>\n",
       "<style scoped>\n",
       "    .dataframe tbody tr th:only-of-type {\n",
       "        vertical-align: middle;\n",
       "    }\n",
       "\n",
       "    .dataframe tbody tr th {\n",
       "        vertical-align: top;\n",
       "    }\n",
       "\n",
       "    .dataframe thead th {\n",
       "        text-align: right;\n",
       "    }\n",
       "</style>\n",
       "<table border=\"1\" class=\"dataframe\">\n",
       "  <thead>\n",
       "    <tr style=\"text-align: right;\">\n",
       "      <th></th>\n",
       "      <th>genre</th>\n",
       "      <th>jp_sales</th>\n",
       "    </tr>\n",
       "  </thead>\n",
       "  <tbody>\n",
       "    <tr>\n",
       "      <th>7</th>\n",
       "      <td>Role-Playing</td>\n",
       "      <td>51.04</td>\n",
       "    </tr>\n",
       "    <tr>\n",
       "      <th>0</th>\n",
       "      <td>Action</td>\n",
       "      <td>40.49</td>\n",
       "    </tr>\n",
       "    <tr>\n",
       "      <th>3</th>\n",
       "      <td>Misc</td>\n",
       "      <td>9.20</td>\n",
       "    </tr>\n",
       "    <tr>\n",
       "      <th>2</th>\n",
       "      <td>Fighting</td>\n",
       "      <td>7.65</td>\n",
       "    </tr>\n",
       "    <tr>\n",
       "      <th>8</th>\n",
       "      <td>Shooter</td>\n",
       "      <td>6.61</td>\n",
       "    </tr>\n",
       "  </tbody>\n",
       "</table>\n",
       "</div>"
      ],
      "text/plain": [
       "          genre  jp_sales\n",
       "7  Role-Playing     51.04\n",
       "0        Action     40.49\n",
       "3          Misc      9.20\n",
       "2      Fighting      7.65\n",
       "8       Shooter      6.61"
      ]
     },
     "metadata": {},
     "output_type": "display_data"
    },
    {
     "data": {
      "image/png": "[encoded data removed]",
      "text/plain": [
       "<Figure size 1440x720 with 1 Axes>"
      ]
     },
     "metadata": {},
     "output_type": "display_data"
    }
   ],
   "source": [
    "# Create table showing genres for JP users\n",
    "jp_gen_tab = jp_users.pivot_table(index='genre', values='jp_sales', aggfunc='sum').reset_index().sort_values(by='jp_sales', ascending=False)\n",
    "display(jp_gen_tab.head())\n",
    "label6 = ['Role-Playing', 'Action','Misc','Fighting','Shooter']\n",
    "jp_gen_tab.head().plot(kind='pie', y='jp_sales', labels=label6, figsize=(20,10))\n",
    "plt.show()"
   ]
  },
  {
   "cell_type": "markdown",
   "metadata": {},
   "source": [
    "For both NA and EU users, `Action`, `Shooter` and `Sports` are the most popular genres. However among JP users, `Role-Playing`, `Action` and `Misc` seem to be the most popular genres."
   ]
  },
  {
   "cell_type": "markdown",
   "metadata": {},
   "source": [
    "### Ratings and sales in each region"
   ]
  },
  {
   "cell_type": "code",
   "execution_count": 44,
   "metadata": {},
   "outputs": [
    {
     "data": {
      "text/html": [
       "<div>\n",
       "<style scoped>\n",
       "    .dataframe tbody tr th:only-of-type {\n",
       "        vertical-align: middle;\n",
       "    }\n",
       "\n",
       "    .dataframe tbody tr th {\n",
       "        vertical-align: top;\n",
       "    }\n",
       "\n",
       "    .dataframe thead th {\n",
       "        text-align: right;\n",
       "    }\n",
       "</style>\n",
       "<table border=\"1\" class=\"dataframe\">\n",
       "  <thead>\n",
       "    <tr style=\"text-align: right;\">\n",
       "      <th></th>\n",
       "      <th>rating</th>\n",
       "      <th>na_sales</th>\n",
       "    </tr>\n",
       "  </thead>\n",
       "  <tbody>\n",
       "    <tr>\n",
       "      <th>2</th>\n",
       "      <td>M</td>\n",
       "      <td>181.09</td>\n",
       "    </tr>\n",
       "    <tr>\n",
       "      <th>0</th>\n",
       "      <td>E</td>\n",
       "      <td>130.02</td>\n",
       "    </tr>\n",
       "    <tr>\n",
       "      <th>3</th>\n",
       "      <td>T</td>\n",
       "      <td>92.04</td>\n",
       "    </tr>\n",
       "    <tr>\n",
       "      <th>1</th>\n",
       "      <td>E10+</td>\n",
       "      <td>34.56</td>\n",
       "    </tr>\n",
       "  </tbody>\n",
       "</table>\n",
       "</div>"
      ],
      "text/plain": [
       "  rating  na_sales\n",
       "2      M    181.09\n",
       "0      E    130.02\n",
       "3      T     92.04\n",
       "1   E10+     34.56"
      ]
     },
     "metadata": {},
     "output_type": "display_data"
    },
    {
     "data": {
      "image/png": "[encoded data removed]",
      "text/plain": [
       "<Figure size 1440x720 with 1 Axes>"
      ]
     },
     "metadata": {},
     "output_type": "display_data"
    }
   ],
   "source": [
    "# Create table showing ratings for NA users\n",
    "na_rat_tab = na_users.pivot_table(index='rating', values='na_sales', aggfunc='sum').reset_index().sort_values(by='na_sales', ascending=False)\n",
    "display(na_rat_tab)\n",
    "label7 = ['M', 'E', 'T', 'E10+']\n",
    "na_rat_tab.head().plot(kind='pie', y='na_sales', labels=label4, figsize=(20,10))\n",
    "plt.show()"
   ]
  },
  {
   "cell_type": "code",
   "execution_count": 45,
   "metadata": {},
   "outputs": [
    {
     "data": {
      "text/html": [
       "<div>\n",
       "<style scoped>\n",
       "    .dataframe tbody tr th:only-of-type {\n",
       "        vertical-align: middle;\n",
       "    }\n",
       "\n",
       "    .dataframe tbody tr th {\n",
       "        vertical-align: top;\n",
       "    }\n",
       "\n",
       "    .dataframe thead th {\n",
       "        text-align: right;\n",
       "    }\n",
       "</style>\n",
       "<table border=\"1\" class=\"dataframe\">\n",
       "  <thead>\n",
       "    <tr style=\"text-align: right;\">\n",
       "      <th></th>\n",
       "      <th>rating</th>\n",
       "      <th>eu_sales</th>\n",
       "    </tr>\n",
       "  </thead>\n",
       "  <tbody>\n",
       "    <tr>\n",
       "      <th>2</th>\n",
       "      <td>M</td>\n",
       "      <td>158.50</td>\n",
       "    </tr>\n",
       "    <tr>\n",
       "      <th>0</th>\n",
       "      <td>E</td>\n",
       "      <td>135.42</td>\n",
       "    </tr>\n",
       "    <tr>\n",
       "      <th>3</th>\n",
       "      <td>T</td>\n",
       "      <td>73.08</td>\n",
       "    </tr>\n",
       "    <tr>\n",
       "      <th>1</th>\n",
       "      <td>E10+</td>\n",
       "      <td>25.23</td>\n",
       "    </tr>\n",
       "  </tbody>\n",
       "</table>\n",
       "</div>"
      ],
      "text/plain": [
       "  rating  eu_sales\n",
       "2      M    158.50\n",
       "0      E    135.42\n",
       "3      T     73.08\n",
       "1   E10+     25.23"
      ]
     },
     "metadata": {},
     "output_type": "display_data"
    },
    {
     "data": {
      "image/png": "[encoded data removed]",
      "text/plain": [
       "<Figure size 1440x720 with 1 Axes>"
      ]
     },
     "metadata": {},
     "output_type": "display_data"
    }
   ],
   "source": [
    "# Create table showing ratings for EU users\n",
    "eu_rat_tab = eu_users.pivot_table(index='rating', values='eu_sales', aggfunc='sum').reset_index().sort_values(by='eu_sales', ascending=False)\n",
    "display(eu_rat_tab)\n",
    "label8 = ['M', 'E', 'T', 'E10+']\n",
    "eu_rat_tab.head().plot(kind='pie', y='eu_sales', labels=label8, figsize=(20,10))\n",
    "plt.show()"
   ]
  },
  {
   "cell_type": "code",
   "execution_count": 46,
   "metadata": {},
   "outputs": [
    {
     "data": {
      "text/html": [
       "<div>\n",
       "<style scoped>\n",
       "    .dataframe tbody tr th:only-of-type {\n",
       "        vertical-align: middle;\n",
       "    }\n",
       "\n",
       "    .dataframe tbody tr th {\n",
       "        vertical-align: top;\n",
       "    }\n",
       "\n",
       "    .dataframe thead th {\n",
       "        text-align: right;\n",
       "    }\n",
       "</style>\n",
       "<table border=\"1\" class=\"dataframe\">\n",
       "  <thead>\n",
       "    <tr style=\"text-align: right;\">\n",
       "      <th></th>\n",
       "      <th>rating</th>\n",
       "      <th>jp_sales</th>\n",
       "    </tr>\n",
       "  </thead>\n",
       "  <tbody>\n",
       "    <tr>\n",
       "      <th>3</th>\n",
       "      <td>T</td>\n",
       "      <td>85.48</td>\n",
       "    </tr>\n",
       "    <tr>\n",
       "      <th>0</th>\n",
       "      <td>E</td>\n",
       "      <td>36.72</td>\n",
       "    </tr>\n",
       "    <tr>\n",
       "      <th>2</th>\n",
       "      <td>M</td>\n",
       "      <td>14.32</td>\n",
       "    </tr>\n",
       "    <tr>\n",
       "      <th>1</th>\n",
       "      <td>E10+</td>\n",
       "      <td>4.26</td>\n",
       "    </tr>\n",
       "  </tbody>\n",
       "</table>\n",
       "</div>"
      ],
      "text/plain": [
       "  rating  jp_sales\n",
       "3      T     85.48\n",
       "0      E     36.72\n",
       "2      M     14.32\n",
       "1   E10+      4.26"
      ]
     },
     "metadata": {},
     "output_type": "display_data"
    },
    {
     "data": {
      "image/png": "[encoded data removed]",
      "text/plain": [
       "<Figure size 1440x720 with 1 Axes>"
      ]
     },
     "metadata": {},
     "output_type": "display_data"
    }
   ],
   "source": [
    "# Create table showing ratings for JP users\n",
    "jp_rat_tab = jp_users.pivot_table(index='rating', values='jp_sales', aggfunc='sum').reset_index().sort_values(by='jp_sales', ascending=False)\n",
    "display(jp_rat_tab)\n",
    "label9 = ['T', 'E', 'M', 'E10+']\n",
    "jp_rat_tab.head().plot(kind='pie', y='jp_sales', labels=label9, figsize=(20,10))\n",
    "plt.show()"
   ]
  },
  {
   "cell_type": "markdown",
   "metadata": {},
   "source": [
    "For both NA and EU users, games with the rating `M` are the most popular while among JP users, games with the rating `T` are the most popular. So from this we can say that ESRB ratings do affect sales. NA and EU users prefer mature rated games while JP users prefer Teen rated games. This could also be a reflection of the gaming age group in these regions."
   ]
  },
  {
   "cell_type": "markdown",
   "metadata": {},
   "source": [
    "<div class=\"alert alert-block alert-danger\">\n",
    "<b>Reviewer's comment</b> <a class=\"tocSkip\"></a>\n",
    "\n",
    "Please, try to add plots here - for e.g, pie-charts will be suitable here)"
   ]
  },
  {
   "cell_type": "markdown",
   "metadata": {},
   "source": [
    "## Testing Hypothesis"
   ]
  },
  {
   "cell_type": "markdown",
   "metadata": {},
   "source": [
    "### Average user ratings of the Xbox One and PC platforms are the same."
   ]
  },
  {
   "cell_type": "markdown",
   "metadata": {},
   "source": [
    "H0 - Average user ratings of the Xbox One and PC platforms are the same.\n",
    "\n",
    "H1 - Average user ratings of the Xbox One and PC platforms are not the same."
   ]
  },
  {
   "cell_type": "markdown",
   "metadata": {},
   "source": [
    "<div class=\"alert alert-block alert-success\">\n",
    "<b>Reviewer's comment</b> <a class=\"tocSkip\"></a>\n",
    "\n",
    "I'm impressed with your formulation of both hypothesises here) Great work!\n",
    "\n",
    "</div>"
   ]
  },
  {
   "cell_type": "code",
   "execution_count": 47,
   "metadata": {},
   "outputs": [],
   "source": [
    "# Create values for testing\n",
    "xone = df_filtered[df_filtered['platform'] == 'XOne']\n",
    "xone_user_ratings = xone['user_score'][xone['user_score'] < 101]\n",
    "\n",
    "pc = df_filtered[df_filtered['platform'] == 'PC']\n",
    "pc_user_ratings = pc['user_score'][pc['user_score'] < 101]"
   ]
  },
  {
   "cell_type": "code",
   "execution_count": 48,
   "metadata": {},
   "outputs": [
    {
     "name": "stdout",
     "output_type": "stream",
     "text": [
      "p-value: 0.14012658403611647\n",
      "We cannot reject the null hypothesis\n"
     ]
    }
   ],
   "source": [
    "# Testing hypothesis\n",
    "alpha = 0.05 # Critical statistical significance level\n",
    "\n",
    "results= st.ttest_ind(xone_user_ratings, pc_user_ratings)\n",
    "\n",
    "print('p-value:', results.pvalue)\n",
    "\n",
    "if results.pvalue < alpha:\n",
    "    print(\"We reject the null hypothesis\")\n",
    "if results.pvalue > alpha:\n",
    "    print('We cannot reject the null hypothesis')"
   ]
  },
  {
   "cell_type": "markdown",
   "metadata": {},
   "source": [
    "From our hypothesis, we can say that the average user ratings of both platforms are the same"
   ]
  },
  {
   "cell_type": "markdown",
   "metadata": {},
   "source": [
    "### Average user ratings for the Action and Sports genres are different."
   ]
  },
  {
   "cell_type": "markdown",
   "metadata": {},
   "source": [
    "H0 - Average user ratings for the Action and Sports genres are the same.\n",
    "\n",
    "H1 - Average user ratings for the Action and Sports genres are different."
   ]
  },
  {
   "cell_type": "code",
   "execution_count": 49,
   "metadata": {},
   "outputs": [],
   "source": [
    "# Create values for testing\n",
    "action = df_filtered[df_filtered['genre'] == 'Action']\n",
    "action_user_score = action['user_score'][action['user_score'] < 101]\n",
    "\n",
    "sports = df_filtered[df_filtered['genre'] == 'Sports']\n",
    "sports_user_score = sports['user_score'][sports['user_score'] < 101]"
   ]
  },
  {
   "cell_type": "code",
   "execution_count": 50,
   "metadata": {},
   "outputs": [
    {
     "name": "stdout",
     "output_type": "stream",
     "text": [
      "p-value: 1.0517832389140023e-27\n",
      "We reject the null hypothesis\n"
     ]
    }
   ],
   "source": [
    "# Testing hypothesis\n",
    "\n",
    "alpha = 0.05 # Critical statistical significance level\n",
    "\n",
    "results= st.ttest_ind(action_user_score, sports_user_score)\n",
    "\n",
    "print('p-value:', results.pvalue)\n",
    "\n",
    "if results.pvalue < alpha:\n",
    "    print(\"We reject the null hypothesis\")\n",
    "if results.pvalue > alpha:\n",
    "    print('We cannot reject the null hypothesis')"
   ]
  },
  {
   "cell_type": "markdown",
   "metadata": {},
   "source": [
    "From our testing, we can say that the average user ratings for the Action and Sports genres are different."
   ]
  },
  {
   "cell_type": "markdown",
   "metadata": {},
   "source": [
    "<div class=\"alert alert-block alert-success\">\n",
    "<b>Reviewer's comment</b> <a class=\"tocSkip\"></a>\n",
    "\n",
    "You've used the tests correctly, but your results may change after corrections.\n",
    "</div>"
   ]
  },
  {
   "cell_type": "markdown",
   "metadata": {},
   "source": [
    "## Conclusion"
   ]
  },
  {
   "cell_type": "markdown",
   "metadata": {},
   "source": [
    "The aim of this project was to spot potential big winners among different gaming platforms and plan advertising campaigns.\n",
    "\n",
    "From our analysis the platforms that appear to be big winners are `PS4`, `XOne` and `3DS`. Advertising campaigns should be built around these platforms for desired results. \n",
    "But also looking at the markets, it would be beneficial to focus ads on the `3DS` platform for JP users.\n",
    "\n",
    "We also determined that professional ratings does affect sales of games and so this worth keeping an eye on. The correlation between sales and user ratings is weak and so should not be a big problem especially when professional ratings are high.\n",
    "\n",
    "\n",
    "\n",
    "So how did we get to these conclusions:\n",
    "\n",
    "\n",
    "Firstly we loaded the dataset and filled in missing values where appropriate.\n",
    "After that, we converted the data types to suit our analysis.\n",
    "Then we analysed data, comparing total sales per year on all platforms and studying the lifespan of platforms to know what platform will still remain relevant in 2017.\n",
    "With all that done, we went on to compare the sales among the different platforms in this timeline and picked out the 5 top performers.\n",
    "\n",
    "We also checked sales distribution accross regions to see what regions boosted certain platforms. There were various graphs and tables made with a lot of valuable data.\n",
    "\n",
    "We checked correlations between professional ratings and sales and also between user ratings and sales.\n",
    "\n",
    "We tested the hypothesis that average user ratings of the Xbox One and PC platforms are the same which was true. And also tested the hypothesis average user ratings for the Action and Sports genres are different which proved to be true."
   ]
  },
  {
   "cell_type": "markdown",
   "metadata": {},
   "source": [
    "<div class=\"alert alert-block alert-warning\">\n",
    "<b>Reviewer's comment</b> <a class=\"tocSkip\"></a>\n",
    "\n",
    "I can assume, you didn't finish this conclusion) The beggining is good, I'm sure the rest part is good as well)\n",
    "</div>"
   ]
  },
  {
   "cell_type": "markdown",
   "metadata": {},
   "source": [
    "<div class=\"alert alert-block alert-success\">\n",
    "<b>Reviewer's comment</b> <a class=\"tocSkip\"></a>\n",
    "\n",
    "Your project looks pretty good! \n",
    "\n",
    "I especially liked your code style and usage of pivot tables)\n",
    "\n",
    "I also like your correlations and tests part and interpretations - everything is clear and correct)\n",
    "Keep up the good work!\n",
    "</div>"
   ]
  },
  {
   "cell_type": "markdown",
   "metadata": {},
   "source": [
    "<div class=\"alert alert-block alert-danger\">\n",
    "\n",
    "<b>Reviewer's comment</b> <a class=\"tocSkip\"></a>\n",
    "    \n",
    "Unfortunately, I cannot accept this project.\n",
    "    \n",
    "Please, check the replacement of nans for users and critics scores)\n",
    "\n",
    "I could also recommend you to add plots for part 4 to make your project perfect&#128512;\n",
    "\n",
    "And please, check your conclusions - looks like something missed)    \n",
    "</div>"
   ]
  },
  {
   "cell_type": "markdown",
   "metadata": {},
   "source": [
    "<div class=\"alert alert-block alert-success\">\n",
    "<b>Reviewer's comment</b> <a class=\"tocSkip\"></a>\n",
    "\n",
    "Good luck! \n",
    "\n",
    "One more time and you'll have it!\n",
    "\n",
    "&#127808;\n",
    "\n",
    "</div>"
   ]
  },
  {
   "cell_type": "code",
   "execution_count": null,
   "metadata": {},
   "outputs": [],
   "source": []
  }
 ],
 "metadata": {
  "ExecuteTimeLog": [
   {
    "duration": 1210,
    "start_time": "2022-04-21T21:14:27.797Z"
   },
   {
    "duration": 42,
    "start_time": "2022-04-21T21:17:58.048Z"
   },
   {
    "duration": 34,
    "start_time": "2022-04-21T21:20:34.015Z"
   },
   {
    "duration": 89,
    "start_time": "2022-04-21T21:32:10.604Z"
   },
   {
    "duration": 11,
    "start_time": "2022-04-21T21:32:26.968Z"
   },
   {
    "duration": 9,
    "start_time": "2022-04-21T21:36:56.296Z"
   },
   {
    "duration": 8,
    "start_time": "2022-04-21T21:37:23.436Z"
   },
   {
    "duration": 8,
    "start_time": "2022-04-21T21:37:35.189Z"
   },
   {
    "duration": 4,
    "start_time": "2022-04-21T21:38:11.188Z"
   },
   {
    "duration": 35,
    "start_time": "2022-04-21T21:38:22.828Z"
   },
   {
    "duration": 8,
    "start_time": "2022-04-21T21:39:08.697Z"
   },
   {
    "duration": 10,
    "start_time": "2022-04-21T21:39:19.208Z"
   },
   {
    "duration": 15,
    "start_time": "2022-04-21T21:39:32.068Z"
   },
   {
    "duration": 13,
    "start_time": "2022-04-21T21:42:12.851Z"
   },
   {
    "duration": 14,
    "start_time": "2022-04-21T21:47:36.155Z"
   },
   {
    "duration": 15,
    "start_time": "2022-04-21T21:48:43.243Z"
   },
   {
    "duration": 18,
    "start_time": "2022-04-21T21:50:10.463Z"
   },
   {
    "duration": 16,
    "start_time": "2022-04-21T21:53:43.083Z"
   },
   {
    "duration": 16,
    "start_time": "2022-04-21T21:53:54.855Z"
   },
   {
    "duration": 9,
    "start_time": "2022-04-21T21:58:24.521Z"
   },
   {
    "duration": 13,
    "start_time": "2022-04-21T21:59:09.253Z"
   },
   {
    "duration": 22,
    "start_time": "2022-04-21T21:59:45.761Z"
   },
   {
    "duration": 13,
    "start_time": "2022-04-21T22:02:22.282Z"
   },
   {
    "duration": 21,
    "start_time": "2022-04-21T22:03:24.721Z"
   },
   {
    "duration": 22,
    "start_time": "2022-04-21T22:04:14.692Z"
   },
   {
    "duration": 2209,
    "start_time": "2022-04-21T22:05:19.194Z"
   },
   {
    "duration": 32,
    "start_time": "2022-04-21T22:05:27.854Z"
   },
   {
    "duration": 4,
    "start_time": "2022-04-21T22:31:49.489Z"
   },
   {
    "duration": 17,
    "start_time": "2022-04-21T22:32:07.412Z"
   },
   {
    "duration": 5,
    "start_time": "2022-04-21T22:40:48.868Z"
   },
   {
    "duration": 12,
    "start_time": "2022-04-21T22:41:28.487Z"
   },
   {
    "duration": 11,
    "start_time": "2022-04-21T22:46:21.687Z"
   },
   {
    "duration": 7,
    "start_time": "2022-04-21T22:52:45.502Z"
   },
   {
    "duration": 11,
    "start_time": "2022-04-21T22:54:14.579Z"
   },
   {
    "duration": 9,
    "start_time": "2022-04-21T22:57:33.458Z"
   },
   {
    "duration": 14,
    "start_time": "2022-04-21T22:57:52.198Z"
   },
   {
    "duration": 9,
    "start_time": "2022-04-21T22:58:46.782Z"
   },
   {
    "duration": 12,
    "start_time": "2022-04-21T22:58:57.218Z"
   },
   {
    "duration": 10,
    "start_time": "2022-04-21T23:02:34.118Z"
   },
   {
    "duration": 16,
    "start_time": "2022-04-21T23:02:45.838Z"
   },
   {
    "duration": 20,
    "start_time": "2022-04-21T23:03:11.397Z"
   },
   {
    "duration": 22,
    "start_time": "2022-04-21T23:04:30.418Z"
   },
   {
    "duration": 22,
    "start_time": "2022-04-21T23:04:37.758Z"
   },
   {
    "duration": 16,
    "start_time": "2022-04-21T23:09:46.128Z"
   },
   {
    "duration": 35,
    "start_time": "2022-04-21T23:10:21.327Z"
   },
   {
    "duration": 20,
    "start_time": "2022-04-21T23:10:51.367Z"
   },
   {
    "duration": 31,
    "start_time": "2022-04-21T23:18:57.691Z"
   },
   {
    "duration": 141,
    "start_time": "2022-04-21T23:23:09.130Z"
   },
   {
    "duration": 26,
    "start_time": "2022-04-21T23:23:17.037Z"
   },
   {
    "duration": 167,
    "start_time": "2022-04-21T23:24:10.010Z"
   },
   {
    "duration": 148,
    "start_time": "2022-04-21T23:24:37.982Z"
   },
   {
    "duration": 30,
    "start_time": "2022-04-21T23:27:12.780Z"
   },
   {
    "duration": 28,
    "start_time": "2022-04-21T23:28:25.992Z"
   },
   {
    "duration": 137,
    "start_time": "2022-04-21T23:29:26.371Z"
   },
   {
    "duration": 2112,
    "start_time": "2022-04-21T23:29:33.891Z"
   },
   {
    "duration": 28,
    "start_time": "2022-04-21T23:29:44.011Z"
   },
   {
    "duration": 27,
    "start_time": "2022-04-21T23:45:12.416Z"
   },
   {
    "duration": 34,
    "start_time": "2022-04-21T23:46:06.356Z"
   },
   {
    "duration": 142,
    "start_time": "2022-04-21T23:46:53.875Z"
   },
   {
    "duration": 29,
    "start_time": "2022-04-21T23:47:06.576Z"
   },
   {
    "duration": 24,
    "start_time": "2022-04-21T23:47:30.095Z"
   },
   {
    "duration": 28,
    "start_time": "2022-04-21T23:47:38.795Z"
   },
   {
    "duration": 438,
    "start_time": "2022-04-21T23:53:12.805Z"
   },
   {
    "duration": 1127,
    "start_time": "2022-04-21T23:53:27.775Z"
   },
   {
    "duration": 36,
    "start_time": "2022-04-21T23:53:28.903Z"
   },
   {
    "duration": 34,
    "start_time": "2022-04-21T23:53:28.941Z"
   },
   {
    "duration": 14,
    "start_time": "2022-04-21T23:53:28.977Z"
   },
   {
    "duration": 31,
    "start_time": "2022-04-21T23:53:28.992Z"
   },
   {
    "duration": 14,
    "start_time": "2022-04-21T23:53:29.024Z"
   },
   {
    "duration": 13,
    "start_time": "2022-04-21T23:53:29.055Z"
   },
   {
    "duration": 16,
    "start_time": "2022-04-21T23:53:29.070Z"
   },
   {
    "duration": 18,
    "start_time": "2022-04-21T23:53:29.088Z"
   },
   {
    "duration": 25,
    "start_time": "2022-04-21T23:53:29.109Z"
   },
   {
    "duration": 20,
    "start_time": "2022-04-21T23:53:29.154Z"
   },
   {
    "duration": 20,
    "start_time": "2022-04-21T23:53:29.175Z"
   },
   {
    "duration": 20,
    "start_time": "2022-04-21T23:53:29.197Z"
   },
   {
    "duration": 457,
    "start_time": "2022-04-21T23:53:29.219Z"
   },
   {
    "duration": 11,
    "start_time": "2022-04-21T23:53:29.678Z"
   },
   {
    "duration": 33,
    "start_time": "2022-04-21T23:53:29.690Z"
   },
   {
    "duration": 1084,
    "start_time": "2022-04-21T23:55:13.192Z"
   },
   {
    "duration": 35,
    "start_time": "2022-04-21T23:55:14.277Z"
   },
   {
    "duration": 28,
    "start_time": "2022-04-21T23:55:14.314Z"
   },
   {
    "duration": 23,
    "start_time": "2022-04-21T23:55:14.344Z"
   },
   {
    "duration": 24,
    "start_time": "2022-04-21T23:55:14.368Z"
   },
   {
    "duration": 13,
    "start_time": "2022-04-21T23:55:14.393Z"
   },
   {
    "duration": 19,
    "start_time": "2022-04-21T23:55:14.408Z"
   },
   {
    "duration": 27,
    "start_time": "2022-04-21T23:55:14.428Z"
   },
   {
    "duration": 18,
    "start_time": "2022-04-21T23:55:14.457Z"
   },
   {
    "duration": 14,
    "start_time": "2022-04-21T23:55:14.477Z"
   },
   {
    "duration": 19,
    "start_time": "2022-04-21T23:55:14.493Z"
   },
   {
    "duration": 44,
    "start_time": "2022-04-21T23:55:14.513Z"
   },
   {
    "duration": 19,
    "start_time": "2022-04-21T23:55:14.558Z"
   },
   {
    "duration": 429,
    "start_time": "2022-04-21T23:55:14.579Z"
   },
   {
    "duration": 12,
    "start_time": "2022-04-21T23:55:15.010Z"
   },
   {
    "duration": 32,
    "start_time": "2022-04-21T23:55:15.023Z"
   },
   {
    "duration": 435,
    "start_time": "2022-04-21T23:56:11.345Z"
   },
   {
    "duration": 425,
    "start_time": "2022-04-21T23:56:29.945Z"
   },
   {
    "duration": 4,
    "start_time": "2022-04-22T00:09:06.543Z"
   },
   {
    "duration": 4,
    "start_time": "2022-04-22T00:10:07.157Z"
   },
   {
    "duration": 143,
    "start_time": "2022-04-22T00:14:11.196Z"
   },
   {
    "duration": 9,
    "start_time": "2022-04-22T00:14:29.204Z"
   },
   {
    "duration": 13,
    "start_time": "2022-04-22T00:14:52.658Z"
   },
   {
    "duration": 92,
    "start_time": "2022-04-22T00:15:19.844Z"
   },
   {
    "duration": 14,
    "start_time": "2022-04-22T00:15:36.066Z"
   },
   {
    "duration": 13,
    "start_time": "2022-04-22T00:16:07.758Z"
   },
   {
    "duration": 3,
    "start_time": "2022-04-22T00:17:51.546Z"
   },
   {
    "duration": 14,
    "start_time": "2022-04-22T00:18:07.566Z"
   },
   {
    "duration": 21,
    "start_time": "2022-04-22T00:19:22.387Z"
   },
   {
    "duration": 15,
    "start_time": "2022-04-22T00:21:02.165Z"
   },
   {
    "duration": 12,
    "start_time": "2022-04-22T00:21:44.026Z"
   },
   {
    "duration": 134,
    "start_time": "2022-04-22T00:22:26.426Z"
   },
   {
    "duration": 15,
    "start_time": "2022-04-22T00:22:31.266Z"
   },
   {
    "duration": 15,
    "start_time": "2022-04-22T00:22:56.347Z"
   },
   {
    "duration": 174,
    "start_time": "2022-04-22T00:35:28.727Z"
   },
   {
    "duration": 333,
    "start_time": "2022-04-22T00:35:46.159Z"
   },
   {
    "duration": 17,
    "start_time": "2022-04-22T00:36:06.368Z"
   },
   {
    "duration": 193,
    "start_time": "2022-04-22T00:36:16.227Z"
   },
   {
    "duration": 264,
    "start_time": "2022-04-22T00:37:23.119Z"
   },
   {
    "duration": 296,
    "start_time": "2022-04-22T00:38:06.584Z"
   },
   {
    "duration": 413,
    "start_time": "2022-04-22T00:38:38.775Z"
   },
   {
    "duration": 338,
    "start_time": "2022-04-22T00:40:35.907Z"
   },
   {
    "duration": 21,
    "start_time": "2022-04-22T00:43:36.879Z"
   },
   {
    "duration": 26,
    "start_time": "2022-04-22T00:43:48.247Z"
   },
   {
    "duration": 17,
    "start_time": "2022-04-22T00:44:01.040Z"
   },
   {
    "duration": 15,
    "start_time": "2022-04-22T00:46:37.387Z"
   },
   {
    "duration": 293,
    "start_time": "2022-04-22T00:48:10.859Z"
   },
   {
    "duration": 14,
    "start_time": "2022-04-22T00:55:09.850Z"
   },
   {
    "duration": 51,
    "start_time": "2022-04-22T00:55:28.808Z"
   },
   {
    "duration": 150,
    "start_time": "2022-04-22T01:01:42.367Z"
   },
   {
    "duration": 16,
    "start_time": "2022-04-22T01:01:56.366Z"
   },
   {
    "duration": 13,
    "start_time": "2022-04-22T01:02:28.366Z"
   },
   {
    "duration": 13,
    "start_time": "2022-04-22T01:02:39.086Z"
   },
   {
    "duration": 12,
    "start_time": "2022-04-22T01:02:57.387Z"
   },
   {
    "duration": 13,
    "start_time": "2022-04-22T01:05:42.167Z"
   },
   {
    "duration": 14,
    "start_time": "2022-04-22T01:06:02.146Z"
   },
   {
    "duration": 31,
    "start_time": "2022-04-22T01:08:48.986Z"
   },
   {
    "duration": 84,
    "start_time": "2022-04-22T01:26:15.119Z"
   },
   {
    "duration": 28,
    "start_time": "2022-04-22T01:27:22.827Z"
   },
   {
    "duration": 5,
    "start_time": "2022-04-22T01:30:45.039Z"
   },
   {
    "duration": 14,
    "start_time": "2022-04-22T01:33:49.387Z"
   },
   {
    "duration": 8,
    "start_time": "2022-04-22T01:34:24.349Z"
   },
   {
    "duration": 15,
    "start_time": "2022-04-22T01:36:09.081Z"
   },
   {
    "duration": 17,
    "start_time": "2022-04-22T01:38:23.988Z"
   },
   {
    "duration": 34,
    "start_time": "2022-04-22T01:38:38.168Z"
   },
   {
    "duration": 37,
    "start_time": "2022-04-22T01:40:06.532Z"
   },
   {
    "duration": 35,
    "start_time": "2022-04-22T01:40:20.209Z"
   },
   {
    "duration": 6,
    "start_time": "2022-04-22T01:53:35.867Z"
   },
   {
    "duration": 6,
    "start_time": "2022-04-22T01:54:37.888Z"
   },
   {
    "duration": 6,
    "start_time": "2022-04-22T01:54:45.739Z"
   },
   {
    "duration": 7,
    "start_time": "2022-04-22T01:55:49.599Z"
   },
   {
    "duration": 17,
    "start_time": "2022-04-22T02:12:42.344Z"
   },
   {
    "duration": 17,
    "start_time": "2022-04-22T02:13:09.184Z"
   },
   {
    "duration": 25,
    "start_time": "2022-04-22T02:15:52.391Z"
   },
   {
    "duration": 16,
    "start_time": "2022-04-22T02:16:30.285Z"
   },
   {
    "duration": 15,
    "start_time": "2022-04-22T02:20:42.958Z"
   },
   {
    "duration": 14,
    "start_time": "2022-04-22T02:20:59.544Z"
   },
   {
    "duration": 21,
    "start_time": "2022-04-22T02:25:49.150Z"
   },
   {
    "duration": 198,
    "start_time": "2022-04-22T02:36:08.236Z"
   },
   {
    "duration": 434,
    "start_time": "2022-04-22T02:44:02.462Z"
   },
   {
    "duration": 549,
    "start_time": "2022-04-22T02:45:24.015Z"
   },
   {
    "duration": 434,
    "start_time": "2022-04-22T02:47:57.905Z"
   },
   {
    "duration": 440,
    "start_time": "2022-04-22T02:48:22.036Z"
   },
   {
    "duration": 439,
    "start_time": "2022-04-22T02:48:41.062Z"
   },
   {
    "duration": 2046,
    "start_time": "2022-04-22T08:31:15.899Z"
   },
   {
    "duration": 60,
    "start_time": "2022-04-22T08:31:17.948Z"
   },
   {
    "duration": 66,
    "start_time": "2022-04-22T08:31:18.010Z"
   },
   {
    "duration": 28,
    "start_time": "2022-04-22T08:31:18.097Z"
   },
   {
    "duration": 34,
    "start_time": "2022-04-22T08:31:18.127Z"
   },
   {
    "duration": 36,
    "start_time": "2022-04-22T08:31:18.163Z"
   },
   {
    "duration": 28,
    "start_time": "2022-04-22T08:31:18.201Z"
   },
   {
    "duration": 24,
    "start_time": "2022-04-22T08:31:18.231Z"
   },
   {
    "duration": 71,
    "start_time": "2022-04-22T08:31:18.258Z"
   },
   {
    "duration": 19,
    "start_time": "2022-04-22T08:31:18.333Z"
   },
   {
    "duration": 52,
    "start_time": "2022-04-22T08:31:18.354Z"
   },
   {
    "duration": 33,
    "start_time": "2022-04-22T08:31:18.408Z"
   },
   {
    "duration": 52,
    "start_time": "2022-04-22T08:31:18.445Z"
   },
   {
    "duration": 17,
    "start_time": "2022-04-22T08:31:18.499Z"
   },
   {
    "duration": 991,
    "start_time": "2022-04-22T08:31:18.519Z"
   },
   {
    "duration": 5,
    "start_time": "2022-04-22T08:31:19.512Z"
   },
   {
    "duration": 15,
    "start_time": "2022-04-22T08:31:19.519Z"
   },
   {
    "duration": 26,
    "start_time": "2022-04-22T08:31:19.536Z"
   },
   {
    "duration": 691,
    "start_time": "2022-04-22T08:31:19.565Z"
   },
   {
    "duration": 583,
    "start_time": "2022-04-22T08:31:20.258Z"
   },
   {
    "duration": 93,
    "start_time": "2022-04-22T08:31:20.844Z"
   },
   {
    "duration": 12,
    "start_time": "2022-04-22T08:31:20.939Z"
   },
   {
    "duration": 45,
    "start_time": "2022-04-22T08:31:20.954Z"
   },
   {
    "duration": 926,
    "start_time": "2022-04-22T08:31:21.001Z"
   },
   {
    "duration": 35,
    "start_time": "2022-04-22T08:31:21.929Z"
   },
   {
    "duration": 163,
    "start_time": "2022-04-22T08:37:07.054Z"
   },
   {
    "duration": 22,
    "start_time": "2022-04-22T08:37:33.574Z"
   },
   {
    "duration": 27,
    "start_time": "2022-04-22T08:37:44.322Z"
   },
   {
    "duration": 33,
    "start_time": "2022-04-22T08:42:47.809Z"
   },
   {
    "duration": 28,
    "start_time": "2022-04-22T08:43:15.127Z"
   },
   {
    "duration": 25,
    "start_time": "2022-04-22T08:45:15.249Z"
   },
   {
    "duration": 33,
    "start_time": "2022-04-22T08:59:03.550Z"
   },
   {
    "duration": 30,
    "start_time": "2022-04-22T08:59:20.278Z"
   },
   {
    "duration": 225,
    "start_time": "2022-04-22T09:00:09.870Z"
   },
   {
    "duration": 351,
    "start_time": "2022-04-22T09:01:15.430Z"
   },
   {
    "duration": 347,
    "start_time": "2022-04-22T09:01:38.724Z"
   },
   {
    "duration": 429,
    "start_time": "2022-04-22T09:01:53.999Z"
   },
   {
    "duration": 1084,
    "start_time": "2022-04-22T09:02:53.838Z"
   },
   {
    "duration": 394,
    "start_time": "2022-04-22T09:06:24.422Z"
   },
   {
    "duration": 448,
    "start_time": "2022-04-22T09:06:54.036Z"
   },
   {
    "duration": 469,
    "start_time": "2022-04-22T09:08:58.398Z"
   },
   {
    "duration": 377,
    "start_time": "2022-04-22T09:09:51.527Z"
   },
   {
    "duration": 2041,
    "start_time": "2022-04-22T09:11:06.579Z"
   },
   {
    "duration": 30,
    "start_time": "2022-04-22T09:21:44.078Z"
   },
   {
    "duration": 1358,
    "start_time": "2022-04-22T09:22:50.711Z"
   },
   {
    "duration": 33,
    "start_time": "2022-04-22T09:24:27.152Z"
   },
   {
    "duration": 10,
    "start_time": "2022-04-22T09:28:55.970Z"
   },
   {
    "duration": 6,
    "start_time": "2022-04-22T09:31:04.784Z"
   },
   {
    "duration": 4,
    "start_time": "2022-04-22T09:31:57.993Z"
   },
   {
    "duration": 261,
    "start_time": "2022-04-22T09:33:56.031Z"
   },
   {
    "duration": 5,
    "start_time": "2022-04-22T09:34:04.184Z"
   },
   {
    "duration": 1534,
    "start_time": "2022-04-22T09:34:15.172Z"
   },
   {
    "duration": 63,
    "start_time": "2022-04-22T09:34:16.708Z"
   },
   {
    "duration": 49,
    "start_time": "2022-04-22T09:34:16.773Z"
   },
   {
    "duration": 26,
    "start_time": "2022-04-22T09:34:16.825Z"
   },
   {
    "duration": 58,
    "start_time": "2022-04-22T09:34:16.853Z"
   },
   {
    "duration": 23,
    "start_time": "2022-04-22T09:34:16.914Z"
   },
   {
    "duration": 25,
    "start_time": "2022-04-22T09:34:16.940Z"
   },
   {
    "duration": 53,
    "start_time": "2022-04-22T09:34:16.967Z"
   },
   {
    "duration": 33,
    "start_time": "2022-04-22T09:34:17.023Z"
   },
   {
    "duration": 46,
    "start_time": "2022-04-22T09:34:17.062Z"
   },
   {
    "duration": 39,
    "start_time": "2022-04-22T09:34:17.111Z"
   },
   {
    "duration": 52,
    "start_time": "2022-04-22T09:34:17.153Z"
   },
   {
    "duration": 32,
    "start_time": "2022-04-22T09:34:17.209Z"
   },
   {
    "duration": 14,
    "start_time": "2022-04-22T09:34:17.243Z"
   },
   {
    "duration": 834,
    "start_time": "2022-04-22T09:34:17.259Z"
   },
   {
    "duration": 4,
    "start_time": "2022-04-22T09:34:18.096Z"
   },
   {
    "duration": 17,
    "start_time": "2022-04-22T09:34:18.102Z"
   },
   {
    "duration": 27,
    "start_time": "2022-04-22T09:34:18.121Z"
   },
   {
    "duration": 679,
    "start_time": "2022-04-22T09:34:18.151Z"
   },
   {
    "duration": 593,
    "start_time": "2022-04-22T09:34:18.832Z"
   },
   {
    "duration": 76,
    "start_time": "2022-04-22T09:34:19.427Z"
   },
   {
    "duration": 11,
    "start_time": "2022-04-22T09:34:19.506Z"
   },
   {
    "duration": 27,
    "start_time": "2022-04-22T09:34:19.520Z"
   },
   {
    "duration": 913,
    "start_time": "2022-04-22T09:34:19.549Z"
   },
   {
    "duration": 51,
    "start_time": "2022-04-22T09:34:20.465Z"
   },
   {
    "duration": 31,
    "start_time": "2022-04-22T09:34:20.518Z"
   },
   {
    "duration": 53,
    "start_time": "2022-04-22T09:34:20.551Z"
   },
   {
    "duration": 348,
    "start_time": "2022-04-22T09:34:20.609Z"
   },
   {
    "duration": 1158,
    "start_time": "2022-04-22T09:34:20.960Z"
   },
   {
    "duration": 5,
    "start_time": "2022-04-22T09:34:22.120Z"
   },
   {
    "duration": 8,
    "start_time": "2022-04-22T09:34:22.128Z"
   },
   {
    "duration": 7,
    "start_time": "2022-04-22T09:35:02.174Z"
   },
   {
    "duration": 1765,
    "start_time": "2022-04-22T09:44:51.389Z"
   },
   {
    "duration": 75,
    "start_time": "2022-04-22T09:44:53.157Z"
   },
   {
    "duration": 77,
    "start_time": "2022-04-22T09:44:53.236Z"
   },
   {
    "duration": 36,
    "start_time": "2022-04-22T09:44:53.317Z"
   },
   {
    "duration": 65,
    "start_time": "2022-04-22T09:44:53.357Z"
   },
   {
    "duration": 48,
    "start_time": "2022-04-22T09:44:53.425Z"
   },
   {
    "duration": 53,
    "start_time": "2022-04-22T09:44:53.476Z"
   },
   {
    "duration": 35,
    "start_time": "2022-04-22T09:44:53.532Z"
   },
   {
    "duration": 43,
    "start_time": "2022-04-22T09:44:53.571Z"
   },
   {
    "duration": 48,
    "start_time": "2022-04-22T09:44:53.619Z"
   },
   {
    "duration": 60,
    "start_time": "2022-04-22T09:44:53.670Z"
   },
   {
    "duration": 66,
    "start_time": "2022-04-22T09:44:53.733Z"
   },
   {
    "duration": 37,
    "start_time": "2022-04-22T09:44:53.802Z"
   },
   {
    "duration": 15,
    "start_time": "2022-04-22T09:44:53.842Z"
   },
   {
    "duration": 854,
    "start_time": "2022-04-22T09:44:53.860Z"
   },
   {
    "duration": 4,
    "start_time": "2022-04-22T09:44:54.717Z"
   },
   {
    "duration": 29,
    "start_time": "2022-04-22T09:44:54.724Z"
   },
   {
    "duration": 55,
    "start_time": "2022-04-22T09:44:54.755Z"
   },
   {
    "duration": 700,
    "start_time": "2022-04-22T09:44:54.812Z"
   },
   {
    "duration": 605,
    "start_time": "2022-04-22T09:44:55.514Z"
   },
   {
    "duration": 75,
    "start_time": "2022-04-22T09:44:56.121Z"
   },
   {
    "duration": 15,
    "start_time": "2022-04-22T09:44:56.199Z"
   },
   {
    "duration": 35,
    "start_time": "2022-04-22T09:44:56.217Z"
   },
   {
    "duration": 1107,
    "start_time": "2022-04-22T09:44:56.255Z"
   },
   {
    "duration": 65,
    "start_time": "2022-04-22T09:44:57.365Z"
   },
   {
    "duration": 36,
    "start_time": "2022-04-22T09:44:57.433Z"
   },
   {
    "duration": 55,
    "start_time": "2022-04-22T09:44:57.472Z"
   },
   {
    "duration": 385,
    "start_time": "2022-04-22T09:44:57.532Z"
   },
   {
    "duration": 1584,
    "start_time": "2022-04-22T09:44:57.920Z"
   },
   {
    "duration": 10,
    "start_time": "2022-04-22T09:44:59.507Z"
   },
   {
    "duration": 836,
    "start_time": "2022-04-22T09:44:59.519Z"
   },
   {
    "duration": 8,
    "start_time": "2022-04-22T09:45:22.216Z"
   },
   {
    "duration": 7,
    "start_time": "2022-04-22T09:45:41.214Z"
   },
   {
    "duration": 8,
    "start_time": "2022-04-22T09:45:47.314Z"
   },
   {
    "duration": 8,
    "start_time": "2022-04-22T09:47:04.571Z"
   },
   {
    "duration": 1493,
    "start_time": "2022-04-22T09:47:49.078Z"
   },
   {
    "duration": 58,
    "start_time": "2022-04-22T09:47:50.574Z"
   },
   {
    "duration": 67,
    "start_time": "2022-04-22T09:47:50.635Z"
   },
   {
    "duration": 31,
    "start_time": "2022-04-22T09:47:50.706Z"
   },
   {
    "duration": 54,
    "start_time": "2022-04-22T09:47:50.740Z"
   },
   {
    "duration": 33,
    "start_time": "2022-04-22T09:47:50.799Z"
   },
   {
    "duration": 22,
    "start_time": "2022-04-22T09:47:50.835Z"
   },
   {
    "duration": 49,
    "start_time": "2022-04-22T09:47:50.859Z"
   },
   {
    "duration": 31,
    "start_time": "2022-04-22T09:47:50.912Z"
   },
   {
    "duration": 48,
    "start_time": "2022-04-22T09:47:50.947Z"
   },
   {
    "duration": 42,
    "start_time": "2022-04-22T09:47:51.000Z"
   },
   {
    "duration": 32,
    "start_time": "2022-04-22T09:47:51.044Z"
   },
   {
    "duration": 56,
    "start_time": "2022-04-22T09:47:51.078Z"
   },
   {
    "duration": 16,
    "start_time": "2022-04-22T09:47:51.136Z"
   },
   {
    "duration": 830,
    "start_time": "2022-04-22T09:47:51.155Z"
   },
   {
    "duration": 11,
    "start_time": "2022-04-22T09:47:51.987Z"
   },
   {
    "duration": 15,
    "start_time": "2022-04-22T09:47:52.005Z"
   },
   {
    "duration": 29,
    "start_time": "2022-04-22T09:47:52.022Z"
   },
   {
    "duration": 660,
    "start_time": "2022-04-22T09:47:52.053Z"
   },
   {
    "duration": 592,
    "start_time": "2022-04-22T09:47:52.715Z"
   },
   {
    "duration": 100,
    "start_time": "2022-04-22T09:47:53.310Z"
   },
   {
    "duration": 11,
    "start_time": "2022-04-22T09:47:53.412Z"
   },
   {
    "duration": 33,
    "start_time": "2022-04-22T09:47:53.425Z"
   },
   {
    "duration": 935,
    "start_time": "2022-04-22T09:47:53.460Z"
   },
   {
    "duration": 48,
    "start_time": "2022-04-22T09:47:54.399Z"
   },
   {
    "duration": 49,
    "start_time": "2022-04-22T09:47:54.449Z"
   },
   {
    "duration": 36,
    "start_time": "2022-04-22T09:47:54.503Z"
   },
   {
    "duration": 367,
    "start_time": "2022-04-22T09:47:54.543Z"
   },
   {
    "duration": 1166,
    "start_time": "2022-04-22T09:47:54.912Z"
   },
   {
    "duration": 7,
    "start_time": "2022-04-22T09:47:56.080Z"
   },
   {
    "duration": 834,
    "start_time": "2022-04-22T09:47:56.096Z"
   },
   {
    "duration": 5,
    "start_time": "2022-04-22T09:48:10.214Z"
   },
   {
    "duration": 676,
    "start_time": "2022-04-22T09:48:14.834Z"
   },
   {
    "duration": 1668,
    "start_time": "2022-04-22T09:48:35.574Z"
   },
   {
    "duration": 68,
    "start_time": "2022-04-22T09:48:37.245Z"
   },
   {
    "duration": 78,
    "start_time": "2022-04-22T09:48:37.315Z"
   },
   {
    "duration": 36,
    "start_time": "2022-04-22T09:48:37.396Z"
   },
   {
    "duration": 26,
    "start_time": "2022-04-22T09:48:37.435Z"
   },
   {
    "duration": 54,
    "start_time": "2022-04-22T09:48:37.463Z"
   },
   {
    "duration": 34,
    "start_time": "2022-04-22T09:48:37.520Z"
   },
   {
    "duration": 25,
    "start_time": "2022-04-22T09:48:37.556Z"
   },
   {
    "duration": 53,
    "start_time": "2022-04-22T09:48:37.583Z"
   },
   {
    "duration": 23,
    "start_time": "2022-04-22T09:48:37.638Z"
   },
   {
    "duration": 56,
    "start_time": "2022-04-22T09:48:37.663Z"
   },
   {
    "duration": 31,
    "start_time": "2022-04-22T09:48:37.722Z"
   },
   {
    "duration": 60,
    "start_time": "2022-04-22T09:48:37.755Z"
   },
   {
    "duration": 16,
    "start_time": "2022-04-22T09:48:37.821Z"
   },
   {
    "duration": 839,
    "start_time": "2022-04-22T09:48:37.840Z"
   },
   {
    "duration": 14,
    "start_time": "2022-04-22T09:48:38.682Z"
   },
   {
    "duration": 29,
    "start_time": "2022-04-22T09:48:38.698Z"
   },
   {
    "duration": 30,
    "start_time": "2022-04-22T09:48:38.729Z"
   },
   {
    "duration": 652,
    "start_time": "2022-04-22T09:48:38.762Z"
   },
   {
    "duration": 585,
    "start_time": "2022-04-22T09:48:39.416Z"
   },
   {
    "duration": 59,
    "start_time": "2022-04-22T09:48:40.004Z"
   },
   {
    "duration": 31,
    "start_time": "2022-04-22T09:48:40.066Z"
   },
   {
    "duration": 46,
    "start_time": "2022-04-22T09:48:40.099Z"
   },
   {
    "duration": 1052,
    "start_time": "2022-04-22T09:48:40.147Z"
   },
   {
    "duration": 37,
    "start_time": "2022-04-22T09:48:41.202Z"
   },
   {
    "duration": 58,
    "start_time": "2022-04-22T09:48:41.242Z"
   },
   {
    "duration": 41,
    "start_time": "2022-04-22T09:48:41.302Z"
   },
   {
    "duration": 385,
    "start_time": "2022-04-22T09:48:41.345Z"
   },
   {
    "duration": 1311,
    "start_time": "2022-04-22T09:48:41.733Z"
   },
   {
    "duration": 5,
    "start_time": "2022-04-22T09:48:43.046Z"
   },
   {
    "duration": 905,
    "start_time": "2022-04-22T09:48:43.053Z"
   },
   {
    "duration": 1848,
    "start_time": "2022-04-22T09:50:32.439Z"
   },
   {
    "duration": 1529,
    "start_time": "2022-04-22T09:50:41.301Z"
   },
   {
    "duration": 56,
    "start_time": "2022-04-22T09:50:42.833Z"
   },
   {
    "duration": 51,
    "start_time": "2022-04-22T09:50:42.892Z"
   },
   {
    "duration": 24,
    "start_time": "2022-04-22T09:50:42.946Z"
   },
   {
    "duration": 28,
    "start_time": "2022-04-22T09:50:42.993Z"
   },
   {
    "duration": 23,
    "start_time": "2022-04-22T09:50:43.024Z"
   },
   {
    "duration": 55,
    "start_time": "2022-04-22T09:50:43.050Z"
   },
   {
    "duration": 28,
    "start_time": "2022-04-22T09:50:43.107Z"
   },
   {
    "duration": 33,
    "start_time": "2022-04-22T09:50:43.137Z"
   },
   {
    "duration": 38,
    "start_time": "2022-04-22T09:50:43.174Z"
   },
   {
    "duration": 31,
    "start_time": "2022-04-22T09:50:43.215Z"
   },
   {
    "duration": 75,
    "start_time": "2022-04-22T09:50:43.249Z"
   },
   {
    "duration": 32,
    "start_time": "2022-04-22T09:50:43.327Z"
   },
   {
    "duration": 41,
    "start_time": "2022-04-22T09:50:43.361Z"
   },
   {
    "duration": 872,
    "start_time": "2022-04-22T09:50:43.404Z"
   },
   {
    "duration": 4,
    "start_time": "2022-04-22T09:50:44.279Z"
   },
   {
    "duration": 7,
    "start_time": "2022-04-22T09:50:44.294Z"
   },
   {
    "duration": 1892,
    "start_time": "2022-04-22T09:50:44.306Z"
   },
   {
    "duration": 0,
    "start_time": "2022-04-22T09:50:46.200Z"
   },
   {
    "duration": 0,
    "start_time": "2022-04-22T09:50:46.202Z"
   },
   {
    "duration": 0,
    "start_time": "2022-04-22T09:50:46.204Z"
   },
   {
    "duration": 0,
    "start_time": "2022-04-22T09:50:46.206Z"
   },
   {
    "duration": 0,
    "start_time": "2022-04-22T09:50:46.207Z"
   },
   {
    "duration": 0,
    "start_time": "2022-04-22T09:50:46.209Z"
   },
   {
    "duration": 0,
    "start_time": "2022-04-22T09:50:46.211Z"
   },
   {
    "duration": 0,
    "start_time": "2022-04-22T09:50:46.212Z"
   },
   {
    "duration": 0,
    "start_time": "2022-04-22T09:50:46.214Z"
   },
   {
    "duration": 0,
    "start_time": "2022-04-22T09:50:46.216Z"
   },
   {
    "duration": 0,
    "start_time": "2022-04-22T09:50:46.218Z"
   },
   {
    "duration": 0,
    "start_time": "2022-04-22T09:50:46.221Z"
   },
   {
    "duration": 0,
    "start_time": "2022-04-22T09:50:46.223Z"
   },
   {
    "duration": 0,
    "start_time": "2022-04-22T09:50:46.225Z"
   },
   {
    "duration": 10,
    "start_time": "2022-04-22T09:51:20.258Z"
   },
   {
    "duration": 1533,
    "start_time": "2022-04-22T09:51:29.474Z"
   },
   {
    "duration": 57,
    "start_time": "2022-04-22T09:51:31.010Z"
   },
   {
    "duration": 50,
    "start_time": "2022-04-22T09:51:31.069Z"
   },
   {
    "duration": 28,
    "start_time": "2022-04-22T09:51:31.121Z"
   },
   {
    "duration": 50,
    "start_time": "2022-04-22T09:51:31.151Z"
   },
   {
    "duration": 26,
    "start_time": "2022-04-22T09:51:31.203Z"
   },
   {
    "duration": 19,
    "start_time": "2022-04-22T09:51:31.231Z"
   },
   {
    "duration": 60,
    "start_time": "2022-04-22T09:51:31.252Z"
   },
   {
    "duration": 31,
    "start_time": "2022-04-22T09:51:31.314Z"
   },
   {
    "duration": 32,
    "start_time": "2022-04-22T09:51:31.349Z"
   },
   {
    "duration": 70,
    "start_time": "2022-04-22T09:51:31.383Z"
   },
   {
    "duration": 32,
    "start_time": "2022-04-22T09:51:31.455Z"
   },
   {
    "duration": 36,
    "start_time": "2022-04-22T09:51:31.490Z"
   },
   {
    "duration": 14,
    "start_time": "2022-04-22T09:51:31.528Z"
   },
   {
    "duration": 808,
    "start_time": "2022-04-22T09:51:31.544Z"
   },
   {
    "duration": 5,
    "start_time": "2022-04-22T09:51:32.355Z"
   },
   {
    "duration": 13,
    "start_time": "2022-04-22T09:51:32.362Z"
   },
   {
    "duration": 18,
    "start_time": "2022-04-22T09:51:32.378Z"
   },
   {
    "duration": 55,
    "start_time": "2022-04-22T09:51:32.402Z"
   },
   {
    "duration": 648,
    "start_time": "2022-04-22T09:51:32.459Z"
   },
   {
    "duration": 755,
    "start_time": "2022-04-22T09:51:33.109Z"
   },
   {
    "duration": 73,
    "start_time": "2022-04-22T09:51:33.867Z"
   },
   {
    "duration": 11,
    "start_time": "2022-04-22T09:51:33.942Z"
   },
   {
    "duration": 55,
    "start_time": "2022-04-22T09:51:33.955Z"
   },
   {
    "duration": 997,
    "start_time": "2022-04-22T09:51:34.012Z"
   },
   {
    "duration": 38,
    "start_time": "2022-04-22T09:51:35.012Z"
   },
   {
    "duration": 57,
    "start_time": "2022-04-22T09:51:35.053Z"
   },
   {
    "duration": 139,
    "start_time": "2022-04-22T09:51:35.115Z"
   },
   {
    "duration": 394,
    "start_time": "2022-04-22T09:51:35.257Z"
   },
   {
    "duration": 1462,
    "start_time": "2022-04-22T09:51:35.653Z"
   },
   {
    "duration": 6,
    "start_time": "2022-04-22T09:51:37.118Z"
   },
   {
    "duration": 809,
    "start_time": "2022-04-22T09:51:37.127Z"
   },
   {
    "duration": 23,
    "start_time": "2022-04-22T09:52:24.952Z"
   },
   {
    "duration": 27,
    "start_time": "2022-04-22T09:52:40.835Z"
   },
   {
    "duration": 6,
    "start_time": "2022-04-22T09:55:29.723Z"
   },
   {
    "duration": 1436,
    "start_time": "2022-04-22T09:55:40.524Z"
   },
   {
    "duration": 58,
    "start_time": "2022-04-22T09:55:41.963Z"
   },
   {
    "duration": 44,
    "start_time": "2022-04-22T09:55:42.024Z"
   },
   {
    "duration": 45,
    "start_time": "2022-04-22T09:55:42.071Z"
   },
   {
    "duration": 24,
    "start_time": "2022-04-22T09:55:42.118Z"
   },
   {
    "duration": 22,
    "start_time": "2022-04-22T09:55:42.144Z"
   },
   {
    "duration": 20,
    "start_time": "2022-04-22T09:55:42.197Z"
   },
   {
    "duration": 21,
    "start_time": "2022-04-22T09:55:42.219Z"
   },
   {
    "duration": 59,
    "start_time": "2022-04-22T09:55:42.241Z"
   },
   {
    "duration": 37,
    "start_time": "2022-04-22T09:55:42.304Z"
   },
   {
    "duration": 32,
    "start_time": "2022-04-22T09:55:42.343Z"
   },
   {
    "duration": 42,
    "start_time": "2022-04-22T09:55:42.377Z"
   },
   {
    "duration": 38,
    "start_time": "2022-04-22T09:55:42.421Z"
   },
   {
    "duration": 43,
    "start_time": "2022-04-22T09:55:42.461Z"
   },
   {
    "duration": 853,
    "start_time": "2022-04-22T09:55:42.507Z"
   },
   {
    "duration": 5,
    "start_time": "2022-04-22T09:55:43.362Z"
   },
   {
    "duration": 15,
    "start_time": "2022-04-22T09:55:43.369Z"
   },
   {
    "duration": 33,
    "start_time": "2022-04-22T09:55:43.394Z"
   },
   {
    "duration": 693,
    "start_time": "2022-04-22T09:55:43.430Z"
   },
   {
    "duration": 803,
    "start_time": "2022-04-22T09:55:44.125Z"
   },
   {
    "duration": 80,
    "start_time": "2022-04-22T09:55:44.931Z"
   },
   {
    "duration": 13,
    "start_time": "2022-04-22T09:55:45.015Z"
   },
   {
    "duration": 34,
    "start_time": "2022-04-22T09:55:45.031Z"
   },
   {
    "duration": 906,
    "start_time": "2022-04-22T09:55:45.067Z"
   },
   {
    "duration": 47,
    "start_time": "2022-04-22T09:55:45.976Z"
   },
   {
    "duration": 29,
    "start_time": "2022-04-22T09:55:46.025Z"
   },
   {
    "duration": 59,
    "start_time": "2022-04-22T09:55:46.057Z"
   },
   {
    "duration": 356,
    "start_time": "2022-04-22T09:55:46.121Z"
   },
   {
    "duration": 1126,
    "start_time": "2022-04-22T09:55:46.480Z"
   },
   {
    "duration": 5,
    "start_time": "2022-04-22T09:55:47.608Z"
   },
   {
    "duration": 7,
    "start_time": "2022-04-22T09:55:47.616Z"
   },
   {
    "duration": 8,
    "start_time": "2022-04-22T09:55:47.625Z"
   },
   {
    "duration": 22,
    "start_time": "2022-04-22T10:04:09.463Z"
   },
   {
    "duration": 51,
    "start_time": "2022-04-22T10:11:19.794Z"
   },
   {
    "duration": 6,
    "start_time": "2022-04-22T10:20:53.176Z"
   },
   {
    "duration": 8,
    "start_time": "2022-04-22T10:20:55.294Z"
   },
   {
    "duration": 6,
    "start_time": "2022-04-22T10:20:57.224Z"
   },
   {
    "duration": 20,
    "start_time": "2022-04-22T10:25:32.368Z"
   },
   {
    "duration": 163,
    "start_time": "2022-04-22T10:26:30.926Z"
   },
   {
    "duration": 22,
    "start_time": "2022-04-22T10:26:48.377Z"
   },
   {
    "duration": 29,
    "start_time": "2022-04-22T10:27:35.978Z"
   },
   {
    "duration": 111,
    "start_time": "2022-04-22T10:28:27.615Z"
   },
   {
    "duration": 23,
    "start_time": "2022-04-22T10:32:52.589Z"
   },
   {
    "duration": 24,
    "start_time": "2022-04-22T10:33:31.568Z"
   },
   {
    "duration": 22,
    "start_time": "2022-04-22T10:33:40.550Z"
   },
   {
    "duration": 24,
    "start_time": "2022-04-22T10:34:26.507Z"
   },
   {
    "duration": 21,
    "start_time": "2022-04-22T10:37:34.248Z"
   },
   {
    "duration": 21,
    "start_time": "2022-04-22T10:39:52.099Z"
   },
   {
    "duration": 21,
    "start_time": "2022-04-22T10:40:10.258Z"
   },
   {
    "duration": 20,
    "start_time": "2022-04-22T10:40:33.924Z"
   },
   {
    "duration": 7,
    "start_time": "2022-04-22T11:28:07.532Z"
   },
   {
    "duration": 12,
    "start_time": "2022-04-22T11:32:50.070Z"
   },
   {
    "duration": 236,
    "start_time": "2022-04-22T11:33:01.180Z"
   },
   {
    "duration": 2216,
    "start_time": "2022-04-22T11:36:07.348Z"
   },
   {
    "duration": 8,
    "start_time": "2022-04-22T11:36:22.443Z"
   },
   {
    "duration": 7,
    "start_time": "2022-04-22T11:36:32.769Z"
   },
   {
    "duration": 6,
    "start_time": "2022-04-22T11:36:39.183Z"
   },
   {
    "duration": 279,
    "start_time": "2022-04-22T11:36:44.622Z"
   },
   {
    "duration": 6,
    "start_time": "2022-04-22T11:37:39.567Z"
   },
   {
    "duration": 8,
    "start_time": "2022-04-22T11:37:51.589Z"
   },
   {
    "duration": 5,
    "start_time": "2022-04-22T11:38:11.906Z"
   },
   {
    "duration": 6,
    "start_time": "2022-04-22T11:39:00.062Z"
   },
   {
    "duration": 21,
    "start_time": "2022-04-22T11:40:21.409Z"
   },
   {
    "duration": 21,
    "start_time": "2022-04-22T11:41:05.499Z"
   },
   {
    "duration": 200,
    "start_time": "2022-04-22T11:44:31.441Z"
   },
   {
    "duration": 24,
    "start_time": "2022-04-22T11:44:46.237Z"
   },
   {
    "duration": 11,
    "start_time": "2022-04-22T11:46:50.781Z"
   },
   {
    "duration": 3374,
    "start_time": "2022-04-22T11:47:50.033Z"
   },
   {
    "duration": 8533,
    "start_time": "2022-04-22T11:48:03.474Z"
   },
   {
    "duration": 9331,
    "start_time": "2022-04-22T11:50:01.877Z"
   },
   {
    "duration": 2641,
    "start_time": "2022-04-22T11:50:49.922Z"
   },
   {
    "duration": 2739,
    "start_time": "2022-04-22T11:51:57.799Z"
   },
   {
    "duration": 13,
    "start_time": "2022-04-22T11:53:32.657Z"
   },
   {
    "duration": 6,
    "start_time": "2022-04-22T11:54:59.124Z"
   },
   {
    "duration": 1458,
    "start_time": "2022-04-22T11:55:09.475Z"
   },
   {
    "duration": 70,
    "start_time": "2022-04-22T11:55:10.935Z"
   },
   {
    "duration": 43,
    "start_time": "2022-04-22T11:55:11.008Z"
   },
   {
    "duration": 42,
    "start_time": "2022-04-22T11:55:11.054Z"
   },
   {
    "duration": 28,
    "start_time": "2022-04-22T11:55:11.098Z"
   },
   {
    "duration": 23,
    "start_time": "2022-04-22T11:55:11.128Z"
   },
   {
    "duration": 46,
    "start_time": "2022-04-22T11:55:11.154Z"
   },
   {
    "duration": 25,
    "start_time": "2022-04-22T11:55:11.204Z"
   },
   {
    "duration": 30,
    "start_time": "2022-04-22T11:55:11.231Z"
   },
   {
    "duration": 28,
    "start_time": "2022-04-22T11:55:11.293Z"
   },
   {
    "duration": 31,
    "start_time": "2022-04-22T11:55:11.323Z"
   },
   {
    "duration": 56,
    "start_time": "2022-04-22T11:55:11.356Z"
   },
   {
    "duration": 31,
    "start_time": "2022-04-22T11:55:11.414Z"
   },
   {
    "duration": 49,
    "start_time": "2022-04-22T11:55:11.448Z"
   },
   {
    "duration": 16,
    "start_time": "2022-04-22T11:55:11.499Z"
   },
   {
    "duration": 806,
    "start_time": "2022-04-22T11:55:11.517Z"
   },
   {
    "duration": 5,
    "start_time": "2022-04-22T11:55:12.325Z"
   },
   {
    "duration": 14,
    "start_time": "2022-04-22T11:55:12.332Z"
   },
   {
    "duration": 4,
    "start_time": "2022-04-22T11:55:12.348Z"
   },
   {
    "duration": 43,
    "start_time": "2022-04-22T11:55:12.354Z"
   },
   {
    "duration": 35,
    "start_time": "2022-04-22T11:55:12.399Z"
   },
   {
    "duration": 654,
    "start_time": "2022-04-22T11:55:12.436Z"
   },
   {
    "duration": 572,
    "start_time": "2022-04-22T11:55:13.093Z"
   },
   {
    "duration": 71,
    "start_time": "2022-04-22T11:55:13.667Z"
   },
   {
    "duration": 10,
    "start_time": "2022-04-22T11:55:13.740Z"
   },
   {
    "duration": 50,
    "start_time": "2022-04-22T11:55:13.752Z"
   },
   {
    "duration": 937,
    "start_time": "2022-04-22T11:55:13.805Z"
   },
   {
    "duration": 60,
    "start_time": "2022-04-22T11:55:14.747Z"
   },
   {
    "duration": 32,
    "start_time": "2022-04-22T11:55:14.809Z"
   },
   {
    "duration": 35,
    "start_time": "2022-04-22T11:55:14.843Z"
   },
   {
    "duration": 377,
    "start_time": "2022-04-22T11:55:14.893Z"
   },
   {
    "duration": 356,
    "start_time": "2022-04-22T11:55:15.272Z"
   },
   {
    "duration": 4,
    "start_time": "2022-04-22T11:55:15.630Z"
   },
   {
    "duration": 12,
    "start_time": "2022-04-22T11:55:15.636Z"
   },
   {
    "duration": 12,
    "start_time": "2022-04-22T11:55:15.650Z"
   },
   {
    "duration": 46,
    "start_time": "2022-04-22T11:55:15.664Z"
   },
   {
    "duration": 36,
    "start_time": "2022-04-22T11:55:15.712Z"
   },
   {
    "duration": 6,
    "start_time": "2022-04-22T11:55:15.751Z"
   },
   {
    "duration": 18,
    "start_time": "2022-04-22T11:55:15.759Z"
   },
   {
    "duration": 7,
    "start_time": "2022-04-22T11:55:15.802Z"
   },
   {
    "duration": 24,
    "start_time": "2022-04-22T11:55:15.812Z"
   },
   {
    "duration": 22,
    "start_time": "2022-04-22T11:55:15.838Z"
   },
   {
    "duration": 49,
    "start_time": "2022-04-22T11:55:15.863Z"
   },
   {
    "duration": 26,
    "start_time": "2022-04-22T11:55:15.915Z"
   },
   {
    "duration": 21,
    "start_time": "2022-04-22T11:55:15.943Z"
   },
   {
    "duration": 25,
    "start_time": "2022-04-22T11:55:15.993Z"
   },
   {
    "duration": 20,
    "start_time": "2022-04-22T11:55:16.020Z"
   },
   {
    "duration": 49,
    "start_time": "2022-04-22T11:55:16.043Z"
   },
   {
    "duration": 24,
    "start_time": "2022-04-22T11:55:16.096Z"
   },
   {
    "duration": 27,
    "start_time": "2022-04-22T11:55:16.123Z"
   },
   {
    "duration": 14,
    "start_time": "2022-04-22T11:55:16.153Z"
   },
   {
    "duration": 191,
    "start_time": "2022-04-22T12:00:12.200Z"
   },
   {
    "duration": 33,
    "start_time": "2022-04-22T12:00:20.980Z"
   },
   {
    "duration": 208,
    "start_time": "2022-04-22T12:00:31.570Z"
   },
   {
    "duration": 345,
    "start_time": "2022-04-22T12:00:52.232Z"
   },
   {
    "duration": 10,
    "start_time": "2022-04-22T12:02:45.138Z"
   },
   {
    "duration": 9,
    "start_time": "2022-04-22T12:02:45.151Z"
   },
   {
    "duration": 3349,
    "start_time": "2022-04-22T12:09:38.049Z"
   },
   {
    "duration": 10,
    "start_time": "2022-04-22T12:09:56.441Z"
   },
   {
    "duration": 6,
    "start_time": "2022-04-22T12:10:53.552Z"
   },
   {
    "duration": 1162,
    "start_time": "2022-04-22T17:17:40.475Z"
   },
   {
    "duration": 41,
    "start_time": "2022-04-22T17:17:41.639Z"
   },
   {
    "duration": 27,
    "start_time": "2022-04-22T17:17:41.681Z"
   },
   {
    "duration": 23,
    "start_time": "2022-04-22T17:17:41.710Z"
   },
   {
    "duration": 23,
    "start_time": "2022-04-22T17:17:41.735Z"
   },
   {
    "duration": 18,
    "start_time": "2022-04-22T17:17:41.760Z"
   },
   {
    "duration": 20,
    "start_time": "2022-04-22T17:17:41.779Z"
   },
   {
    "duration": 30,
    "start_time": "2022-04-22T17:17:41.800Z"
   },
   {
    "duration": 18,
    "start_time": "2022-04-22T17:17:41.832Z"
   },
   {
    "duration": 18,
    "start_time": "2022-04-22T17:17:41.852Z"
   },
   {
    "duration": 25,
    "start_time": "2022-04-22T17:17:41.872Z"
   },
   {
    "duration": 27,
    "start_time": "2022-04-22T17:17:41.898Z"
   },
   {
    "duration": 19,
    "start_time": "2022-04-22T17:17:41.926Z"
   },
   {
    "duration": 15,
    "start_time": "2022-04-22T17:17:41.947Z"
   },
   {
    "duration": 10,
    "start_time": "2022-04-22T17:17:41.964Z"
   },
   {
    "duration": 457,
    "start_time": "2022-04-22T17:17:41.976Z"
   },
   {
    "duration": 3,
    "start_time": "2022-04-22T17:17:42.435Z"
   },
   {
    "duration": 14,
    "start_time": "2022-04-22T17:17:42.439Z"
   },
   {
    "duration": 14,
    "start_time": "2022-04-22T17:17:42.455Z"
   },
   {
    "duration": 15,
    "start_time": "2022-04-22T17:17:42.470Z"
   },
   {
    "duration": 21,
    "start_time": "2022-04-22T17:17:42.486Z"
   },
   {
    "duration": 363,
    "start_time": "2022-04-22T17:17:42.509Z"
   },
   {
    "duration": 303,
    "start_time": "2022-04-22T17:17:42.874Z"
   },
   {
    "duration": 46,
    "start_time": "2022-04-22T17:17:43.178Z"
   },
   {
    "duration": 6,
    "start_time": "2022-04-22T17:17:43.226Z"
   },
   {
    "duration": 17,
    "start_time": "2022-04-22T17:17:43.234Z"
   },
   {
    "duration": 507,
    "start_time": "2022-04-22T17:17:43.252Z"
   },
   {
    "duration": 24,
    "start_time": "2022-04-22T17:17:43.763Z"
   },
   {
    "duration": 35,
    "start_time": "2022-04-22T17:17:43.789Z"
   },
   {
    "duration": 23,
    "start_time": "2022-04-22T17:17:43.826Z"
   },
   {
    "duration": 212,
    "start_time": "2022-04-22T17:17:43.851Z"
   },
   {
    "duration": 192,
    "start_time": "2022-04-22T17:17:44.065Z"
   },
   {
    "duration": 15,
    "start_time": "2022-04-22T17:17:44.259Z"
   },
   {
    "duration": 20,
    "start_time": "2022-04-22T17:17:44.275Z"
   },
   {
    "duration": 26,
    "start_time": "2022-04-22T17:17:44.296Z"
   },
   {
    "duration": 14,
    "start_time": "2022-04-22T17:17:44.324Z"
   },
   {
    "duration": 5,
    "start_time": "2022-04-22T17:17:44.340Z"
   },
   {
    "duration": 21,
    "start_time": "2022-04-22T17:17:44.347Z"
   },
   {
    "duration": 15,
    "start_time": "2022-04-22T17:17:44.369Z"
   },
   {
    "duration": 15,
    "start_time": "2022-04-22T17:17:44.385Z"
   },
   {
    "duration": 31,
    "start_time": "2022-04-22T17:17:44.401Z"
   },
   {
    "duration": 14,
    "start_time": "2022-04-22T17:17:44.434Z"
   },
   {
    "duration": 15,
    "start_time": "2022-04-22T17:17:44.450Z"
   },
   {
    "duration": 14,
    "start_time": "2022-04-22T17:17:44.466Z"
   },
   {
    "duration": 41,
    "start_time": "2022-04-22T17:17:44.482Z"
   },
   {
    "duration": 14,
    "start_time": "2022-04-22T17:17:44.525Z"
   },
   {
    "duration": 7,
    "start_time": "2022-04-22T17:17:44.541Z"
   },
   {
    "duration": 7,
    "start_time": "2022-04-22T17:17:44.549Z"
   },
   {
    "duration": 8,
    "start_time": "2022-04-22T17:17:44.558Z"
   },
   {
    "duration": 7,
    "start_time": "2022-04-22T17:17:44.567Z"
   },
   {
    "duration": 11,
    "start_time": "2022-04-22T17:18:05.773Z"
   },
   {
    "duration": 3,
    "start_time": "2022-04-22T17:18:13.590Z"
   },
   {
    "duration": 38,
    "start_time": "2022-04-22T17:18:14.314Z"
   },
   {
    "duration": 27,
    "start_time": "2022-04-22T17:18:14.973Z"
   },
   {
    "duration": 16,
    "start_time": "2022-04-22T17:18:16.554Z"
   },
   {
    "duration": 18,
    "start_time": "2022-04-22T17:18:18.084Z"
   },
   {
    "duration": 16,
    "start_time": "2022-04-22T17:18:19.519Z"
   },
   {
    "duration": 14,
    "start_time": "2022-04-22T17:18:19.893Z"
   },
   {
    "duration": 15,
    "start_time": "2022-04-22T17:18:21.284Z"
   },
   {
    "duration": 20,
    "start_time": "2022-04-22T17:18:21.933Z"
   },
   {
    "duration": 12,
    "start_time": "2022-04-22T17:18:24.630Z"
   },
   {
    "duration": 18,
    "start_time": "2022-04-22T17:18:25.081Z"
   },
   {
    "duration": 22,
    "start_time": "2022-04-22T17:18:25.675Z"
   },
   {
    "duration": 15,
    "start_time": "2022-04-22T17:18:33.639Z"
   },
   {
    "duration": 195,
    "start_time": "2022-04-22T17:26:04.784Z"
   },
   {
    "duration": 110,
    "start_time": "2022-04-22T18:57:22.698Z"
   },
   {
    "duration": 1766,
    "start_time": "2022-04-22T18:57:29.718Z"
   },
   {
    "duration": 53,
    "start_time": "2022-04-22T18:57:31.490Z"
   },
   {
    "duration": 58,
    "start_time": "2022-04-22T18:57:31.545Z"
   },
   {
    "duration": 24,
    "start_time": "2022-04-22T18:57:31.606Z"
   },
   {
    "duration": 61,
    "start_time": "2022-04-22T18:57:31.632Z"
   },
   {
    "duration": 33,
    "start_time": "2022-04-22T18:57:31.696Z"
   },
   {
    "duration": 44,
    "start_time": "2022-04-22T18:57:31.731Z"
   },
   {
    "duration": 30,
    "start_time": "2022-04-22T18:57:31.778Z"
   },
   {
    "duration": 31,
    "start_time": "2022-04-22T18:57:31.810Z"
   },
   {
    "duration": 45,
    "start_time": "2022-04-22T18:57:31.845Z"
   },
   {
    "duration": 34,
    "start_time": "2022-04-22T18:57:31.892Z"
   },
   {
    "duration": 58,
    "start_time": "2022-04-22T18:57:31.928Z"
   },
   {
    "duration": 34,
    "start_time": "2022-04-22T18:57:31.990Z"
   },
   {
    "duration": 24,
    "start_time": "2022-04-22T18:57:32.026Z"
   },
   {
    "duration": 39,
    "start_time": "2022-04-22T18:57:32.052Z"
   },
   {
    "duration": 868,
    "start_time": "2022-04-22T18:57:32.093Z"
   },
   {
    "duration": 4,
    "start_time": "2022-04-22T18:57:32.964Z"
   },
   {
    "duration": 22,
    "start_time": "2022-04-22T18:57:32.981Z"
   },
   {
    "duration": 5,
    "start_time": "2022-04-22T18:57:33.005Z"
   },
   {
    "duration": 10,
    "start_time": "2022-04-22T18:57:33.012Z"
   },
   {
    "duration": 62,
    "start_time": "2022-04-22T18:57:33.024Z"
   },
   {
    "duration": 705,
    "start_time": "2022-04-22T18:57:33.088Z"
   },
   {
    "duration": 611,
    "start_time": "2022-04-22T18:57:33.796Z"
   },
   {
    "duration": 75,
    "start_time": "2022-04-22T18:57:34.409Z"
   },
   {
    "duration": 18,
    "start_time": "2022-04-22T18:57:34.486Z"
   },
   {
    "duration": 31,
    "start_time": "2022-04-22T18:57:34.507Z"
   },
   {
    "duration": 938,
    "start_time": "2022-04-22T18:57:34.540Z"
   },
   {
    "duration": 40,
    "start_time": "2022-04-22T18:57:35.485Z"
   },
   {
    "duration": 55,
    "start_time": "2022-04-22T18:57:35.528Z"
   },
   {
    "duration": 35,
    "start_time": "2022-04-22T18:57:35.586Z"
   },
   {
    "duration": 386,
    "start_time": "2022-04-22T18:57:35.623Z"
   },
   {
    "duration": 397,
    "start_time": "2022-04-22T18:57:36.012Z"
   },
   {
    "duration": 21,
    "start_time": "2022-04-22T18:57:36.412Z"
   },
   {
    "duration": 50,
    "start_time": "2022-04-22T18:57:36.436Z"
   },
   {
    "duration": 8,
    "start_time": "2022-04-22T18:57:36.489Z"
   },
   {
    "duration": 13,
    "start_time": "2022-04-22T18:57:36.498Z"
   },
   {
    "duration": 8,
    "start_time": "2022-04-22T18:57:36.513Z"
   },
   {
    "duration": 23,
    "start_time": "2022-04-22T18:57:36.523Z"
   },
   {
    "duration": 56,
    "start_time": "2022-04-22T18:57:36.548Z"
   },
   {
    "duration": 21,
    "start_time": "2022-04-22T18:57:36.607Z"
   },
   {
    "duration": 20,
    "start_time": "2022-04-22T18:57:36.631Z"
   },
   {
    "duration": 26,
    "start_time": "2022-04-22T18:57:36.682Z"
   },
   {
    "duration": 20,
    "start_time": "2022-04-22T18:57:36.710Z"
   },
   {
    "duration": 58,
    "start_time": "2022-04-22T18:57:36.733Z"
   },
   {
    "duration": 23,
    "start_time": "2022-04-22T18:57:36.796Z"
   },
   {
    "duration": 19,
    "start_time": "2022-04-22T18:57:36.822Z"
   },
   {
    "duration": 8,
    "start_time": "2022-04-22T18:57:36.843Z"
   },
   {
    "duration": 9,
    "start_time": "2022-04-22T18:57:36.881Z"
   },
   {
    "duration": 12,
    "start_time": "2022-04-22T18:57:36.893Z"
   },
   {
    "duration": 9,
    "start_time": "2022-04-22T18:57:36.908Z"
   },
   {
    "duration": 176,
    "start_time": "2022-04-22T19:01:50.748Z"
   },
   {
    "duration": 464,
    "start_time": "2022-04-22T19:02:34.903Z"
   },
   {
    "duration": 115,
    "start_time": "2022-04-22T19:02:58.441Z"
   },
   {
    "duration": 560,
    "start_time": "2022-04-22T19:03:07.648Z"
   },
   {
    "duration": 659,
    "start_time": "2022-04-22T19:03:25.586Z"
   },
   {
    "duration": 324,
    "start_time": "2022-04-22T19:03:48.806Z"
   },
   {
    "duration": 332,
    "start_time": "2022-04-22T19:05:44.373Z"
   },
   {
    "duration": 470,
    "start_time": "2022-04-22T19:07:34.682Z"
   },
   {
    "duration": 332,
    "start_time": "2022-04-22T19:10:37.102Z"
   },
   {
    "duration": 1715,
    "start_time": "2022-04-22T19:12:52.146Z"
   },
   {
    "duration": 326,
    "start_time": "2022-04-22T19:13:06.011Z"
   },
   {
    "duration": 344,
    "start_time": "2022-04-22T19:22:13.350Z"
   },
   {
    "duration": 498,
    "start_time": "2022-04-22T19:23:46.402Z"
   },
   {
    "duration": 343,
    "start_time": "2022-04-22T19:26:51.303Z"
   },
   {
    "duration": 32,
    "start_time": "2022-04-22T19:32:51.409Z"
   },
   {
    "duration": 327,
    "start_time": "2022-04-22T19:32:59.430Z"
   },
   {
    "duration": 411,
    "start_time": "2022-04-22T19:33:26.143Z"
   },
   {
    "duration": 431,
    "start_time": "2022-04-22T19:34:09.595Z"
   },
   {
    "duration": 328,
    "start_time": "2022-04-22T19:35:02.488Z"
   },
   {
    "duration": 326,
    "start_time": "2022-04-22T19:35:11.835Z"
   },
   {
    "duration": 1739,
    "start_time": "2022-04-22T19:45:53.193Z"
   },
   {
    "duration": 77,
    "start_time": "2022-04-22T19:45:54.935Z"
   },
   {
    "duration": 53,
    "start_time": "2022-04-22T19:45:55.014Z"
   },
   {
    "duration": 28,
    "start_time": "2022-04-22T19:45:55.081Z"
   },
   {
    "duration": 31,
    "start_time": "2022-04-22T19:45:55.111Z"
   },
   {
    "duration": 49,
    "start_time": "2022-04-22T19:45:55.145Z"
   },
   {
    "duration": 30,
    "start_time": "2022-04-22T19:45:55.197Z"
   },
   {
    "duration": 53,
    "start_time": "2022-04-22T19:45:55.229Z"
   },
   {
    "duration": 47,
    "start_time": "2022-04-22T19:45:55.285Z"
   },
   {
    "duration": 47,
    "start_time": "2022-04-22T19:45:55.335Z"
   },
   {
    "duration": 36,
    "start_time": "2022-04-22T19:45:55.384Z"
   },
   {
    "duration": 61,
    "start_time": "2022-04-22T19:45:55.422Z"
   },
   {
    "duration": 34,
    "start_time": "2022-04-22T19:45:55.485Z"
   },
   {
    "duration": 24,
    "start_time": "2022-04-22T19:45:55.521Z"
   },
   {
    "duration": 48,
    "start_time": "2022-04-22T19:45:55.548Z"
   },
   {
    "duration": 855,
    "start_time": "2022-04-22T19:45:55.598Z"
   },
   {
    "duration": 6,
    "start_time": "2022-04-22T19:45:56.455Z"
   },
   {
    "duration": 31,
    "start_time": "2022-04-22T19:45:56.464Z"
   },
   {
    "duration": 6,
    "start_time": "2022-04-22T19:45:56.498Z"
   },
   {
    "duration": 13,
    "start_time": "2022-04-22T19:45:56.507Z"
   },
   {
    "duration": 61,
    "start_time": "2022-04-22T19:45:56.522Z"
   },
   {
    "duration": 781,
    "start_time": "2022-04-22T19:45:56.586Z"
   },
   {
    "duration": 594,
    "start_time": "2022-04-22T19:45:57.370Z"
   },
   {
    "duration": 68,
    "start_time": "2022-04-22T19:45:57.966Z"
   },
   {
    "duration": 10,
    "start_time": "2022-04-22T19:45:58.037Z"
   },
   {
    "duration": 53,
    "start_time": "2022-04-22T19:45:58.049Z"
   },
   {
    "duration": 928,
    "start_time": "2022-04-22T19:45:58.105Z"
   },
   {
    "duration": 50,
    "start_time": "2022-04-22T19:45:59.038Z"
   },
   {
    "duration": 32,
    "start_time": "2022-04-22T19:45:59.090Z"
   },
   {
    "duration": 60,
    "start_time": "2022-04-22T19:45:59.124Z"
   },
   {
    "duration": 365,
    "start_time": "2022-04-22T19:45:59.187Z"
   },
   {
    "duration": 379,
    "start_time": "2022-04-22T19:45:59.554Z"
   },
   {
    "duration": 24,
    "start_time": "2022-04-22T19:45:59.935Z"
   },
   {
    "duration": 34,
    "start_time": "2022-04-22T19:45:59.982Z"
   },
   {
    "duration": 7,
    "start_time": "2022-04-22T19:46:00.019Z"
   },
   {
    "duration": 12,
    "start_time": "2022-04-22T19:46:00.029Z"
   },
   {
    "duration": 12,
    "start_time": "2022-04-22T19:46:00.044Z"
   },
   {
    "duration": 500,
    "start_time": "2022-04-22T19:46:00.059Z"
   },
   {
    "duration": 457,
    "start_time": "2022-04-22T19:46:00.562Z"
   },
   {
    "duration": 346,
    "start_time": "2022-04-22T19:46:01.021Z"
   },
   {
    "duration": 368,
    "start_time": "2022-04-22T19:46:01.369Z"
   },
   {
    "duration": 359,
    "start_time": "2022-04-22T19:46:01.739Z"
   },
   {
    "duration": 365,
    "start_time": "2022-04-22T19:46:02.100Z"
   },
   {
    "duration": 434,
    "start_time": "2022-04-22T19:46:02.468Z"
   },
   {
    "duration": 323,
    "start_time": "2022-04-22T19:46:02.904Z"
   },
   {
    "duration": 441,
    "start_time": "2022-04-22T19:46:03.229Z"
   },
   {
    "duration": 16,
    "start_time": "2022-04-22T19:46:03.672Z"
   },
   {
    "duration": 10,
    "start_time": "2022-04-22T19:46:03.691Z"
   },
   {
    "duration": 11,
    "start_time": "2022-04-22T19:46:03.703Z"
   },
   {
    "duration": 8,
    "start_time": "2022-04-22T19:46:03.717Z"
   }
  ],
  "kernelspec": {
   "display_name": "Python 3 (ipykernel)",
   "language": "python",
   "name": "python3"
  },
  "language_info": {
   "codemirror_mode": {
    "name": "ipython",
    "version": 3
   },
   "file_extension": ".py",
   "mimetype": "text/x-python",
   "name": "python",
   "nbconvert_exporter": "python",
   "pygments_lexer": "ipython3",
   "version": "3.9.5"
  },
  "toc": {
   "base_numbering": 1,
   "nav_menu": {},
   "number_sections": true,
   "sideBar": true,
   "skip_h1_title": true,
   "title_cell": "Table of Contents",
   "title_sidebar": "Contents",
   "toc_cell": false,
   "toc_position": {},
   "toc_section_display": true,
   "toc_window_display": false
  }
 },
 "nbformat": 4,
 "nbformat_minor": 2
}
