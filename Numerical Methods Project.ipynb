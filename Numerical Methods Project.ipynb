{
 "cells": [
  {
   "cell_type": "markdown",
   "metadata": {},
   "source": [
    "<div class=\"alert alert-success\">\n",
    "<b>Reviewer's comment V2</b>\n",
    "\n",
    "Thanks for taking the time to improve the project! It is accepted now. Good luck on the next sprint!\n",
    "\n",
    "</div>"
   ]
  },
  {
   "cell_type": "markdown",
   "metadata": {},
   "source": [
    "**Review**\n",
    "\n",
    "Hi, my name is Dmitry and I will be reviewing your project.\n",
    "  \n",
    "You can find my comments in colored markdown cells:\n",
    "  \n",
    "<div class=\"alert alert-success\">\n",
    "  If everything is done successfully.\n",
    "</div>\n",
    "  \n",
    "<div class=\"alert alert-warning\">\n",
    "  If I have some (optional) suggestions, or questions to think about, or general comments.\n",
    "</div>\n",
    "  \n",
    "<div class=\"alert alert-danger\">\n",
    "  If a section requires some corrections. Work can't be accepted with red comments.\n",
    "</div>\n",
    "  \n",
    "Please don't remove my comments, as it will make further review iterations much harder for me.\n",
    "  \n",
    "Feel free to reply to my comments or ask questions using the following template:\n",
    "  \n",
    "<div class=\"alert alert-info\">\n",
    "  For your comments and questions.\n",
    "</div>\n",
    "  \n",
    "First of all, thank you for turning in the project! You did a pretty good job overall, although there are some problems that need to be fixed before the project is accepted. Let me know if you have any questions!"
   ]
  },
  {
   "cell_type": "markdown",
   "metadata": {},
   "source": [
    "Rusty Bargain used car sales service is developing an app to attract new customers. In that app, you can quickly find out the market value of your car. You have access to historical data: technical specifications, trim versions, and prices. You need to build the model to determine the value. \n",
    "\n",
    "Rusty Bargain is interested in:\n",
    "\n",
    "- the quality of the prediction;\n",
    "- the speed of the prediction;\n",
    "- the time required for training"
   ]
  },
  {
   "cell_type": "markdown",
   "metadata": {},
   "source": [
    "## Data preparation"
   ]
  },
  {
   "cell_type": "markdown",
   "metadata": {},
   "source": [
    "### Initialization"
   ]
  },
  {
   "cell_type": "code",
   "execution_count": 1,
   "metadata": {},
   "outputs": [],
   "source": [
    "# Load essential libraries\n",
    "import pandas as pd\n",
    "from sklearn.model_selection import train_test_split\n",
    "from sklearn.preprocessing import StandardScaler, OrdinalEncoder\n",
    "from sklearn.metrics import mean_squared_error\n",
    "from math import sqrt\n",
    "import numpy as np\n",
    "from sklearn.linear_model import LinearRegression\n",
    "from sklearn.ensemble import RandomForestRegressor\n",
    "from sklearn.tree import DecisionTreeRegressor\n",
    "from catboost import CatBoostRegressor\n",
    "from xgboost import XGBRegressor\n",
    "from lightgbm import LGBMRegressor\n",
    "from sklearn.model_selection import cross_val_score\n",
    "from sklearn.metrics import make_scorer"
   ]
  },
  {
   "cell_type": "code",
   "execution_count": 2,
   "metadata": {},
   "outputs": [],
   "source": [
    "# Create dataframe\n",
    "df = pd.read_csv('/datasets/car_data.csv')"
   ]
  },
  {
   "cell_type": "code",
   "execution_count": 3,
   "metadata": {},
   "outputs": [
    {
     "data": {
      "text/html": [
       "<div>\n",
       "<style scoped>\n",
       "    .dataframe tbody tr th:only-of-type {\n",
       "        vertical-align: middle;\n",
       "    }\n",
       "\n",
       "    .dataframe tbody tr th {\n",
       "        vertical-align: top;\n",
       "    }\n",
       "\n",
       "    .dataframe thead th {\n",
       "        text-align: right;\n",
       "    }\n",
       "</style>\n",
       "<table border=\"1\" class=\"dataframe\">\n",
       "  <thead>\n",
       "    <tr style=\"text-align: right;\">\n",
       "      <th></th>\n",
       "      <th>DateCrawled</th>\n",
       "      <th>Price</th>\n",
       "      <th>VehicleType</th>\n",
       "      <th>RegistrationYear</th>\n",
       "      <th>Gearbox</th>\n",
       "      <th>Power</th>\n",
       "      <th>Model</th>\n",
       "      <th>Mileage</th>\n",
       "      <th>RegistrationMonth</th>\n",
       "      <th>FuelType</th>\n",
       "      <th>Brand</th>\n",
       "      <th>NotRepaired</th>\n",
       "      <th>DateCreated</th>\n",
       "      <th>NumberOfPictures</th>\n",
       "      <th>PostalCode</th>\n",
       "      <th>LastSeen</th>\n",
       "    </tr>\n",
       "  </thead>\n",
       "  <tbody>\n",
       "    <tr>\n",
       "      <th>0</th>\n",
       "      <td>24/03/2016 11:52</td>\n",
       "      <td>480</td>\n",
       "      <td>NaN</td>\n",
       "      <td>1993</td>\n",
       "      <td>manual</td>\n",
       "      <td>0</td>\n",
       "      <td>golf</td>\n",
       "      <td>150000</td>\n",
       "      <td>0</td>\n",
       "      <td>petrol</td>\n",
       "      <td>volkswagen</td>\n",
       "      <td>NaN</td>\n",
       "      <td>24/03/2016 00:00</td>\n",
       "      <td>0</td>\n",
       "      <td>70435</td>\n",
       "      <td>07/04/2016 03:16</td>\n",
       "    </tr>\n",
       "    <tr>\n",
       "      <th>1</th>\n",
       "      <td>24/03/2016 10:58</td>\n",
       "      <td>18300</td>\n",
       "      <td>coupe</td>\n",
       "      <td>2011</td>\n",
       "      <td>manual</td>\n",
       "      <td>190</td>\n",
       "      <td>NaN</td>\n",
       "      <td>125000</td>\n",
       "      <td>5</td>\n",
       "      <td>gasoline</td>\n",
       "      <td>audi</td>\n",
       "      <td>yes</td>\n",
       "      <td>24/03/2016 00:00</td>\n",
       "      <td>0</td>\n",
       "      <td>66954</td>\n",
       "      <td>07/04/2016 01:46</td>\n",
       "    </tr>\n",
       "    <tr>\n",
       "      <th>2</th>\n",
       "      <td>14/03/2016 12:52</td>\n",
       "      <td>9800</td>\n",
       "      <td>suv</td>\n",
       "      <td>2004</td>\n",
       "      <td>auto</td>\n",
       "      <td>163</td>\n",
       "      <td>grand</td>\n",
       "      <td>125000</td>\n",
       "      <td>8</td>\n",
       "      <td>gasoline</td>\n",
       "      <td>jeep</td>\n",
       "      <td>NaN</td>\n",
       "      <td>14/03/2016 00:00</td>\n",
       "      <td>0</td>\n",
       "      <td>90480</td>\n",
       "      <td>05/04/2016 12:47</td>\n",
       "    </tr>\n",
       "    <tr>\n",
       "      <th>3</th>\n",
       "      <td>17/03/2016 16:54</td>\n",
       "      <td>1500</td>\n",
       "      <td>small</td>\n",
       "      <td>2001</td>\n",
       "      <td>manual</td>\n",
       "      <td>75</td>\n",
       "      <td>golf</td>\n",
       "      <td>150000</td>\n",
       "      <td>6</td>\n",
       "      <td>petrol</td>\n",
       "      <td>volkswagen</td>\n",
       "      <td>no</td>\n",
       "      <td>17/03/2016 00:00</td>\n",
       "      <td>0</td>\n",
       "      <td>91074</td>\n",
       "      <td>17/03/2016 17:40</td>\n",
       "    </tr>\n",
       "    <tr>\n",
       "      <th>4</th>\n",
       "      <td>31/03/2016 17:25</td>\n",
       "      <td>3600</td>\n",
       "      <td>small</td>\n",
       "      <td>2008</td>\n",
       "      <td>manual</td>\n",
       "      <td>69</td>\n",
       "      <td>fabia</td>\n",
       "      <td>90000</td>\n",
       "      <td>7</td>\n",
       "      <td>gasoline</td>\n",
       "      <td>skoda</td>\n",
       "      <td>no</td>\n",
       "      <td>31/03/2016 00:00</td>\n",
       "      <td>0</td>\n",
       "      <td>60437</td>\n",
       "      <td>06/04/2016 10:17</td>\n",
       "    </tr>\n",
       "    <tr>\n",
       "      <th>...</th>\n",
       "      <td>...</td>\n",
       "      <td>...</td>\n",
       "      <td>...</td>\n",
       "      <td>...</td>\n",
       "      <td>...</td>\n",
       "      <td>...</td>\n",
       "      <td>...</td>\n",
       "      <td>...</td>\n",
       "      <td>...</td>\n",
       "      <td>...</td>\n",
       "      <td>...</td>\n",
       "      <td>...</td>\n",
       "      <td>...</td>\n",
       "      <td>...</td>\n",
       "      <td>...</td>\n",
       "      <td>...</td>\n",
       "    </tr>\n",
       "    <tr>\n",
       "      <th>354364</th>\n",
       "      <td>21/03/2016 09:50</td>\n",
       "      <td>0</td>\n",
       "      <td>NaN</td>\n",
       "      <td>2005</td>\n",
       "      <td>manual</td>\n",
       "      <td>0</td>\n",
       "      <td>colt</td>\n",
       "      <td>150000</td>\n",
       "      <td>7</td>\n",
       "      <td>petrol</td>\n",
       "      <td>mitsubishi</td>\n",
       "      <td>yes</td>\n",
       "      <td>21/03/2016 00:00</td>\n",
       "      <td>0</td>\n",
       "      <td>2694</td>\n",
       "      <td>21/03/2016 10:42</td>\n",
       "    </tr>\n",
       "    <tr>\n",
       "      <th>354365</th>\n",
       "      <td>14/03/2016 17:48</td>\n",
       "      <td>2200</td>\n",
       "      <td>NaN</td>\n",
       "      <td>2005</td>\n",
       "      <td>NaN</td>\n",
       "      <td>0</td>\n",
       "      <td>NaN</td>\n",
       "      <td>20000</td>\n",
       "      <td>1</td>\n",
       "      <td>NaN</td>\n",
       "      <td>sonstige_autos</td>\n",
       "      <td>NaN</td>\n",
       "      <td>14/03/2016 00:00</td>\n",
       "      <td>0</td>\n",
       "      <td>39576</td>\n",
       "      <td>06/04/2016 00:46</td>\n",
       "    </tr>\n",
       "    <tr>\n",
       "      <th>354366</th>\n",
       "      <td>05/03/2016 19:56</td>\n",
       "      <td>1199</td>\n",
       "      <td>convertible</td>\n",
       "      <td>2000</td>\n",
       "      <td>auto</td>\n",
       "      <td>101</td>\n",
       "      <td>fortwo</td>\n",
       "      <td>125000</td>\n",
       "      <td>3</td>\n",
       "      <td>petrol</td>\n",
       "      <td>smart</td>\n",
       "      <td>no</td>\n",
       "      <td>05/03/2016 00:00</td>\n",
       "      <td>0</td>\n",
       "      <td>26135</td>\n",
       "      <td>11/03/2016 18:17</td>\n",
       "    </tr>\n",
       "    <tr>\n",
       "      <th>354367</th>\n",
       "      <td>19/03/2016 18:57</td>\n",
       "      <td>9200</td>\n",
       "      <td>bus</td>\n",
       "      <td>1996</td>\n",
       "      <td>manual</td>\n",
       "      <td>102</td>\n",
       "      <td>transporter</td>\n",
       "      <td>150000</td>\n",
       "      <td>3</td>\n",
       "      <td>gasoline</td>\n",
       "      <td>volkswagen</td>\n",
       "      <td>no</td>\n",
       "      <td>19/03/2016 00:00</td>\n",
       "      <td>0</td>\n",
       "      <td>87439</td>\n",
       "      <td>07/04/2016 07:15</td>\n",
       "    </tr>\n",
       "    <tr>\n",
       "      <th>354368</th>\n",
       "      <td>20/03/2016 19:41</td>\n",
       "      <td>3400</td>\n",
       "      <td>wagon</td>\n",
       "      <td>2002</td>\n",
       "      <td>manual</td>\n",
       "      <td>100</td>\n",
       "      <td>golf</td>\n",
       "      <td>150000</td>\n",
       "      <td>6</td>\n",
       "      <td>gasoline</td>\n",
       "      <td>volkswagen</td>\n",
       "      <td>NaN</td>\n",
       "      <td>20/03/2016 00:00</td>\n",
       "      <td>0</td>\n",
       "      <td>40764</td>\n",
       "      <td>24/03/2016 12:45</td>\n",
       "    </tr>\n",
       "  </tbody>\n",
       "</table>\n",
       "<p>354369 rows × 16 columns</p>\n",
       "</div>"
      ],
      "text/plain": [
       "             DateCrawled  Price  VehicleType  RegistrationYear Gearbox  Power  \\\n",
       "0       24/03/2016 11:52    480          NaN              1993  manual      0   \n",
       "1       24/03/2016 10:58  18300        coupe              2011  manual    190   \n",
       "2       14/03/2016 12:52   9800          suv              2004    auto    163   \n",
       "3       17/03/2016 16:54   1500        small              2001  manual     75   \n",
       "4       31/03/2016 17:25   3600        small              2008  manual     69   \n",
       "...                  ...    ...          ...               ...     ...    ...   \n",
       "354364  21/03/2016 09:50      0          NaN              2005  manual      0   \n",
       "354365  14/03/2016 17:48   2200          NaN              2005     NaN      0   \n",
       "354366  05/03/2016 19:56   1199  convertible              2000    auto    101   \n",
       "354367  19/03/2016 18:57   9200          bus              1996  manual    102   \n",
       "354368  20/03/2016 19:41   3400        wagon              2002  manual    100   \n",
       "\n",
       "              Model  Mileage  RegistrationMonth  FuelType           Brand  \\\n",
       "0              golf   150000                  0    petrol      volkswagen   \n",
       "1               NaN   125000                  5  gasoline            audi   \n",
       "2             grand   125000                  8  gasoline            jeep   \n",
       "3              golf   150000                  6    petrol      volkswagen   \n",
       "4             fabia    90000                  7  gasoline           skoda   \n",
       "...             ...      ...                ...       ...             ...   \n",
       "354364         colt   150000                  7    petrol      mitsubishi   \n",
       "354365          NaN    20000                  1       NaN  sonstige_autos   \n",
       "354366       fortwo   125000                  3    petrol           smart   \n",
       "354367  transporter   150000                  3  gasoline      volkswagen   \n",
       "354368         golf   150000                  6  gasoline      volkswagen   \n",
       "\n",
       "       NotRepaired       DateCreated  NumberOfPictures  PostalCode  \\\n",
       "0              NaN  24/03/2016 00:00                 0       70435   \n",
       "1              yes  24/03/2016 00:00                 0       66954   \n",
       "2              NaN  14/03/2016 00:00                 0       90480   \n",
       "3               no  17/03/2016 00:00                 0       91074   \n",
       "4               no  31/03/2016 00:00                 0       60437   \n",
       "...            ...               ...               ...         ...   \n",
       "354364         yes  21/03/2016 00:00                 0        2694   \n",
       "354365         NaN  14/03/2016 00:00                 0       39576   \n",
       "354366          no  05/03/2016 00:00                 0       26135   \n",
       "354367          no  19/03/2016 00:00                 0       87439   \n",
       "354368         NaN  20/03/2016 00:00                 0       40764   \n",
       "\n",
       "                LastSeen  \n",
       "0       07/04/2016 03:16  \n",
       "1       07/04/2016 01:46  \n",
       "2       05/04/2016 12:47  \n",
       "3       17/03/2016 17:40  \n",
       "4       06/04/2016 10:17  \n",
       "...                  ...  \n",
       "354364  21/03/2016 10:42  \n",
       "354365  06/04/2016 00:46  \n",
       "354366  11/03/2016 18:17  \n",
       "354367  07/04/2016 07:15  \n",
       "354368  24/03/2016 12:45  \n",
       "\n",
       "[354369 rows x 16 columns]"
      ]
     },
     "execution_count": 3,
     "metadata": {},
     "output_type": "execute_result"
    }
   ],
   "source": [
    "# Visualize df\n",
    "df"
   ]
  },
  {
   "cell_type": "code",
   "execution_count": 4,
   "metadata": {},
   "outputs": [
    {
     "name": "stdout",
     "output_type": "stream",
     "text": [
      "<class 'pandas.core.frame.DataFrame'>\n",
      "RangeIndex: 354369 entries, 0 to 354368\n",
      "Data columns (total 16 columns):\n",
      " #   Column             Non-Null Count   Dtype \n",
      "---  ------             --------------   ----- \n",
      " 0   DateCrawled        354369 non-null  object\n",
      " 1   Price              354369 non-null  int64 \n",
      " 2   VehicleType        316879 non-null  object\n",
      " 3   RegistrationYear   354369 non-null  int64 \n",
      " 4   Gearbox            334536 non-null  object\n",
      " 5   Power              354369 non-null  int64 \n",
      " 6   Model              334664 non-null  object\n",
      " 7   Mileage            354369 non-null  int64 \n",
      " 8   RegistrationMonth  354369 non-null  int64 \n",
      " 9   FuelType           321474 non-null  object\n",
      " 10  Brand              354369 non-null  object\n",
      " 11  NotRepaired        283215 non-null  object\n",
      " 12  DateCreated        354369 non-null  object\n",
      " 13  NumberOfPictures   354369 non-null  int64 \n",
      " 14  PostalCode         354369 non-null  int64 \n",
      " 15  LastSeen           354369 non-null  object\n",
      "dtypes: int64(7), object(9)\n",
      "memory usage: 43.3+ MB\n"
     ]
    }
   ],
   "source": [
    "# Visualize df info\n",
    "df.info()"
   ]
  },
  {
   "cell_type": "markdown",
   "metadata": {},
   "source": [
    "<div class=\"alert alert-success\">\n",
    "<b>Reviewer's comment</b>\n",
    "\n",
    "Ok, the data was loaded and inspected\n",
    "\n",
    "</div>"
   ]
  },
  {
   "cell_type": "markdown",
   "metadata": {},
   "source": [
    "### Data Preprocessing"
   ]
  },
  {
   "cell_type": "markdown",
   "metadata": {},
   "source": [
    "#### Column names"
   ]
  },
  {
   "cell_type": "code",
   "execution_count": 5,
   "metadata": {},
   "outputs": [],
   "source": [
    "# Standardize column names\n",
    "df.columns = df.columns.str.lower()\n",
    "df = df.rename(\n",
    "    columns={\n",
    "    'datecrawled': 'date_crawled', \n",
    "    'vehicletype':'vehicle_type', \n",
    "    'registrationyear':'registration_year',\n",
    "    'gearbox':'gear_box',\n",
    "    'registrationmonth' : 'registration_month',\n",
    "    'fueltype': 'fuel_type',\n",
    "    'notrepaired': 'not_repaired',\n",
    "    'datecreated' : 'date_created',\n",
    "    'numberofpictures' : 'number_of_pictures',\n",
    "    'postalcode': 'postal_code',\n",
    "    'lastseen':'last_seen'\n",
    "})"
   ]
  },
  {
   "cell_type": "markdown",
   "metadata": {},
   "source": [
    "#### Missing values"
   ]
  },
  {
   "cell_type": "code",
   "execution_count": 6,
   "metadata": {},
   "outputs": [],
   "source": [
    "# Vehicle_type column\n",
    "df.fillna('N/A', inplace=True)"
   ]
  },
  {
   "cell_type": "markdown",
   "metadata": {},
   "source": [
    "<div class=\"alert alert-success\">\n",
    "<b>Reviewer's comment</b>\n",
    "\n",
    "Ok, missing values were replaced by a placeholder\n",
    "\n",
    "</div>"
   ]
  },
  {
   "cell_type": "markdown",
   "metadata": {},
   "source": [
    "#### Data types"
   ]
  },
  {
   "cell_type": "code",
   "execution_count": 7,
   "metadata": {},
   "outputs": [],
   "source": [
    "# Convert data types\n",
    "df['date_crawled'] = pd.to_datetime(df['date_crawled'])\n",
    "df['last_seen'] = pd.to_datetime(df['last_seen'])\n",
    "df['date_created'] = pd.to_datetime(df['date_created'])"
   ]
  },
  {
   "cell_type": "markdown",
   "metadata": {},
   "source": [
    "#### Result of preprocessing"
   ]
  },
  {
   "cell_type": "code",
   "execution_count": 8,
   "metadata": {},
   "outputs": [
    {
     "name": "stdout",
     "output_type": "stream",
     "text": [
      "<class 'pandas.core.frame.DataFrame'>\n",
      "RangeIndex: 354369 entries, 0 to 354368\n",
      "Data columns (total 16 columns):\n",
      " #   Column              Non-Null Count   Dtype         \n",
      "---  ------              --------------   -----         \n",
      " 0   date_crawled        354369 non-null  datetime64[ns]\n",
      " 1   price               354369 non-null  int64         \n",
      " 2   vehicle_type        354369 non-null  object        \n",
      " 3   registration_year   354369 non-null  int64         \n",
      " 4   gear_box            354369 non-null  object        \n",
      " 5   power               354369 non-null  int64         \n",
      " 6   model               354369 non-null  object        \n",
      " 7   mileage             354369 non-null  int64         \n",
      " 8   registration_month  354369 non-null  int64         \n",
      " 9   fuel_type           354369 non-null  object        \n",
      " 10  brand               354369 non-null  object        \n",
      " 11  not_repaired        354369 non-null  object        \n",
      " 12  date_created        354369 non-null  datetime64[ns]\n",
      " 13  number_of_pictures  354369 non-null  int64         \n",
      " 14  postal_code         354369 non-null  int64         \n",
      " 15  last_seen           354369 non-null  datetime64[ns]\n",
      "dtypes: datetime64[ns](3), int64(7), object(6)\n",
      "memory usage: 43.3+ MB\n"
     ]
    }
   ],
   "source": [
    "# Check df info\n",
    "df.info()"
   ]
  },
  {
   "cell_type": "code",
   "execution_count": 9,
   "metadata": {},
   "outputs": [],
   "source": [
    "# copy data frame for ordinal encoding\n",
    "df_2 = df.copy()"
   ]
  },
  {
   "cell_type": "markdown",
   "metadata": {},
   "source": [
    "<div class=\"alert alert-warning\">\n",
    "<b>Reviewer's comment</b>\n",
    "\n",
    "Would be nice to see some EDA, you missed some problems with the data. \n",
    "\n",
    "</div>"
   ]
  },
  {
   "cell_type": "markdown",
   "metadata": {},
   "source": [
    "#### Ordinal Encoding"
   ]
  },
  {
   "cell_type": "code",
   "execution_count": 10,
   "metadata": {},
   "outputs": [],
   "source": [
    "# Ordinal Encoding on categorical colums of df2\n",
    "categorical =['vehicle_type', 'gear_box', 'model', 'fuel_type', 'brand', 'not_repaired']\n",
    "encoder = OrdinalEncoder()\n",
    "df_2[categorical] = encoder.fit_transform(df_2[categorical])"
   ]
  },
  {
   "cell_type": "markdown",
   "metadata": {},
   "source": [
    "<div class=\"alert alert-success\">\n",
    "<b>Reviewer's comment</b>\n",
    "\n",
    "Ok, categorical features were encoded using ordinal encoder\n",
    "\n",
    "</div>"
   ]
  },
  {
   "cell_type": "markdown",
   "metadata": {},
   "source": [
    "#### OHE"
   ]
  },
  {
   "cell_type": "markdown",
   "metadata": {},
   "source": [
    "### Split df"
   ]
  },
  {
   "cell_type": "code",
   "execution_count": 11,
   "metadata": {},
   "outputs": [],
   "source": [
    "# Split into train and test df\n",
    "train, test = train_test_split(df, test_size = 0.25, random_state=12345)\n",
    "\n",
    "train_2, test_2 = train_test_split(df_2, test_size = 0.25, random_state=12345)"
   ]
  },
  {
   "cell_type": "code",
   "execution_count": 12,
   "metadata": {},
   "outputs": [],
   "source": [
    "# Features and targets\n",
    "train_features = train.drop(['price', 'date_crawled', 'last_seen', 'date_created', 'number_of_pictures', 'postal_code'], axis=1)\n",
    "train_target = train['price']\n",
    "\n",
    "tf2 = train_2.drop(['price', 'date_crawled', 'last_seen', 'date_created', 'number_of_pictures', 'postal_code'], axis=1)\n",
    "tt2 = train_2['price']\n",
    "\n",
    "test_features = test.drop(['price', 'date_crawled', 'last_seen', 'date_created', 'number_of_pictures', 'postal_code'], axis=1)\n",
    "test_target = test['price']\n",
    "\n",
    "tef2 = test_2.drop(['price', 'date_crawled', 'last_seen', 'date_created', 'number_of_pictures', 'postal_code'], axis=1)\n",
    "tet2 = test_2['price']"
   ]
  },
  {
   "cell_type": "markdown",
   "metadata": {},
   "source": [
    "<div class=\"alert alert-success\">\n",
    "<b>Reviewer's comment</b>\n",
    "\n",
    "The list of columns to drop makes sense. The data was split into train and test\n",
    "\n",
    "</div>"
   ]
  },
  {
   "cell_type": "markdown",
   "metadata": {},
   "source": [
    "#### Feature scaling"
   ]
  },
  {
   "cell_type": "code",
   "execution_count": 13,
   "metadata": {},
   "outputs": [],
   "source": [
    "# Scale numerical columns for df 1\n",
    "numeric = ['registration_year', 'power', 'mileage', 'registration_month']\n",
    "scaler = StandardScaler()\n",
    "scaler.fit(train_features[numeric])\n",
    "train_features[numeric] = scaler.transform(train_features[numeric])\n",
    "test_features[numeric] = scaler.transform(test_features[numeric])"
   ]
  },
  {
   "cell_type": "code",
   "execution_count": 14,
   "metadata": {},
   "outputs": [],
   "source": [
    "# Scale numerical columns for df 2\n",
    "numeric = ['registration_year', 'power', 'mileage', 'registration_month']\n",
    "scaler = StandardScaler()\n",
    "scaler.fit(tf2[numeric])\n",
    "tf2[numeric] = scaler.transform(tf2[numeric])\n",
    "tef2[numeric] = scaler.transform(tef2[numeric])"
   ]
  },
  {
   "cell_type": "markdown",
   "metadata": {},
   "source": [
    "<div class=\"alert alert-success\">\n",
    "<b>Reviewer's comment</b>\n",
    "\n",
    "Scaling is applied correctly\n",
    "\n",
    "</div>"
   ]
  },
  {
   "cell_type": "code",
   "execution_count": 15,
   "metadata": {},
   "outputs": [
    {
     "data": {
      "text/html": [
       "<div>\n",
       "<style scoped>\n",
       "    .dataframe tbody tr th:only-of-type {\n",
       "        vertical-align: middle;\n",
       "    }\n",
       "\n",
       "    .dataframe tbody tr th {\n",
       "        vertical-align: top;\n",
       "    }\n",
       "\n",
       "    .dataframe thead th {\n",
       "        text-align: right;\n",
       "    }\n",
       "</style>\n",
       "<table border=\"1\" class=\"dataframe\">\n",
       "  <thead>\n",
       "    <tr style=\"text-align: right;\">\n",
       "      <th></th>\n",
       "      <th>vehicle_type</th>\n",
       "      <th>registration_year</th>\n",
       "      <th>gear_box</th>\n",
       "      <th>power</th>\n",
       "      <th>model</th>\n",
       "      <th>mileage</th>\n",
       "      <th>registration_month</th>\n",
       "      <th>fuel_type</th>\n",
       "      <th>brand</th>\n",
       "      <th>not_repaired</th>\n",
       "    </tr>\n",
       "  </thead>\n",
       "  <tbody>\n",
       "    <tr>\n",
       "      <th>25945</th>\n",
       "      <td>sedan</td>\n",
       "      <td>-0.189626</td>\n",
       "      <td>manual</td>\n",
       "      <td>0.111709</td>\n",
       "      <td>escort</td>\n",
       "      <td>0.574755</td>\n",
       "      <td>-0.459017</td>\n",
       "      <td>petrol</td>\n",
       "      <td>ford</td>\n",
       "      <td>no</td>\n",
       "    </tr>\n",
       "    <tr>\n",
       "      <th>57619</th>\n",
       "      <td>sedan</td>\n",
       "      <td>-0.036692</td>\n",
       "      <td>N/A</td>\n",
       "      <td>-0.564868</td>\n",
       "      <td>c_klasse</td>\n",
       "      <td>0.574755</td>\n",
       "      <td>0.077608</td>\n",
       "      <td>petrol</td>\n",
       "      <td>mercedes_benz</td>\n",
       "      <td>N/A</td>\n",
       "    </tr>\n",
       "    <tr>\n",
       "      <th>14516</th>\n",
       "      <td>small</td>\n",
       "      <td>0.010365</td>\n",
       "      <td>manual</td>\n",
       "      <td>-0.180449</td>\n",
       "      <td>twingo</td>\n",
       "      <td>0.574755</td>\n",
       "      <td>0.345920</td>\n",
       "      <td>petrol</td>\n",
       "      <td>renault</td>\n",
       "      <td>no</td>\n",
       "    </tr>\n",
       "    <tr>\n",
       "      <th>283907</th>\n",
       "      <td>sedan</td>\n",
       "      <td>0.069186</td>\n",
       "      <td>manual</td>\n",
       "      <td>0.203970</td>\n",
       "      <td>qashqai</td>\n",
       "      <td>-1.536705</td>\n",
       "      <td>1.150857</td>\n",
       "      <td>gasoline</td>\n",
       "      <td>nissan</td>\n",
       "      <td>no</td>\n",
       "    </tr>\n",
       "    <tr>\n",
       "      <th>161548</th>\n",
       "      <td>wagon</td>\n",
       "      <td>0.104478</td>\n",
       "      <td>manual</td>\n",
       "      <td>-0.001054</td>\n",
       "      <td>astra</td>\n",
       "      <td>-1.800637</td>\n",
       "      <td>0.614232</td>\n",
       "      <td>gasoline</td>\n",
       "      <td>opel</td>\n",
       "      <td>no</td>\n",
       "    </tr>\n",
       "    <tr>\n",
       "      <th>...</th>\n",
       "      <td>...</td>\n",
       "      <td>...</td>\n",
       "      <td>...</td>\n",
       "      <td>...</td>\n",
       "      <td>...</td>\n",
       "      <td>...</td>\n",
       "      <td>...</td>\n",
       "      <td>...</td>\n",
       "      <td>...</td>\n",
       "      <td>...</td>\n",
       "    </tr>\n",
       "    <tr>\n",
       "      <th>47873</th>\n",
       "      <td>sedan</td>\n",
       "      <td>-0.083748</td>\n",
       "      <td>manual</td>\n",
       "      <td>-0.103565</td>\n",
       "      <td>6_reihe</td>\n",
       "      <td>0.574755</td>\n",
       "      <td>1.419169</td>\n",
       "      <td>petrol</td>\n",
       "      <td>mazda</td>\n",
       "      <td>no</td>\n",
       "    </tr>\n",
       "    <tr>\n",
       "      <th>86398</th>\n",
       "      <td>sedan</td>\n",
       "      <td>-0.095512</td>\n",
       "      <td>manual</td>\n",
       "      <td>-0.047184</td>\n",
       "      <td>other</td>\n",
       "      <td>-0.085076</td>\n",
       "      <td>1.419169</td>\n",
       "      <td>petrol</td>\n",
       "      <td>volkswagen</td>\n",
       "      <td>no</td>\n",
       "    </tr>\n",
       "    <tr>\n",
       "      <th>347556</th>\n",
       "      <td>sedan</td>\n",
       "      <td>0.045658</td>\n",
       "      <td>manual</td>\n",
       "      <td>0.060453</td>\n",
       "      <td>1er</td>\n",
       "      <td>-1.800637</td>\n",
       "      <td>-0.190705</td>\n",
       "      <td>petrol</td>\n",
       "      <td>bmw</td>\n",
       "      <td>no</td>\n",
       "    </tr>\n",
       "    <tr>\n",
       "      <th>77285</th>\n",
       "      <td>sedan</td>\n",
       "      <td>0.033893</td>\n",
       "      <td>manual</td>\n",
       "      <td>0.050202</td>\n",
       "      <td>cooper</td>\n",
       "      <td>-0.744907</td>\n",
       "      <td>1.150857</td>\n",
       "      <td>petrol</td>\n",
       "      <td>mini</td>\n",
       "      <td>no</td>\n",
       "    </tr>\n",
       "    <tr>\n",
       "      <th>217570</th>\n",
       "      <td>wagon</td>\n",
       "      <td>0.057422</td>\n",
       "      <td>auto</td>\n",
       "      <td>0.444872</td>\n",
       "      <td>5er</td>\n",
       "      <td>0.574755</td>\n",
       "      <td>0.345920</td>\n",
       "      <td>gasoline</td>\n",
       "      <td>bmw</td>\n",
       "      <td>no</td>\n",
       "    </tr>\n",
       "  </tbody>\n",
       "</table>\n",
       "<p>265776 rows × 10 columns</p>\n",
       "</div>"
      ],
      "text/plain": [
       "       vehicle_type  registration_year gear_box     power     model   mileage  \\\n",
       "25945         sedan          -0.189626   manual  0.111709    escort  0.574755   \n",
       "57619         sedan          -0.036692      N/A -0.564868  c_klasse  0.574755   \n",
       "14516         small           0.010365   manual -0.180449    twingo  0.574755   \n",
       "283907        sedan           0.069186   manual  0.203970   qashqai -1.536705   \n",
       "161548        wagon           0.104478   manual -0.001054     astra -1.800637   \n",
       "...             ...                ...      ...       ...       ...       ...   \n",
       "47873         sedan          -0.083748   manual -0.103565   6_reihe  0.574755   \n",
       "86398         sedan          -0.095512   manual -0.047184     other -0.085076   \n",
       "347556        sedan           0.045658   manual  0.060453       1er -1.800637   \n",
       "77285         sedan           0.033893   manual  0.050202    cooper -0.744907   \n",
       "217570        wagon           0.057422     auto  0.444872       5er  0.574755   \n",
       "\n",
       "        registration_month fuel_type          brand not_repaired  \n",
       "25945            -0.459017    petrol           ford           no  \n",
       "57619             0.077608    petrol  mercedes_benz          N/A  \n",
       "14516             0.345920    petrol        renault           no  \n",
       "283907            1.150857  gasoline         nissan           no  \n",
       "161548            0.614232  gasoline           opel           no  \n",
       "...                    ...       ...            ...          ...  \n",
       "47873             1.419169    petrol          mazda           no  \n",
       "86398             1.419169    petrol     volkswagen           no  \n",
       "347556           -0.190705    petrol            bmw           no  \n",
       "77285             1.150857    petrol           mini           no  \n",
       "217570            0.345920  gasoline            bmw           no  \n",
       "\n",
       "[265776 rows x 10 columns]"
      ]
     },
     "execution_count": 15,
     "metadata": {},
     "output_type": "execute_result"
    }
   ],
   "source": [
    "train_features"
   ]
  },
  {
   "cell_type": "code",
   "execution_count": 16,
   "metadata": {},
   "outputs": [
    {
     "data": {
      "text/html": [
       "<div>\n",
       "<style scoped>\n",
       "    .dataframe tbody tr th:only-of-type {\n",
       "        vertical-align: middle;\n",
       "    }\n",
       "\n",
       "    .dataframe tbody tr th {\n",
       "        vertical-align: top;\n",
       "    }\n",
       "\n",
       "    .dataframe thead th {\n",
       "        text-align: right;\n",
       "    }\n",
       "</style>\n",
       "<table border=\"1\" class=\"dataframe\">\n",
       "  <thead>\n",
       "    <tr style=\"text-align: right;\">\n",
       "      <th></th>\n",
       "      <th>vehicle_type</th>\n",
       "      <th>registration_year</th>\n",
       "      <th>gear_box</th>\n",
       "      <th>power</th>\n",
       "      <th>model</th>\n",
       "      <th>mileage</th>\n",
       "      <th>registration_month</th>\n",
       "      <th>fuel_type</th>\n",
       "      <th>brand</th>\n",
       "      <th>not_repaired</th>\n",
       "    </tr>\n",
       "  </thead>\n",
       "  <tbody>\n",
       "    <tr>\n",
       "      <th>25945</th>\n",
       "      <td>5.0</td>\n",
       "      <td>-0.189626</td>\n",
       "      <td>2.0</td>\n",
       "      <td>0.111709</td>\n",
       "      <td>99.0</td>\n",
       "      <td>0.574755</td>\n",
       "      <td>-0.459017</td>\n",
       "      <td>7.0</td>\n",
       "      <td>10.0</td>\n",
       "      <td>1.0</td>\n",
       "    </tr>\n",
       "    <tr>\n",
       "      <th>57619</th>\n",
       "      <td>5.0</td>\n",
       "      <td>-0.036692</td>\n",
       "      <td>0.0</td>\n",
       "      <td>-0.564868</td>\n",
       "      <td>60.0</td>\n",
       "      <td>0.574755</td>\n",
       "      <td>0.077608</td>\n",
       "      <td>7.0</td>\n",
       "      <td>20.0</td>\n",
       "      <td>0.0</td>\n",
       "    </tr>\n",
       "    <tr>\n",
       "      <th>14516</th>\n",
       "      <td>6.0</td>\n",
       "      <td>0.010365</td>\n",
       "      <td>2.0</td>\n",
       "      <td>-0.180449</td>\n",
       "      <td>228.0</td>\n",
       "      <td>0.574755</td>\n",
       "      <td>0.345920</td>\n",
       "      <td>7.0</td>\n",
       "      <td>27.0</td>\n",
       "      <td>1.0</td>\n",
       "    </tr>\n",
       "    <tr>\n",
       "      <th>283907</th>\n",
       "      <td>5.0</td>\n",
       "      <td>0.069186</td>\n",
       "      <td>2.0</td>\n",
       "      <td>0.203970</td>\n",
       "      <td>181.0</td>\n",
       "      <td>-1.536705</td>\n",
       "      <td>1.150857</td>\n",
       "      <td>3.0</td>\n",
       "      <td>23.0</td>\n",
       "      <td>1.0</td>\n",
       "    </tr>\n",
       "    <tr>\n",
       "      <th>161548</th>\n",
       "      <td>8.0</td>\n",
       "      <td>0.104478</td>\n",
       "      <td>2.0</td>\n",
       "      <td>-0.001054</td>\n",
       "      <td>43.0</td>\n",
       "      <td>-1.800637</td>\n",
       "      <td>0.614232</td>\n",
       "      <td>3.0</td>\n",
       "      <td>24.0</td>\n",
       "      <td>1.0</td>\n",
       "    </tr>\n",
       "    <tr>\n",
       "      <th>...</th>\n",
       "      <td>...</td>\n",
       "      <td>...</td>\n",
       "      <td>...</td>\n",
       "      <td>...</td>\n",
       "      <td>...</td>\n",
       "      <td>...</td>\n",
       "      <td>...</td>\n",
       "      <td>...</td>\n",
       "      <td>...</td>\n",
       "      <td>...</td>\n",
       "    </tr>\n",
       "    <tr>\n",
       "      <th>47873</th>\n",
       "      <td>5.0</td>\n",
       "      <td>-0.083748</td>\n",
       "      <td>2.0</td>\n",
       "      <td>-0.103565</td>\n",
       "      <td>17.0</td>\n",
       "      <td>0.574755</td>\n",
       "      <td>1.419169</td>\n",
       "      <td>7.0</td>\n",
       "      <td>19.0</td>\n",
       "      <td>1.0</td>\n",
       "    </tr>\n",
       "    <tr>\n",
       "      <th>86398</th>\n",
       "      <td>5.0</td>\n",
       "      <td>-0.095512</td>\n",
       "      <td>2.0</td>\n",
       "      <td>-0.047184</td>\n",
       "      <td>167.0</td>\n",
       "      <td>-0.085076</td>\n",
       "      <td>1.419169</td>\n",
       "      <td>7.0</td>\n",
       "      <td>38.0</td>\n",
       "      <td>1.0</td>\n",
       "    </tr>\n",
       "    <tr>\n",
       "      <th>347556</th>\n",
       "      <td>5.0</td>\n",
       "      <td>0.045658</td>\n",
       "      <td>2.0</td>\n",
       "      <td>0.060453</td>\n",
       "      <td>6.0</td>\n",
       "      <td>-1.800637</td>\n",
       "      <td>-0.190705</td>\n",
       "      <td>7.0</td>\n",
       "      <td>2.0</td>\n",
       "      <td>1.0</td>\n",
       "    </tr>\n",
       "    <tr>\n",
       "      <th>77285</th>\n",
       "      <td>5.0</td>\n",
       "      <td>0.033893</td>\n",
       "      <td>2.0</td>\n",
       "      <td>0.050202</td>\n",
       "      <td>81.0</td>\n",
       "      <td>-0.744907</td>\n",
       "      <td>1.150857</td>\n",
       "      <td>7.0</td>\n",
       "      <td>21.0</td>\n",
       "      <td>1.0</td>\n",
       "    </tr>\n",
       "    <tr>\n",
       "      <th>217570</th>\n",
       "      <td>8.0</td>\n",
       "      <td>0.057422</td>\n",
       "      <td>1.0</td>\n",
       "      <td>0.444872</td>\n",
       "      <td>15.0</td>\n",
       "      <td>0.574755</td>\n",
       "      <td>0.345920</td>\n",
       "      <td>3.0</td>\n",
       "      <td>2.0</td>\n",
       "      <td>1.0</td>\n",
       "    </tr>\n",
       "  </tbody>\n",
       "</table>\n",
       "<p>265776 rows × 10 columns</p>\n",
       "</div>"
      ],
      "text/plain": [
       "        vehicle_type  registration_year  gear_box     power  model   mileage  \\\n",
       "25945            5.0          -0.189626       2.0  0.111709   99.0  0.574755   \n",
       "57619            5.0          -0.036692       0.0 -0.564868   60.0  0.574755   \n",
       "14516            6.0           0.010365       2.0 -0.180449  228.0  0.574755   \n",
       "283907           5.0           0.069186       2.0  0.203970  181.0 -1.536705   \n",
       "161548           8.0           0.104478       2.0 -0.001054   43.0 -1.800637   \n",
       "...              ...                ...       ...       ...    ...       ...   \n",
       "47873            5.0          -0.083748       2.0 -0.103565   17.0  0.574755   \n",
       "86398            5.0          -0.095512       2.0 -0.047184  167.0 -0.085076   \n",
       "347556           5.0           0.045658       2.0  0.060453    6.0 -1.800637   \n",
       "77285            5.0           0.033893       2.0  0.050202   81.0 -0.744907   \n",
       "217570           8.0           0.057422       1.0  0.444872   15.0  0.574755   \n",
       "\n",
       "        registration_month  fuel_type  brand  not_repaired  \n",
       "25945            -0.459017        7.0   10.0           1.0  \n",
       "57619             0.077608        7.0   20.0           0.0  \n",
       "14516             0.345920        7.0   27.0           1.0  \n",
       "283907            1.150857        3.0   23.0           1.0  \n",
       "161548            0.614232        3.0   24.0           1.0  \n",
       "...                    ...        ...    ...           ...  \n",
       "47873             1.419169        7.0   19.0           1.0  \n",
       "86398             1.419169        7.0   38.0           1.0  \n",
       "347556           -0.190705        7.0    2.0           1.0  \n",
       "77285             1.150857        7.0   21.0           1.0  \n",
       "217570            0.345920        3.0    2.0           1.0  \n",
       "\n",
       "[265776 rows x 10 columns]"
      ]
     },
     "execution_count": 16,
     "metadata": {},
     "output_type": "execute_result"
    }
   ],
   "source": [
    "tf2"
   ]
  },
  {
   "cell_type": "markdown",
   "metadata": {},
   "source": [
    "The data has been cleaned and prepared for analysis. The missing values were all in categorical columns and were filled with placeholders ('N/A') as these values would have substantially affected the dataset if dropped."
   ]
  },
  {
   "cell_type": "markdown",
   "metadata": {},
   "source": [
    "<div class=\"alert alert-success\">\n",
    "<b>Reviewer's comment</b>\n",
    "\n",
    "Alright!\n",
    "\n",
    "</div>"
   ]
  },
  {
   "cell_type": "markdown",
   "metadata": {},
   "source": [
    "#### OHE "
   ]
  },
  {
   "cell_type": "code",
   "execution_count": 17,
   "metadata": {},
   "outputs": [],
   "source": [
    "# OHE on categorical columns\n",
    "lr_df = df.copy()\n",
    "lr_df = lr_df.drop(['date_crawled', 'last_seen', 'date_created', 'number_of_pictures', 'postal_code'], axis=1)\n",
    "lr_df = pd.get_dummies(lr_df, columns= categorical)"
   ]
  },
  {
   "cell_type": "code",
   "execution_count": 18,
   "metadata": {},
   "outputs": [],
   "source": [
    "# Prepare columns for lr model\n",
    "lr_train, lr_test = train_test_split(lr_df, test_size = 0.25, random_state=12345) #split df\n",
    "\n",
    "\n",
    "# Create features and targets\n",
    "lr_train_features = lr_train.drop('price', axis=1)\n",
    "lr_train_target = lr_train['price']\n",
    "\n",
    "lr_test_features = lr_test.drop('price', axis=1)\n",
    "lr_test_target = lr_test['price']\n",
    "\n",
    "\n",
    "#Scale numerical columns\n",
    "scaler = StandardScaler()\n",
    "scaler.fit(lr_train_features[numeric])\n",
    "lr_train_features[numeric] = scaler.transform(lr_train_features[numeric])\n",
    "lr_test_features[numeric] = scaler.transform(lr_test_features[numeric])"
   ]
  },
  {
   "cell_type": "code",
   "execution_count": 19,
   "metadata": {
    "scrolled": false
   },
   "outputs": [
    {
     "data": {
      "text/html": [
       "<div>\n",
       "<style scoped>\n",
       "    .dataframe tbody tr th:only-of-type {\n",
       "        vertical-align: middle;\n",
       "    }\n",
       "\n",
       "    .dataframe tbody tr th {\n",
       "        vertical-align: top;\n",
       "    }\n",
       "\n",
       "    .dataframe thead th {\n",
       "        text-align: right;\n",
       "    }\n",
       "</style>\n",
       "<table border=\"1\" class=\"dataframe\">\n",
       "  <thead>\n",
       "    <tr style=\"text-align: right;\">\n",
       "      <th></th>\n",
       "      <th>registration_year</th>\n",
       "      <th>power</th>\n",
       "      <th>mileage</th>\n",
       "      <th>registration_month</th>\n",
       "      <th>vehicle_type_N/A</th>\n",
       "      <th>vehicle_type_bus</th>\n",
       "      <th>vehicle_type_convertible</th>\n",
       "      <th>vehicle_type_coupe</th>\n",
       "      <th>vehicle_type_other</th>\n",
       "      <th>vehicle_type_sedan</th>\n",
       "      <th>...</th>\n",
       "      <th>brand_sonstige_autos</th>\n",
       "      <th>brand_subaru</th>\n",
       "      <th>brand_suzuki</th>\n",
       "      <th>brand_toyota</th>\n",
       "      <th>brand_trabant</th>\n",
       "      <th>brand_volkswagen</th>\n",
       "      <th>brand_volvo</th>\n",
       "      <th>not_repaired_N/A</th>\n",
       "      <th>not_repaired_no</th>\n",
       "      <th>not_repaired_yes</th>\n",
       "    </tr>\n",
       "  </thead>\n",
       "  <tbody>\n",
       "    <tr>\n",
       "      <th>25945</th>\n",
       "      <td>-0.189626</td>\n",
       "      <td>0.111709</td>\n",
       "      <td>0.574755</td>\n",
       "      <td>-0.459017</td>\n",
       "      <td>0</td>\n",
       "      <td>0</td>\n",
       "      <td>0</td>\n",
       "      <td>0</td>\n",
       "      <td>0</td>\n",
       "      <td>1</td>\n",
       "      <td>...</td>\n",
       "      <td>0</td>\n",
       "      <td>0</td>\n",
       "      <td>0</td>\n",
       "      <td>0</td>\n",
       "      <td>0</td>\n",
       "      <td>0</td>\n",
       "      <td>0</td>\n",
       "      <td>0</td>\n",
       "      <td>1</td>\n",
       "      <td>0</td>\n",
       "    </tr>\n",
       "    <tr>\n",
       "      <th>57619</th>\n",
       "      <td>-0.036692</td>\n",
       "      <td>-0.564868</td>\n",
       "      <td>0.574755</td>\n",
       "      <td>0.077608</td>\n",
       "      <td>0</td>\n",
       "      <td>0</td>\n",
       "      <td>0</td>\n",
       "      <td>0</td>\n",
       "      <td>0</td>\n",
       "      <td>1</td>\n",
       "      <td>...</td>\n",
       "      <td>0</td>\n",
       "      <td>0</td>\n",
       "      <td>0</td>\n",
       "      <td>0</td>\n",
       "      <td>0</td>\n",
       "      <td>0</td>\n",
       "      <td>0</td>\n",
       "      <td>1</td>\n",
       "      <td>0</td>\n",
       "      <td>0</td>\n",
       "    </tr>\n",
       "    <tr>\n",
       "      <th>14516</th>\n",
       "      <td>0.010365</td>\n",
       "      <td>-0.180449</td>\n",
       "      <td>0.574755</td>\n",
       "      <td>0.345920</td>\n",
       "      <td>0</td>\n",
       "      <td>0</td>\n",
       "      <td>0</td>\n",
       "      <td>0</td>\n",
       "      <td>0</td>\n",
       "      <td>0</td>\n",
       "      <td>...</td>\n",
       "      <td>0</td>\n",
       "      <td>0</td>\n",
       "      <td>0</td>\n",
       "      <td>0</td>\n",
       "      <td>0</td>\n",
       "      <td>0</td>\n",
       "      <td>0</td>\n",
       "      <td>0</td>\n",
       "      <td>1</td>\n",
       "      <td>0</td>\n",
       "    </tr>\n",
       "    <tr>\n",
       "      <th>283907</th>\n",
       "      <td>0.069186</td>\n",
       "      <td>0.203970</td>\n",
       "      <td>-1.536705</td>\n",
       "      <td>1.150857</td>\n",
       "      <td>0</td>\n",
       "      <td>0</td>\n",
       "      <td>0</td>\n",
       "      <td>0</td>\n",
       "      <td>0</td>\n",
       "      <td>1</td>\n",
       "      <td>...</td>\n",
       "      <td>0</td>\n",
       "      <td>0</td>\n",
       "      <td>0</td>\n",
       "      <td>0</td>\n",
       "      <td>0</td>\n",
       "      <td>0</td>\n",
       "      <td>0</td>\n",
       "      <td>0</td>\n",
       "      <td>1</td>\n",
       "      <td>0</td>\n",
       "    </tr>\n",
       "    <tr>\n",
       "      <th>161548</th>\n",
       "      <td>0.104478</td>\n",
       "      <td>-0.001054</td>\n",
       "      <td>-1.800637</td>\n",
       "      <td>0.614232</td>\n",
       "      <td>0</td>\n",
       "      <td>0</td>\n",
       "      <td>0</td>\n",
       "      <td>0</td>\n",
       "      <td>0</td>\n",
       "      <td>0</td>\n",
       "      <td>...</td>\n",
       "      <td>0</td>\n",
       "      <td>0</td>\n",
       "      <td>0</td>\n",
       "      <td>0</td>\n",
       "      <td>0</td>\n",
       "      <td>0</td>\n",
       "      <td>0</td>\n",
       "      <td>0</td>\n",
       "      <td>1</td>\n",
       "      <td>0</td>\n",
       "    </tr>\n",
       "    <tr>\n",
       "      <th>...</th>\n",
       "      <td>...</td>\n",
       "      <td>...</td>\n",
       "      <td>...</td>\n",
       "      <td>...</td>\n",
       "      <td>...</td>\n",
       "      <td>...</td>\n",
       "      <td>...</td>\n",
       "      <td>...</td>\n",
       "      <td>...</td>\n",
       "      <td>...</td>\n",
       "      <td>...</td>\n",
       "      <td>...</td>\n",
       "      <td>...</td>\n",
       "      <td>...</td>\n",
       "      <td>...</td>\n",
       "      <td>...</td>\n",
       "      <td>...</td>\n",
       "      <td>...</td>\n",
       "      <td>...</td>\n",
       "      <td>...</td>\n",
       "      <td>...</td>\n",
       "    </tr>\n",
       "    <tr>\n",
       "      <th>47873</th>\n",
       "      <td>-0.083748</td>\n",
       "      <td>-0.103565</td>\n",
       "      <td>0.574755</td>\n",
       "      <td>1.419169</td>\n",
       "      <td>0</td>\n",
       "      <td>0</td>\n",
       "      <td>0</td>\n",
       "      <td>0</td>\n",
       "      <td>0</td>\n",
       "      <td>1</td>\n",
       "      <td>...</td>\n",
       "      <td>0</td>\n",
       "      <td>0</td>\n",
       "      <td>0</td>\n",
       "      <td>0</td>\n",
       "      <td>0</td>\n",
       "      <td>0</td>\n",
       "      <td>0</td>\n",
       "      <td>0</td>\n",
       "      <td>1</td>\n",
       "      <td>0</td>\n",
       "    </tr>\n",
       "    <tr>\n",
       "      <th>86398</th>\n",
       "      <td>-0.095512</td>\n",
       "      <td>-0.047184</td>\n",
       "      <td>-0.085076</td>\n",
       "      <td>1.419169</td>\n",
       "      <td>0</td>\n",
       "      <td>0</td>\n",
       "      <td>0</td>\n",
       "      <td>0</td>\n",
       "      <td>0</td>\n",
       "      <td>1</td>\n",
       "      <td>...</td>\n",
       "      <td>0</td>\n",
       "      <td>0</td>\n",
       "      <td>0</td>\n",
       "      <td>0</td>\n",
       "      <td>0</td>\n",
       "      <td>1</td>\n",
       "      <td>0</td>\n",
       "      <td>0</td>\n",
       "      <td>1</td>\n",
       "      <td>0</td>\n",
       "    </tr>\n",
       "    <tr>\n",
       "      <th>347556</th>\n",
       "      <td>0.045658</td>\n",
       "      <td>0.060453</td>\n",
       "      <td>-1.800637</td>\n",
       "      <td>-0.190705</td>\n",
       "      <td>0</td>\n",
       "      <td>0</td>\n",
       "      <td>0</td>\n",
       "      <td>0</td>\n",
       "      <td>0</td>\n",
       "      <td>1</td>\n",
       "      <td>...</td>\n",
       "      <td>0</td>\n",
       "      <td>0</td>\n",
       "      <td>0</td>\n",
       "      <td>0</td>\n",
       "      <td>0</td>\n",
       "      <td>0</td>\n",
       "      <td>0</td>\n",
       "      <td>0</td>\n",
       "      <td>1</td>\n",
       "      <td>0</td>\n",
       "    </tr>\n",
       "    <tr>\n",
       "      <th>77285</th>\n",
       "      <td>0.033893</td>\n",
       "      <td>0.050202</td>\n",
       "      <td>-0.744907</td>\n",
       "      <td>1.150857</td>\n",
       "      <td>0</td>\n",
       "      <td>0</td>\n",
       "      <td>0</td>\n",
       "      <td>0</td>\n",
       "      <td>0</td>\n",
       "      <td>1</td>\n",
       "      <td>...</td>\n",
       "      <td>0</td>\n",
       "      <td>0</td>\n",
       "      <td>0</td>\n",
       "      <td>0</td>\n",
       "      <td>0</td>\n",
       "      <td>0</td>\n",
       "      <td>0</td>\n",
       "      <td>0</td>\n",
       "      <td>1</td>\n",
       "      <td>0</td>\n",
       "    </tr>\n",
       "    <tr>\n",
       "      <th>217570</th>\n",
       "      <td>0.057422</td>\n",
       "      <td>0.444872</td>\n",
       "      <td>0.574755</td>\n",
       "      <td>0.345920</td>\n",
       "      <td>0</td>\n",
       "      <td>0</td>\n",
       "      <td>0</td>\n",
       "      <td>0</td>\n",
       "      <td>0</td>\n",
       "      <td>0</td>\n",
       "      <td>...</td>\n",
       "      <td>0</td>\n",
       "      <td>0</td>\n",
       "      <td>0</td>\n",
       "      <td>0</td>\n",
       "      <td>0</td>\n",
       "      <td>0</td>\n",
       "      <td>0</td>\n",
       "      <td>0</td>\n",
       "      <td>1</td>\n",
       "      <td>0</td>\n",
       "    </tr>\n",
       "  </tbody>\n",
       "</table>\n",
       "<p>265776 rows × 318 columns</p>\n",
       "</div>"
      ],
      "text/plain": [
       "        registration_year     power   mileage  registration_month  \\\n",
       "25945           -0.189626  0.111709  0.574755           -0.459017   \n",
       "57619           -0.036692 -0.564868  0.574755            0.077608   \n",
       "14516            0.010365 -0.180449  0.574755            0.345920   \n",
       "283907           0.069186  0.203970 -1.536705            1.150857   \n",
       "161548           0.104478 -0.001054 -1.800637            0.614232   \n",
       "...                   ...       ...       ...                 ...   \n",
       "47873           -0.083748 -0.103565  0.574755            1.419169   \n",
       "86398           -0.095512 -0.047184 -0.085076            1.419169   \n",
       "347556           0.045658  0.060453 -1.800637           -0.190705   \n",
       "77285            0.033893  0.050202 -0.744907            1.150857   \n",
       "217570           0.057422  0.444872  0.574755            0.345920   \n",
       "\n",
       "        vehicle_type_N/A  vehicle_type_bus  vehicle_type_convertible  \\\n",
       "25945                  0                 0                         0   \n",
       "57619                  0                 0                         0   \n",
       "14516                  0                 0                         0   \n",
       "283907                 0                 0                         0   \n",
       "161548                 0                 0                         0   \n",
       "...                  ...               ...                       ...   \n",
       "47873                  0                 0                         0   \n",
       "86398                  0                 0                         0   \n",
       "347556                 0                 0                         0   \n",
       "77285                  0                 0                         0   \n",
       "217570                 0                 0                         0   \n",
       "\n",
       "        vehicle_type_coupe  vehicle_type_other  vehicle_type_sedan  ...  \\\n",
       "25945                    0                   0                   1  ...   \n",
       "57619                    0                   0                   1  ...   \n",
       "14516                    0                   0                   0  ...   \n",
       "283907                   0                   0                   1  ...   \n",
       "161548                   0                   0                   0  ...   \n",
       "...                    ...                 ...                 ...  ...   \n",
       "47873                    0                   0                   1  ...   \n",
       "86398                    0                   0                   1  ...   \n",
       "347556                   0                   0                   1  ...   \n",
       "77285                    0                   0                   1  ...   \n",
       "217570                   0                   0                   0  ...   \n",
       "\n",
       "        brand_sonstige_autos  brand_subaru  brand_suzuki  brand_toyota  \\\n",
       "25945                      0             0             0             0   \n",
       "57619                      0             0             0             0   \n",
       "14516                      0             0             0             0   \n",
       "283907                     0             0             0             0   \n",
       "161548                     0             0             0             0   \n",
       "...                      ...           ...           ...           ...   \n",
       "47873                      0             0             0             0   \n",
       "86398                      0             0             0             0   \n",
       "347556                     0             0             0             0   \n",
       "77285                      0             0             0             0   \n",
       "217570                     0             0             0             0   \n",
       "\n",
       "        brand_trabant  brand_volkswagen  brand_volvo  not_repaired_N/A  \\\n",
       "25945               0                 0            0                 0   \n",
       "57619               0                 0            0                 1   \n",
       "14516               0                 0            0                 0   \n",
       "283907              0                 0            0                 0   \n",
       "161548              0                 0            0                 0   \n",
       "...               ...               ...          ...               ...   \n",
       "47873               0                 0            0                 0   \n",
       "86398               0                 1            0                 0   \n",
       "347556              0                 0            0                 0   \n",
       "77285               0                 0            0                 0   \n",
       "217570              0                 0            0                 0   \n",
       "\n",
       "        not_repaired_no  not_repaired_yes  \n",
       "25945                 1                 0  \n",
       "57619                 0                 0  \n",
       "14516                 1                 0  \n",
       "283907                1                 0  \n",
       "161548                1                 0  \n",
       "...                 ...               ...  \n",
       "47873                 1                 0  \n",
       "86398                 1                 0  \n",
       "347556                1                 0  \n",
       "77285                 1                 0  \n",
       "217570                1                 0  \n",
       "\n",
       "[265776 rows x 318 columns]"
      ]
     },
     "execution_count": 19,
     "metadata": {},
     "output_type": "execute_result"
    }
   ],
   "source": [
    "lr_train_features"
   ]
  },
  {
   "cell_type": "code",
   "execution_count": 20,
   "metadata": {},
   "outputs": [
    {
     "data": {
      "text/html": [
       "<div>\n",
       "<style scoped>\n",
       "    .dataframe tbody tr th:only-of-type {\n",
       "        vertical-align: middle;\n",
       "    }\n",
       "\n",
       "    .dataframe tbody tr th {\n",
       "        vertical-align: top;\n",
       "    }\n",
       "\n",
       "    .dataframe thead th {\n",
       "        text-align: right;\n",
       "    }\n",
       "</style>\n",
       "<table border=\"1\" class=\"dataframe\">\n",
       "  <thead>\n",
       "    <tr style=\"text-align: right;\">\n",
       "      <th></th>\n",
       "      <th>registration_year</th>\n",
       "      <th>power</th>\n",
       "      <th>mileage</th>\n",
       "      <th>registration_month</th>\n",
       "      <th>vehicle_type_N/A</th>\n",
       "      <th>vehicle_type_bus</th>\n",
       "      <th>vehicle_type_convertible</th>\n",
       "      <th>vehicle_type_coupe</th>\n",
       "      <th>vehicle_type_other</th>\n",
       "      <th>vehicle_type_sedan</th>\n",
       "      <th>...</th>\n",
       "      <th>brand_sonstige_autos</th>\n",
       "      <th>brand_subaru</th>\n",
       "      <th>brand_suzuki</th>\n",
       "      <th>brand_toyota</th>\n",
       "      <th>brand_trabant</th>\n",
       "      <th>brand_volkswagen</th>\n",
       "      <th>brand_volvo</th>\n",
       "      <th>not_repaired_N/A</th>\n",
       "      <th>not_repaired_no</th>\n",
       "      <th>not_repaired_yes</th>\n",
       "    </tr>\n",
       "  </thead>\n",
       "  <tbody>\n",
       "    <tr>\n",
       "      <th>18734</th>\n",
       "      <td>0.069186</td>\n",
       "      <td>0.203970</td>\n",
       "      <td>0.574755</td>\n",
       "      <td>-0.459017</td>\n",
       "      <td>0</td>\n",
       "      <td>1</td>\n",
       "      <td>0</td>\n",
       "      <td>0</td>\n",
       "      <td>0</td>\n",
       "      <td>0</td>\n",
       "      <td>...</td>\n",
       "      <td>0</td>\n",
       "      <td>0</td>\n",
       "      <td>0</td>\n",
       "      <td>0</td>\n",
       "      <td>0</td>\n",
       "      <td>0</td>\n",
       "      <td>0</td>\n",
       "      <td>0</td>\n",
       "      <td>1</td>\n",
       "      <td>0</td>\n",
       "    </tr>\n",
       "    <tr>\n",
       "      <th>141787</th>\n",
       "      <td>0.080950</td>\n",
       "      <td>0.168091</td>\n",
       "      <td>-2.328502</td>\n",
       "      <td>-0.190705</td>\n",
       "      <td>0</td>\n",
       "      <td>0</td>\n",
       "      <td>0</td>\n",
       "      <td>0</td>\n",
       "      <td>1</td>\n",
       "      <td>0</td>\n",
       "      <td>...</td>\n",
       "      <td>0</td>\n",
       "      <td>0</td>\n",
       "      <td>0</td>\n",
       "      <td>0</td>\n",
       "      <td>0</td>\n",
       "      <td>0</td>\n",
       "      <td>0</td>\n",
       "      <td>0</td>\n",
       "      <td>1</td>\n",
       "      <td>0</td>\n",
       "    </tr>\n",
       "    <tr>\n",
       "      <th>37523</th>\n",
       "      <td>-0.001399</td>\n",
       "      <td>0.075830</td>\n",
       "      <td>0.574755</td>\n",
       "      <td>1.687482</td>\n",
       "      <td>0</td>\n",
       "      <td>0</td>\n",
       "      <td>0</td>\n",
       "      <td>0</td>\n",
       "      <td>0</td>\n",
       "      <td>1</td>\n",
       "      <td>...</td>\n",
       "      <td>0</td>\n",
       "      <td>0</td>\n",
       "      <td>0</td>\n",
       "      <td>0</td>\n",
       "      <td>0</td>\n",
       "      <td>0</td>\n",
       "      <td>0</td>\n",
       "      <td>0</td>\n",
       "      <td>1</td>\n",
       "      <td>0</td>\n",
       "    </tr>\n",
       "    <tr>\n",
       "      <th>194192</th>\n",
       "      <td>0.033893</td>\n",
       "      <td>0.583263</td>\n",
       "      <td>0.574755</td>\n",
       "      <td>0.882545</td>\n",
       "      <td>0</td>\n",
       "      <td>0</td>\n",
       "      <td>0</td>\n",
       "      <td>0</td>\n",
       "      <td>0</td>\n",
       "      <td>1</td>\n",
       "      <td>...</td>\n",
       "      <td>0</td>\n",
       "      <td>0</td>\n",
       "      <td>0</td>\n",
       "      <td>0</td>\n",
       "      <td>0</td>\n",
       "      <td>0</td>\n",
       "      <td>0</td>\n",
       "      <td>0</td>\n",
       "      <td>1</td>\n",
       "      <td>0</td>\n",
       "    </tr>\n",
       "    <tr>\n",
       "      <th>110210</th>\n",
       "      <td>-0.119041</td>\n",
       "      <td>-0.216328</td>\n",
       "      <td>0.574755</td>\n",
       "      <td>0.882545</td>\n",
       "      <td>0</td>\n",
       "      <td>0</td>\n",
       "      <td>0</td>\n",
       "      <td>0</td>\n",
       "      <td>1</td>\n",
       "      <td>0</td>\n",
       "      <td>...</td>\n",
       "      <td>0</td>\n",
       "      <td>0</td>\n",
       "      <td>0</td>\n",
       "      <td>0</td>\n",
       "      <td>0</td>\n",
       "      <td>1</td>\n",
       "      <td>0</td>\n",
       "      <td>0</td>\n",
       "      <td>1</td>\n",
       "      <td>0</td>\n",
       "    </tr>\n",
       "    <tr>\n",
       "      <th>...</th>\n",
       "      <td>...</td>\n",
       "      <td>...</td>\n",
       "      <td>...</td>\n",
       "      <td>...</td>\n",
       "      <td>...</td>\n",
       "      <td>...</td>\n",
       "      <td>...</td>\n",
       "      <td>...</td>\n",
       "      <td>...</td>\n",
       "      <td>...</td>\n",
       "      <td>...</td>\n",
       "      <td>...</td>\n",
       "      <td>...</td>\n",
       "      <td>...</td>\n",
       "      <td>...</td>\n",
       "      <td>...</td>\n",
       "      <td>...</td>\n",
       "      <td>...</td>\n",
       "      <td>...</td>\n",
       "      <td>...</td>\n",
       "      <td>...</td>\n",
       "    </tr>\n",
       "    <tr>\n",
       "      <th>20704</th>\n",
       "      <td>-0.013163</td>\n",
       "      <td>0.552510</td>\n",
       "      <td>0.574755</td>\n",
       "      <td>0.077608</td>\n",
       "      <td>0</td>\n",
       "      <td>0</td>\n",
       "      <td>0</td>\n",
       "      <td>0</td>\n",
       "      <td>0</td>\n",
       "      <td>0</td>\n",
       "      <td>...</td>\n",
       "      <td>0</td>\n",
       "      <td>0</td>\n",
       "      <td>0</td>\n",
       "      <td>0</td>\n",
       "      <td>0</td>\n",
       "      <td>0</td>\n",
       "      <td>0</td>\n",
       "      <td>0</td>\n",
       "      <td>1</td>\n",
       "      <td>0</td>\n",
       "    </tr>\n",
       "    <tr>\n",
       "      <th>234662</th>\n",
       "      <td>0.022129</td>\n",
       "      <td>0.270602</td>\n",
       "      <td>0.574755</td>\n",
       "      <td>-0.190705</td>\n",
       "      <td>0</td>\n",
       "      <td>0</td>\n",
       "      <td>0</td>\n",
       "      <td>0</td>\n",
       "      <td>0</td>\n",
       "      <td>0</td>\n",
       "      <td>...</td>\n",
       "      <td>0</td>\n",
       "      <td>0</td>\n",
       "      <td>0</td>\n",
       "      <td>0</td>\n",
       "      <td>0</td>\n",
       "      <td>0</td>\n",
       "      <td>0</td>\n",
       "      <td>0</td>\n",
       "      <td>1</td>\n",
       "      <td>0</td>\n",
       "    </tr>\n",
       "    <tr>\n",
       "      <th>81975</th>\n",
       "      <td>0.033893</td>\n",
       "      <td>0.060453</td>\n",
       "      <td>0.574755</td>\n",
       "      <td>0.614232</td>\n",
       "      <td>0</td>\n",
       "      <td>0</td>\n",
       "      <td>0</td>\n",
       "      <td>0</td>\n",
       "      <td>0</td>\n",
       "      <td>0</td>\n",
       "      <td>...</td>\n",
       "      <td>0</td>\n",
       "      <td>0</td>\n",
       "      <td>0</td>\n",
       "      <td>0</td>\n",
       "      <td>0</td>\n",
       "      <td>0</td>\n",
       "      <td>0</td>\n",
       "      <td>0</td>\n",
       "      <td>1</td>\n",
       "      <td>0</td>\n",
       "    </tr>\n",
       "    <tr>\n",
       "      <th>175123</th>\n",
       "      <td>-0.095512</td>\n",
       "      <td>-0.282961</td>\n",
       "      <td>-0.085076</td>\n",
       "      <td>1.150857</td>\n",
       "      <td>0</td>\n",
       "      <td>0</td>\n",
       "      <td>0</td>\n",
       "      <td>0</td>\n",
       "      <td>0</td>\n",
       "      <td>0</td>\n",
       "      <td>...</td>\n",
       "      <td>0</td>\n",
       "      <td>0</td>\n",
       "      <td>0</td>\n",
       "      <td>0</td>\n",
       "      <td>0</td>\n",
       "      <td>0</td>\n",
       "      <td>0</td>\n",
       "      <td>0</td>\n",
       "      <td>0</td>\n",
       "      <td>1</td>\n",
       "    </tr>\n",
       "    <tr>\n",
       "      <th>55185</th>\n",
       "      <td>-0.154333</td>\n",
       "      <td>-0.564868</td>\n",
       "      <td>-1.272772</td>\n",
       "      <td>-0.727329</td>\n",
       "      <td>0</td>\n",
       "      <td>0</td>\n",
       "      <td>0</td>\n",
       "      <td>0</td>\n",
       "      <td>0</td>\n",
       "      <td>0</td>\n",
       "      <td>...</td>\n",
       "      <td>0</td>\n",
       "      <td>0</td>\n",
       "      <td>0</td>\n",
       "      <td>0</td>\n",
       "      <td>0</td>\n",
       "      <td>0</td>\n",
       "      <td>0</td>\n",
       "      <td>0</td>\n",
       "      <td>1</td>\n",
       "      <td>0</td>\n",
       "    </tr>\n",
       "  </tbody>\n",
       "</table>\n",
       "<p>88593 rows × 318 columns</p>\n",
       "</div>"
      ],
      "text/plain": [
       "        registration_year     power   mileage  registration_month  \\\n",
       "18734            0.069186  0.203970  0.574755           -0.459017   \n",
       "141787           0.080950  0.168091 -2.328502           -0.190705   \n",
       "37523           -0.001399  0.075830  0.574755            1.687482   \n",
       "194192           0.033893  0.583263  0.574755            0.882545   \n",
       "110210          -0.119041 -0.216328  0.574755            0.882545   \n",
       "...                   ...       ...       ...                 ...   \n",
       "20704           -0.013163  0.552510  0.574755            0.077608   \n",
       "234662           0.022129  0.270602  0.574755           -0.190705   \n",
       "81975            0.033893  0.060453  0.574755            0.614232   \n",
       "175123          -0.095512 -0.282961 -0.085076            1.150857   \n",
       "55185           -0.154333 -0.564868 -1.272772           -0.727329   \n",
       "\n",
       "        vehicle_type_N/A  vehicle_type_bus  vehicle_type_convertible  \\\n",
       "18734                  0                 1                         0   \n",
       "141787                 0                 0                         0   \n",
       "37523                  0                 0                         0   \n",
       "194192                 0                 0                         0   \n",
       "110210                 0                 0                         0   \n",
       "...                  ...               ...                       ...   \n",
       "20704                  0                 0                         0   \n",
       "234662                 0                 0                         0   \n",
       "81975                  0                 0                         0   \n",
       "175123                 0                 0                         0   \n",
       "55185                  0                 0                         0   \n",
       "\n",
       "        vehicle_type_coupe  vehicle_type_other  vehicle_type_sedan  ...  \\\n",
       "18734                    0                   0                   0  ...   \n",
       "141787                   0                   1                   0  ...   \n",
       "37523                    0                   0                   1  ...   \n",
       "194192                   0                   0                   1  ...   \n",
       "110210                   0                   1                   0  ...   \n",
       "...                    ...                 ...                 ...  ...   \n",
       "20704                    0                   0                   0  ...   \n",
       "234662                   0                   0                   0  ...   \n",
       "81975                    0                   0                   0  ...   \n",
       "175123                   0                   0                   0  ...   \n",
       "55185                    0                   0                   0  ...   \n",
       "\n",
       "        brand_sonstige_autos  brand_subaru  brand_suzuki  brand_toyota  \\\n",
       "18734                      0             0             0             0   \n",
       "141787                     0             0             0             0   \n",
       "37523                      0             0             0             0   \n",
       "194192                     0             0             0             0   \n",
       "110210                     0             0             0             0   \n",
       "...                      ...           ...           ...           ...   \n",
       "20704                      0             0             0             0   \n",
       "234662                     0             0             0             0   \n",
       "81975                      0             0             0             0   \n",
       "175123                     0             0             0             0   \n",
       "55185                      0             0             0             0   \n",
       "\n",
       "        brand_trabant  brand_volkswagen  brand_volvo  not_repaired_N/A  \\\n",
       "18734               0                 0            0                 0   \n",
       "141787              0                 0            0                 0   \n",
       "37523               0                 0            0                 0   \n",
       "194192              0                 0            0                 0   \n",
       "110210              0                 1            0                 0   \n",
       "...               ...               ...          ...               ...   \n",
       "20704               0                 0            0                 0   \n",
       "234662              0                 0            0                 0   \n",
       "81975               0                 0            0                 0   \n",
       "175123              0                 0            0                 0   \n",
       "55185               0                 0            0                 0   \n",
       "\n",
       "        not_repaired_no  not_repaired_yes  \n",
       "18734                 1                 0  \n",
       "141787                1                 0  \n",
       "37523                 1                 0  \n",
       "194192                1                 0  \n",
       "110210                1                 0  \n",
       "...                 ...               ...  \n",
       "20704                 1                 0  \n",
       "234662                1                 0  \n",
       "81975                 1                 0  \n",
       "175123                0                 1  \n",
       "55185                 1                 0  \n",
       "\n",
       "[88593 rows x 318 columns]"
      ]
     },
     "execution_count": 20,
     "metadata": {},
     "output_type": "execute_result"
    }
   ],
   "source": [
    "lr_test_features"
   ]
  },
  {
   "cell_type": "markdown",
   "metadata": {},
   "source": [
    "## Model training"
   ]
  },
  {
   "cell_type": "markdown",
   "metadata": {},
   "source": [
    "### Create Scorer"
   ]
  },
  {
   "cell_type": "code",
   "execution_count": 21,
   "metadata": {},
   "outputs": [],
   "source": [
    "def rmse(target, pred, **kwargs):\n",
    "    mse = mean_squared_error(target, pred)\n",
    "    result = mse**0.5\n",
    "    return result\n",
    "scorer = make_scorer(rmse, greater_is_better = False)"
   ]
  },
  {
   "cell_type": "markdown",
   "metadata": {},
   "source": [
    "### Linear regression model"
   ]
  },
  {
   "cell_type": "code",
   "execution_count": 22,
   "metadata": {},
   "outputs": [
    {
     "name": "stdout",
     "output_type": "stream",
     "text": [
      "CPU times: user 21.8 s, sys: 12.6 s, total: 34.4 s\n",
      "Wall time: 34.4 s\n"
     ]
    }
   ],
   "source": [
    "%%time\n",
    "# Create and train model\n",
    "lr_model = LinearRegression()\n",
    "lr_model.fit(lr_train_features, lr_train_target)\n",
    "lr_pred = lr_model.predict(lr_test_features)\n",
    "lr_res = sqrt(mean_squared_error(lr_test_target, lr_pred))"
   ]
  },
  {
   "cell_type": "code",
   "execution_count": 23,
   "metadata": {},
   "outputs": [
    {
     "name": "stdout",
     "output_type": "stream",
     "text": [
      "CPU times: user 114 ms, sys: 88.5 ms, total: 203 ms\n",
      "Wall time: 198 ms\n"
     ]
    }
   ],
   "source": [
    "%%time\n",
    "# Prediction time\n",
    "lr_pred = lr_model.predict(lr_test_features)"
   ]
  },
  {
   "cell_type": "markdown",
   "metadata": {},
   "source": [
    "<div class=\"alert alert-danger\">\n",
    "<s><b>Reviewer's comment</b>\n",
    "\n",
    "For linear models like linear regression (in contrast to tree-based models) ordinal encoding of categorical features is not appropriate unless there is some natural order on those categories.\n",
    "\n",
    "</div>"
   ]
  },
  {
   "cell_type": "markdown",
   "metadata": {},
   "source": [
    "<div class=\"alert alert-success\">\n",
    "<b>Reviewer's comment V2</b>\n",
    "\n",
    "Ok, fixed!\n",
    "\n",
    "</div>"
   ]
  },
  {
   "cell_type": "markdown",
   "metadata": {},
   "source": [
    "### Random Forest Model"
   ]
  },
  {
   "cell_type": "code",
   "execution_count": 24,
   "metadata": {},
   "outputs": [
    {
     "name": "stdout",
     "output_type": "stream",
     "text": [
      "CPU times: user 12min 29s, sys: 1.19 s, total: 12min 30s\n",
      "Wall time: 12min 30s\n"
     ]
    }
   ],
   "source": [
    "%%time\n",
    "# Create and train model\n",
    "rf_model = None\n",
    "estimators = 0\n",
    "max_depth = 0\n",
    "RMSE = float('-inf')\n",
    "for est in range(10,50,10):\n",
    "    for depth in range(1,10):\n",
    "        model = RandomForestRegressor(n_estimators=est, max_depth=depth, random_state=12345)\n",
    "        result = cross_val_score(model, tf2, tt2, cv=5, scoring=scorer).mean()\n",
    "        if result > RMSE:\n",
    "            rf_model = model\n",
    "            RMSE = result\n",
    "            estimators = est\n",
    "            max_depth = depth"
   ]
  },
  {
   "cell_type": "code",
   "execution_count": 25,
   "metadata": {},
   "outputs": [
    {
     "name": "stdout",
     "output_type": "stream",
     "text": [
      "CPU times: user 15.2 s, sys: 15.7 ms, total: 15.2 s\n",
      "Wall time: 15.3 s\n"
     ]
    },
    {
     "data": {
      "text/plain": [
       "RandomForestRegressor(max_depth=9, n_estimators=40, random_state=12345)"
      ]
     },
     "execution_count": 25,
     "metadata": {},
     "output_type": "execute_result"
    }
   ],
   "source": [
    "%%time\n",
    "# Train model with chosen parameters\n",
    "rf =  RandomForestRegressor(n_estimators=estimators, max_depth=max_depth, random_state=12345)\n",
    "rf.fit(tf2,tt2)"
   ]
  },
  {
   "cell_type": "markdown",
   "metadata": {},
   "source": [
    "### Decision Tree Model"
   ]
  },
  {
   "cell_type": "code",
   "execution_count": 26,
   "metadata": {},
   "outputs": [
    {
     "name": "stdout",
     "output_type": "stream",
     "text": [
      "CPU times: user 11.8 s, sys: 11.8 ms, total: 11.8 s\n",
      "Wall time: 11.8 s\n"
     ]
    }
   ],
   "source": [
    "%%time\n",
    "# Create and train model\n",
    "dt_model = None\n",
    "dt_depth = 0\n",
    "RMSE_1 = float('-inf')\n",
    "for depth in range(1,10):\n",
    "    model_1 = DecisionTreeRegressor(max_depth=depth, random_state=12345)\n",
    "    result_1 = cross_val_score(model_1, tf2, tt2, cv=5, scoring=scorer).mean()\n",
    "    if result_1 > RMSE_1:\n",
    "        dt_model = model_1\n",
    "        RMSE_1 = result_1\n",
    "        dt_depth = depth"
   ]
  },
  {
   "cell_type": "code",
   "execution_count": 27,
   "metadata": {},
   "outputs": [
    {
     "name": "stdout",
     "output_type": "stream",
     "text": [
      "CPU times: user 508 ms, sys: 14.4 ms, total: 523 ms\n",
      "Wall time: 529 ms\n"
     ]
    },
    {
     "data": {
      "text/plain": [
       "DecisionTreeRegressor(max_depth=9, random_state=12345)"
      ]
     },
     "execution_count": 27,
     "metadata": {},
     "output_type": "execute_result"
    }
   ],
   "source": [
    "%%time\n",
    "# Train model with chosen parameters\n",
    "dt = DecisionTreeRegressor(max_depth=dt_depth, random_state=12345)\n",
    "dt.fit(tf2, tt2)"
   ]
  },
  {
   "cell_type": "markdown",
   "metadata": {},
   "source": [
    "### Catboost Model"
   ]
  },
  {
   "cell_type": "code",
   "execution_count": 28,
   "metadata": {},
   "outputs": [
    {
     "name": "stdout",
     "output_type": "stream",
     "text": [
      "CPU times: user 49.7 s, sys: 328 ms, total: 50 s\n",
      "Wall time: 52.8 s\n"
     ]
    }
   ],
   "source": [
    "%%time\n",
    "# Create and train model\n",
    "cb_model = None\n",
    "iterations = 0\n",
    "RMSE_2 = float('-inf')\n",
    "for l in range(100, 200, 50):\n",
    "    model_2 = CatBoostRegressor(random_seed=12345, iterations=l, verbose=0, cat_features = categorical)\n",
    "    result_2 = cross_val_score(model_2, train_features, train_target, cv=3, scoring=scorer).mean()\n",
    "    if result_2 > RMSE_2:\n",
    "        cb_model = model_2\n",
    "        RMSE_2 = result_2\n",
    "        iterations = l"
   ]
  },
  {
   "cell_type": "code",
   "execution_count": 29,
   "metadata": {},
   "outputs": [
    {
     "name": "stdout",
     "output_type": "stream",
     "text": [
      "CPU times: user 14.4 s, sys: 92.3 ms, total: 14.5 s\n",
      "Wall time: 14.9 s\n"
     ]
    },
    {
     "data": {
      "text/plain": [
       "<catboost.core.CatBoostRegressor at 0x7f810c255790>"
      ]
     },
     "execution_count": 29,
     "metadata": {},
     "output_type": "execute_result"
    }
   ],
   "source": [
    "%%time\n",
    "# Fit model with chosen parameters\n",
    "cb = CatBoostRegressor(random_seed=12345, iterations=iterations, verbose=0, cat_features = categorical)\n",
    "cb.fit(train_features, train_target)"
   ]
  },
  {
   "cell_type": "markdown",
   "metadata": {},
   "source": [
    "### Light GBM "
   ]
  },
  {
   "cell_type": "code",
   "execution_count": 30,
   "metadata": {},
   "outputs": [
    {
     "name": "stdout",
     "output_type": "stream",
     "text": [
      "CPU times: user 15min 45s, sys: 2.77 s, total: 15min 47s\n",
      "Wall time: 15min 55s\n"
     ]
    }
   ],
   "source": [
    "%%time\n",
    "# Create and train model\n",
    "lg_model = None\n",
    "lg_depth = 0\n",
    "RMSE_3 = float('-inf')\n",
    "for depth in range(10,20,5):\n",
    "    model_3 = LGBMRegressor(random_seed=12345, max_depth=depth, verbose=-1)\n",
    "    result_3 = cross_val_score(model_3, tf2, tt2, cv=3, scoring = scorer).mean()\n",
    "    if result_3 > RMSE_3:\n",
    "        lg_model = model_3\n",
    "        RMSE_3 = result_3\n",
    "        lg_depth = depth"
   ]
  },
  {
   "cell_type": "code",
   "execution_count": 31,
   "metadata": {},
   "outputs": [
    {
     "name": "stdout",
     "output_type": "stream",
     "text": [
      "CPU times: user 5.16 s, sys: 28.4 ms, total: 5.19 s\n",
      "Wall time: 5.2 s\n"
     ]
    },
    {
     "data": {
      "text/plain": [
       "LGBMRegressor(max_depth=15, random_seed=12345, verbose=-1)"
      ]
     },
     "execution_count": 31,
     "metadata": {},
     "output_type": "execute_result"
    }
   ],
   "source": [
    "%%time\n",
    "# Create model with chosen parameters\n",
    "lg = LGBMRegressor(random_seed=12345, max_depth=lg_depth, verbose=-1)\n",
    "lg.fit(tf2, tt2)"
   ]
  },
  {
   "cell_type": "markdown",
   "metadata": {},
   "source": [
    "<div class=\"alert alert-warning\">\n",
    "<b>Reviewer's comment</b>\n",
    "\n",
    "For lightgbm and catboost it would be better to use their own encoding of categorical features ([lightgbm](https://lightgbm.readthedocs.io/en/latest/Advanced-Topics.html#categorical-feature-support) and [catboost](https://catboost.ai/en/docs/concepts/python-reference_catboostregressor#cat_features))\n",
    "\n",
    "</div>"
   ]
  },
  {
   "cell_type": "markdown",
   "metadata": {},
   "source": [
    "### XGBoost"
   ]
  },
  {
   "cell_type": "code",
   "execution_count": 32,
   "metadata": {},
   "outputs": [
    {
     "name": "stdout",
     "output_type": "stream",
     "text": [
      "CPU times: user 9min 34s, sys: 1.68 s, total: 9min 36s\n",
      "Wall time: 9min 42s\n"
     ]
    }
   ],
   "source": [
    "%%time\n",
    "# Create and train model\n",
    "xg_model = None\n",
    "xg_depth = 0\n",
    "RMSE_4 = float('-inf')\n",
    "for depth in range(10,20,5):\n",
    "    model_4 = XGBRegressor(random_seed=12345, max_depth=depth, verbosity=0)\n",
    "    result_4 = cross_val_score(model_4, tf2, tt2, cv=3, scoring=scorer).mean()\n",
    "    if result_4 > RMSE_4:\n",
    "        xg_model = model_4\n",
    "        RMSE_4 = result_4\n",
    "        xg_depth = depth"
   ]
  },
  {
   "cell_type": "code",
   "execution_count": 33,
   "metadata": {},
   "outputs": [
    {
     "name": "stdout",
     "output_type": "stream",
     "text": [
      "CPU times: user 1min 36s, sys: 327 ms, total: 1min 36s\n",
      "Wall time: 1min 37s\n"
     ]
    },
    {
     "data": {
      "text/plain": [
       "XGBRegressor(base_score=0.5, booster='gbtree', colsample_bylevel=1,\n",
       "             colsample_bynode=1, colsample_bytree=1, enable_categorical=False,\n",
       "             gamma=0, gpu_id=-1, importance_type=None,\n",
       "             interaction_constraints='', learning_rate=0.300000012,\n",
       "             max_delta_step=0, max_depth=10, min_child_weight=1, missing=nan,\n",
       "             monotone_constraints='()', n_estimators=100, n_jobs=8,\n",
       "             num_parallel_tree=1, predictor='auto', random_seed=12345,\n",
       "             random_state=0, reg_alpha=0, reg_lambda=1, scale_pos_weight=1,\n",
       "             subsample=1, tree_method='exact', validate_parameters=1,\n",
       "             verbosity=0)"
      ]
     },
     "execution_count": 33,
     "metadata": {},
     "output_type": "execute_result"
    }
   ],
   "source": [
    "%%time\n",
    "# Create model with chosen parameters\n",
    "xg = XGBRegressor(random_seed=12345, max_depth=xg_depth, verbosity=0)\n",
    "xg.fit(tf2,tt2)"
   ]
  },
  {
   "cell_type": "markdown",
   "metadata": {},
   "source": [
    "## Model analysis"
   ]
  },
  {
   "cell_type": "markdown",
   "metadata": {},
   "source": [
    "### Linear regression model"
   ]
  },
  {
   "cell_type": "code",
   "execution_count": 34,
   "metadata": {},
   "outputs": [
    {
     "data": {
      "text/plain": [
       "3172.6499446092876"
      ]
     },
     "execution_count": 34,
     "metadata": {},
     "output_type": "execute_result"
    }
   ],
   "source": [
    "# Check RMSE\n",
    "lr_res"
   ]
  },
  {
   "cell_type": "code",
   "execution_count": 35,
   "metadata": {},
   "outputs": [
    {
     "name": "stdout",
     "output_type": "stream",
     "text": [
      "CPU times: user 90.3 ms, sys: 0 ns, total: 90.3 ms\n",
      "Wall time: 56.1 ms\n"
     ]
    }
   ],
   "source": [
    "%%time\n",
    "# Check prediction time\n",
    "lr_pred = lr_model.predict(lr_test_features)"
   ]
  },
  {
   "cell_type": "markdown",
   "metadata": {},
   "source": [
    "### Random Forest Model"
   ]
  },
  {
   "cell_type": "code",
   "execution_count": 36,
   "metadata": {},
   "outputs": [
    {
     "data": {
      "text/plain": [
       "-2102.3786543604942"
      ]
     },
     "execution_count": 36,
     "metadata": {},
     "output_type": "execute_result"
    }
   ],
   "source": [
    "# Check RMSE\n",
    "RMSE"
   ]
  },
  {
   "cell_type": "code",
   "execution_count": 37,
   "metadata": {},
   "outputs": [
    {
     "name": "stdout",
     "output_type": "stream",
     "text": [
      "CPU times: user 246 ms, sys: 48 µs, total: 246 ms\n",
      "Wall time: 251 ms\n"
     ]
    }
   ],
   "source": [
    "%%time\n",
    "# Check prediction time\n",
    "rf_pred = rf.predict(tef2)"
   ]
  },
  {
   "cell_type": "markdown",
   "metadata": {},
   "source": [
    "### Decision tree model"
   ]
  },
  {
   "cell_type": "code",
   "execution_count": 38,
   "metadata": {
    "scrolled": true
   },
   "outputs": [
    {
     "data": {
      "text/plain": [
       "-2193.696900362912"
      ]
     },
     "execution_count": 38,
     "metadata": {},
     "output_type": "execute_result"
    }
   ],
   "source": [
    "# Check RMSE\n",
    "RMSE_1"
   ]
  },
  {
   "cell_type": "code",
   "execution_count": 39,
   "metadata": {},
   "outputs": [
    {
     "name": "stdout",
     "output_type": "stream",
     "text": [
      "CPU times: user 9.56 ms, sys: 14 µs, total: 9.58 ms\n",
      "Wall time: 9.09 ms\n"
     ]
    }
   ],
   "source": [
    "%%time\n",
    "# Check prediction time\n",
    "dt_pred = dt.predict(tef2)"
   ]
  },
  {
   "cell_type": "markdown",
   "metadata": {},
   "source": [
    "### Catboost Model"
   ]
  },
  {
   "cell_type": "code",
   "execution_count": 40,
   "metadata": {},
   "outputs": [
    {
     "data": {
      "text/plain": [
       "-1815.3862822182266"
      ]
     },
     "execution_count": 40,
     "metadata": {},
     "output_type": "execute_result"
    }
   ],
   "source": [
    "#Check RMSE\n",
    "RMSE_2"
   ]
  },
  {
   "cell_type": "code",
   "execution_count": 41,
   "metadata": {},
   "outputs": [
    {
     "name": "stdout",
     "output_type": "stream",
     "text": [
      "CPU times: user 107 ms, sys: 8 µs, total: 107 ms\n",
      "Wall time: 116 ms\n"
     ]
    }
   ],
   "source": [
    "%%time\n",
    "# Check prediction time\n",
    "cb_pred = cb.predict(test_features)"
   ]
  },
  {
   "cell_type": "markdown",
   "metadata": {},
   "source": [
    "### Light GBM Model"
   ]
  },
  {
   "cell_type": "code",
   "execution_count": 42,
   "metadata": {},
   "outputs": [
    {
     "data": {
      "text/plain": [
       "-1856.8987810320084"
      ]
     },
     "execution_count": 42,
     "metadata": {},
     "output_type": "execute_result"
    }
   ],
   "source": [
    "# Check RMSE\n",
    "RMSE_3"
   ]
  },
  {
   "cell_type": "code",
   "execution_count": 43,
   "metadata": {},
   "outputs": [
    {
     "name": "stdout",
     "output_type": "stream",
     "text": [
      "CPU times: user 644 ms, sys: 0 ns, total: 644 ms\n",
      "Wall time: 575 ms\n"
     ]
    }
   ],
   "source": [
    "%%time\n",
    "# Chek prediction time\n",
    "lg_pred = lg.predict(tef2)"
   ]
  },
  {
   "cell_type": "markdown",
   "metadata": {},
   "source": [
    "### XG Boost Model"
   ]
  },
  {
   "cell_type": "code",
   "execution_count": 44,
   "metadata": {},
   "outputs": [
    {
     "data": {
      "text/plain": [
       "-1747.6402813310408"
      ]
     },
     "execution_count": 44,
     "metadata": {},
     "output_type": "execute_result"
    }
   ],
   "source": [
    "# Check RMSE\n",
    "RMSE_4"
   ]
  },
  {
   "cell_type": "code",
   "execution_count": 45,
   "metadata": {},
   "outputs": [
    {
     "name": "stdout",
     "output_type": "stream",
     "text": [
      "CPU times: user 542 ms, sys: 0 ns, total: 542 ms\n",
      "Wall time: 492 ms\n"
     ]
    }
   ],
   "source": [
    "%%time\n",
    "# Chek prediction time\n",
    "xg_pred = xg.predict(tef2)"
   ]
  },
  {
   "cell_type": "markdown",
   "metadata": {},
   "source": [
    "### Best model analysis"
   ]
  },
  {
   "cell_type": "code",
   "execution_count": 46,
   "metadata": {},
   "outputs": [
    {
     "name": "stdout",
     "output_type": "stream",
     "text": [
      "1801.4250092931532\n"
     ]
    }
   ],
   "source": [
    "# Check RMSE of best model\n",
    "print(rmse(cb_pred, test_target))"
   ]
  },
  {
   "cell_type": "markdown",
   "metadata": {},
   "source": [
    "From the above analysis, we can see that the catboost model is the fastest gradient boosting model among the three and has the highest accuracy.\n",
    "When we weigh speed and accuracy, the catboost model is the best choice.\n",
    "The decision tree model is the fastest of all the tuned models but its accuracy is not as good as that of the gradient boosting models."
   ]
  },
  {
   "cell_type": "markdown",
   "metadata": {},
   "source": [
    "<div class=\"alert alert-danger\">\n",
    "<s><b>Reviewer's comment</b>\n",
    "\n",
    "Great, you tried a few different models and tuned their hyperparameters. There is a problem however that you used the test set for this. The test set should only be used to evaluate exactly one model: the best model according to cross-validation/validation set performance. Similarly either cross-validation or a separate validation set should be used for hyperparameter tuning.\n",
    "\n",
    "</div>"
   ]
  },
  {
   "cell_type": "markdown",
   "metadata": {},
   "source": [
    "<div class=\"alert alert-success\">\n",
    "<b>Reviewer's comment V2</b>\n",
    "\n",
    "Very good!\n",
    "\n",
    "</div>"
   ]
  },
  {
   "cell_type": "markdown",
   "metadata": {},
   "source": [
    "<div class=\"alert alert-warning\">\n",
    "<b>Reviewer's comment</b>\n",
    "\n",
    "It would also be great to measure training and prediction time for the tuned model of each type separately instead of just measuring the time it takes to tune hyperparameters (which is much more dependent on how many combinations of hyperparameters you're willing to try)\n",
    "\n",
    "</div>"
   ]
  },
  {
   "cell_type": "markdown",
   "metadata": {},
   "source": [
    "<div class=\"alert alert-success\">\n",
    "<b>Reviewer's comment V2</b>\n",
    "\n",
    "It's nice that you measured prediction time!\n",
    "\n",
    "</div>"
   ]
  },
  {
   "cell_type": "markdown",
   "metadata": {},
   "source": [
    "# Checklist"
   ]
  },
  {
   "cell_type": "markdown",
   "metadata": {},
   "source": [
    "Type 'x' to check. Then press Shift+Enter."
   ]
  },
  {
   "cell_type": "markdown",
   "metadata": {},
   "source": [
    "- [x]  Jupyter Notebook is open\n",
    "- [x]  Code is error free\n",
    "- [x]  The cells with the code have been arranged in order of execution\n",
    "- [x]  The data has been downloaded and prepared\n",
    "- [x]  The models have been trained\n",
    "- [x]  The analysis of speed and quality of the models has been performed"
   ]
  }
 ],
 "metadata": {
  "ExecuteTimeLog": [
   {
    "duration": 50,
    "start_time": "2022-08-03T22:00:22.821Z"
   },
   {
    "duration": 415,
    "start_time": "2022-08-03T22:00:27.130Z"
   },
   {
    "duration": 1155,
    "start_time": "2022-08-03T22:00:28.935Z"
   },
   {
    "duration": 28,
    "start_time": "2022-08-03T22:00:43.128Z"
   },
   {
    "duration": 21,
    "start_time": "2022-08-03T22:01:01.930Z"
   },
   {
    "duration": 37,
    "start_time": "2022-08-03T22:01:23.232Z"
   },
   {
    "duration": 131,
    "start_time": "2022-08-03T22:01:43.860Z"
   },
   {
    "duration": 1175,
    "start_time": "2022-08-03T22:06:32.694Z"
   },
   {
    "duration": 35,
    "start_time": "2022-08-03T22:07:01.567Z"
   },
   {
    "duration": 4,
    "start_time": "2022-08-03T22:09:04.173Z"
   },
   {
    "duration": 4,
    "start_time": "2022-08-03T22:09:08.425Z"
   },
   {
    "duration": 4,
    "start_time": "2022-08-03T22:09:11.082Z"
   },
   {
    "duration": 27504,
    "start_time": "2022-08-03T22:10:15.232Z"
   },
   {
    "duration": 85,
    "start_time": "2022-08-03T22:17:33.894Z"
   },
   {
    "duration": 75,
    "start_time": "2022-08-03T22:18:10.882Z"
   },
   {
    "duration": 49,
    "start_time": "2022-08-03T22:18:24.729Z"
   },
   {
    "duration": 48,
    "start_time": "2022-08-03T22:19:24.931Z"
   },
   {
    "duration": 56,
    "start_time": "2022-08-03T22:21:16.726Z"
   },
   {
    "duration": 6,
    "start_time": "2022-08-03T22:21:52.727Z"
   },
   {
    "duration": 48,
    "start_time": "2022-08-03T22:23:38.329Z"
   },
   {
    "duration": 30,
    "start_time": "2022-08-03T22:25:49.761Z"
   },
   {
    "duration": 21,
    "start_time": "2022-08-03T22:26:47.161Z"
   },
   {
    "duration": 30,
    "start_time": "2022-08-03T22:27:05.193Z"
   },
   {
    "duration": 5,
    "start_time": "2022-08-03T22:27:49.943Z"
   },
   {
    "duration": 5,
    "start_time": "2022-08-03T22:29:15.532Z"
   },
   {
    "duration": 124,
    "start_time": "2022-08-03T22:32:09.136Z"
   },
   {
    "duration": 6,
    "start_time": "2022-08-03T22:34:43.030Z"
   },
   {
    "duration": 6,
    "start_time": "2022-08-03T22:35:10.127Z"
   },
   {
    "duration": 652,
    "start_time": "2022-08-03T22:38:10.483Z"
   },
   {
    "duration": 239,
    "start_time": "2022-08-03T22:38:26.646Z"
   },
   {
    "duration": 122,
    "start_time": "2022-08-03T22:40:08.216Z"
   },
   {
    "duration": 1071,
    "start_time": "2022-08-03T22:41:16.927Z"
   },
   {
    "duration": 711,
    "start_time": "2022-08-03T22:41:18.000Z"
   },
   {
    "duration": 32,
    "start_time": "2022-08-03T22:41:18.713Z"
   },
   {
    "duration": 134,
    "start_time": "2022-08-03T22:41:18.748Z"
   },
   {
    "duration": 65,
    "start_time": "2022-08-03T22:41:18.884Z"
   },
   {
    "duration": 136,
    "start_time": "2022-08-03T22:41:18.951Z"
   },
   {
    "duration": 49577,
    "start_time": "2022-08-03T22:41:19.089Z"
   },
   {
    "duration": 93,
    "start_time": "2022-08-03T22:42:08.668Z"
   },
   {
    "duration": 184,
    "start_time": "2022-08-03T22:42:08.763Z"
   },
   {
    "duration": 3,
    "start_time": "2022-08-03T22:42:08.951Z"
   },
   {
    "duration": 141,
    "start_time": "2022-08-03T22:46:09.654Z"
   },
   {
    "duration": 24,
    "start_time": "2022-08-03T22:46:46.723Z"
   },
   {
    "duration": 2,
    "start_time": "2022-08-03T22:52:41.091Z"
   },
   {
    "duration": 29,
    "start_time": "2022-08-03T22:55:16.660Z"
   },
   {
    "duration": 26,
    "start_time": "2022-08-03T22:56:30.556Z"
   },
   {
    "duration": 36,
    "start_time": "2022-08-03T22:58:27.947Z"
   },
   {
    "duration": 2,
    "start_time": "2022-08-03T22:59:01.178Z"
   },
   {
    "duration": 3,
    "start_time": "2022-08-03T23:07:55.729Z"
   },
   {
    "duration": 56,
    "start_time": "2022-08-03T23:14:13.237Z"
   },
   {
    "duration": 146,
    "start_time": "2022-08-03T23:14:37.488Z"
   },
   {
    "duration": 4,
    "start_time": "2022-08-03T23:16:10.131Z"
   },
   {
    "duration": 1222,
    "start_time": "2022-08-03T23:17:18.685Z"
   },
   {
    "duration": 715,
    "start_time": "2022-08-03T23:17:19.909Z"
   },
   {
    "duration": 30,
    "start_time": "2022-08-03T23:17:20.625Z"
   },
   {
    "duration": 121,
    "start_time": "2022-08-03T23:17:20.658Z"
   },
   {
    "duration": 63,
    "start_time": "2022-08-03T23:17:20.781Z"
   },
   {
    "duration": 115,
    "start_time": "2022-08-03T23:17:20.845Z"
   },
   {
    "duration": 48953,
    "start_time": "2022-08-03T23:17:20.962Z"
   },
   {
    "duration": 96,
    "start_time": "2022-08-03T23:18:09.917Z"
   },
   {
    "duration": 175,
    "start_time": "2022-08-03T23:18:10.014Z"
   },
   {
    "duration": 33,
    "start_time": "2022-08-03T23:18:10.192Z"
   },
   {
    "duration": 264,
    "start_time": "2022-08-03T23:18:10.226Z"
   },
   {
    "duration": 23,
    "start_time": "2022-08-03T23:18:10.492Z"
   },
   {
    "duration": 650,
    "start_time": "2022-08-03T23:18:10.517Z"
   },
   {
    "duration": 267,
    "start_time": "2022-08-03T23:20:04.153Z"
   },
   {
    "duration": 19,
    "start_time": "2022-08-03T23:23:19.530Z"
   },
   {
    "duration": 20,
    "start_time": "2022-08-03T23:23:44.228Z"
   },
   {
    "duration": 1071,
    "start_time": "2022-08-03T23:23:59.130Z"
   },
   {
    "duration": 726,
    "start_time": "2022-08-03T23:24:00.203Z"
   },
   {
    "duration": 30,
    "start_time": "2022-08-03T23:24:00.931Z"
   },
   {
    "duration": 166,
    "start_time": "2022-08-03T23:24:00.963Z"
   },
   {
    "duration": 53,
    "start_time": "2022-08-03T23:24:01.131Z"
   },
   {
    "duration": 145,
    "start_time": "2022-08-03T23:24:01.185Z"
   },
   {
    "duration": 50441,
    "start_time": "2022-08-03T23:24:01.332Z"
   },
   {
    "duration": 92,
    "start_time": "2022-08-03T23:24:51.774Z"
   },
   {
    "duration": 181,
    "start_time": "2022-08-03T23:24:51.868Z"
   },
   {
    "duration": 30,
    "start_time": "2022-08-03T23:24:52.050Z"
   },
   {
    "duration": 256,
    "start_time": "2022-08-03T23:24:52.081Z"
   },
   {
    "duration": 20,
    "start_time": "2022-08-03T23:24:52.339Z"
   },
   {
    "duration": 42,
    "start_time": "2022-08-03T23:24:52.362Z"
   },
   {
    "duration": 652,
    "start_time": "2022-08-03T23:26:29.034Z"
   },
   {
    "duration": 1695,
    "start_time": "2022-08-09T21:42:12.716Z"
   },
   {
    "duration": 110,
    "start_time": "2022-08-09T21:46:36.126Z"
   },
   {
    "duration": 9,
    "start_time": "2022-08-09T21:46:48.874Z"
   },
   {
    "duration": 1412,
    "start_time": "2022-08-09T21:47:03.013Z"
   },
   {
    "duration": 2716,
    "start_time": "2022-08-09T21:47:04.427Z"
   },
   {
    "duration": 32,
    "start_time": "2022-08-09T21:47:07.145Z"
   },
   {
    "duration": 135,
    "start_time": "2022-08-09T21:47:07.179Z"
   },
   {
    "duration": 58,
    "start_time": "2022-08-09T21:47:07.316Z"
   },
   {
    "duration": 142,
    "start_time": "2022-08-09T21:47:07.375Z"
   },
   {
    "duration": 49868,
    "start_time": "2022-08-09T21:47:07.519Z"
   },
   {
    "duration": 102,
    "start_time": "2022-08-09T21:47:57.389Z"
   },
   {
    "duration": 176,
    "start_time": "2022-08-09T21:47:57.493Z"
   },
   {
    "duration": 37,
    "start_time": "2022-08-09T21:47:57.672Z"
   },
   {
    "duration": 255,
    "start_time": "2022-08-09T21:47:57.711Z"
   },
   {
    "duration": 26,
    "start_time": "2022-08-09T21:47:57.968Z"
   },
   {
    "duration": 714,
    "start_time": "2022-08-09T21:47:57.996Z"
   },
   {
    "duration": 139,
    "start_time": "2022-08-09T21:47:58.712Z"
   },
   {
    "duration": 30,
    "start_time": "2022-08-09T21:49:54.051Z"
   },
   {
    "duration": 43,
    "start_time": "2022-08-09T21:50:25.650Z"
   },
   {
    "duration": 54,
    "start_time": "2022-08-09T21:50:56.801Z"
   },
   {
    "duration": 19,
    "start_time": "2022-08-09T21:52:06.039Z"
   },
   {
    "duration": 23,
    "start_time": "2022-08-09T21:53:22.954Z"
   },
   {
    "duration": 1480,
    "start_time": "2022-08-09T21:53:40.478Z"
   },
   {
    "duration": 742,
    "start_time": "2022-08-09T21:53:41.961Z"
   },
   {
    "duration": 30,
    "start_time": "2022-08-09T21:53:42.705Z"
   },
   {
    "duration": 158,
    "start_time": "2022-08-09T21:53:42.738Z"
   },
   {
    "duration": 57,
    "start_time": "2022-08-09T21:53:42.899Z"
   },
   {
    "duration": 145,
    "start_time": "2022-08-09T21:53:42.958Z"
   },
   {
    "duration": 49195,
    "start_time": "2022-08-09T21:53:43.105Z"
   },
   {
    "duration": 100,
    "start_time": "2022-08-09T21:54:32.302Z"
   },
   {
    "duration": 178,
    "start_time": "2022-08-09T21:54:32.404Z"
   },
   {
    "duration": 34,
    "start_time": "2022-08-09T21:54:32.585Z"
   },
   {
    "duration": 251,
    "start_time": "2022-08-09T21:54:32.620Z"
   },
   {
    "duration": 30,
    "start_time": "2022-08-09T21:54:32.873Z"
   },
   {
    "duration": 693,
    "start_time": "2022-08-09T21:54:32.904Z"
   },
   {
    "duration": 20,
    "start_time": "2022-08-09T21:54:33.599Z"
   },
   {
    "duration": 1433,
    "start_time": "2022-08-09T22:06:20.637Z"
   },
   {
    "duration": 724,
    "start_time": "2022-08-09T22:06:22.072Z"
   },
   {
    "duration": 32,
    "start_time": "2022-08-09T22:06:22.798Z"
   },
   {
    "duration": 144,
    "start_time": "2022-08-09T22:06:22.832Z"
   },
   {
    "duration": 61,
    "start_time": "2022-08-09T22:06:22.977Z"
   },
   {
    "duration": 135,
    "start_time": "2022-08-09T22:06:23.040Z"
   },
   {
    "duration": 49194,
    "start_time": "2022-08-09T22:06:23.177Z"
   },
   {
    "duration": 110,
    "start_time": "2022-08-09T22:07:12.372Z"
   },
   {
    "duration": 182,
    "start_time": "2022-08-09T22:07:12.492Z"
   },
   {
    "duration": 37,
    "start_time": "2022-08-09T22:07:12.677Z"
   },
   {
    "duration": 249,
    "start_time": "2022-08-09T22:07:12.716Z"
   },
   {
    "duration": 26,
    "start_time": "2022-08-09T22:07:12.966Z"
   },
   {
    "duration": 225,
    "start_time": "2022-08-09T22:07:12.994Z"
   },
   {
    "duration": 0,
    "start_time": "2022-08-09T22:07:13.220Z"
   },
   {
    "duration": 570,
    "start_time": "2022-08-09T22:09:15.758Z"
   },
   {
    "duration": 585,
    "start_time": "2022-08-09T22:09:53.067Z"
   },
   {
    "duration": 16,
    "start_time": "2022-08-09T22:10:52.792Z"
   },
   {
    "duration": 1439,
    "start_time": "2022-08-09T22:11:45.734Z"
   },
   {
    "duration": 713,
    "start_time": "2022-08-09T22:11:47.175Z"
   },
   {
    "duration": 29,
    "start_time": "2022-08-09T22:11:47.890Z"
   },
   {
    "duration": 149,
    "start_time": "2022-08-09T22:11:47.921Z"
   },
   {
    "duration": 65,
    "start_time": "2022-08-09T22:11:48.072Z"
   },
   {
    "duration": 130,
    "start_time": "2022-08-09T22:11:48.139Z"
   },
   {
    "duration": 49945,
    "start_time": "2022-08-09T22:11:48.271Z"
   },
   {
    "duration": 107,
    "start_time": "2022-08-09T22:12:38.218Z"
   },
   {
    "duration": 183,
    "start_time": "2022-08-09T22:12:38.327Z"
   },
   {
    "duration": 28,
    "start_time": "2022-08-09T22:12:38.513Z"
   },
   {
    "duration": 254,
    "start_time": "2022-08-09T22:12:38.543Z"
   },
   {
    "duration": 22,
    "start_time": "2022-08-09T22:12:38.798Z"
   },
   {
    "duration": 707,
    "start_time": "2022-08-09T22:12:38.821Z"
   },
   {
    "duration": 19,
    "start_time": "2022-08-09T22:12:39.530Z"
   },
   {
    "duration": 130,
    "start_time": "2022-08-09T22:39:25.001Z"
   },
   {
    "duration": 9,
    "start_time": "2022-08-09T22:39:47.586Z"
   },
   {
    "duration": 4,
    "start_time": "2022-08-09T22:39:57.500Z"
   },
   {
    "duration": 542,
    "start_time": "2022-08-09T23:12:23.670Z"
   },
   {
    "duration": 26,
    "start_time": "2022-08-09T23:12:44.500Z"
   },
   {
    "duration": 1124,
    "start_time": "2022-08-09T23:13:25.351Z"
   },
   {
    "duration": 31,
    "start_time": "2022-08-09T23:13:29.610Z"
   },
   {
    "duration": 72,
    "start_time": "2022-08-09T23:13:47.664Z"
   },
   {
    "duration": 12,
    "start_time": "2022-08-09T23:13:50.491Z"
   },
   {
    "duration": 231,
    "start_time": "2022-08-09T23:13:54.150Z"
   },
   {
    "duration": 19,
    "start_time": "2022-08-09T23:13:59.312Z"
   },
   {
    "duration": 10,
    "start_time": "2022-08-09T23:15:06.041Z"
   },
   {
    "duration": 131,
    "start_time": "2022-08-09T23:16:05.365Z"
   },
   {
    "duration": 11,
    "start_time": "2022-08-09T23:19:48.460Z"
   },
   {
    "duration": 127,
    "start_time": "2022-08-09T23:19:56.271Z"
   },
   {
    "duration": 613,
    "start_time": "2022-08-09T23:47:25.250Z"
   },
   {
    "duration": 4,
    "start_time": "2022-08-09T23:47:34.630Z"
   },
   {
    "duration": 1415,
    "start_time": "2022-08-09T23:48:30.107Z"
   },
   {
    "duration": 767,
    "start_time": "2022-08-09T23:48:31.524Z"
   },
   {
    "duration": 31,
    "start_time": "2022-08-09T23:48:32.292Z"
   },
   {
    "duration": 139,
    "start_time": "2022-08-09T23:48:32.325Z"
   },
   {
    "duration": 71,
    "start_time": "2022-08-09T23:48:32.466Z"
   },
   {
    "duration": 130,
    "start_time": "2022-08-09T23:48:32.539Z"
   },
   {
    "duration": 47884,
    "start_time": "2022-08-09T23:48:32.671Z"
   },
   {
    "duration": 104,
    "start_time": "2022-08-09T23:49:20.557Z"
   },
   {
    "duration": 1261,
    "start_time": "2022-08-09T23:49:20.663Z"
   },
   {
    "duration": 78,
    "start_time": "2022-08-09T23:49:21.926Z"
   },
   {
    "duration": 20,
    "start_time": "2022-08-09T23:49:22.006Z"
   },
   {
    "duration": 249,
    "start_time": "2022-08-09T23:49:22.028Z"
   },
   {
    "duration": 25,
    "start_time": "2022-08-09T23:49:22.279Z"
   },
   {
    "duration": 195,
    "start_time": "2022-08-09T23:49:22.306Z"
   },
   {
    "duration": 220695,
    "start_time": "2022-08-09T23:49:22.592Z"
   },
   {
    "duration": 3178,
    "start_time": "2022-08-09T23:58:33.027Z"
   },
   {
    "duration": 3,
    "start_time": "2022-08-10T00:07:57.108Z"
   },
   {
    "duration": 158,
    "start_time": "2022-08-10T00:21:45.306Z"
   },
   {
    "duration": 108,
    "start_time": "2022-08-10T00:22:19.566Z"
   },
   {
    "duration": 36794,
    "start_time": "2022-08-10T00:22:38.407Z"
   },
   {
    "duration": 13,
    "start_time": "2022-08-10T00:24:10.890Z"
   },
   {
    "duration": 10,
    "start_time": "2022-08-10T00:24:37.351Z"
   },
   {
    "duration": 12,
    "start_time": "2022-08-10T00:26:36.551Z"
   },
   {
    "duration": 4,
    "start_time": "2022-08-10T00:26:42.641Z"
   },
   {
    "duration": 708,
    "start_time": "2022-08-10T00:26:48.771Z"
   },
   {
    "duration": 47294,
    "start_time": "2022-08-10T00:27:09.421Z"
   },
   {
    "duration": 124355,
    "start_time": "2022-08-10T00:35:54.738Z"
   },
   {
    "duration": 38220,
    "start_time": "2022-08-10T00:38:25.041Z"
   },
   {
    "duration": 10,
    "start_time": "2022-08-10T00:50:16.912Z"
   },
   {
    "duration": 4,
    "start_time": "2022-08-10T00:58:21.683Z"
   },
   {
    "duration": 938920,
    "start_time": "2022-08-10T00:58:38.372Z"
   },
   {
    "duration": 1174,
    "start_time": "2022-08-10T22:47:50.037Z"
   },
   {
    "duration": 947,
    "start_time": "2022-08-10T22:47:51.213Z"
   },
   {
    "duration": 26,
    "start_time": "2022-08-10T22:47:52.162Z"
   },
   {
    "duration": 97,
    "start_time": "2022-08-10T22:47:52.189Z"
   },
   {
    "duration": 59,
    "start_time": "2022-08-10T22:47:52.288Z"
   },
   {
    "duration": 103,
    "start_time": "2022-08-10T22:47:52.348Z"
   },
   {
    "duration": 41969,
    "start_time": "2022-08-10T22:47:52.452Z"
   },
   {
    "duration": 92,
    "start_time": "2022-08-10T22:48:34.423Z"
   },
   {
    "duration": 1154,
    "start_time": "2022-08-10T22:48:34.517Z"
   },
   {
    "duration": 84,
    "start_time": "2022-08-10T22:48:35.673Z"
   },
   {
    "duration": 21,
    "start_time": "2022-08-10T22:48:35.758Z"
   },
   {
    "duration": 225,
    "start_time": "2022-08-10T22:48:35.781Z"
   },
   {
    "duration": 18,
    "start_time": "2022-08-10T22:48:36.008Z"
   },
   {
    "duration": 171,
    "start_time": "2022-08-10T22:48:36.029Z"
   },
   {
    "duration": 185709,
    "start_time": "2022-08-10T22:48:36.203Z"
   },
   {
    "duration": 2424,
    "start_time": "2022-08-10T22:51:41.914Z"
   },
   {
    "duration": 32910,
    "start_time": "2022-08-10T22:51:44.339Z"
   },
   {
    "duration": 1327,
    "start_time": "2022-08-10T23:08:24.896Z"
   },
   {
    "duration": 595,
    "start_time": "2022-08-10T23:08:26.225Z"
   },
   {
    "duration": 24,
    "start_time": "2022-08-10T23:08:26.821Z"
   },
   {
    "duration": 105,
    "start_time": "2022-08-10T23:08:26.846Z"
   },
   {
    "duration": 70,
    "start_time": "2022-08-10T23:08:26.953Z"
   },
   {
    "duration": 93,
    "start_time": "2022-08-10T23:08:27.026Z"
   },
   {
    "duration": 10,
    "start_time": "2022-08-10T23:09:15.391Z"
   },
   {
    "duration": 116,
    "start_time": "2022-08-10T23:10:05.582Z"
   },
   {
    "duration": 10,
    "start_time": "2022-08-10T23:10:43.871Z"
   },
   {
    "duration": 1235,
    "start_time": "2022-08-10T23:11:12.563Z"
   },
   {
    "duration": 606,
    "start_time": "2022-08-10T23:11:13.800Z"
   },
   {
    "duration": 25,
    "start_time": "2022-08-10T23:11:14.408Z"
   },
   {
    "duration": 110,
    "start_time": "2022-08-10T23:11:14.435Z"
   },
   {
    "duration": 55,
    "start_time": "2022-08-10T23:11:14.548Z"
   },
   {
    "duration": 98,
    "start_time": "2022-08-10T23:11:14.605Z"
   },
   {
    "duration": 42477,
    "start_time": "2022-08-10T23:11:14.704Z"
   },
   {
    "duration": 72,
    "start_time": "2022-08-10T23:11:57.183Z"
   },
   {
    "duration": 1086,
    "start_time": "2022-08-10T23:11:57.256Z"
   },
   {
    "duration": 77,
    "start_time": "2022-08-10T23:11:58.344Z"
   },
   {
    "duration": 17,
    "start_time": "2022-08-10T23:11:58.423Z"
   },
   {
    "duration": 208,
    "start_time": "2022-08-10T23:11:58.442Z"
   },
   {
    "duration": 17,
    "start_time": "2022-08-10T23:11:58.652Z"
   },
   {
    "duration": 232,
    "start_time": "2022-08-10T23:11:58.671Z"
   },
   {
    "duration": 178471,
    "start_time": "2022-08-10T23:11:58.905Z"
   },
   {
    "duration": 2546,
    "start_time": "2022-08-10T23:14:57.378Z"
   },
   {
    "duration": 36738,
    "start_time": "2022-08-10T23:15:28.152Z"
   },
   {
    "duration": 136453,
    "start_time": "2022-08-10T23:18:09.562Z"
   },
   {
    "duration": 908842,
    "start_time": "2022-08-10T23:21:22.272Z"
   },
   {
    "duration": 125,
    "start_time": "2022-08-10T23:36:31.116Z"
   },
   {
    "duration": 0,
    "start_time": "2022-08-10T23:36:31.243Z"
   },
   {
    "duration": 0,
    "start_time": "2022-08-10T23:36:31.244Z"
   },
   {
    "duration": 0,
    "start_time": "2022-08-10T23:36:31.245Z"
   },
   {
    "duration": 0,
    "start_time": "2022-08-10T23:36:31.246Z"
   },
   {
    "duration": 0,
    "start_time": "2022-08-10T23:36:31.247Z"
   },
   {
    "duration": 153,
    "start_time": "2022-08-10T23:36:56.552Z"
   },
   {
    "duration": 4,
    "start_time": "2022-08-10T23:37:07.462Z"
   },
   {
    "duration": 4,
    "start_time": "2022-08-10T23:37:11.932Z"
   },
   {
    "duration": 4,
    "start_time": "2022-08-10T23:37:15.933Z"
   },
   {
    "duration": 4,
    "start_time": "2022-08-10T23:37:21.033Z"
   },
   {
    "duration": 3,
    "start_time": "2022-08-10T23:37:29.622Z"
   },
   {
    "duration": 4,
    "start_time": "2022-08-10T23:37:33.471Z"
   },
   {
    "duration": 447,
    "start_time": "2022-08-10T23:40:48.572Z"
   },
   {
    "duration": 58549,
    "start_time": "2022-08-10T23:41:25.731Z"
   },
   {
    "duration": 4,
    "start_time": "2022-08-10T23:42:52.291Z"
   },
   {
    "duration": 107638,
    "start_time": "2022-08-10T23:43:30.650Z"
   },
   {
    "duration": 3,
    "start_time": "2022-08-10T23:46:06.919Z"
   },
   {
    "duration": 106953,
    "start_time": "2022-08-10T23:46:15.419Z"
   },
   {
    "duration": 104102,
    "start_time": "2022-08-10T23:48:10.268Z"
   },
   {
    "duration": 244775,
    "start_time": "2022-08-10T23:50:01.326Z"
   },
   {
    "duration": 4,
    "start_time": "2022-08-10T23:59:16.835Z"
   },
   {
    "duration": 784368,
    "start_time": "2022-08-10T23:59:21.594Z"
   },
   {
    "duration": 14575,
    "start_time": "2022-08-11T00:12:41.002Z"
   },
   {
    "duration": 30,
    "start_time": "2022-08-11T00:13:06.213Z"
   },
   {
    "duration": 26358,
    "start_time": "2022-08-11T00:13:46.253Z"
   },
   {
    "duration": 4,
    "start_time": "2022-08-11T00:15:10.566Z"
   },
   {
    "duration": 3,
    "start_time": "2022-08-11T00:15:14.527Z"
   },
   {
    "duration": 1456,
    "start_time": "2022-08-11T08:22:05.815Z"
   },
   {
    "duration": 2926,
    "start_time": "2022-08-11T08:22:07.273Z"
   },
   {
    "duration": 29,
    "start_time": "2022-08-11T08:22:10.201Z"
   },
   {
    "duration": 166,
    "start_time": "2022-08-11T08:22:10.233Z"
   },
   {
    "duration": 55,
    "start_time": "2022-08-11T08:22:10.402Z"
   },
   {
    "duration": 145,
    "start_time": "2022-08-11T08:22:10.460Z"
   },
   {
    "duration": 49953,
    "start_time": "2022-08-11T08:22:10.607Z"
   },
   {
    "duration": 101,
    "start_time": "2022-08-11T08:23:00.562Z"
   },
   {
    "duration": 1181,
    "start_time": "2022-08-11T08:23:00.665Z"
   },
   {
    "duration": 87,
    "start_time": "2022-08-11T08:23:01.850Z"
   },
   {
    "duration": 23,
    "start_time": "2022-08-11T08:23:01.940Z"
   },
   {
    "duration": 307,
    "start_time": "2022-08-11T08:23:01.966Z"
   },
   {
    "duration": 26,
    "start_time": "2022-08-11T08:23:02.274Z"
   },
   {
    "duration": 200,
    "start_time": "2022-08-11T08:23:02.301Z"
   },
   {
    "duration": 228120,
    "start_time": "2022-08-11T08:23:02.593Z"
   },
   {
    "duration": 3179,
    "start_time": "2022-08-11T08:26:50.714Z"
   },
   {
    "duration": 120649,
    "start_time": "2022-08-11T08:26:53.895Z"
   },
   {
    "duration": 267347,
    "start_time": "2022-08-11T08:28:54.546Z"
   },
   {
    "duration": 2383186,
    "start_time": "2022-08-11T08:33:21.896Z"
   },
   {
    "duration": 5,
    "start_time": "2022-08-11T09:13:05.083Z"
   },
   {
    "duration": 8,
    "start_time": "2022-08-11T09:13:05.090Z"
   },
   {
    "duration": 7,
    "start_time": "2022-08-11T09:13:05.100Z"
   },
   {
    "duration": 7,
    "start_time": "2022-08-11T09:13:05.109Z"
   },
   {
    "duration": 7,
    "start_time": "2022-08-11T09:13:05.118Z"
   },
   {
    "duration": 7,
    "start_time": "2022-08-11T09:13:05.127Z"
   },
   {
    "duration": 4,
    "start_time": "2022-08-11T09:13:17.944Z"
   },
   {
    "duration": 4,
    "start_time": "2022-08-11T09:13:20.379Z"
   },
   {
    "duration": 4,
    "start_time": "2022-08-11T09:13:22.534Z"
   },
   {
    "duration": 3,
    "start_time": "2022-08-11T09:13:24.964Z"
   },
   {
    "duration": 4,
    "start_time": "2022-08-11T09:13:28.174Z"
   },
   {
    "duration": 5,
    "start_time": "2022-08-11T09:13:31.160Z"
   },
   {
    "duration": 489477,
    "start_time": "2022-08-11T09:14:25.426Z"
   },
   {
    "duration": 5,
    "start_time": "2022-08-11T09:24:21.928Z"
   },
   {
    "duration": 250804,
    "start_time": "2022-08-11T09:25:17.092Z"
   },
   {
    "duration": 1443,
    "start_time": "2022-08-11T09:45:50.328Z"
   },
   {
    "duration": 2909,
    "start_time": "2022-08-11T09:45:51.774Z"
   },
   {
    "duration": 31,
    "start_time": "2022-08-11T09:45:54.685Z"
   },
   {
    "duration": 138,
    "start_time": "2022-08-11T09:45:54.719Z"
   },
   {
    "duration": 76,
    "start_time": "2022-08-11T09:45:54.859Z"
   },
   {
    "duration": 133,
    "start_time": "2022-08-11T09:45:54.937Z"
   },
   {
    "duration": 50038,
    "start_time": "2022-08-11T09:45:55.072Z"
   },
   {
    "duration": 104,
    "start_time": "2022-08-11T09:46:45.112Z"
   },
   {
    "duration": 1181,
    "start_time": "2022-08-11T09:46:45.218Z"
   },
   {
    "duration": 71,
    "start_time": "2022-08-11T09:46:46.402Z"
   },
   {
    "duration": 25,
    "start_time": "2022-08-11T09:46:46.476Z"
   },
   {
    "duration": 243,
    "start_time": "2022-08-11T09:46:46.502Z"
   },
   {
    "duration": 20,
    "start_time": "2022-08-11T09:46:46.747Z"
   },
   {
    "duration": 223,
    "start_time": "2022-08-11T09:46:46.769Z"
   },
   {
    "duration": 228961,
    "start_time": "2022-08-11T09:46:46.994Z"
   },
   {
    "duration": 3224,
    "start_time": "2022-08-11T09:50:35.958Z"
   },
   {
    "duration": 126943,
    "start_time": "2022-08-11T09:50:39.183Z"
   },
   {
    "duration": 668865,
    "start_time": "2022-08-11T09:52:46.128Z"
   },
   {
    "duration": 16141,
    "start_time": "2022-08-11T10:03:54.996Z"
   },
   {
    "duration": 4,
    "start_time": "2022-08-11T10:04:11.139Z"
   },
   {
    "duration": 30,
    "start_time": "2022-08-11T10:04:11.144Z"
   },
   {
    "duration": 13,
    "start_time": "2022-08-11T10:04:11.175Z"
   },
   {
    "duration": 26,
    "start_time": "2022-08-11T10:04:11.189Z"
   },
   {
    "duration": 11,
    "start_time": "2022-08-11T10:04:11.217Z"
   },
   {
    "duration": 39,
    "start_time": "2022-08-11T10:04:11.230Z"
   },
   {
    "duration": 258689,
    "start_time": "2022-08-11T10:04:58.066Z"
   },
   {
    "duration": 840427,
    "start_time": "2022-08-11T10:09:44.405Z"
   },
   {
    "duration": 42872,
    "start_time": "2022-08-11T10:23:44.833Z"
   },
   {
    "duration": 5,
    "start_time": "2022-08-11T10:24:44.434Z"
   },
   {
    "duration": 4,
    "start_time": "2022-08-11T10:24:48.872Z"
   },
   {
    "duration": 4,
    "start_time": "2022-08-11T10:24:52.532Z"
   },
   {
    "duration": 783605,
    "start_time": "2022-08-11T10:25:37.097Z"
   },
   {
    "duration": 4,
    "start_time": "2022-08-11T10:39:06.356Z"
   },
   {
    "duration": 1357,
    "start_time": "2022-08-25T22:22:35.741Z"
   },
   {
    "duration": 3,
    "start_time": "2022-08-25T22:24:29.281Z"
   },
   {
    "duration": 90,
    "start_time": "2022-08-25T22:33:29.880Z"
   },
   {
    "duration": 4,
    "start_time": "2022-08-25T22:33:38.201Z"
   },
   {
    "duration": 1007,
    "start_time": "2022-08-25T22:33:38.207Z"
   },
   {
    "duration": 25,
    "start_time": "2022-08-25T22:33:39.216Z"
   },
   {
    "duration": 105,
    "start_time": "2022-08-25T22:33:39.242Z"
   },
   {
    "duration": 54,
    "start_time": "2022-08-25T22:33:39.349Z"
   },
   {
    "duration": 107,
    "start_time": "2022-08-25T22:33:39.404Z"
   },
   {
    "duration": 44430,
    "start_time": "2022-08-25T22:33:39.512Z"
   },
   {
    "duration": 84,
    "start_time": "2022-08-25T22:34:23.944Z"
   },
   {
    "duration": 39,
    "start_time": "2022-08-25T22:34:29.783Z"
   },
   {
    "duration": 1038,
    "start_time": "2022-08-25T22:34:52.630Z"
   },
   {
    "duration": 185,
    "start_time": "2022-08-25T22:36:35.761Z"
   },
   {
    "duration": 40,
    "start_time": "2022-08-25T22:39:17.100Z"
   },
   {
    "duration": 196,
    "start_time": "2022-08-25T22:41:12.310Z"
   },
   {
    "duration": 187,
    "start_time": "2022-08-25T22:41:15.591Z"
   },
   {
    "duration": 19,
    "start_time": "2022-08-25T22:41:19.553Z"
   },
   {
    "duration": 17,
    "start_time": "2022-08-25T22:41:37.743Z"
   },
   {
    "duration": 136,
    "start_time": "2022-08-25T22:41:56.400Z"
   },
   {
    "duration": 654,
    "start_time": "2022-08-25T22:55:13.020Z"
   },
   {
    "duration": 23714,
    "start_time": "2022-08-25T22:55:46.590Z"
   },
   {
    "duration": 23864,
    "start_time": "2022-08-25T22:58:36.411Z"
   },
   {
    "duration": 23740,
    "start_time": "2022-08-25T22:59:26.650Z"
   },
   {
    "duration": 30,
    "start_time": "2022-08-25T23:00:06.141Z"
   },
   {
    "duration": 25,
    "start_time": "2022-08-25T23:07:18.252Z"
   },
   {
    "duration": 795,
    "start_time": "2022-08-25T23:09:37.899Z"
   },
   {
    "duration": 604,
    "start_time": "2022-08-25T23:11:01.448Z"
   },
   {
    "duration": 769,
    "start_time": "2022-08-25T23:11:36.669Z"
   },
   {
    "duration": 605,
    "start_time": "2022-08-25T23:11:52.838Z"
   },
   {
    "duration": 132,
    "start_time": "2022-08-25T23:15:15.639Z"
   },
   {
    "duration": 25,
    "start_time": "2022-08-25T23:15:17.828Z"
   },
   {
    "duration": 1196,
    "start_time": "2022-08-25T23:17:10.968Z"
   },
   {
    "duration": 725,
    "start_time": "2022-08-25T23:21:53.308Z"
   },
   {
    "duration": 516,
    "start_time": "2022-08-25T23:22:06.828Z"
   },
   {
    "duration": 640,
    "start_time": "2022-08-25T23:24:07.418Z"
   },
   {
    "duration": 30,
    "start_time": "2022-08-25T23:24:13.228Z"
   },
   {
    "duration": 40,
    "start_time": "2022-08-25T23:24:38.918Z"
   },
   {
    "duration": 35,
    "start_time": "2022-08-25T23:24:48.829Z"
   },
   {
    "duration": 27001,
    "start_time": "2022-08-25T23:25:26.097Z"
   },
   {
    "duration": 10768,
    "start_time": "2022-08-25T23:27:57.077Z"
   },
   {
    "duration": 3,
    "start_time": "2022-08-25T23:29:35.778Z"
   },
   {
    "duration": 3,
    "start_time": "2022-08-25T23:29:43.428Z"
   },
   {
    "duration": 2,
    "start_time": "2022-08-25T23:30:06.989Z"
   },
   {
    "duration": 10,
    "start_time": "2022-08-25T23:30:22.208Z"
   },
   {
    "duration": 8,
    "start_time": "2022-08-25T23:31:03.610Z"
   },
   {
    "duration": 9,
    "start_time": "2022-08-25T23:32:19.177Z"
   },
   {
    "duration": 3,
    "start_time": "2022-08-25T23:34:32.459Z"
   },
   {
    "duration": 10897,
    "start_time": "2022-08-25T23:34:56.588Z"
   },
   {
    "duration": 133,
    "start_time": "2022-08-25T23:36:35.103Z"
   },
   {
    "duration": 750005,
    "start_time": "2022-08-25T23:37:13.930Z"
   },
   {
    "duration": 993,
    "start_time": "2022-08-25T23:49:43.937Z"
   },
   {
    "duration": 128633,
    "start_time": "2022-08-25T23:49:44.932Z"
   },
   {
    "duration": 30153,
    "start_time": "2022-08-25T23:51:53.567Z"
   },
   {
    "duration": 542,
    "start_time": "2022-08-25T23:52:52.544Z"
   },
   {
    "duration": 237725,
    "start_time": "2022-08-25T23:54:32.087Z"
   },
   {
    "duration": 1466,
    "start_time": "2022-08-26T12:11:53.372Z"
   },
   {
    "duration": 2696,
    "start_time": "2022-08-26T12:11:54.840Z"
   },
   {
    "duration": 29,
    "start_time": "2022-08-26T12:11:57.538Z"
   },
   {
    "duration": 150,
    "start_time": "2022-08-26T12:11:57.569Z"
   },
   {
    "duration": 52,
    "start_time": "2022-08-26T12:11:57.721Z"
   },
   {
    "duration": 134,
    "start_time": "2022-08-26T12:11:57.775Z"
   },
   {
    "duration": 49989,
    "start_time": "2022-08-26T12:11:57.911Z"
   },
   {
    "duration": 115,
    "start_time": "2022-08-26T12:12:47.902Z"
   },
   {
    "duration": 29,
    "start_time": "2022-08-26T12:12:48.019Z"
   },
   {
    "duration": 1124,
    "start_time": "2022-08-26T12:12:48.050Z"
   },
   {
    "duration": 210,
    "start_time": "2022-08-26T12:12:49.176Z"
   },
   {
    "duration": 45,
    "start_time": "2022-08-26T12:12:49.388Z"
   },
   {
    "duration": 244,
    "start_time": "2022-08-26T12:12:49.435Z"
   },
   {
    "duration": 227,
    "start_time": "2022-08-26T12:12:49.681Z"
   },
   {
    "duration": 20,
    "start_time": "2022-08-26T12:12:49.910Z"
   },
   {
    "duration": 24,
    "start_time": "2022-08-26T12:12:49.931Z"
   },
   {
    "duration": 1068,
    "start_time": "2022-08-26T12:12:49.956Z"
   },
   {
    "duration": 811,
    "start_time": "2022-08-26T12:12:51.026Z"
   },
   {
    "duration": 58,
    "start_time": "2022-08-26T12:12:51.839Z"
   },
   {
    "duration": 34,
    "start_time": "2022-08-26T12:12:51.899Z"
   },
   {
    "duration": 4,
    "start_time": "2022-08-26T12:12:51.935Z"
   },
   {
    "duration": 27056,
    "start_time": "2022-08-26T12:12:51.941Z"
   },
   {
    "duration": 901651,
    "start_time": "2022-08-26T12:13:18.999Z"
   },
   {
    "duration": 14351,
    "start_time": "2022-08-26T12:28:20.651Z"
   },
   {
    "duration": 7982037,
    "start_time": "2022-08-26T12:28:35.004Z"
   },
   {
    "duration": 70,
    "start_time": "2022-08-26T14:42:23.536Z"
   },
   {
    "duration": 48,
    "start_time": "2022-08-26T14:42:43.916Z"
   },
   {
    "duration": 111834,
    "start_time": "2022-08-26T14:43:17.926Z"
   },
   {
    "duration": 5,
    "start_time": "2022-08-26T14:45:09.762Z"
   },
   {
    "duration": 4,
    "start_time": "2022-08-26T14:45:15.729Z"
   },
   {
    "duration": 3,
    "start_time": "2022-08-26T14:45:20.909Z"
   },
   {
    "duration": 4,
    "start_time": "2022-08-26T14:45:24.667Z"
   },
   {
    "duration": 4,
    "start_time": "2022-08-26T14:45:28.604Z"
   },
   {
    "duration": 20,
    "start_time": "2022-08-26T14:47:14.429Z"
   },
   {
    "duration": 13,
    "start_time": "2022-08-26T14:47:36.508Z"
   },
   {
    "duration": 5,
    "start_time": "2022-08-26T14:48:16.076Z"
   },
   {
    "duration": 5,
    "start_time": "2022-08-26T14:48:35.949Z"
   },
   {
    "duration": 4,
    "start_time": "2022-08-26T14:48:40.776Z"
   },
   {
    "duration": 6,
    "start_time": "2022-08-26T14:48:43.126Z"
   },
   {
    "duration": 4,
    "start_time": "2022-08-26T14:49:12.166Z"
   },
   {
    "duration": 3,
    "start_time": "2022-08-26T14:51:33.148Z"
   },
   {
    "duration": 119,
    "start_time": "2022-08-26T14:51:54.287Z"
   },
   {
    "duration": 104,
    "start_time": "2022-08-26T14:53:02.467Z"
   },
   {
    "duration": 95,
    "start_time": "2022-08-26T14:53:26.176Z"
   },
   {
    "duration": 4,
    "start_time": "2022-08-26T14:54:02.218Z"
   },
   {
    "duration": 1457,
    "start_time": "2022-08-26T15:55:31.229Z"
   },
   {
    "duration": 714,
    "start_time": "2022-08-26T15:55:32.688Z"
   },
   {
    "duration": 30,
    "start_time": "2022-08-26T15:55:33.404Z"
   },
   {
    "duration": 155,
    "start_time": "2022-08-26T15:55:33.436Z"
   },
   {
    "duration": 55,
    "start_time": "2022-08-26T15:55:33.594Z"
   },
   {
    "duration": 147,
    "start_time": "2022-08-26T15:55:33.651Z"
   },
   {
    "duration": 49655,
    "start_time": "2022-08-26T15:55:33.800Z"
   },
   {
    "duration": 101,
    "start_time": "2022-08-26T15:56:23.457Z"
   },
   {
    "duration": 36,
    "start_time": "2022-08-26T15:56:23.559Z"
   },
   {
    "duration": 1156,
    "start_time": "2022-08-26T15:56:23.597Z"
   },
   {
    "duration": 200,
    "start_time": "2022-08-26T15:56:24.755Z"
   },
   {
    "duration": 52,
    "start_time": "2022-08-26T15:56:24.956Z"
   },
   {
    "duration": 246,
    "start_time": "2022-08-26T15:56:25.010Z"
   },
   {
    "duration": 238,
    "start_time": "2022-08-26T15:56:25.260Z"
   },
   {
    "duration": 22,
    "start_time": "2022-08-26T15:56:25.500Z"
   },
   {
    "duration": 20,
    "start_time": "2022-08-26T15:56:25.525Z"
   },
   {
    "duration": 1143,
    "start_time": "2022-08-26T15:56:25.548Z"
   },
   {
    "duration": 802,
    "start_time": "2022-08-26T15:56:26.693Z"
   },
   {
    "duration": 47,
    "start_time": "2022-08-26T15:56:27.496Z"
   },
   {
    "duration": 52,
    "start_time": "2022-08-26T15:56:27.544Z"
   },
   {
    "duration": 4,
    "start_time": "2022-08-26T15:56:27.598Z"
   },
   {
    "duration": 25989,
    "start_time": "2022-08-26T15:56:27.604Z"
   },
   {
    "duration": 208,
    "start_time": "2022-08-26T15:56:53.597Z"
   },
   {
    "duration": 879345,
    "start_time": "2022-08-26T15:56:53.807Z"
   },
   {
    "duration": 16707,
    "start_time": "2022-08-26T16:11:33.153Z"
   },
   {
    "duration": 13263,
    "start_time": "2022-08-26T16:11:49.862Z"
   },
   {
    "duration": 652,
    "start_time": "2022-08-26T16:12:03.127Z"
   },
   {
    "duration": 7670666,
    "start_time": "2022-08-26T16:12:03.781Z"
   },
   {
    "duration": 738000,
    "start_time": "2022-08-26T18:19:54.449Z"
   },
   {
    "duration": 399,
    "start_time": "2022-08-26T18:32:14.968Z"
   },
   {
    "duration": 130,
    "start_time": "2022-08-26T19:44:09.217Z"
   },
   {
    "duration": 1609,
    "start_time": "2022-08-26T19:44:40.557Z"
   },
   {
    "duration": 2821,
    "start_time": "2022-08-26T19:44:42.168Z"
   },
   {
    "duration": 29,
    "start_time": "2022-08-26T19:44:44.991Z"
   },
   {
    "duration": 151,
    "start_time": "2022-08-26T19:44:45.022Z"
   },
   {
    "duration": 65,
    "start_time": "2022-08-26T19:44:45.176Z"
   },
   {
    "duration": 157,
    "start_time": "2022-08-26T19:44:45.243Z"
   },
   {
    "duration": 52310,
    "start_time": "2022-08-26T19:44:45.401Z"
   },
   {
    "duration": 117,
    "start_time": "2022-08-26T19:45:37.713Z"
   },
   {
    "duration": 41,
    "start_time": "2022-08-26T19:45:37.832Z"
   },
   {
    "duration": 1320,
    "start_time": "2022-08-26T19:45:37.876Z"
   },
   {
    "duration": 220,
    "start_time": "2022-08-26T19:45:39.198Z"
   },
   {
    "duration": 71,
    "start_time": "2022-08-26T19:45:39.421Z"
   },
   {
    "duration": 247,
    "start_time": "2022-08-26T19:45:39.494Z"
   },
   {
    "duration": 246,
    "start_time": "2022-08-26T19:45:39.744Z"
   },
   {
    "duration": 23,
    "start_time": "2022-08-26T19:45:39.992Z"
   },
   {
    "duration": 34,
    "start_time": "2022-08-26T19:45:40.018Z"
   },
   {
    "duration": 1240,
    "start_time": "2022-08-26T19:45:40.054Z"
   },
   {
    "duration": 889,
    "start_time": "2022-08-26T19:45:41.296Z"
   },
   {
    "duration": 45,
    "start_time": "2022-08-26T19:45:42.187Z"
   },
   {
    "duration": 29,
    "start_time": "2022-08-26T19:45:42.234Z"
   },
   {
    "duration": 29,
    "start_time": "2022-08-26T19:45:42.264Z"
   },
   {
    "duration": 34905,
    "start_time": "2022-08-26T19:45:42.295Z"
   },
   {
    "duration": 390,
    "start_time": "2022-08-26T19:46:17.203Z"
   },
   {
    "duration": 936853,
    "start_time": "2022-08-26T19:46:17.596Z"
   },
   {
    "duration": 17841,
    "start_time": "2022-08-26T20:01:54.450Z"
   },
   {
    "duration": 13967,
    "start_time": "2022-08-26T20:02:12.293Z"
   },
   {
    "duration": 634,
    "start_time": "2022-08-26T20:02:26.261Z"
   },
   {
    "duration": 1494,
    "start_time": "2022-08-26T20:06:47.276Z"
   },
   {
    "duration": 649627,
    "start_time": "2022-08-26T20:07:01.806Z"
   },
   {
    "duration": 4,
    "start_time": "2022-08-26T20:37:12.484Z"
   },
   {
    "duration": 4,
    "start_time": "2022-08-26T20:37:24.054Z"
   },
   {
    "duration": 134,
    "start_time": "2022-08-26T20:37:27.357Z"
   },
   {
    "duration": 4,
    "start_time": "2022-08-26T20:37:31.484Z"
   },
   {
    "duration": 296,
    "start_time": "2022-08-26T20:37:35.095Z"
   },
   {
    "duration": 4,
    "start_time": "2022-08-26T20:37:55.224Z"
   },
   {
    "duration": 14,
    "start_time": "2022-08-26T20:37:57.685Z"
   },
   {
    "duration": 4,
    "start_time": "2022-08-26T20:38:04.105Z"
   },
   {
    "duration": 4,
    "start_time": "2022-08-26T20:38:11.605Z"
   },
   {
    "duration": 163,
    "start_time": "2022-08-26T20:38:14.695Z"
   },
   {
    "duration": 106551,
    "start_time": "2022-08-26T20:46:15.605Z"
   },
   {
    "duration": 86,
    "start_time": "2022-08-26T20:50:17.545Z"
   },
   {
    "duration": 578,
    "start_time": "2022-08-26T20:50:39.334Z"
   },
   {
    "duration": 90,
    "start_time": "2022-08-26T20:52:28.034Z"
   },
   {
    "duration": 714,
    "start_time": "2022-08-26T20:52:46.074Z"
   },
   {
    "duration": 102,
    "start_time": "2022-08-26T20:55:46.512Z"
   },
   {
    "duration": 96,
    "start_time": "2022-08-26T20:56:30.675Z"
   },
   {
    "duration": 734,
    "start_time": "2022-08-26T20:56:47.654Z"
   },
   {
    "duration": 37227,
    "start_time": "2022-08-26T20:57:45.084Z"
   },
   {
    "duration": 216,
    "start_time": "2022-08-26T21:00:01.754Z"
   },
   {
    "duration": 5630,
    "start_time": "2022-08-26T21:00:17.575Z"
   },
   {
    "duration": 4,
    "start_time": "2022-08-26T21:00:32.466Z"
   },
   {
    "duration": 121,
    "start_time": "2022-08-26T21:00:35.296Z"
   },
   {
    "duration": 669,
    "start_time": "2022-08-26T21:00:44.035Z"
   },
   {
    "duration": 1293741,
    "start_time": "2022-08-26T21:04:51.124Z"
   },
   {
    "duration": 1404,
    "start_time": "2022-08-27T07:51:11.920Z"
   },
   {
    "duration": 1051,
    "start_time": "2022-08-27T07:51:13.327Z"
   },
   {
    "duration": 28,
    "start_time": "2022-08-27T07:51:14.380Z"
   },
   {
    "duration": 153,
    "start_time": "2022-08-27T07:51:14.410Z"
   },
   {
    "duration": 64,
    "start_time": "2022-08-27T07:51:14.566Z"
   },
   {
    "duration": 139,
    "start_time": "2022-08-27T07:51:14.631Z"
   },
   {
    "duration": 48127,
    "start_time": "2022-08-27T07:51:14.771Z"
   },
   {
    "duration": 115,
    "start_time": "2022-08-27T07:52:02.899Z"
   },
   {
    "duration": 22,
    "start_time": "2022-08-27T07:52:03.016Z"
   },
   {
    "duration": 1120,
    "start_time": "2022-08-27T07:52:03.040Z"
   },
   {
    "duration": 194,
    "start_time": "2022-08-27T07:52:04.161Z"
   },
   {
    "duration": 48,
    "start_time": "2022-08-27T07:52:04.357Z"
   },
   {
    "duration": 221,
    "start_time": "2022-08-27T07:52:04.406Z"
   },
   {
    "duration": 239,
    "start_time": "2022-08-27T07:52:04.631Z"
   },
   {
    "duration": 29,
    "start_time": "2022-08-27T07:52:04.871Z"
   },
   {
    "duration": 23,
    "start_time": "2022-08-27T07:52:04.901Z"
   },
   {
    "duration": 983,
    "start_time": "2022-08-27T07:52:04.926Z"
   },
   {
    "duration": 805,
    "start_time": "2022-08-27T07:52:05.911Z"
   },
   {
    "duration": 44,
    "start_time": "2022-08-27T07:52:06.719Z"
   },
   {
    "duration": 40,
    "start_time": "2022-08-27T07:52:06.765Z"
   },
   {
    "duration": 3,
    "start_time": "2022-08-27T07:52:06.807Z"
   },
   {
    "duration": 29279,
    "start_time": "2022-08-27T07:52:06.811Z"
   },
   {
    "duration": 210,
    "start_time": "2022-08-27T07:52:36.092Z"
   },
   {
    "duration": 764460,
    "start_time": "2022-08-27T07:52:36.304Z"
   },
   {
    "duration": 14471,
    "start_time": "2022-08-27T08:05:20.766Z"
   },
   {
    "duration": 12167,
    "start_time": "2022-08-27T08:05:35.239Z"
   },
   {
    "duration": 643,
    "start_time": "2022-08-27T08:05:47.408Z"
   },
   {
    "duration": 148227,
    "start_time": "2022-08-27T08:06:53.366Z"
   },
   {
    "duration": 6001,
    "start_time": "2022-08-27T08:09:21.596Z"
   },
   {
    "duration": 1298900,
    "start_time": "2022-08-27T08:09:27.599Z"
   },
   {
    "duration": 187961,
    "start_time": "2022-08-27T08:31:06.501Z"
   },
   {
    "duration": 3,
    "start_time": "2022-08-27T08:47:03.796Z"
   },
   {
    "duration": 122,
    "start_time": "2022-08-27T08:47:07.066Z"
   },
   {
    "duration": 4,
    "start_time": "2022-08-27T08:47:10.366Z"
   },
   {
    "duration": 263,
    "start_time": "2022-08-27T08:47:13.265Z"
   },
   {
    "duration": 4,
    "start_time": "2022-08-27T08:47:19.146Z"
   },
   {
    "duration": 13,
    "start_time": "2022-08-27T08:47:22.415Z"
   },
   {
    "duration": 5,
    "start_time": "2022-08-27T08:47:28.055Z"
   },
   {
    "duration": 660,
    "start_time": "2022-08-27T08:47:30.827Z"
   },
   {
    "duration": 5,
    "start_time": "2022-08-27T08:47:36.405Z"
   },
   {
    "duration": 573,
    "start_time": "2022-08-27T08:47:38.715Z"
   },
   {
    "duration": 1373,
    "start_time": "2022-08-27T09:51:55.700Z"
   },
   {
    "duration": 918,
    "start_time": "2022-08-27T09:51:57.075Z"
   },
   {
    "duration": 33,
    "start_time": "2022-08-27T09:51:57.994Z"
   },
   {
    "duration": 130,
    "start_time": "2022-08-27T09:51:58.029Z"
   },
   {
    "duration": 64,
    "start_time": "2022-08-27T09:51:58.162Z"
   },
   {
    "duration": 120,
    "start_time": "2022-08-27T09:51:58.227Z"
   },
   {
    "duration": 45775,
    "start_time": "2022-08-27T09:51:58.349Z"
   },
   {
    "duration": 98,
    "start_time": "2022-08-27T09:52:44.125Z"
   },
   {
    "duration": 22,
    "start_time": "2022-08-27T09:52:44.224Z"
   },
   {
    "duration": 1137,
    "start_time": "2022-08-27T09:52:44.248Z"
   },
   {
    "duration": 187,
    "start_time": "2022-08-27T09:52:45.386Z"
   },
   {
    "duration": 48,
    "start_time": "2022-08-27T09:52:45.574Z"
   },
   {
    "duration": 220,
    "start_time": "2022-08-27T09:52:45.625Z"
   },
   {
    "duration": 228,
    "start_time": "2022-08-27T09:52:45.848Z"
   },
   {
    "duration": 28,
    "start_time": "2022-08-27T09:52:46.078Z"
   },
   {
    "duration": 18,
    "start_time": "2022-08-27T09:52:46.108Z"
   },
   {
    "duration": 936,
    "start_time": "2022-08-27T09:52:46.128Z"
   },
   {
    "duration": 750,
    "start_time": "2022-08-27T09:52:47.066Z"
   },
   {
    "duration": 41,
    "start_time": "2022-08-27T09:52:47.817Z"
   },
   {
    "duration": 39,
    "start_time": "2022-08-27T09:52:47.860Z"
   },
   {
    "duration": 3,
    "start_time": "2022-08-27T09:52:47.900Z"
   },
   {
    "duration": 34487,
    "start_time": "2022-08-27T09:52:47.905Z"
   },
   {
    "duration": 293,
    "start_time": "2022-08-27T09:53:22.395Z"
   },
   {
    "duration": 750652,
    "start_time": "2022-08-27T09:53:22.690Z"
   },
   {
    "duration": 15332,
    "start_time": "2022-08-27T10:05:53.344Z"
   },
   {
    "duration": 11823,
    "start_time": "2022-08-27T10:06:08.678Z"
   },
   {
    "duration": 534,
    "start_time": "2022-08-27T10:06:20.503Z"
   },
   {
    "duration": 52813,
    "start_time": "2022-08-27T10:06:21.038Z"
   },
   {
    "duration": 14945,
    "start_time": "2022-08-27T10:07:13.853Z"
   },
   {
    "duration": 955488,
    "start_time": "2022-08-27T10:07:28.799Z"
   },
   {
    "duration": 5209,
    "start_time": "2022-08-27T10:23:24.289Z"
   },
   {
    "duration": 582212,
    "start_time": "2022-08-27T10:23:29.500Z"
   },
   {
    "duration": 97471,
    "start_time": "2022-08-27T10:33:11.787Z"
   },
   {
    "duration": 4,
    "start_time": "2022-08-27T10:34:49.259Z"
   },
   {
    "duration": 126,
    "start_time": "2022-08-27T10:34:49.264Z"
   },
   {
    "duration": 95,
    "start_time": "2022-08-27T10:34:49.392Z"
   },
   {
    "duration": 257,
    "start_time": "2022-08-27T10:34:49.489Z"
   },
   {
    "duration": 4,
    "start_time": "2022-08-27T10:34:49.747Z"
   },
   {
    "duration": 15,
    "start_time": "2022-08-27T10:34:49.753Z"
   },
   {
    "duration": 18,
    "start_time": "2022-08-27T10:34:49.770Z"
   },
   {
    "duration": 121,
    "start_time": "2022-08-27T10:34:49.791Z"
   },
   {
    "duration": 4,
    "start_time": "2022-08-27T10:34:49.914Z"
   },
   {
    "duration": 667,
    "start_time": "2022-08-27T10:34:49.920Z"
   },
   {
    "duration": 4,
    "start_time": "2022-08-27T10:34:50.589Z"
   },
   {
    "duration": 506,
    "start_time": "2022-08-27T10:34:50.595Z"
   },
   {
    "duration": 4,
    "start_time": "2022-08-27T10:49:43.032Z"
   }
  ],
  "kernelspec": {
   "display_name": "Python 3 (ipykernel)",
   "language": "python",
   "name": "python3"
  },
  "language_info": {
   "codemirror_mode": {
    "name": "ipython",
    "version": 3
   },
   "file_extension": ".py",
   "mimetype": "text/x-python",
   "name": "python",
   "nbconvert_exporter": "python",
   "pygments_lexer": "ipython3",
   "version": "3.9.5"
  },
  "toc": {
   "base_numbering": 1,
   "nav_menu": {},
   "number_sections": true,
   "sideBar": true,
   "skip_h1_title": true,
   "title_cell": "Table of Contents",
   "title_sidebar": "Contents",
   "toc_cell": false,
   "toc_position": {},
   "toc_section_display": true,
   "toc_window_display": true
  }
 },
 "nbformat": 4,
 "nbformat_minor": 2
}
