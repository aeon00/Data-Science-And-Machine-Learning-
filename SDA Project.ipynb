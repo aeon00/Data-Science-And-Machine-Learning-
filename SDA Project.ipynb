{
 "cells": [
  {
   "cell_type": "markdown",
   "metadata": {},
   "source": [
    "<div style=\"border:solid green 2px; padding: 20px\"> <h1 style=\"color:green; margin-bottom:20px\">Reviewer's comment v1</h1>\n",
    "\n",
    "Hello Harvey, my name is Dmitrii Pyshnenko. Happy to review your project! 🙌\n",
    "\n",
    "As usual you can find my comments under the heading **«Review»**. I will categorize my comments in green, blue or red boxes like this:\n",
    "\n",
    "<div class=\"alert alert-success\">\n",
    "    <b>Success:</b> if everything is done successfully\n",
    "</div>\n",
    "<div class=\"alert alert-warning\">\n",
    "    <b>Remarks:</b> if I can give some recommendations or ways to improve the project\n",
    "</div>\n",
    "<div class=\"alert alert-danger\">\n",
    "    <b>Needs fixing:</b> if the block requires some corrections. Work can't be accepted with the red comments\n",
    "</div>\n",
    "\n",
    "Please don't remove my comments :) If you have any questions don't hesitate to respond to my comments in a different section. \n",
    "\n"
   ]
  },
  {
   "cell_type": "markdown",
   "metadata": {},
   "source": [
    "<div style=\"border:solid green 2px; padding: 20px\">\n",
    "<b>Reviewer's comment v1</b>\n",
    "    \n",
    "<b>Overall Feedback</b> \n",
    "    \n",
    "Overall well done! I can see that a lot of effort has been made! Your project already looks really good, and you accomplished impressive results.\n",
    "\n",
    "However, there are some comments/areas left to fix that will help you to make your project even better:\n",
    "\n",
    "- Add data rounding for web traffic. \n",
    "- Fix data joining (we need monthly data per user).\n",
    "- Update the initial method for filling missing data. \n",
    "    \n",
    "And of course, if you have any questions along the way, remember that you can always reach out to your tutor for any clarification.\n",
    "</div>"
   ]
  },
  {
   "cell_type": "markdown",
   "metadata": {},
   "source": [
    "<div style=\"border:solid green 2px; padding: 20px\">\n",
    "<b>Reviewer's comment v2:</b>\n",
    "    \n",
    "<b>Overall Feedback</b> \n",
    "    \n",
    "Hi Harvey. Thank you for submitting your project with all corrections! \n",
    "- Now everything is perfect. No critial issues left, so your project has been accepted! \n",
    "- Wish you cool projects in the next sprints! ☘️\n",
    "    \n",
    "PS: As a last thing, I can recommend cool lectures on stat analysis here: https://www.youtube.com/playlist?list=PL2SOU6wwxB0uwwH80KTQ6ht66KWxbzTIo  🙌\n",
    "\n",
    "</div>"
   ]
  },
  {
   "cell_type": "markdown",
   "metadata": {},
   "source": [
    "# Which one is a better plan?\n",
    "\n",
    "You work as an analyst for the telecom operator Megaline. The company offers its clients two prepaid plans, Surf and Ultimate. The commercial department wants to know which of the plans brings in more revenue in order to adjust the advertising budget.\n",
    "\n",
    "You are going to carry out a preliminary analysis of the plans based on a relatively small client selection. You'll have the data on 500 Megaline clients: who the clients are, where they're from, which plan they use, and the number of calls they made and text messages they sent in 2018. Your job is to analyze the clients' behavior and determine which prepaid plan brings in more revenue."
   ]
  },
  {
   "cell_type": "markdown",
   "metadata": {},
   "source": [
    "<div class=\"alert alert-block alert-success\">\n",
    "<b>Reviewer's comment v1</b>\n",
    " \n",
    "Great that you added additional information about the project goal and tasks."
   ]
  },
  {
   "cell_type": "markdown",
   "metadata": {},
   "source": [
    "## Initialization"
   ]
  },
  {
   "cell_type": "markdown",
   "metadata": {},
   "source": [
    "Let's begin by loading all necessary libraries for this project."
   ]
  },
  {
   "cell_type": "code",
   "execution_count": 1,
   "metadata": {},
   "outputs": [],
   "source": [
    "# Loading all the libraries\n",
    "import pandas as pd\n",
    "import numpy as np \n",
    "import random\n",
    "import matplotlib.pyplot as plt\n",
    "from scipy import stats as st\n",
    "import math"
   ]
  },
  {
   "cell_type": "markdown",
   "metadata": {},
   "source": [
    "## Load data"
   ]
  },
  {
   "cell_type": "markdown",
   "metadata": {},
   "source": [
    "Let's go ahead to load the data files into dataframes"
   ]
  },
  {
   "cell_type": "code",
   "execution_count": 2,
   "metadata": {},
   "outputs": [],
   "source": [
    "# Load the data files into different DataFrames\n",
    "df_calls = pd.read_csv('/datasets/megaline_calls.csv')\n",
    "df_internet = pd.read_csv('/datasets/megaline_internet.csv')\n",
    "df_messages = pd.read_csv('/datasets/megaline_messages.csv')\n",
    "df_plans = pd.read_csv('/datasets/megaline_plans.csv')\n",
    "df_users = pd.read_csv('/datasets/megaline_users.csv')"
   ]
  },
  {
   "cell_type": "markdown",
   "metadata": {},
   "source": [
    "## Prepare the data"
   ]
  },
  {
   "cell_type": "markdown",
   "metadata": {},
   "source": [
    "The data for this project is split into several tables. Let's explore each one to get an initial understanding of the data."
   ]
  },
  {
   "cell_type": "code",
   "execution_count": 3,
   "metadata": {
    "scrolled": true
   },
   "outputs": [
    {
     "data": {
      "text/html": [
       "<div>\n",
       "<style scoped>\n",
       "    .dataframe tbody tr th:only-of-type {\n",
       "        vertical-align: middle;\n",
       "    }\n",
       "\n",
       "    .dataframe tbody tr th {\n",
       "        vertical-align: top;\n",
       "    }\n",
       "\n",
       "    .dataframe thead th {\n",
       "        text-align: right;\n",
       "    }\n",
       "</style>\n",
       "<table border=\"1\" class=\"dataframe\">\n",
       "  <thead>\n",
       "    <tr style=\"text-align: right;\">\n",
       "      <th></th>\n",
       "      <th>id</th>\n",
       "      <th>user_id</th>\n",
       "      <th>call_date</th>\n",
       "      <th>duration</th>\n",
       "    </tr>\n",
       "  </thead>\n",
       "  <tbody>\n",
       "    <tr>\n",
       "      <th>0</th>\n",
       "      <td>1000_93</td>\n",
       "      <td>1000</td>\n",
       "      <td>2018-12-27</td>\n",
       "      <td>8.52</td>\n",
       "    </tr>\n",
       "    <tr>\n",
       "      <th>1</th>\n",
       "      <td>1000_145</td>\n",
       "      <td>1000</td>\n",
       "      <td>2018-12-27</td>\n",
       "      <td>13.66</td>\n",
       "    </tr>\n",
       "    <tr>\n",
       "      <th>2</th>\n",
       "      <td>1000_247</td>\n",
       "      <td>1000</td>\n",
       "      <td>2018-12-27</td>\n",
       "      <td>14.48</td>\n",
       "    </tr>\n",
       "    <tr>\n",
       "      <th>3</th>\n",
       "      <td>1000_309</td>\n",
       "      <td>1000</td>\n",
       "      <td>2018-12-28</td>\n",
       "      <td>5.76</td>\n",
       "    </tr>\n",
       "    <tr>\n",
       "      <th>4</th>\n",
       "      <td>1000_380</td>\n",
       "      <td>1000</td>\n",
       "      <td>2018-12-30</td>\n",
       "      <td>4.22</td>\n",
       "    </tr>\n",
       "    <tr>\n",
       "      <th>5</th>\n",
       "      <td>1000_388</td>\n",
       "      <td>1000</td>\n",
       "      <td>2018-12-31</td>\n",
       "      <td>2.20</td>\n",
       "    </tr>\n",
       "    <tr>\n",
       "      <th>6</th>\n",
       "      <td>1000_510</td>\n",
       "      <td>1000</td>\n",
       "      <td>2018-12-27</td>\n",
       "      <td>5.75</td>\n",
       "    </tr>\n",
       "    <tr>\n",
       "      <th>7</th>\n",
       "      <td>1000_521</td>\n",
       "      <td>1000</td>\n",
       "      <td>2018-12-28</td>\n",
       "      <td>14.18</td>\n",
       "    </tr>\n",
       "    <tr>\n",
       "      <th>8</th>\n",
       "      <td>1000_530</td>\n",
       "      <td>1000</td>\n",
       "      <td>2018-12-28</td>\n",
       "      <td>5.77</td>\n",
       "    </tr>\n",
       "    <tr>\n",
       "      <th>9</th>\n",
       "      <td>1000_544</td>\n",
       "      <td>1000</td>\n",
       "      <td>2018-12-26</td>\n",
       "      <td>4.40</td>\n",
       "    </tr>\n",
       "  </tbody>\n",
       "</table>\n",
       "</div>"
      ],
      "text/plain": [
       "         id  user_id   call_date  duration\n",
       "0   1000_93     1000  2018-12-27      8.52\n",
       "1  1000_145     1000  2018-12-27     13.66\n",
       "2  1000_247     1000  2018-12-27     14.48\n",
       "3  1000_309     1000  2018-12-28      5.76\n",
       "4  1000_380     1000  2018-12-30      4.22\n",
       "5  1000_388     1000  2018-12-31      2.20\n",
       "6  1000_510     1000  2018-12-27      5.75\n",
       "7  1000_521     1000  2018-12-28     14.18\n",
       "8  1000_530     1000  2018-12-28      5.77\n",
       "9  1000_544     1000  2018-12-26      4.40"
      ]
     },
     "metadata": {},
     "output_type": "display_data"
    },
    {
     "name": "stdout",
     "output_type": "stream",
     "text": [
      "<class 'pandas.core.frame.DataFrame'>\n",
      "RangeIndex: 137735 entries, 0 to 137734\n",
      "Data columns (total 4 columns):\n",
      " #   Column     Non-Null Count   Dtype  \n",
      "---  ------     --------------   -----  \n",
      " 0   id         137735 non-null  object \n",
      " 1   user_id    137735 non-null  int64  \n",
      " 2   call_date  137735 non-null  object \n",
      " 3   duration   137735 non-null  float64\n",
      "dtypes: float64(1), int64(1), object(2)\n",
      "memory usage: 4.2+ MB\n",
      "None\n"
     ]
    },
    {
     "data": {
      "text/html": [
       "<div>\n",
       "<style scoped>\n",
       "    .dataframe tbody tr th:only-of-type {\n",
       "        vertical-align: middle;\n",
       "    }\n",
       "\n",
       "    .dataframe tbody tr th {\n",
       "        vertical-align: top;\n",
       "    }\n",
       "\n",
       "    .dataframe thead th {\n",
       "        text-align: right;\n",
       "    }\n",
       "</style>\n",
       "<table border=\"1\" class=\"dataframe\">\n",
       "  <thead>\n",
       "    <tr style=\"text-align: right;\">\n",
       "      <th></th>\n",
       "      <th>user_id</th>\n",
       "      <th>duration</th>\n",
       "    </tr>\n",
       "  </thead>\n",
       "  <tbody>\n",
       "    <tr>\n",
       "      <th>count</th>\n",
       "      <td>137735.000000</td>\n",
       "      <td>137735.000000</td>\n",
       "    </tr>\n",
       "    <tr>\n",
       "      <th>mean</th>\n",
       "      <td>1247.658046</td>\n",
       "      <td>6.745927</td>\n",
       "    </tr>\n",
       "    <tr>\n",
       "      <th>std</th>\n",
       "      <td>139.416268</td>\n",
       "      <td>5.839241</td>\n",
       "    </tr>\n",
       "    <tr>\n",
       "      <th>min</th>\n",
       "      <td>1000.000000</td>\n",
       "      <td>0.000000</td>\n",
       "    </tr>\n",
       "    <tr>\n",
       "      <th>25%</th>\n",
       "      <td>1128.000000</td>\n",
       "      <td>1.290000</td>\n",
       "    </tr>\n",
       "    <tr>\n",
       "      <th>50%</th>\n",
       "      <td>1247.000000</td>\n",
       "      <td>5.980000</td>\n",
       "    </tr>\n",
       "    <tr>\n",
       "      <th>75%</th>\n",
       "      <td>1365.000000</td>\n",
       "      <td>10.690000</td>\n",
       "    </tr>\n",
       "    <tr>\n",
       "      <th>max</th>\n",
       "      <td>1499.000000</td>\n",
       "      <td>37.600000</td>\n",
       "    </tr>\n",
       "  </tbody>\n",
       "</table>\n",
       "</div>"
      ],
      "text/plain": [
       "             user_id       duration\n",
       "count  137735.000000  137735.000000\n",
       "mean     1247.658046       6.745927\n",
       "std       139.416268       5.839241\n",
       "min      1000.000000       0.000000\n",
       "25%      1128.000000       1.290000\n",
       "50%      1247.000000       5.980000\n",
       "75%      1365.000000      10.690000\n",
       "max      1499.000000      37.600000"
      ]
     },
     "execution_count": 3,
     "metadata": {},
     "output_type": "execute_result"
    }
   ],
   "source": [
    "# Visualising calls data frame.\n",
    "display(df_calls.head(10))\n",
    "print(df_calls.info())\n",
    "df_calls.describe()"
   ]
  },
  {
   "cell_type": "code",
   "execution_count": 4,
   "metadata": {},
   "outputs": [
    {
     "data": {
      "text/html": [
       "<div>\n",
       "<style scoped>\n",
       "    .dataframe tbody tr th:only-of-type {\n",
       "        vertical-align: middle;\n",
       "    }\n",
       "\n",
       "    .dataframe tbody tr th {\n",
       "        vertical-align: top;\n",
       "    }\n",
       "\n",
       "    .dataframe thead th {\n",
       "        text-align: right;\n",
       "    }\n",
       "</style>\n",
       "<table border=\"1\" class=\"dataframe\">\n",
       "  <thead>\n",
       "    <tr style=\"text-align: right;\">\n",
       "      <th></th>\n",
       "      <th>id</th>\n",
       "      <th>user_id</th>\n",
       "      <th>session_date</th>\n",
       "      <th>mb_used</th>\n",
       "    </tr>\n",
       "  </thead>\n",
       "  <tbody>\n",
       "    <tr>\n",
       "      <th>0</th>\n",
       "      <td>1000_13</td>\n",
       "      <td>1000</td>\n",
       "      <td>2018-12-29</td>\n",
       "      <td>89.86</td>\n",
       "    </tr>\n",
       "    <tr>\n",
       "      <th>1</th>\n",
       "      <td>1000_204</td>\n",
       "      <td>1000</td>\n",
       "      <td>2018-12-31</td>\n",
       "      <td>0.00</td>\n",
       "    </tr>\n",
       "    <tr>\n",
       "      <th>2</th>\n",
       "      <td>1000_379</td>\n",
       "      <td>1000</td>\n",
       "      <td>2018-12-28</td>\n",
       "      <td>660.40</td>\n",
       "    </tr>\n",
       "    <tr>\n",
       "      <th>3</th>\n",
       "      <td>1000_413</td>\n",
       "      <td>1000</td>\n",
       "      <td>2018-12-26</td>\n",
       "      <td>270.99</td>\n",
       "    </tr>\n",
       "    <tr>\n",
       "      <th>4</th>\n",
       "      <td>1000_442</td>\n",
       "      <td>1000</td>\n",
       "      <td>2018-12-27</td>\n",
       "      <td>880.22</td>\n",
       "    </tr>\n",
       "    <tr>\n",
       "      <th>5</th>\n",
       "      <td>1001_0</td>\n",
       "      <td>1001</td>\n",
       "      <td>2018-08-24</td>\n",
       "      <td>284.68</td>\n",
       "    </tr>\n",
       "    <tr>\n",
       "      <th>6</th>\n",
       "      <td>1001_3</td>\n",
       "      <td>1001</td>\n",
       "      <td>2018-12-09</td>\n",
       "      <td>656.04</td>\n",
       "    </tr>\n",
       "    <tr>\n",
       "      <th>7</th>\n",
       "      <td>1001_4</td>\n",
       "      <td>1001</td>\n",
       "      <td>2018-11-04</td>\n",
       "      <td>16.97</td>\n",
       "    </tr>\n",
       "    <tr>\n",
       "      <th>8</th>\n",
       "      <td>1001_10</td>\n",
       "      <td>1001</td>\n",
       "      <td>2018-11-27</td>\n",
       "      <td>135.18</td>\n",
       "    </tr>\n",
       "    <tr>\n",
       "      <th>9</th>\n",
       "      <td>1001_15</td>\n",
       "      <td>1001</td>\n",
       "      <td>2018-12-13</td>\n",
       "      <td>761.92</td>\n",
       "    </tr>\n",
       "  </tbody>\n",
       "</table>\n",
       "</div>"
      ],
      "text/plain": [
       "         id  user_id session_date  mb_used\n",
       "0   1000_13     1000   2018-12-29    89.86\n",
       "1  1000_204     1000   2018-12-31     0.00\n",
       "2  1000_379     1000   2018-12-28   660.40\n",
       "3  1000_413     1000   2018-12-26   270.99\n",
       "4  1000_442     1000   2018-12-27   880.22\n",
       "5    1001_0     1001   2018-08-24   284.68\n",
       "6    1001_3     1001   2018-12-09   656.04\n",
       "7    1001_4     1001   2018-11-04    16.97\n",
       "8   1001_10     1001   2018-11-27   135.18\n",
       "9   1001_15     1001   2018-12-13   761.92"
      ]
     },
     "metadata": {},
     "output_type": "display_data"
    },
    {
     "name": "stdout",
     "output_type": "stream",
     "text": [
      "<class 'pandas.core.frame.DataFrame'>\n",
      "RangeIndex: 104825 entries, 0 to 104824\n",
      "Data columns (total 4 columns):\n",
      " #   Column        Non-Null Count   Dtype  \n",
      "---  ------        --------------   -----  \n",
      " 0   id            104825 non-null  object \n",
      " 1   user_id       104825 non-null  int64  \n",
      " 2   session_date  104825 non-null  object \n",
      " 3   mb_used       104825 non-null  float64\n",
      "dtypes: float64(1), int64(1), object(2)\n",
      "memory usage: 3.2+ MB\n",
      "None\n"
     ]
    },
    {
     "data": {
      "text/html": [
       "<div>\n",
       "<style scoped>\n",
       "    .dataframe tbody tr th:only-of-type {\n",
       "        vertical-align: middle;\n",
       "    }\n",
       "\n",
       "    .dataframe tbody tr th {\n",
       "        vertical-align: top;\n",
       "    }\n",
       "\n",
       "    .dataframe thead th {\n",
       "        text-align: right;\n",
       "    }\n",
       "</style>\n",
       "<table border=\"1\" class=\"dataframe\">\n",
       "  <thead>\n",
       "    <tr style=\"text-align: right;\">\n",
       "      <th></th>\n",
       "      <th>user_id</th>\n",
       "      <th>mb_used</th>\n",
       "    </tr>\n",
       "  </thead>\n",
       "  <tbody>\n",
       "    <tr>\n",
       "      <th>count</th>\n",
       "      <td>104825.000000</td>\n",
       "      <td>104825.000000</td>\n",
       "    </tr>\n",
       "    <tr>\n",
       "      <th>mean</th>\n",
       "      <td>1242.496361</td>\n",
       "      <td>366.713701</td>\n",
       "    </tr>\n",
       "    <tr>\n",
       "      <th>std</th>\n",
       "      <td>142.053913</td>\n",
       "      <td>277.170542</td>\n",
       "    </tr>\n",
       "    <tr>\n",
       "      <th>min</th>\n",
       "      <td>1000.000000</td>\n",
       "      <td>0.000000</td>\n",
       "    </tr>\n",
       "    <tr>\n",
       "      <th>25%</th>\n",
       "      <td>1122.000000</td>\n",
       "      <td>136.080000</td>\n",
       "    </tr>\n",
       "    <tr>\n",
       "      <th>50%</th>\n",
       "      <td>1236.000000</td>\n",
       "      <td>343.980000</td>\n",
       "    </tr>\n",
       "    <tr>\n",
       "      <th>75%</th>\n",
       "      <td>1367.000000</td>\n",
       "      <td>554.610000</td>\n",
       "    </tr>\n",
       "    <tr>\n",
       "      <th>max</th>\n",
       "      <td>1499.000000</td>\n",
       "      <td>1693.470000</td>\n",
       "    </tr>\n",
       "  </tbody>\n",
       "</table>\n",
       "</div>"
      ],
      "text/plain": [
       "             user_id        mb_used\n",
       "count  104825.000000  104825.000000\n",
       "mean     1242.496361     366.713701\n",
       "std       142.053913     277.170542\n",
       "min      1000.000000       0.000000\n",
       "25%      1122.000000     136.080000\n",
       "50%      1236.000000     343.980000\n",
       "75%      1367.000000     554.610000\n",
       "max      1499.000000    1693.470000"
      ]
     },
     "execution_count": 4,
     "metadata": {},
     "output_type": "execute_result"
    }
   ],
   "source": [
    "# Visualising internet data frame.\n",
    "display(df_internet.head(10))\n",
    "print(df_internet.info())\n",
    "df_internet.describe()"
   ]
  },
  {
   "cell_type": "code",
   "execution_count": 5,
   "metadata": {
    "scrolled": true
   },
   "outputs": [
    {
     "data": {
      "text/html": [
       "<div>\n",
       "<style scoped>\n",
       "    .dataframe tbody tr th:only-of-type {\n",
       "        vertical-align: middle;\n",
       "    }\n",
       "\n",
       "    .dataframe tbody tr th {\n",
       "        vertical-align: top;\n",
       "    }\n",
       "\n",
       "    .dataframe thead th {\n",
       "        text-align: right;\n",
       "    }\n",
       "</style>\n",
       "<table border=\"1\" class=\"dataframe\">\n",
       "  <thead>\n",
       "    <tr style=\"text-align: right;\">\n",
       "      <th></th>\n",
       "      <th>id</th>\n",
       "      <th>user_id</th>\n",
       "      <th>message_date</th>\n",
       "    </tr>\n",
       "  </thead>\n",
       "  <tbody>\n",
       "    <tr>\n",
       "      <th>0</th>\n",
       "      <td>1000_125</td>\n",
       "      <td>1000</td>\n",
       "      <td>2018-12-27</td>\n",
       "    </tr>\n",
       "    <tr>\n",
       "      <th>1</th>\n",
       "      <td>1000_160</td>\n",
       "      <td>1000</td>\n",
       "      <td>2018-12-31</td>\n",
       "    </tr>\n",
       "    <tr>\n",
       "      <th>2</th>\n",
       "      <td>1000_223</td>\n",
       "      <td>1000</td>\n",
       "      <td>2018-12-31</td>\n",
       "    </tr>\n",
       "    <tr>\n",
       "      <th>3</th>\n",
       "      <td>1000_251</td>\n",
       "      <td>1000</td>\n",
       "      <td>2018-12-27</td>\n",
       "    </tr>\n",
       "    <tr>\n",
       "      <th>4</th>\n",
       "      <td>1000_255</td>\n",
       "      <td>1000</td>\n",
       "      <td>2018-12-26</td>\n",
       "    </tr>\n",
       "    <tr>\n",
       "      <th>5</th>\n",
       "      <td>1000_346</td>\n",
       "      <td>1000</td>\n",
       "      <td>2018-12-29</td>\n",
       "    </tr>\n",
       "    <tr>\n",
       "      <th>6</th>\n",
       "      <td>1000_386</td>\n",
       "      <td>1000</td>\n",
       "      <td>2018-12-30</td>\n",
       "    </tr>\n",
       "    <tr>\n",
       "      <th>7</th>\n",
       "      <td>1000_413</td>\n",
       "      <td>1000</td>\n",
       "      <td>2018-12-31</td>\n",
       "    </tr>\n",
       "    <tr>\n",
       "      <th>8</th>\n",
       "      <td>1000_502</td>\n",
       "      <td>1000</td>\n",
       "      <td>2018-12-27</td>\n",
       "    </tr>\n",
       "    <tr>\n",
       "      <th>9</th>\n",
       "      <td>1000_525</td>\n",
       "      <td>1000</td>\n",
       "      <td>2018-12-28</td>\n",
       "    </tr>\n",
       "  </tbody>\n",
       "</table>\n",
       "</div>"
      ],
      "text/plain": [
       "         id  user_id message_date\n",
       "0  1000_125     1000   2018-12-27\n",
       "1  1000_160     1000   2018-12-31\n",
       "2  1000_223     1000   2018-12-31\n",
       "3  1000_251     1000   2018-12-27\n",
       "4  1000_255     1000   2018-12-26\n",
       "5  1000_346     1000   2018-12-29\n",
       "6  1000_386     1000   2018-12-30\n",
       "7  1000_413     1000   2018-12-31\n",
       "8  1000_502     1000   2018-12-27\n",
       "9  1000_525     1000   2018-12-28"
      ]
     },
     "metadata": {},
     "output_type": "display_data"
    },
    {
     "name": "stdout",
     "output_type": "stream",
     "text": [
      "<class 'pandas.core.frame.DataFrame'>\n",
      "RangeIndex: 76051 entries, 0 to 76050\n",
      "Data columns (total 3 columns):\n",
      " #   Column        Non-Null Count  Dtype \n",
      "---  ------        --------------  ----- \n",
      " 0   id            76051 non-null  object\n",
      " 1   user_id       76051 non-null  int64 \n",
      " 2   message_date  76051 non-null  object\n",
      "dtypes: int64(1), object(2)\n",
      "memory usage: 1.7+ MB\n",
      "None\n"
     ]
    },
    {
     "data": {
      "text/html": [
       "<div>\n",
       "<style scoped>\n",
       "    .dataframe tbody tr th:only-of-type {\n",
       "        vertical-align: middle;\n",
       "    }\n",
       "\n",
       "    .dataframe tbody tr th {\n",
       "        vertical-align: top;\n",
       "    }\n",
       "\n",
       "    .dataframe thead th {\n",
       "        text-align: right;\n",
       "    }\n",
       "</style>\n",
       "<table border=\"1\" class=\"dataframe\">\n",
       "  <thead>\n",
       "    <tr style=\"text-align: right;\">\n",
       "      <th></th>\n",
       "      <th>user_id</th>\n",
       "    </tr>\n",
       "  </thead>\n",
       "  <tbody>\n",
       "    <tr>\n",
       "      <th>count</th>\n",
       "      <td>76051.000000</td>\n",
       "    </tr>\n",
       "    <tr>\n",
       "      <th>mean</th>\n",
       "      <td>1245.972768</td>\n",
       "    </tr>\n",
       "    <tr>\n",
       "      <th>std</th>\n",
       "      <td>139.843635</td>\n",
       "    </tr>\n",
       "    <tr>\n",
       "      <th>min</th>\n",
       "      <td>1000.000000</td>\n",
       "    </tr>\n",
       "    <tr>\n",
       "      <th>25%</th>\n",
       "      <td>1123.000000</td>\n",
       "    </tr>\n",
       "    <tr>\n",
       "      <th>50%</th>\n",
       "      <td>1251.000000</td>\n",
       "    </tr>\n",
       "    <tr>\n",
       "      <th>75%</th>\n",
       "      <td>1362.000000</td>\n",
       "    </tr>\n",
       "    <tr>\n",
       "      <th>max</th>\n",
       "      <td>1497.000000</td>\n",
       "    </tr>\n",
       "  </tbody>\n",
       "</table>\n",
       "</div>"
      ],
      "text/plain": [
       "            user_id\n",
       "count  76051.000000\n",
       "mean    1245.972768\n",
       "std      139.843635\n",
       "min     1000.000000\n",
       "25%     1123.000000\n",
       "50%     1251.000000\n",
       "75%     1362.000000\n",
       "max     1497.000000"
      ]
     },
     "execution_count": 5,
     "metadata": {},
     "output_type": "execute_result"
    }
   ],
   "source": [
    "# Visualising message data frame.\n",
    "display(df_messages.head(10))\n",
    "print(df_messages.info())\n",
    "df_messages.describe()"
   ]
  },
  {
   "cell_type": "code",
   "execution_count": 6,
   "metadata": {},
   "outputs": [
    {
     "data": {
      "text/html": [
       "<div>\n",
       "<style scoped>\n",
       "    .dataframe tbody tr th:only-of-type {\n",
       "        vertical-align: middle;\n",
       "    }\n",
       "\n",
       "    .dataframe tbody tr th {\n",
       "        vertical-align: top;\n",
       "    }\n",
       "\n",
       "    .dataframe thead th {\n",
       "        text-align: right;\n",
       "    }\n",
       "</style>\n",
       "<table border=\"1\" class=\"dataframe\">\n",
       "  <thead>\n",
       "    <tr style=\"text-align: right;\">\n",
       "      <th></th>\n",
       "      <th>messages_included</th>\n",
       "      <th>mb_per_month_included</th>\n",
       "      <th>minutes_included</th>\n",
       "      <th>usd_monthly_pay</th>\n",
       "      <th>usd_per_gb</th>\n",
       "      <th>usd_per_message</th>\n",
       "      <th>usd_per_minute</th>\n",
       "      <th>plan_name</th>\n",
       "    </tr>\n",
       "  </thead>\n",
       "  <tbody>\n",
       "    <tr>\n",
       "      <th>0</th>\n",
       "      <td>50</td>\n",
       "      <td>15360</td>\n",
       "      <td>500</td>\n",
       "      <td>20</td>\n",
       "      <td>10</td>\n",
       "      <td>0.03</td>\n",
       "      <td>0.03</td>\n",
       "      <td>surf</td>\n",
       "    </tr>\n",
       "    <tr>\n",
       "      <th>1</th>\n",
       "      <td>1000</td>\n",
       "      <td>30720</td>\n",
       "      <td>3000</td>\n",
       "      <td>70</td>\n",
       "      <td>7</td>\n",
       "      <td>0.01</td>\n",
       "      <td>0.01</td>\n",
       "      <td>ultimate</td>\n",
       "    </tr>\n",
       "  </tbody>\n",
       "</table>\n",
       "</div>"
      ],
      "text/plain": [
       "   messages_included  mb_per_month_included  minutes_included  \\\n",
       "0                 50                  15360               500   \n",
       "1               1000                  30720              3000   \n",
       "\n",
       "   usd_monthly_pay  usd_per_gb  usd_per_message  usd_per_minute plan_name  \n",
       "0               20          10             0.03            0.03      surf  \n",
       "1               70           7             0.01            0.01  ultimate  "
      ]
     },
     "metadata": {},
     "output_type": "display_data"
    },
    {
     "name": "stdout",
     "output_type": "stream",
     "text": [
      "<class 'pandas.core.frame.DataFrame'>\n",
      "RangeIndex: 2 entries, 0 to 1\n",
      "Data columns (total 8 columns):\n",
      " #   Column                 Non-Null Count  Dtype  \n",
      "---  ------                 --------------  -----  \n",
      " 0   messages_included      2 non-null      int64  \n",
      " 1   mb_per_month_included  2 non-null      int64  \n",
      " 2   minutes_included       2 non-null      int64  \n",
      " 3   usd_monthly_pay        2 non-null      int64  \n",
      " 4   usd_per_gb             2 non-null      int64  \n",
      " 5   usd_per_message        2 non-null      float64\n",
      " 6   usd_per_minute         2 non-null      float64\n",
      " 7   plan_name              2 non-null      object \n",
      "dtypes: float64(2), int64(5), object(1)\n",
      "memory usage: 256.0+ bytes\n",
      "None\n"
     ]
    },
    {
     "data": {
      "text/html": [
       "<div>\n",
       "<style scoped>\n",
       "    .dataframe tbody tr th:only-of-type {\n",
       "        vertical-align: middle;\n",
       "    }\n",
       "\n",
       "    .dataframe tbody tr th {\n",
       "        vertical-align: top;\n",
       "    }\n",
       "\n",
       "    .dataframe thead th {\n",
       "        text-align: right;\n",
       "    }\n",
       "</style>\n",
       "<table border=\"1\" class=\"dataframe\">\n",
       "  <thead>\n",
       "    <tr style=\"text-align: right;\">\n",
       "      <th></th>\n",
       "      <th>messages_included</th>\n",
       "      <th>mb_per_month_included</th>\n",
       "      <th>minutes_included</th>\n",
       "      <th>usd_monthly_pay</th>\n",
       "      <th>usd_per_gb</th>\n",
       "      <th>usd_per_message</th>\n",
       "      <th>usd_per_minute</th>\n",
       "    </tr>\n",
       "  </thead>\n",
       "  <tbody>\n",
       "    <tr>\n",
       "      <th>count</th>\n",
       "      <td>2.000000</td>\n",
       "      <td>2.000000</td>\n",
       "      <td>2.000000</td>\n",
       "      <td>2.000000</td>\n",
       "      <td>2.00000</td>\n",
       "      <td>2.000000</td>\n",
       "      <td>2.000000</td>\n",
       "    </tr>\n",
       "    <tr>\n",
       "      <th>mean</th>\n",
       "      <td>525.000000</td>\n",
       "      <td>23040.000000</td>\n",
       "      <td>1750.000000</td>\n",
       "      <td>45.000000</td>\n",
       "      <td>8.50000</td>\n",
       "      <td>0.020000</td>\n",
       "      <td>0.020000</td>\n",
       "    </tr>\n",
       "    <tr>\n",
       "      <th>std</th>\n",
       "      <td>671.751442</td>\n",
       "      <td>10861.160159</td>\n",
       "      <td>1767.766953</td>\n",
       "      <td>35.355339</td>\n",
       "      <td>2.12132</td>\n",
       "      <td>0.014142</td>\n",
       "      <td>0.014142</td>\n",
       "    </tr>\n",
       "    <tr>\n",
       "      <th>min</th>\n",
       "      <td>50.000000</td>\n",
       "      <td>15360.000000</td>\n",
       "      <td>500.000000</td>\n",
       "      <td>20.000000</td>\n",
       "      <td>7.00000</td>\n",
       "      <td>0.010000</td>\n",
       "      <td>0.010000</td>\n",
       "    </tr>\n",
       "    <tr>\n",
       "      <th>25%</th>\n",
       "      <td>287.500000</td>\n",
       "      <td>19200.000000</td>\n",
       "      <td>1125.000000</td>\n",
       "      <td>32.500000</td>\n",
       "      <td>7.75000</td>\n",
       "      <td>0.015000</td>\n",
       "      <td>0.015000</td>\n",
       "    </tr>\n",
       "    <tr>\n",
       "      <th>50%</th>\n",
       "      <td>525.000000</td>\n",
       "      <td>23040.000000</td>\n",
       "      <td>1750.000000</td>\n",
       "      <td>45.000000</td>\n",
       "      <td>8.50000</td>\n",
       "      <td>0.020000</td>\n",
       "      <td>0.020000</td>\n",
       "    </tr>\n",
       "    <tr>\n",
       "      <th>75%</th>\n",
       "      <td>762.500000</td>\n",
       "      <td>26880.000000</td>\n",
       "      <td>2375.000000</td>\n",
       "      <td>57.500000</td>\n",
       "      <td>9.25000</td>\n",
       "      <td>0.025000</td>\n",
       "      <td>0.025000</td>\n",
       "    </tr>\n",
       "    <tr>\n",
       "      <th>max</th>\n",
       "      <td>1000.000000</td>\n",
       "      <td>30720.000000</td>\n",
       "      <td>3000.000000</td>\n",
       "      <td>70.000000</td>\n",
       "      <td>10.00000</td>\n",
       "      <td>0.030000</td>\n",
       "      <td>0.030000</td>\n",
       "    </tr>\n",
       "  </tbody>\n",
       "</table>\n",
       "</div>"
      ],
      "text/plain": [
       "       messages_included  mb_per_month_included  minutes_included  \\\n",
       "count           2.000000               2.000000          2.000000   \n",
       "mean          525.000000           23040.000000       1750.000000   \n",
       "std           671.751442           10861.160159       1767.766953   \n",
       "min            50.000000           15360.000000        500.000000   \n",
       "25%           287.500000           19200.000000       1125.000000   \n",
       "50%           525.000000           23040.000000       1750.000000   \n",
       "75%           762.500000           26880.000000       2375.000000   \n",
       "max          1000.000000           30720.000000       3000.000000   \n",
       "\n",
       "       usd_monthly_pay  usd_per_gb  usd_per_message  usd_per_minute  \n",
       "count         2.000000     2.00000         2.000000        2.000000  \n",
       "mean         45.000000     8.50000         0.020000        0.020000  \n",
       "std          35.355339     2.12132         0.014142        0.014142  \n",
       "min          20.000000     7.00000         0.010000        0.010000  \n",
       "25%          32.500000     7.75000         0.015000        0.015000  \n",
       "50%          45.000000     8.50000         0.020000        0.020000  \n",
       "75%          57.500000     9.25000         0.025000        0.025000  \n",
       "max          70.000000    10.00000         0.030000        0.030000  "
      ]
     },
     "execution_count": 6,
     "metadata": {},
     "output_type": "execute_result"
    }
   ],
   "source": [
    "# Visualising plans data frame.\n",
    "display(df_plans.head(10))\n",
    "print(df_plans.info())\n",
    "df_plans.describe()"
   ]
  },
  {
   "cell_type": "code",
   "execution_count": 7,
   "metadata": {
    "scrolled": true
   },
   "outputs": [
    {
     "data": {
      "text/html": [
       "<div>\n",
       "<style scoped>\n",
       "    .dataframe tbody tr th:only-of-type {\n",
       "        vertical-align: middle;\n",
       "    }\n",
       "\n",
       "    .dataframe tbody tr th {\n",
       "        vertical-align: top;\n",
       "    }\n",
       "\n",
       "    .dataframe thead th {\n",
       "        text-align: right;\n",
       "    }\n",
       "</style>\n",
       "<table border=\"1\" class=\"dataframe\">\n",
       "  <thead>\n",
       "    <tr style=\"text-align: right;\">\n",
       "      <th></th>\n",
       "      <th>user_id</th>\n",
       "      <th>first_name</th>\n",
       "      <th>last_name</th>\n",
       "      <th>age</th>\n",
       "      <th>city</th>\n",
       "      <th>reg_date</th>\n",
       "      <th>plan</th>\n",
       "      <th>churn_date</th>\n",
       "    </tr>\n",
       "  </thead>\n",
       "  <tbody>\n",
       "    <tr>\n",
       "      <th>0</th>\n",
       "      <td>1000</td>\n",
       "      <td>Anamaria</td>\n",
       "      <td>Bauer</td>\n",
       "      <td>45</td>\n",
       "      <td>Atlanta-Sandy Springs-Roswell, GA MSA</td>\n",
       "      <td>2018-12-24</td>\n",
       "      <td>ultimate</td>\n",
       "      <td>NaN</td>\n",
       "    </tr>\n",
       "    <tr>\n",
       "      <th>1</th>\n",
       "      <td>1001</td>\n",
       "      <td>Mickey</td>\n",
       "      <td>Wilkerson</td>\n",
       "      <td>28</td>\n",
       "      <td>Seattle-Tacoma-Bellevue, WA MSA</td>\n",
       "      <td>2018-08-13</td>\n",
       "      <td>surf</td>\n",
       "      <td>NaN</td>\n",
       "    </tr>\n",
       "    <tr>\n",
       "      <th>2</th>\n",
       "      <td>1002</td>\n",
       "      <td>Carlee</td>\n",
       "      <td>Hoffman</td>\n",
       "      <td>36</td>\n",
       "      <td>Las Vegas-Henderson-Paradise, NV MSA</td>\n",
       "      <td>2018-10-21</td>\n",
       "      <td>surf</td>\n",
       "      <td>NaN</td>\n",
       "    </tr>\n",
       "    <tr>\n",
       "      <th>3</th>\n",
       "      <td>1003</td>\n",
       "      <td>Reynaldo</td>\n",
       "      <td>Jenkins</td>\n",
       "      <td>52</td>\n",
       "      <td>Tulsa, OK MSA</td>\n",
       "      <td>2018-01-28</td>\n",
       "      <td>surf</td>\n",
       "      <td>NaN</td>\n",
       "    </tr>\n",
       "    <tr>\n",
       "      <th>4</th>\n",
       "      <td>1004</td>\n",
       "      <td>Leonila</td>\n",
       "      <td>Thompson</td>\n",
       "      <td>40</td>\n",
       "      <td>Seattle-Tacoma-Bellevue, WA MSA</td>\n",
       "      <td>2018-05-23</td>\n",
       "      <td>surf</td>\n",
       "      <td>NaN</td>\n",
       "    </tr>\n",
       "    <tr>\n",
       "      <th>5</th>\n",
       "      <td>1005</td>\n",
       "      <td>Livia</td>\n",
       "      <td>Shields</td>\n",
       "      <td>31</td>\n",
       "      <td>Dallas-Fort Worth-Arlington, TX MSA</td>\n",
       "      <td>2018-11-29</td>\n",
       "      <td>surf</td>\n",
       "      <td>NaN</td>\n",
       "    </tr>\n",
       "    <tr>\n",
       "      <th>6</th>\n",
       "      <td>1006</td>\n",
       "      <td>Jesusa</td>\n",
       "      <td>Bradford</td>\n",
       "      <td>73</td>\n",
       "      <td>San Francisco-Oakland-Berkeley, CA MSA</td>\n",
       "      <td>2018-11-27</td>\n",
       "      <td>ultimate</td>\n",
       "      <td>2018-12-18</td>\n",
       "    </tr>\n",
       "    <tr>\n",
       "      <th>7</th>\n",
       "      <td>1007</td>\n",
       "      <td>Eusebio</td>\n",
       "      <td>Welch</td>\n",
       "      <td>42</td>\n",
       "      <td>Grand Rapids-Kentwood, MI MSA</td>\n",
       "      <td>2018-07-11</td>\n",
       "      <td>surf</td>\n",
       "      <td>NaN</td>\n",
       "    </tr>\n",
       "    <tr>\n",
       "      <th>8</th>\n",
       "      <td>1008</td>\n",
       "      <td>Emely</td>\n",
       "      <td>Hoffman</td>\n",
       "      <td>53</td>\n",
       "      <td>Orlando-Kissimmee-Sanford, FL MSA</td>\n",
       "      <td>2018-08-03</td>\n",
       "      <td>ultimate</td>\n",
       "      <td>NaN</td>\n",
       "    </tr>\n",
       "    <tr>\n",
       "      <th>9</th>\n",
       "      <td>1009</td>\n",
       "      <td>Gerry</td>\n",
       "      <td>Little</td>\n",
       "      <td>19</td>\n",
       "      <td>San Jose-Sunnyvale-Santa Clara, CA MSA</td>\n",
       "      <td>2018-04-22</td>\n",
       "      <td>surf</td>\n",
       "      <td>NaN</td>\n",
       "    </tr>\n",
       "  </tbody>\n",
       "</table>\n",
       "</div>"
      ],
      "text/plain": [
       "   user_id first_name  last_name  age                                    city  \\\n",
       "0     1000   Anamaria      Bauer   45   Atlanta-Sandy Springs-Roswell, GA MSA   \n",
       "1     1001     Mickey  Wilkerson   28         Seattle-Tacoma-Bellevue, WA MSA   \n",
       "2     1002     Carlee    Hoffman   36    Las Vegas-Henderson-Paradise, NV MSA   \n",
       "3     1003   Reynaldo    Jenkins   52                           Tulsa, OK MSA   \n",
       "4     1004    Leonila   Thompson   40         Seattle-Tacoma-Bellevue, WA MSA   \n",
       "5     1005      Livia    Shields   31     Dallas-Fort Worth-Arlington, TX MSA   \n",
       "6     1006     Jesusa   Bradford   73  San Francisco-Oakland-Berkeley, CA MSA   \n",
       "7     1007    Eusebio      Welch   42           Grand Rapids-Kentwood, MI MSA   \n",
       "8     1008      Emely    Hoffman   53       Orlando-Kissimmee-Sanford, FL MSA   \n",
       "9     1009      Gerry     Little   19  San Jose-Sunnyvale-Santa Clara, CA MSA   \n",
       "\n",
       "     reg_date      plan  churn_date  \n",
       "0  2018-12-24  ultimate         NaN  \n",
       "1  2018-08-13      surf         NaN  \n",
       "2  2018-10-21      surf         NaN  \n",
       "3  2018-01-28      surf         NaN  \n",
       "4  2018-05-23      surf         NaN  \n",
       "5  2018-11-29      surf         NaN  \n",
       "6  2018-11-27  ultimate  2018-12-18  \n",
       "7  2018-07-11      surf         NaN  \n",
       "8  2018-08-03  ultimate         NaN  \n",
       "9  2018-04-22      surf         NaN  "
      ]
     },
     "metadata": {},
     "output_type": "display_data"
    },
    {
     "name": "stdout",
     "output_type": "stream",
     "text": [
      "<class 'pandas.core.frame.DataFrame'>\n",
      "RangeIndex: 500 entries, 0 to 499\n",
      "Data columns (total 8 columns):\n",
      " #   Column      Non-Null Count  Dtype \n",
      "---  ------      --------------  ----- \n",
      " 0   user_id     500 non-null    int64 \n",
      " 1   first_name  500 non-null    object\n",
      " 2   last_name   500 non-null    object\n",
      " 3   age         500 non-null    int64 \n",
      " 4   city        500 non-null    object\n",
      " 5   reg_date    500 non-null    object\n",
      " 6   plan        500 non-null    object\n",
      " 7   churn_date  34 non-null     object\n",
      "dtypes: int64(2), object(6)\n",
      "memory usage: 31.4+ KB\n",
      "None\n"
     ]
    },
    {
     "data": {
      "text/html": [
       "<div>\n",
       "<style scoped>\n",
       "    .dataframe tbody tr th:only-of-type {\n",
       "        vertical-align: middle;\n",
       "    }\n",
       "\n",
       "    .dataframe tbody tr th {\n",
       "        vertical-align: top;\n",
       "    }\n",
       "\n",
       "    .dataframe thead th {\n",
       "        text-align: right;\n",
       "    }\n",
       "</style>\n",
       "<table border=\"1\" class=\"dataframe\">\n",
       "  <thead>\n",
       "    <tr style=\"text-align: right;\">\n",
       "      <th></th>\n",
       "      <th>user_id</th>\n",
       "      <th>age</th>\n",
       "    </tr>\n",
       "  </thead>\n",
       "  <tbody>\n",
       "    <tr>\n",
       "      <th>count</th>\n",
       "      <td>500.000000</td>\n",
       "      <td>500.000000</td>\n",
       "    </tr>\n",
       "    <tr>\n",
       "      <th>mean</th>\n",
       "      <td>1249.500000</td>\n",
       "      <td>45.486000</td>\n",
       "    </tr>\n",
       "    <tr>\n",
       "      <th>std</th>\n",
       "      <td>144.481833</td>\n",
       "      <td>16.972269</td>\n",
       "    </tr>\n",
       "    <tr>\n",
       "      <th>min</th>\n",
       "      <td>1000.000000</td>\n",
       "      <td>18.000000</td>\n",
       "    </tr>\n",
       "    <tr>\n",
       "      <th>25%</th>\n",
       "      <td>1124.750000</td>\n",
       "      <td>30.000000</td>\n",
       "    </tr>\n",
       "    <tr>\n",
       "      <th>50%</th>\n",
       "      <td>1249.500000</td>\n",
       "      <td>46.000000</td>\n",
       "    </tr>\n",
       "    <tr>\n",
       "      <th>75%</th>\n",
       "      <td>1374.250000</td>\n",
       "      <td>61.000000</td>\n",
       "    </tr>\n",
       "    <tr>\n",
       "      <th>max</th>\n",
       "      <td>1499.000000</td>\n",
       "      <td>75.000000</td>\n",
       "    </tr>\n",
       "  </tbody>\n",
       "</table>\n",
       "</div>"
      ],
      "text/plain": [
       "           user_id         age\n",
       "count   500.000000  500.000000\n",
       "mean   1249.500000   45.486000\n",
       "std     144.481833   16.972269\n",
       "min    1000.000000   18.000000\n",
       "25%    1124.750000   30.000000\n",
       "50%    1249.500000   46.000000\n",
       "75%    1374.250000   61.000000\n",
       "max    1499.000000   75.000000"
      ]
     },
     "execution_count": 7,
     "metadata": {},
     "output_type": "execute_result"
    }
   ],
   "source": [
    "# Visualising users data frame.\n",
    "display(df_users.head(10))\n",
    "print(df_users.info())\n",
    "df_users.describe()"
   ]
  },
  {
   "cell_type": "markdown",
   "metadata": {},
   "source": [
    "After visualizing each dataframe, we can see that most of them appear to be clean with no missing values. Let's take a closer look at each one and fix any problems we may find."
   ]
  },
  {
   "cell_type": "markdown",
   "metadata": {},
   "source": [
    "## Plans"
   ]
  },
  {
   "cell_type": "code",
   "execution_count": 8,
   "metadata": {},
   "outputs": [
    {
     "name": "stdout",
     "output_type": "stream",
     "text": [
      "<class 'pandas.core.frame.DataFrame'>\n",
      "RangeIndex: 2 entries, 0 to 1\n",
      "Data columns (total 8 columns):\n",
      " #   Column                 Non-Null Count  Dtype  \n",
      "---  ------                 --------------  -----  \n",
      " 0   messages_included      2 non-null      int64  \n",
      " 1   mb_per_month_included  2 non-null      int64  \n",
      " 2   minutes_included       2 non-null      int64  \n",
      " 3   usd_monthly_pay        2 non-null      int64  \n",
      " 4   usd_per_gb             2 non-null      int64  \n",
      " 5   usd_per_message        2 non-null      float64\n",
      " 6   usd_per_minute         2 non-null      float64\n",
      " 7   plan_name              2 non-null      object \n",
      "dtypes: float64(2), int64(5), object(1)\n",
      "memory usage: 256.0+ bytes\n"
     ]
    },
    {
     "data": {
      "text/plain": [
       "None"
      ]
     },
     "metadata": {},
     "output_type": "display_data"
    }
   ],
   "source": [
    "# Print the general/summary information about the plans' DataFrame\n",
    "\n",
    "display(df_plans.info())"
   ]
  },
  {
   "cell_type": "code",
   "execution_count": 9,
   "metadata": {},
   "outputs": [
    {
     "data": {
      "text/html": [
       "<div>\n",
       "<style scoped>\n",
       "    .dataframe tbody tr th:only-of-type {\n",
       "        vertical-align: middle;\n",
       "    }\n",
       "\n",
       "    .dataframe tbody tr th {\n",
       "        vertical-align: top;\n",
       "    }\n",
       "\n",
       "    .dataframe thead th {\n",
       "        text-align: right;\n",
       "    }\n",
       "</style>\n",
       "<table border=\"1\" class=\"dataframe\">\n",
       "  <thead>\n",
       "    <tr style=\"text-align: right;\">\n",
       "      <th></th>\n",
       "      <th>messages_included</th>\n",
       "      <th>mb_per_month_included</th>\n",
       "      <th>minutes_included</th>\n",
       "      <th>usd_monthly_pay</th>\n",
       "      <th>usd_per_gb</th>\n",
       "      <th>usd_per_message</th>\n",
       "      <th>usd_per_minute</th>\n",
       "      <th>plan_name</th>\n",
       "    </tr>\n",
       "  </thead>\n",
       "  <tbody>\n",
       "    <tr>\n",
       "      <th>0</th>\n",
       "      <td>50</td>\n",
       "      <td>15360</td>\n",
       "      <td>500</td>\n",
       "      <td>20</td>\n",
       "      <td>10</td>\n",
       "      <td>0.03</td>\n",
       "      <td>0.03</td>\n",
       "      <td>surf</td>\n",
       "    </tr>\n",
       "    <tr>\n",
       "      <th>1</th>\n",
       "      <td>1000</td>\n",
       "      <td>30720</td>\n",
       "      <td>3000</td>\n",
       "      <td>70</td>\n",
       "      <td>7</td>\n",
       "      <td>0.01</td>\n",
       "      <td>0.01</td>\n",
       "      <td>ultimate</td>\n",
       "    </tr>\n",
       "  </tbody>\n",
       "</table>\n",
       "</div>"
      ],
      "text/plain": [
       "   messages_included  mb_per_month_included  minutes_included  \\\n",
       "0                 50                  15360               500   \n",
       "1               1000                  30720              3000   \n",
       "\n",
       "   usd_monthly_pay  usd_per_gb  usd_per_message  usd_per_minute plan_name  \n",
       "0               20          10             0.03            0.03      surf  \n",
       "1               70           7             0.01            0.01  ultimate  "
      ]
     },
     "metadata": {},
     "output_type": "display_data"
    }
   ],
   "source": [
    "# Print a sample of data for plans\n",
    "\n",
    "display(df_plans.head(10))"
   ]
  },
  {
   "cell_type": "markdown",
   "metadata": {},
   "source": [
    "From the information above, we see that the plans dataframe has no missing values and contains appropriate data types for each column. This data frame provides information on what each plan entails."
   ]
  },
  {
   "cell_type": "markdown",
   "metadata": {},
   "source": [
    " "
   ]
  },
  {
   "cell_type": "markdown",
   "metadata": {},
   "source": [
    "## Users"
   ]
  },
  {
   "cell_type": "code",
   "execution_count": 10,
   "metadata": {},
   "outputs": [
    {
     "name": "stdout",
     "output_type": "stream",
     "text": [
      "<class 'pandas.core.frame.DataFrame'>\n",
      "RangeIndex: 500 entries, 0 to 499\n",
      "Data columns (total 8 columns):\n",
      " #   Column      Non-Null Count  Dtype \n",
      "---  ------      --------------  ----- \n",
      " 0   user_id     500 non-null    int64 \n",
      " 1   first_name  500 non-null    object\n",
      " 2   last_name   500 non-null    object\n",
      " 3   age         500 non-null    int64 \n",
      " 4   city        500 non-null    object\n",
      " 5   reg_date    500 non-null    object\n",
      " 6   plan        500 non-null    object\n",
      " 7   churn_date  34 non-null     object\n",
      "dtypes: int64(2), object(6)\n",
      "memory usage: 31.4+ KB\n"
     ]
    }
   ],
   "source": [
    "# Print the general/summary information about the users' DataFrame\n",
    "df_users.info()\n"
   ]
  },
  {
   "cell_type": "code",
   "execution_count": 11,
   "metadata": {},
   "outputs": [
    {
     "data": {
      "text/html": [
       "<div>\n",
       "<style scoped>\n",
       "    .dataframe tbody tr th:only-of-type {\n",
       "        vertical-align: middle;\n",
       "    }\n",
       "\n",
       "    .dataframe tbody tr th {\n",
       "        vertical-align: top;\n",
       "    }\n",
       "\n",
       "    .dataframe thead th {\n",
       "        text-align: right;\n",
       "    }\n",
       "</style>\n",
       "<table border=\"1\" class=\"dataframe\">\n",
       "  <thead>\n",
       "    <tr style=\"text-align: right;\">\n",
       "      <th></th>\n",
       "      <th>user_id</th>\n",
       "      <th>first_name</th>\n",
       "      <th>last_name</th>\n",
       "      <th>age</th>\n",
       "      <th>city</th>\n",
       "      <th>reg_date</th>\n",
       "      <th>plan</th>\n",
       "      <th>churn_date</th>\n",
       "    </tr>\n",
       "  </thead>\n",
       "  <tbody>\n",
       "    <tr>\n",
       "      <th>0</th>\n",
       "      <td>1000</td>\n",
       "      <td>Anamaria</td>\n",
       "      <td>Bauer</td>\n",
       "      <td>45</td>\n",
       "      <td>Atlanta-Sandy Springs-Roswell, GA MSA</td>\n",
       "      <td>2018-12-24</td>\n",
       "      <td>ultimate</td>\n",
       "      <td>NaN</td>\n",
       "    </tr>\n",
       "    <tr>\n",
       "      <th>1</th>\n",
       "      <td>1001</td>\n",
       "      <td>Mickey</td>\n",
       "      <td>Wilkerson</td>\n",
       "      <td>28</td>\n",
       "      <td>Seattle-Tacoma-Bellevue, WA MSA</td>\n",
       "      <td>2018-08-13</td>\n",
       "      <td>surf</td>\n",
       "      <td>NaN</td>\n",
       "    </tr>\n",
       "    <tr>\n",
       "      <th>2</th>\n",
       "      <td>1002</td>\n",
       "      <td>Carlee</td>\n",
       "      <td>Hoffman</td>\n",
       "      <td>36</td>\n",
       "      <td>Las Vegas-Henderson-Paradise, NV MSA</td>\n",
       "      <td>2018-10-21</td>\n",
       "      <td>surf</td>\n",
       "      <td>NaN</td>\n",
       "    </tr>\n",
       "    <tr>\n",
       "      <th>3</th>\n",
       "      <td>1003</td>\n",
       "      <td>Reynaldo</td>\n",
       "      <td>Jenkins</td>\n",
       "      <td>52</td>\n",
       "      <td>Tulsa, OK MSA</td>\n",
       "      <td>2018-01-28</td>\n",
       "      <td>surf</td>\n",
       "      <td>NaN</td>\n",
       "    </tr>\n",
       "    <tr>\n",
       "      <th>4</th>\n",
       "      <td>1004</td>\n",
       "      <td>Leonila</td>\n",
       "      <td>Thompson</td>\n",
       "      <td>40</td>\n",
       "      <td>Seattle-Tacoma-Bellevue, WA MSA</td>\n",
       "      <td>2018-05-23</td>\n",
       "      <td>surf</td>\n",
       "      <td>NaN</td>\n",
       "    </tr>\n",
       "    <tr>\n",
       "      <th>...</th>\n",
       "      <td>...</td>\n",
       "      <td>...</td>\n",
       "      <td>...</td>\n",
       "      <td>...</td>\n",
       "      <td>...</td>\n",
       "      <td>...</td>\n",
       "      <td>...</td>\n",
       "      <td>...</td>\n",
       "    </tr>\n",
       "    <tr>\n",
       "      <th>495</th>\n",
       "      <td>1495</td>\n",
       "      <td>Fidel</td>\n",
       "      <td>Sharpe</td>\n",
       "      <td>67</td>\n",
       "      <td>New York-Newark-Jersey City, NY-NJ-PA MSA</td>\n",
       "      <td>2018-09-04</td>\n",
       "      <td>surf</td>\n",
       "      <td>NaN</td>\n",
       "    </tr>\n",
       "    <tr>\n",
       "      <th>496</th>\n",
       "      <td>1496</td>\n",
       "      <td>Ariel</td>\n",
       "      <td>Shepherd</td>\n",
       "      <td>49</td>\n",
       "      <td>New Orleans-Metairie, LA MSA</td>\n",
       "      <td>2018-02-20</td>\n",
       "      <td>surf</td>\n",
       "      <td>NaN</td>\n",
       "    </tr>\n",
       "    <tr>\n",
       "      <th>497</th>\n",
       "      <td>1497</td>\n",
       "      <td>Donte</td>\n",
       "      <td>Barrera</td>\n",
       "      <td>49</td>\n",
       "      <td>Los Angeles-Long Beach-Anaheim, CA MSA</td>\n",
       "      <td>2018-12-10</td>\n",
       "      <td>ultimate</td>\n",
       "      <td>NaN</td>\n",
       "    </tr>\n",
       "    <tr>\n",
       "      <th>498</th>\n",
       "      <td>1498</td>\n",
       "      <td>Scot</td>\n",
       "      <td>Williamson</td>\n",
       "      <td>51</td>\n",
       "      <td>New York-Newark-Jersey City, NY-NJ-PA MSA</td>\n",
       "      <td>2018-02-04</td>\n",
       "      <td>surf</td>\n",
       "      <td>NaN</td>\n",
       "    </tr>\n",
       "    <tr>\n",
       "      <th>499</th>\n",
       "      <td>1499</td>\n",
       "      <td>Shena</td>\n",
       "      <td>Dickson</td>\n",
       "      <td>37</td>\n",
       "      <td>Orlando-Kissimmee-Sanford, FL MSA</td>\n",
       "      <td>2018-05-06</td>\n",
       "      <td>surf</td>\n",
       "      <td>NaN</td>\n",
       "    </tr>\n",
       "  </tbody>\n",
       "</table>\n",
       "<p>500 rows × 8 columns</p>\n",
       "</div>"
      ],
      "text/plain": [
       "     user_id first_name   last_name  age  \\\n",
       "0       1000   Anamaria       Bauer   45   \n",
       "1       1001     Mickey   Wilkerson   28   \n",
       "2       1002     Carlee     Hoffman   36   \n",
       "3       1003   Reynaldo     Jenkins   52   \n",
       "4       1004    Leonila    Thompson   40   \n",
       "..       ...        ...         ...  ...   \n",
       "495     1495      Fidel      Sharpe   67   \n",
       "496     1496      Ariel    Shepherd   49   \n",
       "497     1497      Donte     Barrera   49   \n",
       "498     1498       Scot  Williamson   51   \n",
       "499     1499      Shena     Dickson   37   \n",
       "\n",
       "                                          city    reg_date      plan  \\\n",
       "0        Atlanta-Sandy Springs-Roswell, GA MSA  2018-12-24  ultimate   \n",
       "1              Seattle-Tacoma-Bellevue, WA MSA  2018-08-13      surf   \n",
       "2         Las Vegas-Henderson-Paradise, NV MSA  2018-10-21      surf   \n",
       "3                                Tulsa, OK MSA  2018-01-28      surf   \n",
       "4              Seattle-Tacoma-Bellevue, WA MSA  2018-05-23      surf   \n",
       "..                                         ...         ...       ...   \n",
       "495  New York-Newark-Jersey City, NY-NJ-PA MSA  2018-09-04      surf   \n",
       "496               New Orleans-Metairie, LA MSA  2018-02-20      surf   \n",
       "497     Los Angeles-Long Beach-Anaheim, CA MSA  2018-12-10  ultimate   \n",
       "498  New York-Newark-Jersey City, NY-NJ-PA MSA  2018-02-04      surf   \n",
       "499          Orlando-Kissimmee-Sanford, FL MSA  2018-05-06      surf   \n",
       "\n",
       "    churn_date  \n",
       "0          NaN  \n",
       "1          NaN  \n",
       "2          NaN  \n",
       "3          NaN  \n",
       "4          NaN  \n",
       "..         ...  \n",
       "495        NaN  \n",
       "496        NaN  \n",
       "497        NaN  \n",
       "498        NaN  \n",
       "499        NaN  \n",
       "\n",
       "[500 rows x 8 columns]"
      ]
     },
     "metadata": {},
     "output_type": "display_data"
    }
   ],
   "source": [
    "# Print a sample of data for users\n",
    "display(df_users)\n"
   ]
  },
  {
   "cell_type": "markdown",
   "metadata": {},
   "source": [
    "The users dataframe appears to have some problems. Firstly, there are missing values in the column `churn_date`. These are categorical values and so we cannot fill them conventionally. Also, from the description of this data frame, this column only contains values of inactive customers. It's no wonder there are so many missing values here.\n",
    "\n",
    "Secondly, the reg_date column is not stored with the correct data type. Let's try fixing these problems."
   ]
  },
  {
   "cell_type": "markdown",
   "metadata": {},
   "source": [
    "<div class=\"alert alert-success\">\n",
    "<b>Reviewer's comment v1:</b>\n",
    "    \n",
    "Good start and first view on data! "
   ]
  },
  {
   "cell_type": "markdown",
   "metadata": {},
   "source": [
    " "
   ]
  },
  {
   "cell_type": "markdown",
   "metadata": {},
   "source": [
    "### Fix Data"
   ]
  },
  {
   "cell_type": "code",
   "execution_count": 12,
   "metadata": {},
   "outputs": [],
   "source": [
    "# Converting reg_date colume to datetime format.\n",
    "df_users['reg_date'] = pd.to_datetime(df_users['reg_date'], format= '%Y-%m-%d')"
   ]
  },
  {
   "cell_type": "code",
   "execution_count": 13,
   "metadata": {
    "scrolled": true
   },
   "outputs": [
    {
     "name": "stdout",
     "output_type": "stream",
     "text": [
      "<class 'pandas.core.frame.DataFrame'>\n",
      "RangeIndex: 500 entries, 0 to 499\n",
      "Data columns (total 8 columns):\n",
      " #   Column      Non-Null Count  Dtype         \n",
      "---  ------      --------------  -----         \n",
      " 0   user_id     500 non-null    int64         \n",
      " 1   first_name  500 non-null    object        \n",
      " 2   last_name   500 non-null    object        \n",
      " 3   age         500 non-null    int64         \n",
      " 4   city        500 non-null    object        \n",
      " 5   reg_date    500 non-null    datetime64[ns]\n",
      " 6   plan        500 non-null    object        \n",
      " 7   churn_date  34 non-null     object        \n",
      "dtypes: datetime64[ns](1), int64(2), object(5)\n",
      "memory usage: 31.4+ KB\n"
     ]
    }
   ],
   "source": [
    "# View data types\n",
    "df_users.info()"
   ]
  },
  {
   "cell_type": "code",
   "execution_count": 14,
   "metadata": {},
   "outputs": [
    {
     "data": {
      "text/html": [
       "<div>\n",
       "<style scoped>\n",
       "    .dataframe tbody tr th:only-of-type {\n",
       "        vertical-align: middle;\n",
       "    }\n",
       "\n",
       "    .dataframe tbody tr th {\n",
       "        vertical-align: top;\n",
       "    }\n",
       "\n",
       "    .dataframe thead th {\n",
       "        text-align: right;\n",
       "    }\n",
       "</style>\n",
       "<table border=\"1\" class=\"dataframe\">\n",
       "  <thead>\n",
       "    <tr style=\"text-align: right;\">\n",
       "      <th></th>\n",
       "      <th>user_id</th>\n",
       "      <th>first_name</th>\n",
       "      <th>last_name</th>\n",
       "      <th>age</th>\n",
       "      <th>city</th>\n",
       "      <th>reg_date</th>\n",
       "      <th>plan</th>\n",
       "      <th>churn_date</th>\n",
       "    </tr>\n",
       "  </thead>\n",
       "  <tbody>\n",
       "    <tr>\n",
       "      <th>6</th>\n",
       "      <td>1006</td>\n",
       "      <td>Jesusa</td>\n",
       "      <td>Bradford</td>\n",
       "      <td>73</td>\n",
       "      <td>San Francisco-Oakland-Berkeley, CA MSA</td>\n",
       "      <td>2018-11-27</td>\n",
       "      <td>ultimate</td>\n",
       "      <td>2018-12-18</td>\n",
       "    </tr>\n",
       "    <tr>\n",
       "      <th>12</th>\n",
       "      <td>1012</td>\n",
       "      <td>Jonelle</td>\n",
       "      <td>Mcbride</td>\n",
       "      <td>59</td>\n",
       "      <td>Chicago-Naperville-Elgin, IL-IN-WI MSA</td>\n",
       "      <td>2018-06-28</td>\n",
       "      <td>surf</td>\n",
       "      <td>2018-11-16</td>\n",
       "    </tr>\n",
       "    <tr>\n",
       "      <th>22</th>\n",
       "      <td>1022</td>\n",
       "      <td>Bo</td>\n",
       "      <td>Snow</td>\n",
       "      <td>73</td>\n",
       "      <td>New York-Newark-Jersey City, NY-NJ-PA MSA</td>\n",
       "      <td>2018-04-20</td>\n",
       "      <td>surf</td>\n",
       "      <td>2018-09-07</td>\n",
       "    </tr>\n",
       "    <tr>\n",
       "      <th>40</th>\n",
       "      <td>1040</td>\n",
       "      <td>Paris</td>\n",
       "      <td>Santos</td>\n",
       "      <td>72</td>\n",
       "      <td>Philadelphia-Camden-Wilmington, PA-NJ-DE-MD MSA</td>\n",
       "      <td>2018-12-23</td>\n",
       "      <td>surf</td>\n",
       "      <td>2018-12-30</td>\n",
       "    </tr>\n",
       "    <tr>\n",
       "      <th>50</th>\n",
       "      <td>1050</td>\n",
       "      <td>Jone</td>\n",
       "      <td>Owen</td>\n",
       "      <td>23</td>\n",
       "      <td>Miami-Fort Lauderdale-West Palm Beach, FL MSA</td>\n",
       "      <td>2018-03-20</td>\n",
       "      <td>ultimate</td>\n",
       "      <td>2018-10-07</td>\n",
       "    </tr>\n",
       "    <tr>\n",
       "      <th>54</th>\n",
       "      <td>1054</td>\n",
       "      <td>Denis</td>\n",
       "      <td>Frost</td>\n",
       "      <td>50</td>\n",
       "      <td>Phoenix-Mesa-Chandler, AZ MSA</td>\n",
       "      <td>2018-04-21</td>\n",
       "      <td>surf</td>\n",
       "      <td>2018-12-31</td>\n",
       "    </tr>\n",
       "    <tr>\n",
       "      <th>67</th>\n",
       "      <td>1067</td>\n",
       "      <td>Robt</td>\n",
       "      <td>Allen</td>\n",
       "      <td>37</td>\n",
       "      <td>Grand Rapids-Kentwood, MI MSA</td>\n",
       "      <td>2018-09-24</td>\n",
       "      <td>surf</td>\n",
       "      <td>2018-11-24</td>\n",
       "    </tr>\n",
       "    <tr>\n",
       "      <th>83</th>\n",
       "      <td>1083</td>\n",
       "      <td>Lyndia</td>\n",
       "      <td>Acevedo</td>\n",
       "      <td>65</td>\n",
       "      <td>Los Angeles-Long Beach-Anaheim, CA MSA</td>\n",
       "      <td>2018-10-26</td>\n",
       "      <td>surf</td>\n",
       "      <td>2018-12-18</td>\n",
       "    </tr>\n",
       "    <tr>\n",
       "      <th>84</th>\n",
       "      <td>1084</td>\n",
       "      <td>Wiley</td>\n",
       "      <td>Mckinney</td>\n",
       "      <td>21</td>\n",
       "      <td>Miami-Fort Lauderdale-West Palm Beach, FL MSA</td>\n",
       "      <td>2018-06-04</td>\n",
       "      <td>surf</td>\n",
       "      <td>2018-11-11</td>\n",
       "    </tr>\n",
       "    <tr>\n",
       "      <th>94</th>\n",
       "      <td>1094</td>\n",
       "      <td>Walter</td>\n",
       "      <td>Petersen</td>\n",
       "      <td>54</td>\n",
       "      <td>Los Angeles-Long Beach-Anaheim, CA MSA</td>\n",
       "      <td>2018-10-30</td>\n",
       "      <td>surf</td>\n",
       "      <td>2018-12-12</td>\n",
       "    </tr>\n",
       "  </tbody>\n",
       "</table>\n",
       "</div>"
      ],
      "text/plain": [
       "    user_id first_name last_name  age  \\\n",
       "6      1006     Jesusa  Bradford   73   \n",
       "12     1012    Jonelle   Mcbride   59   \n",
       "22     1022         Bo      Snow   73   \n",
       "40     1040      Paris    Santos   72   \n",
       "50     1050       Jone      Owen   23   \n",
       "54     1054      Denis     Frost   50   \n",
       "67     1067       Robt     Allen   37   \n",
       "83     1083     Lyndia   Acevedo   65   \n",
       "84     1084      Wiley  Mckinney   21   \n",
       "94     1094     Walter  Petersen   54   \n",
       "\n",
       "                                               city   reg_date      plan  \\\n",
       "6            San Francisco-Oakland-Berkeley, CA MSA 2018-11-27  ultimate   \n",
       "12           Chicago-Naperville-Elgin, IL-IN-WI MSA 2018-06-28      surf   \n",
       "22        New York-Newark-Jersey City, NY-NJ-PA MSA 2018-04-20      surf   \n",
       "40  Philadelphia-Camden-Wilmington, PA-NJ-DE-MD MSA 2018-12-23      surf   \n",
       "50    Miami-Fort Lauderdale-West Palm Beach, FL MSA 2018-03-20  ultimate   \n",
       "54                    Phoenix-Mesa-Chandler, AZ MSA 2018-04-21      surf   \n",
       "67                    Grand Rapids-Kentwood, MI MSA 2018-09-24      surf   \n",
       "83           Los Angeles-Long Beach-Anaheim, CA MSA 2018-10-26      surf   \n",
       "84    Miami-Fort Lauderdale-West Palm Beach, FL MSA 2018-06-04      surf   \n",
       "94           Los Angeles-Long Beach-Anaheim, CA MSA 2018-10-30      surf   \n",
       "\n",
       "    churn_date  \n",
       "6   2018-12-18  \n",
       "12  2018-11-16  \n",
       "22  2018-09-07  \n",
       "40  2018-12-30  \n",
       "50  2018-10-07  \n",
       "54  2018-12-31  \n",
       "67  2018-11-24  \n",
       "83  2018-12-18  \n",
       "84  2018-11-11  \n",
       "94  2018-12-12  "
      ]
     },
     "metadata": {},
     "output_type": "display_data"
    }
   ],
   "source": [
    "# Working on churn_date column\n",
    "display(df_users[df_users['churn_date'].isna() == False].head(10))"
   ]
  },
  {
   "cell_type": "markdown",
   "metadata": {},
   "source": [
    "### Enrich Data"
   ]
  },
  {
   "cell_type": "code",
   "execution_count": 15,
   "metadata": {},
   "outputs": [],
   "source": [
    "# Creating a function to sort users into active and inactive users based on churn date\n",
    "def user_stat(value):\n",
    "    if pd.isna(value['churn_date']) == False:\n",
    "        return 'inactive user'\n",
    "    else:\n",
    "        return 'active user'"
   ]
  },
  {
   "cell_type": "code",
   "execution_count": 16,
   "metadata": {
    "scrolled": true
   },
   "outputs": [
    {
     "data": {
      "text/html": [
       "<div>\n",
       "<style scoped>\n",
       "    .dataframe tbody tr th:only-of-type {\n",
       "        vertical-align: middle;\n",
       "    }\n",
       "\n",
       "    .dataframe tbody tr th {\n",
       "        vertical-align: top;\n",
       "    }\n",
       "\n",
       "    .dataframe thead th {\n",
       "        text-align: right;\n",
       "    }\n",
       "</style>\n",
       "<table border=\"1\" class=\"dataframe\">\n",
       "  <thead>\n",
       "    <tr style=\"text-align: right;\">\n",
       "      <th></th>\n",
       "      <th>user_id</th>\n",
       "      <th>first_name</th>\n",
       "      <th>last_name</th>\n",
       "      <th>age</th>\n",
       "      <th>city</th>\n",
       "      <th>reg_date</th>\n",
       "      <th>plan</th>\n",
       "      <th>churn_date</th>\n",
       "      <th>status</th>\n",
       "    </tr>\n",
       "  </thead>\n",
       "  <tbody>\n",
       "    <tr>\n",
       "      <th>0</th>\n",
       "      <td>1000</td>\n",
       "      <td>Anamaria</td>\n",
       "      <td>Bauer</td>\n",
       "      <td>45</td>\n",
       "      <td>Atlanta-Sandy Springs-Roswell, GA MSA</td>\n",
       "      <td>2018-12-24</td>\n",
       "      <td>ultimate</td>\n",
       "      <td>NaN</td>\n",
       "      <td>active user</td>\n",
       "    </tr>\n",
       "    <tr>\n",
       "      <th>1</th>\n",
       "      <td>1001</td>\n",
       "      <td>Mickey</td>\n",
       "      <td>Wilkerson</td>\n",
       "      <td>28</td>\n",
       "      <td>Seattle-Tacoma-Bellevue, WA MSA</td>\n",
       "      <td>2018-08-13</td>\n",
       "      <td>surf</td>\n",
       "      <td>NaN</td>\n",
       "      <td>active user</td>\n",
       "    </tr>\n",
       "    <tr>\n",
       "      <th>2</th>\n",
       "      <td>1002</td>\n",
       "      <td>Carlee</td>\n",
       "      <td>Hoffman</td>\n",
       "      <td>36</td>\n",
       "      <td>Las Vegas-Henderson-Paradise, NV MSA</td>\n",
       "      <td>2018-10-21</td>\n",
       "      <td>surf</td>\n",
       "      <td>NaN</td>\n",
       "      <td>active user</td>\n",
       "    </tr>\n",
       "    <tr>\n",
       "      <th>3</th>\n",
       "      <td>1003</td>\n",
       "      <td>Reynaldo</td>\n",
       "      <td>Jenkins</td>\n",
       "      <td>52</td>\n",
       "      <td>Tulsa, OK MSA</td>\n",
       "      <td>2018-01-28</td>\n",
       "      <td>surf</td>\n",
       "      <td>NaN</td>\n",
       "      <td>active user</td>\n",
       "    </tr>\n",
       "    <tr>\n",
       "      <th>4</th>\n",
       "      <td>1004</td>\n",
       "      <td>Leonila</td>\n",
       "      <td>Thompson</td>\n",
       "      <td>40</td>\n",
       "      <td>Seattle-Tacoma-Bellevue, WA MSA</td>\n",
       "      <td>2018-05-23</td>\n",
       "      <td>surf</td>\n",
       "      <td>NaN</td>\n",
       "      <td>active user</td>\n",
       "    </tr>\n",
       "    <tr>\n",
       "      <th>5</th>\n",
       "      <td>1005</td>\n",
       "      <td>Livia</td>\n",
       "      <td>Shields</td>\n",
       "      <td>31</td>\n",
       "      <td>Dallas-Fort Worth-Arlington, TX MSA</td>\n",
       "      <td>2018-11-29</td>\n",
       "      <td>surf</td>\n",
       "      <td>NaN</td>\n",
       "      <td>active user</td>\n",
       "    </tr>\n",
       "    <tr>\n",
       "      <th>6</th>\n",
       "      <td>1006</td>\n",
       "      <td>Jesusa</td>\n",
       "      <td>Bradford</td>\n",
       "      <td>73</td>\n",
       "      <td>San Francisco-Oakland-Berkeley, CA MSA</td>\n",
       "      <td>2018-11-27</td>\n",
       "      <td>ultimate</td>\n",
       "      <td>2018-12-18</td>\n",
       "      <td>inactive user</td>\n",
       "    </tr>\n",
       "    <tr>\n",
       "      <th>7</th>\n",
       "      <td>1007</td>\n",
       "      <td>Eusebio</td>\n",
       "      <td>Welch</td>\n",
       "      <td>42</td>\n",
       "      <td>Grand Rapids-Kentwood, MI MSA</td>\n",
       "      <td>2018-07-11</td>\n",
       "      <td>surf</td>\n",
       "      <td>NaN</td>\n",
       "      <td>active user</td>\n",
       "    </tr>\n",
       "    <tr>\n",
       "      <th>8</th>\n",
       "      <td>1008</td>\n",
       "      <td>Emely</td>\n",
       "      <td>Hoffman</td>\n",
       "      <td>53</td>\n",
       "      <td>Orlando-Kissimmee-Sanford, FL MSA</td>\n",
       "      <td>2018-08-03</td>\n",
       "      <td>ultimate</td>\n",
       "      <td>NaN</td>\n",
       "      <td>active user</td>\n",
       "    </tr>\n",
       "    <tr>\n",
       "      <th>9</th>\n",
       "      <td>1009</td>\n",
       "      <td>Gerry</td>\n",
       "      <td>Little</td>\n",
       "      <td>19</td>\n",
       "      <td>San Jose-Sunnyvale-Santa Clara, CA MSA</td>\n",
       "      <td>2018-04-22</td>\n",
       "      <td>surf</td>\n",
       "      <td>NaN</td>\n",
       "      <td>active user</td>\n",
       "    </tr>\n",
       "  </tbody>\n",
       "</table>\n",
       "</div>"
      ],
      "text/plain": [
       "   user_id first_name  last_name  age                                    city  \\\n",
       "0     1000   Anamaria      Bauer   45   Atlanta-Sandy Springs-Roswell, GA MSA   \n",
       "1     1001     Mickey  Wilkerson   28         Seattle-Tacoma-Bellevue, WA MSA   \n",
       "2     1002     Carlee    Hoffman   36    Las Vegas-Henderson-Paradise, NV MSA   \n",
       "3     1003   Reynaldo    Jenkins   52                           Tulsa, OK MSA   \n",
       "4     1004    Leonila   Thompson   40         Seattle-Tacoma-Bellevue, WA MSA   \n",
       "5     1005      Livia    Shields   31     Dallas-Fort Worth-Arlington, TX MSA   \n",
       "6     1006     Jesusa   Bradford   73  San Francisco-Oakland-Berkeley, CA MSA   \n",
       "7     1007    Eusebio      Welch   42           Grand Rapids-Kentwood, MI MSA   \n",
       "8     1008      Emely    Hoffman   53       Orlando-Kissimmee-Sanford, FL MSA   \n",
       "9     1009      Gerry     Little   19  San Jose-Sunnyvale-Santa Clara, CA MSA   \n",
       "\n",
       "    reg_date      plan  churn_date         status  \n",
       "0 2018-12-24  ultimate         NaN    active user  \n",
       "1 2018-08-13      surf         NaN    active user  \n",
       "2 2018-10-21      surf         NaN    active user  \n",
       "3 2018-01-28      surf         NaN    active user  \n",
       "4 2018-05-23      surf         NaN    active user  \n",
       "5 2018-11-29      surf         NaN    active user  \n",
       "6 2018-11-27  ultimate  2018-12-18  inactive user  \n",
       "7 2018-07-11      surf         NaN    active user  \n",
       "8 2018-08-03  ultimate         NaN    active user  \n",
       "9 2018-04-22      surf         NaN    active user  "
      ]
     },
     "metadata": {},
     "output_type": "display_data"
    }
   ],
   "source": [
    "# Applying function to the database to create a new column\n",
    "df_users['status'] = df_users.apply(user_stat, axis=1)\n",
    "display(df_users.head(10))"
   ]
  },
  {
   "cell_type": "markdown",
   "metadata": {},
   "source": [
    "<div class=\"alert alert-block alert-warning\">\n",
    "<b>Reviewer's comment v1:</b>\n",
    "    \n",
    "Everything is correct here but usually, it is always helpful to double-check whether we indeed have data within one year/time period. If not then selecting and aggregating data by the month number will cause an issue. So here it is safer to use datetime64[M] which provides a complete date. "
   ]
  },
  {
   "cell_type": "markdown",
   "metadata": {},
   "source": [
    "Seeing as the user dataframe has just the registration dates for each user, adding a month column doesn't seem necessary as the information given does not provide monthly comparisons."
   ]
  },
  {
   "cell_type": "markdown",
   "metadata": {},
   "source": [
    "With the appropriate data type and users sorted, it's easier to work with this data now."
   ]
  },
  {
   "cell_type": "markdown",
   "metadata": {},
   "source": [
    "## Calls"
   ]
  },
  {
   "cell_type": "code",
   "execution_count": 17,
   "metadata": {},
   "outputs": [
    {
     "name": "stdout",
     "output_type": "stream",
     "text": [
      "<class 'pandas.core.frame.DataFrame'>\n",
      "RangeIndex: 137735 entries, 0 to 137734\n",
      "Data columns (total 4 columns):\n",
      " #   Column     Non-Null Count   Dtype  \n",
      "---  ------     --------------   -----  \n",
      " 0   id         137735 non-null  object \n",
      " 1   user_id    137735 non-null  int64  \n",
      " 2   call_date  137735 non-null  object \n",
      " 3   duration   137735 non-null  float64\n",
      "dtypes: float64(1), int64(1), object(2)\n",
      "memory usage: 4.2+ MB\n"
     ]
    }
   ],
   "source": [
    "# Print the general/summary information about the calls' DataFrame\n",
    "\n",
    "df_calls.info()"
   ]
  },
  {
   "cell_type": "code",
   "execution_count": 18,
   "metadata": {},
   "outputs": [
    {
     "data": {
      "text/html": [
       "<div>\n",
       "<style scoped>\n",
       "    .dataframe tbody tr th:only-of-type {\n",
       "        vertical-align: middle;\n",
       "    }\n",
       "\n",
       "    .dataframe tbody tr th {\n",
       "        vertical-align: top;\n",
       "    }\n",
       "\n",
       "    .dataframe thead th {\n",
       "        text-align: right;\n",
       "    }\n",
       "</style>\n",
       "<table border=\"1\" class=\"dataframe\">\n",
       "  <thead>\n",
       "    <tr style=\"text-align: right;\">\n",
       "      <th></th>\n",
       "      <th>id</th>\n",
       "      <th>user_id</th>\n",
       "      <th>call_date</th>\n",
       "      <th>duration</th>\n",
       "    </tr>\n",
       "  </thead>\n",
       "  <tbody>\n",
       "    <tr>\n",
       "      <th>0</th>\n",
       "      <td>1000_93</td>\n",
       "      <td>1000</td>\n",
       "      <td>2018-12-27</td>\n",
       "      <td>8.52</td>\n",
       "    </tr>\n",
       "    <tr>\n",
       "      <th>1</th>\n",
       "      <td>1000_145</td>\n",
       "      <td>1000</td>\n",
       "      <td>2018-12-27</td>\n",
       "      <td>13.66</td>\n",
       "    </tr>\n",
       "    <tr>\n",
       "      <th>2</th>\n",
       "      <td>1000_247</td>\n",
       "      <td>1000</td>\n",
       "      <td>2018-12-27</td>\n",
       "      <td>14.48</td>\n",
       "    </tr>\n",
       "    <tr>\n",
       "      <th>3</th>\n",
       "      <td>1000_309</td>\n",
       "      <td>1000</td>\n",
       "      <td>2018-12-28</td>\n",
       "      <td>5.76</td>\n",
       "    </tr>\n",
       "    <tr>\n",
       "      <th>4</th>\n",
       "      <td>1000_380</td>\n",
       "      <td>1000</td>\n",
       "      <td>2018-12-30</td>\n",
       "      <td>4.22</td>\n",
       "    </tr>\n",
       "    <tr>\n",
       "      <th>5</th>\n",
       "      <td>1000_388</td>\n",
       "      <td>1000</td>\n",
       "      <td>2018-12-31</td>\n",
       "      <td>2.20</td>\n",
       "    </tr>\n",
       "    <tr>\n",
       "      <th>6</th>\n",
       "      <td>1000_510</td>\n",
       "      <td>1000</td>\n",
       "      <td>2018-12-27</td>\n",
       "      <td>5.75</td>\n",
       "    </tr>\n",
       "    <tr>\n",
       "      <th>7</th>\n",
       "      <td>1000_521</td>\n",
       "      <td>1000</td>\n",
       "      <td>2018-12-28</td>\n",
       "      <td>14.18</td>\n",
       "    </tr>\n",
       "    <tr>\n",
       "      <th>8</th>\n",
       "      <td>1000_530</td>\n",
       "      <td>1000</td>\n",
       "      <td>2018-12-28</td>\n",
       "      <td>5.77</td>\n",
       "    </tr>\n",
       "    <tr>\n",
       "      <th>9</th>\n",
       "      <td>1000_544</td>\n",
       "      <td>1000</td>\n",
       "      <td>2018-12-26</td>\n",
       "      <td>4.40</td>\n",
       "    </tr>\n",
       "  </tbody>\n",
       "</table>\n",
       "</div>"
      ],
      "text/plain": [
       "         id  user_id   call_date  duration\n",
       "0   1000_93     1000  2018-12-27      8.52\n",
       "1  1000_145     1000  2018-12-27     13.66\n",
       "2  1000_247     1000  2018-12-27     14.48\n",
       "3  1000_309     1000  2018-12-28      5.76\n",
       "4  1000_380     1000  2018-12-30      4.22\n",
       "5  1000_388     1000  2018-12-31      2.20\n",
       "6  1000_510     1000  2018-12-27      5.75\n",
       "7  1000_521     1000  2018-12-28     14.18\n",
       "8  1000_530     1000  2018-12-28      5.77\n",
       "9  1000_544     1000  2018-12-26      4.40"
      ]
     },
     "execution_count": 18,
     "metadata": {},
     "output_type": "execute_result"
    }
   ],
   "source": [
    "# Print a sample of data for calls\n",
    "\n",
    "df_calls.head(10)"
   ]
  },
  {
   "cell_type": "markdown",
   "metadata": {},
   "source": [
    "No missing values, but the `call_date` column does appear to be in the wrong data type format. Let's rectify that."
   ]
  },
  {
   "cell_type": "markdown",
   "metadata": {},
   "source": [
    "### Fix data"
   ]
  },
  {
   "cell_type": "markdown",
   "metadata": {},
   "source": [
    "[Fix obvious issues with the data given the initial observations.]"
   ]
  },
  {
   "cell_type": "code",
   "execution_count": 19,
   "metadata": {},
   "outputs": [
    {
     "name": "stdout",
     "output_type": "stream",
     "text": [
      "         id  user_id   call_date  duration\n",
      "0   1000_93     1000  2018-12-27       9.0\n",
      "1  1000_145     1000  2018-12-27      14.0\n",
      "2  1000_247     1000  2018-12-27      15.0\n",
      "3  1000_309     1000  2018-12-28       6.0\n",
      "4  1000_380     1000  2018-12-30       5.0\n"
     ]
    }
   ],
   "source": [
    "# Round up seconds to minutes\n",
    "df_calls['duration'] = np.ceil(df_calls['duration'])\n",
    "print(df_calls.head())"
   ]
  },
  {
   "cell_type": "markdown",
   "metadata": {},
   "source": [
    "<div class=\"alert alert-block alert-success\">\n",
    "<b>Reviewer's comment v2:</b>\n",
    "    \n",
    "Ok, great job! Also, great choice of np.ceil () method."
   ]
  },
  {
   "cell_type": "code",
   "execution_count": 20,
   "metadata": {},
   "outputs": [],
   "source": [
    "# Convert duration column to integer\n",
    "df_calls['duration'] = df_calls['duration'].astype('int')"
   ]
  },
  {
   "cell_type": "code",
   "execution_count": 21,
   "metadata": {},
   "outputs": [],
   "source": [
    "# Convert call_date column to datetime\n",
    "df_calls['call_date'] = pd.to_datetime(df_calls['call_date'], format = '%Y-%m-%d')"
   ]
  },
  {
   "cell_type": "code",
   "execution_count": 22,
   "metadata": {},
   "outputs": [
    {
     "data": {
      "text/plain": [
       "1324    1300\n",
       "1077    1224\n",
       "1334    1140\n",
       "1362    1121\n",
       "1320    1080\n",
       "        ... \n",
       "1104       4\n",
       "1452       3\n",
       "1306       3\n",
       "1323       3\n",
       "1034       2\n",
       "Name: user_id, Length: 481, dtype: int64"
      ]
     },
     "execution_count": 22,
     "metadata": {},
     "output_type": "execute_result"
    }
   ],
   "source": [
    "# Checking user_id column\n",
    "df_calls['user_id'].value_counts()"
   ]
  },
  {
   "cell_type": "code",
   "execution_count": 23,
   "metadata": {},
   "outputs": [
    {
     "name": "stdout",
     "output_type": "stream",
     "text": [
      "<class 'pandas.core.frame.DataFrame'>\n",
      "RangeIndex: 137735 entries, 0 to 137734\n",
      "Data columns (total 4 columns):\n",
      " #   Column     Non-Null Count   Dtype         \n",
      "---  ------     --------------   -----         \n",
      " 0   id         137735 non-null  object        \n",
      " 1   user_id    137735 non-null  int64         \n",
      " 2   call_date  137735 non-null  datetime64[ns]\n",
      " 3   duration   137735 non-null  int64         \n",
      "dtypes: datetime64[ns](1), int64(2), object(1)\n",
      "memory usage: 4.2+ MB\n"
     ]
    }
   ],
   "source": [
    "# Print data frame info\n",
    "df_calls.info()"
   ]
  },
  {
   "cell_type": "markdown",
   "metadata": {},
   "source": [
    "### Enrich data"
   ]
  },
  {
   "cell_type": "markdown",
   "metadata": {},
   "source": [
    "Let's add a `month` column to the dataset, it'll help us with our analysis later on."
   ]
  },
  {
   "cell_type": "code",
   "execution_count": 24,
   "metadata": {},
   "outputs": [
    {
     "data": {
      "text/html": [
       "<div>\n",
       "<style scoped>\n",
       "    .dataframe tbody tr th:only-of-type {\n",
       "        vertical-align: middle;\n",
       "    }\n",
       "\n",
       "    .dataframe tbody tr th {\n",
       "        vertical-align: top;\n",
       "    }\n",
       "\n",
       "    .dataframe thead th {\n",
       "        text-align: right;\n",
       "    }\n",
       "</style>\n",
       "<table border=\"1\" class=\"dataframe\">\n",
       "  <thead>\n",
       "    <tr style=\"text-align: right;\">\n",
       "      <th></th>\n",
       "      <th>id</th>\n",
       "      <th>user_id</th>\n",
       "      <th>call_date</th>\n",
       "      <th>duration</th>\n",
       "      <th>month</th>\n",
       "    </tr>\n",
       "  </thead>\n",
       "  <tbody>\n",
       "    <tr>\n",
       "      <th>0</th>\n",
       "      <td>1000_93</td>\n",
       "      <td>1000</td>\n",
       "      <td>2018-12-27</td>\n",
       "      <td>9</td>\n",
       "      <td>12</td>\n",
       "    </tr>\n",
       "    <tr>\n",
       "      <th>1</th>\n",
       "      <td>1000_145</td>\n",
       "      <td>1000</td>\n",
       "      <td>2018-12-27</td>\n",
       "      <td>14</td>\n",
       "      <td>12</td>\n",
       "    </tr>\n",
       "    <tr>\n",
       "      <th>2</th>\n",
       "      <td>1000_247</td>\n",
       "      <td>1000</td>\n",
       "      <td>2018-12-27</td>\n",
       "      <td>15</td>\n",
       "      <td>12</td>\n",
       "    </tr>\n",
       "    <tr>\n",
       "      <th>3</th>\n",
       "      <td>1000_309</td>\n",
       "      <td>1000</td>\n",
       "      <td>2018-12-28</td>\n",
       "      <td>6</td>\n",
       "      <td>12</td>\n",
       "    </tr>\n",
       "    <tr>\n",
       "      <th>4</th>\n",
       "      <td>1000_380</td>\n",
       "      <td>1000</td>\n",
       "      <td>2018-12-30</td>\n",
       "      <td>5</td>\n",
       "      <td>12</td>\n",
       "    </tr>\n",
       "    <tr>\n",
       "      <th>5</th>\n",
       "      <td>1000_388</td>\n",
       "      <td>1000</td>\n",
       "      <td>2018-12-31</td>\n",
       "      <td>3</td>\n",
       "      <td>12</td>\n",
       "    </tr>\n",
       "    <tr>\n",
       "      <th>6</th>\n",
       "      <td>1000_510</td>\n",
       "      <td>1000</td>\n",
       "      <td>2018-12-27</td>\n",
       "      <td>6</td>\n",
       "      <td>12</td>\n",
       "    </tr>\n",
       "    <tr>\n",
       "      <th>7</th>\n",
       "      <td>1000_521</td>\n",
       "      <td>1000</td>\n",
       "      <td>2018-12-28</td>\n",
       "      <td>15</td>\n",
       "      <td>12</td>\n",
       "    </tr>\n",
       "    <tr>\n",
       "      <th>8</th>\n",
       "      <td>1000_530</td>\n",
       "      <td>1000</td>\n",
       "      <td>2018-12-28</td>\n",
       "      <td>6</td>\n",
       "      <td>12</td>\n",
       "    </tr>\n",
       "    <tr>\n",
       "      <th>9</th>\n",
       "      <td>1000_544</td>\n",
       "      <td>1000</td>\n",
       "      <td>2018-12-26</td>\n",
       "      <td>5</td>\n",
       "      <td>12</td>\n",
       "    </tr>\n",
       "  </tbody>\n",
       "</table>\n",
       "</div>"
      ],
      "text/plain": [
       "         id  user_id  call_date  duration  month\n",
       "0   1000_93     1000 2018-12-27         9     12\n",
       "1  1000_145     1000 2018-12-27        14     12\n",
       "2  1000_247     1000 2018-12-27        15     12\n",
       "3  1000_309     1000 2018-12-28         6     12\n",
       "4  1000_380     1000 2018-12-30         5     12\n",
       "5  1000_388     1000 2018-12-31         3     12\n",
       "6  1000_510     1000 2018-12-27         6     12\n",
       "7  1000_521     1000 2018-12-28        15     12\n",
       "8  1000_530     1000 2018-12-28         6     12\n",
       "9  1000_544     1000 2018-12-26         5     12"
      ]
     },
     "execution_count": 24,
     "metadata": {},
     "output_type": "execute_result"
    }
   ],
   "source": [
    "# Add a month column to the dataset\n",
    "df_calls['month'] = pd.DatetimeIndex(df_calls['call_date']).month\n",
    "df_calls.head(10)"
   ]
  },
  {
   "cell_type": "markdown",
   "metadata": {},
   "source": [
    "## Messages"
   ]
  },
  {
   "cell_type": "code",
   "execution_count": 25,
   "metadata": {},
   "outputs": [
    {
     "name": "stdout",
     "output_type": "stream",
     "text": [
      "<class 'pandas.core.frame.DataFrame'>\n",
      "RangeIndex: 76051 entries, 0 to 76050\n",
      "Data columns (total 3 columns):\n",
      " #   Column        Non-Null Count  Dtype \n",
      "---  ------        --------------  ----- \n",
      " 0   id            76051 non-null  object\n",
      " 1   user_id       76051 non-null  int64 \n",
      " 2   message_date  76051 non-null  object\n",
      "dtypes: int64(1), object(2)\n",
      "memory usage: 1.7+ MB\n"
     ]
    }
   ],
   "source": [
    "# Print the general/summary information about the messages' DataFrame\n",
    "\n",
    "df_messages.info()"
   ]
  },
  {
   "cell_type": "code",
   "execution_count": 26,
   "metadata": {},
   "outputs": [
    {
     "data": {
      "text/html": [
       "<div>\n",
       "<style scoped>\n",
       "    .dataframe tbody tr th:only-of-type {\n",
       "        vertical-align: middle;\n",
       "    }\n",
       "\n",
       "    .dataframe tbody tr th {\n",
       "        vertical-align: top;\n",
       "    }\n",
       "\n",
       "    .dataframe thead th {\n",
       "        text-align: right;\n",
       "    }\n",
       "</style>\n",
       "<table border=\"1\" class=\"dataframe\">\n",
       "  <thead>\n",
       "    <tr style=\"text-align: right;\">\n",
       "      <th></th>\n",
       "      <th>id</th>\n",
       "      <th>user_id</th>\n",
       "      <th>message_date</th>\n",
       "    </tr>\n",
       "  </thead>\n",
       "  <tbody>\n",
       "    <tr>\n",
       "      <th>0</th>\n",
       "      <td>1000_125</td>\n",
       "      <td>1000</td>\n",
       "      <td>2018-12-27</td>\n",
       "    </tr>\n",
       "    <tr>\n",
       "      <th>1</th>\n",
       "      <td>1000_160</td>\n",
       "      <td>1000</td>\n",
       "      <td>2018-12-31</td>\n",
       "    </tr>\n",
       "    <tr>\n",
       "      <th>2</th>\n",
       "      <td>1000_223</td>\n",
       "      <td>1000</td>\n",
       "      <td>2018-12-31</td>\n",
       "    </tr>\n",
       "    <tr>\n",
       "      <th>3</th>\n",
       "      <td>1000_251</td>\n",
       "      <td>1000</td>\n",
       "      <td>2018-12-27</td>\n",
       "    </tr>\n",
       "    <tr>\n",
       "      <th>4</th>\n",
       "      <td>1000_255</td>\n",
       "      <td>1000</td>\n",
       "      <td>2018-12-26</td>\n",
       "    </tr>\n",
       "    <tr>\n",
       "      <th>5</th>\n",
       "      <td>1000_346</td>\n",
       "      <td>1000</td>\n",
       "      <td>2018-12-29</td>\n",
       "    </tr>\n",
       "    <tr>\n",
       "      <th>6</th>\n",
       "      <td>1000_386</td>\n",
       "      <td>1000</td>\n",
       "      <td>2018-12-30</td>\n",
       "    </tr>\n",
       "    <tr>\n",
       "      <th>7</th>\n",
       "      <td>1000_413</td>\n",
       "      <td>1000</td>\n",
       "      <td>2018-12-31</td>\n",
       "    </tr>\n",
       "    <tr>\n",
       "      <th>8</th>\n",
       "      <td>1000_502</td>\n",
       "      <td>1000</td>\n",
       "      <td>2018-12-27</td>\n",
       "    </tr>\n",
       "    <tr>\n",
       "      <th>9</th>\n",
       "      <td>1000_525</td>\n",
       "      <td>1000</td>\n",
       "      <td>2018-12-28</td>\n",
       "    </tr>\n",
       "  </tbody>\n",
       "</table>\n",
       "</div>"
      ],
      "text/plain": [
       "         id  user_id message_date\n",
       "0  1000_125     1000   2018-12-27\n",
       "1  1000_160     1000   2018-12-31\n",
       "2  1000_223     1000   2018-12-31\n",
       "3  1000_251     1000   2018-12-27\n",
       "4  1000_255     1000   2018-12-26\n",
       "5  1000_346     1000   2018-12-29\n",
       "6  1000_386     1000   2018-12-30\n",
       "7  1000_413     1000   2018-12-31\n",
       "8  1000_502     1000   2018-12-27\n",
       "9  1000_525     1000   2018-12-28"
      ]
     },
     "execution_count": 26,
     "metadata": {},
     "output_type": "execute_result"
    }
   ],
   "source": [
    "# Print a sample of data for messages\n",
    "\n",
    "df_messages.head(10)"
   ]
  },
  {
   "cell_type": "markdown",
   "metadata": {},
   "source": [
    "No missing values, still the issue of data type in the `message_date` column."
   ]
  },
  {
   "cell_type": "markdown",
   "metadata": {},
   "source": [
    "### Fix data"
   ]
  },
  {
   "cell_type": "code",
   "execution_count": 27,
   "metadata": {},
   "outputs": [],
   "source": [
    "#convert message_date column to datetime\n",
    "df_messages['message_date'] = pd.to_datetime(df_messages['message_date'], format= '%Y-%m-%d')"
   ]
  },
  {
   "cell_type": "code",
   "execution_count": 28,
   "metadata": {},
   "outputs": [
    {
     "name": "stdout",
     "output_type": "stream",
     "text": [
      "<class 'pandas.core.frame.DataFrame'>\n",
      "RangeIndex: 76051 entries, 0 to 76050\n",
      "Data columns (total 3 columns):\n",
      " #   Column        Non-Null Count  Dtype         \n",
      "---  ------        --------------  -----         \n",
      " 0   id            76051 non-null  object        \n",
      " 1   user_id       76051 non-null  int64         \n",
      " 2   message_date  76051 non-null  datetime64[ns]\n",
      "dtypes: datetime64[ns](1), int64(1), object(1)\n",
      "memory usage: 1.7+ MB\n"
     ]
    }
   ],
   "source": [
    "# print dataframe info \n",
    "df_messages.info()"
   ]
  },
  {
   "cell_type": "markdown",
   "metadata": {},
   "source": [
    "### Enrich data"
   ]
  },
  {
   "cell_type": "markdown",
   "metadata": {},
   "source": [
    "Let's add a `month` column here too"
   ]
  },
  {
   "cell_type": "code",
   "execution_count": 29,
   "metadata": {},
   "outputs": [
    {
     "data": {
      "text/html": [
       "<div>\n",
       "<style scoped>\n",
       "    .dataframe tbody tr th:only-of-type {\n",
       "        vertical-align: middle;\n",
       "    }\n",
       "\n",
       "    .dataframe tbody tr th {\n",
       "        vertical-align: top;\n",
       "    }\n",
       "\n",
       "    .dataframe thead th {\n",
       "        text-align: right;\n",
       "    }\n",
       "</style>\n",
       "<table border=\"1\" class=\"dataframe\">\n",
       "  <thead>\n",
       "    <tr style=\"text-align: right;\">\n",
       "      <th></th>\n",
       "      <th>id</th>\n",
       "      <th>user_id</th>\n",
       "      <th>message_date</th>\n",
       "      <th>month</th>\n",
       "    </tr>\n",
       "  </thead>\n",
       "  <tbody>\n",
       "    <tr>\n",
       "      <th>0</th>\n",
       "      <td>1000_125</td>\n",
       "      <td>1000</td>\n",
       "      <td>2018-12-27</td>\n",
       "      <td>12</td>\n",
       "    </tr>\n",
       "    <tr>\n",
       "      <th>1</th>\n",
       "      <td>1000_160</td>\n",
       "      <td>1000</td>\n",
       "      <td>2018-12-31</td>\n",
       "      <td>12</td>\n",
       "    </tr>\n",
       "    <tr>\n",
       "      <th>2</th>\n",
       "      <td>1000_223</td>\n",
       "      <td>1000</td>\n",
       "      <td>2018-12-31</td>\n",
       "      <td>12</td>\n",
       "    </tr>\n",
       "    <tr>\n",
       "      <th>3</th>\n",
       "      <td>1000_251</td>\n",
       "      <td>1000</td>\n",
       "      <td>2018-12-27</td>\n",
       "      <td>12</td>\n",
       "    </tr>\n",
       "    <tr>\n",
       "      <th>4</th>\n",
       "      <td>1000_255</td>\n",
       "      <td>1000</td>\n",
       "      <td>2018-12-26</td>\n",
       "      <td>12</td>\n",
       "    </tr>\n",
       "    <tr>\n",
       "      <th>5</th>\n",
       "      <td>1000_346</td>\n",
       "      <td>1000</td>\n",
       "      <td>2018-12-29</td>\n",
       "      <td>12</td>\n",
       "    </tr>\n",
       "    <tr>\n",
       "      <th>6</th>\n",
       "      <td>1000_386</td>\n",
       "      <td>1000</td>\n",
       "      <td>2018-12-30</td>\n",
       "      <td>12</td>\n",
       "    </tr>\n",
       "    <tr>\n",
       "      <th>7</th>\n",
       "      <td>1000_413</td>\n",
       "      <td>1000</td>\n",
       "      <td>2018-12-31</td>\n",
       "      <td>12</td>\n",
       "    </tr>\n",
       "    <tr>\n",
       "      <th>8</th>\n",
       "      <td>1000_502</td>\n",
       "      <td>1000</td>\n",
       "      <td>2018-12-27</td>\n",
       "      <td>12</td>\n",
       "    </tr>\n",
       "    <tr>\n",
       "      <th>9</th>\n",
       "      <td>1000_525</td>\n",
       "      <td>1000</td>\n",
       "      <td>2018-12-28</td>\n",
       "      <td>12</td>\n",
       "    </tr>\n",
       "  </tbody>\n",
       "</table>\n",
       "</div>"
      ],
      "text/plain": [
       "         id  user_id message_date  month\n",
       "0  1000_125     1000   2018-12-27     12\n",
       "1  1000_160     1000   2018-12-31     12\n",
       "2  1000_223     1000   2018-12-31     12\n",
       "3  1000_251     1000   2018-12-27     12\n",
       "4  1000_255     1000   2018-12-26     12\n",
       "5  1000_346     1000   2018-12-29     12\n",
       "6  1000_386     1000   2018-12-30     12\n",
       "7  1000_413     1000   2018-12-31     12\n",
       "8  1000_502     1000   2018-12-27     12\n",
       "9  1000_525     1000   2018-12-28     12"
      ]
     },
     "execution_count": 29,
     "metadata": {},
     "output_type": "execute_result"
    }
   ],
   "source": [
    "# Add a month column to the dataset\n",
    "df_messages['month'] = pd.DatetimeIndex(df_messages['message_date']).month\n",
    "df_messages.head(10)"
   ]
  },
  {
   "cell_type": "markdown",
   "metadata": {},
   "source": [
    "## Internet"
   ]
  },
  {
   "cell_type": "code",
   "execution_count": 30,
   "metadata": {},
   "outputs": [
    {
     "name": "stdout",
     "output_type": "stream",
     "text": [
      "<class 'pandas.core.frame.DataFrame'>\n",
      "RangeIndex: 104825 entries, 0 to 104824\n",
      "Data columns (total 4 columns):\n",
      " #   Column        Non-Null Count   Dtype  \n",
      "---  ------        --------------   -----  \n",
      " 0   id            104825 non-null  object \n",
      " 1   user_id       104825 non-null  int64  \n",
      " 2   session_date  104825 non-null  object \n",
      " 3   mb_used       104825 non-null  float64\n",
      "dtypes: float64(1), int64(1), object(2)\n",
      "memory usage: 3.2+ MB\n"
     ]
    }
   ],
   "source": [
    "# Print the general/summary information about the internet DataFrame\n",
    "df_internet.info()\n"
   ]
  },
  {
   "cell_type": "code",
   "execution_count": 31,
   "metadata": {},
   "outputs": [
    {
     "data": {
      "text/html": [
       "<div>\n",
       "<style scoped>\n",
       "    .dataframe tbody tr th:only-of-type {\n",
       "        vertical-align: middle;\n",
       "    }\n",
       "\n",
       "    .dataframe tbody tr th {\n",
       "        vertical-align: top;\n",
       "    }\n",
       "\n",
       "    .dataframe thead th {\n",
       "        text-align: right;\n",
       "    }\n",
       "</style>\n",
       "<table border=\"1\" class=\"dataframe\">\n",
       "  <thead>\n",
       "    <tr style=\"text-align: right;\">\n",
       "      <th></th>\n",
       "      <th>id</th>\n",
       "      <th>user_id</th>\n",
       "      <th>session_date</th>\n",
       "      <th>mb_used</th>\n",
       "    </tr>\n",
       "  </thead>\n",
       "  <tbody>\n",
       "    <tr>\n",
       "      <th>0</th>\n",
       "      <td>1000_13</td>\n",
       "      <td>1000</td>\n",
       "      <td>2018-12-29</td>\n",
       "      <td>89.86</td>\n",
       "    </tr>\n",
       "    <tr>\n",
       "      <th>1</th>\n",
       "      <td>1000_204</td>\n",
       "      <td>1000</td>\n",
       "      <td>2018-12-31</td>\n",
       "      <td>0.00</td>\n",
       "    </tr>\n",
       "    <tr>\n",
       "      <th>2</th>\n",
       "      <td>1000_379</td>\n",
       "      <td>1000</td>\n",
       "      <td>2018-12-28</td>\n",
       "      <td>660.40</td>\n",
       "    </tr>\n",
       "    <tr>\n",
       "      <th>3</th>\n",
       "      <td>1000_413</td>\n",
       "      <td>1000</td>\n",
       "      <td>2018-12-26</td>\n",
       "      <td>270.99</td>\n",
       "    </tr>\n",
       "    <tr>\n",
       "      <th>4</th>\n",
       "      <td>1000_442</td>\n",
       "      <td>1000</td>\n",
       "      <td>2018-12-27</td>\n",
       "      <td>880.22</td>\n",
       "    </tr>\n",
       "    <tr>\n",
       "      <th>5</th>\n",
       "      <td>1001_0</td>\n",
       "      <td>1001</td>\n",
       "      <td>2018-08-24</td>\n",
       "      <td>284.68</td>\n",
       "    </tr>\n",
       "    <tr>\n",
       "      <th>6</th>\n",
       "      <td>1001_3</td>\n",
       "      <td>1001</td>\n",
       "      <td>2018-12-09</td>\n",
       "      <td>656.04</td>\n",
       "    </tr>\n",
       "    <tr>\n",
       "      <th>7</th>\n",
       "      <td>1001_4</td>\n",
       "      <td>1001</td>\n",
       "      <td>2018-11-04</td>\n",
       "      <td>16.97</td>\n",
       "    </tr>\n",
       "    <tr>\n",
       "      <th>8</th>\n",
       "      <td>1001_10</td>\n",
       "      <td>1001</td>\n",
       "      <td>2018-11-27</td>\n",
       "      <td>135.18</td>\n",
       "    </tr>\n",
       "    <tr>\n",
       "      <th>9</th>\n",
       "      <td>1001_15</td>\n",
       "      <td>1001</td>\n",
       "      <td>2018-12-13</td>\n",
       "      <td>761.92</td>\n",
       "    </tr>\n",
       "  </tbody>\n",
       "</table>\n",
       "</div>"
      ],
      "text/plain": [
       "         id  user_id session_date  mb_used\n",
       "0   1000_13     1000   2018-12-29    89.86\n",
       "1  1000_204     1000   2018-12-31     0.00\n",
       "2  1000_379     1000   2018-12-28   660.40\n",
       "3  1000_413     1000   2018-12-26   270.99\n",
       "4  1000_442     1000   2018-12-27   880.22\n",
       "5    1001_0     1001   2018-08-24   284.68\n",
       "6    1001_3     1001   2018-12-09   656.04\n",
       "7    1001_4     1001   2018-11-04    16.97\n",
       "8   1001_10     1001   2018-11-27   135.18\n",
       "9   1001_15     1001   2018-12-13   761.92"
      ]
     },
     "execution_count": 31,
     "metadata": {},
     "output_type": "execute_result"
    }
   ],
   "source": [
    "# Print a sample of data for the internet traffic\n",
    "\n",
    "df_internet.head(10)"
   ]
  },
  {
   "cell_type": "markdown",
   "metadata": {},
   "source": [
    "Same problem with inappropriate data type in the `session_date` column. Let's work on that."
   ]
  },
  {
   "cell_type": "markdown",
   "metadata": {},
   "source": [
    " "
   ]
  },
  {
   "cell_type": "markdown",
   "metadata": {},
   "source": [
    "### Fix data"
   ]
  },
  {
   "cell_type": "markdown",
   "metadata": {},
   "source": [
    "[Fix obvious issues with the data given the initial observations.]"
   ]
  },
  {
   "cell_type": "code",
   "execution_count": null,
   "metadata": {},
   "outputs": [],
   "source": []
  },
  {
   "cell_type": "code",
   "execution_count": 32,
   "metadata": {},
   "outputs": [],
   "source": [
    "# Convert session_date column to datetime\n",
    "df_internet['session_date'] = pd.to_datetime(df_internet['session_date'], format= '%Y-%m-%d')"
   ]
  },
  {
   "cell_type": "code",
   "execution_count": 33,
   "metadata": {},
   "outputs": [
    {
     "name": "stdout",
     "output_type": "stream",
     "text": [
      "<class 'pandas.core.frame.DataFrame'>\n",
      "RangeIndex: 104825 entries, 0 to 104824\n",
      "Data columns (total 4 columns):\n",
      " #   Column        Non-Null Count   Dtype         \n",
      "---  ------        --------------   -----         \n",
      " 0   id            104825 non-null  object        \n",
      " 1   user_id       104825 non-null  int64         \n",
      " 2   session_date  104825 non-null  datetime64[ns]\n",
      " 3   mb_used       104825 non-null  float64       \n",
      "dtypes: datetime64[ns](1), float64(1), int64(1), object(1)\n",
      "memory usage: 3.2+ MB\n"
     ]
    }
   ],
   "source": [
    "# print data frame info\n",
    "df_internet.info()"
   ]
  },
  {
   "cell_type": "markdown",
   "metadata": {},
   "source": [
    "### Enrich data"
   ]
  },
  {
   "cell_type": "markdown",
   "metadata": {},
   "source": [
    "And we'll add a `month` column here."
   ]
  },
  {
   "cell_type": "code",
   "execution_count": 34,
   "metadata": {},
   "outputs": [
    {
     "data": {
      "text/html": [
       "<div>\n",
       "<style scoped>\n",
       "    .dataframe tbody tr th:only-of-type {\n",
       "        vertical-align: middle;\n",
       "    }\n",
       "\n",
       "    .dataframe tbody tr th {\n",
       "        vertical-align: top;\n",
       "    }\n",
       "\n",
       "    .dataframe thead th {\n",
       "        text-align: right;\n",
       "    }\n",
       "</style>\n",
       "<table border=\"1\" class=\"dataframe\">\n",
       "  <thead>\n",
       "    <tr style=\"text-align: right;\">\n",
       "      <th></th>\n",
       "      <th>id</th>\n",
       "      <th>user_id</th>\n",
       "      <th>session_date</th>\n",
       "      <th>mb_used</th>\n",
       "      <th>month</th>\n",
       "    </tr>\n",
       "  </thead>\n",
       "  <tbody>\n",
       "    <tr>\n",
       "      <th>0</th>\n",
       "      <td>1000_13</td>\n",
       "      <td>1000</td>\n",
       "      <td>2018-12-29</td>\n",
       "      <td>89.86</td>\n",
       "      <td>12</td>\n",
       "    </tr>\n",
       "    <tr>\n",
       "      <th>1</th>\n",
       "      <td>1000_204</td>\n",
       "      <td>1000</td>\n",
       "      <td>2018-12-31</td>\n",
       "      <td>0.00</td>\n",
       "      <td>12</td>\n",
       "    </tr>\n",
       "    <tr>\n",
       "      <th>2</th>\n",
       "      <td>1000_379</td>\n",
       "      <td>1000</td>\n",
       "      <td>2018-12-28</td>\n",
       "      <td>660.40</td>\n",
       "      <td>12</td>\n",
       "    </tr>\n",
       "    <tr>\n",
       "      <th>3</th>\n",
       "      <td>1000_413</td>\n",
       "      <td>1000</td>\n",
       "      <td>2018-12-26</td>\n",
       "      <td>270.99</td>\n",
       "      <td>12</td>\n",
       "    </tr>\n",
       "    <tr>\n",
       "      <th>4</th>\n",
       "      <td>1000_442</td>\n",
       "      <td>1000</td>\n",
       "      <td>2018-12-27</td>\n",
       "      <td>880.22</td>\n",
       "      <td>12</td>\n",
       "    </tr>\n",
       "    <tr>\n",
       "      <th>5</th>\n",
       "      <td>1001_0</td>\n",
       "      <td>1001</td>\n",
       "      <td>2018-08-24</td>\n",
       "      <td>284.68</td>\n",
       "      <td>8</td>\n",
       "    </tr>\n",
       "    <tr>\n",
       "      <th>6</th>\n",
       "      <td>1001_3</td>\n",
       "      <td>1001</td>\n",
       "      <td>2018-12-09</td>\n",
       "      <td>656.04</td>\n",
       "      <td>12</td>\n",
       "    </tr>\n",
       "    <tr>\n",
       "      <th>7</th>\n",
       "      <td>1001_4</td>\n",
       "      <td>1001</td>\n",
       "      <td>2018-11-04</td>\n",
       "      <td>16.97</td>\n",
       "      <td>11</td>\n",
       "    </tr>\n",
       "    <tr>\n",
       "      <th>8</th>\n",
       "      <td>1001_10</td>\n",
       "      <td>1001</td>\n",
       "      <td>2018-11-27</td>\n",
       "      <td>135.18</td>\n",
       "      <td>11</td>\n",
       "    </tr>\n",
       "    <tr>\n",
       "      <th>9</th>\n",
       "      <td>1001_15</td>\n",
       "      <td>1001</td>\n",
       "      <td>2018-12-13</td>\n",
       "      <td>761.92</td>\n",
       "      <td>12</td>\n",
       "    </tr>\n",
       "  </tbody>\n",
       "</table>\n",
       "</div>"
      ],
      "text/plain": [
       "         id  user_id session_date  mb_used  month\n",
       "0   1000_13     1000   2018-12-29    89.86     12\n",
       "1  1000_204     1000   2018-12-31     0.00     12\n",
       "2  1000_379     1000   2018-12-28   660.40     12\n",
       "3  1000_413     1000   2018-12-26   270.99     12\n",
       "4  1000_442     1000   2018-12-27   880.22     12\n",
       "5    1001_0     1001   2018-08-24   284.68      8\n",
       "6    1001_3     1001   2018-12-09   656.04     12\n",
       "7    1001_4     1001   2018-11-04    16.97     11\n",
       "8   1001_10     1001   2018-11-27   135.18     11\n",
       "9   1001_15     1001   2018-12-13   761.92     12"
      ]
     },
     "execution_count": 34,
     "metadata": {},
     "output_type": "execute_result"
    }
   ],
   "source": [
    "# Add a month column to the dataset\n",
    "df_internet['month'] = pd.DatetimeIndex(df_internet['session_date']).month\n",
    "df_internet.head(10)"
   ]
  },
  {
   "cell_type": "markdown",
   "metadata": {},
   "source": [
    "## Study plan conditions"
   ]
  },
  {
   "cell_type": "markdown",
   "metadata": {},
   "source": [
    "It is critical to understand how the plans work, how users are charged based on their plan subscription. So, it's best to print out the plan information to view their conditions once again."
   ]
  },
  {
   "cell_type": "code",
   "execution_count": 35,
   "metadata": {},
   "outputs": [
    {
     "data": {
      "text/html": [
       "<div>\n",
       "<style scoped>\n",
       "    .dataframe tbody tr th:only-of-type {\n",
       "        vertical-align: middle;\n",
       "    }\n",
       "\n",
       "    .dataframe tbody tr th {\n",
       "        vertical-align: top;\n",
       "    }\n",
       "\n",
       "    .dataframe thead th {\n",
       "        text-align: right;\n",
       "    }\n",
       "</style>\n",
       "<table border=\"1\" class=\"dataframe\">\n",
       "  <thead>\n",
       "    <tr style=\"text-align: right;\">\n",
       "      <th></th>\n",
       "      <th>messages_included</th>\n",
       "      <th>mb_per_month_included</th>\n",
       "      <th>minutes_included</th>\n",
       "      <th>usd_monthly_pay</th>\n",
       "      <th>usd_per_gb</th>\n",
       "      <th>usd_per_message</th>\n",
       "      <th>usd_per_minute</th>\n",
       "      <th>plan_name</th>\n",
       "    </tr>\n",
       "  </thead>\n",
       "  <tbody>\n",
       "    <tr>\n",
       "      <th>0</th>\n",
       "      <td>50</td>\n",
       "      <td>15360</td>\n",
       "      <td>500</td>\n",
       "      <td>20</td>\n",
       "      <td>10</td>\n",
       "      <td>0.03</td>\n",
       "      <td>0.03</td>\n",
       "      <td>surf</td>\n",
       "    </tr>\n",
       "    <tr>\n",
       "      <th>1</th>\n",
       "      <td>1000</td>\n",
       "      <td>30720</td>\n",
       "      <td>3000</td>\n",
       "      <td>70</td>\n",
       "      <td>7</td>\n",
       "      <td>0.01</td>\n",
       "      <td>0.01</td>\n",
       "      <td>ultimate</td>\n",
       "    </tr>\n",
       "  </tbody>\n",
       "</table>\n",
       "</div>"
      ],
      "text/plain": [
       "   messages_included  mb_per_month_included  minutes_included  \\\n",
       "0                 50                  15360               500   \n",
       "1               1000                  30720              3000   \n",
       "\n",
       "   usd_monthly_pay  usd_per_gb  usd_per_message  usd_per_minute plan_name  \n",
       "0               20          10             0.03            0.03      surf  \n",
       "1               70           7             0.01            0.01  ultimate  "
      ]
     },
     "execution_count": 35,
     "metadata": {},
     "output_type": "execute_result"
    }
   ],
   "source": [
    "# Print out the plan conditions and make sure they are clear \n",
    "\n",
    "df_plans"
   ]
  },
  {
   "cell_type": "markdown",
   "metadata": {},
   "source": [
    "## Aggregate data per user\n",
    "\n",
    "Now, as the data is clean, let's aggregate data per user per period in order to have just one record per user per period. It should ease the further analysis a lot."
   ]
  },
  {
   "cell_type": "code",
   "execution_count": 36,
   "metadata": {},
   "outputs": [
    {
     "data": {
      "text/html": [
       "<div>\n",
       "<style scoped>\n",
       "    .dataframe tbody tr th:only-of-type {\n",
       "        vertical-align: middle;\n",
       "    }\n",
       "\n",
       "    .dataframe tbody tr th {\n",
       "        vertical-align: top;\n",
       "    }\n",
       "\n",
       "    .dataframe thead th {\n",
       "        text-align: right;\n",
       "    }\n",
       "</style>\n",
       "<table border=\"1\" class=\"dataframe\">\n",
       "  <thead>\n",
       "    <tr style=\"text-align: right;\">\n",
       "      <th></th>\n",
       "      <th>user_id</th>\n",
       "      <th>month</th>\n",
       "      <th>call_date</th>\n",
       "    </tr>\n",
       "  </thead>\n",
       "  <tbody>\n",
       "    <tr>\n",
       "      <th>0</th>\n",
       "      <td>1000</td>\n",
       "      <td>12</td>\n",
       "      <td>16</td>\n",
       "    </tr>\n",
       "    <tr>\n",
       "      <th>1</th>\n",
       "      <td>1001</td>\n",
       "      <td>8</td>\n",
       "      <td>27</td>\n",
       "    </tr>\n",
       "    <tr>\n",
       "      <th>2</th>\n",
       "      <td>1001</td>\n",
       "      <td>9</td>\n",
       "      <td>49</td>\n",
       "    </tr>\n",
       "    <tr>\n",
       "      <th>3</th>\n",
       "      <td>1001</td>\n",
       "      <td>10</td>\n",
       "      <td>65</td>\n",
       "    </tr>\n",
       "    <tr>\n",
       "      <th>4</th>\n",
       "      <td>1001</td>\n",
       "      <td>11</td>\n",
       "      <td>64</td>\n",
       "    </tr>\n",
       "    <tr>\n",
       "      <th>...</th>\n",
       "      <td>...</td>\n",
       "      <td>...</td>\n",
       "      <td>...</td>\n",
       "    </tr>\n",
       "    <tr>\n",
       "      <th>2253</th>\n",
       "      <td>1498</td>\n",
       "      <td>12</td>\n",
       "      <td>39</td>\n",
       "    </tr>\n",
       "    <tr>\n",
       "      <th>2254</th>\n",
       "      <td>1499</td>\n",
       "      <td>9</td>\n",
       "      <td>41</td>\n",
       "    </tr>\n",
       "    <tr>\n",
       "      <th>2255</th>\n",
       "      <td>1499</td>\n",
       "      <td>10</td>\n",
       "      <td>53</td>\n",
       "    </tr>\n",
       "    <tr>\n",
       "      <th>2256</th>\n",
       "      <td>1499</td>\n",
       "      <td>11</td>\n",
       "      <td>45</td>\n",
       "    </tr>\n",
       "    <tr>\n",
       "      <th>2257</th>\n",
       "      <td>1499</td>\n",
       "      <td>12</td>\n",
       "      <td>65</td>\n",
       "    </tr>\n",
       "  </tbody>\n",
       "</table>\n",
       "<p>2258 rows × 3 columns</p>\n",
       "</div>"
      ],
      "text/plain": [
       "      user_id  month  call_date\n",
       "0        1000     12         16\n",
       "1        1001      8         27\n",
       "2        1001      9         49\n",
       "3        1001     10         65\n",
       "4        1001     11         64\n",
       "...       ...    ...        ...\n",
       "2253     1498     12         39\n",
       "2254     1499      9         41\n",
       "2255     1499     10         53\n",
       "2256     1499     11         45\n",
       "2257     1499     12         65\n",
       "\n",
       "[2258 rows x 3 columns]"
      ]
     },
     "metadata": {},
     "output_type": "display_data"
    }
   ],
   "source": [
    "# Calculate the number of calls made by each user per month. Save the result.\n",
    "\n",
    "calls_per_month = df_calls.pivot_table(index= ['user_id', 'month'], values = 'call_date', aggfunc = 'count').reset_index()\n",
    "display(calls_per_month)"
   ]
  },
  {
   "cell_type": "markdown",
   "metadata": {},
   "source": [
    "<div class=\"alert alert-block alert-warning\">\n",
    "<b>Reviewer's comment v1:</b>\n",
    "    \n",
    "In pivot_table or groupby it is possible to pass multiple arguments, so here, you can create an aggregated table in one go like this:\n",
    "\n",
    "    data_calls.groupby(['user_id','month']).agg({'duration' : ('count','sum')}).reset_index()\n",
    "\n",
    "or\n",
    "    \n",
    "    data_calls.pivot_table(index = ('user_id','month'), values = 'duration', aggfunc = ('count','sum')).reset_index()"
   ]
  },
  {
   "cell_type": "code",
   "execution_count": 37,
   "metadata": {},
   "outputs": [
    {
     "data": {
      "text/html": [
       "<div>\n",
       "<style scoped>\n",
       "    .dataframe tbody tr th:only-of-type {\n",
       "        vertical-align: middle;\n",
       "    }\n",
       "\n",
       "    .dataframe tbody tr th {\n",
       "        vertical-align: top;\n",
       "    }\n",
       "\n",
       "    .dataframe thead th {\n",
       "        text-align: right;\n",
       "    }\n",
       "</style>\n",
       "<table border=\"1\" class=\"dataframe\">\n",
       "  <thead>\n",
       "    <tr style=\"text-align: right;\">\n",
       "      <th></th>\n",
       "      <th>user_id</th>\n",
       "      <th>month</th>\n",
       "      <th>duration</th>\n",
       "    </tr>\n",
       "  </thead>\n",
       "  <tbody>\n",
       "    <tr>\n",
       "      <th>0</th>\n",
       "      <td>1000</td>\n",
       "      <td>12</td>\n",
       "      <td>124</td>\n",
       "    </tr>\n",
       "    <tr>\n",
       "      <th>1</th>\n",
       "      <td>1001</td>\n",
       "      <td>8</td>\n",
       "      <td>182</td>\n",
       "    </tr>\n",
       "    <tr>\n",
       "      <th>2</th>\n",
       "      <td>1001</td>\n",
       "      <td>9</td>\n",
       "      <td>315</td>\n",
       "    </tr>\n",
       "    <tr>\n",
       "      <th>3</th>\n",
       "      <td>1001</td>\n",
       "      <td>10</td>\n",
       "      <td>393</td>\n",
       "    </tr>\n",
       "    <tr>\n",
       "      <th>4</th>\n",
       "      <td>1001</td>\n",
       "      <td>11</td>\n",
       "      <td>426</td>\n",
       "    </tr>\n",
       "    <tr>\n",
       "      <th>...</th>\n",
       "      <td>...</td>\n",
       "      <td>...</td>\n",
       "      <td>...</td>\n",
       "    </tr>\n",
       "    <tr>\n",
       "      <th>2253</th>\n",
       "      <td>1498</td>\n",
       "      <td>12</td>\n",
       "      <td>339</td>\n",
       "    </tr>\n",
       "    <tr>\n",
       "      <th>2254</th>\n",
       "      <td>1499</td>\n",
       "      <td>9</td>\n",
       "      <td>346</td>\n",
       "    </tr>\n",
       "    <tr>\n",
       "      <th>2255</th>\n",
       "      <td>1499</td>\n",
       "      <td>10</td>\n",
       "      <td>385</td>\n",
       "    </tr>\n",
       "    <tr>\n",
       "      <th>2256</th>\n",
       "      <td>1499</td>\n",
       "      <td>11</td>\n",
       "      <td>308</td>\n",
       "    </tr>\n",
       "    <tr>\n",
       "      <th>2257</th>\n",
       "      <td>1499</td>\n",
       "      <td>12</td>\n",
       "      <td>496</td>\n",
       "    </tr>\n",
       "  </tbody>\n",
       "</table>\n",
       "<p>2258 rows × 3 columns</p>\n",
       "</div>"
      ],
      "text/plain": [
       "      user_id  month  duration\n",
       "0        1000     12       124\n",
       "1        1001      8       182\n",
       "2        1001      9       315\n",
       "3        1001     10       393\n",
       "4        1001     11       426\n",
       "...       ...    ...       ...\n",
       "2253     1498     12       339\n",
       "2254     1499      9       346\n",
       "2255     1499     10       385\n",
       "2256     1499     11       308\n",
       "2257     1499     12       496\n",
       "\n",
       "[2258 rows x 3 columns]"
      ]
     },
     "metadata": {},
     "output_type": "display_data"
    }
   ],
   "source": [
    "# Calculate the amount of minutes spent by each user per month. Save the result.\n",
    "\n",
    "minutes_per_month = df_calls.pivot_table(index= ['user_id', 'month'], values = 'duration', aggfunc = 'sum').reset_index()\n",
    "display(minutes_per_month)"
   ]
  },
  {
   "cell_type": "markdown",
   "metadata": {},
   "source": [
    "<div class=\"alert alert-block alert-danger\">\n",
    "<b>Reviewer's comment v1:</b>\n",
    "    \n",
    "- Please note that the telecom operator rounds up all minutes and traffic values.\n",
    "\n",
    "`Note: Megaline rounds seconds up to minutes, and megabytes to gigabytes. For calls, each individual call is rounded up: even if the call lasted just one second, it will be counted as one minute. For web traffic, individual web sessions are not rounded up. Instead, the total for the month is rounded up. If someone uses 1025 megabytes this month, they will be charged for 2 gigabytes.`\n",
    "\n",
    "Can you please add data rounding?"
   ]
  },
  {
   "cell_type": "markdown",
   "metadata": {},
   "source": [
    "Data rounding has been added. Though for `mb_used`, the function can be seen in the latter cells"
   ]
  },
  {
   "cell_type": "code",
   "execution_count": 38,
   "metadata": {},
   "outputs": [
    {
     "data": {
      "text/html": [
       "<div>\n",
       "<style scoped>\n",
       "    .dataframe tbody tr th:only-of-type {\n",
       "        vertical-align: middle;\n",
       "    }\n",
       "\n",
       "    .dataframe tbody tr th {\n",
       "        vertical-align: top;\n",
       "    }\n",
       "\n",
       "    .dataframe thead th {\n",
       "        text-align: right;\n",
       "    }\n",
       "</style>\n",
       "<table border=\"1\" class=\"dataframe\">\n",
       "  <thead>\n",
       "    <tr style=\"text-align: right;\">\n",
       "      <th></th>\n",
       "      <th>user_id</th>\n",
       "      <th>month</th>\n",
       "      <th>message_date</th>\n",
       "    </tr>\n",
       "  </thead>\n",
       "  <tbody>\n",
       "    <tr>\n",
       "      <th>0</th>\n",
       "      <td>1000</td>\n",
       "      <td>12</td>\n",
       "      <td>11</td>\n",
       "    </tr>\n",
       "    <tr>\n",
       "      <th>1</th>\n",
       "      <td>1001</td>\n",
       "      <td>8</td>\n",
       "      <td>30</td>\n",
       "    </tr>\n",
       "    <tr>\n",
       "      <th>2</th>\n",
       "      <td>1001</td>\n",
       "      <td>9</td>\n",
       "      <td>44</td>\n",
       "    </tr>\n",
       "    <tr>\n",
       "      <th>3</th>\n",
       "      <td>1001</td>\n",
       "      <td>10</td>\n",
       "      <td>53</td>\n",
       "    </tr>\n",
       "    <tr>\n",
       "      <th>4</th>\n",
       "      <td>1001</td>\n",
       "      <td>11</td>\n",
       "      <td>36</td>\n",
       "    </tr>\n",
       "    <tr>\n",
       "      <th>...</th>\n",
       "      <td>...</td>\n",
       "      <td>...</td>\n",
       "      <td>...</td>\n",
       "    </tr>\n",
       "    <tr>\n",
       "      <th>1801</th>\n",
       "      <td>1496</td>\n",
       "      <td>9</td>\n",
       "      <td>21</td>\n",
       "    </tr>\n",
       "    <tr>\n",
       "      <th>1802</th>\n",
       "      <td>1496</td>\n",
       "      <td>10</td>\n",
       "      <td>18</td>\n",
       "    </tr>\n",
       "    <tr>\n",
       "      <th>1803</th>\n",
       "      <td>1496</td>\n",
       "      <td>11</td>\n",
       "      <td>13</td>\n",
       "    </tr>\n",
       "    <tr>\n",
       "      <th>1804</th>\n",
       "      <td>1496</td>\n",
       "      <td>12</td>\n",
       "      <td>11</td>\n",
       "    </tr>\n",
       "    <tr>\n",
       "      <th>1805</th>\n",
       "      <td>1497</td>\n",
       "      <td>12</td>\n",
       "      <td>50</td>\n",
       "    </tr>\n",
       "  </tbody>\n",
       "</table>\n",
       "<p>1806 rows × 3 columns</p>\n",
       "</div>"
      ],
      "text/plain": [
       "      user_id  month  message_date\n",
       "0        1000     12            11\n",
       "1        1001      8            30\n",
       "2        1001      9            44\n",
       "3        1001     10            53\n",
       "4        1001     11            36\n",
       "...       ...    ...           ...\n",
       "1801     1496      9            21\n",
       "1802     1496     10            18\n",
       "1803     1496     11            13\n",
       "1804     1496     12            11\n",
       "1805     1497     12            50\n",
       "\n",
       "[1806 rows x 3 columns]"
      ]
     },
     "metadata": {},
     "output_type": "display_data"
    }
   ],
   "source": [
    "# Calculate the number of messages sent by each user per month. Save the result.\n",
    "\n",
    "messages_per_month = df_messages.pivot_table(index= ['user_id', 'month'], values = 'message_date', aggfunc = 'count').reset_index()\n",
    "display(messages_per_month)"
   ]
  },
  {
   "cell_type": "code",
   "execution_count": 39,
   "metadata": {
    "scrolled": true
   },
   "outputs": [
    {
     "data": {
      "text/html": [
       "<div>\n",
       "<style scoped>\n",
       "    .dataframe tbody tr th:only-of-type {\n",
       "        vertical-align: middle;\n",
       "    }\n",
       "\n",
       "    .dataframe tbody tr th {\n",
       "        vertical-align: top;\n",
       "    }\n",
       "\n",
       "    .dataframe thead th {\n",
       "        text-align: right;\n",
       "    }\n",
       "</style>\n",
       "<table border=\"1\" class=\"dataframe\">\n",
       "  <thead>\n",
       "    <tr style=\"text-align: right;\">\n",
       "      <th></th>\n",
       "      <th>user_id</th>\n",
       "      <th>month</th>\n",
       "      <th>mb_used</th>\n",
       "    </tr>\n",
       "  </thead>\n",
       "  <tbody>\n",
       "    <tr>\n",
       "      <th>0</th>\n",
       "      <td>1000</td>\n",
       "      <td>12</td>\n",
       "      <td>1901.47</td>\n",
       "    </tr>\n",
       "    <tr>\n",
       "      <th>1</th>\n",
       "      <td>1001</td>\n",
       "      <td>8</td>\n",
       "      <td>6919.15</td>\n",
       "    </tr>\n",
       "    <tr>\n",
       "      <th>2</th>\n",
       "      <td>1001</td>\n",
       "      <td>9</td>\n",
       "      <td>13314.82</td>\n",
       "    </tr>\n",
       "    <tr>\n",
       "      <th>3</th>\n",
       "      <td>1001</td>\n",
       "      <td>10</td>\n",
       "      <td>22330.49</td>\n",
       "    </tr>\n",
       "    <tr>\n",
       "      <th>4</th>\n",
       "      <td>1001</td>\n",
       "      <td>11</td>\n",
       "      <td>18504.30</td>\n",
       "    </tr>\n",
       "    <tr>\n",
       "      <th>...</th>\n",
       "      <td>...</td>\n",
       "      <td>...</td>\n",
       "      <td>...</td>\n",
       "    </tr>\n",
       "    <tr>\n",
       "      <th>2272</th>\n",
       "      <td>1498</td>\n",
       "      <td>12</td>\n",
       "      <td>23137.69</td>\n",
       "    </tr>\n",
       "    <tr>\n",
       "      <th>2273</th>\n",
       "      <td>1499</td>\n",
       "      <td>9</td>\n",
       "      <td>12984.76</td>\n",
       "    </tr>\n",
       "    <tr>\n",
       "      <th>2274</th>\n",
       "      <td>1499</td>\n",
       "      <td>10</td>\n",
       "      <td>19492.43</td>\n",
       "    </tr>\n",
       "    <tr>\n",
       "      <th>2275</th>\n",
       "      <td>1499</td>\n",
       "      <td>11</td>\n",
       "      <td>16813.83</td>\n",
       "    </tr>\n",
       "    <tr>\n",
       "      <th>2276</th>\n",
       "      <td>1499</td>\n",
       "      <td>12</td>\n",
       "      <td>22059.21</td>\n",
       "    </tr>\n",
       "  </tbody>\n",
       "</table>\n",
       "<p>2277 rows × 3 columns</p>\n",
       "</div>"
      ],
      "text/plain": [
       "      user_id  month   mb_used\n",
       "0        1000     12   1901.47\n",
       "1        1001      8   6919.15\n",
       "2        1001      9  13314.82\n",
       "3        1001     10  22330.49\n",
       "4        1001     11  18504.30\n",
       "...       ...    ...       ...\n",
       "2272     1498     12  23137.69\n",
       "2273     1499      9  12984.76\n",
       "2274     1499     10  19492.43\n",
       "2275     1499     11  16813.83\n",
       "2276     1499     12  22059.21\n",
       "\n",
       "[2277 rows x 3 columns]"
      ]
     },
     "metadata": {},
     "output_type": "display_data"
    }
   ],
   "source": [
    "# Calculate the volume of internet traffic used by each user per month. Save the result.\n",
    "\n",
    "int_traffic_per_month = df_internet.pivot_table(index= ['user_id', 'month'], values = 'mb_used', aggfunc = 'sum').reset_index()\n",
    "display(int_traffic_per_month)"
   ]
  },
  {
   "cell_type": "code",
   "execution_count": 40,
   "metadata": {},
   "outputs": [
    {
     "data": {
      "text/html": [
       "<div>\n",
       "<style scoped>\n",
       "    .dataframe tbody tr th:only-of-type {\n",
       "        vertical-align: middle;\n",
       "    }\n",
       "\n",
       "    .dataframe tbody tr th {\n",
       "        vertical-align: top;\n",
       "    }\n",
       "\n",
       "    .dataframe thead th {\n",
       "        text-align: right;\n",
       "    }\n",
       "</style>\n",
       "<table border=\"1\" class=\"dataframe\">\n",
       "  <thead>\n",
       "    <tr style=\"text-align: right;\">\n",
       "      <th></th>\n",
       "      <th>user_id</th>\n",
       "      <th>month</th>\n",
       "      <th>mb_used</th>\n",
       "    </tr>\n",
       "  </thead>\n",
       "  <tbody>\n",
       "    <tr>\n",
       "      <th>0</th>\n",
       "      <td>1000</td>\n",
       "      <td>12</td>\n",
       "      <td>2000.0</td>\n",
       "    </tr>\n",
       "    <tr>\n",
       "      <th>1</th>\n",
       "      <td>1001</td>\n",
       "      <td>8</td>\n",
       "      <td>7000.0</td>\n",
       "    </tr>\n",
       "    <tr>\n",
       "      <th>2</th>\n",
       "      <td>1001</td>\n",
       "      <td>9</td>\n",
       "      <td>14000.0</td>\n",
       "    </tr>\n",
       "    <tr>\n",
       "      <th>3</th>\n",
       "      <td>1001</td>\n",
       "      <td>10</td>\n",
       "      <td>23000.0</td>\n",
       "    </tr>\n",
       "    <tr>\n",
       "      <th>4</th>\n",
       "      <td>1001</td>\n",
       "      <td>11</td>\n",
       "      <td>19000.0</td>\n",
       "    </tr>\n",
       "    <tr>\n",
       "      <th>...</th>\n",
       "      <td>...</td>\n",
       "      <td>...</td>\n",
       "      <td>...</td>\n",
       "    </tr>\n",
       "    <tr>\n",
       "      <th>2272</th>\n",
       "      <td>1498</td>\n",
       "      <td>12</td>\n",
       "      <td>24000.0</td>\n",
       "    </tr>\n",
       "    <tr>\n",
       "      <th>2273</th>\n",
       "      <td>1499</td>\n",
       "      <td>9</td>\n",
       "      <td>13000.0</td>\n",
       "    </tr>\n",
       "    <tr>\n",
       "      <th>2274</th>\n",
       "      <td>1499</td>\n",
       "      <td>10</td>\n",
       "      <td>20000.0</td>\n",
       "    </tr>\n",
       "    <tr>\n",
       "      <th>2275</th>\n",
       "      <td>1499</td>\n",
       "      <td>11</td>\n",
       "      <td>17000.0</td>\n",
       "    </tr>\n",
       "    <tr>\n",
       "      <th>2276</th>\n",
       "      <td>1499</td>\n",
       "      <td>12</td>\n",
       "      <td>23000.0</td>\n",
       "    </tr>\n",
       "  </tbody>\n",
       "</table>\n",
       "<p>2277 rows × 3 columns</p>\n",
       "</div>"
      ],
      "text/plain": [
       "      user_id  month  mb_used\n",
       "0        1000     12   2000.0\n",
       "1        1001      8   7000.0\n",
       "2        1001      9  14000.0\n",
       "3        1001     10  23000.0\n",
       "4        1001     11  19000.0\n",
       "...       ...    ...      ...\n",
       "2272     1498     12  24000.0\n",
       "2273     1499      9  13000.0\n",
       "2274     1499     10  20000.0\n",
       "2275     1499     11  17000.0\n",
       "2276     1499     12  23000.0\n",
       "\n",
       "[2277 rows x 3 columns]"
      ]
     },
     "metadata": {},
     "output_type": "display_data"
    }
   ],
   "source": [
    "# Create function and round up mb_used column\n",
    "def mb_round(value):\n",
    "    if value['mb_used'] > 1024:\n",
    "        return int(math.ceil(value['mb_used']/1000)) * 1000\n",
    "\n",
    "int_traffic_per_month['mb_used'] = int_traffic_per_month.apply(mb_round, axis=1)\n",
    "display(int_traffic_per_month)"
   ]
  },
  {
   "cell_type": "markdown",
   "metadata": {},
   "source": [
    "[Put the aggregate data together into one DataFrame so that one record in it would represent what an unique user consumed in a given month.]"
   ]
  },
  {
   "cell_type": "code",
   "execution_count": 41,
   "metadata": {
    "scrolled": true
   },
   "outputs": [
    {
     "data": {
      "text/html": [
       "<div>\n",
       "<style scoped>\n",
       "    .dataframe tbody tr th:only-of-type {\n",
       "        vertical-align: middle;\n",
       "    }\n",
       "\n",
       "    .dataframe tbody tr th {\n",
       "        vertical-align: top;\n",
       "    }\n",
       "\n",
       "    .dataframe thead th {\n",
       "        text-align: right;\n",
       "    }\n",
       "</style>\n",
       "<table border=\"1\" class=\"dataframe\">\n",
       "  <thead>\n",
       "    <tr style=\"text-align: right;\">\n",
       "      <th></th>\n",
       "      <th>user_id</th>\n",
       "      <th>month</th>\n",
       "      <th>number_of_calls</th>\n",
       "      <th>duration</th>\n",
       "      <th>number_of_messages</th>\n",
       "      <th>mb_used</th>\n",
       "    </tr>\n",
       "  </thead>\n",
       "  <tbody>\n",
       "    <tr>\n",
       "      <th>0</th>\n",
       "      <td>1000</td>\n",
       "      <td>12</td>\n",
       "      <td>16.0</td>\n",
       "      <td>124.0</td>\n",
       "      <td>11.0</td>\n",
       "      <td>2000.0</td>\n",
       "    </tr>\n",
       "    <tr>\n",
       "      <th>1</th>\n",
       "      <td>1001</td>\n",
       "      <td>8</td>\n",
       "      <td>27.0</td>\n",
       "      <td>182.0</td>\n",
       "      <td>30.0</td>\n",
       "      <td>7000.0</td>\n",
       "    </tr>\n",
       "    <tr>\n",
       "      <th>2</th>\n",
       "      <td>1001</td>\n",
       "      <td>9</td>\n",
       "      <td>49.0</td>\n",
       "      <td>315.0</td>\n",
       "      <td>44.0</td>\n",
       "      <td>14000.0</td>\n",
       "    </tr>\n",
       "    <tr>\n",
       "      <th>3</th>\n",
       "      <td>1001</td>\n",
       "      <td>10</td>\n",
       "      <td>65.0</td>\n",
       "      <td>393.0</td>\n",
       "      <td>53.0</td>\n",
       "      <td>23000.0</td>\n",
       "    </tr>\n",
       "    <tr>\n",
       "      <th>4</th>\n",
       "      <td>1001</td>\n",
       "      <td>11</td>\n",
       "      <td>64.0</td>\n",
       "      <td>426.0</td>\n",
       "      <td>36.0</td>\n",
       "      <td>19000.0</td>\n",
       "    </tr>\n",
       "    <tr>\n",
       "      <th>...</th>\n",
       "      <td>...</td>\n",
       "      <td>...</td>\n",
       "      <td>...</td>\n",
       "      <td>...</td>\n",
       "      <td>...</td>\n",
       "      <td>...</td>\n",
       "    </tr>\n",
       "    <tr>\n",
       "      <th>2288</th>\n",
       "      <td>1349</td>\n",
       "      <td>12</td>\n",
       "      <td>NaN</td>\n",
       "      <td>NaN</td>\n",
       "      <td>61.0</td>\n",
       "      <td>14000.0</td>\n",
       "    </tr>\n",
       "    <tr>\n",
       "      <th>2289</th>\n",
       "      <td>1361</td>\n",
       "      <td>5</td>\n",
       "      <td>NaN</td>\n",
       "      <td>NaN</td>\n",
       "      <td>2.0</td>\n",
       "      <td>2000.0</td>\n",
       "    </tr>\n",
       "    <tr>\n",
       "      <th>2290</th>\n",
       "      <td>1482</td>\n",
       "      <td>10</td>\n",
       "      <td>NaN</td>\n",
       "      <td>NaN</td>\n",
       "      <td>2.0</td>\n",
       "      <td>NaN</td>\n",
       "    </tr>\n",
       "    <tr>\n",
       "      <th>2291</th>\n",
       "      <td>1108</td>\n",
       "      <td>12</td>\n",
       "      <td>NaN</td>\n",
       "      <td>NaN</td>\n",
       "      <td>NaN</td>\n",
       "      <td>NaN</td>\n",
       "    </tr>\n",
       "    <tr>\n",
       "      <th>2292</th>\n",
       "      <td>1311</td>\n",
       "      <td>6</td>\n",
       "      <td>NaN</td>\n",
       "      <td>NaN</td>\n",
       "      <td>NaN</td>\n",
       "      <td>2000.0</td>\n",
       "    </tr>\n",
       "  </tbody>\n",
       "</table>\n",
       "<p>2293 rows × 6 columns</p>\n",
       "</div>"
      ],
      "text/plain": [
       "      user_id  month  number_of_calls  duration  number_of_messages  mb_used\n",
       "0        1000     12             16.0     124.0                11.0   2000.0\n",
       "1        1001      8             27.0     182.0                30.0   7000.0\n",
       "2        1001      9             49.0     315.0                44.0  14000.0\n",
       "3        1001     10             65.0     393.0                53.0  23000.0\n",
       "4        1001     11             64.0     426.0                36.0  19000.0\n",
       "...       ...    ...              ...       ...                 ...      ...\n",
       "2288     1349     12              NaN       NaN                61.0  14000.0\n",
       "2289     1361      5              NaN       NaN                 2.0   2000.0\n",
       "2290     1482     10              NaN       NaN                 2.0      NaN\n",
       "2291     1108     12              NaN       NaN                 NaN      NaN\n",
       "2292     1311      6              NaN       NaN                 NaN   2000.0\n",
       "\n",
       "[2293 rows x 6 columns]"
      ]
     },
     "metadata": {},
     "output_type": "display_data"
    }
   ],
   "source": [
    "# Merge the data for calls, minutes, messages, internet based on user_id and month\n",
    "\n",
    "ovr_monthly_table = calls_per_month.merge(minutes_per_month, on=['user_id', 'month'], how='outer').merge(messages_per_month, on=['user_id', 'month'], how='outer').merge(int_traffic_per_month, on=['user_id', 'month'], how='outer')\n",
    "ovr_monthly_table.columns = ['user_id', 'month', 'number_of_calls', 'duration', 'number_of_messages', 'mb_used']\n",
    "display(ovr_monthly_table)"
   ]
  },
  {
   "cell_type": "markdown",
   "metadata": {},
   "source": [
    "<div class=\"alert alert-block alert-success\">\n",
    "<b>Reviewer's comment v1:</b>\n",
    "    \n",
    "Indeed `how = 'outer' can be used here to prevent data loss.\n",
    "    \n",
    "By the way, it is also possible to group 3 tables at once using reduce. You can read about it here: https://www.codegrepper.com/code-examples/python/merge+more+than+2+dataframes+in+pandas"
   ]
  },
  {
   "cell_type": "code",
   "execution_count": 42,
   "metadata": {
    "scrolled": true
   },
   "outputs": [
    {
     "data": {
      "text/html": [
       "<div>\n",
       "<style scoped>\n",
       "    .dataframe tbody tr th:only-of-type {\n",
       "        vertical-align: middle;\n",
       "    }\n",
       "\n",
       "    .dataframe tbody tr th {\n",
       "        vertical-align: top;\n",
       "    }\n",
       "\n",
       "    .dataframe thead th {\n",
       "        text-align: right;\n",
       "    }\n",
       "</style>\n",
       "<table border=\"1\" class=\"dataframe\">\n",
       "  <thead>\n",
       "    <tr style=\"text-align: right;\">\n",
       "      <th></th>\n",
       "      <th>user_id</th>\n",
       "      <th>month</th>\n",
       "      <th>number_of_calls</th>\n",
       "      <th>duration</th>\n",
       "      <th>number_of_messages</th>\n",
       "      <th>mb_used</th>\n",
       "      <th>first_name</th>\n",
       "      <th>last_name</th>\n",
       "      <th>age</th>\n",
       "      <th>city</th>\n",
       "      <th>reg_date</th>\n",
       "      <th>plan</th>\n",
       "      <th>churn_date</th>\n",
       "      <th>status</th>\n",
       "    </tr>\n",
       "  </thead>\n",
       "  <tbody>\n",
       "    <tr>\n",
       "      <th>0</th>\n",
       "      <td>1000</td>\n",
       "      <td>12</td>\n",
       "      <td>16.0</td>\n",
       "      <td>124.0</td>\n",
       "      <td>11.0</td>\n",
       "      <td>2000.0</td>\n",
       "      <td>Anamaria</td>\n",
       "      <td>Bauer</td>\n",
       "      <td>45</td>\n",
       "      <td>Atlanta-Sandy Springs-Roswell, GA MSA</td>\n",
       "      <td>2018-12-24</td>\n",
       "      <td>ultimate</td>\n",
       "      <td>NaN</td>\n",
       "      <td>active user</td>\n",
       "    </tr>\n",
       "    <tr>\n",
       "      <th>1</th>\n",
       "      <td>1001</td>\n",
       "      <td>8</td>\n",
       "      <td>27.0</td>\n",
       "      <td>182.0</td>\n",
       "      <td>30.0</td>\n",
       "      <td>7000.0</td>\n",
       "      <td>Mickey</td>\n",
       "      <td>Wilkerson</td>\n",
       "      <td>28</td>\n",
       "      <td>Seattle-Tacoma-Bellevue, WA MSA</td>\n",
       "      <td>2018-08-13</td>\n",
       "      <td>surf</td>\n",
       "      <td>NaN</td>\n",
       "      <td>active user</td>\n",
       "    </tr>\n",
       "    <tr>\n",
       "      <th>2</th>\n",
       "      <td>1001</td>\n",
       "      <td>9</td>\n",
       "      <td>49.0</td>\n",
       "      <td>315.0</td>\n",
       "      <td>44.0</td>\n",
       "      <td>14000.0</td>\n",
       "      <td>Mickey</td>\n",
       "      <td>Wilkerson</td>\n",
       "      <td>28</td>\n",
       "      <td>Seattle-Tacoma-Bellevue, WA MSA</td>\n",
       "      <td>2018-08-13</td>\n",
       "      <td>surf</td>\n",
       "      <td>NaN</td>\n",
       "      <td>active user</td>\n",
       "    </tr>\n",
       "    <tr>\n",
       "      <th>3</th>\n",
       "      <td>1001</td>\n",
       "      <td>10</td>\n",
       "      <td>65.0</td>\n",
       "      <td>393.0</td>\n",
       "      <td>53.0</td>\n",
       "      <td>23000.0</td>\n",
       "      <td>Mickey</td>\n",
       "      <td>Wilkerson</td>\n",
       "      <td>28</td>\n",
       "      <td>Seattle-Tacoma-Bellevue, WA MSA</td>\n",
       "      <td>2018-08-13</td>\n",
       "      <td>surf</td>\n",
       "      <td>NaN</td>\n",
       "      <td>active user</td>\n",
       "    </tr>\n",
       "    <tr>\n",
       "      <th>4</th>\n",
       "      <td>1001</td>\n",
       "      <td>11</td>\n",
       "      <td>64.0</td>\n",
       "      <td>426.0</td>\n",
       "      <td>36.0</td>\n",
       "      <td>19000.0</td>\n",
       "      <td>Mickey</td>\n",
       "      <td>Wilkerson</td>\n",
       "      <td>28</td>\n",
       "      <td>Seattle-Tacoma-Bellevue, WA MSA</td>\n",
       "      <td>2018-08-13</td>\n",
       "      <td>surf</td>\n",
       "      <td>NaN</td>\n",
       "      <td>active user</td>\n",
       "    </tr>\n",
       "    <tr>\n",
       "      <th>...</th>\n",
       "      <td>...</td>\n",
       "      <td>...</td>\n",
       "      <td>...</td>\n",
       "      <td>...</td>\n",
       "      <td>...</td>\n",
       "      <td>...</td>\n",
       "      <td>...</td>\n",
       "      <td>...</td>\n",
       "      <td>...</td>\n",
       "      <td>...</td>\n",
       "      <td>...</td>\n",
       "      <td>...</td>\n",
       "      <td>...</td>\n",
       "      <td>...</td>\n",
       "    </tr>\n",
       "    <tr>\n",
       "      <th>2288</th>\n",
       "      <td>1349</td>\n",
       "      <td>12</td>\n",
       "      <td>NaN</td>\n",
       "      <td>NaN</td>\n",
       "      <td>61.0</td>\n",
       "      <td>14000.0</td>\n",
       "      <td>Florentina</td>\n",
       "      <td>Diaz</td>\n",
       "      <td>69</td>\n",
       "      <td>Boston-Cambridge-Newton, MA-NH MSA</td>\n",
       "      <td>2018-10-01</td>\n",
       "      <td>surf</td>\n",
       "      <td>NaN</td>\n",
       "      <td>active user</td>\n",
       "    </tr>\n",
       "    <tr>\n",
       "      <th>2289</th>\n",
       "      <td>1361</td>\n",
       "      <td>5</td>\n",
       "      <td>NaN</td>\n",
       "      <td>NaN</td>\n",
       "      <td>2.0</td>\n",
       "      <td>2000.0</td>\n",
       "      <td>Jacelyn</td>\n",
       "      <td>Hoffman</td>\n",
       "      <td>45</td>\n",
       "      <td>Birmingham-Hoover, AL MSA</td>\n",
       "      <td>2018-04-14</td>\n",
       "      <td>surf</td>\n",
       "      <td>NaN</td>\n",
       "      <td>active user</td>\n",
       "    </tr>\n",
       "    <tr>\n",
       "      <th>2290</th>\n",
       "      <td>1482</td>\n",
       "      <td>10</td>\n",
       "      <td>NaN</td>\n",
       "      <td>NaN</td>\n",
       "      <td>2.0</td>\n",
       "      <td>NaN</td>\n",
       "      <td>Armand</td>\n",
       "      <td>Glenn</td>\n",
       "      <td>70</td>\n",
       "      <td>New York-Newark-Jersey City, NY-NJ-PA MSA</td>\n",
       "      <td>2018-01-01</td>\n",
       "      <td>ultimate</td>\n",
       "      <td>NaN</td>\n",
       "      <td>active user</td>\n",
       "    </tr>\n",
       "    <tr>\n",
       "      <th>2291</th>\n",
       "      <td>1108</td>\n",
       "      <td>12</td>\n",
       "      <td>NaN</td>\n",
       "      <td>NaN</td>\n",
       "      <td>NaN</td>\n",
       "      <td>NaN</td>\n",
       "      <td>Porfirio</td>\n",
       "      <td>Kane</td>\n",
       "      <td>45</td>\n",
       "      <td>Salt Lake City, UT MSA</td>\n",
       "      <td>2018-12-30</td>\n",
       "      <td>ultimate</td>\n",
       "      <td>NaN</td>\n",
       "      <td>active user</td>\n",
       "    </tr>\n",
       "    <tr>\n",
       "      <th>2292</th>\n",
       "      <td>1311</td>\n",
       "      <td>6</td>\n",
       "      <td>NaN</td>\n",
       "      <td>NaN</td>\n",
       "      <td>NaN</td>\n",
       "      <td>2000.0</td>\n",
       "      <td>Cherlyn</td>\n",
       "      <td>Saunders</td>\n",
       "      <td>69</td>\n",
       "      <td>Memphis, TN-MS-AR MSA</td>\n",
       "      <td>2018-06-27</td>\n",
       "      <td>ultimate</td>\n",
       "      <td>NaN</td>\n",
       "      <td>active user</td>\n",
       "    </tr>\n",
       "  </tbody>\n",
       "</table>\n",
       "<p>2293 rows × 14 columns</p>\n",
       "</div>"
      ],
      "text/plain": [
       "      user_id  month  number_of_calls  duration  number_of_messages  mb_used  \\\n",
       "0        1000     12             16.0     124.0                11.0   2000.0   \n",
       "1        1001      8             27.0     182.0                30.0   7000.0   \n",
       "2        1001      9             49.0     315.0                44.0  14000.0   \n",
       "3        1001     10             65.0     393.0                53.0  23000.0   \n",
       "4        1001     11             64.0     426.0                36.0  19000.0   \n",
       "...       ...    ...              ...       ...                 ...      ...   \n",
       "2288     1349     12              NaN       NaN                61.0  14000.0   \n",
       "2289     1361      5              NaN       NaN                 2.0   2000.0   \n",
       "2290     1482     10              NaN       NaN                 2.0      NaN   \n",
       "2291     1108     12              NaN       NaN                 NaN      NaN   \n",
       "2292     1311      6              NaN       NaN                 NaN   2000.0   \n",
       "\n",
       "      first_name  last_name  age                                       city  \\\n",
       "0       Anamaria      Bauer   45      Atlanta-Sandy Springs-Roswell, GA MSA   \n",
       "1         Mickey  Wilkerson   28            Seattle-Tacoma-Bellevue, WA MSA   \n",
       "2         Mickey  Wilkerson   28            Seattle-Tacoma-Bellevue, WA MSA   \n",
       "3         Mickey  Wilkerson   28            Seattle-Tacoma-Bellevue, WA MSA   \n",
       "4         Mickey  Wilkerson   28            Seattle-Tacoma-Bellevue, WA MSA   \n",
       "...          ...        ...  ...                                        ...   \n",
       "2288  Florentina       Diaz   69         Boston-Cambridge-Newton, MA-NH MSA   \n",
       "2289     Jacelyn    Hoffman   45                  Birmingham-Hoover, AL MSA   \n",
       "2290      Armand      Glenn   70  New York-Newark-Jersey City, NY-NJ-PA MSA   \n",
       "2291    Porfirio       Kane   45                     Salt Lake City, UT MSA   \n",
       "2292     Cherlyn   Saunders   69                      Memphis, TN-MS-AR MSA   \n",
       "\n",
       "       reg_date      plan churn_date       status  \n",
       "0    2018-12-24  ultimate        NaN  active user  \n",
       "1    2018-08-13      surf        NaN  active user  \n",
       "2    2018-08-13      surf        NaN  active user  \n",
       "3    2018-08-13      surf        NaN  active user  \n",
       "4    2018-08-13      surf        NaN  active user  \n",
       "...         ...       ...        ...          ...  \n",
       "2288 2018-10-01      surf        NaN  active user  \n",
       "2289 2018-04-14      surf        NaN  active user  \n",
       "2290 2018-01-01  ultimate        NaN  active user  \n",
       "2291 2018-12-30  ultimate        NaN  active user  \n",
       "2292 2018-06-27  ultimate        NaN  active user  \n",
       "\n",
       "[2293 rows x 14 columns]"
      ]
     },
     "metadata": {},
     "output_type": "display_data"
    }
   ],
   "source": [
    "# Merge aggregated data to users data to get a grand monthly table\n",
    "grand_monthly_table = ovr_monthly_table.merge(df_users, on=['user_id'], how='left')\n",
    "display(grand_monthly_table)"
   ]
  },
  {
   "cell_type": "markdown",
   "metadata": {},
   "source": [
    "<div class=\"alert alert-danger\" role=\"alert\">\n",
    "<b>Reviewer's comment v1:</b>\n",
    "    \n",
    "The goal is to find the monthly revenue from each user, but, unfortunately, here we are just getting the first month values of the user. What you can do is to add users data to the ovr_monthly_table with all data."
   ]
  },
  {
   "cell_type": "code",
   "execution_count": 43,
   "metadata": {
    "scrolled": false
   },
   "outputs": [
    {
     "name": "stdout",
     "output_type": "stream",
     "text": [
      "<class 'pandas.core.frame.DataFrame'>\n",
      "Int64Index: 2293 entries, 0 to 2292\n",
      "Data columns (total 14 columns):\n",
      " #   Column              Non-Null Count  Dtype         \n",
      "---  ------              --------------  -----         \n",
      " 0   user_id             2293 non-null   int64         \n",
      " 1   month               2293 non-null   int64         \n",
      " 2   number_of_calls     2258 non-null   float64       \n",
      " 3   duration            2258 non-null   float64       \n",
      " 4   number_of_messages  1806 non-null   float64       \n",
      " 5   mb_used             2250 non-null   float64       \n",
      " 6   first_name          2293 non-null   object        \n",
      " 7   last_name           2293 non-null   object        \n",
      " 8   age                 2293 non-null   int64         \n",
      " 9   city                2293 non-null   object        \n",
      " 10  reg_date            2293 non-null   datetime64[ns]\n",
      " 11  plan                2293 non-null   object        \n",
      " 12  churn_date          158 non-null    object        \n",
      " 13  status              2293 non-null   object        \n",
      "dtypes: datetime64[ns](1), float64(4), int64(3), object(6)\n",
      "memory usage: 268.7+ KB\n"
     ]
    }
   ],
   "source": [
    "# check dataframe info\n",
    "grand_monthly_table.info()"
   ]
  },
  {
   "cell_type": "markdown",
   "metadata": {},
   "source": [
    "We now have a `grand_monthly_table` with most of the columns we need. But we can see that the data types are not correct. Most columns have become float data types. This is due to having \"NaN\" values in them. In as much as we might want to drop these rows, they will affect our analysis so lets try filling them."
   ]
  },
  {
   "cell_type": "code",
   "execution_count": 44,
   "metadata": {},
   "outputs": [],
   "source": [
    "# Fill in missing values\n",
    "grand_monthly_table = grand_monthly_table.fillna(0)"
   ]
  },
  {
   "cell_type": "markdown",
   "metadata": {},
   "source": [
    "The missing values in this table indicates that users didn't use that particular service, and so we've filled the missing values all through the table with 0 as this makes it easier to use those cells for calculations as opposed to having them filled with \"NaN\"."
   ]
  },
  {
   "cell_type": "markdown",
   "metadata": {},
   "source": [
    "<div class=\"alert alert-danger\" role=\"alert\">\n",
    "<b>Reviewer's comment v1:</b>\n",
    "    \n",
    "Missing values in that case show that the user did not use that service in the particular month, so filling it with median values will distort our revenue calculation. You can just fill nan values with 0 to keep calculations correct. "
   ]
  },
  {
   "cell_type": "markdown",
   "metadata": {},
   "source": [
    "<div class=\"alert alert-success\" role=\"alert\">\n",
    "<b>Reviewer's comment v2:</b>\n",
    "    \n",
    "Thanks for fixing that! Now final data set is correct."
   ]
  },
  {
   "cell_type": "code",
   "execution_count": 45,
   "metadata": {
    "scrolled": true
   },
   "outputs": [
    {
     "name": "stdout",
     "output_type": "stream",
     "text": [
      "<class 'pandas.core.frame.DataFrame'>\n",
      "Int64Index: 2293 entries, 0 to 2292\n",
      "Data columns (total 14 columns):\n",
      " #   Column              Non-Null Count  Dtype         \n",
      "---  ------              --------------  -----         \n",
      " 0   user_id             2293 non-null   int64         \n",
      " 1   month               2293 non-null   int64         \n",
      " 2   number_of_calls     2293 non-null   float64       \n",
      " 3   duration            2293 non-null   float64       \n",
      " 4   number_of_messages  2293 non-null   float64       \n",
      " 5   mb_used             2293 non-null   float64       \n",
      " 6   first_name          2293 non-null   object        \n",
      " 7   last_name           2293 non-null   object        \n",
      " 8   age                 2293 non-null   int64         \n",
      " 9   city                2293 non-null   object        \n",
      " 10  reg_date            2293 non-null   datetime64[ns]\n",
      " 11  plan                2293 non-null   object        \n",
      " 12  churn_date          2293 non-null   object        \n",
      " 13  status              2293 non-null   object        \n",
      "dtypes: datetime64[ns](1), float64(4), int64(3), object(6)\n",
      "memory usage: 268.7+ KB\n"
     ]
    }
   ],
   "source": [
    "# Check grand table info\n",
    "grand_monthly_table.info()"
   ]
  },
  {
   "cell_type": "code",
   "execution_count": 46,
   "metadata": {},
   "outputs": [],
   "source": [
    "# Convert data types\n",
    "\n",
    "grand_monthly_table['number_of_calls'] = grand_monthly_table['number_of_calls'].astype('int')\n",
    "grand_monthly_table['number_of_messages'] = grand_monthly_table['number_of_messages'].astype('int')\n",
    "grand_monthly_table['mb_used'] = grand_monthly_table['mb_used'].astype('int')\n",
    "grand_monthly_table['duration'] = grand_monthly_table['duration'].astype('int')"
   ]
  },
  {
   "cell_type": "code",
   "execution_count": 47,
   "metadata": {
    "scrolled": true
   },
   "outputs": [
    {
     "name": "stdout",
     "output_type": "stream",
     "text": [
      "<class 'pandas.core.frame.DataFrame'>\n",
      "Int64Index: 2293 entries, 0 to 2292\n",
      "Data columns (total 14 columns):\n",
      " #   Column              Non-Null Count  Dtype         \n",
      "---  ------              --------------  -----         \n",
      " 0   user_id             2293 non-null   int64         \n",
      " 1   month               2293 non-null   int64         \n",
      " 2   number_of_calls     2293 non-null   int64         \n",
      " 3   duration            2293 non-null   int64         \n",
      " 4   number_of_messages  2293 non-null   int64         \n",
      " 5   mb_used             2293 non-null   int64         \n",
      " 6   first_name          2293 non-null   object        \n",
      " 7   last_name           2293 non-null   object        \n",
      " 8   age                 2293 non-null   int64         \n",
      " 9   city                2293 non-null   object        \n",
      " 10  reg_date            2293 non-null   datetime64[ns]\n",
      " 11  plan                2293 non-null   object        \n",
      " 12  churn_date          2293 non-null   object        \n",
      " 13  status              2293 non-null   object        \n",
      "dtypes: datetime64[ns](1), int64(7), object(6)\n",
      "memory usage: 268.7+ KB\n"
     ]
    }
   ],
   "source": [
    "# Check grand table info\n",
    "grand_monthly_table.info()"
   ]
  },
  {
   "cell_type": "code",
   "execution_count": 48,
   "metadata": {},
   "outputs": [
    {
     "data": {
      "text/html": [
       "<div>\n",
       "<style scoped>\n",
       "    .dataframe tbody tr th:only-of-type {\n",
       "        vertical-align: middle;\n",
       "    }\n",
       "\n",
       "    .dataframe tbody tr th {\n",
       "        vertical-align: top;\n",
       "    }\n",
       "\n",
       "    .dataframe thead th {\n",
       "        text-align: right;\n",
       "    }\n",
       "</style>\n",
       "<table border=\"1\" class=\"dataframe\">\n",
       "  <thead>\n",
       "    <tr style=\"text-align: right;\">\n",
       "      <th></th>\n",
       "      <th>messages_included</th>\n",
       "      <th>mb_per_month_included</th>\n",
       "      <th>minutes_included</th>\n",
       "      <th>usd_monthly_pay</th>\n",
       "      <th>usd_per_gb</th>\n",
       "      <th>usd_per_message</th>\n",
       "      <th>usd_per_minute</th>\n",
       "      <th>plan_name</th>\n",
       "    </tr>\n",
       "  </thead>\n",
       "  <tbody>\n",
       "    <tr>\n",
       "      <th>0</th>\n",
       "      <td>50</td>\n",
       "      <td>15360</td>\n",
       "      <td>500</td>\n",
       "      <td>20</td>\n",
       "      <td>10</td>\n",
       "      <td>0.03</td>\n",
       "      <td>0.03</td>\n",
       "      <td>surf</td>\n",
       "    </tr>\n",
       "    <tr>\n",
       "      <th>1</th>\n",
       "      <td>1000</td>\n",
       "      <td>30720</td>\n",
       "      <td>3000</td>\n",
       "      <td>70</td>\n",
       "      <td>7</td>\n",
       "      <td>0.01</td>\n",
       "      <td>0.01</td>\n",
       "      <td>ultimate</td>\n",
       "    </tr>\n",
       "  </tbody>\n",
       "</table>\n",
       "</div>"
      ],
      "text/plain": [
       "   messages_included  mb_per_month_included  minutes_included  \\\n",
       "0                 50                  15360               500   \n",
       "1               1000                  30720              3000   \n",
       "\n",
       "   usd_monthly_pay  usd_per_gb  usd_per_message  usd_per_minute plan_name  \n",
       "0               20          10             0.03            0.03      surf  \n",
       "1               70           7             0.01            0.01  ultimate  "
      ]
     },
     "execution_count": 48,
     "metadata": {},
     "output_type": "execute_result"
    }
   ],
   "source": [
    "# Add the plan information\n",
    "\n",
    "df_plans"
   ]
  },
  {
   "cell_type": "markdown",
   "metadata": {},
   "source": [
    "Now that we have our grand table, let's calculate the monthly revenue from each user (subtract the free package limit from the total number of calls, text messages, and data; multiply the result by the calling plan value; add the monthly charge depending on the calling plan)."
   ]
  },
  {
   "cell_type": "code",
   "execution_count": 49,
   "metadata": {},
   "outputs": [],
   "source": [
    "# Calculate the monthly revenue for each user\n",
    "def monthly_rev_calc(value):\n",
    "    if value['plan'] == 'surf':\n",
    "        usd_monthly_pay = 20\n",
    "        usd_per_message = 0.03\n",
    "        usd_per_minute = 0.03\n",
    "        usd_per_gb = 10\n",
    "        call_rev = 0\n",
    "        mess_rev = 0\n",
    "        int_rev = 0\n",
    "        if value['duration'] > 500:\n",
    "            call_rev = (value['duration'] - 500) * 0.03\n",
    "        if value['number_of_messages'] > 50:\n",
    "            mess_rev = (value['number_of_messages'] - 50) * 0.03\n",
    "        if value['mb_used'] >  15360:\n",
    "            int_rev = ((value['mb_used'] - 15360)/1024) * 10\n",
    "        monthly_rev = usd_monthly_pay + call_rev + mess_rev + int_rev\n",
    "        return monthly_rev\n",
    "    \n",
    "    if value['plan'] == 'ultimate':\n",
    "        usd_monthly_pay = 70\n",
    "        usd_per_message = 0.01\n",
    "        usd_per_minute = 0.01\n",
    "        usd_per_gb = 7\n",
    "        call_rev = 0\n",
    "        mess_rev = 0\n",
    "        int_rev = 0\n",
    "        if value['duration'] > 3000:\n",
    "            call_rev = (value['duration'] - 3000) * 0.01\n",
    "        if value['number_of_messages'] > 1000:\n",
    "            mess_rev = (value['number_of_messages'] - 1000) * 0.01\n",
    "        if value['mb_used'] >  30720:\n",
    "            int_rev = ((value['mb_used'] - 15360)/1024) * 7\n",
    "        monthly_rev = usd_monthly_pay + call_rev + mess_rev + int_rev\n",
    "        return monthly_rev\n",
    "        \n",
    "            \n",
    "    "
   ]
  },
  {
   "cell_type": "code",
   "execution_count": 50,
   "metadata": {},
   "outputs": [],
   "source": [
    "# Apply the function to the data frame\n",
    "grand_monthly_table['monthly_rev'] = grand_monthly_table.apply(monthly_rev_calc, axis=1)"
   ]
  },
  {
   "cell_type": "code",
   "execution_count": 51,
   "metadata": {},
   "outputs": [
    {
     "data": {
      "text/plain": [
       "0     70.000000\n",
       "1     20.000000\n",
       "2     20.000000\n",
       "3     94.699375\n",
       "4     55.546875\n",
       "5     65.312500\n",
       "6     20.000000\n",
       "7     65.312500\n",
       "8     20.000000\n",
       "9    161.557500\n",
       "Name: monthly_rev, dtype: float64"
      ]
     },
     "metadata": {},
     "output_type": "display_data"
    }
   ],
   "source": [
    "# Visualize monthly_rev column\n",
    "display(grand_monthly_table['monthly_rev'].head(10))"
   ]
  },
  {
   "cell_type": "code",
   "execution_count": 52,
   "metadata": {},
   "outputs": [
    {
     "data": {
      "text/html": [
       "<div>\n",
       "<style scoped>\n",
       "    .dataframe tbody tr th:only-of-type {\n",
       "        vertical-align: middle;\n",
       "    }\n",
       "\n",
       "    .dataframe tbody tr th {\n",
       "        vertical-align: top;\n",
       "    }\n",
       "\n",
       "    .dataframe thead th {\n",
       "        text-align: right;\n",
       "    }\n",
       "</style>\n",
       "<table border=\"1\" class=\"dataframe\">\n",
       "  <thead>\n",
       "    <tr style=\"text-align: right;\">\n",
       "      <th></th>\n",
       "      <th>user_id</th>\n",
       "      <th>month</th>\n",
       "      <th>number_of_calls</th>\n",
       "      <th>duration</th>\n",
       "      <th>number_of_messages</th>\n",
       "      <th>mb_used</th>\n",
       "      <th>first_name</th>\n",
       "      <th>last_name</th>\n",
       "      <th>age</th>\n",
       "      <th>city</th>\n",
       "      <th>reg_date</th>\n",
       "      <th>plan</th>\n",
       "      <th>churn_date</th>\n",
       "      <th>status</th>\n",
       "      <th>monthly_rev</th>\n",
       "    </tr>\n",
       "  </thead>\n",
       "  <tbody>\n",
       "    <tr>\n",
       "      <th>0</th>\n",
       "      <td>1000</td>\n",
       "      <td>12</td>\n",
       "      <td>16</td>\n",
       "      <td>124</td>\n",
       "      <td>11</td>\n",
       "      <td>2000</td>\n",
       "      <td>Anamaria</td>\n",
       "      <td>Bauer</td>\n",
       "      <td>45</td>\n",
       "      <td>Atlanta-Sandy Springs-Roswell, GA MSA</td>\n",
       "      <td>2018-12-24</td>\n",
       "      <td>ultimate</td>\n",
       "      <td>0</td>\n",
       "      <td>active user</td>\n",
       "      <td>70.000000</td>\n",
       "    </tr>\n",
       "    <tr>\n",
       "      <th>1</th>\n",
       "      <td>1001</td>\n",
       "      <td>8</td>\n",
       "      <td>27</td>\n",
       "      <td>182</td>\n",
       "      <td>30</td>\n",
       "      <td>7000</td>\n",
       "      <td>Mickey</td>\n",
       "      <td>Wilkerson</td>\n",
       "      <td>28</td>\n",
       "      <td>Seattle-Tacoma-Bellevue, WA MSA</td>\n",
       "      <td>2018-08-13</td>\n",
       "      <td>surf</td>\n",
       "      <td>0</td>\n",
       "      <td>active user</td>\n",
       "      <td>20.000000</td>\n",
       "    </tr>\n",
       "    <tr>\n",
       "      <th>2</th>\n",
       "      <td>1001</td>\n",
       "      <td>9</td>\n",
       "      <td>49</td>\n",
       "      <td>315</td>\n",
       "      <td>44</td>\n",
       "      <td>14000</td>\n",
       "      <td>Mickey</td>\n",
       "      <td>Wilkerson</td>\n",
       "      <td>28</td>\n",
       "      <td>Seattle-Tacoma-Bellevue, WA MSA</td>\n",
       "      <td>2018-08-13</td>\n",
       "      <td>surf</td>\n",
       "      <td>0</td>\n",
       "      <td>active user</td>\n",
       "      <td>20.000000</td>\n",
       "    </tr>\n",
       "    <tr>\n",
       "      <th>3</th>\n",
       "      <td>1001</td>\n",
       "      <td>10</td>\n",
       "      <td>65</td>\n",
       "      <td>393</td>\n",
       "      <td>53</td>\n",
       "      <td>23000</td>\n",
       "      <td>Mickey</td>\n",
       "      <td>Wilkerson</td>\n",
       "      <td>28</td>\n",
       "      <td>Seattle-Tacoma-Bellevue, WA MSA</td>\n",
       "      <td>2018-08-13</td>\n",
       "      <td>surf</td>\n",
       "      <td>0</td>\n",
       "      <td>active user</td>\n",
       "      <td>94.699375</td>\n",
       "    </tr>\n",
       "    <tr>\n",
       "      <th>4</th>\n",
       "      <td>1001</td>\n",
       "      <td>11</td>\n",
       "      <td>64</td>\n",
       "      <td>426</td>\n",
       "      <td>36</td>\n",
       "      <td>19000</td>\n",
       "      <td>Mickey</td>\n",
       "      <td>Wilkerson</td>\n",
       "      <td>28</td>\n",
       "      <td>Seattle-Tacoma-Bellevue, WA MSA</td>\n",
       "      <td>2018-08-13</td>\n",
       "      <td>surf</td>\n",
       "      <td>0</td>\n",
       "      <td>active user</td>\n",
       "      <td>55.546875</td>\n",
       "    </tr>\n",
       "    <tr>\n",
       "      <th>5</th>\n",
       "      <td>1001</td>\n",
       "      <td>12</td>\n",
       "      <td>56</td>\n",
       "      <td>412</td>\n",
       "      <td>44</td>\n",
       "      <td>20000</td>\n",
       "      <td>Mickey</td>\n",
       "      <td>Wilkerson</td>\n",
       "      <td>28</td>\n",
       "      <td>Seattle-Tacoma-Bellevue, WA MSA</td>\n",
       "      <td>2018-08-13</td>\n",
       "      <td>surf</td>\n",
       "      <td>0</td>\n",
       "      <td>active user</td>\n",
       "      <td>65.312500</td>\n",
       "    </tr>\n",
       "    <tr>\n",
       "      <th>6</th>\n",
       "      <td>1002</td>\n",
       "      <td>10</td>\n",
       "      <td>11</td>\n",
       "      <td>59</td>\n",
       "      <td>15</td>\n",
       "      <td>7000</td>\n",
       "      <td>Carlee</td>\n",
       "      <td>Hoffman</td>\n",
       "      <td>36</td>\n",
       "      <td>Las Vegas-Henderson-Paradise, NV MSA</td>\n",
       "      <td>2018-10-21</td>\n",
       "      <td>surf</td>\n",
       "      <td>0</td>\n",
       "      <td>active user</td>\n",
       "      <td>20.000000</td>\n",
       "    </tr>\n",
       "    <tr>\n",
       "      <th>7</th>\n",
       "      <td>1002</td>\n",
       "      <td>11</td>\n",
       "      <td>55</td>\n",
       "      <td>386</td>\n",
       "      <td>32</td>\n",
       "      <td>20000</td>\n",
       "      <td>Carlee</td>\n",
       "      <td>Hoffman</td>\n",
       "      <td>36</td>\n",
       "      <td>Las Vegas-Henderson-Paradise, NV MSA</td>\n",
       "      <td>2018-10-21</td>\n",
       "      <td>surf</td>\n",
       "      <td>0</td>\n",
       "      <td>active user</td>\n",
       "      <td>65.312500</td>\n",
       "    </tr>\n",
       "    <tr>\n",
       "      <th>8</th>\n",
       "      <td>1002</td>\n",
       "      <td>12</td>\n",
       "      <td>47</td>\n",
       "      <td>384</td>\n",
       "      <td>41</td>\n",
       "      <td>15000</td>\n",
       "      <td>Carlee</td>\n",
       "      <td>Hoffman</td>\n",
       "      <td>36</td>\n",
       "      <td>Las Vegas-Henderson-Paradise, NV MSA</td>\n",
       "      <td>2018-10-21</td>\n",
       "      <td>surf</td>\n",
       "      <td>0</td>\n",
       "      <td>active user</td>\n",
       "      <td>20.000000</td>\n",
       "    </tr>\n",
       "    <tr>\n",
       "      <th>9</th>\n",
       "      <td>1003</td>\n",
       "      <td>12</td>\n",
       "      <td>149</td>\n",
       "      <td>1104</td>\n",
       "      <td>50</td>\n",
       "      <td>28000</td>\n",
       "      <td>Reynaldo</td>\n",
       "      <td>Jenkins</td>\n",
       "      <td>52</td>\n",
       "      <td>Tulsa, OK MSA</td>\n",
       "      <td>2018-01-28</td>\n",
       "      <td>surf</td>\n",
       "      <td>0</td>\n",
       "      <td>active user</td>\n",
       "      <td>161.557500</td>\n",
       "    </tr>\n",
       "  </tbody>\n",
       "</table>\n",
       "</div>"
      ],
      "text/plain": [
       "   user_id  month  number_of_calls  duration  number_of_messages  mb_used  \\\n",
       "0     1000     12               16       124                  11     2000   \n",
       "1     1001      8               27       182                  30     7000   \n",
       "2     1001      9               49       315                  44    14000   \n",
       "3     1001     10               65       393                  53    23000   \n",
       "4     1001     11               64       426                  36    19000   \n",
       "5     1001     12               56       412                  44    20000   \n",
       "6     1002     10               11        59                  15     7000   \n",
       "7     1002     11               55       386                  32    20000   \n",
       "8     1002     12               47       384                  41    15000   \n",
       "9     1003     12              149      1104                  50    28000   \n",
       "\n",
       "  first_name  last_name  age                                   city  \\\n",
       "0   Anamaria      Bauer   45  Atlanta-Sandy Springs-Roswell, GA MSA   \n",
       "1     Mickey  Wilkerson   28        Seattle-Tacoma-Bellevue, WA MSA   \n",
       "2     Mickey  Wilkerson   28        Seattle-Tacoma-Bellevue, WA MSA   \n",
       "3     Mickey  Wilkerson   28        Seattle-Tacoma-Bellevue, WA MSA   \n",
       "4     Mickey  Wilkerson   28        Seattle-Tacoma-Bellevue, WA MSA   \n",
       "5     Mickey  Wilkerson   28        Seattle-Tacoma-Bellevue, WA MSA   \n",
       "6     Carlee    Hoffman   36   Las Vegas-Henderson-Paradise, NV MSA   \n",
       "7     Carlee    Hoffman   36   Las Vegas-Henderson-Paradise, NV MSA   \n",
       "8     Carlee    Hoffman   36   Las Vegas-Henderson-Paradise, NV MSA   \n",
       "9   Reynaldo    Jenkins   52                          Tulsa, OK MSA   \n",
       "\n",
       "    reg_date      plan churn_date       status  monthly_rev  \n",
       "0 2018-12-24  ultimate          0  active user    70.000000  \n",
       "1 2018-08-13      surf          0  active user    20.000000  \n",
       "2 2018-08-13      surf          0  active user    20.000000  \n",
       "3 2018-08-13      surf          0  active user    94.699375  \n",
       "4 2018-08-13      surf          0  active user    55.546875  \n",
       "5 2018-08-13      surf          0  active user    65.312500  \n",
       "6 2018-10-21      surf          0  active user    20.000000  \n",
       "7 2018-10-21      surf          0  active user    65.312500  \n",
       "8 2018-10-21      surf          0  active user    20.000000  \n",
       "9 2018-01-28      surf          0  active user   161.557500  "
      ]
     },
     "execution_count": 52,
     "metadata": {},
     "output_type": "execute_result"
    }
   ],
   "source": [
    "# Visualise table with monthly_rev column\n",
    "grand_monthly_table.head(10)"
   ]
  },
  {
   "cell_type": "markdown",
   "metadata": {},
   "source": [
    "## Study user behaviour"
   ]
  },
  {
   "cell_type": "markdown",
   "metadata": {},
   "source": [
    "Let's calculate some useful descriptive statistics for the aggregated and merged data, which typically reveal an overall picture captured by the data. Draw useful plots to help the understanding. Given that the main task is to compare the plans and decide on which one is more profitable, the statistics and the plots should be calculated on a per-plan basis.\n"
   ]
  },
  {
   "cell_type": "markdown",
   "metadata": {},
   "source": [
    "### Calls"
   ]
  },
  {
   "cell_type": "code",
   "execution_count": 53,
   "metadata": {},
   "outputs": [
    {
     "data": {
      "text/html": [
       "<div>\n",
       "<style scoped>\n",
       "    .dataframe tbody tr th:only-of-type {\n",
       "        vertical-align: middle;\n",
       "    }\n",
       "\n",
       "    .dataframe tbody tr th {\n",
       "        vertical-align: top;\n",
       "    }\n",
       "\n",
       "    .dataframe thead th {\n",
       "        text-align: right;\n",
       "    }\n",
       "</style>\n",
       "<table border=\"1\" class=\"dataframe\">\n",
       "  <thead>\n",
       "    <tr style=\"text-align: right;\">\n",
       "      <th>plan</th>\n",
       "      <th>surf</th>\n",
       "      <th>ultimate</th>\n",
       "    </tr>\n",
       "    <tr>\n",
       "      <th>month</th>\n",
       "      <th></th>\n",
       "      <th></th>\n",
       "    </tr>\n",
       "  </thead>\n",
       "  <tbody>\n",
       "    <tr>\n",
       "      <th>1</th>\n",
       "      <td>203.000000</td>\n",
       "      <td>193.500000</td>\n",
       "    </tr>\n",
       "    <tr>\n",
       "      <th>2</th>\n",
       "      <td>297.000000</td>\n",
       "      <td>403.142857</td>\n",
       "    </tr>\n",
       "    <tr>\n",
       "      <th>3</th>\n",
       "      <td>330.000000</td>\n",
       "      <td>304.250000</td>\n",
       "    </tr>\n",
       "    <tr>\n",
       "      <th>4</th>\n",
       "      <td>351.540000</td>\n",
       "      <td>336.857143</td>\n",
       "    </tr>\n",
       "    <tr>\n",
       "      <th>5</th>\n",
       "      <td>399.584416</td>\n",
       "      <td>406.241379</td>\n",
       "    </tr>\n",
       "    <tr>\n",
       "      <th>6</th>\n",
       "      <td>431.298969</td>\n",
       "      <td>370.957447</td>\n",
       "    </tr>\n",
       "    <tr>\n",
       "      <th>7</th>\n",
       "      <td>449.983471</td>\n",
       "      <td>427.067797</td>\n",
       "    </tr>\n",
       "    <tr>\n",
       "      <th>8</th>\n",
       "      <td>410.111111</td>\n",
       "      <td>421.436620</td>\n",
       "    </tr>\n",
       "    <tr>\n",
       "      <th>9</th>\n",
       "      <td>414.226804</td>\n",
       "      <td>437.511628</td>\n",
       "    </tr>\n",
       "    <tr>\n",
       "      <th>10</th>\n",
       "      <td>429.729958</td>\n",
       "      <td>450.735849</td>\n",
       "    </tr>\n",
       "    <tr>\n",
       "      <th>11</th>\n",
       "      <td>423.325088</td>\n",
       "      <td>445.196850</td>\n",
       "    </tr>\n",
       "    <tr>\n",
       "      <th>12</th>\n",
       "      <td>473.836478</td>\n",
       "      <td>459.099338</td>\n",
       "    </tr>\n",
       "  </tbody>\n",
       "</table>\n",
       "</div>"
      ],
      "text/plain": [
       "plan         surf    ultimate\n",
       "month                        \n",
       "1      203.000000  193.500000\n",
       "2      297.000000  403.142857\n",
       "3      330.000000  304.250000\n",
       "4      351.540000  336.857143\n",
       "5      399.584416  406.241379\n",
       "6      431.298969  370.957447\n",
       "7      449.983471  427.067797\n",
       "8      410.111111  421.436620\n",
       "9      414.226804  437.511628\n",
       "10     429.729958  450.735849\n",
       "11     423.325088  445.196850\n",
       "12     473.836478  459.099338"
      ]
     },
     "metadata": {},
     "output_type": "display_data"
    },
    {
     "data": {
      "image/png": "[encoded data removed]",
      "text/plain": [
       "<Figure size 432x288 with 1 Axes>"
      ]
     },
     "metadata": {
      "needs_background": "light"
     },
     "output_type": "display_data"
    }
   ],
   "source": [
    "# Compare average duration of calls per each plan per each distinct month. Plot a bar plat to visualize it.\n",
    "\n",
    "ave_mon_dur = grand_monthly_table.pivot_table(index= 'month', values= 'duration', columns='plan', aggfunc='mean')\n",
    "display(ave_mon_dur)\n",
    "ave_mon_dur.plot(kind= 'bar')\n",
    "plt.show()"
   ]
  },
  {
   "cell_type": "code",
   "execution_count": 54,
   "metadata": {},
   "outputs": [
    {
     "data": {
      "text/html": [
       "<div>\n",
       "<style scoped>\n",
       "    .dataframe tbody tr th:only-of-type {\n",
       "        vertical-align: middle;\n",
       "    }\n",
       "\n",
       "    .dataframe tbody tr th {\n",
       "        vertical-align: top;\n",
       "    }\n",
       "\n",
       "    .dataframe thead th {\n",
       "        text-align: right;\n",
       "    }\n",
       "</style>\n",
       "<table border=\"1\" class=\"dataframe\">\n",
       "  <thead>\n",
       "    <tr style=\"text-align: right;\">\n",
       "      <th>plan</th>\n",
       "      <th>surf</th>\n",
       "      <th>ultimate</th>\n",
       "    </tr>\n",
       "    <tr>\n",
       "      <th>month</th>\n",
       "      <th></th>\n",
       "      <th></th>\n",
       "    </tr>\n",
       "  </thead>\n",
       "  <tbody>\n",
       "    <tr>\n",
       "      <th>1</th>\n",
       "      <td>406</td>\n",
       "      <td>774</td>\n",
       "    </tr>\n",
       "    <tr>\n",
       "      <th>2</th>\n",
       "      <td>2673</td>\n",
       "      <td>2822</td>\n",
       "    </tr>\n",
       "    <tr>\n",
       "      <th>3</th>\n",
       "      <td>7590</td>\n",
       "      <td>3651</td>\n",
       "    </tr>\n",
       "    <tr>\n",
       "      <th>4</th>\n",
       "      <td>17577</td>\n",
       "      <td>7074</td>\n",
       "    </tr>\n",
       "    <tr>\n",
       "      <th>5</th>\n",
       "      <td>30768</td>\n",
       "      <td>11781</td>\n",
       "    </tr>\n",
       "    <tr>\n",
       "      <th>6</th>\n",
       "      <td>41836</td>\n",
       "      <td>17435</td>\n",
       "    </tr>\n",
       "    <tr>\n",
       "      <th>7</th>\n",
       "      <td>54448</td>\n",
       "      <td>25197</td>\n",
       "    </tr>\n",
       "    <tr>\n",
       "      <th>8</th>\n",
       "      <td>66438</td>\n",
       "      <td>29922</td>\n",
       "    </tr>\n",
       "    <tr>\n",
       "      <th>9</th>\n",
       "      <td>80360</td>\n",
       "      <td>37626</td>\n",
       "    </tr>\n",
       "    <tr>\n",
       "      <th>10</th>\n",
       "      <td>101846</td>\n",
       "      <td>47778</td>\n",
       "    </tr>\n",
       "    <tr>\n",
       "      <th>11</th>\n",
       "      <td>119801</td>\n",
       "      <td>56540</td>\n",
       "    </tr>\n",
       "    <tr>\n",
       "      <th>12</th>\n",
       "      <td>150680</td>\n",
       "      <td>69324</td>\n",
       "    </tr>\n",
       "  </tbody>\n",
       "</table>\n",
       "</div>"
      ],
      "text/plain": [
       "plan     surf  ultimate\n",
       "month                  \n",
       "1         406       774\n",
       "2        2673      2822\n",
       "3        7590      3651\n",
       "4       17577      7074\n",
       "5       30768     11781\n",
       "6       41836     17435\n",
       "7       54448     25197\n",
       "8       66438     29922\n",
       "9       80360     37626\n",
       "10     101846     47778\n",
       "11     119801     56540\n",
       "12     150680     69324"
      ]
     },
     "metadata": {},
     "output_type": "display_data"
    },
    {
     "data": {
      "image/png": "[encoded data removed]",
      "text/plain": [
       "<Figure size 432x288 with 1 Axes>"
      ]
     },
     "metadata": {
      "needs_background": "light"
     },
     "output_type": "display_data"
    }
   ],
   "source": [
    "# Compare the number of minutes users of each plan require each month. Plot a histogram.\n",
    "\n",
    "tot_min_mon = grand_monthly_table.pivot_table(index= 'month', values= 'duration', columns='plan', aggfunc='sum')\n",
    "display(tot_min_mon)\n",
    "tot_min_mon.plot(kind= 'hist')\n",
    "plt.show()"
   ]
  },
  {
   "cell_type": "markdown",
   "metadata": {},
   "source": [
    "[Calculate the mean and the variable of the call duration to reason on whether users on the different plans have different behaviours for their calls.]"
   ]
  },
  {
   "cell_type": "code",
   "execution_count": 55,
   "metadata": {},
   "outputs": [
    {
     "data": {
      "text/html": [
       "<div>\n",
       "<style scoped>\n",
       "    .dataframe tbody tr th:only-of-type {\n",
       "        vertical-align: middle;\n",
       "    }\n",
       "\n",
       "    .dataframe tbody tr th {\n",
       "        vertical-align: top;\n",
       "    }\n",
       "\n",
       "    .dataframe thead tr th {\n",
       "        text-align: left;\n",
       "    }\n",
       "\n",
       "    .dataframe thead tr:last-of-type th {\n",
       "        text-align: right;\n",
       "    }\n",
       "</style>\n",
       "<table border=\"1\" class=\"dataframe\">\n",
       "  <thead>\n",
       "    <tr>\n",
       "      <th></th>\n",
       "      <th colspan=\"2\" halign=\"left\">mean</th>\n",
       "      <th colspan=\"2\" halign=\"left\">var</th>\n",
       "      <th colspan=\"2\" halign=\"left\">std</th>\n",
       "    </tr>\n",
       "    <tr>\n",
       "      <th>plan</th>\n",
       "      <th>surf</th>\n",
       "      <th>ultimate</th>\n",
       "      <th>surf</th>\n",
       "      <th>ultimate</th>\n",
       "      <th>surf</th>\n",
       "      <th>ultimate</th>\n",
       "    </tr>\n",
       "    <tr>\n",
       "      <th>month</th>\n",
       "      <th></th>\n",
       "      <th></th>\n",
       "      <th></th>\n",
       "      <th></th>\n",
       "      <th></th>\n",
       "      <th></th>\n",
       "    </tr>\n",
       "  </thead>\n",
       "  <tbody>\n",
       "    <tr>\n",
       "      <th>1</th>\n",
       "      <td>203.000000</td>\n",
       "      <td>193.500000</td>\n",
       "      <td>15842.000000</td>\n",
       "      <td>16572.333333</td>\n",
       "      <td>125.865007</td>\n",
       "      <td>128.733575</td>\n",
       "    </tr>\n",
       "    <tr>\n",
       "      <th>2</th>\n",
       "      <td>297.000000</td>\n",
       "      <td>403.142857</td>\n",
       "      <td>52226.500000</td>\n",
       "      <td>76889.476190</td>\n",
       "      <td>228.531179</td>\n",
       "      <td>277.289517</td>\n",
       "    </tr>\n",
       "    <tr>\n",
       "      <th>3</th>\n",
       "      <td>330.000000</td>\n",
       "      <td>304.250000</td>\n",
       "      <td>35809.363636</td>\n",
       "      <td>61984.931818</td>\n",
       "      <td>189.233622</td>\n",
       "      <td>248.967732</td>\n",
       "    </tr>\n",
       "    <tr>\n",
       "      <th>4</th>\n",
       "      <td>351.540000</td>\n",
       "      <td>336.857143</td>\n",
       "      <td>50866.743265</td>\n",
       "      <td>34888.928571</td>\n",
       "      <td>225.536567</td>\n",
       "      <td>186.785783</td>\n",
       "    </tr>\n",
       "    <tr>\n",
       "      <th>5</th>\n",
       "      <td>399.584416</td>\n",
       "      <td>406.241379</td>\n",
       "      <td>59754.219754</td>\n",
       "      <td>43841.046798</td>\n",
       "      <td>244.446763</td>\n",
       "      <td>209.382537</td>\n",
       "    </tr>\n",
       "    <tr>\n",
       "      <th>6</th>\n",
       "      <td>431.298969</td>\n",
       "      <td>370.957447</td>\n",
       "      <td>45592.628436</td>\n",
       "      <td>42503.563367</td>\n",
       "      <td>213.524304</td>\n",
       "      <td>206.163924</td>\n",
       "    </tr>\n",
       "    <tr>\n",
       "      <th>7</th>\n",
       "      <td>449.983471</td>\n",
       "      <td>427.067797</td>\n",
       "      <td>61005.099725</td>\n",
       "      <td>72563.374635</td>\n",
       "      <td>246.992105</td>\n",
       "      <td>269.375898</td>\n",
       "    </tr>\n",
       "    <tr>\n",
       "      <th>8</th>\n",
       "      <td>410.111111</td>\n",
       "      <td>421.436620</td>\n",
       "      <td>54344.645963</td>\n",
       "      <td>53645.506640</td>\n",
       "      <td>233.119381</td>\n",
       "      <td>231.614997</td>\n",
       "    </tr>\n",
       "    <tr>\n",
       "      <th>9</th>\n",
       "      <td>414.226804</td>\n",
       "      <td>437.511628</td>\n",
       "      <td>46595.958656</td>\n",
       "      <td>57070.464569</td>\n",
       "      <td>215.860971</td>\n",
       "      <td>238.894254</td>\n",
       "    </tr>\n",
       "    <tr>\n",
       "      <th>10</th>\n",
       "      <td>429.729958</td>\n",
       "      <td>450.735849</td>\n",
       "      <td>52278.664056</td>\n",
       "      <td>54261.910512</td>\n",
       "      <td>228.645280</td>\n",
       "      <td>232.941861</td>\n",
       "    </tr>\n",
       "    <tr>\n",
       "      <th>11</th>\n",
       "      <td>423.325088</td>\n",
       "      <td>445.196850</td>\n",
       "      <td>51607.021602</td>\n",
       "      <td>60593.222847</td>\n",
       "      <td>227.171789</td>\n",
       "      <td>246.156907</td>\n",
       "    </tr>\n",
       "    <tr>\n",
       "      <th>12</th>\n",
       "      <td>473.836478</td>\n",
       "      <td>459.099338</td>\n",
       "      <td>63629.518918</td>\n",
       "      <td>62503.783400</td>\n",
       "      <td>252.248923</td>\n",
       "      <td>250.007567</td>\n",
       "    </tr>\n",
       "  </tbody>\n",
       "</table>\n",
       "</div>"
      ],
      "text/plain": [
       "             mean                       var                       std  \\\n",
       "plan         surf    ultimate          surf      ultimate        surf   \n",
       "month                                                                   \n",
       "1      203.000000  193.500000  15842.000000  16572.333333  125.865007   \n",
       "2      297.000000  403.142857  52226.500000  76889.476190  228.531179   \n",
       "3      330.000000  304.250000  35809.363636  61984.931818  189.233622   \n",
       "4      351.540000  336.857143  50866.743265  34888.928571  225.536567   \n",
       "5      399.584416  406.241379  59754.219754  43841.046798  244.446763   \n",
       "6      431.298969  370.957447  45592.628436  42503.563367  213.524304   \n",
       "7      449.983471  427.067797  61005.099725  72563.374635  246.992105   \n",
       "8      410.111111  421.436620  54344.645963  53645.506640  233.119381   \n",
       "9      414.226804  437.511628  46595.958656  57070.464569  215.860971   \n",
       "10     429.729958  450.735849  52278.664056  54261.910512  228.645280   \n",
       "11     423.325088  445.196850  51607.021602  60593.222847  227.171789   \n",
       "12     473.836478  459.099338  63629.518918  62503.783400  252.248923   \n",
       "\n",
       "                   \n",
       "plan     ultimate  \n",
       "month              \n",
       "1      128.733575  \n",
       "2      277.289517  \n",
       "3      248.967732  \n",
       "4      186.785783  \n",
       "5      209.382537  \n",
       "6      206.163924  \n",
       "7      269.375898  \n",
       "8      231.614997  \n",
       "9      238.894254  \n",
       "10     232.941861  \n",
       "11     246.156907  \n",
       "12     250.007567  "
      ]
     },
     "metadata": {},
     "output_type": "display_data"
    }
   ],
   "source": [
    "# Calculate the mean and the variance of the monthly call duration\n",
    "\n",
    "ave_var_mon_dur = grand_monthly_table.pivot_table(index= 'month', values= 'duration', columns='plan', aggfunc=['mean','var', 'std'])\n",
    "display(ave_var_mon_dur)"
   ]
  },
  {
   "cell_type": "markdown",
   "metadata": {},
   "source": [
    "<div class=\"alert alert-block alert-success\">\n",
    "<b>Reviewer's comment v1:</b>\n",
    "    \n",
    "It's great that you managed to calculate all the necessary metrics and display them in the table."
   ]
  },
  {
   "cell_type": "code",
   "execution_count": 56,
   "metadata": {},
   "outputs": [
    {
     "data": {
      "text/html": [
       "<div>\n",
       "<style scoped>\n",
       "    .dataframe tbody tr th:only-of-type {\n",
       "        vertical-align: middle;\n",
       "    }\n",
       "\n",
       "    .dataframe tbody tr th {\n",
       "        vertical-align: top;\n",
       "    }\n",
       "\n",
       "    .dataframe thead th {\n",
       "        text-align: right;\n",
       "    }\n",
       "</style>\n",
       "<table border=\"1\" class=\"dataframe\">\n",
       "  <thead>\n",
       "    <tr style=\"text-align: right;\">\n",
       "      <th>plan</th>\n",
       "      <th>surf</th>\n",
       "      <th>ultimate</th>\n",
       "    </tr>\n",
       "    <tr>\n",
       "      <th>month</th>\n",
       "      <th></th>\n",
       "      <th></th>\n",
       "    </tr>\n",
       "  </thead>\n",
       "  <tbody>\n",
       "    <tr>\n",
       "      <th>1</th>\n",
       "      <td>406</td>\n",
       "      <td>774</td>\n",
       "    </tr>\n",
       "    <tr>\n",
       "      <th>2</th>\n",
       "      <td>2673</td>\n",
       "      <td>2822</td>\n",
       "    </tr>\n",
       "    <tr>\n",
       "      <th>3</th>\n",
       "      <td>7590</td>\n",
       "      <td>3651</td>\n",
       "    </tr>\n",
       "    <tr>\n",
       "      <th>4</th>\n",
       "      <td>17577</td>\n",
       "      <td>7074</td>\n",
       "    </tr>\n",
       "    <tr>\n",
       "      <th>5</th>\n",
       "      <td>30768</td>\n",
       "      <td>11781</td>\n",
       "    </tr>\n",
       "    <tr>\n",
       "      <th>6</th>\n",
       "      <td>41836</td>\n",
       "      <td>17435</td>\n",
       "    </tr>\n",
       "    <tr>\n",
       "      <th>7</th>\n",
       "      <td>54448</td>\n",
       "      <td>25197</td>\n",
       "    </tr>\n",
       "    <tr>\n",
       "      <th>8</th>\n",
       "      <td>66438</td>\n",
       "      <td>29922</td>\n",
       "    </tr>\n",
       "    <tr>\n",
       "      <th>9</th>\n",
       "      <td>80360</td>\n",
       "      <td>37626</td>\n",
       "    </tr>\n",
       "    <tr>\n",
       "      <th>10</th>\n",
       "      <td>101846</td>\n",
       "      <td>47778</td>\n",
       "    </tr>\n",
       "    <tr>\n",
       "      <th>11</th>\n",
       "      <td>119801</td>\n",
       "      <td>56540</td>\n",
       "    </tr>\n",
       "    <tr>\n",
       "      <th>12</th>\n",
       "      <td>150680</td>\n",
       "      <td>69324</td>\n",
       "    </tr>\n",
       "  </tbody>\n",
       "</table>\n",
       "</div>"
      ],
      "text/plain": [
       "plan     surf  ultimate\n",
       "month                  \n",
       "1         406       774\n",
       "2        2673      2822\n",
       "3        7590      3651\n",
       "4       17577      7074\n",
       "5       30768     11781\n",
       "6       41836     17435\n",
       "7       54448     25197\n",
       "8       66438     29922\n",
       "9       80360     37626\n",
       "10     101846     47778\n",
       "11     119801     56540\n",
       "12     150680     69324"
      ]
     },
     "metadata": {},
     "output_type": "display_data"
    },
    {
     "data": {
      "image/png": "[encoded data removed]",
      "text/plain": [
       "<Figure size 1440x720 with 1 Axes>"
      ]
     },
     "metadata": {
      "needs_background": "light"
     },
     "output_type": "display_data"
    }
   ],
   "source": [
    "# Plot a boxplot to visualize the distribution of the monthly call duration\n",
    "mon_dur = grand_monthly_table.pivot_table(index= 'month', values= 'duration', columns='plan', aggfunc='sum')\n",
    "display(mon_dur)\n",
    "grand_monthly_table.boxplot(by= 'plan', column=['duration'], figsize=(20,10) )\n",
    "plt.show()\n"
   ]
  },
  {
   "cell_type": "markdown",
   "metadata": {},
   "source": [
    "From the above results we can see that the surf plan has the highest average mins and also the highest total mins per month. Users on the surf plan seem to be making longer phone calls than users on the ultimate plan. We can also see this clearly represented on the box plot. The median talk time for surf is slightly higher than ultimate."
   ]
  },
  {
   "cell_type": "markdown",
   "metadata": {},
   "source": [
    "### Messages"
   ]
  },
  {
   "cell_type": "code",
   "execution_count": 57,
   "metadata": {
    "scrolled": false
   },
   "outputs": [
    {
     "data": {
      "text/html": [
       "<div>\n",
       "<style scoped>\n",
       "    .dataframe tbody tr th:only-of-type {\n",
       "        vertical-align: middle;\n",
       "    }\n",
       "\n",
       "    .dataframe tbody tr th {\n",
       "        vertical-align: top;\n",
       "    }\n",
       "\n",
       "    .dataframe thead th {\n",
       "        text-align: right;\n",
       "    }\n",
       "</style>\n",
       "<table border=\"1\" class=\"dataframe\">\n",
       "  <thead>\n",
       "    <tr style=\"text-align: right;\">\n",
       "      <th>plan</th>\n",
       "      <th>surf</th>\n",
       "      <th>ultimate</th>\n",
       "    </tr>\n",
       "    <tr>\n",
       "      <th>month</th>\n",
       "      <th></th>\n",
       "      <th></th>\n",
       "    </tr>\n",
       "  </thead>\n",
       "  <tbody>\n",
       "    <tr>\n",
       "      <th>1</th>\n",
       "      <td>10.500000</td>\n",
       "      <td>15.500000</td>\n",
       "    </tr>\n",
       "    <tr>\n",
       "      <th>2</th>\n",
       "      <td>12.000000</td>\n",
       "      <td>21.571429</td>\n",
       "    </tr>\n",
       "    <tr>\n",
       "      <th>3</th>\n",
       "      <td>15.260870</td>\n",
       "      <td>20.250000</td>\n",
       "    </tr>\n",
       "    <tr>\n",
       "      <th>4</th>\n",
       "      <td>17.400000</td>\n",
       "      <td>22.047619</td>\n",
       "    </tr>\n",
       "    <tr>\n",
       "      <th>5</th>\n",
       "      <td>24.012987</td>\n",
       "      <td>32.103448</td>\n",
       "    </tr>\n",
       "    <tr>\n",
       "      <th>6</th>\n",
       "      <td>25.298969</td>\n",
       "      <td>29.340426</td>\n",
       "    </tr>\n",
       "    <tr>\n",
       "      <th>7</th>\n",
       "      <td>27.033058</td>\n",
       "      <td>32.830508</td>\n",
       "    </tr>\n",
       "    <tr>\n",
       "      <th>8</th>\n",
       "      <td>28.777778</td>\n",
       "      <td>38.478873</td>\n",
       "    </tr>\n",
       "    <tr>\n",
       "      <th>9</th>\n",
       "      <td>30.762887</td>\n",
       "      <td>37.895349</td>\n",
       "    </tr>\n",
       "    <tr>\n",
       "      <th>10</th>\n",
       "      <td>33.839662</td>\n",
       "      <td>39.443396</td>\n",
       "    </tr>\n",
       "    <tr>\n",
       "      <th>11</th>\n",
       "      <td>32.385159</td>\n",
       "      <td>38.606299</td>\n",
       "    </tr>\n",
       "    <tr>\n",
       "      <th>12</th>\n",
       "      <td>38.600629</td>\n",
       "      <td>45.006623</td>\n",
       "    </tr>\n",
       "  </tbody>\n",
       "</table>\n",
       "</div>"
      ],
      "text/plain": [
       "plan        surf   ultimate\n",
       "month                      \n",
       "1      10.500000  15.500000\n",
       "2      12.000000  21.571429\n",
       "3      15.260870  20.250000\n",
       "4      17.400000  22.047619\n",
       "5      24.012987  32.103448\n",
       "6      25.298969  29.340426\n",
       "7      27.033058  32.830508\n",
       "8      28.777778  38.478873\n",
       "9      30.762887  37.895349\n",
       "10     33.839662  39.443396\n",
       "11     32.385159  38.606299\n",
       "12     38.600629  45.006623"
      ]
     },
     "metadata": {},
     "output_type": "display_data"
    },
    {
     "data": {
      "image/png": "[encoded data removed]",
      "text/plain": [
       "<Figure size 432x288 with 1 Axes>"
      ]
     },
     "metadata": {
      "needs_background": "light"
     },
     "output_type": "display_data"
    }
   ],
   "source": [
    "# Compare the number of messages users of each plan tend to send each month\n",
    "\n",
    "ave_mess = grand_monthly_table.pivot_table(index= 'month', values= 'number_of_messages', columns='plan', aggfunc='mean')\n",
    "display(ave_mess)\n",
    "ave_mess.plot(kind= 'bar')\n",
    "plt.show()"
   ]
  },
  {
   "cell_type": "code",
   "execution_count": 58,
   "metadata": {},
   "outputs": [
    {
     "data": {
      "text/html": [
       "<div>\n",
       "<style scoped>\n",
       "    .dataframe tbody tr th:only-of-type {\n",
       "        vertical-align: middle;\n",
       "    }\n",
       "\n",
       "    .dataframe tbody tr th {\n",
       "        vertical-align: top;\n",
       "    }\n",
       "\n",
       "    .dataframe thead th {\n",
       "        text-align: right;\n",
       "    }\n",
       "</style>\n",
       "<table border=\"1\" class=\"dataframe\">\n",
       "  <thead>\n",
       "    <tr style=\"text-align: right;\">\n",
       "      <th>plan</th>\n",
       "      <th>surf</th>\n",
       "      <th>ultimate</th>\n",
       "    </tr>\n",
       "    <tr>\n",
       "      <th>month</th>\n",
       "      <th></th>\n",
       "      <th></th>\n",
       "    </tr>\n",
       "  </thead>\n",
       "  <tbody>\n",
       "    <tr>\n",
       "      <th>1</th>\n",
       "      <td>21</td>\n",
       "      <td>62</td>\n",
       "    </tr>\n",
       "    <tr>\n",
       "      <th>2</th>\n",
       "      <td>108</td>\n",
       "      <td>151</td>\n",
       "    </tr>\n",
       "    <tr>\n",
       "      <th>3</th>\n",
       "      <td>351</td>\n",
       "      <td>243</td>\n",
       "    </tr>\n",
       "    <tr>\n",
       "      <th>4</th>\n",
       "      <td>870</td>\n",
       "      <td>463</td>\n",
       "    </tr>\n",
       "    <tr>\n",
       "      <th>5</th>\n",
       "      <td>1849</td>\n",
       "      <td>931</td>\n",
       "    </tr>\n",
       "    <tr>\n",
       "      <th>6</th>\n",
       "      <td>2454</td>\n",
       "      <td>1379</td>\n",
       "    </tr>\n",
       "    <tr>\n",
       "      <th>7</th>\n",
       "      <td>3271</td>\n",
       "      <td>1937</td>\n",
       "    </tr>\n",
       "    <tr>\n",
       "      <th>8</th>\n",
       "      <td>4662</td>\n",
       "      <td>2732</td>\n",
       "    </tr>\n",
       "    <tr>\n",
       "      <th>9</th>\n",
       "      <td>5968</td>\n",
       "      <td>3259</td>\n",
       "    </tr>\n",
       "    <tr>\n",
       "      <th>10</th>\n",
       "      <td>8020</td>\n",
       "      <td>4181</td>\n",
       "    </tr>\n",
       "    <tr>\n",
       "      <th>11</th>\n",
       "      <td>9165</td>\n",
       "      <td>4903</td>\n",
       "    </tr>\n",
       "    <tr>\n",
       "      <th>12</th>\n",
       "      <td>12275</td>\n",
       "      <td>6796</td>\n",
       "    </tr>\n",
       "  </tbody>\n",
       "</table>\n",
       "</div>"
      ],
      "text/plain": [
       "plan    surf  ultimate\n",
       "month                 \n",
       "1         21        62\n",
       "2        108       151\n",
       "3        351       243\n",
       "4        870       463\n",
       "5       1849       931\n",
       "6       2454      1379\n",
       "7       3271      1937\n",
       "8       4662      2732\n",
       "9       5968      3259\n",
       "10      8020      4181\n",
       "11      9165      4903\n",
       "12     12275      6796"
      ]
     },
     "metadata": {},
     "output_type": "display_data"
    },
    {
     "data": {
      "image/png": "[encoded data removed]",
      "text/plain": [
       "<Figure size 432x288 with 1 Axes>"
      ]
     },
     "metadata": {
      "needs_background": "light"
     },
     "output_type": "display_data"
    }
   ],
   "source": [
    "# Compare the total amount of messages sent by customers on each plan \n",
    "\n",
    "tot_mess = grand_monthly_table.pivot_table(index= 'month', values= 'number_of_messages', columns='plan', aggfunc='sum')\n",
    "display(tot_mess)\n",
    "tot_mess.plot(kind= 'hist')\n",
    "plt.show()"
   ]
  },
  {
   "cell_type": "code",
   "execution_count": 59,
   "metadata": {
    "scrolled": true
   },
   "outputs": [
    {
     "data": {
      "text/html": [
       "<div>\n",
       "<style scoped>\n",
       "    .dataframe tbody tr th:only-of-type {\n",
       "        vertical-align: middle;\n",
       "    }\n",
       "\n",
       "    .dataframe tbody tr th {\n",
       "        vertical-align: top;\n",
       "    }\n",
       "\n",
       "    .dataframe thead tr th {\n",
       "        text-align: left;\n",
       "    }\n",
       "\n",
       "    .dataframe thead tr:last-of-type th {\n",
       "        text-align: right;\n",
       "    }\n",
       "</style>\n",
       "<table border=\"1\" class=\"dataframe\">\n",
       "  <thead>\n",
       "    <tr>\n",
       "      <th></th>\n",
       "      <th colspan=\"2\" halign=\"left\">mean</th>\n",
       "      <th colspan=\"2\" halign=\"left\">var</th>\n",
       "      <th colspan=\"2\" halign=\"left\">std</th>\n",
       "    </tr>\n",
       "    <tr>\n",
       "      <th>plan</th>\n",
       "      <th>surf</th>\n",
       "      <th>ultimate</th>\n",
       "      <th>surf</th>\n",
       "      <th>ultimate</th>\n",
       "      <th>surf</th>\n",
       "      <th>ultimate</th>\n",
       "    </tr>\n",
       "    <tr>\n",
       "      <th>month</th>\n",
       "      <th></th>\n",
       "      <th></th>\n",
       "      <th></th>\n",
       "      <th></th>\n",
       "      <th></th>\n",
       "      <th></th>\n",
       "    </tr>\n",
       "  </thead>\n",
       "  <tbody>\n",
       "    <tr>\n",
       "      <th>1</th>\n",
       "      <td>10.500000</td>\n",
       "      <td>15.500000</td>\n",
       "      <td>220.500000</td>\n",
       "      <td>313.666667</td>\n",
       "      <td>14.849242</td>\n",
       "      <td>17.710637</td>\n",
       "    </tr>\n",
       "    <tr>\n",
       "      <th>2</th>\n",
       "      <td>12.000000</td>\n",
       "      <td>21.571429</td>\n",
       "      <td>386.000000</td>\n",
       "      <td>478.285714</td>\n",
       "      <td>19.646883</td>\n",
       "      <td>21.869744</td>\n",
       "    </tr>\n",
       "    <tr>\n",
       "      <th>3</th>\n",
       "      <td>15.260870</td>\n",
       "      <td>20.250000</td>\n",
       "      <td>346.565217</td>\n",
       "      <td>654.386364</td>\n",
       "      <td>18.616262</td>\n",
       "      <td>25.580977</td>\n",
       "    </tr>\n",
       "    <tr>\n",
       "      <th>4</th>\n",
       "      <td>17.400000</td>\n",
       "      <td>22.047619</td>\n",
       "      <td>501.591837</td>\n",
       "      <td>544.147619</td>\n",
       "      <td>22.396246</td>\n",
       "      <td>23.326972</td>\n",
       "    </tr>\n",
       "    <tr>\n",
       "      <th>5</th>\n",
       "      <td>24.012987</td>\n",
       "      <td>32.103448</td>\n",
       "      <td>847.197198</td>\n",
       "      <td>1297.310345</td>\n",
       "      <td>29.106652</td>\n",
       "      <td>36.018195</td>\n",
       "    </tr>\n",
       "    <tr>\n",
       "      <th>6</th>\n",
       "      <td>25.298969</td>\n",
       "      <td>29.340426</td>\n",
       "      <td>914.920103</td>\n",
       "      <td>857.620722</td>\n",
       "      <td>30.247646</td>\n",
       "      <td>29.285162</td>\n",
       "    </tr>\n",
       "    <tr>\n",
       "      <th>7</th>\n",
       "      <td>27.033058</td>\n",
       "      <td>32.830508</td>\n",
       "      <td>923.915565</td>\n",
       "      <td>960.488019</td>\n",
       "      <td>30.395979</td>\n",
       "      <td>30.991741</td>\n",
       "    </tr>\n",
       "    <tr>\n",
       "      <th>8</th>\n",
       "      <td>28.777778</td>\n",
       "      <td>38.478873</td>\n",
       "      <td>1029.515528</td>\n",
       "      <td>1196.367404</td>\n",
       "      <td>32.086064</td>\n",
       "      <td>34.588544</td>\n",
       "    </tr>\n",
       "    <tr>\n",
       "      <th>9</th>\n",
       "      <td>30.762887</td>\n",
       "      <td>37.895349</td>\n",
       "      <td>1003.829496</td>\n",
       "      <td>1050.918331</td>\n",
       "      <td>31.683268</td>\n",
       "      <td>32.417871</td>\n",
       "    </tr>\n",
       "    <tr>\n",
       "      <th>10</th>\n",
       "      <td>33.839662</td>\n",
       "      <td>39.443396</td>\n",
       "      <td>1275.465708</td>\n",
       "      <td>1221.106289</td>\n",
       "      <td>35.713663</td>\n",
       "      <td>34.944331</td>\n",
       "    </tr>\n",
       "    <tr>\n",
       "      <th>11</th>\n",
       "      <td>32.385159</td>\n",
       "      <td>38.606299</td>\n",
       "      <td>1065.344034</td>\n",
       "      <td>1232.669166</td>\n",
       "      <td>32.639608</td>\n",
       "      <td>35.109389</td>\n",
       "    </tr>\n",
       "    <tr>\n",
       "      <th>12</th>\n",
       "      <td>38.600629</td>\n",
       "      <td>45.006623</td>\n",
       "      <td>1458.158612</td>\n",
       "      <td>1549.419956</td>\n",
       "      <td>38.185843</td>\n",
       "      <td>39.362672</td>\n",
       "    </tr>\n",
       "  </tbody>\n",
       "</table>\n",
       "</div>"
      ],
      "text/plain": [
       "            mean                     var                     std           \n",
       "plan        surf   ultimate         surf     ultimate       surf   ultimate\n",
       "month                                                                      \n",
       "1      10.500000  15.500000   220.500000   313.666667  14.849242  17.710637\n",
       "2      12.000000  21.571429   386.000000   478.285714  19.646883  21.869744\n",
       "3      15.260870  20.250000   346.565217   654.386364  18.616262  25.580977\n",
       "4      17.400000  22.047619   501.591837   544.147619  22.396246  23.326972\n",
       "5      24.012987  32.103448   847.197198  1297.310345  29.106652  36.018195\n",
       "6      25.298969  29.340426   914.920103   857.620722  30.247646  29.285162\n",
       "7      27.033058  32.830508   923.915565   960.488019  30.395979  30.991741\n",
       "8      28.777778  38.478873  1029.515528  1196.367404  32.086064  34.588544\n",
       "9      30.762887  37.895349  1003.829496  1050.918331  31.683268  32.417871\n",
       "10     33.839662  39.443396  1275.465708  1221.106289  35.713663  34.944331\n",
       "11     32.385159  38.606299  1065.344034  1232.669166  32.639608  35.109389\n",
       "12     38.600629  45.006623  1458.158612  1549.419956  38.185843  39.362672"
      ]
     },
     "metadata": {},
     "output_type": "display_data"
    }
   ],
   "source": [
    "# Calculate the mean and variance of the monthly messages\n",
    "ave_var_mess = grand_monthly_table.pivot_table(index= 'month', values= 'number_of_messages', columns='plan', aggfunc=['mean', 'var', 'std'])\n",
    "display(ave_var_mess)\n"
   ]
  },
  {
   "cell_type": "code",
   "execution_count": 60,
   "metadata": {},
   "outputs": [
    {
     "data": {
      "image/png": "[encoded data removed]",
      "text/plain": [
       "<Figure size 1440x720 with 1 Axes>"
      ]
     },
     "metadata": {
      "needs_background": "light"
     },
     "output_type": "display_data"
    }
   ],
   "source": [
    "# Plot a boxplot to visualize the distribution of the monthly messages sent\n",
    "grand_monthly_table.boxplot(by= 'plan', column=['number_of_messages'], figsize=(20,10) )\n",
    "plt.show()"
   ]
  },
  {
   "cell_type": "markdown",
   "metadata": {},
   "source": [
    "From the analysis above, we can see that the ultimate plan users seem to have a higher average number of messages sent per month. But when we look at the total number of messages, surf users appear to send more messages overall. Perhaps there are a few customers on the ultimate plan who send lots of messages each month compared to the rest and are therefore outliers as is also seen on the boxplot."
   ]
  },
  {
   "cell_type": "markdown",
   "metadata": {},
   "source": [
    " "
   ]
  },
  {
   "cell_type": "markdown",
   "metadata": {},
   "source": [
    "### Internet"
   ]
  },
  {
   "cell_type": "code",
   "execution_count": 61,
   "metadata": {},
   "outputs": [
    {
     "data": {
      "text/html": [
       "<div>\n",
       "<style scoped>\n",
       "    .dataframe tbody tr th:only-of-type {\n",
       "        vertical-align: middle;\n",
       "    }\n",
       "\n",
       "    .dataframe tbody tr th {\n",
       "        vertical-align: top;\n",
       "    }\n",
       "\n",
       "    .dataframe thead th {\n",
       "        text-align: right;\n",
       "    }\n",
       "</style>\n",
       "<table border=\"1\" class=\"dataframe\">\n",
       "  <thead>\n",
       "    <tr style=\"text-align: right;\">\n",
       "      <th>plan</th>\n",
       "      <th>surf</th>\n",
       "      <th>ultimate</th>\n",
       "    </tr>\n",
       "    <tr>\n",
       "      <th>month</th>\n",
       "      <th></th>\n",
       "      <th></th>\n",
       "    </tr>\n",
       "  </thead>\n",
       "  <tbody>\n",
       "    <tr>\n",
       "      <th>1</th>\n",
       "      <td>5000.000000</td>\n",
       "      <td>7250.000000</td>\n",
       "    </tr>\n",
       "    <tr>\n",
       "      <th>2</th>\n",
       "      <td>12555.555556</td>\n",
       "      <td>17571.428571</td>\n",
       "    </tr>\n",
       "    <tr>\n",
       "      <th>3</th>\n",
       "      <td>13782.608696</td>\n",
       "      <td>18833.333333</td>\n",
       "    </tr>\n",
       "    <tr>\n",
       "      <th>4</th>\n",
       "      <td>12380.000000</td>\n",
       "      <td>16476.190476</td>\n",
       "    </tr>\n",
       "    <tr>\n",
       "      <th>5</th>\n",
       "      <td>14441.558442</td>\n",
       "      <td>17068.965517</td>\n",
       "    </tr>\n",
       "    <tr>\n",
       "      <th>6</th>\n",
       "      <td>15742.268041</td>\n",
       "      <td>15829.787234</td>\n",
       "    </tr>\n",
       "    <tr>\n",
       "      <th>7</th>\n",
       "      <td>17280.991736</td>\n",
       "      <td>16796.610169</td>\n",
       "    </tr>\n",
       "    <tr>\n",
       "      <th>8</th>\n",
       "      <td>17228.395062</td>\n",
       "      <td>18366.197183</td>\n",
       "    </tr>\n",
       "    <tr>\n",
       "      <th>9</th>\n",
       "      <td>17061.855670</td>\n",
       "      <td>17534.883721</td>\n",
       "    </tr>\n",
       "    <tr>\n",
       "      <th>10</th>\n",
       "      <td>17767.932489</td>\n",
       "      <td>18084.905660</td>\n",
       "    </tr>\n",
       "    <tr>\n",
       "      <th>11</th>\n",
       "      <td>16819.787986</td>\n",
       "      <td>17527.559055</td>\n",
       "    </tr>\n",
       "    <tr>\n",
       "      <th>12</th>\n",
       "      <td>18606.918239</td>\n",
       "      <td>18827.814570</td>\n",
       "    </tr>\n",
       "  </tbody>\n",
       "</table>\n",
       "</div>"
      ],
      "text/plain": [
       "plan           surf      ultimate\n",
       "month                            \n",
       "1       5000.000000   7250.000000\n",
       "2      12555.555556  17571.428571\n",
       "3      13782.608696  18833.333333\n",
       "4      12380.000000  16476.190476\n",
       "5      14441.558442  17068.965517\n",
       "6      15742.268041  15829.787234\n",
       "7      17280.991736  16796.610169\n",
       "8      17228.395062  18366.197183\n",
       "9      17061.855670  17534.883721\n",
       "10     17767.932489  18084.905660\n",
       "11     16819.787986  17527.559055\n",
       "12     18606.918239  18827.814570"
      ]
     },
     "metadata": {},
     "output_type": "display_data"
    },
    {
     "data": {
      "image/png": "[encoded data removed]",
      "text/plain": [
       "<Figure size 432x288 with 1 Axes>"
      ]
     },
     "metadata": {
      "needs_background": "light"
     },
     "output_type": "display_data"
    }
   ],
   "source": [
    "# Compare the average mb used by users per plan\n",
    "ave_mb = grand_monthly_table.pivot_table(index= 'month', values= 'mb_used', columns='plan', aggfunc='mean')\n",
    "display(ave_mb)\n",
    "ave_mb.plot(kind= 'bar')\n",
    "plt.show()"
   ]
  },
  {
   "cell_type": "code",
   "execution_count": 62,
   "metadata": {},
   "outputs": [
    {
     "data": {
      "text/html": [
       "<div>\n",
       "<style scoped>\n",
       "    .dataframe tbody tr th:only-of-type {\n",
       "        vertical-align: middle;\n",
       "    }\n",
       "\n",
       "    .dataframe tbody tr th {\n",
       "        vertical-align: top;\n",
       "    }\n",
       "\n",
       "    .dataframe thead th {\n",
       "        text-align: right;\n",
       "    }\n",
       "</style>\n",
       "<table border=\"1\" class=\"dataframe\">\n",
       "  <thead>\n",
       "    <tr style=\"text-align: right;\">\n",
       "      <th>plan</th>\n",
       "      <th>surf</th>\n",
       "      <th>ultimate</th>\n",
       "    </tr>\n",
       "    <tr>\n",
       "      <th>month</th>\n",
       "      <th></th>\n",
       "      <th></th>\n",
       "    </tr>\n",
       "  </thead>\n",
       "  <tbody>\n",
       "    <tr>\n",
       "      <th>1</th>\n",
       "      <td>5000.000000</td>\n",
       "      <td>7250.000000</td>\n",
       "    </tr>\n",
       "    <tr>\n",
       "      <th>2</th>\n",
       "      <td>12555.555556</td>\n",
       "      <td>17571.428571</td>\n",
       "    </tr>\n",
       "    <tr>\n",
       "      <th>3</th>\n",
       "      <td>13782.608696</td>\n",
       "      <td>18833.333333</td>\n",
       "    </tr>\n",
       "    <tr>\n",
       "      <th>4</th>\n",
       "      <td>12380.000000</td>\n",
       "      <td>16476.190476</td>\n",
       "    </tr>\n",
       "    <tr>\n",
       "      <th>5</th>\n",
       "      <td>14441.558442</td>\n",
       "      <td>17068.965517</td>\n",
       "    </tr>\n",
       "    <tr>\n",
       "      <th>6</th>\n",
       "      <td>15742.268041</td>\n",
       "      <td>15829.787234</td>\n",
       "    </tr>\n",
       "    <tr>\n",
       "      <th>7</th>\n",
       "      <td>17280.991736</td>\n",
       "      <td>16796.610169</td>\n",
       "    </tr>\n",
       "    <tr>\n",
       "      <th>8</th>\n",
       "      <td>17228.395062</td>\n",
       "      <td>18366.197183</td>\n",
       "    </tr>\n",
       "    <tr>\n",
       "      <th>9</th>\n",
       "      <td>17061.855670</td>\n",
       "      <td>17534.883721</td>\n",
       "    </tr>\n",
       "    <tr>\n",
       "      <th>10</th>\n",
       "      <td>17767.932489</td>\n",
       "      <td>18084.905660</td>\n",
       "    </tr>\n",
       "    <tr>\n",
       "      <th>11</th>\n",
       "      <td>16819.787986</td>\n",
       "      <td>17527.559055</td>\n",
       "    </tr>\n",
       "    <tr>\n",
       "      <th>12</th>\n",
       "      <td>18606.918239</td>\n",
       "      <td>18827.814570</td>\n",
       "    </tr>\n",
       "  </tbody>\n",
       "</table>\n",
       "</div>"
      ],
      "text/plain": [
       "plan           surf      ultimate\n",
       "month                            \n",
       "1       5000.000000   7250.000000\n",
       "2      12555.555556  17571.428571\n",
       "3      13782.608696  18833.333333\n",
       "4      12380.000000  16476.190476\n",
       "5      14441.558442  17068.965517\n",
       "6      15742.268041  15829.787234\n",
       "7      17280.991736  16796.610169\n",
       "8      17228.395062  18366.197183\n",
       "9      17061.855670  17534.883721\n",
       "10     17767.932489  18084.905660\n",
       "11     16819.787986  17527.559055\n",
       "12     18606.918239  18827.814570"
      ]
     },
     "metadata": {},
     "output_type": "display_data"
    },
    {
     "data": {
      "image/png": "[encoded data removed]",
      "text/plain": [
       "<Figure size 432x288 with 1 Axes>"
      ]
     },
     "metadata": {
      "needs_background": "light"
     },
     "output_type": "display_data"
    }
   ],
   "source": [
    "# Compare the amount of internet traffic consumed by users per plan\n",
    "tot_mb = grand_monthly_table.pivot_table(index= 'month', values= 'mb_used', columns='plan', aggfunc='mean')\n",
    "display(tot_mb)\n",
    "tot_mb.plot(kind= 'hist')\n",
    "plt.show()"
   ]
  },
  {
   "cell_type": "code",
   "execution_count": 63,
   "metadata": {
    "scrolled": true
   },
   "outputs": [
    {
     "data": {
      "text/html": [
       "<div>\n",
       "<style scoped>\n",
       "    .dataframe tbody tr th:only-of-type {\n",
       "        vertical-align: middle;\n",
       "    }\n",
       "\n",
       "    .dataframe tbody tr th {\n",
       "        vertical-align: top;\n",
       "    }\n",
       "\n",
       "    .dataframe thead tr th {\n",
       "        text-align: left;\n",
       "    }\n",
       "\n",
       "    .dataframe thead tr:last-of-type th {\n",
       "        text-align: right;\n",
       "    }\n",
       "</style>\n",
       "<table border=\"1\" class=\"dataframe\">\n",
       "  <thead>\n",
       "    <tr>\n",
       "      <th></th>\n",
       "      <th colspan=\"2\" halign=\"left\">mean</th>\n",
       "      <th colspan=\"2\" halign=\"left\">var</th>\n",
       "      <th colspan=\"2\" halign=\"left\">std</th>\n",
       "    </tr>\n",
       "    <tr>\n",
       "      <th>plan</th>\n",
       "      <th>surf</th>\n",
       "      <th>ultimate</th>\n",
       "      <th>surf</th>\n",
       "      <th>ultimate</th>\n",
       "      <th>surf</th>\n",
       "      <th>ultimate</th>\n",
       "    </tr>\n",
       "    <tr>\n",
       "      <th>month</th>\n",
       "      <th></th>\n",
       "      <th></th>\n",
       "      <th></th>\n",
       "      <th></th>\n",
       "      <th></th>\n",
       "      <th></th>\n",
       "    </tr>\n",
       "  </thead>\n",
       "  <tbody>\n",
       "    <tr>\n",
       "      <th>1</th>\n",
       "      <td>5000.000000</td>\n",
       "      <td>7250.000000</td>\n",
       "      <td>1.800000e+07</td>\n",
       "      <td>1.491667e+07</td>\n",
       "      <td>4242.640687</td>\n",
       "      <td>3862.210075</td>\n",
       "    </tr>\n",
       "    <tr>\n",
       "      <th>2</th>\n",
       "      <td>12555.555556</td>\n",
       "      <td>17571.428571</td>\n",
       "      <td>4.727778e+07</td>\n",
       "      <td>3.995238e+07</td>\n",
       "      <td>6875.883782</td>\n",
       "      <td>6320.789583</td>\n",
       "    </tr>\n",
       "    <tr>\n",
       "      <th>3</th>\n",
       "      <td>13782.608696</td>\n",
       "      <td>18833.333333</td>\n",
       "      <td>6.754150e+07</td>\n",
       "      <td>1.408788e+08</td>\n",
       "      <td>8218.363704</td>\n",
       "      <td>11869.237039</td>\n",
       "    </tr>\n",
       "    <tr>\n",
       "      <th>4</th>\n",
       "      <td>12380.000000</td>\n",
       "      <td>16476.190476</td>\n",
       "      <td>6.007714e+07</td>\n",
       "      <td>8.866190e+07</td>\n",
       "      <td>7750.944643</td>\n",
       "      <td>9416.045070</td>\n",
       "    </tr>\n",
       "    <tr>\n",
       "      <th>5</th>\n",
       "      <td>14441.558442</td>\n",
       "      <td>17068.965517</td>\n",
       "      <td>6.209193e+07</td>\n",
       "      <td>5.556650e+07</td>\n",
       "      <td>7879.843551</td>\n",
       "      <td>7454.294230</td>\n",
       "    </tr>\n",
       "    <tr>\n",
       "      <th>6</th>\n",
       "      <td>15742.268041</td>\n",
       "      <td>15829.787234</td>\n",
       "      <td>4.992247e+07</td>\n",
       "      <td>7.210083e+07</td>\n",
       "      <td>7065.583177</td>\n",
       "      <td>8491.220911</td>\n",
       "    </tr>\n",
       "    <tr>\n",
       "      <th>7</th>\n",
       "      <td>17280.991736</td>\n",
       "      <td>16796.610169</td>\n",
       "      <td>6.535372e+07</td>\n",
       "      <td>6.802688e+07</td>\n",
       "      <td>8084.164707</td>\n",
       "      <td>8247.841224</td>\n",
       "    </tr>\n",
       "    <tr>\n",
       "      <th>8</th>\n",
       "      <td>17228.395062</td>\n",
       "      <td>18366.197183</td>\n",
       "      <td>7.565559e+07</td>\n",
       "      <td>6.054970e+07</td>\n",
       "      <td>8698.021972</td>\n",
       "      <td>7781.368658</td>\n",
       "    </tr>\n",
       "    <tr>\n",
       "      <th>9</th>\n",
       "      <td>17061.855670</td>\n",
       "      <td>17534.883721</td>\n",
       "      <td>5.168527e+07</td>\n",
       "      <td>4.923995e+07</td>\n",
       "      <td>7189.247055</td>\n",
       "      <td>7017.118018</td>\n",
       "    </tr>\n",
       "    <tr>\n",
       "      <th>10</th>\n",
       "      <td>17767.932489</td>\n",
       "      <td>18084.905660</td>\n",
       "      <td>6.272134e+07</td>\n",
       "      <td>5.722129e+07</td>\n",
       "      <td>7919.680562</td>\n",
       "      <td>7564.475778</td>\n",
       "    </tr>\n",
       "    <tr>\n",
       "      <th>11</th>\n",
       "      <td>16819.787986</td>\n",
       "      <td>17527.559055</td>\n",
       "      <td>5.788585e+07</td>\n",
       "      <td>5.858455e+07</td>\n",
       "      <td>7608.274981</td>\n",
       "      <td>7654.054607</td>\n",
       "    </tr>\n",
       "    <tr>\n",
       "      <th>12</th>\n",
       "      <td>18606.918239</td>\n",
       "      <td>18827.814570</td>\n",
       "      <td>7.213837e+07</td>\n",
       "      <td>6.329015e+07</td>\n",
       "      <td>8493.431268</td>\n",
       "      <td>7955.510953</td>\n",
       "    </tr>\n",
       "  </tbody>\n",
       "</table>\n",
       "</div>"
      ],
      "text/plain": [
       "               mean                         var                        std  \\\n",
       "plan           surf      ultimate          surf      ultimate         surf   \n",
       "month                                                                        \n",
       "1       5000.000000   7250.000000  1.800000e+07  1.491667e+07  4242.640687   \n",
       "2      12555.555556  17571.428571  4.727778e+07  3.995238e+07  6875.883782   \n",
       "3      13782.608696  18833.333333  6.754150e+07  1.408788e+08  8218.363704   \n",
       "4      12380.000000  16476.190476  6.007714e+07  8.866190e+07  7750.944643   \n",
       "5      14441.558442  17068.965517  6.209193e+07  5.556650e+07  7879.843551   \n",
       "6      15742.268041  15829.787234  4.992247e+07  7.210083e+07  7065.583177   \n",
       "7      17280.991736  16796.610169  6.535372e+07  6.802688e+07  8084.164707   \n",
       "8      17228.395062  18366.197183  7.565559e+07  6.054970e+07  8698.021972   \n",
       "9      17061.855670  17534.883721  5.168527e+07  4.923995e+07  7189.247055   \n",
       "10     17767.932489  18084.905660  6.272134e+07  5.722129e+07  7919.680562   \n",
       "11     16819.787986  17527.559055  5.788585e+07  5.858455e+07  7608.274981   \n",
       "12     18606.918239  18827.814570  7.213837e+07  6.329015e+07  8493.431268   \n",
       "\n",
       "                     \n",
       "plan       ultimate  \n",
       "month                \n",
       "1       3862.210075  \n",
       "2       6320.789583  \n",
       "3      11869.237039  \n",
       "4       9416.045070  \n",
       "5       7454.294230  \n",
       "6       8491.220911  \n",
       "7       8247.841224  \n",
       "8       7781.368658  \n",
       "9       7017.118018  \n",
       "10      7564.475778  \n",
       "11      7654.054607  \n",
       "12      7955.510953  "
      ]
     },
     "metadata": {},
     "output_type": "display_data"
    }
   ],
   "source": [
    "# Calculate the mean and variance of the monthly mb used\n",
    "ave_var_mb = grand_monthly_table.pivot_table(index= 'month', values= 'mb_used', columns='plan', aggfunc=['mean', 'var', 'std'])\n",
    "display(ave_var_mb)\n"
   ]
  },
  {
   "cell_type": "code",
   "execution_count": 64,
   "metadata": {},
   "outputs": [
    {
     "data": {
      "image/png": "[encoded data removed]",
      "text/plain": [
       "<Figure size 1440x720 with 1 Axes>"
      ]
     },
     "metadata": {
      "needs_background": "light"
     },
     "output_type": "display_data"
    }
   ],
   "source": [
    "# Plot a boxplot to visualize the distribution of the monthly mb used\n",
    "grand_monthly_table.boxplot(by= 'plan', column=['mb_used'], figsize=(20,10) )\n",
    "plt.show()"
   ]
  },
  {
   "cell_type": "markdown",
   "metadata": {},
   "source": [
    "As is expected, ultimate plan users use more mb per month than surf plan users. Although, the boxplot shows that some surf plan users tend to consume a lot of mb. Seeing as mb on this plan is more expensive than on ultimate after the data limit has been passed, this is quite significant. "
   ]
  },
  {
   "cell_type": "markdown",
   "metadata": {},
   "source": [
    "## Revenue"
   ]
  },
  {
   "cell_type": "markdown",
   "metadata": {},
   "source": [
    "[Likewise you have studied the user behaviour, statistically describe the revenue between the plans.]"
   ]
  },
  {
   "cell_type": "code",
   "execution_count": 65,
   "metadata": {},
   "outputs": [
    {
     "data": {
      "text/html": [
       "<div>\n",
       "<style scoped>\n",
       "    .dataframe tbody tr th:only-of-type {\n",
       "        vertical-align: middle;\n",
       "    }\n",
       "\n",
       "    .dataframe tbody tr th {\n",
       "        vertical-align: top;\n",
       "    }\n",
       "\n",
       "    .dataframe thead th {\n",
       "        text-align: right;\n",
       "    }\n",
       "</style>\n",
       "<table border=\"1\" class=\"dataframe\">\n",
       "  <thead>\n",
       "    <tr style=\"text-align: right;\">\n",
       "      <th>plan</th>\n",
       "      <th>surf</th>\n",
       "      <th>ultimate</th>\n",
       "    </tr>\n",
       "    <tr>\n",
       "      <th>month</th>\n",
       "      <th></th>\n",
       "      <th></th>\n",
       "    </tr>\n",
       "  </thead>\n",
       "  <tbody>\n",
       "    <tr>\n",
       "      <th>1</th>\n",
       "      <td>20.000000</td>\n",
       "      <td>70.000000</td>\n",
       "    </tr>\n",
       "    <tr>\n",
       "      <th>2</th>\n",
       "      <td>35.776875</td>\n",
       "      <td>70.000000</td>\n",
       "    </tr>\n",
       "    <tr>\n",
       "      <th>3</th>\n",
       "      <td>45.791848</td>\n",
       "      <td>100.716146</td>\n",
       "    </tr>\n",
       "    <tr>\n",
       "      <th>4</th>\n",
       "      <td>40.423100</td>\n",
       "      <td>83.111979</td>\n",
       "    </tr>\n",
       "    <tr>\n",
       "      <th>5</th>\n",
       "      <td>47.971120</td>\n",
       "      <td>77.844828</td>\n",
       "    </tr>\n",
       "    <tr>\n",
       "      <th>6</th>\n",
       "      <td>48.760019</td>\n",
       "      <td>76.003989</td>\n",
       "    </tr>\n",
       "    <tr>\n",
       "      <th>7</th>\n",
       "      <td>62.903905</td>\n",
       "      <td>75.478019</td>\n",
       "    </tr>\n",
       "    <tr>\n",
       "      <th>8</th>\n",
       "      <td>63.865586</td>\n",
       "      <td>81.827135</td>\n",
       "    </tr>\n",
       "    <tr>\n",
       "      <th>9</th>\n",
       "      <td>58.042758</td>\n",
       "      <td>78.123637</td>\n",
       "    </tr>\n",
       "    <tr>\n",
       "      <th>10</th>\n",
       "      <td>64.857867</td>\n",
       "      <td>78.244399</td>\n",
       "    </tr>\n",
       "    <tr>\n",
       "      <th>11</th>\n",
       "      <td>58.205799</td>\n",
       "      <td>76.665846</td>\n",
       "    </tr>\n",
       "    <tr>\n",
       "      <th>12</th>\n",
       "      <td>70.024910</td>\n",
       "      <td>81.710731</td>\n",
       "    </tr>\n",
       "  </tbody>\n",
       "</table>\n",
       "</div>"
      ],
      "text/plain": [
       "plan        surf    ultimate\n",
       "month                       \n",
       "1      20.000000   70.000000\n",
       "2      35.776875   70.000000\n",
       "3      45.791848  100.716146\n",
       "4      40.423100   83.111979\n",
       "5      47.971120   77.844828\n",
       "6      48.760019   76.003989\n",
       "7      62.903905   75.478019\n",
       "8      63.865586   81.827135\n",
       "9      58.042758   78.123637\n",
       "10     64.857867   78.244399\n",
       "11     58.205799   76.665846\n",
       "12     70.024910   81.710731"
      ]
     },
     "metadata": {},
     "output_type": "display_data"
    },
    {
     "data": {
      "image/png": "[encoded data removed]",
      "text/plain": [
       "<Figure size 432x288 with 1 Axes>"
      ]
     },
     "metadata": {
      "needs_background": "light"
     },
     "output_type": "display_data"
    }
   ],
   "source": [
    "# Compare average monthly rev for each plan\n",
    "ave_rev = grand_monthly_table.pivot_table(index= 'month', values= 'monthly_rev', columns='plan', aggfunc='mean')\n",
    "display(ave_rev)\n",
    "ave_rev.plot(kind= 'bar')\n",
    "plt.show()"
   ]
  },
  {
   "cell_type": "code",
   "execution_count": 66,
   "metadata": {},
   "outputs": [
    {
     "data": {
      "text/html": [
       "<div>\n",
       "<style scoped>\n",
       "    .dataframe tbody tr th:only-of-type {\n",
       "        vertical-align: middle;\n",
       "    }\n",
       "\n",
       "    .dataframe tbody tr th {\n",
       "        vertical-align: top;\n",
       "    }\n",
       "\n",
       "    .dataframe thead th {\n",
       "        text-align: right;\n",
       "    }\n",
       "</style>\n",
       "<table border=\"1\" class=\"dataframe\">\n",
       "  <thead>\n",
       "    <tr style=\"text-align: right;\">\n",
       "      <th>plan</th>\n",
       "      <th>surf</th>\n",
       "      <th>ultimate</th>\n",
       "    </tr>\n",
       "    <tr>\n",
       "      <th>month</th>\n",
       "      <th></th>\n",
       "      <th></th>\n",
       "    </tr>\n",
       "  </thead>\n",
       "  <tbody>\n",
       "    <tr>\n",
       "      <th>1</th>\n",
       "      <td>40.000000</td>\n",
       "      <td>280.000000</td>\n",
       "    </tr>\n",
       "    <tr>\n",
       "      <th>2</th>\n",
       "      <td>321.991875</td>\n",
       "      <td>490.000000</td>\n",
       "    </tr>\n",
       "    <tr>\n",
       "      <th>3</th>\n",
       "      <td>1053.212500</td>\n",
       "      <td>1208.593750</td>\n",
       "    </tr>\n",
       "    <tr>\n",
       "      <th>4</th>\n",
       "      <td>2021.155000</td>\n",
       "      <td>1745.351562</td>\n",
       "    </tr>\n",
       "    <tr>\n",
       "      <th>5</th>\n",
       "      <td>3693.776250</td>\n",
       "      <td>2257.500000</td>\n",
       "    </tr>\n",
       "    <tr>\n",
       "      <th>6</th>\n",
       "      <td>4729.721875</td>\n",
       "      <td>3572.187500</td>\n",
       "    </tr>\n",
       "    <tr>\n",
       "      <th>7</th>\n",
       "      <td>7611.372500</td>\n",
       "      <td>4453.203125</td>\n",
       "    </tr>\n",
       "    <tr>\n",
       "      <th>8</th>\n",
       "      <td>10346.225000</td>\n",
       "      <td>5809.726562</td>\n",
       "    </tr>\n",
       "    <tr>\n",
       "      <th>9</th>\n",
       "      <td>11260.295000</td>\n",
       "      <td>6718.632812</td>\n",
       "    </tr>\n",
       "    <tr>\n",
       "      <th>10</th>\n",
       "      <td>15371.314375</td>\n",
       "      <td>8293.906250</td>\n",
       "    </tr>\n",
       "    <tr>\n",
       "      <th>11</th>\n",
       "      <td>16472.241250</td>\n",
       "      <td>9736.562500</td>\n",
       "    </tr>\n",
       "    <tr>\n",
       "      <th>12</th>\n",
       "      <td>22267.921250</td>\n",
       "      <td>12338.320312</td>\n",
       "    </tr>\n",
       "  </tbody>\n",
       "</table>\n",
       "</div>"
      ],
      "text/plain": [
       "plan           surf      ultimate\n",
       "month                            \n",
       "1         40.000000    280.000000\n",
       "2        321.991875    490.000000\n",
       "3       1053.212500   1208.593750\n",
       "4       2021.155000   1745.351562\n",
       "5       3693.776250   2257.500000\n",
       "6       4729.721875   3572.187500\n",
       "7       7611.372500   4453.203125\n",
       "8      10346.225000   5809.726562\n",
       "9      11260.295000   6718.632812\n",
       "10     15371.314375   8293.906250\n",
       "11     16472.241250   9736.562500\n",
       "12     22267.921250  12338.320312"
      ]
     },
     "metadata": {},
     "output_type": "display_data"
    },
    {
     "data": {
      "image/png": "[encoded data removed]",
      "text/plain": [
       "<Figure size 432x288 with 1 Axes>"
      ]
     },
     "metadata": {
      "needs_background": "light"
     },
     "output_type": "display_data"
    }
   ],
   "source": [
    "# Compare total monthly rev for each plan\n",
    "tot_rev = grand_monthly_table.pivot_table(index= 'month', values= 'monthly_rev', columns='plan', aggfunc='sum')\n",
    "display(tot_rev)\n",
    "tot_rev.plot(kind= 'hist')\n",
    "plt.show()"
   ]
  },
  {
   "cell_type": "code",
   "execution_count": 67,
   "metadata": {},
   "outputs": [
    {
     "data": {
      "text/html": [
       "<div>\n",
       "<style scoped>\n",
       "    .dataframe tbody tr th:only-of-type {\n",
       "        vertical-align: middle;\n",
       "    }\n",
       "\n",
       "    .dataframe tbody tr th {\n",
       "        vertical-align: top;\n",
       "    }\n",
       "\n",
       "    .dataframe thead tr th {\n",
       "        text-align: left;\n",
       "    }\n",
       "\n",
       "    .dataframe thead tr:last-of-type th {\n",
       "        text-align: right;\n",
       "    }\n",
       "</style>\n",
       "<table border=\"1\" class=\"dataframe\">\n",
       "  <thead>\n",
       "    <tr>\n",
       "      <th></th>\n",
       "      <th colspan=\"2\" halign=\"left\">mean</th>\n",
       "      <th colspan=\"2\" halign=\"left\">var</th>\n",
       "      <th colspan=\"2\" halign=\"left\">std</th>\n",
       "    </tr>\n",
       "    <tr>\n",
       "      <th>plan</th>\n",
       "      <th>surf</th>\n",
       "      <th>ultimate</th>\n",
       "      <th>surf</th>\n",
       "      <th>ultimate</th>\n",
       "      <th>surf</th>\n",
       "      <th>ultimate</th>\n",
       "    </tr>\n",
       "    <tr>\n",
       "      <th>month</th>\n",
       "      <th></th>\n",
       "      <th></th>\n",
       "      <th></th>\n",
       "      <th></th>\n",
       "      <th></th>\n",
       "      <th></th>\n",
       "    </tr>\n",
       "  </thead>\n",
       "  <tbody>\n",
       "    <tr>\n",
       "      <th>1</th>\n",
       "      <td>20.000000</td>\n",
       "      <td>70.000000</td>\n",
       "      <td>0.000000</td>\n",
       "      <td>0.000000</td>\n",
       "      <td>0.000000</td>\n",
       "      <td>0.000000</td>\n",
       "    </tr>\n",
       "    <tr>\n",
       "      <th>2</th>\n",
       "      <td>35.776875</td>\n",
       "      <td>70.000000</td>\n",
       "      <td>431.402479</td>\n",
       "      <td>0.000000</td>\n",
       "      <td>20.770231</td>\n",
       "      <td>0.000000</td>\n",
       "    </tr>\n",
       "    <tr>\n",
       "      <th>3</th>\n",
       "      <td>45.791848</td>\n",
       "      <td>100.716146</td>\n",
       "      <td>1513.599164</td>\n",
       "      <td>3175.553848</td>\n",
       "      <td>38.905002</td>\n",
       "      <td>56.352053</td>\n",
       "    </tr>\n",
       "    <tr>\n",
       "      <th>4</th>\n",
       "      <td>40.423100</td>\n",
       "      <td>83.111979</td>\n",
       "      <td>1203.391813</td>\n",
       "      <td>1744.148153</td>\n",
       "      <td>34.689938</td>\n",
       "      <td>41.763000</td>\n",
       "    </tr>\n",
       "    <tr>\n",
       "      <th>5</th>\n",
       "      <td>47.971120</td>\n",
       "      <td>77.844828</td>\n",
       "      <td>2002.644991</td>\n",
       "      <td>863.817386</td>\n",
       "      <td>44.750922</td>\n",
       "      <td>29.390770</td>\n",
       "    </tr>\n",
       "    <tr>\n",
       "      <th>6</th>\n",
       "      <td>48.760019</td>\n",
       "      <td>76.003989</td>\n",
       "      <td>1935.323740</td>\n",
       "      <td>836.836569</td>\n",
       "      <td>43.992315</td>\n",
       "      <td>28.928128</td>\n",
       "    </tr>\n",
       "    <tr>\n",
       "      <th>7</th>\n",
       "      <td>62.903905</td>\n",
       "      <td>75.478019</td>\n",
       "      <td>2931.426759</td>\n",
       "      <td>869.993399</td>\n",
       "      <td>54.142652</td>\n",
       "      <td>29.495651</td>\n",
       "    </tr>\n",
       "    <tr>\n",
       "      <th>8</th>\n",
       "      <td>63.865586</td>\n",
       "      <td>81.827135</td>\n",
       "      <td>3541.658334</td>\n",
       "      <td>1598.999948</td>\n",
       "      <td>59.511834</td>\n",
       "      <td>39.987497</td>\n",
       "    </tr>\n",
       "    <tr>\n",
       "      <th>9</th>\n",
       "      <td>58.042758</td>\n",
       "      <td>78.123637</td>\n",
       "      <td>2250.546814</td>\n",
       "      <td>1089.808545</td>\n",
       "      <td>47.439928</td>\n",
       "      <td>33.012248</td>\n",
       "    </tr>\n",
       "    <tr>\n",
       "      <th>10</th>\n",
       "      <td>64.857867</td>\n",
       "      <td>78.244399</td>\n",
       "      <td>3117.570228</td>\n",
       "      <td>1218.985504</td>\n",
       "      <td>55.835206</td>\n",
       "      <td>34.913973</td>\n",
       "    </tr>\n",
       "    <tr>\n",
       "      <th>11</th>\n",
       "      <td>58.205799</td>\n",
       "      <td>76.665846</td>\n",
       "      <td>2484.062213</td>\n",
       "      <td>935.082585</td>\n",
       "      <td>49.840367</td>\n",
       "      <td>30.579120</td>\n",
       "    </tr>\n",
       "    <tr>\n",
       "      <th>12</th>\n",
       "      <td>70.024910</td>\n",
       "      <td>81.710731</td>\n",
       "      <td>4557.192309</td>\n",
       "      <td>1690.396084</td>\n",
       "      <td>67.506980</td>\n",
       "      <td>41.114427</td>\n",
       "    </tr>\n",
       "  </tbody>\n",
       "</table>\n",
       "</div>"
      ],
      "text/plain": [
       "            mean                      var                     std           \n",
       "plan        surf    ultimate         surf     ultimate       surf   ultimate\n",
       "month                                                                       \n",
       "1      20.000000   70.000000     0.000000     0.000000   0.000000   0.000000\n",
       "2      35.776875   70.000000   431.402479     0.000000  20.770231   0.000000\n",
       "3      45.791848  100.716146  1513.599164  3175.553848  38.905002  56.352053\n",
       "4      40.423100   83.111979  1203.391813  1744.148153  34.689938  41.763000\n",
       "5      47.971120   77.844828  2002.644991   863.817386  44.750922  29.390770\n",
       "6      48.760019   76.003989  1935.323740   836.836569  43.992315  28.928128\n",
       "7      62.903905   75.478019  2931.426759   869.993399  54.142652  29.495651\n",
       "8      63.865586   81.827135  3541.658334  1598.999948  59.511834  39.987497\n",
       "9      58.042758   78.123637  2250.546814  1089.808545  47.439928  33.012248\n",
       "10     64.857867   78.244399  3117.570228  1218.985504  55.835206  34.913973\n",
       "11     58.205799   76.665846  2484.062213   935.082585  49.840367  30.579120\n",
       "12     70.024910   81.710731  4557.192309  1690.396084  67.506980  41.114427"
      ]
     },
     "metadata": {},
     "output_type": "display_data"
    }
   ],
   "source": [
    "# Calculate the mean and variance of the monthly revenue\n",
    "ave_var_rev = grand_monthly_table.pivot_table(index= 'month', values= 'monthly_rev', columns='plan', aggfunc=['mean', 'var', 'std'])\n",
    "display(ave_var_rev)"
   ]
  },
  {
   "cell_type": "markdown",
   "metadata": {},
   "source": [
    "Seeing as the price for the data plans vary significantly, it's not surprising to see the average monthly revenue for ultimate being higher than that of surf. But when we look at the frequency histogram for total revenue, it confirms yet again that surf brings in more revenue than ultimate."
   ]
  },
  {
   "cell_type": "markdown",
   "metadata": {},
   "source": [
    "<div class=\"alert alert-success\">\n",
    "<b>Reviewer's comment v1:</b>\n",
    "    \n",
    "- I will write overall thoughts about the data analysis section:\n",
    "- Very nice visualization of the data. Great that you used different graph types to check available data.\n",
    "- Also, nice that you managed to add both plans on one graph.\n",
    "- If you have time and willing to practice, you can display two charts (histogram and a box plot) using a two-column subplot.\n",
    "\n",
    "```\n",
    "    # Create one row with 2 columns\n",
    "\t  fig, axes = plt.subplots(1, 2, figsize=(16, 5))\n",
    "\n",
    "\t  # Create a histogram for the surf plan\n",
    "\t  sns.distplot(... ax=axes[0])\n",
    "\t  # Create a histogram for the second plan\n",
    "\t  sns.distplot(... ax=axes[0])\n",
    "\t\n",
    "\t  # Create a boxplot for both plans\n",
    "\t  sns.boxplot(... ax=axes[1])\n",
    "```"
   ]
  },
  {
   "cell_type": "markdown",
   "metadata": {},
   "source": [
    "## Test statistical hypotheses"
   ]
  },
  {
   "cell_type": "markdown",
   "metadata": {},
   "source": [
    "Let's test the hypothesis that the average revenue from users of the Ultimate and Surf calling plans differs."
   ]
  },
  {
   "cell_type": "markdown",
   "metadata": {},
   "source": [
    "H0 - average revenue between both plans are the same.\n",
    "\n",
    "\n",
    "H1 - average revenue between both plans are not the same."
   ]
  },
  {
   "cell_type": "code",
   "execution_count": 68,
   "metadata": {},
   "outputs": [
    {
     "name": "stdout",
     "output_type": "stream",
     "text": [
      "p-value: 7.41421053236776e-06\n",
      "We reject the null hypothesis\n"
     ]
    }
   ],
   "source": [
    "# Test the hypotheses\n",
    "df_ave_rev = ave_rev.reset_index()\n",
    "surf_rev = df_ave_rev['surf']\n",
    "ultimate_rev = df_ave_rev['ultimate']\n",
    "\n",
    "alpha = 0.05 # critical statistical significance level\n",
    "results = st.ttest_ind(surf_rev, ultimate_rev)\n",
    "print('p-value:', results.pvalue)\n",
    "\n",
    "if results.pvalue < alpha:\n",
    "    print(\"We reject the null hypothesis\")\n",
    "else:\n",
    "    print(\"We can't reject the null hypothesis\")"
   ]
  },
  {
   "cell_type": "markdown",
   "metadata": {},
   "source": [
    "Let's test the hypothesis that the average revenue from users in the NY-NJ area is different from that of the users from the other regions."
   ]
  },
  {
   "cell_type": "markdown",
   "metadata": {},
   "source": [
    "H0 - average revenue between both areas are the same.\n",
    "\n",
    "\n",
    "H1 - average revenue between both areass are not the same."
   ]
  },
  {
   "cell_type": "code",
   "execution_count": 69,
   "metadata": {},
   "outputs": [
    {
     "name": "stdout",
     "output_type": "stream",
     "text": [
      "p-value: 0.09565992074778348\n",
      "We can't reject the null hypothesis\n"
     ]
    }
   ],
   "source": [
    "# Test the hypotheses\n",
    "ny_nj_users = grand_monthly_table[grand_monthly_table['city'] == 'New York-Newark-Jersey City, NY-NJ-PA MSA']\n",
    "rest_of_users = grand_monthly_table[grand_monthly_table['city'] != 'New York-Newark-Jersey City, NY-NJ-PA MSA']\n",
    "\n",
    "ny_nj_table = ny_nj_users.pivot_table(index='month', values='monthly_rev', aggfunc='mean').reset_index()\n",
    "ny_nj_rev = ny_nj_table['monthly_rev']\n",
    "\n",
    "rest_of_users_table = rest_of_users.pivot_table(index='month', values='monthly_rev', aggfunc='mean')\n",
    "rest_of_users_rev = rest_of_users_table['monthly_rev']\n",
    "\n",
    "alpha = 0.05 # critical statistical significance level\n",
    "results2 = st.ttest_ind(ny_nj_rev, rest_of_users_rev)\n",
    "print('p-value:', results2.pvalue)\n",
    "\n",
    "if results2.pvalue < alpha:\n",
    "    print(\"We reject the null hypothesis\")\n",
    "else:\n",
    "    print(\"We can't reject the null hypothesis\")"
   ]
  },
  {
   "cell_type": "markdown",
   "metadata": {},
   "source": [
    "<div class=\"alert alert-success\">\n",
    "<b>Reviewer's comment v1:</b>\n",
    "    \n",
    "- Overall great job! Hypotheses have been formulated and tested correctly. Great that you additionally checked data that has been used for the test. \n",
    "- It is also possible to compare data sample variances (for equal_var parameter in st.ttest_ind) using Levene test (https://docs.scipy.org/doc/scipy/reference/generated/scipy.stats.levene.html) or Bartlett’s test (https://docs.scipy.org/doc/scipy/reference/generated/scipy.stats.bartlett.html)"
   ]
  },
  {
   "cell_type": "markdown",
   "metadata": {},
   "source": [
    "## General conclusion\n",
    "\n",
    "The aim of this project was to determine which prepaid plan brought in more revenue. And from our analysis we concluded that surf brings in more revenue. This is how we did it:\n",
    "\n",
    "Firstly we examined the data and addressed wrong data types. We then added a month column to some dataframes to help us in further analysis.\n",
    "\n",
    "Then, we aggregated the data from the different dataframes and merged the tables. This gave us a grand table with a lot of data.\n",
    "\n",
    "There were some missing values which we filled in based on the average for each plan.\n",
    "\n",
    "Using the data on the plans, we calculated monthly revenue for each client and added it to our grand table.\n",
    "\n",
    "With this, we were able to run the analysis and plot various graphs that support our conclusion."
   ]
  },
  {
   "cell_type": "markdown",
   "metadata": {},
   "source": [
    "<div class=\"alert alert-success\" role=\"alert\">\n",
    "<b>Reviewer's comment v1:</b>\n",
    "    \n",
    "- You conducted an outstanding research with correct interim findings, clean code and nice visualisation.\n",
    "- I also like your overall conclusion. It is very structured and provides insights and recommendations to the business."
   ]
  },
  {
   "cell_type": "markdown",
   "metadata": {},
   "source": [
    " "
   ]
  }
 ],
 "metadata": {
  "ExecuteTimeLog": [
   {
    "duration": 828,
    "start_time": "2021-11-16T09:21:11.304Z"
   },
   {
    "duration": 893,
    "start_time": "2021-11-16T09:21:17.728Z"
   },
   {
    "duration": 1150,
    "start_time": "2021-11-16T09:21:29.568Z"
   },
   {
    "duration": 3,
    "start_time": "2021-11-16T09:24:14.495Z"
   },
   {
    "duration": 120,
    "start_time": "2021-11-16T09:24:46.630Z"
   },
   {
    "duration": 3,
    "start_time": "2021-11-16T09:28:27.882Z"
   },
   {
    "duration": 4,
    "start_time": "2021-11-16T09:29:54.281Z"
   },
   {
    "duration": 3,
    "start_time": "2021-11-16T09:30:45.936Z"
   },
   {
    "duration": 4,
    "start_time": "2021-11-16T09:31:06.300Z"
   },
   {
    "duration": 113,
    "start_time": "2021-11-16T09:31:37.208Z"
   },
   {
    "duration": 143,
    "start_time": "2021-11-16T09:31:48.656Z"
   },
   {
    "duration": 98,
    "start_time": "2021-11-16T09:31:55.678Z"
   },
   {
    "duration": 3,
    "start_time": "2021-11-16T09:32:08.535Z"
   },
   {
    "duration": 111,
    "start_time": "2021-11-16T09:32:10.120Z"
   },
   {
    "duration": 3,
    "start_time": "2021-11-16T09:32:15.732Z"
   },
   {
    "duration": 4,
    "start_time": "2021-11-16T09:32:29.423Z"
   },
   {
    "duration": 3,
    "start_time": "2021-11-16T10:03:03.074Z"
   },
   {
    "duration": 3,
    "start_time": "2021-11-16T10:10:01.288Z"
   },
   {
    "duration": 3,
    "start_time": "2021-11-16T10:10:46.923Z"
   },
   {
    "duration": 121,
    "start_time": "2021-11-16T10:37:46.494Z"
   },
   {
    "duration": 125,
    "start_time": "2021-11-16T10:38:20.632Z"
   },
   {
    "duration": 112,
    "start_time": "2021-11-16T10:46:53.001Z"
   },
   {
    "duration": 110,
    "start_time": "2021-11-16T10:48:25.775Z"
   },
   {
    "duration": 3,
    "start_time": "2021-11-16T10:50:18.720Z"
   },
   {
    "duration": 4,
    "start_time": "2021-11-16T10:50:37.649Z"
   },
   {
    "duration": 2,
    "start_time": "2021-11-16T10:50:51.884Z"
   },
   {
    "duration": 3,
    "start_time": "2021-11-16T10:51:56.237Z"
   },
   {
    "duration": 101,
    "start_time": "2021-11-16T10:53:13.791Z"
   },
   {
    "duration": 3,
    "start_time": "2021-11-16T10:55:59.186Z"
   },
   {
    "duration": 3,
    "start_time": "2021-11-16T10:56:10.751Z"
   },
   {
    "duration": 3,
    "start_time": "2021-11-16T10:56:49.038Z"
   },
   {
    "duration": 3,
    "start_time": "2021-11-16T10:56:49.174Z"
   },
   {
    "duration": 4,
    "start_time": "2021-11-16T10:56:49.414Z"
   },
   {
    "duration": 3,
    "start_time": "2021-11-16T10:56:49.680Z"
   },
   {
    "duration": 3,
    "start_time": "2021-11-16T10:56:50.370Z"
   },
   {
    "duration": 114,
    "start_time": "2021-11-16T10:59:34.518Z"
   },
   {
    "duration": 3,
    "start_time": "2021-11-16T11:01:41.201Z"
   },
   {
    "duration": 116,
    "start_time": "2021-11-16T11:01:48.754Z"
   },
   {
    "duration": 3,
    "start_time": "2021-11-16T11:02:16.685Z"
   },
   {
    "duration": 3,
    "start_time": "2021-11-16T11:02:19.479Z"
   },
   {
    "duration": 3,
    "start_time": "2021-11-16T11:02:47.067Z"
   },
   {
    "duration": 3,
    "start_time": "2021-11-16T11:02:49.353Z"
   },
   {
    "duration": 3,
    "start_time": "2021-11-16T11:03:07.835Z"
   },
   {
    "duration": 3,
    "start_time": "2021-11-16T11:03:07.953Z"
   },
   {
    "duration": 112,
    "start_time": "2021-11-16T11:07:52.072Z"
   },
   {
    "duration": 187,
    "start_time": "2021-11-16T11:09:23.468Z"
   },
   {
    "duration": 4,
    "start_time": "2021-11-16T11:10:01.455Z"
   },
   {
    "duration": 3,
    "start_time": "2021-11-16T11:10:05.069Z"
   },
   {
    "duration": 4,
    "start_time": "2021-11-16T11:10:13.376Z"
   },
   {
    "duration": 3,
    "start_time": "2021-11-16T11:10:14.434Z"
   },
   {
    "duration": 3,
    "start_time": "2021-11-16T11:10:22.853Z"
   },
   {
    "duration": 4,
    "start_time": "2021-11-16T11:27:29.279Z"
   },
   {
    "duration": 4,
    "start_time": "2021-11-16T11:29:08.919Z"
   },
   {
    "duration": 118,
    "start_time": "2021-11-16T11:29:46.703Z"
   },
   {
    "duration": 437,
    "start_time": "2021-11-16T11:36:02.181Z"
   },
   {
    "duration": 157,
    "start_time": "2021-11-16T11:36:14.388Z"
   },
   {
    "duration": 207,
    "start_time": "2021-11-16T11:47:15.898Z"
   },
   {
    "duration": 3,
    "start_time": "2021-11-16T11:53:52.092Z"
   },
   {
    "duration": 3,
    "start_time": "2021-11-16T11:53:52.236Z"
   },
   {
    "duration": 3,
    "start_time": "2021-11-16T11:59:12.005Z"
   },
   {
    "duration": 112,
    "start_time": "2021-11-16T12:00:33.446Z"
   },
   {
    "duration": 3,
    "start_time": "2021-11-16T12:02:14.453Z"
   },
   {
    "duration": 3,
    "start_time": "2021-11-16T12:02:39.512Z"
   },
   {
    "duration": 106,
    "start_time": "2021-11-16T12:03:03.460Z"
   },
   {
    "duration": 3,
    "start_time": "2021-11-17T20:37:21.139Z"
   },
   {
    "duration": 3,
    "start_time": "2021-11-17T20:37:22.229Z"
   },
   {
    "duration": 3,
    "start_time": "2021-11-17T20:38:38.806Z"
   },
   {
    "duration": 3,
    "start_time": "2021-11-17T20:38:41.958Z"
   },
   {
    "duration": 3,
    "start_time": "2021-11-17T20:43:46.551Z"
   },
   {
    "duration": 4,
    "start_time": "2021-11-17T20:58:21.835Z"
   },
   {
    "duration": 3,
    "start_time": "2021-11-17T20:59:21.872Z"
   },
   {
    "duration": 4,
    "start_time": "2021-11-17T20:59:45.352Z"
   },
   {
    "duration": 4,
    "start_time": "2021-11-17T20:59:49.646Z"
   },
   {
    "duration": 159,
    "start_time": "2021-11-17T21:02:26.949Z"
   },
   {
    "duration": 3,
    "start_time": "2021-11-17T21:03:53.461Z"
   },
   {
    "duration": 3,
    "start_time": "2021-11-17T21:03:53.694Z"
   },
   {
    "duration": 3,
    "start_time": "2021-11-17T21:05:28.145Z"
   },
   {
    "duration": 116,
    "start_time": "2021-11-17T21:05:57.787Z"
   },
   {
    "duration": 3,
    "start_time": "2021-11-17T21:06:37.993Z"
   },
   {
    "duration": 3,
    "start_time": "2021-11-17T21:06:38.261Z"
   },
   {
    "duration": 3,
    "start_time": "2021-11-17T21:11:54.358Z"
   },
   {
    "duration": 3,
    "start_time": "2021-11-17T21:12:43.846Z"
   },
   {
    "duration": 4,
    "start_time": "2021-11-17T21:13:08.773Z"
   },
   {
    "duration": 3,
    "start_time": "2021-11-17T21:14:44.441Z"
   },
   {
    "duration": 3,
    "start_time": "2021-11-17T21:15:42.059Z"
   },
   {
    "duration": 4,
    "start_time": "2021-11-17T21:15:51.995Z"
   },
   {
    "duration": 3,
    "start_time": "2021-11-17T21:15:53.923Z"
   },
   {
    "duration": 3,
    "start_time": "2021-11-17T21:15:55.282Z"
   },
   {
    "duration": 3,
    "start_time": "2021-11-17T21:16:28.492Z"
   },
   {
    "duration": 3,
    "start_time": "2021-11-17T21:16:32.603Z"
   },
   {
    "duration": 3,
    "start_time": "2021-11-17T21:17:06.941Z"
   },
   {
    "duration": 98,
    "start_time": "2021-11-17T21:18:05.733Z"
   },
   {
    "duration": 4,
    "start_time": "2021-11-17T21:21:35.255Z"
   },
   {
    "duration": 3,
    "start_time": "2021-11-17T21:21:37.804Z"
   },
   {
    "duration": 4,
    "start_time": "2021-11-17T21:23:06.071Z"
   },
   {
    "duration": 3,
    "start_time": "2021-11-17T21:23:24.799Z"
   },
   {
    "duration": 3,
    "start_time": "2021-11-17T21:23:32.591Z"
   },
   {
    "duration": 98,
    "start_time": "2021-11-17T21:28:31.559Z"
   },
   {
    "duration": 3,
    "start_time": "2021-11-17T21:28:45.448Z"
   },
   {
    "duration": 3,
    "start_time": "2021-11-17T21:29:17.303Z"
   },
   {
    "duration": 3,
    "start_time": "2021-11-17T21:29:29.617Z"
   },
   {
    "duration": 3,
    "start_time": "2021-11-17T21:29:32.681Z"
   },
   {
    "duration": 3,
    "start_time": "2021-11-17T21:36:11.474Z"
   },
   {
    "duration": 3,
    "start_time": "2021-11-17T21:36:14.791Z"
   },
   {
    "duration": 3,
    "start_time": "2021-11-17T21:36:53.943Z"
   },
   {
    "duration": 3,
    "start_time": "2021-11-17T21:36:56.165Z"
   },
   {
    "duration": 4,
    "start_time": "2021-11-17T21:37:16.590Z"
   },
   {
    "duration": 3,
    "start_time": "2021-11-17T21:37:22.702Z"
   },
   {
    "duration": 4,
    "start_time": "2021-11-17T21:38:03.479Z"
   },
   {
    "duration": 3,
    "start_time": "2021-11-17T21:38:08.601Z"
   },
   {
    "duration": 3,
    "start_time": "2021-11-17T21:38:12.928Z"
   },
   {
    "duration": 3,
    "start_time": "2021-11-17T21:38:48.896Z"
   },
   {
    "duration": 2,
    "start_time": "2021-11-17T21:38:49.171Z"
   },
   {
    "duration": 4,
    "start_time": "2021-11-17T21:39:57.889Z"
   },
   {
    "duration": 3,
    "start_time": "2021-11-17T21:39:58.057Z"
   },
   {
    "duration": 3,
    "start_time": "2021-11-17T21:41:20.108Z"
   },
   {
    "duration": 3,
    "start_time": "2021-11-17T21:41:20.629Z"
   },
   {
    "duration": 3,
    "start_time": "2021-11-17T21:42:49.136Z"
   },
   {
    "duration": 3,
    "start_time": "2021-11-17T21:43:15.137Z"
   },
   {
    "duration": 4,
    "start_time": "2021-11-17T21:43:16.766Z"
   },
   {
    "duration": 4,
    "start_time": "2021-11-17T21:43:31.711Z"
   },
   {
    "duration": 3,
    "start_time": "2021-11-17T21:43:36.312Z"
   },
   {
    "duration": 4,
    "start_time": "2021-11-17T21:45:08.825Z"
   },
   {
    "duration": 4,
    "start_time": "2021-11-17T21:45:10.119Z"
   },
   {
    "duration": 4,
    "start_time": "2021-11-17T21:45:13.748Z"
   },
   {
    "duration": 3,
    "start_time": "2021-11-17T21:45:22.219Z"
   },
   {
    "duration": 3,
    "start_time": "2021-11-17T21:45:33.412Z"
   },
   {
    "duration": 2,
    "start_time": "2021-11-17T21:46:01.885Z"
   },
   {
    "duration": 3,
    "start_time": "2021-11-17T21:46:03.628Z"
   },
   {
    "duration": 107,
    "start_time": "2021-11-17T21:47:32.512Z"
   },
   {
    "duration": 103,
    "start_time": "2021-11-17T21:50:36.243Z"
   },
   {
    "duration": 3,
    "start_time": "2021-11-18T06:28:31.440Z"
   },
   {
    "duration": 3,
    "start_time": "2021-11-18T06:29:00.168Z"
   },
   {
    "duration": 3,
    "start_time": "2021-11-18T06:31:27.008Z"
   },
   {
    "duration": 2,
    "start_time": "2021-11-18T06:35:34.288Z"
   },
   {
    "duration": 2,
    "start_time": "2021-11-18T06:38:04.527Z"
   },
   {
    "duration": 114,
    "start_time": "2022-04-18T11:45:45.451Z"
   },
   {
    "duration": 694,
    "start_time": "2022-04-18T11:45:53.248Z"
   },
   {
    "duration": 403,
    "start_time": "2022-04-18T11:53:02.671Z"
   },
   {
    "duration": 43,
    "start_time": "2022-04-18T11:55:50.237Z"
   },
   {
    "duration": 32,
    "start_time": "2022-04-18T11:56:57.584Z"
   },
   {
    "duration": 37,
    "start_time": "2022-04-18T11:57:30.426Z"
   },
   {
    "duration": 65,
    "start_time": "2022-04-18T11:58:00.377Z"
   },
   {
    "duration": 68,
    "start_time": "2022-04-18T11:58:09.417Z"
   },
   {
    "duration": 71,
    "start_time": "2022-04-18T11:58:44.476Z"
   },
   {
    "duration": 65,
    "start_time": "2022-04-18T11:58:59.580Z"
   },
   {
    "duration": 78,
    "start_time": "2022-04-18T11:59:08.569Z"
   },
   {
    "duration": 61,
    "start_time": "2022-04-18T11:59:25.870Z"
   },
   {
    "duration": 56,
    "start_time": "2022-04-18T12:01:41.764Z"
   },
   {
    "duration": 41,
    "start_time": "2022-04-18T12:02:45.492Z"
   },
   {
    "duration": 429,
    "start_time": "2022-04-18T12:02:53.945Z"
   },
   {
    "duration": 43,
    "start_time": "2022-04-18T12:02:58.918Z"
   },
   {
    "duration": 60,
    "start_time": "2022-04-18T12:03:52.579Z"
   },
   {
    "duration": 52,
    "start_time": "2022-04-18T12:04:47.111Z"
   },
   {
    "duration": 351,
    "start_time": "2022-04-18T12:05:11.093Z"
   },
   {
    "duration": 43,
    "start_time": "2022-04-18T12:05:18.614Z"
   },
   {
    "duration": 10,
    "start_time": "2022-04-18T12:11:07.368Z"
   },
   {
    "duration": 19,
    "start_time": "2022-04-18T12:11:14.246Z"
   },
   {
    "duration": 13,
    "start_time": "2022-04-18T12:11:36.855Z"
   },
   {
    "duration": 15,
    "start_time": "2022-04-18T12:13:02.569Z"
   },
   {
    "duration": 15,
    "start_time": "2022-04-18T12:13:16.158Z"
   },
   {
    "duration": 31,
    "start_time": "2022-04-18T12:13:41.662Z"
   },
   {
    "duration": 6,
    "start_time": "2022-04-18T12:20:26.457Z"
   },
   {
    "duration": 16,
    "start_time": "2022-04-18T12:21:11.498Z"
   },
   {
    "duration": 9,
    "start_time": "2022-04-18T12:23:15.578Z"
   },
   {
    "duration": 13,
    "start_time": "2022-04-18T12:23:37.895Z"
   },
   {
    "duration": 6,
    "start_time": "2022-04-18T12:23:59.520Z"
   },
   {
    "duration": 14,
    "start_time": "2022-04-18T12:25:15.339Z"
   },
   {
    "duration": 19,
    "start_time": "2022-04-18T12:25:44.078Z"
   },
   {
    "duration": 9,
    "start_time": "2022-04-18T12:35:07.295Z"
   },
   {
    "duration": 11,
    "start_time": "2022-04-18T12:35:15.661Z"
   },
   {
    "duration": 9,
    "start_time": "2022-04-18T12:35:22.524Z"
   },
   {
    "duration": 4,
    "start_time": "2022-04-18T12:35:49.760Z"
   },
   {
    "duration": 16,
    "start_time": "2022-04-18T12:36:18.582Z"
   },
   {
    "duration": 4,
    "start_time": "2022-04-18T12:36:53.887Z"
   },
   {
    "duration": 13,
    "start_time": "2022-04-18T12:36:57.634Z"
   },
   {
    "duration": 8,
    "start_time": "2022-04-18T12:38:44.649Z"
   },
   {
    "duration": 23,
    "start_time": "2022-04-18T12:38:52.376Z"
   },
   {
    "duration": 15,
    "start_time": "2022-04-18T12:39:07.217Z"
   },
   {
    "duration": 30,
    "start_time": "2022-04-18T12:39:35.221Z"
   },
   {
    "duration": 3,
    "start_time": "2022-04-18T12:40:16.217Z"
   },
   {
    "duration": 28,
    "start_time": "2022-04-18T12:40:19.491Z"
   },
   {
    "duration": 27,
    "start_time": "2022-04-18T12:48:24.882Z"
   },
   {
    "duration": 12,
    "start_time": "2022-04-18T12:48:40.356Z"
   },
   {
    "duration": 29,
    "start_time": "2022-04-18T12:50:59.190Z"
   },
   {
    "duration": 23,
    "start_time": "2022-04-18T12:51:41.788Z"
   },
   {
    "duration": 10,
    "start_time": "2022-04-18T12:52:38.740Z"
   },
   {
    "duration": 9,
    "start_time": "2022-04-18T12:53:20.765Z"
   },
   {
    "duration": 8,
    "start_time": "2022-04-18T12:53:25.085Z"
   },
   {
    "duration": 20,
    "start_time": "2022-04-18T12:58:07.311Z"
   },
   {
    "duration": 10,
    "start_time": "2022-04-18T12:58:24.376Z"
   },
   {
    "duration": 20,
    "start_time": "2022-04-18T13:03:34.642Z"
   },
   {
    "duration": 19,
    "start_time": "2022-04-18T13:04:10.491Z"
   },
   {
    "duration": 10,
    "start_time": "2022-04-18T13:05:46.013Z"
   },
   {
    "duration": 26,
    "start_time": "2022-04-18T13:05:52.965Z"
   },
   {
    "duration": 13,
    "start_time": "2022-04-18T13:06:26.968Z"
   },
   {
    "duration": 24,
    "start_time": "2022-04-18T13:09:19.064Z"
   },
   {
    "duration": 21,
    "start_time": "2022-04-18T13:09:50.167Z"
   },
   {
    "duration": 14,
    "start_time": "2022-04-18T13:14:44.185Z"
   },
   {
    "duration": 1732,
    "start_time": "2022-04-18T13:21:34.702Z"
   },
   {
    "duration": 11,
    "start_time": "2022-04-18T13:21:53.987Z"
   },
   {
    "duration": 3730,
    "start_time": "2022-04-18T13:22:38.813Z"
   },
   {
    "duration": 28,
    "start_time": "2022-04-18T13:23:34.100Z"
   },
   {
    "duration": 1725,
    "start_time": "2022-04-18T13:24:23.743Z"
   },
   {
    "duration": 23,
    "start_time": "2022-04-18T13:24:39.339Z"
   },
   {
    "duration": 33,
    "start_time": "2022-04-18T13:25:31.359Z"
   },
   {
    "duration": 40,
    "start_time": "2022-04-18T13:31:10.760Z"
   },
   {
    "duration": 37,
    "start_time": "2022-04-18T13:31:56.736Z"
   },
   {
    "duration": 41,
    "start_time": "2022-04-18T13:33:54.517Z"
   },
   {
    "duration": 33,
    "start_time": "2022-04-18T13:34:47.082Z"
   },
   {
    "duration": 56,
    "start_time": "2022-04-18T13:36:15.858Z"
   },
   {
    "duration": 20,
    "start_time": "2022-04-18T13:47:58.626Z"
   },
   {
    "duration": 32,
    "start_time": "2022-04-18T13:53:39.363Z"
   },
   {
    "duration": 37,
    "start_time": "2022-04-18T13:54:02.254Z"
   },
   {
    "duration": 43,
    "start_time": "2022-04-18T13:54:30.380Z"
   },
   {
    "duration": 57,
    "start_time": "2022-04-18T13:54:43.446Z"
   },
   {
    "duration": 36,
    "start_time": "2022-04-18T13:54:57.483Z"
   },
   {
    "duration": 17,
    "start_time": "2022-04-18T13:55:03.346Z"
   },
   {
    "duration": 11,
    "start_time": "2022-04-18T13:59:05.291Z"
   },
   {
    "duration": 12,
    "start_time": "2022-04-18T14:01:06.920Z"
   },
   {
    "duration": 9,
    "start_time": "2022-04-18T14:05:17.982Z"
   },
   {
    "duration": 13,
    "start_time": "2022-04-18T14:06:35.343Z"
   },
   {
    "duration": 11,
    "start_time": "2022-04-18T14:07:50.041Z"
   },
   {
    "duration": 13,
    "start_time": "2022-04-18T14:07:59.177Z"
   },
   {
    "duration": 10,
    "start_time": "2022-04-18T14:10:20.882Z"
   },
   {
    "duration": 21,
    "start_time": "2022-04-18T14:10:38.853Z"
   },
   {
    "duration": 15,
    "start_time": "2022-04-18T14:11:04.412Z"
   },
   {
    "duration": 23,
    "start_time": "2022-04-18T14:11:15.048Z"
   },
   {
    "duration": 105,
    "start_time": "2022-04-18T14:18:12.721Z"
   },
   {
    "duration": 21,
    "start_time": "2022-04-18T14:19:57.148Z"
   },
   {
    "duration": 31,
    "start_time": "2022-04-18T14:22:03.480Z"
   },
   {
    "duration": 37,
    "start_time": "2022-04-18T14:26:15.703Z"
   },
   {
    "duration": 38,
    "start_time": "2022-04-18T14:43:18.779Z"
   },
   {
    "duration": 13,
    "start_time": "2022-04-18T14:44:26.536Z"
   },
   {
    "duration": 42,
    "start_time": "2022-04-18T14:55:10.182Z"
   },
   {
    "duration": 19,
    "start_time": "2022-04-18T14:56:43.213Z"
   },
   {
    "duration": 43,
    "start_time": "2022-04-18T14:58:18.416Z"
   },
   {
    "duration": 18,
    "start_time": "2022-04-18T14:58:26.380Z"
   },
   {
    "duration": 23,
    "start_time": "2022-04-18T15:03:10.385Z"
   },
   {
    "duration": 7,
    "start_time": "2022-04-18T15:21:08.728Z"
   },
   {
    "duration": 10,
    "start_time": "2022-04-18T15:24:27.201Z"
   },
   {
    "duration": 10,
    "start_time": "2022-04-18T15:25:56.857Z"
   },
   {
    "duration": 32,
    "start_time": "2022-04-18T15:26:03.832Z"
   },
   {
    "duration": 26,
    "start_time": "2022-04-18T15:26:16.321Z"
   },
   {
    "duration": 12,
    "start_time": "2022-04-18T15:26:49.531Z"
   },
   {
    "duration": 1634,
    "start_time": "2022-04-18T15:26:52.611Z"
   },
   {
    "duration": 87,
    "start_time": "2022-04-18T15:27:37.444Z"
   },
   {
    "duration": 88,
    "start_time": "2022-04-18T15:28:39.112Z"
   },
   {
    "duration": 9,
    "start_time": "2022-04-18T15:29:01.897Z"
   },
   {
    "duration": 28,
    "start_time": "2022-04-18T15:29:08.451Z"
   },
   {
    "duration": 8,
    "start_time": "2022-04-18T15:30:25.916Z"
   },
   {
    "duration": 8,
    "start_time": "2022-04-18T15:30:49.574Z"
   },
   {
    "duration": 7,
    "start_time": "2022-04-18T15:31:26.947Z"
   },
   {
    "duration": 30,
    "start_time": "2022-04-18T15:31:59.296Z"
   },
   {
    "duration": 569,
    "start_time": "2022-04-19T21:21:33.482Z"
   },
   {
    "duration": 1982,
    "start_time": "2022-04-19T21:21:34.054Z"
   },
   {
    "duration": 75,
    "start_time": "2022-04-19T21:21:36.038Z"
   },
   {
    "duration": 53,
    "start_time": "2022-04-19T21:21:36.116Z"
   },
   {
    "duration": 58,
    "start_time": "2022-04-19T21:21:36.171Z"
   },
   {
    "duration": 88,
    "start_time": "2022-04-19T21:21:36.231Z"
   },
   {
    "duration": 44,
    "start_time": "2022-04-19T21:21:36.321Z"
   },
   {
    "duration": 39,
    "start_time": "2022-04-19T21:21:36.368Z"
   },
   {
    "duration": 14,
    "start_time": "2022-04-19T21:21:36.409Z"
   },
   {
    "duration": 16,
    "start_time": "2022-04-19T21:21:36.427Z"
   },
   {
    "duration": 61,
    "start_time": "2022-04-19T21:21:36.445Z"
   },
   {
    "duration": 8,
    "start_time": "2022-04-19T21:21:36.508Z"
   },
   {
    "duration": 19,
    "start_time": "2022-04-19T21:21:36.518Z"
   },
   {
    "duration": 25,
    "start_time": "2022-04-19T21:21:36.539Z"
   },
   {
    "duration": 28,
    "start_time": "2022-04-19T21:21:36.566Z"
   },
   {
    "duration": 29,
    "start_time": "2022-04-19T21:21:36.596Z"
   },
   {
    "duration": 27,
    "start_time": "2022-04-19T21:21:36.627Z"
   },
   {
    "duration": 40,
    "start_time": "2022-04-19T21:21:36.656Z"
   },
   {
    "duration": 35,
    "start_time": "2022-04-19T21:21:36.699Z"
   },
   {
    "duration": 14,
    "start_time": "2022-04-19T21:21:36.736Z"
   },
   {
    "duration": 57,
    "start_time": "2022-04-19T21:21:36.752Z"
   },
   {
    "duration": 32,
    "start_time": "2022-04-19T21:21:36.811Z"
   },
   {
    "duration": 49,
    "start_time": "2022-04-19T21:21:36.846Z"
   },
   {
    "duration": 11,
    "start_time": "2022-04-19T21:21:36.898Z"
   },
   {
    "duration": 20,
    "start_time": "2022-04-19T21:21:36.911Z"
   },
   {
    "duration": 19,
    "start_time": "2022-04-19T21:21:36.933Z"
   },
   {
    "duration": 55,
    "start_time": "2022-04-19T21:21:36.954Z"
   },
   {
    "duration": 23,
    "start_time": "2022-04-19T21:21:37.015Z"
   },
   {
    "duration": 51,
    "start_time": "2022-04-19T21:21:37.041Z"
   },
   {
    "duration": 27,
    "start_time": "2022-04-19T21:21:37.094Z"
   },
   {
    "duration": 23,
    "start_time": "2022-04-19T21:21:37.123Z"
   },
   {
    "duration": 60,
    "start_time": "2022-04-19T21:21:37.149Z"
   },
   {
    "duration": 14,
    "start_time": "2022-04-19T21:21:37.212Z"
   },
   {
    "duration": 67,
    "start_time": "2022-04-19T21:21:37.229Z"
   },
   {
    "duration": 46,
    "start_time": "2022-04-19T21:21:37.299Z"
   },
   {
    "duration": 63,
    "start_time": "2022-04-19T21:21:37.347Z"
   },
   {
    "duration": 38,
    "start_time": "2022-04-19T21:21:37.413Z"
   },
   {
    "duration": 82,
    "start_time": "2022-04-19T21:21:37.454Z"
   },
   {
    "duration": 70,
    "start_time": "2022-04-19T21:21:37.538Z"
   },
   {
    "duration": 26,
    "start_time": "2022-04-19T21:21:37.611Z"
   },
   {
    "duration": 29,
    "start_time": "2022-04-19T21:21:37.640Z"
   },
   {
    "duration": 29,
    "start_time": "2022-04-19T21:21:37.672Z"
   },
   {
    "duration": 154,
    "start_time": "2022-04-19T21:21:37.704Z"
   },
   {
    "duration": 10,
    "start_time": "2022-04-19T21:21:37.861Z"
   },
   {
    "duration": 55,
    "start_time": "2022-04-19T21:21:37.874Z"
   },
   {
    "duration": 5,
    "start_time": "2022-04-19T21:21:37.932Z"
   },
   {
    "duration": 13,
    "start_time": "2022-04-19T21:21:37.939Z"
   },
   {
    "duration": 12,
    "start_time": "2022-04-19T21:21:37.954Z"
   },
   {
    "duration": 15,
    "start_time": "2022-04-19T21:21:37.968Z"
   },
   {
    "duration": 5,
    "start_time": "2022-04-19T21:21:37.993Z"
   },
   {
    "duration": 19,
    "start_time": "2022-04-19T21:21:38.001Z"
   },
   {
    "duration": 17,
    "start_time": "2022-04-19T21:21:38.022Z"
   },
   {
    "duration": 22,
    "start_time": "2022-04-19T21:21:38.042Z"
   },
   {
    "duration": 18,
    "start_time": "2022-04-19T21:31:22.994Z"
   },
   {
    "duration": 27,
    "start_time": "2022-04-19T21:31:43.478Z"
   },
   {
    "duration": 113,
    "start_time": "2022-04-19T21:33:55.062Z"
   },
   {
    "duration": 2311,
    "start_time": "2022-04-19T21:34:12.244Z"
   },
   {
    "duration": 500,
    "start_time": "2022-04-19T21:34:34.619Z"
   },
   {
    "duration": 4,
    "start_time": "2022-04-19T21:35:30.823Z"
   },
   {
    "duration": 340,
    "start_time": "2022-04-19T21:35:44.672Z"
   },
   {
    "duration": 278,
    "start_time": "2022-04-19T21:37:50.610Z"
   },
   {
    "duration": 42,
    "start_time": "2022-04-19T21:39:47.923Z"
   },
   {
    "duration": 747,
    "start_time": "2022-04-19T21:48:04.707Z"
   },
   {
    "duration": 213,
    "start_time": "2022-04-19T21:48:39.971Z"
   },
   {
    "duration": 366,
    "start_time": "2022-04-19T21:49:19.945Z"
   },
   {
    "duration": 35,
    "start_time": "2022-04-19T21:51:30.096Z"
   },
   {
    "duration": 41,
    "start_time": "2022-04-19T21:51:37.582Z"
   },
   {
    "duration": 1231,
    "start_time": "2022-04-19T21:53:18.489Z"
   },
   {
    "duration": 207,
    "start_time": "2022-04-19T21:53:49.134Z"
   },
   {
    "duration": 218,
    "start_time": "2022-04-19T21:54:39.779Z"
   },
   {
    "duration": 206,
    "start_time": "2022-04-19T21:55:20.024Z"
   },
   {
    "duration": 216,
    "start_time": "2022-04-19T21:55:46.431Z"
   },
   {
    "duration": 32,
    "start_time": "2022-04-19T21:56:17.433Z"
   },
   {
    "duration": 215,
    "start_time": "2022-04-19T21:57:10.705Z"
   },
   {
    "duration": 353,
    "start_time": "2022-04-19T21:57:32.763Z"
   },
   {
    "duration": 293,
    "start_time": "2022-04-19T21:59:12.816Z"
   },
   {
    "duration": 421,
    "start_time": "2022-04-19T22:03:03.244Z"
   },
   {
    "duration": 45,
    "start_time": "2022-04-19T22:05:21.420Z"
   },
   {
    "duration": 41,
    "start_time": "2022-04-19T22:05:56.726Z"
   },
   {
    "duration": 45,
    "start_time": "2022-04-19T22:06:54.612Z"
   },
   {
    "duration": 49,
    "start_time": "2022-04-19T22:07:12.232Z"
   },
   {
    "duration": 214,
    "start_time": "2022-04-19T22:09:19.487Z"
   },
   {
    "duration": 45,
    "start_time": "2022-04-19T22:09:34.103Z"
   },
   {
    "duration": 40,
    "start_time": "2022-04-19T22:13:38.695Z"
   },
   {
    "duration": 41,
    "start_time": "2022-04-19T22:16:01.441Z"
   },
   {
    "duration": 386,
    "start_time": "2022-04-19T22:18:18.160Z"
   },
   {
    "duration": 318,
    "start_time": "2022-04-19T22:19:04.712Z"
   },
   {
    "duration": 316,
    "start_time": "2022-04-19T22:19:37.556Z"
   },
   {
    "duration": 342,
    "start_time": "2022-04-19T22:20:28.570Z"
   },
   {
    "duration": 43,
    "start_time": "2022-04-19T22:21:02.699Z"
   },
   {
    "duration": 46,
    "start_time": "2022-04-19T22:21:32.615Z"
   },
   {
    "duration": 272,
    "start_time": "2022-04-19T22:21:59.639Z"
   },
   {
    "duration": 61,
    "start_time": "2022-04-19T22:23:32.475Z"
   },
   {
    "duration": 82,
    "start_time": "2022-04-19T22:24:00.299Z"
   },
   {
    "duration": 44,
    "start_time": "2022-04-19T22:24:52.544Z"
   },
   {
    "duration": 319,
    "start_time": "2022-04-19T22:28:06.374Z"
   },
   {
    "duration": 326,
    "start_time": "2022-04-19T22:29:11.706Z"
   },
   {
    "duration": 42,
    "start_time": "2022-04-19T22:31:54.546Z"
   },
   {
    "duration": 628,
    "start_time": "2022-04-19T22:42:23.134Z"
   },
   {
    "duration": 12,
    "start_time": "2022-04-19T22:59:53.196Z"
   },
   {
    "duration": 12,
    "start_time": "2022-04-19T23:00:47.538Z"
   },
   {
    "duration": 9,
    "start_time": "2022-04-19T23:01:29.740Z"
   },
   {
    "duration": 7,
    "start_time": "2022-04-19T23:04:13.936Z"
   },
   {
    "duration": 238,
    "start_time": "2022-04-19T23:05:04.391Z"
   },
   {
    "duration": 3205,
    "start_time": "2022-04-19T23:05:10.722Z"
   },
   {
    "duration": 7,
    "start_time": "2022-04-19T23:05:32.307Z"
   },
   {
    "duration": 9,
    "start_time": "2022-04-19T23:05:44.197Z"
   },
   {
    "duration": 6,
    "start_time": "2022-04-19T23:06:45.905Z"
   },
   {
    "duration": 9,
    "start_time": "2022-04-19T23:09:19.917Z"
   },
   {
    "duration": 120,
    "start_time": "2022-04-19T23:14:57.356Z"
   },
   {
    "duration": 8,
    "start_time": "2022-04-19T23:16:33.714Z"
   },
   {
    "duration": 9,
    "start_time": "2022-04-19T23:16:49.988Z"
   },
   {
    "duration": 8,
    "start_time": "2022-04-19T23:19:57.046Z"
   },
   {
    "duration": 12,
    "start_time": "2022-04-19T23:21:45.207Z"
   },
   {
    "duration": 12,
    "start_time": "2022-04-19T23:22:03.929Z"
   },
   {
    "duration": 7,
    "start_time": "2022-04-19T23:22:36.319Z"
   },
   {
    "duration": 12,
    "start_time": "2022-04-19T23:24:32.608Z"
   },
   {
    "duration": 12,
    "start_time": "2022-04-19T23:26:48.938Z"
   },
   {
    "duration": 20,
    "start_time": "2022-04-19T23:27:55.427Z"
   },
   {
    "duration": 12,
    "start_time": "2022-04-19T23:29:01.390Z"
   },
   {
    "duration": 222,
    "start_time": "2022-04-19T23:36:21.250Z"
   },
   {
    "duration": 30,
    "start_time": "2022-04-19T23:36:49.770Z"
   },
   {
    "duration": 29,
    "start_time": "2022-04-19T23:40:07.234Z"
   },
   {
    "duration": 14,
    "start_time": "2022-04-20T00:08:35.929Z"
   },
   {
    "duration": 5,
    "start_time": "2022-04-20T00:21:24.024Z"
   },
   {
    "duration": 6,
    "start_time": "2022-04-20T00:21:46.056Z"
   },
   {
    "duration": 7,
    "start_time": "2022-04-20T00:22:39.364Z"
   },
   {
    "duration": 6,
    "start_time": "2022-04-20T00:23:30.364Z"
   },
   {
    "duration": 5,
    "start_time": "2022-04-20T00:27:08.104Z"
   },
   {
    "duration": 8,
    "start_time": "2022-04-20T00:28:34.769Z"
   },
   {
    "duration": 5,
    "start_time": "2022-04-20T00:29:52.939Z"
   },
   {
    "duration": 7,
    "start_time": "2022-04-20T00:31:31.079Z"
   },
   {
    "duration": 4,
    "start_time": "2022-04-20T00:33:26.392Z"
   },
   {
    "duration": 8,
    "start_time": "2022-04-20T00:38:40.019Z"
   },
   {
    "duration": 6,
    "start_time": "2022-04-20T00:39:42.423Z"
   },
   {
    "duration": 10,
    "start_time": "2022-04-20T00:44:08.246Z"
   },
   {
    "duration": 11,
    "start_time": "2022-04-20T00:46:14.699Z"
   },
   {
    "duration": 51,
    "start_time": "2022-04-20T00:49:57.953Z"
   },
   {
    "duration": 9,
    "start_time": "2022-04-20T00:52:20.700Z"
   },
   {
    "duration": 9,
    "start_time": "2022-04-20T00:53:03.911Z"
   },
   {
    "duration": 59,
    "start_time": "2022-04-20T00:55:30.015Z"
   },
   {
    "duration": 3405,
    "start_time": "2022-04-20T00:57:44.722Z"
   },
   {
    "duration": 70,
    "start_time": "2022-04-20T00:58:12.839Z"
   },
   {
    "duration": 69,
    "start_time": "2022-04-20T00:58:35.341Z"
   },
   {
    "duration": 70,
    "start_time": "2022-04-20T00:58:38.300Z"
   },
   {
    "duration": 3531,
    "start_time": "2022-04-20T01:01:26.722Z"
   },
   {
    "duration": 9,
    "start_time": "2022-04-20T01:01:42.959Z"
   },
   {
    "duration": 5,
    "start_time": "2022-04-20T01:02:11.512Z"
   },
   {
    "duration": 9,
    "start_time": "2022-04-20T01:04:53.312Z"
   },
   {
    "duration": 69,
    "start_time": "2022-04-20T01:06:44.333Z"
   },
   {
    "duration": 15,
    "start_time": "2022-04-20T01:07:30.440Z"
   },
   {
    "duration": 6,
    "start_time": "2022-04-20T01:10:34.052Z"
   },
   {
    "duration": 17,
    "start_time": "2022-04-20T01:10:59.171Z"
   },
   {
    "duration": 15,
    "start_time": "2022-04-20T01:13:08.363Z"
   },
   {
    "duration": 3199,
    "start_time": "2022-04-20T01:18:51.641Z"
   },
   {
    "duration": 21,
    "start_time": "2022-04-20T01:19:23.839Z"
   },
   {
    "duration": 42,
    "start_time": "2022-04-20T01:19:59.652Z"
   },
   {
    "duration": 24,
    "start_time": "2022-04-20T01:20:13.512Z"
   },
   {
    "duration": 1413,
    "start_time": "2022-04-20T01:20:56.637Z"
   },
   {
    "duration": 384,
    "start_time": "2022-04-20T01:20:58.052Z"
   },
   {
    "duration": 69,
    "start_time": "2022-04-20T01:20:58.438Z"
   },
   {
    "duration": 57,
    "start_time": "2022-04-20T01:20:58.511Z"
   },
   {
    "duration": 60,
    "start_time": "2022-04-20T01:20:58.571Z"
   },
   {
    "duration": 94,
    "start_time": "2022-04-20T01:20:58.634Z"
   },
   {
    "duration": 72,
    "start_time": "2022-04-20T01:20:58.731Z"
   },
   {
    "duration": 17,
    "start_time": "2022-04-20T01:20:58.806Z"
   },
   {
    "duration": 16,
    "start_time": "2022-04-20T01:20:58.826Z"
   },
   {
    "duration": 54,
    "start_time": "2022-04-20T01:20:58.847Z"
   },
   {
    "duration": 23,
    "start_time": "2022-04-20T01:20:58.903Z"
   },
   {
    "duration": 7,
    "start_time": "2022-04-20T01:20:58.929Z"
   },
   {
    "duration": 19,
    "start_time": "2022-04-20T01:20:58.938Z"
   },
   {
    "duration": 24,
    "start_time": "2022-04-20T01:20:58.992Z"
   },
   {
    "duration": 5,
    "start_time": "2022-04-20T01:20:59.019Z"
   },
   {
    "duration": 34,
    "start_time": "2022-04-20T01:20:59.027Z"
   },
   {
    "duration": 51,
    "start_time": "2022-04-20T01:20:59.063Z"
   },
   {
    "duration": 34,
    "start_time": "2022-04-20T01:20:59.117Z"
   },
   {
    "duration": 39,
    "start_time": "2022-04-20T01:20:59.154Z"
   },
   {
    "duration": 36,
    "start_time": "2022-04-20T01:20:59.195Z"
   },
   {
    "duration": 13,
    "start_time": "2022-04-20T01:20:59.233Z"
   },
   {
    "duration": 55,
    "start_time": "2022-04-20T01:20:59.248Z"
   },
   {
    "duration": 33,
    "start_time": "2022-04-20T01:20:59.305Z"
   },
   {
    "duration": 54,
    "start_time": "2022-04-20T01:20:59.340Z"
   },
   {
    "duration": 12,
    "start_time": "2022-04-20T01:20:59.397Z"
   },
   {
    "duration": 25,
    "start_time": "2022-04-20T01:20:59.411Z"
   },
   {
    "duration": 21,
    "start_time": "2022-04-20T01:20:59.438Z"
   },
   {
    "duration": 23,
    "start_time": "2022-04-20T01:20:59.495Z"
   },
   {
    "duration": 24,
    "start_time": "2022-04-20T01:20:59.521Z"
   },
   {
    "duration": 46,
    "start_time": "2022-04-20T01:20:59.548Z"
   },
   {
    "duration": 27,
    "start_time": "2022-04-20T01:20:59.598Z"
   },
   {
    "duration": 22,
    "start_time": "2022-04-20T01:20:59.628Z"
   },
   {
    "duration": 60,
    "start_time": "2022-04-20T01:20:59.653Z"
   },
   {
    "duration": 13,
    "start_time": "2022-04-20T01:20:59.716Z"
   },
   {
    "duration": 71,
    "start_time": "2022-04-20T01:20:59.731Z"
   },
   {
    "duration": 44,
    "start_time": "2022-04-20T01:20:59.804Z"
   },
   {
    "duration": 57,
    "start_time": "2022-04-20T01:20:59.850Z"
   },
   {
    "duration": 38,
    "start_time": "2022-04-20T01:20:59.909Z"
   },
   {
    "duration": 58,
    "start_time": "2022-04-20T01:20:59.949Z"
   },
   {
    "duration": 44,
    "start_time": "2022-04-20T01:21:00.009Z"
   },
   {
    "duration": 42,
    "start_time": "2022-04-20T01:21:00.055Z"
   },
   {
    "duration": 13,
    "start_time": "2022-04-20T01:21:00.099Z"
   },
   {
    "duration": 10,
    "start_time": "2022-04-20T01:21:00.114Z"
   },
   {
    "duration": 88,
    "start_time": "2022-04-20T01:21:00.126Z"
   },
   {
    "duration": 11,
    "start_time": "2022-04-20T01:21:00.217Z"
   },
   {
    "duration": 86,
    "start_time": "2022-04-20T01:21:00.231Z"
   },
   {
    "duration": 11,
    "start_time": "2022-04-20T01:21:00.319Z"
   },
   {
    "duration": 13,
    "start_time": "2022-04-20T01:21:00.333Z"
   },
   {
    "duration": 20,
    "start_time": "2022-04-20T01:21:00.349Z"
   },
   {
    "duration": 97,
    "start_time": "2022-04-20T01:21:00.372Z"
   },
   {
    "duration": 18,
    "start_time": "2022-04-20T01:21:00.471Z"
   },
   {
    "duration": 169,
    "start_time": "2022-04-20T01:21:00.492Z"
   },
   {
    "duration": 0,
    "start_time": "2022-04-20T01:21:00.663Z"
   },
   {
    "duration": 0,
    "start_time": "2022-04-20T01:21:00.665Z"
   },
   {
    "duration": 1,
    "start_time": "2022-04-20T01:21:00.666Z"
   },
   {
    "duration": 0,
    "start_time": "2022-04-20T01:21:00.669Z"
   },
   {
    "duration": 0,
    "start_time": "2022-04-20T01:21:00.671Z"
   },
   {
    "duration": 0,
    "start_time": "2022-04-20T01:21:00.673Z"
   },
   {
    "duration": 0,
    "start_time": "2022-04-20T01:21:00.694Z"
   },
   {
    "duration": 0,
    "start_time": "2022-04-20T01:21:00.696Z"
   },
   {
    "duration": 0,
    "start_time": "2022-04-20T01:21:00.699Z"
   },
   {
    "duration": 0,
    "start_time": "2022-04-20T01:21:00.701Z"
   },
   {
    "duration": 0,
    "start_time": "2022-04-20T01:21:00.703Z"
   },
   {
    "duration": 0,
    "start_time": "2022-04-20T01:21:00.705Z"
   },
   {
    "duration": 1,
    "start_time": "2022-04-20T01:21:00.707Z"
   },
   {
    "duration": 0,
    "start_time": "2022-04-20T01:21:00.711Z"
   },
   {
    "duration": 0,
    "start_time": "2022-04-20T01:21:00.713Z"
   },
   {
    "duration": 0,
    "start_time": "2022-04-20T01:21:00.714Z"
   },
   {
    "duration": 0,
    "start_time": "2022-04-20T01:21:00.716Z"
   },
   {
    "duration": 0,
    "start_time": "2022-04-20T01:21:00.718Z"
   },
   {
    "duration": 0,
    "start_time": "2022-04-20T01:21:00.719Z"
   },
   {
    "duration": 0,
    "start_time": "2022-04-20T01:21:00.721Z"
   },
   {
    "duration": 0,
    "start_time": "2022-04-20T01:21:00.723Z"
   },
   {
    "duration": 43,
    "start_time": "2022-04-20T01:23:46.498Z"
   },
   {
    "duration": 20,
    "start_time": "2022-04-20T01:23:52.696Z"
   },
   {
    "duration": 43,
    "start_time": "2022-04-20T01:25:46.387Z"
   },
   {
    "duration": 19,
    "start_time": "2022-04-20T01:26:14.746Z"
   },
   {
    "duration": 8,
    "start_time": "2022-04-20T01:27:30.415Z"
   },
   {
    "duration": 10,
    "start_time": "2022-04-20T01:27:35.006Z"
   },
   {
    "duration": 62,
    "start_time": "2022-04-20T01:27:49.206Z"
   },
   {
    "duration": 10,
    "start_time": "2022-04-20T01:27:55.118Z"
   },
   {
    "duration": 62,
    "start_time": "2022-04-20T01:27:58.807Z"
   },
   {
    "duration": 10,
    "start_time": "2022-04-20T01:28:02.082Z"
   },
   {
    "duration": 1427,
    "start_time": "2022-04-20T01:30:06.801Z"
   },
   {
    "duration": 371,
    "start_time": "2022-04-20T01:30:08.231Z"
   },
   {
    "duration": 69,
    "start_time": "2022-04-20T01:30:08.604Z"
   },
   {
    "duration": 70,
    "start_time": "2022-04-20T01:30:08.677Z"
   },
   {
    "duration": 69,
    "start_time": "2022-04-20T01:30:08.750Z"
   },
   {
    "duration": 83,
    "start_time": "2022-04-20T01:30:08.821Z"
   },
   {
    "duration": 42,
    "start_time": "2022-04-20T01:30:08.906Z"
   },
   {
    "duration": 43,
    "start_time": "2022-04-20T01:30:08.950Z"
   },
   {
    "duration": 13,
    "start_time": "2022-04-20T01:30:08.995Z"
   },
   {
    "duration": 14,
    "start_time": "2022-04-20T01:30:09.011Z"
   },
   {
    "duration": 22,
    "start_time": "2022-04-20T01:30:09.027Z"
   },
   {
    "duration": 42,
    "start_time": "2022-04-20T01:30:09.051Z"
   },
   {
    "duration": 23,
    "start_time": "2022-04-20T01:30:09.095Z"
   },
   {
    "duration": 26,
    "start_time": "2022-04-20T01:30:09.120Z"
   },
   {
    "duration": 4,
    "start_time": "2022-04-20T01:30:09.148Z"
   },
   {
    "duration": 52,
    "start_time": "2022-04-20T01:30:09.154Z"
   },
   {
    "duration": 20,
    "start_time": "2022-04-20T01:30:09.208Z"
   },
   {
    "duration": 30,
    "start_time": "2022-04-20T01:30:09.230Z"
   },
   {
    "duration": 33,
    "start_time": "2022-04-20T01:30:09.262Z"
   },
   {
    "duration": 39,
    "start_time": "2022-04-20T01:30:09.297Z"
   },
   {
    "duration": 10,
    "start_time": "2022-04-20T01:30:09.338Z"
   },
   {
    "duration": 50,
    "start_time": "2022-04-20T01:30:09.350Z"
   },
   {
    "duration": 31,
    "start_time": "2022-04-20T01:30:09.403Z"
   },
   {
    "duration": 20,
    "start_time": "2022-04-20T01:30:09.437Z"
   },
   {
    "duration": 35,
    "start_time": "2022-04-20T01:30:09.460Z"
   },
   {
    "duration": 23,
    "start_time": "2022-04-20T01:30:09.497Z"
   },
   {
    "duration": 18,
    "start_time": "2022-04-20T01:30:09.522Z"
   },
   {
    "duration": 55,
    "start_time": "2022-04-20T01:30:09.546Z"
   },
   {
    "duration": 23,
    "start_time": "2022-04-20T01:30:09.604Z"
   },
   {
    "duration": 12,
    "start_time": "2022-04-20T01:30:09.629Z"
   },
   {
    "duration": 55,
    "start_time": "2022-04-20T01:30:09.644Z"
   },
   {
    "duration": 20,
    "start_time": "2022-04-20T01:30:09.701Z"
   },
   {
    "duration": 27,
    "start_time": "2022-04-20T01:30:09.724Z"
   },
   {
    "duration": 41,
    "start_time": "2022-04-20T01:30:09.753Z"
   },
   {
    "duration": 44,
    "start_time": "2022-04-20T01:30:09.796Z"
   },
   {
    "duration": 67,
    "start_time": "2022-04-20T01:30:09.843Z"
   },
   {
    "duration": 32,
    "start_time": "2022-04-20T01:30:09.912Z"
   },
   {
    "duration": 61,
    "start_time": "2022-04-20T01:30:09.947Z"
   },
   {
    "duration": 36,
    "start_time": "2022-04-20T01:30:10.011Z"
   },
   {
    "duration": 62,
    "start_time": "2022-04-20T01:30:10.049Z"
   },
   {
    "duration": 18,
    "start_time": "2022-04-20T01:30:10.113Z"
   },
   {
    "duration": 17,
    "start_time": "2022-04-20T01:30:10.134Z"
   },
   {
    "duration": 12,
    "start_time": "2022-04-20T01:30:10.153Z"
   },
   {
    "duration": 61,
    "start_time": "2022-04-20T01:30:10.194Z"
   },
   {
    "duration": 9,
    "start_time": "2022-04-20T01:30:10.257Z"
   },
   {
    "duration": 81,
    "start_time": "2022-04-20T01:30:10.268Z"
   },
   {
    "duration": 9,
    "start_time": "2022-04-20T01:30:10.351Z"
   },
   {
    "duration": 31,
    "start_time": "2022-04-20T01:30:10.362Z"
   },
   {
    "duration": 8,
    "start_time": "2022-04-20T01:30:10.395Z"
   },
   {
    "duration": 64,
    "start_time": "2022-04-20T01:30:10.405Z"
   },
   {
    "duration": 34,
    "start_time": "2022-04-20T01:30:10.471Z"
   },
   {
    "duration": 156,
    "start_time": "2022-04-20T01:30:10.507Z"
   },
   {
    "duration": 0,
    "start_time": "2022-04-20T01:30:10.665Z"
   },
   {
    "duration": 0,
    "start_time": "2022-04-20T01:30:10.666Z"
   },
   {
    "duration": 0,
    "start_time": "2022-04-20T01:30:10.668Z"
   },
   {
    "duration": 0,
    "start_time": "2022-04-20T01:30:10.669Z"
   },
   {
    "duration": 0,
    "start_time": "2022-04-20T01:30:10.670Z"
   },
   {
    "duration": 0,
    "start_time": "2022-04-20T01:30:10.672Z"
   },
   {
    "duration": 0,
    "start_time": "2022-04-20T01:30:10.673Z"
   },
   {
    "duration": 0,
    "start_time": "2022-04-20T01:30:10.674Z"
   },
   {
    "duration": 0,
    "start_time": "2022-04-20T01:30:10.675Z"
   },
   {
    "duration": 0,
    "start_time": "2022-04-20T01:30:10.692Z"
   },
   {
    "duration": 0,
    "start_time": "2022-04-20T01:30:10.694Z"
   },
   {
    "duration": 0,
    "start_time": "2022-04-20T01:30:10.695Z"
   },
   {
    "duration": 0,
    "start_time": "2022-04-20T01:30:10.697Z"
   },
   {
    "duration": 0,
    "start_time": "2022-04-20T01:30:10.698Z"
   },
   {
    "duration": 0,
    "start_time": "2022-04-20T01:30:10.699Z"
   },
   {
    "duration": 0,
    "start_time": "2022-04-20T01:30:10.701Z"
   },
   {
    "duration": 1,
    "start_time": "2022-04-20T01:30:10.701Z"
   },
   {
    "duration": 0,
    "start_time": "2022-04-20T01:30:10.703Z"
   },
   {
    "duration": 0,
    "start_time": "2022-04-20T01:30:10.704Z"
   },
   {
    "duration": 0,
    "start_time": "2022-04-20T01:30:10.705Z"
   },
   {
    "duration": 0,
    "start_time": "2022-04-20T01:30:10.707Z"
   },
   {
    "duration": 5,
    "start_time": "2022-04-20T01:30:59.496Z"
   },
   {
    "duration": 20,
    "start_time": "2022-04-20T01:31:08.946Z"
   },
   {
    "duration": 34,
    "start_time": "2022-04-20T01:36:21.231Z"
   },
   {
    "duration": 38,
    "start_time": "2022-04-20T01:36:42.909Z"
   },
   {
    "duration": 43,
    "start_time": "2022-04-20T01:36:56.749Z"
   },
   {
    "duration": 21,
    "start_time": "2022-04-20T01:37:15.501Z"
   },
   {
    "duration": 43,
    "start_time": "2022-04-20T01:38:18.410Z"
   },
   {
    "duration": 20,
    "start_time": "2022-04-20T01:38:23.261Z"
   },
   {
    "duration": 8,
    "start_time": "2022-04-20T01:38:29.269Z"
   },
   {
    "duration": 1431,
    "start_time": "2022-04-20T01:38:37.089Z"
   },
   {
    "duration": 360,
    "start_time": "2022-04-20T01:38:38.523Z"
   },
   {
    "duration": 65,
    "start_time": "2022-04-20T01:38:38.885Z"
   },
   {
    "duration": 65,
    "start_time": "2022-04-20T01:38:38.953Z"
   },
   {
    "duration": 40,
    "start_time": "2022-04-20T01:38:39.020Z"
   },
   {
    "duration": 78,
    "start_time": "2022-04-20T01:38:39.062Z"
   },
   {
    "duration": 70,
    "start_time": "2022-04-20T01:38:39.143Z"
   },
   {
    "duration": 17,
    "start_time": "2022-04-20T01:38:39.215Z"
   },
   {
    "duration": 12,
    "start_time": "2022-04-20T01:38:39.234Z"
   },
   {
    "duration": 52,
    "start_time": "2022-04-20T01:38:39.251Z"
   },
   {
    "duration": 25,
    "start_time": "2022-04-20T01:38:39.305Z"
   },
   {
    "duration": 6,
    "start_time": "2022-04-20T01:38:39.332Z"
   },
   {
    "duration": 16,
    "start_time": "2022-04-20T01:38:39.340Z"
   },
   {
    "duration": 54,
    "start_time": "2022-04-20T01:38:39.359Z"
   },
   {
    "duration": 4,
    "start_time": "2022-04-20T01:38:39.415Z"
   },
   {
    "duration": 36,
    "start_time": "2022-04-20T01:38:39.421Z"
   },
   {
    "duration": 47,
    "start_time": "2022-04-20T01:38:39.460Z"
   },
   {
    "duration": 35,
    "start_time": "2022-04-20T01:38:39.509Z"
   },
   {
    "duration": 12,
    "start_time": "2022-04-20T01:38:39.547Z"
   },
   {
    "duration": 56,
    "start_time": "2022-04-20T01:38:39.561Z"
   },
   {
    "duration": 10,
    "start_time": "2022-04-20T01:38:39.620Z"
   },
   {
    "duration": 23,
    "start_time": "2022-04-20T01:38:39.633Z"
   },
   {
    "duration": 61,
    "start_time": "2022-04-20T01:38:39.658Z"
   },
   {
    "duration": 21,
    "start_time": "2022-04-20T01:38:39.721Z"
   },
   {
    "duration": 11,
    "start_time": "2022-04-20T01:38:39.744Z"
   },
   {
    "duration": 45,
    "start_time": "2022-04-20T01:38:39.756Z"
   },
   {
    "duration": 18,
    "start_time": "2022-04-20T01:38:39.804Z"
   },
   {
    "duration": 23,
    "start_time": "2022-04-20T01:38:39.828Z"
   },
   {
    "duration": 56,
    "start_time": "2022-04-20T01:38:39.853Z"
   },
   {
    "duration": 12,
    "start_time": "2022-04-20T01:38:39.911Z"
   },
   {
    "duration": 29,
    "start_time": "2022-04-20T01:38:39.925Z"
   },
   {
    "duration": 50,
    "start_time": "2022-04-20T01:38:39.956Z"
   },
   {
    "duration": 29,
    "start_time": "2022-04-20T01:38:40.008Z"
   },
   {
    "duration": 12,
    "start_time": "2022-04-20T01:38:40.039Z"
   },
   {
    "duration": 77,
    "start_time": "2022-04-20T01:38:40.053Z"
   },
   {
    "duration": 45,
    "start_time": "2022-04-20T01:38:40.132Z"
   },
   {
    "duration": 35,
    "start_time": "2022-04-20T01:38:40.193Z"
   },
   {
    "duration": 39,
    "start_time": "2022-04-20T01:38:40.230Z"
   },
   {
    "duration": 39,
    "start_time": "2022-04-20T01:38:40.293Z"
   },
   {
    "duration": 64,
    "start_time": "2022-04-20T01:38:40.334Z"
   },
   {
    "duration": 20,
    "start_time": "2022-04-20T01:38:40.400Z"
   },
   {
    "duration": 10,
    "start_time": "2022-04-20T01:38:40.422Z"
   },
   {
    "duration": 11,
    "start_time": "2022-04-20T01:38:40.434Z"
   },
   {
    "duration": 109,
    "start_time": "2022-04-20T01:38:40.447Z"
   },
   {
    "duration": 9,
    "start_time": "2022-04-20T01:38:40.558Z"
   },
   {
    "duration": 89,
    "start_time": "2022-04-20T01:38:40.569Z"
   },
   {
    "duration": 9,
    "start_time": "2022-04-20T01:38:40.660Z"
   },
   {
    "duration": 25,
    "start_time": "2022-04-20T01:38:40.671Z"
   },
   {
    "duration": 9,
    "start_time": "2022-04-20T01:38:40.698Z"
   },
   {
    "duration": 93,
    "start_time": "2022-04-20T01:38:40.709Z"
   },
   {
    "duration": 17,
    "start_time": "2022-04-20T01:38:40.804Z"
   },
   {
    "duration": 9,
    "start_time": "2022-04-20T01:38:40.823Z"
   },
   {
    "duration": 18,
    "start_time": "2022-04-20T01:38:40.834Z"
   },
   {
    "duration": 41,
    "start_time": "2022-04-20T01:38:40.854Z"
   },
   {
    "duration": 10,
    "start_time": "2022-04-20T01:38:40.897Z"
   },
   {
    "duration": 98,
    "start_time": "2022-04-20T01:38:40.909Z"
   },
   {
    "duration": 7,
    "start_time": "2022-04-20T01:38:41.009Z"
   },
   {
    "duration": 29,
    "start_time": "2022-04-20T01:38:41.018Z"
   },
   {
    "duration": 164,
    "start_time": "2022-04-20T01:38:41.049Z"
   },
   {
    "duration": 0,
    "start_time": "2022-04-20T01:38:41.215Z"
   },
   {
    "duration": 0,
    "start_time": "2022-04-20T01:38:41.216Z"
   },
   {
    "duration": 0,
    "start_time": "2022-04-20T01:38:41.218Z"
   },
   {
    "duration": 0,
    "start_time": "2022-04-20T01:38:41.219Z"
   },
   {
    "duration": 0,
    "start_time": "2022-04-20T01:38:41.221Z"
   },
   {
    "duration": 0,
    "start_time": "2022-04-20T01:38:41.222Z"
   },
   {
    "duration": 0,
    "start_time": "2022-04-20T01:38:41.223Z"
   },
   {
    "duration": 0,
    "start_time": "2022-04-20T01:38:41.224Z"
   },
   {
    "duration": 0,
    "start_time": "2022-04-20T01:38:41.226Z"
   },
   {
    "duration": 0,
    "start_time": "2022-04-20T01:38:41.227Z"
   },
   {
    "duration": 0,
    "start_time": "2022-04-20T01:38:41.228Z"
   },
   {
    "duration": 0,
    "start_time": "2022-04-20T01:38:41.229Z"
   },
   {
    "duration": 0,
    "start_time": "2022-04-20T01:38:41.231Z"
   },
   {
    "duration": 0,
    "start_time": "2022-04-20T01:38:41.232Z"
   },
   {
    "duration": 1386,
    "start_time": "2022-04-20T01:42:32.243Z"
   },
   {
    "duration": 366,
    "start_time": "2022-04-20T01:42:33.632Z"
   },
   {
    "duration": 69,
    "start_time": "2022-04-20T01:42:34.001Z"
   },
   {
    "duration": 73,
    "start_time": "2022-04-20T01:42:34.073Z"
   },
   {
    "duration": 65,
    "start_time": "2022-04-20T01:42:34.148Z"
   },
   {
    "duration": 78,
    "start_time": "2022-04-20T01:42:34.215Z"
   },
   {
    "duration": 43,
    "start_time": "2022-04-20T01:42:34.296Z"
   },
   {
    "duration": 52,
    "start_time": "2022-04-20T01:42:34.341Z"
   },
   {
    "duration": 14,
    "start_time": "2022-04-20T01:42:34.395Z"
   },
   {
    "duration": 14,
    "start_time": "2022-04-20T01:42:34.416Z"
   },
   {
    "duration": 61,
    "start_time": "2022-04-20T01:42:34.432Z"
   },
   {
    "duration": 8,
    "start_time": "2022-04-20T01:42:34.496Z"
   },
   {
    "duration": 17,
    "start_time": "2022-04-20T01:42:34.506Z"
   },
   {
    "duration": 24,
    "start_time": "2022-04-20T01:42:34.525Z"
   },
   {
    "duration": 4,
    "start_time": "2022-04-20T01:42:34.551Z"
   },
   {
    "duration": 55,
    "start_time": "2022-04-20T01:42:34.557Z"
   },
   {
    "duration": 27,
    "start_time": "2022-04-20T01:42:34.614Z"
   },
   {
    "duration": 12,
    "start_time": "2022-04-20T01:42:34.643Z"
   },
   {
    "duration": 62,
    "start_time": "2022-04-20T01:42:34.657Z"
   },
   {
    "duration": 10,
    "start_time": "2022-04-20T01:42:34.722Z"
   },
   {
    "duration": 21,
    "start_time": "2022-04-20T01:42:34.734Z"
   },
   {
    "duration": 58,
    "start_time": "2022-04-20T01:42:34.757Z"
   },
   {
    "duration": 20,
    "start_time": "2022-04-20T01:42:34.817Z"
   },
   {
    "duration": 11,
    "start_time": "2022-04-20T01:42:34.839Z"
   },
   {
    "duration": 56,
    "start_time": "2022-04-20T01:42:34.852Z"
   },
   {
    "duration": 20,
    "start_time": "2022-04-20T01:42:34.911Z"
   },
   {
    "duration": 23,
    "start_time": "2022-04-20T01:42:34.933Z"
   },
   {
    "duration": 26,
    "start_time": "2022-04-20T01:42:34.995Z"
   },
   {
    "duration": 12,
    "start_time": "2022-04-20T01:42:35.023Z"
   },
   {
    "duration": 40,
    "start_time": "2022-04-20T01:42:35.037Z"
   },
   {
    "duration": 21,
    "start_time": "2022-04-20T01:42:35.092Z"
   },
   {
    "duration": 27,
    "start_time": "2022-04-20T01:42:35.115Z"
   },
   {
    "duration": 12,
    "start_time": "2022-04-20T01:42:35.144Z"
   },
   {
    "duration": 77,
    "start_time": "2022-04-20T01:42:35.158Z"
   },
   {
    "duration": 58,
    "start_time": "2022-04-20T01:42:35.237Z"
   },
   {
    "duration": 33,
    "start_time": "2022-04-20T01:42:35.297Z"
   },
   {
    "duration": 61,
    "start_time": "2022-04-20T01:42:35.332Z"
   },
   {
    "duration": 37,
    "start_time": "2022-04-20T01:42:35.395Z"
   },
   {
    "duration": 59,
    "start_time": "2022-04-20T01:42:35.434Z"
   },
   {
    "duration": 18,
    "start_time": "2022-04-20T01:42:35.495Z"
   },
   {
    "duration": 7,
    "start_time": "2022-04-20T01:42:35.515Z"
   },
   {
    "duration": 11,
    "start_time": "2022-04-20T01:42:35.524Z"
   },
   {
    "duration": 101,
    "start_time": "2022-04-20T01:42:35.538Z"
   },
   {
    "duration": 9,
    "start_time": "2022-04-20T01:42:35.642Z"
   },
   {
    "duration": 86,
    "start_time": "2022-04-20T01:42:35.653Z"
   },
   {
    "duration": 9,
    "start_time": "2022-04-20T01:42:35.741Z"
   },
   {
    "duration": 8,
    "start_time": "2022-04-20T01:42:35.752Z"
   },
   {
    "duration": 10,
    "start_time": "2022-04-20T01:42:35.762Z"
   },
   {
    "duration": 85,
    "start_time": "2022-04-20T01:42:35.774Z"
   },
   {
    "duration": 36,
    "start_time": "2022-04-20T01:42:35.861Z"
   },
   {
    "duration": 7,
    "start_time": "2022-04-20T01:42:35.899Z"
   },
   {
    "duration": 22,
    "start_time": "2022-04-20T01:42:35.908Z"
   },
   {
    "duration": 12,
    "start_time": "2022-04-20T01:42:35.932Z"
   },
   {
    "duration": 9,
    "start_time": "2022-04-20T01:42:35.946Z"
   },
   {
    "duration": 113,
    "start_time": "2022-04-20T01:42:35.957Z"
   },
   {
    "duration": 7,
    "start_time": "2022-04-20T01:42:36.072Z"
   },
   {
    "duration": 24,
    "start_time": "2022-04-20T01:42:36.093Z"
   },
   {
    "duration": 318,
    "start_time": "2022-04-20T01:42:36.119Z"
   },
   {
    "duration": 285,
    "start_time": "2022-04-20T01:42:36.439Z"
   },
   {
    "duration": 40,
    "start_time": "2022-04-20T01:42:36.726Z"
   },
   {
    "duration": 381,
    "start_time": "2022-04-20T01:42:36.768Z"
   },
   {
    "duration": 309,
    "start_time": "2022-04-20T01:42:37.151Z"
   },
   {
    "duration": 314,
    "start_time": "2022-04-20T01:42:37.462Z"
   },
   {
    "duration": 50,
    "start_time": "2022-04-20T01:42:37.778Z"
   },
   {
    "duration": 324,
    "start_time": "2022-04-20T01:42:37.831Z"
   },
   {
    "duration": 337,
    "start_time": "2022-04-20T01:42:38.158Z"
   },
   {
    "duration": 43,
    "start_time": "2022-04-20T01:42:38.498Z"
   },
   {
    "duration": 319,
    "start_time": "2022-04-20T01:42:38.544Z"
   },
   {
    "duration": 400,
    "start_time": "2022-04-20T01:42:38.866Z"
   },
   {
    "duration": 55,
    "start_time": "2022-04-20T01:42:39.269Z"
   },
   {
    "duration": 10,
    "start_time": "2022-04-20T01:42:39.326Z"
   },
   {
    "duration": 26,
    "start_time": "2022-04-20T01:42:39.338Z"
   },
   {
    "duration": 70,
    "start_time": "2022-04-20T01:47:16.627Z"
   },
   {
    "duration": 69,
    "start_time": "2022-04-20T01:47:26.427Z"
   },
   {
    "duration": 17,
    "start_time": "2022-04-20T01:47:43.715Z"
   },
   {
    "duration": 5,
    "start_time": "2022-04-20T01:47:57.555Z"
   },
   {
    "duration": 20,
    "start_time": "2022-04-20T01:48:01.959Z"
   },
   {
    "duration": 264,
    "start_time": "2022-04-20T01:57:05.315Z"
   },
   {
    "duration": 367,
    "start_time": "2022-04-20T02:00:55.095Z"
   },
   {
    "duration": 318,
    "start_time": "2022-04-20T02:03:32.384Z"
   },
   {
    "duration": 260,
    "start_time": "2022-04-20T02:05:12.936Z"
   },
   {
    "duration": 325,
    "start_time": "2022-04-20T02:06:50.736Z"
   },
   {
    "duration": 278,
    "start_time": "2022-04-20T02:10:41.776Z"
   },
   {
    "duration": 16,
    "start_time": "2022-04-20T02:30:05.355Z"
   },
   {
    "duration": 20,
    "start_time": "2022-04-20T02:30:31.067Z"
   },
   {
    "duration": 38,
    "start_time": "2022-04-20T02:31:34.852Z"
   },
   {
    "duration": 18,
    "start_time": "2022-04-20T02:32:00.771Z"
   },
   {
    "duration": 1433,
    "start_time": "2022-04-20T20:39:30.191Z"
   },
   {
    "duration": 1009,
    "start_time": "2022-04-20T20:39:31.626Z"
   },
   {
    "duration": 57,
    "start_time": "2022-04-20T20:39:32.637Z"
   },
   {
    "duration": 63,
    "start_time": "2022-04-20T20:39:32.697Z"
   },
   {
    "duration": 33,
    "start_time": "2022-04-20T20:39:32.761Z"
   },
   {
    "duration": 64,
    "start_time": "2022-04-20T20:39:32.796Z"
   },
   {
    "duration": 32,
    "start_time": "2022-04-20T20:39:32.862Z"
   },
   {
    "duration": 12,
    "start_time": "2022-04-20T20:39:32.896Z"
   },
   {
    "duration": 10,
    "start_time": "2022-04-20T20:39:32.934Z"
   },
   {
    "duration": 12,
    "start_time": "2022-04-20T20:39:32.947Z"
   },
   {
    "duration": 19,
    "start_time": "2022-04-20T20:39:32.961Z"
   },
   {
    "duration": 6,
    "start_time": "2022-04-20T20:39:32.982Z"
   },
   {
    "duration": 44,
    "start_time": "2022-04-20T20:39:32.990Z"
   },
   {
    "duration": 15,
    "start_time": "2022-04-20T20:39:33.036Z"
   },
   {
    "duration": 4,
    "start_time": "2022-04-20T20:39:33.053Z"
   },
   {
    "duration": 24,
    "start_time": "2022-04-20T20:39:33.059Z"
   },
   {
    "duration": 14,
    "start_time": "2022-04-20T20:39:33.085Z"
   },
   {
    "duration": 22,
    "start_time": "2022-04-20T20:39:33.133Z"
   },
   {
    "duration": 9,
    "start_time": "2022-04-20T20:39:33.157Z"
   },
   {
    "duration": 28,
    "start_time": "2022-04-20T20:39:33.168Z"
   },
   {
    "duration": 36,
    "start_time": "2022-04-20T20:39:33.198Z"
   },
   {
    "duration": 18,
    "start_time": "2022-04-20T20:39:33.236Z"
   },
   {
    "duration": 25,
    "start_time": "2022-04-20T20:39:33.255Z"
   },
   {
    "duration": 17,
    "start_time": "2022-04-20T20:39:33.282Z"
   },
   {
    "duration": 8,
    "start_time": "2022-04-20T20:39:33.334Z"
   },
   {
    "duration": 19,
    "start_time": "2022-04-20T20:39:33.344Z"
   },
   {
    "duration": 16,
    "start_time": "2022-04-20T20:39:33.365Z"
   },
   {
    "duration": 21,
    "start_time": "2022-04-20T20:39:33.386Z"
   },
   {
    "duration": 41,
    "start_time": "2022-04-20T20:39:33.409Z"
   },
   {
    "duration": 10,
    "start_time": "2022-04-20T20:39:33.452Z"
   },
   {
    "duration": 21,
    "start_time": "2022-04-20T20:39:33.464Z"
   },
   {
    "duration": 50,
    "start_time": "2022-04-20T20:39:33.487Z"
   },
   {
    "duration": 21,
    "start_time": "2022-04-20T20:39:33.539Z"
   },
   {
    "duration": 9,
    "start_time": "2022-04-20T20:39:33.562Z"
   },
   {
    "duration": 86,
    "start_time": "2022-04-20T20:39:33.574Z"
   },
   {
    "duration": 38,
    "start_time": "2022-04-20T20:39:33.662Z"
   },
   {
    "duration": 55,
    "start_time": "2022-04-20T20:39:33.702Z"
   },
   {
    "duration": 43,
    "start_time": "2022-04-20T20:39:33.759Z"
   },
   {
    "duration": 59,
    "start_time": "2022-04-20T20:39:33.804Z"
   },
   {
    "duration": 30,
    "start_time": "2022-04-20T20:39:33.865Z"
   },
   {
    "duration": 13,
    "start_time": "2022-04-20T20:39:33.897Z"
   },
   {
    "duration": 11,
    "start_time": "2022-04-20T20:39:33.934Z"
   },
   {
    "duration": 17,
    "start_time": "2022-04-20T20:39:33.947Z"
   },
   {
    "duration": 19,
    "start_time": "2022-04-20T20:39:33.966Z"
   },
   {
    "duration": 9,
    "start_time": "2022-04-20T20:39:33.987Z"
   },
   {
    "duration": 42,
    "start_time": "2022-04-20T20:39:33.997Z"
   },
   {
    "duration": 10,
    "start_time": "2022-04-20T20:39:34.041Z"
   },
   {
    "duration": 20,
    "start_time": "2022-04-20T20:39:34.053Z"
   },
   {
    "duration": 9,
    "start_time": "2022-04-20T20:39:34.075Z"
   },
   {
    "duration": 19,
    "start_time": "2022-04-20T20:39:34.086Z"
   },
   {
    "duration": 41,
    "start_time": "2022-04-20T20:39:34.107Z"
   },
   {
    "duration": 6,
    "start_time": "2022-04-20T20:39:34.151Z"
   },
   {
    "duration": 15,
    "start_time": "2022-04-20T20:39:34.159Z"
   },
   {
    "duration": 16,
    "start_time": "2022-04-20T20:39:34.176Z"
   },
   {
    "duration": 7,
    "start_time": "2022-04-20T20:39:34.193Z"
   },
   {
    "duration": 45,
    "start_time": "2022-04-20T20:39:34.201Z"
   },
   {
    "duration": 9,
    "start_time": "2022-04-20T20:39:34.248Z"
   },
   {
    "duration": 21,
    "start_time": "2022-04-20T20:39:34.259Z"
   },
   {
    "duration": 278,
    "start_time": "2022-04-20T20:39:34.283Z"
   },
   {
    "duration": 243,
    "start_time": "2022-04-20T20:39:34.563Z"
   },
   {
    "duration": 63,
    "start_time": "2022-04-20T20:39:34.808Z"
   },
   {
    "duration": 234,
    "start_time": "2022-04-20T20:39:34.873Z"
   },
   {
    "duration": 246,
    "start_time": "2022-04-20T20:39:35.109Z"
   },
   {
    "duration": 228,
    "start_time": "2022-04-20T20:39:35.357Z"
   },
   {
    "duration": 57,
    "start_time": "2022-04-20T20:39:35.586Z"
   },
   {
    "duration": 234,
    "start_time": "2022-04-20T20:39:35.645Z"
   },
   {
    "duration": 245,
    "start_time": "2022-04-20T20:39:35.881Z"
   },
   {
    "duration": 244,
    "start_time": "2022-04-20T20:39:36.127Z"
   },
   {
    "duration": 43,
    "start_time": "2022-04-20T20:39:36.373Z"
   },
   {
    "duration": 236,
    "start_time": "2022-04-20T20:39:36.417Z"
   },
   {
    "duration": 345,
    "start_time": "2022-04-20T20:39:36.654Z"
   },
   {
    "duration": 211,
    "start_time": "2022-04-20T20:39:37.000Z"
   },
   {
    "duration": 60,
    "start_time": "2022-04-20T20:39:37.213Z"
   },
   {
    "duration": 8,
    "start_time": "2022-04-20T20:39:37.275Z"
   },
   {
    "duration": 48,
    "start_time": "2022-04-20T20:39:37.285Z"
   },
   {
    "duration": 14,
    "start_time": "2022-04-20T20:43:11.436Z"
   },
   {
    "duration": 5,
    "start_time": "2022-04-20T20:46:29.964Z"
   },
   {
    "duration": 1460,
    "start_time": "2022-04-20T21:49:52.675Z"
   },
   {
    "duration": 138,
    "start_time": "2022-04-20T21:53:39.162Z"
   },
   {
    "duration": 10,
    "start_time": "2022-04-20T21:53:54.829Z"
   },
   {
    "duration": 333,
    "start_time": "2022-04-20T21:54:10.226Z"
   },
   {
    "duration": 16,
    "start_time": "2022-04-20T21:54:22.648Z"
   },
   {
    "duration": 14,
    "start_time": "2022-04-20T22:03:24.983Z"
   },
   {
    "duration": 5,
    "start_time": "2022-04-20T22:08:08.394Z"
   },
   {
    "duration": 4,
    "start_time": "2022-04-20T22:40:28.070Z"
   },
   {
    "duration": 12,
    "start_time": "2022-04-20T22:42:14.149Z"
   },
   {
    "duration": 20,
    "start_time": "2022-04-20T22:42:22.348Z"
   },
   {
    "duration": 1218,
    "start_time": "2022-04-20T22:42:31.091Z"
   },
   {
    "duration": 370,
    "start_time": "2022-04-20T22:42:32.311Z"
   },
   {
    "duration": 58,
    "start_time": "2022-04-20T22:42:32.683Z"
   },
   {
    "duration": 46,
    "start_time": "2022-04-20T22:42:32.744Z"
   },
   {
    "duration": 59,
    "start_time": "2022-04-20T22:42:32.792Z"
   },
   {
    "duration": 45,
    "start_time": "2022-04-20T22:42:32.853Z"
   },
   {
    "duration": 58,
    "start_time": "2022-04-20T22:42:32.900Z"
   },
   {
    "duration": 13,
    "start_time": "2022-04-20T22:42:32.960Z"
   },
   {
    "duration": 16,
    "start_time": "2022-04-20T22:42:32.975Z"
   },
   {
    "duration": 42,
    "start_time": "2022-04-20T22:42:32.994Z"
   },
   {
    "duration": 17,
    "start_time": "2022-04-20T22:42:33.037Z"
   },
   {
    "duration": 9,
    "start_time": "2022-04-20T22:42:33.055Z"
   },
   {
    "duration": 18,
    "start_time": "2022-04-20T22:42:33.066Z"
   },
   {
    "duration": 25,
    "start_time": "2022-04-20T22:42:33.086Z"
   },
   {
    "duration": 4,
    "start_time": "2022-04-20T22:42:33.134Z"
   },
   {
    "duration": 33,
    "start_time": "2022-04-20T22:42:33.141Z"
   },
   {
    "duration": 15,
    "start_time": "2022-04-20T22:42:33.177Z"
   },
   {
    "duration": 48,
    "start_time": "2022-04-20T22:42:33.194Z"
   },
   {
    "duration": 10,
    "start_time": "2022-04-20T22:42:33.244Z"
   },
   {
    "duration": 14,
    "start_time": "2022-04-20T22:42:33.256Z"
   },
   {
    "duration": 7,
    "start_time": "2022-04-20T22:42:33.272Z"
   },
   {
    "duration": 54,
    "start_time": "2022-04-20T22:42:33.280Z"
   },
   {
    "duration": 8,
    "start_time": "2022-04-20T22:42:33.336Z"
   },
   {
    "duration": 18,
    "start_time": "2022-04-20T22:42:33.346Z"
   },
   {
    "duration": 29,
    "start_time": "2022-04-20T22:42:33.367Z"
   },
   {
    "duration": 59,
    "start_time": "2022-04-20T22:42:33.398Z"
   },
   {
    "duration": 9,
    "start_time": "2022-04-20T22:42:33.460Z"
   },
   {
    "duration": 19,
    "start_time": "2022-04-20T22:42:33.473Z"
   },
   {
    "duration": 15,
    "start_time": "2022-04-20T22:42:33.494Z"
   },
   {
    "duration": 26,
    "start_time": "2022-04-20T22:42:33.535Z"
   },
   {
    "duration": 22,
    "start_time": "2022-04-20T22:42:33.563Z"
   },
   {
    "duration": 10,
    "start_time": "2022-04-20T22:42:33.587Z"
   },
   {
    "duration": 45,
    "start_time": "2022-04-20T22:42:33.600Z"
   },
   {
    "duration": 18,
    "start_time": "2022-04-20T22:42:33.647Z"
   },
   {
    "duration": 28,
    "start_time": "2022-04-20T22:42:33.667Z"
   },
   {
    "duration": 38,
    "start_time": "2022-04-20T22:42:33.697Z"
   },
   {
    "duration": 59,
    "start_time": "2022-04-20T22:42:33.738Z"
   },
   {
    "duration": 43,
    "start_time": "2022-04-20T22:42:33.799Z"
   },
   {
    "duration": 30,
    "start_time": "2022-04-20T22:42:33.844Z"
   },
   {
    "duration": 36,
    "start_time": "2022-04-20T22:42:33.875Z"
   },
   {
    "duration": 36,
    "start_time": "2022-04-20T22:42:33.935Z"
   },
   {
    "duration": 37,
    "start_time": "2022-04-20T22:42:33.973Z"
   },
   {
    "duration": 56,
    "start_time": "2022-04-20T22:42:34.012Z"
   },
   {
    "duration": 14,
    "start_time": "2022-04-20T22:42:34.070Z"
   },
   {
    "duration": 10,
    "start_time": "2022-04-20T22:42:34.086Z"
   },
   {
    "duration": 10,
    "start_time": "2022-04-20T22:42:34.098Z"
   },
   {
    "duration": 36,
    "start_time": "2022-04-20T22:42:34.110Z"
   },
   {
    "duration": 15,
    "start_time": "2022-04-20T22:42:34.149Z"
   },
   {
    "duration": 15,
    "start_time": "2022-04-20T22:42:34.166Z"
   },
   {
    "duration": 14,
    "start_time": "2022-04-20T22:42:34.183Z"
   },
   {
    "duration": 45,
    "start_time": "2022-04-20T22:42:34.199Z"
   },
   {
    "duration": 17,
    "start_time": "2022-04-20T22:42:34.246Z"
   },
   {
    "duration": 23,
    "start_time": "2022-04-20T22:42:34.265Z"
   },
   {
    "duration": 20,
    "start_time": "2022-04-20T22:42:34.290Z"
   },
   {
    "duration": 21,
    "start_time": "2022-04-20T22:42:34.312Z"
   },
   {
    "duration": 20,
    "start_time": "2022-04-20T22:42:34.335Z"
   },
   {
    "duration": 21,
    "start_time": "2022-04-20T22:42:34.356Z"
   },
   {
    "duration": 12,
    "start_time": "2022-04-20T22:42:34.380Z"
   },
   {
    "duration": 39,
    "start_time": "2022-04-20T22:42:34.394Z"
   },
   {
    "duration": 6,
    "start_time": "2022-04-20T22:42:34.436Z"
   },
   {
    "duration": 35,
    "start_time": "2022-04-20T22:42:34.445Z"
   },
   {
    "duration": 294,
    "start_time": "2022-04-20T22:42:34.482Z"
   },
   {
    "duration": 243,
    "start_time": "2022-04-20T22:42:34.778Z"
   },
   {
    "duration": 57,
    "start_time": "2022-04-20T22:42:35.023Z"
   },
   {
    "duration": 260,
    "start_time": "2022-04-20T22:42:35.082Z"
   },
   {
    "duration": 264,
    "start_time": "2022-04-20T22:42:35.344Z"
   },
   {
    "duration": 230,
    "start_time": "2022-04-20T22:42:35.610Z"
   },
   {
    "duration": 45,
    "start_time": "2022-04-20T22:42:35.843Z"
   },
   {
    "duration": 239,
    "start_time": "2022-04-20T22:42:35.890Z"
   },
   {
    "duration": 263,
    "start_time": "2022-04-20T22:42:36.131Z"
   },
   {
    "duration": 261,
    "start_time": "2022-04-20T22:42:36.396Z"
   },
   {
    "duration": 43,
    "start_time": "2022-04-20T22:42:36.659Z"
   },
   {
    "duration": 232,
    "start_time": "2022-04-20T22:42:36.704Z"
   },
   {
    "duration": 371,
    "start_time": "2022-04-20T22:42:36.938Z"
   },
   {
    "duration": 218,
    "start_time": "2022-04-20T22:42:37.311Z"
   },
   {
    "duration": 48,
    "start_time": "2022-04-20T22:42:37.531Z"
   },
   {
    "duration": 6,
    "start_time": "2022-04-20T22:42:37.581Z"
   },
   {
    "duration": 54,
    "start_time": "2022-04-20T22:42:37.589Z"
   },
   {
    "duration": 36,
    "start_time": "2022-04-20T22:43:13.492Z"
   },
   {
    "duration": 32,
    "start_time": "2022-04-20T22:45:00.545Z"
   },
   {
    "duration": 16,
    "start_time": "2022-04-20T22:45:07.415Z"
   },
   {
    "duration": 31,
    "start_time": "2022-04-20T22:47:20.050Z"
   },
   {
    "duration": 21,
    "start_time": "2022-04-20T22:47:26.381Z"
   },
   {
    "duration": 1263,
    "start_time": "2022-04-20T22:51:26.338Z"
   },
   {
    "duration": 403,
    "start_time": "2022-04-20T22:51:27.603Z"
   },
   {
    "duration": 60,
    "start_time": "2022-04-20T22:51:28.007Z"
   },
   {
    "duration": 47,
    "start_time": "2022-04-20T22:51:28.069Z"
   },
   {
    "duration": 62,
    "start_time": "2022-04-20T22:51:28.118Z"
   },
   {
    "duration": 89,
    "start_time": "2022-04-20T22:51:28.182Z"
   },
   {
    "duration": 38,
    "start_time": "2022-04-20T22:51:28.273Z"
   },
   {
    "duration": 14,
    "start_time": "2022-04-20T22:51:28.334Z"
   },
   {
    "duration": 15,
    "start_time": "2022-04-20T22:51:28.350Z"
   },
   {
    "duration": 13,
    "start_time": "2022-04-20T22:51:28.369Z"
   },
   {
    "duration": 49,
    "start_time": "2022-04-20T22:51:28.384Z"
   },
   {
    "duration": 7,
    "start_time": "2022-04-20T22:51:28.435Z"
   },
   {
    "duration": 15,
    "start_time": "2022-04-20T22:51:28.444Z"
   },
   {
    "duration": 18,
    "start_time": "2022-04-20T22:51:28.461Z"
   },
   {
    "duration": 4,
    "start_time": "2022-04-20T22:51:28.481Z"
   },
   {
    "duration": 49,
    "start_time": "2022-04-20T22:51:28.487Z"
   },
   {
    "duration": 24,
    "start_time": "2022-04-20T22:51:28.539Z"
   },
   {
    "duration": 10,
    "start_time": "2022-04-20T22:51:28.565Z"
   },
   {
    "duration": 11,
    "start_time": "2022-04-20T22:51:28.577Z"
   },
   {
    "duration": 9,
    "start_time": "2022-04-20T22:51:28.590Z"
   },
   {
    "duration": 53,
    "start_time": "2022-04-20T22:51:28.601Z"
   },
   {
    "duration": 9,
    "start_time": "2022-04-20T22:51:28.656Z"
   },
   {
    "duration": 18,
    "start_time": "2022-04-20T22:51:28.668Z"
   },
   {
    "duration": 61,
    "start_time": "2022-04-20T22:51:28.688Z"
   },
   {
    "duration": 19,
    "start_time": "2022-04-20T22:51:28.751Z"
   },
   {
    "duration": 9,
    "start_time": "2022-04-20T22:51:28.772Z"
   },
   {
    "duration": 51,
    "start_time": "2022-04-20T22:51:28.783Z"
   },
   {
    "duration": 21,
    "start_time": "2022-04-20T22:51:28.841Z"
   },
   {
    "duration": 18,
    "start_time": "2022-04-20T22:51:28.864Z"
   },
   {
    "duration": 49,
    "start_time": "2022-04-20T22:51:28.884Z"
   },
   {
    "duration": 11,
    "start_time": "2022-04-20T22:51:28.935Z"
   },
   {
    "duration": 22,
    "start_time": "2022-04-20T22:51:28.947Z"
   },
   {
    "duration": 16,
    "start_time": "2022-04-20T22:51:28.970Z"
   },
   {
    "duration": 55,
    "start_time": "2022-04-20T22:51:28.988Z"
   },
   {
    "duration": 10,
    "start_time": "2022-04-20T22:51:29.045Z"
   },
   {
    "duration": 41,
    "start_time": "2022-04-20T22:51:29.057Z"
   },
   {
    "duration": 60,
    "start_time": "2022-04-20T22:51:29.101Z"
   },
   {
    "duration": 24,
    "start_time": "2022-04-20T22:51:29.162Z"
   },
   {
    "duration": 53,
    "start_time": "2022-04-20T22:51:29.188Z"
   },
   {
    "duration": 37,
    "start_time": "2022-04-20T22:51:29.243Z"
   },
   {
    "duration": 53,
    "start_time": "2022-04-20T22:51:29.282Z"
   },
   {
    "duration": 29,
    "start_time": "2022-04-20T22:51:29.337Z"
   },
   {
    "duration": 14,
    "start_time": "2022-04-20T22:51:29.367Z"
   },
   {
    "duration": 13,
    "start_time": "2022-04-20T22:51:29.383Z"
   },
   {
    "duration": 39,
    "start_time": "2022-04-20T22:51:29.398Z"
   },
   {
    "duration": 47,
    "start_time": "2022-04-20T22:51:29.439Z"
   },
   {
    "duration": 8,
    "start_time": "2022-04-20T22:51:29.487Z"
   },
   {
    "duration": 72,
    "start_time": "2022-04-20T22:51:29.497Z"
   },
   {
    "duration": 8,
    "start_time": "2022-04-20T22:51:29.571Z"
   },
   {
    "duration": 59,
    "start_time": "2022-04-20T22:51:29.581Z"
   },
   {
    "duration": 8,
    "start_time": "2022-04-20T22:51:29.642Z"
   },
   {
    "duration": 47,
    "start_time": "2022-04-20T22:51:29.651Z"
   },
   {
    "duration": 42,
    "start_time": "2022-04-20T22:51:29.700Z"
   },
   {
    "duration": 6,
    "start_time": "2022-04-20T22:51:29.743Z"
   },
   {
    "duration": 15,
    "start_time": "2022-04-20T22:51:29.751Z"
   },
   {
    "duration": 10,
    "start_time": "2022-04-20T22:51:29.768Z"
   },
   {
    "duration": 9,
    "start_time": "2022-04-20T22:51:29.780Z"
   },
   {
    "duration": 87,
    "start_time": "2022-04-20T22:51:29.790Z"
   },
   {
    "duration": 6,
    "start_time": "2022-04-20T22:51:29.879Z"
   },
   {
    "duration": 22,
    "start_time": "2022-04-20T22:51:29.887Z"
   },
   {
    "duration": 271,
    "start_time": "2022-04-20T22:51:29.911Z"
   },
   {
    "duration": 253,
    "start_time": "2022-04-20T22:51:30.184Z"
   },
   {
    "duration": 43,
    "start_time": "2022-04-20T22:51:30.439Z"
   },
   {
    "duration": 253,
    "start_time": "2022-04-20T22:51:30.484Z"
   },
   {
    "duration": 234,
    "start_time": "2022-04-20T22:51:30.738Z"
   },
   {
    "duration": 231,
    "start_time": "2022-04-20T22:51:30.974Z"
   },
   {
    "duration": 67,
    "start_time": "2022-04-20T22:51:31.207Z"
   },
   {
    "duration": 221,
    "start_time": "2022-04-20T22:51:31.276Z"
   },
   {
    "duration": 263,
    "start_time": "2022-04-20T22:51:31.499Z"
   },
   {
    "duration": 216,
    "start_time": "2022-04-20T22:51:31.764Z"
   },
   {
    "duration": 52,
    "start_time": "2022-04-20T22:51:31.982Z"
   },
   {
    "duration": 318,
    "start_time": "2022-04-20T22:51:32.036Z"
   },
   {
    "duration": 237,
    "start_time": "2022-04-20T22:51:32.356Z"
   },
   {
    "duration": 204,
    "start_time": "2022-04-20T22:51:32.595Z"
   },
   {
    "duration": 56,
    "start_time": "2022-04-20T22:51:32.801Z"
   },
   {
    "duration": 7,
    "start_time": "2022-04-20T22:51:32.858Z"
   },
   {
    "duration": 30,
    "start_time": "2022-04-20T22:51:32.866Z"
   },
   {
    "duration": 5,
    "start_time": "2022-04-20T23:11:30.186Z"
   },
   {
    "duration": 16,
    "start_time": "2022-04-20T23:14:48.873Z"
   },
   {
    "duration": 6,
    "start_time": "2022-04-20T23:15:48.502Z"
   },
   {
    "duration": 15,
    "start_time": "2022-04-20T23:15:51.421Z"
   },
   {
    "duration": 6,
    "start_time": "2022-04-20T23:17:04.611Z"
   },
   {
    "duration": 13,
    "start_time": "2022-04-20T23:17:07.198Z"
   },
   {
    "duration": 6,
    "start_time": "2022-04-20T23:17:37.955Z"
   },
   {
    "duration": 49,
    "start_time": "2022-04-20T23:17:40.476Z"
   },
   {
    "duration": 6,
    "start_time": "2022-04-20T23:17:44.451Z"
   },
   {
    "duration": 1252,
    "start_time": "2022-04-20T23:18:12.248Z"
   },
   {
    "duration": 348,
    "start_time": "2022-04-20T23:18:13.502Z"
   },
   {
    "duration": 58,
    "start_time": "2022-04-20T23:18:13.851Z"
   },
   {
    "duration": 53,
    "start_time": "2022-04-20T23:18:13.912Z"
   },
   {
    "duration": 33,
    "start_time": "2022-04-20T23:18:13.967Z"
   },
   {
    "duration": 65,
    "start_time": "2022-04-20T23:18:14.002Z"
   },
   {
    "duration": 33,
    "start_time": "2022-04-20T23:18:14.068Z"
   },
   {
    "duration": 43,
    "start_time": "2022-04-20T23:18:14.102Z"
   },
   {
    "duration": 12,
    "start_time": "2022-04-20T23:18:14.146Z"
   },
   {
    "duration": 11,
    "start_time": "2022-04-20T23:18:14.161Z"
   },
   {
    "duration": 17,
    "start_time": "2022-04-20T23:18:14.174Z"
   },
   {
    "duration": 7,
    "start_time": "2022-04-20T23:18:14.193Z"
   },
   {
    "duration": 41,
    "start_time": "2022-04-20T23:18:14.201Z"
   },
   {
    "duration": 16,
    "start_time": "2022-04-20T23:18:14.244Z"
   },
   {
    "duration": 3,
    "start_time": "2022-04-20T23:18:14.262Z"
   },
   {
    "duration": 25,
    "start_time": "2022-04-20T23:18:14.266Z"
   },
   {
    "duration": 48,
    "start_time": "2022-04-20T23:18:14.293Z"
   },
   {
    "duration": 11,
    "start_time": "2022-04-20T23:18:14.343Z"
   },
   {
    "duration": 9,
    "start_time": "2022-04-20T23:18:14.356Z"
   },
   {
    "duration": 7,
    "start_time": "2022-04-20T23:18:14.367Z"
   },
   {
    "duration": 27,
    "start_time": "2022-04-20T23:18:14.375Z"
   },
   {
    "duration": 35,
    "start_time": "2022-04-20T23:18:14.403Z"
   },
   {
    "duration": 18,
    "start_time": "2022-04-20T23:18:14.440Z"
   },
   {
    "duration": 24,
    "start_time": "2022-04-20T23:18:14.460Z"
   },
   {
    "duration": 50,
    "start_time": "2022-04-20T23:18:14.486Z"
   },
   {
    "duration": 8,
    "start_time": "2022-04-20T23:18:14.538Z"
   },
   {
    "duration": 18,
    "start_time": "2022-04-20T23:18:14.548Z"
   },
   {
    "duration": 15,
    "start_time": "2022-04-20T23:18:14.571Z"
   },
   {
    "duration": 46,
    "start_time": "2022-04-20T23:18:14.588Z"
   },
   {
    "duration": 21,
    "start_time": "2022-04-20T23:18:14.636Z"
   },
   {
    "duration": 10,
    "start_time": "2022-04-20T23:18:14.659Z"
   },
   {
    "duration": 24,
    "start_time": "2022-04-20T23:18:14.671Z"
   },
   {
    "duration": 44,
    "start_time": "2022-04-20T23:18:14.697Z"
   },
   {
    "duration": 22,
    "start_time": "2022-04-20T23:18:14.743Z"
   },
   {
    "duration": 9,
    "start_time": "2022-04-20T23:18:14.767Z"
   },
   {
    "duration": 66,
    "start_time": "2022-04-20T23:18:14.778Z"
   },
   {
    "duration": 33,
    "start_time": "2022-04-20T23:18:14.846Z"
   },
   {
    "duration": 24,
    "start_time": "2022-04-20T23:18:14.880Z"
   },
   {
    "duration": 48,
    "start_time": "2022-04-20T23:18:14.906Z"
   },
   {
    "duration": 37,
    "start_time": "2022-04-20T23:18:14.956Z"
   },
   {
    "duration": 52,
    "start_time": "2022-04-20T23:18:14.995Z"
   },
   {
    "duration": 31,
    "start_time": "2022-04-20T23:18:15.049Z"
   },
   {
    "duration": 14,
    "start_time": "2022-04-20T23:18:15.082Z"
   },
   {
    "duration": 26,
    "start_time": "2022-04-20T23:18:15.098Z"
   },
   {
    "duration": 15,
    "start_time": "2022-04-20T23:18:15.132Z"
   },
   {
    "duration": 11,
    "start_time": "2022-04-20T23:18:15.149Z"
   },
   {
    "duration": 41,
    "start_time": "2022-04-20T23:18:15.162Z"
   },
   {
    "duration": 14,
    "start_time": "2022-04-20T23:18:15.206Z"
   },
   {
    "duration": 21,
    "start_time": "2022-04-20T23:18:15.222Z"
   },
   {
    "duration": 62,
    "start_time": "2022-04-20T23:18:15.245Z"
   },
   {
    "duration": 5,
    "start_time": "2022-04-20T23:18:15.309Z"
   },
   {
    "duration": 29,
    "start_time": "2022-04-20T23:18:15.316Z"
   },
   {
    "duration": 242,
    "start_time": "2022-04-20T23:18:15.348Z"
   },
   {
    "duration": 211,
    "start_time": "2022-04-20T23:18:15.592Z"
   },
   {
    "duration": 53,
    "start_time": "2022-04-20T23:18:15.805Z"
   },
   {
    "duration": 229,
    "start_time": "2022-04-20T23:18:15.859Z"
   },
   {
    "duration": 217,
    "start_time": "2022-04-20T23:18:16.090Z"
   },
   {
    "duration": 209,
    "start_time": "2022-04-20T23:18:16.309Z"
   },
   {
    "duration": 51,
    "start_time": "2022-04-20T23:18:16.520Z"
   },
   {
    "duration": 212,
    "start_time": "2022-04-20T23:18:16.572Z"
   },
   {
    "duration": 244,
    "start_time": "2022-04-20T23:18:16.786Z"
   },
   {
    "duration": 216,
    "start_time": "2022-04-20T23:18:17.033Z"
   },
   {
    "duration": 44,
    "start_time": "2022-04-20T23:18:17.251Z"
   },
   {
    "duration": 223,
    "start_time": "2022-04-20T23:18:17.296Z"
   },
   {
    "duration": 318,
    "start_time": "2022-04-20T23:18:17.520Z"
   },
   {
    "duration": 204,
    "start_time": "2022-04-20T23:18:17.840Z"
   },
   {
    "duration": 42,
    "start_time": "2022-04-20T23:18:18.046Z"
   },
   {
    "duration": 7,
    "start_time": "2022-04-20T23:18:18.090Z"
   },
   {
    "duration": 44,
    "start_time": "2022-04-20T23:18:18.099Z"
   }
  ],
  "kernelspec": {
   "display_name": "Python 3 (ipykernel)",
   "language": "python",
   "name": "python3"
  },
  "language_info": {
   "codemirror_mode": {
    "name": "ipython",
    "version": 3
   },
   "file_extension": ".py",
   "mimetype": "text/x-python",
   "name": "python",
   "nbconvert_exporter": "python",
   "pygments_lexer": "ipython3",
   "version": "3.9.5"
  },
  "toc": {
   "base_numbering": 1,
   "nav_menu": {},
   "number_sections": true,
   "sideBar": true,
   "skip_h1_title": false,
   "title_cell": "Table of Contents",
   "title_sidebar": "Contents",
   "toc_cell": false,
   "toc_position": {},
   "toc_section_display": true,
   "toc_window_display": false
  }
 },
 "nbformat": 4,
 "nbformat_minor": 2
}
