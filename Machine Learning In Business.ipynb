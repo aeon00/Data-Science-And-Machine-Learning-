{
 "cells": [
  {
   "cell_type": "markdown",
   "metadata": {},
   "source": [
    "Hello there!\n",
    "\n",
    "My name is Ernest and I will review your project. I hope you enjoyed working on it.  \n",
    "If there are any inaccuracies in the solution, then I will draw your attention to them. Please try to find the error and fix it first.  \n",
    "However, if there are difficulties, please, let me know. I will be able to clarify and suggest something more.\n",
    "\n",
    "Below you will find my comments - **please do not move, modify or delete them**.\n",
    "\n",
    "You can find my comments in green, yellow or red boxes like this:\n",
    "\n",
    "<div class=\"alert alert-block alert-success\">\n",
    "<b>Reviewer's comment</b> <a class=\"tocSkip\"></a>\n",
    "\n",
    "Success. Everything is done succesfully.\n",
    "</div>\n",
    "\n",
    "<div class=\"alert alert-block alert-warning\">\n",
    "<b>Reviewer's comment</b> <a class=\"tocSkip\"></a>\n",
    "\n",
    "Remarks. Some recommendations.\n",
    "</div>\n",
    "\n",
    "<div class=\"alert alert-block alert-danger\">\n",
    "\n",
    "<b>Reviewer's comment</b> <a class=\"tocSkip\"></a>\n",
    "\n",
    "Needs fixing. The block requires some corrections. Work can't be accepted with the red comments.\n",
    "</div>\n",
    "\n",
    "You can answer me by using this:\n",
    "\n",
    "<div class=\"alert alert-block alert-info\">\n",
    "<b>Student answer.</b> <a class=\"tocSkip\"></a>\n",
    "\n",
    "Text here.\n",
    "</div>"
   ]
  },
  {
   "cell_type": "markdown",
   "metadata": {},
   "source": [
    "# Introduction"
   ]
  },
  {
   "cell_type": "markdown",
   "metadata": {},
   "source": [
    "You work for the OilyGiant mining company. Your task is to find the best place for a new well.\n",
    "\n",
    "You have data on oil samples from three regions. Parameters of each oil well in the region are already known. Build a model that will help to pick the region with the highest profit margin. Analyze potential profit and risks"
   ]
  },
  {
   "cell_type": "markdown",
   "metadata": {},
   "source": [
    "## Initialization"
   ]
  },
  {
   "cell_type": "markdown",
   "metadata": {},
   "source": [
    "### Load necessary libraries"
   ]
  },
  {
   "cell_type": "code",
   "execution_count": 1,
   "metadata": {},
   "outputs": [],
   "source": [
    "# Load necessary libraries\n",
    "import pandas as pd\n",
    "from sklearn.model_selection import train_test_split\n",
    "from sklearn.preprocessing import StandardScaler\n",
    "from sklearn.linear_model import LinearRegression\n",
    "from sklearn.metrics import mean_squared_error\n",
    "import numpy as np"
   ]
  },
  {
   "cell_type": "markdown",
   "metadata": {},
   "source": [
    "### Load up data"
   ]
  },
  {
   "cell_type": "code",
   "execution_count": 2,
   "metadata": {},
   "outputs": [],
   "source": [
    "# First dataset\n",
    "data_1 = pd.read_csv('/datasets/geo_data_0.csv')"
   ]
  },
  {
   "cell_type": "code",
   "execution_count": 3,
   "metadata": {},
   "outputs": [],
   "source": [
    "# Second dataset\n",
    "data_2 = pd.read_csv('/datasets/geo_data_1.csv')"
   ]
  },
  {
   "cell_type": "code",
   "execution_count": 4,
   "metadata": {},
   "outputs": [],
   "source": [
    "# Third dataset\n",
    "data_3 = pd.read_csv('/datasets/geo_data_2.csv')"
   ]
  },
  {
   "cell_type": "markdown",
   "metadata": {},
   "source": [
    "All necessary libraries have been loaded and all the data is ready for preprocessing "
   ]
  },
  {
   "cell_type": "markdown",
   "metadata": {},
   "source": [
    "## Data Preprocessing"
   ]
  },
  {
   "cell_type": "markdown",
   "metadata": {},
   "source": [
    "### Visualize datasets and view info"
   ]
  },
  {
   "cell_type": "markdown",
   "metadata": {},
   "source": [
    "#### First dataset (data_1)"
   ]
  },
  {
   "cell_type": "code",
   "execution_count": 5,
   "metadata": {},
   "outputs": [
    {
     "data": {
      "text/html": [
       "<div>\n",
       "<style scoped>\n",
       "    .dataframe tbody tr th:only-of-type {\n",
       "        vertical-align: middle;\n",
       "    }\n",
       "\n",
       "    .dataframe tbody tr th {\n",
       "        vertical-align: top;\n",
       "    }\n",
       "\n",
       "    .dataframe thead th {\n",
       "        text-align: right;\n",
       "    }\n",
       "</style>\n",
       "<table border=\"1\" class=\"dataframe\">\n",
       "  <thead>\n",
       "    <tr style=\"text-align: right;\">\n",
       "      <th></th>\n",
       "      <th>id</th>\n",
       "      <th>f0</th>\n",
       "      <th>f1</th>\n",
       "      <th>f2</th>\n",
       "      <th>product</th>\n",
       "    </tr>\n",
       "  </thead>\n",
       "  <tbody>\n",
       "    <tr>\n",
       "      <th>0</th>\n",
       "      <td>txEyH</td>\n",
       "      <td>0.705745</td>\n",
       "      <td>-0.497823</td>\n",
       "      <td>1.221170</td>\n",
       "      <td>105.280062</td>\n",
       "    </tr>\n",
       "    <tr>\n",
       "      <th>1</th>\n",
       "      <td>2acmU</td>\n",
       "      <td>1.334711</td>\n",
       "      <td>-0.340164</td>\n",
       "      <td>4.365080</td>\n",
       "      <td>73.037750</td>\n",
       "    </tr>\n",
       "    <tr>\n",
       "      <th>2</th>\n",
       "      <td>409Wp</td>\n",
       "      <td>1.022732</td>\n",
       "      <td>0.151990</td>\n",
       "      <td>1.419926</td>\n",
       "      <td>85.265647</td>\n",
       "    </tr>\n",
       "    <tr>\n",
       "      <th>3</th>\n",
       "      <td>iJLyR</td>\n",
       "      <td>-0.032172</td>\n",
       "      <td>0.139033</td>\n",
       "      <td>2.978566</td>\n",
       "      <td>168.620776</td>\n",
       "    </tr>\n",
       "    <tr>\n",
       "      <th>4</th>\n",
       "      <td>Xdl7t</td>\n",
       "      <td>1.988431</td>\n",
       "      <td>0.155413</td>\n",
       "      <td>4.751769</td>\n",
       "      <td>154.036647</td>\n",
       "    </tr>\n",
       "    <tr>\n",
       "      <th>...</th>\n",
       "      <td>...</td>\n",
       "      <td>...</td>\n",
       "      <td>...</td>\n",
       "      <td>...</td>\n",
       "      <td>...</td>\n",
       "    </tr>\n",
       "    <tr>\n",
       "      <th>99995</th>\n",
       "      <td>DLsed</td>\n",
       "      <td>0.971957</td>\n",
       "      <td>0.370953</td>\n",
       "      <td>6.075346</td>\n",
       "      <td>110.744026</td>\n",
       "    </tr>\n",
       "    <tr>\n",
       "      <th>99996</th>\n",
       "      <td>QKivN</td>\n",
       "      <td>1.392429</td>\n",
       "      <td>-0.382606</td>\n",
       "      <td>1.273912</td>\n",
       "      <td>122.346843</td>\n",
       "    </tr>\n",
       "    <tr>\n",
       "      <th>99997</th>\n",
       "      <td>3rnvd</td>\n",
       "      <td>1.029585</td>\n",
       "      <td>0.018787</td>\n",
       "      <td>-1.348308</td>\n",
       "      <td>64.375443</td>\n",
       "    </tr>\n",
       "    <tr>\n",
       "      <th>99998</th>\n",
       "      <td>7kl59</td>\n",
       "      <td>0.998163</td>\n",
       "      <td>-0.528582</td>\n",
       "      <td>1.583869</td>\n",
       "      <td>74.040764</td>\n",
       "    </tr>\n",
       "    <tr>\n",
       "      <th>99999</th>\n",
       "      <td>1CWhH</td>\n",
       "      <td>1.764754</td>\n",
       "      <td>-0.266417</td>\n",
       "      <td>5.722849</td>\n",
       "      <td>149.633246</td>\n",
       "    </tr>\n",
       "  </tbody>\n",
       "</table>\n",
       "<p>100000 rows × 5 columns</p>\n",
       "</div>"
      ],
      "text/plain": [
       "          id        f0        f1        f2     product\n",
       "0      txEyH  0.705745 -0.497823  1.221170  105.280062\n",
       "1      2acmU  1.334711 -0.340164  4.365080   73.037750\n",
       "2      409Wp  1.022732  0.151990  1.419926   85.265647\n",
       "3      iJLyR -0.032172  0.139033  2.978566  168.620776\n",
       "4      Xdl7t  1.988431  0.155413  4.751769  154.036647\n",
       "...      ...       ...       ...       ...         ...\n",
       "99995  DLsed  0.971957  0.370953  6.075346  110.744026\n",
       "99996  QKivN  1.392429 -0.382606  1.273912  122.346843\n",
       "99997  3rnvd  1.029585  0.018787 -1.348308   64.375443\n",
       "99998  7kl59  0.998163 -0.528582  1.583869   74.040764\n",
       "99999  1CWhH  1.764754 -0.266417  5.722849  149.633246\n",
       "\n",
       "[100000 rows x 5 columns]"
      ]
     },
     "execution_count": 5,
     "metadata": {},
     "output_type": "execute_result"
    }
   ],
   "source": [
    "# Visualize first Dataset\n",
    "data_1"
   ]
  },
  {
   "cell_type": "code",
   "execution_count": 6,
   "metadata": {},
   "outputs": [
    {
     "name": "stdout",
     "output_type": "stream",
     "text": [
      "<class 'pandas.core.frame.DataFrame'>\n",
      "RangeIndex: 100000 entries, 0 to 99999\n",
      "Data columns (total 5 columns):\n",
      " #   Column   Non-Null Count   Dtype  \n",
      "---  ------   --------------   -----  \n",
      " 0   id       100000 non-null  object \n",
      " 1   f0       100000 non-null  float64\n",
      " 2   f1       100000 non-null  float64\n",
      " 3   f2       100000 non-null  float64\n",
      " 4   product  100000 non-null  float64\n",
      "dtypes: float64(4), object(1)\n",
      "memory usage: 3.8+ MB\n"
     ]
    }
   ],
   "source": [
    "# View data_1 info\n",
    "data_1.info()"
   ]
  },
  {
   "cell_type": "markdown",
   "metadata": {},
   "source": [
    "#### Second dataset (data_2)"
   ]
  },
  {
   "cell_type": "code",
   "execution_count": 7,
   "metadata": {},
   "outputs": [
    {
     "data": {
      "text/html": [
       "<div>\n",
       "<style scoped>\n",
       "    .dataframe tbody tr th:only-of-type {\n",
       "        vertical-align: middle;\n",
       "    }\n",
       "\n",
       "    .dataframe tbody tr th {\n",
       "        vertical-align: top;\n",
       "    }\n",
       "\n",
       "    .dataframe thead th {\n",
       "        text-align: right;\n",
       "    }\n",
       "</style>\n",
       "<table border=\"1\" class=\"dataframe\">\n",
       "  <thead>\n",
       "    <tr style=\"text-align: right;\">\n",
       "      <th></th>\n",
       "      <th>id</th>\n",
       "      <th>f0</th>\n",
       "      <th>f1</th>\n",
       "      <th>f2</th>\n",
       "      <th>product</th>\n",
       "    </tr>\n",
       "  </thead>\n",
       "  <tbody>\n",
       "    <tr>\n",
       "      <th>0</th>\n",
       "      <td>kBEdx</td>\n",
       "      <td>-15.001348</td>\n",
       "      <td>-8.276000</td>\n",
       "      <td>-0.005876</td>\n",
       "      <td>3.179103</td>\n",
       "    </tr>\n",
       "    <tr>\n",
       "      <th>1</th>\n",
       "      <td>62mP7</td>\n",
       "      <td>14.272088</td>\n",
       "      <td>-3.475083</td>\n",
       "      <td>0.999183</td>\n",
       "      <td>26.953261</td>\n",
       "    </tr>\n",
       "    <tr>\n",
       "      <th>2</th>\n",
       "      <td>vyE1P</td>\n",
       "      <td>6.263187</td>\n",
       "      <td>-5.948386</td>\n",
       "      <td>5.001160</td>\n",
       "      <td>134.766305</td>\n",
       "    </tr>\n",
       "    <tr>\n",
       "      <th>3</th>\n",
       "      <td>KcrkZ</td>\n",
       "      <td>-13.081196</td>\n",
       "      <td>-11.506057</td>\n",
       "      <td>4.999415</td>\n",
       "      <td>137.945408</td>\n",
       "    </tr>\n",
       "    <tr>\n",
       "      <th>4</th>\n",
       "      <td>AHL4O</td>\n",
       "      <td>12.702195</td>\n",
       "      <td>-8.147433</td>\n",
       "      <td>5.004363</td>\n",
       "      <td>134.766305</td>\n",
       "    </tr>\n",
       "    <tr>\n",
       "      <th>...</th>\n",
       "      <td>...</td>\n",
       "      <td>...</td>\n",
       "      <td>...</td>\n",
       "      <td>...</td>\n",
       "      <td>...</td>\n",
       "    </tr>\n",
       "    <tr>\n",
       "      <th>99995</th>\n",
       "      <td>QywKC</td>\n",
       "      <td>9.535637</td>\n",
       "      <td>-6.878139</td>\n",
       "      <td>1.998296</td>\n",
       "      <td>53.906522</td>\n",
       "    </tr>\n",
       "    <tr>\n",
       "      <th>99996</th>\n",
       "      <td>ptvty</td>\n",
       "      <td>-10.160631</td>\n",
       "      <td>-12.558096</td>\n",
       "      <td>5.005581</td>\n",
       "      <td>137.945408</td>\n",
       "    </tr>\n",
       "    <tr>\n",
       "      <th>99997</th>\n",
       "      <td>09gWa</td>\n",
       "      <td>-7.378891</td>\n",
       "      <td>-3.084104</td>\n",
       "      <td>4.998651</td>\n",
       "      <td>137.945408</td>\n",
       "    </tr>\n",
       "    <tr>\n",
       "      <th>99998</th>\n",
       "      <td>rqwUm</td>\n",
       "      <td>0.665714</td>\n",
       "      <td>-6.152593</td>\n",
       "      <td>1.000146</td>\n",
       "      <td>30.132364</td>\n",
       "    </tr>\n",
       "    <tr>\n",
       "      <th>99999</th>\n",
       "      <td>relB0</td>\n",
       "      <td>-3.426139</td>\n",
       "      <td>-7.794274</td>\n",
       "      <td>-0.003299</td>\n",
       "      <td>3.179103</td>\n",
       "    </tr>\n",
       "  </tbody>\n",
       "</table>\n",
       "<p>100000 rows × 5 columns</p>\n",
       "</div>"
      ],
      "text/plain": [
       "          id         f0         f1        f2     product\n",
       "0      kBEdx -15.001348  -8.276000 -0.005876    3.179103\n",
       "1      62mP7  14.272088  -3.475083  0.999183   26.953261\n",
       "2      vyE1P   6.263187  -5.948386  5.001160  134.766305\n",
       "3      KcrkZ -13.081196 -11.506057  4.999415  137.945408\n",
       "4      AHL4O  12.702195  -8.147433  5.004363  134.766305\n",
       "...      ...        ...        ...       ...         ...\n",
       "99995  QywKC   9.535637  -6.878139  1.998296   53.906522\n",
       "99996  ptvty -10.160631 -12.558096  5.005581  137.945408\n",
       "99997  09gWa  -7.378891  -3.084104  4.998651  137.945408\n",
       "99998  rqwUm   0.665714  -6.152593  1.000146   30.132364\n",
       "99999  relB0  -3.426139  -7.794274 -0.003299    3.179103\n",
       "\n",
       "[100000 rows x 5 columns]"
      ]
     },
     "execution_count": 7,
     "metadata": {},
     "output_type": "execute_result"
    }
   ],
   "source": [
    "# Visualize Second Dataset\n",
    "data_2"
   ]
  },
  {
   "cell_type": "code",
   "execution_count": 8,
   "metadata": {},
   "outputs": [
    {
     "name": "stdout",
     "output_type": "stream",
     "text": [
      "<class 'pandas.core.frame.DataFrame'>\n",
      "RangeIndex: 100000 entries, 0 to 99999\n",
      "Data columns (total 5 columns):\n",
      " #   Column   Non-Null Count   Dtype  \n",
      "---  ------   --------------   -----  \n",
      " 0   id       100000 non-null  object \n",
      " 1   f0       100000 non-null  float64\n",
      " 2   f1       100000 non-null  float64\n",
      " 3   f2       100000 non-null  float64\n",
      " 4   product  100000 non-null  float64\n",
      "dtypes: float64(4), object(1)\n",
      "memory usage: 3.8+ MB\n"
     ]
    }
   ],
   "source": [
    "# View data_2 info\n",
    "data_2.info()"
   ]
  },
  {
   "cell_type": "markdown",
   "metadata": {},
   "source": [
    "#### Third dataset (data_3)"
   ]
  },
  {
   "cell_type": "code",
   "execution_count": 9,
   "metadata": {},
   "outputs": [
    {
     "data": {
      "text/html": [
       "<div>\n",
       "<style scoped>\n",
       "    .dataframe tbody tr th:only-of-type {\n",
       "        vertical-align: middle;\n",
       "    }\n",
       "\n",
       "    .dataframe tbody tr th {\n",
       "        vertical-align: top;\n",
       "    }\n",
       "\n",
       "    .dataframe thead th {\n",
       "        text-align: right;\n",
       "    }\n",
       "</style>\n",
       "<table border=\"1\" class=\"dataframe\">\n",
       "  <thead>\n",
       "    <tr style=\"text-align: right;\">\n",
       "      <th></th>\n",
       "      <th>id</th>\n",
       "      <th>f0</th>\n",
       "      <th>f1</th>\n",
       "      <th>f2</th>\n",
       "      <th>product</th>\n",
       "    </tr>\n",
       "  </thead>\n",
       "  <tbody>\n",
       "    <tr>\n",
       "      <th>0</th>\n",
       "      <td>fwXo0</td>\n",
       "      <td>-1.146987</td>\n",
       "      <td>0.963328</td>\n",
       "      <td>-0.828965</td>\n",
       "      <td>27.758673</td>\n",
       "    </tr>\n",
       "    <tr>\n",
       "      <th>1</th>\n",
       "      <td>WJtFt</td>\n",
       "      <td>0.262778</td>\n",
       "      <td>0.269839</td>\n",
       "      <td>-2.530187</td>\n",
       "      <td>56.069697</td>\n",
       "    </tr>\n",
       "    <tr>\n",
       "      <th>2</th>\n",
       "      <td>ovLUW</td>\n",
       "      <td>0.194587</td>\n",
       "      <td>0.289035</td>\n",
       "      <td>-5.586433</td>\n",
       "      <td>62.871910</td>\n",
       "    </tr>\n",
       "    <tr>\n",
       "      <th>3</th>\n",
       "      <td>q6cA6</td>\n",
       "      <td>2.236060</td>\n",
       "      <td>-0.553760</td>\n",
       "      <td>0.930038</td>\n",
       "      <td>114.572842</td>\n",
       "    </tr>\n",
       "    <tr>\n",
       "      <th>4</th>\n",
       "      <td>WPMUX</td>\n",
       "      <td>-0.515993</td>\n",
       "      <td>1.716266</td>\n",
       "      <td>5.899011</td>\n",
       "      <td>149.600746</td>\n",
       "    </tr>\n",
       "    <tr>\n",
       "      <th>...</th>\n",
       "      <td>...</td>\n",
       "      <td>...</td>\n",
       "      <td>...</td>\n",
       "      <td>...</td>\n",
       "      <td>...</td>\n",
       "    </tr>\n",
       "    <tr>\n",
       "      <th>99995</th>\n",
       "      <td>4GxBu</td>\n",
       "      <td>-1.777037</td>\n",
       "      <td>1.125220</td>\n",
       "      <td>6.263374</td>\n",
       "      <td>172.327046</td>\n",
       "    </tr>\n",
       "    <tr>\n",
       "      <th>99996</th>\n",
       "      <td>YKFjq</td>\n",
       "      <td>-1.261523</td>\n",
       "      <td>-0.894828</td>\n",
       "      <td>2.524545</td>\n",
       "      <td>138.748846</td>\n",
       "    </tr>\n",
       "    <tr>\n",
       "      <th>99997</th>\n",
       "      <td>tKPY3</td>\n",
       "      <td>-1.199934</td>\n",
       "      <td>-2.957637</td>\n",
       "      <td>5.219411</td>\n",
       "      <td>157.080080</td>\n",
       "    </tr>\n",
       "    <tr>\n",
       "      <th>99998</th>\n",
       "      <td>nmxp2</td>\n",
       "      <td>-2.419896</td>\n",
       "      <td>2.417221</td>\n",
       "      <td>-5.548444</td>\n",
       "      <td>51.795253</td>\n",
       "    </tr>\n",
       "    <tr>\n",
       "      <th>99999</th>\n",
       "      <td>V9kWn</td>\n",
       "      <td>-2.551421</td>\n",
       "      <td>-2.025625</td>\n",
       "      <td>6.090891</td>\n",
       "      <td>102.775767</td>\n",
       "    </tr>\n",
       "  </tbody>\n",
       "</table>\n",
       "<p>100000 rows × 5 columns</p>\n",
       "</div>"
      ],
      "text/plain": [
       "          id        f0        f1        f2     product\n",
       "0      fwXo0 -1.146987  0.963328 -0.828965   27.758673\n",
       "1      WJtFt  0.262778  0.269839 -2.530187   56.069697\n",
       "2      ovLUW  0.194587  0.289035 -5.586433   62.871910\n",
       "3      q6cA6  2.236060 -0.553760  0.930038  114.572842\n",
       "4      WPMUX -0.515993  1.716266  5.899011  149.600746\n",
       "...      ...       ...       ...       ...         ...\n",
       "99995  4GxBu -1.777037  1.125220  6.263374  172.327046\n",
       "99996  YKFjq -1.261523 -0.894828  2.524545  138.748846\n",
       "99997  tKPY3 -1.199934 -2.957637  5.219411  157.080080\n",
       "99998  nmxp2 -2.419896  2.417221 -5.548444   51.795253\n",
       "99999  V9kWn -2.551421 -2.025625  6.090891  102.775767\n",
       "\n",
       "[100000 rows x 5 columns]"
      ]
     },
     "execution_count": 9,
     "metadata": {},
     "output_type": "execute_result"
    }
   ],
   "source": [
    "# VIsualize Third Dataset\n",
    "data_3"
   ]
  },
  {
   "cell_type": "code",
   "execution_count": 10,
   "metadata": {},
   "outputs": [
    {
     "name": "stdout",
     "output_type": "stream",
     "text": [
      "<class 'pandas.core.frame.DataFrame'>\n",
      "RangeIndex: 100000 entries, 0 to 99999\n",
      "Data columns (total 5 columns):\n",
      " #   Column   Non-Null Count   Dtype  \n",
      "---  ------   --------------   -----  \n",
      " 0   id       100000 non-null  object \n",
      " 1   f0       100000 non-null  float64\n",
      " 2   f1       100000 non-null  float64\n",
      " 3   f2       100000 non-null  float64\n",
      " 4   product  100000 non-null  float64\n",
      "dtypes: float64(4), object(1)\n",
      "memory usage: 3.8+ MB\n"
     ]
    }
   ],
   "source": [
    "# View data_3 info \n",
    "data_3.info()"
   ]
  },
  {
   "cell_type": "markdown",
   "metadata": {},
   "source": [
    "At first glance, the dataset appears clean. There are no missing values and all columns have the correct datatype."
   ]
  },
  {
   "cell_type": "markdown",
   "metadata": {},
   "source": [
    "<div class=\"alert alert-block alert-success\">\n",
    "<b>Reviewer's comment</b> <a class=\"tocSkip\"></a>\n",
    "\n",
    "Wery well\n",
    "</div>\n"
   ]
  },
  {
   "cell_type": "markdown",
   "metadata": {},
   "source": [
    "### Check for duplicates"
   ]
  },
  {
   "cell_type": "code",
   "execution_count": 11,
   "metadata": {},
   "outputs": [
    {
     "name": "stdout",
     "output_type": "stream",
     "text": [
      "False    100000\n",
      "dtype: int64\n"
     ]
    }
   ],
   "source": [
    "# Check for duplicates in data_1\n",
    "print(data_1.duplicated().value_counts())"
   ]
  },
  {
   "cell_type": "code",
   "execution_count": 12,
   "metadata": {},
   "outputs": [
    {
     "name": "stdout",
     "output_type": "stream",
     "text": [
      "False    100000\n",
      "dtype: int64\n"
     ]
    }
   ],
   "source": [
    "# Check for duplicates in data_2\n",
    "print(data_2.duplicated().value_counts())"
   ]
  },
  {
   "cell_type": "code",
   "execution_count": 13,
   "metadata": {},
   "outputs": [
    {
     "name": "stdout",
     "output_type": "stream",
     "text": [
      "False    100000\n",
      "dtype: int64\n"
     ]
    }
   ],
   "source": [
    "# Check for duplicates in data_3\n",
    "print(data_3.duplicated().value_counts())"
   ]
  },
  {
   "cell_type": "markdown",
   "metadata": {},
   "source": [
    "There are no duplicates in our datasets. The data is ready for manipulation"
   ]
  },
  {
   "cell_type": "markdown",
   "metadata": {},
   "source": [
    "<div class=\"alert alert-block alert-success\">\n",
    "<b>Reviewer's comment</b> <a class=\"tocSkip\"></a>\n",
    "\n",
    "OK\n",
    "</div>\n"
   ]
  },
  {
   "cell_type": "markdown",
   "metadata": {},
   "source": [
    "## Model creation, training and evaluation"
   ]
  },
  {
   "cell_type": "markdown",
   "metadata": {},
   "source": [
    "### Split data into training and validation sets"
   ]
  },
  {
   "cell_type": "markdown",
   "metadata": {},
   "source": [
    "#### Split data_1"
   ]
  },
  {
   "cell_type": "code",
   "execution_count": 14,
   "metadata": {},
   "outputs": [],
   "source": [
    "# Split data_1\n",
    "d1_train, d1_valid = train_test_split(data_1, test_size=0.25, random_state=12345)"
   ]
  },
  {
   "cell_type": "code",
   "execution_count": 15,
   "metadata": {},
   "outputs": [
    {
     "data": {
      "text/html": [
       "<div>\n",
       "<style scoped>\n",
       "    .dataframe tbody tr th:only-of-type {\n",
       "        vertical-align: middle;\n",
       "    }\n",
       "\n",
       "    .dataframe tbody tr th {\n",
       "        vertical-align: top;\n",
       "    }\n",
       "\n",
       "    .dataframe thead th {\n",
       "        text-align: right;\n",
       "    }\n",
       "</style>\n",
       "<table border=\"1\" class=\"dataframe\">\n",
       "  <thead>\n",
       "    <tr style=\"text-align: right;\">\n",
       "      <th></th>\n",
       "      <th>id</th>\n",
       "      <th>f0</th>\n",
       "      <th>f1</th>\n",
       "      <th>f2</th>\n",
       "      <th>product</th>\n",
       "    </tr>\n",
       "  </thead>\n",
       "  <tbody>\n",
       "    <tr>\n",
       "      <th>27212</th>\n",
       "      <td>sn8dh</td>\n",
       "      <td>0.022450</td>\n",
       "      <td>0.951034</td>\n",
       "      <td>2.197333</td>\n",
       "      <td>147.370612</td>\n",
       "    </tr>\n",
       "    <tr>\n",
       "      <th>7866</th>\n",
       "      <td>oqj58</td>\n",
       "      <td>1.766731</td>\n",
       "      <td>0.007835</td>\n",
       "      <td>6.436602</td>\n",
       "      <td>147.630053</td>\n",
       "    </tr>\n",
       "    <tr>\n",
       "      <th>62041</th>\n",
       "      <td>MaWjy</td>\n",
       "      <td>0.724514</td>\n",
       "      <td>0.666063</td>\n",
       "      <td>1.840177</td>\n",
       "      <td>77.696728</td>\n",
       "    </tr>\n",
       "    <tr>\n",
       "      <th>70185</th>\n",
       "      <td>jyV1V</td>\n",
       "      <td>-1.104181</td>\n",
       "      <td>0.255268</td>\n",
       "      <td>2.026156</td>\n",
       "      <td>55.210501</td>\n",
       "    </tr>\n",
       "    <tr>\n",
       "      <th>82230</th>\n",
       "      <td>g2kgI</td>\n",
       "      <td>-0.635263</td>\n",
       "      <td>0.747990</td>\n",
       "      <td>6.643327</td>\n",
       "      <td>113.891723</td>\n",
       "    </tr>\n",
       "    <tr>\n",
       "      <th>...</th>\n",
       "      <td>...</td>\n",
       "      <td>...</td>\n",
       "      <td>...</td>\n",
       "      <td>...</td>\n",
       "      <td>...</td>\n",
       "    </tr>\n",
       "    <tr>\n",
       "      <th>4094</th>\n",
       "      <td>osNdz</td>\n",
       "      <td>1.863680</td>\n",
       "      <td>-0.298123</td>\n",
       "      <td>1.621324</td>\n",
       "      <td>124.380793</td>\n",
       "    </tr>\n",
       "    <tr>\n",
       "      <th>85412</th>\n",
       "      <td>YFN4o</td>\n",
       "      <td>-1.162682</td>\n",
       "      <td>-0.014822</td>\n",
       "      <td>6.819941</td>\n",
       "      <td>144.874913</td>\n",
       "    </tr>\n",
       "    <tr>\n",
       "      <th>2177</th>\n",
       "      <td>Ay91j</td>\n",
       "      <td>0.862688</td>\n",
       "      <td>-0.403776</td>\n",
       "      <td>1.867662</td>\n",
       "      <td>134.967255</td>\n",
       "    </tr>\n",
       "    <tr>\n",
       "      <th>77285</th>\n",
       "      <td>MfaH6</td>\n",
       "      <td>0.846235</td>\n",
       "      <td>-0.489533</td>\n",
       "      <td>1.058786</td>\n",
       "      <td>64.494357</td>\n",
       "    </tr>\n",
       "    <tr>\n",
       "      <th>86498</th>\n",
       "      <td>qiCZa</td>\n",
       "      <td>2.019850</td>\n",
       "      <td>0.263887</td>\n",
       "      <td>11.497239</td>\n",
       "      <td>151.514894</td>\n",
       "    </tr>\n",
       "  </tbody>\n",
       "</table>\n",
       "<p>75000 rows × 5 columns</p>\n",
       "</div>"
      ],
      "text/plain": [
       "          id        f0        f1         f2     product\n",
       "27212  sn8dh  0.022450  0.951034   2.197333  147.370612\n",
       "7866   oqj58  1.766731  0.007835   6.436602  147.630053\n",
       "62041  MaWjy  0.724514  0.666063   1.840177   77.696728\n",
       "70185  jyV1V -1.104181  0.255268   2.026156   55.210501\n",
       "82230  g2kgI -0.635263  0.747990   6.643327  113.891723\n",
       "...      ...       ...       ...        ...         ...\n",
       "4094   osNdz  1.863680 -0.298123   1.621324  124.380793\n",
       "85412  YFN4o -1.162682 -0.014822   6.819941  144.874913\n",
       "2177   Ay91j  0.862688 -0.403776   1.867662  134.967255\n",
       "77285  MfaH6  0.846235 -0.489533   1.058786   64.494357\n",
       "86498  qiCZa  2.019850  0.263887  11.497239  151.514894\n",
       "\n",
       "[75000 rows x 5 columns]"
      ]
     },
     "execution_count": 15,
     "metadata": {},
     "output_type": "execute_result"
    }
   ],
   "source": [
    "# Visualize d1_train\n",
    "d1_train"
   ]
  },
  {
   "cell_type": "code",
   "execution_count": 16,
   "metadata": {},
   "outputs": [
    {
     "data": {
      "text/html": [
       "<div>\n",
       "<style scoped>\n",
       "    .dataframe tbody tr th:only-of-type {\n",
       "        vertical-align: middle;\n",
       "    }\n",
       "\n",
       "    .dataframe tbody tr th {\n",
       "        vertical-align: top;\n",
       "    }\n",
       "\n",
       "    .dataframe thead th {\n",
       "        text-align: right;\n",
       "    }\n",
       "</style>\n",
       "<table border=\"1\" class=\"dataframe\">\n",
       "  <thead>\n",
       "    <tr style=\"text-align: right;\">\n",
       "      <th></th>\n",
       "      <th>id</th>\n",
       "      <th>f0</th>\n",
       "      <th>f1</th>\n",
       "      <th>f2</th>\n",
       "      <th>product</th>\n",
       "    </tr>\n",
       "  </thead>\n",
       "  <tbody>\n",
       "    <tr>\n",
       "      <th>71751</th>\n",
       "      <td>7Z2gx</td>\n",
       "      <td>0.948970</td>\n",
       "      <td>-0.057547</td>\n",
       "      <td>2.095727</td>\n",
       "      <td>10.038645</td>\n",
       "    </tr>\n",
       "    <tr>\n",
       "      <th>80493</th>\n",
       "      <td>b2HU8</td>\n",
       "      <td>0.992974</td>\n",
       "      <td>0.206671</td>\n",
       "      <td>-0.142278</td>\n",
       "      <td>114.551489</td>\n",
       "    </tr>\n",
       "    <tr>\n",
       "      <th>2655</th>\n",
       "      <td>Y0dXD</td>\n",
       "      <td>1.199854</td>\n",
       "      <td>-0.563356</td>\n",
       "      <td>-1.852991</td>\n",
       "      <td>132.603635</td>\n",
       "    </tr>\n",
       "    <tr>\n",
       "      <th>53233</th>\n",
       "      <td>Mje59</td>\n",
       "      <td>0.691422</td>\n",
       "      <td>-0.433347</td>\n",
       "      <td>0.564974</td>\n",
       "      <td>169.072125</td>\n",
       "    </tr>\n",
       "    <tr>\n",
       "      <th>91141</th>\n",
       "      <td>yqXxU</td>\n",
       "      <td>0.420772</td>\n",
       "      <td>0.972638</td>\n",
       "      <td>0.736190</td>\n",
       "      <td>122.325180</td>\n",
       "    </tr>\n",
       "    <tr>\n",
       "      <th>...</th>\n",
       "      <td>...</td>\n",
       "      <td>...</td>\n",
       "      <td>...</td>\n",
       "      <td>...</td>\n",
       "      <td>...</td>\n",
       "    </tr>\n",
       "    <tr>\n",
       "      <th>12581</th>\n",
       "      <td>CzptN</td>\n",
       "      <td>1.841106</td>\n",
       "      <td>-0.107678</td>\n",
       "      <td>2.585648</td>\n",
       "      <td>170.116726</td>\n",
       "    </tr>\n",
       "    <tr>\n",
       "      <th>18456</th>\n",
       "      <td>cT9bJ</td>\n",
       "      <td>0.041859</td>\n",
       "      <td>0.489280</td>\n",
       "      <td>2.168001</td>\n",
       "      <td>93.632175</td>\n",
       "    </tr>\n",
       "    <tr>\n",
       "      <th>73035</th>\n",
       "      <td>Y7xR6</td>\n",
       "      <td>0.376389</td>\n",
       "      <td>1.054298</td>\n",
       "      <td>-0.430104</td>\n",
       "      <td>127.352259</td>\n",
       "    </tr>\n",
       "    <tr>\n",
       "      <th>63834</th>\n",
       "      <td>4WJRf</td>\n",
       "      <td>1.071330</td>\n",
       "      <td>-0.470046</td>\n",
       "      <td>4.527099</td>\n",
       "      <td>99.782700</td>\n",
       "    </tr>\n",
       "    <tr>\n",
       "      <th>43558</th>\n",
       "      <td>2RU3S</td>\n",
       "      <td>1.726318</td>\n",
       "      <td>-0.077871</td>\n",
       "      <td>5.007083</td>\n",
       "      <td>177.821022</td>\n",
       "    </tr>\n",
       "  </tbody>\n",
       "</table>\n",
       "<p>25000 rows × 5 columns</p>\n",
       "</div>"
      ],
      "text/plain": [
       "          id        f0        f1        f2     product\n",
       "71751  7Z2gx  0.948970 -0.057547  2.095727   10.038645\n",
       "80493  b2HU8  0.992974  0.206671 -0.142278  114.551489\n",
       "2655   Y0dXD  1.199854 -0.563356 -1.852991  132.603635\n",
       "53233  Mje59  0.691422 -0.433347  0.564974  169.072125\n",
       "91141  yqXxU  0.420772  0.972638  0.736190  122.325180\n",
       "...      ...       ...       ...       ...         ...\n",
       "12581  CzptN  1.841106 -0.107678  2.585648  170.116726\n",
       "18456  cT9bJ  0.041859  0.489280  2.168001   93.632175\n",
       "73035  Y7xR6  0.376389  1.054298 -0.430104  127.352259\n",
       "63834  4WJRf  1.071330 -0.470046  4.527099   99.782700\n",
       "43558  2RU3S  1.726318 -0.077871  5.007083  177.821022\n",
       "\n",
       "[25000 rows x 5 columns]"
      ]
     },
     "execution_count": 16,
     "metadata": {},
     "output_type": "execute_result"
    }
   ],
   "source": [
    "# Visualize d1_valid\n",
    "d1_valid"
   ]
  },
  {
   "cell_type": "markdown",
   "metadata": {},
   "source": [
    "#### Split data_2"
   ]
  },
  {
   "cell_type": "code",
   "execution_count": 17,
   "metadata": {},
   "outputs": [],
   "source": [
    "# Split data_2\n",
    "d2_train, d2_valid = train_test_split(data_2, test_size= 0.25, random_state= 12345)"
   ]
  },
  {
   "cell_type": "code",
   "execution_count": 18,
   "metadata": {},
   "outputs": [
    {
     "data": {
      "text/html": [
       "<div>\n",
       "<style scoped>\n",
       "    .dataframe tbody tr th:only-of-type {\n",
       "        vertical-align: middle;\n",
       "    }\n",
       "\n",
       "    .dataframe tbody tr th {\n",
       "        vertical-align: top;\n",
       "    }\n",
       "\n",
       "    .dataframe thead th {\n",
       "        text-align: right;\n",
       "    }\n",
       "</style>\n",
       "<table border=\"1\" class=\"dataframe\">\n",
       "  <thead>\n",
       "    <tr style=\"text-align: right;\">\n",
       "      <th></th>\n",
       "      <th>id</th>\n",
       "      <th>f0</th>\n",
       "      <th>f1</th>\n",
       "      <th>f2</th>\n",
       "      <th>product</th>\n",
       "    </tr>\n",
       "  </thead>\n",
       "  <tbody>\n",
       "    <tr>\n",
       "      <th>27212</th>\n",
       "      <td>4jD5S</td>\n",
       "      <td>-6.488552</td>\n",
       "      <td>-1.590478</td>\n",
       "      <td>3.001311</td>\n",
       "      <td>84.038886</td>\n",
       "    </tr>\n",
       "    <tr>\n",
       "      <th>7866</th>\n",
       "      <td>jAjCc</td>\n",
       "      <td>18.819463</td>\n",
       "      <td>4.602079</td>\n",
       "      <td>2.996867</td>\n",
       "      <td>80.859783</td>\n",
       "    </tr>\n",
       "    <tr>\n",
       "      <th>62041</th>\n",
       "      <td>fPN1n</td>\n",
       "      <td>10.816499</td>\n",
       "      <td>-3.919653</td>\n",
       "      <td>1.991077</td>\n",
       "      <td>53.906522</td>\n",
       "    </tr>\n",
       "    <tr>\n",
       "      <th>70185</th>\n",
       "      <td>DhcUq</td>\n",
       "      <td>-12.416362</td>\n",
       "      <td>-9.343774</td>\n",
       "      <td>0.996691</td>\n",
       "      <td>30.132364</td>\n",
       "    </tr>\n",
       "    <tr>\n",
       "      <th>82230</th>\n",
       "      <td>fhr6C</td>\n",
       "      <td>-15.041012</td>\n",
       "      <td>-8.474624</td>\n",
       "      <td>1.996463</td>\n",
       "      <td>57.085625</td>\n",
       "    </tr>\n",
       "    <tr>\n",
       "      <th>...</th>\n",
       "      <td>...</td>\n",
       "      <td>...</td>\n",
       "      <td>...</td>\n",
       "      <td>...</td>\n",
       "      <td>...</td>\n",
       "    </tr>\n",
       "    <tr>\n",
       "      <th>4094</th>\n",
       "      <td>Znkmi</td>\n",
       "      <td>-1.859774</td>\n",
       "      <td>-4.818321</td>\n",
       "      <td>2.998956</td>\n",
       "      <td>84.038886</td>\n",
       "    </tr>\n",
       "    <tr>\n",
       "      <th>85412</th>\n",
       "      <td>ONSGU</td>\n",
       "      <td>4.863108</td>\n",
       "      <td>-6.071357</td>\n",
       "      <td>3.990522</td>\n",
       "      <td>110.992147</td>\n",
       "    </tr>\n",
       "    <tr>\n",
       "      <th>2177</th>\n",
       "      <td>toesY</td>\n",
       "      <td>10.527491</td>\n",
       "      <td>-8.124357</td>\n",
       "      <td>5.004246</td>\n",
       "      <td>134.766305</td>\n",
       "    </tr>\n",
       "    <tr>\n",
       "      <th>77285</th>\n",
       "      <td>xiCBq</td>\n",
       "      <td>0.110801</td>\n",
       "      <td>-10.896529</td>\n",
       "      <td>3.005078</td>\n",
       "      <td>84.038886</td>\n",
       "    </tr>\n",
       "    <tr>\n",
       "      <th>86498</th>\n",
       "      <td>JWLV5</td>\n",
       "      <td>-4.653214</td>\n",
       "      <td>-4.283936</td>\n",
       "      <td>2.999043</td>\n",
       "      <td>84.038886</td>\n",
       "    </tr>\n",
       "  </tbody>\n",
       "</table>\n",
       "<p>75000 rows × 5 columns</p>\n",
       "</div>"
      ],
      "text/plain": [
       "          id         f0         f1        f2     product\n",
       "27212  4jD5S  -6.488552  -1.590478  3.001311   84.038886\n",
       "7866   jAjCc  18.819463   4.602079  2.996867   80.859783\n",
       "62041  fPN1n  10.816499  -3.919653  1.991077   53.906522\n",
       "70185  DhcUq -12.416362  -9.343774  0.996691   30.132364\n",
       "82230  fhr6C -15.041012  -8.474624  1.996463   57.085625\n",
       "...      ...        ...        ...       ...         ...\n",
       "4094   Znkmi  -1.859774  -4.818321  2.998956   84.038886\n",
       "85412  ONSGU   4.863108  -6.071357  3.990522  110.992147\n",
       "2177   toesY  10.527491  -8.124357  5.004246  134.766305\n",
       "77285  xiCBq   0.110801 -10.896529  3.005078   84.038886\n",
       "86498  JWLV5  -4.653214  -4.283936  2.999043   84.038886\n",
       "\n",
       "[75000 rows x 5 columns]"
      ]
     },
     "execution_count": 18,
     "metadata": {},
     "output_type": "execute_result"
    }
   ],
   "source": [
    "# Visualize d2_train\n",
    "d2_train"
   ]
  },
  {
   "cell_type": "code",
   "execution_count": 19,
   "metadata": {},
   "outputs": [
    {
     "data": {
      "text/html": [
       "<div>\n",
       "<style scoped>\n",
       "    .dataframe tbody tr th:only-of-type {\n",
       "        vertical-align: middle;\n",
       "    }\n",
       "\n",
       "    .dataframe tbody tr th {\n",
       "        vertical-align: top;\n",
       "    }\n",
       "\n",
       "    .dataframe thead th {\n",
       "        text-align: right;\n",
       "    }\n",
       "</style>\n",
       "<table border=\"1\" class=\"dataframe\">\n",
       "  <thead>\n",
       "    <tr style=\"text-align: right;\">\n",
       "      <th></th>\n",
       "      <th>id</th>\n",
       "      <th>f0</th>\n",
       "      <th>f1</th>\n",
       "      <th>f2</th>\n",
       "      <th>product</th>\n",
       "    </tr>\n",
       "  </thead>\n",
       "  <tbody>\n",
       "    <tr>\n",
       "      <th>71751</th>\n",
       "      <td>aTbUt</td>\n",
       "      <td>-0.371866</td>\n",
       "      <td>-1.862494</td>\n",
       "      <td>3.002210</td>\n",
       "      <td>80.859783</td>\n",
       "    </tr>\n",
       "    <tr>\n",
       "      <th>80493</th>\n",
       "      <td>CK34V</td>\n",
       "      <td>9.015122</td>\n",
       "      <td>-13.881455</td>\n",
       "      <td>1.995363</td>\n",
       "      <td>53.906522</td>\n",
       "    </tr>\n",
       "    <tr>\n",
       "      <th>2655</th>\n",
       "      <td>ioXCO</td>\n",
       "      <td>-6.507568</td>\n",
       "      <td>-4.817448</td>\n",
       "      <td>1.003449</td>\n",
       "      <td>30.132364</td>\n",
       "    </tr>\n",
       "    <tr>\n",
       "      <th>53233</th>\n",
       "      <td>xk6tF</td>\n",
       "      <td>14.560845</td>\n",
       "      <td>-10.667755</td>\n",
       "      <td>1.995175</td>\n",
       "      <td>53.906522</td>\n",
       "    </tr>\n",
       "    <tr>\n",
       "      <th>91141</th>\n",
       "      <td>F9AmG</td>\n",
       "      <td>6.090476</td>\n",
       "      <td>-4.494723</td>\n",
       "      <td>0.013815</td>\n",
       "      <td>0.000000</td>\n",
       "    </tr>\n",
       "    <tr>\n",
       "      <th>...</th>\n",
       "      <td>...</td>\n",
       "      <td>...</td>\n",
       "      <td>...</td>\n",
       "      <td>...</td>\n",
       "      <td>...</td>\n",
       "    </tr>\n",
       "    <tr>\n",
       "      <th>12581</th>\n",
       "      <td>fJBfd</td>\n",
       "      <td>-4.107455</td>\n",
       "      <td>-4.607004</td>\n",
       "      <td>4.991140</td>\n",
       "      <td>137.945408</td>\n",
       "    </tr>\n",
       "    <tr>\n",
       "      <th>18456</th>\n",
       "      <td>paaof</td>\n",
       "      <td>-8.363585</td>\n",
       "      <td>-6.357527</td>\n",
       "      <td>3.995592</td>\n",
       "      <td>110.992147</td>\n",
       "    </tr>\n",
       "    <tr>\n",
       "      <th>73035</th>\n",
       "      <td>tOADJ</td>\n",
       "      <td>-9.136241</td>\n",
       "      <td>-5.403258</td>\n",
       "      <td>5.000925</td>\n",
       "      <td>137.945408</td>\n",
       "    </tr>\n",
       "    <tr>\n",
       "      <th>63834</th>\n",
       "      <td>AiZ1G</td>\n",
       "      <td>-6.386442</td>\n",
       "      <td>-0.764568</td>\n",
       "      <td>3.011526</td>\n",
       "      <td>84.038886</td>\n",
       "    </tr>\n",
       "    <tr>\n",
       "      <th>43558</th>\n",
       "      <td>2PENr</td>\n",
       "      <td>10.542817</td>\n",
       "      <td>-6.206446</td>\n",
       "      <td>1.992290</td>\n",
       "      <td>53.906522</td>\n",
       "    </tr>\n",
       "  </tbody>\n",
       "</table>\n",
       "<p>25000 rows × 5 columns</p>\n",
       "</div>"
      ],
      "text/plain": [
       "          id         f0         f1        f2     product\n",
       "71751  aTbUt  -0.371866  -1.862494  3.002210   80.859783\n",
       "80493  CK34V   9.015122 -13.881455  1.995363   53.906522\n",
       "2655   ioXCO  -6.507568  -4.817448  1.003449   30.132364\n",
       "53233  xk6tF  14.560845 -10.667755  1.995175   53.906522\n",
       "91141  F9AmG   6.090476  -4.494723  0.013815    0.000000\n",
       "...      ...        ...        ...       ...         ...\n",
       "12581  fJBfd  -4.107455  -4.607004  4.991140  137.945408\n",
       "18456  paaof  -8.363585  -6.357527  3.995592  110.992147\n",
       "73035  tOADJ  -9.136241  -5.403258  5.000925  137.945408\n",
       "63834  AiZ1G  -6.386442  -0.764568  3.011526   84.038886\n",
       "43558  2PENr  10.542817  -6.206446  1.992290   53.906522\n",
       "\n",
       "[25000 rows x 5 columns]"
      ]
     },
     "execution_count": 19,
     "metadata": {},
     "output_type": "execute_result"
    }
   ],
   "source": [
    "# Visualize d2_valid\n",
    "d2_valid"
   ]
  },
  {
   "cell_type": "markdown",
   "metadata": {},
   "source": [
    "#### Split data_3"
   ]
  },
  {
   "cell_type": "code",
   "execution_count": 20,
   "metadata": {},
   "outputs": [],
   "source": [
    "# Split data_3\n",
    "d3_train, d3_valid = train_test_split(data_3, test_size= 0.25, random_state=12345)"
   ]
  },
  {
   "cell_type": "code",
   "execution_count": 21,
   "metadata": {},
   "outputs": [
    {
     "data": {
      "text/html": [
       "<div>\n",
       "<style scoped>\n",
       "    .dataframe tbody tr th:only-of-type {\n",
       "        vertical-align: middle;\n",
       "    }\n",
       "\n",
       "    .dataframe tbody tr th {\n",
       "        vertical-align: top;\n",
       "    }\n",
       "\n",
       "    .dataframe thead th {\n",
       "        text-align: right;\n",
       "    }\n",
       "</style>\n",
       "<table border=\"1\" class=\"dataframe\">\n",
       "  <thead>\n",
       "    <tr style=\"text-align: right;\">\n",
       "      <th></th>\n",
       "      <th>id</th>\n",
       "      <th>f0</th>\n",
       "      <th>f1</th>\n",
       "      <th>f2</th>\n",
       "      <th>product</th>\n",
       "    </tr>\n",
       "  </thead>\n",
       "  <tbody>\n",
       "    <tr>\n",
       "      <th>27212</th>\n",
       "      <td>VtNl5</td>\n",
       "      <td>-0.906828</td>\n",
       "      <td>1.339033</td>\n",
       "      <td>1.106789</td>\n",
       "      <td>16.733577</td>\n",
       "    </tr>\n",
       "    <tr>\n",
       "      <th>7866</th>\n",
       "      <td>nUruK</td>\n",
       "      <td>-1.536353</td>\n",
       "      <td>-0.704673</td>\n",
       "      <td>-1.747632</td>\n",
       "      <td>38.047492</td>\n",
       "    </tr>\n",
       "    <tr>\n",
       "      <th>62041</th>\n",
       "      <td>eipxz</td>\n",
       "      <td>-1.959584</td>\n",
       "      <td>0.356044</td>\n",
       "      <td>3.528659</td>\n",
       "      <td>116.149369</td>\n",
       "    </tr>\n",
       "    <tr>\n",
       "      <th>70185</th>\n",
       "      <td>IGIba</td>\n",
       "      <td>2.129734</td>\n",
       "      <td>2.713459</td>\n",
       "      <td>-0.156172</td>\n",
       "      <td>105.888803</td>\n",
       "    </tr>\n",
       "    <tr>\n",
       "      <th>82230</th>\n",
       "      <td>Hvolv</td>\n",
       "      <td>-0.332026</td>\n",
       "      <td>1.515604</td>\n",
       "      <td>5.417583</td>\n",
       "      <td>27.570897</td>\n",
       "    </tr>\n",
       "    <tr>\n",
       "      <th>...</th>\n",
       "      <td>...</td>\n",
       "      <td>...</td>\n",
       "      <td>...</td>\n",
       "      <td>...</td>\n",
       "      <td>...</td>\n",
       "    </tr>\n",
       "    <tr>\n",
       "      <th>4094</th>\n",
       "      <td>P7iD3</td>\n",
       "      <td>-3.139524</td>\n",
       "      <td>0.684457</td>\n",
       "      <td>8.820754</td>\n",
       "      <td>155.009949</td>\n",
       "    </tr>\n",
       "    <tr>\n",
       "      <th>85412</th>\n",
       "      <td>OoGpc</td>\n",
       "      <td>-0.471084</td>\n",
       "      <td>-2.195627</td>\n",
       "      <td>3.350739</td>\n",
       "      <td>143.348954</td>\n",
       "    </tr>\n",
       "    <tr>\n",
       "      <th>2177</th>\n",
       "      <td>BRM5L</td>\n",
       "      <td>0.642839</td>\n",
       "      <td>1.375212</td>\n",
       "      <td>4.809140</td>\n",
       "      <td>77.290797</td>\n",
       "    </tr>\n",
       "    <tr>\n",
       "      <th>77285</th>\n",
       "      <td>Yelrt</td>\n",
       "      <td>-4.222809</td>\n",
       "      <td>0.191923</td>\n",
       "      <td>4.029111</td>\n",
       "      <td>121.243834</td>\n",
       "    </tr>\n",
       "    <tr>\n",
       "      <th>86498</th>\n",
       "      <td>gy5GR</td>\n",
       "      <td>-2.996164</td>\n",
       "      <td>0.676341</td>\n",
       "      <td>-2.447329</td>\n",
       "      <td>39.377889</td>\n",
       "    </tr>\n",
       "  </tbody>\n",
       "</table>\n",
       "<p>75000 rows × 5 columns</p>\n",
       "</div>"
      ],
      "text/plain": [
       "          id        f0        f1        f2     product\n",
       "27212  VtNl5 -0.906828  1.339033  1.106789   16.733577\n",
       "7866   nUruK -1.536353 -0.704673 -1.747632   38.047492\n",
       "62041  eipxz -1.959584  0.356044  3.528659  116.149369\n",
       "70185  IGIba  2.129734  2.713459 -0.156172  105.888803\n",
       "82230  Hvolv -0.332026  1.515604  5.417583   27.570897\n",
       "...      ...       ...       ...       ...         ...\n",
       "4094   P7iD3 -3.139524  0.684457  8.820754  155.009949\n",
       "85412  OoGpc -0.471084 -2.195627  3.350739  143.348954\n",
       "2177   BRM5L  0.642839  1.375212  4.809140   77.290797\n",
       "77285  Yelrt -4.222809  0.191923  4.029111  121.243834\n",
       "86498  gy5GR -2.996164  0.676341 -2.447329   39.377889\n",
       "\n",
       "[75000 rows x 5 columns]"
      ]
     },
     "execution_count": 21,
     "metadata": {},
     "output_type": "execute_result"
    }
   ],
   "source": [
    "# Visualize d3_train\n",
    "d3_train"
   ]
  },
  {
   "cell_type": "code",
   "execution_count": 22,
   "metadata": {},
   "outputs": [
    {
     "data": {
      "text/html": [
       "<div>\n",
       "<style scoped>\n",
       "    .dataframe tbody tr th:only-of-type {\n",
       "        vertical-align: middle;\n",
       "    }\n",
       "\n",
       "    .dataframe tbody tr th {\n",
       "        vertical-align: top;\n",
       "    }\n",
       "\n",
       "    .dataframe thead th {\n",
       "        text-align: right;\n",
       "    }\n",
       "</style>\n",
       "<table border=\"1\" class=\"dataframe\">\n",
       "  <thead>\n",
       "    <tr style=\"text-align: right;\">\n",
       "      <th></th>\n",
       "      <th>id</th>\n",
       "      <th>f0</th>\n",
       "      <th>f1</th>\n",
       "      <th>f2</th>\n",
       "      <th>product</th>\n",
       "    </tr>\n",
       "  </thead>\n",
       "  <tbody>\n",
       "    <tr>\n",
       "      <th>71751</th>\n",
       "      <td>DMlgl</td>\n",
       "      <td>-1.444717</td>\n",
       "      <td>-3.861599</td>\n",
       "      <td>2.225805</td>\n",
       "      <td>61.212375</td>\n",
       "    </tr>\n",
       "    <tr>\n",
       "      <th>80493</th>\n",
       "      <td>tbrRC</td>\n",
       "      <td>-1.418617</td>\n",
       "      <td>1.276544</td>\n",
       "      <td>-0.976433</td>\n",
       "      <td>41.850118</td>\n",
       "    </tr>\n",
       "    <tr>\n",
       "      <th>2655</th>\n",
       "      <td>JRs1w</td>\n",
       "      <td>-4.587649</td>\n",
       "      <td>-0.413199</td>\n",
       "      <td>1.649268</td>\n",
       "      <td>57.776581</td>\n",
       "    </tr>\n",
       "    <tr>\n",
       "      <th>53233</th>\n",
       "      <td>bidOx</td>\n",
       "      <td>1.871584</td>\n",
       "      <td>1.619101</td>\n",
       "      <td>4.273555</td>\n",
       "      <td>100.053761</td>\n",
       "    </tr>\n",
       "    <tr>\n",
       "      <th>91141</th>\n",
       "      <td>AcBBB</td>\n",
       "      <td>-2.028785</td>\n",
       "      <td>4.128167</td>\n",
       "      <td>6.089547</td>\n",
       "      <td>109.897122</td>\n",
       "    </tr>\n",
       "    <tr>\n",
       "      <th>...</th>\n",
       "      <td>...</td>\n",
       "      <td>...</td>\n",
       "      <td>...</td>\n",
       "      <td>...</td>\n",
       "      <td>...</td>\n",
       "    </tr>\n",
       "    <tr>\n",
       "      <th>12581</th>\n",
       "      <td>y2n7n</td>\n",
       "      <td>-1.315037</td>\n",
       "      <td>-0.122572</td>\n",
       "      <td>-0.345986</td>\n",
       "      <td>28.492402</td>\n",
       "    </tr>\n",
       "    <tr>\n",
       "      <th>18456</th>\n",
       "      <td>aBi2q</td>\n",
       "      <td>0.015144</td>\n",
       "      <td>0.876998</td>\n",
       "      <td>2.603666</td>\n",
       "      <td>21.431303</td>\n",
       "    </tr>\n",
       "    <tr>\n",
       "      <th>73035</th>\n",
       "      <td>CMYf3</td>\n",
       "      <td>0.725767</td>\n",
       "      <td>-0.151545</td>\n",
       "      <td>3.258620</td>\n",
       "      <td>125.487229</td>\n",
       "    </tr>\n",
       "    <tr>\n",
       "      <th>63834</th>\n",
       "      <td>HzkKW</td>\n",
       "      <td>-0.232209</td>\n",
       "      <td>-0.180354</td>\n",
       "      <td>-0.524997</td>\n",
       "      <td>99.422903</td>\n",
       "    </tr>\n",
       "    <tr>\n",
       "      <th>43558</th>\n",
       "      <td>Qwd5N</td>\n",
       "      <td>-2.350293</td>\n",
       "      <td>-1.041230</td>\n",
       "      <td>8.458378</td>\n",
       "      <td>127.445075</td>\n",
       "    </tr>\n",
       "  </tbody>\n",
       "</table>\n",
       "<p>25000 rows × 5 columns</p>\n",
       "</div>"
      ],
      "text/plain": [
       "          id        f0        f1        f2     product\n",
       "71751  DMlgl -1.444717 -3.861599  2.225805   61.212375\n",
       "80493  tbrRC -1.418617  1.276544 -0.976433   41.850118\n",
       "2655   JRs1w -4.587649 -0.413199  1.649268   57.776581\n",
       "53233  bidOx  1.871584  1.619101  4.273555  100.053761\n",
       "91141  AcBBB -2.028785  4.128167  6.089547  109.897122\n",
       "...      ...       ...       ...       ...         ...\n",
       "12581  y2n7n -1.315037 -0.122572 -0.345986   28.492402\n",
       "18456  aBi2q  0.015144  0.876998  2.603666   21.431303\n",
       "73035  CMYf3  0.725767 -0.151545  3.258620  125.487229\n",
       "63834  HzkKW -0.232209 -0.180354 -0.524997   99.422903\n",
       "43558  Qwd5N -2.350293 -1.041230  8.458378  127.445075\n",
       "\n",
       "[25000 rows x 5 columns]"
      ]
     },
     "execution_count": 22,
     "metadata": {},
     "output_type": "execute_result"
    }
   ],
   "source": [
    "# Visualize d3_valid\n",
    "d3_valid"
   ]
  },
  {
   "cell_type": "markdown",
   "metadata": {},
   "source": [
    "The datasets have been split into training and validation datsets in the ratio 75%:25%. Looking at the data columns, `id` doesn't seem to be informative when it comes to our task, so we will drop it in the next stage."
   ]
  },
  {
   "cell_type": "markdown",
   "metadata": {},
   "source": [
    "### Prepare features and target"
   ]
  },
  {
   "cell_type": "markdown",
   "metadata": {},
   "source": [
    "#### d1_train"
   ]
  },
  {
   "cell_type": "code",
   "execution_count": 23,
   "metadata": {},
   "outputs": [],
   "source": [
    "# Create features and target for d1_train\n",
    "d1_features_train = d1_train.drop(['product', 'id'], axis=1)\n",
    "d1_target_train = d1_train['product']"
   ]
  },
  {
   "cell_type": "markdown",
   "metadata": {},
   "source": [
    "#### d1_valid"
   ]
  },
  {
   "cell_type": "code",
   "execution_count": 24,
   "metadata": {},
   "outputs": [],
   "source": [
    "# Create features and target for d1_valid\n",
    "d1_features_valid = d1_valid.drop(['product','id'], axis=1)\n",
    "d1_target_valid = d1_valid['product']"
   ]
  },
  {
   "cell_type": "markdown",
   "metadata": {},
   "source": [
    "#### d2_train"
   ]
  },
  {
   "cell_type": "code",
   "execution_count": 25,
   "metadata": {},
   "outputs": [],
   "source": [
    "# Create features and target for d2_train\n",
    "d2_features_train = d2_train.drop(['product', 'id'], axis=1)\n",
    "d2_target_train = d2_train['product']"
   ]
  },
  {
   "cell_type": "markdown",
   "metadata": {},
   "source": [
    "#### d2_valid"
   ]
  },
  {
   "cell_type": "code",
   "execution_count": 26,
   "metadata": {},
   "outputs": [],
   "source": [
    "# Create features and target for d2_valid\n",
    "d2_features_valid = d2_valid.drop(['product', 'id'], axis=1)\n",
    "d2_target_valid = d2_valid['product']"
   ]
  },
  {
   "cell_type": "markdown",
   "metadata": {},
   "source": [
    "#### d3_train"
   ]
  },
  {
   "cell_type": "code",
   "execution_count": 27,
   "metadata": {},
   "outputs": [],
   "source": [
    "# Create features and target for d3_train\n",
    "d3_features_train = d3_train.drop(['product', 'id'], axis=1)\n",
    "d3_target_train = d3_train['product']"
   ]
  },
  {
   "cell_type": "markdown",
   "metadata": {},
   "source": [
    "#### d3_valid"
   ]
  },
  {
   "cell_type": "code",
   "execution_count": 28,
   "metadata": {},
   "outputs": [],
   "source": [
    "# Create features and target for d3_valid\n",
    "d3_features_valid = d3_valid.drop(['product', 'id'], axis=1)\n",
    "d3_target_valid = d3_valid['product']"
   ]
  },
  {
   "cell_type": "markdown",
   "metadata": {},
   "source": [
    "<div class=\"alert alert-block alert-warning\">\n",
    "<b>Reviewer's comment</b> <a class=\"tocSkip\"></a>\n",
    "\n",
    "It is more common to remove unnecessary like id before the split, but it is not critical.\n",
    "</div>\n"
   ]
  },
  {
   "cell_type": "markdown",
   "metadata": {},
   "source": [
    "### Standardize numeric columns"
   ]
  },
  {
   "cell_type": "markdown",
   "metadata": {},
   "source": [
    "<div class=\"alert alert-block alert-warning\">\n",
    "<b>Reviewer's comment</b> <a class=\"tocSkip\"></a>\n",
    "\n",
    "It is a good idea to check the distibution of features before scaling. Probably we will not need it at all.\n",
    "</div>\n"
   ]
  },
  {
   "cell_type": "markdown",
   "metadata": {},
   "source": [
    "#### d1_features_train"
   ]
  },
  {
   "cell_type": "code",
   "execution_count": 29,
   "metadata": {},
   "outputs": [
    {
     "data": {
      "text/plain": [
       "StandardScaler()"
      ]
     },
     "execution_count": 29,
     "metadata": {},
     "output_type": "execute_result"
    }
   ],
   "source": [
    "# Create and fit scaler_1\n",
    "scaler_1 = StandardScaler()\n",
    "scaler_1.fit(d1_features_train)"
   ]
  },
  {
   "cell_type": "code",
   "execution_count": 30,
   "metadata": {},
   "outputs": [],
   "source": [
    "# Transform columns\n",
    "d1_features_train = scaler_1.transform(d1_features_train)\n",
    "d1_features_valid = scaler_1.transform(d1_features_valid)"
   ]
  },
  {
   "cell_type": "markdown",
   "metadata": {},
   "source": [
    "#### d2_features_train"
   ]
  },
  {
   "cell_type": "code",
   "execution_count": 31,
   "metadata": {},
   "outputs": [
    {
     "data": {
      "text/plain": [
       "StandardScaler()"
      ]
     },
     "execution_count": 31,
     "metadata": {},
     "output_type": "execute_result"
    }
   ],
   "source": [
    "# Create and fit scaler_2\n",
    "scaler_2 = StandardScaler()\n",
    "scaler_2.fit(d2_features_train)"
   ]
  },
  {
   "cell_type": "code",
   "execution_count": 32,
   "metadata": {},
   "outputs": [],
   "source": [
    "# Transform columns\n",
    "d2_features_train = scaler_2.transform(d2_features_train)\n",
    "d2_features_valid = scaler_2.transform(d2_features_valid)"
   ]
  },
  {
   "cell_type": "markdown",
   "metadata": {},
   "source": [
    "#### d3_features_train"
   ]
  },
  {
   "cell_type": "code",
   "execution_count": 33,
   "metadata": {},
   "outputs": [
    {
     "data": {
      "text/plain": [
       "StandardScaler()"
      ]
     },
     "execution_count": 33,
     "metadata": {},
     "output_type": "execute_result"
    }
   ],
   "source": [
    "# Create and fit scaler_3\n",
    "scaler_3 = StandardScaler()\n",
    "scaler_3.fit(d3_features_train)"
   ]
  },
  {
   "cell_type": "code",
   "execution_count": 34,
   "metadata": {},
   "outputs": [],
   "source": [
    "# Transform columns\n",
    "d3_features_train = scaler_3.transform(d3_features_train)\n",
    "d3_features_valid = scaler_3.transform(d3_features_valid)"
   ]
  },
  {
   "cell_type": "markdown",
   "metadata": {},
   "source": [
    "All columns have been standardized"
   ]
  },
  {
   "cell_type": "markdown",
   "metadata": {},
   "source": [
    "<div class=\"alert alert-block alert-danger\">\n",
    "<b>Reviewer's comment</b> <a class=\"tocSkip\"></a>\n",
    "\n",
    "We should use transform method on validation features as well.\n",
    "</div>"
   ]
  },
  {
   "cell_type": "markdown",
   "metadata": {},
   "source": [
    "<div class=\"alert alert-block alert-success\">\n",
    "<b>Reviewer's comment V2</b> <a class=\"tocSkip\"></a>\n",
    "\n",
    "OK\n",
    "</div>\n"
   ]
  },
  {
   "cell_type": "markdown",
   "metadata": {},
   "source": [
    "### Create and train models"
   ]
  },
  {
   "cell_type": "markdown",
   "metadata": {},
   "source": [
    "#### Model_1"
   ]
  },
  {
   "cell_type": "code",
   "execution_count": 35,
   "metadata": {},
   "outputs": [
    {
     "data": {
      "text/plain": [
       "LinearRegression()"
      ]
     },
     "execution_count": 35,
     "metadata": {},
     "output_type": "execute_result"
    }
   ],
   "source": [
    "model_1 = LinearRegression()\n",
    "model_1.fit(d1_features_train, d1_target_train)"
   ]
  },
  {
   "cell_type": "markdown",
   "metadata": {},
   "source": [
    "#### Model_2"
   ]
  },
  {
   "cell_type": "code",
   "execution_count": 36,
   "metadata": {},
   "outputs": [
    {
     "data": {
      "text/plain": [
       "LinearRegression()"
      ]
     },
     "execution_count": 36,
     "metadata": {},
     "output_type": "execute_result"
    }
   ],
   "source": [
    "model_2 = LinearRegression()\n",
    "model_2.fit(d2_features_train, d2_target_train)"
   ]
  },
  {
   "cell_type": "markdown",
   "metadata": {},
   "source": [
    "#### Model_3"
   ]
  },
  {
   "cell_type": "code",
   "execution_count": 37,
   "metadata": {},
   "outputs": [
    {
     "data": {
      "text/plain": [
       "LinearRegression()"
      ]
     },
     "execution_count": 37,
     "metadata": {},
     "output_type": "execute_result"
    }
   ],
   "source": [
    "model_3 = LinearRegression()\n",
    "model_3.fit(d3_features_train, d3_target_train)"
   ]
  },
  {
   "cell_type": "markdown",
   "metadata": {},
   "source": [
    "Models are trained and ready for evaluation"
   ]
  },
  {
   "cell_type": "markdown",
   "metadata": {},
   "source": [
    "### Model evaluation"
   ]
  },
  {
   "cell_type": "markdown",
   "metadata": {},
   "source": [
    "#### Model_1"
   ]
  },
  {
   "cell_type": "code",
   "execution_count": 38,
   "metadata": {},
   "outputs": [
    {
     "name": "stdout",
     "output_type": "stream",
     "text": [
      "RMSE: 37.5794217150813\n",
      "Average volume of predicted reserves: 92.59256778438035\n"
     ]
    }
   ],
   "source": [
    "predict_1 = model_1.predict(d1_features_valid)\n",
    "\n",
    "mse_1 = mean_squared_error(d1_target_valid, predict_1)\n",
    "\n",
    "rmse_1 = mse_1 ** 0.5\n",
    "\n",
    "ave_vol_1 = pd.Series(predict_1).mean()\n",
    "\n",
    "\n",
    "print('RMSE:', rmse_1)\n",
    "print('Average volume of predicted reserves:', ave_vol_1)"
   ]
  },
  {
   "cell_type": "markdown",
   "metadata": {},
   "source": [
    "#### Model_2"
   ]
  },
  {
   "cell_type": "code",
   "execution_count": 39,
   "metadata": {},
   "outputs": [
    {
     "name": "stdout",
     "output_type": "stream",
     "text": [
      "RMSE: 0.893099286775617\n",
      "Average volume of predicted reserves: 68.728546895446\n"
     ]
    }
   ],
   "source": [
    "predict_2 = model_2.predict(d2_features_valid)\n",
    "\n",
    "mse_2 = mean_squared_error(d2_target_valid, predict_2)\n",
    "\n",
    "rmse_2 = mse_2 ** 0.5\n",
    "\n",
    "ave_vol_2 = pd.Series(predict_2).mean()\n",
    "\n",
    "\n",
    "print('RMSE:', rmse_2)\n",
    "print('Average volume of predicted reserves:', ave_vol_2)"
   ]
  },
  {
   "cell_type": "markdown",
   "metadata": {},
   "source": [
    "<div class=\"alert alert-block alert-danger\">\n",
    "<b>Reviewer's comment</b> <a class=\"tocSkip\"></a>\n",
    "\n",
    "You forgot to update the model and applied the wrong one here. That it why it is better to use functions, this way we do not need to update anything manually :)\n",
    "</div>\n",
    "\n",
    "\n"
   ]
  },
  {
   "cell_type": "markdown",
   "metadata": {},
   "source": [
    "<div class=\"alert alert-block alert-success\">\n",
    "<b>Reviewer's comment V2</b> <a class=\"tocSkip\"></a>\n",
    "\n",
    "OK\n",
    "</div>\n"
   ]
  },
  {
   "cell_type": "markdown",
   "metadata": {},
   "source": [
    "#### Model_3 "
   ]
  },
  {
   "cell_type": "code",
   "execution_count": 40,
   "metadata": {},
   "outputs": [
    {
     "name": "stdout",
     "output_type": "stream",
     "text": [
      "RMSE: 40.02970873393434\n",
      "Average volume of predicted reserves: 94.96504596800489\n"
     ]
    }
   ],
   "source": [
    "predict_3 = model_3.predict(d3_features_valid)\n",
    "\n",
    "mse_3 = mean_squared_error(d3_target_valid, predict_3)\n",
    "\n",
    "rmse_3 = mse_3 ** 0.5\n",
    "\n",
    "ave_vol_3 = pd.Series(predict_3).mean()\n",
    "\n",
    "\n",
    "print('RMSE:', rmse_3)\n",
    "print('Average volume of predicted reserves:', ave_vol_3)"
   ]
  },
  {
   "cell_type": "markdown",
   "metadata": {},
   "source": [
    "The models have been successfully evaluated. From our evaluation, the average volume of predicted reserves are 92.6, 68.7 and 95.0 for the 1st, 2nd and 3rd regions respectively. The RMSE shows the degree of variation the prediction is away from the correct results. The model is most accurate in the 2nd region as we can see the lowest RMSE"
   ]
  },
  {
   "cell_type": "markdown",
   "metadata": {},
   "source": [
    "<div class=\"alert alert-block alert-warning\">\n",
    "<b>Reviewer's comment</b> <a class=\"tocSkip\"></a>\n",
    "\n",
    "Let's fix previous comments and get back to this conclusion one more time.\n",
    "</div>"
   ]
  },
  {
   "cell_type": "markdown",
   "metadata": {},
   "source": [
    "<div class=\"alert alert-block alert-warning\">\n",
    "<b>Reviewer's comment V2</b> <a class=\"tocSkip\"></a>\n",
    "\n",
    "I think the model is most accurate in the 2nd region\n",
    "</div>\n"
   ]
  },
  {
   "cell_type": "markdown",
   "metadata": {},
   "source": [
    "## Preparation for profit calculation"
   ]
  },
  {
   "cell_type": "markdown",
   "metadata": {},
   "source": [
    "### Create sample of 500 points for each region"
   ]
  },
  {
   "cell_type": "markdown",
   "metadata": {},
   "source": [
    "#### 1st region"
   ]
  },
  {
   "cell_type": "code",
   "execution_count": 41,
   "metadata": {},
   "outputs": [],
   "source": [
    "# Create sample\n",
    "s1 = d1_valid.reset_index(drop=True)"
   ]
  },
  {
   "cell_type": "markdown",
   "metadata": {},
   "source": [
    "<div class=\"alert alert-block alert-danger\">\n",
    "<b>Reviewer's comment</b> <a class=\"tocSkip\"></a>\n",
    "\n",
    "- For our future tasks we need to use only validation data.\n",
    "- Also, We can use parameter n instead of frac.\n",
    "</div>"
   ]
  },
  {
   "cell_type": "markdown",
   "metadata": {},
   "source": [
    "<div class=\"alert alert-block alert-success\">\n",
    "<b>Reviewer's comment V2</b> <a class=\"tocSkip\"></a>\n",
    "\n",
    "Good, thank you\n",
    "</div>"
   ]
  },
  {
   "cell_type": "markdown",
   "metadata": {},
   "source": [
    "#### 2nd region"
   ]
  },
  {
   "cell_type": "code",
   "execution_count": 42,
   "metadata": {},
   "outputs": [],
   "source": [
    "# Create sample\n",
    "s2 = d2_valid.reset_index(drop=True)"
   ]
  },
  {
   "cell_type": "markdown",
   "metadata": {},
   "source": [
    "#### 3rd region"
   ]
  },
  {
   "cell_type": "code",
   "execution_count": 43,
   "metadata": {},
   "outputs": [],
   "source": [
    "# Create sample \n",
    "s3 = d3_valid.reset_index(drop=True)"
   ]
  },
  {
   "cell_type": "markdown",
   "metadata": {},
   "source": [
    "### Store all key values for calculations in separate variables."
   ]
  },
  {
   "cell_type": "code",
   "execution_count": 44,
   "metadata": {},
   "outputs": [],
   "source": [
    "# Store all key values for calculations in separate variables.\n",
    "\n",
    "dev_budget = 100000000 # The budget for development of 200 oil wells\n",
    "\n",
    "cost_of_one = dev_budget/200\n",
    "\n",
    "one_barr_rev = 4.5 # One barrel of raw materials brings 4.5 USD of revenue "
   ]
  },
  {
   "cell_type": "markdown",
   "metadata": {},
   "source": [
    "### Calculate the volume of reserves sufficient for developing a new well without losses"
   ]
  },
  {
   "cell_type": "code",
   "execution_count": 45,
   "metadata": {
    "scrolled": true
   },
   "outputs": [
    {
     "name": "stdout",
     "output_type": "stream",
     "text": [
      "the volume of reserves sufficient for developing a new well without losses 111.11111111111111\n"
     ]
    }
   ],
   "source": [
    "# Calculate volume sufficient for new well\n",
    "vol_for_well = cost_of_one/one_barr_rev\n",
    "vol_for_well = vol_for_well/1000\n",
    "print('the volume of reserves sufficient for developing a new well without losses', vol_for_well)"
   ]
  },
  {
   "cell_type": "markdown",
   "metadata": {},
   "source": [
    "<div class=\"alert alert-block alert-success\">\n",
    "<b>Reviewer's comment</b> <a class=\"tocSkip\"></a>\n",
    "\n",
    "OK, good\n",
    "</div>"
   ]
  },
  {
   "cell_type": "markdown",
   "metadata": {},
   "source": [
    "### Average volume of reserves in each region"
   ]
  },
  {
   "cell_type": "markdown",
   "metadata": {},
   "source": [
    "#### 1st region"
   ]
  },
  {
   "cell_type": "code",
   "execution_count": 46,
   "metadata": {},
   "outputs": [
    {
     "name": "stdout",
     "output_type": "stream",
     "text": [
      "Ave vol: 92.50000000000001\n"
     ]
    }
   ],
   "source": [
    "# Ave vol of reserves\n",
    "ave_vol_res_1 = data_1['product'].mean()\n",
    "print('Ave vol:',ave_vol_res_1 )"
   ]
  },
  {
   "cell_type": "markdown",
   "metadata": {},
   "source": [
    "#### 2nd region"
   ]
  },
  {
   "cell_type": "code",
   "execution_count": 47,
   "metadata": {},
   "outputs": [
    {
     "name": "stdout",
     "output_type": "stream",
     "text": [
      "Ave vol: 68.82500000000002\n"
     ]
    }
   ],
   "source": [
    "# Ave vol of reserves\n",
    "ave_vol_res_2 = data_2['product'].mean()\n",
    "print('Ave vol:',ave_vol_res_2 )"
   ]
  },
  {
   "cell_type": "markdown",
   "metadata": {},
   "source": [
    "#### 3rd region"
   ]
  },
  {
   "cell_type": "code",
   "execution_count": 48,
   "metadata": {},
   "outputs": [
    {
     "name": "stdout",
     "output_type": "stream",
     "text": [
      "Ave vol: 95.00000000000004\n"
     ]
    }
   ],
   "source": [
    "# Ave vol of reserves\n",
    "ave_vol_res_3 = data_3['product'].mean()\n",
    "print('Ave vol:',ave_vol_res_3 )"
   ]
  },
  {
   "cell_type": "markdown",
   "metadata": {},
   "source": [
    "The variables are ready to be used for profit calculation. From our above calculations, a minimum volume of 111 thousand should be available at each location to avoid running at a loss when creating new oil wells. The average volume of reserves in the 3 regions are lower than this."
   ]
  },
  {
   "cell_type": "markdown",
   "metadata": {},
   "source": [
    "## Calculate profit from a set of selected oil wells and model predictions"
   ]
  },
  {
   "cell_type": "markdown",
   "metadata": {},
   "source": [
    "### Get predictions for each sample"
   ]
  },
  {
   "cell_type": "markdown",
   "metadata": {},
   "source": [
    "#### S1"
   ]
  },
  {
   "cell_type": "code",
   "execution_count": 49,
   "metadata": {},
   "outputs": [],
   "source": [
    "# Get sample features\n",
    "s1_features = s1.drop(['product', 'id'], axis=1)"
   ]
  },
  {
   "cell_type": "code",
   "execution_count": 50,
   "metadata": {},
   "outputs": [],
   "source": [
    "# Get predictions\n",
    "s1_pred = model_1.predict(s1_features)"
   ]
  },
  {
   "cell_type": "markdown",
   "metadata": {},
   "source": [
    "#### S2"
   ]
  },
  {
   "cell_type": "code",
   "execution_count": 51,
   "metadata": {},
   "outputs": [],
   "source": [
    "# Get sample features\n",
    "s2_features = s2.drop(['product', 'id'], axis=1)"
   ]
  },
  {
   "cell_type": "code",
   "execution_count": 52,
   "metadata": {},
   "outputs": [],
   "source": [
    "# Get predictions\n",
    "s2_pred = model_2.predict(s2_features)"
   ]
  },
  {
   "cell_type": "markdown",
   "metadata": {},
   "source": [
    "#### S3"
   ]
  },
  {
   "cell_type": "code",
   "execution_count": 53,
   "metadata": {},
   "outputs": [],
   "source": [
    "# Get sample features\n",
    "s3_features = s3.drop(['product', 'id'], axis=1)"
   ]
  },
  {
   "cell_type": "code",
   "execution_count": 54,
   "metadata": {},
   "outputs": [],
   "source": [
    "# Get predictions\n",
    "s3_pred = model_3.predict(s3_features)"
   ]
  },
  {
   "cell_type": "markdown",
   "metadata": {},
   "source": [
    "### Create function to calculate profit"
   ]
  },
  {
   "cell_type": "code",
   "execution_count": 55,
   "metadata": {},
   "outputs": [],
   "source": [
    "# Create profit function\n",
    "def profit(df, predictions, revenue_per_barrel):\n",
    "    prof_list = []\n",
    "    ovr_prof = 0\n",
    "    \n",
    "    high_pred = pd.Series(predictions)\n",
    "    high_pred = high_pred[df.index].sort_values(ascending=False).head(200)\n",
    "    df_new_prod = df['product']\n",
    "    target = df_new_prod[high_pred.index]\n",
    "    \n",
    "    for value in target:\n",
    "        prof = (value * revenue_per_barrel * 1000) - cost_of_one \n",
    "        prof_list.append(prof)\n",
    "    ovr_prof = pd.Series(prof_list).sum()\n",
    "    return ovr_prof"
   ]
  },
  {
   "cell_type": "markdown",
   "metadata": {},
   "source": [
    "<div class=\"alert alert-block alert-danger\">\n",
    "<b>Reviewer's comment</b> <a class=\"tocSkip\"></a>\n",
    "\n",
    "There are several issues:\n",
    "- We should calculate profit as revenue - costs\n",
    "- To get revenue we need to: \"Summarize the target volume of reserves in accordance with these predictions\". So, select the wells with the highest values of predictions but use target volume of reserves to calculate revenue.\n",
    "- Could you comment why we have this magic number 1000.\n",
    "\n",
    "</div>"
   ]
  },
  {
   "cell_type": "markdown",
   "metadata": {},
   "source": [
    "<div class=\"alert alert-block alert-info\">\n",
    "<b>Student answer.</b> <a class=\"tocSkip\"></a>\n",
    "\n",
    "We are multiplying by 1000 because volume of reserves is in thousand barrels.\n",
    "</div>"
   ]
  },
  {
   "cell_type": "markdown",
   "metadata": {},
   "source": [
    "<div class=\"alert alert-block alert-warning\">\n",
    "<b>Reviewer's comment V2</b> <a class=\"tocSkip\"></a>\n",
    "\n",
    "Good, but I'd suggest to put the process of selecting wells inside of the function. It could help us further.\n",
    "</div>"
   ]
  },
  {
   "cell_type": "markdown",
   "metadata": {},
   "source": [
    "### Calculate profit for each region"
   ]
  },
  {
   "cell_type": "markdown",
   "metadata": {},
   "source": [
    "#### s1_high"
   ]
  },
  {
   "cell_type": "code",
   "execution_count": 56,
   "metadata": {},
   "outputs": [
    {
     "name": "stdout",
     "output_type": "stream",
     "text": [
      "Profit for this region: 26385004.701609157\n"
     ]
    }
   ],
   "source": [
    "print('Profit for this region:', profit(s1, s1_pred, 4.5))"
   ]
  },
  {
   "cell_type": "markdown",
   "metadata": {},
   "source": [
    "#### s2_high"
   ]
  },
  {
   "cell_type": "code",
   "execution_count": 57,
   "metadata": {},
   "outputs": [
    {
     "name": "stdout",
     "output_type": "stream",
     "text": [
      "Profit for this region: 24150866.96681509\n"
     ]
    }
   ],
   "source": [
    "print('Profit for this region:', profit(s2, s2_pred, 4.5))"
   ]
  },
  {
   "cell_type": "markdown",
   "metadata": {},
   "source": [
    "#### s3_high"
   ]
  },
  {
   "cell_type": "code",
   "execution_count": 58,
   "metadata": {},
   "outputs": [
    {
     "name": "stdout",
     "output_type": "stream",
     "text": [
      "Profit for this region: 27138232.94735464\n"
     ]
    }
   ],
   "source": [
    "print('Profit for this region:', profit(s3, s3_pred, 4.5))"
   ]
  },
  {
   "cell_type": "markdown",
   "metadata": {},
   "source": [
    "From the above calculations, the best region for oil well development is the 2nd region. This region brings in the most profit of all 3 regions at a whooping 7.7 million USD."
   ]
  },
  {
   "cell_type": "markdown",
   "metadata": {},
   "source": [
    "## Calculate risks and profit for each region"
   ]
  },
  {
   "cell_type": "markdown",
   "metadata": {},
   "source": [
    "### Create bootstrapping function"
   ]
  },
  {
   "cell_type": "code",
   "execution_count": 59,
   "metadata": {},
   "outputs": [],
   "source": [
    "# Create bootstrapping function\n",
    "def boot_func(df, prediction, revenue_per_barrel):\n",
    "    \n",
    "    state = np.random.RandomState(12345)\n",
    "    \n",
    "    prof_distr = []\n",
    "    \n",
    "    loss = []\n",
    "    \n",
    "    for i in range(1000):\n",
    "        boot_samp = df.sample(n=500, replace=True, random_state= state)\n",
    "        rev = profit(boot_samp, prediction, revenue_per_barrel)\n",
    "        prof_distr.append(rev)\n",
    "    \n",
    "    \n",
    "    prof_distr = pd.Series(prof_distr)\n",
    "    \n",
    "    \n",
    "    lower = prof_distr.quantile(0.025)\n",
    "    upper = prof_distr.quantile(0.975)\n",
    "    \n",
    "    for value in prof_distr:\n",
    "        if value - vol_for_well < 0:\n",
    "            loss.append(value)\n",
    "    \n",
    "    loss = pd.Series(loss)\n",
    "    \n",
    "    print(f'Risk of losses: {(prof_distr < 0).mean():.2%}')\n",
    "    \n",
    "    \n",
    "    print('Average profit for this region:', prof_distr.mean())\n",
    "    \n",
    "    print(f'95% confidence interval:{lower} - {upper}')\n",
    "    \n",
    "    return 'Analysis complete'"
   ]
  },
  {
   "cell_type": "markdown",
   "metadata": {},
   "source": [
    "<div class=\"alert alert-block alert-danger\">\n",
    "<b>Reviewer's comment</b> <a class=\"tocSkip\"></a>\n",
    "\n",
    "- The same issue with the way to calculate revenue. We need to pass not predictions, but target values selected by predictions.\n",
    "- To calculate Risk of losses, we need to find a fraction of values in prof_distr that is lower than 0. \n",
    "- var = print('something') is not a correct form. Print can't return anything. That's why we see (None, None, None) bellow. We can just use print and don't use return in this function.\n",
    "</div>"
   ]
  },
  {
   "cell_type": "markdown",
   "metadata": {},
   "source": [
    "<div class=\"alert alert-block alert-danger\">\n",
    "<b>Reviewer's comment V2</b> <a class=\"tocSkip\"></a>\n",
    "\n",
    "- The idea behind the bootstrap is the following. We should: randomly select 500 wells, select best 200 based by our predicion, calculate profit and repeat the process 1000 times. Now you pass best 200 every time and select 25% of them to calculate the profit which is not correct.\n",
    "- To calculate Risk of losses, we need to use this: (prof_distr < 0).mean(). And add 2 fraction numbers (:.0% -> :.2%), please.\n",
    "\n",
    "</div>"
   ]
  },
  {
   "cell_type": "markdown",
   "metadata": {},
   "source": [
    "<div class=\"alert alert-block alert-success\">\n",
    "<b>Reviewer's comment V3</b> <a class=\"tocSkip\"></a>\n",
    "\n",
    "Good, thank you\n",
    "</div>\n"
   ]
  },
  {
   "cell_type": "markdown",
   "metadata": {},
   "source": [
    "### Evaluation of each region"
   ]
  },
  {
   "cell_type": "markdown",
   "metadata": {},
   "source": [
    "#### 1st Region"
   ]
  },
  {
   "cell_type": "code",
   "execution_count": 60,
   "metadata": {
    "scrolled": true
   },
   "outputs": [
    {
     "name": "stdout",
     "output_type": "stream",
     "text": [
      "Risk of losses: 13.50%\n",
      "Average profit for this region: 3136758.1596374847\n",
      "95% confidence interval:-2127877.66605007 - 8352807.233802227\n",
      "Analysis complete\n"
     ]
    }
   ],
   "source": [
    "# Evaluate region with bootstrapping function\n",
    "print(boot_func(s1, s1_pred,  4.5))"
   ]
  },
  {
   "cell_type": "markdown",
   "metadata": {},
   "source": [
    "#### 2nd Region"
   ]
  },
  {
   "cell_type": "code",
   "execution_count": 61,
   "metadata": {},
   "outputs": [
    {
     "name": "stdout",
     "output_type": "stream",
     "text": [
      "Risk of losses: 1.70%\n",
      "Average profit for this region: 4651514.195956517\n",
      "95% confidence interval:320367.42850019847 - 8643762.015334848\n",
      "Analysis complete\n"
     ]
    }
   ],
   "source": [
    "# Evaluate region with bootstrapping function\n",
    "print(boot_func(s2, s2_pred, 4.5))"
   ]
  },
  {
   "cell_type": "markdown",
   "metadata": {},
   "source": [
    "#### 3rd Region"
   ]
  },
  {
   "cell_type": "code",
   "execution_count": 62,
   "metadata": {},
   "outputs": [
    {
     "name": "stdout",
     "output_type": "stream",
     "text": [
      "Risk of losses: 8.10%\n",
      "Average profit for this region: 4143469.2794738654\n",
      "95% confidence interval:-1490665.2762989856 - 9723391.679202836\n",
      "Analysis complete\n"
     ]
    }
   ],
   "source": [
    "# Evaluate region with bootstrapping function\n",
    "print(boot_func(s3, s3_pred, 4.5))"
   ]
  },
  {
   "cell_type": "markdown",
   "metadata": {},
   "source": [
    "From the above evaluation, the 2nd region has the lowest risk of losses and the highest average profit and so this is the best for oil well development."
   ]
  },
  {
   "cell_type": "markdown",
   "metadata": {},
   "source": [
    "<div class=\"alert alert-block alert-warning\">\n",
    "<b>Reviewer's comment</b> <a class=\"tocSkip\"></a>\n",
    "\n",
    "Let's fix previous comments and get back to this conclusion one more time.\n",
    "</div>"
   ]
  },
  {
   "cell_type": "markdown",
   "metadata": {},
   "source": [
    "<div class=\"alert alert-block alert-success\">\n",
    "\n",
    "<b>Reviewer's general comment</b> <a class=\"tocSkip\"></a>\n",
    "\n",
    "You've done a great job! Let's fix some issues and the project will be accepted.\n",
    "</div>\n",
    "\n",
    "\n",
    "\n",
    "<div class=\"alert alert-block alert-danger\">\n",
    "\n",
    "<b>Reviewer's general comment</b> <a class=\"tocSkip\"></a>\n",
    "\n",
    "What we should pay attention to:\n",
    "\n",
    "- use transform method on validation features\n",
    "- check which model you apply in 3.5.2\n",
    "- for profit calculation use only validation data\n",
    "- fix profit() function\n",
    "- fix boot_func()\n",
    "- review comments\n",
    "\n",
    "\n",
    "</div>"
   ]
  },
  {
   "cell_type": "markdown",
   "metadata": {},
   "source": [
    "<div class=\"alert alert-block alert-danger\">\n",
    "<b>Reviewer's general comment V2</b> <a class=\"tocSkip\"></a>\n",
    "\n",
    "Thank you for taking the time to improve the project. Let's fix the final step and we should be fine.\n",
    "\n",
    "</div>"
   ]
  },
  {
   "cell_type": "markdown",
   "metadata": {},
   "source": [
    "<div class=\"alert alert-block alert-success\">\n",
    "<b>Reviewer's general comment V3</b> <a class=\"tocSkip\"></a>\n",
    "\n",
    "Good job. Now the project is accepted. You can move on to the next module. Congratulations!\n",
    "</div>"
   ]
  }
 ],
 "metadata": {
  "ExecuteTimeLog": [
   {
    "duration": 356,
    "start_time": "2022-06-23T07:30:45.517Z"
   },
   {
    "duration": 65,
    "start_time": "2022-06-23T07:32:32.171Z"
   },
   {
    "duration": 39,
    "start_time": "2022-06-23T07:32:37.828Z"
   },
   {
    "duration": 364,
    "start_time": "2022-06-23T07:33:35.203Z"
   },
   {
    "duration": 202,
    "start_time": "2022-06-23T07:34:38.123Z"
   },
   {
    "duration": 195,
    "start_time": "2022-06-23T07:35:32.333Z"
   },
   {
    "duration": 18,
    "start_time": "2022-06-23T07:38:41.603Z"
   },
   {
    "duration": 14,
    "start_time": "2022-06-23T07:39:28.588Z"
   },
   {
    "duration": 12,
    "start_time": "2022-06-23T07:40:58.946Z"
   },
   {
    "duration": 13,
    "start_time": "2022-06-23T07:42:45.310Z"
   },
   {
    "duration": 15,
    "start_time": "2022-06-23T07:44:24.311Z"
   },
   {
    "duration": 22,
    "start_time": "2022-06-23T07:44:57.902Z"
   },
   {
    "duration": 8,
    "start_time": "2022-06-23T07:47:43.191Z"
   },
   {
    "duration": 6,
    "start_time": "2022-06-23T07:48:12.673Z"
   },
   {
    "duration": 7,
    "start_time": "2022-06-23T07:48:21.008Z"
   },
   {
    "duration": 55,
    "start_time": "2022-06-23T07:48:33.654Z"
   },
   {
    "duration": 58,
    "start_time": "2022-06-23T07:48:47.318Z"
   },
   {
    "duration": 40,
    "start_time": "2022-06-23T07:49:22.463Z"
   },
   {
    "duration": 45,
    "start_time": "2022-06-23T07:49:46.551Z"
   },
   {
    "duration": 42,
    "start_time": "2022-06-23T07:49:59.056Z"
   },
   {
    "duration": 675,
    "start_time": "2022-06-23T08:01:40.760Z"
   },
   {
    "duration": 18,
    "start_time": "2022-06-23T08:02:59.295Z"
   },
   {
    "duration": 18,
    "start_time": "2022-06-23T08:03:14.122Z"
   },
   {
    "duration": 17,
    "start_time": "2022-06-23T08:03:36.137Z"
   },
   {
    "duration": 2,
    "start_time": "2022-06-23T08:03:51.055Z"
   },
   {
    "duration": 13,
    "start_time": "2022-06-23T08:04:01.496Z"
   },
   {
    "duration": 16,
    "start_time": "2022-06-23T08:06:04.807Z"
   },
   {
    "duration": 14,
    "start_time": "2022-06-23T08:06:32.329Z"
   },
   {
    "duration": 12,
    "start_time": "2022-06-23T08:07:05.920Z"
   },
   {
    "duration": 17,
    "start_time": "2022-06-23T08:08:27.799Z"
   },
   {
    "duration": 12,
    "start_time": "2022-06-23T08:08:47.125Z"
   },
   {
    "duration": 12,
    "start_time": "2022-06-23T08:09:09.504Z"
   },
   {
    "duration": 44,
    "start_time": "2022-06-23T08:13:33.604Z"
   },
   {
    "duration": 11,
    "start_time": "2022-06-23T08:13:49.469Z"
   },
   {
    "duration": 8,
    "start_time": "2022-06-23T08:14:20.626Z"
   },
   {
    "duration": 7,
    "start_time": "2022-06-23T08:17:28.067Z"
   },
   {
    "duration": 7,
    "start_time": "2022-06-23T08:19:13.099Z"
   },
   {
    "duration": 6,
    "start_time": "2022-06-23T08:20:29.784Z"
   },
   {
    "duration": 6,
    "start_time": "2022-06-23T08:20:55.790Z"
   },
   {
    "duration": 11,
    "start_time": "2022-06-23T08:23:00.787Z"
   },
   {
    "duration": 6,
    "start_time": "2022-06-23T08:26:00.110Z"
   },
   {
    "duration": 7,
    "start_time": "2022-06-23T08:29:07.479Z"
   },
   {
    "duration": 5,
    "start_time": "2022-06-23T08:29:24.378Z"
   },
   {
    "duration": 6,
    "start_time": "2022-06-23T08:29:51.424Z"
   },
   {
    "duration": 4,
    "start_time": "2022-06-23T08:30:06.333Z"
   },
   {
    "duration": 5,
    "start_time": "2022-06-23T08:30:19.695Z"
   },
   {
    "duration": 4,
    "start_time": "2022-06-23T08:30:31.622Z"
   },
   {
    "duration": 3,
    "start_time": "2022-06-23T08:34:19.958Z"
   },
   {
    "duration": 3,
    "start_time": "2022-06-23T08:35:15.837Z"
   },
   {
    "duration": 9,
    "start_time": "2022-06-23T08:38:10.825Z"
   },
   {
    "duration": 4,
    "start_time": "2022-06-23T08:41:54.135Z"
   },
   {
    "duration": 10,
    "start_time": "2022-06-23T08:42:39.970Z"
   },
   {
    "duration": 4,
    "start_time": "2022-06-23T08:43:42.361Z"
   },
   {
    "duration": 2,
    "start_time": "2022-06-23T08:44:37.799Z"
   },
   {
    "duration": 11,
    "start_time": "2022-06-23T08:45:02.181Z"
   },
   {
    "duration": 59,
    "start_time": "2022-06-23T08:45:41.580Z"
   },
   {
    "duration": 4,
    "start_time": "2022-06-23T08:45:52.516Z"
   },
   {
    "duration": 20,
    "start_time": "2022-06-23T08:48:52.624Z"
   },
   {
    "duration": 10,
    "start_time": "2022-06-23T08:51:52.880Z"
   },
   {
    "duration": 11,
    "start_time": "2022-06-23T08:52:58.703Z"
   },
   {
    "duration": 9,
    "start_time": "2022-06-23T08:55:33.874Z"
   },
   {
    "duration": 3,
    "start_time": "2022-06-23T09:02:19.714Z"
   },
   {
    "duration": 7,
    "start_time": "2022-06-23T09:04:33.169Z"
   },
   {
    "duration": 7,
    "start_time": "2022-06-23T09:05:13.639Z"
   },
   {
    "duration": 8,
    "start_time": "2022-06-23T09:12:40.933Z"
   },
   {
    "duration": 1031,
    "start_time": "2022-06-23T09:39:43.985Z"
   },
   {
    "duration": 133,
    "start_time": "2022-06-23T09:39:45.018Z"
   },
   {
    "duration": 113,
    "start_time": "2022-06-23T09:39:45.152Z"
   },
   {
    "duration": 118,
    "start_time": "2022-06-23T09:39:45.270Z"
   },
   {
    "duration": 17,
    "start_time": "2022-06-23T09:39:45.391Z"
   },
   {
    "duration": 14,
    "start_time": "2022-06-23T09:39:45.409Z"
   },
   {
    "duration": 11,
    "start_time": "2022-06-23T09:39:45.424Z"
   },
   {
    "duration": 37,
    "start_time": "2022-06-23T09:39:45.436Z"
   },
   {
    "duration": 12,
    "start_time": "2022-06-23T09:39:45.475Z"
   },
   {
    "duration": 15,
    "start_time": "2022-06-23T09:39:45.488Z"
   },
   {
    "duration": 68,
    "start_time": "2022-06-23T09:39:45.505Z"
   },
   {
    "duration": 39,
    "start_time": "2022-06-23T09:39:45.575Z"
   },
   {
    "duration": 59,
    "start_time": "2022-06-23T09:39:45.615Z"
   },
   {
    "duration": 15,
    "start_time": "2022-06-23T09:39:45.677Z"
   },
   {
    "duration": 12,
    "start_time": "2022-06-23T09:39:45.694Z"
   },
   {
    "duration": 11,
    "start_time": "2022-06-23T09:39:45.707Z"
   },
   {
    "duration": 43,
    "start_time": "2022-06-23T09:39:45.719Z"
   },
   {
    "duration": 12,
    "start_time": "2022-06-23T09:39:45.764Z"
   },
   {
    "duration": 17,
    "start_time": "2022-06-23T09:39:45.778Z"
   },
   {
    "duration": 20,
    "start_time": "2022-06-23T09:39:45.797Z"
   },
   {
    "duration": 11,
    "start_time": "2022-06-23T09:39:45.819Z"
   },
   {
    "duration": 40,
    "start_time": "2022-06-23T09:39:45.832Z"
   },
   {
    "duration": 17,
    "start_time": "2022-06-23T09:39:45.874Z"
   },
   {
    "duration": 27,
    "start_time": "2022-06-23T09:39:45.893Z"
   },
   {
    "duration": 21,
    "start_time": "2022-06-23T09:39:45.921Z"
   },
   {
    "duration": 29,
    "start_time": "2022-06-23T09:39:45.944Z"
   },
   {
    "duration": 28,
    "start_time": "2022-06-23T09:39:45.974Z"
   },
   {
    "duration": 10,
    "start_time": "2022-06-23T09:39:46.004Z"
   },
   {
    "duration": 31,
    "start_time": "2022-06-23T09:39:46.015Z"
   },
   {
    "duration": 20,
    "start_time": "2022-06-23T09:39:46.047Z"
   },
   {
    "duration": 29,
    "start_time": "2022-06-23T09:39:46.069Z"
   },
   {
    "duration": 22,
    "start_time": "2022-06-23T09:39:46.100Z"
   },
   {
    "duration": 29,
    "start_time": "2022-06-23T09:39:46.124Z"
   },
   {
    "duration": 29,
    "start_time": "2022-06-23T09:39:46.155Z"
   },
   {
    "duration": 46,
    "start_time": "2022-06-23T09:39:46.185Z"
   },
   {
    "duration": 10,
    "start_time": "2022-06-23T09:39:46.233Z"
   },
   {
    "duration": 10,
    "start_time": "2022-06-23T09:39:46.245Z"
   },
   {
    "duration": 19,
    "start_time": "2022-06-23T09:39:46.256Z"
   },
   {
    "duration": 8,
    "start_time": "2022-06-23T09:41:00.319Z"
   },
   {
    "duration": 10,
    "start_time": "2022-06-23T09:42:25.805Z"
   },
   {
    "duration": 9,
    "start_time": "2022-06-23T09:43:52.687Z"
   },
   {
    "duration": 1046,
    "start_time": "2022-06-23T23:16:46.377Z"
   },
   {
    "duration": 438,
    "start_time": "2022-06-23T23:16:47.426Z"
   },
   {
    "duration": 217,
    "start_time": "2022-06-23T23:16:47.866Z"
   },
   {
    "duration": 214,
    "start_time": "2022-06-23T23:16:48.085Z"
   },
   {
    "duration": 20,
    "start_time": "2022-06-23T23:16:48.303Z"
   },
   {
    "duration": 22,
    "start_time": "2022-06-23T23:16:48.324Z"
   },
   {
    "duration": 12,
    "start_time": "2022-06-23T23:16:48.348Z"
   },
   {
    "duration": 19,
    "start_time": "2022-06-23T23:16:48.361Z"
   },
   {
    "duration": 16,
    "start_time": "2022-06-23T23:16:48.381Z"
   },
   {
    "duration": 48,
    "start_time": "2022-06-23T23:16:48.398Z"
   },
   {
    "duration": 49,
    "start_time": "2022-06-23T23:16:48.448Z"
   },
   {
    "duration": 72,
    "start_time": "2022-06-23T23:16:48.498Z"
   },
   {
    "duration": 44,
    "start_time": "2022-06-23T23:16:48.571Z"
   },
   {
    "duration": 30,
    "start_time": "2022-06-23T23:16:48.618Z"
   },
   {
    "duration": 15,
    "start_time": "2022-06-23T23:16:48.650Z"
   },
   {
    "duration": 13,
    "start_time": "2022-06-23T23:16:48.667Z"
   },
   {
    "duration": 19,
    "start_time": "2022-06-23T23:16:48.682Z"
   },
   {
    "duration": 34,
    "start_time": "2022-06-23T23:16:48.703Z"
   },
   {
    "duration": 28,
    "start_time": "2022-06-23T23:16:48.740Z"
   },
   {
    "duration": 26,
    "start_time": "2022-06-23T23:16:48.771Z"
   },
   {
    "duration": 11,
    "start_time": "2022-06-23T23:16:48.799Z"
   },
   {
    "duration": 18,
    "start_time": "2022-06-23T23:16:48.828Z"
   },
   {
    "duration": 9,
    "start_time": "2022-06-23T23:16:48.847Z"
   },
   {
    "duration": 10,
    "start_time": "2022-06-23T23:16:48.858Z"
   },
   {
    "duration": 7,
    "start_time": "2022-06-23T23:16:48.870Z"
   },
   {
    "duration": 7,
    "start_time": "2022-06-23T23:16:48.878Z"
   },
   {
    "duration": 7,
    "start_time": "2022-06-23T23:16:48.887Z"
   },
   {
    "duration": 8,
    "start_time": "2022-06-23T23:16:48.896Z"
   },
   {
    "duration": 14,
    "start_time": "2022-06-23T23:16:48.905Z"
   },
   {
    "duration": 10,
    "start_time": "2022-06-23T23:16:48.933Z"
   },
   {
    "duration": 18,
    "start_time": "2022-06-23T23:16:48.945Z"
   },
   {
    "duration": 5,
    "start_time": "2022-06-23T23:16:48.965Z"
   },
   {
    "duration": 23,
    "start_time": "2022-06-23T23:16:48.971Z"
   },
   {
    "duration": 5,
    "start_time": "2022-06-23T23:16:48.995Z"
   },
   {
    "duration": 15,
    "start_time": "2022-06-23T23:16:49.002Z"
   },
   {
    "duration": 22,
    "start_time": "2022-06-23T23:16:49.040Z"
   },
   {
    "duration": 11,
    "start_time": "2022-06-23T23:16:49.065Z"
   },
   {
    "duration": 72,
    "start_time": "2022-06-23T23:16:49.078Z"
   },
   {
    "duration": 89,
    "start_time": "2022-06-23T23:16:49.152Z"
   },
   {
    "duration": 201,
    "start_time": "2022-06-23T23:16:49.243Z"
   },
   {
    "duration": 100,
    "start_time": "2022-06-23T23:40:38.857Z"
   },
   {
    "duration": 3,
    "start_time": "2022-06-23T23:40:47.158Z"
   },
   {
    "duration": 3,
    "start_time": "2022-06-23T23:40:50.697Z"
   },
   {
    "duration": 4,
    "start_time": "2022-06-23T23:46:57.186Z"
   },
   {
    "duration": 4,
    "start_time": "2022-06-23T23:49:37.965Z"
   },
   {
    "duration": 5,
    "start_time": "2022-06-23T23:57:07.069Z"
   },
   {
    "duration": 4,
    "start_time": "2022-06-23T23:59:54.129Z"
   },
   {
    "duration": 4,
    "start_time": "2022-06-24T00:00:33.459Z"
   },
   {
    "duration": 1105,
    "start_time": "2022-06-24T07:18:36.744Z"
   },
   {
    "duration": 551,
    "start_time": "2022-06-24T07:18:37.852Z"
   },
   {
    "duration": 210,
    "start_time": "2022-06-24T07:18:38.405Z"
   },
   {
    "duration": 200,
    "start_time": "2022-06-24T07:18:38.617Z"
   },
   {
    "duration": 19,
    "start_time": "2022-06-24T07:18:38.818Z"
   },
   {
    "duration": 56,
    "start_time": "2022-06-24T07:18:38.839Z"
   },
   {
    "duration": 30,
    "start_time": "2022-06-24T07:18:38.896Z"
   },
   {
    "duration": 49,
    "start_time": "2022-06-24T07:18:38.927Z"
   },
   {
    "duration": 23,
    "start_time": "2022-06-24T07:18:38.978Z"
   },
   {
    "duration": 34,
    "start_time": "2022-06-24T07:18:39.004Z"
   },
   {
    "duration": 53,
    "start_time": "2022-06-24T07:18:39.040Z"
   },
   {
    "duration": 40,
    "start_time": "2022-06-24T07:18:39.094Z"
   },
   {
    "duration": 66,
    "start_time": "2022-06-24T07:18:39.136Z"
   },
   {
    "duration": 15,
    "start_time": "2022-06-24T07:18:39.204Z"
   },
   {
    "duration": 18,
    "start_time": "2022-06-24T07:18:39.220Z"
   },
   {
    "duration": 43,
    "start_time": "2022-06-24T07:18:39.239Z"
   },
   {
    "duration": 46,
    "start_time": "2022-06-24T07:18:39.284Z"
   },
   {
    "duration": 47,
    "start_time": "2022-06-24T07:18:39.331Z"
   },
   {
    "duration": 36,
    "start_time": "2022-06-24T07:18:39.380Z"
   },
   {
    "duration": 49,
    "start_time": "2022-06-24T07:18:39.418Z"
   },
   {
    "duration": 31,
    "start_time": "2022-06-24T07:18:39.469Z"
   },
   {
    "duration": 32,
    "start_time": "2022-06-24T07:18:39.502Z"
   },
   {
    "duration": 49,
    "start_time": "2022-06-24T07:18:39.536Z"
   },
   {
    "duration": 26,
    "start_time": "2022-06-24T07:18:39.587Z"
   },
   {
    "duration": 23,
    "start_time": "2022-06-24T07:18:39.615Z"
   },
   {
    "duration": 45,
    "start_time": "2022-06-24T07:18:39.640Z"
   },
   {
    "duration": 24,
    "start_time": "2022-06-24T07:18:39.687Z"
   },
   {
    "duration": 15,
    "start_time": "2022-06-24T07:18:39.715Z"
   },
   {
    "duration": 29,
    "start_time": "2022-06-24T07:18:39.733Z"
   },
   {
    "duration": 22,
    "start_time": "2022-06-24T07:18:39.764Z"
   },
   {
    "duration": 30,
    "start_time": "2022-06-24T07:18:39.788Z"
   },
   {
    "duration": 6,
    "start_time": "2022-06-24T07:18:39.820Z"
   },
   {
    "duration": 30,
    "start_time": "2022-06-24T07:18:39.828Z"
   },
   {
    "duration": 35,
    "start_time": "2022-06-24T07:18:39.860Z"
   },
   {
    "duration": 26,
    "start_time": "2022-06-24T07:18:39.897Z"
   },
   {
    "duration": 28,
    "start_time": "2022-06-24T07:18:39.924Z"
   },
   {
    "duration": 39,
    "start_time": "2022-06-24T07:18:39.954Z"
   },
   {
    "duration": 14,
    "start_time": "2022-06-24T07:18:39.995Z"
   },
   {
    "duration": 173,
    "start_time": "2022-06-24T07:18:40.011Z"
   },
   {
    "duration": 198,
    "start_time": "2022-06-24T07:18:40.186Z"
   },
   {
    "duration": 190,
    "start_time": "2022-06-24T07:18:40.387Z"
   },
   {
    "duration": 53,
    "start_time": "2022-06-24T07:18:40.578Z"
   },
   {
    "duration": 70,
    "start_time": "2022-06-24T07:18:40.633Z"
   },
   {
    "duration": 45,
    "start_time": "2022-06-24T07:18:40.706Z"
   },
   {
    "duration": 50,
    "start_time": "2022-06-24T07:18:40.753Z"
   },
   {
    "duration": 11,
    "start_time": "2022-06-24T07:39:14.413Z"
   },
   {
    "duration": 66,
    "start_time": "2022-06-24T07:39:33.163Z"
   },
   {
    "duration": 10,
    "start_time": "2022-06-24T07:39:36.650Z"
   },
   {
    "duration": 10,
    "start_time": "2022-06-24T07:39:43.803Z"
   },
   {
    "duration": 12,
    "start_time": "2022-06-24T07:39:51.183Z"
   },
   {
    "duration": 15,
    "start_time": "2022-06-24T07:40:06.382Z"
   },
   {
    "duration": 9,
    "start_time": "2022-06-24T07:41:02.022Z"
   },
   {
    "duration": 195,
    "start_time": "2022-06-24T07:41:14.423Z"
   },
   {
    "duration": 9,
    "start_time": "2022-06-24T07:41:20.241Z"
   },
   {
    "duration": 6,
    "start_time": "2022-06-24T07:42:07.081Z"
   },
   {
    "duration": 6,
    "start_time": "2022-06-24T07:42:42.002Z"
   },
   {
    "duration": 7,
    "start_time": "2022-06-24T07:43:07.822Z"
   },
   {
    "duration": 9,
    "start_time": "2022-06-24T07:43:51.182Z"
   },
   {
    "duration": 6,
    "start_time": "2022-06-24T07:43:56.682Z"
   },
   {
    "duration": 4,
    "start_time": "2022-06-24T07:44:05.682Z"
   },
   {
    "duration": 47,
    "start_time": "2022-06-24T07:49:07.069Z"
   },
   {
    "duration": 4,
    "start_time": "2022-06-24T07:49:20.282Z"
   },
   {
    "duration": 9,
    "start_time": "2022-06-24T07:49:43.968Z"
   },
   {
    "duration": 5,
    "start_time": "2022-06-24T07:49:50.941Z"
   },
   {
    "duration": 5,
    "start_time": "2022-06-24T07:50:17.602Z"
   },
   {
    "duration": 5,
    "start_time": "2022-06-24T07:51:13.013Z"
   },
   {
    "duration": 6,
    "start_time": "2022-06-24T07:51:32.354Z"
   },
   {
    "duration": 4,
    "start_time": "2022-06-24T07:52:04.533Z"
   },
   {
    "duration": 4,
    "start_time": "2022-06-24T07:52:28.841Z"
   },
   {
    "duration": 4,
    "start_time": "2022-06-24T07:54:07.219Z"
   },
   {
    "duration": 9,
    "start_time": "2022-06-24T07:54:15.813Z"
   },
   {
    "duration": 14,
    "start_time": "2022-06-24T07:56:18.678Z"
   },
   {
    "duration": 3,
    "start_time": "2022-06-24T07:56:29.388Z"
   },
   {
    "duration": 5,
    "start_time": "2022-06-24T07:57:04.614Z"
   },
   {
    "duration": 7,
    "start_time": "2022-06-24T07:57:24.191Z"
   },
   {
    "duration": 4,
    "start_time": "2022-06-24T07:58:10.865Z"
   },
   {
    "duration": 6,
    "start_time": "2022-06-24T07:58:31.059Z"
   },
   {
    "duration": 3,
    "start_time": "2022-06-24T07:58:37.514Z"
   },
   {
    "duration": 5,
    "start_time": "2022-06-24T07:59:02.165Z"
   },
   {
    "duration": 3,
    "start_time": "2022-06-24T07:59:26.022Z"
   },
   {
    "duration": 5,
    "start_time": "2022-06-24T07:59:43.141Z"
   },
   {
    "duration": 5,
    "start_time": "2022-06-24T08:14:16.010Z"
   },
   {
    "duration": 13,
    "start_time": "2022-06-24T08:23:21.821Z"
   },
   {
    "duration": 4,
    "start_time": "2022-06-24T08:25:11.982Z"
   },
   {
    "duration": 4,
    "start_time": "2022-06-24T08:25:13.854Z"
   },
   {
    "duration": 4,
    "start_time": "2022-06-24T08:26:32.642Z"
   },
   {
    "duration": 4,
    "start_time": "2022-06-24T08:26:35.901Z"
   },
   {
    "duration": 5,
    "start_time": "2022-06-24T08:27:05.974Z"
   },
   {
    "duration": 3,
    "start_time": "2022-06-24T08:29:15.035Z"
   },
   {
    "duration": 4,
    "start_time": "2022-06-24T08:29:42.553Z"
   },
   {
    "duration": 1064,
    "start_time": "2022-06-24T23:06:15.452Z"
   },
   {
    "duration": 424,
    "start_time": "2022-06-24T23:06:16.518Z"
   },
   {
    "duration": 206,
    "start_time": "2022-06-24T23:06:16.944Z"
   },
   {
    "duration": 199,
    "start_time": "2022-06-24T23:06:17.152Z"
   },
   {
    "duration": 17,
    "start_time": "2022-06-24T23:06:17.354Z"
   },
   {
    "duration": 14,
    "start_time": "2022-06-24T23:06:17.373Z"
   },
   {
    "duration": 11,
    "start_time": "2022-06-24T23:06:17.388Z"
   },
   {
    "duration": 26,
    "start_time": "2022-06-24T23:06:17.401Z"
   },
   {
    "duration": 10,
    "start_time": "2022-06-24T23:06:17.429Z"
   },
   {
    "duration": 12,
    "start_time": "2022-06-24T23:06:17.442Z"
   },
   {
    "duration": 47,
    "start_time": "2022-06-24T23:06:17.456Z"
   },
   {
    "duration": 44,
    "start_time": "2022-06-24T23:06:17.526Z"
   },
   {
    "duration": 61,
    "start_time": "2022-06-24T23:06:17.572Z"
   },
   {
    "duration": 17,
    "start_time": "2022-06-24T23:06:17.635Z"
   },
   {
    "duration": 12,
    "start_time": "2022-06-24T23:06:17.654Z"
   },
   {
    "duration": 13,
    "start_time": "2022-06-24T23:06:17.667Z"
   },
   {
    "duration": 22,
    "start_time": "2022-06-24T23:06:17.681Z"
   },
   {
    "duration": 13,
    "start_time": "2022-06-24T23:06:17.725Z"
   },
   {
    "duration": 11,
    "start_time": "2022-06-24T23:06:17.739Z"
   },
   {
    "duration": 20,
    "start_time": "2022-06-24T23:06:17.752Z"
   },
   {
    "duration": 12,
    "start_time": "2022-06-24T23:06:17.773Z"
   },
   {
    "duration": 12,
    "start_time": "2022-06-24T23:06:17.786Z"
   },
   {
    "duration": 5,
    "start_time": "2022-06-24T23:06:17.826Z"
   },
   {
    "duration": 6,
    "start_time": "2022-06-24T23:06:17.833Z"
   },
   {
    "duration": 10,
    "start_time": "2022-06-24T23:06:17.840Z"
   },
   {
    "duration": 11,
    "start_time": "2022-06-24T23:06:17.851Z"
   },
   {
    "duration": 14,
    "start_time": "2022-06-24T23:06:17.863Z"
   },
   {
    "duration": 8,
    "start_time": "2022-06-24T23:06:17.881Z"
   },
   {
    "duration": 14,
    "start_time": "2022-06-24T23:06:17.890Z"
   },
   {
    "duration": 4,
    "start_time": "2022-06-24T23:06:17.906Z"
   },
   {
    "duration": 17,
    "start_time": "2022-06-24T23:06:17.911Z"
   },
   {
    "duration": 4,
    "start_time": "2022-06-24T23:06:17.930Z"
   },
   {
    "duration": 14,
    "start_time": "2022-06-24T23:06:17.936Z"
   },
   {
    "duration": 6,
    "start_time": "2022-06-24T23:06:17.952Z"
   },
   {
    "duration": 16,
    "start_time": "2022-06-24T23:06:17.960Z"
   },
   {
    "duration": 11,
    "start_time": "2022-06-24T23:06:17.978Z"
   },
   {
    "duration": 10,
    "start_time": "2022-06-24T23:06:17.991Z"
   },
   {
    "duration": 14,
    "start_time": "2022-06-24T23:06:18.026Z"
   },
   {
    "duration": 103,
    "start_time": "2022-06-24T23:06:18.128Z"
   },
   {
    "duration": 103,
    "start_time": "2022-06-24T23:06:18.233Z"
   },
   {
    "duration": 99,
    "start_time": "2022-06-24T23:06:18.342Z"
   },
   {
    "duration": 6,
    "start_time": "2022-06-24T23:06:18.526Z"
   },
   {
    "duration": 7,
    "start_time": "2022-06-24T23:06:18.534Z"
   },
   {
    "duration": 5,
    "start_time": "2022-06-24T23:06:18.543Z"
   },
   {
    "duration": 12,
    "start_time": "2022-06-24T23:06:18.550Z"
   },
   {
    "duration": 6,
    "start_time": "2022-06-24T23:06:18.564Z"
   },
   {
    "duration": 19,
    "start_time": "2022-06-24T23:06:18.571Z"
   },
   {
    "duration": 5,
    "start_time": "2022-06-24T23:06:18.591Z"
   },
   {
    "duration": 8,
    "start_time": "2022-06-24T23:06:18.598Z"
   },
   {
    "duration": 8,
    "start_time": "2022-06-24T23:06:18.607Z"
   },
   {
    "duration": 12,
    "start_time": "2022-06-24T23:06:18.616Z"
   },
   {
    "duration": 9,
    "start_time": "2022-06-24T23:06:18.629Z"
   },
   {
    "duration": 8,
    "start_time": "2022-06-24T23:06:18.640Z"
   },
   {
    "duration": 16,
    "start_time": "2022-06-24T23:06:18.649Z"
   },
   {
    "duration": 24,
    "start_time": "2022-06-24T23:06:18.667Z"
   },
   {
    "duration": 12,
    "start_time": "2022-06-24T23:06:18.693Z"
   },
   {
    "duration": 6,
    "start_time": "2022-06-24T23:06:18.707Z"
   },
   {
    "duration": 6,
    "start_time": "2022-06-24T23:06:18.714Z"
   },
   {
    "duration": 37,
    "start_time": "2022-06-24T23:06:18.722Z"
   },
   {
    "duration": 14,
    "start_time": "2022-06-24T23:06:18.760Z"
   },
   {
    "duration": 8,
    "start_time": "2022-06-24T23:06:18.776Z"
   },
   {
    "duration": 3,
    "start_time": "2022-06-24T23:28:24.677Z"
   },
   {
    "duration": 3,
    "start_time": "2022-06-24T23:30:23.506Z"
   },
   {
    "duration": 5,
    "start_time": "2022-06-25T00:03:24.489Z"
   },
   {
    "duration": 5,
    "start_time": "2022-06-25T00:06:18.163Z"
   },
   {
    "duration": 304,
    "start_time": "2022-06-25T00:06:53.874Z"
   },
   {
    "duration": 5868,
    "start_time": "2022-06-25T00:08:46.094Z"
   },
   {
    "duration": 299,
    "start_time": "2022-06-25T00:10:10.822Z"
   },
   {
    "duration": 290,
    "start_time": "2022-06-25T00:10:44.990Z"
   },
   {
    "duration": 5972,
    "start_time": "2022-06-25T00:11:09.678Z"
   },
   {
    "duration": 6020,
    "start_time": "2022-06-25T00:11:40.406Z"
   },
   {
    "duration": 4,
    "start_time": "2022-06-25T00:17:20.963Z"
   },
   {
    "duration": 1052,
    "start_time": "2022-06-25T00:17:27.452Z"
   },
   {
    "duration": 142,
    "start_time": "2022-06-25T00:17:28.506Z"
   },
   {
    "duration": 117,
    "start_time": "2022-06-25T00:17:28.650Z"
   },
   {
    "duration": 119,
    "start_time": "2022-06-25T00:17:28.769Z"
   },
   {
    "duration": 19,
    "start_time": "2022-06-25T00:17:28.890Z"
   },
   {
    "duration": 20,
    "start_time": "2022-06-25T00:17:28.911Z"
   },
   {
    "duration": 11,
    "start_time": "2022-06-25T00:17:28.932Z"
   },
   {
    "duration": 14,
    "start_time": "2022-06-25T00:17:28.945Z"
   },
   {
    "duration": 11,
    "start_time": "2022-06-25T00:17:28.961Z"
   },
   {
    "duration": 15,
    "start_time": "2022-06-25T00:17:28.974Z"
   },
   {
    "duration": 71,
    "start_time": "2022-06-25T00:17:28.990Z"
   },
   {
    "duration": 41,
    "start_time": "2022-06-25T00:17:29.063Z"
   },
   {
    "duration": 63,
    "start_time": "2022-06-25T00:17:29.106Z"
   },
   {
    "duration": 15,
    "start_time": "2022-06-25T00:17:29.172Z"
   },
   {
    "duration": 11,
    "start_time": "2022-06-25T00:17:29.189Z"
   },
   {
    "duration": 30,
    "start_time": "2022-06-25T00:17:29.201Z"
   },
   {
    "duration": 19,
    "start_time": "2022-06-25T00:17:29.233Z"
   },
   {
    "duration": 11,
    "start_time": "2022-06-25T00:17:29.254Z"
   },
   {
    "duration": 12,
    "start_time": "2022-06-25T00:17:29.266Z"
   },
   {
    "duration": 20,
    "start_time": "2022-06-25T00:17:29.279Z"
   },
   {
    "duration": 33,
    "start_time": "2022-06-25T00:17:29.300Z"
   },
   {
    "duration": 11,
    "start_time": "2022-06-25T00:17:29.335Z"
   },
   {
    "duration": 6,
    "start_time": "2022-06-25T00:17:29.348Z"
   },
   {
    "duration": 6,
    "start_time": "2022-06-25T00:17:29.355Z"
   },
   {
    "duration": 8,
    "start_time": "2022-06-25T00:17:29.362Z"
   },
   {
    "duration": 6,
    "start_time": "2022-06-25T00:17:29.371Z"
   },
   {
    "duration": 8,
    "start_time": "2022-06-25T00:17:29.378Z"
   },
   {
    "duration": 6,
    "start_time": "2022-06-25T00:17:29.387Z"
   },
   {
    "duration": 13,
    "start_time": "2022-06-25T00:17:29.395Z"
   },
   {
    "duration": 18,
    "start_time": "2022-06-25T00:17:29.409Z"
   },
   {
    "duration": 10,
    "start_time": "2022-06-25T00:17:29.429Z"
   },
   {
    "duration": 4,
    "start_time": "2022-06-25T00:17:29.441Z"
   },
   {
    "duration": 10,
    "start_time": "2022-06-25T00:17:29.446Z"
   },
   {
    "duration": 5,
    "start_time": "2022-06-25T00:17:29.457Z"
   },
   {
    "duration": 15,
    "start_time": "2022-06-25T00:17:29.463Z"
   },
   {
    "duration": 11,
    "start_time": "2022-06-25T00:17:29.479Z"
   },
   {
    "duration": 12,
    "start_time": "2022-06-25T00:17:29.526Z"
   },
   {
    "duration": 23,
    "start_time": "2022-06-25T00:17:29.539Z"
   },
   {
    "duration": 112,
    "start_time": "2022-06-25T00:17:29.626Z"
   },
   {
    "duration": 94,
    "start_time": "2022-06-25T00:17:29.740Z"
   },
   {
    "duration": 188,
    "start_time": "2022-06-25T00:17:29.838Z"
   },
   {
    "duration": 11,
    "start_time": "2022-06-25T00:17:30.028Z"
   },
   {
    "duration": 29,
    "start_time": "2022-06-25T00:17:30.041Z"
   },
   {
    "duration": 5,
    "start_time": "2022-06-25T00:17:30.073Z"
   },
   {
    "duration": 12,
    "start_time": "2022-06-25T00:17:30.079Z"
   },
   {
    "duration": 23,
    "start_time": "2022-06-25T00:17:30.092Z"
   },
   {
    "duration": 8,
    "start_time": "2022-06-25T00:17:30.117Z"
   },
   {
    "duration": 9,
    "start_time": "2022-06-25T00:17:30.127Z"
   },
   {
    "duration": 10,
    "start_time": "2022-06-25T00:17:30.137Z"
   },
   {
    "duration": 30,
    "start_time": "2022-06-25T00:17:30.149Z"
   },
   {
    "duration": 9,
    "start_time": "2022-06-25T00:17:30.181Z"
   },
   {
    "duration": 18,
    "start_time": "2022-06-25T00:17:30.191Z"
   },
   {
    "duration": 18,
    "start_time": "2022-06-25T00:17:30.210Z"
   },
   {
    "duration": 40,
    "start_time": "2022-06-25T00:17:30.230Z"
   },
   {
    "duration": 10,
    "start_time": "2022-06-25T00:17:30.272Z"
   },
   {
    "duration": 9,
    "start_time": "2022-06-25T00:17:30.284Z"
   },
   {
    "duration": 7,
    "start_time": "2022-06-25T00:17:30.294Z"
   },
   {
    "duration": 6,
    "start_time": "2022-06-25T00:17:30.303Z"
   },
   {
    "duration": 10,
    "start_time": "2022-06-25T00:17:30.310Z"
   },
   {
    "duration": 7,
    "start_time": "2022-06-25T00:17:30.322Z"
   },
   {
    "duration": 8,
    "start_time": "2022-06-25T00:17:30.331Z"
   },
   {
    "duration": 11,
    "start_time": "2022-06-25T00:17:30.340Z"
   },
   {
    "duration": 6316,
    "start_time": "2022-06-25T00:17:30.353Z"
   },
   {
    "duration": 5858,
    "start_time": "2022-06-25T00:17:36.671Z"
   },
   {
    "duration": 5949,
    "start_time": "2022-06-25T00:17:42.531Z"
   },
   {
    "duration": 94,
    "start_time": "2022-06-25T00:19:36.690Z"
   },
   {
    "duration": 302,
    "start_time": "2022-06-25T00:20:13.618Z"
   },
   {
    "duration": 315,
    "start_time": "2022-06-25T00:20:37.750Z"
   },
   {
    "duration": 5,
    "start_time": "2022-06-25T00:21:15.857Z"
   },
   {
    "duration": 367,
    "start_time": "2022-06-25T00:21:19.122Z"
   },
   {
    "duration": 5,
    "start_time": "2022-06-25T00:22:23.062Z"
   },
   {
    "duration": 281,
    "start_time": "2022-06-25T00:22:25.771Z"
   },
   {
    "duration": 5893,
    "start_time": "2022-06-25T00:23:18.947Z"
   },
   {
    "duration": 12,
    "start_time": "2022-06-25T00:23:50.915Z"
   },
   {
    "duration": 8,
    "start_time": "2022-06-25T00:24:12.701Z"
   },
   {
    "duration": 4,
    "start_time": "2022-06-25T00:24:44.973Z"
   },
   {
    "duration": 5,
    "start_time": "2022-06-25T00:28:35.351Z"
   },
   {
    "duration": 307,
    "start_time": "2022-06-25T00:28:51.026Z"
   },
   {
    "duration": 5,
    "start_time": "2022-06-25T00:29:58.635Z"
   },
   {
    "duration": 282,
    "start_time": "2022-06-25T00:30:08.117Z"
   },
   {
    "duration": 4,
    "start_time": "2022-06-25T00:31:01.221Z"
   },
   {
    "duration": 342,
    "start_time": "2022-06-25T00:31:04.787Z"
   },
   {
    "duration": 4,
    "start_time": "2022-06-25T00:31:25.283Z"
   },
   {
    "duration": 297,
    "start_time": "2022-06-25T00:31:28.258Z"
   },
   {
    "duration": 256,
    "start_time": "2022-06-25T00:31:37.862Z"
   },
   {
    "duration": 303,
    "start_time": "2022-06-25T00:31:49.403Z"
   },
   {
    "duration": 6,
    "start_time": "2022-06-25T00:32:04.122Z"
   },
   {
    "duration": 6136,
    "start_time": "2022-06-25T00:34:48.717Z"
   },
   {
    "duration": 6,
    "start_time": "2022-06-25T00:35:14.682Z"
   },
   {
    "duration": 5,
    "start_time": "2022-06-25T00:35:20.502Z"
   },
   {
    "duration": 5,
    "start_time": "2022-06-25T00:36:04.122Z"
   },
   {
    "duration": 5906,
    "start_time": "2022-06-25T00:36:08.076Z"
   },
   {
    "duration": 287,
    "start_time": "2022-06-25T00:36:21.522Z"
   },
   {
    "duration": 263,
    "start_time": "2022-06-25T00:36:26.717Z"
   },
   {
    "duration": 20,
    "start_time": "2022-06-25T00:36:42.948Z"
   },
   {
    "duration": 5790,
    "start_time": "2022-06-25T00:36:53.828Z"
   },
   {
    "duration": 5890,
    "start_time": "2022-06-25T00:37:16.605Z"
   },
   {
    "duration": 1697,
    "start_time": "2022-06-25T10:39:19.578Z"
   },
   {
    "duration": 326,
    "start_time": "2022-06-25T10:39:21.277Z"
   },
   {
    "duration": 180,
    "start_time": "2022-06-25T10:39:21.605Z"
   },
   {
    "duration": 173,
    "start_time": "2022-06-25T10:39:21.787Z"
   },
   {
    "duration": 19,
    "start_time": "2022-06-25T10:39:21.961Z"
   },
   {
    "duration": 13,
    "start_time": "2022-06-25T10:39:21.982Z"
   },
   {
    "duration": 12,
    "start_time": "2022-06-25T10:39:21.997Z"
   },
   {
    "duration": 17,
    "start_time": "2022-06-25T10:39:22.011Z"
   },
   {
    "duration": 29,
    "start_time": "2022-06-25T10:39:22.029Z"
   },
   {
    "duration": 12,
    "start_time": "2022-06-25T10:39:22.061Z"
   },
   {
    "duration": 41,
    "start_time": "2022-06-25T10:39:22.074Z"
   },
   {
    "duration": 63,
    "start_time": "2022-06-25T10:39:22.117Z"
   },
   {
    "duration": 42,
    "start_time": "2022-06-25T10:39:22.182Z"
   },
   {
    "duration": 32,
    "start_time": "2022-06-25T10:39:22.225Z"
   },
   {
    "duration": 12,
    "start_time": "2022-06-25T10:39:22.259Z"
   },
   {
    "duration": 12,
    "start_time": "2022-06-25T10:39:22.273Z"
   },
   {
    "duration": 17,
    "start_time": "2022-06-25T10:39:22.287Z"
   },
   {
    "duration": 11,
    "start_time": "2022-06-25T10:39:22.306Z"
   },
   {
    "duration": 38,
    "start_time": "2022-06-25T10:39:22.318Z"
   },
   {
    "duration": 18,
    "start_time": "2022-06-25T10:39:22.358Z"
   },
   {
    "duration": 11,
    "start_time": "2022-06-25T10:39:22.377Z"
   },
   {
    "duration": 16,
    "start_time": "2022-06-25T10:39:22.390Z"
   },
   {
    "duration": 6,
    "start_time": "2022-06-25T10:39:22.408Z"
   },
   {
    "duration": 5,
    "start_time": "2022-06-25T10:39:22.416Z"
   },
   {
    "duration": 6,
    "start_time": "2022-06-25T10:39:22.423Z"
   },
   {
    "duration": 21,
    "start_time": "2022-06-25T10:39:22.431Z"
   },
   {
    "duration": 8,
    "start_time": "2022-06-25T10:39:22.453Z"
   },
   {
    "duration": 4,
    "start_time": "2022-06-25T10:39:22.465Z"
   },
   {
    "duration": 13,
    "start_time": "2022-06-25T10:39:22.470Z"
   },
   {
    "duration": 5,
    "start_time": "2022-06-25T10:39:22.485Z"
   },
   {
    "duration": 12,
    "start_time": "2022-06-25T10:39:22.492Z"
   },
   {
    "duration": 7,
    "start_time": "2022-06-25T10:39:22.506Z"
   },
   {
    "duration": 12,
    "start_time": "2022-06-25T10:39:22.514Z"
   },
   {
    "duration": 6,
    "start_time": "2022-06-25T10:39:22.553Z"
   },
   {
    "duration": 19,
    "start_time": "2022-06-25T10:39:22.561Z"
   },
   {
    "duration": 24,
    "start_time": "2022-06-25T10:39:22.582Z"
   },
   {
    "duration": 10,
    "start_time": "2022-06-25T10:39:22.608Z"
   },
   {
    "duration": 42,
    "start_time": "2022-06-25T10:39:22.619Z"
   },
   {
    "duration": 116,
    "start_time": "2022-06-25T10:39:22.663Z"
   },
   {
    "duration": 189,
    "start_time": "2022-06-25T10:39:22.780Z"
   },
   {
    "duration": 182,
    "start_time": "2022-06-25T10:39:22.970Z"
   },
   {
    "duration": 6,
    "start_time": "2022-06-25T10:39:23.155Z"
   },
   {
    "duration": 12,
    "start_time": "2022-06-25T10:39:23.162Z"
   },
   {
    "duration": 9,
    "start_time": "2022-06-25T10:39:23.176Z"
   },
   {
    "duration": 6,
    "start_time": "2022-06-25T10:39:23.186Z"
   },
   {
    "duration": 10,
    "start_time": "2022-06-25T10:39:23.193Z"
   },
   {
    "duration": 6,
    "start_time": "2022-06-25T10:39:23.204Z"
   },
   {
    "duration": 11,
    "start_time": "2022-06-25T10:39:23.212Z"
   },
   {
    "duration": 6,
    "start_time": "2022-06-25T10:39:23.225Z"
   },
   {
    "duration": 20,
    "start_time": "2022-06-25T10:39:23.232Z"
   },
   {
    "duration": 3,
    "start_time": "2022-06-25T10:39:23.253Z"
   },
   {
    "duration": 6,
    "start_time": "2022-06-25T10:39:23.258Z"
   },
   {
    "duration": 8,
    "start_time": "2022-06-25T10:39:23.266Z"
   },
   {
    "duration": 7,
    "start_time": "2022-06-25T10:39:23.275Z"
   },
   {
    "duration": 5,
    "start_time": "2022-06-25T10:39:23.283Z"
   },
   {
    "duration": 7,
    "start_time": "2022-06-25T10:39:23.290Z"
   },
   {
    "duration": 11,
    "start_time": "2022-06-25T10:39:23.299Z"
   },
   {
    "duration": 5,
    "start_time": "2022-06-25T10:39:23.311Z"
   },
   {
    "duration": 11,
    "start_time": "2022-06-25T10:39:23.317Z"
   },
   {
    "duration": 7,
    "start_time": "2022-06-25T10:39:23.330Z"
   },
   {
    "duration": 16,
    "start_time": "2022-06-25T10:39:23.338Z"
   },
   {
    "duration": 7,
    "start_time": "2022-06-25T10:39:23.356Z"
   },
   {
    "duration": 6072,
    "start_time": "2022-06-25T10:39:23.365Z"
   },
   {
    "duration": 6365,
    "start_time": "2022-06-25T10:39:29.439Z"
   },
   {
    "duration": 6011,
    "start_time": "2022-06-25T10:39:35.806Z"
   },
   {
    "duration": 5,
    "start_time": "2022-06-25T10:46:17.866Z"
   },
   {
    "duration": 4,
    "start_time": "2022-06-25T10:46:20.475Z"
   },
   {
    "duration": 4,
    "start_time": "2022-06-25T10:46:27.971Z"
   },
   {
    "duration": 6,
    "start_time": "2022-06-25T10:46:32.879Z"
   },
   {
    "duration": 5,
    "start_time": "2022-06-25T10:47:30.282Z"
   },
   {
    "duration": 9,
    "start_time": "2022-06-25T10:49:14.085Z"
   },
   {
    "duration": 9,
    "start_time": "2022-06-25T10:49:26.135Z"
   },
   {
    "duration": 8,
    "start_time": "2022-06-25T10:49:28.897Z"
   },
   {
    "duration": 6,
    "start_time": "2022-06-25T10:50:26.951Z"
   },
   {
    "duration": 10,
    "start_time": "2022-06-25T10:50:40.074Z"
   },
   {
    "duration": 15,
    "start_time": "2022-06-25T10:52:37.642Z"
   },
   {
    "duration": 8,
    "start_time": "2022-06-25T10:52:47.366Z"
   },
   {
    "duration": 8,
    "start_time": "2022-06-25T11:02:36.886Z"
   },
   {
    "duration": 83,
    "start_time": "2022-06-25T11:22:55.324Z"
   },
   {
    "duration": 1173,
    "start_time": "2022-06-25T21:58:16.011Z"
   },
   {
    "duration": 353,
    "start_time": "2022-06-25T21:58:17.186Z"
   },
   {
    "duration": 199,
    "start_time": "2022-06-25T21:58:17.541Z"
   },
   {
    "duration": 202,
    "start_time": "2022-06-25T21:58:17.742Z"
   },
   {
    "duration": 19,
    "start_time": "2022-06-25T21:58:17.945Z"
   },
   {
    "duration": 14,
    "start_time": "2022-06-25T21:58:17.966Z"
   },
   {
    "duration": 17,
    "start_time": "2022-06-25T21:58:17.982Z"
   },
   {
    "duration": 31,
    "start_time": "2022-06-25T21:58:18.001Z"
   },
   {
    "duration": 11,
    "start_time": "2022-06-25T21:58:18.034Z"
   },
   {
    "duration": 13,
    "start_time": "2022-06-25T21:58:18.048Z"
   },
   {
    "duration": 75,
    "start_time": "2022-06-25T21:58:18.063Z"
   },
   {
    "duration": 41,
    "start_time": "2022-06-25T21:58:18.140Z"
   },
   {
    "duration": 60,
    "start_time": "2022-06-25T21:58:18.183Z"
   },
   {
    "duration": 14,
    "start_time": "2022-06-25T21:58:18.245Z"
   },
   {
    "duration": 20,
    "start_time": "2022-06-25T21:58:18.261Z"
   },
   {
    "duration": 30,
    "start_time": "2022-06-25T21:58:18.282Z"
   },
   {
    "duration": 42,
    "start_time": "2022-06-25T21:58:18.314Z"
   },
   {
    "duration": 26,
    "start_time": "2022-06-25T21:58:18.358Z"
   },
   {
    "duration": 41,
    "start_time": "2022-06-25T21:58:18.387Z"
   },
   {
    "duration": 54,
    "start_time": "2022-06-25T21:58:18.430Z"
   },
   {
    "duration": 20,
    "start_time": "2022-06-25T21:58:18.486Z"
   },
   {
    "duration": 34,
    "start_time": "2022-06-25T21:58:18.507Z"
   },
   {
    "duration": 26,
    "start_time": "2022-06-25T21:58:18.542Z"
   },
   {
    "duration": 23,
    "start_time": "2022-06-25T21:58:18.570Z"
   },
   {
    "duration": 17,
    "start_time": "2022-06-25T21:58:18.595Z"
   },
   {
    "duration": 36,
    "start_time": "2022-06-25T21:58:18.614Z"
   },
   {
    "duration": 34,
    "start_time": "2022-06-25T21:58:18.652Z"
   },
   {
    "duration": 23,
    "start_time": "2022-06-25T21:58:18.690Z"
   },
   {
    "duration": 32,
    "start_time": "2022-06-25T21:58:18.715Z"
   },
   {
    "duration": 11,
    "start_time": "2022-06-25T21:58:18.749Z"
   },
   {
    "duration": 20,
    "start_time": "2022-06-25T21:58:18.762Z"
   },
   {
    "duration": 13,
    "start_time": "2022-06-25T21:58:18.784Z"
   },
   {
    "duration": 20,
    "start_time": "2022-06-25T21:58:18.798Z"
   },
   {
    "duration": 9,
    "start_time": "2022-06-25T21:58:18.820Z"
   },
   {
    "duration": 32,
    "start_time": "2022-06-25T21:58:18.831Z"
   },
   {
    "duration": 19,
    "start_time": "2022-06-25T21:58:18.865Z"
   },
   {
    "duration": 12,
    "start_time": "2022-06-25T21:58:18.886Z"
   },
   {
    "duration": 34,
    "start_time": "2022-06-25T21:58:18.899Z"
   },
   {
    "duration": 97,
    "start_time": "2022-06-25T21:58:18.936Z"
   },
   {
    "duration": 100,
    "start_time": "2022-06-25T21:58:19.036Z"
   },
   {
    "duration": 199,
    "start_time": "2022-06-25T21:58:19.138Z"
   },
   {
    "duration": 10,
    "start_time": "2022-06-25T21:58:19.339Z"
   },
   {
    "duration": 7,
    "start_time": "2022-06-25T21:58:19.351Z"
   },
   {
    "duration": 5,
    "start_time": "2022-06-25T21:58:19.360Z"
   },
   {
    "duration": 9,
    "start_time": "2022-06-25T21:58:19.367Z"
   },
   {
    "duration": 8,
    "start_time": "2022-06-25T21:58:19.377Z"
   },
   {
    "duration": 14,
    "start_time": "2022-06-25T21:58:19.386Z"
   },
   {
    "duration": 16,
    "start_time": "2022-06-25T21:58:19.401Z"
   },
   {
    "duration": 9,
    "start_time": "2022-06-25T21:58:19.419Z"
   },
   {
    "duration": 10,
    "start_time": "2022-06-25T21:58:19.430Z"
   },
   {
    "duration": 7,
    "start_time": "2022-06-25T21:58:19.442Z"
   },
   {
    "duration": 9,
    "start_time": "2022-06-25T21:58:19.451Z"
   },
   {
    "duration": 25,
    "start_time": "2022-06-25T21:58:19.462Z"
   },
   {
    "duration": 16,
    "start_time": "2022-06-25T21:58:19.489Z"
   },
   {
    "duration": 8,
    "start_time": "2022-06-25T21:58:19.507Z"
   },
   {
    "duration": 13,
    "start_time": "2022-06-25T21:58:19.517Z"
   },
   {
    "duration": 10,
    "start_time": "2022-06-25T21:58:19.532Z"
   },
   {
    "duration": 14,
    "start_time": "2022-06-25T21:58:19.544Z"
   },
   {
    "duration": 10,
    "start_time": "2022-06-25T21:58:19.560Z"
   },
   {
    "duration": 13,
    "start_time": "2022-06-25T21:58:19.572Z"
   },
   {
    "duration": 11,
    "start_time": "2022-06-25T21:58:19.587Z"
   },
   {
    "duration": 13,
    "start_time": "2022-06-25T21:58:19.600Z"
   },
   {
    "duration": 7472,
    "start_time": "2022-06-25T21:58:19.615Z"
   },
   {
    "duration": 6867,
    "start_time": "2022-06-25T21:58:27.089Z"
   },
   {
    "duration": 6835,
    "start_time": "2022-06-25T21:58:33.958Z"
   },
   {
    "duration": 4,
    "start_time": "2022-06-25T22:03:21.064Z"
   },
   {
    "duration": 940,
    "start_time": "2022-06-25T22:04:43.826Z"
   },
   {
    "duration": 23,
    "start_time": "2022-06-25T22:04:57.885Z"
   },
   {
    "duration": 5,
    "start_time": "2022-06-25T22:17:25.650Z"
   },
   {
    "duration": 3,
    "start_time": "2022-06-25T22:17:38.363Z"
   },
   {
    "duration": 11,
    "start_time": "2022-06-25T22:18:08.761Z"
   },
   {
    "duration": 13,
    "start_time": "2022-06-25T22:18:59.319Z"
   },
   {
    "duration": 463,
    "start_time": "2022-06-25T22:19:06.201Z"
   },
   {
    "duration": 943,
    "start_time": "2022-06-25T22:21:31.911Z"
   },
   {
    "duration": 956,
    "start_time": "2022-06-25T22:29:11.057Z"
   },
   {
    "duration": 738,
    "start_time": "2022-06-25T22:29:27.909Z"
   },
   {
    "duration": 819,
    "start_time": "2022-06-25T22:29:39.471Z"
   },
   {
    "duration": 786,
    "start_time": "2022-06-25T22:30:59.143Z"
   },
   {
    "duration": 15,
    "start_time": "2022-06-25T22:31:10.270Z"
   },
   {
    "duration": 4,
    "start_time": "2022-06-25T22:31:27.721Z"
   },
   {
    "duration": 13,
    "start_time": "2022-06-25T22:31:34.109Z"
   },
   {
    "duration": 5,
    "start_time": "2022-06-25T22:32:15.562Z"
   },
   {
    "duration": 9,
    "start_time": "2022-06-25T22:32:20.949Z"
   },
   {
    "duration": 4,
    "start_time": "2022-06-25T22:35:25.610Z"
   },
   {
    "duration": 3,
    "start_time": "2022-06-25T22:35:37.542Z"
   },
   {
    "duration": 16,
    "start_time": "2022-06-25T22:35:42.150Z"
   },
   {
    "duration": 3,
    "start_time": "2022-06-25T22:36:57.870Z"
   },
   {
    "duration": 12,
    "start_time": "2022-06-25T22:37:07.816Z"
   },
   {
    "duration": 5,
    "start_time": "2022-06-25T22:37:48.467Z"
   },
   {
    "duration": 5,
    "start_time": "2022-06-25T22:37:51.407Z"
   },
   {
    "duration": 5,
    "start_time": "2022-06-25T22:37:56.269Z"
   },
   {
    "duration": 1098,
    "start_time": "2022-06-25T22:40:41.506Z"
   },
   {
    "duration": 141,
    "start_time": "2022-06-25T22:40:42.606Z"
   },
   {
    "duration": 115,
    "start_time": "2022-06-25T22:40:42.749Z"
   },
   {
    "duration": 120,
    "start_time": "2022-06-25T22:40:42.866Z"
   },
   {
    "duration": 18,
    "start_time": "2022-06-25T22:40:42.988Z"
   },
   {
    "duration": 24,
    "start_time": "2022-06-25T22:40:43.008Z"
   },
   {
    "duration": 12,
    "start_time": "2022-06-25T22:40:43.033Z"
   },
   {
    "duration": 17,
    "start_time": "2022-06-25T22:40:43.046Z"
   },
   {
    "duration": 11,
    "start_time": "2022-06-25T22:40:43.064Z"
   },
   {
    "duration": 13,
    "start_time": "2022-06-25T22:40:43.078Z"
   },
   {
    "duration": 71,
    "start_time": "2022-06-25T22:40:43.093Z"
   },
   {
    "duration": 41,
    "start_time": "2022-06-25T22:40:43.166Z"
   },
   {
    "duration": 44,
    "start_time": "2022-06-25T22:40:43.227Z"
   },
   {
    "duration": 16,
    "start_time": "2022-06-25T22:40:43.272Z"
   },
   {
    "duration": 12,
    "start_time": "2022-06-25T22:40:43.289Z"
   },
   {
    "duration": 33,
    "start_time": "2022-06-25T22:40:43.303Z"
   },
   {
    "duration": 17,
    "start_time": "2022-06-25T22:40:43.338Z"
   },
   {
    "duration": 12,
    "start_time": "2022-06-25T22:40:43.357Z"
   },
   {
    "duration": 24,
    "start_time": "2022-06-25T22:40:43.371Z"
   },
   {
    "duration": 33,
    "start_time": "2022-06-25T22:40:43.397Z"
   },
   {
    "duration": 13,
    "start_time": "2022-06-25T22:40:43.432Z"
   },
   {
    "duration": 12,
    "start_time": "2022-06-25T22:40:43.447Z"
   },
   {
    "duration": 11,
    "start_time": "2022-06-25T22:40:43.461Z"
   },
   {
    "duration": 9,
    "start_time": "2022-06-25T22:40:43.473Z"
   },
   {
    "duration": 11,
    "start_time": "2022-06-25T22:40:43.483Z"
   },
   {
    "duration": 9,
    "start_time": "2022-06-25T22:40:43.495Z"
   },
   {
    "duration": 12,
    "start_time": "2022-06-25T22:40:43.505Z"
   },
   {
    "duration": 6,
    "start_time": "2022-06-25T22:40:43.528Z"
   },
   {
    "duration": 17,
    "start_time": "2022-06-25T22:40:43.535Z"
   },
   {
    "duration": 8,
    "start_time": "2022-06-25T22:40:43.554Z"
   },
   {
    "duration": 16,
    "start_time": "2022-06-25T22:40:43.564Z"
   },
   {
    "duration": 7,
    "start_time": "2022-06-25T22:40:43.582Z"
   },
   {
    "duration": 10,
    "start_time": "2022-06-25T22:40:43.591Z"
   },
   {
    "duration": 25,
    "start_time": "2022-06-25T22:40:43.603Z"
   },
   {
    "duration": 12,
    "start_time": "2022-06-25T22:40:43.630Z"
   },
   {
    "duration": 13,
    "start_time": "2022-06-25T22:40:43.644Z"
   },
   {
    "duration": 10,
    "start_time": "2022-06-25T22:40:43.658Z"
   },
   {
    "duration": 58,
    "start_time": "2022-06-25T22:40:43.670Z"
   },
   {
    "duration": 11,
    "start_time": "2022-06-25T22:40:43.730Z"
   },
   {
    "duration": 8,
    "start_time": "2022-06-25T22:40:43.828Z"
   },
   {
    "duration": 106,
    "start_time": "2022-06-25T22:40:43.926Z"
   },
   {
    "duration": 6,
    "start_time": "2022-06-25T22:40:44.034Z"
   },
   {
    "duration": 10,
    "start_time": "2022-06-25T22:40:44.042Z"
   },
   {
    "duration": 3,
    "start_time": "2022-06-25T22:40:44.054Z"
   },
   {
    "duration": 5,
    "start_time": "2022-06-25T22:40:44.059Z"
   },
   {
    "duration": 5,
    "start_time": "2022-06-25T22:40:44.066Z"
   },
   {
    "duration": 5,
    "start_time": "2022-06-25T22:40:44.072Z"
   },
   {
    "duration": 5,
    "start_time": "2022-06-25T22:40:44.078Z"
   },
   {
    "duration": 6,
    "start_time": "2022-06-25T22:40:44.084Z"
   },
   {
    "duration": 8,
    "start_time": "2022-06-25T22:40:44.091Z"
   },
   {
    "duration": 29,
    "start_time": "2022-06-25T22:40:44.100Z"
   },
   {
    "duration": 7,
    "start_time": "2022-06-25T22:40:44.130Z"
   },
   {
    "duration": 7,
    "start_time": "2022-06-25T22:40:44.139Z"
   },
   {
    "duration": 10,
    "start_time": "2022-06-25T22:40:44.147Z"
   },
   {
    "duration": 7,
    "start_time": "2022-06-25T22:40:44.158Z"
   },
   {
    "duration": 7,
    "start_time": "2022-06-25T22:40:44.166Z"
   },
   {
    "duration": 6,
    "start_time": "2022-06-25T22:40:44.174Z"
   },
   {
    "duration": 10,
    "start_time": "2022-06-25T22:40:44.181Z"
   },
   {
    "duration": 10,
    "start_time": "2022-06-25T22:40:44.193Z"
   },
   {
    "duration": 7,
    "start_time": "2022-06-25T22:40:44.204Z"
   },
   {
    "duration": 4,
    "start_time": "2022-06-25T22:40:44.226Z"
   },
   {
    "duration": 121,
    "start_time": "2022-06-25T22:40:44.231Z"
   },
   {
    "duration": 0,
    "start_time": "2022-06-25T22:40:44.354Z"
   },
   {
    "duration": 0,
    "start_time": "2022-06-25T22:40:44.356Z"
   },
   {
    "duration": 0,
    "start_time": "2022-06-25T22:40:44.357Z"
   },
   {
    "duration": 0,
    "start_time": "2022-06-25T22:40:44.359Z"
   },
   {
    "duration": 16,
    "start_time": "2022-06-25T22:41:57.638Z"
   },
   {
    "duration": 5,
    "start_time": "2022-06-25T22:43:51.159Z"
   },
   {
    "duration": 8,
    "start_time": "2022-06-25T22:44:02.708Z"
   },
   {
    "duration": 4,
    "start_time": "2022-06-25T22:44:11.949Z"
   },
   {
    "duration": 4,
    "start_time": "2022-06-25T22:45:07.754Z"
   },
   {
    "duration": 4,
    "start_time": "2022-06-25T22:45:09.697Z"
   },
   {
    "duration": 4,
    "start_time": "2022-06-25T22:45:26.377Z"
   },
   {
    "duration": 4,
    "start_time": "2022-06-25T22:45:54.267Z"
   },
   {
    "duration": 1447,
    "start_time": "2022-06-25T22:47:03.507Z"
   },
   {
    "duration": 157,
    "start_time": "2022-06-25T22:47:04.956Z"
   },
   {
    "duration": 121,
    "start_time": "2022-06-25T22:47:05.115Z"
   },
   {
    "duration": 119,
    "start_time": "2022-06-25T22:47:05.238Z"
   },
   {
    "duration": 19,
    "start_time": "2022-06-25T22:47:05.358Z"
   },
   {
    "duration": 13,
    "start_time": "2022-06-25T22:47:05.379Z"
   },
   {
    "duration": 10,
    "start_time": "2022-06-25T22:47:05.394Z"
   },
   {
    "duration": 30,
    "start_time": "2022-06-25T22:47:05.406Z"
   },
   {
    "duration": 11,
    "start_time": "2022-06-25T22:47:05.438Z"
   },
   {
    "duration": 24,
    "start_time": "2022-06-25T22:47:05.451Z"
   },
   {
    "duration": 63,
    "start_time": "2022-06-25T22:47:05.477Z"
   },
   {
    "duration": 43,
    "start_time": "2022-06-25T22:47:05.542Z"
   },
   {
    "duration": 61,
    "start_time": "2022-06-25T22:47:05.587Z"
   },
   {
    "duration": 16,
    "start_time": "2022-06-25T22:47:05.650Z"
   },
   {
    "duration": 16,
    "start_time": "2022-06-25T22:47:05.668Z"
   },
   {
    "duration": 16,
    "start_time": "2022-06-25T22:47:05.685Z"
   },
   {
    "duration": 37,
    "start_time": "2022-06-25T22:47:05.702Z"
   },
   {
    "duration": 12,
    "start_time": "2022-06-25T22:47:05.741Z"
   },
   {
    "duration": 15,
    "start_time": "2022-06-25T22:47:05.755Z"
   },
   {
    "duration": 20,
    "start_time": "2022-06-25T22:47:05.772Z"
   },
   {
    "duration": 12,
    "start_time": "2022-06-25T22:47:05.794Z"
   },
   {
    "duration": 12,
    "start_time": "2022-06-25T22:47:05.827Z"
   },
   {
    "duration": 5,
    "start_time": "2022-06-25T22:47:05.841Z"
   },
   {
    "duration": 15,
    "start_time": "2022-06-25T22:47:05.847Z"
   },
   {
    "duration": 17,
    "start_time": "2022-06-25T22:47:05.863Z"
   },
   {
    "duration": 8,
    "start_time": "2022-06-25T22:47:05.881Z"
   },
   {
    "duration": 9,
    "start_time": "2022-06-25T22:47:05.891Z"
   },
   {
    "duration": 7,
    "start_time": "2022-06-25T22:47:05.903Z"
   },
   {
    "duration": 21,
    "start_time": "2022-06-25T22:47:05.912Z"
   },
   {
    "duration": 7,
    "start_time": "2022-06-25T22:47:05.934Z"
   },
   {
    "duration": 11,
    "start_time": "2022-06-25T22:47:05.943Z"
   },
   {
    "duration": 9,
    "start_time": "2022-06-25T22:47:05.956Z"
   },
   {
    "duration": 9,
    "start_time": "2022-06-25T22:47:05.967Z"
   },
   {
    "duration": 7,
    "start_time": "2022-06-25T22:47:05.977Z"
   },
   {
    "duration": 20,
    "start_time": "2022-06-25T22:47:05.985Z"
   },
   {
    "duration": 12,
    "start_time": "2022-06-25T22:47:06.027Z"
   },
   {
    "duration": 12,
    "start_time": "2022-06-25T22:47:06.041Z"
   },
   {
    "duration": 76,
    "start_time": "2022-06-25T22:47:06.054Z"
   },
   {
    "duration": 99,
    "start_time": "2022-06-25T22:47:06.132Z"
   },
   {
    "duration": 8,
    "start_time": "2022-06-25T22:47:06.233Z"
   },
   {
    "duration": 5,
    "start_time": "2022-06-25T22:47:06.328Z"
   },
   {
    "duration": 93,
    "start_time": "2022-06-25T22:47:06.335Z"
   },
   {
    "duration": 5,
    "start_time": "2022-06-25T22:47:06.429Z"
   },
   {
    "duration": 12,
    "start_time": "2022-06-25T22:47:06.435Z"
   },
   {
    "duration": 9,
    "start_time": "2022-06-25T22:47:06.448Z"
   },
   {
    "duration": 11,
    "start_time": "2022-06-25T22:47:06.459Z"
   },
   {
    "duration": 6,
    "start_time": "2022-06-25T22:47:06.472Z"
   },
   {
    "duration": 6,
    "start_time": "2022-06-25T22:47:06.480Z"
   },
   {
    "duration": 5,
    "start_time": "2022-06-25T22:47:06.488Z"
   },
   {
    "duration": 8,
    "start_time": "2022-06-25T22:47:06.494Z"
   },
   {
    "duration": 23,
    "start_time": "2022-06-25T22:47:06.504Z"
   },
   {
    "duration": 113,
    "start_time": "2022-06-25T22:47:06.529Z"
   },
   {
    "duration": 0,
    "start_time": "2022-06-25T22:47:06.644Z"
   },
   {
    "duration": 0,
    "start_time": "2022-06-25T22:47:06.645Z"
   },
   {
    "duration": 0,
    "start_time": "2022-06-25T22:47:06.647Z"
   },
   {
    "duration": 0,
    "start_time": "2022-06-25T22:47:06.649Z"
   },
   {
    "duration": 0,
    "start_time": "2022-06-25T22:47:06.650Z"
   },
   {
    "duration": 0,
    "start_time": "2022-06-25T22:47:06.651Z"
   },
   {
    "duration": 0,
    "start_time": "2022-06-25T22:47:06.653Z"
   },
   {
    "duration": 0,
    "start_time": "2022-06-25T22:47:06.654Z"
   },
   {
    "duration": 0,
    "start_time": "2022-06-25T22:47:06.656Z"
   },
   {
    "duration": 0,
    "start_time": "2022-06-25T22:47:06.657Z"
   },
   {
    "duration": 0,
    "start_time": "2022-06-25T22:47:06.658Z"
   },
   {
    "duration": 0,
    "start_time": "2022-06-25T22:47:06.660Z"
   },
   {
    "duration": 0,
    "start_time": "2022-06-25T22:47:06.661Z"
   },
   {
    "duration": 0,
    "start_time": "2022-06-25T22:47:06.662Z"
   },
   {
    "duration": 0,
    "start_time": "2022-06-25T22:47:06.663Z"
   },
   {
    "duration": 0,
    "start_time": "2022-06-25T22:47:06.664Z"
   },
   {
    "duration": 4,
    "start_time": "2022-06-25T22:47:34.328Z"
   },
   {
    "duration": 1038,
    "start_time": "2022-06-25T22:47:40.263Z"
   },
   {
    "duration": 144,
    "start_time": "2022-06-25T22:47:41.303Z"
   },
   {
    "duration": 150,
    "start_time": "2022-06-25T22:47:41.449Z"
   },
   {
    "duration": 153,
    "start_time": "2022-06-25T22:47:41.601Z"
   },
   {
    "duration": 19,
    "start_time": "2022-06-25T22:47:41.756Z"
   },
   {
    "duration": 17,
    "start_time": "2022-06-25T22:47:41.776Z"
   },
   {
    "duration": 11,
    "start_time": "2022-06-25T22:47:41.796Z"
   },
   {
    "duration": 33,
    "start_time": "2022-06-25T22:47:41.808Z"
   },
   {
    "duration": 12,
    "start_time": "2022-06-25T22:47:41.842Z"
   },
   {
    "duration": 25,
    "start_time": "2022-06-25T22:47:41.856Z"
   },
   {
    "duration": 67,
    "start_time": "2022-06-25T22:47:41.882Z"
   },
   {
    "duration": 42,
    "start_time": "2022-06-25T22:47:41.951Z"
   },
   {
    "duration": 65,
    "start_time": "2022-06-25T22:47:41.995Z"
   },
   {
    "duration": 16,
    "start_time": "2022-06-25T22:47:42.064Z"
   },
   {
    "duration": 12,
    "start_time": "2022-06-25T22:47:42.082Z"
   },
   {
    "duration": 31,
    "start_time": "2022-06-25T22:47:42.096Z"
   },
   {
    "duration": 17,
    "start_time": "2022-06-25T22:47:42.129Z"
   },
   {
    "duration": 12,
    "start_time": "2022-06-25T22:47:42.148Z"
   },
   {
    "duration": 20,
    "start_time": "2022-06-25T22:47:42.161Z"
   },
   {
    "duration": 29,
    "start_time": "2022-06-25T22:47:42.183Z"
   },
   {
    "duration": 20,
    "start_time": "2022-06-25T22:47:42.214Z"
   },
   {
    "duration": 18,
    "start_time": "2022-06-25T22:47:42.237Z"
   },
   {
    "duration": 15,
    "start_time": "2022-06-25T22:47:42.257Z"
   },
   {
    "duration": 11,
    "start_time": "2022-06-25T22:47:42.274Z"
   },
   {
    "duration": 7,
    "start_time": "2022-06-25T22:47:42.286Z"
   },
   {
    "duration": 7,
    "start_time": "2022-06-25T22:47:42.295Z"
   },
   {
    "duration": 7,
    "start_time": "2022-06-25T22:47:42.303Z"
   },
   {
    "duration": 7,
    "start_time": "2022-06-25T22:47:42.311Z"
   },
   {
    "duration": 16,
    "start_time": "2022-06-25T22:47:42.319Z"
   },
   {
    "duration": 7,
    "start_time": "2022-06-25T22:47:42.338Z"
   },
   {
    "duration": 16,
    "start_time": "2022-06-25T22:47:42.347Z"
   },
   {
    "duration": 15,
    "start_time": "2022-06-25T22:47:42.365Z"
   },
   {
    "duration": 13,
    "start_time": "2022-06-25T22:47:42.382Z"
   },
   {
    "duration": 6,
    "start_time": "2022-06-25T22:47:42.397Z"
   },
   {
    "duration": 13,
    "start_time": "2022-06-25T22:47:42.426Z"
   },
   {
    "duration": 11,
    "start_time": "2022-06-25T22:47:42.440Z"
   },
   {
    "duration": 11,
    "start_time": "2022-06-25T22:47:42.453Z"
   },
   {
    "duration": 11,
    "start_time": "2022-06-25T22:47:42.466Z"
   },
   {
    "duration": 110,
    "start_time": "2022-06-25T22:47:42.531Z"
   },
   {
    "duration": 98,
    "start_time": "2022-06-25T22:47:42.643Z"
   },
   {
    "duration": 180,
    "start_time": "2022-06-25T22:47:42.747Z"
   },
   {
    "duration": 14,
    "start_time": "2022-06-25T22:47:42.929Z"
   },
   {
    "duration": 11,
    "start_time": "2022-06-25T22:47:42.944Z"
   },
   {
    "duration": 15,
    "start_time": "2022-06-25T22:47:42.956Z"
   },
   {
    "duration": 9,
    "start_time": "2022-06-25T22:47:42.972Z"
   },
   {
    "duration": 25,
    "start_time": "2022-06-25T22:47:42.982Z"
   },
   {
    "duration": 22,
    "start_time": "2022-06-25T22:47:43.009Z"
   },
   {
    "duration": 21,
    "start_time": "2022-06-25T22:47:43.033Z"
   },
   {
    "duration": 13,
    "start_time": "2022-06-25T22:47:43.055Z"
   },
   {
    "duration": 20,
    "start_time": "2022-06-25T22:47:43.070Z"
   },
   {
    "duration": 15,
    "start_time": "2022-06-25T22:47:43.092Z"
   },
   {
    "duration": 23,
    "start_time": "2022-06-25T22:47:43.108Z"
   },
   {
    "duration": 17,
    "start_time": "2022-06-25T22:47:43.133Z"
   },
   {
    "duration": 23,
    "start_time": "2022-06-25T22:47:43.151Z"
   },
   {
    "duration": 12,
    "start_time": "2022-06-25T22:47:43.176Z"
   },
   {
    "duration": 15,
    "start_time": "2022-06-25T22:47:43.189Z"
   },
   {
    "duration": 14,
    "start_time": "2022-06-25T22:47:43.206Z"
   },
   {
    "duration": 19,
    "start_time": "2022-06-25T22:47:43.221Z"
   },
   {
    "duration": 18,
    "start_time": "2022-06-25T22:47:43.242Z"
   },
   {
    "duration": 15,
    "start_time": "2022-06-25T22:47:43.262Z"
   },
   {
    "duration": 20,
    "start_time": "2022-06-25T22:47:43.278Z"
   },
   {
    "duration": 22,
    "start_time": "2022-06-25T22:47:43.300Z"
   },
   {
    "duration": 13,
    "start_time": "2022-06-25T22:47:43.324Z"
   },
   {
    "duration": 29,
    "start_time": "2022-06-25T22:47:43.339Z"
   },
   {
    "duration": 27,
    "start_time": "2022-06-25T22:47:43.370Z"
   },
   {
    "duration": 6883,
    "start_time": "2022-06-25T22:47:43.399Z"
   },
   {
    "duration": 6873,
    "start_time": "2022-06-25T22:47:50.283Z"
   },
   {
    "duration": 6976,
    "start_time": "2022-06-25T22:47:57.158Z"
   },
   {
    "duration": 307,
    "start_time": "2022-06-25T22:49:25.205Z"
   },
   {
    "duration": 291,
    "start_time": "2022-06-25T22:49:38.441Z"
   },
   {
    "duration": 311,
    "start_time": "2022-06-25T22:49:50.101Z"
   },
   {
    "duration": 300,
    "start_time": "2022-06-25T22:50:17.474Z"
   },
   {
    "duration": 7,
    "start_time": "2022-06-25T22:52:12.829Z"
   },
   {
    "duration": 1126,
    "start_time": "2022-06-25T22:52:20.813Z"
   },
   {
    "duration": 136,
    "start_time": "2022-06-25T22:52:21.941Z"
   },
   {
    "duration": 117,
    "start_time": "2022-06-25T22:52:22.078Z"
   },
   {
    "duration": 117,
    "start_time": "2022-06-25T22:52:22.197Z"
   },
   {
    "duration": 22,
    "start_time": "2022-06-25T22:52:22.316Z"
   },
   {
    "duration": 14,
    "start_time": "2022-06-25T22:52:22.339Z"
   },
   {
    "duration": 12,
    "start_time": "2022-06-25T22:52:22.355Z"
   },
   {
    "duration": 17,
    "start_time": "2022-06-25T22:52:22.368Z"
   },
   {
    "duration": 11,
    "start_time": "2022-06-25T22:52:22.387Z"
   },
   {
    "duration": 15,
    "start_time": "2022-06-25T22:52:22.426Z"
   },
   {
    "duration": 49,
    "start_time": "2022-06-25T22:52:22.443Z"
   },
   {
    "duration": 66,
    "start_time": "2022-06-25T22:52:22.495Z"
   },
   {
    "duration": 44,
    "start_time": "2022-06-25T22:52:22.563Z"
   },
   {
    "duration": 33,
    "start_time": "2022-06-25T22:52:22.609Z"
   },
   {
    "duration": 16,
    "start_time": "2022-06-25T22:52:22.643Z"
   },
   {
    "duration": 11,
    "start_time": "2022-06-25T22:52:22.661Z"
   },
   {
    "duration": 27,
    "start_time": "2022-06-25T22:52:22.674Z"
   },
   {
    "duration": 34,
    "start_time": "2022-06-25T22:52:22.703Z"
   },
   {
    "duration": 15,
    "start_time": "2022-06-25T22:52:22.739Z"
   },
   {
    "duration": 26,
    "start_time": "2022-06-25T22:52:22.756Z"
   },
   {
    "duration": 12,
    "start_time": "2022-06-25T22:52:22.784Z"
   },
   {
    "duration": 31,
    "start_time": "2022-06-25T22:52:22.797Z"
   },
   {
    "duration": 7,
    "start_time": "2022-06-25T22:52:22.830Z"
   },
   {
    "duration": 7,
    "start_time": "2022-06-25T22:52:22.838Z"
   },
   {
    "duration": 10,
    "start_time": "2022-06-25T22:52:22.847Z"
   },
   {
    "duration": 9,
    "start_time": "2022-06-25T22:52:22.859Z"
   },
   {
    "duration": 9,
    "start_time": "2022-06-25T22:52:22.870Z"
   },
   {
    "duration": 5,
    "start_time": "2022-06-25T22:52:22.883Z"
   },
   {
    "duration": 17,
    "start_time": "2022-06-25T22:52:22.890Z"
   },
   {
    "duration": 19,
    "start_time": "2022-06-25T22:52:22.909Z"
   },
   {
    "duration": 9,
    "start_time": "2022-06-25T22:52:22.929Z"
   },
   {
    "duration": 7,
    "start_time": "2022-06-25T22:52:22.939Z"
   },
   {
    "duration": 12,
    "start_time": "2022-06-25T22:52:22.947Z"
   },
   {
    "duration": 15,
    "start_time": "2022-06-25T22:52:22.961Z"
   },
   {
    "duration": 13,
    "start_time": "2022-06-25T22:52:22.978Z"
   },
   {
    "duration": 34,
    "start_time": "2022-06-25T22:52:22.993Z"
   },
   {
    "duration": 13,
    "start_time": "2022-06-25T22:52:23.029Z"
   },
   {
    "duration": 7,
    "start_time": "2022-06-25T22:52:23.044Z"
   },
   {
    "duration": 87,
    "start_time": "2022-06-25T22:52:23.054Z"
   },
   {
    "duration": 118,
    "start_time": "2022-06-25T22:52:23.228Z"
   },
   {
    "duration": 82,
    "start_time": "2022-06-25T22:52:23.348Z"
   },
   {
    "duration": 96,
    "start_time": "2022-06-25T22:52:23.432Z"
   },
   {
    "duration": 10,
    "start_time": "2022-06-25T22:52:23.530Z"
   },
   {
    "duration": 14,
    "start_time": "2022-06-25T22:52:23.542Z"
   },
   {
    "duration": 10,
    "start_time": "2022-06-25T22:52:23.557Z"
   },
   {
    "duration": 11,
    "start_time": "2022-06-25T22:52:23.569Z"
   },
   {
    "duration": 5,
    "start_time": "2022-06-25T22:52:23.581Z"
   },
   {
    "duration": 10,
    "start_time": "2022-06-25T22:52:23.588Z"
   },
   {
    "duration": 7,
    "start_time": "2022-06-25T22:52:23.599Z"
   },
   {
    "duration": 7,
    "start_time": "2022-06-25T22:52:23.608Z"
   },
   {
    "duration": 10,
    "start_time": "2022-06-25T22:52:23.617Z"
   },
   {
    "duration": 16,
    "start_time": "2022-06-25T22:52:23.628Z"
   },
   {
    "duration": 6,
    "start_time": "2022-06-25T22:52:23.645Z"
   },
   {
    "duration": 13,
    "start_time": "2022-06-25T22:52:23.653Z"
   },
   {
    "duration": 7,
    "start_time": "2022-06-25T22:52:23.667Z"
   },
   {
    "duration": 7,
    "start_time": "2022-06-25T22:52:23.675Z"
   },
   {
    "duration": 9,
    "start_time": "2022-06-25T22:52:23.684Z"
   },
   {
    "duration": 8,
    "start_time": "2022-06-25T22:52:23.694Z"
   },
   {
    "duration": 7,
    "start_time": "2022-06-25T22:52:23.703Z"
   },
   {
    "duration": 16,
    "start_time": "2022-06-25T22:52:23.711Z"
   },
   {
    "duration": 10,
    "start_time": "2022-06-25T22:52:23.728Z"
   },
   {
    "duration": 10,
    "start_time": "2022-06-25T22:52:23.740Z"
   },
   {
    "duration": 11,
    "start_time": "2022-06-25T22:52:23.752Z"
   },
   {
    "duration": 18,
    "start_time": "2022-06-25T22:52:23.765Z"
   },
   {
    "duration": 12,
    "start_time": "2022-06-25T22:52:23.785Z"
   },
   {
    "duration": 400,
    "start_time": "2022-06-25T22:52:23.799Z"
   },
   {
    "duration": 0,
    "start_time": "2022-06-25T22:52:24.201Z"
   },
   {
    "duration": 0,
    "start_time": "2022-06-25T22:52:24.202Z"
   },
   {
    "duration": 1022,
    "start_time": "2022-06-25T22:52:58.060Z"
   },
   {
    "duration": 135,
    "start_time": "2022-06-25T22:52:59.084Z"
   },
   {
    "duration": 116,
    "start_time": "2022-06-25T22:52:59.221Z"
   },
   {
    "duration": 118,
    "start_time": "2022-06-25T22:52:59.340Z"
   },
   {
    "duration": 21,
    "start_time": "2022-06-25T22:52:59.460Z"
   },
   {
    "duration": 16,
    "start_time": "2022-06-25T22:52:59.483Z"
   },
   {
    "duration": 33,
    "start_time": "2022-06-25T22:52:59.501Z"
   },
   {
    "duration": 19,
    "start_time": "2022-06-25T22:52:59.536Z"
   },
   {
    "duration": 13,
    "start_time": "2022-06-25T22:52:59.557Z"
   },
   {
    "duration": 17,
    "start_time": "2022-06-25T22:52:59.573Z"
   },
   {
    "duration": 70,
    "start_time": "2022-06-25T22:52:59.593Z"
   },
   {
    "duration": 41,
    "start_time": "2022-06-25T22:52:59.665Z"
   },
   {
    "duration": 45,
    "start_time": "2022-06-25T22:52:59.726Z"
   },
   {
    "duration": 17,
    "start_time": "2022-06-25T22:52:59.772Z"
   },
   {
    "duration": 12,
    "start_time": "2022-06-25T22:52:59.790Z"
   },
   {
    "duration": 33,
    "start_time": "2022-06-25T22:52:59.804Z"
   },
   {
    "duration": 20,
    "start_time": "2022-06-25T22:52:59.839Z"
   },
   {
    "duration": 12,
    "start_time": "2022-06-25T22:52:59.861Z"
   },
   {
    "duration": 19,
    "start_time": "2022-06-25T22:52:59.874Z"
   },
   {
    "duration": 44,
    "start_time": "2022-06-25T22:52:59.895Z"
   },
   {
    "duration": 12,
    "start_time": "2022-06-25T22:52:59.941Z"
   },
   {
    "duration": 18,
    "start_time": "2022-06-25T22:52:59.954Z"
   },
   {
    "duration": 10,
    "start_time": "2022-06-25T22:52:59.974Z"
   },
   {
    "duration": 13,
    "start_time": "2022-06-25T22:52:59.986Z"
   },
   {
    "duration": 25,
    "start_time": "2022-06-25T22:53:00.000Z"
   },
   {
    "duration": 17,
    "start_time": "2022-06-25T22:53:00.027Z"
   },
   {
    "duration": 13,
    "start_time": "2022-06-25T22:53:00.046Z"
   },
   {
    "duration": 32,
    "start_time": "2022-06-25T22:53:00.062Z"
   },
   {
    "duration": 20,
    "start_time": "2022-06-25T22:53:00.095Z"
   },
   {
    "duration": 11,
    "start_time": "2022-06-25T22:53:00.116Z"
   },
   {
    "duration": 22,
    "start_time": "2022-06-25T22:53:00.129Z"
   },
   {
    "duration": 10,
    "start_time": "2022-06-25T22:53:00.153Z"
   },
   {
    "duration": 15,
    "start_time": "2022-06-25T22:53:00.165Z"
   },
   {
    "duration": 12,
    "start_time": "2022-06-25T22:53:00.181Z"
   },
   {
    "duration": 27,
    "start_time": "2022-06-25T22:53:00.195Z"
   },
   {
    "duration": 11,
    "start_time": "2022-06-25T22:53:00.224Z"
   },
   {
    "duration": 16,
    "start_time": "2022-06-25T22:53:00.237Z"
   },
   {
    "duration": 14,
    "start_time": "2022-06-25T22:53:00.254Z"
   },
   {
    "duration": 102,
    "start_time": "2022-06-25T22:53:00.330Z"
   },
   {
    "duration": 99,
    "start_time": "2022-06-25T22:53:00.434Z"
   },
   {
    "duration": 197,
    "start_time": "2022-06-25T22:53:00.535Z"
   },
   {
    "duration": 6,
    "start_time": "2022-06-25T22:53:00.733Z"
   },
   {
    "duration": 22,
    "start_time": "2022-06-25T22:53:00.741Z"
   },
   {
    "duration": 12,
    "start_time": "2022-06-25T22:53:00.765Z"
   },
   {
    "duration": 12,
    "start_time": "2022-06-25T22:53:00.779Z"
   },
   {
    "duration": 10,
    "start_time": "2022-06-25T22:53:00.793Z"
   },
   {
    "duration": 18,
    "start_time": "2022-06-25T22:53:00.804Z"
   },
   {
    "duration": 28,
    "start_time": "2022-06-25T22:53:00.823Z"
   },
   {
    "duration": 17,
    "start_time": "2022-06-25T22:53:00.853Z"
   },
   {
    "duration": 18,
    "start_time": "2022-06-25T22:53:00.871Z"
   },
   {
    "duration": 10,
    "start_time": "2022-06-25T22:53:00.891Z"
   },
   {
    "duration": 10,
    "start_time": "2022-06-25T22:53:00.903Z"
   },
   {
    "duration": 7,
    "start_time": "2022-06-25T22:53:00.914Z"
   },
   {
    "duration": 14,
    "start_time": "2022-06-25T22:53:00.923Z"
   },
   {
    "duration": 10,
    "start_time": "2022-06-25T22:53:00.938Z"
   },
   {
    "duration": 8,
    "start_time": "2022-06-25T22:53:00.949Z"
   },
   {
    "duration": 24,
    "start_time": "2022-06-25T22:53:00.959Z"
   },
   {
    "duration": 13,
    "start_time": "2022-06-25T22:53:00.984Z"
   },
   {
    "duration": 14,
    "start_time": "2022-06-25T22:53:00.998Z"
   },
   {
    "duration": 11,
    "start_time": "2022-06-25T22:53:01.014Z"
   },
   {
    "duration": 16,
    "start_time": "2022-06-25T22:53:01.027Z"
   },
   {
    "duration": 26,
    "start_time": "2022-06-25T22:53:01.045Z"
   },
   {
    "duration": 20,
    "start_time": "2022-06-25T22:53:01.073Z"
   },
   {
    "duration": 18,
    "start_time": "2022-06-25T22:53:01.094Z"
   },
   {
    "duration": 12,
    "start_time": "2022-06-25T22:53:01.114Z"
   },
   {
    "duration": 388,
    "start_time": "2022-06-25T22:53:01.128Z"
   },
   {
    "duration": 354,
    "start_time": "2022-06-25T22:53:01.519Z"
   },
   {
    "duration": 322,
    "start_time": "2022-06-25T22:53:01.875Z"
   },
   {
    "duration": 4,
    "start_time": "2022-06-25T22:58:23.340Z"
   },
   {
    "duration": 320,
    "start_time": "2022-06-25T22:58:27.794Z"
   },
   {
    "duration": 1040,
    "start_time": "2022-06-25T22:58:35.904Z"
   },
   {
    "duration": 138,
    "start_time": "2022-06-25T22:58:36.946Z"
   },
   {
    "duration": 114,
    "start_time": "2022-06-25T22:58:37.085Z"
   },
   {
    "duration": 116,
    "start_time": "2022-06-25T22:58:37.202Z"
   },
   {
    "duration": 21,
    "start_time": "2022-06-25T22:58:37.320Z"
   },
   {
    "duration": 15,
    "start_time": "2022-06-25T22:58:37.344Z"
   },
   {
    "duration": 14,
    "start_time": "2022-06-25T22:58:37.360Z"
   },
   {
    "duration": 25,
    "start_time": "2022-06-25T22:58:37.376Z"
   },
   {
    "duration": 28,
    "start_time": "2022-06-25T22:58:37.403Z"
   },
   {
    "duration": 19,
    "start_time": "2022-06-25T22:58:37.434Z"
   },
   {
    "duration": 48,
    "start_time": "2022-06-25T22:58:37.454Z"
   },
   {
    "duration": 60,
    "start_time": "2022-06-25T22:58:37.504Z"
   },
   {
    "duration": 42,
    "start_time": "2022-06-25T22:58:37.566Z"
   },
   {
    "duration": 15,
    "start_time": "2022-06-25T22:58:37.626Z"
   },
   {
    "duration": 11,
    "start_time": "2022-06-25T22:58:37.642Z"
   },
   {
    "duration": 13,
    "start_time": "2022-06-25T22:58:37.655Z"
   },
   {
    "duration": 23,
    "start_time": "2022-06-25T22:58:37.670Z"
   },
   {
    "duration": 34,
    "start_time": "2022-06-25T22:58:37.694Z"
   },
   {
    "duration": 11,
    "start_time": "2022-06-25T22:58:37.729Z"
   },
   {
    "duration": 20,
    "start_time": "2022-06-25T22:58:37.742Z"
   },
   {
    "duration": 11,
    "start_time": "2022-06-25T22:58:37.764Z"
   },
   {
    "duration": 11,
    "start_time": "2022-06-25T22:58:37.776Z"
   },
   {
    "duration": 8,
    "start_time": "2022-06-25T22:58:37.788Z"
   },
   {
    "duration": 4,
    "start_time": "2022-06-25T22:58:37.827Z"
   },
   {
    "duration": 8,
    "start_time": "2022-06-25T22:58:37.832Z"
   },
   {
    "duration": 7,
    "start_time": "2022-06-25T22:58:37.841Z"
   },
   {
    "duration": 11,
    "start_time": "2022-06-25T22:58:37.850Z"
   },
   {
    "duration": 4,
    "start_time": "2022-06-25T22:58:37.864Z"
   },
   {
    "duration": 15,
    "start_time": "2022-06-25T22:58:37.870Z"
   },
   {
    "duration": 7,
    "start_time": "2022-06-25T22:58:37.886Z"
   },
   {
    "duration": 33,
    "start_time": "2022-06-25T22:58:37.894Z"
   },
   {
    "duration": 6,
    "start_time": "2022-06-25T22:58:37.929Z"
   },
   {
    "duration": 8,
    "start_time": "2022-06-25T22:58:37.937Z"
   },
   {
    "duration": 6,
    "start_time": "2022-06-25T22:58:37.946Z"
   },
   {
    "duration": 13,
    "start_time": "2022-06-25T22:58:37.953Z"
   },
   {
    "duration": 10,
    "start_time": "2022-06-25T22:58:37.968Z"
   },
   {
    "duration": 46,
    "start_time": "2022-06-25T22:58:37.980Z"
   },
   {
    "duration": 9,
    "start_time": "2022-06-25T22:58:38.028Z"
   },
   {
    "duration": 6,
    "start_time": "2022-06-25T22:58:38.038Z"
   },
   {
    "duration": 8,
    "start_time": "2022-06-25T22:58:38.127Z"
   },
   {
    "duration": 90,
    "start_time": "2022-06-25T22:58:38.137Z"
   },
   {
    "duration": 5,
    "start_time": "2022-06-25T22:58:38.229Z"
   },
   {
    "duration": 102,
    "start_time": "2022-06-25T22:58:38.236Z"
   },
   {
    "duration": 11,
    "start_time": "2022-06-25T22:58:38.339Z"
   },
   {
    "duration": 15,
    "start_time": "2022-06-25T22:58:38.351Z"
   },
   {
    "duration": 10,
    "start_time": "2022-06-25T22:58:38.368Z"
   },
   {
    "duration": 9,
    "start_time": "2022-06-25T22:58:38.380Z"
   },
   {
    "duration": 15,
    "start_time": "2022-06-25T22:58:38.390Z"
   },
   {
    "duration": 4,
    "start_time": "2022-06-25T22:58:38.407Z"
   },
   {
    "duration": 7,
    "start_time": "2022-06-25T22:58:38.413Z"
   },
   {
    "duration": 8,
    "start_time": "2022-06-25T22:58:38.422Z"
   },
   {
    "duration": 6,
    "start_time": "2022-06-25T22:58:38.432Z"
   },
   {
    "duration": 7,
    "start_time": "2022-06-25T22:58:38.439Z"
   },
   {
    "duration": 7,
    "start_time": "2022-06-25T22:58:38.448Z"
   },
   {
    "duration": 7,
    "start_time": "2022-06-25T22:58:38.456Z"
   },
   {
    "duration": 7,
    "start_time": "2022-06-25T22:58:38.465Z"
   },
   {
    "duration": 15,
    "start_time": "2022-06-25T22:58:38.473Z"
   },
   {
    "duration": 13,
    "start_time": "2022-06-25T22:58:38.489Z"
   },
   {
    "duration": 6,
    "start_time": "2022-06-25T22:58:38.504Z"
   },
   {
    "duration": 13,
    "start_time": "2022-06-25T22:58:38.512Z"
   },
   {
    "duration": 14,
    "start_time": "2022-06-25T22:58:38.527Z"
   },
   {
    "duration": 12,
    "start_time": "2022-06-25T22:58:38.542Z"
   },
   {
    "duration": 10,
    "start_time": "2022-06-25T22:58:38.555Z"
   },
   {
    "duration": 7,
    "start_time": "2022-06-25T22:58:38.566Z"
   },
   {
    "duration": 8,
    "start_time": "2022-06-25T22:58:38.574Z"
   },
   {
    "duration": 319,
    "start_time": "2022-06-25T22:58:38.584Z"
   },
   {
    "duration": 279,
    "start_time": "2022-06-25T22:58:38.905Z"
   },
   {
    "duration": 292,
    "start_time": "2022-06-25T22:58:39.186Z"
   },
   {
    "duration": 5,
    "start_time": "2022-06-25T22:59:39.754Z"
   },
   {
    "duration": 1094,
    "start_time": "2022-06-25T22:59:46.313Z"
   },
   {
    "duration": 132,
    "start_time": "2022-06-25T22:59:47.409Z"
   },
   {
    "duration": 116,
    "start_time": "2022-06-25T22:59:47.542Z"
   },
   {
    "duration": 119,
    "start_time": "2022-06-25T22:59:47.659Z"
   },
   {
    "duration": 18,
    "start_time": "2022-06-25T22:59:47.780Z"
   },
   {
    "duration": 26,
    "start_time": "2022-06-25T22:59:47.800Z"
   },
   {
    "duration": 11,
    "start_time": "2022-06-25T22:59:47.828Z"
   },
   {
    "duration": 16,
    "start_time": "2022-06-25T22:59:47.841Z"
   },
   {
    "duration": 11,
    "start_time": "2022-06-25T22:59:47.858Z"
   },
   {
    "duration": 17,
    "start_time": "2022-06-25T22:59:47.871Z"
   },
   {
    "duration": 66,
    "start_time": "2022-06-25T22:59:47.889Z"
   },
   {
    "duration": 40,
    "start_time": "2022-06-25T22:59:47.957Z"
   },
   {
    "duration": 59,
    "start_time": "2022-06-25T22:59:47.999Z"
   },
   {
    "duration": 14,
    "start_time": "2022-06-25T22:59:48.059Z"
   },
   {
    "duration": 11,
    "start_time": "2022-06-25T22:59:48.075Z"
   },
   {
    "duration": 13,
    "start_time": "2022-06-25T22:59:48.087Z"
   },
   {
    "duration": 36,
    "start_time": "2022-06-25T22:59:48.101Z"
   },
   {
    "duration": 12,
    "start_time": "2022-06-25T22:59:48.139Z"
   },
   {
    "duration": 14,
    "start_time": "2022-06-25T22:59:48.153Z"
   },
   {
    "duration": 23,
    "start_time": "2022-06-25T22:59:48.168Z"
   },
   {
    "duration": 11,
    "start_time": "2022-06-25T22:59:48.193Z"
   },
   {
    "duration": 30,
    "start_time": "2022-06-25T22:59:48.206Z"
   },
   {
    "duration": 8,
    "start_time": "2022-06-25T22:59:48.238Z"
   },
   {
    "duration": 12,
    "start_time": "2022-06-25T22:59:48.248Z"
   },
   {
    "duration": 7,
    "start_time": "2022-06-25T22:59:48.262Z"
   },
   {
    "duration": 12,
    "start_time": "2022-06-25T22:59:48.271Z"
   },
   {
    "duration": 6,
    "start_time": "2022-06-25T22:59:48.285Z"
   },
   {
    "duration": 5,
    "start_time": "2022-06-25T22:59:48.296Z"
   },
   {
    "duration": 16,
    "start_time": "2022-06-25T22:59:48.302Z"
   },
   {
    "duration": 14,
    "start_time": "2022-06-25T22:59:48.319Z"
   },
   {
    "duration": 10,
    "start_time": "2022-06-25T22:59:48.335Z"
   },
   {
    "duration": 8,
    "start_time": "2022-06-25T22:59:48.346Z"
   },
   {
    "duration": 9,
    "start_time": "2022-06-25T22:59:48.355Z"
   },
   {
    "duration": 6,
    "start_time": "2022-06-25T22:59:48.366Z"
   },
   {
    "duration": 16,
    "start_time": "2022-06-25T22:59:48.373Z"
   },
   {
    "duration": 41,
    "start_time": "2022-06-25T22:59:48.390Z"
   },
   {
    "duration": 10,
    "start_time": "2022-06-25T22:59:48.432Z"
   },
   {
    "duration": 6,
    "start_time": "2022-06-25T22:59:48.444Z"
   },
   {
    "duration": 82,
    "start_time": "2022-06-25T22:59:48.452Z"
   },
   {
    "duration": 196,
    "start_time": "2022-06-25T22:59:48.536Z"
   },
   {
    "duration": 10,
    "start_time": "2022-06-25T22:59:48.734Z"
   },
   {
    "duration": 6,
    "start_time": "2022-06-25T22:59:48.828Z"
   },
   {
    "duration": 109,
    "start_time": "2022-06-25T22:59:48.836Z"
   },
   {
    "duration": 5,
    "start_time": "2022-06-25T22:59:48.950Z"
   },
   {
    "duration": 6,
    "start_time": "2022-06-25T22:59:48.957Z"
   },
   {
    "duration": 9,
    "start_time": "2022-06-25T22:59:48.964Z"
   },
   {
    "duration": 7,
    "start_time": "2022-06-25T22:59:48.975Z"
   },
   {
    "duration": 10,
    "start_time": "2022-06-25T22:59:48.984Z"
   },
   {
    "duration": 4,
    "start_time": "2022-06-25T22:59:48.996Z"
   },
   {
    "duration": 7,
    "start_time": "2022-06-25T22:59:49.002Z"
   },
   {
    "duration": 6,
    "start_time": "2022-06-25T22:59:49.010Z"
   },
   {
    "duration": 6,
    "start_time": "2022-06-25T22:59:49.017Z"
   },
   {
    "duration": 24,
    "start_time": "2022-06-25T22:59:49.024Z"
   },
   {
    "duration": 9,
    "start_time": "2022-06-25T22:59:49.049Z"
   },
   {
    "duration": 7,
    "start_time": "2022-06-25T22:59:49.059Z"
   },
   {
    "duration": 6,
    "start_time": "2022-06-25T22:59:49.067Z"
   },
   {
    "duration": 13,
    "start_time": "2022-06-25T22:59:49.074Z"
   },
   {
    "duration": 7,
    "start_time": "2022-06-25T22:59:49.089Z"
   },
   {
    "duration": 16,
    "start_time": "2022-06-25T22:59:49.098Z"
   },
   {
    "duration": 5,
    "start_time": "2022-06-25T22:59:49.116Z"
   },
   {
    "duration": 6,
    "start_time": "2022-06-25T22:59:49.123Z"
   },
   {
    "duration": 33,
    "start_time": "2022-06-25T22:59:49.130Z"
   },
   {
    "duration": 5,
    "start_time": "2022-06-25T22:59:49.165Z"
   },
   {
    "duration": 6,
    "start_time": "2022-06-25T22:59:49.172Z"
   },
   {
    "duration": 5,
    "start_time": "2022-06-25T22:59:49.180Z"
   },
   {
    "duration": 330,
    "start_time": "2022-06-25T22:59:49.186Z"
   },
   {
    "duration": 307,
    "start_time": "2022-06-25T22:59:49.518Z"
   },
   {
    "duration": 312,
    "start_time": "2022-06-25T22:59:49.827Z"
   },
   {
    "duration": 1094,
    "start_time": "2022-06-25T23:01:13.329Z"
   },
   {
    "duration": 139,
    "start_time": "2022-06-25T23:01:14.425Z"
   },
   {
    "duration": 125,
    "start_time": "2022-06-25T23:01:14.566Z"
   },
   {
    "duration": 116,
    "start_time": "2022-06-25T23:01:14.693Z"
   },
   {
    "duration": 21,
    "start_time": "2022-06-25T23:01:14.810Z"
   },
   {
    "duration": 13,
    "start_time": "2022-06-25T23:01:14.833Z"
   },
   {
    "duration": 15,
    "start_time": "2022-06-25T23:01:14.848Z"
   },
   {
    "duration": 15,
    "start_time": "2022-06-25T23:01:14.864Z"
   },
   {
    "duration": 15,
    "start_time": "2022-06-25T23:01:14.881Z"
   },
   {
    "duration": 36,
    "start_time": "2022-06-25T23:01:14.898Z"
   },
   {
    "duration": 49,
    "start_time": "2022-06-25T23:01:14.936Z"
   },
   {
    "duration": 70,
    "start_time": "2022-06-25T23:01:14.986Z"
   },
   {
    "duration": 45,
    "start_time": "2022-06-25T23:01:15.057Z"
   },
   {
    "duration": 26,
    "start_time": "2022-06-25T23:01:15.103Z"
   },
   {
    "duration": 12,
    "start_time": "2022-06-25T23:01:15.131Z"
   },
   {
    "duration": 15,
    "start_time": "2022-06-25T23:01:15.145Z"
   },
   {
    "duration": 16,
    "start_time": "2022-06-25T23:01:15.161Z"
   },
   {
    "duration": 11,
    "start_time": "2022-06-25T23:01:15.178Z"
   },
   {
    "duration": 41,
    "start_time": "2022-06-25T23:01:15.190Z"
   },
   {
    "duration": 20,
    "start_time": "2022-06-25T23:01:15.233Z"
   },
   {
    "duration": 11,
    "start_time": "2022-06-25T23:01:15.254Z"
   },
   {
    "duration": 13,
    "start_time": "2022-06-25T23:01:15.266Z"
   },
   {
    "duration": 10,
    "start_time": "2022-06-25T23:01:15.281Z"
   },
   {
    "duration": 5,
    "start_time": "2022-06-25T23:01:15.293Z"
   },
   {
    "duration": 26,
    "start_time": "2022-06-25T23:01:15.300Z"
   },
   {
    "duration": 4,
    "start_time": "2022-06-25T23:01:15.328Z"
   },
   {
    "duration": 7,
    "start_time": "2022-06-25T23:01:15.334Z"
   },
   {
    "duration": 5,
    "start_time": "2022-06-25T23:01:15.346Z"
   },
   {
    "duration": 15,
    "start_time": "2022-06-25T23:01:15.353Z"
   },
   {
    "duration": 9,
    "start_time": "2022-06-25T23:01:15.370Z"
   },
   {
    "duration": 15,
    "start_time": "2022-06-25T23:01:15.380Z"
   },
   {
    "duration": 34,
    "start_time": "2022-06-25T23:01:15.397Z"
   },
   {
    "duration": 9,
    "start_time": "2022-06-25T23:01:15.432Z"
   },
   {
    "duration": 7,
    "start_time": "2022-06-25T23:01:15.442Z"
   },
   {
    "duration": 15,
    "start_time": "2022-06-25T23:01:15.450Z"
   },
   {
    "duration": 11,
    "start_time": "2022-06-25T23:01:15.467Z"
   },
   {
    "duration": 12,
    "start_time": "2022-06-25T23:01:15.479Z"
   },
   {
    "duration": 14,
    "start_time": "2022-06-25T23:01:15.527Z"
   },
   {
    "duration": 108,
    "start_time": "2022-06-25T23:01:15.628Z"
   },
   {
    "duration": 100,
    "start_time": "2022-06-25T23:01:15.738Z"
   },
   {
    "duration": 91,
    "start_time": "2022-06-25T23:01:15.841Z"
   },
   {
    "duration": 96,
    "start_time": "2022-06-25T23:01:15.935Z"
   },
   {
    "duration": 11,
    "start_time": "2022-06-25T23:01:16.033Z"
   },
   {
    "duration": 9,
    "start_time": "2022-06-25T23:01:16.046Z"
   },
   {
    "duration": 6,
    "start_time": "2022-06-25T23:01:16.056Z"
   },
   {
    "duration": 7,
    "start_time": "2022-06-25T23:01:16.063Z"
   },
   {
    "duration": 7,
    "start_time": "2022-06-25T23:01:16.071Z"
   },
   {
    "duration": 6,
    "start_time": "2022-06-25T23:01:16.079Z"
   },
   {
    "duration": 7,
    "start_time": "2022-06-25T23:01:16.087Z"
   },
   {
    "duration": 8,
    "start_time": "2022-06-25T23:01:16.096Z"
   },
   {
    "duration": 7,
    "start_time": "2022-06-25T23:01:16.106Z"
   },
   {
    "duration": 4,
    "start_time": "2022-06-25T23:01:16.127Z"
   },
   {
    "duration": 6,
    "start_time": "2022-06-25T23:01:16.132Z"
   },
   {
    "duration": 7,
    "start_time": "2022-06-25T23:01:16.139Z"
   },
   {
    "duration": 10,
    "start_time": "2022-06-25T23:01:16.147Z"
   },
   {
    "duration": 6,
    "start_time": "2022-06-25T23:01:16.158Z"
   },
   {
    "duration": 9,
    "start_time": "2022-06-25T23:01:16.165Z"
   },
   {
    "duration": 7,
    "start_time": "2022-06-25T23:01:16.176Z"
   },
   {
    "duration": 8,
    "start_time": "2022-06-25T23:01:16.184Z"
   },
   {
    "duration": 10,
    "start_time": "2022-06-25T23:01:16.193Z"
   },
   {
    "duration": 5,
    "start_time": "2022-06-25T23:01:16.205Z"
   },
   {
    "duration": 10,
    "start_time": "2022-06-25T23:01:16.212Z"
   },
   {
    "duration": 7,
    "start_time": "2022-06-25T23:01:16.227Z"
   },
   {
    "duration": 8,
    "start_time": "2022-06-25T23:01:16.235Z"
   },
   {
    "duration": 8,
    "start_time": "2022-06-25T23:01:16.245Z"
   },
   {
    "duration": 328,
    "start_time": "2022-06-25T23:01:16.254Z"
   },
   {
    "duration": 301,
    "start_time": "2022-06-25T23:01:16.583Z"
   },
   {
    "duration": 354,
    "start_time": "2022-06-25T23:01:16.886Z"
   },
   {
    "duration": 4,
    "start_time": "2022-06-25T23:02:31.150Z"
   },
   {
    "duration": 283,
    "start_time": "2022-06-25T23:02:34.049Z"
   },
   {
    "duration": 1120,
    "start_time": "2022-06-25T23:02:59.925Z"
   },
   {
    "duration": 145,
    "start_time": "2022-06-25T23:03:01.047Z"
   },
   {
    "duration": 124,
    "start_time": "2022-06-25T23:03:01.194Z"
   },
   {
    "duration": 134,
    "start_time": "2022-06-25T23:03:01.321Z"
   },
   {
    "duration": 23,
    "start_time": "2022-06-25T23:03:01.457Z"
   },
   {
    "duration": 32,
    "start_time": "2022-06-25T23:03:01.483Z"
   },
   {
    "duration": 52,
    "start_time": "2022-06-25T23:03:01.517Z"
   },
   {
    "duration": 46,
    "start_time": "2022-06-25T23:03:01.571Z"
   },
   {
    "duration": 21,
    "start_time": "2022-06-25T23:03:01.619Z"
   },
   {
    "duration": 39,
    "start_time": "2022-06-25T23:03:01.644Z"
   },
   {
    "duration": 58,
    "start_time": "2022-06-25T23:03:01.685Z"
   },
   {
    "duration": 43,
    "start_time": "2022-06-25T23:03:01.744Z"
   },
   {
    "duration": 60,
    "start_time": "2022-06-25T23:03:01.788Z"
   },
   {
    "duration": 16,
    "start_time": "2022-06-25T23:03:01.850Z"
   },
   {
    "duration": 13,
    "start_time": "2022-06-25T23:03:01.868Z"
   },
   {
    "duration": 16,
    "start_time": "2022-06-25T23:03:01.882Z"
   },
   {
    "duration": 42,
    "start_time": "2022-06-25T23:03:01.900Z"
   },
   {
    "duration": 13,
    "start_time": "2022-06-25T23:03:01.944Z"
   },
   {
    "duration": 15,
    "start_time": "2022-06-25T23:03:01.959Z"
   },
   {
    "duration": 33,
    "start_time": "2022-06-25T23:03:01.977Z"
   },
   {
    "duration": 16,
    "start_time": "2022-06-25T23:03:02.012Z"
   },
   {
    "duration": 16,
    "start_time": "2022-06-25T23:03:02.029Z"
   },
   {
    "duration": 14,
    "start_time": "2022-06-25T23:03:02.047Z"
   },
   {
    "duration": 19,
    "start_time": "2022-06-25T23:03:02.063Z"
   },
   {
    "duration": 10,
    "start_time": "2022-06-25T23:03:02.084Z"
   },
   {
    "duration": 24,
    "start_time": "2022-06-25T23:03:02.097Z"
   },
   {
    "duration": 25,
    "start_time": "2022-06-25T23:03:02.123Z"
   },
   {
    "duration": 17,
    "start_time": "2022-06-25T23:03:02.153Z"
   },
   {
    "duration": 16,
    "start_time": "2022-06-25T23:03:02.172Z"
   },
   {
    "duration": 8,
    "start_time": "2022-06-25T23:03:02.190Z"
   },
   {
    "duration": 15,
    "start_time": "2022-06-25T23:03:02.200Z"
   },
   {
    "duration": 6,
    "start_time": "2022-06-25T23:03:02.217Z"
   },
   {
    "duration": 11,
    "start_time": "2022-06-25T23:03:02.224Z"
   },
   {
    "duration": 9,
    "start_time": "2022-06-25T23:03:02.236Z"
   },
   {
    "duration": 16,
    "start_time": "2022-06-25T23:03:02.246Z"
   },
   {
    "duration": 11,
    "start_time": "2022-06-25T23:03:02.263Z"
   },
   {
    "duration": 12,
    "start_time": "2022-06-25T23:03:02.276Z"
   },
   {
    "duration": 41,
    "start_time": "2022-06-25T23:03:02.290Z"
   },
   {
    "duration": 104,
    "start_time": "2022-06-25T23:03:02.334Z"
   },
   {
    "duration": 191,
    "start_time": "2022-06-25T23:03:02.440Z"
   },
   {
    "duration": 109,
    "start_time": "2022-06-25T23:03:02.633Z"
   },
   {
    "duration": 91,
    "start_time": "2022-06-25T23:03:02.744Z"
   },
   {
    "duration": 7,
    "start_time": "2022-06-25T23:03:02.836Z"
   },
   {
    "duration": 6,
    "start_time": "2022-06-25T23:03:02.844Z"
   },
   {
    "duration": 7,
    "start_time": "2022-06-25T23:03:02.852Z"
   },
   {
    "duration": 7,
    "start_time": "2022-06-25T23:03:02.860Z"
   },
   {
    "duration": 6,
    "start_time": "2022-06-25T23:03:02.869Z"
   },
   {
    "duration": 7,
    "start_time": "2022-06-25T23:03:02.877Z"
   },
   {
    "duration": 7,
    "start_time": "2022-06-25T23:03:02.886Z"
   },
   {
    "duration": 6,
    "start_time": "2022-06-25T23:03:02.895Z"
   },
   {
    "duration": 8,
    "start_time": "2022-06-25T23:03:02.927Z"
   },
   {
    "duration": 8,
    "start_time": "2022-06-25T23:03:02.936Z"
   },
   {
    "duration": 8,
    "start_time": "2022-06-25T23:03:02.946Z"
   },
   {
    "duration": 10,
    "start_time": "2022-06-25T23:03:02.956Z"
   },
   {
    "duration": 6,
    "start_time": "2022-06-25T23:03:02.968Z"
   },
   {
    "duration": 10,
    "start_time": "2022-06-25T23:03:02.975Z"
   },
   {
    "duration": 12,
    "start_time": "2022-06-25T23:03:02.987Z"
   },
   {
    "duration": 8,
    "start_time": "2022-06-25T23:03:03.001Z"
   },
   {
    "duration": 6,
    "start_time": "2022-06-25T23:03:03.011Z"
   },
   {
    "duration": 8,
    "start_time": "2022-06-25T23:03:03.019Z"
   },
   {
    "duration": 4,
    "start_time": "2022-06-25T23:03:03.029Z"
   },
   {
    "duration": 6,
    "start_time": "2022-06-25T23:03:03.035Z"
   },
   {
    "duration": 5,
    "start_time": "2022-06-25T23:03:03.043Z"
   },
   {
    "duration": 9,
    "start_time": "2022-06-25T23:03:03.049Z"
   },
   {
    "duration": 7,
    "start_time": "2022-06-25T23:03:03.059Z"
   },
   {
    "duration": 324,
    "start_time": "2022-06-25T23:03:03.068Z"
   },
   {
    "duration": 338,
    "start_time": "2022-06-25T23:03:03.394Z"
   },
   {
    "duration": 342,
    "start_time": "2022-06-25T23:03:03.733Z"
   },
   {
    "duration": 9,
    "start_time": "2022-06-26T10:24:12.604Z"
   },
   {
    "duration": 1358,
    "start_time": "2022-06-26T10:24:17.029Z"
   },
   {
    "duration": 530,
    "start_time": "2022-06-26T10:24:18.389Z"
   },
   {
    "duration": 562,
    "start_time": "2022-06-26T10:24:18.920Z"
   },
   {
    "duration": 544,
    "start_time": "2022-06-26T10:24:19.484Z"
   },
   {
    "duration": 24,
    "start_time": "2022-06-26T10:24:20.030Z"
   },
   {
    "duration": 19,
    "start_time": "2022-06-26T10:24:20.057Z"
   },
   {
    "duration": 13,
    "start_time": "2022-06-26T10:24:20.078Z"
   },
   {
    "duration": 18,
    "start_time": "2022-06-26T10:24:20.093Z"
   },
   {
    "duration": 39,
    "start_time": "2022-06-26T10:24:20.113Z"
   },
   {
    "duration": 13,
    "start_time": "2022-06-26T10:24:20.155Z"
   },
   {
    "duration": 72,
    "start_time": "2022-06-26T10:24:20.170Z"
   },
   {
    "duration": 48,
    "start_time": "2022-06-26T10:24:20.244Z"
   },
   {
    "duration": 70,
    "start_time": "2022-06-26T10:24:20.294Z"
   },
   {
    "duration": 19,
    "start_time": "2022-06-26T10:24:20.365Z"
   },
   {
    "duration": 13,
    "start_time": "2022-06-26T10:24:20.386Z"
   },
   {
    "duration": 17,
    "start_time": "2022-06-26T10:24:20.401Z"
   },
   {
    "duration": 37,
    "start_time": "2022-06-26T10:24:20.420Z"
   },
   {
    "duration": 14,
    "start_time": "2022-06-26T10:24:20.459Z"
   },
   {
    "duration": 14,
    "start_time": "2022-06-26T10:24:20.474Z"
   },
   {
    "duration": 20,
    "start_time": "2022-06-26T10:24:20.490Z"
   },
   {
    "duration": 41,
    "start_time": "2022-06-26T10:24:20.512Z"
   },
   {
    "duration": 12,
    "start_time": "2022-06-26T10:24:20.555Z"
   },
   {
    "duration": 10,
    "start_time": "2022-06-26T10:24:20.569Z"
   },
   {
    "duration": 7,
    "start_time": "2022-06-26T10:24:20.581Z"
   },
   {
    "duration": 20,
    "start_time": "2022-06-26T10:24:20.589Z"
   },
   {
    "duration": 9,
    "start_time": "2022-06-26T10:24:20.611Z"
   },
   {
    "duration": 21,
    "start_time": "2022-06-26T10:24:20.622Z"
   },
   {
    "duration": 10,
    "start_time": "2022-06-26T10:24:20.647Z"
   },
   {
    "duration": 20,
    "start_time": "2022-06-26T10:24:20.659Z"
   },
   {
    "duration": 7,
    "start_time": "2022-06-26T10:24:20.681Z"
   },
   {
    "duration": 15,
    "start_time": "2022-06-26T10:24:20.690Z"
   },
   {
    "duration": 8,
    "start_time": "2022-06-26T10:24:20.707Z"
   },
   {
    "duration": 26,
    "start_time": "2022-06-26T10:24:20.716Z"
   },
   {
    "duration": 7,
    "start_time": "2022-06-26T10:24:20.744Z"
   },
   {
    "duration": 12,
    "start_time": "2022-06-26T10:24:20.753Z"
   },
   {
    "duration": 11,
    "start_time": "2022-06-26T10:24:20.767Z"
   },
   {
    "duration": 13,
    "start_time": "2022-06-26T10:24:20.780Z"
   },
   {
    "duration": 48,
    "start_time": "2022-06-26T10:24:20.794Z"
   },
   {
    "duration": 7,
    "start_time": "2022-06-26T10:24:20.844Z"
   },
   {
    "duration": 11,
    "start_time": "2022-06-26T10:24:20.942Z"
   },
   {
    "duration": 94,
    "start_time": "2022-06-26T10:24:20.955Z"
   },
   {
    "duration": 95,
    "start_time": "2022-06-26T10:24:21.051Z"
   },
   {
    "duration": 6,
    "start_time": "2022-06-26T10:24:21.147Z"
   },
   {
    "duration": 5,
    "start_time": "2022-06-26T10:24:21.155Z"
   },
   {
    "duration": 5,
    "start_time": "2022-06-26T10:24:21.162Z"
   },
   {
    "duration": 7,
    "start_time": "2022-06-26T10:24:21.169Z"
   },
   {
    "duration": 4,
    "start_time": "2022-06-26T10:24:21.178Z"
   },
   {
    "duration": 6,
    "start_time": "2022-06-26T10:24:21.184Z"
   },
   {
    "duration": 5,
    "start_time": "2022-06-26T10:24:21.191Z"
   },
   {
    "duration": 6,
    "start_time": "2022-06-26T10:24:21.198Z"
   },
   {
    "duration": 37,
    "start_time": "2022-06-26T10:24:21.206Z"
   },
   {
    "duration": 4,
    "start_time": "2022-06-26T10:24:21.245Z"
   },
   {
    "duration": 8,
    "start_time": "2022-06-26T10:24:21.251Z"
   },
   {
    "duration": 10,
    "start_time": "2022-06-26T10:24:21.260Z"
   },
   {
    "duration": 8,
    "start_time": "2022-06-26T10:24:21.271Z"
   },
   {
    "duration": 10,
    "start_time": "2022-06-26T10:24:21.281Z"
   },
   {
    "duration": 6,
    "start_time": "2022-06-26T10:24:21.293Z"
   },
   {
    "duration": 8,
    "start_time": "2022-06-26T10:24:21.301Z"
   },
   {
    "duration": 7,
    "start_time": "2022-06-26T10:24:21.311Z"
   },
   {
    "duration": 22,
    "start_time": "2022-06-26T10:24:21.320Z"
   },
   {
    "duration": 6,
    "start_time": "2022-06-26T10:24:21.344Z"
   },
   {
    "duration": 9,
    "start_time": "2022-06-26T10:24:21.352Z"
   },
   {
    "duration": 6,
    "start_time": "2022-06-26T10:24:21.363Z"
   },
   {
    "duration": 6,
    "start_time": "2022-06-26T10:24:21.371Z"
   },
   {
    "duration": 9,
    "start_time": "2022-06-26T10:24:21.378Z"
   },
   {
    "duration": 7,
    "start_time": "2022-06-26T10:24:21.389Z"
   },
   {
    "duration": 360,
    "start_time": "2022-06-26T10:24:21.398Z"
   },
   {
    "duration": 340,
    "start_time": "2022-06-26T10:24:21.760Z"
   },
   {
    "duration": 389,
    "start_time": "2022-06-26T10:24:22.102Z"
   },
   {
    "duration": 4,
    "start_time": "2022-06-26T10:25:36.883Z"
   },
   {
    "duration": 4,
    "start_time": "2022-06-26T10:25:38.340Z"
   },
   {
    "duration": 3,
    "start_time": "2022-06-26T10:25:43.148Z"
   },
   {
    "duration": 4,
    "start_time": "2022-06-26T10:25:44.489Z"
   },
   {
    "duration": 5,
    "start_time": "2022-06-26T10:25:47.449Z"
   },
   {
    "duration": 5,
    "start_time": "2022-06-26T10:25:48.907Z"
   },
   {
    "duration": 14,
    "start_time": "2022-06-26T10:26:16.351Z"
   },
   {
    "duration": 5,
    "start_time": "2022-06-26T10:26:30.530Z"
   },
   {
    "duration": 103,
    "start_time": "2022-06-26T10:26:54.362Z"
   },
   {
    "duration": 13,
    "start_time": "2022-06-26T10:26:57.595Z"
   },
   {
    "duration": 7,
    "start_time": "2022-06-26T10:27:05.081Z"
   },
   {
    "duration": 5,
    "start_time": "2022-06-26T10:27:09.112Z"
   },
   {
    "duration": 4,
    "start_time": "2022-06-26T10:28:28.755Z"
   },
   {
    "duration": 4,
    "start_time": "2022-06-26T10:28:29.799Z"
   },
   {
    "duration": 4,
    "start_time": "2022-06-26T10:28:40.670Z"
   },
   {
    "duration": 4,
    "start_time": "2022-06-26T10:28:40.992Z"
   },
   {
    "duration": 4,
    "start_time": "2022-06-26T10:28:41.729Z"
   },
   {
    "duration": 4,
    "start_time": "2022-06-26T10:28:53.068Z"
   },
   {
    "duration": 5,
    "start_time": "2022-06-26T10:28:54.217Z"
   },
   {
    "duration": 5,
    "start_time": "2022-06-26T10:29:12.182Z"
   },
   {
    "duration": 1295,
    "start_time": "2022-06-26T10:29:46.819Z"
   },
   {
    "duration": 141,
    "start_time": "2022-06-26T10:29:48.116Z"
   },
   {
    "duration": 124,
    "start_time": "2022-06-26T10:29:48.258Z"
   },
   {
    "duration": 125,
    "start_time": "2022-06-26T10:29:48.384Z"
   },
   {
    "duration": 23,
    "start_time": "2022-06-26T10:29:48.511Z"
   },
   {
    "duration": 24,
    "start_time": "2022-06-26T10:29:48.541Z"
   },
   {
    "duration": 20,
    "start_time": "2022-06-26T10:29:48.567Z"
   },
   {
    "duration": 19,
    "start_time": "2022-06-26T10:29:48.589Z"
   },
   {
    "duration": 43,
    "start_time": "2022-06-26T10:29:48.609Z"
   },
   {
    "duration": 15,
    "start_time": "2022-06-26T10:29:48.654Z"
   },
   {
    "duration": 47,
    "start_time": "2022-06-26T10:29:48.671Z"
   },
   {
    "duration": 46,
    "start_time": "2022-06-26T10:29:48.742Z"
   },
   {
    "duration": 64,
    "start_time": "2022-06-26T10:29:48.790Z"
   },
   {
    "duration": 17,
    "start_time": "2022-06-26T10:29:48.856Z"
   },
   {
    "duration": 13,
    "start_time": "2022-06-26T10:29:48.875Z"
   },
   {
    "duration": 13,
    "start_time": "2022-06-26T10:29:48.890Z"
   },
   {
    "duration": 49,
    "start_time": "2022-06-26T10:29:48.904Z"
   },
   {
    "duration": 13,
    "start_time": "2022-06-26T10:29:48.954Z"
   },
   {
    "duration": 15,
    "start_time": "2022-06-26T10:29:48.969Z"
   },
   {
    "duration": 21,
    "start_time": "2022-06-26T10:29:48.986Z"
   },
   {
    "duration": 34,
    "start_time": "2022-06-26T10:29:49.009Z"
   },
   {
    "duration": 13,
    "start_time": "2022-06-26T10:29:49.044Z"
   },
   {
    "duration": 6,
    "start_time": "2022-06-26T10:29:49.059Z"
   },
   {
    "duration": 6,
    "start_time": "2022-06-26T10:29:49.066Z"
   },
   {
    "duration": 8,
    "start_time": "2022-06-26T10:29:49.074Z"
   },
   {
    "duration": 7,
    "start_time": "2022-06-26T10:29:49.083Z"
   },
   {
    "duration": 12,
    "start_time": "2022-06-26T10:29:49.091Z"
   },
   {
    "duration": 7,
    "start_time": "2022-06-26T10:29:49.107Z"
   },
   {
    "duration": 13,
    "start_time": "2022-06-26T10:29:49.142Z"
   },
   {
    "duration": 7,
    "start_time": "2022-06-26T10:29:49.156Z"
   },
   {
    "duration": 11,
    "start_time": "2022-06-26T10:29:49.165Z"
   },
   {
    "duration": 7,
    "start_time": "2022-06-26T10:29:49.178Z"
   },
   {
    "duration": 14,
    "start_time": "2022-06-26T10:29:49.186Z"
   },
   {
    "duration": 10,
    "start_time": "2022-06-26T10:29:49.202Z"
   },
   {
    "duration": 40,
    "start_time": "2022-06-26T10:29:49.213Z"
   },
   {
    "duration": 12,
    "start_time": "2022-06-26T10:29:49.255Z"
   },
   {
    "duration": 14,
    "start_time": "2022-06-26T10:29:49.269Z"
   },
   {
    "duration": 64,
    "start_time": "2022-06-26T10:29:49.284Z"
   },
   {
    "duration": 98,
    "start_time": "2022-06-26T10:29:49.350Z"
   },
   {
    "duration": 205,
    "start_time": "2022-06-26T10:29:49.451Z"
   },
   {
    "duration": 193,
    "start_time": "2022-06-26T10:29:49.660Z"
   },
   {
    "duration": 6,
    "start_time": "2022-06-26T10:29:49.856Z"
   },
   {
    "duration": 4,
    "start_time": "2022-06-26T10:29:49.864Z"
   },
   {
    "duration": 4,
    "start_time": "2022-06-26T10:29:49.870Z"
   },
   {
    "duration": 7,
    "start_time": "2022-06-26T10:29:49.875Z"
   },
   {
    "duration": 7,
    "start_time": "2022-06-26T10:29:49.884Z"
   },
   {
    "duration": 6,
    "start_time": "2022-06-26T10:29:49.893Z"
   },
   {
    "duration": 8,
    "start_time": "2022-06-26T10:29:49.900Z"
   },
   {
    "duration": 4,
    "start_time": "2022-06-26T10:29:49.941Z"
   },
   {
    "duration": 8,
    "start_time": "2022-06-26T10:29:49.947Z"
   },
   {
    "duration": 6,
    "start_time": "2022-06-26T10:29:49.957Z"
   },
   {
    "duration": 8,
    "start_time": "2022-06-26T10:29:49.965Z"
   },
   {
    "duration": 8,
    "start_time": "2022-06-26T10:29:49.974Z"
   },
   {
    "duration": 7,
    "start_time": "2022-06-26T10:29:49.983Z"
   },
   {
    "duration": 7,
    "start_time": "2022-06-26T10:29:49.992Z"
   },
   {
    "duration": 5,
    "start_time": "2022-06-26T10:29:50.001Z"
   },
   {
    "duration": 10,
    "start_time": "2022-06-26T10:29:50.008Z"
   },
   {
    "duration": 26,
    "start_time": "2022-06-26T10:29:50.019Z"
   },
   {
    "duration": 13,
    "start_time": "2022-06-26T10:29:50.047Z"
   },
   {
    "duration": 8,
    "start_time": "2022-06-26T10:29:50.062Z"
   },
   {
    "duration": 10,
    "start_time": "2022-06-26T10:29:50.072Z"
   },
   {
    "duration": 12,
    "start_time": "2022-06-26T10:29:50.084Z"
   },
   {
    "duration": 5,
    "start_time": "2022-06-26T10:29:50.098Z"
   },
   {
    "duration": 7,
    "start_time": "2022-06-26T10:29:50.105Z"
   },
   {
    "duration": 6,
    "start_time": "2022-06-26T10:29:50.114Z"
   },
   {
    "duration": 343,
    "start_time": "2022-06-26T10:29:50.143Z"
   },
   {
    "duration": 353,
    "start_time": "2022-06-26T10:29:50.488Z"
   },
   {
    "duration": 391,
    "start_time": "2022-06-26T10:29:50.843Z"
   },
   {
    "duration": 5,
    "start_time": "2022-06-26T10:36:55.445Z"
   },
   {
    "duration": 310,
    "start_time": "2022-06-26T10:36:57.304Z"
   },
   {
    "duration": 305,
    "start_time": "2022-06-26T10:37:35.472Z"
   },
   {
    "duration": 5,
    "start_time": "2022-06-26T10:37:39.102Z"
   },
   {
    "duration": 306,
    "start_time": "2022-06-26T10:37:40.475Z"
   },
   {
    "duration": 5,
    "start_time": "2022-06-26T18:18:29.156Z"
   },
   {
    "duration": 6,
    "start_time": "2022-06-26T18:18:35.536Z"
   },
   {
    "duration": 5,
    "start_time": "2022-06-26T18:19:18.893Z"
   },
   {
    "duration": 6,
    "start_time": "2022-06-26T18:19:24.590Z"
   },
   {
    "duration": 9,
    "start_time": "2022-06-26T18:19:58.381Z"
   },
   {
    "duration": 4,
    "start_time": "2022-06-26T18:21:09.574Z"
   },
   {
    "duration": 3,
    "start_time": "2022-06-26T18:25:29.460Z"
   },
   {
    "duration": 912,
    "start_time": "2022-06-26T18:25:36.793Z"
   },
   {
    "duration": 107,
    "start_time": "2022-06-26T18:25:37.707Z"
   },
   {
    "duration": 92,
    "start_time": "2022-06-26T18:25:37.815Z"
   },
   {
    "duration": 90,
    "start_time": "2022-06-26T18:25:37.908Z"
   },
   {
    "duration": 17,
    "start_time": "2022-06-26T18:25:38.000Z"
   },
   {
    "duration": 12,
    "start_time": "2022-06-26T18:25:38.018Z"
   },
   {
    "duration": 24,
    "start_time": "2022-06-26T18:25:38.031Z"
   },
   {
    "duration": 13,
    "start_time": "2022-06-26T18:25:38.056Z"
   },
   {
    "duration": 10,
    "start_time": "2022-06-26T18:25:38.070Z"
   },
   {
    "duration": 13,
    "start_time": "2022-06-26T18:25:38.081Z"
   },
   {
    "duration": 61,
    "start_time": "2022-06-26T18:25:38.095Z"
   },
   {
    "duration": 35,
    "start_time": "2022-06-26T18:25:38.158Z"
   },
   {
    "duration": 37,
    "start_time": "2022-06-26T18:25:38.195Z"
   },
   {
    "duration": 14,
    "start_time": "2022-06-26T18:25:38.252Z"
   },
   {
    "duration": 10,
    "start_time": "2022-06-26T18:25:38.267Z"
   },
   {
    "duration": 11,
    "start_time": "2022-06-26T18:25:38.278Z"
   },
   {
    "duration": 15,
    "start_time": "2022-06-26T18:25:38.290Z"
   },
   {
    "duration": 9,
    "start_time": "2022-06-26T18:25:38.306Z"
   },
   {
    "duration": 34,
    "start_time": "2022-06-26T18:25:38.317Z"
   },
   {
    "duration": 15,
    "start_time": "2022-06-26T18:25:38.352Z"
   },
   {
    "duration": 10,
    "start_time": "2022-06-26T18:25:38.368Z"
   },
   {
    "duration": 9,
    "start_time": "2022-06-26T18:25:38.379Z"
   },
   {
    "duration": 17,
    "start_time": "2022-06-26T18:25:38.389Z"
   },
   {
    "duration": 8,
    "start_time": "2022-06-26T18:25:38.407Z"
   },
   {
    "duration": 5,
    "start_time": "2022-06-26T18:25:38.417Z"
   },
   {
    "duration": 4,
    "start_time": "2022-06-26T18:25:38.424Z"
   },
   {
    "duration": 21,
    "start_time": "2022-06-26T18:25:38.430Z"
   },
   {
    "duration": 4,
    "start_time": "2022-06-26T18:25:38.452Z"
   },
   {
    "duration": 17,
    "start_time": "2022-06-26T18:25:38.458Z"
   },
   {
    "duration": 5,
    "start_time": "2022-06-26T18:25:38.476Z"
   },
   {
    "duration": 7,
    "start_time": "2022-06-26T18:25:38.483Z"
   },
   {
    "duration": 6,
    "start_time": "2022-06-26T18:25:38.491Z"
   },
   {
    "duration": 7,
    "start_time": "2022-06-26T18:25:38.498Z"
   },
   {
    "duration": 5,
    "start_time": "2022-06-26T18:25:38.506Z"
   },
   {
    "duration": 10,
    "start_time": "2022-06-26T18:25:38.512Z"
   },
   {
    "duration": 9,
    "start_time": "2022-06-26T18:25:38.551Z"
   },
   {
    "duration": 9,
    "start_time": "2022-06-26T18:25:38.561Z"
   },
   {
    "duration": 81,
    "start_time": "2022-06-26T18:25:38.571Z"
   },
   {
    "duration": 97,
    "start_time": "2022-06-26T18:25:38.655Z"
   },
   {
    "duration": 7,
    "start_time": "2022-06-26T18:25:38.753Z"
   },
   {
    "duration": 96,
    "start_time": "2022-06-26T18:25:38.764Z"
   },
   {
    "duration": 6,
    "start_time": "2022-06-26T18:25:38.951Z"
   },
   {
    "duration": 5,
    "start_time": "2022-06-26T18:25:38.958Z"
   },
   {
    "duration": 3,
    "start_time": "2022-06-26T18:25:38.964Z"
   },
   {
    "duration": 5,
    "start_time": "2022-06-26T18:25:38.968Z"
   },
   {
    "duration": 7,
    "start_time": "2022-06-26T18:25:38.975Z"
   },
   {
    "duration": 8,
    "start_time": "2022-06-26T18:25:38.983Z"
   },
   {
    "duration": 6,
    "start_time": "2022-06-26T18:25:38.992Z"
   },
   {
    "duration": 10,
    "start_time": "2022-06-26T18:25:38.999Z"
   },
   {
    "duration": 41,
    "start_time": "2022-06-26T18:25:39.011Z"
   },
   {
    "duration": 7,
    "start_time": "2022-06-26T18:25:39.053Z"
   },
   {
    "duration": 4,
    "start_time": "2022-06-26T18:25:39.151Z"
   },
   {
    "duration": 19,
    "start_time": "2022-06-26T18:25:39.156Z"
   },
   {
    "duration": 30,
    "start_time": "2022-06-26T18:25:39.176Z"
   },
   {
    "duration": 44,
    "start_time": "2022-06-26T18:25:39.207Z"
   },
   {
    "duration": 98,
    "start_time": "2022-06-26T18:25:39.253Z"
   },
   {
    "duration": 4,
    "start_time": "2022-06-26T18:25:39.352Z"
   },
   {
    "duration": 23,
    "start_time": "2022-06-26T18:25:39.357Z"
   },
   {
    "duration": 78,
    "start_time": "2022-06-26T18:25:39.381Z"
   },
   {
    "duration": 118,
    "start_time": "2022-06-26T18:25:39.461Z"
   },
   {
    "duration": 16,
    "start_time": "2022-06-26T18:25:39.580Z"
   },
   {
    "duration": 30,
    "start_time": "2022-06-26T18:25:39.597Z"
   },
   {
    "duration": 16,
    "start_time": "2022-06-26T18:25:39.628Z"
   },
   {
    "duration": 20,
    "start_time": "2022-06-26T18:25:39.645Z"
   },
   {
    "duration": 21,
    "start_time": "2022-06-26T18:25:39.666Z"
   },
   {
    "duration": 102,
    "start_time": "2022-06-26T18:25:39.688Z"
   },
   {
    "duration": 0,
    "start_time": "2022-06-26T18:25:39.792Z"
   },
   {
    "duration": 0,
    "start_time": "2022-06-26T18:25:39.794Z"
   },
   {
    "duration": 4,
    "start_time": "2022-06-26T18:26:07.195Z"
   },
   {
    "duration": 3,
    "start_time": "2022-06-26T18:26:25.786Z"
   },
   {
    "duration": 3,
    "start_time": "2022-06-26T18:26:40.329Z"
   },
   {
    "duration": 7,
    "start_time": "2022-06-26T18:26:48.569Z"
   },
   {
    "duration": 4,
    "start_time": "2022-06-26T18:30:05.263Z"
   },
   {
    "duration": 893,
    "start_time": "2022-06-26T18:30:11.606Z"
   },
   {
    "duration": 99,
    "start_time": "2022-06-26T18:30:12.500Z"
   },
   {
    "duration": 97,
    "start_time": "2022-06-26T18:30:12.600Z"
   },
   {
    "duration": 90,
    "start_time": "2022-06-26T18:30:12.699Z"
   },
   {
    "duration": 17,
    "start_time": "2022-06-26T18:30:12.790Z"
   },
   {
    "duration": 12,
    "start_time": "2022-06-26T18:30:12.809Z"
   },
   {
    "duration": 10,
    "start_time": "2022-06-26T18:30:12.823Z"
   },
   {
    "duration": 11,
    "start_time": "2022-06-26T18:30:12.851Z"
   },
   {
    "duration": 9,
    "start_time": "2022-06-26T18:30:12.863Z"
   },
   {
    "duration": 11,
    "start_time": "2022-06-26T18:30:12.875Z"
   },
   {
    "duration": 37,
    "start_time": "2022-06-26T18:30:12.887Z"
   },
   {
    "duration": 57,
    "start_time": "2022-06-26T18:30:12.925Z"
   },
   {
    "duration": 35,
    "start_time": "2022-06-26T18:30:12.984Z"
   },
   {
    "duration": 31,
    "start_time": "2022-06-26T18:30:13.020Z"
   },
   {
    "duration": 10,
    "start_time": "2022-06-26T18:30:13.052Z"
   },
   {
    "duration": 11,
    "start_time": "2022-06-26T18:30:13.063Z"
   },
   {
    "duration": 17,
    "start_time": "2022-06-26T18:30:13.075Z"
   },
   {
    "duration": 10,
    "start_time": "2022-06-26T18:30:13.093Z"
   },
   {
    "duration": 10,
    "start_time": "2022-06-26T18:30:13.105Z"
   },
   {
    "duration": 42,
    "start_time": "2022-06-26T18:30:13.116Z"
   },
   {
    "duration": 10,
    "start_time": "2022-06-26T18:30:13.159Z"
   },
   {
    "duration": 11,
    "start_time": "2022-06-26T18:30:13.170Z"
   },
   {
    "duration": 6,
    "start_time": "2022-06-26T18:30:13.182Z"
   },
   {
    "duration": 8,
    "start_time": "2022-06-26T18:30:13.189Z"
   },
   {
    "duration": 5,
    "start_time": "2022-06-26T18:30:13.198Z"
   },
   {
    "duration": 5,
    "start_time": "2022-06-26T18:30:13.205Z"
   },
   {
    "duration": 5,
    "start_time": "2022-06-26T18:30:13.211Z"
   },
   {
    "duration": 4,
    "start_time": "2022-06-26T18:30:13.220Z"
   },
   {
    "duration": 9,
    "start_time": "2022-06-26T18:30:13.250Z"
   },
   {
    "duration": 6,
    "start_time": "2022-06-26T18:30:13.260Z"
   },
   {
    "duration": 8,
    "start_time": "2022-06-26T18:30:13.268Z"
   },
   {
    "duration": 6,
    "start_time": "2022-06-26T18:30:13.277Z"
   },
   {
    "duration": 7,
    "start_time": "2022-06-26T18:30:13.285Z"
   },
   {
    "duration": 6,
    "start_time": "2022-06-26T18:30:13.294Z"
   },
   {
    "duration": 12,
    "start_time": "2022-06-26T18:30:13.301Z"
   },
   {
    "duration": 44,
    "start_time": "2022-06-26T18:30:13.314Z"
   },
   {
    "duration": 9,
    "start_time": "2022-06-26T18:30:13.360Z"
   },
   {
    "duration": 7,
    "start_time": "2022-06-26T18:30:13.370Z"
   },
   {
    "duration": 85,
    "start_time": "2022-06-26T18:30:13.378Z"
   },
   {
    "duration": 90,
    "start_time": "2022-06-26T18:30:13.465Z"
   },
   {
    "duration": 96,
    "start_time": "2022-06-26T18:30:13.557Z"
   },
   {
    "duration": 100,
    "start_time": "2022-06-26T18:30:13.655Z"
   },
   {
    "duration": 5,
    "start_time": "2022-06-26T18:30:13.756Z"
   },
   {
    "duration": 3,
    "start_time": "2022-06-26T18:30:13.762Z"
   },
   {
    "duration": 5,
    "start_time": "2022-06-26T18:30:13.766Z"
   },
   {
    "duration": 8,
    "start_time": "2022-06-26T18:30:13.773Z"
   },
   {
    "duration": 4,
    "start_time": "2022-06-26T18:30:13.782Z"
   },
   {
    "duration": 6,
    "start_time": "2022-06-26T18:30:13.787Z"
   },
   {
    "duration": 5,
    "start_time": "2022-06-26T18:30:13.794Z"
   },
   {
    "duration": 51,
    "start_time": "2022-06-26T18:30:13.800Z"
   },
   {
    "duration": 102,
    "start_time": "2022-06-26T18:30:13.852Z"
   },
   {
    "duration": 6,
    "start_time": "2022-06-26T18:30:13.956Z"
   },
   {
    "duration": 6,
    "start_time": "2022-06-26T18:30:13.963Z"
   },
   {
    "duration": 7,
    "start_time": "2022-06-26T18:30:13.970Z"
   },
   {
    "duration": 180,
    "start_time": "2022-06-26T18:30:13.978Z"
   },
   {
    "duration": 6,
    "start_time": "2022-06-26T18:30:14.159Z"
   },
   {
    "duration": 5,
    "start_time": "2022-06-26T18:30:14.166Z"
   },
   {
    "duration": 9,
    "start_time": "2022-06-26T18:30:14.172Z"
   },
   {
    "duration": 174,
    "start_time": "2022-06-26T18:30:14.182Z"
   },
   {
    "duration": 4,
    "start_time": "2022-06-26T18:30:14.358Z"
   },
   {
    "duration": 4,
    "start_time": "2022-06-26T18:30:14.363Z"
   },
   {
    "duration": 9,
    "start_time": "2022-06-26T18:30:14.368Z"
   },
   {
    "duration": 6,
    "start_time": "2022-06-26T18:30:14.384Z"
   },
   {
    "duration": 8,
    "start_time": "2022-06-26T18:30:14.392Z"
   },
   {
    "duration": 9,
    "start_time": "2022-06-26T18:30:14.402Z"
   },
   {
    "duration": 113,
    "start_time": "2022-06-26T18:30:14.413Z"
   },
   {
    "duration": 0,
    "start_time": "2022-06-26T18:30:14.527Z"
   },
   {
    "duration": 1,
    "start_time": "2022-06-26T18:30:14.528Z"
   },
   {
    "duration": 0,
    "start_time": "2022-06-26T18:30:14.530Z"
   },
   {
    "duration": 16,
    "start_time": "2022-06-26T18:35:43.745Z"
   },
   {
    "duration": 17,
    "start_time": "2022-06-26T18:35:56.162Z"
   },
   {
    "duration": 9,
    "start_time": "2022-06-26T18:36:41.322Z"
   },
   {
    "duration": 10,
    "start_time": "2022-06-26T18:36:47.736Z"
   },
   {
    "duration": 13,
    "start_time": "2022-06-26T18:36:58.282Z"
   },
   {
    "duration": 7,
    "start_time": "2022-06-26T18:38:00.182Z"
   },
   {
    "duration": 3,
    "start_time": "2022-06-26T18:38:47.782Z"
   },
   {
    "duration": 12,
    "start_time": "2022-06-26T18:39:40.168Z"
   },
   {
    "duration": 4,
    "start_time": "2022-06-26T18:46:48.826Z"
   },
   {
    "duration": 3,
    "start_time": "2022-06-26T18:47:14.372Z"
   },
   {
    "duration": 16,
    "start_time": "2022-06-26T18:47:18.082Z"
   },
   {
    "duration": 10,
    "start_time": "2022-06-26T18:47:56.067Z"
   },
   {
    "duration": 3,
    "start_time": "2022-06-26T19:12:31.795Z"
   },
   {
    "duration": 4,
    "start_time": "2022-06-26T19:12:43.522Z"
   },
   {
    "duration": 5,
    "start_time": "2022-06-26T19:13:16.743Z"
   },
   {
    "duration": 4,
    "start_time": "2022-06-26T19:14:57.234Z"
   },
   {
    "duration": 16,
    "start_time": "2022-06-26T19:15:00.481Z"
   },
   {
    "duration": 44,
    "start_time": "2022-06-26T19:21:17.338Z"
   },
   {
    "duration": 9,
    "start_time": "2022-06-26T19:21:23.183Z"
   },
   {
    "duration": 9,
    "start_time": "2022-06-26T19:21:44.622Z"
   },
   {
    "duration": 14,
    "start_time": "2022-06-26T19:22:21.402Z"
   },
   {
    "duration": 18,
    "start_time": "2022-06-26T19:23:00.183Z"
   },
   {
    "duration": 8,
    "start_time": "2022-06-26T19:23:12.037Z"
   },
   {
    "duration": 10,
    "start_time": "2022-06-26T19:23:14.617Z"
   },
   {
    "duration": 10,
    "start_time": "2022-06-26T19:23:18.442Z"
   },
   {
    "duration": 9,
    "start_time": "2022-06-26T19:23:31.638Z"
   },
   {
    "duration": 11,
    "start_time": "2022-06-26T19:24:30.034Z"
   },
   {
    "duration": 15,
    "start_time": "2022-06-26T19:24:43.074Z"
   },
   {
    "duration": 23,
    "start_time": "2022-06-26T19:24:50.483Z"
   },
   {
    "duration": 847,
    "start_time": "2022-06-26T19:25:18.363Z"
   },
   {
    "duration": 10,
    "start_time": "2022-06-26T19:25:41.978Z"
   },
   {
    "duration": 8,
    "start_time": "2022-06-26T19:26:06.698Z"
   },
   {
    "duration": 11,
    "start_time": "2022-06-26T19:26:24.103Z"
   },
   {
    "duration": 4,
    "start_time": "2022-06-26T19:29:06.167Z"
   },
   {
    "duration": 26,
    "start_time": "2022-06-26T19:29:10.137Z"
   },
   {
    "duration": 4,
    "start_time": "2022-06-26T19:29:44.714Z"
   },
   {
    "duration": 24,
    "start_time": "2022-06-26T19:29:52.489Z"
   },
   {
    "duration": 1056,
    "start_time": "2022-06-26T20:11:26.183Z"
   },
   {
    "duration": 381,
    "start_time": "2022-06-26T20:11:27.240Z"
   },
   {
    "duration": 177,
    "start_time": "2022-06-26T20:11:27.622Z"
   },
   {
    "duration": 173,
    "start_time": "2022-06-26T20:11:27.800Z"
   },
   {
    "duration": 19,
    "start_time": "2022-06-26T20:11:27.976Z"
   },
   {
    "duration": 13,
    "start_time": "2022-06-26T20:11:27.996Z"
   },
   {
    "duration": 11,
    "start_time": "2022-06-26T20:11:28.011Z"
   },
   {
    "duration": 16,
    "start_time": "2022-06-26T20:11:28.023Z"
   },
   {
    "duration": 11,
    "start_time": "2022-06-26T20:11:28.059Z"
   },
   {
    "duration": 24,
    "start_time": "2022-06-26T20:11:28.071Z"
   },
   {
    "duration": 46,
    "start_time": "2022-06-26T20:11:28.097Z"
   },
   {
    "duration": 52,
    "start_time": "2022-06-26T20:11:28.144Z"
   },
   {
    "duration": 42,
    "start_time": "2022-06-26T20:11:28.198Z"
   },
   {
    "duration": 15,
    "start_time": "2022-06-26T20:11:28.259Z"
   },
   {
    "duration": 11,
    "start_time": "2022-06-26T20:11:28.276Z"
   },
   {
    "duration": 11,
    "start_time": "2022-06-26T20:11:28.288Z"
   },
   {
    "duration": 17,
    "start_time": "2022-06-26T20:11:28.300Z"
   },
   {
    "duration": 11,
    "start_time": "2022-06-26T20:11:28.319Z"
   },
   {
    "duration": 12,
    "start_time": "2022-06-26T20:11:28.359Z"
   },
   {
    "duration": 20,
    "start_time": "2022-06-26T20:11:28.372Z"
   },
   {
    "duration": 11,
    "start_time": "2022-06-26T20:11:28.393Z"
   },
   {
    "duration": 10,
    "start_time": "2022-06-26T20:11:28.405Z"
   },
   {
    "duration": 6,
    "start_time": "2022-06-26T20:11:28.417Z"
   },
   {
    "duration": 7,
    "start_time": "2022-06-26T20:11:28.424Z"
   },
   {
    "duration": 5,
    "start_time": "2022-06-26T20:11:28.458Z"
   },
   {
    "duration": 10,
    "start_time": "2022-06-26T20:11:28.465Z"
   },
   {
    "duration": 13,
    "start_time": "2022-06-26T20:11:28.477Z"
   },
   {
    "duration": 6,
    "start_time": "2022-06-26T20:11:28.492Z"
   },
   {
    "duration": 14,
    "start_time": "2022-06-26T20:11:28.500Z"
   },
   {
    "duration": 7,
    "start_time": "2022-06-26T20:11:28.515Z"
   },
   {
    "duration": 9,
    "start_time": "2022-06-26T20:11:28.523Z"
   },
   {
    "duration": 6,
    "start_time": "2022-06-26T20:11:28.533Z"
   },
   {
    "duration": 9,
    "start_time": "2022-06-26T20:11:28.558Z"
   },
   {
    "duration": 10,
    "start_time": "2022-06-26T20:11:28.568Z"
   },
   {
    "duration": 12,
    "start_time": "2022-06-26T20:11:28.580Z"
   },
   {
    "duration": 11,
    "start_time": "2022-06-26T20:11:28.593Z"
   },
   {
    "duration": 11,
    "start_time": "2022-06-26T20:11:28.605Z"
   },
   {
    "duration": 45,
    "start_time": "2022-06-26T20:11:28.617Z"
   },
   {
    "duration": 98,
    "start_time": "2022-06-26T20:11:28.667Z"
   },
   {
    "duration": 191,
    "start_time": "2022-06-26T20:11:28.768Z"
   },
   {
    "duration": 99,
    "start_time": "2022-06-26T20:11:28.966Z"
   },
   {
    "duration": 5,
    "start_time": "2022-06-26T20:11:29.067Z"
   },
   {
    "duration": 5,
    "start_time": "2022-06-26T20:11:29.073Z"
   },
   {
    "duration": 5,
    "start_time": "2022-06-26T20:11:29.080Z"
   },
   {
    "duration": 7,
    "start_time": "2022-06-26T20:11:29.086Z"
   },
   {
    "duration": 7,
    "start_time": "2022-06-26T20:11:29.094Z"
   },
   {
    "duration": 7,
    "start_time": "2022-06-26T20:11:29.102Z"
   },
   {
    "duration": 8,
    "start_time": "2022-06-26T20:11:29.110Z"
   },
   {
    "duration": 10,
    "start_time": "2022-06-26T20:11:29.119Z"
   },
   {
    "duration": 28,
    "start_time": "2022-06-26T20:11:29.131Z"
   },
   {
    "duration": 99,
    "start_time": "2022-06-26T20:11:29.160Z"
   },
   {
    "duration": 6,
    "start_time": "2022-06-26T20:11:29.261Z"
   },
   {
    "duration": 7,
    "start_time": "2022-06-26T20:11:29.269Z"
   },
   {
    "duration": 82,
    "start_time": "2022-06-26T20:11:29.277Z"
   },
   {
    "duration": 100,
    "start_time": "2022-06-26T20:11:29.362Z"
   },
   {
    "duration": 6,
    "start_time": "2022-06-26T20:11:29.464Z"
   },
   {
    "duration": 8,
    "start_time": "2022-06-26T20:11:29.472Z"
   },
   {
    "duration": 11,
    "start_time": "2022-06-26T20:11:29.482Z"
   },
   {
    "duration": 71,
    "start_time": "2022-06-26T20:11:29.495Z"
   },
   {
    "duration": 94,
    "start_time": "2022-06-26T20:11:29.568Z"
   },
   {
    "duration": 48,
    "start_time": "2022-06-26T20:11:29.664Z"
   },
   {
    "duration": 0,
    "start_time": "2022-06-26T20:11:29.713Z"
   },
   {
    "duration": 0,
    "start_time": "2022-06-26T20:11:29.714Z"
   },
   {
    "duration": 0,
    "start_time": "2022-06-26T20:11:29.715Z"
   },
   {
    "duration": 0,
    "start_time": "2022-06-26T20:11:29.716Z"
   },
   {
    "duration": 0,
    "start_time": "2022-06-26T20:11:29.717Z"
   },
   {
    "duration": 0,
    "start_time": "2022-06-26T20:11:29.718Z"
   },
   {
    "duration": 0,
    "start_time": "2022-06-26T20:11:29.719Z"
   },
   {
    "duration": 0,
    "start_time": "2022-06-26T20:11:29.720Z"
   },
   {
    "duration": 0,
    "start_time": "2022-06-26T20:11:29.721Z"
   },
   {
    "duration": 4,
    "start_time": "2022-06-26T20:12:11.741Z"
   },
   {
    "duration": 1011,
    "start_time": "2022-06-26T20:12:24.014Z"
   },
   {
    "duration": 122,
    "start_time": "2022-06-26T20:12:25.027Z"
   },
   {
    "duration": 109,
    "start_time": "2022-06-26T20:12:25.150Z"
   },
   {
    "duration": 110,
    "start_time": "2022-06-26T20:12:25.261Z"
   },
   {
    "duration": 17,
    "start_time": "2022-06-26T20:12:25.373Z"
   },
   {
    "duration": 14,
    "start_time": "2022-06-26T20:12:25.391Z"
   },
   {
    "duration": 12,
    "start_time": "2022-06-26T20:12:25.406Z"
   },
   {
    "duration": 39,
    "start_time": "2022-06-26T20:12:25.420Z"
   },
   {
    "duration": 12,
    "start_time": "2022-06-26T20:12:25.461Z"
   },
   {
    "duration": 14,
    "start_time": "2022-06-26T20:12:25.476Z"
   },
   {
    "duration": 72,
    "start_time": "2022-06-26T20:12:25.492Z"
   },
   {
    "duration": 40,
    "start_time": "2022-06-26T20:12:25.566Z"
   },
   {
    "duration": 60,
    "start_time": "2022-06-26T20:12:25.607Z"
   },
   {
    "duration": 16,
    "start_time": "2022-06-26T20:12:25.668Z"
   },
   {
    "duration": 11,
    "start_time": "2022-06-26T20:12:25.686Z"
   },
   {
    "duration": 13,
    "start_time": "2022-06-26T20:12:25.699Z"
   },
   {
    "duration": 20,
    "start_time": "2022-06-26T20:12:25.713Z"
   },
   {
    "duration": 35,
    "start_time": "2022-06-26T20:12:25.734Z"
   },
   {
    "duration": 13,
    "start_time": "2022-06-26T20:12:25.771Z"
   },
   {
    "duration": 20,
    "start_time": "2022-06-26T20:12:25.786Z"
   },
   {
    "duration": 11,
    "start_time": "2022-06-26T20:12:25.807Z"
   },
   {
    "duration": 12,
    "start_time": "2022-06-26T20:12:25.819Z"
   },
   {
    "duration": 5,
    "start_time": "2022-06-26T20:12:25.858Z"
   },
   {
    "duration": 8,
    "start_time": "2022-06-26T20:12:25.865Z"
   },
   {
    "duration": 8,
    "start_time": "2022-06-26T20:12:25.874Z"
   },
   {
    "duration": 7,
    "start_time": "2022-06-26T20:12:25.883Z"
   },
   {
    "duration": 8,
    "start_time": "2022-06-26T20:12:25.891Z"
   },
   {
    "duration": 8,
    "start_time": "2022-06-26T20:12:25.903Z"
   },
   {
    "duration": 16,
    "start_time": "2022-06-26T20:12:25.913Z"
   },
   {
    "duration": 10,
    "start_time": "2022-06-26T20:12:25.931Z"
   },
   {
    "duration": 21,
    "start_time": "2022-06-26T20:12:25.942Z"
   },
   {
    "duration": 6,
    "start_time": "2022-06-26T20:12:25.964Z"
   },
   {
    "duration": 10,
    "start_time": "2022-06-26T20:12:25.972Z"
   },
   {
    "duration": 6,
    "start_time": "2022-06-26T20:12:25.983Z"
   },
   {
    "duration": 14,
    "start_time": "2022-06-26T20:12:25.991Z"
   },
   {
    "duration": 11,
    "start_time": "2022-06-26T20:12:26.006Z"
   },
   {
    "duration": 43,
    "start_time": "2022-06-26T20:12:26.018Z"
   },
   {
    "duration": 8,
    "start_time": "2022-06-26T20:12:26.062Z"
   },
   {
    "duration": 94,
    "start_time": "2022-06-26T20:12:26.072Z"
   },
   {
    "duration": 95,
    "start_time": "2022-06-26T20:12:26.167Z"
   },
   {
    "duration": 4,
    "start_time": "2022-06-26T20:12:26.266Z"
   },
   {
    "duration": 4,
    "start_time": "2022-06-26T20:12:26.359Z"
   },
   {
    "duration": 94,
    "start_time": "2022-06-26T20:12:26.365Z"
   },
   {
    "duration": 3,
    "start_time": "2022-06-26T20:12:26.461Z"
   },
   {
    "duration": 11,
    "start_time": "2022-06-26T20:12:26.466Z"
   },
   {
    "duration": 5,
    "start_time": "2022-06-26T20:12:26.479Z"
   },
   {
    "duration": 9,
    "start_time": "2022-06-26T20:12:26.486Z"
   },
   {
    "duration": 5,
    "start_time": "2022-06-26T20:12:26.496Z"
   },
   {
    "duration": 7,
    "start_time": "2022-06-26T20:12:26.502Z"
   },
   {
    "duration": 49,
    "start_time": "2022-06-26T20:12:26.510Z"
   },
   {
    "duration": 102,
    "start_time": "2022-06-26T20:12:26.561Z"
   },
   {
    "duration": 5,
    "start_time": "2022-06-26T20:12:26.665Z"
   },
   {
    "duration": 6,
    "start_time": "2022-06-26T20:12:26.671Z"
   },
   {
    "duration": 7,
    "start_time": "2022-06-26T20:12:26.678Z"
   },
   {
    "duration": 173,
    "start_time": "2022-06-26T20:12:26.687Z"
   },
   {
    "duration": 6,
    "start_time": "2022-06-26T20:12:26.861Z"
   },
   {
    "duration": 4,
    "start_time": "2022-06-26T20:12:26.868Z"
   },
   {
    "duration": 6,
    "start_time": "2022-06-26T20:12:26.874Z"
   },
   {
    "duration": 185,
    "start_time": "2022-06-26T20:12:26.882Z"
   },
   {
    "duration": 4,
    "start_time": "2022-06-26T20:12:27.070Z"
   },
   {
    "duration": 5,
    "start_time": "2022-06-26T20:12:27.075Z"
   },
   {
    "duration": 11,
    "start_time": "2022-06-26T20:12:27.081Z"
   },
   {
    "duration": 7,
    "start_time": "2022-06-26T20:12:27.094Z"
   },
   {
    "duration": 7,
    "start_time": "2022-06-26T20:12:27.102Z"
   },
   {
    "duration": 4,
    "start_time": "2022-06-26T20:12:27.111Z"
   },
   {
    "duration": 1645,
    "start_time": "2022-06-26T20:12:27.116Z"
   },
   {
    "duration": 1553,
    "start_time": "2022-06-26T20:12:28.763Z"
   },
   {
    "duration": 1550,
    "start_time": "2022-06-26T20:12:30.318Z"
   },
   {
    "duration": 4,
    "start_time": "2022-06-26T20:12:43.050Z"
   },
   {
    "duration": 1604,
    "start_time": "2022-06-26T20:12:46.412Z"
   },
   {
    "duration": 1682,
    "start_time": "2022-06-26T20:12:51.163Z"
   },
   {
    "duration": 1645,
    "start_time": "2022-06-26T20:15:06.876Z"
   }
  ],
  "kernelspec": {
   "display_name": "Python 3 (ipykernel)",
   "language": "python",
   "name": "python3"
  },
  "language_info": {
   "codemirror_mode": {
    "name": "ipython",
    "version": 3
   },
   "file_extension": ".py",
   "mimetype": "text/x-python",
   "name": "python",
   "nbconvert_exporter": "python",
   "pygments_lexer": "ipython3",
   "version": "3.9.5"
  },
  "toc": {
   "base_numbering": 1,
   "nav_menu": {},
   "number_sections": true,
   "sideBar": true,
   "skip_h1_title": true,
   "title_cell": "Table of Contents",
   "title_sidebar": "Contents",
   "toc_cell": false,
   "toc_position": {},
   "toc_section_display": true,
   "toc_window_display": false
  }
 },
 "nbformat": 4,
 "nbformat_minor": 2
}
