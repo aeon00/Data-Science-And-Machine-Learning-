{
 "cells": [
  {
   "cell_type": "markdown",
   "metadata": {},
   "source": [
    "Hello Harvey!\n",
    "\n",
    "My name is Dmitry.  I'm glad to review your work today.\n",
    "I will mark your mistakes and give you some hints how it is possible to fix them. We are getting ready for real job, where your team leader/senior colleague will do exactly the same. Don't worry and study with pleasure! \n",
    "\n",
    "Below you will find my comments - **please do not move, modify or delete them**.\n",
    "\n",
    "You can find my comments in green, yellow or red boxes like this:\n",
    "\n",
    "<div class=\"alert alert-block alert-success\">\n",
    "<b>Reviewer's comment</b> <a class=\"tocSkip\"></a>\n",
    "\n",
    "Success. Everything is done succesfully.\n",
    "</div>\n",
    "\n",
    "<div class=\"alert alert-block alert-warning\">\n",
    "<b>Reviewer's comment</b> <a class=\"tocSkip\"></a>\n",
    "\n",
    "Remarks. Some recommendations.\n",
    "</div>\n",
    "\n",
    "<div class=\"alert alert-block alert-danger\">\n",
    "\n",
    "<b>Reviewer's comment</b> <a class=\"tocSkip\"></a>\n",
    "\n",
    "Needs fixing. The block requires some corrections. Work can't be accepted with the red comments.\n",
    "</div>\n",
    "\n",
    "You can answer me by using this:\n",
    "\n",
    "<div class=\"alert alert-block alert-info\">\n",
    "<b>Student answer.</b> <a class=\"tocSkip\"></a>\n",
    "\n",
    "Text here.\n",
    "</div>"
   ]
  },
  {
   "cell_type": "markdown",
   "metadata": {},
   "source": [
    "# Introduction"
   ]
  },
  {
   "cell_type": "markdown",
   "metadata": {},
   "source": [
    "Beta Bank customers are leaving: little by little, chipping away every month. The bankers figured out it’s cheaper to save the existing customers rather than to attract new ones.\n",
    "\n",
    "\n",
    "We need to predict whether a customer will leave the bank soon. We have the data on clients’ past behavior and termination of contracts with the bank."
   ]
  },
  {
   "cell_type": "markdown",
   "metadata": {},
   "source": [
    "<div class=\"alert alert-block alert-success\">\n",
    "<b>Reviewer's comment</b> <a class=\"tocSkip\"></a>\n",
    "\n",
    "Great start with an introduction!\n",
    "</div>"
   ]
  },
  {
   "cell_type": "markdown",
   "metadata": {},
   "source": [
    "## Initialization"
   ]
  },
  {
   "cell_type": "code",
   "execution_count": 1,
   "metadata": {},
   "outputs": [],
   "source": [
    "# Load necessary libraries\n",
    "import pandas as pd\n",
    "import numpy as np\n",
    "from sklearn.metrics import accuracy_score, f1_score, roc_auc_score, precision_score, recall_score\n",
    "from sklearn.model_selection import train_test_split\n",
    "from sklearn.ensemble import RandomForestClassifier\n",
    "from sklearn.tree import DecisionTreeClassifier\n",
    "from sklearn.linear_model import LogisticRegression\n",
    "from sklearn.preprocessing import StandardScaler, OrdinalEncoder\n",
    "from sklearn.utils import shuffle"
   ]
  },
  {
   "cell_type": "code",
   "execution_count": 2,
   "metadata": {},
   "outputs": [],
   "source": [
    "# Load dataset and create Data frame\n",
    "df = pd.read_csv('/datasets/Churn.csv')"
   ]
  },
  {
   "cell_type": "markdown",
   "metadata": {},
   "source": [
    "Relevant libraries loaded and dataframe created. Now we can ove on to preprocessing"
   ]
  },
  {
   "cell_type": "markdown",
   "metadata": {},
   "source": [
    "## Data Preprocessing"
   ]
  },
  {
   "cell_type": "markdown",
   "metadata": {},
   "source": [
    "### Data inspection and visualization"
   ]
  },
  {
   "cell_type": "code",
   "execution_count": 3,
   "metadata": {},
   "outputs": [
    {
     "name": "stdout",
     "output_type": "stream",
     "text": [
      "<class 'pandas.core.frame.DataFrame'>\n",
      "RangeIndex: 10000 entries, 0 to 9999\n",
      "Data columns (total 14 columns):\n",
      " #   Column           Non-Null Count  Dtype  \n",
      "---  ------           --------------  -----  \n",
      " 0   RowNumber        10000 non-null  int64  \n",
      " 1   CustomerId       10000 non-null  int64  \n",
      " 2   Surname          10000 non-null  object \n",
      " 3   CreditScore      10000 non-null  int64  \n",
      " 4   Geography        10000 non-null  object \n",
      " 5   Gender           10000 non-null  object \n",
      " 6   Age              10000 non-null  int64  \n",
      " 7   Tenure           9091 non-null   float64\n",
      " 8   Balance          10000 non-null  float64\n",
      " 9   NumOfProducts    10000 non-null  int64  \n",
      " 10  HasCrCard        10000 non-null  int64  \n",
      " 11  IsActiveMember   10000 non-null  int64  \n",
      " 12  EstimatedSalary  10000 non-null  float64\n",
      " 13  Exited           10000 non-null  int64  \n",
      "dtypes: float64(3), int64(8), object(3)\n",
      "memory usage: 1.1+ MB\n"
     ]
    }
   ],
   "source": [
    "# Visualize and inspect data\n",
    "df.info()"
   ]
  },
  {
   "cell_type": "code",
   "execution_count": 4,
   "metadata": {},
   "outputs": [
    {
     "data": {
      "text/html": [
       "<div>\n",
       "<style scoped>\n",
       "    .dataframe tbody tr th:only-of-type {\n",
       "        vertical-align: middle;\n",
       "    }\n",
       "\n",
       "    .dataframe tbody tr th {\n",
       "        vertical-align: top;\n",
       "    }\n",
       "\n",
       "    .dataframe thead th {\n",
       "        text-align: right;\n",
       "    }\n",
       "</style>\n",
       "<table border=\"1\" class=\"dataframe\">\n",
       "  <thead>\n",
       "    <tr style=\"text-align: right;\">\n",
       "      <th></th>\n",
       "      <th>RowNumber</th>\n",
       "      <th>CustomerId</th>\n",
       "      <th>Surname</th>\n",
       "      <th>CreditScore</th>\n",
       "      <th>Geography</th>\n",
       "      <th>Gender</th>\n",
       "      <th>Age</th>\n",
       "      <th>Tenure</th>\n",
       "      <th>Balance</th>\n",
       "      <th>NumOfProducts</th>\n",
       "      <th>HasCrCard</th>\n",
       "      <th>IsActiveMember</th>\n",
       "      <th>EstimatedSalary</th>\n",
       "      <th>Exited</th>\n",
       "    </tr>\n",
       "  </thead>\n",
       "  <tbody>\n",
       "    <tr>\n",
       "      <th>0</th>\n",
       "      <td>1</td>\n",
       "      <td>15634602</td>\n",
       "      <td>Hargrave</td>\n",
       "      <td>619</td>\n",
       "      <td>France</td>\n",
       "      <td>Female</td>\n",
       "      <td>42</td>\n",
       "      <td>2.0</td>\n",
       "      <td>0.00</td>\n",
       "      <td>1</td>\n",
       "      <td>1</td>\n",
       "      <td>1</td>\n",
       "      <td>101348.88</td>\n",
       "      <td>1</td>\n",
       "    </tr>\n",
       "    <tr>\n",
       "      <th>1</th>\n",
       "      <td>2</td>\n",
       "      <td>15647311</td>\n",
       "      <td>Hill</td>\n",
       "      <td>608</td>\n",
       "      <td>Spain</td>\n",
       "      <td>Female</td>\n",
       "      <td>41</td>\n",
       "      <td>1.0</td>\n",
       "      <td>83807.86</td>\n",
       "      <td>1</td>\n",
       "      <td>0</td>\n",
       "      <td>1</td>\n",
       "      <td>112542.58</td>\n",
       "      <td>0</td>\n",
       "    </tr>\n",
       "    <tr>\n",
       "      <th>2</th>\n",
       "      <td>3</td>\n",
       "      <td>15619304</td>\n",
       "      <td>Onio</td>\n",
       "      <td>502</td>\n",
       "      <td>France</td>\n",
       "      <td>Female</td>\n",
       "      <td>42</td>\n",
       "      <td>8.0</td>\n",
       "      <td>159660.80</td>\n",
       "      <td>3</td>\n",
       "      <td>1</td>\n",
       "      <td>0</td>\n",
       "      <td>113931.57</td>\n",
       "      <td>1</td>\n",
       "    </tr>\n",
       "    <tr>\n",
       "      <th>3</th>\n",
       "      <td>4</td>\n",
       "      <td>15701354</td>\n",
       "      <td>Boni</td>\n",
       "      <td>699</td>\n",
       "      <td>France</td>\n",
       "      <td>Female</td>\n",
       "      <td>39</td>\n",
       "      <td>1.0</td>\n",
       "      <td>0.00</td>\n",
       "      <td>2</td>\n",
       "      <td>0</td>\n",
       "      <td>0</td>\n",
       "      <td>93826.63</td>\n",
       "      <td>0</td>\n",
       "    </tr>\n",
       "    <tr>\n",
       "      <th>4</th>\n",
       "      <td>5</td>\n",
       "      <td>15737888</td>\n",
       "      <td>Mitchell</td>\n",
       "      <td>850</td>\n",
       "      <td>Spain</td>\n",
       "      <td>Female</td>\n",
       "      <td>43</td>\n",
       "      <td>2.0</td>\n",
       "      <td>125510.82</td>\n",
       "      <td>1</td>\n",
       "      <td>1</td>\n",
       "      <td>1</td>\n",
       "      <td>79084.10</td>\n",
       "      <td>0</td>\n",
       "    </tr>\n",
       "    <tr>\n",
       "      <th>5</th>\n",
       "      <td>6</td>\n",
       "      <td>15574012</td>\n",
       "      <td>Chu</td>\n",
       "      <td>645</td>\n",
       "      <td>Spain</td>\n",
       "      <td>Male</td>\n",
       "      <td>44</td>\n",
       "      <td>8.0</td>\n",
       "      <td>113755.78</td>\n",
       "      <td>2</td>\n",
       "      <td>1</td>\n",
       "      <td>0</td>\n",
       "      <td>149756.71</td>\n",
       "      <td>1</td>\n",
       "    </tr>\n",
       "    <tr>\n",
       "      <th>6</th>\n",
       "      <td>7</td>\n",
       "      <td>15592531</td>\n",
       "      <td>Bartlett</td>\n",
       "      <td>822</td>\n",
       "      <td>France</td>\n",
       "      <td>Male</td>\n",
       "      <td>50</td>\n",
       "      <td>7.0</td>\n",
       "      <td>0.00</td>\n",
       "      <td>2</td>\n",
       "      <td>1</td>\n",
       "      <td>1</td>\n",
       "      <td>10062.80</td>\n",
       "      <td>0</td>\n",
       "    </tr>\n",
       "    <tr>\n",
       "      <th>7</th>\n",
       "      <td>8</td>\n",
       "      <td>15656148</td>\n",
       "      <td>Obinna</td>\n",
       "      <td>376</td>\n",
       "      <td>Germany</td>\n",
       "      <td>Female</td>\n",
       "      <td>29</td>\n",
       "      <td>4.0</td>\n",
       "      <td>115046.74</td>\n",
       "      <td>4</td>\n",
       "      <td>1</td>\n",
       "      <td>0</td>\n",
       "      <td>119346.88</td>\n",
       "      <td>1</td>\n",
       "    </tr>\n",
       "    <tr>\n",
       "      <th>8</th>\n",
       "      <td>9</td>\n",
       "      <td>15792365</td>\n",
       "      <td>He</td>\n",
       "      <td>501</td>\n",
       "      <td>France</td>\n",
       "      <td>Male</td>\n",
       "      <td>44</td>\n",
       "      <td>4.0</td>\n",
       "      <td>142051.07</td>\n",
       "      <td>2</td>\n",
       "      <td>0</td>\n",
       "      <td>1</td>\n",
       "      <td>74940.50</td>\n",
       "      <td>0</td>\n",
       "    </tr>\n",
       "    <tr>\n",
       "      <th>9</th>\n",
       "      <td>10</td>\n",
       "      <td>15592389</td>\n",
       "      <td>H?</td>\n",
       "      <td>684</td>\n",
       "      <td>France</td>\n",
       "      <td>Male</td>\n",
       "      <td>27</td>\n",
       "      <td>2.0</td>\n",
       "      <td>134603.88</td>\n",
       "      <td>1</td>\n",
       "      <td>1</td>\n",
       "      <td>1</td>\n",
       "      <td>71725.73</td>\n",
       "      <td>0</td>\n",
       "    </tr>\n",
       "  </tbody>\n",
       "</table>\n",
       "</div>"
      ],
      "text/plain": [
       "   RowNumber  CustomerId   Surname  CreditScore Geography  Gender  Age  \\\n",
       "0          1    15634602  Hargrave          619    France  Female   42   \n",
       "1          2    15647311      Hill          608     Spain  Female   41   \n",
       "2          3    15619304      Onio          502    France  Female   42   \n",
       "3          4    15701354      Boni          699    France  Female   39   \n",
       "4          5    15737888  Mitchell          850     Spain  Female   43   \n",
       "5          6    15574012       Chu          645     Spain    Male   44   \n",
       "6          7    15592531  Bartlett          822    France    Male   50   \n",
       "7          8    15656148    Obinna          376   Germany  Female   29   \n",
       "8          9    15792365        He          501    France    Male   44   \n",
       "9         10    15592389        H?          684    France    Male   27   \n",
       "\n",
       "   Tenure    Balance  NumOfProducts  HasCrCard  IsActiveMember  \\\n",
       "0     2.0       0.00              1          1               1   \n",
       "1     1.0   83807.86              1          0               1   \n",
       "2     8.0  159660.80              3          1               0   \n",
       "3     1.0       0.00              2          0               0   \n",
       "4     2.0  125510.82              1          1               1   \n",
       "5     8.0  113755.78              2          1               0   \n",
       "6     7.0       0.00              2          1               1   \n",
       "7     4.0  115046.74              4          1               0   \n",
       "8     4.0  142051.07              2          0               1   \n",
       "9     2.0  134603.88              1          1               1   \n",
       "\n",
       "   EstimatedSalary  Exited  \n",
       "0        101348.88       1  \n",
       "1        112542.58       0  \n",
       "2        113931.57       1  \n",
       "3         93826.63       0  \n",
       "4         79084.10       0  \n",
       "5        149756.71       1  \n",
       "6         10062.80       0  \n",
       "7        119346.88       1  \n",
       "8         74940.50       0  \n",
       "9         71725.73       0  "
      ]
     },
     "execution_count": 4,
     "metadata": {},
     "output_type": "execute_result"
    }
   ],
   "source": [
    "# Visualize and inspect data sample\n",
    "df.head(10)"
   ]
  },
  {
   "cell_type": "markdown",
   "metadata": {},
   "source": [
    "From our initial assessment, we can see that the data is fairly clean and all columns have the right data types for the information stored in them.\n",
    "However, we can observe missing values in the `Tenure` column. This requires a closer look.\n",
    "The column names are also irregular, let's deal with that too."
   ]
  },
  {
   "cell_type": "markdown",
   "metadata": {},
   "source": [
    "<div class=\"alert alert-block alert-success\">\n",
    "<b>Reviewer's comment</b> <a class=\"tocSkip\"></a>\n",
    "\n",
    "Good initial conclusion!\n",
    "</div>"
   ]
  },
  {
   "cell_type": "markdown",
   "metadata": {},
   "source": [
    "### Standardizing column names"
   ]
  },
  {
   "cell_type": "code",
   "execution_count": 5,
   "metadata": {},
   "outputs": [],
   "source": [
    "# Convert column names to lower case\n",
    "df.columns = df.columns.str.lower()"
   ]
  },
  {
   "cell_type": "code",
   "execution_count": 6,
   "metadata": {},
   "outputs": [
    {
     "name": "stdout",
     "output_type": "stream",
     "text": [
      "Column names: Index(['rownumber', 'customerid', 'surname', 'creditscore', 'geography',\n",
      "       'gender', 'age', 'tenure', 'balance', 'numofproducts', 'hascrcard',\n",
      "       'isactivemember', 'estimatedsalary', 'exited'],\n",
      "      dtype='object')\n"
     ]
    },
    {
     "data": {
      "text/html": [
       "<div>\n",
       "<style scoped>\n",
       "    .dataframe tbody tr th:only-of-type {\n",
       "        vertical-align: middle;\n",
       "    }\n",
       "\n",
       "    .dataframe tbody tr th {\n",
       "        vertical-align: top;\n",
       "    }\n",
       "\n",
       "    .dataframe thead th {\n",
       "        text-align: right;\n",
       "    }\n",
       "</style>\n",
       "<table border=\"1\" class=\"dataframe\">\n",
       "  <thead>\n",
       "    <tr style=\"text-align: right;\">\n",
       "      <th></th>\n",
       "      <th>rownumber</th>\n",
       "      <th>customerid</th>\n",
       "      <th>surname</th>\n",
       "      <th>creditscore</th>\n",
       "      <th>geography</th>\n",
       "      <th>gender</th>\n",
       "      <th>age</th>\n",
       "      <th>tenure</th>\n",
       "      <th>balance</th>\n",
       "      <th>numofproducts</th>\n",
       "      <th>hascrcard</th>\n",
       "      <th>isactivemember</th>\n",
       "      <th>estimatedsalary</th>\n",
       "      <th>exited</th>\n",
       "    </tr>\n",
       "  </thead>\n",
       "  <tbody>\n",
       "    <tr>\n",
       "      <th>0</th>\n",
       "      <td>1</td>\n",
       "      <td>15634602</td>\n",
       "      <td>Hargrave</td>\n",
       "      <td>619</td>\n",
       "      <td>France</td>\n",
       "      <td>Female</td>\n",
       "      <td>42</td>\n",
       "      <td>2.0</td>\n",
       "      <td>0.00</td>\n",
       "      <td>1</td>\n",
       "      <td>1</td>\n",
       "      <td>1</td>\n",
       "      <td>101348.88</td>\n",
       "      <td>1</td>\n",
       "    </tr>\n",
       "    <tr>\n",
       "      <th>1</th>\n",
       "      <td>2</td>\n",
       "      <td>15647311</td>\n",
       "      <td>Hill</td>\n",
       "      <td>608</td>\n",
       "      <td>Spain</td>\n",
       "      <td>Female</td>\n",
       "      <td>41</td>\n",
       "      <td>1.0</td>\n",
       "      <td>83807.86</td>\n",
       "      <td>1</td>\n",
       "      <td>0</td>\n",
       "      <td>1</td>\n",
       "      <td>112542.58</td>\n",
       "      <td>0</td>\n",
       "    </tr>\n",
       "    <tr>\n",
       "      <th>2</th>\n",
       "      <td>3</td>\n",
       "      <td>15619304</td>\n",
       "      <td>Onio</td>\n",
       "      <td>502</td>\n",
       "      <td>France</td>\n",
       "      <td>Female</td>\n",
       "      <td>42</td>\n",
       "      <td>8.0</td>\n",
       "      <td>159660.80</td>\n",
       "      <td>3</td>\n",
       "      <td>1</td>\n",
       "      <td>0</td>\n",
       "      <td>113931.57</td>\n",
       "      <td>1</td>\n",
       "    </tr>\n",
       "    <tr>\n",
       "      <th>3</th>\n",
       "      <td>4</td>\n",
       "      <td>15701354</td>\n",
       "      <td>Boni</td>\n",
       "      <td>699</td>\n",
       "      <td>France</td>\n",
       "      <td>Female</td>\n",
       "      <td>39</td>\n",
       "      <td>1.0</td>\n",
       "      <td>0.00</td>\n",
       "      <td>2</td>\n",
       "      <td>0</td>\n",
       "      <td>0</td>\n",
       "      <td>93826.63</td>\n",
       "      <td>0</td>\n",
       "    </tr>\n",
       "    <tr>\n",
       "      <th>4</th>\n",
       "      <td>5</td>\n",
       "      <td>15737888</td>\n",
       "      <td>Mitchell</td>\n",
       "      <td>850</td>\n",
       "      <td>Spain</td>\n",
       "      <td>Female</td>\n",
       "      <td>43</td>\n",
       "      <td>2.0</td>\n",
       "      <td>125510.82</td>\n",
       "      <td>1</td>\n",
       "      <td>1</td>\n",
       "      <td>1</td>\n",
       "      <td>79084.10</td>\n",
       "      <td>0</td>\n",
       "    </tr>\n",
       "    <tr>\n",
       "      <th>5</th>\n",
       "      <td>6</td>\n",
       "      <td>15574012</td>\n",
       "      <td>Chu</td>\n",
       "      <td>645</td>\n",
       "      <td>Spain</td>\n",
       "      <td>Male</td>\n",
       "      <td>44</td>\n",
       "      <td>8.0</td>\n",
       "      <td>113755.78</td>\n",
       "      <td>2</td>\n",
       "      <td>1</td>\n",
       "      <td>0</td>\n",
       "      <td>149756.71</td>\n",
       "      <td>1</td>\n",
       "    </tr>\n",
       "    <tr>\n",
       "      <th>6</th>\n",
       "      <td>7</td>\n",
       "      <td>15592531</td>\n",
       "      <td>Bartlett</td>\n",
       "      <td>822</td>\n",
       "      <td>France</td>\n",
       "      <td>Male</td>\n",
       "      <td>50</td>\n",
       "      <td>7.0</td>\n",
       "      <td>0.00</td>\n",
       "      <td>2</td>\n",
       "      <td>1</td>\n",
       "      <td>1</td>\n",
       "      <td>10062.80</td>\n",
       "      <td>0</td>\n",
       "    </tr>\n",
       "    <tr>\n",
       "      <th>7</th>\n",
       "      <td>8</td>\n",
       "      <td>15656148</td>\n",
       "      <td>Obinna</td>\n",
       "      <td>376</td>\n",
       "      <td>Germany</td>\n",
       "      <td>Female</td>\n",
       "      <td>29</td>\n",
       "      <td>4.0</td>\n",
       "      <td>115046.74</td>\n",
       "      <td>4</td>\n",
       "      <td>1</td>\n",
       "      <td>0</td>\n",
       "      <td>119346.88</td>\n",
       "      <td>1</td>\n",
       "    </tr>\n",
       "    <tr>\n",
       "      <th>8</th>\n",
       "      <td>9</td>\n",
       "      <td>15792365</td>\n",
       "      <td>He</td>\n",
       "      <td>501</td>\n",
       "      <td>France</td>\n",
       "      <td>Male</td>\n",
       "      <td>44</td>\n",
       "      <td>4.0</td>\n",
       "      <td>142051.07</td>\n",
       "      <td>2</td>\n",
       "      <td>0</td>\n",
       "      <td>1</td>\n",
       "      <td>74940.50</td>\n",
       "      <td>0</td>\n",
       "    </tr>\n",
       "    <tr>\n",
       "      <th>9</th>\n",
       "      <td>10</td>\n",
       "      <td>15592389</td>\n",
       "      <td>H?</td>\n",
       "      <td>684</td>\n",
       "      <td>France</td>\n",
       "      <td>Male</td>\n",
       "      <td>27</td>\n",
       "      <td>2.0</td>\n",
       "      <td>134603.88</td>\n",
       "      <td>1</td>\n",
       "      <td>1</td>\n",
       "      <td>1</td>\n",
       "      <td>71725.73</td>\n",
       "      <td>0</td>\n",
       "    </tr>\n",
       "  </tbody>\n",
       "</table>\n",
       "</div>"
      ],
      "text/plain": [
       "   rownumber  customerid   surname  creditscore geography  gender  age  \\\n",
       "0          1    15634602  Hargrave          619    France  Female   42   \n",
       "1          2    15647311      Hill          608     Spain  Female   41   \n",
       "2          3    15619304      Onio          502    France  Female   42   \n",
       "3          4    15701354      Boni          699    France  Female   39   \n",
       "4          5    15737888  Mitchell          850     Spain  Female   43   \n",
       "5          6    15574012       Chu          645     Spain    Male   44   \n",
       "6          7    15592531  Bartlett          822    France    Male   50   \n",
       "7          8    15656148    Obinna          376   Germany  Female   29   \n",
       "8          9    15792365        He          501    France    Male   44   \n",
       "9         10    15592389        H?          684    France    Male   27   \n",
       "\n",
       "   tenure    balance  numofproducts  hascrcard  isactivemember  \\\n",
       "0     2.0       0.00              1          1               1   \n",
       "1     1.0   83807.86              1          0               1   \n",
       "2     8.0  159660.80              3          1               0   \n",
       "3     1.0       0.00              2          0               0   \n",
       "4     2.0  125510.82              1          1               1   \n",
       "5     8.0  113755.78              2          1               0   \n",
       "6     7.0       0.00              2          1               1   \n",
       "7     4.0  115046.74              4          1               0   \n",
       "8     4.0  142051.07              2          0               1   \n",
       "9     2.0  134603.88              1          1               1   \n",
       "\n",
       "   estimatedsalary  exited  \n",
       "0        101348.88       1  \n",
       "1        112542.58       0  \n",
       "2        113931.57       1  \n",
       "3         93826.63       0  \n",
       "4         79084.10       0  \n",
       "5        149756.71       1  \n",
       "6         10062.80       0  \n",
       "7        119346.88       1  \n",
       "8         74940.50       0  \n",
       "9         71725.73       0  "
      ]
     },
     "execution_count": 6,
     "metadata": {},
     "output_type": "execute_result"
    }
   ],
   "source": [
    "# Visualize column names\n",
    "print('Column names:', df.columns)\n",
    "df.head(10)"
   ]
  },
  {
   "cell_type": "code",
   "execution_count": 7,
   "metadata": {},
   "outputs": [],
   "source": [
    "# Rename columns in snake_case\n",
    "df = df.rename(columns={\n",
    "    'rownumber':'row_number',\n",
    "    'customerid' : 'customer_id',\n",
    "    'creditscore' : 'credit_score',\n",
    "    'numofproducts' : 'num_of_products',\n",
    "    'hascrcard' : 'has_cr_card',\n",
    "    'isactivemember' : 'is_active_member',\n",
    "    'estimatedsalary' : 'estimated_salary'\n",
    "})"
   ]
  },
  {
   "cell_type": "code",
   "execution_count": 8,
   "metadata": {
    "scrolled": false
   },
   "outputs": [
    {
     "name": "stdout",
     "output_type": "stream",
     "text": [
      "Index(['row_number', 'customer_id', 'surname', 'credit_score', 'geography',\n",
      "       'gender', 'age', 'tenure', 'balance', 'num_of_products', 'has_cr_card',\n",
      "       'is_active_member', 'estimated_salary', 'exited'],\n",
      "      dtype='object')\n"
     ]
    },
    {
     "data": {
      "text/html": [
       "<div>\n",
       "<style scoped>\n",
       "    .dataframe tbody tr th:only-of-type {\n",
       "        vertical-align: middle;\n",
       "    }\n",
       "\n",
       "    .dataframe tbody tr th {\n",
       "        vertical-align: top;\n",
       "    }\n",
       "\n",
       "    .dataframe thead th {\n",
       "        text-align: right;\n",
       "    }\n",
       "</style>\n",
       "<table border=\"1\" class=\"dataframe\">\n",
       "  <thead>\n",
       "    <tr style=\"text-align: right;\">\n",
       "      <th></th>\n",
       "      <th>row_number</th>\n",
       "      <th>customer_id</th>\n",
       "      <th>surname</th>\n",
       "      <th>credit_score</th>\n",
       "      <th>geography</th>\n",
       "      <th>gender</th>\n",
       "      <th>age</th>\n",
       "      <th>tenure</th>\n",
       "      <th>balance</th>\n",
       "      <th>num_of_products</th>\n",
       "      <th>has_cr_card</th>\n",
       "      <th>is_active_member</th>\n",
       "      <th>estimated_salary</th>\n",
       "      <th>exited</th>\n",
       "    </tr>\n",
       "  </thead>\n",
       "  <tbody>\n",
       "    <tr>\n",
       "      <th>0</th>\n",
       "      <td>1</td>\n",
       "      <td>15634602</td>\n",
       "      <td>Hargrave</td>\n",
       "      <td>619</td>\n",
       "      <td>France</td>\n",
       "      <td>Female</td>\n",
       "      <td>42</td>\n",
       "      <td>2.0</td>\n",
       "      <td>0.00</td>\n",
       "      <td>1</td>\n",
       "      <td>1</td>\n",
       "      <td>1</td>\n",
       "      <td>101348.88</td>\n",
       "      <td>1</td>\n",
       "    </tr>\n",
       "    <tr>\n",
       "      <th>1</th>\n",
       "      <td>2</td>\n",
       "      <td>15647311</td>\n",
       "      <td>Hill</td>\n",
       "      <td>608</td>\n",
       "      <td>Spain</td>\n",
       "      <td>Female</td>\n",
       "      <td>41</td>\n",
       "      <td>1.0</td>\n",
       "      <td>83807.86</td>\n",
       "      <td>1</td>\n",
       "      <td>0</td>\n",
       "      <td>1</td>\n",
       "      <td>112542.58</td>\n",
       "      <td>0</td>\n",
       "    </tr>\n",
       "    <tr>\n",
       "      <th>2</th>\n",
       "      <td>3</td>\n",
       "      <td>15619304</td>\n",
       "      <td>Onio</td>\n",
       "      <td>502</td>\n",
       "      <td>France</td>\n",
       "      <td>Female</td>\n",
       "      <td>42</td>\n",
       "      <td>8.0</td>\n",
       "      <td>159660.80</td>\n",
       "      <td>3</td>\n",
       "      <td>1</td>\n",
       "      <td>0</td>\n",
       "      <td>113931.57</td>\n",
       "      <td>1</td>\n",
       "    </tr>\n",
       "    <tr>\n",
       "      <th>3</th>\n",
       "      <td>4</td>\n",
       "      <td>15701354</td>\n",
       "      <td>Boni</td>\n",
       "      <td>699</td>\n",
       "      <td>France</td>\n",
       "      <td>Female</td>\n",
       "      <td>39</td>\n",
       "      <td>1.0</td>\n",
       "      <td>0.00</td>\n",
       "      <td>2</td>\n",
       "      <td>0</td>\n",
       "      <td>0</td>\n",
       "      <td>93826.63</td>\n",
       "      <td>0</td>\n",
       "    </tr>\n",
       "    <tr>\n",
       "      <th>4</th>\n",
       "      <td>5</td>\n",
       "      <td>15737888</td>\n",
       "      <td>Mitchell</td>\n",
       "      <td>850</td>\n",
       "      <td>Spain</td>\n",
       "      <td>Female</td>\n",
       "      <td>43</td>\n",
       "      <td>2.0</td>\n",
       "      <td>125510.82</td>\n",
       "      <td>1</td>\n",
       "      <td>1</td>\n",
       "      <td>1</td>\n",
       "      <td>79084.10</td>\n",
       "      <td>0</td>\n",
       "    </tr>\n",
       "    <tr>\n",
       "      <th>5</th>\n",
       "      <td>6</td>\n",
       "      <td>15574012</td>\n",
       "      <td>Chu</td>\n",
       "      <td>645</td>\n",
       "      <td>Spain</td>\n",
       "      <td>Male</td>\n",
       "      <td>44</td>\n",
       "      <td>8.0</td>\n",
       "      <td>113755.78</td>\n",
       "      <td>2</td>\n",
       "      <td>1</td>\n",
       "      <td>0</td>\n",
       "      <td>149756.71</td>\n",
       "      <td>1</td>\n",
       "    </tr>\n",
       "    <tr>\n",
       "      <th>6</th>\n",
       "      <td>7</td>\n",
       "      <td>15592531</td>\n",
       "      <td>Bartlett</td>\n",
       "      <td>822</td>\n",
       "      <td>France</td>\n",
       "      <td>Male</td>\n",
       "      <td>50</td>\n",
       "      <td>7.0</td>\n",
       "      <td>0.00</td>\n",
       "      <td>2</td>\n",
       "      <td>1</td>\n",
       "      <td>1</td>\n",
       "      <td>10062.80</td>\n",
       "      <td>0</td>\n",
       "    </tr>\n",
       "    <tr>\n",
       "      <th>7</th>\n",
       "      <td>8</td>\n",
       "      <td>15656148</td>\n",
       "      <td>Obinna</td>\n",
       "      <td>376</td>\n",
       "      <td>Germany</td>\n",
       "      <td>Female</td>\n",
       "      <td>29</td>\n",
       "      <td>4.0</td>\n",
       "      <td>115046.74</td>\n",
       "      <td>4</td>\n",
       "      <td>1</td>\n",
       "      <td>0</td>\n",
       "      <td>119346.88</td>\n",
       "      <td>1</td>\n",
       "    </tr>\n",
       "    <tr>\n",
       "      <th>8</th>\n",
       "      <td>9</td>\n",
       "      <td>15792365</td>\n",
       "      <td>He</td>\n",
       "      <td>501</td>\n",
       "      <td>France</td>\n",
       "      <td>Male</td>\n",
       "      <td>44</td>\n",
       "      <td>4.0</td>\n",
       "      <td>142051.07</td>\n",
       "      <td>2</td>\n",
       "      <td>0</td>\n",
       "      <td>1</td>\n",
       "      <td>74940.50</td>\n",
       "      <td>0</td>\n",
       "    </tr>\n",
       "    <tr>\n",
       "      <th>9</th>\n",
       "      <td>10</td>\n",
       "      <td>15592389</td>\n",
       "      <td>H?</td>\n",
       "      <td>684</td>\n",
       "      <td>France</td>\n",
       "      <td>Male</td>\n",
       "      <td>27</td>\n",
       "      <td>2.0</td>\n",
       "      <td>134603.88</td>\n",
       "      <td>1</td>\n",
       "      <td>1</td>\n",
       "      <td>1</td>\n",
       "      <td>71725.73</td>\n",
       "      <td>0</td>\n",
       "    </tr>\n",
       "  </tbody>\n",
       "</table>\n",
       "</div>"
      ],
      "text/plain": [
       "   row_number  customer_id   surname  credit_score geography  gender  age  \\\n",
       "0           1     15634602  Hargrave           619    France  Female   42   \n",
       "1           2     15647311      Hill           608     Spain  Female   41   \n",
       "2           3     15619304      Onio           502    France  Female   42   \n",
       "3           4     15701354      Boni           699    France  Female   39   \n",
       "4           5     15737888  Mitchell           850     Spain  Female   43   \n",
       "5           6     15574012       Chu           645     Spain    Male   44   \n",
       "6           7     15592531  Bartlett           822    France    Male   50   \n",
       "7           8     15656148    Obinna           376   Germany  Female   29   \n",
       "8           9     15792365        He           501    France    Male   44   \n",
       "9          10     15592389        H?           684    France    Male   27   \n",
       "\n",
       "   tenure    balance  num_of_products  has_cr_card  is_active_member  \\\n",
       "0     2.0       0.00                1            1                 1   \n",
       "1     1.0   83807.86                1            0                 1   \n",
       "2     8.0  159660.80                3            1                 0   \n",
       "3     1.0       0.00                2            0                 0   \n",
       "4     2.0  125510.82                1            1                 1   \n",
       "5     8.0  113755.78                2            1                 0   \n",
       "6     7.0       0.00                2            1                 1   \n",
       "7     4.0  115046.74                4            1                 0   \n",
       "8     4.0  142051.07                2            0                 1   \n",
       "9     2.0  134603.88                1            1                 1   \n",
       "\n",
       "   estimated_salary  exited  \n",
       "0         101348.88       1  \n",
       "1         112542.58       0  \n",
       "2         113931.57       1  \n",
       "3          93826.63       0  \n",
       "4          79084.10       0  \n",
       "5         149756.71       1  \n",
       "6          10062.80       0  \n",
       "7         119346.88       1  \n",
       "8          74940.50       0  \n",
       "9          71725.73       0  "
      ]
     },
     "execution_count": 8,
     "metadata": {},
     "output_type": "execute_result"
    }
   ],
   "source": [
    "print(df.columns)\n",
    "df.head(10)"
   ]
  },
  {
   "cell_type": "markdown",
   "metadata": {},
   "source": [
    "All column names have been standardized with lowercase letters and snake_case!"
   ]
  },
  {
   "cell_type": "markdown",
   "metadata": {},
   "source": [
    "<div class=\"alert alert-block alert-success\">\n",
    "<b>Reviewer's comment</b> <a class=\"tocSkip\"></a>\n",
    "\n",
    "Good job.\n",
    "</div>"
   ]
  },
  {
   "cell_type": "markdown",
   "metadata": {},
   "source": [
    "### Working with missing values"
   ]
  },
  {
   "cell_type": "code",
   "execution_count": 9,
   "metadata": {
    "scrolled": false
   },
   "outputs": [
    {
     "data": {
      "text/html": [
       "<div>\n",
       "<style scoped>\n",
       "    .dataframe tbody tr th:only-of-type {\n",
       "        vertical-align: middle;\n",
       "    }\n",
       "\n",
       "    .dataframe tbody tr th {\n",
       "        vertical-align: top;\n",
       "    }\n",
       "\n",
       "    .dataframe thead th {\n",
       "        text-align: right;\n",
       "    }\n",
       "</style>\n",
       "<table border=\"1\" class=\"dataframe\">\n",
       "  <thead>\n",
       "    <tr style=\"text-align: right;\">\n",
       "      <th></th>\n",
       "      <th>row_number</th>\n",
       "      <th>customer_id</th>\n",
       "      <th>surname</th>\n",
       "      <th>credit_score</th>\n",
       "      <th>geography</th>\n",
       "      <th>gender</th>\n",
       "      <th>age</th>\n",
       "      <th>tenure</th>\n",
       "      <th>balance</th>\n",
       "      <th>num_of_products</th>\n",
       "      <th>has_cr_card</th>\n",
       "      <th>is_active_member</th>\n",
       "      <th>estimated_salary</th>\n",
       "      <th>exited</th>\n",
       "    </tr>\n",
       "  </thead>\n",
       "  <tbody>\n",
       "    <tr>\n",
       "      <th>30</th>\n",
       "      <td>31</td>\n",
       "      <td>15589475</td>\n",
       "      <td>Azikiwe</td>\n",
       "      <td>591</td>\n",
       "      <td>Spain</td>\n",
       "      <td>Female</td>\n",
       "      <td>39</td>\n",
       "      <td>NaN</td>\n",
       "      <td>0.00</td>\n",
       "      <td>3</td>\n",
       "      <td>1</td>\n",
       "      <td>0</td>\n",
       "      <td>140469.38</td>\n",
       "      <td>1</td>\n",
       "    </tr>\n",
       "    <tr>\n",
       "      <th>48</th>\n",
       "      <td>49</td>\n",
       "      <td>15766205</td>\n",
       "      <td>Yin</td>\n",
       "      <td>550</td>\n",
       "      <td>Germany</td>\n",
       "      <td>Male</td>\n",
       "      <td>38</td>\n",
       "      <td>NaN</td>\n",
       "      <td>103391.38</td>\n",
       "      <td>1</td>\n",
       "      <td>0</td>\n",
       "      <td>1</td>\n",
       "      <td>90878.13</td>\n",
       "      <td>0</td>\n",
       "    </tr>\n",
       "    <tr>\n",
       "      <th>51</th>\n",
       "      <td>52</td>\n",
       "      <td>15768193</td>\n",
       "      <td>Trevisani</td>\n",
       "      <td>585</td>\n",
       "      <td>Germany</td>\n",
       "      <td>Male</td>\n",
       "      <td>36</td>\n",
       "      <td>NaN</td>\n",
       "      <td>146050.97</td>\n",
       "      <td>2</td>\n",
       "      <td>0</td>\n",
       "      <td>0</td>\n",
       "      <td>86424.57</td>\n",
       "      <td>0</td>\n",
       "    </tr>\n",
       "    <tr>\n",
       "      <th>53</th>\n",
       "      <td>54</td>\n",
       "      <td>15702298</td>\n",
       "      <td>Parkhill</td>\n",
       "      <td>655</td>\n",
       "      <td>Germany</td>\n",
       "      <td>Male</td>\n",
       "      <td>41</td>\n",
       "      <td>NaN</td>\n",
       "      <td>125561.97</td>\n",
       "      <td>1</td>\n",
       "      <td>0</td>\n",
       "      <td>0</td>\n",
       "      <td>164040.94</td>\n",
       "      <td>1</td>\n",
       "    </tr>\n",
       "    <tr>\n",
       "      <th>60</th>\n",
       "      <td>61</td>\n",
       "      <td>15651280</td>\n",
       "      <td>Hunter</td>\n",
       "      <td>742</td>\n",
       "      <td>Germany</td>\n",
       "      <td>Male</td>\n",
       "      <td>35</td>\n",
       "      <td>NaN</td>\n",
       "      <td>136857.00</td>\n",
       "      <td>1</td>\n",
       "      <td>0</td>\n",
       "      <td>0</td>\n",
       "      <td>84509.57</td>\n",
       "      <td>0</td>\n",
       "    </tr>\n",
       "    <tr>\n",
       "      <th>...</th>\n",
       "      <td>...</td>\n",
       "      <td>...</td>\n",
       "      <td>...</td>\n",
       "      <td>...</td>\n",
       "      <td>...</td>\n",
       "      <td>...</td>\n",
       "      <td>...</td>\n",
       "      <td>...</td>\n",
       "      <td>...</td>\n",
       "      <td>...</td>\n",
       "      <td>...</td>\n",
       "      <td>...</td>\n",
       "      <td>...</td>\n",
       "      <td>...</td>\n",
       "    </tr>\n",
       "    <tr>\n",
       "      <th>9944</th>\n",
       "      <td>9945</td>\n",
       "      <td>15703923</td>\n",
       "      <td>Cameron</td>\n",
       "      <td>744</td>\n",
       "      <td>Germany</td>\n",
       "      <td>Male</td>\n",
       "      <td>41</td>\n",
       "      <td>NaN</td>\n",
       "      <td>190409.34</td>\n",
       "      <td>2</td>\n",
       "      <td>1</td>\n",
       "      <td>1</td>\n",
       "      <td>138361.48</td>\n",
       "      <td>0</td>\n",
       "    </tr>\n",
       "    <tr>\n",
       "      <th>9956</th>\n",
       "      <td>9957</td>\n",
       "      <td>15707861</td>\n",
       "      <td>Nucci</td>\n",
       "      <td>520</td>\n",
       "      <td>France</td>\n",
       "      <td>Female</td>\n",
       "      <td>46</td>\n",
       "      <td>NaN</td>\n",
       "      <td>85216.61</td>\n",
       "      <td>1</td>\n",
       "      <td>1</td>\n",
       "      <td>0</td>\n",
       "      <td>117369.52</td>\n",
       "      <td>1</td>\n",
       "    </tr>\n",
       "    <tr>\n",
       "      <th>9964</th>\n",
       "      <td>9965</td>\n",
       "      <td>15642785</td>\n",
       "      <td>Douglas</td>\n",
       "      <td>479</td>\n",
       "      <td>France</td>\n",
       "      <td>Male</td>\n",
       "      <td>34</td>\n",
       "      <td>NaN</td>\n",
       "      <td>117593.48</td>\n",
       "      <td>2</td>\n",
       "      <td>0</td>\n",
       "      <td>0</td>\n",
       "      <td>113308.29</td>\n",
       "      <td>0</td>\n",
       "    </tr>\n",
       "    <tr>\n",
       "      <th>9985</th>\n",
       "      <td>9986</td>\n",
       "      <td>15586914</td>\n",
       "      <td>Nepean</td>\n",
       "      <td>659</td>\n",
       "      <td>France</td>\n",
       "      <td>Male</td>\n",
       "      <td>36</td>\n",
       "      <td>NaN</td>\n",
       "      <td>123841.49</td>\n",
       "      <td>2</td>\n",
       "      <td>1</td>\n",
       "      <td>0</td>\n",
       "      <td>96833.00</td>\n",
       "      <td>0</td>\n",
       "    </tr>\n",
       "    <tr>\n",
       "      <th>9999</th>\n",
       "      <td>10000</td>\n",
       "      <td>15628319</td>\n",
       "      <td>Walker</td>\n",
       "      <td>792</td>\n",
       "      <td>France</td>\n",
       "      <td>Female</td>\n",
       "      <td>28</td>\n",
       "      <td>NaN</td>\n",
       "      <td>130142.79</td>\n",
       "      <td>1</td>\n",
       "      <td>1</td>\n",
       "      <td>0</td>\n",
       "      <td>38190.78</td>\n",
       "      <td>0</td>\n",
       "    </tr>\n",
       "  </tbody>\n",
       "</table>\n",
       "<p>909 rows × 14 columns</p>\n",
       "</div>"
      ],
      "text/plain": [
       "      row_number  customer_id    surname  credit_score geography  gender  age  \\\n",
       "30            31     15589475    Azikiwe           591     Spain  Female   39   \n",
       "48            49     15766205        Yin           550   Germany    Male   38   \n",
       "51            52     15768193  Trevisani           585   Germany    Male   36   \n",
       "53            54     15702298   Parkhill           655   Germany    Male   41   \n",
       "60            61     15651280     Hunter           742   Germany    Male   35   \n",
       "...          ...          ...        ...           ...       ...     ...  ...   \n",
       "9944        9945     15703923    Cameron           744   Germany    Male   41   \n",
       "9956        9957     15707861      Nucci           520    France  Female   46   \n",
       "9964        9965     15642785    Douglas           479    France    Male   34   \n",
       "9985        9986     15586914     Nepean           659    France    Male   36   \n",
       "9999       10000     15628319     Walker           792    France  Female   28   \n",
       "\n",
       "      tenure    balance  num_of_products  has_cr_card  is_active_member  \\\n",
       "30       NaN       0.00                3            1                 0   \n",
       "48       NaN  103391.38                1            0                 1   \n",
       "51       NaN  146050.97                2            0                 0   \n",
       "53       NaN  125561.97                1            0                 0   \n",
       "60       NaN  136857.00                1            0                 0   \n",
       "...      ...        ...              ...          ...               ...   \n",
       "9944     NaN  190409.34                2            1                 1   \n",
       "9956     NaN   85216.61                1            1                 0   \n",
       "9964     NaN  117593.48                2            0                 0   \n",
       "9985     NaN  123841.49                2            1                 0   \n",
       "9999     NaN  130142.79                1            1                 0   \n",
       "\n",
       "      estimated_salary  exited  \n",
       "30           140469.38       1  \n",
       "48            90878.13       0  \n",
       "51            86424.57       0  \n",
       "53           164040.94       1  \n",
       "60            84509.57       0  \n",
       "...                ...     ...  \n",
       "9944         138361.48       0  \n",
       "9956         117369.52       1  \n",
       "9964         113308.29       0  \n",
       "9985          96833.00       0  \n",
       "9999          38190.78       0  \n",
       "\n",
       "[909 rows x 14 columns]"
      ]
     },
     "metadata": {},
     "output_type": "display_data"
    }
   ],
   "source": [
    "# Visualize rows with missing data\n",
    "display(df[df['tenure'].isna() == True])"
   ]
  },
  {
   "cell_type": "code",
   "execution_count": 10,
   "metadata": {},
   "outputs": [
    {
     "data": {
      "text/plain": [
       "1.0     952\n",
       "2.0     950\n",
       "8.0     933\n",
       "3.0     928\n",
       "5.0     927\n",
       "7.0     925\n",
       "4.0     885\n",
       "9.0     882\n",
       "6.0     881\n",
       "10.0    446\n",
       "0.0     382\n",
       "Name: tenure, dtype: int64"
      ]
     },
     "metadata": {},
     "output_type": "display_data"
    }
   ],
   "source": [
    "# Visualize values in tenure column\n",
    "display(df['tenure'].value_counts())"
   ]
  },
  {
   "cell_type": "code",
   "execution_count": 11,
   "metadata": {},
   "outputs": [
    {
     "data": {
      "text/html": [
       "<div>\n",
       "<style scoped>\n",
       "    .dataframe tbody tr th:only-of-type {\n",
       "        vertical-align: middle;\n",
       "    }\n",
       "\n",
       "    .dataframe tbody tr th {\n",
       "        vertical-align: top;\n",
       "    }\n",
       "\n",
       "    .dataframe thead th {\n",
       "        text-align: right;\n",
       "    }\n",
       "</style>\n",
       "<table border=\"1\" class=\"dataframe\">\n",
       "  <thead>\n",
       "    <tr style=\"text-align: right;\">\n",
       "      <th></th>\n",
       "      <th>row_number</th>\n",
       "      <th>customer_id</th>\n",
       "      <th>surname</th>\n",
       "      <th>credit_score</th>\n",
       "      <th>geography</th>\n",
       "      <th>gender</th>\n",
       "      <th>age</th>\n",
       "      <th>tenure</th>\n",
       "      <th>balance</th>\n",
       "      <th>num_of_products</th>\n",
       "      <th>has_cr_card</th>\n",
       "      <th>is_active_member</th>\n",
       "      <th>estimated_salary</th>\n",
       "      <th>exited</th>\n",
       "    </tr>\n",
       "  </thead>\n",
       "  <tbody>\n",
       "    <tr>\n",
       "      <th>29</th>\n",
       "      <td>30</td>\n",
       "      <td>15656300</td>\n",
       "      <td>Lucciano</td>\n",
       "      <td>411</td>\n",
       "      <td>France</td>\n",
       "      <td>Male</td>\n",
       "      <td>29</td>\n",
       "      <td>0.0</td>\n",
       "      <td>59697.17</td>\n",
       "      <td>2</td>\n",
       "      <td>1</td>\n",
       "      <td>1</td>\n",
       "      <td>53483.21</td>\n",
       "      <td>0</td>\n",
       "    </tr>\n",
       "    <tr>\n",
       "      <th>35</th>\n",
       "      <td>36</td>\n",
       "      <td>15794171</td>\n",
       "      <td>Lombardo</td>\n",
       "      <td>475</td>\n",
       "      <td>France</td>\n",
       "      <td>Female</td>\n",
       "      <td>45</td>\n",
       "      <td>0.0</td>\n",
       "      <td>134264.04</td>\n",
       "      <td>1</td>\n",
       "      <td>1</td>\n",
       "      <td>0</td>\n",
       "      <td>27822.99</td>\n",
       "      <td>1</td>\n",
       "    </tr>\n",
       "    <tr>\n",
       "      <th>57</th>\n",
       "      <td>58</td>\n",
       "      <td>15647091</td>\n",
       "      <td>Endrizzi</td>\n",
       "      <td>725</td>\n",
       "      <td>Germany</td>\n",
       "      <td>Male</td>\n",
       "      <td>19</td>\n",
       "      <td>0.0</td>\n",
       "      <td>75888.20</td>\n",
       "      <td>1</td>\n",
       "      <td>0</td>\n",
       "      <td>0</td>\n",
       "      <td>45613.75</td>\n",
       "      <td>0</td>\n",
       "    </tr>\n",
       "    <tr>\n",
       "      <th>72</th>\n",
       "      <td>73</td>\n",
       "      <td>15812518</td>\n",
       "      <td>Palermo</td>\n",
       "      <td>657</td>\n",
       "      <td>Spain</td>\n",
       "      <td>Female</td>\n",
       "      <td>37</td>\n",
       "      <td>0.0</td>\n",
       "      <td>163607.18</td>\n",
       "      <td>1</td>\n",
       "      <td>0</td>\n",
       "      <td>1</td>\n",
       "      <td>44203.55</td>\n",
       "      <td>0</td>\n",
       "    </tr>\n",
       "    <tr>\n",
       "      <th>127</th>\n",
       "      <td>128</td>\n",
       "      <td>15782688</td>\n",
       "      <td>Piccio</td>\n",
       "      <td>625</td>\n",
       "      <td>Germany</td>\n",
       "      <td>Male</td>\n",
       "      <td>56</td>\n",
       "      <td>0.0</td>\n",
       "      <td>148507.24</td>\n",
       "      <td>1</td>\n",
       "      <td>1</td>\n",
       "      <td>0</td>\n",
       "      <td>46824.08</td>\n",
       "      <td>1</td>\n",
       "    </tr>\n",
       "    <tr>\n",
       "      <th>...</th>\n",
       "      <td>...</td>\n",
       "      <td>...</td>\n",
       "      <td>...</td>\n",
       "      <td>...</td>\n",
       "      <td>...</td>\n",
       "      <td>...</td>\n",
       "      <td>...</td>\n",
       "      <td>...</td>\n",
       "      <td>...</td>\n",
       "      <td>...</td>\n",
       "      <td>...</td>\n",
       "      <td>...</td>\n",
       "      <td>...</td>\n",
       "      <td>...</td>\n",
       "    </tr>\n",
       "    <tr>\n",
       "      <th>9793</th>\n",
       "      <td>9794</td>\n",
       "      <td>15772363</td>\n",
       "      <td>Hilton</td>\n",
       "      <td>772</td>\n",
       "      <td>Germany</td>\n",
       "      <td>Female</td>\n",
       "      <td>42</td>\n",
       "      <td>0.0</td>\n",
       "      <td>101979.16</td>\n",
       "      <td>1</td>\n",
       "      <td>1</td>\n",
       "      <td>0</td>\n",
       "      <td>90928.48</td>\n",
       "      <td>0</td>\n",
       "    </tr>\n",
       "    <tr>\n",
       "      <th>9799</th>\n",
       "      <td>9800</td>\n",
       "      <td>15722731</td>\n",
       "      <td>Manna</td>\n",
       "      <td>653</td>\n",
       "      <td>France</td>\n",
       "      <td>Male</td>\n",
       "      <td>46</td>\n",
       "      <td>0.0</td>\n",
       "      <td>119556.10</td>\n",
       "      <td>1</td>\n",
       "      <td>1</td>\n",
       "      <td>0</td>\n",
       "      <td>78250.13</td>\n",
       "      <td>1</td>\n",
       "    </tr>\n",
       "    <tr>\n",
       "      <th>9843</th>\n",
       "      <td>9844</td>\n",
       "      <td>15778304</td>\n",
       "      <td>Fan</td>\n",
       "      <td>646</td>\n",
       "      <td>Germany</td>\n",
       "      <td>Male</td>\n",
       "      <td>24</td>\n",
       "      <td>0.0</td>\n",
       "      <td>92398.08</td>\n",
       "      <td>1</td>\n",
       "      <td>1</td>\n",
       "      <td>1</td>\n",
       "      <td>18897.29</td>\n",
       "      <td>0</td>\n",
       "    </tr>\n",
       "    <tr>\n",
       "      <th>9868</th>\n",
       "      <td>9869</td>\n",
       "      <td>15587640</td>\n",
       "      <td>Rowntree</td>\n",
       "      <td>718</td>\n",
       "      <td>France</td>\n",
       "      <td>Female</td>\n",
       "      <td>43</td>\n",
       "      <td>0.0</td>\n",
       "      <td>93143.39</td>\n",
       "      <td>1</td>\n",
       "      <td>1</td>\n",
       "      <td>0</td>\n",
       "      <td>167554.86</td>\n",
       "      <td>0</td>\n",
       "    </tr>\n",
       "    <tr>\n",
       "      <th>9919</th>\n",
       "      <td>9920</td>\n",
       "      <td>15798084</td>\n",
       "      <td>Murray</td>\n",
       "      <td>688</td>\n",
       "      <td>France</td>\n",
       "      <td>Male</td>\n",
       "      <td>26</td>\n",
       "      <td>0.0</td>\n",
       "      <td>0.00</td>\n",
       "      <td>2</td>\n",
       "      <td>1</td>\n",
       "      <td>0</td>\n",
       "      <td>105784.85</td>\n",
       "      <td>0</td>\n",
       "    </tr>\n",
       "  </tbody>\n",
       "</table>\n",
       "<p>382 rows × 14 columns</p>\n",
       "</div>"
      ],
      "text/plain": [
       "      row_number  customer_id   surname  credit_score geography  gender  age  \\\n",
       "29            30     15656300  Lucciano           411    France    Male   29   \n",
       "35            36     15794171  Lombardo           475    France  Female   45   \n",
       "57            58     15647091  Endrizzi           725   Germany    Male   19   \n",
       "72            73     15812518   Palermo           657     Spain  Female   37   \n",
       "127          128     15782688    Piccio           625   Germany    Male   56   \n",
       "...          ...          ...       ...           ...       ...     ...  ...   \n",
       "9793        9794     15772363    Hilton           772   Germany  Female   42   \n",
       "9799        9800     15722731     Manna           653    France    Male   46   \n",
       "9843        9844     15778304       Fan           646   Germany    Male   24   \n",
       "9868        9869     15587640  Rowntree           718    France  Female   43   \n",
       "9919        9920     15798084    Murray           688    France    Male   26   \n",
       "\n",
       "      tenure    balance  num_of_products  has_cr_card  is_active_member  \\\n",
       "29       0.0   59697.17                2            1                 1   \n",
       "35       0.0  134264.04                1            1                 0   \n",
       "57       0.0   75888.20                1            0                 0   \n",
       "72       0.0  163607.18                1            0                 1   \n",
       "127      0.0  148507.24                1            1                 0   \n",
       "...      ...        ...              ...          ...               ...   \n",
       "9793     0.0  101979.16                1            1                 0   \n",
       "9799     0.0  119556.10                1            1                 0   \n",
       "9843     0.0   92398.08                1            1                 1   \n",
       "9868     0.0   93143.39                1            1                 0   \n",
       "9919     0.0       0.00                2            1                 0   \n",
       "\n",
       "      estimated_salary  exited  \n",
       "29            53483.21       0  \n",
       "35            27822.99       1  \n",
       "57            45613.75       0  \n",
       "72            44203.55       0  \n",
       "127           46824.08       1  \n",
       "...                ...     ...  \n",
       "9793          90928.48       0  \n",
       "9799          78250.13       1  \n",
       "9843          18897.29       0  \n",
       "9868         167554.86       0  \n",
       "9919         105784.85       0  \n",
       "\n",
       "[382 rows x 14 columns]"
      ]
     },
     "metadata": {},
     "output_type": "display_data"
    }
   ],
   "source": [
    "display(df[df['tenure'] == 0.0])"
   ]
  },
  {
   "cell_type": "markdown",
   "metadata": {},
   "source": [
    "From our documentation of the data, the `tenure` column, contains the period of maturation for a customer’s fixed deposit (years). Seeing as not all customers have fixed deposits, it is safe to assume that the missing values are for customers who don't have fixed deposit accounts and so we can fill this value with 0."
   ]
  },
  {
   "cell_type": "markdown",
   "metadata": {},
   "source": [
    "<div class=\"alert alert-block alert-success\">\n",
    "<b>Reviewer's comment</b> <a class=\"tocSkip\"></a>\n",
    "\n",
    "Right thinking!\n",
    "</div>"
   ]
  },
  {
   "cell_type": "markdown",
   "metadata": {},
   "source": [
    "<div class=\"alert alert-block alert-success\">\n",
    "<b>Reviewer's comment</b> <a class=\"tocSkip\"></a>\n",
    "\n",
    "Pro tip: also we can try to fillna with median value (from train set only).\n",
    "</div>"
   ]
  },
  {
   "cell_type": "code",
   "execution_count": 12,
   "metadata": {},
   "outputs": [],
   "source": [
    "# Fill missing values\n",
    "df['tenure'] = df['tenure'].fillna(0)"
   ]
  },
  {
   "cell_type": "code",
   "execution_count": 13,
   "metadata": {},
   "outputs": [
    {
     "name": "stdout",
     "output_type": "stream",
     "text": [
      "0.0     1291\n",
      "1.0      952\n",
      "2.0      950\n",
      "8.0      933\n",
      "3.0      928\n",
      "5.0      927\n",
      "7.0      925\n",
      "4.0      885\n",
      "9.0      882\n",
      "6.0      881\n",
      "10.0     446\n",
      "Name: tenure, dtype: int64\n"
     ]
    }
   ],
   "source": [
    "# Visualize values in tenure column\n",
    "print(df['tenure'].value_counts())"
   ]
  },
  {
   "cell_type": "code",
   "execution_count": 14,
   "metadata": {},
   "outputs": [
    {
     "name": "stdout",
     "output_type": "stream",
     "text": [
      "<class 'pandas.core.frame.DataFrame'>\n",
      "RangeIndex: 10000 entries, 0 to 9999\n",
      "Data columns (total 14 columns):\n",
      " #   Column            Non-Null Count  Dtype  \n",
      "---  ------            --------------  -----  \n",
      " 0   row_number        10000 non-null  int64  \n",
      " 1   customer_id       10000 non-null  int64  \n",
      " 2   surname           10000 non-null  object \n",
      " 3   credit_score      10000 non-null  int64  \n",
      " 4   geography         10000 non-null  object \n",
      " 5   gender            10000 non-null  object \n",
      " 6   age               10000 non-null  int64  \n",
      " 7   tenure            10000 non-null  float64\n",
      " 8   balance           10000 non-null  float64\n",
      " 9   num_of_products   10000 non-null  int64  \n",
      " 10  has_cr_card       10000 non-null  int64  \n",
      " 11  is_active_member  10000 non-null  int64  \n",
      " 12  estimated_salary  10000 non-null  float64\n",
      " 13  exited            10000 non-null  int64  \n",
      "dtypes: float64(3), int64(8), object(3)\n",
      "memory usage: 1.1+ MB\n"
     ]
    }
   ],
   "source": [
    "# Visualize data frame info\n",
    "df.info()"
   ]
  },
  {
   "cell_type": "markdown",
   "metadata": {},
   "source": [
    "### Checking for duplicates"
   ]
  },
  {
   "cell_type": "code",
   "execution_count": 15,
   "metadata": {},
   "outputs": [
    {
     "name": "stdout",
     "output_type": "stream",
     "text": [
      "False    10000\n",
      "dtype: int64\n"
     ]
    }
   ],
   "source": [
    "print(df.duplicated().value_counts())"
   ]
  },
  {
   "cell_type": "markdown",
   "metadata": {},
   "source": [
    "The data is fully clean and ready for use!"
   ]
  },
  {
   "cell_type": "markdown",
   "metadata": {},
   "source": [
    "<div class=\"alert alert-block alert-warning\">\n",
    "<b>Reviewer's comment</b> <a class=\"tocSkip\"></a>\n",
    "\n",
    "<s>It's also a good practice to check for duplicates.\n",
    "</div>"
   ]
  },
  {
   "cell_type": "markdown",
   "metadata": {},
   "source": [
    "<div class=\"alert alert-block alert-success\">\n",
    "<b>Reviewer's comment</b> <a class=\"tocSkip\"></a>\n",
    "\n",
    "Good job.\n",
    "</div>"
   ]
  },
  {
   "cell_type": "markdown",
   "metadata": {},
   "source": [
    "## Prepare data for model"
   ]
  },
  {
   "cell_type": "markdown",
   "metadata": {},
   "source": [
    "### Dealing with non informative columns"
   ]
  },
  {
   "cell_type": "code",
   "execution_count": 16,
   "metadata": {},
   "outputs": [],
   "source": [
    "# Drop non informative columns\n",
    "df_new = df.drop(['customer_id', 'surname', 'row_number'], axis=1)"
   ]
  },
  {
   "cell_type": "markdown",
   "metadata": {},
   "source": [
    "### Split features and target"
   ]
  },
  {
   "cell_type": "code",
   "execution_count": 17,
   "metadata": {},
   "outputs": [],
   "source": [
    "# Get target and features of data\n",
    "features = df_new.drop('exited', axis=1)\n",
    "target = df_new['exited']"
   ]
  },
  {
   "cell_type": "code",
   "execution_count": 18,
   "metadata": {
    "scrolled": false
   },
   "outputs": [
    {
     "data": {
      "text/html": [
       "<div>\n",
       "<style scoped>\n",
       "    .dataframe tbody tr th:only-of-type {\n",
       "        vertical-align: middle;\n",
       "    }\n",
       "\n",
       "    .dataframe tbody tr th {\n",
       "        vertical-align: top;\n",
       "    }\n",
       "\n",
       "    .dataframe thead th {\n",
       "        text-align: right;\n",
       "    }\n",
       "</style>\n",
       "<table border=\"1\" class=\"dataframe\">\n",
       "  <thead>\n",
       "    <tr style=\"text-align: right;\">\n",
       "      <th></th>\n",
       "      <th>credit_score</th>\n",
       "      <th>geography</th>\n",
       "      <th>gender</th>\n",
       "      <th>age</th>\n",
       "      <th>tenure</th>\n",
       "      <th>balance</th>\n",
       "      <th>num_of_products</th>\n",
       "      <th>has_cr_card</th>\n",
       "      <th>is_active_member</th>\n",
       "      <th>estimated_salary</th>\n",
       "    </tr>\n",
       "  </thead>\n",
       "  <tbody>\n",
       "    <tr>\n",
       "      <th>0</th>\n",
       "      <td>619</td>\n",
       "      <td>France</td>\n",
       "      <td>Female</td>\n",
       "      <td>42</td>\n",
       "      <td>2.0</td>\n",
       "      <td>0.00</td>\n",
       "      <td>1</td>\n",
       "      <td>1</td>\n",
       "      <td>1</td>\n",
       "      <td>101348.88</td>\n",
       "    </tr>\n",
       "    <tr>\n",
       "      <th>1</th>\n",
       "      <td>608</td>\n",
       "      <td>Spain</td>\n",
       "      <td>Female</td>\n",
       "      <td>41</td>\n",
       "      <td>1.0</td>\n",
       "      <td>83807.86</td>\n",
       "      <td>1</td>\n",
       "      <td>0</td>\n",
       "      <td>1</td>\n",
       "      <td>112542.58</td>\n",
       "    </tr>\n",
       "    <tr>\n",
       "      <th>2</th>\n",
       "      <td>502</td>\n",
       "      <td>France</td>\n",
       "      <td>Female</td>\n",
       "      <td>42</td>\n",
       "      <td>8.0</td>\n",
       "      <td>159660.80</td>\n",
       "      <td>3</td>\n",
       "      <td>1</td>\n",
       "      <td>0</td>\n",
       "      <td>113931.57</td>\n",
       "    </tr>\n",
       "    <tr>\n",
       "      <th>3</th>\n",
       "      <td>699</td>\n",
       "      <td>France</td>\n",
       "      <td>Female</td>\n",
       "      <td>39</td>\n",
       "      <td>1.0</td>\n",
       "      <td>0.00</td>\n",
       "      <td>2</td>\n",
       "      <td>0</td>\n",
       "      <td>0</td>\n",
       "      <td>93826.63</td>\n",
       "    </tr>\n",
       "    <tr>\n",
       "      <th>4</th>\n",
       "      <td>850</td>\n",
       "      <td>Spain</td>\n",
       "      <td>Female</td>\n",
       "      <td>43</td>\n",
       "      <td>2.0</td>\n",
       "      <td>125510.82</td>\n",
       "      <td>1</td>\n",
       "      <td>1</td>\n",
       "      <td>1</td>\n",
       "      <td>79084.10</td>\n",
       "    </tr>\n",
       "    <tr>\n",
       "      <th>5</th>\n",
       "      <td>645</td>\n",
       "      <td>Spain</td>\n",
       "      <td>Male</td>\n",
       "      <td>44</td>\n",
       "      <td>8.0</td>\n",
       "      <td>113755.78</td>\n",
       "      <td>2</td>\n",
       "      <td>1</td>\n",
       "      <td>0</td>\n",
       "      <td>149756.71</td>\n",
       "    </tr>\n",
       "    <tr>\n",
       "      <th>6</th>\n",
       "      <td>822</td>\n",
       "      <td>France</td>\n",
       "      <td>Male</td>\n",
       "      <td>50</td>\n",
       "      <td>7.0</td>\n",
       "      <td>0.00</td>\n",
       "      <td>2</td>\n",
       "      <td>1</td>\n",
       "      <td>1</td>\n",
       "      <td>10062.80</td>\n",
       "    </tr>\n",
       "    <tr>\n",
       "      <th>7</th>\n",
       "      <td>376</td>\n",
       "      <td>Germany</td>\n",
       "      <td>Female</td>\n",
       "      <td>29</td>\n",
       "      <td>4.0</td>\n",
       "      <td>115046.74</td>\n",
       "      <td>4</td>\n",
       "      <td>1</td>\n",
       "      <td>0</td>\n",
       "      <td>119346.88</td>\n",
       "    </tr>\n",
       "    <tr>\n",
       "      <th>8</th>\n",
       "      <td>501</td>\n",
       "      <td>France</td>\n",
       "      <td>Male</td>\n",
       "      <td>44</td>\n",
       "      <td>4.0</td>\n",
       "      <td>142051.07</td>\n",
       "      <td>2</td>\n",
       "      <td>0</td>\n",
       "      <td>1</td>\n",
       "      <td>74940.50</td>\n",
       "    </tr>\n",
       "    <tr>\n",
       "      <th>9</th>\n",
       "      <td>684</td>\n",
       "      <td>France</td>\n",
       "      <td>Male</td>\n",
       "      <td>27</td>\n",
       "      <td>2.0</td>\n",
       "      <td>134603.88</td>\n",
       "      <td>1</td>\n",
       "      <td>1</td>\n",
       "      <td>1</td>\n",
       "      <td>71725.73</td>\n",
       "    </tr>\n",
       "  </tbody>\n",
       "</table>\n",
       "</div>"
      ],
      "text/plain": [
       "   credit_score geography  gender  age  tenure    balance  num_of_products  \\\n",
       "0           619    France  Female   42     2.0       0.00                1   \n",
       "1           608     Spain  Female   41     1.0   83807.86                1   \n",
       "2           502    France  Female   42     8.0  159660.80                3   \n",
       "3           699    France  Female   39     1.0       0.00                2   \n",
       "4           850     Spain  Female   43     2.0  125510.82                1   \n",
       "5           645     Spain    Male   44     8.0  113755.78                2   \n",
       "6           822    France    Male   50     7.0       0.00                2   \n",
       "7           376   Germany  Female   29     4.0  115046.74                4   \n",
       "8           501    France    Male   44     4.0  142051.07                2   \n",
       "9           684    France    Male   27     2.0  134603.88                1   \n",
       "\n",
       "   has_cr_card  is_active_member  estimated_salary  \n",
       "0            1                 1         101348.88  \n",
       "1            0                 1         112542.58  \n",
       "2            1                 0         113931.57  \n",
       "3            0                 0          93826.63  \n",
       "4            1                 1          79084.10  \n",
       "5            1                 0         149756.71  \n",
       "6            1                 1          10062.80  \n",
       "7            1                 0         119346.88  \n",
       "8            0                 1          74940.50  \n",
       "9            1                 1          71725.73  "
      ]
     },
     "execution_count": 18,
     "metadata": {},
     "output_type": "execute_result"
    }
   ],
   "source": [
    "# Visualize features\n",
    "features.head(10)"
   ]
  },
  {
   "cell_type": "code",
   "execution_count": 19,
   "metadata": {
    "scrolled": false
   },
   "outputs": [
    {
     "name": "stdout",
     "output_type": "stream",
     "text": [
      "<class 'pandas.core.frame.DataFrame'>\n",
      "RangeIndex: 10000 entries, 0 to 9999\n",
      "Data columns (total 10 columns):\n",
      " #   Column            Non-Null Count  Dtype  \n",
      "---  ------            --------------  -----  \n",
      " 0   credit_score      10000 non-null  int64  \n",
      " 1   geography         10000 non-null  object \n",
      " 2   gender            10000 non-null  object \n",
      " 3   age               10000 non-null  int64  \n",
      " 4   tenure            10000 non-null  float64\n",
      " 5   balance           10000 non-null  float64\n",
      " 6   num_of_products   10000 non-null  int64  \n",
      " 7   has_cr_card       10000 non-null  int64  \n",
      " 8   is_active_member  10000 non-null  int64  \n",
      " 9   estimated_salary  10000 non-null  float64\n",
      "dtypes: float64(3), int64(5), object(2)\n",
      "memory usage: 781.4+ KB\n"
     ]
    }
   ],
   "source": [
    "# Check features info\n",
    "features.info()"
   ]
  },
  {
   "cell_type": "code",
   "execution_count": 20,
   "metadata": {
    "scrolled": false
   },
   "outputs": [
    {
     "data": {
      "text/plain": [
       "0    1\n",
       "1    0\n",
       "2    1\n",
       "3    0\n",
       "4    0\n",
       "5    1\n",
       "6    0\n",
       "7    1\n",
       "8    0\n",
       "9    0\n",
       "Name: exited, dtype: int64"
      ]
     },
     "execution_count": 20,
     "metadata": {},
     "output_type": "execute_result"
    }
   ],
   "source": [
    "# Visualize target\n",
    "target.head(10)"
   ]
  },
  {
   "cell_type": "markdown",
   "metadata": {},
   "source": [
    "### One Hot Encoding (OHE)"
   ]
  },
  {
   "cell_type": "code",
   "execution_count": 21,
   "metadata": {},
   "outputs": [],
   "source": [
    "# Transform dataframe with OHE\n",
    "features = pd.get_dummies(features, drop_first=True)"
   ]
  },
  {
   "cell_type": "markdown",
   "metadata": {},
   "source": [
    "<div class=\"alert alert-block alert-danger\">\n",
    "<b>Reviewer's comment</b> <a class=\"tocSkip\"></a>\n",
    "\n",
    "<s>Let's talk about how we can improve our code. <br>\n",
    "1. Seems we have non informative columns in our dataset (like id).\n",
    "2. In this case it's better to use OHE/get_dummies for categorical columns because we don't have much unique values in them.\n",
    "</div>"
   ]
  },
  {
   "cell_type": "markdown",
   "metadata": {},
   "source": [
    "<div class=\"alert alert-block alert-info\">\n",
    "<b>Student answer.</b> <a class=\"tocSkip\"></a>\n",
    "\n",
    "Yes OHE is a good option for logistic regression models. But seeing as we are also going to test decision trees and random forests, wouldn't ordinal encoding be better? Or am I just meant to use a logistic Regression Model?\n",
    "</div>"
   ]
  },
  {
   "cell_type": "markdown",
   "metadata": {},
   "source": [
    "<div class=\"alert alert-block alert-warning\">\n",
    "<b>Reviewer's comment</b> <a class=\"tocSkip\"></a>\n",
    "\n",
    "Trees works well with OHE columns too.\n",
    "</div>"
   ]
  },
  {
   "cell_type": "markdown",
   "metadata": {},
   "source": [
    "<div class=\"alert alert-block alert-danger\">\n",
    "<b>Reviewer's comment</b> <a class=\"tocSkip\"></a>\n",
    "\n",
    "<s>We have some non informative columns - customer_id, surname, row_number. <br>\n",
    "Our recommendation here is to drop these columns. We got 2944 columns after OHE because of them =)\n",
    "</div>"
   ]
  },
  {
   "cell_type": "markdown",
   "metadata": {},
   "source": [
    "<div class=\"alert alert-block alert-success\">\n",
    "<b>Reviewer's comment</b> <a class=\"tocSkip\"></a>\n",
    "\n",
    "Well done!\n",
    "</div>"
   ]
  },
  {
   "cell_type": "code",
   "execution_count": 22,
   "metadata": {},
   "outputs": [
    {
     "data": {
      "text/html": [
       "<div>\n",
       "<style scoped>\n",
       "    .dataframe tbody tr th:only-of-type {\n",
       "        vertical-align: middle;\n",
       "    }\n",
       "\n",
       "    .dataframe tbody tr th {\n",
       "        vertical-align: top;\n",
       "    }\n",
       "\n",
       "    .dataframe thead th {\n",
       "        text-align: right;\n",
       "    }\n",
       "</style>\n",
       "<table border=\"1\" class=\"dataframe\">\n",
       "  <thead>\n",
       "    <tr style=\"text-align: right;\">\n",
       "      <th></th>\n",
       "      <th>credit_score</th>\n",
       "      <th>age</th>\n",
       "      <th>tenure</th>\n",
       "      <th>balance</th>\n",
       "      <th>num_of_products</th>\n",
       "      <th>has_cr_card</th>\n",
       "      <th>is_active_member</th>\n",
       "      <th>estimated_salary</th>\n",
       "      <th>geography_Germany</th>\n",
       "      <th>geography_Spain</th>\n",
       "      <th>gender_Male</th>\n",
       "    </tr>\n",
       "  </thead>\n",
       "  <tbody>\n",
       "    <tr>\n",
       "      <th>0</th>\n",
       "      <td>619</td>\n",
       "      <td>42</td>\n",
       "      <td>2.0</td>\n",
       "      <td>0.00</td>\n",
       "      <td>1</td>\n",
       "      <td>1</td>\n",
       "      <td>1</td>\n",
       "      <td>101348.88</td>\n",
       "      <td>0</td>\n",
       "      <td>0</td>\n",
       "      <td>0</td>\n",
       "    </tr>\n",
       "    <tr>\n",
       "      <th>1</th>\n",
       "      <td>608</td>\n",
       "      <td>41</td>\n",
       "      <td>1.0</td>\n",
       "      <td>83807.86</td>\n",
       "      <td>1</td>\n",
       "      <td>0</td>\n",
       "      <td>1</td>\n",
       "      <td>112542.58</td>\n",
       "      <td>0</td>\n",
       "      <td>1</td>\n",
       "      <td>0</td>\n",
       "    </tr>\n",
       "    <tr>\n",
       "      <th>2</th>\n",
       "      <td>502</td>\n",
       "      <td>42</td>\n",
       "      <td>8.0</td>\n",
       "      <td>159660.80</td>\n",
       "      <td>3</td>\n",
       "      <td>1</td>\n",
       "      <td>0</td>\n",
       "      <td>113931.57</td>\n",
       "      <td>0</td>\n",
       "      <td>0</td>\n",
       "      <td>0</td>\n",
       "    </tr>\n",
       "    <tr>\n",
       "      <th>3</th>\n",
       "      <td>699</td>\n",
       "      <td>39</td>\n",
       "      <td>1.0</td>\n",
       "      <td>0.00</td>\n",
       "      <td>2</td>\n",
       "      <td>0</td>\n",
       "      <td>0</td>\n",
       "      <td>93826.63</td>\n",
       "      <td>0</td>\n",
       "      <td>0</td>\n",
       "      <td>0</td>\n",
       "    </tr>\n",
       "    <tr>\n",
       "      <th>4</th>\n",
       "      <td>850</td>\n",
       "      <td>43</td>\n",
       "      <td>2.0</td>\n",
       "      <td>125510.82</td>\n",
       "      <td>1</td>\n",
       "      <td>1</td>\n",
       "      <td>1</td>\n",
       "      <td>79084.10</td>\n",
       "      <td>0</td>\n",
       "      <td>1</td>\n",
       "      <td>0</td>\n",
       "    </tr>\n",
       "    <tr>\n",
       "      <th>...</th>\n",
       "      <td>...</td>\n",
       "      <td>...</td>\n",
       "      <td>...</td>\n",
       "      <td>...</td>\n",
       "      <td>...</td>\n",
       "      <td>...</td>\n",
       "      <td>...</td>\n",
       "      <td>...</td>\n",
       "      <td>...</td>\n",
       "      <td>...</td>\n",
       "      <td>...</td>\n",
       "    </tr>\n",
       "    <tr>\n",
       "      <th>9995</th>\n",
       "      <td>771</td>\n",
       "      <td>39</td>\n",
       "      <td>5.0</td>\n",
       "      <td>0.00</td>\n",
       "      <td>2</td>\n",
       "      <td>1</td>\n",
       "      <td>0</td>\n",
       "      <td>96270.64</td>\n",
       "      <td>0</td>\n",
       "      <td>0</td>\n",
       "      <td>1</td>\n",
       "    </tr>\n",
       "    <tr>\n",
       "      <th>9996</th>\n",
       "      <td>516</td>\n",
       "      <td>35</td>\n",
       "      <td>10.0</td>\n",
       "      <td>57369.61</td>\n",
       "      <td>1</td>\n",
       "      <td>1</td>\n",
       "      <td>1</td>\n",
       "      <td>101699.77</td>\n",
       "      <td>0</td>\n",
       "      <td>0</td>\n",
       "      <td>1</td>\n",
       "    </tr>\n",
       "    <tr>\n",
       "      <th>9997</th>\n",
       "      <td>709</td>\n",
       "      <td>36</td>\n",
       "      <td>7.0</td>\n",
       "      <td>0.00</td>\n",
       "      <td>1</td>\n",
       "      <td>0</td>\n",
       "      <td>1</td>\n",
       "      <td>42085.58</td>\n",
       "      <td>0</td>\n",
       "      <td>0</td>\n",
       "      <td>0</td>\n",
       "    </tr>\n",
       "    <tr>\n",
       "      <th>9998</th>\n",
       "      <td>772</td>\n",
       "      <td>42</td>\n",
       "      <td>3.0</td>\n",
       "      <td>75075.31</td>\n",
       "      <td>2</td>\n",
       "      <td>1</td>\n",
       "      <td>0</td>\n",
       "      <td>92888.52</td>\n",
       "      <td>1</td>\n",
       "      <td>0</td>\n",
       "      <td>1</td>\n",
       "    </tr>\n",
       "    <tr>\n",
       "      <th>9999</th>\n",
       "      <td>792</td>\n",
       "      <td>28</td>\n",
       "      <td>0.0</td>\n",
       "      <td>130142.79</td>\n",
       "      <td>1</td>\n",
       "      <td>1</td>\n",
       "      <td>0</td>\n",
       "      <td>38190.78</td>\n",
       "      <td>0</td>\n",
       "      <td>0</td>\n",
       "      <td>0</td>\n",
       "    </tr>\n",
       "  </tbody>\n",
       "</table>\n",
       "<p>10000 rows × 11 columns</p>\n",
       "</div>"
      ],
      "text/plain": [
       "      credit_score  age  tenure    balance  num_of_products  has_cr_card  \\\n",
       "0              619   42     2.0       0.00                1            1   \n",
       "1              608   41     1.0   83807.86                1            0   \n",
       "2              502   42     8.0  159660.80                3            1   \n",
       "3              699   39     1.0       0.00                2            0   \n",
       "4              850   43     2.0  125510.82                1            1   \n",
       "...            ...  ...     ...        ...              ...          ...   \n",
       "9995           771   39     5.0       0.00                2            1   \n",
       "9996           516   35    10.0   57369.61                1            1   \n",
       "9997           709   36     7.0       0.00                1            0   \n",
       "9998           772   42     3.0   75075.31                2            1   \n",
       "9999           792   28     0.0  130142.79                1            1   \n",
       "\n",
       "      is_active_member  estimated_salary  geography_Germany  geography_Spain  \\\n",
       "0                    1         101348.88                  0                0   \n",
       "1                    1         112542.58                  0                1   \n",
       "2                    0         113931.57                  0                0   \n",
       "3                    0          93826.63                  0                0   \n",
       "4                    1          79084.10                  0                1   \n",
       "...                ...               ...                ...              ...   \n",
       "9995                 0          96270.64                  0                0   \n",
       "9996                 1         101699.77                  0                0   \n",
       "9997                 1          42085.58                  0                0   \n",
       "9998                 0          92888.52                  1                0   \n",
       "9999                 0          38190.78                  0                0   \n",
       "\n",
       "      gender_Male  \n",
       "0               0  \n",
       "1               0  \n",
       "2               0  \n",
       "3               0  \n",
       "4               0  \n",
       "...           ...  \n",
       "9995            1  \n",
       "9996            1  \n",
       "9997            0  \n",
       "9998            1  \n",
       "9999            0  \n",
       "\n",
       "[10000 rows x 11 columns]"
      ]
     },
     "execution_count": 22,
     "metadata": {},
     "output_type": "execute_result"
    }
   ],
   "source": [
    "# Visualize transformed dataframe\n",
    "features"
   ]
  },
  {
   "cell_type": "markdown",
   "metadata": {},
   "source": [
    "The data has been successfully split into train, valid and test in the ratio 60%:20%:20% respectively"
   ]
  },
  {
   "cell_type": "markdown",
   "metadata": {},
   "source": [
    "## Split data into training, validation and test datasets "
   ]
  },
  {
   "cell_type": "markdown",
   "metadata": {},
   "source": [
    "### Split data into training, validation and test datasets"
   ]
  },
  {
   "cell_type": "code",
   "execution_count": 23,
   "metadata": {},
   "outputs": [],
   "source": [
    "# Split data into training and test datasets\n",
    "features_train, features_test, target_train, target_test = train_test_split(features, target, test_size = 0.2, random_state=12345)"
   ]
  },
  {
   "cell_type": "code",
   "execution_count": 24,
   "metadata": {},
   "outputs": [],
   "source": [
    "# Split training dataset into training and validation datasets\n",
    "features_train, features_valid, target_train, target_valid =  train_test_split(features_train, target_train, test_size = 0.25, random_state=12345)"
   ]
  },
  {
   "cell_type": "markdown",
   "metadata": {},
   "source": [
    "## Feature Scaling"
   ]
  },
  {
   "cell_type": "markdown",
   "metadata": {},
   "source": [
    "### Highlight numeric columns"
   ]
  },
  {
   "cell_type": "code",
   "execution_count": 25,
   "metadata": {},
   "outputs": [],
   "source": [
    "# highlight numerical columns and save to a single variable\n",
    "numeric = ['credit_score', 'age', 'balance', 'num_of_products', 'has_cr_card','is_active_member', 'estimated_salary']"
   ]
  },
  {
   "cell_type": "markdown",
   "metadata": {},
   "source": [
    "### Create scaler variable"
   ]
  },
  {
   "cell_type": "code",
   "execution_count": 26,
   "metadata": {},
   "outputs": [
    {
     "data": {
      "text/plain": [
       "StandardScaler()"
      ]
     },
     "execution_count": 26,
     "metadata": {},
     "output_type": "execute_result"
    }
   ],
   "source": [
    "# Create scaler variable\n",
    "scaler = StandardScaler()\n",
    "scaler.fit(features_train[numeric])"
   ]
  },
  {
   "cell_type": "markdown",
   "metadata": {},
   "source": [
    "<div class=\"alert alert-block alert-danger\">\n",
    "<b>Reviewer's comment</b> <a class=\"tocSkip\"></a>\n",
    "\n",
    "<s>OK, no worries, but we have a little error here. <br>\n",
    "We need to fit our scaler only on train data.\n",
    "</div>"
   ]
  },
  {
   "cell_type": "markdown",
   "metadata": {},
   "source": [
    "<div class=\"alert alert-block alert-success\">\n",
    "<b>Reviewer's comment</b> <a class=\"tocSkip\"></a>\n",
    "\n",
    "Well done!\n",
    "</div>"
   ]
  },
  {
   "cell_type": "markdown",
   "metadata": {},
   "source": [
    "### Transform columns with scaler"
   ]
  },
  {
   "cell_type": "code",
   "execution_count": 27,
   "metadata": {},
   "outputs": [],
   "source": [
    "# Transform training columns\n",
    "features_train[numeric]= scaler.transform(features_train[numeric])"
   ]
  },
  {
   "cell_type": "code",
   "execution_count": 28,
   "metadata": {},
   "outputs": [],
   "source": [
    "# Transform validation columns\n",
    "features_valid[numeric]= scaler.transform(features_valid[numeric])"
   ]
  },
  {
   "cell_type": "code",
   "execution_count": 29,
   "metadata": {},
   "outputs": [
    {
     "name": "stderr",
     "output_type": "stream",
     "text": [
      "/tmp/ipykernel_120/4122959906.py:2: SettingWithCopyWarning: \n",
      "A value is trying to be set on a copy of a slice from a DataFrame.\n",
      "Try using .loc[row_indexer,col_indexer] = value instead\n",
      "\n",
      "See the caveats in the documentation: https://pandas.pydata.org/pandas-docs/stable/user_guide/indexing.html#returning-a-view-versus-a-copy\n",
      "  features_test[numeric]= scaler.transform(features_test[numeric])\n",
      "/opt/conda/lib/python3.9/site-packages/pandas/core/indexing.py:1738: SettingWithCopyWarning: \n",
      "A value is trying to be set on a copy of a slice from a DataFrame.\n",
      "Try using .loc[row_indexer,col_indexer] = value instead\n",
      "\n",
      "See the caveats in the documentation: https://pandas.pydata.org/pandas-docs/stable/user_guide/indexing.html#returning-a-view-versus-a-copy\n",
      "  self._setitem_single_column(loc, value[:, i].tolist(), pi)\n"
     ]
    }
   ],
   "source": [
    "# Transform test columns\n",
    "features_test[numeric]= scaler.transform(features_test[numeric])"
   ]
  },
  {
   "cell_type": "markdown",
   "metadata": {},
   "source": [
    "<div class=\"alert alert-block alert-danger\">\n",
    "<b>Reviewer's comment</b> <a class=\"tocSkip\"></a>\n",
    "\n",
    "<s>We also need to transform test set.\n",
    "</div>"
   ]
  },
  {
   "cell_type": "markdown",
   "metadata": {},
   "source": [
    "<div class=\"alert alert-block alert-success\">\n",
    "<b>Reviewer's comment</b> <a class=\"tocSkip\"></a>\n",
    "\n",
    "Good job.\n",
    "</div>"
   ]
  },
  {
   "cell_type": "markdown",
   "metadata": {},
   "source": [
    "### Visualize transformed dataframes"
   ]
  },
  {
   "cell_type": "code",
   "execution_count": 30,
   "metadata": {
    "scrolled": false
   },
   "outputs": [
    {
     "data": {
      "text/html": [
       "<div>\n",
       "<style scoped>\n",
       "    .dataframe tbody tr th:only-of-type {\n",
       "        vertical-align: middle;\n",
       "    }\n",
       "\n",
       "    .dataframe tbody tr th {\n",
       "        vertical-align: top;\n",
       "    }\n",
       "\n",
       "    .dataframe thead th {\n",
       "        text-align: right;\n",
       "    }\n",
       "</style>\n",
       "<table border=\"1\" class=\"dataframe\">\n",
       "  <thead>\n",
       "    <tr style=\"text-align: right;\">\n",
       "      <th></th>\n",
       "      <th>credit_score</th>\n",
       "      <th>age</th>\n",
       "      <th>tenure</th>\n",
       "      <th>balance</th>\n",
       "      <th>num_of_products</th>\n",
       "      <th>has_cr_card</th>\n",
       "      <th>is_active_member</th>\n",
       "      <th>estimated_salary</th>\n",
       "      <th>geography_Germany</th>\n",
       "      <th>geography_Spain</th>\n",
       "      <th>gender_Male</th>\n",
       "    </tr>\n",
       "  </thead>\n",
       "  <tbody>\n",
       "    <tr>\n",
       "      <th>492</th>\n",
       "      <td>-0.134048</td>\n",
       "      <td>-0.078068</td>\n",
       "      <td>4.0</td>\n",
       "      <td>0.076163</td>\n",
       "      <td>0.816929</td>\n",
       "      <td>-1.550255</td>\n",
       "      <td>0.968496</td>\n",
       "      <td>0.331571</td>\n",
       "      <td>0</td>\n",
       "      <td>0</td>\n",
       "      <td>0</td>\n",
       "    </tr>\n",
       "    <tr>\n",
       "      <th>6655</th>\n",
       "      <td>-1.010798</td>\n",
       "      <td>0.494555</td>\n",
       "      <td>0.0</td>\n",
       "      <td>0.136391</td>\n",
       "      <td>-0.896909</td>\n",
       "      <td>0.645055</td>\n",
       "      <td>0.968496</td>\n",
       "      <td>-0.727858</td>\n",
       "      <td>0</td>\n",
       "      <td>0</td>\n",
       "      <td>1</td>\n",
       "    </tr>\n",
       "    <tr>\n",
       "      <th>4287</th>\n",
       "      <td>0.639554</td>\n",
       "      <td>1.353490</td>\n",
       "      <td>1.0</td>\n",
       "      <td>0.358435</td>\n",
       "      <td>-0.896909</td>\n",
       "      <td>0.645055</td>\n",
       "      <td>0.968496</td>\n",
       "      <td>-0.477006</td>\n",
       "      <td>1</td>\n",
       "      <td>0</td>\n",
       "      <td>1</td>\n",
       "    </tr>\n",
       "    <tr>\n",
       "      <th>42</th>\n",
       "      <td>-0.990168</td>\n",
       "      <td>2.116987</td>\n",
       "      <td>2.0</td>\n",
       "      <td>0.651725</td>\n",
       "      <td>-0.896909</td>\n",
       "      <td>0.645055</td>\n",
       "      <td>0.968496</td>\n",
       "      <td>-0.100232</td>\n",
       "      <td>0</td>\n",
       "      <td>0</td>\n",
       "      <td>0</td>\n",
       "    </tr>\n",
       "    <tr>\n",
       "      <th>8178</th>\n",
       "      <td>0.567351</td>\n",
       "      <td>0.685430</td>\n",
       "      <td>7.0</td>\n",
       "      <td>0.813110</td>\n",
       "      <td>0.816929</td>\n",
       "      <td>0.645055</td>\n",
       "      <td>0.968496</td>\n",
       "      <td>0.801922</td>\n",
       "      <td>0</td>\n",
       "      <td>0</td>\n",
       "      <td>0</td>\n",
       "    </tr>\n",
       "    <tr>\n",
       "      <th>...</th>\n",
       "      <td>...</td>\n",
       "      <td>...</td>\n",
       "      <td>...</td>\n",
       "      <td>...</td>\n",
       "      <td>...</td>\n",
       "      <td>...</td>\n",
       "      <td>...</td>\n",
       "      <td>...</td>\n",
       "      <td>...</td>\n",
       "      <td>...</td>\n",
       "      <td>...</td>\n",
       "    </tr>\n",
       "    <tr>\n",
       "      <th>8819</th>\n",
       "      <td>-0.618839</td>\n",
       "      <td>-0.268942</td>\n",
       "      <td>10.0</td>\n",
       "      <td>0.744283</td>\n",
       "      <td>-0.896909</td>\n",
       "      <td>-1.550255</td>\n",
       "      <td>0.968496</td>\n",
       "      <td>0.803658</td>\n",
       "      <td>1</td>\n",
       "      <td>0</td>\n",
       "      <td>1</td>\n",
       "    </tr>\n",
       "    <tr>\n",
       "      <th>1537</th>\n",
       "      <td>1.743227</td>\n",
       "      <td>-1.032439</td>\n",
       "      <td>8.0</td>\n",
       "      <td>-1.232442</td>\n",
       "      <td>-0.896909</td>\n",
       "      <td>0.645055</td>\n",
       "      <td>0.968496</td>\n",
       "      <td>-1.098797</td>\n",
       "      <td>0</td>\n",
       "      <td>0</td>\n",
       "      <td>0</td>\n",
       "    </tr>\n",
       "    <tr>\n",
       "      <th>1408</th>\n",
       "      <td>0.567351</td>\n",
       "      <td>-0.650691</td>\n",
       "      <td>9.0</td>\n",
       "      <td>-1.232442</td>\n",
       "      <td>0.816929</td>\n",
       "      <td>-1.550255</td>\n",
       "      <td>-1.032529</td>\n",
       "      <td>-1.202257</td>\n",
       "      <td>0</td>\n",
       "      <td>0</td>\n",
       "      <td>1</td>\n",
       "    </tr>\n",
       "    <tr>\n",
       "      <th>7661</th>\n",
       "      <td>-0.412545</td>\n",
       "      <td>0.494555</td>\n",
       "      <td>2.0</td>\n",
       "      <td>0.615524</td>\n",
       "      <td>-0.896909</td>\n",
       "      <td>0.645055</td>\n",
       "      <td>0.968496</td>\n",
       "      <td>-0.038931</td>\n",
       "      <td>1</td>\n",
       "      <td>0</td>\n",
       "      <td>1</td>\n",
       "    </tr>\n",
       "    <tr>\n",
       "      <th>3295</th>\n",
       "      <td>1.052142</td>\n",
       "      <td>-1.891374</td>\n",
       "      <td>9.0</td>\n",
       "      <td>-1.232442</td>\n",
       "      <td>-0.896909</td>\n",
       "      <td>0.645055</td>\n",
       "      <td>-1.032529</td>\n",
       "      <td>1.560932</td>\n",
       "      <td>0</td>\n",
       "      <td>1</td>\n",
       "      <td>0</td>\n",
       "    </tr>\n",
       "  </tbody>\n",
       "</table>\n",
       "<p>6000 rows × 11 columns</p>\n",
       "</div>"
      ],
      "text/plain": [
       "      credit_score       age  tenure   balance  num_of_products  has_cr_card  \\\n",
       "492      -0.134048 -0.078068     4.0  0.076163         0.816929    -1.550255   \n",
       "6655     -1.010798  0.494555     0.0  0.136391        -0.896909     0.645055   \n",
       "4287      0.639554  1.353490     1.0  0.358435        -0.896909     0.645055   \n",
       "42       -0.990168  2.116987     2.0  0.651725        -0.896909     0.645055   \n",
       "8178      0.567351  0.685430     7.0  0.813110         0.816929     0.645055   \n",
       "...            ...       ...     ...       ...              ...          ...   \n",
       "8819     -0.618839 -0.268942    10.0  0.744283        -0.896909    -1.550255   \n",
       "1537      1.743227 -1.032439     8.0 -1.232442        -0.896909     0.645055   \n",
       "1408      0.567351 -0.650691     9.0 -1.232442         0.816929    -1.550255   \n",
       "7661     -0.412545  0.494555     2.0  0.615524        -0.896909     0.645055   \n",
       "3295      1.052142 -1.891374     9.0 -1.232442        -0.896909     0.645055   \n",
       "\n",
       "      is_active_member  estimated_salary  geography_Germany  geography_Spain  \\\n",
       "492           0.968496          0.331571                  0                0   \n",
       "6655          0.968496         -0.727858                  0                0   \n",
       "4287          0.968496         -0.477006                  1                0   \n",
       "42            0.968496         -0.100232                  0                0   \n",
       "8178          0.968496          0.801922                  0                0   \n",
       "...                ...               ...                ...              ...   \n",
       "8819          0.968496          0.803658                  1                0   \n",
       "1537          0.968496         -1.098797                  0                0   \n",
       "1408         -1.032529         -1.202257                  0                0   \n",
       "7661          0.968496         -0.038931                  1                0   \n",
       "3295         -1.032529          1.560932                  0                1   \n",
       "\n",
       "      gender_Male  \n",
       "492             0  \n",
       "6655            1  \n",
       "4287            1  \n",
       "42              0  \n",
       "8178            0  \n",
       "...           ...  \n",
       "8819            1  \n",
       "1537            0  \n",
       "1408            1  \n",
       "7661            1  \n",
       "3295            0  \n",
       "\n",
       "[6000 rows x 11 columns]"
      ]
     },
     "execution_count": 30,
     "metadata": {},
     "output_type": "execute_result"
    }
   ],
   "source": [
    "features_train"
   ]
  },
  {
   "cell_type": "code",
   "execution_count": 31,
   "metadata": {},
   "outputs": [
    {
     "data": {
      "text/html": [
       "<div>\n",
       "<style scoped>\n",
       "    .dataframe tbody tr th:only-of-type {\n",
       "        vertical-align: middle;\n",
       "    }\n",
       "\n",
       "    .dataframe tbody tr th {\n",
       "        vertical-align: top;\n",
       "    }\n",
       "\n",
       "    .dataframe thead th {\n",
       "        text-align: right;\n",
       "    }\n",
       "</style>\n",
       "<table border=\"1\" class=\"dataframe\">\n",
       "  <thead>\n",
       "    <tr style=\"text-align: right;\">\n",
       "      <th></th>\n",
       "      <th>credit_score</th>\n",
       "      <th>age</th>\n",
       "      <th>tenure</th>\n",
       "      <th>balance</th>\n",
       "      <th>num_of_products</th>\n",
       "      <th>has_cr_card</th>\n",
       "      <th>is_active_member</th>\n",
       "      <th>estimated_salary</th>\n",
       "      <th>geography_Germany</th>\n",
       "      <th>geography_Spain</th>\n",
       "      <th>gender_Male</th>\n",
       "    </tr>\n",
       "  </thead>\n",
       "  <tbody>\n",
       "    <tr>\n",
       "      <th>2358</th>\n",
       "      <td>0.175393</td>\n",
       "      <td>0.399118</td>\n",
       "      <td>1.0</td>\n",
       "      <td>1.385698</td>\n",
       "      <td>-0.896909</td>\n",
       "      <td>-1.550255</td>\n",
       "      <td>0.968496</td>\n",
       "      <td>-1.466761</td>\n",
       "      <td>0</td>\n",
       "      <td>0</td>\n",
       "      <td>1</td>\n",
       "    </tr>\n",
       "    <tr>\n",
       "      <th>8463</th>\n",
       "      <td>-1.299609</td>\n",
       "      <td>0.971741</td>\n",
       "      <td>2.0</td>\n",
       "      <td>-1.232442</td>\n",
       "      <td>-0.896909</td>\n",
       "      <td>0.645055</td>\n",
       "      <td>-1.032529</td>\n",
       "      <td>0.254415</td>\n",
       "      <td>0</td>\n",
       "      <td>1</td>\n",
       "      <td>1</td>\n",
       "    </tr>\n",
       "    <tr>\n",
       "      <th>163</th>\n",
       "      <td>0.711757</td>\n",
       "      <td>-0.268942</td>\n",
       "      <td>2.0</td>\n",
       "      <td>-1.232442</td>\n",
       "      <td>0.816929</td>\n",
       "      <td>0.645055</td>\n",
       "      <td>0.968496</td>\n",
       "      <td>0.122863</td>\n",
       "      <td>0</td>\n",
       "      <td>1</td>\n",
       "      <td>0</td>\n",
       "    </tr>\n",
       "    <tr>\n",
       "      <th>3074</th>\n",
       "      <td>-0.391916</td>\n",
       "      <td>0.494555</td>\n",
       "      <td>6.0</td>\n",
       "      <td>0.672529</td>\n",
       "      <td>-0.896909</td>\n",
       "      <td>0.645055</td>\n",
       "      <td>-1.032529</td>\n",
       "      <td>0.585847</td>\n",
       "      <td>1</td>\n",
       "      <td>0</td>\n",
       "      <td>0</td>\n",
       "    </tr>\n",
       "    <tr>\n",
       "      <th>5989</th>\n",
       "      <td>0.165078</td>\n",
       "      <td>1.353490</td>\n",
       "      <td>10.0</td>\n",
       "      <td>0.536522</td>\n",
       "      <td>-0.896909</td>\n",
       "      <td>-1.550255</td>\n",
       "      <td>-1.032529</td>\n",
       "      <td>1.462457</td>\n",
       "      <td>0</td>\n",
       "      <td>0</td>\n",
       "      <td>0</td>\n",
       "    </tr>\n",
       "    <tr>\n",
       "      <th>...</th>\n",
       "      <td>...</td>\n",
       "      <td>...</td>\n",
       "      <td>...</td>\n",
       "      <td>...</td>\n",
       "      <td>...</td>\n",
       "      <td>...</td>\n",
       "      <td>...</td>\n",
       "      <td>...</td>\n",
       "      <td>...</td>\n",
       "      <td>...</td>\n",
       "      <td>...</td>\n",
       "    </tr>\n",
       "    <tr>\n",
       "      <th>207</th>\n",
       "      <td>-0.350657</td>\n",
       "      <td>-0.459816</td>\n",
       "      <td>5.0</td>\n",
       "      <td>0.933102</td>\n",
       "      <td>-0.896909</td>\n",
       "      <td>0.645055</td>\n",
       "      <td>0.968496</td>\n",
       "      <td>0.905307</td>\n",
       "      <td>0</td>\n",
       "      <td>0</td>\n",
       "      <td>1</td>\n",
       "    </tr>\n",
       "    <tr>\n",
       "      <th>8746</th>\n",
       "      <td>0.082561</td>\n",
       "      <td>-0.459816</td>\n",
       "      <td>8.0</td>\n",
       "      <td>0.476293</td>\n",
       "      <td>0.816929</td>\n",
       "      <td>-1.550255</td>\n",
       "      <td>0.968496</td>\n",
       "      <td>1.432571</td>\n",
       "      <td>0</td>\n",
       "      <td>0</td>\n",
       "      <td>1</td>\n",
       "    </tr>\n",
       "    <tr>\n",
       "      <th>1809</th>\n",
       "      <td>-0.134048</td>\n",
       "      <td>1.067178</td>\n",
       "      <td>6.0</td>\n",
       "      <td>0.618283</td>\n",
       "      <td>0.816929</td>\n",
       "      <td>0.645055</td>\n",
       "      <td>0.968496</td>\n",
       "      <td>-0.813904</td>\n",
       "      <td>0</td>\n",
       "      <td>0</td>\n",
       "      <td>0</td>\n",
       "    </tr>\n",
       "    <tr>\n",
       "      <th>5919</th>\n",
       "      <td>-0.072160</td>\n",
       "      <td>0.971741</td>\n",
       "      <td>8.0</td>\n",
       "      <td>-1.232442</td>\n",
       "      <td>0.816929</td>\n",
       "      <td>0.645055</td>\n",
       "      <td>-1.032529</td>\n",
       "      <td>1.080287</td>\n",
       "      <td>0</td>\n",
       "      <td>1</td>\n",
       "      <td>1</td>\n",
       "    </tr>\n",
       "    <tr>\n",
       "      <th>4995</th>\n",
       "      <td>1.598822</td>\n",
       "      <td>-0.268942</td>\n",
       "      <td>4.0</td>\n",
       "      <td>-1.232442</td>\n",
       "      <td>0.816929</td>\n",
       "      <td>-1.550255</td>\n",
       "      <td>0.968496</td>\n",
       "      <td>0.819245</td>\n",
       "      <td>0</td>\n",
       "      <td>0</td>\n",
       "      <td>0</td>\n",
       "    </tr>\n",
       "  </tbody>\n",
       "</table>\n",
       "<p>2000 rows × 11 columns</p>\n",
       "</div>"
      ],
      "text/plain": [
       "      credit_score       age  tenure   balance  num_of_products  has_cr_card  \\\n",
       "2358      0.175393  0.399118     1.0  1.385698        -0.896909    -1.550255   \n",
       "8463     -1.299609  0.971741     2.0 -1.232442        -0.896909     0.645055   \n",
       "163       0.711757 -0.268942     2.0 -1.232442         0.816929     0.645055   \n",
       "3074     -0.391916  0.494555     6.0  0.672529        -0.896909     0.645055   \n",
       "5989      0.165078  1.353490    10.0  0.536522        -0.896909    -1.550255   \n",
       "...            ...       ...     ...       ...              ...          ...   \n",
       "207      -0.350657 -0.459816     5.0  0.933102        -0.896909     0.645055   \n",
       "8746      0.082561 -0.459816     8.0  0.476293         0.816929    -1.550255   \n",
       "1809     -0.134048  1.067178     6.0  0.618283         0.816929     0.645055   \n",
       "5919     -0.072160  0.971741     8.0 -1.232442         0.816929     0.645055   \n",
       "4995      1.598822 -0.268942     4.0 -1.232442         0.816929    -1.550255   \n",
       "\n",
       "      is_active_member  estimated_salary  geography_Germany  geography_Spain  \\\n",
       "2358          0.968496         -1.466761                  0                0   \n",
       "8463         -1.032529          0.254415                  0                1   \n",
       "163           0.968496          0.122863                  0                1   \n",
       "3074         -1.032529          0.585847                  1                0   \n",
       "5989         -1.032529          1.462457                  0                0   \n",
       "...                ...               ...                ...              ...   \n",
       "207           0.968496          0.905307                  0                0   \n",
       "8746          0.968496          1.432571                  0                0   \n",
       "1809          0.968496         -0.813904                  0                0   \n",
       "5919         -1.032529          1.080287                  0                1   \n",
       "4995          0.968496          0.819245                  0                0   \n",
       "\n",
       "      gender_Male  \n",
       "2358            1  \n",
       "8463            1  \n",
       "163             0  \n",
       "3074            0  \n",
       "5989            0  \n",
       "...           ...  \n",
       "207             1  \n",
       "8746            1  \n",
       "1809            0  \n",
       "5919            1  \n",
       "4995            0  \n",
       "\n",
       "[2000 rows x 11 columns]"
      ]
     },
     "execution_count": 31,
     "metadata": {},
     "output_type": "execute_result"
    }
   ],
   "source": [
    "features_valid"
   ]
  },
  {
   "cell_type": "code",
   "execution_count": 32,
   "metadata": {},
   "outputs": [
    {
     "data": {
      "text/html": [
       "<div>\n",
       "<style scoped>\n",
       "    .dataframe tbody tr th:only-of-type {\n",
       "        vertical-align: middle;\n",
       "    }\n",
       "\n",
       "    .dataframe tbody tr th {\n",
       "        vertical-align: top;\n",
       "    }\n",
       "\n",
       "    .dataframe thead th {\n",
       "        text-align: right;\n",
       "    }\n",
       "</style>\n",
       "<table border=\"1\" class=\"dataframe\">\n",
       "  <thead>\n",
       "    <tr style=\"text-align: right;\">\n",
       "      <th></th>\n",
       "      <th>credit_score</th>\n",
       "      <th>age</th>\n",
       "      <th>tenure</th>\n",
       "      <th>balance</th>\n",
       "      <th>num_of_products</th>\n",
       "      <th>has_cr_card</th>\n",
       "      <th>is_active_member</th>\n",
       "      <th>estimated_salary</th>\n",
       "      <th>geography_Germany</th>\n",
       "      <th>geography_Spain</th>\n",
       "      <th>gender_Male</th>\n",
       "    </tr>\n",
       "  </thead>\n",
       "  <tbody>\n",
       "    <tr>\n",
       "      <th>7867</th>\n",
       "      <td>-0.123733</td>\n",
       "      <td>0.685430</td>\n",
       "      <td>3.0</td>\n",
       "      <td>-1.232442</td>\n",
       "      <td>-0.896909</td>\n",
       "      <td>0.645055</td>\n",
       "      <td>0.968496</td>\n",
       "      <td>0.980212</td>\n",
       "      <td>0</td>\n",
       "      <td>1</td>\n",
       "      <td>0</td>\n",
       "    </tr>\n",
       "    <tr>\n",
       "      <th>1402</th>\n",
       "      <td>1.083087</td>\n",
       "      <td>-0.937002</td>\n",
       "      <td>8.0</td>\n",
       "      <td>0.858518</td>\n",
       "      <td>-0.896909</td>\n",
       "      <td>0.645055</td>\n",
       "      <td>-1.032529</td>\n",
       "      <td>-0.390486</td>\n",
       "      <td>0</td>\n",
       "      <td>0</td>\n",
       "      <td>1</td>\n",
       "    </tr>\n",
       "    <tr>\n",
       "      <th>8606</th>\n",
       "      <td>1.598822</td>\n",
       "      <td>0.303681</td>\n",
       "      <td>5.0</td>\n",
       "      <td>-1.232442</td>\n",
       "      <td>0.816929</td>\n",
       "      <td>0.645055</td>\n",
       "      <td>0.968496</td>\n",
       "      <td>-0.435169</td>\n",
       "      <td>0</td>\n",
       "      <td>1</td>\n",
       "      <td>1</td>\n",
       "    </tr>\n",
       "    <tr>\n",
       "      <th>8885</th>\n",
       "      <td>0.165078</td>\n",
       "      <td>0.589993</td>\n",
       "      <td>4.0</td>\n",
       "      <td>0.412100</td>\n",
       "      <td>0.816929</td>\n",
       "      <td>0.645055</td>\n",
       "      <td>0.968496</td>\n",
       "      <td>1.017079</td>\n",
       "      <td>0</td>\n",
       "      <td>1</td>\n",
       "      <td>1</td>\n",
       "    </tr>\n",
       "    <tr>\n",
       "      <th>6494</th>\n",
       "      <td>0.484834</td>\n",
       "      <td>-1.032439</td>\n",
       "      <td>7.0</td>\n",
       "      <td>-1.232442</td>\n",
       "      <td>0.816929</td>\n",
       "      <td>0.645055</td>\n",
       "      <td>0.968496</td>\n",
       "      <td>-1.343558</td>\n",
       "      <td>0</td>\n",
       "      <td>0</td>\n",
       "      <td>1</td>\n",
       "    </tr>\n",
       "    <tr>\n",
       "      <th>...</th>\n",
       "      <td>...</td>\n",
       "      <td>...</td>\n",
       "      <td>...</td>\n",
       "      <td>...</td>\n",
       "      <td>...</td>\n",
       "      <td>...</td>\n",
       "      <td>...</td>\n",
       "      <td>...</td>\n",
       "      <td>...</td>\n",
       "      <td>...</td>\n",
       "      <td>...</td>\n",
       "    </tr>\n",
       "    <tr>\n",
       "      <th>2563</th>\n",
       "      <td>1.970151</td>\n",
       "      <td>-1.127876</td>\n",
       "      <td>5.0</td>\n",
       "      <td>-1.232442</td>\n",
       "      <td>0.816929</td>\n",
       "      <td>0.645055</td>\n",
       "      <td>0.968496</td>\n",
       "      <td>-0.564021</td>\n",
       "      <td>0</td>\n",
       "      <td>0</td>\n",
       "      <td>0</td>\n",
       "    </tr>\n",
       "    <tr>\n",
       "      <th>1167</th>\n",
       "      <td>-1.072686</td>\n",
       "      <td>-0.364379</td>\n",
       "      <td>10.0</td>\n",
       "      <td>-1.232442</td>\n",
       "      <td>-0.896909</td>\n",
       "      <td>0.645055</td>\n",
       "      <td>0.968496</td>\n",
       "      <td>-1.193686</td>\n",
       "      <td>0</td>\n",
       "      <td>0</td>\n",
       "      <td>0</td>\n",
       "    </tr>\n",
       "    <tr>\n",
       "      <th>1009</th>\n",
       "      <td>-0.020586</td>\n",
       "      <td>3.071359</td>\n",
       "      <td>0.0</td>\n",
       "      <td>-1.232442</td>\n",
       "      <td>-0.896909</td>\n",
       "      <td>0.645055</td>\n",
       "      <td>0.968496</td>\n",
       "      <td>1.312849</td>\n",
       "      <td>0</td>\n",
       "      <td>1</td>\n",
       "      <td>1</td>\n",
       "    </tr>\n",
       "    <tr>\n",
       "      <th>1002</th>\n",
       "      <td>0.753016</td>\n",
       "      <td>0.017370</td>\n",
       "      <td>1.0</td>\n",
       "      <td>-0.415981</td>\n",
       "      <td>0.816929</td>\n",
       "      <td>0.645055</td>\n",
       "      <td>0.968496</td>\n",
       "      <td>1.463205</td>\n",
       "      <td>1</td>\n",
       "      <td>0</td>\n",
       "      <td>1</td>\n",
       "    </tr>\n",
       "    <tr>\n",
       "      <th>694</th>\n",
       "      <td>1.485360</td>\n",
       "      <td>0.589993</td>\n",
       "      <td>2.0</td>\n",
       "      <td>0.528341</td>\n",
       "      <td>-0.896909</td>\n",
       "      <td>0.645055</td>\n",
       "      <td>0.968496</td>\n",
       "      <td>0.416953</td>\n",
       "      <td>0</td>\n",
       "      <td>0</td>\n",
       "      <td>0</td>\n",
       "    </tr>\n",
       "  </tbody>\n",
       "</table>\n",
       "<p>2000 rows × 11 columns</p>\n",
       "</div>"
      ],
      "text/plain": [
       "      credit_score       age  tenure   balance  num_of_products  has_cr_card  \\\n",
       "7867     -0.123733  0.685430     3.0 -1.232442        -0.896909     0.645055   \n",
       "1402      1.083087 -0.937002     8.0  0.858518        -0.896909     0.645055   \n",
       "8606      1.598822  0.303681     5.0 -1.232442         0.816929     0.645055   \n",
       "8885      0.165078  0.589993     4.0  0.412100         0.816929     0.645055   \n",
       "6494      0.484834 -1.032439     7.0 -1.232442         0.816929     0.645055   \n",
       "...            ...       ...     ...       ...              ...          ...   \n",
       "2563      1.970151 -1.127876     5.0 -1.232442         0.816929     0.645055   \n",
       "1167     -1.072686 -0.364379    10.0 -1.232442        -0.896909     0.645055   \n",
       "1009     -0.020586  3.071359     0.0 -1.232442        -0.896909     0.645055   \n",
       "1002      0.753016  0.017370     1.0 -0.415981         0.816929     0.645055   \n",
       "694       1.485360  0.589993     2.0  0.528341        -0.896909     0.645055   \n",
       "\n",
       "      is_active_member  estimated_salary  geography_Germany  geography_Spain  \\\n",
       "7867          0.968496          0.980212                  0                1   \n",
       "1402         -1.032529         -0.390486                  0                0   \n",
       "8606          0.968496         -0.435169                  0                1   \n",
       "8885          0.968496          1.017079                  0                1   \n",
       "6494          0.968496         -1.343558                  0                0   \n",
       "...                ...               ...                ...              ...   \n",
       "2563          0.968496         -0.564021                  0                0   \n",
       "1167          0.968496         -1.193686                  0                0   \n",
       "1009          0.968496          1.312849                  0                1   \n",
       "1002          0.968496          1.463205                  1                0   \n",
       "694           0.968496          0.416953                  0                0   \n",
       "\n",
       "      gender_Male  \n",
       "7867            0  \n",
       "1402            1  \n",
       "8606            1  \n",
       "8885            1  \n",
       "6494            1  \n",
       "...           ...  \n",
       "2563            0  \n",
       "1167            0  \n",
       "1009            1  \n",
       "1002            1  \n",
       "694             0  \n",
       "\n",
       "[2000 rows x 11 columns]"
      ]
     },
     "execution_count": 32,
     "metadata": {},
     "output_type": "execute_result"
    }
   ],
   "source": [
    "features_test"
   ]
  },
  {
   "cell_type": "markdown",
   "metadata": {},
   "source": [
    "<div class=\"alert alert-block alert-success\">\n",
    "<b>Reviewer's comment</b> <a class=\"tocSkip\"></a>\n",
    "\n",
    "Correct.\n",
    "</div>"
   ]
  },
  {
   "cell_type": "markdown",
   "metadata": {},
   "source": [
    "## Investigate class imbalance"
   ]
  },
  {
   "cell_type": "code",
   "execution_count": 33,
   "metadata": {},
   "outputs": [
    {
     "name": "stdout",
     "output_type": "stream",
     "text": [
      "7963\n"
     ]
    }
   ],
   "source": [
    "# Get number of negative observations\n",
    "neg_obs = features[target==0]\n",
    "print(len(neg_obs))"
   ]
  },
  {
   "cell_type": "code",
   "execution_count": 34,
   "metadata": {},
   "outputs": [
    {
     "name": "stdout",
     "output_type": "stream",
     "text": [
      "2037\n"
     ]
    }
   ],
   "source": [
    "# Get number of positive observations\n",
    "pos_obs = features[target==1]\n",
    "print(len(pos_obs))"
   ]
  },
  {
   "cell_type": "code",
   "execution_count": 35,
   "metadata": {
    "scrolled": true
   },
   "outputs": [
    {
     "name": "stdout",
     "output_type": "stream",
     "text": [
      "Percentage of negative observations: 79.6%\n",
      "Percentage of positive observations: 20.4%\n"
     ]
    }
   ],
   "source": [
    "# Percentage imbalance\n",
    "neg_fraction = 1 - len(pos_obs)/(len(neg_obs)+len(pos_obs))\n",
    "pos_fraction = len(pos_obs)/(len(neg_obs)+len(pos_obs))\n",
    "\n",
    "print(f'Percentage of negative observations: {neg_fraction:.1%}')\n",
    "print(f'Percentage of positive observations: {pos_fraction:.1%}')"
   ]
  },
  {
   "cell_type": "markdown",
   "metadata": {},
   "source": [
    "From the above analysis, we can see that the classes are heavily imbalanced with the negative observations making the vast majority of the observations in the dataset with a value of 79.6% as opposed to the positive observations at 20.4%"
   ]
  },
  {
   "cell_type": "markdown",
   "metadata": {},
   "source": [
    "<div class=\"alert alert-block alert-danger\">\n",
    "<b>Reviewer's comment</b> <a class=\"tocSkip\"></a>\n",
    "\n",
    "<s>Something went wrong! <br>\n",
    "Please check calculation:\n",
    "\n",
    "Pos fraction: 2037/(2037 + 7963) <br>\n",
    "Neg fraction: 7963/(2037 + 7963)\n",
    "</div>"
   ]
  },
  {
   "cell_type": "markdown",
   "metadata": {},
   "source": [
    "<div class=\"alert alert-block alert-warning\">\n",
    "<b>Reviewer's comment</b> <a class=\"tocSkip\"></a>\n",
    "\n",
    "Pro tip: we can use value_counts() to groupby unique values and count them.\n",
    "    \n",
    "Please check example below:\n",
    "</div>"
   ]
  },
  {
   "cell_type": "code",
   "execution_count": 36,
   "metadata": {},
   "outputs": [
    {
     "data": {
      "text/plain": [
       "0    7963\n",
       "1    2037\n",
       "Name: exited, dtype: int64"
      ]
     },
     "execution_count": 36,
     "metadata": {},
     "output_type": "execute_result"
    }
   ],
   "source": [
    "# reviewer's example\n",
    "target.value_counts()"
   ]
  },
  {
   "cell_type": "markdown",
   "metadata": {},
   "source": [
    "<div class=\"alert alert-block alert-success\">\n",
    "<b>Reviewer's comment</b> <a class=\"tocSkip\"></a>\n",
    "\n",
    "Correct!\n",
    "</div>"
   ]
  },
  {
   "cell_type": "markdown",
   "metadata": {},
   "source": [
    "## Working With Imbalanced Models"
   ]
  },
  {
   "cell_type": "markdown",
   "metadata": {},
   "source": [
    "### Logistic Regression model"
   ]
  },
  {
   "cell_type": "code",
   "execution_count": 37,
   "metadata": {},
   "outputs": [],
   "source": [
    "# Create logistic Regression model\n",
    "p_model_1 = LogisticRegression(random_state=12345, solver='liblinear')"
   ]
  },
  {
   "cell_type": "code",
   "execution_count": 38,
   "metadata": {},
   "outputs": [
    {
     "data": {
      "text/plain": [
       "LogisticRegression(random_state=12345, solver='liblinear')"
      ]
     },
     "execution_count": 38,
     "metadata": {},
     "output_type": "execute_result"
    }
   ],
   "source": [
    "# Train model\n",
    "p_model_1.fit(features_train, target_train)"
   ]
  },
  {
   "cell_type": "code",
   "execution_count": 39,
   "metadata": {},
   "outputs": [],
   "source": [
    "# Test model with validation set\n",
    "prediction_1 = p_model_1.predict(features_valid)"
   ]
  },
  {
   "cell_type": "code",
   "execution_count": 40,
   "metadata": {},
   "outputs": [
    {
     "name": "stdout",
     "output_type": "stream",
     "text": [
      "0.3056603773584906\n"
     ]
    }
   ],
   "source": [
    "# Check f1_score\n",
    "print(f1_score(target_valid, prediction_1))"
   ]
  },
  {
   "cell_type": "markdown",
   "metadata": {},
   "source": [
    "### Random Forest model"
   ]
  },
  {
   "cell_type": "code",
   "execution_count": 41,
   "metadata": {},
   "outputs": [],
   "source": [
    "# Create Random Forest model\n",
    "p_model_2 = RandomForestClassifier(random_state=12345)"
   ]
  },
  {
   "cell_type": "code",
   "execution_count": 42,
   "metadata": {},
   "outputs": [
    {
     "data": {
      "text/plain": [
       "RandomForestClassifier(random_state=12345)"
      ]
     },
     "execution_count": 42,
     "metadata": {},
     "output_type": "execute_result"
    }
   ],
   "source": [
    "# Train model\n",
    "p_model_2.fit(features_train, target_train)"
   ]
  },
  {
   "cell_type": "code",
   "execution_count": 43,
   "metadata": {},
   "outputs": [],
   "source": [
    "# Test model with validation set\n",
    "prediction_2 = p_model_2.predict(features_valid)"
   ]
  },
  {
   "cell_type": "code",
   "execution_count": 44,
   "metadata": {},
   "outputs": [
    {
     "name": "stdout",
     "output_type": "stream",
     "text": [
      "0.5650793650793651\n"
     ]
    }
   ],
   "source": [
    "# Check f1_score\n",
    "print(f1_score(target_valid, prediction_2))"
   ]
  },
  {
   "cell_type": "markdown",
   "metadata": {},
   "source": [
    "### Decision Tree model"
   ]
  },
  {
   "cell_type": "code",
   "execution_count": 45,
   "metadata": {},
   "outputs": [],
   "source": [
    "# Create Decision Tree model\n",
    "p_model_3 = DecisionTreeClassifier(random_state=12345)"
   ]
  },
  {
   "cell_type": "code",
   "execution_count": 46,
   "metadata": {},
   "outputs": [
    {
     "data": {
      "text/plain": [
       "DecisionTreeClassifier(random_state=12345)"
      ]
     },
     "execution_count": 46,
     "metadata": {},
     "output_type": "execute_result"
    }
   ],
   "source": [
    "# Train model\n",
    "p_model_3.fit(features_train, target_train)"
   ]
  },
  {
   "cell_type": "code",
   "execution_count": 47,
   "metadata": {},
   "outputs": [],
   "source": [
    "# Test model with validation set\n",
    "prediction_3 = p_model_3.predict(features_valid)"
   ]
  },
  {
   "cell_type": "code",
   "execution_count": 48,
   "metadata": {},
   "outputs": [
    {
     "name": "stdout",
     "output_type": "stream",
     "text": [
      "0.48088779284833544\n"
     ]
    }
   ],
   "source": [
    "# Check f1_score\n",
    "print(f1_score(target_valid, prediction_3))"
   ]
  },
  {
   "cell_type": "markdown",
   "metadata": {},
   "source": [
    "The above results show the f1 score of the basic models and from what we can see, the Logistic Regression model has the highest f1 score however it's not up to the required 0.59. But also, due to class imbalance, our model is very inaccurate and would have the same results as a constant model. Let's balance the classes and improve the quality of our model."
   ]
  },
  {
   "cell_type": "markdown",
   "metadata": {},
   "source": [
    "<div class=\"alert alert-block alert-success\">\n",
    "<b>Reviewer's comment</b> <a class=\"tocSkip\"></a>\n",
    "\n",
    "<s>Well done!\n",
    "</div>"
   ]
  },
  {
   "cell_type": "markdown",
   "metadata": {},
   "source": [
    "<div class=\"alert alert-block alert-danger\">\n",
    "<b>Reviewer's comment</b> <a class=\"tocSkip\"></a>\n",
    "\n",
    "<s>Please check my comments above about data preparation.\n",
    "</div>"
   ]
  },
  {
   "cell_type": "markdown",
   "metadata": {},
   "source": [
    "<div class=\"alert alert-block alert-success\">\n",
    "<b>Reviewer's comment</b> <a class=\"tocSkip\"></a>\n",
    "\n",
    "F1 much better.\n",
    "</div>"
   ]
  },
  {
   "cell_type": "markdown",
   "metadata": {},
   "source": [
    "## Balancing Observations"
   ]
  },
  {
   "cell_type": "markdown",
   "metadata": {},
   "source": [
    "### Downsample negative observations"
   ]
  },
  {
   "cell_type": "code",
   "execution_count": 49,
   "metadata": {},
   "outputs": [],
   "source": [
    "# Create downsample formula\n",
    "\n",
    "def downsample(features, target, fraction):\n",
    "    \n",
    "    neg_obs_features = features[target==0]\n",
    "    pos_obs_features = features[target==1]\n",
    "    \n",
    "    neg_obs_target = target[target==0]\n",
    "    pos_obs_target = target[target==1]\n",
    "    \n",
    "    features_downsampled = pd.concat([neg_obs_features.sample(frac = fraction, random_state=12345)] + [pos_obs_features])\n",
    "    \n",
    "    target_downsampled = pd.concat([neg_obs_target.sample(frac = fraction, random_state=12345)] + [pos_obs_target])\n",
    "    \n",
    "    features_downsampled, target_downsampled = shuffle(features_downsampled, target_downsampled, random_state=12345)\n",
    "    \n",
    "    return features_downsampled, target_downsampled\n",
    "    \n",
    "    "
   ]
  },
  {
   "cell_type": "code",
   "execution_count": 50,
   "metadata": {},
   "outputs": [],
   "source": [
    "# Downsample negative observations\n",
    "features_downsampled, target_downsampled = downsample(features_train, target_train, 0.25)"
   ]
  },
  {
   "cell_type": "code",
   "execution_count": 51,
   "metadata": {
    "scrolled": false
   },
   "outputs": [
    {
     "data": {
      "text/html": [
       "<div>\n",
       "<style scoped>\n",
       "    .dataframe tbody tr th:only-of-type {\n",
       "        vertical-align: middle;\n",
       "    }\n",
       "\n",
       "    .dataframe tbody tr th {\n",
       "        vertical-align: top;\n",
       "    }\n",
       "\n",
       "    .dataframe thead th {\n",
       "        text-align: right;\n",
       "    }\n",
       "</style>\n",
       "<table border=\"1\" class=\"dataframe\">\n",
       "  <thead>\n",
       "    <tr style=\"text-align: right;\">\n",
       "      <th></th>\n",
       "      <th>credit_score</th>\n",
       "      <th>age</th>\n",
       "      <th>tenure</th>\n",
       "      <th>balance</th>\n",
       "      <th>num_of_products</th>\n",
       "      <th>has_cr_card</th>\n",
       "      <th>is_active_member</th>\n",
       "      <th>estimated_salary</th>\n",
       "      <th>geography_Germany</th>\n",
       "      <th>geography_Spain</th>\n",
       "      <th>gender_Male</th>\n",
       "    </tr>\n",
       "  </thead>\n",
       "  <tbody>\n",
       "    <tr>\n",
       "      <th>228</th>\n",
       "      <td>1.021198</td>\n",
       "      <td>1.067178</td>\n",
       "      <td>2.0</td>\n",
       "      <td>0.322275</td>\n",
       "      <td>-0.896909</td>\n",
       "      <td>0.645055</td>\n",
       "      <td>-1.032529</td>\n",
       "      <td>-0.395064</td>\n",
       "      <td>1</td>\n",
       "      <td>0</td>\n",
       "      <td>1</td>\n",
       "    </tr>\n",
       "    <tr>\n",
       "      <th>420</th>\n",
       "      <td>1.072772</td>\n",
       "      <td>2.021550</td>\n",
       "      <td>3.0</td>\n",
       "      <td>0.627744</td>\n",
       "      <td>-0.896909</td>\n",
       "      <td>0.645055</td>\n",
       "      <td>-1.032529</td>\n",
       "      <td>-0.111185</td>\n",
       "      <td>1</td>\n",
       "      <td>0</td>\n",
       "      <td>0</td>\n",
       "    </tr>\n",
       "    <tr>\n",
       "      <th>1861</th>\n",
       "      <td>-0.897336</td>\n",
       "      <td>-0.078068</td>\n",
       "      <td>2.0</td>\n",
       "      <td>1.313352</td>\n",
       "      <td>0.816929</td>\n",
       "      <td>0.645055</td>\n",
       "      <td>0.968496</td>\n",
       "      <td>1.383558</td>\n",
       "      <td>1</td>\n",
       "      <td>0</td>\n",
       "      <td>0</td>\n",
       "    </tr>\n",
       "    <tr>\n",
       "      <th>1660</th>\n",
       "      <td>0.030987</td>\n",
       "      <td>-0.173505</td>\n",
       "      <td>7.0</td>\n",
       "      <td>0.562402</td>\n",
       "      <td>0.816929</td>\n",
       "      <td>0.645055</td>\n",
       "      <td>-1.032529</td>\n",
       "      <td>-1.555339</td>\n",
       "      <td>0</td>\n",
       "      <td>0</td>\n",
       "      <td>0</td>\n",
       "    </tr>\n",
       "    <tr>\n",
       "      <th>5823</th>\n",
       "      <td>1.021198</td>\n",
       "      <td>1.162616</td>\n",
       "      <td>7.0</td>\n",
       "      <td>1.143636</td>\n",
       "      <td>-0.896909</td>\n",
       "      <td>0.645055</td>\n",
       "      <td>-1.032529</td>\n",
       "      <td>0.808878</td>\n",
       "      <td>1</td>\n",
       "      <td>0</td>\n",
       "      <td>0</td>\n",
       "    </tr>\n",
       "    <tr>\n",
       "      <th>...</th>\n",
       "      <td>...</td>\n",
       "      <td>...</td>\n",
       "      <td>...</td>\n",
       "      <td>...</td>\n",
       "      <td>...</td>\n",
       "      <td>...</td>\n",
       "      <td>...</td>\n",
       "      <td>...</td>\n",
       "      <td>...</td>\n",
       "      <td>...</td>\n",
       "      <td>...</td>\n",
       "    </tr>\n",
       "    <tr>\n",
       "      <th>4592</th>\n",
       "      <td>1.877318</td>\n",
       "      <td>-0.268942</td>\n",
       "      <td>8.0</td>\n",
       "      <td>1.060318</td>\n",
       "      <td>-0.896909</td>\n",
       "      <td>0.645055</td>\n",
       "      <td>-1.032529</td>\n",
       "      <td>-0.172790</td>\n",
       "      <td>0</td>\n",
       "      <td>0</td>\n",
       "      <td>1</td>\n",
       "    </tr>\n",
       "    <tr>\n",
       "      <th>5260</th>\n",
       "      <td>0.536407</td>\n",
       "      <td>-0.364379</td>\n",
       "      <td>3.0</td>\n",
       "      <td>1.242022</td>\n",
       "      <td>0.816929</td>\n",
       "      <td>0.645055</td>\n",
       "      <td>0.968496</td>\n",
       "      <td>-1.037781</td>\n",
       "      <td>1</td>\n",
       "      <td>0</td>\n",
       "      <td>0</td>\n",
       "    </tr>\n",
       "    <tr>\n",
       "      <th>7886</th>\n",
       "      <td>0.144449</td>\n",
       "      <td>-0.268942</td>\n",
       "      <td>8.0</td>\n",
       "      <td>-1.232442</td>\n",
       "      <td>-0.896909</td>\n",
       "      <td>-1.550255</td>\n",
       "      <td>0.968496</td>\n",
       "      <td>1.022085</td>\n",
       "      <td>0</td>\n",
       "      <td>0</td>\n",
       "      <td>0</td>\n",
       "    </tr>\n",
       "    <tr>\n",
       "      <th>4612</th>\n",
       "      <td>0.990254</td>\n",
       "      <td>0.971741</td>\n",
       "      <td>7.0</td>\n",
       "      <td>-0.757433</td>\n",
       "      <td>-0.896909</td>\n",
       "      <td>-1.550255</td>\n",
       "      <td>-1.032529</td>\n",
       "      <td>1.107043</td>\n",
       "      <td>0</td>\n",
       "      <td>0</td>\n",
       "      <td>0</td>\n",
       "    </tr>\n",
       "    <tr>\n",
       "      <th>7010</th>\n",
       "      <td>-0.134048</td>\n",
       "      <td>-0.364379</td>\n",
       "      <td>8.0</td>\n",
       "      <td>-1.232442</td>\n",
       "      <td>-0.896909</td>\n",
       "      <td>-1.550255</td>\n",
       "      <td>-1.032529</td>\n",
       "      <td>1.122759</td>\n",
       "      <td>0</td>\n",
       "      <td>0</td>\n",
       "      <td>0</td>\n",
       "    </tr>\n",
       "  </tbody>\n",
       "</table>\n",
       "<p>2414 rows × 11 columns</p>\n",
       "</div>"
      ],
      "text/plain": [
       "      credit_score       age  tenure   balance  num_of_products  has_cr_card  \\\n",
       "228       1.021198  1.067178     2.0  0.322275        -0.896909     0.645055   \n",
       "420       1.072772  2.021550     3.0  0.627744        -0.896909     0.645055   \n",
       "1861     -0.897336 -0.078068     2.0  1.313352         0.816929     0.645055   \n",
       "1660      0.030987 -0.173505     7.0  0.562402         0.816929     0.645055   \n",
       "5823      1.021198  1.162616     7.0  1.143636        -0.896909     0.645055   \n",
       "...            ...       ...     ...       ...              ...          ...   \n",
       "4592      1.877318 -0.268942     8.0  1.060318        -0.896909     0.645055   \n",
       "5260      0.536407 -0.364379     3.0  1.242022         0.816929     0.645055   \n",
       "7886      0.144449 -0.268942     8.0 -1.232442        -0.896909    -1.550255   \n",
       "4612      0.990254  0.971741     7.0 -0.757433        -0.896909    -1.550255   \n",
       "7010     -0.134048 -0.364379     8.0 -1.232442        -0.896909    -1.550255   \n",
       "\n",
       "      is_active_member  estimated_salary  geography_Germany  geography_Spain  \\\n",
       "228          -1.032529         -0.395064                  1                0   \n",
       "420          -1.032529         -0.111185                  1                0   \n",
       "1861          0.968496          1.383558                  1                0   \n",
       "1660         -1.032529         -1.555339                  0                0   \n",
       "5823         -1.032529          0.808878                  1                0   \n",
       "...                ...               ...                ...              ...   \n",
       "4592         -1.032529         -0.172790                  0                0   \n",
       "5260          0.968496         -1.037781                  1                0   \n",
       "7886          0.968496          1.022085                  0                0   \n",
       "4612         -1.032529          1.107043                  0                0   \n",
       "7010         -1.032529          1.122759                  0                0   \n",
       "\n",
       "      gender_Male  \n",
       "228             1  \n",
       "420             0  \n",
       "1861            0  \n",
       "1660            0  \n",
       "5823            0  \n",
       "...           ...  \n",
       "4592            1  \n",
       "5260            0  \n",
       "7886            0  \n",
       "4612            0  \n",
       "7010            0  \n",
       "\n",
       "[2414 rows x 11 columns]"
      ]
     },
     "execution_count": 51,
     "metadata": {},
     "output_type": "execute_result"
    }
   ],
   "source": [
    "# Visualize results\n",
    "features_downsampled"
   ]
  },
  {
   "cell_type": "code",
   "execution_count": 52,
   "metadata": {},
   "outputs": [
    {
     "name": "stdout",
     "output_type": "stream",
     "text": [
      "Percentage of negative observations: 49.5%\n",
      "Percentage of positive observations: 50.5%\n"
     ]
    },
    {
     "name": "stderr",
     "output_type": "stream",
     "text": [
      "/tmp/ipykernel_120/498186070.py:3: UserWarning: Boolean Series key will be reindexed to match DataFrame index.\n",
      "  pos_obs = features_downsampled[target==1]\n",
      "/tmp/ipykernel_120/498186070.py:4: UserWarning: Boolean Series key will be reindexed to match DataFrame index.\n",
      "  neg_obs = features_downsampled[target==0]\n"
     ]
    }
   ],
   "source": [
    "# Check distribution\n",
    "\n",
    "pos_obs = features_downsampled[target==1]\n",
    "neg_obs = features_downsampled[target==0]\n",
    "\n",
    "neg_fraction = 1 - len(pos_obs)/(len(neg_obs)+len(pos_obs))\n",
    "pos_fraction = len(pos_obs)/(len(neg_obs)+len(pos_obs))\n",
    "\n",
    "print(f'Percentage of negative observations: {neg_fraction:.1%}')\n",
    "print(f'Percentage of positive observations: {pos_fraction:.1%}')"
   ]
  },
  {
   "cell_type": "markdown",
   "metadata": {},
   "source": [
    "### Logistic Regression Model on downsampled data"
   ]
  },
  {
   "cell_type": "code",
   "execution_count": 53,
   "metadata": {},
   "outputs": [],
   "source": [
    "lr_model = LogisticRegression(random_state=12345, solver='liblinear', class_weight='balanced')"
   ]
  },
  {
   "cell_type": "code",
   "execution_count": 54,
   "metadata": {},
   "outputs": [
    {
     "data": {
      "text/plain": [
       "LogisticRegression(class_weight='balanced', random_state=12345,\n",
       "                   solver='liblinear')"
      ]
     },
     "execution_count": 54,
     "metadata": {},
     "output_type": "execute_result"
    }
   ],
   "source": [
    "# Train logistic regression model on downsampled data\n",
    "lr_model.fit(features_downsampled, target_downsampled)"
   ]
  },
  {
   "cell_type": "code",
   "execution_count": 55,
   "metadata": {},
   "outputs": [
    {
     "name": "stdout",
     "output_type": "stream",
     "text": [
      "0.4799286351471901\n"
     ]
    }
   ],
   "source": [
    "# Check F1 score of trained model\n",
    "lr_ds_pred = lr_model.predict(features_valid)\n",
    "print(f1_score(target_valid, lr_ds_pred))"
   ]
  },
  {
   "cell_type": "markdown",
   "metadata": {},
   "source": [
    "<div class=\"alert alert-block alert-danger\">\n",
    "<b>Reviewer's comment</b> <a class=\"tocSkip\"></a>\n",
    "\n",
    "<s>Please add F1 score for fitted model.\n",
    "</div>"
   ]
  },
  {
   "cell_type": "markdown",
   "metadata": {},
   "source": [
    "### Random Forest Model on downsampled data"
   ]
  },
  {
   "cell_type": "code",
   "execution_count": 56,
   "metadata": {},
   "outputs": [
    {
     "name": "stdout",
     "output_type": "stream",
     "text": [
      "opt_n_est: 90\n",
      "opt_depth: 10\n",
      "f1_score:0.6045918367346939\n"
     ]
    }
   ],
   "source": [
    "# Create Random Forest Model with the best parameters and check f1_score\n",
    "\n",
    "best_rf_model = None\n",
    "opt_n_est = 0\n",
    "opt_depth = 0 \n",
    "req_f1 = 0\n",
    "for n in range (10,100,10):\n",
    "    for depth in range (1,20):\n",
    "        rf_model = RandomForestClassifier(random_state=12345, n_estimators=n, max_depth= depth, class_weight='balanced')\n",
    "        rf_model.fit(features_train, target_train)\n",
    "        rf_prediction = rf_model.predict(features_valid)\n",
    "        if f1_score(target_valid, rf_prediction) > req_f1:\n",
    "            req_f1 = f1_score(target_valid, rf_prediction)\n",
    "            best_rf_model = rf_model\n",
    "            opt_n_est = n\n",
    "            opt_depth = depth\n",
    "print(f'opt_n_est: {opt_n_est}')\n",
    "print(f'opt_depth: {opt_depth}')\n",
    "print(f'f1_score:{req_f1}')"
   ]
  },
  {
   "cell_type": "code",
   "execution_count": 57,
   "metadata": {
    "scrolled": true
   },
   "outputs": [
    {
     "data": {
      "text/plain": [
       "RandomForestClassifier(class_weight='balanced', max_depth=10, n_estimators=90,\n",
       "                       random_state=12345)"
      ]
     },
     "execution_count": 57,
     "metadata": {},
     "output_type": "execute_result"
    }
   ],
   "source": [
    "# Train best rf model with downsampled data\n",
    "best_rf_model.fit(features_downsampled, target_downsampled)"
   ]
  },
  {
   "cell_type": "code",
   "execution_count": 58,
   "metadata": {},
   "outputs": [
    {
     "name": "stdout",
     "output_type": "stream",
     "text": [
      "0.5666337611056268\n"
     ]
    }
   ],
   "source": [
    "# Check F1 Score of model\n",
    "rf_ds_pred = best_rf_model.predict(features_valid)\n",
    "print(f1_score(target_valid, rf_ds_pred))"
   ]
  },
  {
   "cell_type": "markdown",
   "metadata": {},
   "source": [
    "<div class=\"alert alert-block alert-danger\">\n",
    "<b>Reviewer's comment</b> <a class=\"tocSkip\"></a>\n",
    "\n",
    "<s>Please add F1 score for fitted model.\n",
    "</div>"
   ]
  },
  {
   "cell_type": "markdown",
   "metadata": {},
   "source": [
    "### Decision Tree Model on downsampled data"
   ]
  },
  {
   "cell_type": "code",
   "execution_count": 59,
   "metadata": {},
   "outputs": [
    {
     "name": "stdout",
     "output_type": "stream",
     "text": [
      "opt_depth: 6\n",
      "f1_score:0.5587044534412956\n"
     ]
    }
   ],
   "source": [
    "# Create Decision Tree Model with the best parameters and check f1_score\n",
    "best_dt_model = None\n",
    "opt_depth = 0\n",
    "req_f1 = 0\n",
    "\n",
    "for depth in range(1, 20):\n",
    "    dt_model = DecisionTreeClassifier(random_state=12345, max_depth=depth, class_weight='balanced')\n",
    "    dt_model.fit(features_train, target_train)\n",
    "    dt_prediction = dt_model.predict(features_valid)\n",
    "    if f1_score(target_valid, dt_prediction) > req_f1:\n",
    "        best_dt_model = dt_model\n",
    "        opt_depth = depth\n",
    "        req_f1 = f1_score(target_valid, dt_prediction)\n",
    "        \n",
    "print(f'opt_depth: {opt_depth}')\n",
    "print(f'f1_score:{req_f1}')"
   ]
  },
  {
   "cell_type": "code",
   "execution_count": 60,
   "metadata": {},
   "outputs": [
    {
     "data": {
      "text/plain": [
       "DecisionTreeClassifier(class_weight='balanced', max_depth=6, random_state=12345)"
      ]
     },
     "execution_count": 60,
     "metadata": {},
     "output_type": "execute_result"
    }
   ],
   "source": [
    "# Train best dt model with downsampled data\n",
    "best_dt_model.fit(features_downsampled, target_downsampled)"
   ]
  },
  {
   "cell_type": "code",
   "execution_count": 61,
   "metadata": {},
   "outputs": [
    {
     "name": "stdout",
     "output_type": "stream",
     "text": [
      "0.5405405405405406\n"
     ]
    }
   ],
   "source": [
    "# Check F1 Score of model\n",
    "dt_ds_pred = best_dt_model.predict(features_valid)\n",
    "print(f1_score(target_valid, dt_ds_pred))"
   ]
  },
  {
   "cell_type": "markdown",
   "metadata": {},
   "source": [
    "### Upsample positive observations"
   ]
  },
  {
   "cell_type": "code",
   "execution_count": 62,
   "metadata": {},
   "outputs": [],
   "source": [
    "# Create upsample formula\n",
    "def upsample(features, target, repeat):\n",
    "    features_zeros = features[target == 0]\n",
    "    features_ones = features[target == 1]\n",
    "    target_zeros = target[target == 0]\n",
    "    target_ones = target[target == 1]\n",
    "\n",
    "    features_upsampled = pd.concat([features_zeros] + [features_ones] * repeat)\n",
    "    target_upsampled = pd.concat([target_zeros] + [target_ones] * repeat)\n",
    "\n",
    "    features_upsampled, target_upsampled = shuffle(\n",
    "        features_upsampled, target_upsampled, random_state=12345\n",
    "    )\n",
    "\n",
    "    return features_upsampled, target_upsampled"
   ]
  },
  {
   "cell_type": "code",
   "execution_count": 63,
   "metadata": {},
   "outputs": [],
   "source": [
    "# Upsample positive observations\n",
    "features_upsampled, target_upsampled = upsample(features_train,target_train, 4)"
   ]
  },
  {
   "cell_type": "code",
   "execution_count": 64,
   "metadata": {},
   "outputs": [
    {
     "data": {
      "text/html": [
       "<div>\n",
       "<style scoped>\n",
       "    .dataframe tbody tr th:only-of-type {\n",
       "        vertical-align: middle;\n",
       "    }\n",
       "\n",
       "    .dataframe tbody tr th {\n",
       "        vertical-align: top;\n",
       "    }\n",
       "\n",
       "    .dataframe thead th {\n",
       "        text-align: right;\n",
       "    }\n",
       "</style>\n",
       "<table border=\"1\" class=\"dataframe\">\n",
       "  <thead>\n",
       "    <tr style=\"text-align: right;\">\n",
       "      <th></th>\n",
       "      <th>credit_score</th>\n",
       "      <th>age</th>\n",
       "      <th>tenure</th>\n",
       "      <th>balance</th>\n",
       "      <th>num_of_products</th>\n",
       "      <th>has_cr_card</th>\n",
       "      <th>is_active_member</th>\n",
       "      <th>estimated_salary</th>\n",
       "      <th>geography_Germany</th>\n",
       "      <th>geography_Spain</th>\n",
       "      <th>gender_Male</th>\n",
       "    </tr>\n",
       "  </thead>\n",
       "  <tbody>\n",
       "    <tr>\n",
       "      <th>471</th>\n",
       "      <td>0.526093</td>\n",
       "      <td>-0.173505</td>\n",
       "      <td>1.0</td>\n",
       "      <td>1.170711</td>\n",
       "      <td>-0.896909</td>\n",
       "      <td>0.645055</td>\n",
       "      <td>-1.032529</td>\n",
       "      <td>-1.379314</td>\n",
       "      <td>0</td>\n",
       "      <td>0</td>\n",
       "      <td>1</td>\n",
       "    </tr>\n",
       "    <tr>\n",
       "      <th>2973</th>\n",
       "      <td>-0.629154</td>\n",
       "      <td>1.639801</td>\n",
       "      <td>9.0</td>\n",
       "      <td>0.835668</td>\n",
       "      <td>-0.896909</td>\n",
       "      <td>0.645055</td>\n",
       "      <td>0.968496</td>\n",
       "      <td>1.675765</td>\n",
       "      <td>0</td>\n",
       "      <td>0</td>\n",
       "      <td>0</td>\n",
       "    </tr>\n",
       "    <tr>\n",
       "      <th>9268</th>\n",
       "      <td>-0.577580</td>\n",
       "      <td>-0.937002</td>\n",
       "      <td>2.0</td>\n",
       "      <td>-1.232442</td>\n",
       "      <td>0.816929</td>\n",
       "      <td>0.645055</td>\n",
       "      <td>0.968496</td>\n",
       "      <td>-1.710517</td>\n",
       "      <td>0</td>\n",
       "      <td>1</td>\n",
       "      <td>1</td>\n",
       "    </tr>\n",
       "    <tr>\n",
       "      <th>2097</th>\n",
       "      <td>-1.248036</td>\n",
       "      <td>-0.173505</td>\n",
       "      <td>1.0</td>\n",
       "      <td>1.068739</td>\n",
       "      <td>0.816929</td>\n",
       "      <td>-1.550255</td>\n",
       "      <td>0.968496</td>\n",
       "      <td>-0.269873</td>\n",
       "      <td>0</td>\n",
       "      <td>1</td>\n",
       "      <td>1</td>\n",
       "    </tr>\n",
       "    <tr>\n",
       "      <th>5519</th>\n",
       "      <td>0.268225</td>\n",
       "      <td>0.399118</td>\n",
       "      <td>1.0</td>\n",
       "      <td>0.905545</td>\n",
       "      <td>-0.896909</td>\n",
       "      <td>0.645055</td>\n",
       "      <td>-1.032529</td>\n",
       "      <td>0.193406</td>\n",
       "      <td>0</td>\n",
       "      <td>0</td>\n",
       "      <td>1</td>\n",
       "    </tr>\n",
       "    <tr>\n",
       "      <th>...</th>\n",
       "      <td>...</td>\n",
       "      <td>...</td>\n",
       "      <td>...</td>\n",
       "      <td>...</td>\n",
       "      <td>...</td>\n",
       "      <td>...</td>\n",
       "      <td>...</td>\n",
       "      <td>...</td>\n",
       "      <td>...</td>\n",
       "      <td>...</td>\n",
       "      <td>...</td>\n",
       "    </tr>\n",
       "    <tr>\n",
       "      <th>334</th>\n",
       "      <td>-0.268139</td>\n",
       "      <td>-0.173505</td>\n",
       "      <td>6.0</td>\n",
       "      <td>0.504900</td>\n",
       "      <td>-0.896909</td>\n",
       "      <td>0.645055</td>\n",
       "      <td>-1.032529</td>\n",
       "      <td>-1.640812</td>\n",
       "      <td>0</td>\n",
       "      <td>1</td>\n",
       "      <td>0</td>\n",
       "    </tr>\n",
       "    <tr>\n",
       "      <th>2819</th>\n",
       "      <td>0.804590</td>\n",
       "      <td>-0.459816</td>\n",
       "      <td>5.0</td>\n",
       "      <td>-0.041836</td>\n",
       "      <td>0.816929</td>\n",
       "      <td>0.645055</td>\n",
       "      <td>-1.032529</td>\n",
       "      <td>-0.052883</td>\n",
       "      <td>0</td>\n",
       "      <td>0</td>\n",
       "      <td>0</td>\n",
       "    </tr>\n",
       "    <tr>\n",
       "      <th>5226</th>\n",
       "      <td>-1.763771</td>\n",
       "      <td>0.017370</td>\n",
       "      <td>1.0</td>\n",
       "      <td>0.552457</td>\n",
       "      <td>-0.896909</td>\n",
       "      <td>0.645055</td>\n",
       "      <td>0.968496</td>\n",
       "      <td>0.418909</td>\n",
       "      <td>0</td>\n",
       "      <td>1</td>\n",
       "      <td>1</td>\n",
       "    </tr>\n",
       "    <tr>\n",
       "      <th>8228</th>\n",
       "      <td>-1.010798</td>\n",
       "      <td>0.017370</td>\n",
       "      <td>10.0</td>\n",
       "      <td>1.337124</td>\n",
       "      <td>-0.896909</td>\n",
       "      <td>0.645055</td>\n",
       "      <td>-1.032529</td>\n",
       "      <td>-1.167166</td>\n",
       "      <td>0</td>\n",
       "      <td>0</td>\n",
       "      <td>0</td>\n",
       "    </tr>\n",
       "    <tr>\n",
       "      <th>2444</th>\n",
       "      <td>0.113505</td>\n",
       "      <td>-0.937002</td>\n",
       "      <td>4.0</td>\n",
       "      <td>0.415766</td>\n",
       "      <td>0.816929</td>\n",
       "      <td>-1.550255</td>\n",
       "      <td>-1.032529</td>\n",
       "      <td>-1.369896</td>\n",
       "      <td>1</td>\n",
       "      <td>0</td>\n",
       "      <td>0</td>\n",
       "    </tr>\n",
       "  </tbody>\n",
       "</table>\n",
       "<p>9657 rows × 11 columns</p>\n",
       "</div>"
      ],
      "text/plain": [
       "      credit_score       age  tenure   balance  num_of_products  has_cr_card  \\\n",
       "471       0.526093 -0.173505     1.0  1.170711        -0.896909     0.645055   \n",
       "2973     -0.629154  1.639801     9.0  0.835668        -0.896909     0.645055   \n",
       "9268     -0.577580 -0.937002     2.0 -1.232442         0.816929     0.645055   \n",
       "2097     -1.248036 -0.173505     1.0  1.068739         0.816929    -1.550255   \n",
       "5519      0.268225  0.399118     1.0  0.905545        -0.896909     0.645055   \n",
       "...            ...       ...     ...       ...              ...          ...   \n",
       "334      -0.268139 -0.173505     6.0  0.504900        -0.896909     0.645055   \n",
       "2819      0.804590 -0.459816     5.0 -0.041836         0.816929     0.645055   \n",
       "5226     -1.763771  0.017370     1.0  0.552457        -0.896909     0.645055   \n",
       "8228     -1.010798  0.017370    10.0  1.337124        -0.896909     0.645055   \n",
       "2444      0.113505 -0.937002     4.0  0.415766         0.816929    -1.550255   \n",
       "\n",
       "      is_active_member  estimated_salary  geography_Germany  geography_Spain  \\\n",
       "471          -1.032529         -1.379314                  0                0   \n",
       "2973          0.968496          1.675765                  0                0   \n",
       "9268          0.968496         -1.710517                  0                1   \n",
       "2097          0.968496         -0.269873                  0                1   \n",
       "5519         -1.032529          0.193406                  0                0   \n",
       "...                ...               ...                ...              ...   \n",
       "334          -1.032529         -1.640812                  0                1   \n",
       "2819         -1.032529         -0.052883                  0                0   \n",
       "5226          0.968496          0.418909                  0                1   \n",
       "8228         -1.032529         -1.167166                  0                0   \n",
       "2444         -1.032529         -1.369896                  1                0   \n",
       "\n",
       "      gender_Male  \n",
       "471             1  \n",
       "2973            0  \n",
       "9268            1  \n",
       "2097            1  \n",
       "5519            1  \n",
       "...           ...  \n",
       "334             0  \n",
       "2819            0  \n",
       "5226            1  \n",
       "8228            0  \n",
       "2444            0  \n",
       "\n",
       "[9657 rows x 11 columns]"
      ]
     },
     "execution_count": 64,
     "metadata": {},
     "output_type": "execute_result"
    }
   ],
   "source": [
    "# Visualize results\n",
    "features_upsampled"
   ]
  },
  {
   "cell_type": "code",
   "execution_count": 65,
   "metadata": {},
   "outputs": [
    {
     "name": "stdout",
     "output_type": "stream",
     "text": [
      "Percentage of negative observations: 49.5%\n",
      "Percentage of positive observations: 50.5%\n"
     ]
    },
    {
     "name": "stderr",
     "output_type": "stream",
     "text": [
      "/tmp/ipykernel_120/2726505854.py:3: UserWarning: Boolean Series key will be reindexed to match DataFrame index.\n",
      "  pos_obs = features_upsampled[target==1]\n",
      "/tmp/ipykernel_120/2726505854.py:4: UserWarning: Boolean Series key will be reindexed to match DataFrame index.\n",
      "  neg_obs = features_upsampled[target==0]\n"
     ]
    }
   ],
   "source": [
    "# Check distribution\n",
    "\n",
    "pos_obs = features_upsampled[target==1]\n",
    "neg_obs = features_upsampled[target==0]\n",
    "\n",
    "neg_fraction = 1 - len(pos_obs)/(len(neg_obs)+len(pos_obs))\n",
    "pos_fraction = len(pos_obs)/(len(neg_obs)+len(pos_obs))\n",
    "\n",
    "print(f'Percentage of negative observations: {neg_fraction:.1%}')\n",
    "print(f'Percentage of positive observations: {pos_fraction:.1%}')"
   ]
  },
  {
   "cell_type": "markdown",
   "metadata": {},
   "source": [
    "<div class=\"alert alert-block alert-warning\">\n",
    "<b>Reviewer's comment</b> <a class=\"tocSkip\"></a>\n",
    "\n",
    "<s>Please check this calculations as well.\n",
    "</div>"
   ]
  },
  {
   "cell_type": "markdown",
   "metadata": {},
   "source": [
    "### Logistic regression model on upsampled data"
   ]
  },
  {
   "cell_type": "code",
   "execution_count": 66,
   "metadata": {},
   "outputs": [
    {
     "data": {
      "text/plain": [
       "LogisticRegression(class_weight='balanced', random_state=12345,\n",
       "                   solver='liblinear')"
      ]
     },
     "execution_count": 66,
     "metadata": {},
     "output_type": "execute_result"
    }
   ],
   "source": [
    "#Train lr model on upsampled data\n",
    "lr_model.fit(features_upsampled, target_upsampled)"
   ]
  },
  {
   "cell_type": "code",
   "execution_count": 67,
   "metadata": {},
   "outputs": [
    {
     "name": "stdout",
     "output_type": "stream",
     "text": [
      "0.47763864042933807\n"
     ]
    }
   ],
   "source": [
    "# Check F1 Score of model\n",
    "lr_us_pred = lr_model.predict(features_valid)\n",
    "print(f1_score(target_valid, lr_us_pred))"
   ]
  },
  {
   "cell_type": "markdown",
   "metadata": {},
   "source": [
    "<div class=\"alert alert-block alert-danger\">\n",
    "<b>Reviewer's comment</b> <a class=\"tocSkip\"></a>\n",
    "\n",
    "<s>Please add F1 score for fitted model.\n",
    "</div>"
   ]
  },
  {
   "cell_type": "markdown",
   "metadata": {},
   "source": [
    "### Random forest model on upsampled data"
   ]
  },
  {
   "cell_type": "code",
   "execution_count": 68,
   "metadata": {},
   "outputs": [
    {
     "data": {
      "text/plain": [
       "RandomForestClassifier(class_weight='balanced', max_depth=10, n_estimators=90,\n",
       "                       random_state=12345)"
      ]
     },
     "execution_count": 68,
     "metadata": {},
     "output_type": "execute_result"
    }
   ],
   "source": [
    "# Train best rf model on upsampled data\n",
    "best_rf_model.fit(features_upsampled, target_upsampled)"
   ]
  },
  {
   "cell_type": "code",
   "execution_count": 69,
   "metadata": {},
   "outputs": [
    {
     "name": "stdout",
     "output_type": "stream",
     "text": [
      "0.5893060295790671\n"
     ]
    }
   ],
   "source": [
    "# Check F1 Score of model\n",
    "rf_us_pred = best_rf_model.predict(features_valid)\n",
    "print(f1_score(target_valid, rf_us_pred))"
   ]
  },
  {
   "cell_type": "markdown",
   "metadata": {},
   "source": [
    "<div class=\"alert alert-block alert-danger\">\n",
    "<b>Reviewer's comment</b> <a class=\"tocSkip\"></a>\n",
    "\n",
    "<s>Please add F1 score for fitted model.\n",
    "</div>"
   ]
  },
  {
   "cell_type": "markdown",
   "metadata": {},
   "source": [
    "### Decision tree model on upsampled data"
   ]
  },
  {
   "cell_type": "code",
   "execution_count": 70,
   "metadata": {},
   "outputs": [
    {
     "data": {
      "text/plain": [
       "DecisionTreeClassifier(class_weight='balanced', max_depth=6, random_state=12345)"
      ]
     },
     "execution_count": 70,
     "metadata": {},
     "output_type": "execute_result"
    }
   ],
   "source": [
    "# Train best dt model on upsampled data\n",
    "best_dt_model.fit(features_upsampled, target_upsampled)"
   ]
  },
  {
   "cell_type": "code",
   "execution_count": 71,
   "metadata": {},
   "outputs": [
    {
     "name": "stdout",
     "output_type": "stream",
     "text": [
      "0.5587044534412956\n"
     ]
    }
   ],
   "source": [
    "# Check F1 Score of model\n",
    "dt_us_pred = best_dt_model.predict(features_valid)\n",
    "print(f1_score(target_valid, dt_us_pred))"
   ]
  },
  {
   "cell_type": "markdown",
   "metadata": {},
   "source": [
    "Now the negative data has been downsampled and the positive data upsampled. We can see a more even ratio. Now we can train our model effectively"
   ]
  },
  {
   "cell_type": "markdown",
   "metadata": {},
   "source": [
    "<div class=\"alert alert-block alert-danger\">\n",
    "<b>Reviewer's comment</b> <a class=\"tocSkip\"></a>\n",
    "\n",
    "<s>OK, no worries, but there's a common mix-up here. <br>\n",
    "We need to split this step into 2 part:\n",
    "1. Upsampling train data (add \"1\") and train models<br>\n",
    "2. Downsampling train data (remove \"0\") and train models\n",
    "    \n",
    "We do not need do upsampling AND downsampling. Please remember, we perform this manipulations only with train dataset!\n",
    "</div>"
   ]
  },
  {
   "cell_type": "markdown",
   "metadata": {},
   "source": [
    "<div class=\"alert alert-block alert-success\">\n",
    "<b>Reviewer's comment</b> <a class=\"tocSkip\"></a>\n",
    "\n",
    "Much better!\n",
    "</div>"
   ]
  },
  {
   "cell_type": "markdown",
   "metadata": {},
   "source": [
    "## Working with balanced models"
   ]
  },
  {
   "cell_type": "markdown",
   "metadata": {},
   "source": [
    "### Logistic Regression Model"
   ]
  },
  {
   "cell_type": "code",
   "execution_count": 72,
   "metadata": {},
   "outputs": [],
   "source": [
    "# Test model with validation set\n",
    "lr_prediction = lr_model.predict(features_valid)"
   ]
  },
  {
   "cell_type": "code",
   "execution_count": 73,
   "metadata": {
    "scrolled": true
   },
   "outputs": [
    {
     "name": "stdout",
     "output_type": "stream",
     "text": [
      "0.47763864042933807\n"
     ]
    }
   ],
   "source": [
    "# Check f1_score on validation set\n",
    "print(f1_score(target_valid, lr_prediction))"
   ]
  },
  {
   "cell_type": "code",
   "execution_count": 74,
   "metadata": {},
   "outputs": [
    {
     "name": "stdout",
     "output_type": "stream",
     "text": [
      "AUC-ROC: 0.7729698197002475\n"
     ]
    }
   ],
   "source": [
    "# Check roc_auc value \n",
    "\n",
    "lr_prob = lr_model.predict_proba(features_valid)\n",
    "lr_prob_one_valid = lr_prob[:, 1]\n",
    "\n",
    "lr_auc_roc = roc_auc_score(target_valid, lr_prob_one_valid)\n",
    "\n",
    "print(f'AUC-ROC: {lr_auc_roc}')"
   ]
  },
  {
   "cell_type": "markdown",
   "metadata": {},
   "source": [
    "Our data was not perfectly balanced so we used one more tool to balance it perfectly. We used the class_weight arguement and with that, we've been able to get the f1 score above 0.59 and AUC-ROC of 0.77!"
   ]
  },
  {
   "cell_type": "markdown",
   "metadata": {},
   "source": [
    "<div class=\"alert alert-block alert-danger\">\n",
    "<b>Reviewer's comment</b> <a class=\"tocSkip\"></a>\n",
    "\n",
    "<s>Oops! We have problems here. Please check my comments above about data processing.\n",
    "</div>"
   ]
  },
  {
   "cell_type": "markdown",
   "metadata": {},
   "source": [
    "<div class=\"alert alert-block alert-danger\">\n",
    "<b>Reviewer's comment</b> <a class=\"tocSkip\"></a>\n",
    "\n",
    "<s>We do not need here to tune threshold...\n",
    "</div>"
   ]
  },
  {
   "cell_type": "markdown",
   "metadata": {},
   "source": [
    "<div class=\"alert alert-block alert-success\">\n",
    "<b>Reviewer's comment</b> <a class=\"tocSkip\"></a>\n",
    "\n",
    "Well done!\n",
    "</div>"
   ]
  },
  {
   "cell_type": "markdown",
   "metadata": {},
   "source": [
    "### Random Forest Model"
   ]
  },
  {
   "cell_type": "code",
   "execution_count": 78,
   "metadata": {
    "scrolled": false
   },
   "outputs": [],
   "source": [
    "# Test model with validation set\n",
    "rf_pred = best_rf_model.predict(features_valid)"
   ]
  },
  {
   "cell_type": "code",
   "execution_count": 79,
   "metadata": {},
   "outputs": [
    {
     "name": "stdout",
     "output_type": "stream",
     "text": [
      "0.5893060295790671\n"
     ]
    }
   ],
   "source": [
    "# Check f1_score\n",
    "print(f1_score(target_valid, rf_pred))"
   ]
  },
  {
   "cell_type": "code",
   "execution_count": 80,
   "metadata": {},
   "outputs": [
    {
     "name": "stdout",
     "output_type": "stream",
     "text": [
      "AUC-ROC: 0.8520883966308441\n"
     ]
    }
   ],
   "source": [
    "# Check roc_auc value \n",
    "\n",
    "rf_prob = best_rf_model.predict_proba(features_valid)\n",
    "rf_prob_one_valid = rf_prob[:, 1]\n",
    "\n",
    "rf_auc_roc = roc_auc_score(target_valid, rf_prob_one_valid)\n",
    "\n",
    "print(f'AUC-ROC: {rf_auc_roc}')"
   ]
  },
  {
   "cell_type": "markdown",
   "metadata": {},
   "source": [
    "Same technique used on the Random Forest model and the results are better than that of the Logistic Regression model.  "
   ]
  },
  {
   "cell_type": "markdown",
   "metadata": {},
   "source": [
    "### Decision Tree Model"
   ]
  },
  {
   "cell_type": "code",
   "execution_count": 81,
   "metadata": {},
   "outputs": [],
   "source": [
    "# Test model with validation set\n",
    "dt_pred = best_dt_model.predict(features_valid)"
   ]
  },
  {
   "cell_type": "code",
   "execution_count": 82,
   "metadata": {
    "scrolled": true
   },
   "outputs": [
    {
     "name": "stdout",
     "output_type": "stream",
     "text": [
      "0.5587044534412956\n"
     ]
    }
   ],
   "source": [
    "# Check f1_score\n",
    "print(f1_score(target_valid, dt_pred))"
   ]
  },
  {
   "cell_type": "code",
   "execution_count": 83,
   "metadata": {},
   "outputs": [
    {
     "name": "stdout",
     "output_type": "stream",
     "text": [
      "AUC-ROC: 0.8089065820615813\n"
     ]
    }
   ],
   "source": [
    "# Check roc_auc value \n",
    "\n",
    "dt_prob = best_dt_model.predict_proba(features_valid)\n",
    "dt_prob_one_valid = dt_prob[:, 1]\n",
    "\n",
    "dt_auc_roc = roc_auc_score(target_valid, dt_prob_one_valid)\n",
    "\n",
    "print(f'AUC-ROC: {dt_auc_roc}')"
   ]
  },
  {
   "cell_type": "markdown",
   "metadata": {},
   "source": [
    "Last but not the least, the decision tree model trained with the same technique shows good results too!"
   ]
  },
  {
   "cell_type": "markdown",
   "metadata": {},
   "source": [
    "All three models have good f1 scores i.e above 0.59 as indicated in the task. The Random Forest model has the highest score and so is the preferred model for this task."
   ]
  },
  {
   "cell_type": "markdown",
   "metadata": {},
   "source": [
    "## Evaluating models on test dataset"
   ]
  },
  {
   "cell_type": "code",
   "execution_count": 84,
   "metadata": {},
   "outputs": [
    {
     "name": "stdout",
     "output_type": "stream",
     "text": [
      "f1_score: 0.5025295109612141\n",
      "AUC-ROC: 0.764339981925675\n"
     ]
    }
   ],
   "source": [
    "# Evaluate lr model on test dataset\n",
    "test_pred = lr_model.predict(features_test)\n",
    "f1 = f1_score(target_test, test_pred)\n",
    "\n",
    "prob = lr_model.predict_proba(features_test)\n",
    "prob_one_test = prob[:, 1]\n",
    "\n",
    "auc_roc = roc_auc_score(target_test, prob_one_test)\n",
    "\n",
    "print(f'f1_score: {f1}')\n",
    "\n",
    "print(f'AUC-ROC: {auc_roc}')"
   ]
  },
  {
   "cell_type": "code",
   "execution_count": 85,
   "metadata": {},
   "outputs": [
    {
     "name": "stdout",
     "output_type": "stream",
     "text": [
      "f1_score: 0.6393088552915767\n",
      "AUC-ROC: 0.8684132558946269\n"
     ]
    }
   ],
   "source": [
    "# Evaluate best rf model on test dataset\n",
    "test_pred = best_rf_model.predict(features_test)\n",
    "f1 = f1_score(target_test, test_pred)\n",
    "\n",
    "prob = best_rf_model.predict_proba(features_test)\n",
    "prob_one_test = prob[:, 1]\n",
    "\n",
    "auc_roc = roc_auc_score(target_test, prob_one_test)\n",
    "\n",
    "print(f'f1_score: {f1}')\n",
    "\n",
    "print(f'AUC-ROC: {auc_roc}')"
   ]
  },
  {
   "cell_type": "code",
   "execution_count": 86,
   "metadata": {},
   "outputs": [
    {
     "name": "stdout",
     "output_type": "stream",
     "text": [
      "f1_score: 0.5933852140077821\n",
      "AUC-ROC: 0.8180381466521556\n"
     ]
    }
   ],
   "source": [
    "# Evaluate best dt model on test dataset\n",
    "test_pred = best_dt_model.predict(features_test)\n",
    "f1 = f1_score(target_test, test_pred)\n",
    "\n",
    "prob = best_dt_model.predict_proba(features_test)\n",
    "prob_one_test = prob[:, 1]\n",
    "\n",
    "auc_roc = roc_auc_score(target_test, prob_one_test)\n",
    "\n",
    "print(f'f1_score: {f1}')\n",
    "\n",
    "print(f'AUC-ROC: {auc_roc}')"
   ]
  },
  {
   "cell_type": "markdown",
   "metadata": {},
   "source": [
    "<div class=\"alert alert-block alert-warning\">\n",
    "<b>Reviewer's comment</b> <a class=\"tocSkip\"></a>\n",
    "\n",
    "<s>Please check my comments above. Seems we have a leak here(\n",
    "</div>"
   ]
  },
  {
   "cell_type": "markdown",
   "metadata": {},
   "source": [
    "<div class=\"alert alert-block alert-success\">\n",
    "<b>Reviewer's comment</b> <a class=\"tocSkip\"></a>\n",
    "\n",
    "Great! We get F1 > 0.59!\n",
    "</div>"
   ]
  },
  {
   "cell_type": "markdown",
   "metadata": {},
   "source": [
    "# Conclusion"
   ]
  },
  {
   "cell_type": "markdown",
   "metadata": {},
   "source": [
    "We've been able to create machine learning models that can predict whether a customer will leave the bank soon based on their banking behaviours.\n",
    "\n",
    "From our testing, the Random Forest Model is the most effective with an f1_score of 0.63 and AUC-ROC score of 0.86.\n",
    "\n",
    "We recommend the Random Forest Model for future tasks."
   ]
  },
  {
   "cell_type": "markdown",
   "metadata": {},
   "source": [
    "<div class=\"alert alert-block alert-warning\">\n",
    "<b>Overall reviewer's comment</b> <a class=\"tocSkip\"></a>\n",
    "\n",
    "Harvey, thank you for sending your project. You've done a really good job on it! <br>\n",
    "    \n",
    "I really like your work! <br>\n",
    "Your project has good structure and nice code. <br>\n",
    "    \n",
    "However, there are some issues. I wrote comments. Please elaborate them.\n",
    "    \n",
    "Just a few tiny corrections before your project is done!\n",
    "</div>"
   ]
  },
  {
   "cell_type": "markdown",
   "metadata": {},
   "source": [
    "<div class=\"alert alert-block alert-warning\">\n",
    "<b>Overall reviewer's comment v2</b> <a class=\"tocSkip\"></a>\n",
    "\n",
    "I'm happy to see you've made a few corrections to your work! <br>\n",
    "However, there is still an issue in project. Please check my comments. <br>\n",
    "I will be waiting for your corrected project.\n",
    "</div>"
   ]
  },
  {
   "cell_type": "markdown",
   "metadata": {},
   "source": [
    "<div class=\"alert alert-block alert-success\">\n",
    "<b>Overall reviewer's comment v3</b> <a class=\"tocSkip\"></a>\n",
    "\n",
    "You've done such a great job improving your project! <br>\n",
    "    I'm glad to say that your project has been accepted. Good luck!\n",
    "</div>"
   ]
  },
  {
   "cell_type": "code",
   "execution_count": null,
   "metadata": {},
   "outputs": [],
   "source": []
  }
 ],
 "metadata": {
  "ExecuteTimeLog": [
   {
    "duration": 441,
    "start_time": "2022-06-03T00:13:12.872Z"
   },
   {
    "duration": 86,
    "start_time": "2022-06-03T00:13:33.151Z"
   },
   {
    "duration": 16,
    "start_time": "2022-06-03T00:13:40.453Z"
   },
   {
    "duration": 21,
    "start_time": "2022-06-03T00:13:55.392Z"
   },
   {
    "duration": 3,
    "start_time": "2022-06-03T00:16:04.767Z"
   },
   {
    "duration": 14,
    "start_time": "2022-06-03T00:16:15.518Z"
   },
   {
    "duration": 12,
    "start_time": "2022-06-03T00:16:32.816Z"
   },
   {
    "duration": 5,
    "start_time": "2022-06-03T00:17:11.219Z"
   },
   {
    "duration": 4,
    "start_time": "2022-06-03T00:17:22.781Z"
   },
   {
    "duration": 74,
    "start_time": "2022-06-03T00:17:30.798Z"
   },
   {
    "duration": 450,
    "start_time": "2022-06-03T00:21:30.727Z"
   },
   {
    "duration": 6,
    "start_time": "2022-06-03T00:23:41.935Z"
   },
   {
    "duration": 7,
    "start_time": "2022-06-03T00:25:03.131Z"
   },
   {
    "duration": 118,
    "start_time": "2022-06-03T00:28:17.603Z"
   },
   {
    "duration": 5,
    "start_time": "2022-06-03T00:29:12.359Z"
   },
   {
    "duration": 3,
    "start_time": "2022-06-03T00:30:15.692Z"
   },
   {
    "duration": 2,
    "start_time": "2022-06-03T00:30:28.172Z"
   },
   {
    "duration": 2,
    "start_time": "2022-06-03T00:31:47.077Z"
   },
   {
    "duration": 2,
    "start_time": "2022-06-03T00:32:20.619Z"
   },
   {
    "duration": 55,
    "start_time": "2022-06-03T00:34:39.313Z"
   },
   {
    "duration": 26,
    "start_time": "2022-06-03T00:36:45.048Z"
   },
   {
    "duration": 18,
    "start_time": "2022-06-03T00:37:19.182Z"
   },
   {
    "duration": 3,
    "start_time": "2022-06-03T00:39:01.389Z"
   },
   {
    "duration": 19,
    "start_time": "2022-06-03T00:39:04.512Z"
   },
   {
    "duration": 3,
    "start_time": "2022-06-03T00:39:32.598Z"
   },
   {
    "duration": 3,
    "start_time": "2022-06-03T00:39:58.343Z"
   },
   {
    "duration": 3,
    "start_time": "2022-06-03T00:44:57.843Z"
   },
   {
    "duration": 41,
    "start_time": "2022-06-03T00:46:12.686Z"
   },
   {
    "duration": 12,
    "start_time": "2022-06-03T00:52:28.123Z"
   },
   {
    "duration": 13,
    "start_time": "2022-06-03T00:52:54.404Z"
   },
   {
    "duration": 8,
    "start_time": "2022-06-03T00:57:54.586Z"
   },
   {
    "duration": 3,
    "start_time": "2022-06-03T01:02:33.025Z"
   },
   {
    "duration": 2,
    "start_time": "2022-06-03T01:02:37.732Z"
   },
   {
    "duration": 14,
    "start_time": "2022-06-03T01:03:11.982Z"
   },
   {
    "duration": 14,
    "start_time": "2022-06-03T01:03:43.792Z"
   },
   {
    "duration": 17,
    "start_time": "2022-06-03T01:03:55.637Z"
   },
   {
    "duration": 16,
    "start_time": "2022-06-03T01:04:04.570Z"
   },
   {
    "duration": 15,
    "start_time": "2022-06-03T01:04:26.185Z"
   },
   {
    "duration": 4,
    "start_time": "2022-06-03T01:16:14.724Z"
   },
   {
    "duration": 15,
    "start_time": "2022-06-03T01:16:39.170Z"
   },
   {
    "duration": 14,
    "start_time": "2022-06-03T01:17:14.903Z"
   },
   {
    "duration": 46,
    "start_time": "2022-06-03T01:20:06.369Z"
   },
   {
    "duration": 8,
    "start_time": "2022-06-03T01:26:10.429Z"
   },
   {
    "duration": 5,
    "start_time": "2022-06-03T01:32:37.530Z"
   },
   {
    "duration": 14,
    "start_time": "2022-06-03T01:58:01.098Z"
   },
   {
    "duration": 20,
    "start_time": "2022-06-03T01:59:09.594Z"
   },
   {
    "duration": 6,
    "start_time": "2022-06-03T02:00:30.884Z"
   },
   {
    "duration": 5,
    "start_time": "2022-06-03T02:01:28.918Z"
   },
   {
    "duration": 15,
    "start_time": "2022-06-03T02:02:27.213Z"
   },
   {
    "duration": 14,
    "start_time": "2022-06-03T02:06:05.224Z"
   },
   {
    "duration": 5,
    "start_time": "2022-06-03T02:06:27.849Z"
   },
   {
    "duration": 12,
    "start_time": "2022-06-03T02:06:47.746Z"
   },
   {
    "duration": 13,
    "start_time": "2022-06-03T02:07:08.142Z"
   },
   {
    "duration": 4,
    "start_time": "2022-06-03T02:07:25.399Z"
   },
   {
    "duration": 7,
    "start_time": "2022-06-03T02:09:00.774Z"
   },
   {
    "duration": 6,
    "start_time": "2022-06-03T02:10:55.413Z"
   },
   {
    "duration": 1043,
    "start_time": "2022-06-06T22:53:07.201Z"
   },
   {
    "duration": 79,
    "start_time": "2022-06-06T22:53:08.246Z"
   },
   {
    "duration": 17,
    "start_time": "2022-06-06T22:53:08.327Z"
   },
   {
    "duration": 30,
    "start_time": "2022-06-06T22:53:08.346Z"
   },
   {
    "duration": 13,
    "start_time": "2022-06-06T22:53:08.378Z"
   },
   {
    "duration": 47,
    "start_time": "2022-06-06T22:53:08.392Z"
   },
   {
    "duration": 7,
    "start_time": "2022-06-06T22:53:08.442Z"
   },
   {
    "duration": 20,
    "start_time": "2022-06-06T22:53:08.451Z"
   },
   {
    "duration": 30,
    "start_time": "2022-06-06T22:53:08.473Z"
   },
   {
    "duration": 8,
    "start_time": "2022-06-06T22:53:08.506Z"
   },
   {
    "duration": 22,
    "start_time": "2022-06-06T22:53:08.516Z"
   },
   {
    "duration": 5,
    "start_time": "2022-06-06T22:53:08.540Z"
   },
   {
    "duration": 26,
    "start_time": "2022-06-06T22:53:08.547Z"
   },
   {
    "duration": 13,
    "start_time": "2022-06-06T22:53:08.594Z"
   },
   {
    "duration": 22,
    "start_time": "2022-06-06T22:53:08.609Z"
   },
   {
    "duration": 25,
    "start_time": "2022-06-06T22:53:08.633Z"
   },
   {
    "duration": 30,
    "start_time": "2022-06-06T22:53:08.660Z"
   },
   {
    "duration": 6,
    "start_time": "2022-06-06T22:53:08.692Z"
   },
   {
    "duration": 26,
    "start_time": "2022-06-06T22:53:08.699Z"
   },
   {
    "duration": 18,
    "start_time": "2022-06-06T22:53:08.727Z"
   },
   {
    "duration": 27,
    "start_time": "2022-06-06T22:53:08.747Z"
   },
   {
    "duration": 177,
    "start_time": "2022-06-06T22:53:08.777Z"
   },
   {
    "duration": 0,
    "start_time": "2022-06-06T22:53:08.957Z"
   },
   {
    "duration": 0,
    "start_time": "2022-06-06T22:53:08.958Z"
   },
   {
    "duration": 0,
    "start_time": "2022-06-06T22:53:08.960Z"
   },
   {
    "duration": 0,
    "start_time": "2022-06-06T22:53:08.962Z"
   },
   {
    "duration": 227,
    "start_time": "2022-06-06T22:56:27.865Z"
   },
   {
    "duration": 27,
    "start_time": "2022-06-06T22:56:57.180Z"
   },
   {
    "duration": 3,
    "start_time": "2022-06-06T23:01:04.597Z"
   },
   {
    "duration": 98,
    "start_time": "2022-06-06T23:04:17.624Z"
   },
   {
    "duration": 27,
    "start_time": "2022-06-06T23:04:34.016Z"
   },
   {
    "duration": 41,
    "start_time": "2022-06-06T23:04:52.839Z"
   },
   {
    "duration": 11,
    "start_time": "2022-06-06T23:05:15.408Z"
   },
   {
    "duration": 41,
    "start_time": "2022-06-06T23:05:23.307Z"
   },
   {
    "duration": 4,
    "start_time": "2022-06-06T23:14:45.511Z"
   },
   {
    "duration": 24,
    "start_time": "2022-06-06T23:14:48.237Z"
   },
   {
    "duration": 26,
    "start_time": "2022-06-06T23:17:46.076Z"
   },
   {
    "duration": 28,
    "start_time": "2022-06-06T23:18:30.777Z"
   },
   {
    "duration": 38,
    "start_time": "2022-06-06T23:18:56.025Z"
   },
   {
    "duration": 4,
    "start_time": "2022-06-06T23:20:24.977Z"
   },
   {
    "duration": 338,
    "start_time": "2022-06-06T23:20:29.855Z"
   },
   {
    "duration": 10,
    "start_time": "2022-06-06T23:25:42.937Z"
   },
   {
    "duration": 25,
    "start_time": "2022-06-06T23:26:01.157Z"
   },
   {
    "duration": 4,
    "start_time": "2022-06-06T23:34:48.617Z"
   },
   {
    "duration": 32,
    "start_time": "2022-06-06T23:55:30.897Z"
   },
   {
    "duration": 22,
    "start_time": "2022-06-06T23:56:39.178Z"
   },
   {
    "duration": 22,
    "start_time": "2022-06-06T23:58:30.497Z"
   },
   {
    "duration": 925,
    "start_time": "2022-06-07T00:01:32.385Z"
   },
   {
    "duration": 40,
    "start_time": "2022-06-07T00:01:33.312Z"
   },
   {
    "duration": 12,
    "start_time": "2022-06-07T00:01:33.353Z"
   },
   {
    "duration": 21,
    "start_time": "2022-06-07T00:01:33.367Z"
   },
   {
    "duration": 4,
    "start_time": "2022-06-07T00:01:33.390Z"
   },
   {
    "duration": 16,
    "start_time": "2022-06-07T00:01:33.395Z"
   },
   {
    "duration": 5,
    "start_time": "2022-06-07T00:01:33.413Z"
   },
   {
    "duration": 17,
    "start_time": "2022-06-07T00:01:33.420Z"
   },
   {
    "duration": 21,
    "start_time": "2022-06-07T00:01:33.439Z"
   },
   {
    "duration": 33,
    "start_time": "2022-06-07T00:01:33.463Z"
   },
   {
    "duration": 27,
    "start_time": "2022-06-07T00:01:33.497Z"
   },
   {
    "duration": 3,
    "start_time": "2022-06-07T00:01:33.527Z"
   },
   {
    "duration": 13,
    "start_time": "2022-06-07T00:01:33.532Z"
   },
   {
    "duration": 14,
    "start_time": "2022-06-07T00:01:33.547Z"
   },
   {
    "duration": 6,
    "start_time": "2022-06-07T00:01:33.563Z"
   },
   {
    "duration": 31,
    "start_time": "2022-06-07T00:01:33.571Z"
   },
   {
    "duration": 30,
    "start_time": "2022-06-07T00:01:33.604Z"
   },
   {
    "duration": 18,
    "start_time": "2022-06-07T00:01:33.636Z"
   },
   {
    "duration": 43,
    "start_time": "2022-06-07T00:01:33.655Z"
   },
   {
    "duration": 25,
    "start_time": "2022-06-07T00:01:33.699Z"
   },
   {
    "duration": 13,
    "start_time": "2022-06-07T00:01:33.726Z"
   },
   {
    "duration": 26,
    "start_time": "2022-06-07T00:01:33.741Z"
   },
   {
    "duration": 136,
    "start_time": "2022-06-07T00:01:33.769Z"
   },
   {
    "duration": 0,
    "start_time": "2022-06-07T00:01:33.908Z"
   },
   {
    "duration": 0,
    "start_time": "2022-06-07T00:01:33.909Z"
   },
   {
    "duration": 0,
    "start_time": "2022-06-07T00:01:33.911Z"
   },
   {
    "duration": 0,
    "start_time": "2022-06-07T00:01:33.913Z"
   },
   {
    "duration": 0,
    "start_time": "2022-06-07T00:01:33.915Z"
   },
   {
    "duration": 0,
    "start_time": "2022-06-07T00:01:33.916Z"
   },
   {
    "duration": 0,
    "start_time": "2022-06-07T00:01:33.918Z"
   },
   {
    "duration": 0,
    "start_time": "2022-06-07T00:01:33.919Z"
   },
   {
    "duration": 5,
    "start_time": "2022-06-07T00:03:34.462Z"
   },
   {
    "duration": 20,
    "start_time": "2022-06-07T00:03:58.154Z"
   },
   {
    "duration": 10,
    "start_time": "2022-06-07T00:04:58.815Z"
   },
   {
    "duration": 5,
    "start_time": "2022-06-07T00:05:02.162Z"
   },
   {
    "duration": 8,
    "start_time": "2022-06-07T00:07:08.475Z"
   },
   {
    "duration": 21,
    "start_time": "2022-06-07T00:07:23.135Z"
   },
   {
    "duration": 6,
    "start_time": "2022-06-07T00:07:54.755Z"
   },
   {
    "duration": 5,
    "start_time": "2022-06-07T00:07:57.304Z"
   },
   {
    "duration": 3,
    "start_time": "2022-06-07T00:08:00.036Z"
   },
   {
    "duration": 3,
    "start_time": "2022-06-07T00:08:08.143Z"
   },
   {
    "duration": 30,
    "start_time": "2022-06-07T00:08:14.623Z"
   },
   {
    "duration": 5,
    "start_time": "2022-06-07T00:08:27.582Z"
   },
   {
    "duration": 9,
    "start_time": "2022-06-07T00:08:29.583Z"
   },
   {
    "duration": 17,
    "start_time": "2022-06-07T00:08:39.255Z"
   },
   {
    "duration": 8,
    "start_time": "2022-06-07T00:09:07.395Z"
   },
   {
    "duration": 7,
    "start_time": "2022-06-07T00:09:14.494Z"
   },
   {
    "duration": 3,
    "start_time": "2022-06-07T00:12:46.155Z"
   },
   {
    "duration": 850,
    "start_time": "2022-06-07T00:13:49.814Z"
   },
   {
    "duration": 61,
    "start_time": "2022-06-07T00:14:51.343Z"
   },
   {
    "duration": 6,
    "start_time": "2022-06-07T00:15:58.714Z"
   },
   {
    "duration": 3,
    "start_time": "2022-06-07T00:20:00.935Z"
   },
   {
    "duration": 53,
    "start_time": "2022-06-07T00:21:17.463Z"
   },
   {
    "duration": 3,
    "start_time": "2022-06-07T00:21:33.755Z"
   },
   {
    "duration": 59,
    "start_time": "2022-06-07T00:21:36.275Z"
   },
   {
    "duration": 5,
    "start_time": "2022-06-07T00:22:40.123Z"
   },
   {
    "duration": 6,
    "start_time": "2022-06-07T00:23:23.063Z"
   },
   {
    "duration": 7,
    "start_time": "2022-06-07T00:46:32.384Z"
   },
   {
    "duration": 5,
    "start_time": "2022-06-07T00:47:06.304Z"
   },
   {
    "duration": 6,
    "start_time": "2022-06-07T00:48:10.324Z"
   },
   {
    "duration": 5,
    "start_time": "2022-06-07T00:50:41.975Z"
   },
   {
    "duration": 3,
    "start_time": "2022-06-07T00:51:15.756Z"
   },
   {
    "duration": 3,
    "start_time": "2022-06-07T00:51:56.583Z"
   },
   {
    "duration": 5,
    "start_time": "2022-06-07T00:55:44.154Z"
   },
   {
    "duration": 4,
    "start_time": "2022-06-07T01:15:36.382Z"
   },
   {
    "duration": 4,
    "start_time": "2022-06-07T01:17:11.482Z"
   },
   {
    "duration": 15,
    "start_time": "2022-06-07T01:21:08.603Z"
   },
   {
    "duration": 29,
    "start_time": "2022-06-07T01:21:32.275Z"
   },
   {
    "duration": 20,
    "start_time": "2022-06-07T01:22:43.915Z"
   },
   {
    "duration": 1047,
    "start_time": "2022-06-07T01:22:51.366Z"
   },
   {
    "duration": 43,
    "start_time": "2022-06-07T01:22:52.416Z"
   },
   {
    "duration": 16,
    "start_time": "2022-06-07T01:22:52.462Z"
   },
   {
    "duration": 21,
    "start_time": "2022-06-07T01:22:52.480Z"
   },
   {
    "duration": 5,
    "start_time": "2022-06-07T01:22:52.503Z"
   },
   {
    "duration": 29,
    "start_time": "2022-06-07T01:22:52.509Z"
   },
   {
    "duration": 8,
    "start_time": "2022-06-07T01:22:52.540Z"
   },
   {
    "duration": 17,
    "start_time": "2022-06-07T01:22:52.550Z"
   },
   {
    "duration": 43,
    "start_time": "2022-06-07T01:22:52.569Z"
   },
   {
    "duration": 7,
    "start_time": "2022-06-07T01:22:52.616Z"
   },
   {
    "duration": 22,
    "start_time": "2022-06-07T01:22:52.624Z"
   },
   {
    "duration": 4,
    "start_time": "2022-06-07T01:22:52.648Z"
   },
   {
    "duration": 9,
    "start_time": "2022-06-07T01:22:52.653Z"
   },
   {
    "duration": 40,
    "start_time": "2022-06-07T01:22:52.663Z"
   },
   {
    "duration": 35,
    "start_time": "2022-06-07T01:22:52.705Z"
   },
   {
    "duration": 23,
    "start_time": "2022-06-07T01:22:52.742Z"
   },
   {
    "duration": 30,
    "start_time": "2022-06-07T01:22:52.767Z"
   },
   {
    "duration": 28,
    "start_time": "2022-06-07T01:22:52.798Z"
   },
   {
    "duration": 12,
    "start_time": "2022-06-07T01:22:52.828Z"
   },
   {
    "duration": 7,
    "start_time": "2022-06-07T01:22:52.843Z"
   },
   {
    "duration": 4,
    "start_time": "2022-06-07T01:22:52.852Z"
   },
   {
    "duration": 13,
    "start_time": "2022-06-07T01:22:52.858Z"
   },
   {
    "duration": 27,
    "start_time": "2022-06-07T01:22:52.872Z"
   },
   {
    "duration": 30,
    "start_time": "2022-06-07T01:22:52.901Z"
   },
   {
    "duration": 9,
    "start_time": "2022-06-07T01:22:52.932Z"
   },
   {
    "duration": 5,
    "start_time": "2022-06-07T01:22:52.943Z"
   },
   {
    "duration": 7,
    "start_time": "2022-06-07T01:22:52.950Z"
   },
   {
    "duration": 34,
    "start_time": "2022-06-07T01:22:52.960Z"
   },
   {
    "duration": 4,
    "start_time": "2022-06-07T01:22:52.996Z"
   },
   {
    "duration": 8,
    "start_time": "2022-06-07T01:22:53.001Z"
   },
   {
    "duration": 36,
    "start_time": "2022-06-07T01:22:53.011Z"
   },
   {
    "duration": 51,
    "start_time": "2022-06-07T01:22:53.049Z"
   },
   {
    "duration": 99,
    "start_time": "2022-06-07T01:22:53.102Z"
   },
   {
    "duration": 4,
    "start_time": "2022-06-07T01:22:53.203Z"
   },
   {
    "duration": 924,
    "start_time": "2022-06-07T01:22:53.209Z"
   },
   {
    "duration": 63,
    "start_time": "2022-06-07T01:22:54.135Z"
   },
   {
    "duration": 5,
    "start_time": "2022-06-07T01:22:54.200Z"
   },
   {
    "duration": 3,
    "start_time": "2022-06-07T01:22:54.207Z"
   },
   {
    "duration": 56,
    "start_time": "2022-06-07T01:22:54.212Z"
   },
   {
    "duration": 26,
    "start_time": "2022-06-07T01:22:54.270Z"
   },
   {
    "duration": 10,
    "start_time": "2022-06-07T01:22:54.297Z"
   },
   {
    "duration": 4,
    "start_time": "2022-06-07T01:22:54.309Z"
   },
   {
    "duration": 25,
    "start_time": "2022-06-07T01:22:54.314Z"
   },
   {
    "duration": 14,
    "start_time": "2022-06-07T01:22:54.340Z"
   },
   {
    "duration": 56,
    "start_time": "2022-06-07T01:22:54.356Z"
   },
   {
    "duration": 4,
    "start_time": "2022-06-07T01:30:15.408Z"
   },
   {
    "duration": 9,
    "start_time": "2022-06-07T01:31:20.518Z"
   },
   {
    "duration": 21,
    "start_time": "2022-06-07T01:31:35.277Z"
   },
   {
    "duration": 7,
    "start_time": "2022-06-07T01:32:58.418Z"
   },
   {
    "duration": 994,
    "start_time": "2022-06-07T01:33:23.916Z"
   },
   {
    "duration": 40,
    "start_time": "2022-06-07T01:33:24.912Z"
   },
   {
    "duration": 14,
    "start_time": "2022-06-07T01:33:24.953Z"
   },
   {
    "duration": 25,
    "start_time": "2022-06-07T01:33:24.969Z"
   },
   {
    "duration": 3,
    "start_time": "2022-06-07T01:33:24.997Z"
   },
   {
    "duration": 27,
    "start_time": "2022-06-07T01:33:25.002Z"
   },
   {
    "duration": 14,
    "start_time": "2022-06-07T01:33:25.032Z"
   },
   {
    "duration": 30,
    "start_time": "2022-06-07T01:33:25.048Z"
   },
   {
    "duration": 34,
    "start_time": "2022-06-07T01:33:25.093Z"
   },
   {
    "duration": 6,
    "start_time": "2022-06-07T01:33:25.131Z"
   },
   {
    "duration": 26,
    "start_time": "2022-06-07T01:33:25.139Z"
   },
   {
    "duration": 29,
    "start_time": "2022-06-07T01:33:25.167Z"
   },
   {
    "duration": 10,
    "start_time": "2022-06-07T01:33:25.198Z"
   },
   {
    "duration": 14,
    "start_time": "2022-06-07T01:33:25.210Z"
   },
   {
    "duration": 36,
    "start_time": "2022-06-07T01:33:25.226Z"
   },
   {
    "duration": 42,
    "start_time": "2022-06-07T01:33:25.264Z"
   },
   {
    "duration": 9,
    "start_time": "2022-06-07T01:33:25.308Z"
   },
   {
    "duration": 24,
    "start_time": "2022-06-07T01:33:25.318Z"
   },
   {
    "duration": 24,
    "start_time": "2022-06-07T01:33:25.344Z"
   },
   {
    "duration": 5,
    "start_time": "2022-06-07T01:33:25.369Z"
   },
   {
    "duration": 3,
    "start_time": "2022-06-07T01:33:25.395Z"
   },
   {
    "duration": 17,
    "start_time": "2022-06-07T01:33:25.400Z"
   },
   {
    "duration": 8,
    "start_time": "2022-06-07T01:33:25.419Z"
   },
   {
    "duration": 21,
    "start_time": "2022-06-07T01:33:25.429Z"
   },
   {
    "duration": 42,
    "start_time": "2022-06-07T01:33:25.452Z"
   },
   {
    "duration": 7,
    "start_time": "2022-06-07T01:33:25.496Z"
   },
   {
    "duration": 6,
    "start_time": "2022-06-07T01:33:25.505Z"
   },
   {
    "duration": 5,
    "start_time": "2022-06-07T01:33:25.514Z"
   },
   {
    "duration": 10,
    "start_time": "2022-06-07T01:33:25.521Z"
   },
   {
    "duration": 8,
    "start_time": "2022-06-07T01:33:25.532Z"
   },
   {
    "duration": 65,
    "start_time": "2022-06-07T01:33:25.542Z"
   },
   {
    "duration": 17,
    "start_time": "2022-06-07T01:33:25.609Z"
   },
   {
    "duration": 168,
    "start_time": "2022-06-07T01:33:25.628Z"
   },
   {
    "duration": 5,
    "start_time": "2022-06-07T01:33:25.798Z"
   },
   {
    "duration": 940,
    "start_time": "2022-06-07T01:33:25.805Z"
   },
   {
    "duration": 58,
    "start_time": "2022-06-07T01:33:26.747Z"
   },
   {
    "duration": 8,
    "start_time": "2022-06-07T01:33:26.807Z"
   },
   {
    "duration": 4,
    "start_time": "2022-06-07T01:33:26.817Z"
   },
   {
    "duration": 81,
    "start_time": "2022-06-07T01:33:26.822Z"
   },
   {
    "duration": 8,
    "start_time": "2022-06-07T01:33:26.905Z"
   },
   {
    "duration": 15,
    "start_time": "2022-06-07T01:33:26.916Z"
   },
   {
    "duration": 6,
    "start_time": "2022-06-07T01:33:26.934Z"
   },
   {
    "duration": 18,
    "start_time": "2022-06-07T01:33:26.942Z"
   },
   {
    "duration": 62,
    "start_time": "2022-06-07T01:33:26.963Z"
   },
   {
    "duration": 5,
    "start_time": "2022-06-07T01:33:27.028Z"
   },
   {
    "duration": 14,
    "start_time": "2022-06-07T01:33:27.035Z"
   },
   {
    "duration": 49,
    "start_time": "2022-06-07T01:33:27.052Z"
   },
   {
    "duration": 9,
    "start_time": "2022-06-07T01:33:27.104Z"
   },
   {
    "duration": 13,
    "start_time": "2022-06-07T01:33:55.356Z"
   },
   {
    "duration": 1035,
    "start_time": "2022-06-07T01:34:02.791Z"
   },
   {
    "duration": 40,
    "start_time": "2022-06-07T01:34:03.828Z"
   },
   {
    "duration": 19,
    "start_time": "2022-06-07T01:34:03.870Z"
   },
   {
    "duration": 23,
    "start_time": "2022-06-07T01:34:03.892Z"
   },
   {
    "duration": 3,
    "start_time": "2022-06-07T01:34:03.917Z"
   },
   {
    "duration": 17,
    "start_time": "2022-06-07T01:34:03.922Z"
   },
   {
    "duration": 7,
    "start_time": "2022-06-07T01:34:03.941Z"
   },
   {
    "duration": 44,
    "start_time": "2022-06-07T01:34:03.950Z"
   },
   {
    "duration": 24,
    "start_time": "2022-06-07T01:34:03.996Z"
   },
   {
    "duration": 7,
    "start_time": "2022-06-07T01:34:04.022Z"
   },
   {
    "duration": 63,
    "start_time": "2022-06-07T01:34:04.032Z"
   },
   {
    "duration": 4,
    "start_time": "2022-06-07T01:34:04.098Z"
   },
   {
    "duration": 16,
    "start_time": "2022-06-07T01:34:04.104Z"
   },
   {
    "duration": 35,
    "start_time": "2022-06-07T01:34:04.123Z"
   },
   {
    "duration": 57,
    "start_time": "2022-06-07T01:34:04.160Z"
   },
   {
    "duration": 25,
    "start_time": "2022-06-07T01:34:04.218Z"
   },
   {
    "duration": 22,
    "start_time": "2022-06-07T01:34:04.245Z"
   },
   {
    "duration": 43,
    "start_time": "2022-06-07T01:34:04.269Z"
   },
   {
    "duration": 22,
    "start_time": "2022-06-07T01:34:04.314Z"
   },
   {
    "duration": 18,
    "start_time": "2022-06-07T01:34:04.338Z"
   },
   {
    "duration": 8,
    "start_time": "2022-06-07T01:34:04.357Z"
   },
   {
    "duration": 41,
    "start_time": "2022-06-07T01:34:04.367Z"
   },
   {
    "duration": 32,
    "start_time": "2022-06-07T01:34:04.410Z"
   },
   {
    "duration": 34,
    "start_time": "2022-06-07T01:34:04.444Z"
   },
   {
    "duration": 26,
    "start_time": "2022-06-07T01:34:04.480Z"
   },
   {
    "duration": 9,
    "start_time": "2022-06-07T01:34:04.508Z"
   },
   {
    "duration": 21,
    "start_time": "2022-06-07T01:34:04.519Z"
   },
   {
    "duration": 17,
    "start_time": "2022-06-07T01:34:04.543Z"
   },
   {
    "duration": 13,
    "start_time": "2022-06-07T01:34:04.562Z"
   },
   {
    "duration": 21,
    "start_time": "2022-06-07T01:34:04.577Z"
   },
   {
    "duration": 61,
    "start_time": "2022-06-07T01:34:04.601Z"
   },
   {
    "duration": 5,
    "start_time": "2022-06-07T01:34:04.664Z"
   },
   {
    "duration": 31,
    "start_time": "2022-06-07T01:34:04.671Z"
   },
   {
    "duration": 91,
    "start_time": "2022-06-07T01:34:04.704Z"
   },
   {
    "duration": 933,
    "start_time": "2022-06-07T01:34:04.797Z"
   },
   {
    "duration": 64,
    "start_time": "2022-06-07T01:34:05.732Z"
   },
   {
    "duration": 7,
    "start_time": "2022-06-07T01:34:05.798Z"
   },
   {
    "duration": 8,
    "start_time": "2022-06-07T01:34:05.806Z"
   },
   {
    "duration": 60,
    "start_time": "2022-06-07T01:34:05.816Z"
   },
   {
    "duration": 18,
    "start_time": "2022-06-07T01:34:05.878Z"
   },
   {
    "duration": 14,
    "start_time": "2022-06-07T01:34:05.898Z"
   },
   {
    "duration": 7,
    "start_time": "2022-06-07T01:34:05.913Z"
   },
   {
    "duration": 14,
    "start_time": "2022-06-07T01:34:05.922Z"
   },
   {
    "duration": 25,
    "start_time": "2022-06-07T01:34:05.938Z"
   },
   {
    "duration": 29,
    "start_time": "2022-06-07T01:34:05.965Z"
   },
   {
    "duration": 12,
    "start_time": "2022-06-07T01:34:05.997Z"
   },
   {
    "duration": 21,
    "start_time": "2022-06-07T01:34:06.012Z"
   },
   {
    "duration": 9,
    "start_time": "2022-06-07T01:34:06.035Z"
   },
   {
    "duration": 15,
    "start_time": "2022-06-07T01:34:38.635Z"
   },
   {
    "duration": 996,
    "start_time": "2022-06-07T01:34:48.622Z"
   },
   {
    "duration": 40,
    "start_time": "2022-06-07T01:34:49.620Z"
   },
   {
    "duration": 22,
    "start_time": "2022-06-07T01:34:49.662Z"
   },
   {
    "duration": 21,
    "start_time": "2022-06-07T01:34:49.687Z"
   },
   {
    "duration": 3,
    "start_time": "2022-06-07T01:34:49.710Z"
   },
   {
    "duration": 18,
    "start_time": "2022-06-07T01:34:49.715Z"
   },
   {
    "duration": 6,
    "start_time": "2022-06-07T01:34:49.734Z"
   },
   {
    "duration": 17,
    "start_time": "2022-06-07T01:34:49.742Z"
   },
   {
    "duration": 55,
    "start_time": "2022-06-07T01:34:49.760Z"
   },
   {
    "duration": 6,
    "start_time": "2022-06-07T01:34:49.817Z"
   },
   {
    "duration": 25,
    "start_time": "2022-06-07T01:34:49.825Z"
   },
   {
    "duration": 12,
    "start_time": "2022-06-07T01:34:49.852Z"
   },
   {
    "duration": 35,
    "start_time": "2022-06-07T01:34:49.865Z"
   },
   {
    "duration": 15,
    "start_time": "2022-06-07T01:34:49.902Z"
   },
   {
    "duration": 42,
    "start_time": "2022-06-07T01:34:49.919Z"
   },
   {
    "duration": 48,
    "start_time": "2022-06-07T01:34:49.963Z"
   },
   {
    "duration": 8,
    "start_time": "2022-06-07T01:34:50.013Z"
   },
   {
    "duration": 31,
    "start_time": "2022-06-07T01:34:50.023Z"
   },
   {
    "duration": 24,
    "start_time": "2022-06-07T01:34:50.056Z"
   },
   {
    "duration": 13,
    "start_time": "2022-06-07T01:34:50.082Z"
   },
   {
    "duration": 3,
    "start_time": "2022-06-07T01:34:50.096Z"
   },
   {
    "duration": 19,
    "start_time": "2022-06-07T01:34:50.101Z"
   },
   {
    "duration": 7,
    "start_time": "2022-06-07T01:34:50.122Z"
   },
   {
    "duration": 20,
    "start_time": "2022-06-07T01:34:50.131Z"
   },
   {
    "duration": 10,
    "start_time": "2022-06-07T01:34:50.152Z"
   },
   {
    "duration": 34,
    "start_time": "2022-06-07T01:34:50.163Z"
   },
   {
    "duration": 5,
    "start_time": "2022-06-07T01:34:50.199Z"
   },
   {
    "duration": 5,
    "start_time": "2022-06-07T01:34:50.210Z"
   },
   {
    "duration": 7,
    "start_time": "2022-06-07T01:34:50.217Z"
   },
   {
    "duration": 5,
    "start_time": "2022-06-07T01:34:50.225Z"
   },
   {
    "duration": 74,
    "start_time": "2022-06-07T01:34:50.232Z"
   },
   {
    "duration": 14,
    "start_time": "2022-06-07T01:34:50.309Z"
   },
   {
    "duration": 106,
    "start_time": "2022-06-07T01:34:50.395Z"
   },
   {
    "duration": 3,
    "start_time": "2022-06-07T01:34:50.503Z"
   },
   {
    "duration": 889,
    "start_time": "2022-06-07T01:34:50.507Z"
   },
   {
    "duration": 52,
    "start_time": "2022-06-07T01:34:51.398Z"
   },
   {
    "duration": 5,
    "start_time": "2022-06-07T01:34:51.452Z"
   },
   {
    "duration": 5,
    "start_time": "2022-06-07T01:34:51.458Z"
   },
   {
    "duration": 80,
    "start_time": "2022-06-07T01:34:51.464Z"
   },
   {
    "duration": 6,
    "start_time": "2022-06-07T01:34:51.546Z"
   },
   {
    "duration": 23,
    "start_time": "2022-06-07T01:34:51.555Z"
   },
   {
    "duration": 15,
    "start_time": "2022-06-07T01:34:51.579Z"
   },
   {
    "duration": 12,
    "start_time": "2022-06-07T01:34:51.595Z"
   },
   {
    "duration": 22,
    "start_time": "2022-06-07T01:34:51.609Z"
   },
   {
    "duration": 9,
    "start_time": "2022-06-07T01:34:51.633Z"
   },
   {
    "duration": 119,
    "start_time": "2022-06-07T01:34:51.644Z"
   },
   {
    "duration": 0,
    "start_time": "2022-06-07T01:34:51.765Z"
   },
   {
    "duration": 0,
    "start_time": "2022-06-07T01:34:51.766Z"
   },
   {
    "duration": 11,
    "start_time": "2022-06-07T01:34:59.995Z"
   },
   {
    "duration": 31,
    "start_time": "2022-06-07T01:35:05.896Z"
   },
   {
    "duration": 8,
    "start_time": "2022-06-07T01:35:09.476Z"
   },
   {
    "duration": 12,
    "start_time": "2022-06-07T01:35:26.395Z"
   },
   {
    "duration": 1037,
    "start_time": "2022-06-07T01:35:35.093Z"
   },
   {
    "duration": 41,
    "start_time": "2022-06-07T01:35:36.132Z"
   },
   {
    "duration": 15,
    "start_time": "2022-06-07T01:35:36.175Z"
   },
   {
    "duration": 33,
    "start_time": "2022-06-07T01:35:36.193Z"
   },
   {
    "duration": 9,
    "start_time": "2022-06-07T01:35:36.228Z"
   },
   {
    "duration": 33,
    "start_time": "2022-06-07T01:35:36.238Z"
   },
   {
    "duration": 19,
    "start_time": "2022-06-07T01:35:36.272Z"
   },
   {
    "duration": 32,
    "start_time": "2022-06-07T01:35:36.293Z"
   },
   {
    "duration": 43,
    "start_time": "2022-06-07T01:35:36.327Z"
   },
   {
    "duration": 7,
    "start_time": "2022-06-07T01:35:36.373Z"
   },
   {
    "duration": 37,
    "start_time": "2022-06-07T01:35:36.382Z"
   },
   {
    "duration": 4,
    "start_time": "2022-06-07T01:35:36.421Z"
   },
   {
    "duration": 17,
    "start_time": "2022-06-07T01:35:36.427Z"
   },
   {
    "duration": 23,
    "start_time": "2022-06-07T01:35:36.446Z"
   },
   {
    "duration": 54,
    "start_time": "2022-06-07T01:35:36.471Z"
   },
   {
    "duration": 25,
    "start_time": "2022-06-07T01:35:36.526Z"
   },
   {
    "duration": 12,
    "start_time": "2022-06-07T01:35:36.553Z"
   },
   {
    "duration": 37,
    "start_time": "2022-06-07T01:35:36.566Z"
   },
   {
    "duration": 26,
    "start_time": "2022-06-07T01:35:36.605Z"
   },
   {
    "duration": 14,
    "start_time": "2022-06-07T01:35:36.633Z"
   },
   {
    "duration": 22,
    "start_time": "2022-06-07T01:35:36.649Z"
   },
   {
    "duration": 40,
    "start_time": "2022-06-07T01:35:36.673Z"
   },
   {
    "duration": 14,
    "start_time": "2022-06-07T01:35:36.715Z"
   },
   {
    "duration": 43,
    "start_time": "2022-06-07T01:35:36.731Z"
   },
   {
    "duration": 25,
    "start_time": "2022-06-07T01:35:36.776Z"
   },
   {
    "duration": 17,
    "start_time": "2022-06-07T01:35:36.804Z"
   },
   {
    "duration": 14,
    "start_time": "2022-06-07T01:35:36.823Z"
   },
   {
    "duration": 15,
    "start_time": "2022-06-07T01:35:36.842Z"
   },
   {
    "duration": 27,
    "start_time": "2022-06-07T01:35:36.860Z"
   },
   {
    "duration": 9,
    "start_time": "2022-06-07T01:35:36.890Z"
   },
   {
    "duration": 63,
    "start_time": "2022-06-07T01:35:36.901Z"
   },
   {
    "duration": 31,
    "start_time": "2022-06-07T01:35:36.966Z"
   },
   {
    "duration": 110,
    "start_time": "2022-06-07T01:35:37.000Z"
   },
   {
    "duration": 17,
    "start_time": "2022-06-07T01:35:37.112Z"
   },
   {
    "duration": 942,
    "start_time": "2022-06-07T01:35:37.131Z"
   },
   {
    "duration": 59,
    "start_time": "2022-06-07T01:35:38.075Z"
   },
   {
    "duration": 6,
    "start_time": "2022-06-07T01:35:38.136Z"
   },
   {
    "duration": 27,
    "start_time": "2022-06-07T01:35:38.144Z"
   },
   {
    "duration": 64,
    "start_time": "2022-06-07T01:35:38.173Z"
   },
   {
    "duration": 7,
    "start_time": "2022-06-07T01:35:38.240Z"
   },
   {
    "duration": 29,
    "start_time": "2022-06-07T01:35:38.249Z"
   },
   {
    "duration": 13,
    "start_time": "2022-06-07T01:35:38.281Z"
   },
   {
    "duration": 34,
    "start_time": "2022-06-07T01:35:38.296Z"
   },
   {
    "duration": 31,
    "start_time": "2022-06-07T01:35:38.332Z"
   },
   {
    "duration": 13,
    "start_time": "2022-06-07T01:35:38.365Z"
   },
   {
    "duration": 33,
    "start_time": "2022-06-07T01:35:38.379Z"
   },
   {
    "duration": 28,
    "start_time": "2022-06-07T01:35:38.414Z"
   },
   {
    "duration": 24,
    "start_time": "2022-06-07T01:35:38.445Z"
   },
   {
    "duration": 978,
    "start_time": "2022-06-07T01:36:02.658Z"
   },
   {
    "duration": 42,
    "start_time": "2022-06-07T01:36:03.638Z"
   },
   {
    "duration": 15,
    "start_time": "2022-06-07T01:36:03.682Z"
   },
   {
    "duration": 22,
    "start_time": "2022-06-07T01:36:03.699Z"
   },
   {
    "duration": 4,
    "start_time": "2022-06-07T01:36:03.722Z"
   },
   {
    "duration": 18,
    "start_time": "2022-06-07T01:36:03.727Z"
   },
   {
    "duration": 7,
    "start_time": "2022-06-07T01:36:03.746Z"
   },
   {
    "duration": 19,
    "start_time": "2022-06-07T01:36:03.755Z"
   },
   {
    "duration": 25,
    "start_time": "2022-06-07T01:36:03.794Z"
   },
   {
    "duration": 6,
    "start_time": "2022-06-07T01:36:03.822Z"
   },
   {
    "duration": 32,
    "start_time": "2022-06-07T01:36:03.829Z"
   },
   {
    "duration": 4,
    "start_time": "2022-06-07T01:36:03.862Z"
   },
   {
    "duration": 26,
    "start_time": "2022-06-07T01:36:03.868Z"
   },
   {
    "duration": 12,
    "start_time": "2022-06-07T01:36:03.896Z"
   },
   {
    "duration": 37,
    "start_time": "2022-06-07T01:36:03.910Z"
   },
   {
    "duration": 46,
    "start_time": "2022-06-07T01:36:03.948Z"
   },
   {
    "duration": 8,
    "start_time": "2022-06-07T01:36:03.996Z"
   },
   {
    "duration": 29,
    "start_time": "2022-06-07T01:36:04.006Z"
   },
   {
    "duration": 32,
    "start_time": "2022-06-07T01:36:04.037Z"
   },
   {
    "duration": 5,
    "start_time": "2022-06-07T01:36:04.070Z"
   },
   {
    "duration": 5,
    "start_time": "2022-06-07T01:36:04.077Z"
   },
   {
    "duration": 12,
    "start_time": "2022-06-07T01:36:04.093Z"
   },
   {
    "duration": 7,
    "start_time": "2022-06-07T01:36:04.106Z"
   },
   {
    "duration": 21,
    "start_time": "2022-06-07T01:36:04.115Z"
   },
   {
    "duration": 9,
    "start_time": "2022-06-07T01:36:04.137Z"
   },
   {
    "duration": 12,
    "start_time": "2022-06-07T01:36:04.148Z"
   },
   {
    "duration": 32,
    "start_time": "2022-06-07T01:36:04.162Z"
   },
   {
    "duration": 5,
    "start_time": "2022-06-07T01:36:04.198Z"
   },
   {
    "duration": 6,
    "start_time": "2022-06-07T01:36:04.205Z"
   },
   {
    "duration": 6,
    "start_time": "2022-06-07T01:36:04.212Z"
   },
   {
    "duration": 38,
    "start_time": "2022-06-07T01:36:04.220Z"
   },
   {
    "duration": 38,
    "start_time": "2022-06-07T01:36:04.260Z"
   },
   {
    "duration": 101,
    "start_time": "2022-06-07T01:36:04.300Z"
   },
   {
    "duration": 99,
    "start_time": "2022-06-07T01:36:04.403Z"
   },
   {
    "duration": 896,
    "start_time": "2022-06-07T01:36:04.503Z"
   },
   {
    "duration": 53,
    "start_time": "2022-06-07T01:36:05.401Z"
   },
   {
    "duration": 6,
    "start_time": "2022-06-07T01:36:05.456Z"
   },
   {
    "duration": 4,
    "start_time": "2022-06-07T01:36:05.463Z"
   },
   {
    "duration": 73,
    "start_time": "2022-06-07T01:36:05.468Z"
   },
   {
    "duration": 4,
    "start_time": "2022-06-07T01:36:05.543Z"
   },
   {
    "duration": 15,
    "start_time": "2022-06-07T01:36:05.549Z"
   },
   {
    "duration": 6,
    "start_time": "2022-06-07T01:36:05.566Z"
   },
   {
    "duration": 22,
    "start_time": "2022-06-07T01:36:05.574Z"
   },
   {
    "duration": 20,
    "start_time": "2022-06-07T01:36:05.597Z"
   },
   {
    "duration": 7,
    "start_time": "2022-06-07T01:36:05.619Z"
   },
   {
    "duration": 12,
    "start_time": "2022-06-07T01:36:05.628Z"
   },
   {
    "duration": 20,
    "start_time": "2022-06-07T01:36:05.642Z"
   },
   {
    "duration": 35,
    "start_time": "2022-06-07T01:36:05.664Z"
   },
   {
    "duration": 12,
    "start_time": "2022-06-07T01:36:29.726Z"
   },
   {
    "duration": 985,
    "start_time": "2022-06-07T01:36:35.543Z"
   },
   {
    "duration": 40,
    "start_time": "2022-06-07T01:36:36.530Z"
   },
   {
    "duration": 15,
    "start_time": "2022-06-07T01:36:36.572Z"
   },
   {
    "duration": 21,
    "start_time": "2022-06-07T01:36:36.588Z"
   },
   {
    "duration": 3,
    "start_time": "2022-06-07T01:36:36.611Z"
   },
   {
    "duration": 18,
    "start_time": "2022-06-07T01:36:36.616Z"
   },
   {
    "duration": 5,
    "start_time": "2022-06-07T01:36:36.635Z"
   },
   {
    "duration": 25,
    "start_time": "2022-06-07T01:36:36.642Z"
   },
   {
    "duration": 46,
    "start_time": "2022-06-07T01:36:36.668Z"
   },
   {
    "duration": 10,
    "start_time": "2022-06-07T01:36:36.716Z"
   },
   {
    "duration": 23,
    "start_time": "2022-06-07T01:36:36.728Z"
   },
   {
    "duration": 41,
    "start_time": "2022-06-07T01:36:36.753Z"
   },
   {
    "duration": 7,
    "start_time": "2022-06-07T01:36:36.796Z"
   },
   {
    "duration": 16,
    "start_time": "2022-06-07T01:36:36.807Z"
   },
   {
    "duration": 36,
    "start_time": "2022-06-07T01:36:36.825Z"
   },
   {
    "duration": 47,
    "start_time": "2022-06-07T01:36:36.863Z"
   },
   {
    "duration": 8,
    "start_time": "2022-06-07T01:36:36.912Z"
   },
   {
    "duration": 25,
    "start_time": "2022-06-07T01:36:36.922Z"
   },
   {
    "duration": 12,
    "start_time": "2022-06-07T01:36:36.949Z"
   },
   {
    "duration": 5,
    "start_time": "2022-06-07T01:36:36.962Z"
   },
   {
    "duration": 3,
    "start_time": "2022-06-07T01:36:36.995Z"
   },
   {
    "duration": 17,
    "start_time": "2022-06-07T01:36:36.999Z"
   },
   {
    "duration": 8,
    "start_time": "2022-06-07T01:36:37.017Z"
   },
   {
    "duration": 21,
    "start_time": "2022-06-07T01:36:37.027Z"
   },
   {
    "duration": 8,
    "start_time": "2022-06-07T01:36:37.049Z"
   },
   {
    "duration": 40,
    "start_time": "2022-06-07T01:36:37.058Z"
   },
   {
    "duration": 5,
    "start_time": "2022-06-07T01:36:37.100Z"
   },
   {
    "duration": 6,
    "start_time": "2022-06-07T01:36:37.106Z"
   },
   {
    "duration": 5,
    "start_time": "2022-06-07T01:36:37.114Z"
   },
   {
    "duration": 5,
    "start_time": "2022-06-07T01:36:37.121Z"
   },
   {
    "duration": 68,
    "start_time": "2022-06-07T01:36:37.127Z"
   },
   {
    "duration": 8,
    "start_time": "2022-06-07T01:36:37.197Z"
   },
   {
    "duration": 187,
    "start_time": "2022-06-07T01:36:37.208Z"
   },
   {
    "duration": 6,
    "start_time": "2022-06-07T01:36:37.397Z"
   },
   {
    "duration": 930,
    "start_time": "2022-06-07T01:36:37.404Z"
   },
   {
    "duration": 62,
    "start_time": "2022-06-07T01:36:38.336Z"
   },
   {
    "duration": 6,
    "start_time": "2022-06-07T01:36:38.400Z"
   },
   {
    "duration": 3,
    "start_time": "2022-06-07T01:36:38.407Z"
   },
   {
    "duration": 56,
    "start_time": "2022-06-07T01:36:38.412Z"
   },
   {
    "duration": 5,
    "start_time": "2022-06-07T01:36:38.470Z"
   },
   {
    "duration": 6,
    "start_time": "2022-06-07T01:36:38.494Z"
   },
   {
    "duration": 7,
    "start_time": "2022-06-07T01:36:38.502Z"
   },
   {
    "duration": 15,
    "start_time": "2022-06-07T01:36:38.511Z"
   },
   {
    "duration": 19,
    "start_time": "2022-06-07T01:36:38.528Z"
   },
   {
    "duration": 6,
    "start_time": "2022-06-07T01:36:38.549Z"
   },
   {
    "duration": 43,
    "start_time": "2022-06-07T01:36:38.556Z"
   },
   {
    "duration": 20,
    "start_time": "2022-06-07T01:36:38.601Z"
   },
   {
    "duration": 7,
    "start_time": "2022-06-07T01:36:38.623Z"
   },
   {
    "duration": 1043,
    "start_time": "2022-06-07T01:37:02.563Z"
   },
   {
    "duration": 41,
    "start_time": "2022-06-07T01:37:03.608Z"
   },
   {
    "duration": 13,
    "start_time": "2022-06-07T01:37:03.651Z"
   },
   {
    "duration": 21,
    "start_time": "2022-06-07T01:37:03.666Z"
   },
   {
    "duration": 6,
    "start_time": "2022-06-07T01:37:03.688Z"
   },
   {
    "duration": 19,
    "start_time": "2022-06-07T01:37:03.696Z"
   },
   {
    "duration": 4,
    "start_time": "2022-06-07T01:37:03.716Z"
   },
   {
    "duration": 17,
    "start_time": "2022-06-07T01:37:03.722Z"
   },
   {
    "duration": 55,
    "start_time": "2022-06-07T01:37:03.741Z"
   },
   {
    "duration": 6,
    "start_time": "2022-06-07T01:37:03.799Z"
   },
   {
    "duration": 25,
    "start_time": "2022-06-07T01:37:03.807Z"
   },
   {
    "duration": 4,
    "start_time": "2022-06-07T01:37:03.834Z"
   },
   {
    "duration": 8,
    "start_time": "2022-06-07T01:37:03.839Z"
   },
   {
    "duration": 14,
    "start_time": "2022-06-07T01:37:03.849Z"
   },
   {
    "duration": 37,
    "start_time": "2022-06-07T01:37:03.895Z"
   },
   {
    "duration": 25,
    "start_time": "2022-06-07T01:37:03.934Z"
   },
   {
    "duration": 8,
    "start_time": "2022-06-07T01:37:03.960Z"
   },
   {
    "duration": 45,
    "start_time": "2022-06-07T01:37:03.970Z"
   },
   {
    "duration": 16,
    "start_time": "2022-06-07T01:37:04.016Z"
   },
   {
    "duration": 5,
    "start_time": "2022-06-07T01:37:04.034Z"
   },
   {
    "duration": 6,
    "start_time": "2022-06-07T01:37:04.041Z"
   },
   {
    "duration": 22,
    "start_time": "2022-06-07T01:37:04.049Z"
   },
   {
    "duration": 11,
    "start_time": "2022-06-07T01:37:04.094Z"
   },
   {
    "duration": 30,
    "start_time": "2022-06-07T01:37:04.108Z"
   },
   {
    "duration": 9,
    "start_time": "2022-06-07T01:37:04.140Z"
   },
   {
    "duration": 7,
    "start_time": "2022-06-07T01:37:04.150Z"
   },
   {
    "duration": 4,
    "start_time": "2022-06-07T01:37:04.159Z"
   },
   {
    "duration": 34,
    "start_time": "2022-06-07T01:37:04.166Z"
   },
   {
    "duration": 8,
    "start_time": "2022-06-07T01:37:04.202Z"
   },
   {
    "duration": 8,
    "start_time": "2022-06-07T01:37:04.213Z"
   },
   {
    "duration": 37,
    "start_time": "2022-06-07T01:37:04.223Z"
   },
   {
    "duration": 35,
    "start_time": "2022-06-07T01:37:04.262Z"
   },
   {
    "duration": 97,
    "start_time": "2022-06-07T01:37:04.300Z"
   },
   {
    "duration": 3,
    "start_time": "2022-06-07T01:37:04.399Z"
   },
   {
    "duration": 932,
    "start_time": "2022-06-07T01:37:04.404Z"
   },
   {
    "duration": 64,
    "start_time": "2022-06-07T01:37:05.338Z"
   },
   {
    "duration": 6,
    "start_time": "2022-06-07T01:37:05.404Z"
   },
   {
    "duration": 3,
    "start_time": "2022-06-07T01:37:05.412Z"
   },
   {
    "duration": 57,
    "start_time": "2022-06-07T01:37:05.417Z"
   },
   {
    "duration": 20,
    "start_time": "2022-06-07T01:37:05.476Z"
   },
   {
    "duration": 16,
    "start_time": "2022-06-07T01:37:05.498Z"
   },
   {
    "duration": 10,
    "start_time": "2022-06-07T01:37:05.516Z"
   },
   {
    "duration": 30,
    "start_time": "2022-06-07T01:37:05.528Z"
   },
   {
    "duration": 20,
    "start_time": "2022-06-07T01:37:05.560Z"
   },
   {
    "duration": 5,
    "start_time": "2022-06-07T01:37:05.582Z"
   },
   {
    "duration": 13,
    "start_time": "2022-06-07T01:37:05.589Z"
   },
   {
    "duration": 21,
    "start_time": "2022-06-07T01:37:05.604Z"
   },
   {
    "duration": 7,
    "start_time": "2022-06-07T01:37:05.627Z"
   },
   {
    "duration": 11,
    "start_time": "2022-06-07T01:39:48.964Z"
   },
   {
    "duration": 13,
    "start_time": "2022-06-07T01:40:04.896Z"
   },
   {
    "duration": 12,
    "start_time": "2022-06-07T01:40:15.484Z"
   },
   {
    "duration": 11,
    "start_time": "2022-06-07T01:40:23.544Z"
   },
   {
    "duration": 10,
    "start_time": "2022-06-07T01:40:31.216Z"
   },
   {
    "duration": 8,
    "start_time": "2022-06-07T01:40:35.228Z"
   },
   {
    "duration": 10,
    "start_time": "2022-06-07T01:40:47.636Z"
   },
   {
    "duration": 7,
    "start_time": "2022-06-07T01:40:51.004Z"
   },
   {
    "duration": 1046,
    "start_time": "2022-06-07T01:41:09.679Z"
   },
   {
    "duration": 40,
    "start_time": "2022-06-07T01:41:10.727Z"
   },
   {
    "duration": 13,
    "start_time": "2022-06-07T01:41:10.768Z"
   },
   {
    "duration": 23,
    "start_time": "2022-06-07T01:41:10.783Z"
   },
   {
    "duration": 2,
    "start_time": "2022-06-07T01:41:10.808Z"
   },
   {
    "duration": 20,
    "start_time": "2022-06-07T01:41:10.812Z"
   },
   {
    "duration": 4,
    "start_time": "2022-06-07T01:41:10.834Z"
   },
   {
    "duration": 16,
    "start_time": "2022-06-07T01:41:10.839Z"
   },
   {
    "duration": 58,
    "start_time": "2022-06-07T01:41:10.857Z"
   },
   {
    "duration": 5,
    "start_time": "2022-06-07T01:41:10.918Z"
   },
   {
    "duration": 22,
    "start_time": "2022-06-07T01:41:10.924Z"
   },
   {
    "duration": 3,
    "start_time": "2022-06-07T01:41:10.947Z"
   },
   {
    "duration": 7,
    "start_time": "2022-06-07T01:41:10.952Z"
   },
   {
    "duration": 42,
    "start_time": "2022-06-07T01:41:10.961Z"
   },
   {
    "duration": 34,
    "start_time": "2022-06-07T01:41:11.005Z"
   },
   {
    "duration": 25,
    "start_time": "2022-06-07T01:41:11.041Z"
   },
   {
    "duration": 29,
    "start_time": "2022-06-07T01:41:11.068Z"
   },
   {
    "duration": 24,
    "start_time": "2022-06-07T01:41:11.099Z"
   },
   {
    "duration": 12,
    "start_time": "2022-06-07T01:41:11.125Z"
   },
   {
    "duration": 5,
    "start_time": "2022-06-07T01:41:11.139Z"
   },
   {
    "duration": 5,
    "start_time": "2022-06-07T01:41:11.145Z"
   },
   {
    "duration": 49,
    "start_time": "2022-06-07T01:41:11.151Z"
   },
   {
    "duration": 7,
    "start_time": "2022-06-07T01:41:11.202Z"
   },
   {
    "duration": 20,
    "start_time": "2022-06-07T01:41:11.210Z"
   },
   {
    "duration": 7,
    "start_time": "2022-06-07T01:41:11.232Z"
   },
   {
    "duration": 7,
    "start_time": "2022-06-07T01:41:11.241Z"
   },
   {
    "duration": 11,
    "start_time": "2022-06-07T01:41:11.250Z"
   },
   {
    "duration": 6,
    "start_time": "2022-06-07T01:41:11.294Z"
   },
   {
    "duration": 11,
    "start_time": "2022-06-07T01:41:11.301Z"
   },
   {
    "duration": 7,
    "start_time": "2022-06-07T01:41:11.314Z"
   },
   {
    "duration": 34,
    "start_time": "2022-06-07T01:41:11.322Z"
   },
   {
    "duration": 137,
    "start_time": "2022-06-07T01:41:11.357Z"
   },
   {
    "duration": 8,
    "start_time": "2022-06-07T01:41:11.496Z"
   },
   {
    "duration": 7,
    "start_time": "2022-06-07T01:41:11.506Z"
   },
   {
    "duration": 944,
    "start_time": "2022-06-07T01:41:11.515Z"
   },
   {
    "duration": 69,
    "start_time": "2022-06-07T01:41:12.461Z"
   },
   {
    "duration": 6,
    "start_time": "2022-06-07T01:41:12.532Z"
   },
   {
    "duration": 5,
    "start_time": "2022-06-07T01:41:12.540Z"
   },
   {
    "duration": 66,
    "start_time": "2022-06-07T01:41:12.546Z"
   },
   {
    "duration": 5,
    "start_time": "2022-06-07T01:41:12.614Z"
   },
   {
    "duration": 14,
    "start_time": "2022-06-07T01:41:12.620Z"
   },
   {
    "duration": 5,
    "start_time": "2022-06-07T01:41:12.636Z"
   },
   {
    "duration": 18,
    "start_time": "2022-06-07T01:41:12.643Z"
   },
   {
    "duration": 32,
    "start_time": "2022-06-07T01:41:12.663Z"
   },
   {
    "duration": 4,
    "start_time": "2022-06-07T01:41:12.697Z"
   },
   {
    "duration": 13,
    "start_time": "2022-06-07T01:41:12.702Z"
   },
   {
    "duration": 20,
    "start_time": "2022-06-07T01:41:12.717Z"
   },
   {
    "duration": 12,
    "start_time": "2022-06-07T01:41:12.738Z"
   },
   {
    "duration": 1055,
    "start_time": "2022-06-07T01:41:29.410Z"
   },
   {
    "duration": 41,
    "start_time": "2022-06-07T01:41:30.467Z"
   },
   {
    "duration": 14,
    "start_time": "2022-06-07T01:41:30.509Z"
   },
   {
    "duration": 30,
    "start_time": "2022-06-07T01:41:30.525Z"
   },
   {
    "duration": 17,
    "start_time": "2022-06-07T01:41:30.557Z"
   },
   {
    "duration": 35,
    "start_time": "2022-06-07T01:41:30.576Z"
   },
   {
    "duration": 24,
    "start_time": "2022-06-07T01:41:30.612Z"
   },
   {
    "duration": 41,
    "start_time": "2022-06-07T01:41:30.638Z"
   },
   {
    "duration": 56,
    "start_time": "2022-06-07T01:41:30.681Z"
   },
   {
    "duration": 6,
    "start_time": "2022-06-07T01:41:30.740Z"
   },
   {
    "duration": 38,
    "start_time": "2022-06-07T01:41:30.748Z"
   },
   {
    "duration": 12,
    "start_time": "2022-06-07T01:41:30.788Z"
   },
   {
    "duration": 41,
    "start_time": "2022-06-07T01:41:30.802Z"
   },
   {
    "duration": 24,
    "start_time": "2022-06-07T01:41:30.845Z"
   },
   {
    "duration": 48,
    "start_time": "2022-06-07T01:41:30.871Z"
   },
   {
    "duration": 25,
    "start_time": "2022-06-07T01:41:30.921Z"
   },
   {
    "duration": 4,
    "start_time": "2022-06-07T01:41:30.948Z"
   },
   {
    "duration": 52,
    "start_time": "2022-06-07T01:41:30.954Z"
   },
   {
    "duration": 34,
    "start_time": "2022-06-07T01:41:31.008Z"
   },
   {
    "duration": 24,
    "start_time": "2022-06-07T01:41:31.044Z"
   },
   {
    "duration": 17,
    "start_time": "2022-06-07T01:41:31.070Z"
   },
   {
    "duration": 52,
    "start_time": "2022-06-07T01:41:31.089Z"
   },
   {
    "duration": 33,
    "start_time": "2022-06-07T01:41:31.143Z"
   },
   {
    "duration": 35,
    "start_time": "2022-06-07T01:41:31.177Z"
   },
   {
    "duration": 27,
    "start_time": "2022-06-07T01:41:31.214Z"
   },
   {
    "duration": 31,
    "start_time": "2022-06-07T01:41:31.242Z"
   },
   {
    "duration": 20,
    "start_time": "2022-06-07T01:41:31.275Z"
   },
   {
    "duration": 23,
    "start_time": "2022-06-07T01:41:31.298Z"
   },
   {
    "duration": 17,
    "start_time": "2022-06-07T01:41:31.323Z"
   },
   {
    "duration": 24,
    "start_time": "2022-06-07T01:41:31.342Z"
   },
   {
    "duration": 54,
    "start_time": "2022-06-07T01:41:31.368Z"
   },
   {
    "duration": 73,
    "start_time": "2022-06-07T01:41:31.424Z"
   },
   {
    "duration": 122,
    "start_time": "2022-06-07T01:41:31.502Z"
   },
   {
    "duration": 24,
    "start_time": "2022-06-07T01:41:31.626Z"
   },
   {
    "duration": 907,
    "start_time": "2022-06-07T01:41:31.652Z"
   },
   {
    "duration": 57,
    "start_time": "2022-06-07T01:41:32.561Z"
   },
   {
    "duration": 5,
    "start_time": "2022-06-07T01:41:32.620Z"
   },
   {
    "duration": 14,
    "start_time": "2022-06-07T01:41:32.627Z"
   },
   {
    "duration": 62,
    "start_time": "2022-06-07T01:41:32.643Z"
   },
   {
    "duration": 4,
    "start_time": "2022-06-07T01:41:32.707Z"
   },
   {
    "duration": 26,
    "start_time": "2022-06-07T01:41:32.713Z"
   },
   {
    "duration": 11,
    "start_time": "2022-06-07T01:41:32.741Z"
   },
   {
    "duration": 22,
    "start_time": "2022-06-07T01:41:32.753Z"
   },
   {
    "duration": 19,
    "start_time": "2022-06-07T01:41:32.778Z"
   },
   {
    "duration": 16,
    "start_time": "2022-06-07T01:41:32.800Z"
   },
   {
    "duration": 23,
    "start_time": "2022-06-07T01:41:32.818Z"
   },
   {
    "duration": 30,
    "start_time": "2022-06-07T01:41:32.844Z"
   },
   {
    "duration": 32,
    "start_time": "2022-06-07T01:41:32.876Z"
   },
   {
    "duration": 1047,
    "start_time": "2022-06-07T01:42:05.582Z"
   },
   {
    "duration": 40,
    "start_time": "2022-06-07T01:42:06.631Z"
   },
   {
    "duration": 13,
    "start_time": "2022-06-07T01:42:06.672Z"
   },
   {
    "duration": 27,
    "start_time": "2022-06-07T01:42:06.687Z"
   },
   {
    "duration": 5,
    "start_time": "2022-06-07T01:42:06.716Z"
   },
   {
    "duration": 18,
    "start_time": "2022-06-07T01:42:06.722Z"
   },
   {
    "duration": 8,
    "start_time": "2022-06-07T01:42:06.741Z"
   },
   {
    "duration": 20,
    "start_time": "2022-06-07T01:42:06.751Z"
   },
   {
    "duration": 45,
    "start_time": "2022-06-07T01:42:06.772Z"
   },
   {
    "duration": 6,
    "start_time": "2022-06-07T01:42:06.821Z"
   },
   {
    "duration": 35,
    "start_time": "2022-06-07T01:42:06.829Z"
   },
   {
    "duration": 3,
    "start_time": "2022-06-07T01:42:06.866Z"
   },
   {
    "duration": 30,
    "start_time": "2022-06-07T01:42:06.871Z"
   },
   {
    "duration": 28,
    "start_time": "2022-06-07T01:42:06.904Z"
   },
   {
    "duration": 35,
    "start_time": "2022-06-07T01:42:06.933Z"
   },
   {
    "duration": 44,
    "start_time": "2022-06-07T01:42:06.970Z"
   },
   {
    "duration": 11,
    "start_time": "2022-06-07T01:42:07.017Z"
   },
   {
    "duration": 31,
    "start_time": "2022-06-07T01:42:07.030Z"
   },
   {
    "duration": 15,
    "start_time": "2022-06-07T01:42:07.063Z"
   },
   {
    "duration": 16,
    "start_time": "2022-06-07T01:42:07.080Z"
   },
   {
    "duration": 22,
    "start_time": "2022-06-07T01:42:07.097Z"
   },
   {
    "duration": 17,
    "start_time": "2022-06-07T01:42:07.121Z"
   },
   {
    "duration": 7,
    "start_time": "2022-06-07T01:42:07.139Z"
   },
   {
    "duration": 20,
    "start_time": "2022-06-07T01:42:07.148Z"
   },
   {
    "duration": 8,
    "start_time": "2022-06-07T01:42:07.169Z"
   },
   {
    "duration": 6,
    "start_time": "2022-06-07T01:42:07.178Z"
   },
   {
    "duration": 18,
    "start_time": "2022-06-07T01:42:07.194Z"
   },
   {
    "duration": 9,
    "start_time": "2022-06-07T01:42:07.217Z"
   },
   {
    "duration": 15,
    "start_time": "2022-06-07T01:42:07.227Z"
   },
   {
    "duration": 11,
    "start_time": "2022-06-07T01:42:07.244Z"
   },
   {
    "duration": 32,
    "start_time": "2022-06-07T01:42:07.257Z"
   },
   {
    "duration": 8,
    "start_time": "2022-06-07T01:42:07.293Z"
   },
   {
    "duration": 99,
    "start_time": "2022-06-07T01:42:07.303Z"
   },
   {
    "duration": 90,
    "start_time": "2022-06-07T01:42:07.405Z"
   },
   {
    "duration": 945,
    "start_time": "2022-06-07T01:42:07.497Z"
   },
   {
    "duration": 62,
    "start_time": "2022-06-07T01:42:08.444Z"
   },
   {
    "duration": 7,
    "start_time": "2022-06-07T01:42:08.509Z"
   },
   {
    "duration": 6,
    "start_time": "2022-06-07T01:42:08.518Z"
   },
   {
    "duration": 76,
    "start_time": "2022-06-07T01:42:08.526Z"
   },
   {
    "duration": 6,
    "start_time": "2022-06-07T01:42:08.604Z"
   },
   {
    "duration": 11,
    "start_time": "2022-06-07T01:42:08.613Z"
   },
   {
    "duration": 6,
    "start_time": "2022-06-07T01:42:08.626Z"
   },
   {
    "duration": 21,
    "start_time": "2022-06-07T01:42:08.633Z"
   },
   {
    "duration": 48,
    "start_time": "2022-06-07T01:42:08.657Z"
   },
   {
    "duration": 12,
    "start_time": "2022-06-07T01:42:08.707Z"
   },
   {
    "duration": 15,
    "start_time": "2022-06-07T01:42:08.721Z"
   },
   {
    "duration": 18,
    "start_time": "2022-06-07T01:42:08.737Z"
   },
   {
    "duration": 7,
    "start_time": "2022-06-07T01:42:08.756Z"
   },
   {
    "duration": 1084,
    "start_time": "2022-06-07T01:42:27.942Z"
   },
   {
    "duration": 52,
    "start_time": "2022-06-07T01:42:29.029Z"
   },
   {
    "duration": 25,
    "start_time": "2022-06-07T01:42:29.084Z"
   },
   {
    "duration": 45,
    "start_time": "2022-06-07T01:42:29.117Z"
   },
   {
    "duration": 4,
    "start_time": "2022-06-07T01:42:29.164Z"
   },
   {
    "duration": 21,
    "start_time": "2022-06-07T01:42:29.170Z"
   },
   {
    "duration": 5,
    "start_time": "2022-06-07T01:42:29.196Z"
   },
   {
    "duration": 49,
    "start_time": "2022-06-07T01:42:29.203Z"
   },
   {
    "duration": 30,
    "start_time": "2022-06-07T01:42:29.253Z"
   },
   {
    "duration": 7,
    "start_time": "2022-06-07T01:42:29.286Z"
   },
   {
    "duration": 61,
    "start_time": "2022-06-07T01:42:29.294Z"
   },
   {
    "duration": 4,
    "start_time": "2022-06-07T01:42:29.357Z"
   },
   {
    "duration": 7,
    "start_time": "2022-06-07T01:42:29.362Z"
   },
   {
    "duration": 17,
    "start_time": "2022-06-07T01:42:29.371Z"
   },
   {
    "duration": 50,
    "start_time": "2022-06-07T01:42:29.390Z"
   },
   {
    "duration": 27,
    "start_time": "2022-06-07T01:42:29.441Z"
   },
   {
    "duration": 26,
    "start_time": "2022-06-07T01:42:29.470Z"
   },
   {
    "duration": 41,
    "start_time": "2022-06-07T01:42:29.498Z"
   },
   {
    "duration": 12,
    "start_time": "2022-06-07T01:42:29.542Z"
   },
   {
    "duration": 5,
    "start_time": "2022-06-07T01:42:29.556Z"
   },
   {
    "duration": 5,
    "start_time": "2022-06-07T01:42:29.563Z"
   },
   {
    "duration": 17,
    "start_time": "2022-06-07T01:42:29.570Z"
   },
   {
    "duration": 11,
    "start_time": "2022-06-07T01:42:29.593Z"
   },
   {
    "duration": 55,
    "start_time": "2022-06-07T01:42:29.606Z"
   },
   {
    "duration": 9,
    "start_time": "2022-06-07T01:42:29.663Z"
   },
   {
    "duration": 9,
    "start_time": "2022-06-07T01:42:29.673Z"
   },
   {
    "duration": 8,
    "start_time": "2022-06-07T01:42:29.683Z"
   },
   {
    "duration": 32,
    "start_time": "2022-06-07T01:42:29.697Z"
   },
   {
    "duration": 8,
    "start_time": "2022-06-07T01:42:29.731Z"
   },
   {
    "duration": 9,
    "start_time": "2022-06-07T01:42:29.741Z"
   },
   {
    "duration": 35,
    "start_time": "2022-06-07T01:42:29.751Z"
   },
   {
    "duration": 9,
    "start_time": "2022-06-07T01:42:29.788Z"
   },
   {
    "duration": 129,
    "start_time": "2022-06-07T01:42:29.799Z"
   },
   {
    "duration": 63,
    "start_time": "2022-06-07T01:42:29.932Z"
   },
   {
    "duration": 1089,
    "start_time": "2022-06-07T01:42:29.997Z"
   },
   {
    "duration": 67,
    "start_time": "2022-06-07T01:42:31.088Z"
   },
   {
    "duration": 8,
    "start_time": "2022-06-07T01:42:31.157Z"
   },
   {
    "duration": 23,
    "start_time": "2022-06-07T01:42:31.167Z"
   },
   {
    "duration": 67,
    "start_time": "2022-06-07T01:42:31.193Z"
   },
   {
    "duration": 7,
    "start_time": "2022-06-07T01:42:31.262Z"
   },
   {
    "duration": 12,
    "start_time": "2022-06-07T01:42:31.272Z"
   },
   {
    "duration": 16,
    "start_time": "2022-06-07T01:42:31.295Z"
   },
   {
    "duration": 18,
    "start_time": "2022-06-07T01:42:31.316Z"
   },
   {
    "duration": 24,
    "start_time": "2022-06-07T01:42:31.336Z"
   },
   {
    "duration": 14,
    "start_time": "2022-06-07T01:42:31.362Z"
   },
   {
    "duration": 15,
    "start_time": "2022-06-07T01:42:31.380Z"
   },
   {
    "duration": 48,
    "start_time": "2022-06-07T01:42:31.397Z"
   },
   {
    "duration": 14,
    "start_time": "2022-06-07T01:42:31.447Z"
   },
   {
    "duration": 4,
    "start_time": "2022-06-07T01:46:37.284Z"
   },
   {
    "duration": 4,
    "start_time": "2022-06-07T01:49:59.096Z"
   },
   {
    "duration": 6,
    "start_time": "2022-06-07T01:52:29.945Z"
   },
   {
    "duration": 8,
    "start_time": "2022-06-07T01:53:03.156Z"
   },
   {
    "duration": 31,
    "start_time": "2022-06-07T01:54:15.936Z"
   },
   {
    "duration": 5,
    "start_time": "2022-06-07T01:55:30.924Z"
   },
   {
    "duration": 5,
    "start_time": "2022-06-07T01:56:09.785Z"
   },
   {
    "duration": 129,
    "start_time": "2022-06-07T02:13:05.943Z"
   },
   {
    "duration": 54,
    "start_time": "2022-06-07T02:13:21.178Z"
   },
   {
    "duration": 69206,
    "start_time": "2022-06-07T02:13:36.819Z"
   },
   {
    "duration": 25,
    "start_time": "2022-06-07T02:18:09.199Z"
   },
   {
    "duration": 65543,
    "start_time": "2022-06-07T02:18:38.514Z"
   },
   {
    "duration": 848,
    "start_time": "2022-06-07T02:28:36.031Z"
   },
   {
    "duration": 107,
    "start_time": "2022-06-07T02:43:13.957Z"
   },
   {
    "duration": 17,
    "start_time": "2022-06-07T02:46:20.879Z"
   },
   {
    "duration": 59,
    "start_time": "2022-06-07T02:48:01.756Z"
   },
   {
    "duration": 8,
    "start_time": "2022-06-07T02:49:03.306Z"
   },
   {
    "duration": 978,
    "start_time": "2022-06-07T18:25:04.195Z"
   },
   {
    "duration": 82,
    "start_time": "2022-06-07T18:25:05.174Z"
   },
   {
    "duration": 13,
    "start_time": "2022-06-07T18:25:05.257Z"
   },
   {
    "duration": 21,
    "start_time": "2022-06-07T18:25:05.273Z"
   },
   {
    "duration": 3,
    "start_time": "2022-06-07T18:25:05.296Z"
   },
   {
    "duration": 19,
    "start_time": "2022-06-07T18:25:05.300Z"
   },
   {
    "duration": 10,
    "start_time": "2022-06-07T18:25:05.321Z"
   },
   {
    "duration": 32,
    "start_time": "2022-06-07T18:25:05.333Z"
   },
   {
    "duration": 23,
    "start_time": "2022-06-07T18:25:05.367Z"
   },
   {
    "duration": 6,
    "start_time": "2022-06-07T18:25:05.393Z"
   },
   {
    "duration": 29,
    "start_time": "2022-06-07T18:25:05.400Z"
   },
   {
    "duration": 5,
    "start_time": "2022-06-07T18:25:05.431Z"
   },
   {
    "duration": 6,
    "start_time": "2022-06-07T18:25:05.464Z"
   },
   {
    "duration": 15,
    "start_time": "2022-06-07T18:25:05.471Z"
   },
   {
    "duration": 34,
    "start_time": "2022-06-07T18:25:05.488Z"
   },
   {
    "duration": 41,
    "start_time": "2022-06-07T18:25:05.524Z"
   },
   {
    "duration": 6,
    "start_time": "2022-06-07T18:25:05.567Z"
   },
   {
    "duration": 26,
    "start_time": "2022-06-07T18:25:05.574Z"
   },
   {
    "duration": 15,
    "start_time": "2022-06-07T18:25:05.602Z"
   },
   {
    "duration": 6,
    "start_time": "2022-06-07T18:25:05.619Z"
   },
   {
    "duration": 11,
    "start_time": "2022-06-07T18:25:05.626Z"
   },
   {
    "duration": 31,
    "start_time": "2022-06-07T18:25:05.639Z"
   },
   {
    "duration": 8,
    "start_time": "2022-06-07T18:25:05.671Z"
   },
   {
    "duration": 28,
    "start_time": "2022-06-07T18:25:05.680Z"
   },
   {
    "duration": 10,
    "start_time": "2022-06-07T18:25:05.710Z"
   },
   {
    "duration": 16,
    "start_time": "2022-06-07T18:25:05.722Z"
   },
   {
    "duration": 8,
    "start_time": "2022-06-07T18:25:05.739Z"
   },
   {
    "duration": 5,
    "start_time": "2022-06-07T18:25:05.764Z"
   },
   {
    "duration": 5,
    "start_time": "2022-06-07T18:25:05.771Z"
   },
   {
    "duration": 12,
    "start_time": "2022-06-07T18:25:05.778Z"
   },
   {
    "duration": 39,
    "start_time": "2022-06-07T18:25:05.791Z"
   },
   {
    "duration": 37,
    "start_time": "2022-06-07T18:25:05.831Z"
   },
   {
    "duration": 94,
    "start_time": "2022-06-07T18:25:05.871Z"
   },
   {
    "duration": 4,
    "start_time": "2022-06-07T18:25:05.967Z"
   },
   {
    "duration": 988,
    "start_time": "2022-06-07T18:25:05.973Z"
   },
   {
    "duration": 55,
    "start_time": "2022-06-07T18:25:06.964Z"
   },
   {
    "duration": 6,
    "start_time": "2022-06-07T18:25:07.021Z"
   },
   {
    "duration": 5,
    "start_time": "2022-06-07T18:25:07.028Z"
   },
   {
    "duration": 71,
    "start_time": "2022-06-07T18:25:07.035Z"
   },
   {
    "duration": 5,
    "start_time": "2022-06-07T18:25:07.108Z"
   },
   {
    "duration": 20,
    "start_time": "2022-06-07T18:25:07.114Z"
   },
   {
    "duration": 6,
    "start_time": "2022-06-07T18:25:07.136Z"
   },
   {
    "duration": 24,
    "start_time": "2022-06-07T18:25:07.144Z"
   },
   {
    "duration": 19,
    "start_time": "2022-06-07T18:25:07.170Z"
   },
   {
    "duration": 6,
    "start_time": "2022-06-07T18:25:07.191Z"
   },
   {
    "duration": 13,
    "start_time": "2022-06-07T18:25:07.199Z"
   },
   {
    "duration": 22,
    "start_time": "2022-06-07T18:25:07.213Z"
   },
   {
    "duration": 27,
    "start_time": "2022-06-07T18:25:07.237Z"
   },
   {
    "duration": 6,
    "start_time": "2022-06-07T18:25:07.267Z"
   },
   {
    "duration": 9,
    "start_time": "2022-06-07T18:25:07.275Z"
   },
   {
    "duration": 6,
    "start_time": "2022-06-07T18:25:07.285Z"
   },
   {
    "duration": 42,
    "start_time": "2022-06-07T18:25:07.304Z"
   },
   {
    "duration": 18,
    "start_time": "2022-06-07T18:25:07.348Z"
   },
   {
    "duration": 118,
    "start_time": "2022-06-07T18:25:07.368Z"
   },
   {
    "duration": 84,
    "start_time": "2022-06-07T18:25:07.488Z"
   },
   {
    "duration": 68171,
    "start_time": "2022-06-07T18:25:07.574Z"
   },
   {
    "duration": 61,
    "start_time": "2022-06-07T18:26:15.746Z"
   },
   {
    "duration": 895,
    "start_time": "2022-06-07T18:26:15.809Z"
   },
   {
    "duration": 7,
    "start_time": "2022-06-07T18:26:16.706Z"
   },
   {
    "duration": 123,
    "start_time": "2022-06-07T18:26:16.715Z"
   },
   {
    "duration": 5,
    "start_time": "2022-06-07T18:30:23.090Z"
   },
   {
    "duration": 16,
    "start_time": "2022-06-07T18:42:06.359Z"
   },
   {
    "duration": 5,
    "start_time": "2022-06-07T18:43:27.839Z"
   },
   {
    "duration": 6,
    "start_time": "2022-06-07T18:43:42.072Z"
   },
   {
    "duration": 6,
    "start_time": "2022-06-07T18:45:29.482Z"
   },
   {
    "duration": 19,
    "start_time": "2022-06-07T18:48:09.721Z"
   },
   {
    "duration": 111,
    "start_time": "2022-06-07T18:49:38.972Z"
   },
   {
    "duration": 28,
    "start_time": "2022-06-07T18:49:46.579Z"
   },
   {
    "duration": 1097,
    "start_time": "2022-06-08T23:47:28.017Z"
   },
   {
    "duration": 99,
    "start_time": "2022-06-08T23:47:29.116Z"
   },
   {
    "duration": 32,
    "start_time": "2022-06-08T23:47:29.216Z"
   },
   {
    "duration": 27,
    "start_time": "2022-06-08T23:47:29.255Z"
   },
   {
    "duration": 3,
    "start_time": "2022-06-08T23:47:29.284Z"
   },
   {
    "duration": 19,
    "start_time": "2022-06-08T23:47:29.289Z"
   },
   {
    "duration": 8,
    "start_time": "2022-06-08T23:47:29.310Z"
   },
   {
    "duration": 25,
    "start_time": "2022-06-08T23:47:29.320Z"
   },
   {
    "duration": 20,
    "start_time": "2022-06-08T23:47:29.347Z"
   },
   {
    "duration": 5,
    "start_time": "2022-06-08T23:47:29.370Z"
   },
   {
    "duration": 21,
    "start_time": "2022-06-08T23:47:29.376Z"
   },
   {
    "duration": 41,
    "start_time": "2022-06-08T23:47:29.399Z"
   },
   {
    "duration": 8,
    "start_time": "2022-06-08T23:47:29.443Z"
   },
   {
    "duration": 16,
    "start_time": "2022-06-08T23:47:29.452Z"
   },
   {
    "duration": 33,
    "start_time": "2022-06-08T23:47:29.470Z"
   },
   {
    "duration": 39,
    "start_time": "2022-06-08T23:47:29.504Z"
   },
   {
    "duration": 5,
    "start_time": "2022-06-08T23:47:29.545Z"
   },
   {
    "duration": 34,
    "start_time": "2022-06-08T23:47:29.551Z"
   },
   {
    "duration": 15,
    "start_time": "2022-06-08T23:47:29.586Z"
   },
   {
    "duration": 5,
    "start_time": "2022-06-08T23:47:29.602Z"
   },
   {
    "duration": 10,
    "start_time": "2022-06-08T23:47:29.608Z"
   },
   {
    "duration": 9,
    "start_time": "2022-06-08T23:47:29.620Z"
   },
   {
    "duration": 13,
    "start_time": "2022-06-08T23:47:29.642Z"
   },
   {
    "duration": 14,
    "start_time": "2022-06-08T23:47:29.657Z"
   },
   {
    "duration": 6,
    "start_time": "2022-06-08T23:47:29.673Z"
   },
   {
    "duration": 21,
    "start_time": "2022-06-08T23:47:29.680Z"
   },
   {
    "duration": 8,
    "start_time": "2022-06-08T23:47:29.703Z"
   },
   {
    "duration": 14,
    "start_time": "2022-06-08T23:47:29.716Z"
   },
   {
    "duration": 17,
    "start_time": "2022-06-08T23:47:29.733Z"
   },
   {
    "duration": 11,
    "start_time": "2022-06-08T23:47:29.752Z"
   },
   {
    "duration": 9,
    "start_time": "2022-06-08T23:47:29.764Z"
   },
   {
    "duration": 31,
    "start_time": "2022-06-08T23:47:29.775Z"
   },
   {
    "duration": 29,
    "start_time": "2022-06-08T23:47:29.808Z"
   },
   {
    "duration": 114,
    "start_time": "2022-06-08T23:47:29.839Z"
   },
   {
    "duration": 3,
    "start_time": "2022-06-08T23:47:29.955Z"
   },
   {
    "duration": 885,
    "start_time": "2022-06-08T23:47:29.960Z"
   },
   {
    "duration": 28,
    "start_time": "2022-06-08T23:47:30.847Z"
   },
   {
    "duration": 5,
    "start_time": "2022-06-08T23:47:30.876Z"
   },
   {
    "duration": 10,
    "start_time": "2022-06-08T23:47:30.883Z"
   },
   {
    "duration": 68,
    "start_time": "2022-06-08T23:47:30.894Z"
   },
   {
    "duration": 4,
    "start_time": "2022-06-08T23:47:30.964Z"
   },
   {
    "duration": 10,
    "start_time": "2022-06-08T23:47:30.969Z"
   },
   {
    "duration": 6,
    "start_time": "2022-06-08T23:47:30.980Z"
   },
   {
    "duration": 23,
    "start_time": "2022-06-08T23:47:30.987Z"
   },
   {
    "duration": 32,
    "start_time": "2022-06-08T23:47:31.012Z"
   },
   {
    "duration": 12,
    "start_time": "2022-06-08T23:47:31.046Z"
   },
   {
    "duration": 12,
    "start_time": "2022-06-08T23:47:31.060Z"
   },
   {
    "duration": 18,
    "start_time": "2022-06-08T23:47:31.074Z"
   },
   {
    "duration": 11,
    "start_time": "2022-06-08T23:47:31.094Z"
   },
   {
    "duration": 13,
    "start_time": "2022-06-08T23:47:31.107Z"
   },
   {
    "duration": 48,
    "start_time": "2022-06-08T23:47:31.127Z"
   },
   {
    "duration": 7,
    "start_time": "2022-06-08T23:47:31.176Z"
   },
   {
    "duration": 164,
    "start_time": "2022-06-08T23:47:31.185Z"
   },
   {
    "duration": 12,
    "start_time": "2022-06-08T23:47:31.351Z"
   },
   {
    "duration": 63930,
    "start_time": "2022-06-08T23:47:31.366Z"
   },
   {
    "duration": 99,
    "start_time": "2022-06-08T23:48:35.297Z"
   },
   {
    "duration": 0,
    "start_time": "2022-06-08T23:48:35.398Z"
   },
   {
    "duration": 0,
    "start_time": "2022-06-08T23:48:35.399Z"
   },
   {
    "duration": 0,
    "start_time": "2022-06-08T23:48:35.400Z"
   },
   {
    "duration": 9,
    "start_time": "2022-06-08T23:56:21.496Z"
   },
   {
    "duration": 10,
    "start_time": "2022-06-08T23:56:24.700Z"
   },
   {
    "duration": 12,
    "start_time": "2022-06-08T23:56:44.328Z"
   },
   {
    "duration": 239,
    "start_time": "2022-06-08T23:56:56.428Z"
   },
   {
    "duration": 15,
    "start_time": "2022-06-08T23:59:36.407Z"
   },
   {
    "duration": 207,
    "start_time": "2022-06-09T00:00:08.100Z"
   },
   {
    "duration": 165,
    "start_time": "2022-06-09T00:01:56.345Z"
   },
   {
    "duration": 29,
    "start_time": "2022-06-09T00:02:06.403Z"
   },
   {
    "duration": 990,
    "start_time": "2022-06-09T00:02:49.793Z"
   },
   {
    "duration": 44,
    "start_time": "2022-06-09T00:02:52.463Z"
   },
   {
    "duration": 15,
    "start_time": "2022-06-09T00:02:56.952Z"
   },
   {
    "duration": 19,
    "start_time": "2022-06-09T00:02:59.757Z"
   },
   {
    "duration": 3,
    "start_time": "2022-06-09T00:03:03.395Z"
   },
   {
    "duration": 16,
    "start_time": "2022-06-09T00:03:05.645Z"
   },
   {
    "duration": 5,
    "start_time": "2022-06-09T00:03:10.348Z"
   },
   {
    "duration": 16,
    "start_time": "2022-06-09T00:03:12.987Z"
   },
   {
    "duration": 23,
    "start_time": "2022-06-09T00:03:18.284Z"
   },
   {
    "duration": 6,
    "start_time": "2022-06-09T00:03:21.045Z"
   },
   {
    "duration": 23,
    "start_time": "2022-06-09T00:03:23.789Z"
   },
   {
    "duration": 4,
    "start_time": "2022-06-09T00:03:31.011Z"
   },
   {
    "duration": 5,
    "start_time": "2022-06-09T00:03:33.051Z"
   },
   {
    "duration": 10,
    "start_time": "2022-06-09T00:03:38.296Z"
   },
   {
    "duration": 165,
    "start_time": "2022-06-09T00:03:59.259Z"
   },
   {
    "duration": 19,
    "start_time": "2022-06-09T00:04:02.463Z"
   },
   {
    "duration": 7,
    "start_time": "2022-06-09T00:05:14.786Z"
   },
   {
    "duration": 6,
    "start_time": "2022-06-09T00:05:47.144Z"
   },
   {
    "duration": 11,
    "start_time": "2022-06-09T00:08:33.368Z"
   },
   {
    "duration": 23,
    "start_time": "2022-06-09T00:08:41.624Z"
   },
   {
    "duration": 1021,
    "start_time": "2022-06-09T00:09:11.263Z"
   },
   {
    "duration": 49,
    "start_time": "2022-06-09T00:09:12.286Z"
   },
   {
    "duration": 22,
    "start_time": "2022-06-09T00:09:14.417Z"
   },
   {
    "duration": 24,
    "start_time": "2022-06-09T00:09:15.032Z"
   },
   {
    "duration": 5,
    "start_time": "2022-06-09T00:09:17.513Z"
   },
   {
    "duration": 16,
    "start_time": "2022-06-09T00:09:18.082Z"
   },
   {
    "duration": 4,
    "start_time": "2022-06-09T00:09:19.167Z"
   },
   {
    "duration": 15,
    "start_time": "2022-06-09T00:09:20.161Z"
   },
   {
    "duration": 31,
    "start_time": "2022-06-09T00:09:25.945Z"
   },
   {
    "duration": 6,
    "start_time": "2022-06-09T00:09:26.162Z"
   },
   {
    "duration": 28,
    "start_time": "2022-06-09T00:09:26.407Z"
   },
   {
    "duration": 4,
    "start_time": "2022-06-09T00:09:30.070Z"
   },
   {
    "duration": 6,
    "start_time": "2022-06-09T00:09:31.185Z"
   },
   {
    "duration": 18,
    "start_time": "2022-06-09T00:09:33.094Z"
   },
   {
    "duration": 193,
    "start_time": "2022-06-09T00:09:40.144Z"
   },
   {
    "duration": 30,
    "start_time": "2022-06-09T00:09:43.269Z"
   },
   {
    "duration": 67,
    "start_time": "2022-06-09T00:11:02.741Z"
   },
   {
    "duration": 19,
    "start_time": "2022-06-09T00:11:05.852Z"
   },
   {
    "duration": 202,
    "start_time": "2022-06-09T00:12:10.144Z"
   },
   {
    "duration": 43,
    "start_time": "2022-06-09T00:12:15.254Z"
   },
   {
    "duration": 43,
    "start_time": "2022-06-09T00:12:28.249Z"
   },
   {
    "duration": 18,
    "start_time": "2022-06-09T00:12:29.985Z"
   },
   {
    "duration": 20,
    "start_time": "2022-06-09T00:18:37.401Z"
   },
   {
    "duration": 140,
    "start_time": "2022-06-09T00:18:40.447Z"
   },
   {
    "duration": 8,
    "start_time": "2022-06-09T00:18:46.457Z"
   },
   {
    "duration": 95,
    "start_time": "2022-06-09T00:18:53.846Z"
   },
   {
    "duration": 57,
    "start_time": "2022-06-09T00:18:57.302Z"
   },
   {
    "duration": 3,
    "start_time": "2022-06-09T00:19:01.948Z"
   },
   {
    "duration": 19,
    "start_time": "2022-06-09T00:19:05.520Z"
   },
   {
    "duration": 22,
    "start_time": "2022-06-09T00:19:10.686Z"
   },
   {
    "duration": 22,
    "start_time": "2022-06-09T00:19:15.181Z"
   },
   {
    "duration": 48,
    "start_time": "2022-06-09T00:19:33.850Z"
   },
   {
    "duration": 20,
    "start_time": "2022-06-09T00:19:38.363Z"
   },
   {
    "duration": 4,
    "start_time": "2022-06-09T00:19:43.218Z"
   },
   {
    "duration": 5,
    "start_time": "2022-06-09T00:20:13.548Z"
   },
   {
    "duration": 11,
    "start_time": "2022-06-09T00:20:40.922Z"
   },
   {
    "duration": 3,
    "start_time": "2022-06-09T00:20:51.721Z"
   },
   {
    "duration": 405,
    "start_time": "2022-06-09T00:20:55.061Z"
   },
   {
    "duration": 49,
    "start_time": "2022-06-09T00:20:57.782Z"
   },
   {
    "duration": 6,
    "start_time": "2022-06-09T00:20:59.984Z"
   },
   {
    "duration": 2,
    "start_time": "2022-06-09T00:21:05.698Z"
   },
   {
    "duration": 7297,
    "start_time": "2022-06-09T00:21:08.186Z"
   },
   {
    "duration": 101,
    "start_time": "2022-06-09T00:21:18.182Z"
   },
   {
    "duration": 7,
    "start_time": "2022-06-09T00:21:34.642Z"
   },
   {
    "duration": 91,
    "start_time": "2022-06-09T00:21:45.857Z"
   },
   {
    "duration": 9,
    "start_time": "2022-06-09T00:21:51.137Z"
   },
   {
    "duration": 3,
    "start_time": "2022-06-09T00:21:55.361Z"
   },
   {
    "duration": 916,
    "start_time": "2022-06-09T00:21:57.882Z"
   },
   {
    "duration": 43,
    "start_time": "2022-06-09T00:22:01.602Z"
   },
   {
    "duration": 6,
    "start_time": "2022-06-09T00:22:05.343Z"
   },
   {
    "duration": 5,
    "start_time": "2022-06-09T00:23:04.764Z"
   },
   {
    "duration": 115,
    "start_time": "2022-06-09T00:23:10.744Z"
   },
   {
    "duration": 25,
    "start_time": "2022-06-09T00:23:44.757Z"
   },
   {
    "duration": 4,
    "start_time": "2022-06-09T00:23:50.544Z"
   },
   {
    "duration": 95,
    "start_time": "2022-06-09T00:23:53.381Z"
   },
   {
    "duration": 26,
    "start_time": "2022-06-09T00:23:55.516Z"
   },
   {
    "duration": 43,
    "start_time": "2022-06-09T00:24:15.620Z"
   },
   {
    "duration": 82,
    "start_time": "2022-06-09T00:24:36.850Z"
   },
   {
    "duration": 1230,
    "start_time": "2022-06-09T00:24:47.820Z"
   },
   {
    "duration": 54,
    "start_time": "2022-06-09T00:24:49.052Z"
   },
   {
    "duration": 24,
    "start_time": "2022-06-09T00:24:49.108Z"
   },
   {
    "duration": 27,
    "start_time": "2022-06-09T00:24:49.135Z"
   },
   {
    "duration": 5,
    "start_time": "2022-06-09T00:24:49.165Z"
   },
   {
    "duration": 37,
    "start_time": "2022-06-09T00:24:49.173Z"
   },
   {
    "duration": 20,
    "start_time": "2022-06-09T00:24:49.213Z"
   },
   {
    "duration": 39,
    "start_time": "2022-06-09T00:24:49.235Z"
   },
   {
    "duration": 39,
    "start_time": "2022-06-09T00:24:49.276Z"
   },
   {
    "duration": 6,
    "start_time": "2022-06-09T00:24:49.318Z"
   },
   {
    "duration": 30,
    "start_time": "2022-06-09T00:24:49.327Z"
   },
   {
    "duration": 5,
    "start_time": "2022-06-09T00:24:49.359Z"
   },
   {
    "duration": 9,
    "start_time": "2022-06-09T00:24:49.365Z"
   },
   {
    "duration": 15,
    "start_time": "2022-06-09T00:24:49.375Z"
   },
   {
    "duration": 216,
    "start_time": "2022-06-09T00:24:49.392Z"
   },
   {
    "duration": 49,
    "start_time": "2022-06-09T00:24:49.610Z"
   },
   {
    "duration": 74,
    "start_time": "2022-06-09T00:24:49.662Z"
   },
   {
    "duration": 30,
    "start_time": "2022-06-09T00:24:49.738Z"
   },
   {
    "duration": 205,
    "start_time": "2022-06-09T00:24:49.770Z"
   },
   {
    "duration": 5,
    "start_time": "2022-06-09T00:24:49.977Z"
   },
   {
    "duration": 89,
    "start_time": "2022-06-09T00:24:49.983Z"
   },
   {
    "duration": 59,
    "start_time": "2022-06-09T00:24:50.073Z"
   },
   {
    "duration": 4,
    "start_time": "2022-06-09T00:24:50.137Z"
   },
   {
    "duration": 43,
    "start_time": "2022-06-09T00:24:50.143Z"
   },
   {
    "duration": 23,
    "start_time": "2022-06-09T00:24:50.188Z"
   },
   {
    "duration": 30,
    "start_time": "2022-06-09T00:24:50.214Z"
   },
   {
    "duration": 62,
    "start_time": "2022-06-09T00:24:50.246Z"
   },
   {
    "duration": 28,
    "start_time": "2022-06-09T00:24:50.311Z"
   },
   {
    "duration": 7,
    "start_time": "2022-06-09T00:24:50.341Z"
   },
   {
    "duration": 14,
    "start_time": "2022-06-09T00:24:50.350Z"
   },
   {
    "duration": 9,
    "start_time": "2022-06-09T00:24:50.366Z"
   },
   {
    "duration": 387,
    "start_time": "2022-06-09T00:24:50.377Z"
   },
   {
    "duration": 76,
    "start_time": "2022-06-09T00:24:50.766Z"
   },
   {
    "duration": 92,
    "start_time": "2022-06-09T00:24:50.843Z"
   },
   {
    "duration": 13,
    "start_time": "2022-06-09T00:24:50.940Z"
   },
   {
    "duration": 6982,
    "start_time": "2022-06-09T00:24:50.955Z"
   },
   {
    "duration": 118,
    "start_time": "2022-06-09T00:24:57.939Z"
   },
   {
    "duration": 6,
    "start_time": "2022-06-09T00:24:58.060Z"
   },
   {
    "duration": 7,
    "start_time": "2022-06-09T00:24:58.068Z"
   },
   {
    "duration": 999,
    "start_time": "2022-06-09T00:24:58.077Z"
   },
   {
    "duration": 54,
    "start_time": "2022-06-09T00:24:59.078Z"
   },
   {
    "duration": 5,
    "start_time": "2022-06-09T00:24:59.146Z"
   },
   {
    "duration": 5,
    "start_time": "2022-06-09T00:24:59.152Z"
   },
   {
    "duration": 86,
    "start_time": "2022-06-09T00:24:59.159Z"
   },
   {
    "duration": 24,
    "start_time": "2022-06-09T00:24:59.247Z"
   },
   {
    "duration": 4,
    "start_time": "2022-06-09T00:24:59.273Z"
   },
   {
    "duration": 79,
    "start_time": "2022-06-09T00:24:59.279Z"
   },
   {
    "duration": 20,
    "start_time": "2022-06-09T00:24:59.360Z"
   },
   {
    "duration": 55,
    "start_time": "2022-06-09T00:24:59.382Z"
   },
   {
    "duration": 3,
    "start_time": "2022-06-09T00:24:59.447Z"
   },
   {
    "duration": 362,
    "start_time": "2022-06-09T00:24:59.452Z"
   },
   {
    "duration": 55,
    "start_time": "2022-06-09T00:24:59.819Z"
   },
   {
    "duration": 55,
    "start_time": "2022-06-09T00:24:59.876Z"
   },
   {
    "duration": 202,
    "start_time": "2022-06-09T00:24:59.933Z"
   },
   {
    "duration": 93481,
    "start_time": "2022-06-09T00:25:00.140Z"
   },
   {
    "duration": 121,
    "start_time": "2022-06-09T00:26:33.623Z"
   },
   {
    "duration": 0,
    "start_time": "2022-06-09T00:26:33.746Z"
   },
   {
    "duration": 0,
    "start_time": "2022-06-09T00:26:33.747Z"
   },
   {
    "duration": 0,
    "start_time": "2022-06-09T00:26:33.748Z"
   },
   {
    "duration": 5058,
    "start_time": "2022-06-09T00:29:22.720Z"
   },
   {
    "duration": 9,
    "start_time": "2022-06-09T00:29:30.898Z"
   },
   {
    "duration": 8,
    "start_time": "2022-06-09T00:29:40.450Z"
   },
   {
    "duration": 991,
    "start_time": "2022-06-09T00:33:38.792Z"
   },
   {
    "duration": 41,
    "start_time": "2022-06-09T00:33:39.784Z"
   },
   {
    "duration": 24,
    "start_time": "2022-06-09T00:33:39.827Z"
   },
   {
    "duration": 18,
    "start_time": "2022-06-09T00:33:39.852Z"
   },
   {
    "duration": 2,
    "start_time": "2022-06-09T00:33:39.872Z"
   },
   {
    "duration": 17,
    "start_time": "2022-06-09T00:33:39.876Z"
   },
   {
    "duration": 3,
    "start_time": "2022-06-09T00:33:39.895Z"
   },
   {
    "duration": 34,
    "start_time": "2022-06-09T00:33:39.899Z"
   },
   {
    "duration": 20,
    "start_time": "2022-06-09T00:33:39.935Z"
   },
   {
    "duration": 5,
    "start_time": "2022-06-09T00:33:39.958Z"
   },
   {
    "duration": 17,
    "start_time": "2022-06-09T00:33:39.964Z"
   },
   {
    "duration": 3,
    "start_time": "2022-06-09T00:33:39.982Z"
   },
   {
    "duration": 8,
    "start_time": "2022-06-09T00:33:39.986Z"
   },
   {
    "duration": 44,
    "start_time": "2022-06-09T00:33:39.995Z"
   },
   {
    "duration": 184,
    "start_time": "2022-06-09T00:33:40.041Z"
   },
   {
    "duration": 33,
    "start_time": "2022-06-09T00:33:40.227Z"
   },
   {
    "duration": 76,
    "start_time": "2022-06-09T00:33:40.262Z"
   },
   {
    "duration": 17,
    "start_time": "2022-06-09T00:33:40.340Z"
   },
   {
    "duration": 139,
    "start_time": "2022-06-09T00:33:40.359Z"
   },
   {
    "duration": 5,
    "start_time": "2022-06-09T00:33:40.500Z"
   },
   {
    "duration": 70,
    "start_time": "2022-06-09T00:33:40.506Z"
   },
   {
    "duration": 65,
    "start_time": "2022-06-09T00:33:40.577Z"
   },
   {
    "duration": 3,
    "start_time": "2022-06-09T00:33:40.643Z"
   },
   {
    "duration": 9,
    "start_time": "2022-06-09T00:33:40.648Z"
   },
   {
    "duration": 14,
    "start_time": "2022-06-09T00:33:40.659Z"
   },
   {
    "duration": 18,
    "start_time": "2022-06-09T00:33:40.675Z"
   },
   {
    "duration": 66,
    "start_time": "2022-06-09T00:33:40.694Z"
   },
   {
    "duration": 13,
    "start_time": "2022-06-09T00:33:40.764Z"
   },
   {
    "duration": 3,
    "start_time": "2022-06-09T00:33:40.778Z"
   },
   {
    "duration": 9,
    "start_time": "2022-06-09T00:33:40.783Z"
   },
   {
    "duration": 5,
    "start_time": "2022-06-09T00:33:40.794Z"
   },
   {
    "duration": 393,
    "start_time": "2022-06-09T00:33:40.800Z"
   },
   {
    "duration": 53,
    "start_time": "2022-06-09T00:33:41.195Z"
   },
   {
    "duration": 82,
    "start_time": "2022-06-09T00:33:41.251Z"
   },
   {
    "duration": 98,
    "start_time": "2022-06-09T00:33:41.335Z"
   },
   {
    "duration": 6477,
    "start_time": "2022-06-09T00:33:41.435Z"
   },
   {
    "duration": 100,
    "start_time": "2022-06-09T00:33:47.914Z"
   },
   {
    "duration": 5,
    "start_time": "2022-06-09T00:33:48.015Z"
   },
   {
    "duration": 7,
    "start_time": "2022-06-09T00:33:48.022Z"
   },
   {
    "duration": 788,
    "start_time": "2022-06-09T00:33:48.042Z"
   },
   {
    "duration": 41,
    "start_time": "2022-06-09T00:33:48.842Z"
   },
   {
    "duration": 5,
    "start_time": "2022-06-09T00:33:48.885Z"
   },
   {
    "duration": 5,
    "start_time": "2022-06-09T00:33:48.891Z"
   },
   {
    "duration": 83,
    "start_time": "2022-06-09T00:33:48.897Z"
   },
   {
    "duration": 22,
    "start_time": "2022-06-09T00:33:48.981Z"
   },
   {
    "duration": 2,
    "start_time": "2022-06-09T00:33:49.005Z"
   },
   {
    "duration": 276,
    "start_time": "2022-06-09T00:33:49.009Z"
   },
   {
    "duration": 5,
    "start_time": "2022-06-09T00:33:49.287Z"
   },
   {
    "duration": 67,
    "start_time": "2022-06-09T00:33:49.293Z"
   },
   {
    "duration": 20,
    "start_time": "2022-06-09T00:33:49.361Z"
   },
   {
    "duration": 24,
    "start_time": "2022-06-09T00:33:49.382Z"
   },
   {
    "duration": 30,
    "start_time": "2022-06-09T00:33:49.408Z"
   },
   {
    "duration": 319,
    "start_time": "2022-06-09T00:33:49.440Z"
   },
   {
    "duration": 79,
    "start_time": "2022-06-09T00:33:49.760Z"
   },
   {
    "duration": 88,
    "start_time": "2022-06-09T00:33:49.841Z"
   },
   {
    "duration": 103,
    "start_time": "2022-06-09T00:33:49.931Z"
   },
   {
    "duration": 88715,
    "start_time": "2022-06-09T00:33:50.041Z"
   },
   {
    "duration": 96,
    "start_time": "2022-06-09T00:35:18.757Z"
   },
   {
    "duration": 0,
    "start_time": "2022-06-09T00:35:18.854Z"
   },
   {
    "duration": 0,
    "start_time": "2022-06-09T00:35:18.855Z"
   },
   {
    "duration": 0,
    "start_time": "2022-06-09T00:35:18.856Z"
   },
   {
    "duration": 29,
    "start_time": "2022-06-09T00:38:40.280Z"
   },
   {
    "duration": 21,
    "start_time": "2022-06-09T00:38:54.401Z"
   },
   {
    "duration": 29,
    "start_time": "2022-06-09T00:39:42.419Z"
   },
   {
    "duration": 19,
    "start_time": "2022-06-09T00:39:59.077Z"
   },
   {
    "duration": 51,
    "start_time": "2022-06-09T00:42:25.965Z"
   },
   {
    "duration": 26,
    "start_time": "2022-06-09T00:42:40.105Z"
   },
   {
    "duration": 223,
    "start_time": "2022-06-09T00:43:00.314Z"
   },
   {
    "duration": 79,
    "start_time": "2022-06-09T00:43:20.159Z"
   },
   {
    "duration": 19,
    "start_time": "2022-06-09T00:43:26.954Z"
   },
   {
    "duration": 969,
    "start_time": "2022-06-09T00:44:56.781Z"
   },
   {
    "duration": 43,
    "start_time": "2022-06-09T00:44:57.752Z"
   },
   {
    "duration": 14,
    "start_time": "2022-06-09T00:44:57.796Z"
   },
   {
    "duration": 20,
    "start_time": "2022-06-09T00:44:57.811Z"
   },
   {
    "duration": 3,
    "start_time": "2022-06-09T00:44:57.833Z"
   },
   {
    "duration": 17,
    "start_time": "2022-06-09T00:44:57.837Z"
   },
   {
    "duration": 3,
    "start_time": "2022-06-09T00:44:57.856Z"
   },
   {
    "duration": 14,
    "start_time": "2022-06-09T00:44:57.861Z"
   },
   {
    "duration": 19,
    "start_time": "2022-06-09T00:44:57.876Z"
   },
   {
    "duration": 5,
    "start_time": "2022-06-09T00:44:57.897Z"
   },
   {
    "duration": 18,
    "start_time": "2022-06-09T00:44:57.927Z"
   },
   {
    "duration": 3,
    "start_time": "2022-06-09T00:44:57.946Z"
   },
   {
    "duration": 8,
    "start_time": "2022-06-09T00:44:57.950Z"
   },
   {
    "duration": 14,
    "start_time": "2022-06-09T00:44:57.959Z"
   },
   {
    "duration": 206,
    "start_time": "2022-06-09T00:44:57.974Z"
   },
   {
    "duration": 27,
    "start_time": "2022-06-09T00:44:58.183Z"
   },
   {
    "duration": 81,
    "start_time": "2022-06-09T00:44:58.212Z"
   },
   {
    "duration": 18,
    "start_time": "2022-06-09T00:44:58.295Z"
   },
   {
    "duration": 149,
    "start_time": "2022-06-09T00:44:58.327Z"
   },
   {
    "duration": 6,
    "start_time": "2022-06-09T00:44:58.478Z"
   },
   {
    "duration": 83,
    "start_time": "2022-06-09T00:44:58.486Z"
   },
   {
    "duration": 57,
    "start_time": "2022-06-09T00:44:58.570Z"
   },
   {
    "duration": 5,
    "start_time": "2022-06-09T00:44:58.629Z"
   },
   {
    "duration": 14,
    "start_time": "2022-06-09T00:44:58.635Z"
   },
   {
    "duration": 17,
    "start_time": "2022-06-09T00:44:58.651Z"
   },
   {
    "duration": 22,
    "start_time": "2022-06-09T00:44:58.670Z"
   },
   {
    "duration": 74,
    "start_time": "2022-06-09T00:44:58.694Z"
   },
   {
    "duration": 16,
    "start_time": "2022-06-09T00:44:58.775Z"
   },
   {
    "duration": 5,
    "start_time": "2022-06-09T00:44:58.793Z"
   },
   {
    "duration": 32,
    "start_time": "2022-06-09T00:44:58.799Z"
   },
   {
    "duration": 24,
    "start_time": "2022-06-09T00:44:58.833Z"
   },
   {
    "duration": 439,
    "start_time": "2022-06-09T00:44:58.859Z"
   },
   {
    "duration": 55,
    "start_time": "2022-06-09T00:44:59.300Z"
   },
   {
    "duration": 9,
    "start_time": "2022-06-09T00:44:59.429Z"
   },
   {
    "duration": 6,
    "start_time": "2022-06-09T00:44:59.527Z"
   },
   {
    "duration": 6529,
    "start_time": "2022-06-09T00:44:59.534Z"
   },
   {
    "duration": 102,
    "start_time": "2022-06-09T00:45:06.065Z"
   },
   {
    "duration": 6,
    "start_time": "2022-06-09T00:45:06.169Z"
   },
   {
    "duration": 3,
    "start_time": "2022-06-09T00:45:06.176Z"
   },
   {
    "duration": 849,
    "start_time": "2022-06-09T00:45:06.181Z"
   },
   {
    "duration": 41,
    "start_time": "2022-06-09T00:45:07.032Z"
   },
   {
    "duration": 5,
    "start_time": "2022-06-09T00:45:07.074Z"
   },
   {
    "duration": 5,
    "start_time": "2022-06-09T00:45:07.080Z"
   },
   {
    "duration": 93,
    "start_time": "2022-06-09T00:45:07.086Z"
   },
   {
    "duration": 20,
    "start_time": "2022-06-09T00:45:07.181Z"
   },
   {
    "duration": 35,
    "start_time": "2022-06-09T00:45:07.203Z"
   },
   {
    "duration": 2,
    "start_time": "2022-06-09T00:45:07.240Z"
   },
   {
    "duration": 249,
    "start_time": "2022-06-09T00:45:07.244Z"
   },
   {
    "duration": 3,
    "start_time": "2022-06-09T00:45:07.495Z"
   },
   {
    "duration": 105,
    "start_time": "2022-06-09T00:45:07.499Z"
   },
   {
    "duration": 20,
    "start_time": "2022-06-09T00:45:07.605Z"
   },
   {
    "duration": 31,
    "start_time": "2022-06-09T00:45:07.627Z"
   },
   {
    "duration": 3,
    "start_time": "2022-06-09T00:45:07.659Z"
   },
   {
    "duration": 405,
    "start_time": "2022-06-09T00:45:07.663Z"
   },
   {
    "duration": 60,
    "start_time": "2022-06-09T00:45:08.069Z"
   },
   {
    "duration": 96,
    "start_time": "2022-06-09T00:45:08.130Z"
   },
   {
    "duration": 100,
    "start_time": "2022-06-09T00:45:08.229Z"
   },
   {
    "duration": 1029,
    "start_time": "2022-06-09T00:45:49.698Z"
   },
   {
    "duration": 42,
    "start_time": "2022-06-09T00:45:50.728Z"
   },
   {
    "duration": 13,
    "start_time": "2022-06-09T00:45:50.772Z"
   },
   {
    "duration": 17,
    "start_time": "2022-06-09T00:45:50.787Z"
   },
   {
    "duration": 2,
    "start_time": "2022-06-09T00:45:50.806Z"
   },
   {
    "duration": 18,
    "start_time": "2022-06-09T00:45:50.810Z"
   },
   {
    "duration": 4,
    "start_time": "2022-06-09T00:45:50.829Z"
   },
   {
    "duration": 14,
    "start_time": "2022-06-09T00:45:50.834Z"
   },
   {
    "duration": 19,
    "start_time": "2022-06-09T00:45:50.849Z"
   },
   {
    "duration": 5,
    "start_time": "2022-06-09T00:45:50.870Z"
   },
   {
    "duration": 18,
    "start_time": "2022-06-09T00:45:50.876Z"
   },
   {
    "duration": 3,
    "start_time": "2022-06-09T00:45:50.895Z"
   },
   {
    "duration": 31,
    "start_time": "2022-06-09T00:45:50.899Z"
   },
   {
    "duration": 10,
    "start_time": "2022-06-09T00:45:50.932Z"
   },
   {
    "duration": 197,
    "start_time": "2022-06-09T00:45:50.944Z"
   },
   {
    "duration": 23,
    "start_time": "2022-06-09T00:45:51.143Z"
   },
   {
    "duration": 78,
    "start_time": "2022-06-09T00:45:51.167Z"
   },
   {
    "duration": 17,
    "start_time": "2022-06-09T00:45:51.247Z"
   },
   {
    "duration": 132,
    "start_time": "2022-06-09T00:45:51.265Z"
   },
   {
    "duration": 5,
    "start_time": "2022-06-09T00:45:51.398Z"
   },
   {
    "duration": 66,
    "start_time": "2022-06-09T00:45:51.404Z"
   },
   {
    "duration": 47,
    "start_time": "2022-06-09T00:45:51.471Z"
   },
   {
    "duration": 3,
    "start_time": "2022-06-09T00:45:51.526Z"
   },
   {
    "duration": 13,
    "start_time": "2022-06-09T00:45:51.530Z"
   },
   {
    "duration": 16,
    "start_time": "2022-06-09T00:45:51.544Z"
   },
   {
    "duration": 26,
    "start_time": "2022-06-09T00:45:51.562Z"
   },
   {
    "duration": 65,
    "start_time": "2022-06-09T00:45:51.590Z"
   },
   {
    "duration": 12,
    "start_time": "2022-06-09T00:45:51.658Z"
   },
   {
    "duration": 4,
    "start_time": "2022-06-09T00:45:51.671Z"
   },
   {
    "duration": 10,
    "start_time": "2022-06-09T00:45:51.676Z"
   },
   {
    "duration": 4,
    "start_time": "2022-06-09T00:45:51.687Z"
   },
   {
    "duration": 379,
    "start_time": "2022-06-09T00:45:51.692Z"
   },
   {
    "duration": 55,
    "start_time": "2022-06-09T00:45:52.073Z"
   },
   {
    "duration": 97,
    "start_time": "2022-06-09T00:45:52.130Z"
   },
   {
    "duration": 11,
    "start_time": "2022-06-09T00:45:52.229Z"
   },
   {
    "duration": 6156,
    "start_time": "2022-06-09T00:45:52.242Z"
   },
   {
    "duration": 94,
    "start_time": "2022-06-09T00:45:58.400Z"
   },
   {
    "duration": 6,
    "start_time": "2022-06-09T00:45:58.495Z"
   },
   {
    "duration": 2,
    "start_time": "2022-06-09T00:45:58.503Z"
   },
   {
    "duration": 764,
    "start_time": "2022-06-09T00:45:58.507Z"
   },
   {
    "duration": 43,
    "start_time": "2022-06-09T00:45:59.273Z"
   },
   {
    "duration": 11,
    "start_time": "2022-06-09T00:45:59.318Z"
   },
   {
    "duration": 5,
    "start_time": "2022-06-09T00:45:59.331Z"
   },
   {
    "duration": 64,
    "start_time": "2022-06-09T00:45:59.338Z"
   },
   {
    "duration": 33,
    "start_time": "2022-06-09T00:45:59.403Z"
   },
   {
    "duration": 18,
    "start_time": "2022-06-09T00:45:59.437Z"
   },
   {
    "duration": 3,
    "start_time": "2022-06-09T00:45:59.456Z"
   },
   {
    "duration": 182,
    "start_time": "2022-06-09T00:45:59.461Z"
   },
   {
    "duration": 4,
    "start_time": "2022-06-09T00:45:59.644Z"
   },
   {
    "duration": 86,
    "start_time": "2022-06-09T00:45:59.649Z"
   },
   {
    "duration": 18,
    "start_time": "2022-06-09T00:45:59.736Z"
   },
   {
    "duration": 32,
    "start_time": "2022-06-09T00:45:59.757Z"
   },
   {
    "duration": 3,
    "start_time": "2022-06-09T00:45:59.791Z"
   },
   {
    "duration": 399,
    "start_time": "2022-06-09T00:45:59.795Z"
   },
   {
    "duration": 42,
    "start_time": "2022-06-09T00:46:00.195Z"
   },
   {
    "duration": 191,
    "start_time": "2022-06-09T00:46:00.239Z"
   },
   {
    "duration": 95,
    "start_time": "2022-06-09T00:46:00.432Z"
   },
   {
    "duration": 96685,
    "start_time": "2022-06-09T00:46:00.530Z"
   },
   {
    "duration": 103,
    "start_time": "2022-06-09T00:47:37.217Z"
   },
   {
    "duration": 0,
    "start_time": "2022-06-09T00:47:37.322Z"
   },
   {
    "duration": 0,
    "start_time": "2022-06-09T00:47:37.327Z"
   },
   {
    "duration": 0,
    "start_time": "2022-06-09T00:47:37.328Z"
   },
   {
    "duration": 1033,
    "start_time": "2022-06-09T00:47:45.733Z"
   },
   {
    "duration": 48,
    "start_time": "2022-06-09T00:47:46.768Z"
   },
   {
    "duration": 13,
    "start_time": "2022-06-09T00:47:46.818Z"
   },
   {
    "duration": 34,
    "start_time": "2022-06-09T00:47:46.833Z"
   },
   {
    "duration": 8,
    "start_time": "2022-06-09T00:47:46.869Z"
   },
   {
    "duration": 33,
    "start_time": "2022-06-09T00:47:46.879Z"
   },
   {
    "duration": 4,
    "start_time": "2022-06-09T00:47:46.913Z"
   },
   {
    "duration": 33,
    "start_time": "2022-06-09T00:47:46.918Z"
   },
   {
    "duration": 36,
    "start_time": "2022-06-09T00:47:46.952Z"
   },
   {
    "duration": 5,
    "start_time": "2022-06-09T00:47:46.990Z"
   },
   {
    "duration": 43,
    "start_time": "2022-06-09T00:47:46.996Z"
   },
   {
    "duration": 9,
    "start_time": "2022-06-09T00:47:47.041Z"
   },
   {
    "duration": 20,
    "start_time": "2022-06-09T00:47:47.052Z"
   },
   {
    "duration": 21,
    "start_time": "2022-06-09T00:47:47.075Z"
   },
   {
    "duration": 194,
    "start_time": "2022-06-09T00:47:47.098Z"
   },
   {
    "duration": 27,
    "start_time": "2022-06-09T00:47:47.294Z"
   },
   {
    "duration": 65,
    "start_time": "2022-06-09T00:47:47.326Z"
   },
   {
    "duration": 18,
    "start_time": "2022-06-09T00:47:47.392Z"
   },
   {
    "duration": 142,
    "start_time": "2022-06-09T00:47:47.411Z"
   },
   {
    "duration": 5,
    "start_time": "2022-06-09T00:47:47.554Z"
   },
   {
    "duration": 90,
    "start_time": "2022-06-09T00:47:47.560Z"
   },
   {
    "duration": 48,
    "start_time": "2022-06-09T00:47:47.651Z"
   },
   {
    "duration": 2,
    "start_time": "2022-06-09T00:47:47.700Z"
   },
   {
    "duration": 26,
    "start_time": "2022-06-09T00:47:47.704Z"
   },
   {
    "duration": 18,
    "start_time": "2022-06-09T00:47:47.731Z"
   },
   {
    "duration": 27,
    "start_time": "2022-06-09T00:47:47.750Z"
   },
   {
    "duration": 57,
    "start_time": "2022-06-09T00:47:47.779Z"
   },
   {
    "duration": 13,
    "start_time": "2022-06-09T00:47:47.837Z"
   },
   {
    "duration": 19,
    "start_time": "2022-06-09T00:47:47.852Z"
   },
   {
    "duration": 21,
    "start_time": "2022-06-09T00:47:47.872Z"
   },
   {
    "duration": 25,
    "start_time": "2022-06-09T00:47:47.894Z"
   },
   {
    "duration": 394,
    "start_time": "2022-06-09T00:47:47.921Z"
   },
   {
    "duration": 111,
    "start_time": "2022-06-09T00:47:48.316Z"
   },
   {
    "duration": 7,
    "start_time": "2022-06-09T00:47:48.429Z"
   },
   {
    "duration": 14,
    "start_time": "2022-06-09T00:47:48.528Z"
   },
   {
    "duration": 6170,
    "start_time": "2022-06-09T00:47:48.543Z"
   },
   {
    "duration": 96,
    "start_time": "2022-06-09T00:47:54.715Z"
   },
   {
    "duration": 22,
    "start_time": "2022-06-09T00:47:54.813Z"
   },
   {
    "duration": 3,
    "start_time": "2022-06-09T00:47:54.837Z"
   },
   {
    "duration": 795,
    "start_time": "2022-06-09T00:47:54.842Z"
   },
   {
    "duration": 39,
    "start_time": "2022-06-09T00:47:55.642Z"
   },
   {
    "duration": 5,
    "start_time": "2022-06-09T00:47:55.683Z"
   },
   {
    "duration": 3,
    "start_time": "2022-06-09T00:47:55.690Z"
   },
   {
    "duration": 81,
    "start_time": "2022-06-09T00:47:55.695Z"
   },
   {
    "duration": 18,
    "start_time": "2022-06-09T00:47:55.778Z"
   },
   {
    "duration": 30,
    "start_time": "2022-06-09T00:47:55.797Z"
   },
   {
    "duration": 3,
    "start_time": "2022-06-09T00:47:55.828Z"
   },
   {
    "duration": 182,
    "start_time": "2022-06-09T00:47:55.832Z"
   },
   {
    "duration": 3,
    "start_time": "2022-06-09T00:47:56.016Z"
   },
   {
    "duration": 105,
    "start_time": "2022-06-09T00:47:56.026Z"
   },
   {
    "duration": 19,
    "start_time": "2022-06-09T00:47:56.132Z"
   },
   {
    "duration": 31,
    "start_time": "2022-06-09T00:47:56.152Z"
   },
   {
    "duration": 631,
    "start_time": "2022-06-09T00:47:56.185Z"
   },
   {
    "duration": 43,
    "start_time": "2022-06-09T00:47:56.818Z"
   },
   {
    "duration": 7,
    "start_time": "2022-06-09T00:47:56.928Z"
   },
   {
    "duration": 190,
    "start_time": "2022-06-09T00:47:56.937Z"
   },
   {
    "duration": 96483,
    "start_time": "2022-06-09T00:47:57.130Z"
   },
   {
    "duration": 93,
    "start_time": "2022-06-09T00:49:33.615Z"
   },
   {
    "duration": 0,
    "start_time": "2022-06-09T00:49:33.710Z"
   },
   {
    "duration": 0,
    "start_time": "2022-06-09T00:49:33.711Z"
   },
   {
    "duration": 0,
    "start_time": "2022-06-09T00:49:33.712Z"
   },
   {
    "duration": 1076,
    "start_time": "2022-06-09T00:50:17.103Z"
   },
   {
    "duration": 80,
    "start_time": "2022-06-09T00:50:18.181Z"
   },
   {
    "duration": 14,
    "start_time": "2022-06-09T00:50:18.262Z"
   },
   {
    "duration": 19,
    "start_time": "2022-06-09T00:50:18.277Z"
   },
   {
    "duration": 2,
    "start_time": "2022-06-09T00:50:18.297Z"
   },
   {
    "duration": 15,
    "start_time": "2022-06-09T00:50:18.301Z"
   },
   {
    "duration": 9,
    "start_time": "2022-06-09T00:50:18.318Z"
   },
   {
    "duration": 15,
    "start_time": "2022-06-09T00:50:18.328Z"
   },
   {
    "duration": 21,
    "start_time": "2022-06-09T00:50:18.344Z"
   },
   {
    "duration": 5,
    "start_time": "2022-06-09T00:50:18.367Z"
   },
   {
    "duration": 21,
    "start_time": "2022-06-09T00:50:18.373Z"
   },
   {
    "duration": 3,
    "start_time": "2022-06-09T00:50:18.396Z"
   },
   {
    "duration": 30,
    "start_time": "2022-06-09T00:50:18.400Z"
   },
   {
    "duration": 13,
    "start_time": "2022-06-09T00:50:18.432Z"
   },
   {
    "duration": 205,
    "start_time": "2022-06-09T00:50:18.446Z"
   },
   {
    "duration": 25,
    "start_time": "2022-06-09T00:50:18.653Z"
   },
   {
    "duration": 77,
    "start_time": "2022-06-09T00:50:18.679Z"
   },
   {
    "duration": 19,
    "start_time": "2022-06-09T00:50:18.758Z"
   },
   {
    "duration": 143,
    "start_time": "2022-06-09T00:50:18.779Z"
   },
   {
    "duration": 4,
    "start_time": "2022-06-09T00:50:18.927Z"
   },
   {
    "duration": 68,
    "start_time": "2022-06-09T00:50:18.933Z"
   },
   {
    "duration": 52,
    "start_time": "2022-06-09T00:50:19.003Z"
   },
   {
    "duration": 3,
    "start_time": "2022-06-09T00:50:19.057Z"
   },
   {
    "duration": 12,
    "start_time": "2022-06-09T00:50:19.061Z"
   },
   {
    "duration": 13,
    "start_time": "2022-06-09T00:50:19.074Z"
   },
   {
    "duration": 39,
    "start_time": "2022-06-09T00:50:19.089Z"
   },
   {
    "duration": 47,
    "start_time": "2022-06-09T00:50:19.129Z"
   },
   {
    "duration": 13,
    "start_time": "2022-06-09T00:50:19.180Z"
   },
   {
    "duration": 5,
    "start_time": "2022-06-09T00:50:19.195Z"
   },
   {
    "duration": 31,
    "start_time": "2022-06-09T00:50:19.201Z"
   },
   {
    "duration": 4,
    "start_time": "2022-06-09T00:50:19.234Z"
   },
   {
    "duration": 391,
    "start_time": "2022-06-09T00:50:19.239Z"
   },
   {
    "duration": 97,
    "start_time": "2022-06-09T00:50:19.631Z"
   },
   {
    "duration": 7,
    "start_time": "2022-06-09T00:50:19.730Z"
   },
   {
    "duration": 9,
    "start_time": "2022-06-09T00:50:19.827Z"
   },
   {
    "duration": 6479,
    "start_time": "2022-06-09T00:50:19.837Z"
   },
   {
    "duration": 108,
    "start_time": "2022-06-09T00:50:26.319Z"
   },
   {
    "duration": 6,
    "start_time": "2022-06-09T00:50:26.428Z"
   },
   {
    "duration": 5,
    "start_time": "2022-06-09T00:50:26.435Z"
   },
   {
    "duration": 789,
    "start_time": "2022-06-09T00:50:26.442Z"
   },
   {
    "duration": 40,
    "start_time": "2022-06-09T00:50:27.233Z"
   },
   {
    "duration": 5,
    "start_time": "2022-06-09T00:50:27.275Z"
   },
   {
    "duration": 9,
    "start_time": "2022-06-09T00:50:27.282Z"
   },
   {
    "duration": 72,
    "start_time": "2022-06-09T00:50:27.293Z"
   },
   {
    "duration": 19,
    "start_time": "2022-06-09T00:50:27.366Z"
   },
   {
    "duration": 15,
    "start_time": "2022-06-09T00:50:27.386Z"
   },
   {
    "duration": 3,
    "start_time": "2022-06-09T00:50:27.402Z"
   },
   {
    "duration": 140,
    "start_time": "2022-06-09T00:50:27.426Z"
   },
   {
    "duration": 5,
    "start_time": "2022-06-09T00:50:27.567Z"
   },
   {
    "duration": 117,
    "start_time": "2022-06-09T00:50:27.573Z"
   },
   {
    "duration": 20,
    "start_time": "2022-06-09T00:50:27.691Z"
   },
   {
    "duration": 57,
    "start_time": "2022-06-09T00:50:27.713Z"
   },
   {
    "duration": 618,
    "start_time": "2022-06-09T00:50:27.772Z"
   },
   {
    "duration": 45,
    "start_time": "2022-06-09T00:50:28.392Z"
   },
   {
    "duration": 92,
    "start_time": "2022-06-09T00:50:28.440Z"
   },
   {
    "duration": 193,
    "start_time": "2022-06-09T00:50:28.534Z"
   },
   {
    "duration": 97188,
    "start_time": "2022-06-09T00:50:28.731Z"
   },
   {
    "duration": 97,
    "start_time": "2022-06-09T00:52:05.920Z"
   },
   {
    "duration": 0,
    "start_time": "2022-06-09T00:52:06.019Z"
   },
   {
    "duration": 0,
    "start_time": "2022-06-09T00:52:06.020Z"
   },
   {
    "duration": 0,
    "start_time": "2022-06-09T00:52:06.026Z"
   },
   {
    "duration": 1018,
    "start_time": "2022-06-09T00:53:23.990Z"
   },
   {
    "duration": 47,
    "start_time": "2022-06-09T00:53:25.010Z"
   },
   {
    "duration": 14,
    "start_time": "2022-06-09T00:53:25.059Z"
   },
   {
    "duration": 35,
    "start_time": "2022-06-09T00:53:25.075Z"
   },
   {
    "duration": 3,
    "start_time": "2022-06-09T00:53:25.112Z"
   },
   {
    "duration": 16,
    "start_time": "2022-06-09T00:53:25.117Z"
   },
   {
    "duration": 5,
    "start_time": "2022-06-09T00:53:25.135Z"
   },
   {
    "duration": 15,
    "start_time": "2022-06-09T00:53:25.142Z"
   },
   {
    "duration": 24,
    "start_time": "2022-06-09T00:53:25.160Z"
   },
   {
    "duration": 5,
    "start_time": "2022-06-09T00:53:25.186Z"
   },
   {
    "duration": 38,
    "start_time": "2022-06-09T00:53:25.192Z"
   },
   {
    "duration": 5,
    "start_time": "2022-06-09T00:53:25.232Z"
   },
   {
    "duration": 7,
    "start_time": "2022-06-09T00:53:25.239Z"
   },
   {
    "duration": 13,
    "start_time": "2022-06-09T00:53:25.249Z"
   },
   {
    "duration": 206,
    "start_time": "2022-06-09T00:53:25.264Z"
   },
   {
    "duration": 23,
    "start_time": "2022-06-09T00:53:25.472Z"
   },
   {
    "duration": 77,
    "start_time": "2022-06-09T00:53:25.497Z"
   },
   {
    "duration": 17,
    "start_time": "2022-06-09T00:53:25.576Z"
   },
   {
    "duration": 135,
    "start_time": "2022-06-09T00:53:25.595Z"
   },
   {
    "duration": 4,
    "start_time": "2022-06-09T00:53:25.731Z"
   },
   {
    "duration": 58,
    "start_time": "2022-06-09T00:53:25.737Z"
   },
   {
    "duration": 62,
    "start_time": "2022-06-09T00:53:25.796Z"
   },
   {
    "duration": 3,
    "start_time": "2022-06-09T00:53:25.860Z"
   },
   {
    "duration": 12,
    "start_time": "2022-06-09T00:53:25.864Z"
   },
   {
    "duration": 14,
    "start_time": "2022-06-09T00:53:25.877Z"
   },
   {
    "duration": 36,
    "start_time": "2022-06-09T00:53:25.893Z"
   },
   {
    "duration": 45,
    "start_time": "2022-06-09T00:53:25.931Z"
   },
   {
    "duration": 13,
    "start_time": "2022-06-09T00:53:25.977Z"
   },
   {
    "duration": 3,
    "start_time": "2022-06-09T00:53:25.991Z"
   },
   {
    "duration": 9,
    "start_time": "2022-06-09T00:53:25.996Z"
   },
   {
    "duration": 21,
    "start_time": "2022-06-09T00:53:26.006Z"
   },
   {
    "duration": 414,
    "start_time": "2022-06-09T00:53:26.028Z"
   },
   {
    "duration": 93,
    "start_time": "2022-06-09T00:53:26.443Z"
   },
   {
    "duration": 5,
    "start_time": "2022-06-09T00:53:26.628Z"
   },
   {
    "duration": 8,
    "start_time": "2022-06-09T00:53:26.634Z"
   },
   {
    "duration": 6407,
    "start_time": "2022-06-09T00:53:26.644Z"
   },
   {
    "duration": 98,
    "start_time": "2022-06-09T00:53:33.052Z"
   },
   {
    "duration": 6,
    "start_time": "2022-06-09T00:53:33.152Z"
   },
   {
    "duration": 7,
    "start_time": "2022-06-09T00:53:33.159Z"
   },
   {
    "duration": 807,
    "start_time": "2022-06-09T00:53:33.168Z"
   },
   {
    "duration": 40,
    "start_time": "2022-06-09T00:53:33.979Z"
   },
   {
    "duration": 9,
    "start_time": "2022-06-09T00:53:34.020Z"
   },
   {
    "duration": 12,
    "start_time": "2022-06-09T00:53:34.031Z"
   },
   {
    "duration": 78,
    "start_time": "2022-06-09T00:53:34.044Z"
   },
   {
    "duration": 18,
    "start_time": "2022-06-09T00:53:34.123Z"
   },
   {
    "duration": 15,
    "start_time": "2022-06-09T00:53:34.143Z"
   },
   {
    "duration": 2,
    "start_time": "2022-06-09T00:53:34.160Z"
   },
   {
    "duration": 182,
    "start_time": "2022-06-09T00:53:34.163Z"
   },
   {
    "duration": 4,
    "start_time": "2022-06-09T00:53:34.346Z"
   },
   {
    "duration": 112,
    "start_time": "2022-06-09T00:53:34.351Z"
   },
   {
    "duration": 19,
    "start_time": "2022-06-09T00:53:34.464Z"
   },
   {
    "duration": 57,
    "start_time": "2022-06-09T00:53:34.485Z"
   },
   {
    "duration": 590,
    "start_time": "2022-06-09T00:53:34.544Z"
   },
   {
    "duration": 94,
    "start_time": "2022-06-09T00:53:35.135Z"
   },
   {
    "duration": 97,
    "start_time": "2022-06-09T00:53:35.231Z"
   },
   {
    "duration": 98,
    "start_time": "2022-06-09T00:53:35.329Z"
   },
   {
    "duration": 98142,
    "start_time": "2022-06-09T00:53:35.430Z"
   },
   {
    "duration": 98,
    "start_time": "2022-06-09T00:55:13.574Z"
   },
   {
    "duration": 0,
    "start_time": "2022-06-09T00:55:13.674Z"
   },
   {
    "duration": 0,
    "start_time": "2022-06-09T00:55:13.675Z"
   },
   {
    "duration": 0,
    "start_time": "2022-06-09T00:55:13.676Z"
   },
   {
    "duration": 1008,
    "start_time": "2022-06-09T00:56:29.889Z"
   },
   {
    "duration": 44,
    "start_time": "2022-06-09T00:56:30.899Z"
   },
   {
    "duration": 12,
    "start_time": "2022-06-09T00:56:30.944Z"
   },
   {
    "duration": 23,
    "start_time": "2022-06-09T00:56:30.958Z"
   },
   {
    "duration": 2,
    "start_time": "2022-06-09T00:56:30.983Z"
   },
   {
    "duration": 25,
    "start_time": "2022-06-09T00:56:30.987Z"
   },
   {
    "duration": 14,
    "start_time": "2022-06-09T00:56:31.013Z"
   },
   {
    "duration": 40,
    "start_time": "2022-06-09T00:56:31.028Z"
   },
   {
    "duration": 28,
    "start_time": "2022-06-09T00:56:31.070Z"
   },
   {
    "duration": 10,
    "start_time": "2022-06-09T00:56:31.100Z"
   },
   {
    "duration": 32,
    "start_time": "2022-06-09T00:56:31.112Z"
   },
   {
    "duration": 4,
    "start_time": "2022-06-09T00:56:31.146Z"
   },
   {
    "duration": 10,
    "start_time": "2022-06-09T00:56:31.152Z"
   },
   {
    "duration": 16,
    "start_time": "2022-06-09T00:56:31.165Z"
   },
   {
    "duration": 200,
    "start_time": "2022-06-09T00:56:31.182Z"
   },
   {
    "duration": 24,
    "start_time": "2022-06-09T00:56:31.383Z"
   },
   {
    "duration": 77,
    "start_time": "2022-06-09T00:56:31.409Z"
   },
   {
    "duration": 17,
    "start_time": "2022-06-09T00:56:31.488Z"
   },
   {
    "duration": 141,
    "start_time": "2022-06-09T00:56:31.507Z"
   },
   {
    "duration": 5,
    "start_time": "2022-06-09T00:56:31.649Z"
   },
   {
    "duration": 91,
    "start_time": "2022-06-09T00:56:31.655Z"
   },
   {
    "duration": 51,
    "start_time": "2022-06-09T00:56:31.748Z"
   },
   {
    "duration": 3,
    "start_time": "2022-06-09T00:56:31.800Z"
   },
   {
    "duration": 46,
    "start_time": "2022-06-09T00:56:31.805Z"
   },
   {
    "duration": 23,
    "start_time": "2022-06-09T00:56:31.853Z"
   },
   {
    "duration": 21,
    "start_time": "2022-06-09T00:56:31.878Z"
   },
   {
    "duration": 47,
    "start_time": "2022-06-09T00:56:31.901Z"
   },
   {
    "duration": 14,
    "start_time": "2022-06-09T00:56:31.950Z"
   },
   {
    "duration": 3,
    "start_time": "2022-06-09T00:56:31.966Z"
   },
   {
    "duration": 13,
    "start_time": "2022-06-09T00:56:31.971Z"
   },
   {
    "duration": 11,
    "start_time": "2022-06-09T00:56:31.986Z"
   },
   {
    "duration": 402,
    "start_time": "2022-06-09T00:56:31.999Z"
   },
   {
    "duration": 127,
    "start_time": "2022-06-09T00:56:32.403Z"
   },
   {
    "duration": 97,
    "start_time": "2022-06-09T00:56:32.532Z"
   },
   {
    "duration": 4,
    "start_time": "2022-06-09T00:56:32.630Z"
   },
   {
    "duration": 6184,
    "start_time": "2022-06-09T00:56:32.635Z"
   },
   {
    "duration": 87,
    "start_time": "2022-06-09T00:56:38.820Z"
   },
   {
    "duration": 4,
    "start_time": "2022-06-09T00:56:38.909Z"
   },
   {
    "duration": 13,
    "start_time": "2022-06-09T00:56:38.914Z"
   },
   {
    "duration": 753,
    "start_time": "2022-06-09T00:56:38.928Z"
   },
   {
    "duration": 48,
    "start_time": "2022-06-09T00:56:39.684Z"
   },
   {
    "duration": 5,
    "start_time": "2022-06-09T00:56:39.733Z"
   },
   {
    "duration": 5,
    "start_time": "2022-06-09T00:56:39.739Z"
   },
   {
    "duration": 65,
    "start_time": "2022-06-09T00:56:39.745Z"
   },
   {
    "duration": 31,
    "start_time": "2022-06-09T00:56:39.812Z"
   },
   {
    "duration": 20,
    "start_time": "2022-06-09T00:56:39.845Z"
   },
   {
    "duration": 2,
    "start_time": "2022-06-09T00:56:39.867Z"
   },
   {
    "duration": 179,
    "start_time": "2022-06-09T00:56:39.871Z"
   },
   {
    "duration": 4,
    "start_time": "2022-06-09T00:56:40.051Z"
   },
   {
    "duration": 114,
    "start_time": "2022-06-09T00:56:40.056Z"
   },
   {
    "duration": 19,
    "start_time": "2022-06-09T00:56:40.172Z"
   },
   {
    "duration": 56,
    "start_time": "2022-06-09T00:56:40.192Z"
   },
   {
    "duration": 580,
    "start_time": "2022-06-09T00:56:40.249Z"
   },
   {
    "duration": 97,
    "start_time": "2022-06-09T00:56:40.831Z"
   },
   {
    "duration": 7,
    "start_time": "2022-06-09T00:56:40.930Z"
   },
   {
    "duration": 101,
    "start_time": "2022-06-09T00:56:41.027Z"
   },
   {
    "duration": 97321,
    "start_time": "2022-06-09T00:56:41.130Z"
   },
   {
    "duration": 47,
    "start_time": "2022-06-09T00:58:18.452Z"
   },
   {
    "duration": 6873,
    "start_time": "2022-06-09T00:58:18.501Z"
   },
   {
    "duration": 41,
    "start_time": "2022-06-09T00:58:25.376Z"
   },
   {
    "duration": 88,
    "start_time": "2022-06-09T00:58:25.427Z"
   },
   {
    "duration": 3,
    "start_time": "2022-06-09T01:07:39.279Z"
   },
   {
    "duration": 5,
    "start_time": "2022-06-09T01:08:27.896Z"
   },
   {
    "duration": 5,
    "start_time": "2022-06-09T01:09:05.696Z"
   },
   {
    "duration": 3,
    "start_time": "2022-06-09T01:14:29.067Z"
   },
   {
    "duration": 4,
    "start_time": "2022-06-09T01:14:49.585Z"
   },
   {
    "duration": 89,
    "start_time": "2022-06-09T01:20:42.291Z"
   },
   {
    "duration": 4,
    "start_time": "2022-06-09T01:21:10.691Z"
   },
   {
    "duration": 9,
    "start_time": "2022-06-09T01:21:18.872Z"
   },
   {
    "duration": 111,
    "start_time": "2022-06-09T01:21:44.799Z"
   },
   {
    "duration": 13,
    "start_time": "2022-06-09T01:22:12.761Z"
   },
   {
    "duration": 23,
    "start_time": "2022-06-09T01:22:29.402Z"
   },
   {
    "duration": 32,
    "start_time": "2022-06-09T01:23:37.344Z"
   },
   {
    "duration": 1068,
    "start_time": "2022-06-09T01:25:05.716Z"
   },
   {
    "duration": 47,
    "start_time": "2022-06-09T01:25:06.786Z"
   },
   {
    "duration": 14,
    "start_time": "2022-06-09T01:25:06.835Z"
   },
   {
    "duration": 21,
    "start_time": "2022-06-09T01:25:06.851Z"
   },
   {
    "duration": 3,
    "start_time": "2022-06-09T01:25:06.874Z"
   },
   {
    "duration": 18,
    "start_time": "2022-06-09T01:25:06.878Z"
   },
   {
    "duration": 7,
    "start_time": "2022-06-09T01:25:06.897Z"
   },
   {
    "duration": 33,
    "start_time": "2022-06-09T01:25:06.905Z"
   },
   {
    "duration": 21,
    "start_time": "2022-06-09T01:25:06.940Z"
   },
   {
    "duration": 5,
    "start_time": "2022-06-09T01:25:06.964Z"
   },
   {
    "duration": 23,
    "start_time": "2022-06-09T01:25:06.970Z"
   },
   {
    "duration": 4,
    "start_time": "2022-06-09T01:25:06.994Z"
   },
   {
    "duration": 29,
    "start_time": "2022-06-09T01:25:06.999Z"
   },
   {
    "duration": 14,
    "start_time": "2022-06-09T01:25:07.029Z"
   },
   {
    "duration": 203,
    "start_time": "2022-06-09T01:25:07.044Z"
   },
   {
    "duration": 32,
    "start_time": "2022-06-09T01:25:07.249Z"
   },
   {
    "duration": 84,
    "start_time": "2022-06-09T01:25:07.283Z"
   },
   {
    "duration": 20,
    "start_time": "2022-06-09T01:25:07.368Z"
   },
   {
    "duration": 145,
    "start_time": "2022-06-09T01:25:07.389Z"
   },
   {
    "duration": 4,
    "start_time": "2022-06-09T01:25:07.536Z"
   },
   {
    "duration": 75,
    "start_time": "2022-06-09T01:25:07.541Z"
   },
   {
    "duration": 50,
    "start_time": "2022-06-09T01:25:07.617Z"
   },
   {
    "duration": 3,
    "start_time": "2022-06-09T01:25:07.668Z"
   },
   {
    "duration": 11,
    "start_time": "2022-06-09T01:25:07.672Z"
   },
   {
    "duration": 20,
    "start_time": "2022-06-09T01:25:07.685Z"
   },
   {
    "duration": 30,
    "start_time": "2022-06-09T01:25:07.706Z"
   },
   {
    "duration": 45,
    "start_time": "2022-06-09T01:25:07.738Z"
   },
   {
    "duration": 13,
    "start_time": "2022-06-09T01:25:07.786Z"
   },
   {
    "duration": 4,
    "start_time": "2022-06-09T01:25:07.800Z"
   },
   {
    "duration": 5,
    "start_time": "2022-06-09T01:25:07.826Z"
   },
   {
    "duration": 11,
    "start_time": "2022-06-09T01:25:07.833Z"
   },
   {
    "duration": 395,
    "start_time": "2022-06-09T01:25:07.846Z"
   },
   {
    "duration": 88,
    "start_time": "2022-06-09T01:25:08.242Z"
   },
   {
    "duration": 96,
    "start_time": "2022-06-09T01:25:08.332Z"
   },
   {
    "duration": 16,
    "start_time": "2022-06-09T01:25:08.430Z"
   },
   {
    "duration": 6475,
    "start_time": "2022-06-09T01:25:08.448Z"
   },
   {
    "duration": 93,
    "start_time": "2022-06-09T01:25:14.924Z"
   },
   {
    "duration": 11,
    "start_time": "2022-06-09T01:25:15.019Z"
   },
   {
    "duration": 7,
    "start_time": "2022-06-09T01:25:15.031Z"
   },
   {
    "duration": 830,
    "start_time": "2022-06-09T01:25:15.040Z"
   },
   {
    "duration": 42,
    "start_time": "2022-06-09T01:25:15.872Z"
   },
   {
    "duration": 14,
    "start_time": "2022-06-09T01:25:15.916Z"
   },
   {
    "duration": 6,
    "start_time": "2022-06-09T01:25:15.932Z"
   },
   {
    "duration": 72,
    "start_time": "2022-06-09T01:25:15.939Z"
   },
   {
    "duration": 32,
    "start_time": "2022-06-09T01:25:16.013Z"
   },
   {
    "duration": 20,
    "start_time": "2022-06-09T01:25:16.046Z"
   },
   {
    "duration": 3,
    "start_time": "2022-06-09T01:25:16.068Z"
   },
   {
    "duration": 239,
    "start_time": "2022-06-09T01:25:16.072Z"
   },
   {
    "duration": 4,
    "start_time": "2022-06-09T01:25:16.313Z"
   },
   {
    "duration": 125,
    "start_time": "2022-06-09T01:25:16.319Z"
   },
   {
    "duration": 19,
    "start_time": "2022-06-09T01:25:16.446Z"
   },
   {
    "duration": 45,
    "start_time": "2022-06-09T01:25:16.466Z"
   },
   {
    "duration": 599,
    "start_time": "2022-06-09T01:25:16.527Z"
   },
   {
    "duration": 100,
    "start_time": "2022-06-09T01:25:17.127Z"
   },
   {
    "duration": 7,
    "start_time": "2022-06-09T01:25:17.230Z"
   },
   {
    "duration": 102,
    "start_time": "2022-06-09T01:25:17.328Z"
   },
   {
    "duration": 96,
    "start_time": "2022-06-09T01:25:17.433Z"
   },
   {
    "duration": 5,
    "start_time": "2022-06-09T01:25:17.531Z"
   },
   {
    "duration": 34,
    "start_time": "2022-06-09T01:25:17.537Z"
   },
   {
    "duration": 1073,
    "start_time": "2022-06-09T01:25:45.417Z"
   },
   {
    "duration": 42,
    "start_time": "2022-06-09T01:25:46.492Z"
   },
   {
    "duration": 13,
    "start_time": "2022-06-09T01:25:46.535Z"
   },
   {
    "duration": 30,
    "start_time": "2022-06-09T01:25:46.549Z"
   },
   {
    "duration": 37,
    "start_time": "2022-06-09T01:25:46.580Z"
   },
   {
    "duration": 41,
    "start_time": "2022-06-09T01:25:46.618Z"
   },
   {
    "duration": 24,
    "start_time": "2022-06-09T01:25:46.660Z"
   },
   {
    "duration": 51,
    "start_time": "2022-06-09T01:25:46.685Z"
   },
   {
    "duration": 66,
    "start_time": "2022-06-09T01:25:46.737Z"
   },
   {
    "duration": 5,
    "start_time": "2022-06-09T01:25:46.806Z"
   },
   {
    "duration": 53,
    "start_time": "2022-06-09T01:25:46.812Z"
   },
   {
    "duration": 33,
    "start_time": "2022-06-09T01:25:46.866Z"
   },
   {
    "duration": 26,
    "start_time": "2022-06-09T01:25:46.900Z"
   },
   {
    "duration": 48,
    "start_time": "2022-06-09T01:25:46.928Z"
   },
   {
    "duration": 214,
    "start_time": "2022-06-09T01:25:46.977Z"
   },
   {
    "duration": 24,
    "start_time": "2022-06-09T01:25:47.192Z"
   },
   {
    "duration": 71,
    "start_time": "2022-06-09T01:25:47.226Z"
   },
   {
    "duration": 17,
    "start_time": "2022-06-09T01:25:47.299Z"
   },
   {
    "duration": 156,
    "start_time": "2022-06-09T01:25:47.317Z"
   },
   {
    "duration": 5,
    "start_time": "2022-06-09T01:25:47.475Z"
   },
   {
    "duration": 89,
    "start_time": "2022-06-09T01:25:47.482Z"
   },
   {
    "duration": 45,
    "start_time": "2022-06-09T01:25:47.573Z"
   },
   {
    "duration": 3,
    "start_time": "2022-06-09T01:25:47.626Z"
   },
   {
    "duration": 33,
    "start_time": "2022-06-09T01:25:47.630Z"
   },
   {
    "duration": 33,
    "start_time": "2022-06-09T01:25:47.665Z"
   },
   {
    "duration": 56,
    "start_time": "2022-06-09T01:25:47.700Z"
   },
   {
    "duration": 52,
    "start_time": "2022-06-09T01:25:47.758Z"
   },
   {
    "duration": 13,
    "start_time": "2022-06-09T01:25:47.815Z"
   },
   {
    "duration": 7,
    "start_time": "2022-06-09T01:25:47.830Z"
   },
   {
    "duration": 41,
    "start_time": "2022-06-09T01:25:47.838Z"
   },
   {
    "duration": 40,
    "start_time": "2022-06-09T01:25:47.881Z"
   },
   {
    "duration": 400,
    "start_time": "2022-06-09T01:25:47.922Z"
   },
   {
    "duration": 104,
    "start_time": "2022-06-09T01:25:48.324Z"
   },
   {
    "duration": 100,
    "start_time": "2022-06-09T01:25:48.430Z"
   },
   {
    "duration": 24,
    "start_time": "2022-06-09T01:25:48.532Z"
   },
   {
    "duration": 6510,
    "start_time": "2022-06-09T01:25:48.558Z"
   },
   {
    "duration": 96,
    "start_time": "2022-06-09T01:25:55.069Z"
   },
   {
    "duration": 5,
    "start_time": "2022-06-09T01:25:55.167Z"
   },
   {
    "duration": 40,
    "start_time": "2022-06-09T01:25:55.173Z"
   },
   {
    "duration": 790,
    "start_time": "2022-06-09T01:25:55.214Z"
   },
   {
    "duration": 45,
    "start_time": "2022-06-09T01:25:56.006Z"
   },
   {
    "duration": 4,
    "start_time": "2022-06-09T01:25:56.053Z"
   },
   {
    "duration": 59,
    "start_time": "2022-06-09T01:25:56.059Z"
   },
   {
    "duration": 103,
    "start_time": "2022-06-09T01:25:56.120Z"
   },
   {
    "duration": 27,
    "start_time": "2022-06-09T01:25:56.225Z"
   },
   {
    "duration": 23,
    "start_time": "2022-06-09T01:25:56.254Z"
   },
   {
    "duration": 38,
    "start_time": "2022-06-09T01:25:56.279Z"
   },
   {
    "duration": 170,
    "start_time": "2022-06-09T01:25:56.319Z"
   },
   {
    "duration": 3,
    "start_time": "2022-06-09T01:25:56.491Z"
   },
   {
    "duration": 152,
    "start_time": "2022-06-09T01:25:56.496Z"
   },
   {
    "duration": 18,
    "start_time": "2022-06-09T01:25:56.650Z"
   },
   {
    "duration": 72,
    "start_time": "2022-06-09T01:25:56.669Z"
   },
   {
    "duration": 597,
    "start_time": "2022-06-09T01:25:56.742Z"
   },
   {
    "duration": 88,
    "start_time": "2022-06-09T01:25:57.341Z"
   },
   {
    "duration": 96,
    "start_time": "2022-06-09T01:25:57.431Z"
   },
   {
    "duration": 98,
    "start_time": "2022-06-09T01:25:57.529Z"
   },
   {
    "duration": 6,
    "start_time": "2022-06-09T01:25:57.630Z"
   },
   {
    "duration": 34,
    "start_time": "2022-06-09T01:25:57.728Z"
   },
   {
    "duration": 54,
    "start_time": "2022-06-09T01:25:57.763Z"
   },
   {
    "duration": 98342,
    "start_time": "2022-06-09T01:25:57.818Z"
   },
   {
    "duration": 57,
    "start_time": "2022-06-09T01:27:36.161Z"
   },
   {
    "duration": 6668,
    "start_time": "2022-06-09T01:27:36.219Z"
   },
   {
    "duration": 50,
    "start_time": "2022-06-09T01:27:42.889Z"
   },
   {
    "duration": 92,
    "start_time": "2022-06-09T01:27:42.940Z"
   },
   {
    "duration": 1065,
    "start_time": "2022-06-09T01:29:57.587Z"
   },
   {
    "duration": 44,
    "start_time": "2022-06-09T01:29:58.654Z"
   },
   {
    "duration": 15,
    "start_time": "2022-06-09T01:29:58.699Z"
   },
   {
    "duration": 21,
    "start_time": "2022-06-09T01:29:58.717Z"
   },
   {
    "duration": 4,
    "start_time": "2022-06-09T01:29:58.740Z"
   },
   {
    "duration": 19,
    "start_time": "2022-06-09T01:29:58.745Z"
   },
   {
    "duration": 6,
    "start_time": "2022-06-09T01:29:58.766Z"
   },
   {
    "duration": 23,
    "start_time": "2022-06-09T01:29:58.774Z"
   },
   {
    "duration": 37,
    "start_time": "2022-06-09T01:29:58.799Z"
   },
   {
    "duration": 15,
    "start_time": "2022-06-09T01:29:58.840Z"
   },
   {
    "duration": 27,
    "start_time": "2022-06-09T01:29:58.856Z"
   },
   {
    "duration": 10,
    "start_time": "2022-06-09T01:29:58.885Z"
   },
   {
    "duration": 20,
    "start_time": "2022-06-09T01:29:58.896Z"
   },
   {
    "duration": 17,
    "start_time": "2022-06-09T01:29:58.917Z"
   },
   {
    "duration": 206,
    "start_time": "2022-06-09T01:29:58.936Z"
   },
   {
    "duration": 22,
    "start_time": "2022-06-09T01:29:59.144Z"
   },
   {
    "duration": 74,
    "start_time": "2022-06-09T01:29:59.168Z"
   },
   {
    "duration": 29,
    "start_time": "2022-06-09T01:29:59.250Z"
   },
   {
    "duration": 165,
    "start_time": "2022-06-09T01:29:59.282Z"
   },
   {
    "duration": 4,
    "start_time": "2022-06-09T01:29:59.449Z"
   },
   {
    "duration": 73,
    "start_time": "2022-06-09T01:29:59.454Z"
   },
   {
    "duration": 49,
    "start_time": "2022-06-09T01:29:59.529Z"
   },
   {
    "duration": 3,
    "start_time": "2022-06-09T01:29:59.580Z"
   },
   {
    "duration": 15,
    "start_time": "2022-06-09T01:29:59.584Z"
   },
   {
    "duration": 39,
    "start_time": "2022-06-09T01:29:59.601Z"
   },
   {
    "duration": 21,
    "start_time": "2022-06-09T01:29:59.642Z"
   },
   {
    "duration": 71,
    "start_time": "2022-06-09T01:29:59.664Z"
   },
   {
    "duration": 12,
    "start_time": "2022-06-09T01:29:59.738Z"
   },
   {
    "duration": 4,
    "start_time": "2022-06-09T01:29:59.752Z"
   },
   {
    "duration": 7,
    "start_time": "2022-06-09T01:29:59.757Z"
   },
   {
    "duration": 4,
    "start_time": "2022-06-09T01:29:59.766Z"
   },
   {
    "duration": 409,
    "start_time": "2022-06-09T01:29:59.772Z"
   },
   {
    "duration": 150,
    "start_time": "2022-06-09T01:30:00.184Z"
   },
   {
    "duration": 91,
    "start_time": "2022-06-09T01:30:00.337Z"
   },
   {
    "duration": 28,
    "start_time": "2022-06-09T01:30:00.430Z"
   },
   {
    "duration": 6791,
    "start_time": "2022-06-09T01:30:00.460Z"
   },
   {
    "duration": 113,
    "start_time": "2022-06-09T01:30:07.253Z"
   },
   {
    "duration": 5,
    "start_time": "2022-06-09T01:30:07.368Z"
   },
   {
    "duration": 41,
    "start_time": "2022-06-09T01:30:07.375Z"
   },
   {
    "duration": 814,
    "start_time": "2022-06-09T01:30:07.418Z"
   },
   {
    "duration": 42,
    "start_time": "2022-06-09T01:30:08.234Z"
   },
   {
    "duration": 5,
    "start_time": "2022-06-09T01:30:08.277Z"
   },
   {
    "duration": 10,
    "start_time": "2022-06-09T01:30:08.284Z"
   },
   {
    "duration": 77,
    "start_time": "2022-06-09T01:30:08.295Z"
   },
   {
    "duration": 20,
    "start_time": "2022-06-09T01:30:08.374Z"
   },
   {
    "duration": 33,
    "start_time": "2022-06-09T01:30:08.395Z"
   },
   {
    "duration": 2,
    "start_time": "2022-06-09T01:30:08.430Z"
   },
   {
    "duration": 170,
    "start_time": "2022-06-09T01:30:08.434Z"
   },
   {
    "duration": 3,
    "start_time": "2022-06-09T01:30:08.606Z"
   },
   {
    "duration": 126,
    "start_time": "2022-06-09T01:30:08.611Z"
   },
   {
    "duration": 22,
    "start_time": "2022-06-09T01:30:08.739Z"
   },
   {
    "duration": 67,
    "start_time": "2022-06-09T01:30:08.763Z"
   },
   {
    "duration": 639,
    "start_time": "2022-06-09T01:30:08.831Z"
   },
   {
    "duration": 63,
    "start_time": "2022-06-09T01:30:09.472Z"
   },
   {
    "duration": 7,
    "start_time": "2022-06-09T01:30:09.630Z"
   },
   {
    "duration": 101,
    "start_time": "2022-06-09T01:30:09.638Z"
   },
   {
    "duration": 7,
    "start_time": "2022-06-09T01:30:09.828Z"
   },
   {
    "duration": 102,
    "start_time": "2022-06-09T01:30:09.837Z"
   },
   {
    "duration": 35,
    "start_time": "2022-06-09T01:30:09.940Z"
   },
   {
    "duration": 100479,
    "start_time": "2022-06-09T01:30:09.977Z"
   },
   {
    "duration": 48,
    "start_time": "2022-06-09T01:31:50.458Z"
   },
   {
    "duration": 7187,
    "start_time": "2022-06-09T01:31:50.507Z"
   },
   {
    "duration": 52,
    "start_time": "2022-06-09T01:31:57.695Z"
   },
   {
    "duration": 104,
    "start_time": "2022-06-09T01:31:57.749Z"
   },
   {
    "duration": 1039,
    "start_time": "2022-06-09T01:32:35.264Z"
   },
   {
    "duration": 50,
    "start_time": "2022-06-09T01:32:36.305Z"
   },
   {
    "duration": 23,
    "start_time": "2022-06-09T01:32:36.356Z"
   },
   {
    "duration": 20,
    "start_time": "2022-06-09T01:32:36.381Z"
   },
   {
    "duration": 23,
    "start_time": "2022-06-09T01:32:36.403Z"
   },
   {
    "duration": 28,
    "start_time": "2022-06-09T01:32:36.427Z"
   },
   {
    "duration": 26,
    "start_time": "2022-06-09T01:32:36.456Z"
   },
   {
    "duration": 32,
    "start_time": "2022-06-09T01:32:36.484Z"
   },
   {
    "duration": 45,
    "start_time": "2022-06-09T01:32:36.517Z"
   },
   {
    "duration": 19,
    "start_time": "2022-06-09T01:32:36.565Z"
   },
   {
    "duration": 38,
    "start_time": "2022-06-09T01:32:36.585Z"
   },
   {
    "duration": 20,
    "start_time": "2022-06-09T01:32:36.624Z"
   },
   {
    "duration": 19,
    "start_time": "2022-06-09T01:32:36.645Z"
   },
   {
    "duration": 31,
    "start_time": "2022-06-09T01:32:36.666Z"
   },
   {
    "duration": 219,
    "start_time": "2022-06-09T01:32:36.699Z"
   },
   {
    "duration": 28,
    "start_time": "2022-06-09T01:32:36.920Z"
   },
   {
    "duration": 83,
    "start_time": "2022-06-09T01:32:36.950Z"
   },
   {
    "duration": 18,
    "start_time": "2022-06-09T01:32:37.035Z"
   },
   {
    "duration": 145,
    "start_time": "2022-06-09T01:32:37.055Z"
   },
   {
    "duration": 5,
    "start_time": "2022-06-09T01:32:37.202Z"
   },
   {
    "duration": 73,
    "start_time": "2022-06-09T01:32:37.208Z"
   },
   {
    "duration": 56,
    "start_time": "2022-06-09T01:32:37.283Z"
   },
   {
    "duration": 3,
    "start_time": "2022-06-09T01:32:37.340Z"
   },
   {
    "duration": 34,
    "start_time": "2022-06-09T01:32:37.345Z"
   },
   {
    "duration": 29,
    "start_time": "2022-06-09T01:32:37.381Z"
   },
   {
    "duration": 39,
    "start_time": "2022-06-09T01:32:37.411Z"
   },
   {
    "duration": 56,
    "start_time": "2022-06-09T01:32:37.452Z"
   },
   {
    "duration": 13,
    "start_time": "2022-06-09T01:32:37.512Z"
   },
   {
    "duration": 40,
    "start_time": "2022-06-09T01:32:37.527Z"
   },
   {
    "duration": 23,
    "start_time": "2022-06-09T01:32:37.570Z"
   },
   {
    "duration": 13,
    "start_time": "2022-06-09T01:32:37.594Z"
   },
   {
    "duration": 432,
    "start_time": "2022-06-09T01:32:37.609Z"
   },
   {
    "duration": 92,
    "start_time": "2022-06-09T01:32:38.043Z"
   },
   {
    "duration": 92,
    "start_time": "2022-06-09T01:32:38.137Z"
   },
   {
    "duration": 24,
    "start_time": "2022-06-09T01:32:38.231Z"
   },
   {
    "duration": 6557,
    "start_time": "2022-06-09T01:32:38.257Z"
   },
   {
    "duration": 102,
    "start_time": "2022-06-09T01:32:44.816Z"
   },
   {
    "duration": 12,
    "start_time": "2022-06-09T01:32:44.920Z"
   },
   {
    "duration": 9,
    "start_time": "2022-06-09T01:32:44.933Z"
   },
   {
    "duration": 825,
    "start_time": "2022-06-09T01:32:44.944Z"
   },
   {
    "duration": 41,
    "start_time": "2022-06-09T01:32:45.771Z"
   },
   {
    "duration": 14,
    "start_time": "2022-06-09T01:32:45.814Z"
   },
   {
    "duration": 10,
    "start_time": "2022-06-09T01:32:45.830Z"
   },
   {
    "duration": 64,
    "start_time": "2022-06-09T01:32:45.841Z"
   },
   {
    "duration": 28,
    "start_time": "2022-06-09T01:32:45.907Z"
   },
   {
    "duration": 16,
    "start_time": "2022-06-09T01:32:45.937Z"
   },
   {
    "duration": 3,
    "start_time": "2022-06-09T01:32:45.955Z"
   },
   {
    "duration": 173,
    "start_time": "2022-06-09T01:32:45.960Z"
   },
   {
    "duration": 3,
    "start_time": "2022-06-09T01:32:46.135Z"
   },
   {
    "duration": 124,
    "start_time": "2022-06-09T01:32:46.140Z"
   },
   {
    "duration": 29,
    "start_time": "2022-06-09T01:32:46.266Z"
   },
   {
    "duration": 66,
    "start_time": "2022-06-09T01:32:46.297Z"
   },
   {
    "duration": 620,
    "start_time": "2022-06-09T01:32:46.366Z"
   },
   {
    "duration": 52,
    "start_time": "2022-06-09T01:32:46.988Z"
   },
   {
    "duration": 6,
    "start_time": "2022-06-09T01:32:47.126Z"
   },
   {
    "duration": 194,
    "start_time": "2022-06-09T01:32:47.134Z"
   },
   {
    "duration": 6,
    "start_time": "2022-06-09T01:32:47.330Z"
   },
   {
    "duration": 99,
    "start_time": "2022-06-09T01:32:47.338Z"
   },
   {
    "duration": 36,
    "start_time": "2022-06-09T01:32:47.439Z"
   },
   {
    "duration": 100392,
    "start_time": "2022-06-09T01:32:47.477Z"
   },
   {
    "duration": 48,
    "start_time": "2022-06-09T01:34:27.870Z"
   },
   {
    "duration": 7133,
    "start_time": "2022-06-09T01:34:27.926Z"
   },
   {
    "duration": 44,
    "start_time": "2022-06-09T01:34:35.061Z"
   },
   {
    "duration": 108,
    "start_time": "2022-06-09T01:34:35.107Z"
   },
   {
    "duration": 1100,
    "start_time": "2022-06-09T01:37:07.502Z"
   },
   {
    "duration": 44,
    "start_time": "2022-06-09T01:37:08.604Z"
   },
   {
    "duration": 13,
    "start_time": "2022-06-09T01:37:08.650Z"
   },
   {
    "duration": 20,
    "start_time": "2022-06-09T01:37:08.665Z"
   },
   {
    "duration": 3,
    "start_time": "2022-06-09T01:37:08.687Z"
   },
   {
    "duration": 43,
    "start_time": "2022-06-09T01:37:08.691Z"
   },
   {
    "duration": 4,
    "start_time": "2022-06-09T01:37:08.736Z"
   },
   {
    "duration": 20,
    "start_time": "2022-06-09T01:37:08.741Z"
   },
   {
    "duration": 21,
    "start_time": "2022-06-09T01:37:08.763Z"
   },
   {
    "duration": 5,
    "start_time": "2022-06-09T01:37:08.787Z"
   },
   {
    "duration": 43,
    "start_time": "2022-06-09T01:37:08.793Z"
   },
   {
    "duration": 4,
    "start_time": "2022-06-09T01:37:08.838Z"
   },
   {
    "duration": 11,
    "start_time": "2022-06-09T01:37:08.844Z"
   },
   {
    "duration": 18,
    "start_time": "2022-06-09T01:37:08.856Z"
   },
   {
    "duration": 211,
    "start_time": "2022-06-09T01:37:08.876Z"
   },
   {
    "duration": 25,
    "start_time": "2022-06-09T01:37:09.089Z"
   },
   {
    "duration": 76,
    "start_time": "2022-06-09T01:37:09.115Z"
   },
   {
    "duration": 17,
    "start_time": "2022-06-09T01:37:09.193Z"
   },
   {
    "duration": 152,
    "start_time": "2022-06-09T01:37:09.212Z"
   },
   {
    "duration": 5,
    "start_time": "2022-06-09T01:37:09.365Z"
   },
   {
    "duration": 70,
    "start_time": "2022-06-09T01:37:09.372Z"
   },
   {
    "duration": 49,
    "start_time": "2022-06-09T01:37:09.444Z"
   },
   {
    "duration": 3,
    "start_time": "2022-06-09T01:37:09.495Z"
   },
   {
    "duration": 19,
    "start_time": "2022-06-09T01:37:09.499Z"
   },
   {
    "duration": 28,
    "start_time": "2022-06-09T01:37:09.527Z"
   },
   {
    "duration": 33,
    "start_time": "2022-06-09T01:37:09.556Z"
   },
   {
    "duration": 46,
    "start_time": "2022-06-09T01:37:09.591Z"
   },
   {
    "duration": 14,
    "start_time": "2022-06-09T01:37:09.641Z"
   },
   {
    "duration": 4,
    "start_time": "2022-06-09T01:37:09.657Z"
   },
   {
    "duration": 7,
    "start_time": "2022-06-09T01:37:09.663Z"
   },
   {
    "duration": 6,
    "start_time": "2022-06-09T01:37:09.672Z"
   },
   {
    "duration": 410,
    "start_time": "2022-06-09T01:37:09.679Z"
   },
   {
    "duration": 48,
    "start_time": "2022-06-09T01:37:10.091Z"
   },
   {
    "duration": 92,
    "start_time": "2022-06-09T01:37:10.141Z"
   },
   {
    "duration": 98,
    "start_time": "2022-06-09T01:37:10.235Z"
   },
   {
    "duration": 6496,
    "start_time": "2022-06-09T01:37:10.335Z"
   },
   {
    "duration": 99,
    "start_time": "2022-06-09T01:37:16.833Z"
   },
   {
    "duration": 5,
    "start_time": "2022-06-09T01:37:16.934Z"
   },
   {
    "duration": 13,
    "start_time": "2022-06-09T01:37:16.941Z"
   },
   {
    "duration": 854,
    "start_time": "2022-06-09T01:37:16.957Z"
   },
   {
    "duration": 43,
    "start_time": "2022-06-09T01:37:17.813Z"
   },
   {
    "duration": 5,
    "start_time": "2022-06-09T01:37:17.858Z"
   },
   {
    "duration": 6,
    "start_time": "2022-06-09T01:37:17.864Z"
   },
   {
    "duration": 76,
    "start_time": "2022-06-09T01:37:17.871Z"
   },
   {
    "duration": 19,
    "start_time": "2022-06-09T01:37:17.948Z"
   },
   {
    "duration": 16,
    "start_time": "2022-06-09T01:37:17.969Z"
   },
   {
    "duration": 3,
    "start_time": "2022-06-09T01:37:17.986Z"
   },
   {
    "duration": 176,
    "start_time": "2022-06-09T01:37:17.990Z"
   },
   {
    "duration": 4,
    "start_time": "2022-06-09T01:37:18.168Z"
   },
   {
    "duration": 108,
    "start_time": "2022-06-09T01:37:18.173Z"
   },
   {
    "duration": 20,
    "start_time": "2022-06-09T01:37:18.283Z"
   },
   {
    "duration": 62,
    "start_time": "2022-06-09T01:37:18.305Z"
   },
   {
    "duration": 98,
    "start_time": "2022-06-09T01:37:18.369Z"
   },
   {
    "duration": 0,
    "start_time": "2022-06-09T01:37:18.469Z"
   },
   {
    "duration": 0,
    "start_time": "2022-06-09T01:37:18.470Z"
   },
   {
    "duration": 0,
    "start_time": "2022-06-09T01:37:18.471Z"
   },
   {
    "duration": 0,
    "start_time": "2022-06-09T01:37:18.472Z"
   },
   {
    "duration": 0,
    "start_time": "2022-06-09T01:37:18.473Z"
   },
   {
    "duration": 0,
    "start_time": "2022-06-09T01:37:18.474Z"
   },
   {
    "duration": 0,
    "start_time": "2022-06-09T01:37:18.475Z"
   },
   {
    "duration": 0,
    "start_time": "2022-06-09T01:37:18.476Z"
   },
   {
    "duration": 0,
    "start_time": "2022-06-09T01:37:18.477Z"
   },
   {
    "duration": 0,
    "start_time": "2022-06-09T01:37:18.478Z"
   },
   {
    "duration": 0,
    "start_time": "2022-06-09T01:37:18.479Z"
   },
   {
    "duration": 3,
    "start_time": "2022-06-09T01:37:56.197Z"
   },
   {
    "duration": 1019,
    "start_time": "2022-06-09T01:38:02.274Z"
   },
   {
    "duration": 46,
    "start_time": "2022-06-09T01:38:03.295Z"
   },
   {
    "duration": 16,
    "start_time": "2022-06-09T01:38:03.342Z"
   },
   {
    "duration": 21,
    "start_time": "2022-06-09T01:38:03.360Z"
   },
   {
    "duration": 7,
    "start_time": "2022-06-09T01:38:03.382Z"
   },
   {
    "duration": 18,
    "start_time": "2022-06-09T01:38:03.391Z"
   },
   {
    "duration": 18,
    "start_time": "2022-06-09T01:38:03.411Z"
   },
   {
    "duration": 21,
    "start_time": "2022-06-09T01:38:03.431Z"
   },
   {
    "duration": 20,
    "start_time": "2022-06-09T01:38:03.454Z"
   },
   {
    "duration": 6,
    "start_time": "2022-06-09T01:38:03.477Z"
   },
   {
    "duration": 47,
    "start_time": "2022-06-09T01:38:03.485Z"
   },
   {
    "duration": 3,
    "start_time": "2022-06-09T01:38:03.534Z"
   },
   {
    "duration": 22,
    "start_time": "2022-06-09T01:38:03.539Z"
   },
   {
    "duration": 27,
    "start_time": "2022-06-09T01:38:03.563Z"
   },
   {
    "duration": 201,
    "start_time": "2022-06-09T01:38:03.591Z"
   },
   {
    "duration": 33,
    "start_time": "2022-06-09T01:38:03.794Z"
   },
   {
    "duration": 71,
    "start_time": "2022-06-09T01:38:03.830Z"
   },
   {
    "duration": 33,
    "start_time": "2022-06-09T01:38:03.902Z"
   },
   {
    "duration": 145,
    "start_time": "2022-06-09T01:38:03.936Z"
   },
   {
    "duration": 5,
    "start_time": "2022-06-09T01:38:04.082Z"
   },
   {
    "duration": 78,
    "start_time": "2022-06-09T01:38:04.088Z"
   },
   {
    "duration": 62,
    "start_time": "2022-06-09T01:38:04.168Z"
   },
   {
    "duration": 2,
    "start_time": "2022-06-09T01:38:04.232Z"
   },
   {
    "duration": 10,
    "start_time": "2022-06-09T01:38:04.236Z"
   },
   {
    "duration": 20,
    "start_time": "2022-06-09T01:38:04.248Z"
   },
   {
    "duration": 21,
    "start_time": "2022-06-09T01:38:04.270Z"
   },
   {
    "duration": 72,
    "start_time": "2022-06-09T01:38:04.293Z"
   },
   {
    "duration": 14,
    "start_time": "2022-06-09T01:38:04.369Z"
   },
   {
    "duration": 4,
    "start_time": "2022-06-09T01:38:04.385Z"
   },
   {
    "duration": 7,
    "start_time": "2022-06-09T01:38:04.391Z"
   },
   {
    "duration": 28,
    "start_time": "2022-06-09T01:38:04.399Z"
   },
   {
    "duration": 406,
    "start_time": "2022-06-09T01:38:04.429Z"
   },
   {
    "duration": 42,
    "start_time": "2022-06-09T01:38:04.836Z"
   },
   {
    "duration": 7,
    "start_time": "2022-06-09T01:38:04.929Z"
   },
   {
    "duration": 89,
    "start_time": "2022-06-09T01:38:04.939Z"
   },
   {
    "duration": 6559,
    "start_time": "2022-06-09T01:38:05.030Z"
   },
   {
    "duration": 102,
    "start_time": "2022-06-09T01:38:11.591Z"
   },
   {
    "duration": 5,
    "start_time": "2022-06-09T01:38:11.695Z"
   },
   {
    "duration": 3,
    "start_time": "2022-06-09T01:38:11.702Z"
   },
   {
    "duration": 842,
    "start_time": "2022-06-09T01:38:11.707Z"
   },
   {
    "duration": 41,
    "start_time": "2022-06-09T01:38:12.551Z"
   },
   {
    "duration": 5,
    "start_time": "2022-06-09T01:38:12.594Z"
   },
   {
    "duration": 5,
    "start_time": "2022-06-09T01:38:12.600Z"
   },
   {
    "duration": 59,
    "start_time": "2022-06-09T01:38:12.628Z"
   },
   {
    "duration": 19,
    "start_time": "2022-06-09T01:38:12.688Z"
   },
   {
    "duration": 33,
    "start_time": "2022-06-09T01:38:12.709Z"
   },
   {
    "duration": 3,
    "start_time": "2022-06-09T01:38:12.744Z"
   },
   {
    "duration": 170,
    "start_time": "2022-06-09T01:38:12.749Z"
   },
   {
    "duration": 6,
    "start_time": "2022-06-09T01:38:12.921Z"
   },
   {
    "duration": 113,
    "start_time": "2022-06-09T01:38:12.929Z"
   },
   {
    "duration": 20,
    "start_time": "2022-06-09T01:38:13.044Z"
   },
   {
    "duration": 62,
    "start_time": "2022-06-09T01:38:13.066Z"
   },
   {
    "duration": 615,
    "start_time": "2022-06-09T01:38:13.130Z"
   },
   {
    "duration": 89,
    "start_time": "2022-06-09T01:38:13.747Z"
   },
   {
    "duration": 90,
    "start_time": "2022-06-09T01:38:13.838Z"
   },
   {
    "duration": 98,
    "start_time": "2022-06-09T01:38:13.930Z"
   },
   {
    "duration": 96,
    "start_time": "2022-06-09T01:38:14.031Z"
   },
   {
    "duration": 7,
    "start_time": "2022-06-09T01:38:14.130Z"
   },
   {
    "duration": 48,
    "start_time": "2022-06-09T01:38:14.140Z"
   },
   {
    "duration": 100698,
    "start_time": "2022-06-09T01:38:14.190Z"
   },
   {
    "duration": 55,
    "start_time": "2022-06-09T01:39:54.889Z"
   },
   {
    "duration": 7155,
    "start_time": "2022-06-09T01:39:54.946Z"
   },
   {
    "duration": 84,
    "start_time": "2022-06-09T01:40:02.103Z"
   },
   {
    "duration": 100,
    "start_time": "2022-06-09T01:40:02.189Z"
   },
   {
    "duration": 6,
    "start_time": "2022-06-09T01:41:14.532Z"
   },
   {
    "duration": 1037,
    "start_time": "2022-06-09T01:42:52.173Z"
   },
   {
    "duration": 50,
    "start_time": "2022-06-09T01:42:53.212Z"
   },
   {
    "duration": 22,
    "start_time": "2022-06-09T01:42:53.265Z"
   },
   {
    "duration": 30,
    "start_time": "2022-06-09T01:42:53.289Z"
   },
   {
    "duration": 7,
    "start_time": "2022-06-09T01:42:53.321Z"
   },
   {
    "duration": 32,
    "start_time": "2022-06-09T01:42:53.329Z"
   },
   {
    "duration": 5,
    "start_time": "2022-06-09T01:42:53.363Z"
   },
   {
    "duration": 20,
    "start_time": "2022-06-09T01:42:53.370Z"
   },
   {
    "duration": 50,
    "start_time": "2022-06-09T01:42:53.391Z"
   },
   {
    "duration": 6,
    "start_time": "2022-06-09T01:42:53.445Z"
   },
   {
    "duration": 48,
    "start_time": "2022-06-09T01:42:53.454Z"
   },
   {
    "duration": 23,
    "start_time": "2022-06-09T01:42:53.505Z"
   },
   {
    "duration": 7,
    "start_time": "2022-06-09T01:42:53.531Z"
   },
   {
    "duration": 33,
    "start_time": "2022-06-09T01:42:53.542Z"
   },
   {
    "duration": 4,
    "start_time": "2022-06-09T01:42:53.577Z"
   },
   {
    "duration": 27,
    "start_time": "2022-06-09T01:42:53.583Z"
   },
   {
    "duration": 31,
    "start_time": "2022-06-09T01:42:53.613Z"
   },
   {
    "duration": 7,
    "start_time": "2022-06-09T01:42:53.647Z"
   },
   {
    "duration": 220,
    "start_time": "2022-06-09T01:42:53.657Z"
   },
   {
    "duration": 32,
    "start_time": "2022-06-09T01:42:53.879Z"
   },
   {
    "duration": 114,
    "start_time": "2022-06-09T01:42:53.913Z"
   },
   {
    "duration": 53,
    "start_time": "2022-06-09T01:42:54.029Z"
   },
   {
    "duration": 4,
    "start_time": "2022-06-09T01:42:54.084Z"
   },
   {
    "duration": 13,
    "start_time": "2022-06-09T01:42:54.091Z"
   },
   {
    "duration": 34,
    "start_time": "2022-06-09T01:42:54.106Z"
   },
   {
    "duration": 22,
    "start_time": "2022-06-09T01:42:54.142Z"
   },
   {
    "duration": 92,
    "start_time": "2022-06-09T01:42:54.166Z"
   },
   {
    "duration": 23,
    "start_time": "2022-06-09T01:42:54.263Z"
   },
   {
    "duration": 6,
    "start_time": "2022-06-09T01:42:54.288Z"
   },
   {
    "duration": 36,
    "start_time": "2022-06-09T01:42:54.296Z"
   },
   {
    "duration": 29,
    "start_time": "2022-06-09T01:42:54.334Z"
   },
   {
    "duration": 604,
    "start_time": "2022-06-09T01:42:54.365Z"
   },
   {
    "duration": 60,
    "start_time": "2022-06-09T01:42:54.971Z"
   },
   {
    "duration": 6,
    "start_time": "2022-06-09T01:42:55.032Z"
   },
   {
    "duration": 193,
    "start_time": "2022-06-09T01:42:55.040Z"
   },
   {
    "duration": 7167,
    "start_time": "2022-06-09T01:42:55.236Z"
   },
   {
    "duration": 110,
    "start_time": "2022-06-09T01:43:02.405Z"
   },
   {
    "duration": 13,
    "start_time": "2022-06-09T01:43:02.517Z"
   },
   {
    "duration": 16,
    "start_time": "2022-06-09T01:43:02.532Z"
   },
   {
    "duration": 954,
    "start_time": "2022-06-09T01:43:02.550Z"
   },
   {
    "duration": 46,
    "start_time": "2022-06-09T01:43:03.505Z"
   },
   {
    "duration": 6,
    "start_time": "2022-06-09T01:43:03.553Z"
   },
   {
    "duration": 14,
    "start_time": "2022-06-09T01:43:03.562Z"
   },
   {
    "duration": 109,
    "start_time": "2022-06-09T01:43:03.578Z"
   },
   {
    "duration": 46,
    "start_time": "2022-06-09T01:43:03.689Z"
   },
   {
    "duration": 18,
    "start_time": "2022-06-09T01:43:03.737Z"
   },
   {
    "duration": 3,
    "start_time": "2022-06-09T01:43:03.757Z"
   },
   {
    "duration": 201,
    "start_time": "2022-06-09T01:43:03.762Z"
   },
   {
    "duration": 5,
    "start_time": "2022-06-09T01:43:03.965Z"
   },
   {
    "duration": 134,
    "start_time": "2022-06-09T01:43:03.972Z"
   },
   {
    "duration": 28,
    "start_time": "2022-06-09T01:43:04.108Z"
   },
   {
    "duration": 51,
    "start_time": "2022-06-09T01:43:04.138Z"
   },
   {
    "duration": 693,
    "start_time": "2022-06-09T01:43:04.191Z"
   },
   {
    "duration": 144,
    "start_time": "2022-06-09T01:43:04.886Z"
   },
   {
    "duration": 109,
    "start_time": "2022-06-09T01:43:05.032Z"
   },
   {
    "duration": 87,
    "start_time": "2022-06-09T01:43:05.143Z"
   },
   {
    "duration": 99,
    "start_time": "2022-06-09T01:43:05.232Z"
   },
   {
    "duration": 17,
    "start_time": "2022-06-09T01:43:05.333Z"
   },
   {
    "duration": 45,
    "start_time": "2022-06-09T01:43:05.352Z"
   },
   {
    "duration": 105609,
    "start_time": "2022-06-09T01:43:05.399Z"
   },
   {
    "duration": 53,
    "start_time": "2022-06-09T01:44:51.010Z"
   },
   {
    "duration": 7387,
    "start_time": "2022-06-09T01:44:51.065Z"
   },
   {
    "duration": 74,
    "start_time": "2022-06-09T01:44:58.453Z"
   },
   {
    "duration": 103,
    "start_time": "2022-06-09T01:44:58.530Z"
   },
   {
    "duration": 1073,
    "start_time": "2022-06-09T01:45:26.911Z"
   },
   {
    "duration": 46,
    "start_time": "2022-06-09T01:45:27.986Z"
   },
   {
    "duration": 13,
    "start_time": "2022-06-09T01:45:28.034Z"
   },
   {
    "duration": 19,
    "start_time": "2022-06-09T01:45:28.049Z"
   },
   {
    "duration": 3,
    "start_time": "2022-06-09T01:45:28.069Z"
   },
   {
    "duration": 22,
    "start_time": "2022-06-09T01:45:28.074Z"
   },
   {
    "duration": 31,
    "start_time": "2022-06-09T01:45:28.099Z"
   },
   {
    "duration": 39,
    "start_time": "2022-06-09T01:45:28.133Z"
   },
   {
    "duration": 53,
    "start_time": "2022-06-09T01:45:28.174Z"
   },
   {
    "duration": 9,
    "start_time": "2022-06-09T01:45:28.232Z"
   },
   {
    "duration": 49,
    "start_time": "2022-06-09T01:45:28.243Z"
   },
   {
    "duration": 4,
    "start_time": "2022-06-09T01:45:28.295Z"
   },
   {
    "duration": 8,
    "start_time": "2022-06-09T01:45:28.301Z"
   },
   {
    "duration": 21,
    "start_time": "2022-06-09T01:45:28.327Z"
   },
   {
    "duration": 7,
    "start_time": "2022-06-09T01:45:28.351Z"
   },
   {
    "duration": 18,
    "start_time": "2022-06-09T01:45:28.360Z"
   },
   {
    "duration": 18,
    "start_time": "2022-06-09T01:45:28.380Z"
   },
   {
    "duration": 10,
    "start_time": "2022-06-09T01:45:28.400Z"
   },
   {
    "duration": 203,
    "start_time": "2022-06-09T01:45:28.428Z"
   },
   {
    "duration": 28,
    "start_time": "2022-06-09T01:45:28.633Z"
   },
   {
    "duration": 120,
    "start_time": "2022-06-09T01:45:28.662Z"
   },
   {
    "duration": 55,
    "start_time": "2022-06-09T01:45:28.784Z"
   },
   {
    "duration": 3,
    "start_time": "2022-06-09T01:45:28.840Z"
   },
   {
    "duration": 16,
    "start_time": "2022-06-09T01:45:28.845Z"
   },
   {
    "duration": 226,
    "start_time": "2022-06-09T01:45:28.863Z"
   },
   {
    "duration": 0,
    "start_time": "2022-06-09T01:45:29.092Z"
   },
   {
    "duration": 0,
    "start_time": "2022-06-09T01:45:29.093Z"
   },
   {
    "duration": 0,
    "start_time": "2022-06-09T01:45:29.094Z"
   },
   {
    "duration": 0,
    "start_time": "2022-06-09T01:45:29.095Z"
   },
   {
    "duration": 0,
    "start_time": "2022-06-09T01:45:29.096Z"
   },
   {
    "duration": 0,
    "start_time": "2022-06-09T01:45:29.097Z"
   },
   {
    "duration": 0,
    "start_time": "2022-06-09T01:45:29.098Z"
   },
   {
    "duration": 0,
    "start_time": "2022-06-09T01:45:29.099Z"
   },
   {
    "duration": 0,
    "start_time": "2022-06-09T01:45:29.100Z"
   },
   {
    "duration": 0,
    "start_time": "2022-06-09T01:45:29.101Z"
   },
   {
    "duration": 0,
    "start_time": "2022-06-09T01:45:29.103Z"
   },
   {
    "duration": 0,
    "start_time": "2022-06-09T01:45:29.105Z"
   },
   {
    "duration": 0,
    "start_time": "2022-06-09T01:45:29.106Z"
   },
   {
    "duration": 0,
    "start_time": "2022-06-09T01:45:29.108Z"
   },
   {
    "duration": 0,
    "start_time": "2022-06-09T01:45:29.109Z"
   },
   {
    "duration": 0,
    "start_time": "2022-06-09T01:45:29.129Z"
   },
   {
    "duration": 0,
    "start_time": "2022-06-09T01:45:29.131Z"
   },
   {
    "duration": 0,
    "start_time": "2022-06-09T01:45:29.133Z"
   },
   {
    "duration": 0,
    "start_time": "2022-06-09T01:45:29.135Z"
   },
   {
    "duration": 0,
    "start_time": "2022-06-09T01:45:29.136Z"
   },
   {
    "duration": 0,
    "start_time": "2022-06-09T01:45:29.139Z"
   },
   {
    "duration": 0,
    "start_time": "2022-06-09T01:45:29.140Z"
   },
   {
    "duration": 0,
    "start_time": "2022-06-09T01:45:29.143Z"
   },
   {
    "duration": 0,
    "start_time": "2022-06-09T01:45:29.144Z"
   },
   {
    "duration": 0,
    "start_time": "2022-06-09T01:45:29.144Z"
   },
   {
    "duration": 0,
    "start_time": "2022-06-09T01:45:29.145Z"
   },
   {
    "duration": 0,
    "start_time": "2022-06-09T01:45:29.146Z"
   },
   {
    "duration": 0,
    "start_time": "2022-06-09T01:45:29.147Z"
   },
   {
    "duration": 0,
    "start_time": "2022-06-09T01:45:29.149Z"
   },
   {
    "duration": 0,
    "start_time": "2022-06-09T01:45:29.149Z"
   },
   {
    "duration": 0,
    "start_time": "2022-06-09T01:45:29.151Z"
   },
   {
    "duration": 0,
    "start_time": "2022-06-09T01:45:29.152Z"
   },
   {
    "duration": 0,
    "start_time": "2022-06-09T01:45:29.153Z"
   },
   {
    "duration": 0,
    "start_time": "2022-06-09T01:45:29.154Z"
   },
   {
    "duration": 0,
    "start_time": "2022-06-09T01:45:29.154Z"
   },
   {
    "duration": 0,
    "start_time": "2022-06-09T01:45:29.155Z"
   },
   {
    "duration": 0,
    "start_time": "2022-06-09T01:45:29.157Z"
   },
   {
    "duration": 0,
    "start_time": "2022-06-09T01:45:29.158Z"
   },
   {
    "duration": 0,
    "start_time": "2022-06-09T01:45:29.160Z"
   },
   {
    "duration": 1076,
    "start_time": "2022-06-09T01:46:09.210Z"
   },
   {
    "duration": 45,
    "start_time": "2022-06-09T01:46:10.288Z"
   },
   {
    "duration": 15,
    "start_time": "2022-06-09T01:46:10.334Z"
   },
   {
    "duration": 38,
    "start_time": "2022-06-09T01:46:10.352Z"
   },
   {
    "duration": 3,
    "start_time": "2022-06-09T01:46:10.392Z"
   },
   {
    "duration": 36,
    "start_time": "2022-06-09T01:46:10.397Z"
   },
   {
    "duration": 18,
    "start_time": "2022-06-09T01:46:10.434Z"
   },
   {
    "duration": 29,
    "start_time": "2022-06-09T01:46:10.453Z"
   },
   {
    "duration": 33,
    "start_time": "2022-06-09T01:46:10.483Z"
   },
   {
    "duration": 5,
    "start_time": "2022-06-09T01:46:10.519Z"
   },
   {
    "duration": 31,
    "start_time": "2022-06-09T01:46:10.526Z"
   },
   {
    "duration": 10,
    "start_time": "2022-06-09T01:46:10.559Z"
   },
   {
    "duration": 14,
    "start_time": "2022-06-09T01:46:10.570Z"
   },
   {
    "duration": 20,
    "start_time": "2022-06-09T01:46:10.586Z"
   },
   {
    "duration": 20,
    "start_time": "2022-06-09T01:46:10.607Z"
   },
   {
    "duration": 41,
    "start_time": "2022-06-09T01:46:10.628Z"
   },
   {
    "duration": 27,
    "start_time": "2022-06-09T01:46:10.671Z"
   },
   {
    "duration": 15,
    "start_time": "2022-06-09T01:46:10.701Z"
   },
   {
    "duration": 225,
    "start_time": "2022-06-09T01:46:10.718Z"
   },
   {
    "duration": 27,
    "start_time": "2022-06-09T01:46:10.944Z"
   },
   {
    "duration": 108,
    "start_time": "2022-06-09T01:46:10.973Z"
   },
   {
    "duration": 54,
    "start_time": "2022-06-09T01:46:11.083Z"
   },
   {
    "duration": 4,
    "start_time": "2022-06-09T01:46:11.140Z"
   },
   {
    "duration": 377,
    "start_time": "2022-06-09T01:46:11.146Z"
   },
   {
    "duration": 170,
    "start_time": "2022-06-09T01:46:11.525Z"
   },
   {
    "duration": 5,
    "start_time": "2022-06-09T01:46:11.697Z"
   },
   {
    "duration": 55,
    "start_time": "2022-06-09T01:46:11.704Z"
   },
   {
    "duration": 14,
    "start_time": "2022-06-09T01:46:11.763Z"
   },
   {
    "duration": 4,
    "start_time": "2022-06-09T01:46:11.779Z"
   },
   {
    "duration": 9,
    "start_time": "2022-06-09T01:46:11.786Z"
   },
   {
    "duration": 7,
    "start_time": "2022-06-09T01:46:11.798Z"
   },
   {
    "duration": 4930,
    "start_time": "2022-06-09T01:46:11.807Z"
   },
   {
    "duration": 188,
    "start_time": "2022-06-09T01:46:16.739Z"
   },
   {
    "duration": 8,
    "start_time": "2022-06-09T01:46:16.930Z"
   },
   {
    "duration": 19,
    "start_time": "2022-06-09T01:46:16.939Z"
   },
   {
    "duration": 6595,
    "start_time": "2022-06-09T01:46:16.961Z"
   },
   {
    "duration": 110,
    "start_time": "2022-06-09T01:46:23.558Z"
   },
   {
    "duration": 6,
    "start_time": "2022-06-09T01:46:23.669Z"
   },
   {
    "duration": 38,
    "start_time": "2022-06-09T01:46:23.676Z"
   },
   {
    "duration": 797,
    "start_time": "2022-06-09T01:46:23.716Z"
   },
   {
    "duration": 48,
    "start_time": "2022-06-09T01:46:24.514Z"
   },
   {
    "duration": 5,
    "start_time": "2022-06-09T01:46:24.564Z"
   },
   {
    "duration": 22,
    "start_time": "2022-06-09T01:46:24.571Z"
   },
   {
    "duration": 343,
    "start_time": "2022-06-09T01:46:24.595Z"
   },
   {
    "duration": 0,
    "start_time": "2022-06-09T01:46:24.939Z"
   },
   {
    "duration": 0,
    "start_time": "2022-06-09T01:46:24.941Z"
   },
   {
    "duration": 0,
    "start_time": "2022-06-09T01:46:24.942Z"
   },
   {
    "duration": 0,
    "start_time": "2022-06-09T01:46:24.943Z"
   },
   {
    "duration": 0,
    "start_time": "2022-06-09T01:46:24.944Z"
   },
   {
    "duration": 0,
    "start_time": "2022-06-09T01:46:24.945Z"
   },
   {
    "duration": 0,
    "start_time": "2022-06-09T01:46:24.946Z"
   },
   {
    "duration": 0,
    "start_time": "2022-06-09T01:46:24.947Z"
   },
   {
    "duration": 0,
    "start_time": "2022-06-09T01:46:24.948Z"
   },
   {
    "duration": 0,
    "start_time": "2022-06-09T01:46:24.949Z"
   },
   {
    "duration": 0,
    "start_time": "2022-06-09T01:46:24.950Z"
   },
   {
    "duration": 0,
    "start_time": "2022-06-09T01:46:24.952Z"
   },
   {
    "duration": 0,
    "start_time": "2022-06-09T01:46:24.953Z"
   },
   {
    "duration": 0,
    "start_time": "2022-06-09T01:46:24.954Z"
   },
   {
    "duration": 0,
    "start_time": "2022-06-09T01:46:24.955Z"
   },
   {
    "duration": 0,
    "start_time": "2022-06-09T01:46:24.956Z"
   },
   {
    "duration": 0,
    "start_time": "2022-06-09T01:46:24.957Z"
   },
   {
    "duration": 0,
    "start_time": "2022-06-09T01:46:24.958Z"
   },
   {
    "duration": 0,
    "start_time": "2022-06-09T01:46:24.959Z"
   },
   {
    "duration": 0,
    "start_time": "2022-06-09T01:46:24.960Z"
   },
   {
    "duration": 1096,
    "start_time": "2022-06-09T01:49:04.503Z"
   },
   {
    "duration": 46,
    "start_time": "2022-06-09T01:49:05.601Z"
   },
   {
    "duration": 13,
    "start_time": "2022-06-09T01:49:05.649Z"
   },
   {
    "duration": 18,
    "start_time": "2022-06-09T01:49:05.664Z"
   },
   {
    "duration": 5,
    "start_time": "2022-06-09T01:49:05.684Z"
   },
   {
    "duration": 16,
    "start_time": "2022-06-09T01:49:05.690Z"
   },
   {
    "duration": 19,
    "start_time": "2022-06-09T01:49:05.708Z"
   },
   {
    "duration": 17,
    "start_time": "2022-06-09T01:49:05.729Z"
   },
   {
    "duration": 32,
    "start_time": "2022-06-09T01:49:05.747Z"
   },
   {
    "duration": 7,
    "start_time": "2022-06-09T01:49:05.783Z"
   },
   {
    "duration": 38,
    "start_time": "2022-06-09T01:49:05.792Z"
   },
   {
    "duration": 11,
    "start_time": "2022-06-09T01:49:05.831Z"
   },
   {
    "duration": 10,
    "start_time": "2022-06-09T01:49:05.843Z"
   },
   {
    "duration": 18,
    "start_time": "2022-06-09T01:49:05.854Z"
   },
   {
    "duration": 5,
    "start_time": "2022-06-09T01:49:05.874Z"
   },
   {
    "duration": 24,
    "start_time": "2022-06-09T01:49:05.880Z"
   },
   {
    "duration": 22,
    "start_time": "2022-06-09T01:49:05.906Z"
   },
   {
    "duration": 4,
    "start_time": "2022-06-09T01:49:05.930Z"
   },
   {
    "duration": 207,
    "start_time": "2022-06-09T01:49:05.935Z"
   },
   {
    "duration": 23,
    "start_time": "2022-06-09T01:49:06.144Z"
   },
   {
    "duration": 119,
    "start_time": "2022-06-09T01:49:06.169Z"
   },
   {
    "duration": 62,
    "start_time": "2022-06-09T01:49:06.290Z"
   },
   {
    "duration": 4,
    "start_time": "2022-06-09T01:49:06.354Z"
   },
   {
    "duration": 14,
    "start_time": "2022-06-09T01:49:06.360Z"
   },
   {
    "duration": 10,
    "start_time": "2022-06-09T01:49:06.376Z"
   },
   {
    "duration": 104,
    "start_time": "2022-06-09T01:49:06.387Z"
   },
   {
    "duration": 0,
    "start_time": "2022-06-09T01:49:06.494Z"
   },
   {
    "duration": 0,
    "start_time": "2022-06-09T01:49:06.495Z"
   },
   {
    "duration": 0,
    "start_time": "2022-06-09T01:49:06.496Z"
   },
   {
    "duration": 0,
    "start_time": "2022-06-09T01:49:06.497Z"
   },
   {
    "duration": 0,
    "start_time": "2022-06-09T01:49:06.498Z"
   },
   {
    "duration": 0,
    "start_time": "2022-06-09T01:49:06.499Z"
   },
   {
    "duration": 0,
    "start_time": "2022-06-09T01:49:06.500Z"
   },
   {
    "duration": 0,
    "start_time": "2022-06-09T01:49:06.501Z"
   },
   {
    "duration": 0,
    "start_time": "2022-06-09T01:49:06.502Z"
   },
   {
    "duration": 0,
    "start_time": "2022-06-09T01:49:06.503Z"
   },
   {
    "duration": 0,
    "start_time": "2022-06-09T01:49:06.504Z"
   },
   {
    "duration": 0,
    "start_time": "2022-06-09T01:49:06.505Z"
   },
   {
    "duration": 0,
    "start_time": "2022-06-09T01:49:06.527Z"
   },
   {
    "duration": 0,
    "start_time": "2022-06-09T01:49:06.528Z"
   },
   {
    "duration": 0,
    "start_time": "2022-06-09T01:49:06.529Z"
   },
   {
    "duration": 0,
    "start_time": "2022-06-09T01:49:06.530Z"
   },
   {
    "duration": 0,
    "start_time": "2022-06-09T01:49:06.531Z"
   },
   {
    "duration": 0,
    "start_time": "2022-06-09T01:49:06.532Z"
   },
   {
    "duration": 0,
    "start_time": "2022-06-09T01:49:06.534Z"
   },
   {
    "duration": 0,
    "start_time": "2022-06-09T01:49:06.534Z"
   },
   {
    "duration": 0,
    "start_time": "2022-06-09T01:49:06.535Z"
   },
   {
    "duration": 0,
    "start_time": "2022-06-09T01:49:06.536Z"
   },
   {
    "duration": 0,
    "start_time": "2022-06-09T01:49:06.537Z"
   },
   {
    "duration": 0,
    "start_time": "2022-06-09T01:49:06.538Z"
   },
   {
    "duration": 0,
    "start_time": "2022-06-09T01:49:06.539Z"
   },
   {
    "duration": 0,
    "start_time": "2022-06-09T01:49:06.540Z"
   },
   {
    "duration": 0,
    "start_time": "2022-06-09T01:49:06.542Z"
   },
   {
    "duration": 0,
    "start_time": "2022-06-09T01:49:06.543Z"
   },
   {
    "duration": 0,
    "start_time": "2022-06-09T01:49:06.544Z"
   },
   {
    "duration": 0,
    "start_time": "2022-06-09T01:49:06.545Z"
   },
   {
    "duration": 0,
    "start_time": "2022-06-09T01:49:06.546Z"
   },
   {
    "duration": 0,
    "start_time": "2022-06-09T01:49:06.547Z"
   },
   {
    "duration": 0,
    "start_time": "2022-06-09T01:49:06.548Z"
   },
   {
    "duration": 0,
    "start_time": "2022-06-09T01:49:06.549Z"
   },
   {
    "duration": 0,
    "start_time": "2022-06-09T01:49:06.550Z"
   },
   {
    "duration": 0,
    "start_time": "2022-06-09T01:49:06.551Z"
   },
   {
    "duration": 0,
    "start_time": "2022-06-09T01:49:06.552Z"
   },
   {
    "duration": 0,
    "start_time": "2022-06-09T01:49:06.553Z"
   },
   {
    "duration": 10,
    "start_time": "2022-06-09T01:49:33.798Z"
   },
   {
    "duration": 1046,
    "start_time": "2022-06-09T01:49:45.659Z"
   },
   {
    "duration": 45,
    "start_time": "2022-06-09T01:49:46.707Z"
   },
   {
    "duration": 16,
    "start_time": "2022-06-09T01:49:46.754Z"
   },
   {
    "duration": 19,
    "start_time": "2022-06-09T01:49:46.771Z"
   },
   {
    "duration": 3,
    "start_time": "2022-06-09T01:49:46.791Z"
   },
   {
    "duration": 17,
    "start_time": "2022-06-09T01:49:46.795Z"
   },
   {
    "duration": 15,
    "start_time": "2022-06-09T01:49:46.813Z"
   },
   {
    "duration": 18,
    "start_time": "2022-06-09T01:49:46.830Z"
   },
   {
    "duration": 25,
    "start_time": "2022-06-09T01:49:46.849Z"
   },
   {
    "duration": 7,
    "start_time": "2022-06-09T01:49:46.876Z"
   },
   {
    "duration": 30,
    "start_time": "2022-06-09T01:49:46.885Z"
   },
   {
    "duration": 4,
    "start_time": "2022-06-09T01:49:46.926Z"
   },
   {
    "duration": 16,
    "start_time": "2022-06-09T01:49:46.934Z"
   },
   {
    "duration": 24,
    "start_time": "2022-06-09T01:49:46.952Z"
   },
   {
    "duration": 6,
    "start_time": "2022-06-09T01:49:46.978Z"
   },
   {
    "duration": 28,
    "start_time": "2022-06-09T01:49:46.986Z"
   },
   {
    "duration": 26,
    "start_time": "2022-06-09T01:49:47.016Z"
   },
   {
    "duration": 5,
    "start_time": "2022-06-09T01:49:47.044Z"
   },
   {
    "duration": 209,
    "start_time": "2022-06-09T01:49:47.051Z"
   },
   {
    "duration": 28,
    "start_time": "2022-06-09T01:49:47.261Z"
   },
   {
    "duration": 108,
    "start_time": "2022-06-09T01:49:47.291Z"
   },
   {
    "duration": 53,
    "start_time": "2022-06-09T01:49:47.400Z"
   },
   {
    "duration": 3,
    "start_time": "2022-06-09T01:49:47.455Z"
   },
   {
    "duration": 15,
    "start_time": "2022-06-09T01:49:47.459Z"
   },
   {
    "duration": 6,
    "start_time": "2022-06-09T01:49:47.476Z"
   },
   {
    "duration": 14,
    "start_time": "2022-06-09T01:49:47.484Z"
   },
   {
    "duration": 62,
    "start_time": "2022-06-09T01:49:47.500Z"
   },
   {
    "duration": 13,
    "start_time": "2022-06-09T01:49:47.565Z"
   },
   {
    "duration": 3,
    "start_time": "2022-06-09T01:49:47.580Z"
   },
   {
    "duration": 7,
    "start_time": "2022-06-09T01:49:47.585Z"
   },
   {
    "duration": 16,
    "start_time": "2022-06-09T01:49:47.593Z"
   },
   {
    "duration": 20,
    "start_time": "2022-06-09T01:49:47.610Z"
   },
   {
    "duration": 129,
    "start_time": "2022-06-09T01:49:47.631Z"
   },
   {
    "duration": 0,
    "start_time": "2022-06-09T01:49:47.762Z"
   },
   {
    "duration": 0,
    "start_time": "2022-06-09T01:49:47.763Z"
   },
   {
    "duration": 0,
    "start_time": "2022-06-09T01:49:47.765Z"
   },
   {
    "duration": 0,
    "start_time": "2022-06-09T01:49:47.766Z"
   },
   {
    "duration": 0,
    "start_time": "2022-06-09T01:49:47.768Z"
   },
   {
    "duration": 0,
    "start_time": "2022-06-09T01:49:47.769Z"
   },
   {
    "duration": 0,
    "start_time": "2022-06-09T01:49:47.771Z"
   },
   {
    "duration": 0,
    "start_time": "2022-06-09T01:49:47.772Z"
   },
   {
    "duration": 0,
    "start_time": "2022-06-09T01:49:47.774Z"
   },
   {
    "duration": 0,
    "start_time": "2022-06-09T01:49:47.775Z"
   },
   {
    "duration": 0,
    "start_time": "2022-06-09T01:49:47.776Z"
   },
   {
    "duration": 0,
    "start_time": "2022-06-09T01:49:47.778Z"
   },
   {
    "duration": 0,
    "start_time": "2022-06-09T01:49:47.779Z"
   },
   {
    "duration": 0,
    "start_time": "2022-06-09T01:49:47.780Z"
   },
   {
    "duration": 0,
    "start_time": "2022-06-09T01:49:47.782Z"
   },
   {
    "duration": 0,
    "start_time": "2022-06-09T01:49:47.783Z"
   },
   {
    "duration": 0,
    "start_time": "2022-06-09T01:49:47.784Z"
   },
   {
    "duration": 0,
    "start_time": "2022-06-09T01:49:47.785Z"
   },
   {
    "duration": 0,
    "start_time": "2022-06-09T01:49:47.826Z"
   },
   {
    "duration": 0,
    "start_time": "2022-06-09T01:49:47.828Z"
   },
   {
    "duration": 0,
    "start_time": "2022-06-09T01:49:47.828Z"
   },
   {
    "duration": 0,
    "start_time": "2022-06-09T01:49:47.830Z"
   },
   {
    "duration": 0,
    "start_time": "2022-06-09T01:49:47.831Z"
   },
   {
    "duration": 0,
    "start_time": "2022-06-09T01:49:47.832Z"
   },
   {
    "duration": 0,
    "start_time": "2022-06-09T01:49:47.833Z"
   },
   {
    "duration": 0,
    "start_time": "2022-06-09T01:49:47.834Z"
   },
   {
    "duration": 0,
    "start_time": "2022-06-09T01:49:47.835Z"
   },
   {
    "duration": 0,
    "start_time": "2022-06-09T01:49:47.836Z"
   },
   {
    "duration": 0,
    "start_time": "2022-06-09T01:49:47.838Z"
   },
   {
    "duration": 0,
    "start_time": "2022-06-09T01:49:47.839Z"
   },
   {
    "duration": 0,
    "start_time": "2022-06-09T01:49:47.840Z"
   },
   {
    "duration": 8,
    "start_time": "2022-06-09T01:50:08.525Z"
   },
   {
    "duration": 1134,
    "start_time": "2022-06-09T01:50:15.399Z"
   },
   {
    "duration": 49,
    "start_time": "2022-06-09T01:50:16.535Z"
   },
   {
    "duration": 14,
    "start_time": "2022-06-09T01:50:16.586Z"
   },
   {
    "duration": 20,
    "start_time": "2022-06-09T01:50:16.602Z"
   },
   {
    "duration": 3,
    "start_time": "2022-06-09T01:50:16.624Z"
   },
   {
    "duration": 17,
    "start_time": "2022-06-09T01:50:16.628Z"
   },
   {
    "duration": 6,
    "start_time": "2022-06-09T01:50:16.646Z"
   },
   {
    "duration": 15,
    "start_time": "2022-06-09T01:50:16.653Z"
   },
   {
    "duration": 30,
    "start_time": "2022-06-09T01:50:16.670Z"
   },
   {
    "duration": 5,
    "start_time": "2022-06-09T01:50:16.702Z"
   },
   {
    "duration": 37,
    "start_time": "2022-06-09T01:50:16.709Z"
   },
   {
    "duration": 4,
    "start_time": "2022-06-09T01:50:16.747Z"
   },
   {
    "duration": 9,
    "start_time": "2022-06-09T01:50:16.752Z"
   },
   {
    "duration": 13,
    "start_time": "2022-06-09T01:50:16.762Z"
   },
   {
    "duration": 3,
    "start_time": "2022-06-09T01:50:16.777Z"
   },
   {
    "duration": 46,
    "start_time": "2022-06-09T01:50:16.782Z"
   },
   {
    "duration": 12,
    "start_time": "2022-06-09T01:50:16.830Z"
   },
   {
    "duration": 4,
    "start_time": "2022-06-09T01:50:16.843Z"
   },
   {
    "duration": 221,
    "start_time": "2022-06-09T01:50:16.849Z"
   },
   {
    "duration": 24,
    "start_time": "2022-06-09T01:50:17.072Z"
   },
   {
    "duration": 104,
    "start_time": "2022-06-09T01:50:17.097Z"
   },
   {
    "duration": 52,
    "start_time": "2022-06-09T01:50:17.203Z"
   },
   {
    "duration": 6,
    "start_time": "2022-06-09T01:50:17.257Z"
   },
   {
    "duration": 20,
    "start_time": "2022-06-09T01:50:17.264Z"
   },
   {
    "duration": 19,
    "start_time": "2022-06-09T01:50:17.285Z"
   },
   {
    "duration": 30,
    "start_time": "2022-06-09T01:50:17.306Z"
   },
   {
    "duration": 48,
    "start_time": "2022-06-09T01:50:17.337Z"
   },
   {
    "duration": 15,
    "start_time": "2022-06-09T01:50:17.389Z"
   },
   {
    "duration": 5,
    "start_time": "2022-06-09T01:50:17.427Z"
   },
   {
    "duration": 11,
    "start_time": "2022-06-09T01:50:17.434Z"
   },
   {
    "duration": 5,
    "start_time": "2022-06-09T01:50:17.446Z"
   },
   {
    "duration": 397,
    "start_time": "2022-06-09T01:50:17.453Z"
   },
   {
    "duration": 76,
    "start_time": "2022-06-09T01:50:17.852Z"
   },
   {
    "duration": 97,
    "start_time": "2022-06-09T01:50:17.930Z"
   },
   {
    "duration": 7,
    "start_time": "2022-06-09T01:50:18.029Z"
   },
   {
    "duration": 6551,
    "start_time": "2022-06-09T01:50:18.038Z"
   },
   {
    "duration": 95,
    "start_time": "2022-06-09T01:50:24.590Z"
   },
   {
    "duration": 5,
    "start_time": "2022-06-09T01:50:24.686Z"
   },
   {
    "duration": 5,
    "start_time": "2022-06-09T01:50:24.693Z"
   },
   {
    "duration": 811,
    "start_time": "2022-06-09T01:50:24.699Z"
   },
   {
    "duration": 44,
    "start_time": "2022-06-09T01:50:25.512Z"
   },
   {
    "duration": 5,
    "start_time": "2022-06-09T01:50:25.558Z"
   },
   {
    "duration": 15,
    "start_time": "2022-06-09T01:50:25.565Z"
   },
   {
    "duration": 69,
    "start_time": "2022-06-09T01:50:25.581Z"
   },
   {
    "duration": 19,
    "start_time": "2022-06-09T01:50:25.651Z"
   },
   {
    "duration": 17,
    "start_time": "2022-06-09T01:50:25.671Z"
   },
   {
    "duration": 8,
    "start_time": "2022-06-09T01:50:25.690Z"
   },
   {
    "duration": 168,
    "start_time": "2022-06-09T01:50:25.699Z"
   },
   {
    "duration": 4,
    "start_time": "2022-06-09T01:50:25.868Z"
   },
   {
    "duration": 122,
    "start_time": "2022-06-09T01:50:25.873Z"
   },
   {
    "duration": 20,
    "start_time": "2022-06-09T01:50:25.996Z"
   },
   {
    "duration": 49,
    "start_time": "2022-06-09T01:50:26.018Z"
   },
   {
    "duration": 620,
    "start_time": "2022-06-09T01:50:26.069Z"
   },
   {
    "duration": 44,
    "start_time": "2022-06-09T01:50:26.691Z"
   },
   {
    "duration": 95,
    "start_time": "2022-06-09T01:50:26.737Z"
   },
   {
    "duration": 194,
    "start_time": "2022-06-09T01:50:26.834Z"
   },
   {
    "duration": 7,
    "start_time": "2022-06-09T01:50:27.030Z"
   },
   {
    "duration": 109,
    "start_time": "2022-06-09T01:50:27.039Z"
   },
   {
    "duration": 65,
    "start_time": "2022-06-09T01:50:27.149Z"
   },
   {
    "duration": 97878,
    "start_time": "2022-06-09T01:50:27.215Z"
   },
   {
    "duration": 52,
    "start_time": "2022-06-09T01:52:05.094Z"
   },
   {
    "duration": 6975,
    "start_time": "2022-06-09T01:52:05.148Z"
   },
   {
    "duration": 43,
    "start_time": "2022-06-09T01:52:12.124Z"
   },
   {
    "duration": 101,
    "start_time": "2022-06-09T01:52:12.169Z"
   },
   {
    "duration": 1083,
    "start_time": "2022-06-09T01:55:05.454Z"
   },
   {
    "duration": 50,
    "start_time": "2022-06-09T01:55:06.539Z"
   },
   {
    "duration": 13,
    "start_time": "2022-06-09T01:55:06.591Z"
   },
   {
    "duration": 20,
    "start_time": "2022-06-09T01:55:06.606Z"
   },
   {
    "duration": 3,
    "start_time": "2022-06-09T01:55:06.628Z"
   },
   {
    "duration": 17,
    "start_time": "2022-06-09T01:55:06.633Z"
   },
   {
    "duration": 7,
    "start_time": "2022-06-09T01:55:06.652Z"
   },
   {
    "duration": 17,
    "start_time": "2022-06-09T01:55:06.660Z"
   },
   {
    "duration": 22,
    "start_time": "2022-06-09T01:55:06.678Z"
   },
   {
    "duration": 6,
    "start_time": "2022-06-09T01:55:06.726Z"
   },
   {
    "duration": 22,
    "start_time": "2022-06-09T01:55:06.733Z"
   },
   {
    "duration": 3,
    "start_time": "2022-06-09T01:55:06.756Z"
   },
   {
    "duration": 7,
    "start_time": "2022-06-09T01:55:06.761Z"
   },
   {
    "duration": 12,
    "start_time": "2022-06-09T01:55:06.769Z"
   },
   {
    "duration": 4,
    "start_time": "2022-06-09T01:55:06.782Z"
   },
   {
    "duration": 40,
    "start_time": "2022-06-09T01:55:06.788Z"
   },
   {
    "duration": 11,
    "start_time": "2022-06-09T01:55:06.829Z"
   },
   {
    "duration": 4,
    "start_time": "2022-06-09T01:55:06.841Z"
   },
   {
    "duration": 8,
    "start_time": "2022-06-09T01:55:06.847Z"
   },
   {
    "duration": 6,
    "start_time": "2022-06-09T01:55:06.856Z"
   },
   {
    "duration": 215,
    "start_time": "2022-06-09T01:55:06.864Z"
   },
   {
    "duration": 19,
    "start_time": "2022-06-09T01:55:07.081Z"
   },
   {
    "duration": 6,
    "start_time": "2022-06-09T01:55:07.101Z"
   },
   {
    "duration": 46,
    "start_time": "2022-06-09T01:55:07.109Z"
   },
   {
    "duration": 20,
    "start_time": "2022-06-09T01:55:07.156Z"
   },
   {
    "duration": 21,
    "start_time": "2022-06-09T01:55:07.178Z"
   },
   {
    "duration": 4,
    "start_time": "2022-06-09T01:55:07.200Z"
   },
   {
    "duration": 5,
    "start_time": "2022-06-09T01:55:07.229Z"
   },
   {
    "duration": 8,
    "start_time": "2022-06-09T01:55:07.235Z"
   },
   {
    "duration": 26,
    "start_time": "2022-06-09T01:55:07.245Z"
   },
   {
    "duration": 11,
    "start_time": "2022-06-09T01:55:07.272Z"
   },
   {
    "duration": 561,
    "start_time": "2022-06-09T01:55:07.285Z"
   },
   {
    "duration": 0,
    "start_time": "2022-06-09T01:55:07.848Z"
   },
   {
    "duration": 0,
    "start_time": "2022-06-09T01:55:07.849Z"
   },
   {
    "duration": 0,
    "start_time": "2022-06-09T01:55:07.850Z"
   },
   {
    "duration": 0,
    "start_time": "2022-06-09T01:55:07.850Z"
   },
   {
    "duration": 0,
    "start_time": "2022-06-09T01:55:07.851Z"
   },
   {
    "duration": 0,
    "start_time": "2022-06-09T01:55:07.852Z"
   },
   {
    "duration": 0,
    "start_time": "2022-06-09T01:55:07.853Z"
   },
   {
    "duration": 0,
    "start_time": "2022-06-09T01:55:07.854Z"
   },
   {
    "duration": 0,
    "start_time": "2022-06-09T01:55:07.856Z"
   },
   {
    "duration": 0,
    "start_time": "2022-06-09T01:55:07.857Z"
   },
   {
    "duration": 0,
    "start_time": "2022-06-09T01:55:07.858Z"
   },
   {
    "duration": 0,
    "start_time": "2022-06-09T01:55:07.859Z"
   },
   {
    "duration": 0,
    "start_time": "2022-06-09T01:55:07.860Z"
   },
   {
    "duration": 0,
    "start_time": "2022-06-09T01:55:07.861Z"
   },
   {
    "duration": 0,
    "start_time": "2022-06-09T01:55:07.862Z"
   },
   {
    "duration": 0,
    "start_time": "2022-06-09T01:55:07.863Z"
   },
   {
    "duration": 1,
    "start_time": "2022-06-09T01:55:07.863Z"
   },
   {
    "duration": 0,
    "start_time": "2022-06-09T01:55:07.865Z"
   },
   {
    "duration": 0,
    "start_time": "2022-06-09T01:55:07.866Z"
   },
   {
    "duration": 0,
    "start_time": "2022-06-09T01:55:07.866Z"
   },
   {
    "duration": 0,
    "start_time": "2022-06-09T01:55:07.867Z"
   },
   {
    "duration": 0,
    "start_time": "2022-06-09T01:55:07.868Z"
   },
   {
    "duration": 0,
    "start_time": "2022-06-09T01:55:07.869Z"
   },
   {
    "duration": 0,
    "start_time": "2022-06-09T01:55:07.870Z"
   },
   {
    "duration": 0,
    "start_time": "2022-06-09T01:55:07.871Z"
   },
   {
    "duration": 0,
    "start_time": "2022-06-09T01:55:07.872Z"
   },
   {
    "duration": 0,
    "start_time": "2022-06-09T01:55:07.873Z"
   },
   {
    "duration": 0,
    "start_time": "2022-06-09T01:55:07.874Z"
   },
   {
    "duration": 0,
    "start_time": "2022-06-09T01:55:07.875Z"
   },
   {
    "duration": 0,
    "start_time": "2022-06-09T01:55:07.876Z"
   },
   {
    "duration": 0,
    "start_time": "2022-06-09T01:55:07.877Z"
   },
   {
    "duration": 0,
    "start_time": "2022-06-09T01:55:07.878Z"
   },
   {
    "duration": 48,
    "start_time": "2022-06-09T01:55:42.640Z"
   },
   {
    "duration": 21,
    "start_time": "2022-06-09T01:55:51.624Z"
   },
   {
    "duration": 1035,
    "start_time": "2022-06-09T02:00:51.745Z"
   },
   {
    "duration": 51,
    "start_time": "2022-06-09T02:00:52.781Z"
   },
   {
    "duration": 13,
    "start_time": "2022-06-09T02:00:52.833Z"
   },
   {
    "duration": 20,
    "start_time": "2022-06-09T02:00:52.848Z"
   },
   {
    "duration": 3,
    "start_time": "2022-06-09T02:00:52.869Z"
   },
   {
    "duration": 17,
    "start_time": "2022-06-09T02:00:52.873Z"
   },
   {
    "duration": 11,
    "start_time": "2022-06-09T02:00:52.891Z"
   },
   {
    "duration": 25,
    "start_time": "2022-06-09T02:00:52.903Z"
   },
   {
    "duration": 19,
    "start_time": "2022-06-09T02:00:52.930Z"
   },
   {
    "duration": 5,
    "start_time": "2022-06-09T02:00:52.951Z"
   },
   {
    "duration": 26,
    "start_time": "2022-06-09T02:00:52.957Z"
   },
   {
    "duration": 3,
    "start_time": "2022-06-09T02:00:52.984Z"
   },
   {
    "duration": 7,
    "start_time": "2022-06-09T02:00:52.989Z"
   },
   {
    "duration": 32,
    "start_time": "2022-06-09T02:00:52.997Z"
   },
   {
    "duration": 4,
    "start_time": "2022-06-09T02:00:53.030Z"
   },
   {
    "duration": 16,
    "start_time": "2022-06-09T02:00:53.035Z"
   },
   {
    "duration": 19,
    "start_time": "2022-06-09T02:00:53.053Z"
   },
   {
    "duration": 4,
    "start_time": "2022-06-09T02:00:53.073Z"
   },
   {
    "duration": 8,
    "start_time": "2022-06-09T02:00:53.078Z"
   },
   {
    "duration": 8,
    "start_time": "2022-06-09T02:00:53.088Z"
   },
   {
    "duration": 90,
    "start_time": "2022-06-09T02:00:53.097Z"
   },
   {
    "duration": 22,
    "start_time": "2022-06-09T02:00:53.189Z"
   },
   {
    "duration": 3,
    "start_time": "2022-06-09T02:00:53.212Z"
   },
   {
    "duration": 33,
    "start_time": "2022-06-09T02:00:53.216Z"
   },
   {
    "duration": 17,
    "start_time": "2022-06-09T02:00:53.251Z"
   },
   {
    "duration": 23,
    "start_time": "2022-06-09T02:00:53.269Z"
   },
   {
    "duration": 33,
    "start_time": "2022-06-09T02:00:53.294Z"
   },
   {
    "duration": 4,
    "start_time": "2022-06-09T02:00:53.331Z"
   },
   {
    "duration": 7,
    "start_time": "2022-06-09T02:00:53.337Z"
   },
   {
    "duration": 7,
    "start_time": "2022-06-09T02:00:53.346Z"
   },
   {
    "duration": 5,
    "start_time": "2022-06-09T02:00:53.355Z"
   },
   {
    "duration": 308,
    "start_time": "2022-06-09T02:00:53.362Z"
   },
   {
    "duration": 105,
    "start_time": "2022-06-09T02:00:53.671Z"
   },
   {
    "duration": 0,
    "start_time": "2022-06-09T02:00:53.777Z"
   },
   {
    "duration": 0,
    "start_time": "2022-06-09T02:00:53.779Z"
   },
   {
    "duration": 0,
    "start_time": "2022-06-09T02:00:53.779Z"
   },
   {
    "duration": 0,
    "start_time": "2022-06-09T02:00:53.781Z"
   },
   {
    "duration": 0,
    "start_time": "2022-06-09T02:00:53.782Z"
   },
   {
    "duration": 0,
    "start_time": "2022-06-09T02:00:53.782Z"
   },
   {
    "duration": 0,
    "start_time": "2022-06-09T02:00:53.783Z"
   },
   {
    "duration": 0,
    "start_time": "2022-06-09T02:00:53.784Z"
   },
   {
    "duration": 0,
    "start_time": "2022-06-09T02:00:53.785Z"
   },
   {
    "duration": 0,
    "start_time": "2022-06-09T02:00:53.786Z"
   },
   {
    "duration": 0,
    "start_time": "2022-06-09T02:00:53.787Z"
   },
   {
    "duration": 0,
    "start_time": "2022-06-09T02:00:53.788Z"
   },
   {
    "duration": 0,
    "start_time": "2022-06-09T02:00:53.789Z"
   },
   {
    "duration": 0,
    "start_time": "2022-06-09T02:00:53.790Z"
   },
   {
    "duration": 0,
    "start_time": "2022-06-09T02:00:53.790Z"
   },
   {
    "duration": 0,
    "start_time": "2022-06-09T02:00:53.791Z"
   },
   {
    "duration": 0,
    "start_time": "2022-06-09T02:00:53.792Z"
   },
   {
    "duration": 0,
    "start_time": "2022-06-09T02:00:53.793Z"
   },
   {
    "duration": 0,
    "start_time": "2022-06-09T02:00:53.794Z"
   },
   {
    "duration": 0,
    "start_time": "2022-06-09T02:00:53.795Z"
   },
   {
    "duration": 0,
    "start_time": "2022-06-09T02:00:53.796Z"
   },
   {
    "duration": 0,
    "start_time": "2022-06-09T02:00:53.828Z"
   },
   {
    "duration": 0,
    "start_time": "2022-06-09T02:00:53.829Z"
   },
   {
    "duration": 0,
    "start_time": "2022-06-09T02:00:53.830Z"
   },
   {
    "duration": 0,
    "start_time": "2022-06-09T02:00:53.831Z"
   },
   {
    "duration": 0,
    "start_time": "2022-06-09T02:00:53.832Z"
   },
   {
    "duration": 0,
    "start_time": "2022-06-09T02:00:53.832Z"
   },
   {
    "duration": 0,
    "start_time": "2022-06-09T02:00:53.833Z"
   },
   {
    "duration": 0,
    "start_time": "2022-06-09T02:00:53.834Z"
   },
   {
    "duration": 0,
    "start_time": "2022-06-09T02:00:53.835Z"
   },
   {
    "duration": 0,
    "start_time": "2022-06-09T02:00:53.836Z"
   },
   {
    "duration": 995,
    "start_time": "2022-06-09T02:03:40.881Z"
   },
   {
    "duration": 43,
    "start_time": "2022-06-09T02:03:41.878Z"
   },
   {
    "duration": 14,
    "start_time": "2022-06-09T02:03:41.923Z"
   },
   {
    "duration": 19,
    "start_time": "2022-06-09T02:03:41.940Z"
   },
   {
    "duration": 4,
    "start_time": "2022-06-09T02:03:41.960Z"
   },
   {
    "duration": 20,
    "start_time": "2022-06-09T02:03:41.966Z"
   },
   {
    "duration": 7,
    "start_time": "2022-06-09T02:03:41.987Z"
   },
   {
    "duration": 36,
    "start_time": "2022-06-09T02:03:41.995Z"
   },
   {
    "duration": 33,
    "start_time": "2022-06-09T02:03:42.033Z"
   },
   {
    "duration": 5,
    "start_time": "2022-06-09T02:03:42.069Z"
   },
   {
    "duration": 26,
    "start_time": "2022-06-09T02:03:42.075Z"
   },
   {
    "duration": 3,
    "start_time": "2022-06-09T02:03:42.102Z"
   },
   {
    "duration": 13,
    "start_time": "2022-06-09T02:03:42.107Z"
   },
   {
    "duration": 13,
    "start_time": "2022-06-09T02:03:42.122Z"
   },
   {
    "duration": 8,
    "start_time": "2022-06-09T02:03:42.136Z"
   },
   {
    "duration": 24,
    "start_time": "2022-06-09T02:03:42.145Z"
   },
   {
    "duration": 21,
    "start_time": "2022-06-09T02:03:42.170Z"
   },
   {
    "duration": 3,
    "start_time": "2022-06-09T02:03:42.192Z"
   },
   {
    "duration": 210,
    "start_time": "2022-06-09T02:03:42.197Z"
   },
   {
    "duration": 30,
    "start_time": "2022-06-09T02:03:42.409Z"
   },
   {
    "duration": 100,
    "start_time": "2022-06-09T02:03:42.440Z"
   },
   {
    "duration": 51,
    "start_time": "2022-06-09T02:03:42.542Z"
   },
   {
    "duration": 3,
    "start_time": "2022-06-09T02:03:42.594Z"
   },
   {
    "duration": 14,
    "start_time": "2022-06-09T02:03:42.598Z"
   },
   {
    "duration": 15,
    "start_time": "2022-06-09T02:03:42.627Z"
   },
   {
    "duration": 22,
    "start_time": "2022-06-09T02:03:42.644Z"
   },
   {
    "duration": 63,
    "start_time": "2022-06-09T02:03:42.668Z"
   },
   {
    "duration": 15,
    "start_time": "2022-06-09T02:03:42.735Z"
   },
   {
    "duration": 4,
    "start_time": "2022-06-09T02:03:42.752Z"
   },
   {
    "duration": 23,
    "start_time": "2022-06-09T02:03:42.757Z"
   },
   {
    "duration": 6,
    "start_time": "2022-06-09T02:03:42.782Z"
   },
   {
    "duration": 390,
    "start_time": "2022-06-09T02:03:42.789Z"
   },
   {
    "duration": 49,
    "start_time": "2022-06-09T02:03:43.181Z"
   },
   {
    "duration": 106,
    "start_time": "2022-06-09T02:03:43.232Z"
   },
   {
    "duration": 94,
    "start_time": "2022-06-09T02:03:43.340Z"
   },
   {
    "duration": 6404,
    "start_time": "2022-06-09T02:03:43.436Z"
   },
   {
    "duration": 102,
    "start_time": "2022-06-09T02:03:49.842Z"
   },
   {
    "duration": 6,
    "start_time": "2022-06-09T02:03:49.945Z"
   },
   {
    "duration": 7,
    "start_time": "2022-06-09T02:03:49.952Z"
   },
   {
    "duration": 802,
    "start_time": "2022-06-09T02:03:49.960Z"
   },
   {
    "duration": 39,
    "start_time": "2022-06-09T02:03:50.764Z"
   },
   {
    "duration": 4,
    "start_time": "2022-06-09T02:03:50.805Z"
   },
   {
    "duration": 16,
    "start_time": "2022-06-09T02:03:50.811Z"
   },
   {
    "duration": 55,
    "start_time": "2022-06-09T02:03:50.829Z"
   },
   {
    "duration": 18,
    "start_time": "2022-06-09T02:03:50.886Z"
   },
   {
    "duration": 32,
    "start_time": "2022-06-09T02:03:50.905Z"
   },
   {
    "duration": 3,
    "start_time": "2022-06-09T02:03:50.938Z"
   },
   {
    "duration": 162,
    "start_time": "2022-06-09T02:03:50.942Z"
   },
   {
    "duration": 4,
    "start_time": "2022-06-09T02:03:51.106Z"
   },
   {
    "duration": 111,
    "start_time": "2022-06-09T02:03:51.111Z"
   },
   {
    "duration": 20,
    "start_time": "2022-06-09T02:03:51.223Z"
   },
   {
    "duration": 50,
    "start_time": "2022-06-09T02:03:51.244Z"
   },
   {
    "duration": 602,
    "start_time": "2022-06-09T02:03:51.296Z"
   },
   {
    "duration": 39,
    "start_time": "2022-06-09T02:03:51.900Z"
   },
   {
    "duration": 6,
    "start_time": "2022-06-09T02:03:51.942Z"
   },
   {
    "duration": 202,
    "start_time": "2022-06-09T02:03:52.028Z"
   },
   {
    "duration": 6,
    "start_time": "2022-06-09T02:03:52.232Z"
   },
   {
    "duration": 7,
    "start_time": "2022-06-09T02:03:52.326Z"
   },
   {
    "duration": 33,
    "start_time": "2022-06-09T02:03:52.335Z"
   },
   {
    "duration": 96960,
    "start_time": "2022-06-09T02:03:52.370Z"
   },
   {
    "duration": 44,
    "start_time": "2022-06-09T02:05:29.332Z"
   },
   {
    "duration": 7105,
    "start_time": "2022-06-09T02:05:29.378Z"
   },
   {
    "duration": 52,
    "start_time": "2022-06-09T02:05:36.484Z"
   },
   {
    "duration": 105,
    "start_time": "2022-06-09T02:05:36.537Z"
   },
   {
    "duration": 100,
    "start_time": "2022-06-09T02:09:46.388Z"
   },
   {
    "duration": 306,
    "start_time": "2022-06-09T02:11:25.252Z"
   },
   {
    "duration": 45,
    "start_time": "2022-06-09T02:12:31.483Z"
   },
   {
    "duration": 302,
    "start_time": "2022-06-09T02:12:49.243Z"
   },
   {
    "duration": 45,
    "start_time": "2022-06-09T02:12:53.019Z"
   },
   {
    "duration": 638,
    "start_time": "2022-06-09T02:17:20.323Z"
   },
   {
    "duration": 36,
    "start_time": "2022-06-09T02:17:26.410Z"
   },
   {
    "duration": 6,
    "start_time": "2022-06-09T02:17:31.076Z"
   },
   {
    "duration": 44,
    "start_time": "2022-06-09T02:17:51.100Z"
   },
   {
    "duration": 5,
    "start_time": "2022-06-09T02:17:55.818Z"
   },
   {
    "duration": 5,
    "start_time": "2022-06-09T02:18:00.494Z"
   },
   {
    "duration": 610,
    "start_time": "2022-06-09T02:18:44.726Z"
   },
   {
    "duration": 616,
    "start_time": "2022-06-09T02:18:50.995Z"
   },
   {
    "duration": 37,
    "start_time": "2022-06-09T02:18:56.089Z"
   },
   {
    "duration": 6,
    "start_time": "2022-06-09T02:18:58.401Z"
   },
   {
    "duration": 88,
    "start_time": "2022-06-09T02:19:06.140Z"
   },
   {
    "duration": 6,
    "start_time": "2022-06-09T02:19:09.793Z"
   },
   {
    "duration": 6,
    "start_time": "2022-06-09T02:19:14.331Z"
   },
   {
    "duration": 39,
    "start_time": "2022-06-09T02:19:17.162Z"
   },
   {
    "duration": 160,
    "start_time": "2022-06-09T02:21:28.885Z"
   },
   {
    "duration": 103,
    "start_time": "2022-06-09T02:23:49.909Z"
   },
   {
    "duration": 7275,
    "start_time": "2022-06-09T02:26:01.340Z"
   },
   {
    "duration": 107,
    "start_time": "2022-06-09T02:27:23.352Z"
   },
   {
    "duration": 591,
    "start_time": "2022-06-09T02:28:24.613Z"
   },
   {
    "duration": 295,
    "start_time": "2022-06-09T02:29:36.470Z"
   },
   {
    "duration": 420,
    "start_time": "2022-06-09T02:30:28.132Z"
   },
   {
    "duration": 36,
    "start_time": "2022-06-09T02:34:12.166Z"
   },
   {
    "duration": 4,
    "start_time": "2022-06-09T02:34:14.391Z"
   },
   {
    "duration": 5,
    "start_time": "2022-06-09T02:34:38.524Z"
   },
   {
    "duration": 52,
    "start_time": "2022-06-09T02:34:41.775Z"
   },
   {
    "duration": 5,
    "start_time": "2022-06-09T02:34:49.371Z"
   },
   {
    "duration": 4,
    "start_time": "2022-06-09T02:34:51.709Z"
   },
   {
    "duration": 31,
    "start_time": "2022-06-09T02:34:56.471Z"
   },
   {
    "duration": 44,
    "start_time": "2022-06-09T02:36:23.150Z"
   },
   {
    "duration": 4,
    "start_time": "2022-06-09T02:37:08.443Z"
   },
   {
    "duration": 56,
    "start_time": "2022-06-09T02:37:41.007Z"
   },
   {
    "duration": 90,
    "start_time": "2022-06-09T02:38:07.702Z"
   },
   {
    "duration": 49,
    "start_time": "2022-06-09T02:38:29.340Z"
   },
   {
    "duration": 5,
    "start_time": "2022-06-09T02:38:31.450Z"
   },
   {
    "duration": 43,
    "start_time": "2022-06-09T02:38:38.210Z"
   },
   {
    "duration": 49,
    "start_time": "2022-06-09T18:31:17.360Z"
   },
   {
    "duration": 1078,
    "start_time": "2022-06-09T18:31:29.184Z"
   },
   {
    "duration": 162,
    "start_time": "2022-06-09T18:31:31.244Z"
   },
   {
    "duration": 16,
    "start_time": "2022-06-09T18:31:34.856Z"
   },
   {
    "duration": 4,
    "start_time": "2022-06-09T18:31:40.124Z"
   },
   {
    "duration": 23,
    "start_time": "2022-06-09T18:31:42.084Z"
   },
   {
    "duration": 5,
    "start_time": "2022-06-09T18:31:45.649Z"
   },
   {
    "duration": 16,
    "start_time": "2022-06-09T18:31:49.020Z"
   },
   {
    "duration": 23,
    "start_time": "2022-06-09T18:31:53.640Z"
   },
   {
    "duration": 6,
    "start_time": "2022-06-09T18:31:56.739Z"
   },
   {
    "duration": 22,
    "start_time": "2022-06-09T18:31:59.224Z"
   },
   {
    "duration": 4,
    "start_time": "2022-06-09T18:32:03.000Z"
   },
   {
    "duration": 5,
    "start_time": "2022-06-09T18:32:04.820Z"
   },
   {
    "duration": 12,
    "start_time": "2022-06-09T18:32:08.236Z"
   },
   {
    "duration": 5,
    "start_time": "2022-06-09T18:32:12.296Z"
   },
   {
    "duration": 5,
    "start_time": "2022-06-09T18:32:38.156Z"
   },
   {
    "duration": 14,
    "start_time": "2022-06-09T18:32:41.392Z"
   },
   {
    "duration": 5,
    "start_time": "2022-06-09T18:34:46.396Z"
   },
   {
    "duration": 13,
    "start_time": "2022-06-09T18:34:48.600Z"
   },
   {
    "duration": 13,
    "start_time": "2022-06-09T18:35:04.056Z"
   },
   {
    "duration": 5,
    "start_time": "2022-06-09T18:35:07.364Z"
   },
   {
    "duration": 11,
    "start_time": "2022-06-09T18:35:17.296Z"
   },
   {
    "duration": 18,
    "start_time": "2022-06-09T18:35:23.172Z"
   },
   {
    "duration": 3,
    "start_time": "2022-06-09T18:35:36.988Z"
   },
   {
    "duration": 66,
    "start_time": "2022-06-09T18:35:39.488Z"
   },
   {
    "duration": 14,
    "start_time": "2022-06-09T18:35:48.960Z"
   },
   {
    "duration": 3,
    "start_time": "2022-06-09T18:36:31.289Z"
   },
   {
    "duration": 11,
    "start_time": "2022-06-09T18:36:34.612Z"
   },
   {
    "duration": 9,
    "start_time": "2022-06-09T18:37:03.575Z"
   },
   {
    "duration": 7,
    "start_time": "2022-06-09T18:42:01.322Z"
   },
   {
    "duration": 7,
    "start_time": "2022-06-09T18:42:03.139Z"
   },
   {
    "duration": 3,
    "start_time": "2022-06-09T18:42:06.254Z"
   },
   {
    "duration": 9,
    "start_time": "2022-06-09T18:42:10.533Z"
   },
   {
    "duration": 29,
    "start_time": "2022-06-09T18:43:25.621Z"
   },
   {
    "duration": 19,
    "start_time": "2022-06-09T18:45:48.706Z"
   },
   {
    "duration": 12,
    "start_time": "2022-06-09T18:46:04.048Z"
   },
   {
    "duration": 11,
    "start_time": "2022-06-09T18:47:14.193Z"
   },
   {
    "duration": 12,
    "start_time": "2022-06-09T18:47:17.913Z"
   },
   {
    "duration": 17,
    "start_time": "2022-06-09T18:47:56.671Z"
   },
   {
    "duration": 23,
    "start_time": "2022-06-09T18:48:25.067Z"
   },
   {
    "duration": 22,
    "start_time": "2022-06-09T18:48:43.449Z"
   },
   {
    "duration": 5,
    "start_time": "2022-06-09T18:48:53.974Z"
   },
   {
    "duration": 5,
    "start_time": "2022-06-09T18:48:56.190Z"
   },
   {
    "duration": 4,
    "start_time": "2022-06-09T18:48:59.545Z"
   },
   {
    "duration": 5,
    "start_time": "2022-06-09T18:49:03.437Z"
   },
   {
    "duration": 3,
    "start_time": "2022-06-09T18:49:08.705Z"
   },
   {
    "duration": 48,
    "start_time": "2022-06-09T18:49:12.386Z"
   },
   {
    "duration": 77,
    "start_time": "2022-06-09T18:49:15.581Z"
   },
   {
    "duration": 6,
    "start_time": "2022-06-09T18:49:17.978Z"
   },
   {
    "duration": 3,
    "start_time": "2022-06-09T18:49:21.929Z"
   },
   {
    "duration": 570,
    "start_time": "2022-06-09T18:49:26.821Z"
   },
   {
    "duration": 44,
    "start_time": "2022-06-09T18:49:29.829Z"
   },
   {
    "duration": 5,
    "start_time": "2022-06-09T18:49:33.234Z"
   },
   {
    "duration": 3,
    "start_time": "2022-06-09T18:49:41.370Z"
   },
   {
    "duration": 23,
    "start_time": "2022-06-09T18:49:43.685Z"
   },
   {
    "duration": 5,
    "start_time": "2022-06-09T18:49:45.741Z"
   },
   {
    "duration": 5,
    "start_time": "2022-06-09T18:49:47.777Z"
   },
   {
    "duration": 7,
    "start_time": "2022-06-09T18:50:22.054Z"
   },
   {
    "duration": 11,
    "start_time": "2022-06-09T18:50:25.293Z"
   },
   {
    "duration": 16,
    "start_time": "2022-06-09T18:50:41.434Z"
   },
   {
    "duration": 9,
    "start_time": "2022-06-09T18:50:46.609Z"
   },
   {
    "duration": 3,
    "start_time": "2022-06-09T18:51:05.429Z"
   },
   {
    "duration": 14,
    "start_time": "2022-06-09T18:51:09.361Z"
   },
   {
    "duration": 10,
    "start_time": "2022-06-09T18:52:55.338Z"
   },
   {
    "duration": 14,
    "start_time": "2022-06-09T18:53:03.609Z"
   },
   {
    "duration": 38104,
    "start_time": "2022-06-09T18:53:27.194Z"
   },
   {
    "duration": 79,
    "start_time": "2022-06-09T18:54:42.993Z"
   },
   {
    "duration": 17,
    "start_time": "2022-06-09T18:56:04.102Z"
   },
   {
    "duration": 71,
    "start_time": "2022-06-09T18:56:26.198Z"
   },
   {
    "duration": 18,
    "start_time": "2022-06-09T18:56:42.243Z"
   },
   {
    "duration": 363,
    "start_time": "2022-06-09T18:56:51.737Z"
   },
   {
    "duration": 8,
    "start_time": "2022-06-09T18:57:00.638Z"
   },
   {
    "duration": 9,
    "start_time": "2022-06-09T18:57:37.845Z"
   },
   {
    "duration": 5,
    "start_time": "2022-06-09T18:57:44.641Z"
   },
   {
    "duration": 10,
    "start_time": "2022-06-09T18:57:47.057Z"
   },
   {
    "duration": 18,
    "start_time": "2022-06-09T18:57:49.609Z"
   },
   {
    "duration": 9,
    "start_time": "2022-06-09T18:57:54.139Z"
   },
   {
    "duration": 41,
    "start_time": "2022-06-09T18:58:05.206Z"
   },
   {
    "duration": 16,
    "start_time": "2022-06-09T18:58:36.091Z"
   },
   {
    "duration": 102,
    "start_time": "2022-06-09T18:59:52.224Z"
   },
   {
    "duration": 17,
    "start_time": "2022-06-09T19:00:30.302Z"
   },
   {
    "duration": 11,
    "start_time": "2022-06-09T19:03:05.240Z"
   },
   {
    "duration": 8,
    "start_time": "2022-06-09T19:03:47.160Z"
   },
   {
    "duration": 9,
    "start_time": "2022-06-09T19:04:05.294Z"
   },
   {
    "duration": 5,
    "start_time": "2022-06-09T19:04:07.951Z"
   },
   {
    "duration": 13,
    "start_time": "2022-06-09T19:04:11.057Z"
   },
   {
    "duration": 7,
    "start_time": "2022-06-09T19:04:18.334Z"
   },
   {
    "duration": 6,
    "start_time": "2022-06-09T19:04:21.290Z"
   },
   {
    "duration": 48,
    "start_time": "2022-06-09T19:04:24.420Z"
   },
   {
    "duration": 17,
    "start_time": "2022-06-09T19:04:38.850Z"
   },
   {
    "duration": 5,
    "start_time": "2022-06-09T19:04:41.432Z"
   },
   {
    "duration": 16,
    "start_time": "2022-06-09T19:04:47.217Z"
   },
   {
    "duration": 5,
    "start_time": "2022-06-09T19:04:55.333Z"
   },
   {
    "duration": 7,
    "start_time": "2022-06-09T19:04:57.020Z"
   },
   {
    "duration": 11,
    "start_time": "2022-06-09T19:05:00.500Z"
   },
   {
    "duration": 44,
    "start_time": "2022-06-09T19:05:12.818Z"
   },
   {
    "duration": 1096,
    "start_time": "2022-06-09T19:09:02.088Z"
   },
   {
    "duration": 41,
    "start_time": "2022-06-09T19:09:03.187Z"
   },
   {
    "duration": 15,
    "start_time": "2022-06-09T19:09:03.230Z"
   },
   {
    "duration": 21,
    "start_time": "2022-06-09T19:09:03.247Z"
   },
   {
    "duration": 3,
    "start_time": "2022-06-09T19:09:03.270Z"
   },
   {
    "duration": 17,
    "start_time": "2022-06-09T19:09:03.274Z"
   },
   {
    "duration": 5,
    "start_time": "2022-06-09T19:09:03.293Z"
   },
   {
    "duration": 18,
    "start_time": "2022-06-09T19:09:03.299Z"
   },
   {
    "duration": 46,
    "start_time": "2022-06-09T19:09:03.318Z"
   },
   {
    "duration": 6,
    "start_time": "2022-06-09T19:09:03.367Z"
   },
   {
    "duration": 27,
    "start_time": "2022-06-09T19:09:03.374Z"
   },
   {
    "duration": 4,
    "start_time": "2022-06-09T19:09:03.403Z"
   },
   {
    "duration": 7,
    "start_time": "2022-06-09T19:09:03.409Z"
   },
   {
    "duration": 15,
    "start_time": "2022-06-09T19:09:03.417Z"
   },
   {
    "duration": 4,
    "start_time": "2022-06-09T19:09:03.459Z"
   },
   {
    "duration": 9,
    "start_time": "2022-06-09T19:09:03.465Z"
   },
   {
    "duration": 15,
    "start_time": "2022-06-09T19:09:03.476Z"
   },
   {
    "duration": 14,
    "start_time": "2022-06-09T19:09:03.493Z"
   },
   {
    "duration": 4,
    "start_time": "2022-06-09T19:09:03.509Z"
   },
   {
    "duration": 12,
    "start_time": "2022-06-09T19:09:03.514Z"
   },
   {
    "duration": 43,
    "start_time": "2022-06-09T19:09:03.528Z"
   },
   {
    "duration": 7,
    "start_time": "2022-06-09T19:09:03.572Z"
   },
   {
    "duration": 6,
    "start_time": "2022-06-09T19:09:03.580Z"
   },
   {
    "duration": 3,
    "start_time": "2022-06-09T19:09:03.587Z"
   },
   {
    "duration": 14,
    "start_time": "2022-06-09T19:09:03.592Z"
   },
   {
    "duration": 15,
    "start_time": "2022-06-09T19:09:03.607Z"
   },
   {
    "duration": 40,
    "start_time": "2022-06-09T19:09:03.623Z"
   },
   {
    "duration": 10,
    "start_time": "2022-06-09T19:09:03.669Z"
   },
   {
    "duration": 23,
    "start_time": "2022-06-09T19:09:03.681Z"
   },
   {
    "duration": 20,
    "start_time": "2022-06-09T19:09:03.705Z"
   },
   {
    "duration": 48,
    "start_time": "2022-06-09T19:09:03.726Z"
   },
   {
    "duration": 6,
    "start_time": "2022-06-09T19:09:03.776Z"
   },
   {
    "duration": 8,
    "start_time": "2022-06-09T19:09:03.784Z"
   },
   {
    "duration": 7,
    "start_time": "2022-06-09T19:09:03.793Z"
   },
   {
    "duration": 9,
    "start_time": "2022-06-09T19:09:03.801Z"
   },
   {
    "duration": 4,
    "start_time": "2022-06-09T19:09:03.812Z"
   },
   {
    "duration": 46,
    "start_time": "2022-06-09T19:09:03.818Z"
   },
   {
    "duration": 7,
    "start_time": "2022-06-09T19:09:03.865Z"
   },
   {
    "duration": 85,
    "start_time": "2022-06-09T19:09:03.874Z"
   },
   {
    "duration": 4,
    "start_time": "2022-06-09T19:09:03.961Z"
   },
   {
    "duration": 756,
    "start_time": "2022-06-09T19:09:03.969Z"
   },
   {
    "duration": 58,
    "start_time": "2022-06-09T19:09:04.727Z"
   },
   {
    "duration": 6,
    "start_time": "2022-06-09T19:09:04.787Z"
   },
   {
    "duration": 3,
    "start_time": "2022-06-09T19:09:04.794Z"
   },
   {
    "duration": 41,
    "start_time": "2022-06-09T19:09:04.799Z"
   },
   {
    "duration": 19,
    "start_time": "2022-06-09T19:09:04.843Z"
   },
   {
    "duration": 17,
    "start_time": "2022-06-09T19:09:04.864Z"
   },
   {
    "duration": 4,
    "start_time": "2022-06-09T19:09:04.883Z"
   },
   {
    "duration": 15,
    "start_time": "2022-06-09T19:09:04.889Z"
   },
   {
    "duration": 22,
    "start_time": "2022-06-09T19:09:04.906Z"
   },
   {
    "duration": 12,
    "start_time": "2022-06-09T19:09:04.929Z"
   },
   {
    "duration": 18,
    "start_time": "2022-06-09T19:09:04.942Z"
   },
   {
    "duration": 16,
    "start_time": "2022-06-09T19:09:04.962Z"
   },
   {
    "duration": 9,
    "start_time": "2022-06-09T19:09:04.980Z"
   },
   {
    "duration": 47824,
    "start_time": "2022-06-09T19:09:04.992Z"
   },
   {
    "duration": 261,
    "start_time": "2022-06-09T19:09:52.818Z"
   },
   {
    "duration": 39,
    "start_time": "2022-06-09T19:09:53.081Z"
   },
   {
    "duration": 492,
    "start_time": "2022-06-09T19:09:53.122Z"
   },
   {
    "duration": 13,
    "start_time": "2022-06-09T19:09:53.615Z"
   },
   {
    "duration": 6,
    "start_time": "2022-06-09T19:09:53.630Z"
   },
   {
    "duration": 22,
    "start_time": "2022-06-09T19:09:53.638Z"
   },
   {
    "duration": 19,
    "start_time": "2022-06-09T19:09:53.662Z"
   },
   {
    "duration": 19,
    "start_time": "2022-06-09T19:09:53.683Z"
   },
   {
    "duration": 13,
    "start_time": "2022-06-09T19:09:53.705Z"
   },
   {
    "duration": 46,
    "start_time": "2022-06-09T19:09:53.720Z"
   },
   {
    "duration": 91,
    "start_time": "2022-06-09T19:09:53.768Z"
   },
   {
    "duration": 727,
    "start_time": "2022-06-09T19:09:53.862Z"
   },
   {
    "duration": 41,
    "start_time": "2022-06-09T19:09:54.591Z"
   },
   {
    "duration": 41,
    "start_time": "2022-06-09T19:09:54.634Z"
   },
   {
    "duration": 7,
    "start_time": "2022-06-09T19:09:54.676Z"
   },
   {
    "duration": 5,
    "start_time": "2022-06-09T19:09:54.684Z"
   },
   {
    "duration": 72,
    "start_time": "2022-06-09T19:09:54.692Z"
   },
   {
    "duration": 100,
    "start_time": "2022-06-09T19:09:54.766Z"
   },
   {
    "duration": 94,
    "start_time": "2022-06-09T19:09:54.869Z"
   },
   {
    "duration": 6,
    "start_time": "2022-06-09T19:09:55.057Z"
   },
   {
    "duration": 40,
    "start_time": "2022-06-09T19:09:55.065Z"
   },
   {
    "duration": 59,
    "start_time": "2022-06-09T19:09:55.107Z"
   },
   {
    "duration": 7,
    "start_time": "2022-06-09T19:09:55.168Z"
   },
   {
    "duration": 41,
    "start_time": "2022-06-09T19:09:55.177Z"
   },
   {
    "duration": 6,
    "start_time": "2022-06-09T19:09:55.220Z"
   },
   {
    "duration": 34,
    "start_time": "2022-06-09T19:09:55.228Z"
   },
   {
    "duration": 9,
    "start_time": "2022-06-09T19:09:55.268Z"
   },
   {
    "duration": 97,
    "start_time": "2022-06-09T19:09:55.279Z"
   }
  ],
  "kernelspec": {
   "display_name": "Python 3 (ipykernel)",
   "language": "python",
   "name": "python3"
  },
  "language_info": {
   "codemirror_mode": {
    "name": "ipython",
    "version": 3
   },
   "file_extension": ".py",
   "mimetype": "text/x-python",
   "name": "python",
   "nbconvert_exporter": "python",
   "pygments_lexer": "ipython3",
   "version": "3.9.5"
  },
  "toc": {
   "base_numbering": 1,
   "nav_menu": {},
   "number_sections": true,
   "sideBar": true,
   "skip_h1_title": true,
   "title_cell": "Table of Contents",
   "title_sidebar": "Contents",
   "toc_cell": false,
   "toc_position": {},
   "toc_section_display": true,
   "toc_window_display": true
  }
 },
 "nbformat": 4,
 "nbformat_minor": 2
}
