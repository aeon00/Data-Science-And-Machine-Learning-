{
 "cells": [
  {
   "cell_type": "markdown",
   "metadata": {},
   "source": [
    "<div class=\"alert alert-success\">\n",
    "<b>Reviewer's comment V3</b>\n",
    "\n",
    "Thank you for taking the time to improve the project! It is accepted now. Good luck on the next sprint!\n",
    "\n",
    "</div>"
   ]
  },
  {
   "cell_type": "markdown",
   "metadata": {},
   "source": [
    "**Review**\n",
    "\n",
    "Hi, my name is Dmitry and I will be reviewing your project.\n",
    "  \n",
    "You can find my comments in colored markdown cells:\n",
    "  \n",
    "<div class=\"alert alert-success\">\n",
    "  If everything is done successfully.\n",
    "</div>\n",
    "  \n",
    "<div class=\"alert alert-warning\">\n",
    "  If I have some (optional) suggestions, or questions to think about, or general comments.\n",
    "</div>\n",
    "  \n",
    "<div class=\"alert alert-danger\">\n",
    "  If a section requires some corrections. Work can't be accepted with red comments.\n",
    "</div>\n",
    "  \n",
    "Please don't remove my comments, as it will make further review iterations much harder for me.\n",
    "  \n",
    "Feel free to reply to my comments or ask questions using the following template:\n",
    "  \n",
    "<div class=\"alert alert-info\">\n",
    "  For your comments and questions.\n",
    "</div>\n",
    "  \n",
    "First of all, thank you for turning in the project! You did a great job overall, but there are a couple of problems that need to be fixed before the project is accepted. Let me know if you have any questions!"
   ]
  },
  {
   "cell_type": "markdown",
   "metadata": {},
   "source": [
    "# Project description\n",
    "\n",
    "Sweet Lift Taxi company has collected historical data on taxi orders at airports. To attract more drivers during peak hours, we need to predict the amount of taxi orders for the next hour. Build a model for such a prediction.\n",
    "\n",
    "The RMSE metric on the test set should not be more than 48.\n",
    "\n",
    "## Project instructions\n",
    "\n",
    "1. Download the data and resample it by one hour.\n",
    "2. Analyze the data.\n",
    "3. Train different models with different hyperparameters. The test sample should be 10% of the initial dataset. \n",
    "4. Test the data using the test sample and provide a conclusion.\n",
    "\n",
    "## Data description\n",
    "\n",
    "The data is stored in file `taxi.csv`. The number of orders is in the '*num_orders*' column."
   ]
  },
  {
   "cell_type": "markdown",
   "metadata": {},
   "source": [
    "## Preparation"
   ]
  },
  {
   "cell_type": "markdown",
   "metadata": {},
   "source": [
    "### Initialization"
   ]
  },
  {
   "cell_type": "code",
   "execution_count": 1,
   "metadata": {},
   "outputs": [],
   "source": [
    "# Load up all necesary libraries\n",
    "import pandas as pd\n",
    "import numpy as np\n",
    "import matplotlib.pyplot as plt\n",
    "from statsmodels.tsa.seasonal import seasonal_decompose\n",
    "from sklearn.model_selection import train_test_split, cross_val_score, TimeSeriesSplit\n",
    "from sklearn.metrics import mean_absolute_error, make_scorer, mean_squared_error\n",
    "from sklearn.linear_model import LinearRegression\n",
    "from sklearn.tree import DecisionTreeRegressor\n",
    "from sklearn.preprocessing import StandardScaler\n",
    "from sklearn.ensemble import RandomForestRegressor\n",
    "from catboost import CatBoostRegressor\n",
    "from statsmodels.tsa.ar_model import AR\n",
    "from statsmodels.tsa.arima.model import ARIMA\n",
    "from statsmodels.graphics.tsaplots import plot_acf\n",
    "from statsmodels.graphics.tsaplots import plot_pacf"
   ]
  },
  {
   "cell_type": "code",
   "execution_count": 2,
   "metadata": {},
   "outputs": [],
   "source": [
    "# Create data frame\n",
    "df = pd.read_csv('/datasets/taxi.csv', parse_dates= [0], index_col=[0])"
   ]
  },
  {
   "cell_type": "code",
   "execution_count": 3,
   "metadata": {},
   "outputs": [
    {
     "data": {
      "text/html": [
       "<div>\n",
       "<style scoped>\n",
       "    .dataframe tbody tr th:only-of-type {\n",
       "        vertical-align: middle;\n",
       "    }\n",
       "\n",
       "    .dataframe tbody tr th {\n",
       "        vertical-align: top;\n",
       "    }\n",
       "\n",
       "    .dataframe thead th {\n",
       "        text-align: right;\n",
       "    }\n",
       "</style>\n",
       "<table border=\"1\" class=\"dataframe\">\n",
       "  <thead>\n",
       "    <tr style=\"text-align: right;\">\n",
       "      <th></th>\n",
       "      <th>num_orders</th>\n",
       "    </tr>\n",
       "    <tr>\n",
       "      <th>datetime</th>\n",
       "      <th></th>\n",
       "    </tr>\n",
       "  </thead>\n",
       "  <tbody>\n",
       "    <tr>\n",
       "      <th>2018-03-01 00:00:00</th>\n",
       "      <td>9</td>\n",
       "    </tr>\n",
       "    <tr>\n",
       "      <th>2018-03-01 00:10:00</th>\n",
       "      <td>14</td>\n",
       "    </tr>\n",
       "    <tr>\n",
       "      <th>2018-03-01 00:20:00</th>\n",
       "      <td>28</td>\n",
       "    </tr>\n",
       "    <tr>\n",
       "      <th>2018-03-01 00:30:00</th>\n",
       "      <td>20</td>\n",
       "    </tr>\n",
       "    <tr>\n",
       "      <th>2018-03-01 00:40:00</th>\n",
       "      <td>32</td>\n",
       "    </tr>\n",
       "    <tr>\n",
       "      <th>...</th>\n",
       "      <td>...</td>\n",
       "    </tr>\n",
       "    <tr>\n",
       "      <th>2018-08-31 23:10:00</th>\n",
       "      <td>32</td>\n",
       "    </tr>\n",
       "    <tr>\n",
       "      <th>2018-08-31 23:20:00</th>\n",
       "      <td>24</td>\n",
       "    </tr>\n",
       "    <tr>\n",
       "      <th>2018-08-31 23:30:00</th>\n",
       "      <td>27</td>\n",
       "    </tr>\n",
       "    <tr>\n",
       "      <th>2018-08-31 23:40:00</th>\n",
       "      <td>39</td>\n",
       "    </tr>\n",
       "    <tr>\n",
       "      <th>2018-08-31 23:50:00</th>\n",
       "      <td>53</td>\n",
       "    </tr>\n",
       "  </tbody>\n",
       "</table>\n",
       "<p>26496 rows × 1 columns</p>\n",
       "</div>"
      ],
      "text/plain": [
       "                     num_orders\n",
       "datetime                       \n",
       "2018-03-01 00:00:00           9\n",
       "2018-03-01 00:10:00          14\n",
       "2018-03-01 00:20:00          28\n",
       "2018-03-01 00:30:00          20\n",
       "2018-03-01 00:40:00          32\n",
       "...                         ...\n",
       "2018-08-31 23:10:00          32\n",
       "2018-08-31 23:20:00          24\n",
       "2018-08-31 23:30:00          27\n",
       "2018-08-31 23:40:00          39\n",
       "2018-08-31 23:50:00          53\n",
       "\n",
       "[26496 rows x 1 columns]"
      ]
     },
     "execution_count": 3,
     "metadata": {},
     "output_type": "execute_result"
    }
   ],
   "source": [
    "# Visualize data frame\n",
    "df"
   ]
  },
  {
   "cell_type": "code",
   "execution_count": 4,
   "metadata": {},
   "outputs": [
    {
     "name": "stdout",
     "output_type": "stream",
     "text": [
      "<class 'pandas.core.frame.DataFrame'>\n",
      "DatetimeIndex: 26496 entries, 2018-03-01 00:00:00 to 2018-08-31 23:50:00\n",
      "Data columns (total 1 columns):\n",
      " #   Column      Non-Null Count  Dtype\n",
      "---  ------      --------------  -----\n",
      " 0   num_orders  26496 non-null  int64\n",
      "dtypes: int64(1)\n",
      "memory usage: 414.0 KB\n"
     ]
    }
   ],
   "source": [
    "# Check data info\n",
    "df.info()"
   ]
  },
  {
   "cell_type": "markdown",
   "metadata": {},
   "source": [
    "The data and appropriate libraries have been loaded up and are ready for preprocessing"
   ]
  },
  {
   "cell_type": "markdown",
   "metadata": {},
   "source": [
    "### Preprocessing"
   ]
  },
  {
   "cell_type": "code",
   "execution_count": 5,
   "metadata": {},
   "outputs": [
    {
     "data": {
      "text/plain": [
       "True"
      ]
     },
     "execution_count": 5,
     "metadata": {},
     "output_type": "execute_result"
    }
   ],
   "source": [
    "# Check if data is in chronological order\n",
    "df.index.is_monotonic"
   ]
  },
  {
   "cell_type": "markdown",
   "metadata": {},
   "source": [
    "The data is already arranged in chronological order"
   ]
  },
  {
   "cell_type": "markdown",
   "metadata": {},
   "source": [
    "<div class=\"alert alert-success\">\n",
    "<b>Reviewer's comment</b>\n",
    "\n",
    "Good idea to check this!\n",
    "\n",
    "</div>"
   ]
  },
  {
   "cell_type": "code",
   "execution_count": 6,
   "metadata": {},
   "outputs": [],
   "source": [
    "# Resample data\n",
    "df = df.resample('1H').sum()"
   ]
  },
  {
   "cell_type": "markdown",
   "metadata": {},
   "source": [
    "<div class=\"alert alert-success\">\n",
    "<b>Reviewer's comment</b>\n",
    "\n",
    "The data was resampled correctly\n",
    "\n",
    "</div>"
   ]
  },
  {
   "cell_type": "markdown",
   "metadata": {},
   "source": [
    "With this we have ordered the data hourly. Lets see what our data looks like on a graph"
   ]
  },
  {
   "cell_type": "code",
   "execution_count": 7,
   "metadata": {},
   "outputs": [
    {
     "data": {
      "text/plain": [
       "<AxesSubplot:xlabel='datetime'>"
      ]
     },
     "execution_count": 7,
     "metadata": {},
     "output_type": "execute_result"
    },
    {
     "data": {
      "image/png": "[encoded data removed]",
      "text/plain": [
       "<Figure size 432x288 with 1 Axes>"
      ]
     },
     "metadata": {
      "needs_background": "light"
     },
     "output_type": "display_data"
    }
   ],
   "source": [
    "df.plot()"
   ]
  },
  {
   "cell_type": "markdown",
   "metadata": {},
   "source": [
    "The plot reveals the whole data. We can see that this data is non stationary which could be a problem when training time series models."
   ]
  },
  {
   "cell_type": "code",
   "execution_count": 8,
   "metadata": {},
   "outputs": [],
   "source": [
    "# Get timeseries difference\n",
    "data = df-df.shift()\n",
    "\n",
    "data['num_orders'] = data['num_orders'].fillna(0)"
   ]
  },
  {
   "cell_type": "code",
   "execution_count": 9,
   "metadata": {},
   "outputs": [],
   "source": [
    "# Create rolling mean column\n",
    "data['rolling_mean'] = data['num_orders'].rolling(10).mean()\n",
    "\n",
    "# Create rolling standard deviation column\n",
    "data['rolling_std'] = data['num_orders'].rolling(10).std()"
   ]
  },
  {
   "cell_type": "code",
   "execution_count": 10,
   "metadata": {
    "scrolled": true
   },
   "outputs": [
    {
     "data": {
      "text/plain": [
       "<AxesSubplot:xlabel='datetime'>"
      ]
     },
     "execution_count": 10,
     "metadata": {},
     "output_type": "execute_result"
    },
    {
     "data": {
      "image/png": "[encoded data removed]",
      "text/plain": [
       "<Figure size 432x288 with 1 Axes>"
      ]
     },
     "metadata": {
      "needs_background": "light"
     },
     "output_type": "display_data"
    }
   ],
   "source": [
    "data['num_orders'].plot()"
   ]
  },
  {
   "cell_type": "code",
   "execution_count": 11,
   "metadata": {},
   "outputs": [
    {
     "data": {
      "text/plain": [
       "<AxesSubplot:xlabel='datetime'>"
      ]
     },
     "execution_count": 11,
     "metadata": {},
     "output_type": "execute_result"
    },
    {
     "data": {
      "image/png": "[encoded data removed]",
      "text/plain": [
       "<Figure size 432x288 with 1 Axes>"
      ]
     },
     "metadata": {
      "needs_background": "light"
     },
     "output_type": "display_data"
    }
   ],
   "source": [
    "data['num_orders'].head(1000).plot()"
   ]
  },
  {
   "cell_type": "code",
   "execution_count": 12,
   "metadata": {},
   "outputs": [
    {
     "data": {
      "text/html": [
       "<div>\n",
       "<style scoped>\n",
       "    .dataframe tbody tr th:only-of-type {\n",
       "        vertical-align: middle;\n",
       "    }\n",
       "\n",
       "    .dataframe tbody tr th {\n",
       "        vertical-align: top;\n",
       "    }\n",
       "\n",
       "    .dataframe thead th {\n",
       "        text-align: right;\n",
       "    }\n",
       "</style>\n",
       "<table border=\"1\" class=\"dataframe\">\n",
       "  <thead>\n",
       "    <tr style=\"text-align: right;\">\n",
       "      <th></th>\n",
       "      <th>num_orders</th>\n",
       "      <th>rolling_mean</th>\n",
       "      <th>rolling_std</th>\n",
       "    </tr>\n",
       "    <tr>\n",
       "      <th>datetime</th>\n",
       "      <th></th>\n",
       "      <th></th>\n",
       "      <th></th>\n",
       "    </tr>\n",
       "  </thead>\n",
       "  <tbody>\n",
       "    <tr>\n",
       "      <th>2018-03-01 00:00:00</th>\n",
       "      <td>0.0</td>\n",
       "      <td>NaN</td>\n",
       "      <td>NaN</td>\n",
       "    </tr>\n",
       "    <tr>\n",
       "      <th>2018-03-01 01:00:00</th>\n",
       "      <td>-39.0</td>\n",
       "      <td>NaN</td>\n",
       "      <td>NaN</td>\n",
       "    </tr>\n",
       "    <tr>\n",
       "      <th>2018-03-01 02:00:00</th>\n",
       "      <td>-14.0</td>\n",
       "      <td>NaN</td>\n",
       "      <td>NaN</td>\n",
       "    </tr>\n",
       "    <tr>\n",
       "      <th>2018-03-01 03:00:00</th>\n",
       "      <td>-5.0</td>\n",
       "      <td>NaN</td>\n",
       "      <td>NaN</td>\n",
       "    </tr>\n",
       "    <tr>\n",
       "      <th>2018-03-01 04:00:00</th>\n",
       "      <td>-23.0</td>\n",
       "      <td>NaN</td>\n",
       "      <td>NaN</td>\n",
       "    </tr>\n",
       "    <tr>\n",
       "      <th>...</th>\n",
       "      <td>...</td>\n",
       "      <td>...</td>\n",
       "      <td>...</td>\n",
       "    </tr>\n",
       "    <tr>\n",
       "      <th>2018-08-31 19:00:00</th>\n",
       "      <td>-71.0</td>\n",
       "      <td>-6.7</td>\n",
       "      <td>41.649463</td>\n",
       "    </tr>\n",
       "    <tr>\n",
       "      <th>2018-08-31 20:00:00</th>\n",
       "      <td>18.0</td>\n",
       "      <td>-3.7</td>\n",
       "      <td>42.300644</td>\n",
       "    </tr>\n",
       "    <tr>\n",
       "      <th>2018-08-31 21:00:00</th>\n",
       "      <td>5.0</td>\n",
       "      <td>-0.8</td>\n",
       "      <td>41.744727</td>\n",
       "    </tr>\n",
       "    <tr>\n",
       "      <th>2018-08-31 22:00:00</th>\n",
       "      <td>64.0</td>\n",
       "      <td>8.7</td>\n",
       "      <td>44.805878</td>\n",
       "    </tr>\n",
       "    <tr>\n",
       "      <th>2018-08-31 23:00:00</th>\n",
       "      <td>-18.0</td>\n",
       "      <td>3.9</td>\n",
       "      <td>44.841573</td>\n",
       "    </tr>\n",
       "  </tbody>\n",
       "</table>\n",
       "<p>4416 rows × 3 columns</p>\n",
       "</div>"
      ],
      "text/plain": [
       "                     num_orders  rolling_mean  rolling_std\n",
       "datetime                                                  \n",
       "2018-03-01 00:00:00         0.0           NaN          NaN\n",
       "2018-03-01 01:00:00       -39.0           NaN          NaN\n",
       "2018-03-01 02:00:00       -14.0           NaN          NaN\n",
       "2018-03-01 03:00:00        -5.0           NaN          NaN\n",
       "2018-03-01 04:00:00       -23.0           NaN          NaN\n",
       "...                         ...           ...          ...\n",
       "2018-08-31 19:00:00       -71.0          -6.7    41.649463\n",
       "2018-08-31 20:00:00        18.0          -3.7    42.300644\n",
       "2018-08-31 21:00:00         5.0          -0.8    41.744727\n",
       "2018-08-31 22:00:00        64.0           8.7    44.805878\n",
       "2018-08-31 23:00:00       -18.0           3.9    44.841573\n",
       "\n",
       "[4416 rows x 3 columns]"
      ]
     },
     "execution_count": 12,
     "metadata": {},
     "output_type": "execute_result"
    }
   ],
   "source": [
    "data"
   ]
  },
  {
   "cell_type": "markdown",
   "metadata": {},
   "source": [
    "Now we have a more stationary dataset. We could as well try one more method"
   ]
  },
  {
   "cell_type": "markdown",
   "metadata": {},
   "source": [
    "<div class=\"alert alert-success\">\n",
    "<b>Reviewer's comment</b>\n",
    "\n",
    "Alright!\n",
    "\n",
    "</div>"
   ]
  },
  {
   "cell_type": "code",
   "execution_count": 13,
   "metadata": {},
   "outputs": [],
   "source": [
    "# Log transorm dataset\n",
    "df_log = np.log(df+1)"
   ]
  },
  {
   "cell_type": "code",
   "execution_count": 14,
   "metadata": {},
   "outputs": [
    {
     "data": {
      "text/html": [
       "<div>\n",
       "<style scoped>\n",
       "    .dataframe tbody tr th:only-of-type {\n",
       "        vertical-align: middle;\n",
       "    }\n",
       "\n",
       "    .dataframe tbody tr th {\n",
       "        vertical-align: top;\n",
       "    }\n",
       "\n",
       "    .dataframe thead th {\n",
       "        text-align: right;\n",
       "    }\n",
       "</style>\n",
       "<table border=\"1\" class=\"dataframe\">\n",
       "  <thead>\n",
       "    <tr style=\"text-align: right;\">\n",
       "      <th></th>\n",
       "      <th>num_orders</th>\n",
       "    </tr>\n",
       "    <tr>\n",
       "      <th>datetime</th>\n",
       "      <th></th>\n",
       "    </tr>\n",
       "  </thead>\n",
       "  <tbody>\n",
       "    <tr>\n",
       "      <th>2018-03-01 00:00:00</th>\n",
       "      <td>4.828314</td>\n",
       "    </tr>\n",
       "    <tr>\n",
       "      <th>2018-03-01 01:00:00</th>\n",
       "      <td>4.454347</td>\n",
       "    </tr>\n",
       "    <tr>\n",
       "      <th>2018-03-01 02:00:00</th>\n",
       "      <td>4.276666</td>\n",
       "    </tr>\n",
       "    <tr>\n",
       "      <th>2018-03-01 03:00:00</th>\n",
       "      <td>4.204693</td>\n",
       "    </tr>\n",
       "    <tr>\n",
       "      <th>2018-03-01 04:00:00</th>\n",
       "      <td>3.784190</td>\n",
       "    </tr>\n",
       "    <tr>\n",
       "      <th>...</th>\n",
       "      <td>...</td>\n",
       "    </tr>\n",
       "    <tr>\n",
       "      <th>2018-08-31 19:00:00</th>\n",
       "      <td>4.919981</td>\n",
       "    </tr>\n",
       "    <tr>\n",
       "      <th>2018-08-31 20:00:00</th>\n",
       "      <td>5.043425</td>\n",
       "    </tr>\n",
       "    <tr>\n",
       "      <th>2018-08-31 21:00:00</th>\n",
       "      <td>5.075174</td>\n",
       "    </tr>\n",
       "    <tr>\n",
       "      <th>2018-08-31 22:00:00</th>\n",
       "      <td>5.411646</td>\n",
       "    </tr>\n",
       "    <tr>\n",
       "      <th>2018-08-31 23:00:00</th>\n",
       "      <td>5.327876</td>\n",
       "    </tr>\n",
       "  </tbody>\n",
       "</table>\n",
       "<p>4416 rows × 1 columns</p>\n",
       "</div>"
      ],
      "text/plain": [
       "                     num_orders\n",
       "datetime                       \n",
       "2018-03-01 00:00:00    4.828314\n",
       "2018-03-01 01:00:00    4.454347\n",
       "2018-03-01 02:00:00    4.276666\n",
       "2018-03-01 03:00:00    4.204693\n",
       "2018-03-01 04:00:00    3.784190\n",
       "...                         ...\n",
       "2018-08-31 19:00:00    4.919981\n",
       "2018-08-31 20:00:00    5.043425\n",
       "2018-08-31 21:00:00    5.075174\n",
       "2018-08-31 22:00:00    5.411646\n",
       "2018-08-31 23:00:00    5.327876\n",
       "\n",
       "[4416 rows x 1 columns]"
      ]
     },
     "execution_count": 14,
     "metadata": {},
     "output_type": "execute_result"
    }
   ],
   "source": [
    "# Visualize transformed dataset\n",
    "df_log"
   ]
  },
  {
   "cell_type": "code",
   "execution_count": 15,
   "metadata": {},
   "outputs": [
    {
     "data": {
      "text/plain": [
       "<AxesSubplot:xlabel='datetime'>"
      ]
     },
     "execution_count": 15,
     "metadata": {},
     "output_type": "execute_result"
    },
    {
     "data": {
      "image/png": "[encoded data removed]",
      "text/plain": [
       "<Figure size 432x288 with 1 Axes>"
      ]
     },
     "metadata": {
      "needs_background": "light"
     },
     "output_type": "display_data"
    },
    {
     "data": {
      "image/png": "[encoded data removed]",
      "text/plain": [
       "<Figure size 432x288 with 1 Axes>"
      ]
     },
     "metadata": {
      "needs_background": "light"
     },
     "output_type": "display_data"
    }
   ],
   "source": [
    "# Plot transformed df\n",
    "df_log.plot()\n",
    "\n",
    "df_log.head(1000).plot()"
   ]
  },
  {
   "cell_type": "markdown",
   "metadata": {},
   "source": [
    "Log transforms are popular with time series data as they are effective at removing exponential variance."
   ]
  },
  {
   "cell_type": "markdown",
   "metadata": {},
   "source": [
    "<div class=\"alert alert-warning\">\n",
    "<b>Reviewer's comment</b>\n",
    "\n",
    "If you use log transformed data you need to apply the inverse transformation when making predictions, because these transformations affect the value of RMSE.\n",
    "\n",
    "</div>"
   ]
  },
  {
   "cell_type": "markdown",
   "metadata": {},
   "source": [
    "## Analysis"
   ]
  },
  {
   "cell_type": "code",
   "execution_count": 16,
   "metadata": {},
   "outputs": [
    {
     "data": {
      "image/png": "[encoded data removed]",
      "text/plain": [
       "<Figure size 576x576 with 3 Axes>"
      ]
     },
     "metadata": {
      "needs_background": "light"
     },
     "output_type": "display_data"
    }
   ],
   "source": [
    "# Get seasonality and trend\n",
    "decomposed = seasonal_decompose(df['num_orders'])\n",
    "\n",
    "# Create plots\n",
    "plt.figure(figsize=(8, 8))\n",
    "\n",
    "plt.subplot(311)\n",
    "decomposed.trend.head(100).plot(ax=plt.gca())\n",
    "plt.title('Trend')\n",
    "plt.subplot(312)\n",
    "decomposed.seasonal.head(100).plot(ax=plt.gca())\n",
    "plt.title('Seasonality')\n",
    "plt.subplot(313)\n",
    "decomposed.resid.head(100).plot(ax=plt.gca())\n",
    "plt.title('Residuals')\n",
    "plt.tight_layout() "
   ]
  },
  {
   "cell_type": "code",
   "execution_count": 17,
   "metadata": {
    "scrolled": false
   },
   "outputs": [
    {
     "data": {
      "image/png": "[encoded data removed]",
      "text/plain": [
       "<Figure size 576x576 with 3 Axes>"
      ]
     },
     "metadata": {
      "needs_background": "light"
     },
     "output_type": "display_data"
    }
   ],
   "source": [
    "# Get seasonality and trend\n",
    "decomposed = seasonal_decompose(data['num_orders'])\n",
    "\n",
    "# Create plots\n",
    "plt.figure(figsize=(8, 8))\n",
    "\n",
    "plt.subplot(311)\n",
    "decomposed.trend.head(100).plot(ax=plt.gca())\n",
    "plt.title('Trend')\n",
    "plt.subplot(312)\n",
    "decomposed.seasonal.head(100).plot(ax=plt.gca())\n",
    "plt.title('Seasonality')\n",
    "plt.subplot(313)\n",
    "decomposed.resid.head(100).plot(ax=plt.gca())\n",
    "plt.title('Residuals')\n",
    "plt.tight_layout() "
   ]
  },
  {
   "cell_type": "code",
   "execution_count": 18,
   "metadata": {},
   "outputs": [
    {
     "data": {
      "image/png": "[encoded data removed]",
      "text/plain": [
       "<Figure size 576x576 with 3 Axes>"
      ]
     },
     "metadata": {
      "needs_background": "light"
     },
     "output_type": "display_data"
    }
   ],
   "source": [
    "# Get seasonality and trend\n",
    "decomposed = seasonal_decompose(df_log['num_orders'])\n",
    "\n",
    "# Create plots\n",
    "plt.figure(figsize=(8, 8))\n",
    "\n",
    "plt.subplot(311)\n",
    "decomposed.trend.head(100).plot(ax=plt.gca())\n",
    "plt.title('Trend')\n",
    "plt.subplot(312)\n",
    "decomposed.seasonal.head(100).plot(ax=plt.gca())\n",
    "plt.title('Seasonality')\n",
    "plt.subplot(313)\n",
    "decomposed.resid.head(100).plot(ax=plt.gca())\n",
    "plt.title('Residuals')\n",
    "plt.tight_layout() "
   ]
  },
  {
   "cell_type": "markdown",
   "metadata": {},
   "source": [
    "From the above plots, We can see how each method affects the plots and outlook of the data. For this exercise though, we'll be using the original dataset."
   ]
  },
  {
   "cell_type": "markdown",
   "metadata": {},
   "source": [
    "<div class=\"alert alert-warning\">\n",
    "<b>Reviewer's comment</b>\n",
    "\n",
    "Instead of doing a decomposition of a small slice of data, I would suggest using the full dataset for decomposition, and then taking a look at a smaller slice of `decomposed.seasonal` instead :)\n",
    "\n",
    "</div>"
   ]
  },
  {
   "cell_type": "code",
   "execution_count": 19,
   "metadata": {},
   "outputs": [
    {
     "name": "stdout",
     "output_type": "stream",
     "text": [
      "2018-03-01 00:00:00 2018-08-13 13:00:00\n",
      "2018-08-13 14:00:00 2018-08-31 23:00:00\n"
     ]
    }
   ],
   "source": [
    "# Split data into training and test datasets\n",
    "train, test = train_test_split(df, test_size = 0.1, shuffle=False)\n",
    "\n",
    "print(train.index.min(), train.index.max())\n",
    "print(test.index.min(), test.index.max())"
   ]
  },
  {
   "cell_type": "markdown",
   "metadata": {},
   "source": [
    "<div class=\"alert alert-success\">\n",
    "<b>Reviewer's comment</b>\n",
    "\n",
    "The data was split into train and test without shuffling\n",
    "\n",
    "</div>"
   ]
  },
  {
   "cell_type": "code",
   "execution_count": 20,
   "metadata": {},
   "outputs": [
    {
     "name": "stdout",
     "output_type": "stream",
     "text": [
      "Median daily taxi orders: 135.0\n",
      "RMSE: 58.856486242815066\n"
     ]
    }
   ],
   "source": [
    "# Forcast without training \n",
    "print('Median daily taxi orders:', test['num_orders'].median())\n",
    "\n",
    "pred_previous = test.shift()\n",
    "pred_previous.fillna(train.iloc[train.size-1], inplace=True)\n",
    "result =  mean_squared_error(test, pred_previous) \n",
    "print('RMSE:', result**0.5)"
   ]
  },
  {
   "cell_type": "markdown",
   "metadata": {},
   "source": [
    "We can use this as a sanity check for our models"
   ]
  },
  {
   "cell_type": "markdown",
   "metadata": {},
   "source": [
    "<div class=\"alert alert-warning\">\n",
    "<b>Reviewer's comment</b>\n",
    "\n",
    "Great, there's a baseline! Another simple baseline that often produces better results than a constant is using previous value as prediction\n",
    "\n",
    "</div>"
   ]
  },
  {
   "cell_type": "markdown",
   "metadata": {},
   "source": [
    "## Training"
   ]
  },
  {
   "cell_type": "code",
   "execution_count": 21,
   "metadata": {},
   "outputs": [
    {
     "name": "stdout",
     "output_type": "stream",
     "text": [
      "                     num_orders  year  month  day  dayofweek  hour  lag_1  \\\n",
      "datetime                                                                    \n",
      "2018-03-01 00:00:00         124  2018      3    1          3     0    NaN   \n",
      "2018-03-01 01:00:00          85  2018      3    1          3     1  124.0   \n",
      "2018-03-01 02:00:00          71  2018      3    1          3     2   85.0   \n",
      "2018-03-01 03:00:00          66  2018      3    1          3     3   71.0   \n",
      "2018-03-01 04:00:00          43  2018      3    1          3     4   66.0   \n",
      "\n",
      "                     lag_2  lag_3  lag_4  lag_5  lag_6  lag_7  lag_8  lag_9  \\\n",
      "datetime                                                                      \n",
      "2018-03-01 00:00:00    NaN    NaN    NaN    NaN    NaN    NaN    NaN    NaN   \n",
      "2018-03-01 01:00:00    NaN    NaN    NaN    NaN    NaN    NaN    NaN    NaN   \n",
      "2018-03-01 02:00:00  124.0    NaN    NaN    NaN    NaN    NaN    NaN    NaN   \n",
      "2018-03-01 03:00:00   85.0  124.0    NaN    NaN    NaN    NaN    NaN    NaN   \n",
      "2018-03-01 04:00:00   71.0   85.0  124.0    NaN    NaN    NaN    NaN    NaN   \n",
      "\n",
      "                     lag_10  rolling_mean  \n",
      "datetime                                   \n",
      "2018-03-01 00:00:00     NaN           NaN  \n",
      "2018-03-01 01:00:00     NaN           NaN  \n",
      "2018-03-01 02:00:00     NaN           NaN  \n",
      "2018-03-01 03:00:00     NaN           NaN  \n",
      "2018-03-01 04:00:00     NaN           NaN  \n"
     ]
    }
   ],
   "source": [
    "# Create features for training\n",
    "def make_features(data, max_lag, rolling_mean_size):\n",
    "    data['year'] = data.index.year\n",
    "    data['month'] = data.index.month\n",
    "    data['day'] = data.index.day\n",
    "    data['dayofweek'] = data.index.dayofweek\n",
    "    data['hour'] = data.index.hour\n",
    "    \n",
    "    for lag in range(1, max_lag + 1):\n",
    "        data['lag_{}'.format(lag)] = data['num_orders'].shift(lag)\n",
    "\n",
    "    data['rolling_mean'] = data['num_orders'].shift().rolling(rolling_mean_size).mean()\n",
    "\n",
    "make_features(df, 10, 5)\n",
    "print(df.head())"
   ]
  },
  {
   "cell_type": "markdown",
   "metadata": {},
   "source": [
    "<div class=\"alert alert-warning\">\n",
    "<b>Reviewer's comment</b>\n",
    "\n",
    "Feature engineering looks good: there are calendar features, lag features and a shifted rolling mean. I would suggest adding an hour feature as we're doing hourly predictions to capture intra-day seasonality\n",
    "\n",
    "</div>"
   ]
  },
  {
   "cell_type": "code",
   "execution_count": 22,
   "metadata": {},
   "outputs": [],
   "source": [
    "# Create RMSE function\n",
    "def rmse(target, pred, **kwargs):\n",
    "    mse = mean_squared_error(target, pred)\n",
    "    result = mse**0.5\n",
    "    return result\n",
    "    \n",
    "# Create scorer\n",
    "scorer = make_scorer(rmse, greater_is_better=False)\n"
   ]
  },
  {
   "cell_type": "markdown",
   "metadata": {},
   "source": [
    "<div class=\"alert alert-warning\">\n",
    "<b>Reviewer's comment</b>\n",
    "\n",
    "In scikit-learn RMSE one of the [default metrics](https://scikit-learn.org/stable/modules/model_evaluation.html#common-cases-predefined-values) and can be used with `scoring='neg_root_mean_squared_error'`\n",
    "\n",
    "</div>"
   ]
  },
  {
   "cell_type": "code",
   "execution_count": 23,
   "metadata": {},
   "outputs": [],
   "source": [
    "# Split df into features and targets for training and test datasets \n",
    "train, test = train_test_split(df, shuffle=False, test_size=0.1)\n",
    "train = train.dropna()\n",
    "\n",
    "features_train = train.drop('num_orders', axis=1)\n",
    "target_train = train['num_orders']\n",
    "\n",
    "features_test = test.drop('num_orders', axis=1)\n",
    "target_test = test['num_orders']"
   ]
  },
  {
   "cell_type": "markdown",
   "metadata": {},
   "source": [
    "<div class=\"alert alert-success\">\n",
    "<b>Reviewer's comment</b>\n",
    "\n",
    "Ok!\n",
    "\n",
    "</div>"
   ]
  },
  {
   "cell_type": "markdown",
   "metadata": {},
   "source": [
    "All relevant functions have been defined. Now to create the models"
   ]
  },
  {
   "cell_type": "markdown",
   "metadata": {},
   "source": [
    "### Linear Regression Model"
   ]
  },
  {
   "cell_type": "code",
   "execution_count": 26,
   "metadata": {},
   "outputs": [
    {
     "name": "stdout",
     "output_type": "stream",
     "text": [
      "RMSE= 31.50113295387454\n"
     ]
    }
   ],
   "source": [
    "# Create and train model\n",
    "lr_model = LinearRegression()\n",
    "lr_result = cross_val_score(lr_model, features_train, target_train, cv=TimeSeriesSplit(), scoring=scorer).mean() *-1\n",
    "print('RMSE=', lr_result)"
   ]
  },
  {
   "cell_type": "markdown",
   "metadata": {},
   "source": [
    "### Decision tree model"
   ]
  },
  {
   "cell_type": "code",
   "execution_count": 25,
   "metadata": {},
   "outputs": [
    {
     "name": "stdout",
     "output_type": "stream",
     "text": [
      "max_depth = 1\n",
      "RMSE = 36.34936403871058\n"
     ]
    }
   ],
   "source": [
    "# Create and train model\n",
    "dt_model = None\n",
    "max_depth = 0\n",
    "dt_rmse = float('-inf')\n",
    "for depth in range(1, 50, 10):\n",
    "    model = DecisionTreeRegressor(max_depth = depth, random_state=12345)\n",
    "    result = cross_val_score(model, features_train, target_train, cv=TimeSeriesSplit(), scoring=scorer).mean()\n",
    "    if result > dt_rmse:\n",
    "        dt_model = model\n",
    "        max_depth= depth\n",
    "        dt_rmse = result * -1\n",
    "print('max_depth =', max_depth)\n",
    "print('RMSE =', dt_rmse)"
   ]
  },
  {
   "cell_type": "markdown",
   "metadata": {},
   "source": [
    "### Random Forest Model"
   ]
  },
  {
   "cell_type": "code",
   "execution_count": 30,
   "metadata": {},
   "outputs": [
    {
     "name": "stdout",
     "output_type": "stream",
     "text": [
      "max_depth = 1\n",
      "number of estimators = 1\n",
      "RMSE = 36.087186246752694\n"
     ]
    }
   ],
   "source": [
    "rf_model = None\n",
    "rf_max_depth = 0\n",
    "rf_rmse = float('-inf')\n",
    "n_est = 0\n",
    "for depth in range(1, 50, 10):\n",
    "    for est in range(1, 50, 10):\n",
    "        model = RandomForestRegressor(n_estimators= est, max_depth = depth, random_state=12345)\n",
    "        result = cross_val_score(model, features_train, target_train, cv=TimeSeriesSplit(), scoring=scorer).mean()\n",
    "        if result > rf_rmse:\n",
    "            rf_model = model\n",
    "            rf_max_depth= depth\n",
    "            n_est = est\n",
    "            rf_rmse = result * -1\n",
    "print('max_depth =', rf_max_depth)\n",
    "print('number of estimators =', n_est)\n",
    "print('RMSE =', rf_rmse)"
   ]
  },
  {
   "cell_type": "markdown",
   "metadata": {},
   "source": [
    "### Catboost Model"
   ]
  },
  {
   "cell_type": "code",
   "execution_count": 27,
   "metadata": {},
   "outputs": [],
   "source": [
    "cb_model = None\n",
    "iterations = 0\n",
    "RMSE_2 = float('-inf')\n",
    "for l in range(100, 200, 50):\n",
    "    model_2 = CatBoostRegressor(random_seed=12345, iterations=l, verbose=0)\n",
    "    result_2 = cross_val_score(model_2, features_train, target_train, cv=TimeSeriesSplit(), scoring=scorer).mean()\n",
    "    if result_2 > RMSE_2:\n",
    "        cb_model = model_2\n",
    "        RMSE_2 = result_2 * -1\n",
    "        iterations = l"
   ]
  },
  {
   "cell_type": "code",
   "execution_count": 28,
   "metadata": {},
   "outputs": [
    {
     "data": {
      "text/plain": [
       "25.79847402278775"
      ]
     },
     "execution_count": 28,
     "metadata": {},
     "output_type": "execute_result"
    }
   ],
   "source": [
    "RMSE_2"
   ]
  },
  {
   "cell_type": "markdown",
   "metadata": {},
   "source": [
    "### ARIMA model"
   ]
  },
  {
   "cell_type": "code",
   "execution_count": 29,
   "metadata": {
    "scrolled": true
   },
   "outputs": [
    {
     "name": "stderr",
     "output_type": "stream",
     "text": [
      "/opt/conda/lib/python3.9/site-packages/statsmodels/graphics/tsaplots.py:348: FutureWarning: The default method 'yw' can produce PACF values outside of the [-1,1] interval. After 0.13, the default will change tounadjusted Yule-Walker ('ywm'). You can use this method now by setting method='ywm'.\n",
      "  warnings.warn(\n"
     ]
    },
    {
     "data": {
      "image/png": "[encoded data removed]",
      "text/plain": [
       "<Figure size 432x288 with 1 Axes>"
      ]
     },
     "metadata": {
      "needs_background": "light"
     },
     "output_type": "display_data"
    }
   ],
   "source": [
    "plot_pacf(df['num_orders'], lags=50);"
   ]
  },
  {
   "cell_type": "code",
   "execution_count": 30,
   "metadata": {},
   "outputs": [
    {
     "data": {
      "image/png": "[encoded data removed]",
      "text/plain": [
       "<Figure size 432x288 with 1 Axes>"
      ]
     },
     "metadata": {
      "needs_background": "light"
     },
     "output_type": "display_data"
    }
   ],
   "source": [
    "plot_acf(df['num_orders'], lags=40);"
   ]
  },
  {
   "cell_type": "code",
   "execution_count": 31,
   "metadata": {},
   "outputs": [
    {
     "name": "stderr",
     "output_type": "stream",
     "text": [
      "/opt/conda/lib/python3.9/site-packages/statsmodels/tsa/statespace/sarimax.py:978: UserWarning: Non-invertible starting MA parameters found. Using zeros as starting parameters.\n",
      "  warn('Non-invertible starting MA parameters found.'\n"
     ]
    },
    {
     "name": "stdout",
     "output_type": "stream",
     "text": [
      "datetime\n",
      "2018-03-01 01:00:00    123.947118\n",
      "2018-03-01 02:00:00     95.923957\n",
      "2018-03-01 03:00:00     83.522415\n",
      "2018-03-01 04:00:00     78.818041\n",
      "2018-03-01 05:00:00     62.386884\n",
      "                          ...    \n",
      "2018-03-11 20:00:00     77.123180\n",
      "2018-03-11 21:00:00     74.558493\n",
      "2018-03-11 22:00:00     86.866530\n",
      "2018-03-11 23:00:00     70.475378\n",
      "2018-03-12 00:00:00     86.695712\n",
      "Freq: H, Name: predicted_mean, Length: 264, dtype: float64\n"
     ]
    }
   ],
   "source": [
    "arima = ARIMA(df['num_orders'], order=(2,1,2))\n",
    "\n",
    "result = arima.fit()\n",
    "\n",
    "print(result.predict(1,264))"
   ]
  },
  {
   "cell_type": "markdown",
   "metadata": {},
   "source": [
    "<div class=\"alert alert-danger\">\n",
    "<s><b>Reviewer's comment</b>\n",
    "\n",
    "Great, your tried a couple of different models and did some hyperparameter tuning using cross-validation. One problem: using regular k-fold validation is not appropriate for time series models due to data leakage (in all folds but one train and validation data are in mixed order). To fix this we can use [TimeSeriesSplit](https://scikit-learn.org/stable/modules/generated/sklearn.model_selection.TimeSeriesSplit.html) (just pass an object of this class as the `cv` parameter to `cross_val_score`, `GridSearchCV`, etc.)\n",
    "\n",
    "</div>"
   ]
  },
  {
   "cell_type": "markdown",
   "metadata": {},
   "source": [
    "<div class=\"alert alert-danger\">\n",
    "<s><b>Reviewer's comment V2</b>\n",
    "\n",
    "Very good! One small problem: setting the parameter `test_size` of `TimeSeriesSplit` to 2 limits the size of validation subsets to just 2 examples, which makes our validation subsets not representative. I suggest using the default value instead. Compare how the data is split using these two options below\n",
    "\n",
    "</div>"
   ]
  },
  {
   "cell_type": "code",
   "execution_count": 52,
   "metadata": {},
   "outputs": [
    {
     "name": "stdout",
     "output_type": "stream",
     "text": [
      "TRAIN: [0 ... 3953], TEST: [3954 3955]\n",
      "TRAIN: [0 ... 3955], TEST: [3956 3957]\n",
      "TRAIN: [0 ... 3957], TEST: [3958 3959]\n",
      "TRAIN: [0 ... 3959], TEST: [3960 3961]\n",
      "TRAIN: [0 ... 3961], TEST: [3962 3963]\n"
     ]
    }
   ],
   "source": [
    "tscv = TimeSeriesSplit(test_size=2)\n",
    "for train_index, test_index in tscv.split(features_train):\n",
    "    print(f\"TRAIN: [{train_index[0]} ... {train_index[-1]}], TEST: {test_index}\")"
   ]
  },
  {
   "cell_type": "code",
   "execution_count": 53,
   "metadata": {},
   "outputs": [
    {
     "name": "stdout",
     "output_type": "stream",
     "text": [
      "TRAIN: [0 ... 663], TEST: [664 ... 1323]\n",
      "TRAIN: [0 ... 1323], TEST: [1324 ... 1983]\n",
      "TRAIN: [0 ... 1983], TEST: [1984 ... 2643]\n",
      "TRAIN: [0 ... 2643], TEST: [2644 ... 3303]\n",
      "TRAIN: [0 ... 3303], TEST: [3304 ... 3963]\n"
     ]
    }
   ],
   "source": [
    "tscv = TimeSeriesSplit()\n",
    "for train_index, test_index in tscv.split(features_train):\n",
    "    print(f\"TRAIN: [{train_index[0]} ... {train_index[-1]}], TEST: [{test_index[0]} ... {test_index[-1]}]\")"
   ]
  },
  {
   "cell_type": "markdown",
   "metadata": {},
   "source": [
    "<div class=\"alert alert-info\">\n",
    "  Thanks a lot for this example. It really clears things up as to what actually happens when the test_size is set at a certain number.\n",
    "</div>"
   ]
  },
  {
   "cell_type": "markdown",
   "metadata": {},
   "source": [
    "<div class=\"alert alert-success\">\n",
    "<b>Reviewer's comment V3</b>\n",
    "\n",
    "Glad it helped you :)\n",
    "\n",
    "</div>"
   ]
  },
  {
   "cell_type": "markdown",
   "metadata": {},
   "source": [
    "## Testing"
   ]
  },
  {
   "cell_type": "markdown",
   "metadata": {},
   "source": [
    "### Catboost model"
   ]
  },
  {
   "cell_type": "code",
   "execution_count": 31,
   "metadata": {},
   "outputs": [
    {
     "name": "stdout",
     "output_type": "stream",
     "text": [
      "RMSE= 47.597488999312404\n"
     ]
    }
   ],
   "source": [
    "# Test model and evaluate accuracy\n",
    "cb_model.fit(features_train, target_train)\n",
    "cb_pred = cb_model.predict(features_test)\n",
    "print('RMSE=', rmse(target_test, cb_pred))"
   ]
  },
  {
   "cell_type": "markdown",
   "metadata": {},
   "source": [
    "From our testing and model training, we can see that the catboost model is more accurate in predicting time series than the other models."
   ]
  },
  {
   "cell_type": "markdown",
   "metadata": {},
   "source": [
    "<div class=\"alert alert-danger\">\n",
    "<s>\n",
    "    <b>Reviewer's comment</b>\n",
    "\n",
    "1. The test set should only be used to evaluate your single final model. To compare different models please use cross-validation. The reason is that the test set is used to get an unbiased estimate of the final model's generalization performance. If we use it to tune hyperparameters, for model selection or to make any decisions about the model in general, it makes the results inherently biased.\n",
    "    \n",
    "2. Another point is that because you applied differencing and log transformation to the data, it's not possible to compare the RMSE of your models to the project threshold which assumes you're working with the original data. So please apply the inverse transformation after making the predictions and use that to calculate RMSE with original targets.\n",
    "\n",
    "</div>"
   ]
  },
  {
   "cell_type": "markdown",
   "metadata": {},
   "source": [
    "<div class=\"alert alert-success\">\n",
    "<b>Reviewer's comment V2</b>\n",
    "\n",
    "Ok, great!\n",
    "\n",
    "</div>"
   ]
  },
  {
   "cell_type": "markdown",
   "metadata": {},
   "source": [
    "I also came accross ARIMA, AR and MA models during my research. But these models were not covered in the course material. If you could share some useful resources where I could read and practice how to use them, that'd be very helpful. Thanks."
   ]
  },
  {
   "cell_type": "markdown",
   "metadata": {},
   "source": [
    "<div class=\"alert alert-success\">\n",
    "<b>Reviewer's comment</b>\n",
    "\n",
    "Check out [this blog](https://machinelearningmastery.com/arima-for-time-series-forecasting-with-python/), it has a lot of useful posts on other machine learning topics as well\n",
    "\n",
    "</div>"
   ]
  },
  {
   "cell_type": "markdown",
   "metadata": {},
   "source": [
    "# Review checklist"
   ]
  },
  {
   "cell_type": "markdown",
   "metadata": {},
   "source": [
    "- [x]  Jupyter Notebook is open\n",
    "- [x]  The code is error-free\n",
    "- [x]  The cells with the code have been arranged in order of execution\n",
    "- [x]  The data has been downloaded and prepared\n",
    "- [x]  The data has been analyzed\n",
    "- [x]  The model has been trained and hyperparameters have been selected\n",
    "- [x]  The models have been evaluated. Conclusion has been provided\n",
    "- [x] *RMSE* for the test set is not more than 48"
   ]
  }
 ],
 "metadata": {
  "ExecuteTimeLog": [
   {
    "duration": 394,
    "start_time": "2022-08-27T22:01:38.154Z"
   },
   {
    "duration": 183,
    "start_time": "2022-08-27T22:03:21.168Z"
   },
   {
    "duration": 14,
    "start_time": "2022-08-27T22:03:36.446Z"
   },
   {
    "duration": 13,
    "start_time": "2022-08-27T22:04:02.375Z"
   },
   {
    "duration": 6,
    "start_time": "2022-08-27T22:04:45.136Z"
   },
   {
    "duration": 6,
    "start_time": "2022-08-27T22:04:54.339Z"
   },
   {
    "duration": 14,
    "start_time": "2022-08-27T22:05:29.936Z"
   },
   {
    "duration": 13,
    "start_time": "2022-08-27T22:05:47.818Z"
   },
   {
    "duration": 45,
    "start_time": "2022-08-27T22:08:22.605Z"
   },
   {
    "duration": 9,
    "start_time": "2022-08-27T22:08:25.395Z"
   },
   {
    "duration": 11,
    "start_time": "2022-08-27T22:08:29.436Z"
   },
   {
    "duration": 43,
    "start_time": "2022-08-27T22:10:12.556Z"
   },
   {
    "duration": 8,
    "start_time": "2022-08-27T22:10:15.376Z"
   },
   {
    "duration": 9,
    "start_time": "2022-08-27T22:10:20.886Z"
   },
   {
    "duration": 4,
    "start_time": "2022-08-27T22:11:51.157Z"
   },
   {
    "duration": 1024,
    "start_time": "2022-08-27T22:12:33.195Z"
   },
   {
    "duration": 5,
    "start_time": "2022-08-27T22:17:48.535Z"
   },
   {
    "duration": 5,
    "start_time": "2022-08-27T22:17:58.095Z"
   },
   {
    "duration": 4,
    "start_time": "2022-08-27T22:18:29.883Z"
   },
   {
    "duration": 77,
    "start_time": "2022-08-27T22:33:40.876Z"
   },
   {
    "duration": 10,
    "start_time": "2022-08-27T22:34:12.964Z"
   },
   {
    "duration": 9,
    "start_time": "2022-08-27T22:34:23.445Z"
   },
   {
    "duration": 8,
    "start_time": "2022-08-27T22:34:29.454Z"
   },
   {
    "duration": 375,
    "start_time": "2022-08-27T22:34:45.190Z"
   },
   {
    "duration": 48,
    "start_time": "2022-08-27T22:34:45.567Z"
   },
   {
    "duration": 15,
    "start_time": "2022-08-27T22:34:45.617Z"
   },
   {
    "duration": 10,
    "start_time": "2022-08-27T22:34:45.633Z"
   },
   {
    "duration": 6,
    "start_time": "2022-08-27T22:34:45.645Z"
   },
   {
    "duration": 5,
    "start_time": "2022-08-27T22:34:45.652Z"
   },
   {
    "duration": 31,
    "start_time": "2022-08-27T22:34:45.658Z"
   },
   {
    "duration": 6,
    "start_time": "2022-08-27T22:34:45.690Z"
   },
   {
    "duration": 11,
    "start_time": "2022-08-27T22:35:46.551Z"
   },
   {
    "duration": 447,
    "start_time": "2022-08-27T22:36:55.401Z"
   },
   {
    "duration": 798,
    "start_time": "2022-09-03T08:07:54.871Z"
   },
   {
    "duration": 549,
    "start_time": "2022-09-03T08:08:08.935Z"
   },
   {
    "duration": 116,
    "start_time": "2022-09-03T08:08:09.486Z"
   },
   {
    "duration": 11,
    "start_time": "2022-09-03T08:08:09.603Z"
   },
   {
    "duration": 9,
    "start_time": "2022-09-03T08:08:09.616Z"
   },
   {
    "duration": 6,
    "start_time": "2022-09-03T08:08:09.626Z"
   },
   {
    "duration": 6,
    "start_time": "2022-09-03T08:08:09.633Z"
   },
   {
    "duration": 12,
    "start_time": "2022-09-03T08:08:09.640Z"
   },
   {
    "duration": 5,
    "start_time": "2022-09-03T08:08:09.653Z"
   },
   {
    "duration": 253,
    "start_time": "2022-09-03T08:08:09.660Z"
   },
   {
    "duration": 460,
    "start_time": "2022-09-03T08:10:35.365Z"
   },
   {
    "duration": 113,
    "start_time": "2022-09-03T08:14:07.804Z"
   },
   {
    "duration": 667,
    "start_time": "2022-09-03T08:15:01.455Z"
   },
   {
    "duration": 861,
    "start_time": "2022-09-03T08:24:51.816Z"
   },
   {
    "duration": 1048,
    "start_time": "2022-09-03T08:27:57.862Z"
   },
   {
    "duration": 46,
    "start_time": "2022-09-03T08:27:58.912Z"
   },
   {
    "duration": 11,
    "start_time": "2022-09-03T08:27:58.959Z"
   },
   {
    "duration": 10,
    "start_time": "2022-09-03T08:27:58.971Z"
   },
   {
    "duration": 5,
    "start_time": "2022-09-03T08:27:58.983Z"
   },
   {
    "duration": 8,
    "start_time": "2022-09-03T08:27:58.989Z"
   },
   {
    "duration": 12,
    "start_time": "2022-09-03T08:27:58.998Z"
   },
   {
    "duration": 796,
    "start_time": "2022-09-03T08:27:59.011Z"
   },
   {
    "duration": 0,
    "start_time": "2022-09-03T08:27:59.809Z"
   },
   {
    "duration": 0,
    "start_time": "2022-09-03T08:27:59.810Z"
   },
   {
    "duration": 1114,
    "start_time": "2022-09-03T08:30:53.654Z"
   },
   {
    "duration": 62,
    "start_time": "2022-09-03T08:30:54.771Z"
   },
   {
    "duration": 14,
    "start_time": "2022-09-03T08:30:54.835Z"
   },
   {
    "duration": 12,
    "start_time": "2022-09-03T08:30:54.850Z"
   },
   {
    "duration": 8,
    "start_time": "2022-09-03T08:30:54.864Z"
   },
   {
    "duration": 7,
    "start_time": "2022-09-03T08:30:54.874Z"
   },
   {
    "duration": 10,
    "start_time": "2022-09-03T08:30:54.899Z"
   },
   {
    "duration": 120,
    "start_time": "2022-09-03T08:30:54.910Z"
   },
   {
    "duration": 0,
    "start_time": "2022-09-03T08:30:55.031Z"
   },
   {
    "duration": 0,
    "start_time": "2022-09-03T08:30:55.033Z"
   },
   {
    "duration": 10,
    "start_time": "2022-09-03T08:31:04.683Z"
   },
   {
    "duration": 701,
    "start_time": "2022-09-03T08:31:33.680Z"
   },
   {
    "duration": 5,
    "start_time": "2022-09-03T08:33:22.870Z"
   },
   {
    "duration": 296,
    "start_time": "2022-09-03T08:33:34.710Z"
   },
   {
    "duration": 659,
    "start_time": "2022-09-03T08:34:45.190Z"
   },
   {
    "duration": 1018,
    "start_time": "2022-09-03T08:38:38.438Z"
   },
   {
    "duration": 54,
    "start_time": "2022-09-03T08:38:39.458Z"
   },
   {
    "duration": 11,
    "start_time": "2022-09-03T08:38:39.513Z"
   },
   {
    "duration": 8,
    "start_time": "2022-09-03T08:38:39.526Z"
   },
   {
    "duration": 6,
    "start_time": "2022-09-03T08:38:39.536Z"
   },
   {
    "duration": 4,
    "start_time": "2022-09-03T08:38:39.543Z"
   },
   {
    "duration": 10,
    "start_time": "2022-09-03T08:38:39.548Z"
   },
   {
    "duration": 4,
    "start_time": "2022-09-03T08:38:39.559Z"
   },
   {
    "duration": 36,
    "start_time": "2022-09-03T08:38:39.564Z"
   },
   {
    "duration": 228,
    "start_time": "2022-09-03T08:38:39.602Z"
   },
   {
    "duration": 114,
    "start_time": "2022-09-03T08:38:39.832Z"
   },
   {
    "duration": 995,
    "start_time": "2022-09-03T08:41:11.847Z"
   },
   {
    "duration": 50,
    "start_time": "2022-09-03T08:41:12.844Z"
   },
   {
    "duration": 11,
    "start_time": "2022-09-03T08:41:12.895Z"
   },
   {
    "duration": 13,
    "start_time": "2022-09-03T08:41:12.908Z"
   },
   {
    "duration": 5,
    "start_time": "2022-09-03T08:41:12.923Z"
   },
   {
    "duration": 11,
    "start_time": "2022-09-03T08:41:12.929Z"
   },
   {
    "duration": 8,
    "start_time": "2022-09-03T08:41:12.941Z"
   },
   {
    "duration": 6,
    "start_time": "2022-09-03T08:41:12.950Z"
   },
   {
    "duration": 6,
    "start_time": "2022-09-03T08:41:12.957Z"
   },
   {
    "duration": 296,
    "start_time": "2022-09-03T08:41:12.964Z"
   },
   {
    "duration": 105,
    "start_time": "2022-09-03T08:41:13.262Z"
   },
   {
    "duration": 12,
    "start_time": "2022-09-03T08:41:41.014Z"
   },
   {
    "duration": 4,
    "start_time": "2022-09-03T08:42:58.447Z"
   },
   {
    "duration": 6,
    "start_time": "2022-09-03T08:43:01.386Z"
   },
   {
    "duration": 378,
    "start_time": "2022-09-03T08:43:04.366Z"
   },
   {
    "duration": 13,
    "start_time": "2022-09-03T08:43:09.889Z"
   },
   {
    "duration": 794,
    "start_time": "2022-09-03T08:43:13.847Z"
   },
   {
    "duration": 261,
    "start_time": "2022-09-03T08:47:56.274Z"
   },
   {
    "duration": 6,
    "start_time": "2022-09-03T09:03:02.003Z"
   },
   {
    "duration": 20,
    "start_time": "2022-09-03T09:15:42.899Z"
   },
   {
    "duration": 3,
    "start_time": "2022-09-03T09:16:13.568Z"
   },
   {
    "duration": 7,
    "start_time": "2022-09-03T09:16:22.329Z"
   },
   {
    "duration": 1171,
    "start_time": "2022-09-03T09:23:18.577Z"
   },
   {
    "duration": 20,
    "start_time": "2022-09-03T09:24:31.247Z"
   },
   {
    "duration": 8,
    "start_time": "2022-09-03T09:44:26.431Z"
   },
   {
    "duration": 9,
    "start_time": "2022-09-03T09:45:01.951Z"
   },
   {
    "duration": 20,
    "start_time": "2022-09-03T09:45:37.530Z"
   },
   {
    "duration": 8,
    "start_time": "2022-09-03T09:45:50.160Z"
   },
   {
    "duration": 5,
    "start_time": "2022-09-03T09:47:19.052Z"
   },
   {
    "duration": 3,
    "start_time": "2022-09-03T09:50:14.281Z"
   },
   {
    "duration": 21,
    "start_time": "2022-09-03T09:54:35.209Z"
   },
   {
    "duration": 3,
    "start_time": "2022-09-03T09:56:34.289Z"
   },
   {
    "duration": 13,
    "start_time": "2022-09-03T10:00:48.122Z"
   },
   {
    "duration": 3,
    "start_time": "2022-09-03T10:01:13.020Z"
   },
   {
    "duration": 3,
    "start_time": "2022-09-03T10:02:04.674Z"
   },
   {
    "duration": 3,
    "start_time": "2022-09-03T10:09:11.363Z"
   },
   {
    "duration": 3,
    "start_time": "2022-09-03T10:10:37.152Z"
   },
   {
    "duration": 425,
    "start_time": "2022-09-03T10:20:48.361Z"
   },
   {
    "duration": 3,
    "start_time": "2022-09-03T10:30:43.561Z"
   },
   {
    "duration": 3,
    "start_time": "2022-09-03T10:30:53.710Z"
   },
   {
    "duration": 8,
    "start_time": "2022-09-03T10:32:42.481Z"
   },
   {
    "duration": 6,
    "start_time": "2022-09-03T10:32:47.257Z"
   },
   {
    "duration": 458,
    "start_time": "2022-09-03T10:32:51.080Z"
   },
   {
    "duration": 7,
    "start_time": "2022-09-03T10:36:13.101Z"
   },
   {
    "duration": 9,
    "start_time": "2022-09-03T10:36:47.269Z"
   },
   {
    "duration": 414,
    "start_time": "2022-09-03T10:36:54.939Z"
   },
   {
    "duration": 13,
    "start_time": "2022-09-03T10:37:17.145Z"
   },
   {
    "duration": 380,
    "start_time": "2022-09-03T10:38:06.723Z"
   },
   {
    "duration": 380,
    "start_time": "2022-09-03T10:39:13.032Z"
   },
   {
    "duration": 401,
    "start_time": "2022-09-03T10:39:35.833Z"
   },
   {
    "duration": 10,
    "start_time": "2022-09-03T11:17:05.773Z"
   },
   {
    "duration": 59,
    "start_time": "2022-09-03T20:07:25.754Z"
   },
   {
    "duration": 11769,
    "start_time": "2022-09-03T20:07:52.329Z"
   },
   {
    "duration": 21,
    "start_time": "2022-09-03T20:09:36.854Z"
   },
   {
    "duration": 7,
    "start_time": "2022-09-03T20:12:15.543Z"
   },
   {
    "duration": 5,
    "start_time": "2022-09-03T20:13:13.158Z"
   },
   {
    "duration": 10,
    "start_time": "2022-09-03T20:15:04.935Z"
   },
   {
    "duration": 11118,
    "start_time": "2022-09-03T20:17:57.676Z"
   },
   {
    "duration": 10,
    "start_time": "2022-09-03T20:18:41.417Z"
   },
   {
    "duration": 11047,
    "start_time": "2022-09-03T20:19:12.836Z"
   },
   {
    "duration": 11067,
    "start_time": "2022-09-03T20:19:34.645Z"
   },
   {
    "duration": 23614,
    "start_time": "2022-09-03T20:20:10.975Z"
   },
   {
    "duration": 10,
    "start_time": "2022-09-03T20:22:17.007Z"
   },
   {
    "duration": 12,
    "start_time": "2022-09-03T20:23:27.396Z"
   },
   {
    "duration": 11,
    "start_time": "2022-09-03T20:23:54.546Z"
   },
   {
    "duration": 7,
    "start_time": "2022-09-03T20:24:41.631Z"
   },
   {
    "duration": 9,
    "start_time": "2022-09-03T20:25:00.684Z"
   },
   {
    "duration": 1303,
    "start_time": "2022-09-03T20:30:47.192Z"
   },
   {
    "duration": 48,
    "start_time": "2022-09-03T20:30:48.497Z"
   },
   {
    "duration": 14,
    "start_time": "2022-09-03T20:30:48.547Z"
   },
   {
    "duration": 11,
    "start_time": "2022-09-03T20:30:48.562Z"
   },
   {
    "duration": 17,
    "start_time": "2022-09-03T20:30:48.575Z"
   },
   {
    "duration": 12,
    "start_time": "2022-09-03T20:30:48.593Z"
   },
   {
    "duration": 24,
    "start_time": "2022-09-03T20:30:48.606Z"
   },
   {
    "duration": 8,
    "start_time": "2022-09-03T20:30:48.632Z"
   },
   {
    "duration": 9,
    "start_time": "2022-09-03T20:30:48.641Z"
   },
   {
    "duration": 309,
    "start_time": "2022-09-03T20:30:48.652Z"
   },
   {
    "duration": 13,
    "start_time": "2022-09-03T20:30:48.963Z"
   },
   {
    "duration": 752,
    "start_time": "2022-09-03T20:30:48.978Z"
   },
   {
    "duration": 6,
    "start_time": "2022-09-03T20:30:49.731Z"
   },
   {
    "duration": 18,
    "start_time": "2022-09-03T20:30:49.739Z"
   },
   {
    "duration": 20,
    "start_time": "2022-09-03T20:30:49.758Z"
   },
   {
    "duration": 4,
    "start_time": "2022-09-03T20:30:49.779Z"
   },
   {
    "duration": 12,
    "start_time": "2022-09-03T20:30:49.784Z"
   },
   {
    "duration": 19,
    "start_time": "2022-09-03T20:30:49.798Z"
   },
   {
    "duration": 11,
    "start_time": "2022-09-03T20:30:49.819Z"
   },
   {
    "duration": 485,
    "start_time": "2022-09-03T20:30:49.831Z"
   },
   {
    "duration": 23964,
    "start_time": "2022-09-03T20:30:50.318Z"
   },
   {
    "duration": 5,
    "start_time": "2022-09-03T20:31:14.284Z"
   },
   {
    "duration": 8,
    "start_time": "2022-09-03T20:31:14.299Z"
   },
   {
    "duration": 9,
    "start_time": "2022-09-03T20:31:14.308Z"
   },
   {
    "duration": 463,
    "start_time": "2022-09-03T20:31:37.752Z"
   },
   {
    "duration": 25062,
    "start_time": "2022-09-03T20:31:45.172Z"
   },
   {
    "duration": 11,
    "start_time": "2022-09-03T20:32:10.237Z"
   },
   {
    "duration": 11,
    "start_time": "2022-09-03T20:32:12.117Z"
   },
   {
    "duration": 1012,
    "start_time": "2022-09-03T20:44:23.019Z"
   },
   {
    "duration": 11131,
    "start_time": "2022-09-03T20:44:29.882Z"
   },
   {
    "duration": 33,
    "start_time": "2022-09-03T20:44:46.890Z"
   },
   {
    "duration": 458,
    "start_time": "2022-09-03T20:44:55.862Z"
   },
   {
    "duration": 987935,
    "start_time": "2022-09-03T20:45:10.942Z"
   },
   {
    "duration": 1482,
    "start_time": "2022-09-04T08:28:18.235Z"
   },
   {
    "duration": 111,
    "start_time": "2022-09-04T08:28:19.719Z"
   },
   {
    "duration": 11,
    "start_time": "2022-09-04T08:28:19.831Z"
   },
   {
    "duration": 14,
    "start_time": "2022-09-04T08:28:19.844Z"
   },
   {
    "duration": 5,
    "start_time": "2022-09-04T08:28:19.860Z"
   },
   {
    "duration": 12,
    "start_time": "2022-09-04T08:28:19.866Z"
   },
   {
    "duration": 19,
    "start_time": "2022-09-04T08:28:19.879Z"
   },
   {
    "duration": 6,
    "start_time": "2022-09-04T08:28:19.900Z"
   },
   {
    "duration": 14,
    "start_time": "2022-09-04T08:28:19.907Z"
   },
   {
    "duration": 278,
    "start_time": "2022-09-04T08:28:19.922Z"
   },
   {
    "duration": 11,
    "start_time": "2022-09-04T08:28:20.202Z"
   },
   {
    "duration": 737,
    "start_time": "2022-09-04T08:28:20.214Z"
   },
   {
    "duration": 5,
    "start_time": "2022-09-04T08:28:20.952Z"
   },
   {
    "duration": 125,
    "start_time": "2022-09-04T08:28:20.959Z"
   },
   {
    "duration": 0,
    "start_time": "2022-09-04T08:28:21.085Z"
   },
   {
    "duration": 1,
    "start_time": "2022-09-04T08:28:21.086Z"
   },
   {
    "duration": 0,
    "start_time": "2022-09-04T08:28:21.087Z"
   },
   {
    "duration": 0,
    "start_time": "2022-09-04T08:28:21.088Z"
   },
   {
    "duration": 0,
    "start_time": "2022-09-04T08:28:21.089Z"
   },
   {
    "duration": 0,
    "start_time": "2022-09-04T08:28:21.098Z"
   },
   {
    "duration": 0,
    "start_time": "2022-09-04T08:28:21.099Z"
   },
   {
    "duration": 0,
    "start_time": "2022-09-04T08:28:21.100Z"
   },
   {
    "duration": 0,
    "start_time": "2022-09-04T08:28:21.100Z"
   },
   {
    "duration": 0,
    "start_time": "2022-09-04T08:28:21.101Z"
   },
   {
    "duration": 12,
    "start_time": "2022-09-04T08:29:06.456Z"
   },
   {
    "duration": 12,
    "start_time": "2022-09-04T08:29:45.525Z"
   },
   {
    "duration": 4,
    "start_time": "2022-09-04T08:29:51.174Z"
   },
   {
    "duration": 11,
    "start_time": "2022-09-04T08:30:03.533Z"
   },
   {
    "duration": 10,
    "start_time": "2022-09-04T08:30:07.985Z"
   },
   {
    "duration": 593,
    "start_time": "2022-09-04T08:30:11.375Z"
   },
   {
    "duration": 1238461,
    "start_time": "2022-09-04T08:30:16.655Z"
   },
   {
    "duration": 5,
    "start_time": "2022-09-04T08:50:55.117Z"
   },
   {
    "duration": 12,
    "start_time": "2022-09-04T08:50:55.124Z"
   },
   {
    "duration": 9,
    "start_time": "2022-09-04T08:50:55.137Z"
   },
   {
    "duration": 32,
    "start_time": "2022-09-04T08:54:42.984Z"
   },
   {
    "duration": 12,
    "start_time": "2022-09-04T08:56:38.323Z"
   },
   {
    "duration": 6,
    "start_time": "2022-09-04T08:57:22.904Z"
   },
   {
    "duration": 462,
    "start_time": "2022-09-04T08:57:39.183Z"
   },
   {
    "duration": 203,
    "start_time": "2022-09-04T08:59:45.943Z"
   },
   {
    "duration": 12,
    "start_time": "2022-09-04T09:02:08.712Z"
   },
   {
    "duration": 71,
    "start_time": "2022-09-04T09:03:12.004Z"
   },
   {
    "duration": 4832,
    "start_time": "2022-09-04T09:03:17.574Z"
   },
   {
    "duration": 5354,
    "start_time": "2022-09-04T09:03:43.262Z"
   },
   {
    "duration": 4,
    "start_time": "2022-09-04T09:07:04.943Z"
   },
   {
    "duration": 4,
    "start_time": "2022-09-04T09:07:27.262Z"
   },
   {
    "duration": 9,
    "start_time": "2022-09-04T09:07:33.892Z"
   },
   {
    "duration": 16,
    "start_time": "2022-09-04T09:08:10.363Z"
   },
   {
    "duration": 9,
    "start_time": "2022-09-04T09:08:26.203Z"
   },
   {
    "duration": 7,
    "start_time": "2022-09-04T09:08:30.292Z"
   },
   {
    "duration": 464,
    "start_time": "2022-09-04T09:08:34.784Z"
   },
   {
    "duration": 1013302,
    "start_time": "2022-09-04T09:08:42.233Z"
   },
   {
    "duration": 5,
    "start_time": "2022-09-04T09:25:35.536Z"
   },
   {
    "duration": 10,
    "start_time": "2022-09-04T09:25:35.543Z"
   },
   {
    "duration": 9,
    "start_time": "2022-09-04T09:25:35.555Z"
   },
   {
    "duration": 11,
    "start_time": "2022-09-04T09:26:02.123Z"
   },
   {
    "duration": 23,
    "start_time": "2022-09-04T09:26:42.191Z"
   },
   {
    "duration": 20,
    "start_time": "2022-09-04T09:26:53.241Z"
   },
   {
    "duration": 11,
    "start_time": "2022-09-04T09:27:16.971Z"
   },
   {
    "duration": 177,
    "start_time": "2022-09-04T09:27:20.899Z"
   },
   {
    "duration": 244,
    "start_time": "2022-09-04T09:27:33.391Z"
   },
   {
    "duration": 195,
    "start_time": "2022-09-04T09:28:00.535Z"
   },
   {
    "duration": 188,
    "start_time": "2022-09-04T09:28:20.131Z"
   },
   {
    "duration": 278,
    "start_time": "2022-09-04T09:28:27.453Z"
   },
   {
    "duration": 11,
    "start_time": "2022-09-04T09:28:44.291Z"
   },
   {
    "duration": 4968,
    "start_time": "2022-09-04T09:29:33.941Z"
   },
   {
    "duration": 5455,
    "start_time": "2022-09-04T09:30:05.460Z"
   },
   {
    "duration": 4974,
    "start_time": "2022-09-04T09:30:16.953Z"
   },
   {
    "duration": 5137,
    "start_time": "2022-09-04T09:30:42.481Z"
   },
   {
    "duration": 94,
    "start_time": "2022-09-04T09:45:11.991Z"
   },
   {
    "duration": 724,
    "start_time": "2022-09-04T09:45:23.779Z"
   },
   {
    "duration": 4888,
    "start_time": "2022-09-04T09:53:10.211Z"
   },
   {
    "duration": 6,
    "start_time": "2022-09-04T09:53:15.100Z"
   },
   {
    "duration": 100,
    "start_time": "2022-09-04T09:53:15.107Z"
   },
   {
    "duration": 194,
    "start_time": "2022-09-04T13:20:42.788Z"
   },
   {
    "duration": 3,
    "start_time": "2022-09-04T13:23:41.188Z"
   },
   {
    "duration": 3,
    "start_time": "2022-09-04T13:24:08.136Z"
   },
   {
    "duration": 9,
    "start_time": "2022-09-04T13:24:31.778Z"
   },
   {
    "duration": 185,
    "start_time": "2022-09-04T13:24:47.608Z"
   },
   {
    "duration": 3,
    "start_time": "2022-09-04T13:26:14.007Z"
   },
   {
    "duration": 545,
    "start_time": "2022-09-04T13:26:21.427Z"
   },
   {
    "duration": 687,
    "start_time": "2022-09-04T13:26:56.676Z"
   },
   {
    "duration": 550,
    "start_time": "2022-09-04T13:27:12.316Z"
   },
   {
    "duration": 571,
    "start_time": "2022-09-04T13:27:31.317Z"
   },
   {
    "duration": 205,
    "start_time": "2022-09-04T13:27:46.996Z"
   },
   {
    "duration": 314,
    "start_time": "2022-09-04T13:27:54.796Z"
   },
   {
    "duration": 477,
    "start_time": "2022-09-04T13:28:15.380Z"
   },
   {
    "duration": 337,
    "start_time": "2022-09-04T13:32:20.796Z"
   },
   {
    "duration": 849,
    "start_time": "2022-09-04T13:34:03.915Z"
   },
   {
    "duration": 190,
    "start_time": "2022-09-04T13:35:01.444Z"
   },
   {
    "duration": 118,
    "start_time": "2022-09-04T13:35:35.842Z"
   },
   {
    "duration": 845,
    "start_time": "2022-09-04T13:38:54.005Z"
   },
   {
    "duration": 257,
    "start_time": "2022-09-04T13:39:15.652Z"
   },
   {
    "duration": 270,
    "start_time": "2022-09-04T13:42:13.598Z"
   },
   {
    "duration": 273,
    "start_time": "2022-09-04T13:42:41.920Z"
   },
   {
    "duration": 248,
    "start_time": "2022-09-04T13:43:55.601Z"
   },
   {
    "duration": 114,
    "start_time": "2022-09-04T13:47:18.578Z"
   },
   {
    "duration": 115,
    "start_time": "2022-09-04T13:47:42.458Z"
   },
   {
    "duration": 323,
    "start_time": "2022-09-04T13:48:12.394Z"
   },
   {
    "duration": 214,
    "start_time": "2022-09-04T13:48:28.775Z"
   },
   {
    "duration": 131,
    "start_time": "2022-09-04T13:48:58.424Z"
   },
   {
    "duration": 132,
    "start_time": "2022-09-04T13:50:14.014Z"
   },
   {
    "duration": 125,
    "start_time": "2022-09-04T13:50:33.330Z"
   },
   {
    "duration": 112,
    "start_time": "2022-09-04T13:50:45.694Z"
   },
   {
    "duration": 111,
    "start_time": "2022-09-04T13:50:55.615Z"
   },
   {
    "duration": 185,
    "start_time": "2022-09-04T13:51:35.465Z"
   },
   {
    "duration": 172,
    "start_time": "2022-09-04T13:51:56.617Z"
   },
   {
    "duration": 201,
    "start_time": "2022-09-04T13:52:01.715Z"
   },
   {
    "duration": 522,
    "start_time": "2022-09-04T13:52:20.264Z"
   },
   {
    "duration": 660,
    "start_time": "2022-09-04T13:53:23.875Z"
   },
   {
    "duration": 608,
    "start_time": "2022-09-04T13:54:03.269Z"
   },
   {
    "duration": 528,
    "start_time": "2022-09-04T13:54:37.603Z"
   },
   {
    "duration": 646,
    "start_time": "2022-09-04T13:54:53.363Z"
   },
   {
    "duration": 381,
    "start_time": "2022-09-04T13:55:06.676Z"
   },
   {
    "duration": 422,
    "start_time": "2022-09-04T13:55:25.124Z"
   },
   {
    "duration": 15,
    "start_time": "2022-09-04T13:59:34.103Z"
   },
   {
    "duration": 1807,
    "start_time": "2022-09-05T21:32:07.692Z"
   },
   {
    "duration": 125,
    "start_time": "2022-09-05T21:32:09.500Z"
   },
   {
    "duration": 12,
    "start_time": "2022-09-05T21:32:09.626Z"
   },
   {
    "duration": 19,
    "start_time": "2022-09-05T21:32:09.640Z"
   },
   {
    "duration": 5,
    "start_time": "2022-09-05T21:32:09.661Z"
   },
   {
    "duration": 10,
    "start_time": "2022-09-05T21:32:09.667Z"
   },
   {
    "duration": 224,
    "start_time": "2022-09-05T21:32:09.678Z"
   },
   {
    "duration": 5,
    "start_time": "2022-09-05T21:32:09.903Z"
   },
   {
    "duration": 13,
    "start_time": "2022-09-05T21:32:09.909Z"
   },
   {
    "duration": 280,
    "start_time": "2022-09-05T21:32:09.924Z"
   },
   {
    "duration": 245,
    "start_time": "2022-09-05T21:32:10.206Z"
   },
   {
    "duration": 14,
    "start_time": "2022-09-05T21:32:10.453Z"
   },
   {
    "duration": 18,
    "start_time": "2022-09-05T21:32:10.470Z"
   },
   {
    "duration": 10,
    "start_time": "2022-09-05T21:32:10.491Z"
   },
   {
    "duration": 431,
    "start_time": "2022-09-05T21:32:10.502Z"
   },
   {
    "duration": 211,
    "start_time": "2022-09-05T21:32:19.884Z"
   },
   {
    "duration": 741,
    "start_time": "2022-09-05T21:33:00.485Z"
   },
   {
    "duration": 792,
    "start_time": "2022-09-05T21:33:27.384Z"
   },
   {
    "duration": 681,
    "start_time": "2022-09-05T21:33:37.775Z"
   },
   {
    "duration": 584,
    "start_time": "2022-09-05T21:34:10.954Z"
   },
   {
    "duration": 495,
    "start_time": "2022-09-05T21:34:38.135Z"
   },
   {
    "duration": 438,
    "start_time": "2022-09-05T21:35:23.734Z"
   },
   {
    "duration": 454,
    "start_time": "2022-09-05T21:35:30.224Z"
   },
   {
    "duration": 18,
    "start_time": "2022-09-05T21:36:32.055Z"
   },
   {
    "duration": 3,
    "start_time": "2022-09-05T21:36:54.104Z"
   },
   {
    "duration": 3,
    "start_time": "2022-09-05T21:41:32.075Z"
   },
   {
    "duration": 11,
    "start_time": "2022-09-05T21:45:24.174Z"
   },
   {
    "duration": 3,
    "start_time": "2022-09-05T21:45:35.575Z"
   },
   {
    "duration": 55,
    "start_time": "2022-09-05T21:45:35.580Z"
   },
   {
    "duration": 8,
    "start_time": "2022-09-05T21:45:35.637Z"
   },
   {
    "duration": 12,
    "start_time": "2022-09-05T21:45:35.646Z"
   },
   {
    "duration": 3,
    "start_time": "2022-09-05T21:45:35.660Z"
   },
   {
    "duration": 9,
    "start_time": "2022-09-05T21:45:35.665Z"
   },
   {
    "duration": 210,
    "start_time": "2022-09-05T21:45:35.676Z"
   },
   {
    "duration": 4,
    "start_time": "2022-09-05T21:45:35.888Z"
   },
   {
    "duration": 11,
    "start_time": "2022-09-05T21:45:35.894Z"
   },
   {
    "duration": 200,
    "start_time": "2022-09-05T21:45:35.906Z"
   },
   {
    "duration": 212,
    "start_time": "2022-09-05T21:45:36.109Z"
   },
   {
    "duration": 16,
    "start_time": "2022-09-05T21:45:36.323Z"
   },
   {
    "duration": 4,
    "start_time": "2022-09-05T21:45:36.341Z"
   },
   {
    "duration": 22,
    "start_time": "2022-09-05T21:45:36.347Z"
   },
   {
    "duration": 464,
    "start_time": "2022-09-05T21:45:36.386Z"
   },
   {
    "duration": 479,
    "start_time": "2022-09-05T21:45:36.852Z"
   },
   {
    "duration": 417,
    "start_time": "2022-09-05T21:45:37.333Z"
   },
   {
    "duration": 413,
    "start_time": "2022-09-05T21:45:37.752Z"
   },
   {
    "duration": 4,
    "start_time": "2022-09-05T21:45:38.167Z"
   },
   {
    "duration": 19,
    "start_time": "2022-09-05T21:45:38.173Z"
   },
   {
    "duration": 17,
    "start_time": "2022-09-05T21:45:38.194Z"
   },
   {
    "duration": 3,
    "start_time": "2022-09-05T21:45:38.213Z"
   },
   {
    "duration": 13,
    "start_time": "2022-09-05T21:45:38.217Z"
   },
   {
    "duration": 7,
    "start_time": "2022-09-05T21:45:38.231Z"
   },
   {
    "duration": 31,
    "start_time": "2022-09-05T21:45:43.904Z"
   },
   {
    "duration": 329,
    "start_time": "2022-09-05T21:46:41.555Z"
   },
   {
    "duration": 585,
    "start_time": "2022-09-05T21:53:12.763Z"
   },
   {
    "duration": 3,
    "start_time": "2022-09-05T21:55:44.703Z"
   },
   {
    "duration": 562,
    "start_time": "2022-09-05T21:55:55.293Z"
   },
   {
    "duration": 3,
    "start_time": "2022-09-05T21:58:40.793Z"
   },
   {
    "duration": 543,
    "start_time": "2022-09-05T21:58:47.602Z"
   },
   {
    "duration": 44,
    "start_time": "2022-09-05T22:06:15.010Z"
   },
   {
    "duration": 572,
    "start_time": "2022-09-05T22:06:34.380Z"
   },
   {
    "duration": 31,
    "start_time": "2022-09-05T22:06:55.252Z"
   },
   {
    "duration": 1655,
    "start_time": "2022-09-06T14:31:16.020Z"
   },
   {
    "duration": 109,
    "start_time": "2022-09-06T14:31:17.677Z"
   },
   {
    "duration": 11,
    "start_time": "2022-09-06T14:31:17.788Z"
   },
   {
    "duration": 9,
    "start_time": "2022-09-06T14:31:17.800Z"
   },
   {
    "duration": 4,
    "start_time": "2022-09-06T14:31:17.810Z"
   },
   {
    "duration": 10,
    "start_time": "2022-09-06T14:31:17.815Z"
   },
   {
    "duration": 210,
    "start_time": "2022-09-06T14:31:17.826Z"
   },
   {
    "duration": 4,
    "start_time": "2022-09-06T14:31:18.037Z"
   },
   {
    "duration": 8,
    "start_time": "2022-09-06T14:31:18.043Z"
   },
   {
    "duration": 242,
    "start_time": "2022-09-06T14:31:18.053Z"
   },
   {
    "duration": 211,
    "start_time": "2022-09-06T14:31:18.297Z"
   },
   {
    "duration": 14,
    "start_time": "2022-09-06T14:31:18.511Z"
   },
   {
    "duration": 5,
    "start_time": "2022-09-06T14:31:18.526Z"
   },
   {
    "duration": 29,
    "start_time": "2022-09-06T14:31:18.533Z"
   },
   {
    "duration": 409,
    "start_time": "2022-09-06T14:31:18.563Z"
   },
   {
    "duration": 450,
    "start_time": "2022-09-06T14:31:18.973Z"
   },
   {
    "duration": 432,
    "start_time": "2022-09-06T14:31:19.424Z"
   },
   {
    "duration": 467,
    "start_time": "2022-09-06T14:31:19.857Z"
   },
   {
    "duration": 6,
    "start_time": "2022-09-06T14:31:20.325Z"
   },
   {
    "duration": 28,
    "start_time": "2022-09-06T14:31:20.332Z"
   },
   {
    "duration": 14,
    "start_time": "2022-09-06T14:31:20.361Z"
   },
   {
    "duration": 3,
    "start_time": "2022-09-06T14:31:20.376Z"
   },
   {
    "duration": 15,
    "start_time": "2022-09-06T14:31:20.380Z"
   },
   {
    "duration": 584,
    "start_time": "2022-09-06T14:33:04.643Z"
   },
   {
    "duration": 1307,
    "start_time": "2022-09-06T14:33:36.922Z"
   },
   {
    "duration": 14456,
    "start_time": "2022-09-06T14:33:48.175Z"
   },
   {
    "duration": 580,
    "start_time": "2022-09-06T14:34:12.707Z"
   },
   {
    "duration": 580,
    "start_time": "2022-09-06T14:34:26.663Z"
   },
   {
    "duration": 581,
    "start_time": "2022-09-06T14:34:40.316Z"
   },
   {
    "duration": 593,
    "start_time": "2022-09-06T14:35:08.092Z"
   },
   {
    "duration": 618,
    "start_time": "2022-09-06T14:36:32.292Z"
   },
   {
    "duration": 151,
    "start_time": "2022-09-06T14:37:58.745Z"
   },
   {
    "duration": 579,
    "start_time": "2022-09-06T14:38:13.477Z"
   },
   {
    "duration": 577,
    "start_time": "2022-09-06T15:07:05.511Z"
   },
   {
    "duration": 615,
    "start_time": "2022-09-06T15:07:12.189Z"
   },
   {
    "duration": 3,
    "start_time": "2022-09-06T15:07:37.363Z"
   },
   {
    "duration": 581,
    "start_time": "2022-09-06T15:07:41.307Z"
   },
   {
    "duration": 3,
    "start_time": "2022-09-06T15:07:56.711Z"
   },
   {
    "duration": 577,
    "start_time": "2022-09-06T15:08:20.431Z"
   },
   {
    "duration": 581,
    "start_time": "2022-09-06T15:10:50.993Z"
   },
   {
    "duration": 582,
    "start_time": "2022-09-06T15:10:59.863Z"
   },
   {
    "duration": 1298484,
    "start_time": "2022-09-06T15:11:42.413Z"
   },
   {
    "duration": 1661,
    "start_time": "2022-09-06T21:07:49.370Z"
   },
   {
    "duration": 1237,
    "start_time": "2022-09-06T21:07:51.033Z"
   },
   {
    "duration": 12,
    "start_time": "2022-09-06T21:07:52.272Z"
   },
   {
    "duration": 16,
    "start_time": "2022-09-06T21:07:52.286Z"
   },
   {
    "duration": 4,
    "start_time": "2022-09-06T21:07:52.305Z"
   },
   {
    "duration": 14,
    "start_time": "2022-09-06T21:07:52.311Z"
   },
   {
    "duration": 278,
    "start_time": "2022-09-06T21:07:52.327Z"
   },
   {
    "duration": 4,
    "start_time": "2022-09-06T21:07:52.607Z"
   },
   {
    "duration": 13,
    "start_time": "2022-09-06T21:07:52.613Z"
   },
   {
    "duration": 288,
    "start_time": "2022-09-06T21:07:52.628Z"
   },
   {
    "duration": 257,
    "start_time": "2022-09-06T21:07:52.918Z"
   },
   {
    "duration": 25,
    "start_time": "2022-09-06T21:07:53.178Z"
   },
   {
    "duration": 7,
    "start_time": "2022-09-06T21:07:53.204Z"
   },
   {
    "duration": 15,
    "start_time": "2022-09-06T21:07:53.213Z"
   },
   {
    "duration": 483,
    "start_time": "2022-09-06T21:07:53.230Z"
   },
   {
    "duration": 514,
    "start_time": "2022-09-06T21:07:53.715Z"
   },
   {
    "duration": 466,
    "start_time": "2022-09-06T21:07:54.231Z"
   },
   {
    "duration": 479,
    "start_time": "2022-09-06T21:07:54.702Z"
   },
   {
    "duration": 6,
    "start_time": "2022-09-06T21:07:55.182Z"
   },
   {
    "duration": 21,
    "start_time": "2022-09-06T21:07:55.190Z"
   },
   {
    "duration": 120,
    "start_time": "2022-09-06T21:07:55.212Z"
   },
   {
    "duration": 3,
    "start_time": "2022-09-06T21:07:55.334Z"
   },
   {
    "duration": 15,
    "start_time": "2022-09-06T21:07:55.338Z"
   },
   {
    "duration": 64,
    "start_time": "2022-09-06T21:07:55.354Z"
   },
   {
    "duration": 699,
    "start_time": "2022-09-06T21:07:55.420Z"
   },
   {
    "duration": 594,
    "start_time": "2022-09-06T21:08:25.982Z"
   },
   {
    "duration": 20,
    "start_time": "2022-09-06T21:09:08.511Z"
   },
   {
    "duration": 10,
    "start_time": "2022-09-06T21:09:31.179Z"
   },
   {
    "duration": 43,
    "start_time": "2022-09-06T21:09:34.966Z"
   },
   {
    "duration": 657,
    "start_time": "2022-09-06T21:09:43.637Z"
   },
   {
    "duration": 17,
    "start_time": "2022-09-06T21:11:50.200Z"
   },
   {
    "duration": 11,
    "start_time": "2022-09-06T21:12:14.172Z"
   },
   {
    "duration": 40,
    "start_time": "2022-09-06T21:12:20.227Z"
   },
   {
    "duration": 38,
    "start_time": "2022-09-06T21:12:24.470Z"
   },
   {
    "duration": 558,
    "start_time": "2022-09-06T21:12:29.308Z"
   },
   {
    "duration": 4,
    "start_time": "2022-09-06T21:13:18.919Z"
   },
   {
    "duration": 10,
    "start_time": "2022-09-06T21:13:22.769Z"
   },
   {
    "duration": 39,
    "start_time": "2022-09-06T21:13:26.710Z"
   },
   {
    "duration": 561,
    "start_time": "2022-09-06T21:13:33.491Z"
   },
   {
    "duration": 1247422,
    "start_time": "2022-09-06T21:13:40.910Z"
   },
   {
    "duration": 0,
    "start_time": "2022-09-06T21:34:28.473Z"
   },
   {
    "duration": 0,
    "start_time": "2022-09-06T21:34:28.474Z"
   },
   {
    "duration": 0,
    "start_time": "2022-09-06T21:34:28.475Z"
   },
   {
    "duration": 11,
    "start_time": "2022-09-06T21:39:04.068Z"
   },
   {
    "duration": 11,
    "start_time": "2022-09-06T21:39:07.868Z"
   },
   {
    "duration": 13,
    "start_time": "2022-09-06T21:39:10.788Z"
   },
   {
    "duration": 16,
    "start_time": "2022-09-06T21:39:37.430Z"
   },
   {
    "duration": 16,
    "start_time": "2022-09-06T21:39:48.298Z"
   },
   {
    "duration": 9,
    "start_time": "2022-09-06T21:40:07.820Z"
   },
   {
    "duration": 81,
    "start_time": "2022-09-06T21:40:15.128Z"
   },
   {
    "duration": 11,
    "start_time": "2022-09-06T21:40:21.297Z"
   },
   {
    "duration": 13,
    "start_time": "2022-09-06T21:41:15.922Z"
   },
   {
    "duration": 20,
    "start_time": "2022-09-06T21:42:23.667Z"
   },
   {
    "duration": 8,
    "start_time": "2022-09-06T21:42:31.419Z"
   },
   {
    "duration": 32,
    "start_time": "2022-09-06T21:42:36.710Z"
   },
   {
    "duration": 10,
    "start_time": "2022-09-06T21:42:53.669Z"
   },
   {
    "duration": 66,
    "start_time": "2022-09-06T21:43:00.750Z"
   },
   {
    "duration": 927,
    "start_time": "2022-09-06T21:43:07.138Z"
   },
   {
    "duration": 11,
    "start_time": "2022-09-06T21:43:16.071Z"
   },
   {
    "duration": 11,
    "start_time": "2022-09-06T21:43:46.089Z"
   },
   {
    "duration": 18,
    "start_time": "2022-09-06T21:45:06.596Z"
   },
   {
    "duration": 10,
    "start_time": "2022-09-06T21:45:17.974Z"
   },
   {
    "duration": 100,
    "start_time": "2022-09-06T21:45:29.907Z"
   },
   {
    "duration": 906,
    "start_time": "2022-09-06T21:45:35.018Z"
   },
   {
    "duration": 18,
    "start_time": "2022-09-06T21:46:04.236Z"
   },
   {
    "duration": 916,
    "start_time": "2022-09-06T21:47:19.428Z"
   },
   {
    "duration": 11,
    "start_time": "2022-09-06T21:47:29.388Z"
   },
   {
    "duration": 920,
    "start_time": "2022-09-06T21:47:42.878Z"
   },
   {
    "duration": 12,
    "start_time": "2022-09-06T21:47:50.918Z"
   },
   {
    "duration": 14,
    "start_time": "2022-09-06T21:47:54.068Z"
   },
   {
    "duration": 920,
    "start_time": "2022-09-06T21:48:01.369Z"
   },
   {
    "duration": 13,
    "start_time": "2022-09-06T21:48:08.446Z"
   },
   {
    "duration": 911,
    "start_time": "2022-09-06T21:48:27.788Z"
   },
   {
    "duration": 11,
    "start_time": "2022-09-06T21:48:39.887Z"
   },
   {
    "duration": 940,
    "start_time": "2022-09-06T21:48:50.539Z"
   },
   {
    "duration": 112,
    "start_time": "2022-09-06T21:49:01.406Z"
   },
   {
    "duration": 12,
    "start_time": "2022-09-06T21:49:07.428Z"
   },
   {
    "duration": 48,
    "start_time": "2022-09-06T21:49:15.167Z"
   },
   {
    "duration": 15,
    "start_time": "2022-09-06T21:50:21.217Z"
   },
   {
    "duration": 11,
    "start_time": "2022-09-06T21:50:26.206Z"
   },
   {
    "duration": 5,
    "start_time": "2022-09-06T21:50:51.428Z"
   },
   {
    "duration": 60,
    "start_time": "2022-09-06T21:50:51.435Z"
   },
   {
    "duration": 9,
    "start_time": "2022-09-06T21:50:51.497Z"
   },
   {
    "duration": 18,
    "start_time": "2022-09-06T21:50:51.508Z"
   },
   {
    "duration": 5,
    "start_time": "2022-09-06T21:50:51.528Z"
   },
   {
    "duration": 15,
    "start_time": "2022-09-06T21:50:51.535Z"
   },
   {
    "duration": 245,
    "start_time": "2022-09-06T21:50:51.552Z"
   },
   {
    "duration": 4,
    "start_time": "2022-09-06T21:50:51.803Z"
   },
   {
    "duration": 9,
    "start_time": "2022-09-06T21:50:51.809Z"
   },
   {
    "duration": 226,
    "start_time": "2022-09-06T21:50:51.821Z"
   },
   {
    "duration": 238,
    "start_time": "2022-09-06T21:50:52.049Z"
   },
   {
    "duration": 20,
    "start_time": "2022-09-06T21:50:52.288Z"
   },
   {
    "duration": 3,
    "start_time": "2022-09-06T21:50:52.310Z"
   },
   {
    "duration": 12,
    "start_time": "2022-09-06T21:50:52.315Z"
   },
   {
    "duration": 567,
    "start_time": "2022-09-06T21:50:52.329Z"
   },
   {
    "duration": 478,
    "start_time": "2022-09-06T21:50:52.898Z"
   },
   {
    "duration": 469,
    "start_time": "2022-09-06T21:50:53.378Z"
   },
   {
    "duration": 442,
    "start_time": "2022-09-06T21:50:53.848Z"
   },
   {
    "duration": 13,
    "start_time": "2022-09-06T21:50:54.292Z"
   },
   {
    "duration": 13,
    "start_time": "2022-09-06T21:50:54.306Z"
   },
   {
    "duration": 23,
    "start_time": "2022-09-06T21:50:54.321Z"
   },
   {
    "duration": 3,
    "start_time": "2022-09-06T21:50:54.345Z"
   },
   {
    "duration": 12,
    "start_time": "2022-09-06T21:50:54.350Z"
   },
   {
    "duration": 144,
    "start_time": "2022-09-06T21:50:54.364Z"
   },
   {
    "duration": 1080,
    "start_time": "2022-09-06T21:50:54.511Z"
   },
   {
    "duration": 12,
    "start_time": "2022-09-06T21:51:10.166Z"
   },
   {
    "duration": 10,
    "start_time": "2022-09-06T21:51:13.357Z"
   },
   {
    "duration": 12,
    "start_time": "2022-09-06T21:51:19.907Z"
   },
   {
    "duration": 1428,
    "start_time": "2022-09-06T21:51:33.085Z"
   },
   {
    "duration": 49,
    "start_time": "2022-09-06T21:51:34.515Z"
   },
   {
    "duration": 12,
    "start_time": "2022-09-06T21:51:34.565Z"
   },
   {
    "duration": 12,
    "start_time": "2022-09-06T21:51:34.578Z"
   },
   {
    "duration": 3,
    "start_time": "2022-09-06T21:51:34.592Z"
   },
   {
    "duration": 12,
    "start_time": "2022-09-06T21:51:34.597Z"
   },
   {
    "duration": 240,
    "start_time": "2022-09-06T21:51:34.611Z"
   },
   {
    "duration": 5,
    "start_time": "2022-09-06T21:51:34.853Z"
   },
   {
    "duration": 12,
    "start_time": "2022-09-06T21:51:34.860Z"
   },
   {
    "duration": 297,
    "start_time": "2022-09-06T21:51:34.874Z"
   },
   {
    "duration": 240,
    "start_time": "2022-09-06T21:51:35.174Z"
   },
   {
    "duration": 15,
    "start_time": "2022-09-06T21:51:35.415Z"
   },
   {
    "duration": 7,
    "start_time": "2022-09-06T21:51:35.431Z"
   },
   {
    "duration": 11,
    "start_time": "2022-09-06T21:51:35.441Z"
   },
   {
    "duration": 486,
    "start_time": "2022-09-06T21:51:35.454Z"
   },
   {
    "duration": 463,
    "start_time": "2022-09-06T21:51:35.942Z"
   },
   {
    "duration": 479,
    "start_time": "2022-09-06T21:51:36.407Z"
   },
   {
    "duration": 489,
    "start_time": "2022-09-06T21:51:36.888Z"
   },
   {
    "duration": 6,
    "start_time": "2022-09-06T21:51:37.379Z"
   },
   {
    "duration": 23,
    "start_time": "2022-09-06T21:51:37.387Z"
   },
   {
    "duration": 136,
    "start_time": "2022-09-06T21:51:37.412Z"
   },
   {
    "duration": 4,
    "start_time": "2022-09-06T21:51:37.550Z"
   },
   {
    "duration": 12,
    "start_time": "2022-09-06T21:51:37.555Z"
   },
   {
    "duration": 147,
    "start_time": "2022-09-06T21:51:37.569Z"
   },
   {
    "duration": 1084,
    "start_time": "2022-09-06T21:51:37.717Z"
   },
   {
    "duration": 55543,
    "start_time": "2022-09-06T21:51:38.803Z"
   },
   {
    "duration": 242,
    "start_time": "2022-09-06T21:52:34.348Z"
   },
   {
    "duration": 0,
    "start_time": "2022-09-06T21:52:34.593Z"
   },
   {
    "duration": 0,
    "start_time": "2022-09-06T21:52:34.603Z"
   },
   {
    "duration": 0,
    "start_time": "2022-09-06T21:52:34.604Z"
   },
   {
    "duration": 0,
    "start_time": "2022-09-06T21:52:34.606Z"
   },
   {
    "duration": 0,
    "start_time": "2022-09-06T21:52:34.608Z"
   },
   {
    "duration": 56,
    "start_time": "2022-09-06T21:52:57.068Z"
   },
   {
    "duration": 4,
    "start_time": "2022-09-06T21:53:22.669Z"
   },
   {
    "duration": 16,
    "start_time": "2022-09-06T21:55:58.764Z"
   },
   {
    "duration": 8214,
    "start_time": "2022-09-06T21:56:11.513Z"
   },
   {
    "duration": 4,
    "start_time": "2022-09-06T21:56:59.005Z"
   },
   {
    "duration": 775,
    "start_time": "2022-09-06T22:00:00.412Z"
   },
   {
    "duration": 724,
    "start_time": "2022-09-06T22:00:08.972Z"
   },
   {
    "duration": 55149,
    "start_time": "2022-09-06T22:00:42.556Z"
   },
   {
    "duration": 4,
    "start_time": "2022-09-06T22:01:37.707Z"
   },
   {
    "duration": 792,
    "start_time": "2022-09-06T22:01:37.713Z"
   },
   {
    "duration": 244,
    "start_time": "2022-09-06T22:01:56.824Z"
   },
   {
    "duration": 19,
    "start_time": "2022-09-06T22:02:11.934Z"
   },
   {
    "duration": 5580,
    "start_time": "2022-09-06T22:02:23.944Z"
   },
   {
    "duration": 8703,
    "start_time": "2022-09-06T22:05:41.677Z"
   },
   {
    "duration": 916,
    "start_time": "2022-09-06T22:06:02.366Z"
   },
   {
    "duration": 4,
    "start_time": "2022-09-06T22:06:09.972Z"
   },
   {
    "duration": 1443,
    "start_time": "2022-09-06T22:06:24.384Z"
   },
   {
    "duration": 50,
    "start_time": "2022-09-06T22:06:25.828Z"
   },
   {
    "duration": 12,
    "start_time": "2022-09-06T22:06:25.879Z"
   },
   {
    "duration": 11,
    "start_time": "2022-09-06T22:06:25.893Z"
   },
   {
    "duration": 3,
    "start_time": "2022-09-06T22:06:25.906Z"
   },
   {
    "duration": 10,
    "start_time": "2022-09-06T22:06:25.911Z"
   },
   {
    "duration": 256,
    "start_time": "2022-09-06T22:06:25.922Z"
   },
   {
    "duration": 5,
    "start_time": "2022-09-06T22:06:26.180Z"
   },
   {
    "duration": 20,
    "start_time": "2022-09-06T22:06:26.186Z"
   },
   {
    "duration": 301,
    "start_time": "2022-09-06T22:06:26.208Z"
   },
   {
    "duration": 244,
    "start_time": "2022-09-06T22:06:26.511Z"
   },
   {
    "duration": 14,
    "start_time": "2022-09-06T22:06:26.756Z"
   },
   {
    "duration": 5,
    "start_time": "2022-09-06T22:06:26.771Z"
   },
   {
    "duration": 29,
    "start_time": "2022-09-06T22:06:26.777Z"
   },
   {
    "duration": 492,
    "start_time": "2022-09-06T22:06:26.808Z"
   },
   {
    "duration": 510,
    "start_time": "2022-09-06T22:06:27.303Z"
   },
   {
    "duration": 468,
    "start_time": "2022-09-06T22:06:27.816Z"
   },
   {
    "duration": 576,
    "start_time": "2022-09-06T22:06:28.286Z"
   },
   {
    "duration": 7,
    "start_time": "2022-09-06T22:06:28.865Z"
   },
   {
    "duration": 29,
    "start_time": "2022-09-06T22:06:28.874Z"
   },
   {
    "duration": 34,
    "start_time": "2022-09-06T22:06:28.905Z"
   },
   {
    "duration": 4,
    "start_time": "2022-09-06T22:06:28.941Z"
   },
   {
    "duration": 28,
    "start_time": "2022-09-06T22:06:28.947Z"
   },
   {
    "duration": 137,
    "start_time": "2022-09-06T22:06:28.977Z"
   },
   {
    "duration": 1123,
    "start_time": "2022-09-06T22:06:29.116Z"
   },
   {
    "duration": 55379,
    "start_time": "2022-09-06T22:06:30.241Z"
   },
   {
    "duration": 9422,
    "start_time": "2022-09-06T22:07:25.622Z"
   },
   {
    "duration": 3,
    "start_time": "2022-09-06T22:07:35.047Z"
   },
   {
    "duration": 525,
    "start_time": "2022-09-06T22:07:35.051Z"
   },
   {
    "duration": 279,
    "start_time": "2022-09-06T22:07:35.578Z"
   },
   {
    "duration": 5572,
    "start_time": "2022-09-06T22:07:35.859Z"
   },
   {
    "duration": 736,
    "start_time": "2022-09-06T22:07:41.503Z"
   },
   {
    "duration": 1818,
    "start_time": "2022-09-07T18:19:06.600Z"
   },
   {
    "duration": 133,
    "start_time": "2022-09-07T18:19:08.421Z"
   },
   {
    "duration": 11,
    "start_time": "2022-09-07T18:19:11.081Z"
   },
   {
    "duration": 13,
    "start_time": "2022-09-07T18:19:11.178Z"
   },
   {
    "duration": 3,
    "start_time": "2022-09-07T18:19:11.612Z"
   },
   {
    "duration": 9,
    "start_time": "2022-09-07T18:19:12.132Z"
   },
   {
    "duration": 214,
    "start_time": "2022-09-07T18:19:12.632Z"
   },
   {
    "duration": 4,
    "start_time": "2022-09-07T18:19:12.859Z"
   },
   {
    "duration": 7,
    "start_time": "2022-09-07T18:19:12.997Z"
   },
   {
    "duration": 272,
    "start_time": "2022-09-07T18:19:13.109Z"
   },
   {
    "duration": 218,
    "start_time": "2022-09-07T18:19:13.383Z"
   },
   {
    "duration": 16,
    "start_time": "2022-09-07T18:19:13.602Z"
   },
   {
    "duration": 3,
    "start_time": "2022-09-07T18:19:13.743Z"
   },
   {
    "duration": 9,
    "start_time": "2022-09-07T18:19:13.880Z"
   },
   {
    "duration": 402,
    "start_time": "2022-09-07T18:19:14.128Z"
   },
   {
    "duration": 497,
    "start_time": "2022-09-07T18:19:15.017Z"
   },
   {
    "duration": 467,
    "start_time": "2022-09-07T18:19:15.516Z"
   },
   {
    "duration": 525,
    "start_time": "2022-09-07T18:19:15.984Z"
   },
   {
    "duration": 5,
    "start_time": "2022-09-07T18:19:16.511Z"
   },
   {
    "duration": 9,
    "start_time": "2022-09-07T18:19:16.694Z"
   },
   {
    "duration": 21,
    "start_time": "2022-09-07T18:19:17.871Z"
   },
   {
    "duration": 3,
    "start_time": "2022-09-07T18:19:19.334Z"
   },
   {
    "duration": 9,
    "start_time": "2022-09-07T18:19:19.942Z"
   },
   {
    "duration": 35,
    "start_time": "2022-09-07T18:19:22.297Z"
   },
   {
    "duration": 3,
    "start_time": "2022-09-07T18:19:34.307Z"
   },
   {
    "duration": 4,
    "start_time": "2022-09-07T18:19:48.319Z"
   },
   {
    "duration": 112,
    "start_time": "2022-09-07T18:20:13.382Z"
   },
   {
    "duration": 17,
    "start_time": "2022-09-07T18:20:34.594Z"
   },
   {
    "duration": 39,
    "start_time": "2022-09-07T18:20:44.582Z"
   },
   {
    "duration": 33,
    "start_time": "2022-09-07T18:20:48.824Z"
   },
   {
    "duration": 34,
    "start_time": "2022-09-07T18:20:52.901Z"
   },
   {
    "duration": 39,
    "start_time": "2022-09-07T18:20:55.355Z"
   },
   {
    "duration": 36,
    "start_time": "2022-09-07T18:20:59.082Z"
   },
   {
    "duration": 11,
    "start_time": "2022-09-07T18:21:05.571Z"
   },
   {
    "duration": 12,
    "start_time": "2022-09-07T18:21:15.144Z"
   },
   {
    "duration": 17,
    "start_time": "2022-09-07T18:21:18.500Z"
   },
   {
    "duration": 12,
    "start_time": "2022-09-07T18:24:53.431Z"
   },
   {
    "duration": 18,
    "start_time": "2022-09-07T18:25:10.868Z"
   },
   {
    "duration": 5,
    "start_time": "2022-09-07T18:26:08.542Z"
   },
   {
    "duration": 6,
    "start_time": "2022-09-07T18:26:30.523Z"
   },
   {
    "duration": 4,
    "start_time": "2022-09-07T18:26:47.541Z"
   },
   {
    "duration": 4,
    "start_time": "2022-09-07T18:26:55.859Z"
   },
   {
    "duration": 5,
    "start_time": "2022-09-07T18:27:10.982Z"
   },
   {
    "duration": 5,
    "start_time": "2022-09-07T18:27:24.812Z"
   },
   {
    "duration": 48,
    "start_time": "2022-09-07T18:27:51.601Z"
   },
   {
    "duration": 52,
    "start_time": "2022-09-07T18:27:53.532Z"
   },
   {
    "duration": 10,
    "start_time": "2022-09-07T18:28:01.310Z"
   },
   {
    "duration": 8,
    "start_time": "2022-09-07T18:28:21.541Z"
   },
   {
    "duration": 4,
    "start_time": "2022-09-07T18:28:44.685Z"
   },
   {
    "duration": 5,
    "start_time": "2022-09-07T18:28:56.895Z"
   },
   {
    "duration": 4,
    "start_time": "2022-09-07T18:28:58.993Z"
   },
   {
    "duration": 4,
    "start_time": "2022-09-07T18:29:13.524Z"
   },
   {
    "duration": 4,
    "start_time": "2022-09-07T18:29:13.682Z"
   },
   {
    "duration": 1546,
    "start_time": "2022-09-07T18:50:52.075Z"
   },
   {
    "duration": 123,
    "start_time": "2022-09-07T18:50:53.623Z"
   },
   {
    "duration": 11,
    "start_time": "2022-09-07T18:50:53.747Z"
   },
   {
    "duration": 11,
    "start_time": "2022-09-07T18:50:53.759Z"
   },
   {
    "duration": 5,
    "start_time": "2022-09-07T18:50:53.771Z"
   },
   {
    "duration": 10,
    "start_time": "2022-09-07T18:50:53.777Z"
   },
   {
    "duration": 206,
    "start_time": "2022-09-07T18:50:53.788Z"
   },
   {
    "duration": 5,
    "start_time": "2022-09-07T18:50:53.996Z"
   },
   {
    "duration": 11,
    "start_time": "2022-09-07T18:50:54.009Z"
   },
   {
    "duration": 245,
    "start_time": "2022-09-07T18:50:54.021Z"
   },
   {
    "duration": 255,
    "start_time": "2022-09-07T18:50:54.267Z"
   },
   {
    "duration": 17,
    "start_time": "2022-09-07T18:50:54.524Z"
   },
   {
    "duration": 10,
    "start_time": "2022-09-07T18:50:54.542Z"
   },
   {
    "duration": 11,
    "start_time": "2022-09-07T18:50:54.555Z"
   },
   {
    "duration": 451,
    "start_time": "2022-09-07T18:50:54.567Z"
   },
   {
    "duration": 494,
    "start_time": "2022-09-07T18:50:55.019Z"
   },
   {
    "duration": 425,
    "start_time": "2022-09-07T18:50:55.515Z"
   },
   {
    "duration": 502,
    "start_time": "2022-09-07T18:50:55.942Z"
   },
   {
    "duration": 5,
    "start_time": "2022-09-07T18:50:56.446Z"
   },
   {
    "duration": 10,
    "start_time": "2022-09-07T18:50:56.452Z"
   },
   {
    "duration": 46,
    "start_time": "2022-09-07T18:50:56.463Z"
   },
   {
    "duration": 3,
    "start_time": "2022-09-07T18:50:56.511Z"
   },
   {
    "duration": 15,
    "start_time": "2022-09-07T18:50:56.516Z"
   },
   {
    "duration": 91,
    "start_time": "2022-09-07T18:50:56.532Z"
   },
   {
    "duration": 686,
    "start_time": "2022-09-07T18:50:56.624Z"
   },
   {
    "duration": 664,
    "start_time": "2022-09-07T18:51:33.638Z"
   },
   {
    "duration": 7385,
    "start_time": "2022-09-07T18:51:48.574Z"
   },
   {
    "duration": 3,
    "start_time": "2022-09-07T18:51:55.961Z"
   },
   {
    "duration": 980,
    "start_time": "2022-09-07T18:52:04.258Z"
   },
   {
    "duration": 29861,
    "start_time": "2022-09-07T18:56:39.908Z"
   },
   {
    "duration": 917,
    "start_time": "2022-09-07T19:03:49.174Z"
   }
  ],
  "kernelspec": {
   "display_name": "Python 3 (ipykernel)",
   "language": "python",
   "name": "python3"
  },
  "language_info": {
   "codemirror_mode": {
    "name": "ipython",
    "version": 3
   },
   "file_extension": ".py",
   "mimetype": "text/x-python",
   "name": "python",
   "nbconvert_exporter": "python",
   "pygments_lexer": "ipython3",
   "version": "3.9.5"
  },
  "toc": {
   "base_numbering": 1,
   "nav_menu": {},
   "number_sections": true,
   "sideBar": true,
   "skip_h1_title": true,
   "title_cell": "Table of Contents",
   "title_sidebar": "Contents",
   "toc_cell": false,
   "toc_position": {},
   "toc_section_display": true,
   "toc_window_display": true
  }
 },
 "nbformat": 4,
 "nbformat_minor": 2
}
