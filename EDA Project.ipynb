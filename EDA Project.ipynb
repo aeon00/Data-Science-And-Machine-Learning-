{
 "cells": [
  {
   "cell_type": "markdown",
   "metadata": {},
   "source": [
    "<font color='green'><b><u> Reviewer Comment. V. 2</u></b></font>\n",
    "<div class=\"alert alert-block alert-success\">\n",
    "    \n",
    "**General feedback:**\n",
    "  \n",
    "Hello! \n",
    "\n",
    "I'm glad to tell you that your project is at a good level now! **Thank you for the corrections**, I've left some comments below,\n",
    "    \n",
    "The project has been accepted, great! 😄\n",
    "    \n",
    "Good luck on the next sprint! :) \n",
    "    \n",
    "__\n",
    "    \n",
    "Best wishes,\n",
    "    \n",
    "Ksenia Larchenko    \n",
    "\n",
    "\n",
    "</div>"
   ]
  },
  {
   "cell_type": "markdown",
   "metadata": {},
   "source": [
    "<font color='green'><b><u> Reviewer Comment </u></b></font>\n",
    "\n",
    "<div class=\"alert alert-success\" >\n",
    "    \n",
    "**Hello! I am Larchenko Ksenia and I'm glad to review your project**!\n",
    "    \n",
    "    \n",
    "You can find my comments in green, yellow and red boxes like these:\n",
    "</div>\n",
    "\n",
    "\n",
    "<div class=\"alert alert-success\" >\n",
    "    \n",
    "    \n",
    "**Success:**  green color shows that everything is done perfectly;\n",
    "    \n",
    "</div>\n",
    "\n",
    "<div class=\"alert alert-warning\" >\n",
    "    \n",
    "    \n",
    "**Remark & Recommendation:** yellow color highlights something to pay attention for;\n",
    "    \n",
    "</div>\n",
    "\n",
    "\n",
    "\n",
    "<div class=\"alert alert-danger\" >\n",
    "    \n",
    "    \n",
    "**Needs fixing:**  if the color is red, please rework. \n",
    "    \n",
    "</div>\n",
    "\n",
    "____\n",
    "\n",
    "<div class=\"alert alert-success\" >\n",
    "    \n",
    "    \n",
    "**Please, don't remove my comments:)**\n",
    "    \n",
    "</div>\n",
    "\n",
    "\n",
    "<font color='green'><b><u> Reviewer Comment V.1</u></b></font>\n",
    "<div class=\"alert alert-block alert-success\">\n",
    "    \n",
    "**General feedback**:\n",
    "Thank you for sending your project. You've achieved a good level of the project!\n",
    "    \n",
    "What impressed me?\n",
    "    \n",
    "    \n",
    "* Different important methods for working with data were used! It is really great that you can apply these methods on practice (for ex. `scatter_matrix`, `query` methods and `head\\info`), keep it up!\n",
    "    \n",
    "* I like  conclusions and that most the steps you took were well-commented in your project.\n",
    "    \n",
    "* You can see a deep understanding of the essence of the analysis. \n",
    "    \n",
    "It is very interesting to check your project and follow your thoughts😀 \n",
    "</div>    \n",
    "    \n",
    "<s><font color='red'><b><u> Reviewer Comment V.1 </u></b></font>\n",
    "\n",
    " <div class=\"alert alert-danger\">\n",
    "    \n",
    "**General feedback**:\n",
    "    \n",
    "* **There are a couple of things that need to be done before your project is complete**.\n",
    "    \n",
    "* I appreciate the amount of work you've done! There is an issue you need to work on, but nevertheless,  it is good work!\n",
    "\n",
    "    \n",
    "Waiting for you fixes :)\n",
    "    \n",
    "            Also I've left an \"Remark & Recommendation\" comment/s, which could help you to upgrade/boost/polish your project and further develop your skills. It doesn't mean that you've done something wrong, it just contains some advice on how it could be improved. \n",
    "    \n",
    "    \n",
    "</div></s>\n",
    "\n",
    "___\n",
    "\n",
    "<div class=\"alert alert-block alert-warning\">\n",
    "    \n",
    "**For your future projects:**\n",
    "    \n",
    "\n",
    "* The introduction is very important part. It is also valuable to provide an additional information about the columns used and the content plan of the main steps of the analysis,\n",
    "\n",
    "    \n",
    "*  Technical strings like `<matplotlib.axes._subplots.AxesSubplot at 0x7f69fa0023d0>` can be deleted with the use of `plt.show()` method (if it occurs). \n",
    "It will improve the visualization in the project:)\n",
    "    \n",
    "* Also it is worth for Data Analytics to describe the vizualization in detail. Great article with examples: [How to describe charts, graphs](https://preply.com/en/blog/charts-graphs-and-diagrams-in-the-presentation/#scroll-to-heading-6);\n",
    "    \n",
    "    \n",
    "    \n",
    "*     For a real life report it would be great to write **all steps** in a structured way. For example:\n",
    "\n",
    "1. **In the data's preparation & processing stage**:\n",
    "    * We observed missing values ..;\n",
    "    * We removed duplicates..\n",
    "    \n",
    "2. **In the exploratory data analysis stage**:\n",
    "    * \n",
    "    \n",
    "3. etc.  \n",
    "    \n",
    "</div>"
   ]
  },
  {
   "cell_type": "markdown",
   "metadata": {},
   "source": [
    "# What sells a car?\n",
    "\n",
    "You're an analyst at Crankshaft List. Hundreds of free advertisements for vehicles are published on your site every day. You need to study data collected over the last few years and determine which factors influence the price of a vehicle."
   ]
  },
  {
   "cell_type": "markdown",
   "metadata": {},
   "source": [
    "<font color='green'><b><u> Reviewer Comment. v.1 </u></b></font>\n",
    "\n",
    "<div class=\"alert alert-success\" >\n",
    "    \n",
    "**Recommendation for the future:** It is great that you started the project with an introduction and describe your hypothesis!\n",
    "    \n",
    "It is also valuable to  provide the content plan (in a structured way) of the main steps of the analysis:)\n",
    "    \n",
    "One example of an introduction for a data analysis project can be found here: [Data Analytics Projects](https://github.com/CICIFLY/Data-Analytics-Projects/blob/master/AB%20Testing%20Result%20Analyze/readme.md)\n",
    "</div>"
   ]
  },
  {
   "cell_type": "markdown",
   "metadata": {},
   "source": [
    "## Initialization"
   ]
  },
  {
   "cell_type": "markdown",
   "metadata": {},
   "source": [
    "Let's load up the necessary libraries for this project"
   ]
  },
  {
   "cell_type": "code",
   "execution_count": 1,
   "metadata": {},
   "outputs": [],
   "source": [
    "# Loading all the libraries\n",
    "import pandas as pd\n",
    "import matplotlib.pyplot as plt\n",
    "import numpy as np"
   ]
  },
  {
   "cell_type": "markdown",
   "metadata": {},
   "source": [
    "<font color='green'><b><u> Reviewer Comment. v.1 </u></b></font>\n",
    "<div class=\"alert alert-success\" >\n",
    "    \n",
    "**Success:** Importing all libraries in the first separate cell is a good habit👍\n",
    "    \n",
    "</div>"
   ]
  },
  {
   "cell_type": "markdown",
   "metadata": {},
   "source": [
    "### Load data"
   ]
  },
  {
   "cell_type": "markdown",
   "metadata": {},
   "source": [
    "Let's load the project data and have a look at the general information"
   ]
  },
  {
   "cell_type": "code",
   "execution_count": 2,
   "metadata": {},
   "outputs": [],
   "source": [
    "# Load the data file into a DataFrame\n",
    "\n",
    "df = pd.read_csv('/datasets/vehicles_us.csv')"
   ]
  },
  {
   "cell_type": "markdown",
   "metadata": {},
   "source": [
    "### Explore initial data"
   ]
  },
  {
   "cell_type": "markdown",
   "metadata": {},
   "source": [
    "The dataset contains the following fields:\n",
    "- `price`\n",
    "- `model_year`\n",
    "- `model`\n",
    "- `condition`\n",
    "- `cylinders`\n",
    "- `fuel` — gas, diesel, etc.\n",
    "- `odometer` — the vehicle's mileage when the ad was published\n",
    "- `transmission`\n",
    "- `paint_color`\n",
    "- `is_4wd` — whether the vehicle has 4-wheel drive (Boolean type)\n",
    "- `date_posted` — the date the ad was published\n",
    "- `days_listed` — from publication to removal\n",
    "\n",
    "Now it's time to explore the data to understand and get used to it"
   ]
  },
  {
   "cell_type": "code",
   "execution_count": 3,
   "metadata": {},
   "outputs": [
    {
     "name": "stdout",
     "output_type": "stream",
     "text": [
      "<class 'pandas.core.frame.DataFrame'>\n",
      "RangeIndex: 51525 entries, 0 to 51524\n",
      "Data columns (total 13 columns):\n",
      " #   Column        Non-Null Count  Dtype  \n",
      "---  ------        --------------  -----  \n",
      " 0   price         51525 non-null  int64  \n",
      " 1   model_year    47906 non-null  float64\n",
      " 2   model         51525 non-null  object \n",
      " 3   condition     51525 non-null  object \n",
      " 4   cylinders     46265 non-null  float64\n",
      " 5   fuel          51525 non-null  object \n",
      " 6   odometer      43633 non-null  float64\n",
      " 7   transmission  51525 non-null  object \n",
      " 8   type          51525 non-null  object \n",
      " 9   paint_color   42258 non-null  object \n",
      " 10  is_4wd        25572 non-null  float64\n",
      " 11  date_posted   51525 non-null  object \n",
      " 12  days_listed   51525 non-null  int64  \n",
      "dtypes: float64(4), int64(2), object(7)\n",
      "memory usage: 5.1+ MB\n",
      "None\n"
     ]
    }
   ],
   "source": [
    "# print the general/summary information about the DataFrame\n",
    "\n",
    "print(df.info())"
   ]
  },
  {
   "cell_type": "code",
   "execution_count": 4,
   "metadata": {},
   "outputs": [
    {
     "name": "stdout",
     "output_type": "stream",
     "text": [
      "   price  model_year           model  condition  cylinders fuel  odometer  \\\n",
      "0   9400      2011.0          bmw x5       good        6.0  gas  145000.0   \n",
      "1  25500         NaN      ford f-150       good        6.0  gas   88705.0   \n",
      "2   5500      2013.0  hyundai sonata   like new        4.0  gas  110000.0   \n",
      "3   1500      2003.0      ford f-150       fair        8.0  gas       NaN   \n",
      "4  14900      2017.0    chrysler 200  excellent        4.0  gas   80903.0   \n",
      "5  14990      2014.0    chrysler 300  excellent        6.0  gas   57954.0   \n",
      "6  12990      2015.0    toyota camry  excellent        4.0  gas   79212.0   \n",
      "7  15990      2013.0     honda pilot  excellent        6.0  gas  109473.0   \n",
      "8  11500      2012.0     kia sorento  excellent        4.0  gas  104174.0   \n",
      "9   9200      2008.0     honda pilot  excellent        NaN  gas  147191.0   \n",
      "\n",
      "  transmission    type paint_color  is_4wd date_posted  days_listed  \n",
      "0    automatic     SUV         NaN     1.0  2018-06-23           19  \n",
      "1    automatic  pickup       white     1.0  2018-10-19           50  \n",
      "2    automatic   sedan         red     NaN  2019-02-07           79  \n",
      "3    automatic  pickup         NaN     NaN  2019-03-22            9  \n",
      "4    automatic   sedan       black     NaN  2019-04-02           28  \n",
      "5    automatic   sedan       black     1.0  2018-06-20           15  \n",
      "6    automatic   sedan       white     NaN  2018-12-27           73  \n",
      "7    automatic     SUV       black     1.0  2019-01-07           68  \n",
      "8    automatic     SUV         NaN     1.0  2018-07-16           19  \n",
      "9    automatic     SUV        blue     1.0  2019-02-15           17  \n"
     ]
    }
   ],
   "source": [
    "# print a sample of data\n",
    "print(df.head(10))\n"
   ]
  },
  {
   "cell_type": "markdown",
   "metadata": {},
   "source": [
    "From our initial exploration, we notice that there are a lot of missing values and some inappropriate data types in this dataset. Let's isolate them and take a closer look"
   ]
  },
  {
   "cell_type": "code",
   "execution_count": 5,
   "metadata": {},
   "outputs": [
    {
     "name": "stdout",
     "output_type": "stream",
     "text": [
      "       model_year  cylinders  is_4wd date_posted\n",
      "0          2011.0        6.0     1.0  2018-06-23\n",
      "1             NaN        6.0     1.0  2018-10-19\n",
      "2          2013.0        4.0     NaN  2019-02-07\n",
      "3          2003.0        8.0     NaN  2019-03-22\n",
      "4          2017.0        4.0     NaN  2019-04-02\n",
      "...           ...        ...     ...         ...\n",
      "51520      2013.0        6.0     NaN  2018-10-03\n",
      "51521      2002.0        4.0     NaN  2018-11-14\n",
      "51522      2009.0        4.0     NaN  2018-11-15\n",
      "51523      2013.0        4.0     NaN  2018-07-02\n",
      "51524      2014.0        4.0     NaN  2018-06-05\n",
      "\n",
      "[51525 rows x 4 columns]\n"
     ]
    }
   ],
   "source": [
    "inappropriate_columns = df.loc[:,['model_year','cylinders','is_4wd', 'date_posted']]\n",
    "print(inappropriate_columns)"
   ]
  },
  {
   "cell_type": "markdown",
   "metadata": {},
   "source": [
    "As you must have observed, these four columns have data stored in inappropriate data formats (types). Next lets check just how many missing values we have in each column."
   ]
  },
  {
   "cell_type": "code",
   "execution_count": 6,
   "metadata": {},
   "outputs": [
    {
     "name": "stdout",
     "output_type": "stream",
     "text": [
      "is_4wd          25953\n",
      "paint_color      9267\n",
      "odometer         7892\n",
      "cylinders        5260\n",
      "model_year       3619\n",
      "price               0\n",
      "model               0\n",
      "condition           0\n",
      "fuel                0\n",
      "transmission        0\n",
      "type                0\n",
      "date_posted         0\n",
      "days_listed         0\n",
      "dtype: int64\n"
     ]
    }
   ],
   "source": [
    "print(df.isna().sum().sort_values(ascending= False))"
   ]
  },
  {
   "cell_type": "markdown",
   "metadata": {},
   "source": [
    "As is shown above, there are missing values in 5 columns. `is_4wd` column has the most missing values."
   ]
  },
  {
   "cell_type": "markdown",
   "metadata": {},
   "source": [
    "<font color='green'><b><u> Reviewer Comment. v.1 </u></b></font>\n",
    "\n",
    "<div class=\"alert alert-success\" >\n",
    "    \n",
    "**Success:** Good that info(), and  head() are used. And you've made some really good points, let's stick to that!\n",
    "\n",
    "Also it would be great to use at this stage `describe` method to obtain descriptive statistical information about our data, [this link can help](https://pandas.pydata.org/docs/reference/api/pandas.DataFrame.describe.html).\n",
    "    \n",
    "</div>\n",
    "\n",
    "<font color='#ffa500'><b><u> Reviewer Comment. v. 1 </u></b></font>\n",
    "\n",
    "<div class=\"alert alert-block alert-warning\">\n",
    "<b>Recommendation:</b>\n",
    "\n",
    "It would be better not to use `print()` function to output our dataframe. If we need to output dataframe only once in the last line of code, we can just write `data.head(10)`.\n",
    "\n",
    "\n",
    "If we have lots of code lines and several outputs, we can use `display` function to print data, as example below:\n",
    "    \n",
    "    `display(data.head(10))`\n",
    "\n",
    "See the code example below:)\n",
    "\n",
    "</div>"
   ]
  },
  {
   "cell_type": "code",
   "execution_count": 7,
   "metadata": {},
   "outputs": [
    {
     "data": {
      "text/html": [
       "<div>\n",
       "<style scoped>\n",
       "    .dataframe tbody tr th:only-of-type {\n",
       "        vertical-align: middle;\n",
       "    }\n",
       "\n",
       "    .dataframe tbody tr th {\n",
       "        vertical-align: top;\n",
       "    }\n",
       "\n",
       "    .dataframe thead th {\n",
       "        text-align: right;\n",
       "    }\n",
       "</style>\n",
       "<table border=\"1\" class=\"dataframe\">\n",
       "  <thead>\n",
       "    <tr style=\"text-align: right;\">\n",
       "      <th></th>\n",
       "      <th>price</th>\n",
       "      <th>model_year</th>\n",
       "      <th>model</th>\n",
       "      <th>condition</th>\n",
       "      <th>cylinders</th>\n",
       "      <th>fuel</th>\n",
       "      <th>odometer</th>\n",
       "      <th>transmission</th>\n",
       "      <th>type</th>\n",
       "      <th>paint_color</th>\n",
       "      <th>is_4wd</th>\n",
       "      <th>date_posted</th>\n",
       "      <th>days_listed</th>\n",
       "    </tr>\n",
       "  </thead>\n",
       "  <tbody>\n",
       "    <tr>\n",
       "      <th>0</th>\n",
       "      <td>9400</td>\n",
       "      <td>2011.0</td>\n",
       "      <td>bmw x5</td>\n",
       "      <td>good</td>\n",
       "      <td>6.0</td>\n",
       "      <td>gas</td>\n",
       "      <td>145000.0</td>\n",
       "      <td>automatic</td>\n",
       "      <td>SUV</td>\n",
       "      <td>NaN</td>\n",
       "      <td>1.0</td>\n",
       "      <td>2018-06-23</td>\n",
       "      <td>19</td>\n",
       "    </tr>\n",
       "    <tr>\n",
       "      <th>1</th>\n",
       "      <td>25500</td>\n",
       "      <td>NaN</td>\n",
       "      <td>ford f-150</td>\n",
       "      <td>good</td>\n",
       "      <td>6.0</td>\n",
       "      <td>gas</td>\n",
       "      <td>88705.0</td>\n",
       "      <td>automatic</td>\n",
       "      <td>pickup</td>\n",
       "      <td>white</td>\n",
       "      <td>1.0</td>\n",
       "      <td>2018-10-19</td>\n",
       "      <td>50</td>\n",
       "    </tr>\n",
       "    <tr>\n",
       "      <th>2</th>\n",
       "      <td>5500</td>\n",
       "      <td>2013.0</td>\n",
       "      <td>hyundai sonata</td>\n",
       "      <td>like new</td>\n",
       "      <td>4.0</td>\n",
       "      <td>gas</td>\n",
       "      <td>110000.0</td>\n",
       "      <td>automatic</td>\n",
       "      <td>sedan</td>\n",
       "      <td>red</td>\n",
       "      <td>NaN</td>\n",
       "      <td>2019-02-07</td>\n",
       "      <td>79</td>\n",
       "    </tr>\n",
       "    <tr>\n",
       "      <th>3</th>\n",
       "      <td>1500</td>\n",
       "      <td>2003.0</td>\n",
       "      <td>ford f-150</td>\n",
       "      <td>fair</td>\n",
       "      <td>8.0</td>\n",
       "      <td>gas</td>\n",
       "      <td>NaN</td>\n",
       "      <td>automatic</td>\n",
       "      <td>pickup</td>\n",
       "      <td>NaN</td>\n",
       "      <td>NaN</td>\n",
       "      <td>2019-03-22</td>\n",
       "      <td>9</td>\n",
       "    </tr>\n",
       "    <tr>\n",
       "      <th>4</th>\n",
       "      <td>14900</td>\n",
       "      <td>2017.0</td>\n",
       "      <td>chrysler 200</td>\n",
       "      <td>excellent</td>\n",
       "      <td>4.0</td>\n",
       "      <td>gas</td>\n",
       "      <td>80903.0</td>\n",
       "      <td>automatic</td>\n",
       "      <td>sedan</td>\n",
       "      <td>black</td>\n",
       "      <td>NaN</td>\n",
       "      <td>2019-04-02</td>\n",
       "      <td>28</td>\n",
       "    </tr>\n",
       "    <tr>\n",
       "      <th>5</th>\n",
       "      <td>14990</td>\n",
       "      <td>2014.0</td>\n",
       "      <td>chrysler 300</td>\n",
       "      <td>excellent</td>\n",
       "      <td>6.0</td>\n",
       "      <td>gas</td>\n",
       "      <td>57954.0</td>\n",
       "      <td>automatic</td>\n",
       "      <td>sedan</td>\n",
       "      <td>black</td>\n",
       "      <td>1.0</td>\n",
       "      <td>2018-06-20</td>\n",
       "      <td>15</td>\n",
       "    </tr>\n",
       "    <tr>\n",
       "      <th>6</th>\n",
       "      <td>12990</td>\n",
       "      <td>2015.0</td>\n",
       "      <td>toyota camry</td>\n",
       "      <td>excellent</td>\n",
       "      <td>4.0</td>\n",
       "      <td>gas</td>\n",
       "      <td>79212.0</td>\n",
       "      <td>automatic</td>\n",
       "      <td>sedan</td>\n",
       "      <td>white</td>\n",
       "      <td>NaN</td>\n",
       "      <td>2018-12-27</td>\n",
       "      <td>73</td>\n",
       "    </tr>\n",
       "    <tr>\n",
       "      <th>7</th>\n",
       "      <td>15990</td>\n",
       "      <td>2013.0</td>\n",
       "      <td>honda pilot</td>\n",
       "      <td>excellent</td>\n",
       "      <td>6.0</td>\n",
       "      <td>gas</td>\n",
       "      <td>109473.0</td>\n",
       "      <td>automatic</td>\n",
       "      <td>SUV</td>\n",
       "      <td>black</td>\n",
       "      <td>1.0</td>\n",
       "      <td>2019-01-07</td>\n",
       "      <td>68</td>\n",
       "    </tr>\n",
       "    <tr>\n",
       "      <th>8</th>\n",
       "      <td>11500</td>\n",
       "      <td>2012.0</td>\n",
       "      <td>kia sorento</td>\n",
       "      <td>excellent</td>\n",
       "      <td>4.0</td>\n",
       "      <td>gas</td>\n",
       "      <td>104174.0</td>\n",
       "      <td>automatic</td>\n",
       "      <td>SUV</td>\n",
       "      <td>NaN</td>\n",
       "      <td>1.0</td>\n",
       "      <td>2018-07-16</td>\n",
       "      <td>19</td>\n",
       "    </tr>\n",
       "    <tr>\n",
       "      <th>9</th>\n",
       "      <td>9200</td>\n",
       "      <td>2008.0</td>\n",
       "      <td>honda pilot</td>\n",
       "      <td>excellent</td>\n",
       "      <td>NaN</td>\n",
       "      <td>gas</td>\n",
       "      <td>147191.0</td>\n",
       "      <td>automatic</td>\n",
       "      <td>SUV</td>\n",
       "      <td>blue</td>\n",
       "      <td>1.0</td>\n",
       "      <td>2019-02-15</td>\n",
       "      <td>17</td>\n",
       "    </tr>\n",
       "  </tbody>\n",
       "</table>\n",
       "</div>"
      ],
      "text/plain": [
       "   price  model_year           model  condition  cylinders fuel  odometer  \\\n",
       "0   9400      2011.0          bmw x5       good        6.0  gas  145000.0   \n",
       "1  25500         NaN      ford f-150       good        6.0  gas   88705.0   \n",
       "2   5500      2013.0  hyundai sonata   like new        4.0  gas  110000.0   \n",
       "3   1500      2003.0      ford f-150       fair        8.0  gas       NaN   \n",
       "4  14900      2017.0    chrysler 200  excellent        4.0  gas   80903.0   \n",
       "5  14990      2014.0    chrysler 300  excellent        6.0  gas   57954.0   \n",
       "6  12990      2015.0    toyota camry  excellent        4.0  gas   79212.0   \n",
       "7  15990      2013.0     honda pilot  excellent        6.0  gas  109473.0   \n",
       "8  11500      2012.0     kia sorento  excellent        4.0  gas  104174.0   \n",
       "9   9200      2008.0     honda pilot  excellent        NaN  gas  147191.0   \n",
       "\n",
       "  transmission    type paint_color  is_4wd date_posted  days_listed  \n",
       "0    automatic     SUV         NaN     1.0  2018-06-23           19  \n",
       "1    automatic  pickup       white     1.0  2018-10-19           50  \n",
       "2    automatic   sedan         red     NaN  2019-02-07           79  \n",
       "3    automatic  pickup         NaN     NaN  2019-03-22            9  \n",
       "4    automatic   sedan       black     NaN  2019-04-02           28  \n",
       "5    automatic   sedan       black     1.0  2018-06-20           15  \n",
       "6    automatic   sedan       white     NaN  2018-12-27           73  \n",
       "7    automatic     SUV       black     1.0  2019-01-07           68  \n",
       "8    automatic     SUV         NaN     1.0  2018-07-16           19  \n",
       "9    automatic     SUV        blue     1.0  2019-02-15           17  "
      ]
     },
     "metadata": {},
     "output_type": "display_data"
    },
    {
     "data": {
      "text/html": [
       "<div>\n",
       "<style scoped>\n",
       "    .dataframe tbody tr th:only-of-type {\n",
       "        vertical-align: middle;\n",
       "    }\n",
       "\n",
       "    .dataframe tbody tr th {\n",
       "        vertical-align: top;\n",
       "    }\n",
       "\n",
       "    .dataframe thead th {\n",
       "        text-align: right;\n",
       "    }\n",
       "</style>\n",
       "<table border=\"1\" class=\"dataframe\">\n",
       "  <thead>\n",
       "    <tr style=\"text-align: right;\">\n",
       "      <th></th>\n",
       "      <th>price</th>\n",
       "      <th>model_year</th>\n",
       "      <th>cylinders</th>\n",
       "      <th>odometer</th>\n",
       "      <th>is_4wd</th>\n",
       "      <th>days_listed</th>\n",
       "    </tr>\n",
       "  </thead>\n",
       "  <tbody>\n",
       "    <tr>\n",
       "      <th>count</th>\n",
       "      <td>51525.000000</td>\n",
       "      <td>47906.000000</td>\n",
       "      <td>46265.000000</td>\n",
       "      <td>43633.000000</td>\n",
       "      <td>25572.0</td>\n",
       "      <td>51525.00000</td>\n",
       "    </tr>\n",
       "    <tr>\n",
       "      <th>mean</th>\n",
       "      <td>12132.464920</td>\n",
       "      <td>2009.750470</td>\n",
       "      <td>6.125235</td>\n",
       "      <td>115553.461738</td>\n",
       "      <td>1.0</td>\n",
       "      <td>39.55476</td>\n",
       "    </tr>\n",
       "    <tr>\n",
       "      <th>std</th>\n",
       "      <td>10040.803015</td>\n",
       "      <td>6.282065</td>\n",
       "      <td>1.660360</td>\n",
       "      <td>65094.611341</td>\n",
       "      <td>0.0</td>\n",
       "      <td>28.20427</td>\n",
       "    </tr>\n",
       "    <tr>\n",
       "      <th>min</th>\n",
       "      <td>1.000000</td>\n",
       "      <td>1908.000000</td>\n",
       "      <td>3.000000</td>\n",
       "      <td>0.000000</td>\n",
       "      <td>1.0</td>\n",
       "      <td>0.00000</td>\n",
       "    </tr>\n",
       "    <tr>\n",
       "      <th>25%</th>\n",
       "      <td>5000.000000</td>\n",
       "      <td>2006.000000</td>\n",
       "      <td>4.000000</td>\n",
       "      <td>70000.000000</td>\n",
       "      <td>1.0</td>\n",
       "      <td>19.00000</td>\n",
       "    </tr>\n",
       "    <tr>\n",
       "      <th>50%</th>\n",
       "      <td>9000.000000</td>\n",
       "      <td>2011.000000</td>\n",
       "      <td>6.000000</td>\n",
       "      <td>113000.000000</td>\n",
       "      <td>1.0</td>\n",
       "      <td>33.00000</td>\n",
       "    </tr>\n",
       "    <tr>\n",
       "      <th>75%</th>\n",
       "      <td>16839.000000</td>\n",
       "      <td>2014.000000</td>\n",
       "      <td>8.000000</td>\n",
       "      <td>155000.000000</td>\n",
       "      <td>1.0</td>\n",
       "      <td>53.00000</td>\n",
       "    </tr>\n",
       "    <tr>\n",
       "      <th>max</th>\n",
       "      <td>375000.000000</td>\n",
       "      <td>2019.000000</td>\n",
       "      <td>12.000000</td>\n",
       "      <td>990000.000000</td>\n",
       "      <td>1.0</td>\n",
       "      <td>271.00000</td>\n",
       "    </tr>\n",
       "  </tbody>\n",
       "</table>\n",
       "</div>"
      ],
      "text/plain": [
       "               price    model_year     cylinders       odometer   is_4wd  \\\n",
       "count   51525.000000  47906.000000  46265.000000   43633.000000  25572.0   \n",
       "mean    12132.464920   2009.750470      6.125235  115553.461738      1.0   \n",
       "std     10040.803015      6.282065      1.660360   65094.611341      0.0   \n",
       "min         1.000000   1908.000000      3.000000       0.000000      1.0   \n",
       "25%      5000.000000   2006.000000      4.000000   70000.000000      1.0   \n",
       "50%      9000.000000   2011.000000      6.000000  113000.000000      1.0   \n",
       "75%     16839.000000   2014.000000      8.000000  155000.000000      1.0   \n",
       "max    375000.000000   2019.000000     12.000000  990000.000000      1.0   \n",
       "\n",
       "       days_listed  \n",
       "count  51525.00000  \n",
       "mean      39.55476  \n",
       "std       28.20427  \n",
       "min        0.00000  \n",
       "25%       19.00000  \n",
       "50%       33.00000  \n",
       "75%       53.00000  \n",
       "max      271.00000  "
      ]
     },
     "execution_count": 7,
     "metadata": {},
     "output_type": "execute_result"
    }
   ],
   "source": [
    "# using 'display' to output the result\n",
    "display(df.head(10))\n",
    "\n",
    "# the last line\n",
    "df.describe()"
   ]
  },
  {
   "cell_type": "markdown",
   "metadata": {},
   "source": [
    "<font color='#ffa500'><b><u> Reviewer Comment. v. 1 </u></b></font>\n",
    "\n",
    "<div class=\"alert alert-block alert-warning\">\n",
    "<b>Recommendation:</b>\n",
    "    \n",
    "\n",
    "1. The following piece of code can be usefull to estimate the percetage of values missing:\n",
    "    \n",
    "    `df.isnull().mean().sort_values(ascending= False) * 100`\n",
    "    \n",
    "2. Also it would be better to check duplicated values:)\n",
    "\n",
    "</div>"
   ]
  },
  {
   "cell_type": "markdown",
   "metadata": {},
   "source": [
    "## Treat missing values (if any)"
   ]
  },
  {
   "cell_type": "markdown",
   "metadata": {},
   "source": [
    "Let's study the missing values to decide what to do with them starting from the column with the most missing values."
   ]
  },
  {
   "cell_type": "code",
   "execution_count": 8,
   "metadata": {},
   "outputs": [
    {
     "name": "stdout",
     "output_type": "stream",
     "text": [
      "1.0    25572\n",
      "Name: is_4wd, dtype: int64\n"
     ]
    }
   ],
   "source": [
    "print(df['is_4wd'].value_counts())"
   ]
  },
  {
   "cell_type": "code",
   "execution_count": 9,
   "metadata": {},
   "outputs": [
    {
     "name": "stdout",
     "output_type": "stream",
     "text": [
      "0         True\n",
      "1         True\n",
      "2        False\n",
      "3        False\n",
      "4        False\n",
      "         ...  \n",
      "51520    False\n",
      "51521    False\n",
      "51522    False\n",
      "51523    False\n",
      "51524    False\n",
      "Name: is_4wd, Length: 51525, dtype: bool\n"
     ]
    }
   ],
   "source": [
    "df['is_4wd'] = df['is_4wd'].replace(1.0, True)\n",
    "df['is_4wd'] = df['is_4wd'].fillna(False)\n",
    "print(df['is_4wd'])"
   ]
  },
  {
   "cell_type": "markdown",
   "metadata": {},
   "source": [
    "Seems the column `is_4wd` had values in a few rows. Seeing as this column is meant to be in boolean format, it's safe to assume that the columns with the value 1.0 actually stands for True"
   ]
  },
  {
   "cell_type": "markdown",
   "metadata": {},
   "source": [
    "<font color='green'><b><u> Reviewer Comment. v.1 </u></b></font>\n",
    "\n",
    "<div class=\"alert alert-success\" >\n",
    "    \n",
    "**Success:** Agree with this step above\n",
    "</div>"
   ]
  },
  {
   "cell_type": "markdown",
   "metadata": {},
   "source": [
    "Let's analyze other columns and make decisions on how to deal with the missing values"
   ]
  },
  {
   "cell_type": "code",
   "execution_count": 10,
   "metadata": {},
   "outputs": [
    {
     "name": "stdout",
     "output_type": "stream",
     "text": [
      "       price  model_year                        model  condition  cylinders  \\\n",
      "0       9400      2011.0                       bmw x5       good        6.0   \n",
      "3       1500      2003.0                   ford f-150       fair        8.0   \n",
      "8      11500      2012.0                  kia sorento  excellent        4.0   \n",
      "12     18990      2012.0                     ram 1500  excellent        8.0   \n",
      "21      5250      2007.0                  toyota rav4       good        6.0   \n",
      "...      ...         ...                          ...        ...        ...   \n",
      "51502   7995      2011.0            chevrolet equinox   like new        4.0   \n",
      "51503   6595      2011.0             chevrolet malibu  excellent        4.0   \n",
      "51506  28900      2017.0  ford f150 supercrew cab xlt       good        6.0   \n",
      "51519  11750      2015.0                 honda accord  excellent        4.0   \n",
      "51524   6300      2014.0                nissan altima       good        4.0   \n",
      "\n",
      "      fuel  odometer transmission    type paint_color  is_4wd date_posted  \\\n",
      "0      gas  145000.0    automatic     SUV         NaN    True  2018-06-23   \n",
      "3      gas       NaN    automatic  pickup         NaN   False  2019-03-22   \n",
      "8      gas  104174.0    automatic     SUV         NaN    True  2018-07-16   \n",
      "12     gas  140742.0    automatic  pickup         NaN    True  2019-04-02   \n",
      "21     gas  154000.0    automatic     SUV         NaN   False  2018-08-22   \n",
      "...    ...       ...          ...     ...         ...     ...         ...   \n",
      "51502  gas  111088.0    automatic     SUV         NaN   False  2019-04-01   \n",
      "51503  gas  100780.0    automatic   sedan         NaN   False  2019-02-27   \n",
      "51506  gas   49225.0    automatic  pickup         NaN    True  2019-04-11   \n",
      "51519  gas       NaN    automatic   coupe         NaN   False  2018-11-24   \n",
      "51524  gas       NaN    automatic   sedan         NaN   False  2018-06-05   \n",
      "\n",
      "       days_listed  \n",
      "0               19  \n",
      "3                9  \n",
      "8               19  \n",
      "12              37  \n",
      "21               8  \n",
      "...            ...  \n",
      "51502          175  \n",
      "51503           73  \n",
      "51506           25  \n",
      "51519           89  \n",
      "51524           10  \n",
      "\n",
      "[9267 rows x 13 columns]\n"
     ]
    }
   ],
   "source": [
    "#Checking the paint_color column \n",
    "\n",
    "print(df[df['paint_color'].isna()])"
   ]
  },
  {
   "cell_type": "code",
   "execution_count": 11,
   "metadata": {},
   "outputs": [
    {
     "name": "stdout",
     "output_type": "stream",
     "text": [
      "white      10029\n",
      "unknown     9267\n",
      "black       7692\n",
      "silver      6244\n",
      "grey        5037\n",
      "blue        4475\n",
      "red         4421\n",
      "green       1396\n",
      "brown       1223\n",
      "custom      1153\n",
      "yellow       255\n",
      "orange       231\n",
      "purple       102\n",
      "Name: paint_color, dtype: int64\n"
     ]
    }
   ],
   "source": [
    "#Fill values\n",
    "df['paint_color'] = df['paint_color'].fillna('unknown')\n",
    "print(df['paint_color'].value_counts())"
   ]
  },
  {
   "cell_type": "markdown",
   "metadata": {},
   "source": [
    "<font color='green'><b><u> Reviewer Comment. v. 1 </u></b></font>\n",
    "\n",
    "<div class=\"alert alert-success\" >\n",
    "    \n",
    "**Success:** Good decision was chosen about `paint_color` column. We can't fill in these missing values with `groupby` or smth like this, and we can't drop them, in this case it's better to fill with an indicator (as you did)\n",
    "    \n",
    "</div>"
   ]
  },
  {
   "cell_type": "code",
   "execution_count": 12,
   "metadata": {
    "scrolled": false
   },
   "outputs": [
    {
     "name": "stdout",
     "output_type": "stream",
     "text": [
      "0        145000.0\n",
      "1         88705.0\n",
      "2        110000.0\n",
      "3             NaN\n",
      "4         80903.0\n",
      "           ...   \n",
      "51520     88136.0\n",
      "51521    181500.0\n",
      "51522    128000.0\n",
      "51523    139573.0\n",
      "51524         NaN\n",
      "Name: odometer, Length: 51525, dtype: float64\n",
      "mean: 115553.4617376756\n",
      "median: 113000.0\n"
     ]
    }
   ],
   "source": [
    "#Checking odometer column\n",
    "\n",
    "print(df['odometer'])\n",
    "print('mean:', df['odometer'].mean())\n",
    "print('median:', df['odometer'].median())"
   ]
  },
  {
   "cell_type": "code",
   "execution_count": 13,
   "metadata": {},
   "outputs": [
    {
     "name": "stdout",
     "output_type": "stream",
     "text": [
      "0       two decades\n",
      "1    five and above\n",
      "2        one decade\n",
      "3       two decades\n",
      "4        one decade\n",
      "5        one decade\n",
      "6        one decade\n",
      "7        one decade\n",
      "8        one decade\n",
      "9       two decades\n",
      "Name: time_used, dtype: object\n",
      "False    51525\n",
      "Name: time_used, dtype: int64\n"
     ]
    }
   ],
   "source": [
    "#Grouping the data in the odometer column to make filling in values easier\n",
    "\n",
    "def time_category(value):\n",
    "    if (2022 - value) <= 10:\n",
    "        return 'one decade'\n",
    "    if 10 < (2022 - value) <= 20:\n",
    "        return 'two decades'\n",
    "    if 20 < (2022 - value) <= 30:\n",
    "        return 'three decades'\n",
    "    if 30 < (2022 - value) <= 40:\n",
    "        return 'four decades'\n",
    "    else:\n",
    "        return 'five and above'\n",
    "df2 = df    \n",
    "df2['model_year_filtered'] = df2['model_year'][df2['model_year'].isna() == False]\n",
    "df['time_used'] = df2['model_year_filtered'].apply(time_category)\n",
    "print(df['time_used'].head(10))\n",
    "print(df['time_used'].isna().value_counts())"
   ]
  },
  {
   "cell_type": "code",
   "execution_count": 14,
   "metadata": {},
   "outputs": [
    {
     "name": "stdout",
     "output_type": "stream",
     "text": [
      "one decade mean: 78755.00217912399\n",
      "one decade median: 75380.0\n",
      "two decade mean: 142457.4412108338\n",
      "two decade median: 140610.0\n",
      "three decade mean: 174341.3898830007\n",
      "three decade median: 175000.0\n",
      "four decade mean: 121688.15679442509\n",
      "four decade median: 115000.0\n",
      "five and above mean: 114407.86047940995\n",
      "five and above median: 111283.5\n"
     ]
    }
   ],
   "source": [
    "#Finding the mean and median of each group\n",
    "\n",
    "one_decade = df.query('time_used == \"one decade\"')\n",
    "two_decade = df.query('time_used == \"two decades\"')\n",
    "three_decade = df.query('time_used == \"three decades\"')\n",
    "four_decade = df.query('time_used == \"four decades\"')\n",
    "five_and_above = df.query('time_used == \"five and above\"')\n",
    "\n",
    "\n",
    "one_decade_mean = one_decade['odometer'].mean()\n",
    "one_decade_median = one_decade['odometer'].median()\n",
    "\n",
    "two_decade_mean = two_decade['odometer'].mean()\n",
    "two_decade_median = two_decade['odometer'].median()\n",
    "\n",
    "three_decade_mean = three_decade['odometer'].mean()\n",
    "three_decade_median = three_decade['odometer'].median()\n",
    "\n",
    "four_decade_mean = four_decade['odometer'].mean()\n",
    "four_decade_median = four_decade['odometer'].median()\n",
    "\n",
    "five_and_above_mean = five_and_above['odometer'].mean()\n",
    "five_and_above_median = five_and_above['odometer'].median()\n",
    "\n",
    "\n",
    "print('one decade mean:', one_decade_mean)\n",
    "print('one decade median:', one_decade_median)\n",
    "print('two decade mean:', two_decade_mean)\n",
    "print('two decade median:', two_decade_median)\n",
    "print('three decade mean:', three_decade_mean)\n",
    "print('three decade median:', three_decade_median)\n",
    "print('four decade mean:', four_decade_mean)\n",
    "print('four decade median:', four_decade_median)\n",
    "print('five and above mean:', five_and_above_mean )\n",
    "print('five and above median:', five_and_above_median)\n"
   ]
  },
  {
   "cell_type": "code",
   "execution_count": 15,
   "metadata": {},
   "outputs": [
    {
     "name": "stdout",
     "output_type": "stream",
     "text": [
      "False    51525\n",
      "Name: odometer, dtype: int64\n"
     ]
    }
   ],
   "source": [
    "#Creating a function to fill missing values\n",
    "\n",
    "def fill_odometer(value):\n",
    "    if (value['time_used'] == 'one decade') and (pd.isna(value['odometer']) == True):\n",
    "        return one_decade_median\n",
    "    elif (value['time_used'] == 'two decades') and (pd.isna(value['odometer']) == True):\n",
    "        return two_decade_median\n",
    "    elif (value['time_used'] == 'three decades') and (pd.isna(value['odometer']) == True):\n",
    "        return three_decade_median\n",
    "    elif (value['time_used'] == 'four decades') and (pd.isna(value['odometer']) == True):\n",
    "        return four_decade_median\n",
    "    elif (value['time_used'] == 'five and above') and (pd.isna(value['odometer']) == True):\n",
    "        return five_and_above_median\n",
    "    else:\n",
    "        return value['odometer']\n",
    "\n",
    "df['odometer'] = df.apply(fill_odometer, axis=1)\n",
    "print(df['odometer'].isna().value_counts())"
   ]
  },
  {
   "cell_type": "code",
   "execution_count": 16,
   "metadata": {},
   "outputs": [
    {
     "name": "stdout",
     "output_type": "stream",
     "text": [
      "8.0     15844\n",
      "6.0     15700\n",
      "4.0     13864\n",
      "10.0      549\n",
      "5.0       272\n",
      "3.0        34\n",
      "12.0        2\n",
      "Name: cylinders, dtype: int64\n"
     ]
    }
   ],
   "source": [
    "#Checking the cylinders column\n",
    "print(df['cylinders'].value_counts())"
   ]
  },
  {
   "cell_type": "code",
   "execution_count": 17,
   "metadata": {},
   "outputs": [
    {
     "name": "stdout",
     "output_type": "stream",
     "text": [
      "False    51525\n",
      "Name: cylinders, dtype: int64\n"
     ]
    }
   ],
   "source": [
    "# Filling in missing values\n",
    "df['cylinders'] = df['cylinders'].fillna(df.groupby(['model'])['cylinders'].transform('median'))\n",
    "print(df['cylinders'].isna().value_counts())"
   ]
  },
  {
   "cell_type": "code",
   "execution_count": 18,
   "metadata": {},
   "outputs": [
    {
     "name": "stdout",
     "output_type": "stream",
     "text": [
      "2013.0    3549\n",
      "2012.0    3468\n",
      "2014.0    3448\n",
      "2011.0    3375\n",
      "2015.0    3323\n",
      "          ... \n",
      "1948.0       1\n",
      "1961.0       1\n",
      "1936.0       1\n",
      "1949.0       1\n",
      "1955.0       1\n",
      "Name: model_year, Length: 68, dtype: int64\n"
     ]
    }
   ],
   "source": [
    "#Checking the model_year column\n",
    "\n",
    "print(df['model_year'].value_counts())"
   ]
  },
  {
   "cell_type": "code",
   "execution_count": 19,
   "metadata": {
    "scrolled": true
   },
   "outputs": [
    {
     "name": "stdout",
     "output_type": "stream",
     "text": [
      "False    51525\n",
      "Name: model_year, dtype: int64\n"
     ]
    }
   ],
   "source": [
    "#Filling missing values\n",
    "df['model_year'] = df['model_year'].fillna(df.groupby(['model'])['model_year'].transform('median'))\n",
    "print(df['model_year'].isna().value_counts())"
   ]
  },
  {
   "cell_type": "markdown",
   "metadata": {},
   "source": [
    "As most of the columns contained categorical values, there was little we could to to fill the values except use place holders like \"unknown\" and \"N/A\" to give the data a semblance of being clean. After all, who doesn't like clean data? But we might revert back to the missing value format (NaN) if need be."
   ]
  },
  {
   "cell_type": "markdown",
   "metadata": {},
   "source": [
    "<font color='green'><b><u> Reviewer Comment. v.2 </u></b></font>\n",
    "<div class=\"alert alert-success\" >\n",
    "    \n",
    "**Success:** Great, thank you for the corrections!\n",
    "</div>\n",
    "\n",
    "\n",
    "<s><font color='red'><b><u> Reviewer Comment. v. 1 </u></b></font>\n",
    "\n",
    "<div class=\"alert alert-danger\" >\n",
    "    \n",
    "**Issue:** \n",
    "    \n",
    "Plesase, pay attention:\n",
    "    \n",
    "`model_year` and `cylinders` columns contain numeric values, in's better not to fill missing values with string like `N/A`. \n",
    "In the case `cylinders` we could fill in with median value with the following methods  `groupby` and `transform`, **for example**:\n",
    "    \n",
    "    df.groupby(['model'])['cylinders'].transform(lambda grp: grp.fillna(np.median(grp)))"
   ]
  },
  {
   "cell_type": "markdown",
   "metadata": {},
   "source": [
    "## Fix data types"
   ]
  },
  {
   "cell_type": "markdown",
   "metadata": {},
   "source": [
    "As the data is more or less complete now, fix the data types as required. First let's take a look at the data again."
   ]
  },
  {
   "cell_type": "code",
   "execution_count": 20,
   "metadata": {},
   "outputs": [
    {
     "name": "stdout",
     "output_type": "stream",
     "text": [
      "<class 'pandas.core.frame.DataFrame'>\n",
      "RangeIndex: 51525 entries, 0 to 51524\n",
      "Data columns (total 15 columns):\n",
      " #   Column               Non-Null Count  Dtype  \n",
      "---  ------               --------------  -----  \n",
      " 0   price                51525 non-null  int64  \n",
      " 1   model_year           51525 non-null  float64\n",
      " 2   model                51525 non-null  object \n",
      " 3   condition            51525 non-null  object \n",
      " 4   cylinders            51525 non-null  float64\n",
      " 5   fuel                 51525 non-null  object \n",
      " 6   odometer             51525 non-null  float64\n",
      " 7   transmission         51525 non-null  object \n",
      " 8   type                 51525 non-null  object \n",
      " 9   paint_color          51525 non-null  object \n",
      " 10  is_4wd               51525 non-null  bool   \n",
      " 11  date_posted          51525 non-null  object \n",
      " 12  days_listed          51525 non-null  int64  \n",
      " 13  model_year_filtered  47906 non-null  float64\n",
      " 14  time_used            51525 non-null  object \n",
      "dtypes: bool(1), float64(4), int64(2), object(8)\n",
      "memory usage: 5.6+ MB\n",
      "None\n"
     ]
    }
   ],
   "source": [
    "print(df.info())"
   ]
  },
  {
   "cell_type": "code",
   "execution_count": 21,
   "metadata": {},
   "outputs": [
    {
     "name": "stdout",
     "output_type": "stream",
     "text": [
      "0   2018-06-23\n",
      "1   2018-10-19\n",
      "2   2019-02-07\n",
      "3   2019-03-22\n",
      "4   2019-04-02\n",
      "5   2018-06-20\n",
      "6   2018-12-27\n",
      "7   2019-01-07\n",
      "8   2018-07-16\n",
      "9   2019-02-15\n",
      "Name: date_posted, dtype: datetime64[ns]\n"
     ]
    }
   ],
   "source": [
    "# Converting to date time format\n",
    "\n",
    "df['date_posted'] = pd.to_datetime(df['date_posted'], format= '%Y-%m-%d')\n",
    "print(df['date_posted'].head(10))\n"
   ]
  },
  {
   "cell_type": "code",
   "execution_count": 22,
   "metadata": {
    "scrolled": true
   },
   "outputs": [
    {
     "name": "stdout",
     "output_type": "stream",
     "text": [
      "<class 'pandas.core.frame.DataFrame'>\n",
      "RangeIndex: 51525 entries, 0 to 51524\n",
      "Data columns (total 15 columns):\n",
      " #   Column               Non-Null Count  Dtype         \n",
      "---  ------               --------------  -----         \n",
      " 0   price                51525 non-null  int64         \n",
      " 1   model_year           51525 non-null  int64         \n",
      " 2   model                51525 non-null  object        \n",
      " 3   condition            51525 non-null  object        \n",
      " 4   cylinders            51525 non-null  int64         \n",
      " 5   fuel                 51525 non-null  object        \n",
      " 6   odometer             51525 non-null  float64       \n",
      " 7   transmission         51525 non-null  object        \n",
      " 8   type                 51525 non-null  object        \n",
      " 9   paint_color          51525 non-null  object        \n",
      " 10  is_4wd               51525 non-null  bool          \n",
      " 11  date_posted          51525 non-null  datetime64[ns]\n",
      " 12  days_listed          51525 non-null  int64         \n",
      " 13  model_year_filtered  47906 non-null  float64       \n",
      " 14  time_used            51525 non-null  object        \n",
      "dtypes: bool(1), datetime64[ns](1), float64(2), int64(4), object(7)\n",
      "memory usage: 5.6+ MB\n",
      "None\n"
     ]
    }
   ],
   "source": [
    "df['days_listed'] = df['days_listed'].astype('int')\n",
    "df['model_year'] = df['model_year'].astype('int')\n",
    "df['cylinders'] = df['cylinders'].astype('int')\n",
    "print(df.info())"
   ]
  },
  {
   "cell_type": "markdown",
   "metadata": {},
   "source": [
    "Just as we suspected. Due to upcoming analysis, we have to revert the categorical data in some columns to their original state."
   ]
  },
  {
   "cell_type": "markdown",
   "metadata": {},
   "source": [
    "<font color='green'><b><u> Reviewer Comment. v. 1 </u></b></font>\n",
    "\n",
    "<div class=\"alert alert-success\" >\n",
    "    \n",
    "**Success:** Great that you use `astype` method and `errors='coerce'`!\n",
    "</div>\n",
    "\n",
    "<s><font color='red'><b><u> Reviewer Comment. v. 1 </u></b></font>\n",
    "\n",
    "<div class=\"alert alert-danger\" >\n",
    "    \n",
    "**Issue:** `model_year` and `cylinders` columns contain integers values, please, correct dtypes there🙂\n",
    "\n",
    "</div> "
   ]
  },
  {
   "cell_type": "markdown",
   "metadata": {},
   "source": [
    "## Enrich data"
   ]
  },
  {
   "cell_type": "markdown",
   "metadata": {},
   "source": [
    "Let's add additional factors to the data to make the analysis easier."
   ]
  },
  {
   "cell_type": "code",
   "execution_count": 23,
   "metadata": {
    "scrolled": false
   },
   "outputs": [
    {
     "name": "stdout",
     "output_type": "stream",
     "text": [
      "0         7\n",
      "1         7\n",
      "2         6\n",
      "3        16\n",
      "4         2\n",
      "         ..\n",
      "51520     5\n",
      "51521    16\n",
      "51522     9\n",
      "51523     5\n",
      "51524     4\n",
      "Name: vehicle_age, Length: 51525, dtype: int64\n"
     ]
    }
   ],
   "source": [
    "# Add the vehicle's age when the ad was placed\n",
    "df['vehicle_age'] = pd.DatetimeIndex(df['date_posted']).year - df['model_year']\n",
    "print(df['vehicle_age'])"
   ]
  },
  {
   "cell_type": "code",
   "execution_count": 24,
   "metadata": {},
   "outputs": [],
   "source": [
    "df['day_placed'] = pd.DatetimeIndex(df['date_posted']).weekday"
   ]
  },
  {
   "cell_type": "code",
   "execution_count": 25,
   "metadata": {},
   "outputs": [],
   "source": [
    "df['month_placed'] = pd.DatetimeIndex(df['date_posted']).month"
   ]
  },
  {
   "cell_type": "code",
   "execution_count": 26,
   "metadata": {},
   "outputs": [],
   "source": [
    "df['year_placed'] = pd.DatetimeIndex(df['date_posted']).year"
   ]
  },
  {
   "cell_type": "markdown",
   "metadata": {},
   "source": [
    "<font color='#ffa500'><b><u> Reviewer Comment. v. 1 </u></b></font>\n",
    "\n",
    "<div class=\"alert alert-warning\" >\n",
    "    \n",
    "**Recommendation:** \n",
    "    \n",
    "Your solution is nice, I just want to highlight that:\n",
    "    \n",
    "There are some values in the **'vehicle_age' column = NaN**, we can assume that if vehicle model year is the same as the ad posting year, it's vehicle's **first year**.\n",
    "\n",
    "**An another good solution here is to add `1` to those rows, where 'vehicle_age' == 0** to avoid division by zero when calculating the average mileage per year.\n",
    "    \n",
    "\n",
    "</div> "
   ]
  },
  {
   "cell_type": "code",
   "execution_count": 27,
   "metadata": {},
   "outputs": [
    {
     "name": "stdout",
     "output_type": "stream",
     "text": [
      "                        odometer\n",
      "model                           \n",
      "acura tl           139975.391949\n",
      "bmw x5             113218.249064\n",
      "buick enclave      111168.588561\n",
      "cadillac escalade  124980.645963\n",
      "chevrolet camaro    74660.880435\n",
      "...                          ...\n",
      "toyota sienna      135999.927052\n",
      "toyota tacoma      125237.819831\n",
      "toyota tundra      123377.200663\n",
      "volkswagen jetta   107354.409441\n",
      "volkswagen passat   91752.744286\n",
      "\n",
      "[100 rows x 1 columns]\n"
     ]
    }
   ],
   "source": [
    "# Add the vehicle's average mileage per year\n",
    "average_mileage = df.pivot_table(index='model', values = 'odometer', aggfunc= 'mean')\n",
    "df['average_mileage'] = df['odometer']/ df['vehicle_age']\n",
    "print(average_mileage)"
   ]
  },
  {
   "cell_type": "markdown",
   "metadata": {},
   "source": [
    "<font color='#ffa500'><b><u> Reviewer Comment. v. 1 </u></b></font>\n",
    "\n",
    "<div class=\"alert alert-warning\" >\n",
    "    \n",
    "**Recommendation:** \n",
    "    \n",
    "It would be more correct to add the column 'average_mileage' to our dataframe and calculate it with the following piece of code, as example:\n",
    "\n",
    "`df['average_mileage'] = df['odometer']/ df['vehicle_age']`\n",
    "\n",
    "</div> "
   ]
  },
  {
   "cell_type": "code",
   "execution_count": 28,
   "metadata": {},
   "outputs": [
    {
     "name": "stdout",
     "output_type": "stream",
     "text": [
      "0        4\n",
      "1        4\n",
      "2        3\n",
      "3        2\n",
      "4        5\n",
      "        ..\n",
      "51520    3\n",
      "51521    1\n",
      "51522    5\n",
      "51523    4\n",
      "51524    4\n",
      "Name: cond_val, Length: 51525, dtype: object\n"
     ]
    }
   ],
   "source": [
    "# It might help to replace the condition values with something that can be manipulated more easily\n",
    "def condition_val(value):\n",
    "    if value == 'excellent':\n",
    "        return '5'\n",
    "    if value == 'good':\n",
    "        return '4'\n",
    "    if value == 'like new':\n",
    "        return '3'\n",
    "    if value == 'fair':\n",
    "        return '2'\n",
    "    if value == 'salvage':\n",
    "        return '1'\n",
    "    else:\n",
    "        return '6'\n",
    "df['cond_val'] = df['condition'].apply(condition_val)\n",
    "print(df['cond_val'])"
   ]
  },
  {
   "cell_type": "markdown",
   "metadata": {},
   "source": [
    "<font color='green'><b><u> Reviewer Comment. v.1 </u></b></font>\n",
    "\n",
    "<div class=\"alert alert-success\" >\n",
    "    \n",
    "**Success:** Great that you've made your own function `condition_val` and used `apply` method!😃\n",
    "</div>\n"
   ]
  },
  {
   "cell_type": "markdown",
   "metadata": {},
   "source": [
    "## Check clean data"
   ]
  },
  {
   "cell_type": "markdown",
   "metadata": {},
   "source": [
    "[Given the data is ready for the analysis, take just another quick look at it. It is helpful to see what exactly you are going to use for the analysis.]"
   ]
  },
  {
   "cell_type": "code",
   "execution_count": 29,
   "metadata": {},
   "outputs": [
    {
     "name": "stdout",
     "output_type": "stream",
     "text": [
      "<class 'pandas.core.frame.DataFrame'>\n",
      "RangeIndex: 51525 entries, 0 to 51524\n",
      "Data columns (total 21 columns):\n",
      " #   Column               Non-Null Count  Dtype         \n",
      "---  ------               --------------  -----         \n",
      " 0   price                51525 non-null  int64         \n",
      " 1   model_year           51525 non-null  int64         \n",
      " 2   model                51525 non-null  object        \n",
      " 3   condition            51525 non-null  object        \n",
      " 4   cylinders            51525 non-null  int64         \n",
      " 5   fuel                 51525 non-null  object        \n",
      " 6   odometer             51525 non-null  float64       \n",
      " 7   transmission         51525 non-null  object        \n",
      " 8   type                 51525 non-null  object        \n",
      " 9   paint_color          51525 non-null  object        \n",
      " 10  is_4wd               51525 non-null  bool          \n",
      " 11  date_posted          51525 non-null  datetime64[ns]\n",
      " 12  days_listed          51525 non-null  int64         \n",
      " 13  model_year_filtered  47906 non-null  float64       \n",
      " 14  time_used            51525 non-null  object        \n",
      " 15  vehicle_age          51525 non-null  int64         \n",
      " 16  day_placed           51525 non-null  int64         \n",
      " 17  month_placed         51525 non-null  int64         \n",
      " 18  year_placed          51525 non-null  int64         \n",
      " 19  average_mileage      51523 non-null  float64       \n",
      " 20  cond_val             51525 non-null  object        \n",
      "dtypes: bool(1), datetime64[ns](1), float64(3), int64(8), object(8)\n",
      "memory usage: 7.9+ MB\n",
      "None\n"
     ]
    }
   ],
   "source": [
    "# print the general/summary information about the DataFrame\n",
    "\n",
    "print(df.info())"
   ]
  },
  {
   "cell_type": "code",
   "execution_count": 30,
   "metadata": {},
   "outputs": [
    {
     "name": "stdout",
     "output_type": "stream",
     "text": [
      "   price  model_year           model  condition  cylinders fuel  odometer  \\\n",
      "0   9400        2011          bmw x5       good          6  gas  145000.0   \n",
      "1  25500        2011      ford f-150       good          6  gas   88705.0   \n",
      "2   5500        2013  hyundai sonata   like new          4  gas  110000.0   \n",
      "3   1500        2003      ford f-150       fair          8  gas  140610.0   \n",
      "4  14900        2017    chrysler 200  excellent          4  gas   80903.0   \n",
      "5  14990        2014    chrysler 300  excellent          6  gas   57954.0   \n",
      "6  12990        2015    toyota camry  excellent          4  gas   79212.0   \n",
      "7  15990        2013     honda pilot  excellent          6  gas  109473.0   \n",
      "8  11500        2012     kia sorento  excellent          4  gas  104174.0   \n",
      "9   9200        2008     honda pilot  excellent          6  gas  147191.0   \n",
      "\n",
      "  transmission    type paint_color  ...  date_posted days_listed  \\\n",
      "0    automatic     SUV     unknown  ...   2018-06-23          19   \n",
      "1    automatic  pickup       white  ...   2018-10-19          50   \n",
      "2    automatic   sedan         red  ...   2019-02-07          79   \n",
      "3    automatic  pickup     unknown  ...   2019-03-22           9   \n",
      "4    automatic   sedan       black  ...   2019-04-02          28   \n",
      "5    automatic   sedan       black  ...   2018-06-20          15   \n",
      "6    automatic   sedan       white  ...   2018-12-27          73   \n",
      "7    automatic     SUV       black  ...   2019-01-07          68   \n",
      "8    automatic     SUV     unknown  ...   2018-07-16          19   \n",
      "9    automatic     SUV        blue  ...   2019-02-15          17   \n",
      "\n",
      "   model_year_filtered       time_used vehicle_age  day_placed  month_placed  \\\n",
      "0               2011.0     two decades           7           5             6   \n",
      "1                  NaN  five and above           7           4            10   \n",
      "2               2013.0      one decade           6           3             2   \n",
      "3               2003.0     two decades          16           4             3   \n",
      "4               2017.0      one decade           2           1             4   \n",
      "5               2014.0      one decade           4           2             6   \n",
      "6               2015.0      one decade           3           3            12   \n",
      "7               2013.0      one decade           6           0             1   \n",
      "8               2012.0      one decade           6           0             7   \n",
      "9               2008.0     two decades          11           4             2   \n",
      "\n",
      "   year_placed  average_mileage  cond_val  \n",
      "0         2018     20714.285714         4  \n",
      "1         2018     12672.142857         4  \n",
      "2         2019     18333.333333         3  \n",
      "3         2019      8788.125000         2  \n",
      "4         2019     40451.500000         5  \n",
      "5         2018     14488.500000         5  \n",
      "6         2018     26404.000000         5  \n",
      "7         2019     18245.500000         5  \n",
      "8         2018     17362.333333         5  \n",
      "9         2019     13381.000000         5  \n",
      "\n",
      "[10 rows x 21 columns]\n"
     ]
    }
   ],
   "source": [
    "# print a sample of data\n",
    "\n",
    "print(df.head(10))"
   ]
  },
  {
   "cell_type": "markdown",
   "metadata": {},
   "source": [
    "<font color='green'><b><u> Reviewer Comment. v.1 </u></b></font>\n",
    "\n",
    "<div class=\"alert alert-success\" >\n",
    "    \n",
    "**Success:** Very nice that you check the result with the use `df.info()` and `df.head()`!\n",
    "</div>\n",
    "\n",
    "\n",
    "<font color='green'><b><u> Reviewer Comment. v.2 </u></b></font>\n",
    "<div class=\"alert alert-success\" >\n",
    "    \n",
    "**Success:** Nice to see `dt.weekday \\ dt.month \\ dt.year` methods here!\n",
    "</div>\n",
    "\n",
    "\n",
    "<s><font color='red'><b><u> Reviewer Comment. v. 1 </u></b></font>\n",
    "\n",
    "<div class=\"alert alert-danger\" >\n",
    "    \n",
    "**Issue:** \n",
    "    \n",
    "Pay attention, it's needed to add `Day of the week, month, and year the ad was placed`, so we need to add 3 columns to our dataset. \n",
    "    \n",
    "Please add `day of the week, month, year` columns to our dataframe. We can use, as example, `dt.weekday \\ dt.month \\ dt.year`🙂\n",
    "\n",
    "</div> "
   ]
  },
  {
   "cell_type": "markdown",
   "metadata": {},
   "source": [
    "## Study core parameters\n",
    "\n",
    "Let's study the parameters below using histograms\n",
    "\n",
    "The parameters are\n",
    "- Price\n",
    "- The vehicle's age when the ad was placed\n",
    "- Mileage\n",
    "- Number of cylinders\n",
    "- Condition"
   ]
  },
  {
   "cell_type": "markdown",
   "metadata": {},
   "source": [
    "<font color='green'><b><u> Reviewer Comment. v.1 </u></b></font>\n",
    "\n",
    "<div class=\"alert alert-success\" >\n",
    "    \n",
    "**Success:** It's great approach to write a short introduction at the beggining of each step:)\n",
    "</div>"
   ]
  },
  {
   "cell_type": "code",
   "execution_count": 31,
   "metadata": {},
   "outputs": [
    {
     "data": {
      "text/plain": [
       "<AxesSubplot:>"
      ]
     },
     "execution_count": 31,
     "metadata": {},
     "output_type": "execute_result"
    },
    {
     "data": {
      "image/png": "[encoded data removed]",
      "text/plain": [
       "<Figure size 720x360 with 1 Axes>"
      ]
     },
     "metadata": {
      "needs_background": "light"
     },
     "output_type": "display_data"
    }
   ],
   "source": [
    "df['price'].hist(bins=100, figsize=(10,5))"
   ]
  },
  {
   "cell_type": "code",
   "execution_count": 32,
   "metadata": {},
   "outputs": [
    {
     "data": {
      "text/plain": [
       "<AxesSubplot:>"
      ]
     },
     "execution_count": 32,
     "metadata": {},
     "output_type": "execute_result"
    },
    {
     "data": {
      "image/png": "[encoded data removed]",
      "text/plain": [
       "<Figure size 720x360 with 1 Axes>"
      ]
     },
     "metadata": {
      "needs_background": "light"
     },
     "output_type": "display_data"
    }
   ],
   "source": [
    "#\n",
    "df['vehicle_age'].hist(bins=100, figsize=(10,5))\n"
   ]
  },
  {
   "cell_type": "code",
   "execution_count": 33,
   "metadata": {},
   "outputs": [
    {
     "data": {
      "text/plain": [
       "<AxesSubplot:>"
      ]
     },
     "execution_count": 33,
     "metadata": {},
     "output_type": "execute_result"
    },
    {
     "data": {
      "image/png": "[encoded data removed]",
      "text/plain": [
       "<Figure size 432x288 with 1 Axes>"
      ]
     },
     "metadata": {
      "needs_background": "light"
     },
     "output_type": "display_data"
    }
   ],
   "source": [
    "#\n",
    "df['odometer'].hist(bins=10)\n"
   ]
  },
  {
   "cell_type": "code",
   "execution_count": 34,
   "metadata": {},
   "outputs": [
    {
     "data": {
      "text/plain": [
       "<AxesSubplot:>"
      ]
     },
     "execution_count": 34,
     "metadata": {},
     "output_type": "execute_result"
    },
    {
     "data": {
      "image/png": "[encoded data removed]",
      "text/plain": [
       "<Figure size 432x288 with 1 Axes>"
      ]
     },
     "metadata": {
      "needs_background": "light"
     },
     "output_type": "display_data"
    }
   ],
   "source": [
    "#\n",
    "df['cylinders'].hist()\n"
   ]
  },
  {
   "cell_type": "code",
   "execution_count": 35,
   "metadata": {},
   "outputs": [
    {
     "data": {
      "text/plain": [
       "<AxesSubplot:>"
      ]
     },
     "execution_count": 35,
     "metadata": {},
     "output_type": "execute_result"
    },
    {
     "data": {
      "image/png": "[encoded data removed]",
      "text/plain": [
       "<Figure size 432x288 with 1 Axes>"
      ]
     },
     "metadata": {
      "needs_background": "light"
     },
     "output_type": "display_data"
    }
   ],
   "source": [
    "#\n",
    "\n",
    "df['condition'].hist()"
   ]
  },
  {
   "cell_type": "markdown",
   "metadata": {},
   "source": [
    "<font color='orange'><b><u> Reviewer Comment. v. 1</u></b></font>\n",
    "\n",
    "<div class=\"alert alert-warning\" >\n",
    "    \n",
    "**Recommendation:** \n",
    "\n",
    "* Technical strings like `<AxesSubplot>` can be deleted with the use of `plt.show()` method (if it occurs). \n",
    "    \n",
    "* Also it would be better to add titles and x\\y-labels to charts. It makes our visualization more readable and informative:)\n",
    "    \n",
    "    \n",
    "</div>"
   ]
  },
  {
   "cell_type": "markdown",
   "metadata": {},
   "source": [
    "## Study and treat outliers\n",
    "\n",
    "Given the results above, we can observe outliers in the `price` and `vehicle_age` columns. Let's use boxplots to see the approximate values considered as outliers. Outliers can also be identified by defining the lower/upper limits for normal range of values."
   ]
  },
  {
   "cell_type": "code",
   "execution_count": 36,
   "metadata": {
    "scrolled": true
   },
   "outputs": [
    {
     "data": {
      "text/plain": [
       "<AxesSubplot:>"
      ]
     },
     "execution_count": 36,
     "metadata": {},
     "output_type": "execute_result"
    },
    {
     "data": {
      "image/png": "[encoded data removed]",
      "text/plain": [
       "<Figure size 1440x720 with 1 Axes>"
      ]
     },
     "metadata": {
      "needs_background": "light"
     },
     "output_type": "display_data"
    }
   ],
   "source": [
    "df.boxplot('price', figsize = (20,10))"
   ]
  },
  {
   "cell_type": "code",
   "execution_count": 37,
   "metadata": {
    "scrolled": true
   },
   "outputs": [
    {
     "data": {
      "text/plain": [
       "<AxesSubplot:>"
      ]
     },
     "execution_count": 37,
     "metadata": {},
     "output_type": "execute_result"
    },
    {
     "data": {
      "image/png": "[encoded data removed]",
      "text/plain": [
       "<Figure size 1440x720 with 1 Axes>"
      ]
     },
     "metadata": {
      "needs_background": "light"
     },
     "output_type": "display_data"
    }
   ],
   "source": [
    "df.boxplot('vehicle_age', figsize = (20,10))"
   ]
  },
  {
   "cell_type": "code",
   "execution_count": 38,
   "metadata": {
    "scrolled": true
   },
   "outputs": [
    {
     "data": {
      "text/plain": [
       "<AxesSubplot:>"
      ]
     },
     "execution_count": 38,
     "metadata": {},
     "output_type": "execute_result"
    },
    {
     "data": {
      "image/png": "[encoded data removed]",
      "text/plain": [
       "<Figure size 1440x720 with 1 Axes>"
      ]
     },
     "metadata": {
      "needs_background": "light"
     },
     "output_type": "display_data"
    }
   ],
   "source": [
    "\n",
    "df.boxplot('odometer', figsize = (20,10))"
   ]
  },
  {
   "cell_type": "code",
   "execution_count": 39,
   "metadata": {
    "scrolled": true
   },
   "outputs": [
    {
     "data": {
      "text/plain": [
       "<AxesSubplot:>"
      ]
     },
     "execution_count": 39,
     "metadata": {},
     "output_type": "execute_result"
    },
    {
     "data": {
      "image/png": "[encoded data removed]",
      "text/plain": [
       "<Figure size 1440x720 with 1 Axes>"
      ]
     },
     "metadata": {
      "needs_background": "light"
     },
     "output_type": "display_data"
    }
   ],
   "source": [
    "df.boxplot('cylinders', figsize = (20,10))"
   ]
  },
  {
   "cell_type": "markdown",
   "metadata": {},
   "source": [
    "We can see outliers even in columns where they were not seen on the histogram. This shows its sometimes a good idea to use different representations to fully understand data. Now let's move on to creating lower and upper limits."
   ]
  },
  {
   "cell_type": "code",
   "execution_count": 40,
   "metadata": {},
   "outputs": [
    {
     "name": "stdout",
     "output_type": "stream",
     "text": [
      "Q1 price: 5000.0\n",
      "Q1 Vehicle age: 4.0\n",
      "Q1 mileage: 75380.0\n",
      "Q1 cylinders: 4.0\n"
     ]
    }
   ],
   "source": [
    "# Determine the lower limits for outliers\n",
    "q1_price = df['price'].quantile(0.25)\n",
    "q1_vehicle_age = df['vehicle_age'].quantile(0.25)\n",
    "q1_mileage = df['odometer'].quantile(0.25)\n",
    "q1_cylinders = df['cylinders'].quantile(0.25)\n",
    "print('Q1 price:',q1_price)\n",
    "print('Q1 Vehicle age:',q1_vehicle_age)\n",
    "print('Q1 mileage:',q1_mileage)\n",
    "print('Q1 cylinders:',q1_cylinders)"
   ]
  },
  {
   "cell_type": "code",
   "execution_count": 41,
   "metadata": {},
   "outputs": [
    {
     "name": "stdout",
     "output_type": "stream",
     "text": [
      "Q3 price: 16839.0\n",
      "Q3 Vehicle age: 12.0\n",
      "Q3 mileage: 149025.0\n",
      "Q3 cylinders: 8.0\n"
     ]
    }
   ],
   "source": [
    "# Determine the upper limits for outliers\n",
    "q3_price = df['price'].quantile(0.75)\n",
    "q3_vehicle_age = df['vehicle_age'].quantile(0.75)\n",
    "q3_mileage = df['odometer'].quantile(0.75)\n",
    "q3_cylinders = df['cylinders'].quantile(0.75)\n",
    "print('Q3 price:',q3_price)\n",
    "print('Q3 Vehicle age:',q3_vehicle_age)\n",
    "print('Q3 mileage:',q3_mileage)\n",
    "print('Q3 cylinders:',q3_cylinders)"
   ]
  },
  {
   "cell_type": "code",
   "execution_count": 42,
   "metadata": {},
   "outputs": [],
   "source": [
    "# Deriving the inter-quartile ranges for each column\n",
    "IQR_price = q3_price - q1_price\n",
    "IQR_vehicle_age = q3_vehicle_age - q1_vehicle_age\n",
    "IQR_mileage = q3_mileage - q1_mileage\n",
    "IQR_cylinders = q3_cylinders - q1_cylinders"
   ]
  },
  {
   "cell_type": "code",
   "execution_count": 43,
   "metadata": {},
   "outputs": [
    {
     "name": "stdout",
     "output_type": "stream",
     "text": [
      "Theoretic Q3 limit: 24.0\n"
     ]
    },
    {
     "data": {
      "image/png": "[encoded data removed]",
      "text/plain": [
       "<Figure size 432x288 with 1 Axes>"
      ]
     },
     "metadata": {
      "needs_background": "light"
     },
     "output_type": "display_data"
    }
   ],
   "source": [
    "# Vehicle age boxplot with limits\n",
    "plt.ylim(-10,40)\n",
    "df.boxplot('vehicle_age', figsize=(20,10))\n",
    "plt.hlines(y=[q1_vehicle_age - 1.5*IQR_vehicle_age, q3_vehicle_age + 1.5*IQR_vehicle_age], xmin=0.9, xmax=1.1, color='red')\n",
    "theoretic_age_q3 = q3_vehicle_age + 1.5*IQR_vehicle_age\n",
    "print(f'Theoretic Q3 limit: {theoretic_age_q3}')"
   ]
  },
  {
   "cell_type": "code",
   "execution_count": 44,
   "metadata": {},
   "outputs": [
    {
     "name": "stdout",
     "output_type": "stream",
     "text": [
      "Theoretic Q3 limit: 34597.5\n"
     ]
    },
    {
     "data": {
      "image/png": "[encoded data removed]",
      "text/plain": [
       "<Figure size 432x288 with 1 Axes>"
      ]
     },
     "metadata": {
      "needs_background": "light"
     },
     "output_type": "display_data"
    }
   ],
   "source": [
    "# Price boxplot with limits\n",
    "\n",
    "plt.ylim(-20000,100000)\n",
    "df.boxplot('price', figsize=(20,10))\n",
    "plt.hlines(y=[q1_price - 1.5*IQR_price, q3_price + 1.5*IQR_price], xmin=0.9, xmax=1.1, color='red')\n",
    "theoretic_price_q3 = q3_price + 1.5*IQR_price\n",
    "print(f'Theoretic Q3 limit: {theoretic_price_q3}')"
   ]
  },
  {
   "cell_type": "code",
   "execution_count": 45,
   "metadata": {
    "scrolled": false
   },
   "outputs": [
    {
     "name": "stdout",
     "output_type": "stream",
     "text": [
      "Theoretic Q3 limit: 259492.5\n"
     ]
    },
    {
     "data": {
      "image/png": "[encoded data removed]",
      "text/plain": [
       "<Figure size 432x288 with 1 Axes>"
      ]
     },
     "metadata": {
      "needs_background": "light"
     },
     "output_type": "display_data"
    }
   ],
   "source": [
    "# Odometer box plot with limits\n",
    "plt.ylim(-50000,300000)\n",
    "df.boxplot('odometer', figsize=(20,10))\n",
    "plt.hlines(y=[q1_mileage - 1.5*IQR_mileage, q3_mileage + 1.5*IQR_mileage], xmin=0.9, xmax=1.1, color='red')\n",
    "theoretic_mileage_q3 = q3_mileage + 1.5*IQR_mileage\n",
    "print(f'Theoretic Q3 limit: {theoretic_mileage_q3}')"
   ]
  },
  {
   "cell_type": "code",
   "execution_count": 46,
   "metadata": {},
   "outputs": [
    {
     "name": "stdout",
     "output_type": "stream",
     "text": [
      "Theoretic Q3 limit: 14.0\n"
     ]
    },
    {
     "data": {
      "image/png": "[encoded data removed]",
      "text/plain": [
       "<Figure size 1440x720 with 1 Axes>"
      ]
     },
     "metadata": {
      "needs_background": "light"
     },
     "output_type": "display_data"
    }
   ],
   "source": [
    "# Cylinder box plot with limits\n",
    "df.boxplot('cylinders', figsize=(20,10))\n",
    "plt.hlines(y=[q1_cylinders - 1.5*IQR_cylinders, q3_cylinders + 1.5*IQR_cylinders], xmin=0.9, xmax=1.1, color='red')\n",
    "theoretic_cylinder_q3 = q3_cylinders + 1.5*IQR_cylinders\n",
    "print(f'Theoretic Q3 limit: {theoretic_cylinder_q3}')"
   ]
  },
  {
   "cell_type": "code",
   "execution_count": 47,
   "metadata": {},
   "outputs": [],
   "source": [
    "# Store data without outliers in a separate DataFrame\n",
    "df_filtered = df.loc[:,['cylinders','odometer','price', 'vehicle_age']]\n",
    "df_filtered['cylinders'] = df_filtered['cylinders'][df_filtered['cylinders'] < theoretic_cylinder_q3]\n",
    "df_filtered['odometer'] = df_filtered['odometer'][df_filtered['odometer'] < theoretic_mileage_q3]\n",
    "df_filtered['price'] = df_filtered['price'][df_filtered['price'] < theoretic_price_q3]\n",
    "df_filtered['vehicle_age'] = df_filtered['vehicle_age'][df_filtered['vehicle_age'] < theoretic_age_q3]"
   ]
  },
  {
   "cell_type": "markdown",
   "metadata": {},
   "source": [
    "<font color='green'><b><u> Reviewer Comment. v.1 </u></b></font>\n",
    "\n",
    "<div class=\"alert alert-success\" >\n",
    "    \n",
    "**Success:** Each column was examined in detail, also good that IQR methos is used to study outliers!\n",
    "\n",
    "\n",
    "</div>    \n",
    "<font color='orange'><b><u> Reviewer Comment. v. 1</u></b></font>\n",
    "\n",
    "<div class=\"alert alert-warning\" >\n",
    "    \n",
    "**Remark:** \n",
    "    \n",
    "Also it would be better to automate the way of plotting data, because it can speed up our work:) In this case we could make it with the use of `for`, as example:\n",
    "    \n",
    "    `for i in ['price', 'vehicle_age', 'odometer']:\n",
    "          data.boxplot('i')\n",
    "          plt.show() `\n",
    "</div>"
   ]
  },
  {
   "cell_type": "markdown",
   "metadata": {},
   "source": [
    "## Study core parameters without outliers"
   ]
  },
  {
   "cell_type": "markdown",
   "metadata": {},
   "source": [
    "Now we can use the filtered data to make new plots and compare with the earlier ones (that included outliers)."
   ]
  },
  {
   "cell_type": "code",
   "execution_count": 48,
   "metadata": {
    "scrolled": true
   },
   "outputs": [
    {
     "data": {
      "text/plain": [
       "<AxesSubplot:>"
      ]
     },
     "execution_count": 48,
     "metadata": {},
     "output_type": "execute_result"
    },
    {
     "data": {
      "image/png": "[encoded data removed]",
      "text/plain": [
       "<Figure size 1440x720 with 1 Axes>"
      ]
     },
     "metadata": {
      "needs_background": "light"
     },
     "output_type": "display_data"
    }
   ],
   "source": [
    "df_filtered.boxplot('cylinders', figsize=(20,10))"
   ]
  },
  {
   "cell_type": "markdown",
   "metadata": {},
   "source": [
    "So from the `cylinders` plot, the data seems quite straight forward. We have a median of 6 cylinders and most values falling within the whiskers."
   ]
  },
  {
   "cell_type": "code",
   "execution_count": 49,
   "metadata": {
    "scrolled": true
   },
   "outputs": [
    {
     "data": {
      "text/plain": [
       "<AxesSubplot:>"
      ]
     },
     "execution_count": 49,
     "metadata": {},
     "output_type": "execute_result"
    },
    {
     "data": {
      "image/png": "[encoded data removed]",
      "text/plain": [
       "<Figure size 1440x720 with 1 Axes>"
      ]
     },
     "metadata": {
      "needs_background": "light"
     },
     "output_type": "display_data"
    }
   ],
   "source": [
    "df_filtered.boxplot('odometer', figsize=(20,10))"
   ]
  },
  {
   "cell_type": "markdown",
   "metadata": {},
   "source": [
    "From the `odometer` plot, we have identified the border for outliers to be just above 250000. The median is at 12000."
   ]
  },
  {
   "cell_type": "code",
   "execution_count": 50,
   "metadata": {
    "scrolled": true
   },
   "outputs": [
    {
     "data": {
      "text/plain": [
       "<AxesSubplot:>"
      ]
     },
     "execution_count": 50,
     "metadata": {},
     "output_type": "execute_result"
    },
    {
     "data": {
      "image/png": "[encoded data removed]",
      "text/plain": [
       "<Figure size 1440x720 with 1 Axes>"
      ]
     },
     "metadata": {
      "needs_background": "light"
     },
     "output_type": "display_data"
    }
   ],
   "source": [
    "df_filtered.boxplot('price', figsize=(20,10))"
   ]
  },
  {
   "cell_type": "markdown",
   "metadata": {},
   "source": [
    "From the `price` plot, 35,000 seems to be the limit for normal values with a median value of about 9,000. The lower limit coincides with 0."
   ]
  },
  {
   "cell_type": "code",
   "execution_count": 51,
   "metadata": {
    "scrolled": true
   },
   "outputs": [
    {
     "data": {
      "text/plain": [
       "<AxesSubplot:>"
      ]
     },
     "execution_count": 51,
     "metadata": {},
     "output_type": "execute_result"
    },
    {
     "data": {
      "image/png": "[encoded data removed]",
      "text/plain": [
       "<Figure size 1440x720 with 1 Axes>"
      ]
     },
     "metadata": {
      "needs_background": "light"
     },
     "output_type": "display_data"
    }
   ],
   "source": [
    "df_filtered.boxplot('vehicle_age', figsize=(20,10))"
   ]
  },
  {
   "cell_type": "markdown",
   "metadata": {},
   "source": [
    "Form the `vehicle_age` plot, the upper limit for normal values is close to 30 (about 28) while the median age is 7. Seems like there are some pretty old cars here."
   ]
  },
  {
   "cell_type": "markdown",
   "metadata": {},
   "source": [
    "<font color='#32cd32'><b><u> Reviewer Comment. v.1 </u></b></font>\n",
    "\n",
    "<div class=\"alert alert-success\" >\n",
    "    \n",
    "**Success:**  Agree with your findings above!\n",
    "</div>\n",
    "\n",
    "\n",
    "\n",
    "<font color='#ffa500'><b><u> Reviewer Comment. v. 1 </u></b></font>\n",
    "\n",
    "<div class=\"alert alert-warning\" >\n",
    "    \n",
    "**Remark:**\n",
    "It'd be better to describe in detail, what outliers were detected, and how we preprocess them in the **intermidiate conclusion** before th next step like:\n",
    "    \n",
    "    Conclusion: After cleaning the data, we have observed ..\n",
    "</div> "
   ]
  },
  {
   "cell_type": "markdown",
   "metadata": {},
   "source": [
    "## Ads lifetime\n",
    "\n",
    "Let's study how many days advertisements were displayed (`days_listed`), calculate the mean and median, describe the typical lifetime of an ad and determine when ads were removed quickly, and when they were listed for an abnormally long time."
   ]
  },
  {
   "cell_type": "code",
   "execution_count": 52,
   "metadata": {
    "scrolled": true
   },
   "outputs": [
    {
     "name": "stdout",
     "output_type": "stream",
     "text": [
      "Days Listed Mean : 39.55475982532751\n",
      "Days Listed Median : 33.0\n"
     ]
    },
    {
     "data": {
      "image/png": "[encoded data removed]",
      "text/plain": [
       "<Figure size 720x360 with 1 Axes>"
      ]
     },
     "metadata": {
      "needs_background": "light"
     },
     "output_type": "display_data"
    }
   ],
   "source": [
    "df['days_listed'].hist(bins=100, figsize= (10,5))\n",
    "days_mean = df['days_listed'].mean()\n",
    "days_median = df['days_listed'].median()\n",
    "print(f'Days Listed Mean : {days_mean}')\n",
    "print(f'Days Listed Median : {days_median}')"
   ]
  },
  {
   "cell_type": "code",
   "execution_count": 53,
   "metadata": {
    "scrolled": true
   },
   "outputs": [
    {
     "data": {
      "text/plain": [
       "<AxesSubplot:>"
      ]
     },
     "execution_count": 53,
     "metadata": {},
     "output_type": "execute_result"
    },
    {
     "data": {
      "image/png": "[encoded data removed]",
      "text/plain": [
       "<Figure size 1440x720 with 1 Axes>"
      ]
     },
     "metadata": {
      "needs_background": "light"
     },
     "output_type": "display_data"
    }
   ],
   "source": [
    "df.boxplot('days_listed', figsize = (20,10))"
   ]
  },
  {
   "cell_type": "markdown",
   "metadata": {},
   "source": [
    "From our analysis, we have been able to see that the average time an ad stayed on the site was for about 40 days. Some ads were left on the site for over 250 days which seems abnormally long. Regular ads are left for at most 105 days. And some ads didn't stay up for up to 1 day."
   ]
  },
  {
   "cell_type": "markdown",
   "metadata": {},
   "source": [
    "<font color='green'><b><u> Reviewer Comment. v.1 </u></b></font>\n",
    "\n",
    "<div class=\"alert alert-success\" >\n",
    "    \n",
    "**Success:** Good findings, agree with your observations! Also great that `.boxplot()` was also used above!\n",
    "</div>"
   ]
  },
  {
   "cell_type": "markdown",
   "metadata": {},
   "source": [
    "## Average price per each type of vehicle"
   ]
  },
  {
   "cell_type": "markdown",
   "metadata": {},
   "source": [
    "Let's analyze the number of ads and the average price for each type of vehicle and plot a graph showing the dependence of the number of ads on the vehicle type then select the two types with the greatest number of ads."
   ]
  },
  {
   "cell_type": "code",
   "execution_count": 54,
   "metadata": {
    "scrolled": true
   },
   "outputs": [
    {
     "data": {
      "text/html": [
       "<div>\n",
       "<style scoped>\n",
       "    .dataframe tbody tr th:only-of-type {\n",
       "        vertical-align: middle;\n",
       "    }\n",
       "\n",
       "    .dataframe tbody tr th {\n",
       "        vertical-align: top;\n",
       "    }\n",
       "\n",
       "    .dataframe thead th {\n",
       "        text-align: right;\n",
       "    }\n",
       "</style>\n",
       "<table border=\"1\" class=\"dataframe\">\n",
       "  <thead>\n",
       "    <tr style=\"text-align: right;\">\n",
       "      <th></th>\n",
       "      <th>count</th>\n",
       "      <th>mean</th>\n",
       "      <th>median</th>\n",
       "    </tr>\n",
       "    <tr>\n",
       "      <th>type</th>\n",
       "      <th></th>\n",
       "      <th></th>\n",
       "      <th></th>\n",
       "    </tr>\n",
       "  </thead>\n",
       "  <tbody>\n",
       "    <tr>\n",
       "      <th>SUV</th>\n",
       "      <td>12405.0</td>\n",
       "      <td>11149.400000</td>\n",
       "      <td>8900.0</td>\n",
       "    </tr>\n",
       "    <tr>\n",
       "      <th>bus</th>\n",
       "      <td>24.0</td>\n",
       "      <td>17135.666667</td>\n",
       "      <td>10500.0</td>\n",
       "    </tr>\n",
       "    <tr>\n",
       "      <th>convertible</th>\n",
       "      <td>446.0</td>\n",
       "      <td>14575.881166</td>\n",
       "      <td>12250.0</td>\n",
       "    </tr>\n",
       "    <tr>\n",
       "      <th>coupe</th>\n",
       "      <td>2303.0</td>\n",
       "      <td>14353.442901</td>\n",
       "      <td>12950.0</td>\n",
       "    </tr>\n",
       "    <tr>\n",
       "      <th>hatchback</th>\n",
       "      <td>1047.0</td>\n",
       "      <td>6868.513849</td>\n",
       "      <td>5980.0</td>\n",
       "    </tr>\n",
       "    <tr>\n",
       "      <th>mini-van</th>\n",
       "      <td>1161.0</td>\n",
       "      <td>8193.177433</td>\n",
       "      <td>6495.0</td>\n",
       "    </tr>\n",
       "    <tr>\n",
       "      <th>offroad</th>\n",
       "      <td>214.0</td>\n",
       "      <td>14292.294393</td>\n",
       "      <td>11650.0</td>\n",
       "    </tr>\n",
       "    <tr>\n",
       "      <th>other</th>\n",
       "      <td>256.0</td>\n",
       "      <td>10989.714844</td>\n",
       "      <td>8995.0</td>\n",
       "    </tr>\n",
       "    <tr>\n",
       "      <th>pickup</th>\n",
       "      <td>6988.0</td>\n",
       "      <td>16057.410418</td>\n",
       "      <td>14200.0</td>\n",
       "    </tr>\n",
       "    <tr>\n",
       "      <th>sedan</th>\n",
       "      <td>12154.0</td>\n",
       "      <td>6965.358647</td>\n",
       "      <td>5995.0</td>\n",
       "    </tr>\n",
       "    <tr>\n",
       "      <th>truck</th>\n",
       "      <td>12353.0</td>\n",
       "      <td>16734.894924</td>\n",
       "      <td>14995.0</td>\n",
       "    </tr>\n",
       "    <tr>\n",
       "      <th>van</th>\n",
       "      <td>633.0</td>\n",
       "      <td>10546.941548</td>\n",
       "      <td>7990.0</td>\n",
       "    </tr>\n",
       "    <tr>\n",
       "      <th>wagon</th>\n",
       "      <td>1541.0</td>\n",
       "      <td>9088.134328</td>\n",
       "      <td>7900.0</td>\n",
       "    </tr>\n",
       "  </tbody>\n",
       "</table>\n",
       "</div>"
      ],
      "text/plain": [
       "               count          mean   median\n",
       "type                                       \n",
       "SUV          12405.0  11149.400000   8900.0\n",
       "bus             24.0  17135.666667  10500.0\n",
       "convertible    446.0  14575.881166  12250.0\n",
       "coupe         2303.0  14353.442901  12950.0\n",
       "hatchback     1047.0   6868.513849   5980.0\n",
       "mini-van      1161.0   8193.177433   6495.0\n",
       "offroad        214.0  14292.294393  11650.0\n",
       "other          256.0  10989.714844   8995.0\n",
       "pickup        6988.0  16057.410418  14200.0\n",
       "sedan        12154.0   6965.358647   5995.0\n",
       "truck        12353.0  16734.894924  14995.0\n",
       "van            633.0  10546.941548   7990.0\n",
       "wagon         1541.0   9088.134328   7900.0"
      ]
     },
     "metadata": {},
     "output_type": "display_data"
    },
    {
     "data": {
      "text/html": [
       "<div>\n",
       "<style scoped>\n",
       "    .dataframe tbody tr th:only-of-type {\n",
       "        vertical-align: middle;\n",
       "    }\n",
       "\n",
       "    .dataframe tbody tr th {\n",
       "        vertical-align: top;\n",
       "    }\n",
       "\n",
       "    .dataframe thead th {\n",
       "        text-align: right;\n",
       "    }\n",
       "</style>\n",
       "<table border=\"1\" class=\"dataframe\">\n",
       "  <thead>\n",
       "    <tr style=\"text-align: right;\">\n",
       "      <th></th>\n",
       "      <th>type</th>\n",
       "      <th>count</th>\n",
       "    </tr>\n",
       "  </thead>\n",
       "  <tbody>\n",
       "    <tr>\n",
       "      <th>0</th>\n",
       "      <td>SUV</td>\n",
       "      <td>12405</td>\n",
       "    </tr>\n",
       "    <tr>\n",
       "      <th>1</th>\n",
       "      <td>bus</td>\n",
       "      <td>24</td>\n",
       "    </tr>\n",
       "    <tr>\n",
       "      <th>2</th>\n",
       "      <td>convertible</td>\n",
       "      <td>446</td>\n",
       "    </tr>\n",
       "    <tr>\n",
       "      <th>3</th>\n",
       "      <td>coupe</td>\n",
       "      <td>2303</td>\n",
       "    </tr>\n",
       "    <tr>\n",
       "      <th>4</th>\n",
       "      <td>hatchback</td>\n",
       "      <td>1047</td>\n",
       "    </tr>\n",
       "    <tr>\n",
       "      <th>5</th>\n",
       "      <td>mini-van</td>\n",
       "      <td>1161</td>\n",
       "    </tr>\n",
       "    <tr>\n",
       "      <th>6</th>\n",
       "      <td>offroad</td>\n",
       "      <td>214</td>\n",
       "    </tr>\n",
       "    <tr>\n",
       "      <th>7</th>\n",
       "      <td>other</td>\n",
       "      <td>256</td>\n",
       "    </tr>\n",
       "    <tr>\n",
       "      <th>8</th>\n",
       "      <td>pickup</td>\n",
       "      <td>6988</td>\n",
       "    </tr>\n",
       "    <tr>\n",
       "      <th>9</th>\n",
       "      <td>sedan</td>\n",
       "      <td>12154</td>\n",
       "    </tr>\n",
       "    <tr>\n",
       "      <th>10</th>\n",
       "      <td>truck</td>\n",
       "      <td>12353</td>\n",
       "    </tr>\n",
       "    <tr>\n",
       "      <th>11</th>\n",
       "      <td>van</td>\n",
       "      <td>633</td>\n",
       "    </tr>\n",
       "    <tr>\n",
       "      <th>12</th>\n",
       "      <td>wagon</td>\n",
       "      <td>1541</td>\n",
       "    </tr>\n",
       "  </tbody>\n",
       "</table>\n",
       "</div>"
      ],
      "text/plain": [
       "           type  count\n",
       "0           SUV  12405\n",
       "1           bus     24\n",
       "2   convertible    446\n",
       "3         coupe   2303\n",
       "4     hatchback   1047\n",
       "5      mini-van   1161\n",
       "6       offroad    214\n",
       "7         other    256\n",
       "8        pickup   6988\n",
       "9         sedan  12154\n",
       "10        truck  12353\n",
       "11          van    633\n",
       "12        wagon   1541"
      ]
     },
     "metadata": {},
     "output_type": "display_data"
    },
    {
     "data": {
      "text/html": [
       "<div>\n",
       "<style scoped>\n",
       "    .dataframe tbody tr th:only-of-type {\n",
       "        vertical-align: middle;\n",
       "    }\n",
       "\n",
       "    .dataframe tbody tr th {\n",
       "        vertical-align: top;\n",
       "    }\n",
       "\n",
       "    .dataframe thead th {\n",
       "        text-align: right;\n",
       "    }\n",
       "</style>\n",
       "<table border=\"1\" class=\"dataframe\">\n",
       "  <thead>\n",
       "    <tr style=\"text-align: right;\">\n",
       "      <th></th>\n",
       "      <th>type</th>\n",
       "      <th>count</th>\n",
       "    </tr>\n",
       "  </thead>\n",
       "  <tbody>\n",
       "    <tr>\n",
       "      <th>0</th>\n",
       "      <td>SUV</td>\n",
       "      <td>12405</td>\n",
       "    </tr>\n",
       "    <tr>\n",
       "      <th>10</th>\n",
       "      <td>truck</td>\n",
       "      <td>12353</td>\n",
       "    </tr>\n",
       "    <tr>\n",
       "      <th>9</th>\n",
       "      <td>sedan</td>\n",
       "      <td>12154</td>\n",
       "    </tr>\n",
       "    <tr>\n",
       "      <th>8</th>\n",
       "      <td>pickup</td>\n",
       "      <td>6988</td>\n",
       "    </tr>\n",
       "    <tr>\n",
       "      <th>3</th>\n",
       "      <td>coupe</td>\n",
       "      <td>2303</td>\n",
       "    </tr>\n",
       "    <tr>\n",
       "      <th>12</th>\n",
       "      <td>wagon</td>\n",
       "      <td>1541</td>\n",
       "    </tr>\n",
       "    <tr>\n",
       "      <th>5</th>\n",
       "      <td>mini-van</td>\n",
       "      <td>1161</td>\n",
       "    </tr>\n",
       "    <tr>\n",
       "      <th>4</th>\n",
       "      <td>hatchback</td>\n",
       "      <td>1047</td>\n",
       "    </tr>\n",
       "    <tr>\n",
       "      <th>11</th>\n",
       "      <td>van</td>\n",
       "      <td>633</td>\n",
       "    </tr>\n",
       "    <tr>\n",
       "      <th>2</th>\n",
       "      <td>convertible</td>\n",
       "      <td>446</td>\n",
       "    </tr>\n",
       "    <tr>\n",
       "      <th>7</th>\n",
       "      <td>other</td>\n",
       "      <td>256</td>\n",
       "    </tr>\n",
       "    <tr>\n",
       "      <th>6</th>\n",
       "      <td>offroad</td>\n",
       "      <td>214</td>\n",
       "    </tr>\n",
       "    <tr>\n",
       "      <th>1</th>\n",
       "      <td>bus</td>\n",
       "      <td>24</td>\n",
       "    </tr>\n",
       "  </tbody>\n",
       "</table>\n",
       "</div>"
      ],
      "text/plain": [
       "           type  count\n",
       "0           SUV  12405\n",
       "10        truck  12353\n",
       "9         sedan  12154\n",
       "8        pickup   6988\n",
       "3         coupe   2303\n",
       "12        wagon   1541\n",
       "5      mini-van   1161\n",
       "4     hatchback   1047\n",
       "11          van    633\n",
       "2   convertible    446\n",
       "7         other    256\n",
       "6       offroad    214\n",
       "1           bus     24"
      ]
     },
     "metadata": {},
     "output_type": "display_data"
    },
    {
     "data": {
      "image/png": "[encoded data removed]",
      "text/plain": [
       "<Figure size 720x360 with 1 Axes>"
      ]
     },
     "metadata": {
      "needs_background": "light"
     },
     "output_type": "display_data"
    }
   ],
   "source": [
    "ovr_table = df.pivot_table(index='type', values='price', aggfunc=('mean', 'median', 'count'))\n",
    "display(ovr_table)\n",
    "dep_table =  df.pivot_table(index='type', values='price', aggfunc= 'count')\n",
    "dep_table = dep_table.unstack().reset_index().rename(columns={'level_0': 'aggregate_category', 0:'count'}).drop(['aggregate_category'], axis=1)\n",
    "display(dep_table)\n",
    "dep_table.plot(x='type', y='count', kind='scatter', figsize=(10,5))\n",
    "display(dep_table.sort_values(by='count',ascending=False))"
   ]
  },
  {
   "cell_type": "markdown",
   "metadata": {},
   "source": [
    "The first table shows the number of ads and average price for each vehicle type in the `count` and `mean` columns respectively. There seems to be lots of ads for SUVs and trucks. These are the vehicle types with the most ads. As for the dependence of number of ads on vehicle type, we can see that on the "
   ]
  },
  {
   "cell_type": "markdown",
   "metadata": {},
   "source": [
    "\n",
    "<font color='green'><b><u> Reviewer Comment. v.2 </u></b></font>\n",
    "<div class=\"alert alert-success\" >\n",
    "    \n",
    "**Success:** Yes, nice it's correct!\n",
    "</div>\n",
    "\n",
    "\n",
    "<s><font color='red'><b><u> Reviewer Comment. v. 1 </u></b></font>\n",
    "\n",
    "<div class=\"alert alert-danger\" >\n",
    "    \n",
    "**Issues:**\n",
    "    \n",
    "- Pay attention, it is also needed to find **the average price for each type of vehicle**,\n",
    "- And select the two **types** (not models) with the greatest number of ads.\n",
    "    \n",
    "The task is `Analyze the number of ads and the average price for each type of vehicle. Plot a graph showing the dependence of the number of ads on the vehicle type. Select the two types with the greatest number of ads.`\n",
    "    \n",
    "Please, check it and make additional research at this stage. \n",
    "\n",
    "</div>"
   ]
  },
  {
   "cell_type": "markdown",
   "metadata": {},
   "source": [
    "## Price factors"
   ]
  },
  {
   "cell_type": "markdown",
   "metadata": {},
   "source": [
    "What factors impact the price most? Let's take each of the popular types you detected at the previous stage and study whether the price depends on age, mileage, etc."
   ]
  },
  {
   "cell_type": "code",
   "execution_count": 55,
   "metadata": {
    "scrolled": true
   },
   "outputs": [
    {
     "data": {
      "image/png": "[encoded data removed]",
      "text/plain": [
       "<Figure size 1440x720 with 9 Axes>"
      ]
     },
     "metadata": {
      "needs_background": "light"
     },
     "output_type": "display_data"
    }
   ],
   "source": [
    "suv = df.query('type == \"SUV\"')\n",
    "suv_scatter = suv.loc[:,['price','vehicle_age','odometer']]\n",
    "pd.plotting.scatter_matrix(suv_scatter, figsize=(20,10))\n",
    "plt.show()"
   ]
  },
  {
   "cell_type": "code",
   "execution_count": 56,
   "metadata": {
    "scrolled": false
   },
   "outputs": [
    {
     "name": "stdout",
     "output_type": "stream",
     "text": [
      "automatic    11735\n",
      "manual         510\n",
      "other          160\n",
      "Name: transmission, dtype: int64\n"
     ]
    },
    {
     "data": {
      "text/html": [
       "<div>\n",
       "<style scoped>\n",
       "    .dataframe tbody tr th:only-of-type {\n",
       "        vertical-align: middle;\n",
       "    }\n",
       "\n",
       "    .dataframe tbody tr th {\n",
       "        vertical-align: top;\n",
       "    }\n",
       "\n",
       "    .dataframe thead th {\n",
       "        text-align: right;\n",
       "    }\n",
       "</style>\n",
       "<table border=\"1\" class=\"dataframe\">\n",
       "  <thead>\n",
       "    <tr style=\"text-align: right;\">\n",
       "      <th></th>\n",
       "      <th>price</th>\n",
       "    </tr>\n",
       "    <tr>\n",
       "      <th>transmission</th>\n",
       "      <th></th>\n",
       "    </tr>\n",
       "  </thead>\n",
       "  <tbody>\n",
       "    <tr>\n",
       "      <th>automatic</th>\n",
       "      <td>8900</td>\n",
       "    </tr>\n",
       "  </tbody>\n",
       "</table>\n",
       "</div>"
      ],
      "text/plain": [
       "              price\n",
       "transmission       \n",
       "automatic      8900"
      ]
     },
     "metadata": {},
     "output_type": "display_data"
    },
    {
     "data": {
      "text/html": [
       "<div>\n",
       "<style scoped>\n",
       "    .dataframe tbody tr th:only-of-type {\n",
       "        vertical-align: middle;\n",
       "    }\n",
       "\n",
       "    .dataframe tbody tr th {\n",
       "        vertical-align: top;\n",
       "    }\n",
       "\n",
       "    .dataframe thead th {\n",
       "        text-align: right;\n",
       "    }\n",
       "</style>\n",
       "<table border=\"1\" class=\"dataframe\">\n",
       "  <thead>\n",
       "    <tr style=\"text-align: right;\">\n",
       "      <th></th>\n",
       "      <th>price</th>\n",
       "    </tr>\n",
       "    <tr>\n",
       "      <th>transmission</th>\n",
       "      <th></th>\n",
       "    </tr>\n",
       "  </thead>\n",
       "  <tbody>\n",
       "    <tr>\n",
       "      <th>manual</th>\n",
       "      <td>10799</td>\n",
       "    </tr>\n",
       "  </tbody>\n",
       "</table>\n",
       "</div>"
      ],
      "text/plain": [
       "              price\n",
       "transmission       \n",
       "manual        10799"
      ]
     },
     "metadata": {},
     "output_type": "display_data"
    },
    {
     "data": {
      "text/html": [
       "<div>\n",
       "<style scoped>\n",
       "    .dataframe tbody tr th:only-of-type {\n",
       "        vertical-align: middle;\n",
       "    }\n",
       "\n",
       "    .dataframe tbody tr th {\n",
       "        vertical-align: top;\n",
       "    }\n",
       "\n",
       "    .dataframe thead th {\n",
       "        text-align: right;\n",
       "    }\n",
       "</style>\n",
       "<table border=\"1\" class=\"dataframe\">\n",
       "  <thead>\n",
       "    <tr style=\"text-align: right;\">\n",
       "      <th></th>\n",
       "      <th>price</th>\n",
       "    </tr>\n",
       "    <tr>\n",
       "      <th>transmission</th>\n",
       "      <th></th>\n",
       "    </tr>\n",
       "  </thead>\n",
       "  <tbody>\n",
       "    <tr>\n",
       "      <th>other</th>\n",
       "      <td>5987.5</td>\n",
       "    </tr>\n",
       "  </tbody>\n",
       "</table>\n",
       "</div>"
      ],
      "text/plain": [
       "               price\n",
       "transmission        \n",
       "other         5987.5"
      ]
     },
     "metadata": {},
     "output_type": "display_data"
    }
   ],
   "source": [
    "print(suv['transmission'].value_counts())\n",
    "suv_auto = suv.query('transmission == \"automatic\"')\n",
    "suv_manual =suv.query('transmission == \"manual\"')\n",
    "suv_other = suv.query('transmission == \"other\"')\n",
    "suv_auto_plot = suv_auto.pivot_table(index= 'transmission', values = 'price', aggfunc='median')\n",
    "suv_manual_plot = suv_manual.pivot_table(index= 'transmission', values = 'price', aggfunc='median')\n",
    "suv_other_plot = suv_other.pivot_table(index= 'transmission', values = 'price', aggfunc='median')\n",
    "display(suv_auto_plot)\n",
    "display(suv_manual_plot)\n",
    "display(suv_other_plot)"
   ]
  },
  {
   "cell_type": "code",
   "execution_count": 57,
   "metadata": {},
   "outputs": [
    {
     "data": {
      "image/png": "[encoded data removed]",
      "text/plain": [
       "<Figure size 432x288 with 1 Axes>"
      ]
     },
     "metadata": {
      "needs_background": "light"
     },
     "output_type": "display_data"
    }
   ],
   "source": [
    "plt.ylim(-5000, 40000)\n",
    "suv_auto.boxplot('price')\n",
    "plt.show()"
   ]
  },
  {
   "cell_type": "code",
   "execution_count": 58,
   "metadata": {},
   "outputs": [
    {
     "data": {
      "image/png": "[encoded data removed]",
      "text/plain": [
       "<Figure size 432x288 with 1 Axes>"
      ]
     },
     "metadata": {
      "needs_background": "light"
     },
     "output_type": "display_data"
    }
   ],
   "source": [
    "plt.ylim(-5000,40000)\n",
    "suv_manual.boxplot('price')\n",
    "plt.show()"
   ]
  },
  {
   "cell_type": "code",
   "execution_count": 59,
   "metadata": {
    "scrolled": true
   },
   "outputs": [
    {
     "data": {
      "image/png": "[encoded data removed]",
      "text/plain": [
       "<Figure size 432x288 with 1 Axes>"
      ]
     },
     "metadata": {
      "needs_background": "light"
     },
     "output_type": "display_data"
    }
   ],
   "source": [
    "plt.ylim(-5000,40000)\n",
    "suv_other.boxplot('price')\n",
    "plt.show()"
   ]
  },
  {
   "cell_type": "code",
   "execution_count": 60,
   "metadata": {
    "scrolled": true
   },
   "outputs": [
    {
     "name": "stdout",
     "output_type": "stream",
     "text": [
      "unknown    2236\n",
      "black      2220\n",
      "white      1962\n",
      "silver     1558\n",
      "grey       1183\n",
      "blue       1055\n",
      "red         906\n",
      "green       436\n",
      "brown       369\n",
      "custom      308\n",
      "orange       84\n",
      "yellow       49\n",
      "purple       39\n",
      "Name: paint_color, dtype: int64\n",
      "unknown    2236\n",
      "black      2220\n",
      "white      1962\n",
      "silver     1558\n",
      "grey       1183\n",
      "blue       1055\n",
      "red         906\n",
      "green       436\n",
      "brown       369\n",
      "custom      308\n",
      "orange       84\n",
      "Name: paint_color, dtype: int64\n"
     ]
    }
   ],
   "source": [
    "# Filtering color data\n",
    "print(suv['paint_color'].value_counts())\n",
    "color_filtered = suv[(suv['paint_color'] != 'yellow') & (suv['paint_color'] != 'purple')]\n",
    "print(color_filtered['paint_color'].value_counts())"
   ]
  },
  {
   "cell_type": "code",
   "execution_count": 61,
   "metadata": {
    "scrolled": true
   },
   "outputs": [
    {
     "data": {
      "text/html": [
       "<div>\n",
       "<style scoped>\n",
       "    .dataframe tbody tr th:only-of-type {\n",
       "        vertical-align: middle;\n",
       "    }\n",
       "\n",
       "    .dataframe tbody tr th {\n",
       "        vertical-align: top;\n",
       "    }\n",
       "\n",
       "    .dataframe thead th {\n",
       "        text-align: right;\n",
       "    }\n",
       "</style>\n",
       "<table border=\"1\" class=\"dataframe\">\n",
       "  <thead>\n",
       "    <tr style=\"text-align: right;\">\n",
       "      <th></th>\n",
       "      <th>price</th>\n",
       "    </tr>\n",
       "    <tr>\n",
       "      <th>paint_color</th>\n",
       "      <th></th>\n",
       "    </tr>\n",
       "  </thead>\n",
       "  <tbody>\n",
       "    <tr>\n",
       "      <th>black</th>\n",
       "      <td>11500.0</td>\n",
       "    </tr>\n",
       "    <tr>\n",
       "      <th>blue</th>\n",
       "      <td>6950.0</td>\n",
       "    </tr>\n",
       "    <tr>\n",
       "      <th>brown</th>\n",
       "      <td>7200.0</td>\n",
       "    </tr>\n",
       "    <tr>\n",
       "      <th>custom</th>\n",
       "      <td>7995.0</td>\n",
       "    </tr>\n",
       "    <tr>\n",
       "      <th>green</th>\n",
       "      <td>5996.5</td>\n",
       "    </tr>\n",
       "    <tr>\n",
       "      <th>grey</th>\n",
       "      <td>8795.0</td>\n",
       "    </tr>\n",
       "    <tr>\n",
       "      <th>orange</th>\n",
       "      <td>16900.0</td>\n",
       "    </tr>\n",
       "    <tr>\n",
       "      <th>red</th>\n",
       "      <td>7825.0</td>\n",
       "    </tr>\n",
       "    <tr>\n",
       "      <th>silver</th>\n",
       "      <td>8387.5</td>\n",
       "    </tr>\n",
       "    <tr>\n",
       "      <th>unknown</th>\n",
       "      <td>8900.0</td>\n",
       "    </tr>\n",
       "    <tr>\n",
       "      <th>white</th>\n",
       "      <td>9950.0</td>\n",
       "    </tr>\n",
       "  </tbody>\n",
       "</table>\n",
       "</div>"
      ],
      "text/plain": [
       "               price\n",
       "paint_color         \n",
       "black        11500.0\n",
       "blue          6950.0\n",
       "brown         7200.0\n",
       "custom        7995.0\n",
       "green         5996.5\n",
       "grey          8795.0\n",
       "orange       16900.0\n",
       "red           7825.0\n",
       "silver        8387.5\n",
       "unknown       8900.0\n",
       "white         9950.0"
      ]
     },
     "metadata": {},
     "output_type": "display_data"
    },
    {
     "data": {
      "image/png": "[encoded data removed]",
      "text/plain": [
       "<Figure size 432x288 with 1 Axes>"
      ]
     },
     "metadata": {
      "needs_background": "light"
     },
     "output_type": "display_data"
    }
   ],
   "source": [
    "color_plot = color_filtered.pivot_table(index= 'paint_color', values = 'price', aggfunc ='median')\n",
    "color_plot.boxplot('price')\n",
    "display(color_plot)\n",
    "plt.show()"
   ]
  },
  {
   "cell_type": "code",
   "execution_count": 63,
   "metadata": {},
   "outputs": [
    {
     "data": {
      "image/png": "[encoded data removed]",
      "text/plain": [
       "<Figure size 432x288 with 1 Axes>"
      ]
     },
     "metadata": {
      "needs_background": "light"
     },
     "output_type": "display_data"
    }
   ],
   "source": [
    "suv_black = color_filtered.query('paint_color == \"black\"')\n",
    "suv_black.boxplot('price')\n",
    "plt.show()"
   ]
  },
  {
   "cell_type": "code",
   "execution_count": 71,
   "metadata": {},
   "outputs": [
    {
     "data": {
      "image/png": "[encoded data removed]",
      "text/plain": [
       "<Figure size 432x288 with 1 Axes>"
      ]
     },
     "metadata": {
      "needs_background": "light"
     },
     "output_type": "display_data"
    }
   ],
   "source": [
    "suv_blue = color_filtered.query('paint_color == \"blue\"')\n",
    "suv_blue.boxplot('price')\n",
    "plt.show()"
   ]
  },
  {
   "cell_type": "code",
   "execution_count": 70,
   "metadata": {},
   "outputs": [
    {
     "data": {
      "image/png": "[encoded data removed]",
      "text/plain": [
       "<Figure size 432x288 with 1 Axes>"
      ]
     },
     "metadata": {
      "needs_background": "light"
     },
     "output_type": "display_data"
    }
   ],
   "source": [
    "suv_brown = color_filtered.query('paint_color == \"brown\"')\n",
    "suv_brown.boxplot('price')\n",
    "plt.show()"
   ]
  },
  {
   "cell_type": "code",
   "execution_count": 69,
   "metadata": {},
   "outputs": [
    {
     "data": {
      "image/png": "[encoded data removed]",
      "text/plain": [
       "<Figure size 432x288 with 1 Axes>"
      ]
     },
     "metadata": {
      "needs_background": "light"
     },
     "output_type": "display_data"
    }
   ],
   "source": [
    "suv_custom = color_filtered.query('paint_color == \"custom\"')\n",
    "suv_custom.boxplot('price')\n",
    "plt.show()"
   ]
  },
  {
   "cell_type": "code",
   "execution_count": 68,
   "metadata": {},
   "outputs": [
    {
     "data": {
      "image/png": "[encoded data removed]",
      "text/plain": [
       "<Figure size 432x288 with 1 Axes>"
      ]
     },
     "metadata": {
      "needs_background": "light"
     },
     "output_type": "display_data"
    }
   ],
   "source": [
    "suv_green = color_filtered.query('paint_color == \"green\"')\n",
    "suv_green.boxplot('price')\n",
    "plt.show()"
   ]
  },
  {
   "cell_type": "code",
   "execution_count": 67,
   "metadata": {},
   "outputs": [
    {
     "data": {
      "image/png": "[encoded data removed]",
      "text/plain": [
       "<Figure size 432x288 with 1 Axes>"
      ]
     },
     "metadata": {
      "needs_background": "light"
     },
     "output_type": "display_data"
    }
   ],
   "source": [
    "suv_grey = color_filtered.query('paint_color == \"grey\"')\n",
    "suv_grey.boxplot('price')\n",
    "plt.show()"
   ]
  },
  {
   "cell_type": "code",
   "execution_count": 66,
   "metadata": {},
   "outputs": [
    {
     "data": {
      "image/png": "[encoded data removed]",
      "text/plain": [
       "<Figure size 432x288 with 1 Axes>"
      ]
     },
     "metadata": {
      "needs_background": "light"
     },
     "output_type": "display_data"
    }
   ],
   "source": [
    "suv_orange = color_filtered.query('paint_color == \"orange\"')\n",
    "suv_orange.boxplot('price')\n",
    "plt.show()"
   ]
  },
  {
   "cell_type": "code",
   "execution_count": 109,
   "metadata": {},
   "outputs": [
    {
     "data": {
      "image/png": "[encoded data removed]",
      "text/plain": [
       "<Figure size 432x288 with 1 Axes>"
      ]
     },
     "metadata": {
      "needs_background": "light"
     },
     "output_type": "display_data"
    }
   ],
   "source": [
    "plt.ylim(-5000, 50000)\n",
    "suv_red = color_filtered.query('paint_color == \"red\"')\n",
    "suv_red.boxplot('price')\n",
    "plt.show()"
   ]
  },
  {
   "cell_type": "code",
   "execution_count": 108,
   "metadata": {},
   "outputs": [
    {
     "data": {
      "image/png": "[encoded data removed]",
      "text/plain": [
       "<Figure size 432x288 with 1 Axes>"
      ]
     },
     "metadata": {
      "needs_background": "light"
     },
     "output_type": "display_data"
    }
   ],
   "source": [
    "plt.ylim(-5000, 50000)\n",
    "suv_silver = color_filtered.query('paint_color == \"silver\"')\n",
    "suv_silver.boxplot('price')\n",
    "plt.show()"
   ]
  },
  {
   "cell_type": "code",
   "execution_count": 72,
   "metadata": {
    "scrolled": false
   },
   "outputs": [
    {
     "data": {
      "image/png": "[encoded data removed]",
      "text/plain": [
       "<Figure size 1440x720 with 9 Axes>"
      ]
     },
     "metadata": {
      "needs_background": "light"
     },
     "output_type": "display_data"
    }
   ],
   "source": [
    "truck = df.query('type == \"truck\"')\n",
    "truck_scatter = truck.loc[:,['price','vehicle_age','odometer']]\n",
    "pd.plotting.scatter_matrix(truck_scatter, figsize=(20,10))\n",
    "plt.show()"
   ]
  },
  {
   "cell_type": "code",
   "execution_count": 73,
   "metadata": {
    "scrolled": true
   },
   "outputs": [
    {
     "name": "stdout",
     "output_type": "stream",
     "text": [
      "automatic    11703\n",
      "manual         444\n",
      "other          206\n",
      "Name: transmission, dtype: int64\n"
     ]
    },
    {
     "data": {
      "text/html": [
       "<div>\n",
       "<style scoped>\n",
       "    .dataframe tbody tr th:only-of-type {\n",
       "        vertical-align: middle;\n",
       "    }\n",
       "\n",
       "    .dataframe tbody tr th {\n",
       "        vertical-align: top;\n",
       "    }\n",
       "\n",
       "    .dataframe thead th {\n",
       "        text-align: right;\n",
       "    }\n",
       "</style>\n",
       "<table border=\"1\" class=\"dataframe\">\n",
       "  <thead>\n",
       "    <tr style=\"text-align: right;\">\n",
       "      <th></th>\n",
       "      <th>price</th>\n",
       "    </tr>\n",
       "    <tr>\n",
       "      <th>transmission</th>\n",
       "      <th></th>\n",
       "    </tr>\n",
       "  </thead>\n",
       "  <tbody>\n",
       "    <tr>\n",
       "      <th>automatic</th>\n",
       "      <td>15500</td>\n",
       "    </tr>\n",
       "  </tbody>\n",
       "</table>\n",
       "</div>"
      ],
      "text/plain": [
       "              price\n",
       "transmission       \n",
       "automatic     15500"
      ]
     },
     "metadata": {},
     "output_type": "display_data"
    },
    {
     "data": {
      "text/html": [
       "<div>\n",
       "<style scoped>\n",
       "    .dataframe tbody tr th:only-of-type {\n",
       "        vertical-align: middle;\n",
       "    }\n",
       "\n",
       "    .dataframe tbody tr th {\n",
       "        vertical-align: top;\n",
       "    }\n",
       "\n",
       "    .dataframe thead th {\n",
       "        text-align: right;\n",
       "    }\n",
       "</style>\n",
       "<table border=\"1\" class=\"dataframe\">\n",
       "  <thead>\n",
       "    <tr style=\"text-align: right;\">\n",
       "      <th></th>\n",
       "      <th>price</th>\n",
       "    </tr>\n",
       "    <tr>\n",
       "      <th>transmission</th>\n",
       "      <th></th>\n",
       "    </tr>\n",
       "  </thead>\n",
       "  <tbody>\n",
       "    <tr>\n",
       "      <th>manual</th>\n",
       "      <td>7850</td>\n",
       "    </tr>\n",
       "  </tbody>\n",
       "</table>\n",
       "</div>"
      ],
      "text/plain": [
       "              price\n",
       "transmission       \n",
       "manual         7850"
      ]
     },
     "metadata": {},
     "output_type": "display_data"
    },
    {
     "data": {
      "text/html": [
       "<div>\n",
       "<style scoped>\n",
       "    .dataframe tbody tr th:only-of-type {\n",
       "        vertical-align: middle;\n",
       "    }\n",
       "\n",
       "    .dataframe tbody tr th {\n",
       "        vertical-align: top;\n",
       "    }\n",
       "\n",
       "    .dataframe thead th {\n",
       "        text-align: right;\n",
       "    }\n",
       "</style>\n",
       "<table border=\"1\" class=\"dataframe\">\n",
       "  <thead>\n",
       "    <tr style=\"text-align: right;\">\n",
       "      <th></th>\n",
       "      <th>price</th>\n",
       "    </tr>\n",
       "    <tr>\n",
       "      <th>transmission</th>\n",
       "      <th></th>\n",
       "    </tr>\n",
       "  </thead>\n",
       "  <tbody>\n",
       "    <tr>\n",
       "      <th>other</th>\n",
       "      <td>1</td>\n",
       "    </tr>\n",
       "  </tbody>\n",
       "</table>\n",
       "</div>"
      ],
      "text/plain": [
       "              price\n",
       "transmission       \n",
       "other             1"
      ]
     },
     "metadata": {},
     "output_type": "display_data"
    }
   ],
   "source": [
    "print(truck['transmission'].value_counts())\n",
    "truck_auto = truck.query('transmission == \"automatic\"')\n",
    "truck_manual =truck.query('transmission == \"manual\"')\n",
    "truck_other = truck.query('transmission == \"other\"')\n",
    "truck_auto_plot = truck_auto.pivot_table(index= 'transmission', values = 'price', aggfunc='median')\n",
    "truck_manual_plot = truck_manual.pivot_table(index= 'transmission', values = 'price', aggfunc='median')\n",
    "truck_other_plot = truck_other.pivot_table(index= 'transmission', values = 'price', aggfunc='median')\n",
    "display(truck_auto_plot)\n",
    "display(truck_manual_plot)\n",
    "display(truck_other_plot)"
   ]
  },
  {
   "cell_type": "code",
   "execution_count": 80,
   "metadata": {},
   "outputs": [
    {
     "data": {
      "image/png": "[encoded data removed]",
      "text/plain": [
       "<Figure size 432x288 with 1 Axes>"
      ]
     },
     "metadata": {
      "needs_background": "light"
     },
     "output_type": "display_data"
    }
   ],
   "source": [
    "plt.ylim(-5000, 50000)\n",
    "truck_auto.boxplot('price')\n",
    "plt.show()"
   ]
  },
  {
   "cell_type": "code",
   "execution_count": 77,
   "metadata": {},
   "outputs": [
    {
     "data": {
      "image/png": "[encoded data removed]",
      "text/plain": [
       "<Figure size 432x288 with 1 Axes>"
      ]
     },
     "metadata": {
      "needs_background": "light"
     },
     "output_type": "display_data"
    }
   ],
   "source": [
    "plt.ylim(-5000, 40000)\n",
    "truck_manual.boxplot('price')\n",
    "plt.show()"
   ]
  },
  {
   "cell_type": "code",
   "execution_count": 82,
   "metadata": {
    "scrolled": true
   },
   "outputs": [
    {
     "data": {
      "image/png": "[encoded data removed]",
      "text/plain": [
       "<Figure size 432x288 with 1 Axes>"
      ]
     },
     "metadata": {
      "needs_background": "light"
     },
     "output_type": "display_data"
    }
   ],
   "source": [
    "plt.ylim(-5000, 40000)\n",
    "truck_other.boxplot('price')\n",
    "plt.show()"
   ]
  },
  {
   "cell_type": "code",
   "execution_count": 87,
   "metadata": {},
   "outputs": [
    {
     "name": "stdout",
     "output_type": "stream",
     "text": [
      "white      3737\n",
      "unknown    2135\n",
      "black      1581\n",
      "red        1061\n",
      "silver     1020\n",
      "grey        960\n",
      "blue        881\n",
      "custom      316\n",
      "green       278\n",
      "brown       253\n",
      "yellow       67\n",
      "orange       48\n",
      "purple       16\n",
      "Name: paint_color, dtype: int64\n",
      "white      3737\n",
      "unknown    2135\n",
      "black      1581\n",
      "red        1061\n",
      "silver     1020\n",
      "grey        960\n",
      "blue        881\n",
      "custom      316\n",
      "green       278\n",
      "brown       253\n",
      "yellow       67\n",
      "Name: paint_color, dtype: int64\n"
     ]
    }
   ],
   "source": [
    "# Filtering truck color data\n",
    "print(truck['paint_color'].value_counts())\n",
    "tr_color_filtered = truck[(truck['paint_color'] != 'orange') & (truck['paint_color'] != 'purple')]\n",
    "print(tr_color_filtered['paint_color'].value_counts())"
   ]
  },
  {
   "cell_type": "code",
   "execution_count": 88,
   "metadata": {},
   "outputs": [
    {
     "data": {
      "text/html": [
       "<div>\n",
       "<style scoped>\n",
       "    .dataframe tbody tr th:only-of-type {\n",
       "        vertical-align: middle;\n",
       "    }\n",
       "\n",
       "    .dataframe tbody tr th {\n",
       "        vertical-align: top;\n",
       "    }\n",
       "\n",
       "    .dataframe thead th {\n",
       "        text-align: right;\n",
       "    }\n",
       "</style>\n",
       "<table border=\"1\" class=\"dataframe\">\n",
       "  <thead>\n",
       "    <tr style=\"text-align: right;\">\n",
       "      <th></th>\n",
       "      <th>price</th>\n",
       "    </tr>\n",
       "    <tr>\n",
       "      <th>paint_color</th>\n",
       "      <th></th>\n",
       "    </tr>\n",
       "  </thead>\n",
       "  <tbody>\n",
       "    <tr>\n",
       "      <th>black</th>\n",
       "      <td>17980.0</td>\n",
       "    </tr>\n",
       "    <tr>\n",
       "      <th>blue</th>\n",
       "      <td>13995.0</td>\n",
       "    </tr>\n",
       "    <tr>\n",
       "      <th>brown</th>\n",
       "      <td>10949.0</td>\n",
       "    </tr>\n",
       "    <tr>\n",
       "      <th>custom</th>\n",
       "      <td>13694.5</td>\n",
       "    </tr>\n",
       "    <tr>\n",
       "      <th>green</th>\n",
       "      <td>8500.0</td>\n",
       "    </tr>\n",
       "    <tr>\n",
       "      <th>grey</th>\n",
       "      <td>14995.0</td>\n",
       "    </tr>\n",
       "    <tr>\n",
       "      <th>red</th>\n",
       "      <td>12950.0</td>\n",
       "    </tr>\n",
       "    <tr>\n",
       "      <th>silver</th>\n",
       "      <td>14500.0</td>\n",
       "    </tr>\n",
       "    <tr>\n",
       "      <th>unknown</th>\n",
       "      <td>15895.0</td>\n",
       "    </tr>\n",
       "    <tr>\n",
       "      <th>white</th>\n",
       "      <td>15500.0</td>\n",
       "    </tr>\n",
       "    <tr>\n",
       "      <th>yellow</th>\n",
       "      <td>17490.0</td>\n",
       "    </tr>\n",
       "  </tbody>\n",
       "</table>\n",
       "</div>"
      ],
      "text/plain": [
       "               price\n",
       "paint_color         \n",
       "black        17980.0\n",
       "blue         13995.0\n",
       "brown        10949.0\n",
       "custom       13694.5\n",
       "green         8500.0\n",
       "grey         14995.0\n",
       "red          12950.0\n",
       "silver       14500.0\n",
       "unknown      15895.0\n",
       "white        15500.0\n",
       "yellow       17490.0"
      ]
     },
     "metadata": {},
     "output_type": "display_data"
    },
    {
     "data": {
      "image/png": "[encoded data removed]",
      "text/plain": [
       "<Figure size 432x288 with 1 Axes>"
      ]
     },
     "metadata": {
      "needs_background": "light"
     },
     "output_type": "display_data"
    }
   ],
   "source": [
    "tr_color_plot = tr_color_filtered.pivot_table(index= 'paint_color', values = 'price', aggfunc ='median')\n",
    "tr_color_plot.boxplot('price')\n",
    "display(tr_color_plot)\n",
    "plt.show()"
   ]
  },
  {
   "cell_type": "code",
   "execution_count": 107,
   "metadata": {},
   "outputs": [
    {
     "data": {
      "image/png": "[encoded data removed]",
      "text/plain": [
       "<Figure size 432x288 with 1 Axes>"
      ]
     },
     "metadata": {
      "needs_background": "light"
     },
     "output_type": "display_data"
    }
   ],
   "source": [
    "plt.ylim(-5000, 60000)\n",
    "truck_black = tr_color_filtered.query('paint_color == \"black\"')\n",
    "truck_black.boxplot('price')\n",
    "plt.show()"
   ]
  },
  {
   "cell_type": "code",
   "execution_count": 106,
   "metadata": {},
   "outputs": [
    {
     "data": {
      "image/png": "[encoded data removed]",
      "text/plain": [
       "<Figure size 432x288 with 1 Axes>"
      ]
     },
     "metadata": {
      "needs_background": "light"
     },
     "output_type": "display_data"
    }
   ],
   "source": [
    "plt.ylim(-5000, 50000)\n",
    "truck_blue = tr_color_filtered.query('paint_color == \"blue\"')\n",
    "truck_blue.boxplot('price')\n",
    "plt.show()"
   ]
  },
  {
   "cell_type": "code",
   "execution_count": 91,
   "metadata": {},
   "outputs": [
    {
     "data": {
      "image/png": "[encoded data removed]",
      "text/plain": [
       "<Figure size 432x288 with 1 Axes>"
      ]
     },
     "metadata": {
      "needs_background": "light"
     },
     "output_type": "display_data"
    }
   ],
   "source": [
    "truck_brown = tr_color_filtered.query('paint_color == \"brown\"')\n",
    "truck_brown.boxplot('price')\n",
    "plt.show()"
   ]
  },
  {
   "cell_type": "code",
   "execution_count": 92,
   "metadata": {},
   "outputs": [
    {
     "data": {
      "image/png": "[encoded data removed]",
      "text/plain": [
       "<Figure size 432x288 with 1 Axes>"
      ]
     },
     "metadata": {
      "needs_background": "light"
     },
     "output_type": "display_data"
    }
   ],
   "source": [
    "truck_custom = tr_color_filtered.query('paint_color == \"custom\"')\n",
    "truck_custom.boxplot('price')\n",
    "plt.show()"
   ]
  },
  {
   "cell_type": "code",
   "execution_count": 93,
   "metadata": {},
   "outputs": [
    {
     "data": {
      "image/png": "[encoded data removed]",
      "text/plain": [
       "<Figure size 432x288 with 1 Axes>"
      ]
     },
     "metadata": {
      "needs_background": "light"
     },
     "output_type": "display_data"
    }
   ],
   "source": [
    "truck_green = tr_color_filtered.query('paint_color == \"green\"')\n",
    "truck_green.boxplot('price')\n",
    "plt.show()"
   ]
  },
  {
   "cell_type": "code",
   "execution_count": 105,
   "metadata": {},
   "outputs": [
    {
     "data": {
      "image/png": "[encoded data removed]",
      "text/plain": [
       "<Figure size 432x288 with 1 Axes>"
      ]
     },
     "metadata": {
      "needs_background": "light"
     },
     "output_type": "display_data"
    }
   ],
   "source": [
    "plt.ylim(-5000, 50000)\n",
    "truck_grey = tr_color_filtered.query('paint_color == \"grey\"')\n",
    "truck_grey.boxplot('price')\n",
    "plt.show()"
   ]
  },
  {
   "cell_type": "code",
   "execution_count": 104,
   "metadata": {},
   "outputs": [
    {
     "data": {
      "image/png": "[encoded data removed]",
      "text/plain": [
       "<Figure size 432x288 with 1 Axes>"
      ]
     },
     "metadata": {
      "needs_background": "light"
     },
     "output_type": "display_data"
    }
   ],
   "source": [
    "plt.ylim(-5000, 50000)\n",
    "truck_red = tr_color_filtered.query('paint_color == \"red\"')\n",
    "truck_red.boxplot('price')\n",
    "plt.show()"
   ]
  },
  {
   "cell_type": "code",
   "execution_count": 103,
   "metadata": {},
   "outputs": [
    {
     "data": {
      "image/png": "[encoded data removed]",
      "text/plain": [
       "<Figure size 432x288 with 1 Axes>"
      ]
     },
     "metadata": {
      "needs_background": "light"
     },
     "output_type": "display_data"
    }
   ],
   "source": [
    "plt.ylim(-5000, 50000)\n",
    "truck_silver = tr_color_filtered.query('paint_color == \"silver\"')\n",
    "truck_silver.boxplot('price')\n",
    "plt.show()"
   ]
  },
  {
   "cell_type": "code",
   "execution_count": 102,
   "metadata": {},
   "outputs": [
    {
     "data": {
      "image/png": "[encoded data removed]",
      "text/plain": [
       "<Figure size 432x288 with 1 Axes>"
      ]
     },
     "metadata": {
      "needs_background": "light"
     },
     "output_type": "display_data"
    }
   ],
   "source": [
    "plt.ylim(-5000, 50000)\n",
    "truck_white = tr_color_filtered.query('paint_color == \"white\"')\n",
    "truck_white.boxplot('price')\n",
    "plt.show()"
   ]
  },
  {
   "cell_type": "code",
   "execution_count": 99,
   "metadata": {},
   "outputs": [
    {
     "data": {
      "image/png": "[encoded data removed]",
      "text/plain": [
       "<Figure size 432x288 with 1 Axes>"
      ]
     },
     "metadata": {
      "needs_background": "light"
     },
     "output_type": "display_data"
    }
   ],
   "source": [
    "plt.ylim(-500, 75000)\n",
    "truck_yellow = tr_color_filtered.query('paint_color == \"yellow\"')\n",
    "truck_black.boxplot('price')\n",
    "plt.show()"
   ]
  },
  {
   "cell_type": "markdown",
   "metadata": {},
   "source": [
    "Whoosh! That was a long one. But sometimes it pays to be detailed. From our scatter plot for the both vehicle types, we can come to the same conclusion. As the vehicle age increases, the price reduces and same can be said for the mileage.\n",
    "\n",
    "Orange and manual SUV seem to be the most expensive SUV listings.\n",
    "\n",
    "Black and automatic trucks seem to br the most expensive truck listings."
   ]
  },
  {
   "cell_type": "markdown",
   "metadata": {},
   "source": [
    " <font color='#32cd32'><b><u> Reviewer Comment. v. 1</u></b></font>\n",
    "<div class=\"alert alert-success\" >\n",
    "    \n",
    "**Success:**\n",
    " Great that you use `query` and `scatter_matrix`! \n",
    "</div>\n",
    "\n",
    " <font color='orange'><b><u> Reviewer Comment. v. 2</u></b></font>\n",
    "<div class=\"alert alert-warning\" >\n",
    "    \n",
    " \n",
    "**Recommendation for the future:** great that you've plotted chart for the each color \\ transmission type, but it would be better to plot several boxplots on the one figure, for example:\n",
    "    \n",
    "    df_ruck.boxplot(by='paint_color', column=['price'], figsize=(12, 6))\n",
    "    plt.title('Boxplot')\n",
    "    plt.show()\n",
    "    \n",
    "</div>\n",
    "\n",
    "<s><font color='red'><b><u> Reviewer Comment. v. 1 </u></b></font>\n",
    "\n",
    "<div class=\"alert alert-danger\" >\n",
    "    \n",
    "**Issues:**\n",
    "    \n",
    "Please, don't forget that according to the task it's needed:\n",
    "\n",
    "* ` For categorical variables (transmission type and color), plot box-and-whisker charts`\n",
    "\n",
    "* `When analyzing categorical variables, note that the categories must have at least 50 ads`\n",
    "\n",
    "Please, correct this step, I believe you’ll manage!😃\n",
    "\n",
    "</div>"
   ]
  },
  {
   "cell_type": "markdown",
   "metadata": {},
   "source": [
    "## General conclusion\n",
    "\n",
    "In conclusion, this project focused on trying to determine what sells a car. We used a dataset with information on a websute with ads for cars. The dataset came with missing values which we dealt with. Although most missing values were categorical values and as such could not be filled definitively but with place holders. \n",
    "\n",
    "Looking through the data, we noticed a lot of outliers in vehicle age, mileage and number of days ads were listed. These vehicles could be vintage models or limited editions but with this data set, it's impossible to tell.\n",
    "\n",
    "The data was analyzed using different statistical methods and graphs in order to come to an accurate conclusion.\n",
    "\n",
    "After a long look at the data we can confidently say that newer cars with less mileage command a higher price on the market as opposed to older and more traveled cars."
   ]
  },
  {
   "cell_type": "markdown",
   "metadata": {},
   "source": [
    "<font color='green'><b><u> Reviewer Comment. v. 1 </u></b></font>\n",
    "\n",
    "<div class=\"alert alert-success\" >\n",
    "    \n",
    "**Success**: \n",
    "    \n",
    "The overall conclusion is clear, most importantly, it is supported by the revealed facts👌\n",
    "\n",
    "    \n",
    "</div>\n",
    "\n",
    "<font color='#ffa500'><b><u> Reviewer Comment. v.1 </u></b></font>\n",
    "\n",
    "<div class=\"alert alert-warning\" >\n",
    "    \n",
    "**Remark:** \n",
    "    For a real life report it would be great to write **all steps** in a structured way and in detail, because some clients will read your conclusion and make their business desicions based on your work. I would like provide an example:\n",
    "\n",
    "1. **In the data's preparation & processing stage**:\n",
    "    * We observed missing values ..;\n",
    "    * We removed duplicates..\n",
    "    \n",
    "2. **In the exploratory data analysis stage**:\n",
    "    * \n",
    "    \n",
    "3. etc. \n",
    "    \n",
    "</div>"
   ]
  }
 ],
 "metadata": {
  "ExecuteTimeLog": [
   {
    "duration": 828,
    "start_time": "2021-11-16T09:21:11.304Z"
   },
   {
    "duration": 893,
    "start_time": "2021-11-16T09:21:17.728Z"
   },
   {
    "duration": 1150,
    "start_time": "2021-11-16T09:21:29.568Z"
   },
   {
    "duration": 3,
    "start_time": "2021-11-16T09:24:14.495Z"
   },
   {
    "duration": 120,
    "start_time": "2021-11-16T09:24:46.630Z"
   },
   {
    "duration": 3,
    "start_time": "2021-11-16T09:28:27.882Z"
   },
   {
    "duration": 4,
    "start_time": "2021-11-16T09:29:54.281Z"
   },
   {
    "duration": 3,
    "start_time": "2021-11-16T09:30:45.936Z"
   },
   {
    "duration": 4,
    "start_time": "2021-11-16T09:31:06.300Z"
   },
   {
    "duration": 113,
    "start_time": "2021-11-16T09:31:37.208Z"
   },
   {
    "duration": 143,
    "start_time": "2021-11-16T09:31:48.656Z"
   },
   {
    "duration": 98,
    "start_time": "2021-11-16T09:31:55.678Z"
   },
   {
    "duration": 3,
    "start_time": "2021-11-16T09:32:08.535Z"
   },
   {
    "duration": 111,
    "start_time": "2021-11-16T09:32:10.120Z"
   },
   {
    "duration": 3,
    "start_time": "2021-11-16T09:32:15.732Z"
   },
   {
    "duration": 4,
    "start_time": "2021-11-16T09:32:29.423Z"
   },
   {
    "duration": 3,
    "start_time": "2021-11-16T10:03:03.074Z"
   },
   {
    "duration": 3,
    "start_time": "2021-11-16T10:10:01.288Z"
   },
   {
    "duration": 3,
    "start_time": "2021-11-16T10:10:46.923Z"
   },
   {
    "duration": 121,
    "start_time": "2021-11-16T10:37:46.494Z"
   },
   {
    "duration": 125,
    "start_time": "2021-11-16T10:38:20.632Z"
   },
   {
    "duration": 112,
    "start_time": "2021-11-16T10:46:53.001Z"
   },
   {
    "duration": 110,
    "start_time": "2021-11-16T10:48:25.775Z"
   },
   {
    "duration": 3,
    "start_time": "2021-11-16T10:50:18.720Z"
   },
   {
    "duration": 4,
    "start_time": "2021-11-16T10:50:37.649Z"
   },
   {
    "duration": 2,
    "start_time": "2021-11-16T10:50:51.884Z"
   },
   {
    "duration": 3,
    "start_time": "2021-11-16T10:51:56.237Z"
   },
   {
    "duration": 101,
    "start_time": "2021-11-16T10:53:13.791Z"
   },
   {
    "duration": 3,
    "start_time": "2021-11-16T10:55:59.186Z"
   },
   {
    "duration": 3,
    "start_time": "2021-11-16T10:56:10.751Z"
   },
   {
    "duration": 3,
    "start_time": "2021-11-16T10:56:49.038Z"
   },
   {
    "duration": 3,
    "start_time": "2021-11-16T10:56:49.174Z"
   },
   {
    "duration": 4,
    "start_time": "2021-11-16T10:56:49.414Z"
   },
   {
    "duration": 3,
    "start_time": "2021-11-16T10:56:49.680Z"
   },
   {
    "duration": 3,
    "start_time": "2021-11-16T10:56:50.370Z"
   },
   {
    "duration": 114,
    "start_time": "2021-11-16T10:59:34.518Z"
   },
   {
    "duration": 3,
    "start_time": "2021-11-16T11:01:41.201Z"
   },
   {
    "duration": 116,
    "start_time": "2021-11-16T11:01:48.754Z"
   },
   {
    "duration": 3,
    "start_time": "2021-11-16T11:02:16.685Z"
   },
   {
    "duration": 3,
    "start_time": "2021-11-16T11:02:19.479Z"
   },
   {
    "duration": 3,
    "start_time": "2021-11-16T11:02:47.067Z"
   },
   {
    "duration": 3,
    "start_time": "2021-11-16T11:02:49.353Z"
   },
   {
    "duration": 3,
    "start_time": "2021-11-16T11:03:07.835Z"
   },
   {
    "duration": 3,
    "start_time": "2021-11-16T11:03:07.953Z"
   },
   {
    "duration": 112,
    "start_time": "2021-11-16T11:07:52.072Z"
   },
   {
    "duration": 187,
    "start_time": "2021-11-16T11:09:23.468Z"
   },
   {
    "duration": 4,
    "start_time": "2021-11-16T11:10:01.455Z"
   },
   {
    "duration": 3,
    "start_time": "2021-11-16T11:10:05.069Z"
   },
   {
    "duration": 4,
    "start_time": "2021-11-16T11:10:13.376Z"
   },
   {
    "duration": 3,
    "start_time": "2021-11-16T11:10:14.434Z"
   },
   {
    "duration": 3,
    "start_time": "2021-11-16T11:10:22.853Z"
   },
   {
    "duration": 4,
    "start_time": "2021-11-16T11:27:29.279Z"
   },
   {
    "duration": 4,
    "start_time": "2021-11-16T11:29:08.919Z"
   },
   {
    "duration": 118,
    "start_time": "2021-11-16T11:29:46.703Z"
   },
   {
    "duration": 437,
    "start_time": "2021-11-16T11:36:02.181Z"
   },
   {
    "duration": 157,
    "start_time": "2021-11-16T11:36:14.388Z"
   },
   {
    "duration": 207,
    "start_time": "2021-11-16T11:47:15.898Z"
   },
   {
    "duration": 3,
    "start_time": "2021-11-16T11:53:52.092Z"
   },
   {
    "duration": 3,
    "start_time": "2021-11-16T11:53:52.236Z"
   },
   {
    "duration": 3,
    "start_time": "2021-11-16T11:59:12.005Z"
   },
   {
    "duration": 112,
    "start_time": "2021-11-16T12:00:33.446Z"
   },
   {
    "duration": 3,
    "start_time": "2021-11-16T12:02:14.453Z"
   },
   {
    "duration": 3,
    "start_time": "2021-11-16T12:02:39.512Z"
   },
   {
    "duration": 106,
    "start_time": "2021-11-16T12:03:03.460Z"
   },
   {
    "duration": 1299,
    "start_time": "2022-03-22T22:39:16.949Z"
   },
   {
    "duration": 88,
    "start_time": "2022-03-22T22:39:38.451Z"
   },
   {
    "duration": 15,
    "start_time": "2022-03-22T22:40:12.961Z"
   },
   {
    "duration": 24,
    "start_time": "2022-03-22T22:40:18.317Z"
   },
   {
    "duration": 12,
    "start_time": "2022-03-22T22:40:43.326Z"
   },
   {
    "duration": 23,
    "start_time": "2022-03-22T22:40:53.319Z"
   },
   {
    "duration": 8,
    "start_time": "2022-03-22T22:41:18.778Z"
   },
   {
    "duration": 498,
    "start_time": "2022-04-02T14:16:23.069Z"
   },
   {
    "duration": 113,
    "start_time": "2022-04-02T14:16:30.635Z"
   },
   {
    "duration": 95,
    "start_time": "2022-04-02T14:16:44.449Z"
   },
   {
    "duration": 26,
    "start_time": "2022-04-02T14:16:52.954Z"
   },
   {
    "duration": 11,
    "start_time": "2022-04-02T14:17:28.569Z"
   },
   {
    "duration": 165,
    "start_time": "2022-04-02T14:25:14.077Z"
   },
   {
    "duration": 139,
    "start_time": "2022-04-02T14:25:20.199Z"
   },
   {
    "duration": 36,
    "start_time": "2022-04-02T14:25:25.971Z"
   },
   {
    "duration": 30,
    "start_time": "2022-04-02T14:25:50.235Z"
   },
   {
    "duration": 11,
    "start_time": "2022-04-02T14:28:31.838Z"
   },
   {
    "duration": 32,
    "start_time": "2022-04-02T14:28:54.430Z"
   },
   {
    "duration": 21,
    "start_time": "2022-04-02T14:34:11.189Z"
   },
   {
    "duration": 5,
    "start_time": "2022-04-02T14:34:36.187Z"
   },
   {
    "duration": 35,
    "start_time": "2022-04-02T14:34:46.280Z"
   },
   {
    "duration": 4,
    "start_time": "2022-04-02T14:36:13.236Z"
   },
   {
    "duration": 493,
    "start_time": "2022-04-02T14:36:26.541Z"
   },
   {
    "duration": 8,
    "start_time": "2022-04-02T14:36:48.432Z"
   },
   {
    "duration": 7,
    "start_time": "2022-04-02T14:37:51.029Z"
   },
   {
    "duration": 50,
    "start_time": "2022-04-02T14:38:43.274Z"
   },
   {
    "duration": 40,
    "start_time": "2022-04-02T14:39:01.860Z"
   },
   {
    "duration": 14,
    "start_time": "2022-04-02T14:42:14.169Z"
   },
   {
    "duration": 46,
    "start_time": "2022-04-02T14:42:37.680Z"
   },
   {
    "duration": 41,
    "start_time": "2022-04-02T14:43:20.261Z"
   },
   {
    "duration": 130,
    "start_time": "2022-04-02T14:43:52.171Z"
   },
   {
    "duration": 50,
    "start_time": "2022-04-02T14:44:00.173Z"
   },
   {
    "duration": 146,
    "start_time": "2022-04-02T14:45:46.713Z"
   },
   {
    "duration": 25,
    "start_time": "2022-04-02T14:46:00.945Z"
   },
   {
    "duration": 65,
    "start_time": "2022-04-02T14:46:58.537Z"
   },
   {
    "duration": 47,
    "start_time": "2022-04-02T14:48:33.049Z"
   },
   {
    "duration": 16,
    "start_time": "2022-04-02T14:54:07.810Z"
   },
   {
    "duration": 37,
    "start_time": "2022-04-02T14:54:56.233Z"
   },
   {
    "duration": 36,
    "start_time": "2022-04-02T14:57:33.689Z"
   },
   {
    "duration": 38,
    "start_time": "2022-04-02T14:57:53.217Z"
   },
   {
    "duration": 17,
    "start_time": "2022-04-02T14:58:41.606Z"
   },
   {
    "duration": 134,
    "start_time": "2022-04-02T15:00:14.571Z"
   },
   {
    "duration": 40,
    "start_time": "2022-04-02T15:00:52.640Z"
   },
   {
    "duration": 24,
    "start_time": "2022-04-02T15:02:09.531Z"
   },
   {
    "duration": 38,
    "start_time": "2022-04-02T15:02:32.270Z"
   },
   {
    "duration": 36,
    "start_time": "2022-04-02T15:02:45.572Z"
   },
   {
    "duration": 40,
    "start_time": "2022-04-02T15:03:37.135Z"
   },
   {
    "duration": 23,
    "start_time": "2022-04-02T15:04:15.390Z"
   },
   {
    "duration": 21,
    "start_time": "2022-04-02T15:04:26.963Z"
   },
   {
    "duration": 24,
    "start_time": "2022-04-02T15:04:36.845Z"
   },
   {
    "duration": 35,
    "start_time": "2022-04-02T15:05:40.118Z"
   },
   {
    "duration": 23,
    "start_time": "2022-04-02T15:12:05.832Z"
   },
   {
    "duration": 27,
    "start_time": "2022-04-02T15:12:19.442Z"
   },
   {
    "duration": 61,
    "start_time": "2022-04-02T15:13:22.088Z"
   },
   {
    "duration": 161,
    "start_time": "2022-04-02T15:15:24.415Z"
   },
   {
    "duration": 22,
    "start_time": "2022-04-02T15:15:28.477Z"
   },
   {
    "duration": 24,
    "start_time": "2022-04-02T15:16:00.871Z"
   },
   {
    "duration": 21,
    "start_time": "2022-04-02T15:16:17.229Z"
   },
   {
    "duration": 21,
    "start_time": "2022-04-02T15:16:29.743Z"
   },
   {
    "duration": 4,
    "start_time": "2022-04-02T15:21:23.552Z"
   },
   {
    "duration": 15,
    "start_time": "2022-04-02T15:21:43.471Z"
   },
   {
    "duration": 5,
    "start_time": "2022-04-02T15:22:23.092Z"
   },
   {
    "duration": 5,
    "start_time": "2022-04-02T15:22:48.431Z"
   },
   {
    "duration": 8,
    "start_time": "2022-04-02T15:28:30.090Z"
   },
   {
    "duration": 6,
    "start_time": "2022-04-02T15:31:48.210Z"
   },
   {
    "duration": 5,
    "start_time": "2022-04-02T15:32:13.530Z"
   },
   {
    "duration": 532,
    "start_time": "2022-04-02T15:33:50.683Z"
   },
   {
    "duration": 91,
    "start_time": "2022-04-02T15:33:51.217Z"
   },
   {
    "duration": 29,
    "start_time": "2022-04-02T15:33:51.310Z"
   },
   {
    "duration": 12,
    "start_time": "2022-04-02T15:33:51.341Z"
   },
   {
    "duration": 13,
    "start_time": "2022-04-02T15:33:51.355Z"
   },
   {
    "duration": 46,
    "start_time": "2022-04-02T15:33:51.370Z"
   },
   {
    "duration": 5,
    "start_time": "2022-04-02T15:33:51.418Z"
   },
   {
    "duration": 6,
    "start_time": "2022-04-02T15:33:51.425Z"
   },
   {
    "duration": 9,
    "start_time": "2022-04-02T15:33:51.433Z"
   },
   {
    "duration": 9,
    "start_time": "2022-04-02T15:33:51.445Z"
   },
   {
    "duration": 11,
    "start_time": "2022-04-02T15:33:51.456Z"
   },
   {
    "duration": 9,
    "start_time": "2022-04-02T15:33:51.469Z"
   },
   {
    "duration": 7,
    "start_time": "2022-04-02T15:33:51.480Z"
   },
   {
    "duration": 12,
    "start_time": "2022-04-02T15:33:51.489Z"
   },
   {
    "duration": 9,
    "start_time": "2022-04-02T15:33:51.503Z"
   },
   {
    "duration": 13,
    "start_time": "2022-04-02T15:33:51.513Z"
   },
   {
    "duration": 13,
    "start_time": "2022-04-02T15:33:51.527Z"
   },
   {
    "duration": 12,
    "start_time": "2022-04-02T15:33:51.542Z"
   },
   {
    "duration": 9,
    "start_time": "2022-04-02T15:33:51.556Z"
   },
   {
    "duration": 7,
    "start_time": "2022-04-02T15:33:51.567Z"
   },
   {
    "duration": 8,
    "start_time": "2022-04-02T15:33:51.576Z"
   },
   {
    "duration": 8,
    "start_time": "2022-04-02T15:33:51.586Z"
   },
   {
    "duration": 72,
    "start_time": "2022-04-02T15:38:59.375Z"
   },
   {
    "duration": 510,
    "start_time": "2022-04-02T15:42:09.127Z"
   },
   {
    "duration": 97,
    "start_time": "2022-04-02T15:42:09.639Z"
   },
   {
    "duration": 27,
    "start_time": "2022-04-02T15:42:09.738Z"
   },
   {
    "duration": 11,
    "start_time": "2022-04-02T15:42:09.768Z"
   },
   {
    "duration": 27,
    "start_time": "2022-04-02T15:42:09.781Z"
   },
   {
    "duration": 22,
    "start_time": "2022-04-02T15:42:09.810Z"
   },
   {
    "duration": 5,
    "start_time": "2022-04-02T15:42:09.834Z"
   },
   {
    "duration": 555,
    "start_time": "2022-04-02T15:43:01.796Z"
   },
   {
    "duration": 99,
    "start_time": "2022-04-02T15:43:02.354Z"
   },
   {
    "duration": 30,
    "start_time": "2022-04-02T15:43:02.455Z"
   },
   {
    "duration": 23,
    "start_time": "2022-04-02T15:43:02.488Z"
   },
   {
    "duration": 20,
    "start_time": "2022-04-02T15:43:02.513Z"
   },
   {
    "duration": 31,
    "start_time": "2022-04-02T15:43:02.535Z"
   },
   {
    "duration": 28,
    "start_time": "2022-04-02T15:43:02.568Z"
   },
   {
    "duration": 504,
    "start_time": "2022-04-02T15:43:27.836Z"
   },
   {
    "duration": 94,
    "start_time": "2022-04-02T15:43:28.342Z"
   },
   {
    "duration": 29,
    "start_time": "2022-04-02T15:43:28.437Z"
   },
   {
    "duration": 12,
    "start_time": "2022-04-02T15:43:28.468Z"
   },
   {
    "duration": 25,
    "start_time": "2022-04-02T15:43:28.482Z"
   },
   {
    "duration": 25,
    "start_time": "2022-04-02T15:43:28.509Z"
   },
   {
    "duration": 8,
    "start_time": "2022-04-02T15:43:28.536Z"
   },
   {
    "duration": 5,
    "start_time": "2022-04-02T15:43:28.546Z"
   },
   {
    "duration": 10,
    "start_time": "2022-04-02T15:43:28.552Z"
   },
   {
    "duration": 4,
    "start_time": "2022-04-02T15:43:28.565Z"
   },
   {
    "duration": 9,
    "start_time": "2022-04-02T15:43:28.571Z"
   },
   {
    "duration": 19,
    "start_time": "2022-04-02T15:43:28.582Z"
   },
   {
    "duration": 9,
    "start_time": "2022-04-02T15:43:28.603Z"
   },
   {
    "duration": 11,
    "start_time": "2022-04-02T15:43:28.613Z"
   },
   {
    "duration": 14,
    "start_time": "2022-04-02T15:43:28.626Z"
   },
   {
    "duration": 9,
    "start_time": "2022-04-02T15:43:28.642Z"
   },
   {
    "duration": 10,
    "start_time": "2022-04-02T15:43:28.653Z"
   },
   {
    "duration": 13,
    "start_time": "2022-04-02T15:43:28.665Z"
   },
   {
    "duration": 7,
    "start_time": "2022-04-02T15:43:28.680Z"
   },
   {
    "duration": 8,
    "start_time": "2022-04-02T15:43:28.689Z"
   },
   {
    "duration": 9,
    "start_time": "2022-04-02T15:43:28.699Z"
   },
   {
    "duration": 8,
    "start_time": "2022-04-02T15:43:28.710Z"
   },
   {
    "duration": 16,
    "start_time": "2022-04-02T15:44:36.545Z"
   },
   {
    "duration": 15,
    "start_time": "2022-04-02T15:44:50.525Z"
   },
   {
    "duration": 18,
    "start_time": "2022-04-02T15:45:13.646Z"
   },
   {
    "duration": 22,
    "start_time": "2022-04-02T15:46:10.523Z"
   },
   {
    "duration": 22,
    "start_time": "2022-04-02T15:46:17.937Z"
   },
   {
    "duration": 123443,
    "start_time": "2022-04-02T15:47:48.868Z"
   },
   {
    "duration": 531,
    "start_time": "2022-04-02T15:50:52.999Z"
   },
   {
    "duration": 92,
    "start_time": "2022-04-02T15:50:53.533Z"
   },
   {
    "duration": 27,
    "start_time": "2022-04-02T15:50:53.627Z"
   },
   {
    "duration": 12,
    "start_time": "2022-04-02T15:50:53.657Z"
   },
   {
    "duration": 34,
    "start_time": "2022-04-02T15:50:53.671Z"
   },
   {
    "duration": 23,
    "start_time": "2022-04-02T15:50:53.707Z"
   },
   {
    "duration": 6,
    "start_time": "2022-04-02T15:50:53.733Z"
   },
   {
    "duration": 5,
    "start_time": "2022-04-02T15:50:53.741Z"
   },
   {
    "duration": 8,
    "start_time": "2022-04-02T15:50:53.747Z"
   },
   {
    "duration": 3,
    "start_time": "2022-04-02T15:50:53.759Z"
   },
   {
    "duration": 7,
    "start_time": "2022-04-02T15:50:53.764Z"
   },
   {
    "duration": 29,
    "start_time": "2022-04-02T15:50:53.773Z"
   },
   {
    "duration": 5,
    "start_time": "2022-04-02T15:50:53.805Z"
   },
   {
    "duration": 7,
    "start_time": "2022-04-02T15:50:53.811Z"
   },
   {
    "duration": 8,
    "start_time": "2022-04-02T15:50:53.819Z"
   },
   {
    "duration": 6,
    "start_time": "2022-04-02T15:50:53.829Z"
   },
   {
    "duration": 8,
    "start_time": "2022-04-02T15:50:53.837Z"
   },
   {
    "duration": 8,
    "start_time": "2022-04-02T15:50:53.847Z"
   },
   {
    "duration": 11,
    "start_time": "2022-04-02T15:50:53.857Z"
   },
   {
    "duration": 12,
    "start_time": "2022-04-02T15:50:53.870Z"
   },
   {
    "duration": 12,
    "start_time": "2022-04-02T15:50:53.884Z"
   },
   {
    "duration": 5,
    "start_time": "2022-04-02T15:50:53.900Z"
   },
   {
    "duration": 10,
    "start_time": "2022-04-02T15:50:53.907Z"
   },
   {
    "duration": 6,
    "start_time": "2022-04-02T15:52:01.647Z"
   },
   {
    "duration": 6,
    "start_time": "2022-04-02T15:52:14.726Z"
   },
   {
    "duration": 6,
    "start_time": "2022-04-02T15:52:52.726Z"
   },
   {
    "duration": 6,
    "start_time": "2022-04-02T15:53:00.646Z"
   },
   {
    "duration": 7,
    "start_time": "2022-04-02T15:54:16.309Z"
   },
   {
    "duration": 16,
    "start_time": "2022-04-02T15:55:26.427Z"
   },
   {
    "duration": 4,
    "start_time": "2022-04-02T15:57:18.329Z"
   },
   {
    "duration": 22,
    "start_time": "2022-04-02T15:57:25.028Z"
   },
   {
    "duration": 6,
    "start_time": "2022-04-02T15:57:41.037Z"
   },
   {
    "duration": 7,
    "start_time": "2022-04-02T15:58:02.358Z"
   },
   {
    "duration": 5,
    "start_time": "2022-04-02T15:58:32.351Z"
   },
   {
    "duration": 8,
    "start_time": "2022-04-02T15:59:18.603Z"
   },
   {
    "duration": 7,
    "start_time": "2022-04-02T16:00:15.912Z"
   },
   {
    "duration": 5,
    "start_time": "2022-04-02T16:01:54.693Z"
   },
   {
    "duration": 4,
    "start_time": "2022-04-02T16:02:02.636Z"
   },
   {
    "duration": 4,
    "start_time": "2022-04-02T16:02:36.559Z"
   },
   {
    "duration": 2394,
    "start_time": "2022-04-02T16:03:19.368Z"
   },
   {
    "duration": 8,
    "start_time": "2022-04-02T16:03:27.909Z"
   },
   {
    "duration": 17,
    "start_time": "2022-04-02T16:04:07.479Z"
   },
   {
    "duration": 7,
    "start_time": "2022-04-02T16:08:33.323Z"
   },
   {
    "duration": 12,
    "start_time": "2022-04-02T16:08:55.601Z"
   },
   {
    "duration": 8,
    "start_time": "2022-04-02T16:09:07.014Z"
   },
   {
    "duration": 12,
    "start_time": "2022-04-02T16:09:40.211Z"
   },
   {
    "duration": 5,
    "start_time": "2022-04-02T16:10:19.963Z"
   },
   {
    "duration": 5,
    "start_time": "2022-04-02T16:11:36.264Z"
   },
   {
    "duration": 7,
    "start_time": "2022-04-02T16:11:58.484Z"
   },
   {
    "duration": 9,
    "start_time": "2022-04-02T16:16:06.987Z"
   },
   {
    "duration": 9,
    "start_time": "2022-04-02T16:17:06.893Z"
   },
   {
    "duration": 6,
    "start_time": "2022-04-02T16:27:25.557Z"
   },
   {
    "duration": 6,
    "start_time": "2022-04-02T16:27:38.871Z"
   },
   {
    "duration": 665,
    "start_time": "2022-04-03T09:50:59.050Z"
   },
   {
    "duration": 168,
    "start_time": "2022-04-03T09:50:59.717Z"
   },
   {
    "duration": 24,
    "start_time": "2022-04-03T09:50:59.886Z"
   },
   {
    "duration": 10,
    "start_time": "2022-04-03T09:50:59.913Z"
   },
   {
    "duration": 16,
    "start_time": "2022-04-03T09:50:59.924Z"
   },
   {
    "duration": 39,
    "start_time": "2022-04-03T09:50:59.942Z"
   },
   {
    "duration": 5,
    "start_time": "2022-04-03T09:50:59.983Z"
   },
   {
    "duration": 23,
    "start_time": "2022-04-03T09:50:59.990Z"
   },
   {
    "duration": 42,
    "start_time": "2022-04-03T09:51:00.015Z"
   },
   {
    "duration": 18,
    "start_time": "2022-04-03T09:51:00.062Z"
   },
   {
    "duration": 11,
    "start_time": "2022-04-03T09:51:00.082Z"
   },
   {
    "duration": 5,
    "start_time": "2022-04-03T09:51:00.095Z"
   },
   {
    "duration": 9,
    "start_time": "2022-04-03T09:51:00.102Z"
   },
   {
    "duration": 9,
    "start_time": "2022-04-03T09:51:00.113Z"
   },
   {
    "duration": 16,
    "start_time": "2022-04-03T09:51:00.124Z"
   },
   {
    "duration": 27,
    "start_time": "2022-04-03T09:51:00.142Z"
   },
   {
    "duration": 6,
    "start_time": "2022-04-03T09:51:00.171Z"
   },
   {
    "duration": 18,
    "start_time": "2022-04-03T09:51:00.179Z"
   },
   {
    "duration": 6,
    "start_time": "2022-04-03T09:51:00.199Z"
   },
   {
    "duration": 14,
    "start_time": "2022-04-03T09:51:00.207Z"
   },
   {
    "duration": 9,
    "start_time": "2022-04-03T09:51:00.223Z"
   },
   {
    "duration": 22,
    "start_time": "2022-04-03T09:51:00.234Z"
   },
   {
    "duration": 15,
    "start_time": "2022-04-03T09:51:00.258Z"
   },
   {
    "duration": 7,
    "start_time": "2022-04-03T09:51:00.275Z"
   },
   {
    "duration": 7,
    "start_time": "2022-04-03T09:51:00.284Z"
   },
   {
    "duration": 13,
    "start_time": "2022-04-03T09:51:00.292Z"
   },
   {
    "duration": 13,
    "start_time": "2022-04-03T09:51:00.307Z"
   },
   {
    "duration": 5,
    "start_time": "2022-04-03T09:51:50.696Z"
   },
   {
    "duration": 632,
    "start_time": "2022-04-04T18:10:42.660Z"
   },
   {
    "duration": 465,
    "start_time": "2022-04-04T18:10:43.295Z"
   },
   {
    "duration": 43,
    "start_time": "2022-04-04T18:10:43.763Z"
   },
   {
    "duration": 14,
    "start_time": "2022-04-04T18:10:43.809Z"
   },
   {
    "duration": 11,
    "start_time": "2022-04-04T18:10:43.825Z"
   },
   {
    "duration": 57,
    "start_time": "2022-04-04T18:10:43.838Z"
   },
   {
    "duration": 7,
    "start_time": "2022-04-04T18:10:43.897Z"
   },
   {
    "duration": 28,
    "start_time": "2022-04-04T18:10:43.906Z"
   },
   {
    "duration": 58,
    "start_time": "2022-04-04T18:10:43.936Z"
   },
   {
    "duration": 15,
    "start_time": "2022-04-04T18:10:43.998Z"
   },
   {
    "duration": 15,
    "start_time": "2022-04-04T18:10:44.015Z"
   },
   {
    "duration": 4,
    "start_time": "2022-04-04T18:10:44.032Z"
   },
   {
    "duration": 39,
    "start_time": "2022-04-04T18:10:44.038Z"
   },
   {
    "duration": 6,
    "start_time": "2022-04-04T18:10:44.081Z"
   },
   {
    "duration": 6,
    "start_time": "2022-04-04T18:10:44.089Z"
   },
   {
    "duration": 8,
    "start_time": "2022-04-04T18:10:44.097Z"
   },
   {
    "duration": 4,
    "start_time": "2022-04-04T18:10:44.108Z"
   },
   {
    "duration": 4,
    "start_time": "2022-04-04T18:10:44.115Z"
   },
   {
    "duration": 51,
    "start_time": "2022-04-04T18:10:44.121Z"
   },
   {
    "duration": 9,
    "start_time": "2022-04-04T18:10:44.183Z"
   },
   {
    "duration": 5,
    "start_time": "2022-04-04T18:10:44.195Z"
   },
   {
    "duration": 37,
    "start_time": "2022-04-04T18:10:44.202Z"
   },
   {
    "duration": 5,
    "start_time": "2022-04-04T18:10:44.242Z"
   },
   {
    "duration": 23,
    "start_time": "2022-04-04T18:10:44.250Z"
   },
   {
    "duration": 10,
    "start_time": "2022-04-04T18:10:44.276Z"
   },
   {
    "duration": 8,
    "start_time": "2022-04-04T18:10:44.289Z"
   },
   {
    "duration": 5,
    "start_time": "2022-04-04T18:10:44.299Z"
   },
   {
    "duration": 4,
    "start_time": "2022-04-04T18:10:44.312Z"
   },
   {
    "duration": 6,
    "start_time": "2022-04-04T18:13:01.486Z"
   },
   {
    "duration": 8,
    "start_time": "2022-04-04T18:15:53.120Z"
   },
   {
    "duration": 17,
    "start_time": "2022-04-04T18:16:33.458Z"
   },
   {
    "duration": 8,
    "start_time": "2022-04-04T18:19:59.702Z"
   },
   {
    "duration": 133,
    "start_time": "2022-04-04T18:20:29.579Z"
   },
   {
    "duration": 1814,
    "start_time": "2022-04-04T18:21:18.659Z"
   },
   {
    "duration": 23,
    "start_time": "2022-04-04T18:21:28.535Z"
   },
   {
    "duration": 8,
    "start_time": "2022-04-04T18:22:56.926Z"
   },
   {
    "duration": 5,
    "start_time": "2022-04-04T18:26:19.205Z"
   },
   {
    "duration": 55,
    "start_time": "2022-04-04T18:29:23.354Z"
   },
   {
    "duration": 6,
    "start_time": "2022-04-04T18:30:21.696Z"
   },
   {
    "duration": 61,
    "start_time": "2022-04-04T18:30:24.007Z"
   },
   {
    "duration": 38,
    "start_time": "2022-04-04T18:31:59.296Z"
   },
   {
    "duration": 58,
    "start_time": "2022-04-04T18:32:09.212Z"
   },
   {
    "duration": 102,
    "start_time": "2022-04-04T18:33:37.192Z"
   },
   {
    "duration": 5,
    "start_time": "2022-04-04T18:36:54.343Z"
   },
   {
    "duration": 2111,
    "start_time": "2022-04-04T18:36:59.397Z"
   },
   {
    "duration": 1742,
    "start_time": "2022-04-04T18:37:09.449Z"
   },
   {
    "duration": 1825,
    "start_time": "2022-04-04T18:37:22.612Z"
   },
   {
    "duration": 115,
    "start_time": "2022-04-04T18:39:08.052Z"
   },
   {
    "duration": 5,
    "start_time": "2022-04-04T18:39:20.843Z"
   },
   {
    "duration": 48,
    "start_time": "2022-04-04T18:39:24.755Z"
   },
   {
    "duration": 20,
    "start_time": "2022-04-04T18:42:30.705Z"
   },
   {
    "duration": 10,
    "start_time": "2022-04-04T18:43:17.883Z"
   },
   {
    "duration": 21,
    "start_time": "2022-04-04T18:45:16.528Z"
   },
   {
    "duration": 465,
    "start_time": "2022-04-04T19:16:43.397Z"
   },
   {
    "duration": 24,
    "start_time": "2022-04-04T19:22:21.756Z"
   },
   {
    "duration": 17,
    "start_time": "2022-04-04T19:23:20.412Z"
   },
   {
    "duration": 12,
    "start_time": "2022-04-04T19:24:13.738Z"
   },
   {
    "duration": 412,
    "start_time": "2022-04-04T19:25:18.057Z"
   },
   {
    "duration": 443,
    "start_time": "2022-04-04T19:27:02.690Z"
   },
   {
    "duration": 436,
    "start_time": "2022-04-04T19:29:20.870Z"
   },
   {
    "duration": 611,
    "start_time": "2022-04-04T19:30:02.192Z"
   },
   {
    "duration": 591,
    "start_time": "2022-04-04T20:34:58.810Z"
   },
   {
    "duration": 119,
    "start_time": "2022-04-04T20:34:59.404Z"
   },
   {
    "duration": 44,
    "start_time": "2022-04-04T20:34:59.525Z"
   },
   {
    "duration": 17,
    "start_time": "2022-04-04T20:34:59.573Z"
   },
   {
    "duration": 12,
    "start_time": "2022-04-04T20:34:59.592Z"
   },
   {
    "duration": 24,
    "start_time": "2022-04-04T20:34:59.606Z"
   },
   {
    "duration": 47,
    "start_time": "2022-04-04T20:34:59.633Z"
   },
   {
    "duration": 31,
    "start_time": "2022-04-04T20:34:59.683Z"
   },
   {
    "duration": 26,
    "start_time": "2022-04-04T20:34:59.716Z"
   },
   {
    "duration": 18,
    "start_time": "2022-04-04T20:34:59.774Z"
   },
   {
    "duration": 11,
    "start_time": "2022-04-04T20:34:59.794Z"
   },
   {
    "duration": 109,
    "start_time": "2022-04-04T20:34:59.807Z"
   },
   {
    "duration": 2203,
    "start_time": "2022-04-04T20:34:59.919Z"
   },
   {
    "duration": 0,
    "start_time": "2022-04-04T20:35:02.126Z"
   },
   {
    "duration": 0,
    "start_time": "2022-04-04T20:35:02.127Z"
   },
   {
    "duration": 0,
    "start_time": "2022-04-04T20:35:02.129Z"
   },
   {
    "duration": 0,
    "start_time": "2022-04-04T20:35:02.131Z"
   },
   {
    "duration": 0,
    "start_time": "2022-04-04T20:35:02.132Z"
   },
   {
    "duration": 0,
    "start_time": "2022-04-04T20:35:02.134Z"
   },
   {
    "duration": 0,
    "start_time": "2022-04-04T20:35:02.136Z"
   },
   {
    "duration": 0,
    "start_time": "2022-04-04T20:35:02.137Z"
   },
   {
    "duration": 0,
    "start_time": "2022-04-04T20:35:02.140Z"
   },
   {
    "duration": 0,
    "start_time": "2022-04-04T20:35:02.141Z"
   },
   {
    "duration": 0,
    "start_time": "2022-04-04T20:35:02.143Z"
   },
   {
    "duration": 0,
    "start_time": "2022-04-04T20:35:02.145Z"
   },
   {
    "duration": 0,
    "start_time": "2022-04-04T20:35:02.147Z"
   },
   {
    "duration": 0,
    "start_time": "2022-04-04T20:35:02.148Z"
   },
   {
    "duration": 0,
    "start_time": "2022-04-04T20:35:02.150Z"
   },
   {
    "duration": 0,
    "start_time": "2022-04-04T20:35:02.151Z"
   },
   {
    "duration": 0,
    "start_time": "2022-04-04T20:35:02.153Z"
   },
   {
    "duration": 0,
    "start_time": "2022-04-04T20:35:02.154Z"
   },
   {
    "duration": 0,
    "start_time": "2022-04-04T20:35:02.157Z"
   },
   {
    "duration": 1,
    "start_time": "2022-04-04T20:35:02.158Z"
   },
   {
    "duration": 36,
    "start_time": "2022-04-04T20:35:26.493Z"
   },
   {
    "duration": 292,
    "start_time": "2022-04-04T20:37:53.948Z"
   },
   {
    "duration": 75,
    "start_time": "2022-04-04T20:38:49.122Z"
   },
   {
    "duration": 48,
    "start_time": "2022-04-04T20:39:31.664Z"
   },
   {
    "duration": 255,
    "start_time": "2022-04-04T20:41:02.252Z"
   },
   {
    "duration": 295,
    "start_time": "2022-04-04T20:42:40.475Z"
   },
   {
    "duration": 13,
    "start_time": "2022-04-04T20:44:46.116Z"
   },
   {
    "duration": 53,
    "start_time": "2022-04-04T20:48:49.514Z"
   },
   {
    "duration": 40,
    "start_time": "2022-04-04T20:49:15.861Z"
   },
   {
    "duration": 59,
    "start_time": "2022-04-04T20:54:34.163Z"
   },
   {
    "duration": 58,
    "start_time": "2022-04-04T20:54:56.265Z"
   },
   {
    "duration": 50,
    "start_time": "2022-04-04T20:55:22.456Z"
   },
   {
    "duration": 6,
    "start_time": "2022-04-04T20:56:08.183Z"
   },
   {
    "duration": 52,
    "start_time": "2022-04-04T20:57:25.395Z"
   },
   {
    "duration": 27,
    "start_time": "2022-04-04T20:57:33.407Z"
   },
   {
    "duration": 35,
    "start_time": "2022-04-04T20:58:40.315Z"
   },
   {
    "duration": 51,
    "start_time": "2022-04-04T20:58:54.043Z"
   },
   {
    "duration": 1477,
    "start_time": "2022-04-04T20:59:23.068Z"
   },
   {
    "duration": 2025,
    "start_time": "2022-04-04T21:00:00.239Z"
   },
   {
    "duration": 1492,
    "start_time": "2022-04-04T21:00:16.315Z"
   },
   {
    "duration": 7,
    "start_time": "2022-04-04T21:00:28.309Z"
   },
   {
    "duration": 21,
    "start_time": "2022-04-04T21:00:33.918Z"
   },
   {
    "duration": 9,
    "start_time": "2022-04-04T21:00:38.428Z"
   },
   {
    "duration": 29,
    "start_time": "2022-04-04T21:00:47.555Z"
   },
   {
    "duration": 70,
    "start_time": "2022-04-04T21:01:42.236Z"
   },
   {
    "duration": 597,
    "start_time": "2022-04-04T21:07:16.412Z"
   },
   {
    "duration": 625,
    "start_time": "2022-04-04T21:09:26.547Z"
   },
   {
    "duration": 121,
    "start_time": "2022-04-04T21:09:27.175Z"
   },
   {
    "duration": 32,
    "start_time": "2022-04-04T21:09:27.298Z"
   },
   {
    "duration": 35,
    "start_time": "2022-04-04T21:09:27.333Z"
   },
   {
    "duration": 13,
    "start_time": "2022-04-04T21:09:27.371Z"
   },
   {
    "duration": 24,
    "start_time": "2022-04-04T21:09:27.387Z"
   },
   {
    "duration": 7,
    "start_time": "2022-04-04T21:09:27.413Z"
   },
   {
    "duration": 73,
    "start_time": "2022-04-04T21:09:27.422Z"
   },
   {
    "duration": 25,
    "start_time": "2022-04-04T21:09:27.497Z"
   },
   {
    "duration": 14,
    "start_time": "2022-04-04T21:09:27.525Z"
   },
   {
    "duration": 38,
    "start_time": "2022-04-04T21:09:27.541Z"
   },
   {
    "duration": 72,
    "start_time": "2022-04-04T21:09:27.582Z"
   },
   {
    "duration": 87,
    "start_time": "2022-04-04T21:09:27.657Z"
   },
   {
    "duration": 1427,
    "start_time": "2022-04-04T21:09:27.747Z"
   },
   {
    "duration": 7,
    "start_time": "2022-04-04T21:09:29.177Z"
   },
   {
    "duration": 23,
    "start_time": "2022-04-04T21:09:29.187Z"
   },
   {
    "duration": 8,
    "start_time": "2022-04-04T21:09:29.212Z"
   },
   {
    "duration": 70,
    "start_time": "2022-04-04T21:09:29.222Z"
   },
   {
    "duration": 82,
    "start_time": "2022-04-04T21:09:29.296Z"
   },
   {
    "duration": 3,
    "start_time": "2022-04-04T21:09:29.380Z"
   },
   {
    "duration": 9,
    "start_time": "2022-04-04T21:09:29.386Z"
   },
   {
    "duration": 4,
    "start_time": "2022-04-04T21:09:29.398Z"
   },
   {
    "duration": 5,
    "start_time": "2022-04-04T21:09:29.404Z"
   },
   {
    "duration": 4,
    "start_time": "2022-04-04T21:09:29.412Z"
   },
   {
    "duration": 6,
    "start_time": "2022-04-04T21:09:29.419Z"
   },
   {
    "duration": 5,
    "start_time": "2022-04-04T21:09:29.427Z"
   },
   {
    "duration": 40,
    "start_time": "2022-04-04T21:09:29.435Z"
   },
   {
    "duration": 10,
    "start_time": "2022-04-04T21:09:29.482Z"
   },
   {
    "duration": 4,
    "start_time": "2022-04-04T21:09:29.495Z"
   },
   {
    "duration": 5,
    "start_time": "2022-04-04T21:09:29.502Z"
   },
   {
    "duration": 5,
    "start_time": "2022-04-04T21:09:29.510Z"
   },
   {
    "duration": 12,
    "start_time": "2022-04-04T21:09:29.518Z"
   },
   {
    "duration": 12,
    "start_time": "2022-04-04T21:09:29.532Z"
   },
   {
    "duration": 21,
    "start_time": "2022-04-04T21:09:29.546Z"
   },
   {
    "duration": 6,
    "start_time": "2022-04-04T21:15:06.244Z"
   },
   {
    "duration": 122,
    "start_time": "2022-04-04T21:17:30.647Z"
   },
   {
    "duration": 1254,
    "start_time": "2022-04-04T21:17:55.171Z"
   },
   {
    "duration": 18,
    "start_time": "2022-04-04T21:18:25.196Z"
   },
   {
    "duration": 6,
    "start_time": "2022-04-04T21:18:52.069Z"
   },
   {
    "duration": 7,
    "start_time": "2022-04-04T21:19:35.994Z"
   },
   {
    "duration": 7,
    "start_time": "2022-04-04T21:27:08.474Z"
   },
   {
    "duration": 188,
    "start_time": "2022-04-04T21:33:48.210Z"
   },
   {
    "duration": 431,
    "start_time": "2022-04-07T22:40:50.447Z"
   },
   {
    "duration": 328,
    "start_time": "2022-04-07T22:40:50.880Z"
   },
   {
    "duration": 23,
    "start_time": "2022-04-07T22:40:51.210Z"
   },
   {
    "duration": 9,
    "start_time": "2022-04-07T22:40:51.235Z"
   },
   {
    "duration": 15,
    "start_time": "2022-04-07T22:40:51.246Z"
   },
   {
    "duration": 27,
    "start_time": "2022-04-07T22:40:51.263Z"
   },
   {
    "duration": 17,
    "start_time": "2022-04-07T22:40:51.292Z"
   },
   {
    "duration": 20,
    "start_time": "2022-04-07T22:40:51.311Z"
   },
   {
    "duration": 17,
    "start_time": "2022-04-07T22:40:51.333Z"
   },
   {
    "duration": 11,
    "start_time": "2022-04-07T22:40:51.353Z"
   },
   {
    "duration": 8,
    "start_time": "2022-04-07T22:40:51.365Z"
   },
   {
    "duration": 85,
    "start_time": "2022-04-07T22:40:51.375Z"
   },
   {
    "duration": 56,
    "start_time": "2022-04-07T22:40:51.462Z"
   },
   {
    "duration": 763,
    "start_time": "2022-04-07T22:40:51.519Z"
   },
   {
    "duration": 4,
    "start_time": "2022-04-07T22:40:52.284Z"
   },
   {
    "duration": 27,
    "start_time": "2022-04-07T22:40:52.289Z"
   },
   {
    "duration": 5,
    "start_time": "2022-04-07T22:40:52.318Z"
   },
   {
    "duration": 15,
    "start_time": "2022-04-07T22:40:52.324Z"
   },
   {
    "duration": 29,
    "start_time": "2022-04-07T22:40:52.340Z"
   },
   {
    "duration": 39,
    "start_time": "2022-04-07T22:40:52.371Z"
   },
   {
    "duration": 4,
    "start_time": "2022-04-07T22:40:52.412Z"
   },
   {
    "duration": 4,
    "start_time": "2022-04-07T22:40:52.418Z"
   },
   {
    "duration": 4,
    "start_time": "2022-04-07T22:40:52.423Z"
   },
   {
    "duration": 5,
    "start_time": "2022-04-07T22:40:52.428Z"
   },
   {
    "duration": 4,
    "start_time": "2022-04-07T22:40:52.434Z"
   },
   {
    "duration": 4,
    "start_time": "2022-04-07T22:40:52.440Z"
   },
   {
    "duration": 4,
    "start_time": "2022-04-07T22:40:52.445Z"
   },
   {
    "duration": 3,
    "start_time": "2022-04-07T22:40:52.452Z"
   },
   {
    "duration": 5,
    "start_time": "2022-04-07T22:40:52.457Z"
   },
   {
    "duration": 4,
    "start_time": "2022-04-07T22:40:52.464Z"
   },
   {
    "duration": 5,
    "start_time": "2022-04-07T22:40:52.469Z"
   },
   {
    "duration": 13,
    "start_time": "2022-04-07T22:40:52.475Z"
   },
   {
    "duration": 2,
    "start_time": "2022-04-07T22:40:52.508Z"
   },
   {
    "duration": 4,
    "start_time": "2022-04-07T22:40:52.512Z"
   },
   {
    "duration": 5,
    "start_time": "2022-04-07T22:40:52.517Z"
   },
   {
    "duration": 4,
    "start_time": "2022-04-07T22:40:52.523Z"
   },
   {
    "duration": 342,
    "start_time": "2022-04-07T22:42:54.656Z"
   },
   {
    "duration": 6,
    "start_time": "2022-04-07T22:44:24.851Z"
   },
   {
    "duration": 7,
    "start_time": "2022-04-07T22:44:52.874Z"
   },
   {
    "duration": 9,
    "start_time": "2022-04-07T22:46:49.426Z"
   },
   {
    "duration": 31,
    "start_time": "2022-04-07T22:47:00.871Z"
   },
   {
    "duration": 62,
    "start_time": "2022-04-07T22:58:38.278Z"
   },
   {
    "duration": 59,
    "start_time": "2022-04-07T22:58:47.422Z"
   },
   {
    "duration": 63,
    "start_time": "2022-04-07T22:58:58.467Z"
   },
   {
    "duration": 71,
    "start_time": "2022-04-07T22:59:13.990Z"
   },
   {
    "duration": 66,
    "start_time": "2022-04-07T23:01:38.039Z"
   },
   {
    "duration": 72,
    "start_time": "2022-04-07T23:02:17.219Z"
   },
   {
    "duration": 63,
    "start_time": "2022-04-07T23:02:34.268Z"
   },
   {
    "duration": 57,
    "start_time": "2022-04-07T23:03:24.013Z"
   },
   {
    "duration": 7,
    "start_time": "2022-04-07T23:03:30.234Z"
   },
   {
    "duration": 42,
    "start_time": "2022-04-07T23:03:38.247Z"
   },
   {
    "duration": 133,
    "start_time": "2022-04-07T23:06:58.582Z"
   },
   {
    "duration": 23,
    "start_time": "2022-04-07T23:12:37.298Z"
   },
   {
    "duration": 21,
    "start_time": "2022-04-07T23:16:38.060Z"
   },
   {
    "duration": 22,
    "start_time": "2022-04-07T23:16:57.076Z"
   },
   {
    "duration": 19,
    "start_time": "2022-04-07T23:17:37.326Z"
   },
   {
    "duration": 51,
    "start_time": "2022-04-07T23:18:15.257Z"
   },
   {
    "duration": 13,
    "start_time": "2022-04-07T23:19:44.532Z"
   },
   {
    "duration": 29,
    "start_time": "2022-04-07T23:20:10.778Z"
   },
   {
    "duration": 9,
    "start_time": "2022-04-07T23:20:14.562Z"
   },
   {
    "duration": 11,
    "start_time": "2022-04-07T23:20:36.971Z"
   },
   {
    "duration": 5,
    "start_time": "2022-04-07T23:24:48.268Z"
   },
   {
    "duration": 8,
    "start_time": "2022-04-07T23:25:00.824Z"
   },
   {
    "duration": 3,
    "start_time": "2022-04-07T23:27:40.374Z"
   },
   {
    "duration": 13,
    "start_time": "2022-04-07T23:28:57.477Z"
   },
   {
    "duration": 14,
    "start_time": "2022-04-07T23:29:16.328Z"
   },
   {
    "duration": 31,
    "start_time": "2022-04-07T23:30:12.583Z"
   },
   {
    "duration": 12,
    "start_time": "2022-04-07T23:31:00.341Z"
   },
   {
    "duration": 577,
    "start_time": "2022-04-09T15:40:26.747Z"
   },
   {
    "duration": 86,
    "start_time": "2022-04-09T15:40:27.326Z"
   },
   {
    "duration": 24,
    "start_time": "2022-04-09T15:40:27.414Z"
   },
   {
    "duration": 10,
    "start_time": "2022-04-09T15:40:27.440Z"
   },
   {
    "duration": 10,
    "start_time": "2022-04-09T15:40:27.451Z"
   },
   {
    "duration": 20,
    "start_time": "2022-04-09T15:40:27.462Z"
   },
   {
    "duration": 5,
    "start_time": "2022-04-09T15:40:27.483Z"
   },
   {
    "duration": 20,
    "start_time": "2022-04-09T15:40:27.489Z"
   },
   {
    "duration": 50,
    "start_time": "2022-04-09T15:40:27.510Z"
   },
   {
    "duration": 11,
    "start_time": "2022-04-09T15:40:27.563Z"
   },
   {
    "duration": 9,
    "start_time": "2022-04-09T15:40:27.575Z"
   },
   {
    "duration": 78,
    "start_time": "2022-04-09T15:40:27.585Z"
   },
   {
    "duration": 46,
    "start_time": "2022-04-09T15:40:27.664Z"
   },
   {
    "duration": 751,
    "start_time": "2022-04-09T15:40:27.711Z"
   },
   {
    "duration": 5,
    "start_time": "2022-04-09T15:40:28.464Z"
   },
   {
    "duration": 16,
    "start_time": "2022-04-09T15:40:28.470Z"
   },
   {
    "duration": 5,
    "start_time": "2022-04-09T15:40:28.488Z"
   },
   {
    "duration": 14,
    "start_time": "2022-04-09T15:40:28.495Z"
   },
   {
    "duration": 56,
    "start_time": "2022-04-09T15:40:28.510Z"
   },
   {
    "duration": 14,
    "start_time": "2022-04-09T15:40:28.568Z"
   },
   {
    "duration": 36,
    "start_time": "2022-04-09T15:40:28.583Z"
   },
   {
    "duration": 2,
    "start_time": "2022-04-09T15:40:28.620Z"
   },
   {
    "duration": 10,
    "start_time": "2022-04-09T15:40:28.648Z"
   },
   {
    "duration": 136,
    "start_time": "2022-04-09T15:40:28.659Z"
   },
   {
    "duration": 0,
    "start_time": "2022-04-09T15:40:28.797Z"
   },
   {
    "duration": 0,
    "start_time": "2022-04-09T15:40:28.799Z"
   },
   {
    "duration": 0,
    "start_time": "2022-04-09T15:40:28.800Z"
   },
   {
    "duration": 0,
    "start_time": "2022-04-09T15:40:28.801Z"
   },
   {
    "duration": 0,
    "start_time": "2022-04-09T15:40:28.802Z"
   },
   {
    "duration": 0,
    "start_time": "2022-04-09T15:40:28.803Z"
   },
   {
    "duration": 0,
    "start_time": "2022-04-09T15:40:28.804Z"
   },
   {
    "duration": 0,
    "start_time": "2022-04-09T15:40:28.804Z"
   },
   {
    "duration": 0,
    "start_time": "2022-04-09T15:40:28.805Z"
   },
   {
    "duration": 0,
    "start_time": "2022-04-09T15:40:28.806Z"
   },
   {
    "duration": 0,
    "start_time": "2022-04-09T15:40:28.807Z"
   },
   {
    "duration": 0,
    "start_time": "2022-04-09T15:40:28.808Z"
   },
   {
    "duration": 14,
    "start_time": "2022-04-09T15:40:56.405Z"
   },
   {
    "duration": 27,
    "start_time": "2022-04-09T15:41:01.319Z"
   },
   {
    "duration": 11,
    "start_time": "2022-04-09T15:41:05.235Z"
   },
   {
    "duration": 469,
    "start_time": "2022-04-09T16:12:56.956Z"
   },
   {
    "duration": 79,
    "start_time": "2022-04-09T16:12:57.427Z"
   },
   {
    "duration": 24,
    "start_time": "2022-04-09T16:12:57.508Z"
   },
   {
    "duration": 15,
    "start_time": "2022-04-09T16:12:57.533Z"
   },
   {
    "duration": 7,
    "start_time": "2022-04-09T16:12:57.550Z"
   },
   {
    "duration": 20,
    "start_time": "2022-04-09T16:12:57.559Z"
   },
   {
    "duration": 5,
    "start_time": "2022-04-09T16:12:57.581Z"
   },
   {
    "duration": 19,
    "start_time": "2022-04-09T16:12:57.587Z"
   },
   {
    "duration": 54,
    "start_time": "2022-04-09T16:12:57.608Z"
   },
   {
    "duration": 10,
    "start_time": "2022-04-09T16:12:57.663Z"
   },
   {
    "duration": 9,
    "start_time": "2022-04-09T16:12:57.675Z"
   },
   {
    "duration": 23,
    "start_time": "2022-04-09T16:12:57.686Z"
   },
   {
    "duration": 108,
    "start_time": "2022-04-09T16:12:57.711Z"
   },
   {
    "duration": 731,
    "start_time": "2022-04-09T16:12:57.822Z"
   },
   {
    "duration": 4,
    "start_time": "2022-04-09T16:12:58.555Z"
   },
   {
    "duration": 15,
    "start_time": "2022-04-09T16:12:58.561Z"
   },
   {
    "duration": 5,
    "start_time": "2022-04-09T16:12:58.578Z"
   },
   {
    "duration": 15,
    "start_time": "2022-04-09T16:12:58.584Z"
   },
   {
    "duration": 61,
    "start_time": "2022-04-09T16:12:58.601Z"
   },
   {
    "duration": 14,
    "start_time": "2022-04-09T16:12:58.663Z"
   },
   {
    "duration": 37,
    "start_time": "2022-04-09T16:12:58.678Z"
   },
   {
    "duration": 2,
    "start_time": "2022-04-09T16:12:58.717Z"
   },
   {
    "duration": 11,
    "start_time": "2022-04-09T16:12:58.748Z"
   },
   {
    "duration": 108,
    "start_time": "2022-04-09T16:12:58.761Z"
   },
   {
    "duration": 0,
    "start_time": "2022-04-09T16:12:58.871Z"
   },
   {
    "duration": 0,
    "start_time": "2022-04-09T16:12:58.873Z"
   },
   {
    "duration": 0,
    "start_time": "2022-04-09T16:12:58.874Z"
   },
   {
    "duration": 0,
    "start_time": "2022-04-09T16:12:58.876Z"
   },
   {
    "duration": 0,
    "start_time": "2022-04-09T16:12:58.877Z"
   },
   {
    "duration": 0,
    "start_time": "2022-04-09T16:12:58.879Z"
   },
   {
    "duration": 0,
    "start_time": "2022-04-09T16:12:58.880Z"
   },
   {
    "duration": 0,
    "start_time": "2022-04-09T16:12:58.881Z"
   },
   {
    "duration": 0,
    "start_time": "2022-04-09T16:12:58.882Z"
   },
   {
    "duration": 0,
    "start_time": "2022-04-09T16:12:58.884Z"
   },
   {
    "duration": 0,
    "start_time": "2022-04-09T16:12:58.885Z"
   },
   {
    "duration": 0,
    "start_time": "2022-04-09T16:12:58.886Z"
   },
   {
    "duration": 21,
    "start_time": "2022-04-09T16:13:18.820Z"
   },
   {
    "duration": 476,
    "start_time": "2022-04-09T20:55:52.474Z"
   },
   {
    "duration": 130,
    "start_time": "2022-04-09T20:55:52.953Z"
   },
   {
    "duration": 29,
    "start_time": "2022-04-09T20:55:53.085Z"
   },
   {
    "duration": 10,
    "start_time": "2022-04-09T20:55:53.116Z"
   },
   {
    "duration": 9,
    "start_time": "2022-04-09T20:55:53.128Z"
   },
   {
    "duration": 31,
    "start_time": "2022-04-09T20:55:53.158Z"
   },
   {
    "duration": 5,
    "start_time": "2022-04-09T20:55:53.191Z"
   },
   {
    "duration": 21,
    "start_time": "2022-04-09T20:55:53.197Z"
   },
   {
    "duration": 41,
    "start_time": "2022-04-09T20:55:53.220Z"
   },
   {
    "duration": 11,
    "start_time": "2022-04-09T20:55:53.264Z"
   },
   {
    "duration": 12,
    "start_time": "2022-04-09T20:55:53.277Z"
   },
   {
    "duration": 93,
    "start_time": "2022-04-09T20:55:53.290Z"
   },
   {
    "duration": 47,
    "start_time": "2022-04-09T20:55:53.385Z"
   },
   {
    "duration": 770,
    "start_time": "2022-04-09T20:55:53.434Z"
   },
   {
    "duration": 6,
    "start_time": "2022-04-09T20:55:54.206Z"
   },
   {
    "duration": 17,
    "start_time": "2022-04-09T20:55:54.213Z"
   },
   {
    "duration": 6,
    "start_time": "2022-04-09T20:55:54.231Z"
   },
   {
    "duration": 38,
    "start_time": "2022-04-09T20:55:54.238Z"
   },
   {
    "duration": 28,
    "start_time": "2022-04-09T20:55:54.278Z"
   },
   {
    "duration": 13,
    "start_time": "2022-04-09T20:55:54.308Z"
   },
   {
    "duration": 64,
    "start_time": "2022-04-09T20:55:54.322Z"
   },
   {
    "duration": 2,
    "start_time": "2022-04-09T20:55:54.388Z"
   },
   {
    "duration": 13,
    "start_time": "2022-04-09T20:55:54.391Z"
   },
   {
    "duration": 30,
    "start_time": "2022-04-09T20:55:54.406Z"
   },
   {
    "duration": 22,
    "start_time": "2022-04-09T20:55:54.457Z"
   },
   {
    "duration": 27,
    "start_time": "2022-04-09T20:55:54.480Z"
   },
   {
    "duration": 10,
    "start_time": "2022-04-09T20:55:54.509Z"
   },
   {
    "duration": 3,
    "start_time": "2022-04-09T20:55:54.523Z"
   },
   {
    "duration": 30,
    "start_time": "2022-04-09T20:55:54.528Z"
   },
   {
    "duration": 3,
    "start_time": "2022-04-09T20:55:54.560Z"
   },
   {
    "duration": 6,
    "start_time": "2022-04-09T20:55:54.564Z"
   },
   {
    "duration": 6,
    "start_time": "2022-04-09T20:55:54.572Z"
   },
   {
    "duration": 6,
    "start_time": "2022-04-09T20:55:54.580Z"
   },
   {
    "duration": 7,
    "start_time": "2022-04-09T20:55:54.587Z"
   },
   {
    "duration": 4,
    "start_time": "2022-04-09T20:55:54.596Z"
   },
   {
    "duration": 3,
    "start_time": "2022-04-09T20:55:54.603Z"
   },
   {
    "duration": 417,
    "start_time": "2022-04-09T20:58:41.859Z"
   },
   {
    "duration": 487,
    "start_time": "2022-04-09T21:04:36.535Z"
   },
   {
    "duration": 10,
    "start_time": "2022-04-09T21:10:41.080Z"
   },
   {
    "duration": 3,
    "start_time": "2022-04-09T21:12:24.829Z"
   },
   {
    "duration": 11,
    "start_time": "2022-04-09T21:18:21.316Z"
   },
   {
    "duration": 192,
    "start_time": "2022-04-09T21:18:41.768Z"
   },
   {
    "duration": 137,
    "start_time": "2022-04-09T21:20:21.499Z"
   },
   {
    "duration": 142,
    "start_time": "2022-04-09T21:20:35.637Z"
   },
   {
    "duration": 193,
    "start_time": "2022-04-09T21:22:12.451Z"
   },
   {
    "duration": 28,
    "start_time": "2022-04-09T21:22:36.740Z"
   },
   {
    "duration": 144,
    "start_time": "2022-04-09T21:22:55.643Z"
   },
   {
    "duration": 4,
    "start_time": "2022-04-09T21:26:56.867Z"
   },
   {
    "duration": 4,
    "start_time": "2022-04-09T21:27:07.224Z"
   },
   {
    "duration": 5,
    "start_time": "2022-04-09T21:27:13.342Z"
   },
   {
    "duration": 9,
    "start_time": "2022-04-09T21:27:31.072Z"
   },
   {
    "duration": 4,
    "start_time": "2022-04-09T21:27:43.219Z"
   },
   {
    "duration": 126,
    "start_time": "2022-04-09T21:28:34.421Z"
   },
   {
    "duration": 218,
    "start_time": "2022-04-09T21:28:56.101Z"
   },
   {
    "duration": 203,
    "start_time": "2022-04-09T21:29:01.686Z"
   },
   {
    "duration": 410,
    "start_time": "2022-04-09T21:29:12.300Z"
   },
   {
    "duration": 1654,
    "start_time": "2022-04-09T21:29:35.678Z"
   },
   {
    "duration": 480,
    "start_time": "2022-04-09T21:29:58.456Z"
   },
   {
    "duration": 217,
    "start_time": "2022-04-09T21:30:30.246Z"
   },
   {
    "duration": 23,
    "start_time": "2022-04-09T21:30:51.282Z"
   },
   {
    "duration": 134,
    "start_time": "2022-04-09T21:31:20.955Z"
   },
   {
    "duration": 4,
    "start_time": "2022-04-09T21:31:36.795Z"
   },
   {
    "duration": 128,
    "start_time": "2022-04-09T21:31:49.483Z"
   },
   {
    "duration": 225,
    "start_time": "2022-04-09T21:32:04.833Z"
   },
   {
    "duration": 119,
    "start_time": "2022-04-09T21:32:38.274Z"
   },
   {
    "duration": 206,
    "start_time": "2022-04-09T21:32:51.134Z"
   },
   {
    "duration": 107,
    "start_time": "2022-04-09T21:33:51.820Z"
   },
   {
    "duration": 342,
    "start_time": "2022-04-09T21:34:18.065Z"
   },
   {
    "duration": 114,
    "start_time": "2022-04-09T21:34:26.029Z"
   },
   {
    "duration": 2241,
    "start_time": "2022-04-09T21:34:59.949Z"
   },
   {
    "duration": 178,
    "start_time": "2022-04-09T21:35:05.712Z"
   },
   {
    "duration": 185,
    "start_time": "2022-04-09T21:35:55.356Z"
   },
   {
    "duration": 237,
    "start_time": "2022-04-09T21:50:05.950Z"
   },
   {
    "duration": 129,
    "start_time": "2022-04-09T21:50:16.222Z"
   },
   {
    "duration": 741,
    "start_time": "2022-04-10T15:02:48.220Z"
   },
   {
    "duration": 82,
    "start_time": "2022-04-10T15:02:48.963Z"
   },
   {
    "duration": 23,
    "start_time": "2022-04-10T15:02:49.047Z"
   },
   {
    "duration": 9,
    "start_time": "2022-04-10T15:02:49.081Z"
   },
   {
    "duration": 10,
    "start_time": "2022-04-10T15:02:49.092Z"
   },
   {
    "duration": 19,
    "start_time": "2022-04-10T15:02:49.103Z"
   },
   {
    "duration": 4,
    "start_time": "2022-04-10T15:02:49.123Z"
   },
   {
    "duration": 20,
    "start_time": "2022-04-10T15:02:49.129Z"
   },
   {
    "duration": 37,
    "start_time": "2022-04-10T15:02:49.150Z"
   },
   {
    "duration": 10,
    "start_time": "2022-04-10T15:02:49.190Z"
   },
   {
    "duration": 9,
    "start_time": "2022-04-10T15:02:49.201Z"
   },
   {
    "duration": 22,
    "start_time": "2022-04-10T15:02:49.212Z"
   },
   {
    "duration": 64,
    "start_time": "2022-04-10T15:02:49.235Z"
   },
   {
    "duration": 715,
    "start_time": "2022-04-10T15:02:49.301Z"
   },
   {
    "duration": 5,
    "start_time": "2022-04-10T15:02:50.018Z"
   },
   {
    "duration": 16,
    "start_time": "2022-04-10T15:02:50.024Z"
   },
   {
    "duration": 4,
    "start_time": "2022-04-10T15:02:50.042Z"
   },
   {
    "duration": 34,
    "start_time": "2022-04-10T15:02:50.047Z"
   },
   {
    "duration": 26,
    "start_time": "2022-04-10T15:02:50.083Z"
   },
   {
    "duration": 13,
    "start_time": "2022-04-10T15:02:50.110Z"
   },
   {
    "duration": 58,
    "start_time": "2022-04-10T15:02:50.124Z"
   },
   {
    "duration": 3,
    "start_time": "2022-04-10T15:02:50.183Z"
   },
   {
    "duration": 13,
    "start_time": "2022-04-10T15:02:50.188Z"
   },
   {
    "duration": 22,
    "start_time": "2022-04-10T15:02:50.203Z"
   },
   {
    "duration": 13,
    "start_time": "2022-04-10T15:02:50.227Z"
   },
   {
    "duration": 49,
    "start_time": "2022-04-10T15:02:50.241Z"
   },
   {
    "duration": 9,
    "start_time": "2022-04-10T15:02:50.292Z"
   },
   {
    "duration": 240,
    "start_time": "2022-04-10T15:02:50.304Z"
   },
   {
    "duration": 194,
    "start_time": "2022-04-10T15:02:50.546Z"
   },
   {
    "duration": 146,
    "start_time": "2022-04-10T15:02:50.741Z"
   },
   {
    "duration": 130,
    "start_time": "2022-04-10T15:02:50.888Z"
   },
   {
    "duration": 125,
    "start_time": "2022-04-10T15:02:51.020Z"
   },
   {
    "duration": 3,
    "start_time": "2022-04-10T15:02:51.146Z"
   },
   {
    "duration": 7,
    "start_time": "2022-04-10T15:02:51.150Z"
   },
   {
    "duration": 6,
    "start_time": "2022-04-10T15:02:51.158Z"
   },
   {
    "duration": 6,
    "start_time": "2022-04-10T15:02:51.166Z"
   },
   {
    "duration": 94,
    "start_time": "2022-04-10T15:12:30.393Z"
   },
   {
    "duration": 92,
    "start_time": "2022-04-10T15:12:42.925Z"
   },
   {
    "duration": 185,
    "start_time": "2022-04-10T15:12:51.416Z"
   },
   {
    "duration": 106,
    "start_time": "2022-04-10T15:13:39.607Z"
   },
   {
    "duration": 112,
    "start_time": "2022-04-10T15:13:45.902Z"
   },
   {
    "duration": 116,
    "start_time": "2022-04-10T15:13:51.576Z"
   },
   {
    "duration": 252,
    "start_time": "2022-04-10T15:13:58.554Z"
   },
   {
    "duration": 208,
    "start_time": "2022-04-10T15:17:10.661Z"
   },
   {
    "duration": 212,
    "start_time": "2022-04-10T15:19:49.630Z"
   },
   {
    "duration": 204,
    "start_time": "2022-04-10T15:20:07.052Z"
   },
   {
    "duration": 14,
    "start_time": "2022-04-10T15:23:47.911Z"
   },
   {
    "duration": 7,
    "start_time": "2022-04-10T15:24:15.230Z"
   },
   {
    "duration": 72,
    "start_time": "2022-04-10T15:26:01.717Z"
   },
   {
    "duration": 143,
    "start_time": "2022-04-10T15:26:44.440Z"
   },
   {
    "duration": 551,
    "start_time": "2022-04-10T15:27:31.331Z"
   },
   {
    "duration": 1495,
    "start_time": "2022-04-10T15:27:58.228Z"
   },
   {
    "duration": 8,
    "start_time": "2022-04-10T15:30:43.835Z"
   },
   {
    "duration": 9,
    "start_time": "2022-04-10T15:38:53.524Z"
   },
   {
    "duration": 33,
    "start_time": "2022-04-10T15:39:06.442Z"
   },
   {
    "duration": 27,
    "start_time": "2022-04-10T15:39:31.261Z"
   },
   {
    "duration": 24,
    "start_time": "2022-04-10T15:39:46.393Z"
   },
   {
    "duration": 136,
    "start_time": "2022-04-10T15:41:34.537Z"
   },
   {
    "duration": 152,
    "start_time": "2022-04-10T15:42:00.015Z"
   },
   {
    "duration": 18,
    "start_time": "2022-04-10T15:42:38.550Z"
   },
   {
    "duration": 21,
    "start_time": "2022-04-10T15:42:48.895Z"
   },
   {
    "duration": 3271,
    "start_time": "2022-04-10T15:44:26.335Z"
   },
   {
    "duration": 22,
    "start_time": "2022-04-10T15:52:43.802Z"
   },
   {
    "duration": 21,
    "start_time": "2022-04-10T15:57:27.796Z"
   },
   {
    "duration": 30,
    "start_time": "2022-04-10T16:00:11.619Z"
   },
   {
    "duration": 31,
    "start_time": "2022-04-10T16:01:24.281Z"
   },
   {
    "duration": 49,
    "start_time": "2022-04-10T16:02:00.829Z"
   },
   {
    "duration": 33,
    "start_time": "2022-04-10T16:02:18.627Z"
   },
   {
    "duration": 47,
    "start_time": "2022-04-10T16:02:29.246Z"
   },
   {
    "duration": 31,
    "start_time": "2022-04-10T16:02:48.648Z"
   },
   {
    "duration": 40,
    "start_time": "2022-04-10T16:04:31.977Z"
   },
   {
    "duration": 39,
    "start_time": "2022-04-10T16:05:27.228Z"
   },
   {
    "duration": 1282,
    "start_time": "2022-04-10T16:05:51.300Z"
   },
   {
    "duration": 1340,
    "start_time": "2022-04-10T16:08:40.129Z"
   },
   {
    "duration": 1332,
    "start_time": "2022-04-10T16:11:14.649Z"
   },
   {
    "duration": 1312,
    "start_time": "2022-04-10T16:12:53.887Z"
   },
   {
    "duration": 1308,
    "start_time": "2022-04-10T16:13:27.706Z"
   },
   {
    "duration": 1411,
    "start_time": "2022-04-10T16:13:40.647Z"
   },
   {
    "duration": 1319,
    "start_time": "2022-04-10T16:18:15.475Z"
   },
   {
    "duration": 1297,
    "start_time": "2022-04-10T16:19:50.360Z"
   },
   {
    "duration": 242,
    "start_time": "2022-04-10T16:20:16.346Z"
   },
   {
    "duration": 1324,
    "start_time": "2022-04-10T16:20:21.831Z"
   },
   {
    "duration": 1306,
    "start_time": "2022-04-10T16:20:51.484Z"
   },
   {
    "duration": 1297,
    "start_time": "2022-04-10T16:23:01.951Z"
   },
   {
    "duration": 1309,
    "start_time": "2022-04-10T16:23:29.530Z"
   },
   {
    "duration": 4526,
    "start_time": "2022-04-10T16:24:05.827Z"
   },
   {
    "duration": 1288,
    "start_time": "2022-04-10T16:24:32.625Z"
   },
   {
    "duration": 1321,
    "start_time": "2022-04-10T16:24:47.985Z"
   },
   {
    "duration": 31,
    "start_time": "2022-04-10T16:25:54.324Z"
   },
   {
    "duration": 38,
    "start_time": "2022-04-10T16:26:15.002Z"
   },
   {
    "duration": 1289,
    "start_time": "2022-04-10T16:26:46.215Z"
   },
   {
    "duration": 8,
    "start_time": "2022-04-10T16:28:55.442Z"
   },
   {
    "duration": 18,
    "start_time": "2022-04-10T16:29:39.990Z"
   },
   {
    "duration": 29,
    "start_time": "2022-04-10T16:33:02.689Z"
   },
   {
    "duration": 4175,
    "start_time": "2022-04-10T16:33:22.100Z"
   },
   {
    "duration": 7,
    "start_time": "2022-04-10T16:37:18.052Z"
   },
   {
    "duration": 18,
    "start_time": "2022-04-10T16:37:30.701Z"
   },
   {
    "duration": 3856,
    "start_time": "2022-04-10T16:38:55.550Z"
   },
   {
    "duration": 2059,
    "start_time": "2022-04-10T16:39:46.953Z"
   },
   {
    "duration": 3785,
    "start_time": "2022-04-10T16:51:56.166Z"
   },
   {
    "duration": 4313,
    "start_time": "2022-04-10T16:52:18.744Z"
   },
   {
    "duration": 1215,
    "start_time": "2022-04-10T21:28:05.131Z"
   },
   {
    "duration": 197,
    "start_time": "2022-04-10T21:28:06.349Z"
   },
   {
    "duration": 30,
    "start_time": "2022-04-10T21:28:06.549Z"
   },
   {
    "duration": 11,
    "start_time": "2022-04-10T21:28:06.581Z"
   },
   {
    "duration": 8,
    "start_time": "2022-04-10T21:28:06.594Z"
   },
   {
    "duration": 19,
    "start_time": "2022-04-10T21:28:06.604Z"
   },
   {
    "duration": 5,
    "start_time": "2022-04-10T21:28:06.625Z"
   },
   {
    "duration": 58,
    "start_time": "2022-04-10T21:28:06.632Z"
   },
   {
    "duration": 18,
    "start_time": "2022-04-10T21:28:06.692Z"
   },
   {
    "duration": 12,
    "start_time": "2022-04-10T21:28:06.713Z"
   },
   {
    "duration": 12,
    "start_time": "2022-04-10T21:28:06.727Z"
   },
   {
    "duration": 72,
    "start_time": "2022-04-10T21:28:06.741Z"
   },
   {
    "duration": 98,
    "start_time": "2022-04-10T21:28:06.815Z"
   },
   {
    "duration": 1548,
    "start_time": "2022-04-10T21:28:06.915Z"
   },
   {
    "duration": 16,
    "start_time": "2022-04-10T21:28:08.466Z"
   },
   {
    "duration": 21,
    "start_time": "2022-04-10T21:28:08.484Z"
   },
   {
    "duration": 6,
    "start_time": "2022-04-10T21:28:08.507Z"
   },
   {
    "duration": 24,
    "start_time": "2022-04-10T21:28:08.515Z"
   },
   {
    "duration": 59,
    "start_time": "2022-04-10T21:28:08.541Z"
   },
   {
    "duration": 16,
    "start_time": "2022-04-10T21:28:08.602Z"
   },
   {
    "duration": 64,
    "start_time": "2022-04-10T21:28:08.619Z"
   },
   {
    "duration": 2,
    "start_time": "2022-04-10T21:28:08.685Z"
   },
   {
    "duration": 15,
    "start_time": "2022-04-10T21:28:08.688Z"
   },
   {
    "duration": 30,
    "start_time": "2022-04-10T21:28:08.705Z"
   },
   {
    "duration": 47,
    "start_time": "2022-04-10T21:28:08.737Z"
   },
   {
    "duration": 43,
    "start_time": "2022-04-10T21:28:08.786Z"
   },
   {
    "duration": 13,
    "start_time": "2022-04-10T21:28:08.831Z"
   },
   {
    "duration": 277,
    "start_time": "2022-04-10T21:28:08.847Z"
   },
   {
    "duration": 235,
    "start_time": "2022-04-10T21:28:09.126Z"
   },
   {
    "duration": 184,
    "start_time": "2022-04-10T21:28:09.363Z"
   },
   {
    "duration": 143,
    "start_time": "2022-04-10T21:28:09.549Z"
   },
   {
    "duration": 162,
    "start_time": "2022-04-10T21:28:09.694Z"
   },
   {
    "duration": 3,
    "start_time": "2022-04-10T21:28:09.858Z"
   },
   {
    "duration": 16,
    "start_time": "2022-04-10T21:28:09.863Z"
   },
   {
    "duration": 7,
    "start_time": "2022-04-10T21:28:09.881Z"
   },
   {
    "duration": 6,
    "start_time": "2022-04-10T21:28:09.890Z"
   },
   {
    "duration": 252,
    "start_time": "2022-04-10T21:28:09.897Z"
   },
   {
    "duration": 1767,
    "start_time": "2022-04-10T21:28:10.151Z"
   },
   {
    "duration": 4224,
    "start_time": "2022-04-10T21:28:11.919Z"
   },
   {
    "duration": 0,
    "start_time": "2022-04-10T21:28:16.145Z"
   },
   {
    "duration": 11,
    "start_time": "2022-04-10T21:51:11.463Z"
   },
   {
    "duration": 133,
    "start_time": "2022-04-10T21:52:29.240Z"
   },
   {
    "duration": 10,
    "start_time": "2022-04-10T21:56:00.246Z"
   },
   {
    "duration": 127,
    "start_time": "2022-04-10T21:56:13.631Z"
   },
   {
    "duration": 105,
    "start_time": "2022-04-10T22:01:08.494Z"
   },
   {
    "duration": 150,
    "start_time": "2022-04-10T22:01:19.519Z"
   },
   {
    "duration": 208,
    "start_time": "2022-04-10T22:01:36.704Z"
   },
   {
    "duration": 9,
    "start_time": "2022-04-10T22:04:15.865Z"
   },
   {
    "duration": 11,
    "start_time": "2022-04-10T22:05:58.386Z"
   },
   {
    "duration": 11,
    "start_time": "2022-04-10T22:07:44.843Z"
   },
   {
    "duration": 11,
    "start_time": "2022-04-10T22:08:03.409Z"
   },
   {
    "duration": 312,
    "start_time": "2022-04-10T22:10:30.742Z"
   },
   {
    "duration": 446,
    "start_time": "2022-04-10T22:11:04.730Z"
   },
   {
    "duration": 183,
    "start_time": "2022-04-10T22:11:18.497Z"
   },
   {
    "duration": 170,
    "start_time": "2022-04-10T22:11:53.481Z"
   },
   {
    "duration": 176,
    "start_time": "2022-04-10T22:12:12.539Z"
   },
   {
    "duration": 158,
    "start_time": "2022-04-10T22:12:31.525Z"
   },
   {
    "duration": 118,
    "start_time": "2022-04-10T22:19:34.211Z"
   },
   {
    "duration": 123,
    "start_time": "2022-04-10T22:19:47.493Z"
   },
   {
    "duration": 129,
    "start_time": "2022-04-10T22:19:59.781Z"
   },
   {
    "duration": 90,
    "start_time": "2022-04-10T22:20:15.911Z"
   },
   {
    "duration": 92,
    "start_time": "2022-04-10T22:20:36.953Z"
   },
   {
    "duration": 109,
    "start_time": "2022-04-10T22:20:41.144Z"
   },
   {
    "duration": 110,
    "start_time": "2022-04-10T22:22:24.190Z"
   },
   {
    "duration": 119,
    "start_time": "2022-04-10T22:29:01.091Z"
   },
   {
    "duration": 334,
    "start_time": "2022-04-10T22:29:34.670Z"
   },
   {
    "duration": 225,
    "start_time": "2022-04-10T22:29:41.073Z"
   },
   {
    "duration": 128,
    "start_time": "2022-04-10T22:30:04.108Z"
   },
   {
    "duration": 129,
    "start_time": "2022-04-10T22:30:20.249Z"
   },
   {
    "duration": 347,
    "start_time": "2022-04-10T22:30:25.298Z"
   },
   {
    "duration": 137,
    "start_time": "2022-04-10T22:30:41.564Z"
   },
   {
    "duration": 119,
    "start_time": "2022-04-10T22:30:58.963Z"
   },
   {
    "duration": 127,
    "start_time": "2022-04-10T22:32:35.904Z"
   },
   {
    "duration": 130,
    "start_time": "2022-04-10T22:33:34.444Z"
   },
   {
    "duration": 121,
    "start_time": "2022-04-10T22:33:51.409Z"
   },
   {
    "duration": 82,
    "start_time": "2022-04-12T09:13:26.745Z"
   },
   {
    "duration": 1186,
    "start_time": "2022-04-12T09:13:43.798Z"
   },
   {
    "duration": 394,
    "start_time": "2022-04-12T09:13:44.989Z"
   },
   {
    "duration": 49,
    "start_time": "2022-04-12T09:13:45.385Z"
   },
   {
    "duration": 18,
    "start_time": "2022-04-12T09:13:45.437Z"
   },
   {
    "duration": 17,
    "start_time": "2022-04-12T09:13:45.475Z"
   },
   {
    "duration": 34,
    "start_time": "2022-04-12T09:13:45.494Z"
   },
   {
    "duration": 7,
    "start_time": "2022-04-12T09:13:45.530Z"
   },
   {
    "duration": 60,
    "start_time": "2022-04-12T09:13:45.539Z"
   },
   {
    "duration": 24,
    "start_time": "2022-04-12T09:13:45.601Z"
   },
   {
    "duration": 15,
    "start_time": "2022-04-12T09:13:45.627Z"
   },
   {
    "duration": 44,
    "start_time": "2022-04-12T09:13:45.645Z"
   },
   {
    "duration": 41,
    "start_time": "2022-04-12T09:13:45.691Z"
   },
   {
    "duration": 81,
    "start_time": "2022-04-12T09:13:45.734Z"
   },
   {
    "duration": 1596,
    "start_time": "2022-04-12T09:13:45.820Z"
   },
   {
    "duration": 7,
    "start_time": "2022-04-12T09:13:47.418Z"
   },
   {
    "duration": 27,
    "start_time": "2022-04-12T09:13:47.427Z"
   },
   {
    "duration": 26,
    "start_time": "2022-04-12T09:13:47.457Z"
   },
   {
    "duration": 50,
    "start_time": "2022-04-12T09:13:47.485Z"
   },
   {
    "duration": 47,
    "start_time": "2022-04-12T09:13:47.537Z"
   },
   {
    "duration": 26,
    "start_time": "2022-04-12T09:13:47.586Z"
   },
   {
    "duration": 71,
    "start_time": "2022-04-12T09:13:47.615Z"
   },
   {
    "duration": 3,
    "start_time": "2022-04-12T09:13:47.688Z"
   },
   {
    "duration": 28,
    "start_time": "2022-04-12T09:13:47.693Z"
   },
   {
    "duration": 28,
    "start_time": "2022-04-12T09:13:47.723Z"
   },
   {
    "duration": 53,
    "start_time": "2022-04-12T09:13:47.753Z"
   },
   {
    "duration": 40,
    "start_time": "2022-04-12T09:13:47.808Z"
   },
   {
    "duration": 33,
    "start_time": "2022-04-12T09:13:47.851Z"
   },
   {
    "duration": 473,
    "start_time": "2022-04-12T09:13:47.886Z"
   },
   {
    "duration": 412,
    "start_time": "2022-04-12T09:13:48.361Z"
   },
   {
    "duration": 256,
    "start_time": "2022-04-12T09:13:48.775Z"
   },
   {
    "duration": 238,
    "start_time": "2022-04-12T09:13:49.033Z"
   },
   {
    "duration": 228,
    "start_time": "2022-04-12T09:13:49.274Z"
   },
   {
    "duration": 8,
    "start_time": "2022-04-12T09:13:49.505Z"
   },
   {
    "duration": 389,
    "start_time": "2022-04-12T09:13:49.516Z"
   },
   {
    "duration": 369,
    "start_time": "2022-04-12T09:13:49.907Z"
   },
   {
    "duration": 338,
    "start_time": "2022-04-12T09:13:50.279Z"
   },
   {
    "duration": 341,
    "start_time": "2022-04-12T09:13:50.619Z"
   },
   {
    "duration": 27,
    "start_time": "2022-04-12T09:13:50.963Z"
   },
   {
    "duration": 29,
    "start_time": "2022-04-12T09:13:50.995Z"
   },
   {
    "duration": 224,
    "start_time": "2022-04-12T09:13:51.026Z"
   },
   {
    "duration": 229,
    "start_time": "2022-04-12T09:13:51.256Z"
   },
   {
    "duration": 227,
    "start_time": "2022-04-12T09:13:51.487Z"
   },
   {
    "duration": 3,
    "start_time": "2022-04-12T09:13:51.716Z"
   },
   {
    "duration": 488,
    "start_time": "2022-04-12T09:13:51.722Z"
   },
   {
    "duration": 2391,
    "start_time": "2022-04-12T09:13:52.212Z"
   },
   {
    "duration": 93,
    "start_time": "2022-04-12T09:13:54.606Z"
   },
   {
    "duration": 0,
    "start_time": "2022-04-12T09:13:54.701Z"
   },
   {
    "duration": 0,
    "start_time": "2022-04-12T09:13:54.704Z"
   },
   {
    "duration": 1497,
    "start_time": "2022-04-12T09:14:44.682Z"
   },
   {
    "duration": 152,
    "start_time": "2022-04-12T09:26:55.583Z"
   },
   {
    "duration": 1241,
    "start_time": "2022-04-12T09:27:06.045Z"
   },
   {
    "duration": 82,
    "start_time": "2022-04-12T09:29:01.535Z"
   },
   {
    "duration": 8,
    "start_time": "2022-04-12T09:29:17.966Z"
   },
   {
    "duration": 101,
    "start_time": "2022-04-12T09:29:59.795Z"
   },
   {
    "duration": 95,
    "start_time": "2022-04-12T09:30:27.702Z"
   },
   {
    "duration": 122,
    "start_time": "2022-04-12T09:33:49.996Z"
   },
   {
    "duration": 32,
    "start_time": "2022-04-12T09:34:37.549Z"
   },
   {
    "duration": 950,
    "start_time": "2022-04-12T09:38:14.589Z"
   },
   {
    "duration": 124,
    "start_time": "2022-04-12T09:38:15.541Z"
   },
   {
    "duration": 48,
    "start_time": "2022-04-12T09:38:15.667Z"
   },
   {
    "duration": 14,
    "start_time": "2022-04-12T09:38:15.718Z"
   },
   {
    "duration": 12,
    "start_time": "2022-04-12T09:38:15.734Z"
   },
   {
    "duration": 36,
    "start_time": "2022-04-12T09:38:15.774Z"
   },
   {
    "duration": 9,
    "start_time": "2022-04-12T09:38:15.813Z"
   },
   {
    "duration": 59,
    "start_time": "2022-04-12T09:38:15.824Z"
   },
   {
    "duration": 28,
    "start_time": "2022-04-12T09:38:15.890Z"
   },
   {
    "duration": 15,
    "start_time": "2022-04-12T09:38:15.922Z"
   },
   {
    "duration": 15,
    "start_time": "2022-04-12T09:38:15.939Z"
   },
   {
    "duration": 70,
    "start_time": "2022-04-12T09:38:15.956Z"
   },
   {
    "duration": 90,
    "start_time": "2022-04-12T09:38:16.028Z"
   },
   {
    "duration": 1797,
    "start_time": "2022-04-12T09:38:16.120Z"
   },
   {
    "duration": 7,
    "start_time": "2022-04-12T09:38:17.919Z"
   },
   {
    "duration": 19,
    "start_time": "2022-04-12T09:38:17.927Z"
   },
   {
    "duration": 27,
    "start_time": "2022-04-12T09:38:17.949Z"
   },
   {
    "duration": 29,
    "start_time": "2022-04-12T09:38:17.981Z"
   },
   {
    "duration": 67,
    "start_time": "2022-04-12T09:38:18.012Z"
   },
   {
    "duration": 26,
    "start_time": "2022-04-12T09:38:18.084Z"
   },
   {
    "duration": 80,
    "start_time": "2022-04-12T09:38:18.113Z"
   },
   {
    "duration": 5,
    "start_time": "2022-04-12T09:38:18.195Z"
   },
   {
    "duration": 30,
    "start_time": "2022-04-12T09:38:18.202Z"
   },
   {
    "duration": 28,
    "start_time": "2022-04-12T09:38:18.235Z"
   },
   {
    "duration": 33,
    "start_time": "2022-04-12T09:38:18.277Z"
   },
   {
    "duration": 37,
    "start_time": "2022-04-12T09:38:18.312Z"
   },
   {
    "duration": 46,
    "start_time": "2022-04-12T09:38:18.351Z"
   },
   {
    "duration": 472,
    "start_time": "2022-04-12T09:38:18.404Z"
   },
   {
    "duration": 429,
    "start_time": "2022-04-12T09:38:18.878Z"
   },
   {
    "duration": 282,
    "start_time": "2022-04-12T09:38:19.310Z"
   },
   {
    "duration": 230,
    "start_time": "2022-04-12T09:38:19.596Z"
   },
   {
    "duration": 242,
    "start_time": "2022-04-12T09:38:19.828Z"
   },
   {
    "duration": 10,
    "start_time": "2022-04-12T09:38:20.073Z"
   },
   {
    "duration": 508,
    "start_time": "2022-04-12T09:38:20.086Z"
   },
   {
    "duration": 341,
    "start_time": "2022-04-12T09:38:20.598Z"
   },
   {
    "duration": 314,
    "start_time": "2022-04-12T09:38:20.942Z"
   },
   {
    "duration": 406,
    "start_time": "2022-04-12T09:38:21.258Z"
   },
   {
    "duration": 21,
    "start_time": "2022-04-12T09:38:21.666Z"
   },
   {
    "duration": 30,
    "start_time": "2022-04-12T09:38:21.690Z"
   },
   {
    "duration": 224,
    "start_time": "2022-04-12T09:38:21.722Z"
   },
   {
    "duration": 233,
    "start_time": "2022-04-12T09:38:21.949Z"
   },
   {
    "duration": 205,
    "start_time": "2022-04-12T09:38:22.185Z"
   },
   {
    "duration": 3,
    "start_time": "2022-04-12T09:38:22.392Z"
   },
   {
    "duration": 495,
    "start_time": "2022-04-12T09:38:22.401Z"
   },
   {
    "duration": 2434,
    "start_time": "2022-04-12T09:38:22.899Z"
   },
   {
    "duration": 154,
    "start_time": "2022-04-12T09:38:25.335Z"
   },
   {
    "duration": 0,
    "start_time": "2022-04-12T09:38:25.493Z"
   },
   {
    "duration": 0,
    "start_time": "2022-04-12T09:38:25.494Z"
   },
   {
    "duration": 1186,
    "start_time": "2022-04-12T09:40:17.021Z"
   },
   {
    "duration": 1216,
    "start_time": "2022-04-12T09:40:22.611Z"
   },
   {
    "duration": 293,
    "start_time": "2022-04-12T09:42:53.667Z"
   },
   {
    "duration": 195,
    "start_time": "2022-04-12T09:43:03.181Z"
   },
   {
    "duration": 250,
    "start_time": "2022-04-12T09:43:11.602Z"
   },
   {
    "duration": 184,
    "start_time": "2022-04-12T09:43:41.798Z"
   },
   {
    "duration": 183,
    "start_time": "2022-04-12T09:43:52.028Z"
   },
   {
    "duration": 4,
    "start_time": "2022-04-12T09:58:56.298Z"
   },
   {
    "duration": 208,
    "start_time": "2022-04-12T10:00:09.815Z"
   },
   {
    "duration": 218,
    "start_time": "2022-04-12T10:01:41.783Z"
   },
   {
    "duration": 260,
    "start_time": "2022-04-12T10:01:53.417Z"
   },
   {
    "duration": 217,
    "start_time": "2022-04-12T10:01:59.403Z"
   },
   {
    "duration": 221,
    "start_time": "2022-04-12T10:02:06.742Z"
   },
   {
    "duration": 230,
    "start_time": "2022-04-12T10:02:13.952Z"
   },
   {
    "duration": 325,
    "start_time": "2022-04-12T10:02:20.104Z"
   },
   {
    "duration": 230,
    "start_time": "2022-04-12T10:02:31.028Z"
   },
   {
    "duration": 299,
    "start_time": "2022-04-12T10:02:37.827Z"
   },
   {
    "duration": 190,
    "start_time": "2022-04-12T10:04:32.303Z"
   },
   {
    "duration": 229,
    "start_time": "2022-04-12T10:04:42.326Z"
   },
   {
    "duration": 181,
    "start_time": "2022-04-12T10:04:50.554Z"
   },
   {
    "duration": 207,
    "start_time": "2022-04-12T10:05:00.790Z"
   },
   {
    "duration": 420,
    "start_time": "2022-04-12T10:05:08.732Z"
   },
   {
    "duration": 171,
    "start_time": "2022-04-12T10:05:27.701Z"
   },
   {
    "duration": 268,
    "start_time": "2022-04-12T10:05:35.335Z"
   },
   {
    "duration": 174,
    "start_time": "2022-04-12T10:06:47.303Z"
   },
   {
    "duration": 203,
    "start_time": "2022-04-12T10:07:02.691Z"
   },
   {
    "duration": 193,
    "start_time": "2022-04-12T10:07:07.832Z"
   },
   {
    "duration": 273,
    "start_time": "2022-04-12T10:07:12.742Z"
   },
   {
    "duration": 194,
    "start_time": "2022-04-12T10:07:59.052Z"
   },
   {
    "duration": 357,
    "start_time": "2022-04-12T10:16:52.233Z"
   },
   {
    "duration": 103,
    "start_time": "2022-04-12T10:20:24.136Z"
   },
   {
    "duration": 417,
    "start_time": "2022-04-12T10:21:36.401Z"
   },
   {
    "duration": 211,
    "start_time": "2022-04-12T10:22:34.497Z"
   },
   {
    "duration": 360,
    "start_time": "2022-04-12T10:23:03.858Z"
   },
   {
    "duration": 817,
    "start_time": "2022-04-12T12:25:16.515Z"
   },
   {
    "duration": 94,
    "start_time": "2022-04-12T12:25:17.334Z"
   },
   {
    "duration": 26,
    "start_time": "2022-04-12T12:25:17.429Z"
   },
   {
    "duration": 11,
    "start_time": "2022-04-12T12:25:17.457Z"
   },
   {
    "duration": 9,
    "start_time": "2022-04-12T12:25:17.469Z"
   },
   {
    "duration": 41,
    "start_time": "2022-04-12T12:25:17.479Z"
   },
   {
    "duration": 5,
    "start_time": "2022-04-12T12:25:17.522Z"
   },
   {
    "duration": 21,
    "start_time": "2022-04-12T12:25:17.528Z"
   },
   {
    "duration": 17,
    "start_time": "2022-04-12T12:25:17.550Z"
   },
   {
    "duration": 40,
    "start_time": "2022-04-12T12:25:17.570Z"
   },
   {
    "duration": 13,
    "start_time": "2022-04-12T12:25:17.612Z"
   },
   {
    "duration": 25,
    "start_time": "2022-04-12T12:25:17.627Z"
   },
   {
    "duration": 68,
    "start_time": "2022-04-12T12:25:17.653Z"
   },
   {
    "duration": 885,
    "start_time": "2022-04-12T12:25:17.723Z"
   },
   {
    "duration": 4,
    "start_time": "2022-04-12T12:25:18.611Z"
   },
   {
    "duration": 15,
    "start_time": "2022-04-12T12:25:18.617Z"
   },
   {
    "duration": 7,
    "start_time": "2022-04-12T12:25:18.634Z"
   },
   {
    "duration": 16,
    "start_time": "2022-04-12T12:25:18.643Z"
   },
   {
    "duration": 70,
    "start_time": "2022-04-12T12:25:18.661Z"
   },
   {
    "duration": 16,
    "start_time": "2022-04-12T12:25:18.733Z"
   },
   {
    "duration": 68,
    "start_time": "2022-04-12T12:25:18.751Z"
   },
   {
    "duration": 3,
    "start_time": "2022-04-12T12:25:18.821Z"
   },
   {
    "duration": 13,
    "start_time": "2022-04-12T12:25:18.826Z"
   },
   {
    "duration": 22,
    "start_time": "2022-04-12T12:25:18.841Z"
   },
   {
    "duration": 44,
    "start_time": "2022-04-12T12:25:18.865Z"
   },
   {
    "duration": 28,
    "start_time": "2022-04-12T12:25:18.911Z"
   },
   {
    "duration": 12,
    "start_time": "2022-04-12T12:25:18.941Z"
   },
   {
    "duration": 303,
    "start_time": "2022-04-12T12:25:18.958Z"
   },
   {
    "duration": 264,
    "start_time": "2022-04-12T12:25:19.263Z"
   },
   {
    "duration": 202,
    "start_time": "2022-04-12T12:25:19.529Z"
   },
   {
    "duration": 146,
    "start_time": "2022-04-12T12:25:19.733Z"
   },
   {
    "duration": 148,
    "start_time": "2022-04-12T12:25:19.881Z"
   },
   {
    "duration": 3,
    "start_time": "2022-04-12T12:25:20.030Z"
   },
   {
    "duration": 216,
    "start_time": "2022-04-12T12:25:20.035Z"
   },
   {
    "duration": 184,
    "start_time": "2022-04-12T12:25:20.253Z"
   },
   {
    "duration": 158,
    "start_time": "2022-04-12T12:25:20.438Z"
   },
   {
    "duration": 176,
    "start_time": "2022-04-12T12:25:20.597Z"
   },
   {
    "duration": 11,
    "start_time": "2022-04-12T12:25:20.775Z"
   },
   {
    "duration": 22,
    "start_time": "2022-04-12T12:25:20.788Z"
   },
   {
    "duration": 2,
    "start_time": "2022-04-12T12:25:20.812Z"
   },
   {
    "duration": 137,
    "start_time": "2022-04-12T12:25:20.816Z"
   },
   {
    "duration": 142,
    "start_time": "2022-04-12T12:25:20.954Z"
   },
   {
    "duration": 123,
    "start_time": "2022-04-12T12:25:21.098Z"
   },
   {
    "duration": 190,
    "start_time": "2022-04-12T12:25:21.223Z"
   },
   {
    "duration": 2,
    "start_time": "2022-04-12T12:25:21.414Z"
   },
   {
    "duration": 300,
    "start_time": "2022-04-12T12:25:21.418Z"
   },
   {
    "duration": 193,
    "start_time": "2022-04-12T12:25:21.720Z"
   },
   {
    "duration": 1586,
    "start_time": "2022-04-12T12:25:21.915Z"
   },
   {
    "duration": 679,
    "start_time": "2022-04-12T12:25:23.503Z"
   },
   {
    "duration": 773,
    "start_time": "2022-04-12T12:25:24.183Z"
   },
   {
    "duration": 4,
    "start_time": "2022-04-12T12:35:08.556Z"
   },
   {
    "duration": 174,
    "start_time": "2022-04-12T12:39:22.928Z"
   },
   {
    "duration": 107,
    "start_time": "2022-04-12T12:39:38.801Z"
   },
   {
    "duration": 175,
    "start_time": "2022-04-12T12:43:29.847Z"
   },
   {
    "duration": 134,
    "start_time": "2022-04-12T12:46:45.000Z"
   },
   {
    "duration": 126,
    "start_time": "2022-04-12T12:50:08.332Z"
   },
   {
    "duration": 11,
    "start_time": "2022-04-12T12:51:01.827Z"
   },
   {
    "duration": 26,
    "start_time": "2022-04-12T12:51:24.365Z"
   },
   {
    "duration": 177,
    "start_time": "2022-04-12T12:53:05.212Z"
   },
   {
    "duration": 159,
    "start_time": "2022-04-12T12:53:27.734Z"
   },
   {
    "duration": 165,
    "start_time": "2022-04-12T12:53:37.985Z"
   },
   {
    "duration": 145,
    "start_time": "2022-04-12T12:54:13.373Z"
   },
   {
    "duration": 158,
    "start_time": "2022-04-12T12:54:31.735Z"
   },
   {
    "duration": 31,
    "start_time": "2022-04-12T12:55:18.768Z"
   },
   {
    "duration": 31,
    "start_time": "2022-04-12T12:55:54.182Z"
   },
   {
    "duration": 27,
    "start_time": "2022-04-12T12:58:25.579Z"
   },
   {
    "duration": 9,
    "start_time": "2022-04-12T12:59:30.271Z"
   },
   {
    "duration": 670,
    "start_time": "2022-04-12T13:00:07.820Z"
   },
   {
    "duration": 98,
    "start_time": "2022-04-12T13:00:08.492Z"
   },
   {
    "duration": 27,
    "start_time": "2022-04-12T13:00:08.592Z"
   },
   {
    "duration": 11,
    "start_time": "2022-04-12T13:00:08.621Z"
   },
   {
    "duration": 11,
    "start_time": "2022-04-12T13:00:08.634Z"
   },
   {
    "duration": 22,
    "start_time": "2022-04-12T13:00:08.647Z"
   },
   {
    "duration": 4,
    "start_time": "2022-04-12T13:00:08.671Z"
   },
   {
    "duration": 47,
    "start_time": "2022-04-12T13:00:08.677Z"
   },
   {
    "duration": 17,
    "start_time": "2022-04-12T13:00:08.726Z"
   },
   {
    "duration": 11,
    "start_time": "2022-04-12T13:00:08.745Z"
   },
   {
    "duration": 10,
    "start_time": "2022-04-12T13:00:08.758Z"
   },
   {
    "duration": 54,
    "start_time": "2022-04-12T13:00:08.769Z"
   },
   {
    "duration": 52,
    "start_time": "2022-04-12T13:00:08.825Z"
   },
   {
    "duration": 1001,
    "start_time": "2022-04-12T13:00:08.878Z"
   },
   {
    "duration": 5,
    "start_time": "2022-04-12T13:00:09.881Z"
   },
   {
    "duration": 27,
    "start_time": "2022-04-12T13:00:09.888Z"
   },
   {
    "duration": 6,
    "start_time": "2022-04-12T13:00:09.916Z"
   },
   {
    "duration": 17,
    "start_time": "2022-04-12T13:00:09.923Z"
   },
   {
    "duration": 33,
    "start_time": "2022-04-12T13:00:09.942Z"
   },
   {
    "duration": 40,
    "start_time": "2022-04-12T13:00:09.977Z"
   },
   {
    "duration": 47,
    "start_time": "2022-04-12T13:00:10.019Z"
   },
   {
    "duration": 3,
    "start_time": "2022-04-12T13:00:10.068Z"
   },
   {
    "duration": 14,
    "start_time": "2022-04-12T13:00:10.073Z"
   },
   {
    "duration": 24,
    "start_time": "2022-04-12T13:00:10.108Z"
   },
   {
    "duration": 17,
    "start_time": "2022-04-12T13:00:10.134Z"
   },
   {
    "duration": 56,
    "start_time": "2022-04-12T13:00:10.152Z"
   },
   {
    "duration": 13,
    "start_time": "2022-04-12T13:00:10.210Z"
   },
   {
    "duration": 301,
    "start_time": "2022-04-12T13:00:10.226Z"
   },
   {
    "duration": 256,
    "start_time": "2022-04-12T13:00:10.529Z"
   },
   {
    "duration": 196,
    "start_time": "2022-04-12T13:00:10.787Z"
   },
   {
    "duration": 155,
    "start_time": "2022-04-12T13:00:10.985Z"
   },
   {
    "duration": 141,
    "start_time": "2022-04-12T13:00:11.142Z"
   },
   {
    "duration": 2,
    "start_time": "2022-04-12T13:00:11.285Z"
   },
   {
    "duration": 226,
    "start_time": "2022-04-12T13:00:11.289Z"
   },
   {
    "duration": 197,
    "start_time": "2022-04-12T13:00:11.517Z"
   },
   {
    "duration": 168,
    "start_time": "2022-04-12T13:00:11.716Z"
   },
   {
    "duration": 183,
    "start_time": "2022-04-12T13:00:11.886Z"
   },
   {
    "duration": 15,
    "start_time": "2022-04-12T13:00:12.070Z"
   },
   {
    "duration": 25,
    "start_time": "2022-04-12T13:00:12.087Z"
   },
   {
    "duration": 3,
    "start_time": "2022-04-12T13:00:12.114Z"
   },
   {
    "duration": 148,
    "start_time": "2022-04-12T13:00:12.119Z"
   },
   {
    "duration": 160,
    "start_time": "2022-04-12T13:00:12.268Z"
   },
   {
    "duration": 122,
    "start_time": "2022-04-12T13:00:12.430Z"
   },
   {
    "duration": 202,
    "start_time": "2022-04-12T13:00:12.554Z"
   },
   {
    "duration": 18,
    "start_time": "2022-04-12T13:00:12.758Z"
   },
   {
    "duration": 267,
    "start_time": "2022-04-12T13:00:12.778Z"
   },
   {
    "duration": 170,
    "start_time": "2022-04-12T13:00:13.047Z"
   },
   {
    "duration": 222,
    "start_time": "2022-04-12T13:00:13.218Z"
   },
   {
    "duration": 199,
    "start_time": "2022-04-12T13:00:13.442Z"
   },
   {
    "duration": 265,
    "start_time": "2022-04-12T13:00:13.643Z"
   },
   {
    "duration": 209,
    "start_time": "2022-04-12T13:00:13.910Z"
   },
   {
    "duration": 1650,
    "start_time": "2022-04-12T13:00:14.121Z"
   },
   {
    "duration": 788,
    "start_time": "2022-04-12T13:00:15.773Z"
   },
   {
    "duration": 725,
    "start_time": "2022-04-12T13:00:16.563Z"
   },
   {
    "duration": 826,
    "start_time": "2022-04-12T13:03:29.282Z"
   },
   {
    "duration": 83,
    "start_time": "2022-04-12T13:03:52.297Z"
   },
   {
    "duration": 1026,
    "start_time": "2022-04-12T13:04:04.406Z"
   },
   {
    "duration": 24,
    "start_time": "2022-04-12T13:05:00.345Z"
   },
   {
    "duration": 36,
    "start_time": "2022-04-12T13:05:13.139Z"
   },
   {
    "duration": 815,
    "start_time": "2022-04-12T13:09:16.898Z"
   },
   {
    "duration": 4,
    "start_time": "2022-04-12T13:09:57.682Z"
   },
   {
    "duration": 1120,
    "start_time": "2022-04-12T13:10:06.574Z"
   },
   {
    "duration": 797,
    "start_time": "2022-04-12T13:10:27.883Z"
   },
   {
    "duration": 698,
    "start_time": "2022-04-12T13:10:49.225Z"
   },
   {
    "duration": 96,
    "start_time": "2022-04-12T13:10:49.925Z"
   },
   {
    "duration": 28,
    "start_time": "2022-04-12T13:10:50.023Z"
   },
   {
    "duration": 12,
    "start_time": "2022-04-12T13:10:50.053Z"
   },
   {
    "duration": 9,
    "start_time": "2022-04-12T13:10:50.066Z"
   },
   {
    "duration": 19,
    "start_time": "2022-04-12T13:10:50.107Z"
   },
   {
    "duration": 5,
    "start_time": "2022-04-12T13:10:50.128Z"
   },
   {
    "duration": 27,
    "start_time": "2022-04-12T13:10:50.134Z"
   },
   {
    "duration": 49,
    "start_time": "2022-04-12T13:10:50.163Z"
   },
   {
    "duration": 12,
    "start_time": "2022-04-12T13:10:50.215Z"
   },
   {
    "duration": 10,
    "start_time": "2022-04-12T13:10:50.228Z"
   },
   {
    "duration": 28,
    "start_time": "2022-04-12T13:10:50.240Z"
   },
   {
    "duration": 86,
    "start_time": "2022-04-12T13:10:50.269Z"
   },
   {
    "duration": 976,
    "start_time": "2022-04-12T13:10:50.357Z"
   },
   {
    "duration": 6,
    "start_time": "2022-04-12T13:10:51.335Z"
   },
   {
    "duration": 17,
    "start_time": "2022-04-12T13:10:51.342Z"
   },
   {
    "duration": 9,
    "start_time": "2022-04-12T13:10:51.360Z"
   },
   {
    "duration": 38,
    "start_time": "2022-04-12T13:10:51.370Z"
   },
   {
    "duration": 29,
    "start_time": "2022-04-12T13:10:51.410Z"
   },
   {
    "duration": 15,
    "start_time": "2022-04-12T13:10:51.441Z"
   },
   {
    "duration": 66,
    "start_time": "2022-04-12T13:10:51.458Z"
   },
   {
    "duration": 2,
    "start_time": "2022-04-12T13:10:51.526Z"
   },
   {
    "duration": 15,
    "start_time": "2022-04-12T13:10:51.530Z"
   },
   {
    "duration": 22,
    "start_time": "2022-04-12T13:10:51.547Z"
   },
   {
    "duration": 42,
    "start_time": "2022-04-12T13:10:51.570Z"
   },
   {
    "duration": 46,
    "start_time": "2022-04-12T13:10:51.614Z"
   },
   {
    "duration": 13,
    "start_time": "2022-04-12T13:10:51.662Z"
   },
   {
    "duration": 297,
    "start_time": "2022-04-12T13:10:51.680Z"
   },
   {
    "duration": 252,
    "start_time": "2022-04-12T13:10:51.979Z"
   },
   {
    "duration": 192,
    "start_time": "2022-04-12T13:10:52.232Z"
   },
   {
    "duration": 150,
    "start_time": "2022-04-12T13:10:52.426Z"
   },
   {
    "duration": 141,
    "start_time": "2022-04-12T13:10:52.578Z"
   },
   {
    "duration": 3,
    "start_time": "2022-04-12T13:10:52.720Z"
   },
   {
    "duration": 224,
    "start_time": "2022-04-12T13:10:52.725Z"
   },
   {
    "duration": 200,
    "start_time": "2022-04-12T13:10:52.950Z"
   },
   {
    "duration": 165,
    "start_time": "2022-04-12T13:10:53.152Z"
   },
   {
    "duration": 184,
    "start_time": "2022-04-12T13:10:53.319Z"
   },
   {
    "duration": 12,
    "start_time": "2022-04-12T13:10:53.506Z"
   },
   {
    "duration": 11,
    "start_time": "2022-04-12T13:10:53.520Z"
   },
   {
    "duration": 3,
    "start_time": "2022-04-12T13:10:53.533Z"
   },
   {
    "duration": 154,
    "start_time": "2022-04-12T13:10:53.538Z"
   },
   {
    "duration": 146,
    "start_time": "2022-04-12T13:10:53.694Z"
   },
   {
    "duration": 121,
    "start_time": "2022-04-12T13:10:53.841Z"
   },
   {
    "duration": 211,
    "start_time": "2022-04-12T13:10:53.964Z"
   },
   {
    "duration": 16,
    "start_time": "2022-04-12T13:10:54.177Z"
   },
   {
    "duration": 256,
    "start_time": "2022-04-12T13:10:54.195Z"
   },
   {
    "duration": 159,
    "start_time": "2022-04-12T13:10:54.453Z"
   },
   {
    "duration": 221,
    "start_time": "2022-04-12T13:10:54.613Z"
   },
   {
    "duration": 201,
    "start_time": "2022-04-12T13:10:54.836Z"
   },
   {
    "duration": 256,
    "start_time": "2022-04-12T13:10:55.038Z"
   },
   {
    "duration": 197,
    "start_time": "2022-04-12T13:10:55.307Z"
   },
   {
    "duration": 1604,
    "start_time": "2022-04-12T13:10:55.506Z"
   },
   {
    "duration": 770,
    "start_time": "2022-04-12T13:10:57.112Z"
   },
   {
    "duration": 701,
    "start_time": "2022-04-12T13:10:57.883Z"
   },
   {
    "duration": 839,
    "start_time": "2022-04-12T13:12:17.728Z"
   },
   {
    "duration": 885,
    "start_time": "2022-04-12T13:12:28.985Z"
   },
   {
    "duration": 838,
    "start_time": "2022-04-12T13:13:15.477Z"
   },
   {
    "duration": 99,
    "start_time": "2022-04-12T13:13:32.022Z"
   },
   {
    "duration": 967,
    "start_time": "2022-04-12T13:13:41.032Z"
   },
   {
    "duration": 91,
    "start_time": "2022-04-12T13:14:45.534Z"
   },
   {
    "duration": 21,
    "start_time": "2022-04-12T13:15:31.754Z"
   },
   {
    "duration": 866,
    "start_time": "2022-04-12T13:16:03.633Z"
   },
   {
    "duration": 21,
    "start_time": "2022-04-12T13:16:24.871Z"
   },
   {
    "duration": 1014,
    "start_time": "2022-04-12T13:17:26.674Z"
   },
   {
    "duration": 909,
    "start_time": "2022-04-12T13:17:54.130Z"
   },
   {
    "duration": 23,
    "start_time": "2022-04-12T13:18:12.415Z"
   },
   {
    "duration": 1042,
    "start_time": "2022-04-12T13:19:33.781Z"
   },
   {
    "duration": 847,
    "start_time": "2022-04-12T13:19:53.468Z"
   },
   {
    "duration": 1160,
    "start_time": "2022-04-12T13:20:18.770Z"
   },
   {
    "duration": 678,
    "start_time": "2022-04-12T13:20:41.981Z"
   },
   {
    "duration": 95,
    "start_time": "2022-04-12T13:20:42.661Z"
   },
   {
    "duration": 26,
    "start_time": "2022-04-12T13:20:42.758Z"
   },
   {
    "duration": 24,
    "start_time": "2022-04-12T13:20:42.786Z"
   },
   {
    "duration": 66,
    "start_time": "2022-04-12T13:20:42.811Z"
   },
   {
    "duration": 53,
    "start_time": "2022-04-12T13:20:42.879Z"
   },
   {
    "duration": 39,
    "start_time": "2022-04-12T13:20:42.933Z"
   },
   {
    "duration": 52,
    "start_time": "2022-04-12T13:20:42.973Z"
   },
   {
    "duration": 21,
    "start_time": "2022-04-12T13:20:43.026Z"
   },
   {
    "duration": 42,
    "start_time": "2022-04-12T13:20:43.050Z"
   },
   {
    "duration": 57,
    "start_time": "2022-04-12T13:20:43.094Z"
   },
   {
    "duration": 52,
    "start_time": "2022-04-12T13:20:43.153Z"
   },
   {
    "duration": 55,
    "start_time": "2022-04-12T13:20:43.207Z"
   },
   {
    "duration": 961,
    "start_time": "2022-04-12T13:20:43.264Z"
   },
   {
    "duration": 20,
    "start_time": "2022-04-12T13:20:44.226Z"
   },
   {
    "duration": 42,
    "start_time": "2022-04-12T13:20:44.248Z"
   },
   {
    "duration": 49,
    "start_time": "2022-04-12T13:20:44.292Z"
   },
   {
    "duration": 26,
    "start_time": "2022-04-12T13:20:44.343Z"
   },
   {
    "duration": 55,
    "start_time": "2022-04-12T13:20:44.371Z"
   },
   {
    "duration": 47,
    "start_time": "2022-04-12T13:20:44.428Z"
   },
   {
    "duration": 36,
    "start_time": "2022-04-12T13:20:44.477Z"
   },
   {
    "duration": 40,
    "start_time": "2022-04-12T13:20:44.516Z"
   },
   {
    "duration": 2,
    "start_time": "2022-04-12T13:20:44.558Z"
   },
   {
    "duration": 12,
    "start_time": "2022-04-12T13:20:44.562Z"
   },
   {
    "duration": 40,
    "start_time": "2022-04-12T13:20:44.576Z"
   },
   {
    "duration": 13,
    "start_time": "2022-04-12T13:20:44.618Z"
   },
   {
    "duration": 31,
    "start_time": "2022-04-12T13:20:44.633Z"
   },
   {
    "duration": 12,
    "start_time": "2022-04-12T13:20:44.668Z"
   },
   {
    "duration": 305,
    "start_time": "2022-04-12T13:20:44.682Z"
   },
   {
    "duration": 272,
    "start_time": "2022-04-12T13:20:44.989Z"
   },
   {
    "duration": 192,
    "start_time": "2022-04-12T13:20:45.263Z"
   },
   {
    "duration": 163,
    "start_time": "2022-04-12T13:20:45.457Z"
   },
   {
    "duration": 221,
    "start_time": "2022-04-12T13:20:45.622Z"
   },
   {
    "duration": 3,
    "start_time": "2022-04-12T13:20:45.844Z"
   },
   {
    "duration": 223,
    "start_time": "2022-04-12T13:20:45.848Z"
   },
   {
    "duration": 197,
    "start_time": "2022-04-12T13:20:46.072Z"
   },
   {
    "duration": 165,
    "start_time": "2022-04-12T13:20:46.271Z"
   },
   {
    "duration": 180,
    "start_time": "2022-04-12T13:20:46.437Z"
   },
   {
    "duration": 11,
    "start_time": "2022-04-12T13:20:46.619Z"
   },
   {
    "duration": 10,
    "start_time": "2022-04-12T13:20:46.632Z"
   },
   {
    "duration": 3,
    "start_time": "2022-04-12T13:20:46.643Z"
   },
   {
    "duration": 147,
    "start_time": "2022-04-12T13:20:46.647Z"
   },
   {
    "duration": 144,
    "start_time": "2022-04-12T13:20:46.796Z"
   },
   {
    "duration": 126,
    "start_time": "2022-04-12T13:20:46.942Z"
   },
   {
    "duration": 199,
    "start_time": "2022-04-12T13:20:47.070Z"
   },
   {
    "duration": 16,
    "start_time": "2022-04-12T13:20:47.271Z"
   },
   {
    "duration": 251,
    "start_time": "2022-04-12T13:20:47.289Z"
   },
   {
    "duration": 153,
    "start_time": "2022-04-12T13:20:47.541Z"
   },
   {
    "duration": 199,
    "start_time": "2022-04-12T13:20:47.696Z"
   },
   {
    "duration": 199,
    "start_time": "2022-04-12T13:20:47.897Z"
   },
   {
    "duration": 247,
    "start_time": "2022-04-12T13:20:48.097Z"
   },
   {
    "duration": 193,
    "start_time": "2022-04-12T13:20:48.346Z"
   },
   {
    "duration": 1623,
    "start_time": "2022-04-12T13:20:48.541Z"
   },
   {
    "duration": 746,
    "start_time": "2022-04-12T13:20:50.166Z"
   },
   {
    "duration": 701,
    "start_time": "2022-04-12T13:20:50.914Z"
   },
   {
    "duration": 29,
    "start_time": "2022-04-12T13:21:20.402Z"
   },
   {
    "duration": 26,
    "start_time": "2022-04-12T13:21:32.867Z"
   },
   {
    "duration": 28,
    "start_time": "2022-04-12T13:22:29.622Z"
   },
   {
    "duration": 28,
    "start_time": "2022-04-12T13:22:37.841Z"
   },
   {
    "duration": 50,
    "start_time": "2022-04-12T13:24:09.170Z"
   },
   {
    "duration": 653,
    "start_time": "2022-04-12T13:24:14.643Z"
   },
   {
    "duration": 91,
    "start_time": "2022-04-12T13:24:17.382Z"
   },
   {
    "duration": 30,
    "start_time": "2022-04-12T13:24:20.412Z"
   },
   {
    "duration": 12,
    "start_time": "2022-04-12T13:24:23.308Z"
   },
   {
    "duration": 9,
    "start_time": "2022-04-12T13:24:28.183Z"
   },
   {
    "duration": 18,
    "start_time": "2022-04-12T13:24:35.822Z"
   },
   {
    "duration": 5,
    "start_time": "2022-04-12T13:24:40.503Z"
   },
   {
    "duration": 22,
    "start_time": "2022-04-12T13:24:59.062Z"
   },
   {
    "duration": 17,
    "start_time": "2022-04-12T13:25:06.602Z"
   },
   {
    "duration": 12,
    "start_time": "2022-04-12T13:25:10.742Z"
   },
   {
    "duration": 8,
    "start_time": "2022-04-12T13:25:14.613Z"
   },
   {
    "duration": 33,
    "start_time": "2022-04-12T13:25:23.145Z"
   },
   {
    "duration": 52,
    "start_time": "2022-04-12T13:25:29.971Z"
   },
   {
    "duration": 895,
    "start_time": "2022-04-12T13:25:34.823Z"
   },
   {
    "duration": 49,
    "start_time": "2022-04-12T13:25:50.266Z"
   },
   {
    "duration": 19,
    "start_time": "2022-04-12T13:26:00.889Z"
   },
   {
    "duration": 656,
    "start_time": "2022-04-12T13:26:09.504Z"
   },
   {
    "duration": 1027,
    "start_time": "2022-04-12T13:27:12.883Z"
   },
   {
    "duration": 24,
    "start_time": "2022-04-12T13:27:20.981Z"
   },
   {
    "duration": 650,
    "start_time": "2022-04-12T13:27:42.324Z"
   },
   {
    "duration": 94,
    "start_time": "2022-04-12T13:27:42.976Z"
   },
   {
    "duration": 27,
    "start_time": "2022-04-12T13:27:43.071Z"
   },
   {
    "duration": 11,
    "start_time": "2022-04-12T13:27:43.106Z"
   },
   {
    "duration": 8,
    "start_time": "2022-04-12T13:27:43.119Z"
   },
   {
    "duration": 24,
    "start_time": "2022-04-12T13:27:43.128Z"
   },
   {
    "duration": 4,
    "start_time": "2022-04-12T13:27:43.153Z"
   },
   {
    "duration": 48,
    "start_time": "2022-04-12T13:27:43.159Z"
   },
   {
    "duration": 16,
    "start_time": "2022-04-12T13:27:43.209Z"
   },
   {
    "duration": 11,
    "start_time": "2022-04-12T13:27:43.228Z"
   },
   {
    "duration": 8,
    "start_time": "2022-04-12T13:27:43.241Z"
   },
   {
    "duration": 60,
    "start_time": "2022-04-12T13:27:43.251Z"
   },
   {
    "duration": 48,
    "start_time": "2022-04-12T13:27:43.312Z"
   },
   {
    "duration": 1029,
    "start_time": "2022-04-12T13:27:43.361Z"
   },
   {
    "duration": 5,
    "start_time": "2022-04-12T13:27:44.392Z"
   },
   {
    "duration": 25,
    "start_time": "2022-04-12T13:27:44.399Z"
   },
   {
    "duration": 5,
    "start_time": "2022-04-12T13:27:44.426Z"
   },
   {
    "duration": 16,
    "start_time": "2022-04-12T13:27:44.432Z"
   },
   {
    "duration": 29,
    "start_time": "2022-04-12T13:27:44.449Z"
   },
   {
    "duration": 39,
    "start_time": "2022-04-12T13:27:44.480Z"
   },
   {
    "duration": 37,
    "start_time": "2022-04-12T13:27:44.521Z"
   },
   {
    "duration": 2,
    "start_time": "2022-04-12T13:27:44.560Z"
   },
   {
    "duration": 12,
    "start_time": "2022-04-12T13:27:44.564Z"
   },
   {
    "duration": 41,
    "start_time": "2022-04-12T13:27:44.578Z"
   },
   {
    "duration": 15,
    "start_time": "2022-04-12T13:27:44.620Z"
   },
   {
    "duration": 30,
    "start_time": "2022-04-12T13:27:44.637Z"
   },
   {
    "duration": 11,
    "start_time": "2022-04-12T13:27:44.669Z"
   },
   {
    "duration": 304,
    "start_time": "2022-04-12T13:27:44.683Z"
   },
   {
    "duration": 255,
    "start_time": "2022-04-12T13:27:44.988Z"
   },
   {
    "duration": 190,
    "start_time": "2022-04-12T13:27:45.245Z"
   },
   {
    "duration": 143,
    "start_time": "2022-04-12T13:27:45.437Z"
   },
   {
    "duration": 141,
    "start_time": "2022-04-12T13:27:45.582Z"
   },
   {
    "duration": 3,
    "start_time": "2022-04-12T13:27:45.724Z"
   },
   {
    "duration": 212,
    "start_time": "2022-04-12T13:27:45.728Z"
   },
   {
    "duration": 191,
    "start_time": "2022-04-12T13:27:45.941Z"
   },
   {
    "duration": 195,
    "start_time": "2022-04-12T13:27:46.134Z"
   },
   {
    "duration": 178,
    "start_time": "2022-04-12T13:27:46.331Z"
   },
   {
    "duration": 12,
    "start_time": "2022-04-12T13:27:46.510Z"
   },
   {
    "duration": 18,
    "start_time": "2022-04-12T13:27:46.523Z"
   },
   {
    "duration": 3,
    "start_time": "2022-04-12T13:27:46.543Z"
   },
   {
    "duration": 147,
    "start_time": "2022-04-12T13:27:46.547Z"
   },
   {
    "duration": 145,
    "start_time": "2022-04-12T13:27:46.696Z"
   },
   {
    "duration": 155,
    "start_time": "2022-04-12T13:27:46.842Z"
   },
   {
    "duration": 197,
    "start_time": "2022-04-12T13:27:47.007Z"
   },
   {
    "duration": 17,
    "start_time": "2022-04-12T13:27:47.207Z"
   },
   {
    "duration": 252,
    "start_time": "2022-04-12T13:27:47.226Z"
   },
   {
    "duration": 193,
    "start_time": "2022-04-12T13:27:47.480Z"
   },
   {
    "duration": 199,
    "start_time": "2022-04-12T13:27:47.675Z"
   },
   {
    "duration": 185,
    "start_time": "2022-04-12T13:27:47.875Z"
   },
   {
    "duration": 246,
    "start_time": "2022-04-12T13:27:48.061Z"
   },
   {
    "duration": 189,
    "start_time": "2022-04-12T13:27:48.309Z"
   },
   {
    "duration": 1593,
    "start_time": "2022-04-12T13:27:48.500Z"
   },
   {
    "duration": 805,
    "start_time": "2022-04-12T13:27:50.094Z"
   },
   {
    "duration": 707,
    "start_time": "2022-04-12T13:27:50.901Z"
   },
   {
    "duration": 705,
    "start_time": "2022-04-12T13:32:53.878Z"
   },
   {
    "duration": 771,
    "start_time": "2022-04-12T13:33:26.212Z"
   },
   {
    "duration": 231,
    "start_time": "2022-04-12T13:33:31.554Z"
   },
   {
    "duration": 289,
    "start_time": "2022-04-12T13:34:00.108Z"
   },
   {
    "duration": 28,
    "start_time": "2022-04-12T13:34:40.328Z"
   },
   {
    "duration": 160,
    "start_time": "2022-04-12T13:34:43.949Z"
   },
   {
    "duration": 161,
    "start_time": "2022-04-12T13:34:50.423Z"
   },
   {
    "duration": 160,
    "start_time": "2022-04-12T13:34:59.393Z"
   },
   {
    "duration": 10,
    "start_time": "2022-04-12T13:35:33.561Z"
   },
   {
    "duration": 7,
    "start_time": "2022-04-12T13:36:27.768Z"
   },
   {
    "duration": 9,
    "start_time": "2022-04-12T13:39:31.868Z"
   },
   {
    "duration": 8,
    "start_time": "2022-04-12T13:39:41.077Z"
   },
   {
    "duration": 16,
    "start_time": "2022-04-12T13:43:04.329Z"
   },
   {
    "duration": 164,
    "start_time": "2022-04-12T13:43:08.282Z"
   },
   {
    "duration": 180,
    "start_time": "2022-04-12T13:43:12.512Z"
   },
   {
    "duration": 187,
    "start_time": "2022-04-12T13:43:22.618Z"
   },
   {
    "duration": 160,
    "start_time": "2022-04-12T13:43:26.916Z"
   },
   {
    "duration": 114,
    "start_time": "2022-04-12T13:51:19.323Z"
   },
   {
    "duration": 741,
    "start_time": "2022-04-12T13:51:59.912Z"
   },
   {
    "duration": 110,
    "start_time": "2022-04-12T13:52:40.277Z"
   },
   {
    "duration": 116,
    "start_time": "2022-04-12T13:53:15.999Z"
   },
   {
    "duration": 20,
    "start_time": "2022-04-12T13:54:33.518Z"
   },
   {
    "duration": 692,
    "start_time": "2022-04-12T13:55:35.238Z"
   },
   {
    "duration": 674,
    "start_time": "2022-04-12T13:55:56.758Z"
   },
   {
    "duration": 17,
    "start_time": "2022-04-12T13:56:14.359Z"
   },
   {
    "duration": 114,
    "start_time": "2022-04-12T13:56:59.320Z"
   },
   {
    "duration": 701,
    "start_time": "2022-04-12T13:58:00.745Z"
   },
   {
    "duration": 654,
    "start_time": "2022-04-12T14:00:22.964Z"
   },
   {
    "duration": 95,
    "start_time": "2022-04-12T14:00:23.620Z"
   },
   {
    "duration": 26,
    "start_time": "2022-04-12T14:00:23.717Z"
   },
   {
    "duration": 11,
    "start_time": "2022-04-12T14:00:23.745Z"
   },
   {
    "duration": 8,
    "start_time": "2022-04-12T14:00:23.758Z"
   },
   {
    "duration": 44,
    "start_time": "2022-04-12T14:00:23.767Z"
   },
   {
    "duration": 5,
    "start_time": "2022-04-12T14:00:23.812Z"
   },
   {
    "duration": 21,
    "start_time": "2022-04-12T14:00:23.819Z"
   },
   {
    "duration": 17,
    "start_time": "2022-04-12T14:00:23.842Z"
   },
   {
    "duration": 11,
    "start_time": "2022-04-12T14:00:23.863Z"
   },
   {
    "duration": 39,
    "start_time": "2022-04-12T14:00:23.876Z"
   },
   {
    "duration": 32,
    "start_time": "2022-04-12T14:00:23.917Z"
   },
   {
    "duration": 80,
    "start_time": "2022-04-12T14:00:23.951Z"
   },
   {
    "duration": 1034,
    "start_time": "2022-04-12T14:00:24.033Z"
   },
   {
    "duration": 5,
    "start_time": "2022-04-12T14:00:25.069Z"
   },
   {
    "duration": 15,
    "start_time": "2022-04-12T14:00:25.076Z"
   },
   {
    "duration": 7,
    "start_time": "2022-04-12T14:00:25.106Z"
   },
   {
    "duration": 16,
    "start_time": "2022-04-12T14:00:25.116Z"
   },
   {
    "duration": 31,
    "start_time": "2022-04-12T14:00:25.134Z"
   },
   {
    "duration": 45,
    "start_time": "2022-04-12T14:00:25.167Z"
   },
   {
    "duration": 42,
    "start_time": "2022-04-12T14:00:25.214Z"
   },
   {
    "duration": 2,
    "start_time": "2022-04-12T14:00:25.258Z"
   },
   {
    "duration": 14,
    "start_time": "2022-04-12T14:00:25.262Z"
   },
   {
    "duration": 49,
    "start_time": "2022-04-12T14:00:25.278Z"
   },
   {
    "duration": 15,
    "start_time": "2022-04-12T14:00:25.328Z"
   },
   {
    "duration": 32,
    "start_time": "2022-04-12T14:00:25.345Z"
   },
   {
    "duration": 30,
    "start_time": "2022-04-12T14:00:25.379Z"
   },
   {
    "duration": 286,
    "start_time": "2022-04-12T14:00:25.413Z"
   },
   {
    "duration": 245,
    "start_time": "2022-04-12T14:00:25.707Z"
   },
   {
    "duration": 192,
    "start_time": "2022-04-12T14:00:25.954Z"
   },
   {
    "duration": 148,
    "start_time": "2022-04-12T14:00:26.148Z"
   },
   {
    "duration": 148,
    "start_time": "2022-04-12T14:00:26.298Z"
   },
   {
    "duration": 3,
    "start_time": "2022-04-12T14:00:26.447Z"
   },
   {
    "duration": 216,
    "start_time": "2022-04-12T14:00:26.451Z"
   },
   {
    "duration": 200,
    "start_time": "2022-04-12T14:00:26.668Z"
   },
   {
    "duration": 212,
    "start_time": "2022-04-12T14:00:26.870Z"
   },
   {
    "duration": 179,
    "start_time": "2022-04-12T14:00:27.084Z"
   },
   {
    "duration": 11,
    "start_time": "2022-04-12T14:00:27.265Z"
   },
   {
    "duration": 11,
    "start_time": "2022-04-12T14:00:27.278Z"
   },
   {
    "duration": 3,
    "start_time": "2022-04-12T14:00:27.307Z"
   },
   {
    "duration": 140,
    "start_time": "2022-04-12T14:00:27.312Z"
   },
   {
    "duration": 161,
    "start_time": "2022-04-12T14:00:27.454Z"
   },
   {
    "duration": 147,
    "start_time": "2022-04-12T14:00:27.616Z"
   },
   {
    "duration": 201,
    "start_time": "2022-04-12T14:00:27.765Z"
   },
   {
    "duration": 25,
    "start_time": "2022-04-12T14:00:27.968Z"
   },
   {
    "duration": 261,
    "start_time": "2022-04-12T14:00:27.994Z"
   },
   {
    "duration": 196,
    "start_time": "2022-04-12T14:00:28.256Z"
   },
   {
    "duration": 202,
    "start_time": "2022-04-12T14:00:28.454Z"
   },
   {
    "duration": 178,
    "start_time": "2022-04-12T14:00:28.657Z"
   },
   {
    "duration": 249,
    "start_time": "2022-04-12T14:00:28.836Z"
   },
   {
    "duration": 226,
    "start_time": "2022-04-12T14:00:29.086Z"
   },
   {
    "duration": 1695,
    "start_time": "2022-04-12T14:00:29.314Z"
   },
   {
    "duration": 793,
    "start_time": "2022-04-12T14:00:31.011Z"
   },
   {
    "duration": 713,
    "start_time": "2022-04-12T14:00:31.806Z"
   },
   {
    "duration": 708,
    "start_time": "2022-04-12T14:02:03.103Z"
   },
   {
    "duration": 51,
    "start_time": "2022-04-12T21:51:50.726Z"
   },
   {
    "duration": 6,
    "start_time": "2022-04-12T21:52:04.680Z"
   },
   {
    "duration": 843,
    "start_time": "2022-04-12T21:52:09.190Z"
   },
   {
    "duration": 869,
    "start_time": "2022-04-12T21:52:11.611Z"
   },
   {
    "duration": 14,
    "start_time": "2022-04-12T21:52:18.118Z"
   },
   {
    "duration": 8,
    "start_time": "2022-04-12T21:52:58.648Z"
   },
   {
    "duration": 9,
    "start_time": "2022-04-12T21:54:34.027Z"
   },
   {
    "duration": 21,
    "start_time": "2022-04-12T22:05:02.053Z"
   },
   {
    "duration": 2491,
    "start_time": "2022-04-12T22:06:45.719Z"
   },
   {
    "duration": 6,
    "start_time": "2022-04-12T22:07:26.686Z"
   },
   {
    "duration": 19,
    "start_time": "2022-04-12T22:16:26.265Z"
   },
   {
    "duration": 2652,
    "start_time": "2022-04-12T22:20:21.978Z"
   },
   {
    "duration": 2507,
    "start_time": "2022-04-12T22:21:15.104Z"
   },
   {
    "duration": 2552,
    "start_time": "2022-04-12T22:22:06.916Z"
   },
   {
    "duration": 798,
    "start_time": "2022-04-12T22:22:24.419Z"
   },
   {
    "duration": 105,
    "start_time": "2022-04-12T22:22:25.219Z"
   },
   {
    "duration": 31,
    "start_time": "2022-04-12T22:22:25.326Z"
   },
   {
    "duration": 17,
    "start_time": "2022-04-12T22:22:25.360Z"
   },
   {
    "duration": 20,
    "start_time": "2022-04-12T22:22:25.379Z"
   },
   {
    "duration": 41,
    "start_time": "2022-04-12T22:22:25.401Z"
   },
   {
    "duration": 20,
    "start_time": "2022-04-12T22:22:25.444Z"
   },
   {
    "duration": 32,
    "start_time": "2022-04-12T22:22:25.466Z"
   },
   {
    "duration": 19,
    "start_time": "2022-04-12T22:22:25.501Z"
   },
   {
    "duration": 14,
    "start_time": "2022-04-12T22:22:25.535Z"
   },
   {
    "duration": 24,
    "start_time": "2022-04-12T22:22:25.551Z"
   },
   {
    "duration": 54,
    "start_time": "2022-04-12T22:22:25.577Z"
   },
   {
    "duration": 58,
    "start_time": "2022-04-12T22:22:25.633Z"
   },
   {
    "duration": 1106,
    "start_time": "2022-04-12T22:22:25.694Z"
   },
   {
    "duration": 7,
    "start_time": "2022-04-12T22:22:26.802Z"
   },
   {
    "duration": 30,
    "start_time": "2022-04-12T22:22:26.811Z"
   },
   {
    "duration": 7,
    "start_time": "2022-04-12T22:22:26.843Z"
   },
   {
    "duration": 35,
    "start_time": "2022-04-12T22:22:26.852Z"
   },
   {
    "duration": 38,
    "start_time": "2022-04-12T22:22:26.889Z"
   },
   {
    "duration": 17,
    "start_time": "2022-04-12T22:22:26.934Z"
   },
   {
    "duration": 49,
    "start_time": "2022-04-12T22:22:26.953Z"
   },
   {
    "duration": 33,
    "start_time": "2022-04-12T22:22:27.005Z"
   },
   {
    "duration": 2541,
    "start_time": "2022-04-12T22:22:27.039Z"
   },
   {
    "duration": 0,
    "start_time": "2022-04-12T22:22:29.583Z"
   },
   {
    "duration": 0,
    "start_time": "2022-04-12T22:22:29.584Z"
   },
   {
    "duration": 0,
    "start_time": "2022-04-12T22:22:29.585Z"
   },
   {
    "duration": 0,
    "start_time": "2022-04-12T22:22:29.587Z"
   },
   {
    "duration": 0,
    "start_time": "2022-04-12T22:22:29.588Z"
   },
   {
    "duration": 0,
    "start_time": "2022-04-12T22:22:29.589Z"
   },
   {
    "duration": 0,
    "start_time": "2022-04-12T22:22:29.590Z"
   },
   {
    "duration": 0,
    "start_time": "2022-04-12T22:22:29.591Z"
   },
   {
    "duration": 0,
    "start_time": "2022-04-12T22:22:29.592Z"
   },
   {
    "duration": 0,
    "start_time": "2022-04-12T22:22:29.593Z"
   },
   {
    "duration": 0,
    "start_time": "2022-04-12T22:22:29.594Z"
   },
   {
    "duration": 0,
    "start_time": "2022-04-12T22:22:29.595Z"
   },
   {
    "duration": 0,
    "start_time": "2022-04-12T22:22:29.596Z"
   },
   {
    "duration": 0,
    "start_time": "2022-04-12T22:22:29.597Z"
   },
   {
    "duration": 0,
    "start_time": "2022-04-12T22:22:29.598Z"
   },
   {
    "duration": 0,
    "start_time": "2022-04-12T22:22:29.599Z"
   },
   {
    "duration": 0,
    "start_time": "2022-04-12T22:22:29.600Z"
   },
   {
    "duration": 0,
    "start_time": "2022-04-12T22:22:29.601Z"
   },
   {
    "duration": 0,
    "start_time": "2022-04-12T22:22:29.602Z"
   },
   {
    "duration": 0,
    "start_time": "2022-04-12T22:22:29.603Z"
   },
   {
    "duration": 0,
    "start_time": "2022-04-12T22:22:29.604Z"
   },
   {
    "duration": 0,
    "start_time": "2022-04-12T22:22:29.605Z"
   },
   {
    "duration": 0,
    "start_time": "2022-04-12T22:22:29.606Z"
   },
   {
    "duration": 0,
    "start_time": "2022-04-12T22:22:29.607Z"
   },
   {
    "duration": 0,
    "start_time": "2022-04-12T22:22:29.608Z"
   },
   {
    "duration": 0,
    "start_time": "2022-04-12T22:22:29.609Z"
   },
   {
    "duration": 0,
    "start_time": "2022-04-12T22:22:29.610Z"
   },
   {
    "duration": 0,
    "start_time": "2022-04-12T22:22:29.612Z"
   },
   {
    "duration": 0,
    "start_time": "2022-04-12T22:22:29.613Z"
   },
   {
    "duration": 0,
    "start_time": "2022-04-12T22:22:29.614Z"
   },
   {
    "duration": 19,
    "start_time": "2022-04-12T22:23:01.808Z"
   },
   {
    "duration": 28,
    "start_time": "2022-04-12T22:24:04.001Z"
   },
   {
    "duration": 12,
    "start_time": "2022-04-12T22:24:08.435Z"
   },
   {
    "duration": 302,
    "start_time": "2022-04-12T22:25:08.010Z"
   },
   {
    "duration": 260,
    "start_time": "2022-04-12T22:25:11.191Z"
   },
   {
    "duration": 196,
    "start_time": "2022-04-12T22:25:14.268Z"
   },
   {
    "duration": 151,
    "start_time": "2022-04-12T22:25:18.539Z"
   },
   {
    "duration": 148,
    "start_time": "2022-04-12T22:25:21.904Z"
   },
   {
    "duration": 206,
    "start_time": "2022-04-12T22:34:10.401Z"
   },
   {
    "duration": 190,
    "start_time": "2022-04-12T22:34:18.840Z"
   },
   {
    "duration": 195,
    "start_time": "2022-04-12T22:34:22.528Z"
   },
   {
    "duration": 171,
    "start_time": "2022-04-12T22:34:29.001Z"
   },
   {
    "duration": 13,
    "start_time": "2022-04-12T22:36:31.312Z"
   },
   {
    "duration": 13,
    "start_time": "2022-04-12T22:36:35.424Z"
   },
   {
    "duration": 3,
    "start_time": "2022-04-12T22:36:39.325Z"
   },
   {
    "duration": 3,
    "start_time": "2022-04-12T22:37:26.235Z"
   },
   {
    "duration": 123,
    "start_time": "2022-04-12T22:38:12.807Z"
   },
   {
    "duration": 137,
    "start_time": "2022-04-12T22:38:32.963Z"
   },
   {
    "duration": 139,
    "start_time": "2022-04-12T22:39:04.681Z"
   },
   {
    "duration": 190,
    "start_time": "2022-04-12T22:39:42.685Z"
   },
   {
    "duration": 18,
    "start_time": "2022-04-12T22:39:49.516Z"
   },
   {
    "duration": 249,
    "start_time": "2022-04-12T22:40:48.013Z"
   },
   {
    "duration": 183,
    "start_time": "2022-04-12T22:40:52.247Z"
   },
   {
    "duration": 186,
    "start_time": "2022-04-12T22:40:56.018Z"
   },
   {
    "duration": 173,
    "start_time": "2022-04-12T22:41:02.256Z"
   },
   {
    "duration": 244,
    "start_time": "2022-04-12T22:52:03.971Z"
   },
   {
    "duration": 195,
    "start_time": "2022-04-12T22:52:13.733Z"
   },
   {
    "duration": 1631,
    "start_time": "2022-04-12T22:56:22.813Z"
   },
   {
    "duration": 2173,
    "start_time": "2022-04-12T23:03:00.969Z"
   },
   {
    "duration": 1721,
    "start_time": "2022-04-12T23:03:25.833Z"
   },
   {
    "duration": 778,
    "start_time": "2022-04-12T23:06:53.444Z"
   },
   {
    "duration": 718,
    "start_time": "2022-04-12T23:07:01.088Z"
   },
   {
    "duration": 778,
    "start_time": "2022-04-14T03:05:45.638Z"
   },
   {
    "duration": 513,
    "start_time": "2022-04-14T03:05:46.418Z"
   },
   {
    "duration": 24,
    "start_time": "2022-04-14T03:05:46.932Z"
   },
   {
    "duration": 9,
    "start_time": "2022-04-14T03:05:46.958Z"
   },
   {
    "duration": 8,
    "start_time": "2022-04-14T03:05:46.968Z"
   },
   {
    "duration": 30,
    "start_time": "2022-04-14T03:05:46.977Z"
   },
   {
    "duration": 5,
    "start_time": "2022-04-14T03:05:47.008Z"
   },
   {
    "duration": 17,
    "start_time": "2022-04-14T03:05:47.015Z"
   },
   {
    "duration": 13,
    "start_time": "2022-04-14T03:05:47.034Z"
   },
   {
    "duration": 10,
    "start_time": "2022-04-14T03:05:47.049Z"
   },
   {
    "duration": 14,
    "start_time": "2022-04-14T03:05:47.060Z"
   },
   {
    "duration": 50,
    "start_time": "2022-04-14T03:05:47.075Z"
   },
   {
    "duration": 42,
    "start_time": "2022-04-14T03:05:47.127Z"
   },
   {
    "duration": 978,
    "start_time": "2022-04-14T03:05:47.170Z"
   },
   {
    "duration": 4,
    "start_time": "2022-04-14T03:05:48.150Z"
   },
   {
    "duration": 13,
    "start_time": "2022-04-14T03:05:48.156Z"
   },
   {
    "duration": 5,
    "start_time": "2022-04-14T03:05:48.170Z"
   },
   {
    "duration": 30,
    "start_time": "2022-04-14T03:05:48.176Z"
   },
   {
    "duration": 26,
    "start_time": "2022-04-14T03:05:48.208Z"
   },
   {
    "duration": 13,
    "start_time": "2022-04-14T03:05:48.235Z"
   },
   {
    "duration": 60,
    "start_time": "2022-04-14T03:05:48.249Z"
   },
   {
    "duration": 9,
    "start_time": "2022-04-14T03:05:48.311Z"
   },
   {
    "duration": 14,
    "start_time": "2022-04-14T03:05:48.322Z"
   },
   {
    "duration": 12,
    "start_time": "2022-04-14T03:05:48.338Z"
   },
   {
    "duration": 49,
    "start_time": "2022-04-14T03:05:48.351Z"
   },
   {
    "duration": 10,
    "start_time": "2022-04-14T03:05:48.402Z"
   },
   {
    "duration": 233,
    "start_time": "2022-04-14T03:05:48.413Z"
   },
   {
    "duration": 203,
    "start_time": "2022-04-14T03:05:48.649Z"
   },
   {
    "duration": 162,
    "start_time": "2022-04-14T03:05:48.853Z"
   },
   {
    "duration": 119,
    "start_time": "2022-04-14T03:05:49.017Z"
   },
   {
    "duration": 127,
    "start_time": "2022-04-14T03:05:49.138Z"
   },
   {
    "duration": 186,
    "start_time": "2022-04-14T03:05:49.267Z"
   },
   {
    "duration": 170,
    "start_time": "2022-04-14T03:05:49.454Z"
   },
   {
    "duration": 187,
    "start_time": "2022-04-14T03:05:49.626Z"
   },
   {
    "duration": 160,
    "start_time": "2022-04-14T03:05:49.815Z"
   },
   {
    "duration": 10,
    "start_time": "2022-04-14T03:05:49.977Z"
   },
   {
    "duration": 18,
    "start_time": "2022-04-14T03:05:49.989Z"
   },
   {
    "duration": 3,
    "start_time": "2022-04-14T03:05:50.009Z"
   },
   {
    "duration": 120,
    "start_time": "2022-04-14T03:05:50.013Z"
   },
   {
    "duration": 125,
    "start_time": "2022-04-14T03:05:50.134Z"
   },
   {
    "duration": 126,
    "start_time": "2022-04-14T03:05:50.261Z"
   },
   {
    "duration": 174,
    "start_time": "2022-04-14T03:05:50.388Z"
   },
   {
    "duration": 19,
    "start_time": "2022-04-14T03:05:50.564Z"
   },
   {
    "duration": 225,
    "start_time": "2022-04-14T03:05:50.585Z"
   },
   {
    "duration": 165,
    "start_time": "2022-04-14T03:05:50.812Z"
   },
   {
    "duration": 176,
    "start_time": "2022-04-14T03:05:50.979Z"
   },
   {
    "duration": 156,
    "start_time": "2022-04-14T03:05:51.157Z"
   },
   {
    "duration": 193,
    "start_time": "2022-04-14T03:05:51.315Z"
   },
   {
    "duration": 167,
    "start_time": "2022-04-14T03:05:51.509Z"
   },
   {
    "duration": 1288,
    "start_time": "2022-04-14T03:05:51.677Z"
   },
   {
    "duration": 678,
    "start_time": "2022-04-14T03:05:52.966Z"
   },
   {
    "duration": 568,
    "start_time": "2022-04-14T03:05:53.646Z"
   },
   {
    "duration": 2,
    "start_time": "2022-04-14T03:18:41.966Z"
   },
   {
    "duration": 83,
    "start_time": "2022-04-14T03:18:41.976Z"
   },
   {
    "duration": 41,
    "start_time": "2022-04-14T03:18:42.061Z"
   },
   {
    "duration": 8,
    "start_time": "2022-04-14T03:18:42.104Z"
   },
   {
    "duration": 12,
    "start_time": "2022-04-14T03:18:42.114Z"
   },
   {
    "duration": 24,
    "start_time": "2022-04-14T03:18:42.128Z"
   },
   {
    "duration": 18,
    "start_time": "2022-04-14T03:18:42.154Z"
   },
   {
    "duration": 63,
    "start_time": "2022-04-14T03:18:42.173Z"
   },
   {
    "duration": 4,
    "start_time": "2022-04-14T03:18:42.237Z"
   },
   {
    "duration": 19,
    "start_time": "2022-04-14T03:18:42.243Z"
   },
   {
    "duration": 39,
    "start_time": "2022-04-14T03:18:42.264Z"
   },
   {
    "duration": 10,
    "start_time": "2022-04-14T03:18:42.304Z"
   },
   {
    "duration": 11,
    "start_time": "2022-04-14T03:18:42.315Z"
   },
   {
    "duration": 26,
    "start_time": "2022-04-14T03:18:42.328Z"
   },
   {
    "duration": 55,
    "start_time": "2022-04-14T03:18:42.357Z"
   },
   {
    "duration": 951,
    "start_time": "2022-04-14T03:18:42.413Z"
   },
   {
    "duration": 4,
    "start_time": "2022-04-14T03:18:43.366Z"
   },
   {
    "duration": 14,
    "start_time": "2022-04-14T03:18:43.371Z"
   },
   {
    "duration": 4,
    "start_time": "2022-04-14T03:18:43.400Z"
   },
   {
    "duration": 14,
    "start_time": "2022-04-14T03:18:43.406Z"
   },
   {
    "duration": 26,
    "start_time": "2022-04-14T03:18:43.421Z"
   },
   {
    "duration": 12,
    "start_time": "2022-04-14T03:18:43.449Z"
   },
   {
    "duration": 59,
    "start_time": "2022-04-14T03:18:43.462Z"
   },
   {
    "duration": 9,
    "start_time": "2022-04-14T03:18:43.522Z"
   },
   {
    "duration": 13,
    "start_time": "2022-04-14T03:18:43.533Z"
   },
   {
    "duration": 13,
    "start_time": "2022-04-14T03:18:43.548Z"
   },
   {
    "duration": 47,
    "start_time": "2022-04-14T03:18:43.562Z"
   },
   {
    "duration": 10,
    "start_time": "2022-04-14T03:18:43.611Z"
   },
   {
    "duration": 218,
    "start_time": "2022-04-14T03:18:43.623Z"
   },
   {
    "duration": 207,
    "start_time": "2022-04-14T03:18:43.843Z"
   },
   {
    "duration": 110,
    "start_time": "2022-04-14T03:18:44.051Z"
   },
   {
    "duration": 191,
    "start_time": "2022-04-14T03:18:44.163Z"
   },
   {
    "duration": 115,
    "start_time": "2022-04-14T03:18:44.355Z"
   },
   {
    "duration": 187,
    "start_time": "2022-04-14T03:18:44.472Z"
   },
   {
    "duration": 167,
    "start_time": "2022-04-14T03:18:44.661Z"
   },
   {
    "duration": 176,
    "start_time": "2022-04-14T03:18:44.829Z"
   },
   {
    "duration": 155,
    "start_time": "2022-04-14T03:18:45.007Z"
   },
   {
    "duration": 10,
    "start_time": "2022-04-14T03:18:45.164Z"
   },
   {
    "duration": 10,
    "start_time": "2022-04-14T03:18:45.175Z"
   },
   {
    "duration": 3,
    "start_time": "2022-04-14T03:18:45.200Z"
   },
   {
    "duration": 115,
    "start_time": "2022-04-14T03:18:45.204Z"
   },
   {
    "duration": 121,
    "start_time": "2022-04-14T03:18:45.322Z"
   },
   {
    "duration": 123,
    "start_time": "2022-04-14T03:18:45.445Z"
   },
   {
    "duration": 166,
    "start_time": "2022-04-14T03:18:45.569Z"
   },
   {
    "duration": 18,
    "start_time": "2022-04-14T03:18:45.737Z"
   },
   {
    "duration": 162,
    "start_time": "2022-04-14T03:18:45.756Z"
   },
   {
    "duration": 184,
    "start_time": "2022-04-14T03:18:45.919Z"
   },
   {
    "duration": 182,
    "start_time": "2022-04-14T03:18:46.105Z"
   },
   {
    "duration": 150,
    "start_time": "2022-04-14T03:18:46.288Z"
   },
   {
    "duration": 200,
    "start_time": "2022-04-14T03:18:46.439Z"
   },
   {
    "duration": 168,
    "start_time": "2022-04-14T03:18:46.641Z"
   },
   {
    "duration": 1441,
    "start_time": "2022-04-14T03:18:46.810Z"
   },
   {
    "duration": 585,
    "start_time": "2022-04-14T03:18:48.252Z"
   },
   {
    "duration": 698,
    "start_time": "2022-04-14T03:18:48.838Z"
   },
   {
    "duration": 21,
    "start_time": "2022-04-14T03:19:02.938Z"
   },
   {
    "duration": 3,
    "start_time": "2022-04-14T03:19:07.025Z"
   },
   {
    "duration": 90,
    "start_time": "2022-04-14T03:19:07.036Z"
   },
   {
    "duration": 25,
    "start_time": "2022-04-14T03:19:07.129Z"
   },
   {
    "duration": 8,
    "start_time": "2022-04-14T03:19:07.156Z"
   },
   {
    "duration": 38,
    "start_time": "2022-04-14T03:19:07.167Z"
   },
   {
    "duration": 20,
    "start_time": "2022-04-14T03:19:07.207Z"
   },
   {
    "duration": 19,
    "start_time": "2022-04-14T03:19:07.229Z"
   },
   {
    "duration": 74,
    "start_time": "2022-04-14T03:19:07.249Z"
   },
   {
    "duration": 4,
    "start_time": "2022-04-14T03:19:07.324Z"
   },
   {
    "duration": 21,
    "start_time": "2022-04-14T03:19:07.330Z"
   },
   {
    "duration": 14,
    "start_time": "2022-04-14T03:19:07.353Z"
   },
   {
    "duration": 10,
    "start_time": "2022-04-14T03:19:07.369Z"
   },
   {
    "duration": 26,
    "start_time": "2022-04-14T03:19:07.380Z"
   },
   {
    "duration": 27,
    "start_time": "2022-04-14T03:19:07.408Z"
   },
   {
    "duration": 35,
    "start_time": "2022-04-14T03:19:07.437Z"
   },
   {
    "duration": 961,
    "start_time": "2022-04-14T03:19:07.473Z"
   },
   {
    "duration": 4,
    "start_time": "2022-04-14T03:19:08.435Z"
   },
   {
    "duration": 13,
    "start_time": "2022-04-14T03:19:08.441Z"
   },
   {
    "duration": 4,
    "start_time": "2022-04-14T03:19:08.455Z"
   },
   {
    "duration": 14,
    "start_time": "2022-04-14T03:19:08.460Z"
   },
   {
    "duration": 26,
    "start_time": "2022-04-14T03:19:08.500Z"
   },
   {
    "duration": 12,
    "start_time": "2022-04-14T03:19:08.528Z"
   },
   {
    "duration": 36,
    "start_time": "2022-04-14T03:19:08.541Z"
   },
   {
    "duration": 26,
    "start_time": "2022-04-14T03:19:08.578Z"
   },
   {
    "duration": 14,
    "start_time": "2022-04-14T03:19:08.605Z"
   },
   {
    "duration": 13,
    "start_time": "2022-04-14T03:19:08.620Z"
   },
   {
    "duration": 27,
    "start_time": "2022-04-14T03:19:08.634Z"
   },
   {
    "duration": 10,
    "start_time": "2022-04-14T03:19:08.662Z"
   },
   {
    "duration": 213,
    "start_time": "2022-04-14T03:19:08.701Z"
   },
   {
    "duration": 327,
    "start_time": "2022-04-14T03:19:08.916Z"
   },
   {
    "duration": 117,
    "start_time": "2022-04-14T03:19:09.245Z"
   },
   {
    "duration": 115,
    "start_time": "2022-04-14T03:19:09.364Z"
   },
   {
    "duration": 126,
    "start_time": "2022-04-14T03:19:09.480Z"
   },
   {
    "duration": 174,
    "start_time": "2022-04-14T03:19:09.608Z"
   },
   {
    "duration": 158,
    "start_time": "2022-04-14T03:19:09.784Z"
   },
   {
    "duration": 173,
    "start_time": "2022-04-14T03:19:09.943Z"
   },
   {
    "duration": 155,
    "start_time": "2022-04-14T03:19:10.117Z"
   },
   {
    "duration": 9,
    "start_time": "2022-04-14T03:19:10.274Z"
   },
   {
    "duration": 16,
    "start_time": "2022-04-14T03:19:10.285Z"
   },
   {
    "duration": 4,
    "start_time": "2022-04-14T03:19:10.303Z"
   },
   {
    "duration": 114,
    "start_time": "2022-04-14T03:19:10.308Z"
   },
   {
    "duration": 124,
    "start_time": "2022-04-14T03:19:10.424Z"
   },
   {
    "duration": 127,
    "start_time": "2022-04-14T03:19:10.550Z"
   },
   {
    "duration": 165,
    "start_time": "2022-04-14T03:19:10.678Z"
   },
   {
    "duration": 18,
    "start_time": "2022-04-14T03:19:10.844Z"
   },
   {
    "duration": 164,
    "start_time": "2022-04-14T03:19:10.863Z"
   },
   {
    "duration": 166,
    "start_time": "2022-04-14T03:19:11.029Z"
   },
   {
    "duration": 186,
    "start_time": "2022-04-14T03:19:11.196Z"
   },
   {
    "duration": 160,
    "start_time": "2022-04-14T03:19:11.384Z"
   },
   {
    "duration": 202,
    "start_time": "2022-04-14T03:19:11.546Z"
   },
   {
    "duration": 172,
    "start_time": "2022-04-14T03:19:11.750Z"
   },
   {
    "duration": 1325,
    "start_time": "2022-04-14T03:19:11.924Z"
   },
   {
    "duration": 759,
    "start_time": "2022-04-14T03:19:13.251Z"
   },
   {
    "duration": 588,
    "start_time": "2022-04-14T03:19:14.012Z"
   },
   {
    "duration": 188,
    "start_time": "2022-04-14T03:36:48.345Z"
   },
   {
    "duration": 193,
    "start_time": "2022-04-14T03:52:04.579Z"
   },
   {
    "duration": 2,
    "start_time": "2022-04-14T03:56:59.071Z"
   },
   {
    "duration": 85,
    "start_time": "2022-04-14T03:56:59.078Z"
   },
   {
    "duration": 35,
    "start_time": "2022-04-14T03:56:59.165Z"
   },
   {
    "duration": 8,
    "start_time": "2022-04-14T03:56:59.202Z"
   },
   {
    "duration": 10,
    "start_time": "2022-04-14T03:56:59.212Z"
   },
   {
    "duration": 18,
    "start_time": "2022-04-14T03:56:59.224Z"
   },
   {
    "duration": 64,
    "start_time": "2022-04-14T03:56:59.243Z"
   },
   {
    "duration": 4,
    "start_time": "2022-04-14T03:56:59.309Z"
   },
   {
    "duration": 17,
    "start_time": "2022-04-14T03:56:59.315Z"
   },
   {
    "duration": 14,
    "start_time": "2022-04-14T03:56:59.334Z"
   },
   {
    "duration": 10,
    "start_time": "2022-04-14T03:56:59.350Z"
   },
   {
    "duration": 8,
    "start_time": "2022-04-14T03:56:59.362Z"
   },
   {
    "duration": 28,
    "start_time": "2022-04-14T03:56:59.400Z"
   },
   {
    "duration": 36,
    "start_time": "2022-04-14T03:56:59.430Z"
   },
   {
    "duration": 954,
    "start_time": "2022-04-14T03:56:59.468Z"
   },
   {
    "duration": 5,
    "start_time": "2022-04-14T03:57:00.424Z"
   },
   {
    "duration": 15,
    "start_time": "2022-04-14T03:57:00.431Z"
   },
   {
    "duration": 6,
    "start_time": "2022-04-14T03:57:00.447Z"
   },
   {
    "duration": 13,
    "start_time": "2022-04-14T03:57:00.455Z"
   },
   {
    "duration": 58,
    "start_time": "2022-04-14T03:57:00.470Z"
   },
   {
    "duration": 14,
    "start_time": "2022-04-14T03:57:00.530Z"
   },
   {
    "duration": 59,
    "start_time": "2022-04-14T03:57:00.546Z"
   },
   {
    "duration": 10,
    "start_time": "2022-04-14T03:57:00.606Z"
   },
   {
    "duration": 16,
    "start_time": "2022-04-14T03:57:00.618Z"
   },
   {
    "duration": 14,
    "start_time": "2022-04-14T03:57:00.635Z"
   },
   {
    "duration": 52,
    "start_time": "2022-04-14T03:57:00.650Z"
   },
   {
    "duration": 10,
    "start_time": "2022-04-14T03:57:00.704Z"
   },
   {
    "duration": 230,
    "start_time": "2022-04-14T03:57:00.715Z"
   },
   {
    "duration": 213,
    "start_time": "2022-04-14T03:57:00.950Z"
   },
   {
    "duration": 135,
    "start_time": "2022-04-14T03:57:01.165Z"
   },
   {
    "duration": 125,
    "start_time": "2022-04-14T03:57:01.302Z"
   },
   {
    "duration": 120,
    "start_time": "2022-04-14T03:57:01.429Z"
   },
   {
    "duration": 173,
    "start_time": "2022-04-14T03:57:01.551Z"
   },
   {
    "duration": 161,
    "start_time": "2022-04-14T03:57:01.725Z"
   },
   {
    "duration": 184,
    "start_time": "2022-04-14T03:57:01.888Z"
   },
   {
    "duration": 163,
    "start_time": "2022-04-14T03:57:02.074Z"
   },
   {
    "duration": 11,
    "start_time": "2022-04-14T03:57:02.238Z"
   },
   {
    "duration": 11,
    "start_time": "2022-04-14T03:57:02.250Z"
   },
   {
    "duration": 2,
    "start_time": "2022-04-14T03:57:02.262Z"
   },
   {
    "duration": 126,
    "start_time": "2022-04-14T03:57:02.266Z"
   },
   {
    "duration": 129,
    "start_time": "2022-04-14T03:57:02.394Z"
   },
   {
    "duration": 123,
    "start_time": "2022-04-14T03:57:02.524Z"
   },
   {
    "duration": 171,
    "start_time": "2022-04-14T03:57:02.648Z"
   },
   {
    "duration": 19,
    "start_time": "2022-04-14T03:57:02.821Z"
   },
   {
    "duration": 160,
    "start_time": "2022-04-14T03:57:02.841Z"
   },
   {
    "duration": 338,
    "start_time": "2022-04-14T03:57:03.003Z"
   },
   {
    "duration": 175,
    "start_time": "2022-04-14T03:57:03.343Z"
   },
   {
    "duration": 148,
    "start_time": "2022-04-14T03:57:03.520Z"
   },
   {
    "duration": 205,
    "start_time": "2022-04-14T03:57:03.669Z"
   },
   {
    "duration": 179,
    "start_time": "2022-04-14T03:57:03.875Z"
   },
   {
    "duration": 1401,
    "start_time": "2022-04-14T03:57:04.055Z"
   },
   {
    "duration": 661,
    "start_time": "2022-04-14T03:57:05.458Z"
   },
   {
    "duration": 588,
    "start_time": "2022-04-14T03:57:06.121Z"
   },
   {
    "duration": 1196,
    "start_time": "2022-04-14T22:07:16.235Z"
   },
   {
    "duration": 63,
    "start_time": "2022-04-14T22:07:17.574Z"
   },
   {
    "duration": 22,
    "start_time": "2022-04-14T22:07:17.642Z"
   },
   {
    "duration": 21,
    "start_time": "2022-04-14T22:07:17.667Z"
   },
   {
    "duration": 51,
    "start_time": "2022-04-14T22:07:17.691Z"
   },
   {
    "duration": 109,
    "start_time": "2022-04-14T22:07:17.747Z"
   },
   {
    "duration": 7,
    "start_time": "2022-04-14T22:07:17.859Z"
   },
   {
    "duration": 33,
    "start_time": "2022-04-14T22:07:17.868Z"
   },
   {
    "duration": 27,
    "start_time": "2022-04-14T22:07:17.927Z"
   },
   {
    "duration": 16,
    "start_time": "2022-04-14T22:07:17.956Z"
   },
   {
    "duration": 13,
    "start_time": "2022-04-14T22:07:17.974Z"
   },
   {
    "duration": 56,
    "start_time": "2022-04-14T22:07:18.026Z"
   },
   {
    "duration": 98,
    "start_time": "2022-04-14T22:07:18.084Z"
   },
   {
    "duration": 1801,
    "start_time": "2022-04-14T22:07:18.185Z"
   },
   {
    "duration": 7,
    "start_time": "2022-04-14T22:07:19.988Z"
   },
   {
    "duration": 27,
    "start_time": "2022-04-14T22:07:19.997Z"
   },
   {
    "duration": 16,
    "start_time": "2022-04-14T22:07:20.027Z"
   },
   {
    "duration": 222,
    "start_time": "2022-04-14T22:07:20.046Z"
   },
   {
    "duration": 0,
    "start_time": "2022-04-14T22:07:20.273Z"
   },
   {
    "duration": 0,
    "start_time": "2022-04-14T22:07:20.276Z"
   },
   {
    "duration": 0,
    "start_time": "2022-04-14T22:07:20.278Z"
   },
   {
    "duration": 0,
    "start_time": "2022-04-14T22:07:20.279Z"
   },
   {
    "duration": 0,
    "start_time": "2022-04-14T22:07:20.281Z"
   },
   {
    "duration": 0,
    "start_time": "2022-04-14T22:07:20.283Z"
   },
   {
    "duration": 0,
    "start_time": "2022-04-14T22:07:20.285Z"
   },
   {
    "duration": 0,
    "start_time": "2022-04-14T22:07:20.287Z"
   },
   {
    "duration": 0,
    "start_time": "2022-04-14T22:07:20.289Z"
   },
   {
    "duration": 0,
    "start_time": "2022-04-14T22:07:20.291Z"
   },
   {
    "duration": 0,
    "start_time": "2022-04-14T22:07:20.292Z"
   },
   {
    "duration": 0,
    "start_time": "2022-04-14T22:07:20.325Z"
   },
   {
    "duration": 0,
    "start_time": "2022-04-14T22:07:20.327Z"
   },
   {
    "duration": 0,
    "start_time": "2022-04-14T22:07:20.329Z"
   },
   {
    "duration": 0,
    "start_time": "2022-04-14T22:07:20.331Z"
   },
   {
    "duration": 0,
    "start_time": "2022-04-14T22:07:20.333Z"
   },
   {
    "duration": 0,
    "start_time": "2022-04-14T22:07:20.335Z"
   },
   {
    "duration": 0,
    "start_time": "2022-04-14T22:07:20.337Z"
   },
   {
    "duration": 0,
    "start_time": "2022-04-14T22:07:20.339Z"
   },
   {
    "duration": 0,
    "start_time": "2022-04-14T22:07:20.341Z"
   },
   {
    "duration": 0,
    "start_time": "2022-04-14T22:07:20.342Z"
   },
   {
    "duration": 0,
    "start_time": "2022-04-14T22:07:20.345Z"
   },
   {
    "duration": 0,
    "start_time": "2022-04-14T22:07:20.347Z"
   },
   {
    "duration": 0,
    "start_time": "2022-04-14T22:07:20.348Z"
   },
   {
    "duration": 0,
    "start_time": "2022-04-14T22:07:20.350Z"
   },
   {
    "duration": 0,
    "start_time": "2022-04-14T22:07:20.352Z"
   },
   {
    "duration": 0,
    "start_time": "2022-04-14T22:07:20.354Z"
   },
   {
    "duration": 0,
    "start_time": "2022-04-14T22:07:20.356Z"
   },
   {
    "duration": 0,
    "start_time": "2022-04-14T22:07:20.358Z"
   },
   {
    "duration": 0,
    "start_time": "2022-04-14T22:07:20.360Z"
   },
   {
    "duration": 0,
    "start_time": "2022-04-14T22:07:20.361Z"
   },
   {
    "duration": 0,
    "start_time": "2022-04-14T22:07:20.363Z"
   },
   {
    "duration": 0,
    "start_time": "2022-04-14T22:07:20.425Z"
   },
   {
    "duration": 0,
    "start_time": "2022-04-14T22:07:20.427Z"
   },
   {
    "duration": 4,
    "start_time": "2022-04-14T22:07:52.363Z"
   },
   {
    "duration": 120,
    "start_time": "2022-04-14T22:07:52.371Z"
   },
   {
    "duration": 4,
    "start_time": "2022-04-14T22:08:52.971Z"
   },
   {
    "duration": 68,
    "start_time": "2022-04-14T22:09:06.171Z"
   },
   {
    "duration": 34,
    "start_time": "2022-04-14T22:09:46.459Z"
   },
   {
    "duration": 1744,
    "start_time": "2022-04-14T22:11:20.058Z"
   },
   {
    "duration": 26,
    "start_time": "2022-04-14T22:11:34.910Z"
   },
   {
    "duration": 25,
    "start_time": "2022-04-14T22:12:05.338Z"
   },
   {
    "duration": 15,
    "start_time": "2022-04-14T22:12:46.034Z"
   },
   {
    "duration": 15,
    "start_time": "2022-04-14T22:12:48.982Z"
   },
   {
    "duration": 3,
    "start_time": "2022-04-14T22:12:52.826Z"
   },
   {
    "duration": 213,
    "start_time": "2022-04-14T22:12:55.803Z"
   },
   {
    "duration": 208,
    "start_time": "2022-04-14T22:12:59.610Z"
   },
   {
    "duration": 206,
    "start_time": "2022-04-14T22:13:03.566Z"
   },
   {
    "duration": 206,
    "start_time": "2022-04-14T22:13:08.476Z"
   },
   {
    "duration": 388,
    "start_time": "2022-04-14T22:13:12.776Z"
   },
   {
    "duration": 27,
    "start_time": "2022-04-14T22:13:24.459Z"
   },
   {
    "duration": 27,
    "start_time": "2022-04-14T22:13:31.370Z"
   },
   {
    "duration": 408,
    "start_time": "2022-04-14T22:31:46.137Z"
   },
   {
    "duration": 384,
    "start_time": "2022-04-14T22:31:54.401Z"
   },
   {
    "duration": 4,
    "start_time": "2022-04-14T22:50:36.202Z"
   },
   {
    "duration": 131,
    "start_time": "2022-04-14T22:50:41.437Z"
   },
   {
    "duration": 32,
    "start_time": "2022-04-14T22:50:46.440Z"
   },
   {
    "duration": 13,
    "start_time": "2022-04-14T22:50:49.949Z"
   },
   {
    "duration": 14,
    "start_time": "2022-04-14T22:50:54.432Z"
   },
   {
    "duration": 24,
    "start_time": "2022-04-14T22:50:57.539Z"
   },
   {
    "duration": 12,
    "start_time": "2022-04-14T22:51:18.814Z"
   },
   {
    "duration": 16,
    "start_time": "2022-04-14T22:51:28.058Z"
   },
   {
    "duration": 45,
    "start_time": "2022-04-14T22:51:37.730Z"
   },
   {
    "duration": 66,
    "start_time": "2022-04-14T22:51:43.401Z"
   },
   {
    "duration": 1885,
    "start_time": "2022-04-14T22:53:51.270Z"
   },
   {
    "duration": 7,
    "start_time": "2022-04-14T22:54:14.336Z"
   },
   {
    "duration": 30,
    "start_time": "2022-04-14T23:09:38.453Z"
   },
   {
    "duration": 68,
    "start_time": "2022-04-14T23:10:20.300Z"
   },
   {
    "duration": 6,
    "start_time": "2022-04-14T23:11:39.232Z"
   },
   {
    "duration": 4,
    "start_time": "2022-04-14T23:11:54.469Z"
   },
   {
    "duration": 4,
    "start_time": "2022-04-14T23:16:39.218Z"
   },
   {
    "duration": 409,
    "start_time": "2022-04-14T23:17:47.164Z"
   },
   {
    "duration": 446,
    "start_time": "2022-04-14T23:18:25.696Z"
   },
   {
    "duration": 101,
    "start_time": "2022-04-14T23:19:25.408Z"
   },
   {
    "duration": 480,
    "start_time": "2022-04-14T23:19:42.323Z"
   },
   {
    "duration": 5,
    "start_time": "2022-04-14T23:20:48.306Z"
   },
   {
    "duration": 69,
    "start_time": "2022-04-14T23:21:40.750Z"
   },
   {
    "duration": 66,
    "start_time": "2022-04-14T23:22:20.472Z"
   },
   {
    "duration": 62,
    "start_time": "2022-04-14T23:22:57.492Z"
   },
   {
    "duration": 108,
    "start_time": "2022-04-14T23:23:32.149Z"
   },
   {
    "duration": 67,
    "start_time": "2022-04-14T23:23:38.862Z"
   },
   {
    "duration": 22,
    "start_time": "2022-04-14T23:26:39.151Z"
   },
   {
    "duration": 22,
    "start_time": "2022-04-14T23:27:43.781Z"
   },
   {
    "duration": 22,
    "start_time": "2022-04-14T23:28:03.572Z"
   },
   {
    "duration": 105,
    "start_time": "2022-04-14T23:40:34.066Z"
   },
   {
    "duration": 889,
    "start_time": "2022-04-14T23:43:52.152Z"
   },
   {
    "duration": 126,
    "start_time": "2022-04-14T23:43:53.044Z"
   },
   {
    "duration": 37,
    "start_time": "2022-04-14T23:43:53.172Z"
   },
   {
    "duration": 18,
    "start_time": "2022-04-14T23:43:53.227Z"
   },
   {
    "duration": 17,
    "start_time": "2022-04-14T23:43:53.248Z"
   },
   {
    "duration": 60,
    "start_time": "2022-04-14T23:43:53.267Z"
   },
   {
    "duration": 100,
    "start_time": "2022-04-14T23:43:53.330Z"
   },
   {
    "duration": 8,
    "start_time": "2022-04-14T23:43:53.433Z"
   },
   {
    "duration": 32,
    "start_time": "2022-04-14T23:43:53.444Z"
   },
   {
    "duration": 57,
    "start_time": "2022-04-14T23:43:53.482Z"
   },
   {
    "duration": 18,
    "start_time": "2022-04-14T23:43:53.542Z"
   },
   {
    "duration": 13,
    "start_time": "2022-04-14T23:43:53.562Z"
   },
   {
    "duration": 93,
    "start_time": "2022-04-14T23:43:53.578Z"
   },
   {
    "duration": 92,
    "start_time": "2022-04-14T23:43:53.674Z"
   },
   {
    "duration": 1805,
    "start_time": "2022-04-14T23:43:53.769Z"
   },
   {
    "duration": 8,
    "start_time": "2022-04-14T23:43:55.577Z"
   },
   {
    "duration": 4,
    "start_time": "2022-04-14T23:43:55.588Z"
   },
   {
    "duration": 39,
    "start_time": "2022-04-14T23:43:55.594Z"
   },
   {
    "duration": 867,
    "start_time": "2022-04-14T23:44:24.241Z"
   },
   {
    "duration": 119,
    "start_time": "2022-04-14T23:44:25.110Z"
   },
   {
    "duration": 33,
    "start_time": "2022-04-14T23:44:25.231Z"
   },
   {
    "duration": 15,
    "start_time": "2022-04-14T23:44:25.267Z"
   },
   {
    "duration": 44,
    "start_time": "2022-04-14T23:44:25.284Z"
   },
   {
    "duration": 25,
    "start_time": "2022-04-14T23:44:25.330Z"
   },
   {
    "duration": 95,
    "start_time": "2022-04-14T23:44:25.357Z"
   },
   {
    "duration": 6,
    "start_time": "2022-04-14T23:44:25.454Z"
   },
   {
    "duration": 30,
    "start_time": "2022-04-14T23:44:25.462Z"
   },
   {
    "duration": 46,
    "start_time": "2022-04-14T23:44:25.496Z"
   },
   {
    "duration": 15,
    "start_time": "2022-04-14T23:44:25.544Z"
   },
   {
    "duration": 10,
    "start_time": "2022-04-14T23:44:25.561Z"
   },
   {
    "duration": 80,
    "start_time": "2022-04-14T23:44:25.573Z"
   },
   {
    "duration": 75,
    "start_time": "2022-04-14T23:44:25.655Z"
   },
   {
    "duration": 1782,
    "start_time": "2022-04-14T23:44:25.732Z"
   },
   {
    "duration": 12,
    "start_time": "2022-04-14T23:44:27.516Z"
   },
   {
    "duration": 8,
    "start_time": "2022-04-14T23:44:27.530Z"
   },
   {
    "duration": 13,
    "start_time": "2022-04-14T23:44:27.541Z"
   },
   {
    "duration": 4,
    "start_time": "2022-04-14T23:44:27.556Z"
   },
   {
    "duration": 36,
    "start_time": "2022-04-14T23:44:27.562Z"
   },
   {
    "duration": 21,
    "start_time": "2022-04-14T23:44:27.625Z"
   },
   {
    "duration": 142,
    "start_time": "2022-04-14T23:44:27.648Z"
   },
   {
    "duration": 0,
    "start_time": "2022-04-14T23:44:27.794Z"
   },
   {
    "duration": 0,
    "start_time": "2022-04-14T23:44:27.796Z"
   },
   {
    "duration": 0,
    "start_time": "2022-04-14T23:44:27.797Z"
   },
   {
    "duration": 0,
    "start_time": "2022-04-14T23:44:27.798Z"
   },
   {
    "duration": 0,
    "start_time": "2022-04-14T23:44:27.799Z"
   },
   {
    "duration": 0,
    "start_time": "2022-04-14T23:44:27.801Z"
   },
   {
    "duration": 0,
    "start_time": "2022-04-14T23:44:27.802Z"
   },
   {
    "duration": 0,
    "start_time": "2022-04-14T23:44:27.803Z"
   },
   {
    "duration": 0,
    "start_time": "2022-04-14T23:44:27.825Z"
   },
   {
    "duration": 1,
    "start_time": "2022-04-14T23:44:27.826Z"
   },
   {
    "duration": 0,
    "start_time": "2022-04-14T23:44:27.828Z"
   },
   {
    "duration": 0,
    "start_time": "2022-04-14T23:44:27.829Z"
   },
   {
    "duration": 0,
    "start_time": "2022-04-14T23:44:27.830Z"
   },
   {
    "duration": 0,
    "start_time": "2022-04-14T23:44:27.831Z"
   },
   {
    "duration": 0,
    "start_time": "2022-04-14T23:44:27.834Z"
   },
   {
    "duration": 0,
    "start_time": "2022-04-14T23:44:27.836Z"
   },
   {
    "duration": 0,
    "start_time": "2022-04-14T23:44:27.838Z"
   },
   {
    "duration": 0,
    "start_time": "2022-04-14T23:44:27.839Z"
   },
   {
    "duration": 0,
    "start_time": "2022-04-14T23:44:27.841Z"
   },
   {
    "duration": 0,
    "start_time": "2022-04-14T23:44:27.842Z"
   },
   {
    "duration": 0,
    "start_time": "2022-04-14T23:44:27.844Z"
   },
   {
    "duration": 0,
    "start_time": "2022-04-14T23:44:27.845Z"
   },
   {
    "duration": 0,
    "start_time": "2022-04-14T23:44:27.846Z"
   },
   {
    "duration": 0,
    "start_time": "2022-04-14T23:44:27.848Z"
   },
   {
    "duration": 0,
    "start_time": "2022-04-14T23:44:27.849Z"
   },
   {
    "duration": 0,
    "start_time": "2022-04-14T23:44:27.850Z"
   },
   {
    "duration": 0,
    "start_time": "2022-04-14T23:44:27.852Z"
   },
   {
    "duration": 0,
    "start_time": "2022-04-14T23:44:27.854Z"
   },
   {
    "duration": 0,
    "start_time": "2022-04-14T23:44:27.855Z"
   },
   {
    "duration": 0,
    "start_time": "2022-04-14T23:44:27.857Z"
   },
   {
    "duration": 0,
    "start_time": "2022-04-14T23:44:27.858Z"
   },
   {
    "duration": 0,
    "start_time": "2022-04-14T23:44:27.860Z"
   },
   {
    "duration": 0,
    "start_time": "2022-04-14T23:44:27.925Z"
   },
   {
    "duration": 0,
    "start_time": "2022-04-14T23:44:27.927Z"
   },
   {
    "duration": 2523,
    "start_time": "2022-04-14T23:45:02.254Z"
   },
   {
    "duration": 2379,
    "start_time": "2022-04-14T23:45:50.376Z"
   },
   {
    "duration": 2294,
    "start_time": "2022-04-14T23:47:26.493Z"
   },
   {
    "duration": 31,
    "start_time": "2022-04-14T23:51:25.245Z"
   },
   {
    "duration": 34,
    "start_time": "2022-04-14T23:56:23.100Z"
   },
   {
    "duration": 465,
    "start_time": "2022-04-14T23:57:18.541Z"
   },
   {
    "duration": 466,
    "start_time": "2022-04-14T23:58:28.957Z"
   },
   {
    "duration": 49,
    "start_time": "2022-04-14T23:59:07.276Z"
   },
   {
    "duration": 257,
    "start_time": "2022-04-14T23:59:25.021Z"
   },
   {
    "duration": 323,
    "start_time": "2022-04-15T00:00:33.481Z"
   },
   {
    "duration": 253,
    "start_time": "2022-04-15T00:03:04.972Z"
   },
   {
    "duration": 1121,
    "start_time": "2022-04-15T00:06:16.361Z"
   },
   {
    "duration": 36,
    "start_time": "2022-04-15T00:08:35.136Z"
   },
   {
    "duration": 1735,
    "start_time": "2022-04-15T00:11:08.179Z"
   },
   {
    "duration": 71,
    "start_time": "2022-04-15T00:11:24.913Z"
   },
   {
    "duration": 70,
    "start_time": "2022-04-15T00:11:35.354Z"
   },
   {
    "duration": 119,
    "start_time": "2022-04-15T00:21:41.022Z"
   },
   {
    "duration": 1490,
    "start_time": "2022-04-15T00:21:47.389Z"
   },
   {
    "duration": 34,
    "start_time": "2022-04-15T00:22:35.180Z"
   },
   {
    "duration": 939,
    "start_time": "2022-04-15T00:23:09.584Z"
   },
   {
    "duration": 124,
    "start_time": "2022-04-15T00:23:10.526Z"
   },
   {
    "duration": 34,
    "start_time": "2022-04-15T00:23:10.653Z"
   },
   {
    "duration": 42,
    "start_time": "2022-04-15T00:23:10.691Z"
   },
   {
    "duration": 16,
    "start_time": "2022-04-15T00:23:10.735Z"
   },
   {
    "duration": 25,
    "start_time": "2022-04-15T00:23:10.753Z"
   },
   {
    "duration": 105,
    "start_time": "2022-04-15T00:23:10.781Z"
   },
   {
    "duration": 7,
    "start_time": "2022-04-15T00:23:10.888Z"
   },
   {
    "duration": 53,
    "start_time": "2022-04-15T00:23:10.897Z"
   },
   {
    "duration": 24,
    "start_time": "2022-04-15T00:23:10.954Z"
   },
   {
    "duration": 44,
    "start_time": "2022-04-15T00:23:10.981Z"
   },
   {
    "duration": 12,
    "start_time": "2022-04-15T00:23:11.028Z"
   },
   {
    "duration": 94,
    "start_time": "2022-04-15T00:23:11.042Z"
   },
   {
    "duration": 105,
    "start_time": "2022-04-15T00:23:11.139Z"
   },
   {
    "duration": 1797,
    "start_time": "2022-04-15T00:23:11.247Z"
   },
   {
    "duration": 7,
    "start_time": "2022-04-15T00:23:13.046Z"
   },
   {
    "duration": 22,
    "start_time": "2022-04-15T00:23:13.055Z"
   },
   {
    "duration": 20,
    "start_time": "2022-04-15T00:23:13.079Z"
   },
   {
    "duration": 1050,
    "start_time": "2022-04-15T00:23:13.101Z"
   },
   {
    "duration": 37,
    "start_time": "2022-04-15T00:23:14.153Z"
   },
   {
    "duration": 41,
    "start_time": "2022-04-15T00:23:14.193Z"
   },
   {
    "duration": 140,
    "start_time": "2022-04-15T00:23:14.237Z"
   },
   {
    "duration": 0,
    "start_time": "2022-04-15T00:23:14.381Z"
   },
   {
    "duration": 0,
    "start_time": "2022-04-15T00:23:14.382Z"
   },
   {
    "duration": 0,
    "start_time": "2022-04-15T00:23:14.384Z"
   },
   {
    "duration": 0,
    "start_time": "2022-04-15T00:23:14.385Z"
   },
   {
    "duration": 0,
    "start_time": "2022-04-15T00:23:14.386Z"
   },
   {
    "duration": 0,
    "start_time": "2022-04-15T00:23:14.387Z"
   },
   {
    "duration": 0,
    "start_time": "2022-04-15T00:23:14.388Z"
   },
   {
    "duration": 0,
    "start_time": "2022-04-15T00:23:14.389Z"
   },
   {
    "duration": 0,
    "start_time": "2022-04-15T00:23:14.391Z"
   },
   {
    "duration": 0,
    "start_time": "2022-04-15T00:23:14.392Z"
   },
   {
    "duration": 0,
    "start_time": "2022-04-15T00:23:14.394Z"
   },
   {
    "duration": 0,
    "start_time": "2022-04-15T00:23:14.395Z"
   },
   {
    "duration": 0,
    "start_time": "2022-04-15T00:23:14.397Z"
   },
   {
    "duration": 0,
    "start_time": "2022-04-15T00:23:14.425Z"
   },
   {
    "duration": 0,
    "start_time": "2022-04-15T00:23:14.426Z"
   },
   {
    "duration": 0,
    "start_time": "2022-04-15T00:23:14.428Z"
   },
   {
    "duration": 0,
    "start_time": "2022-04-15T00:23:14.429Z"
   },
   {
    "duration": 0,
    "start_time": "2022-04-15T00:23:14.431Z"
   },
   {
    "duration": 0,
    "start_time": "2022-04-15T00:23:14.432Z"
   },
   {
    "duration": 0,
    "start_time": "2022-04-15T00:23:14.434Z"
   },
   {
    "duration": 0,
    "start_time": "2022-04-15T00:23:14.436Z"
   },
   {
    "duration": 0,
    "start_time": "2022-04-15T00:23:14.438Z"
   },
   {
    "duration": 0,
    "start_time": "2022-04-15T00:23:14.439Z"
   },
   {
    "duration": 0,
    "start_time": "2022-04-15T00:23:14.441Z"
   },
   {
    "duration": 0,
    "start_time": "2022-04-15T00:23:14.442Z"
   },
   {
    "duration": 0,
    "start_time": "2022-04-15T00:23:14.444Z"
   },
   {
    "duration": 0,
    "start_time": "2022-04-15T00:23:14.446Z"
   },
   {
    "duration": 0,
    "start_time": "2022-04-15T00:23:14.447Z"
   },
   {
    "duration": 0,
    "start_time": "2022-04-15T00:23:14.449Z"
   },
   {
    "duration": 0,
    "start_time": "2022-04-15T00:23:14.451Z"
   },
   {
    "duration": 0,
    "start_time": "2022-04-15T00:23:14.452Z"
   },
   {
    "duration": 0,
    "start_time": "2022-04-15T00:23:14.454Z"
   },
   {
    "duration": 0,
    "start_time": "2022-04-15T00:23:14.456Z"
   },
   {
    "duration": 0,
    "start_time": "2022-04-15T00:23:14.457Z"
   },
   {
    "duration": 27,
    "start_time": "2022-04-15T00:27:30.228Z"
   },
   {
    "duration": 30,
    "start_time": "2022-04-15T00:27:47.459Z"
   },
   {
    "duration": 25,
    "start_time": "2022-04-15T00:28:23.140Z"
   },
   {
    "duration": 906,
    "start_time": "2022-04-15T00:28:39.228Z"
   },
   {
    "duration": 128,
    "start_time": "2022-04-15T00:28:40.137Z"
   },
   {
    "duration": 35,
    "start_time": "2022-04-15T00:28:40.267Z"
   },
   {
    "duration": 33,
    "start_time": "2022-04-15T00:28:40.305Z"
   },
   {
    "duration": 14,
    "start_time": "2022-04-15T00:28:40.340Z"
   },
   {
    "duration": 25,
    "start_time": "2022-04-15T00:28:40.356Z"
   },
   {
    "duration": 112,
    "start_time": "2022-04-15T00:28:40.383Z"
   },
   {
    "duration": 6,
    "start_time": "2022-04-15T00:28:40.498Z"
   },
   {
    "duration": 31,
    "start_time": "2022-04-15T00:28:40.526Z"
   },
   {
    "duration": 23,
    "start_time": "2022-04-15T00:28:40.561Z"
   },
   {
    "duration": 49,
    "start_time": "2022-04-15T00:28:40.586Z"
   },
   {
    "duration": 12,
    "start_time": "2022-04-15T00:28:40.638Z"
   },
   {
    "duration": 66,
    "start_time": "2022-04-15T00:28:40.653Z"
   },
   {
    "duration": 74,
    "start_time": "2022-04-15T00:28:40.722Z"
   },
   {
    "duration": 1803,
    "start_time": "2022-04-15T00:28:40.799Z"
   },
   {
    "duration": 19,
    "start_time": "2022-04-15T00:28:42.605Z"
   },
   {
    "duration": 4,
    "start_time": "2022-04-15T00:28:42.627Z"
   },
   {
    "duration": 15,
    "start_time": "2022-04-15T00:28:42.633Z"
   },
   {
    "duration": 32,
    "start_time": "2022-04-15T00:28:42.650Z"
   },
   {
    "duration": 68,
    "start_time": "2022-04-15T00:28:42.684Z"
   },
   {
    "duration": 21,
    "start_time": "2022-04-15T00:28:42.754Z"
   },
   {
    "duration": 147,
    "start_time": "2022-04-15T00:28:42.777Z"
   },
   {
    "duration": 0,
    "start_time": "2022-04-15T00:28:42.928Z"
   },
   {
    "duration": 0,
    "start_time": "2022-04-15T00:28:42.930Z"
   },
   {
    "duration": 0,
    "start_time": "2022-04-15T00:28:42.933Z"
   },
   {
    "duration": 0,
    "start_time": "2022-04-15T00:28:42.935Z"
   },
   {
    "duration": 0,
    "start_time": "2022-04-15T00:28:42.937Z"
   },
   {
    "duration": 0,
    "start_time": "2022-04-15T00:28:42.940Z"
   },
   {
    "duration": 0,
    "start_time": "2022-04-15T00:28:42.942Z"
   },
   {
    "duration": 0,
    "start_time": "2022-04-15T00:28:42.944Z"
   },
   {
    "duration": 0,
    "start_time": "2022-04-15T00:28:42.946Z"
   },
   {
    "duration": 0,
    "start_time": "2022-04-15T00:28:42.949Z"
   },
   {
    "duration": 0,
    "start_time": "2022-04-15T00:28:42.951Z"
   },
   {
    "duration": 0,
    "start_time": "2022-04-15T00:28:42.953Z"
   },
   {
    "duration": 0,
    "start_time": "2022-04-15T00:28:42.955Z"
   },
   {
    "duration": 0,
    "start_time": "2022-04-15T00:28:42.958Z"
   },
   {
    "duration": 0,
    "start_time": "2022-04-15T00:28:42.960Z"
   },
   {
    "duration": 0,
    "start_time": "2022-04-15T00:28:42.962Z"
   },
   {
    "duration": 0,
    "start_time": "2022-04-15T00:28:42.964Z"
   },
   {
    "duration": 0,
    "start_time": "2022-04-15T00:28:43.025Z"
   },
   {
    "duration": 0,
    "start_time": "2022-04-15T00:28:43.028Z"
   },
   {
    "duration": 1,
    "start_time": "2022-04-15T00:28:43.029Z"
   },
   {
    "duration": 0,
    "start_time": "2022-04-15T00:28:43.032Z"
   },
   {
    "duration": 0,
    "start_time": "2022-04-15T00:28:43.034Z"
   },
   {
    "duration": 0,
    "start_time": "2022-04-15T00:28:43.036Z"
   },
   {
    "duration": 0,
    "start_time": "2022-04-15T00:28:43.038Z"
   },
   {
    "duration": 0,
    "start_time": "2022-04-15T00:28:43.040Z"
   },
   {
    "duration": 0,
    "start_time": "2022-04-15T00:28:43.042Z"
   },
   {
    "duration": 1,
    "start_time": "2022-04-15T00:28:43.044Z"
   },
   {
    "duration": 1,
    "start_time": "2022-04-15T00:28:43.046Z"
   },
   {
    "duration": 0,
    "start_time": "2022-04-15T00:28:43.049Z"
   },
   {
    "duration": 0,
    "start_time": "2022-04-15T00:28:43.051Z"
   },
   {
    "duration": 0,
    "start_time": "2022-04-15T00:28:43.053Z"
   },
   {
    "duration": 0,
    "start_time": "2022-04-15T00:28:43.055Z"
   },
   {
    "duration": 0,
    "start_time": "2022-04-15T00:28:43.057Z"
   },
   {
    "duration": 0,
    "start_time": "2022-04-15T00:28:43.060Z"
   },
   {
    "duration": 136,
    "start_time": "2022-04-15T00:33:23.643Z"
   },
   {
    "duration": 98,
    "start_time": "2022-04-15T00:34:21.770Z"
   },
   {
    "duration": 845,
    "start_time": "2022-04-15T00:36:18.355Z"
   },
   {
    "duration": 123,
    "start_time": "2022-04-15T00:36:19.202Z"
   },
   {
    "duration": 33,
    "start_time": "2022-04-15T00:36:19.327Z"
   },
   {
    "duration": 15,
    "start_time": "2022-04-15T00:36:19.363Z"
   },
   {
    "duration": 20,
    "start_time": "2022-04-15T00:36:19.380Z"
   },
   {
    "duration": 24,
    "start_time": "2022-04-15T00:36:19.425Z"
   },
   {
    "duration": 99,
    "start_time": "2022-04-15T00:36:19.451Z"
   },
   {
    "duration": 6,
    "start_time": "2022-04-15T00:36:19.552Z"
   },
   {
    "duration": 32,
    "start_time": "2022-04-15T00:36:19.560Z"
   },
   {
    "duration": 43,
    "start_time": "2022-04-15T00:36:19.595Z"
   },
   {
    "duration": 15,
    "start_time": "2022-04-15T00:36:19.640Z"
   },
   {
    "duration": 10,
    "start_time": "2022-04-15T00:36:19.657Z"
   },
   {
    "duration": 77,
    "start_time": "2022-04-15T00:36:19.669Z"
   },
   {
    "duration": 87,
    "start_time": "2022-04-15T00:36:19.749Z"
   },
   {
    "duration": 1868,
    "start_time": "2022-04-15T00:36:19.839Z"
   },
   {
    "duration": 14,
    "start_time": "2022-04-15T00:36:21.710Z"
   },
   {
    "duration": 4,
    "start_time": "2022-04-15T00:36:21.728Z"
   },
   {
    "duration": 12,
    "start_time": "2022-04-15T00:36:21.734Z"
   },
   {
    "duration": 129,
    "start_time": "2022-04-15T00:36:21.748Z"
   },
   {
    "duration": 49,
    "start_time": "2022-04-15T00:36:21.880Z"
   },
   {
    "duration": 25,
    "start_time": "2022-04-15T00:36:21.931Z"
   },
   {
    "duration": 140,
    "start_time": "2022-04-15T00:36:21.958Z"
   },
   {
    "duration": 0,
    "start_time": "2022-04-15T00:36:22.102Z"
   },
   {
    "duration": 0,
    "start_time": "2022-04-15T00:36:22.104Z"
   },
   {
    "duration": 0,
    "start_time": "2022-04-15T00:36:22.105Z"
   },
   {
    "duration": 0,
    "start_time": "2022-04-15T00:36:22.107Z"
   },
   {
    "duration": 0,
    "start_time": "2022-04-15T00:36:22.108Z"
   },
   {
    "duration": 0,
    "start_time": "2022-04-15T00:36:22.110Z"
   },
   {
    "duration": 0,
    "start_time": "2022-04-15T00:36:22.125Z"
   },
   {
    "duration": 0,
    "start_time": "2022-04-15T00:36:22.126Z"
   },
   {
    "duration": 0,
    "start_time": "2022-04-15T00:36:22.128Z"
   },
   {
    "duration": 0,
    "start_time": "2022-04-15T00:36:22.129Z"
   },
   {
    "duration": 0,
    "start_time": "2022-04-15T00:36:22.131Z"
   },
   {
    "duration": 0,
    "start_time": "2022-04-15T00:36:22.133Z"
   },
   {
    "duration": 0,
    "start_time": "2022-04-15T00:36:22.134Z"
   },
   {
    "duration": 0,
    "start_time": "2022-04-15T00:36:22.136Z"
   },
   {
    "duration": 0,
    "start_time": "2022-04-15T00:36:22.137Z"
   },
   {
    "duration": 1,
    "start_time": "2022-04-15T00:36:22.138Z"
   },
   {
    "duration": 0,
    "start_time": "2022-04-15T00:36:22.140Z"
   },
   {
    "duration": 0,
    "start_time": "2022-04-15T00:36:22.141Z"
   },
   {
    "duration": 0,
    "start_time": "2022-04-15T00:36:22.143Z"
   },
   {
    "duration": 0,
    "start_time": "2022-04-15T00:36:22.144Z"
   },
   {
    "duration": 0,
    "start_time": "2022-04-15T00:36:22.146Z"
   },
   {
    "duration": 0,
    "start_time": "2022-04-15T00:36:22.147Z"
   },
   {
    "duration": 0,
    "start_time": "2022-04-15T00:36:22.149Z"
   },
   {
    "duration": 0,
    "start_time": "2022-04-15T00:36:22.150Z"
   },
   {
    "duration": 0,
    "start_time": "2022-04-15T00:36:22.152Z"
   },
   {
    "duration": 0,
    "start_time": "2022-04-15T00:36:22.153Z"
   },
   {
    "duration": 0,
    "start_time": "2022-04-15T00:36:22.155Z"
   },
   {
    "duration": 0,
    "start_time": "2022-04-15T00:36:22.156Z"
   },
   {
    "duration": 0,
    "start_time": "2022-04-15T00:36:22.158Z"
   },
   {
    "duration": 0,
    "start_time": "2022-04-15T00:36:22.159Z"
   },
   {
    "duration": 0,
    "start_time": "2022-04-15T00:36:22.225Z"
   },
   {
    "duration": 0,
    "start_time": "2022-04-15T00:36:22.226Z"
   },
   {
    "duration": 0,
    "start_time": "2022-04-15T00:36:22.228Z"
   },
   {
    "duration": 0,
    "start_time": "2022-04-15T00:36:22.229Z"
   },
   {
    "duration": 7,
    "start_time": "2022-04-15T00:37:45.658Z"
   },
   {
    "duration": 70,
    "start_time": "2022-04-15T00:39:38.422Z"
   },
   {
    "duration": 66,
    "start_time": "2022-04-15T00:40:01.243Z"
   },
   {
    "duration": 69,
    "start_time": "2022-04-15T00:40:55.672Z"
   },
   {
    "duration": 68,
    "start_time": "2022-04-15T00:41:43.214Z"
   },
   {
    "duration": 15,
    "start_time": "2022-04-15T00:47:15.448Z"
   },
   {
    "duration": 18,
    "start_time": "2022-04-15T00:48:03.234Z"
   },
   {
    "duration": 17,
    "start_time": "2022-04-15T00:49:41.802Z"
   },
   {
    "duration": 36,
    "start_time": "2022-04-15T00:50:22.112Z"
   },
   {
    "duration": 917,
    "start_time": "2022-04-15T00:51:24.638Z"
   },
   {
    "duration": 129,
    "start_time": "2022-04-15T00:51:25.558Z"
   },
   {
    "duration": 45,
    "start_time": "2022-04-15T00:51:25.690Z"
   },
   {
    "duration": 17,
    "start_time": "2022-04-15T00:51:25.739Z"
   },
   {
    "duration": 20,
    "start_time": "2022-04-15T00:51:25.759Z"
   },
   {
    "duration": 60,
    "start_time": "2022-04-15T00:51:25.781Z"
   },
   {
    "duration": 99,
    "start_time": "2022-04-15T00:51:25.843Z"
   },
   {
    "duration": 8,
    "start_time": "2022-04-15T00:51:25.945Z"
   },
   {
    "duration": 31,
    "start_time": "2022-04-15T00:51:25.956Z"
   },
   {
    "duration": 24,
    "start_time": "2022-04-15T00:51:26.025Z"
   },
   {
    "duration": 18,
    "start_time": "2022-04-15T00:51:26.052Z"
   },
   {
    "duration": 12,
    "start_time": "2022-04-15T00:51:26.072Z"
   },
   {
    "duration": 82,
    "start_time": "2022-04-15T00:51:26.086Z"
   },
   {
    "duration": 92,
    "start_time": "2022-04-15T00:51:26.171Z"
   },
   {
    "duration": 1739,
    "start_time": "2022-04-15T00:51:26.266Z"
   },
   {
    "duration": 18,
    "start_time": "2022-04-15T00:51:28.008Z"
   },
   {
    "duration": 22,
    "start_time": "2022-04-15T00:51:28.028Z"
   },
   {
    "duration": 7,
    "start_time": "2022-04-15T00:51:28.052Z"
   },
   {
    "duration": 20,
    "start_time": "2022-04-15T00:51:28.061Z"
   },
   {
    "duration": 70,
    "start_time": "2022-04-15T00:51:28.083Z"
   },
   {
    "duration": 21,
    "start_time": "2022-04-15T00:51:28.155Z"
   },
   {
    "duration": 60,
    "start_time": "2022-04-15T00:51:28.178Z"
   },
   {
    "duration": 13,
    "start_time": "2022-04-15T00:51:28.240Z"
   },
   {
    "duration": 11,
    "start_time": "2022-04-15T00:51:28.256Z"
   },
   {
    "duration": 12,
    "start_time": "2022-04-15T00:51:28.269Z"
   },
   {
    "duration": 47,
    "start_time": "2022-04-15T00:51:28.284Z"
   },
   {
    "duration": 30,
    "start_time": "2022-04-15T00:51:28.333Z"
   },
   {
    "duration": 21,
    "start_time": "2022-04-15T00:51:28.368Z"
   },
   {
    "duration": 63,
    "start_time": "2022-04-15T00:51:28.392Z"
   },
   {
    "duration": 20,
    "start_time": "2022-04-15T00:51:28.457Z"
   },
   {
    "duration": 440,
    "start_time": "2022-04-15T00:51:28.479Z"
   },
   {
    "duration": 374,
    "start_time": "2022-04-15T00:51:28.921Z"
   },
   {
    "duration": 273,
    "start_time": "2022-04-15T00:51:29.297Z"
   },
   {
    "duration": 212,
    "start_time": "2022-04-15T00:51:29.572Z"
   },
   {
    "duration": 214,
    "start_time": "2022-04-15T00:51:29.786Z"
   },
   {
    "duration": 366,
    "start_time": "2022-04-15T00:51:30.002Z"
   },
   {
    "duration": 332,
    "start_time": "2022-04-15T00:51:30.371Z"
   },
   {
    "duration": 350,
    "start_time": "2022-04-15T00:51:30.706Z"
   },
   {
    "duration": 324,
    "start_time": "2022-04-15T00:51:31.058Z"
   },
   {
    "duration": 15,
    "start_time": "2022-04-15T00:51:31.384Z"
   },
   {
    "duration": 32,
    "start_time": "2022-04-15T00:51:31.401Z"
   },
   {
    "duration": 4,
    "start_time": "2022-04-15T00:51:31.435Z"
   },
   {
    "duration": 214,
    "start_time": "2022-04-15T00:51:31.442Z"
   },
   {
    "duration": 219,
    "start_time": "2022-04-15T00:51:31.658Z"
   },
   {
    "duration": 224,
    "start_time": "2022-04-15T00:51:31.880Z"
   },
   {
    "duration": 359,
    "start_time": "2022-04-15T00:51:32.106Z"
   },
   {
    "duration": 41,
    "start_time": "2022-04-15T00:51:32.467Z"
   },
   {
    "duration": 414,
    "start_time": "2022-04-15T00:51:32.525Z"
   },
   {
    "duration": 342,
    "start_time": "2022-04-15T00:51:32.942Z"
   },
   {
    "duration": 352,
    "start_time": "2022-04-15T00:51:33.286Z"
   },
   {
    "duration": 324,
    "start_time": "2022-04-15T00:51:33.640Z"
   },
   {
    "duration": 387,
    "start_time": "2022-04-15T00:51:33.967Z"
   },
   {
    "duration": 345,
    "start_time": "2022-04-15T00:51:34.356Z"
   },
   {
    "duration": 2477,
    "start_time": "2022-04-15T00:51:34.703Z"
   },
   {
    "duration": 1382,
    "start_time": "2022-04-15T00:51:37.183Z"
   },
   {
    "duration": 1128,
    "start_time": "2022-04-15T00:51:38.567Z"
   },
   {
    "duration": 2286,
    "start_time": "2022-04-15T00:52:40.404Z"
   },
   {
    "duration": 899,
    "start_time": "2022-04-15T00:53:58.938Z"
   },
   {
    "duration": 128,
    "start_time": "2022-04-15T00:53:59.839Z"
   },
   {
    "duration": 35,
    "start_time": "2022-04-15T00:53:59.969Z"
   },
   {
    "duration": 29,
    "start_time": "2022-04-15T00:54:00.007Z"
   },
   {
    "duration": 29,
    "start_time": "2022-04-15T00:54:00.039Z"
   },
   {
    "duration": 31,
    "start_time": "2022-04-15T00:54:00.070Z"
   },
   {
    "duration": 90,
    "start_time": "2022-04-15T00:54:00.103Z"
   },
   {
    "duration": 30,
    "start_time": "2022-04-15T00:54:00.196Z"
   },
   {
    "duration": 32,
    "start_time": "2022-04-15T00:54:00.228Z"
   },
   {
    "duration": 25,
    "start_time": "2022-04-15T00:54:00.264Z"
   },
   {
    "duration": 45,
    "start_time": "2022-04-15T00:54:00.291Z"
   },
   {
    "duration": 19,
    "start_time": "2022-04-15T00:54:00.338Z"
   },
   {
    "duration": 69,
    "start_time": "2022-04-15T00:54:00.360Z"
   },
   {
    "duration": 75,
    "start_time": "2022-04-15T00:54:00.431Z"
   },
   {
    "duration": 1814,
    "start_time": "2022-04-15T00:54:00.525Z"
   },
   {
    "duration": 6,
    "start_time": "2022-04-15T00:54:02.342Z"
   },
   {
    "duration": 19,
    "start_time": "2022-04-15T00:54:02.350Z"
   },
   {
    "duration": 7,
    "start_time": "2022-04-15T00:54:02.371Z"
   },
   {
    "duration": 20,
    "start_time": "2022-04-15T00:54:02.380Z"
   },
   {
    "duration": 51,
    "start_time": "2022-04-15T00:54:02.402Z"
   },
   {
    "duration": 21,
    "start_time": "2022-04-15T00:54:02.456Z"
   },
   {
    "duration": 45,
    "start_time": "2022-04-15T00:54:02.479Z"
   },
   {
    "duration": 14,
    "start_time": "2022-04-15T00:54:02.527Z"
   },
   {
    "duration": 11,
    "start_time": "2022-04-15T00:54:02.543Z"
   },
   {
    "duration": 12,
    "start_time": "2022-04-15T00:54:02.557Z"
   },
   {
    "duration": 10,
    "start_time": "2022-04-15T00:54:02.571Z"
   },
   {
    "duration": 47,
    "start_time": "2022-04-15T00:54:02.583Z"
   },
   {
    "duration": 23,
    "start_time": "2022-04-15T00:54:02.635Z"
   },
   {
    "duration": 44,
    "start_time": "2022-04-15T00:54:02.660Z"
   },
   {
    "duration": 32,
    "start_time": "2022-04-15T00:54:02.706Z"
   },
   {
    "duration": 689,
    "start_time": "2022-04-15T00:54:02.740Z"
   },
   {
    "duration": 406,
    "start_time": "2022-04-15T00:54:03.431Z"
   },
   {
    "duration": 289,
    "start_time": "2022-04-15T00:54:03.839Z"
   },
   {
    "duration": 222,
    "start_time": "2022-04-15T00:54:04.130Z"
   },
   {
    "duration": 220,
    "start_time": "2022-04-15T00:54:04.354Z"
   },
   {
    "duration": 366,
    "start_time": "2022-04-15T00:54:04.577Z"
   },
   {
    "duration": 344,
    "start_time": "2022-04-15T00:54:04.945Z"
   },
   {
    "duration": 350,
    "start_time": "2022-04-15T00:54:05.292Z"
   },
   {
    "duration": 324,
    "start_time": "2022-04-15T00:54:05.644Z"
   },
   {
    "duration": 15,
    "start_time": "2022-04-15T00:54:05.970Z"
   },
   {
    "duration": 36,
    "start_time": "2022-04-15T00:54:05.987Z"
   },
   {
    "duration": 4,
    "start_time": "2022-04-15T00:54:06.026Z"
   },
   {
    "duration": 211,
    "start_time": "2022-04-15T00:54:06.032Z"
   },
   {
    "duration": 214,
    "start_time": "2022-04-15T00:54:06.245Z"
   },
   {
    "duration": 220,
    "start_time": "2022-04-15T00:54:06.461Z"
   },
   {
    "duration": 357,
    "start_time": "2022-04-15T00:54:06.683Z"
   },
   {
    "duration": 38,
    "start_time": "2022-04-15T00:54:07.042Z"
   },
   {
    "duration": 412,
    "start_time": "2022-04-15T00:54:07.082Z"
   },
   {
    "duration": 336,
    "start_time": "2022-04-15T00:54:07.496Z"
   },
   {
    "duration": 351,
    "start_time": "2022-04-15T00:54:07.834Z"
   },
   {
    "duration": 319,
    "start_time": "2022-04-15T00:54:08.187Z"
   },
   {
    "duration": 394,
    "start_time": "2022-04-15T00:54:08.508Z"
   },
   {
    "duration": 347,
    "start_time": "2022-04-15T00:54:08.904Z"
   },
   {
    "duration": 2478,
    "start_time": "2022-04-15T00:54:09.254Z"
   },
   {
    "duration": 1275,
    "start_time": "2022-04-15T00:54:11.734Z"
   },
   {
    "duration": 1137,
    "start_time": "2022-04-15T00:54:13.011Z"
   },
   {
    "duration": 7,
    "start_time": "2022-04-15T00:55:51.324Z"
   },
   {
    "duration": 7,
    "start_time": "2022-04-15T00:57:12.785Z"
   },
   {
    "duration": 8,
    "start_time": "2022-04-15T00:57:38.259Z"
   },
   {
    "duration": 6,
    "start_time": "2022-04-15T00:57:45.898Z"
   },
   {
    "duration": 545,
    "start_time": "2022-04-15T00:58:43.553Z"
   },
   {
    "duration": 11,
    "start_time": "2022-04-15T00:59:29.382Z"
   },
   {
    "duration": 21,
    "start_time": "2022-04-15T01:00:03.658Z"
   },
   {
    "duration": 35,
    "start_time": "2022-04-15T01:00:50.540Z"
   },
   {
    "duration": 110,
    "start_time": "2022-04-15T01:05:02.325Z"
   },
   {
    "duration": 25,
    "start_time": "2022-04-15T01:05:12.723Z"
   },
   {
    "duration": 47,
    "start_time": "2022-04-15T01:08:23.719Z"
   },
   {
    "duration": 11,
    "start_time": "2022-04-15T01:09:08.187Z"
   },
   {
    "duration": 10,
    "start_time": "2022-04-15T01:12:17.406Z"
   },
   {
    "duration": 22,
    "start_time": "2022-04-15T01:13:10.460Z"
   },
   {
    "duration": 186,
    "start_time": "2022-04-15T01:14:39.584Z"
   },
   {
    "duration": 185,
    "start_time": "2022-04-15T01:16:43.529Z"
   },
   {
    "duration": 804,
    "start_time": "2022-04-15T09:43:20.818Z"
   },
   {
    "duration": 95,
    "start_time": "2022-04-15T09:43:21.624Z"
   },
   {
    "duration": 24,
    "start_time": "2022-04-15T09:43:21.721Z"
   },
   {
    "duration": 10,
    "start_time": "2022-04-15T09:43:21.746Z"
   },
   {
    "duration": 9,
    "start_time": "2022-04-15T09:43:21.757Z"
   },
   {
    "duration": 36,
    "start_time": "2022-04-15T09:43:21.767Z"
   },
   {
    "duration": 52,
    "start_time": "2022-04-15T09:43:21.805Z"
   },
   {
    "duration": 4,
    "start_time": "2022-04-15T09:43:21.859Z"
   },
   {
    "duration": 36,
    "start_time": "2022-04-15T09:43:21.864Z"
   },
   {
    "duration": 15,
    "start_time": "2022-04-15T09:43:21.903Z"
   },
   {
    "duration": 11,
    "start_time": "2022-04-15T09:43:21.919Z"
   },
   {
    "duration": 9,
    "start_time": "2022-04-15T09:43:21.931Z"
   },
   {
    "duration": 30,
    "start_time": "2022-04-15T09:43:21.941Z"
   },
   {
    "duration": 67,
    "start_time": "2022-04-15T09:43:21.973Z"
   },
   {
    "duration": 959,
    "start_time": "2022-04-15T09:43:22.041Z"
   },
   {
    "duration": 4,
    "start_time": "2022-04-15T09:43:23.002Z"
   },
   {
    "duration": 12,
    "start_time": "2022-04-15T09:43:23.007Z"
   },
   {
    "duration": 4,
    "start_time": "2022-04-15T09:43:23.021Z"
   },
   {
    "duration": 10,
    "start_time": "2022-04-15T09:43:23.027Z"
   },
   {
    "duration": 24,
    "start_time": "2022-04-15T09:43:23.039Z"
   },
   {
    "duration": 41,
    "start_time": "2022-04-15T09:43:23.064Z"
   },
   {
    "duration": 24,
    "start_time": "2022-04-15T09:43:23.107Z"
   },
   {
    "duration": 8,
    "start_time": "2022-04-15T09:43:23.133Z"
   },
   {
    "duration": 7,
    "start_time": "2022-04-15T09:43:23.143Z"
   },
   {
    "duration": 7,
    "start_time": "2022-04-15T09:43:23.152Z"
   },
   {
    "duration": 39,
    "start_time": "2022-04-15T09:43:23.161Z"
   },
   {
    "duration": 21,
    "start_time": "2022-04-15T09:43:23.202Z"
   },
   {
    "duration": 14,
    "start_time": "2022-04-15T09:43:23.226Z"
   },
   {
    "duration": 28,
    "start_time": "2022-04-15T09:43:23.241Z"
   },
   {
    "duration": 42,
    "start_time": "2022-04-15T09:43:23.271Z"
   },
   {
    "duration": 246,
    "start_time": "2022-04-15T09:43:23.315Z"
   },
   {
    "duration": 204,
    "start_time": "2022-04-15T09:43:23.563Z"
   },
   {
    "duration": 169,
    "start_time": "2022-04-15T09:43:23.769Z"
   },
   {
    "duration": 120,
    "start_time": "2022-04-15T09:43:23.940Z"
   },
   {
    "duration": 124,
    "start_time": "2022-04-15T09:43:24.062Z"
   },
   {
    "duration": 190,
    "start_time": "2022-04-15T09:43:24.188Z"
   },
   {
    "duration": 174,
    "start_time": "2022-04-15T09:43:24.380Z"
   },
   {
    "duration": 176,
    "start_time": "2022-04-15T09:43:24.555Z"
   },
   {
    "duration": 157,
    "start_time": "2022-04-15T09:43:24.733Z"
   },
   {
    "duration": 15,
    "start_time": "2022-04-15T09:43:24.892Z"
   },
   {
    "duration": 9,
    "start_time": "2022-04-15T09:43:24.909Z"
   },
   {
    "duration": 5,
    "start_time": "2022-04-15T09:43:24.920Z"
   },
   {
    "duration": 128,
    "start_time": "2022-04-15T09:43:24.926Z"
   },
   {
    "duration": 133,
    "start_time": "2022-04-15T09:43:25.056Z"
   },
   {
    "duration": 133,
    "start_time": "2022-04-15T09:43:25.190Z"
   },
   {
    "duration": 179,
    "start_time": "2022-04-15T09:43:25.325Z"
   },
   {
    "duration": 22,
    "start_time": "2022-04-15T09:43:25.506Z"
   },
   {
    "duration": 222,
    "start_time": "2022-04-15T09:43:25.530Z"
   },
   {
    "duration": 171,
    "start_time": "2022-04-15T09:43:25.754Z"
   },
   {
    "duration": 182,
    "start_time": "2022-04-15T09:43:25.927Z"
   },
   {
    "duration": 158,
    "start_time": "2022-04-15T09:43:26.111Z"
   },
   {
    "duration": 212,
    "start_time": "2022-04-15T09:43:26.270Z"
   },
   {
    "duration": 170,
    "start_time": "2022-04-15T09:43:26.483Z"
   },
   {
    "duration": 1349,
    "start_time": "2022-04-15T09:43:26.654Z"
   },
   {
    "duration": 681,
    "start_time": "2022-04-15T09:43:28.004Z"
   },
   {
    "duration": 160,
    "start_time": "2022-04-15T09:43:28.686Z"
   },
   {
    "duration": 0,
    "start_time": "2022-04-15T09:43:28.848Z"
   },
   {
    "duration": 18,
    "start_time": "2022-04-15T09:45:35.462Z"
   },
   {
    "duration": 16,
    "start_time": "2022-04-15T09:45:57.127Z"
   },
   {
    "duration": 145,
    "start_time": "2022-04-15T09:46:38.828Z"
   },
   {
    "duration": 246,
    "start_time": "2022-04-15T09:46:51.965Z"
   },
   {
    "duration": 12,
    "start_time": "2022-04-15T10:03:33.200Z"
   },
   {
    "duration": 16,
    "start_time": "2022-04-15T10:04:03.290Z"
   },
   {
    "duration": 81,
    "start_time": "2022-04-15T10:05:48.729Z"
   },
   {
    "duration": 599,
    "start_time": "2022-04-15T10:05:48.914Z"
   },
   {
    "duration": 274,
    "start_time": "2022-04-15T10:12:34.446Z"
   },
   {
    "duration": 4,
    "start_time": "2022-04-15T10:14:07.337Z"
   },
   {
    "duration": 40,
    "start_time": "2022-04-15T10:14:21.021Z"
   },
   {
    "duration": 183,
    "start_time": "2022-04-15T10:14:52.082Z"
   },
   {
    "duration": 753,
    "start_time": "2022-04-15T10:20:13.956Z"
   },
   {
    "duration": 8,
    "start_time": "2022-04-15T10:20:31.875Z"
   },
   {
    "duration": 5,
    "start_time": "2022-04-15T10:21:24.518Z"
   },
   {
    "duration": 96,
    "start_time": "2022-04-15T10:22:23.178Z"
   },
   {
    "duration": 126,
    "start_time": "2022-04-15T10:28:30.391Z"
   },
   {
    "duration": 91,
    "start_time": "2022-04-15T10:28:50.369Z"
   },
   {
    "duration": 121,
    "start_time": "2022-04-15T10:29:19.311Z"
   },
   {
    "duration": 95,
    "start_time": "2022-04-15T10:29:51.216Z"
   },
   {
    "duration": 199,
    "start_time": "2022-04-15T10:30:26.235Z"
   },
   {
    "duration": 236,
    "start_time": "2022-04-15T10:31:07.616Z"
   },
   {
    "duration": 139,
    "start_time": "2022-04-15T10:31:28.743Z"
   },
   {
    "duration": 148,
    "start_time": "2022-04-15T10:33:02.499Z"
   },
   {
    "duration": 110,
    "start_time": "2022-04-15T10:33:32.266Z"
   },
   {
    "duration": 112,
    "start_time": "2022-04-15T10:33:47.276Z"
   },
   {
    "duration": 117,
    "start_time": "2022-04-15T10:33:57.341Z"
   },
   {
    "duration": 91,
    "start_time": "2022-04-15T10:34:24.877Z"
   },
   {
    "duration": 89,
    "start_time": "2022-04-15T10:34:57.627Z"
   },
   {
    "duration": 97,
    "start_time": "2022-04-15T10:35:07.477Z"
   },
   {
    "duration": 175,
    "start_time": "2022-04-15T10:35:28.579Z"
   },
   {
    "duration": 119,
    "start_time": "2022-04-15T10:35:45.090Z"
   },
   {
    "duration": 102,
    "start_time": "2022-04-15T10:36:20.161Z"
   },
   {
    "duration": 95,
    "start_time": "2022-04-15T10:36:28.371Z"
   },
   {
    "duration": 90,
    "start_time": "2022-04-15T10:36:37.376Z"
   },
   {
    "duration": 38,
    "start_time": "2022-04-15T10:37:38.672Z"
   },
   {
    "duration": 5,
    "start_time": "2022-04-15T10:39:01.631Z"
   },
   {
    "duration": 39,
    "start_time": "2022-04-15T10:41:59.298Z"
   },
   {
    "duration": 11,
    "start_time": "2022-04-15T10:42:24.971Z"
   },
   {
    "duration": 17,
    "start_time": "2022-04-15T10:43:42.910Z"
   },
   {
    "duration": 27,
    "start_time": "2022-04-15T10:44:06.986Z"
   },
   {
    "duration": 27,
    "start_time": "2022-04-15T10:45:08.456Z"
   },
   {
    "duration": 12,
    "start_time": "2022-04-15T10:45:39.838Z"
   },
   {
    "duration": 13,
    "start_time": "2022-04-15T10:45:57.141Z"
   },
   {
    "duration": 12,
    "start_time": "2022-04-15T10:46:11.501Z"
   },
   {
    "duration": 679,
    "start_time": "2022-04-15T10:54:01.980Z"
   },
   {
    "duration": 86,
    "start_time": "2022-04-15T10:54:02.661Z"
   },
   {
    "duration": 23,
    "start_time": "2022-04-15T10:54:02.749Z"
   },
   {
    "duration": 9,
    "start_time": "2022-04-15T10:54:02.774Z"
   },
   {
    "duration": 8,
    "start_time": "2022-04-15T10:54:02.800Z"
   },
   {
    "duration": 20,
    "start_time": "2022-04-15T10:54:02.809Z"
   },
   {
    "duration": 51,
    "start_time": "2022-04-15T10:54:02.831Z"
   },
   {
    "duration": 17,
    "start_time": "2022-04-15T10:54:02.883Z"
   },
   {
    "duration": 19,
    "start_time": "2022-04-15T10:54:02.901Z"
   },
   {
    "duration": 14,
    "start_time": "2022-04-15T10:54:02.922Z"
   },
   {
    "duration": 10,
    "start_time": "2022-04-15T10:54:02.937Z"
   },
   {
    "duration": 10,
    "start_time": "2022-04-15T10:54:02.949Z"
   },
   {
    "duration": 54,
    "start_time": "2022-04-15T10:54:02.960Z"
   },
   {
    "duration": 43,
    "start_time": "2022-04-15T10:54:03.016Z"
   },
   {
    "duration": 1188,
    "start_time": "2022-04-15T10:54:03.060Z"
   },
   {
    "duration": 4,
    "start_time": "2022-04-15T10:54:04.250Z"
   },
   {
    "duration": 13,
    "start_time": "2022-04-15T10:54:04.255Z"
   },
   {
    "duration": 4,
    "start_time": "2022-04-15T10:54:04.270Z"
   },
   {
    "duration": 33,
    "start_time": "2022-04-15T10:54:04.275Z"
   },
   {
    "duration": 24,
    "start_time": "2022-04-15T10:54:04.309Z"
   },
   {
    "duration": 12,
    "start_time": "2022-04-15T10:54:04.334Z"
   },
   {
    "duration": 25,
    "start_time": "2022-04-15T10:54:04.347Z"
   },
   {
    "duration": 34,
    "start_time": "2022-04-15T10:54:04.374Z"
   },
   {
    "duration": 9,
    "start_time": "2022-04-15T10:54:04.410Z"
   },
   {
    "duration": 8,
    "start_time": "2022-04-15T10:54:04.421Z"
   },
   {
    "duration": 8,
    "start_time": "2022-04-15T10:54:04.430Z"
   },
   {
    "duration": 21,
    "start_time": "2022-04-15T10:54:04.440Z"
   },
   {
    "duration": 44,
    "start_time": "2022-04-15T10:54:04.465Z"
   },
   {
    "duration": 40,
    "start_time": "2022-04-15T10:54:04.511Z"
   },
   {
    "duration": 12,
    "start_time": "2022-04-15T10:54:04.553Z"
   },
   {
    "duration": 243,
    "start_time": "2022-04-15T10:54:04.566Z"
   },
   {
    "duration": 208,
    "start_time": "2022-04-15T10:54:04.810Z"
   },
   {
    "duration": 173,
    "start_time": "2022-04-15T10:54:05.020Z"
   },
   {
    "duration": 129,
    "start_time": "2022-04-15T10:54:05.195Z"
   },
   {
    "duration": 119,
    "start_time": "2022-04-15T10:54:05.326Z"
   },
   {
    "duration": 190,
    "start_time": "2022-04-15T10:54:05.446Z"
   },
   {
    "duration": 169,
    "start_time": "2022-04-15T10:54:05.638Z"
   },
   {
    "duration": 176,
    "start_time": "2022-04-15T10:54:05.809Z"
   },
   {
    "duration": 162,
    "start_time": "2022-04-15T10:54:05.986Z"
   },
   {
    "duration": 9,
    "start_time": "2022-04-15T10:54:06.150Z"
   },
   {
    "duration": 9,
    "start_time": "2022-04-15T10:54:06.161Z"
   },
   {
    "duration": 4,
    "start_time": "2022-04-15T10:54:06.172Z"
   },
   {
    "duration": 131,
    "start_time": "2022-04-15T10:54:06.177Z"
   },
   {
    "duration": 132,
    "start_time": "2022-04-15T10:54:06.309Z"
   },
   {
    "duration": 142,
    "start_time": "2022-04-15T10:54:06.443Z"
   },
   {
    "duration": 176,
    "start_time": "2022-04-15T10:54:06.587Z"
   },
   {
    "duration": 35,
    "start_time": "2022-04-15T10:54:06.765Z"
   },
   {
    "duration": 231,
    "start_time": "2022-04-15T10:54:06.802Z"
   },
   {
    "duration": 168,
    "start_time": "2022-04-15T10:54:07.035Z"
   },
   {
    "duration": 174,
    "start_time": "2022-04-15T10:54:07.204Z"
   },
   {
    "duration": 161,
    "start_time": "2022-04-15T10:54:07.380Z"
   },
   {
    "duration": 269,
    "start_time": "2022-04-15T10:54:07.543Z"
   },
   {
    "duration": 197,
    "start_time": "2022-04-15T10:54:07.813Z"
   },
   {
    "duration": 196,
    "start_time": "2022-04-15T10:54:08.011Z"
   },
   {
    "duration": 844,
    "start_time": "2022-04-15T10:54:08.209Z"
   },
   {
    "duration": 37,
    "start_time": "2022-04-15T10:54:09.055Z"
   },
   {
    "duration": 98,
    "start_time": "2022-04-15T10:54:09.093Z"
   },
   {
    "duration": 96,
    "start_time": "2022-04-15T10:54:09.192Z"
   },
   {
    "duration": 502,
    "start_time": "2022-04-15T10:54:09.300Z"
   },
   {
    "duration": 10,
    "start_time": "2022-04-15T10:54:09.804Z"
   },
   {
    "duration": 101,
    "start_time": "2022-04-15T10:54:09.816Z"
   },
   {
    "duration": 597,
    "start_time": "2022-04-15T10:54:09.919Z"
   },
   {
    "duration": 751,
    "start_time": "2022-04-15T11:12:14.991Z"
   },
   {
    "duration": 91,
    "start_time": "2022-04-15T11:12:15.744Z"
   },
   {
    "duration": 25,
    "start_time": "2022-04-15T11:12:15.837Z"
   },
   {
    "duration": 10,
    "start_time": "2022-04-15T11:12:15.864Z"
   },
   {
    "duration": 28,
    "start_time": "2022-04-15T11:12:15.875Z"
   },
   {
    "duration": 19,
    "start_time": "2022-04-15T11:12:15.905Z"
   },
   {
    "duration": 48,
    "start_time": "2022-04-15T11:12:15.926Z"
   },
   {
    "duration": 26,
    "start_time": "2022-04-15T11:12:15.975Z"
   },
   {
    "duration": 22,
    "start_time": "2022-04-15T11:12:16.003Z"
   },
   {
    "duration": 14,
    "start_time": "2022-04-15T11:12:16.028Z"
   },
   {
    "duration": 12,
    "start_time": "2022-04-15T11:12:16.043Z"
   },
   {
    "duration": 12,
    "start_time": "2022-04-15T11:12:16.056Z"
   },
   {
    "duration": 61,
    "start_time": "2022-04-15T11:12:16.070Z"
   },
   {
    "duration": 50,
    "start_time": "2022-04-15T11:12:16.132Z"
   },
   {
    "duration": 993,
    "start_time": "2022-04-15T11:12:16.201Z"
   },
   {
    "duration": 4,
    "start_time": "2022-04-15T11:12:17.200Z"
   },
   {
    "duration": 14,
    "start_time": "2022-04-15T11:12:17.206Z"
   },
   {
    "duration": 7,
    "start_time": "2022-04-15T11:12:17.222Z"
   },
   {
    "duration": 16,
    "start_time": "2022-04-15T11:12:17.231Z"
   },
   {
    "duration": 69,
    "start_time": "2022-04-15T11:12:17.249Z"
   },
   {
    "duration": 21,
    "start_time": "2022-04-15T11:12:17.320Z"
   },
   {
    "duration": 59,
    "start_time": "2022-04-15T11:12:17.344Z"
   },
   {
    "duration": 12,
    "start_time": "2022-04-15T11:12:17.406Z"
   },
   {
    "duration": 10,
    "start_time": "2022-04-15T11:12:17.420Z"
   },
   {
    "duration": 9,
    "start_time": "2022-04-15T11:12:17.432Z"
   },
   {
    "duration": 10,
    "start_time": "2022-04-15T11:12:17.443Z"
   },
   {
    "duration": 58,
    "start_time": "2022-04-15T11:12:17.455Z"
   },
   {
    "duration": 21,
    "start_time": "2022-04-15T11:12:17.518Z"
   },
   {
    "duration": 47,
    "start_time": "2022-04-15T11:12:17.541Z"
   },
   {
    "duration": 20,
    "start_time": "2022-04-15T11:12:17.601Z"
   },
   {
    "duration": 425,
    "start_time": "2022-04-15T11:12:17.624Z"
   },
   {
    "duration": 215,
    "start_time": "2022-04-15T11:12:18.051Z"
   },
   {
    "duration": 177,
    "start_time": "2022-04-15T11:12:18.268Z"
   },
   {
    "duration": 120,
    "start_time": "2022-04-15T11:12:18.446Z"
   },
   {
    "duration": 125,
    "start_time": "2022-04-15T11:12:18.567Z"
   },
   {
    "duration": 189,
    "start_time": "2022-04-15T11:12:18.694Z"
   },
   {
    "duration": 178,
    "start_time": "2022-04-15T11:12:18.884Z"
   },
   {
    "duration": 175,
    "start_time": "2022-04-15T11:12:19.064Z"
   },
   {
    "duration": 163,
    "start_time": "2022-04-15T11:12:19.241Z"
   },
   {
    "duration": 10,
    "start_time": "2022-04-15T11:12:19.406Z"
   },
   {
    "duration": 10,
    "start_time": "2022-04-15T11:12:19.417Z"
   },
   {
    "duration": 3,
    "start_time": "2022-04-15T11:12:19.428Z"
   },
   {
    "duration": 135,
    "start_time": "2022-04-15T11:12:19.432Z"
   },
   {
    "duration": 125,
    "start_time": "2022-04-15T11:12:19.569Z"
   },
   {
    "duration": 126,
    "start_time": "2022-04-15T11:12:19.700Z"
   },
   {
    "duration": 185,
    "start_time": "2022-04-15T11:12:19.827Z"
   },
   {
    "duration": 23,
    "start_time": "2022-04-15T11:12:20.013Z"
   },
   {
    "duration": 248,
    "start_time": "2022-04-15T11:12:20.038Z"
   },
   {
    "duration": 167,
    "start_time": "2022-04-15T11:12:20.287Z"
   },
   {
    "duration": 181,
    "start_time": "2022-04-15T11:12:20.456Z"
   },
   {
    "duration": 164,
    "start_time": "2022-04-15T11:12:20.638Z"
   },
   {
    "duration": 216,
    "start_time": "2022-04-15T11:12:20.803Z"
   },
   {
    "duration": 180,
    "start_time": "2022-04-15T11:12:21.020Z"
   },
   {
    "duration": 187,
    "start_time": "2022-04-15T11:12:21.202Z"
   },
   {
    "duration": 855,
    "start_time": "2022-04-15T11:12:21.390Z"
   },
   {
    "duration": 38,
    "start_time": "2022-04-15T11:12:22.246Z"
   },
   {
    "duration": 101,
    "start_time": "2022-04-15T11:12:22.286Z"
   },
   {
    "duration": 104,
    "start_time": "2022-04-15T11:12:22.389Z"
   },
   {
    "duration": 102,
    "start_time": "2022-04-15T11:12:22.500Z"
   },
   {
    "duration": 12,
    "start_time": "2022-04-15T11:12:22.603Z"
   },
   {
    "duration": 107,
    "start_time": "2022-04-15T11:12:22.617Z"
   },
   {
    "duration": 612,
    "start_time": "2022-04-15T11:12:22.726Z"
   },
   {
    "duration": 164,
    "start_time": "2022-04-15T11:13:25.242Z"
   },
   {
    "duration": 96,
    "start_time": "2022-04-15T11:17:01.988Z"
   },
   {
    "duration": 198,
    "start_time": "2022-04-15T11:17:11.848Z"
   },
   {
    "duration": 81,
    "start_time": "2022-04-15T11:17:17.428Z"
   },
   {
    "duration": 83,
    "start_time": "2022-04-15T11:17:27.800Z"
   },
   {
    "duration": 81,
    "start_time": "2022-04-15T11:17:30.608Z"
   },
   {
    "duration": 85,
    "start_time": "2022-04-15T11:17:33.120Z"
   },
   {
    "duration": 99,
    "start_time": "2022-04-15T11:17:35.208Z"
   },
   {
    "duration": 80,
    "start_time": "2022-04-15T11:17:37.528Z"
   },
   {
    "duration": 784,
    "start_time": "2022-04-15T11:19:15.320Z"
   },
   {
    "duration": 224,
    "start_time": "2022-04-15T11:26:22.123Z"
   },
   {
    "duration": 219,
    "start_time": "2022-04-15T11:28:04.343Z"
   },
   {
    "duration": 224,
    "start_time": "2022-04-15T11:28:15.663Z"
   },
   {
    "duration": 98,
    "start_time": "2022-04-15T11:28:29.014Z"
   },
   {
    "duration": 96,
    "start_time": "2022-04-15T11:28:36.574Z"
   },
   {
    "duration": 104,
    "start_time": "2022-04-15T11:28:40.042Z"
   },
   {
    "duration": 103,
    "start_time": "2022-04-15T11:29:00.864Z"
   },
   {
    "duration": 195,
    "start_time": "2022-04-15T11:29:10.863Z"
   },
   {
    "duration": 182,
    "start_time": "2022-04-15T11:29:29.343Z"
   },
   {
    "duration": 215,
    "start_time": "2022-04-15T11:29:38.334Z"
   },
   {
    "duration": 5,
    "start_time": "2022-04-15T11:30:52.734Z"
   },
   {
    "duration": 22,
    "start_time": "2022-04-15T11:32:23.049Z"
   },
   {
    "duration": 27,
    "start_time": "2022-04-15T11:33:22.511Z"
   },
   {
    "duration": 41,
    "start_time": "2022-04-15T11:34:09.773Z"
   },
   {
    "duration": 12,
    "start_time": "2022-04-15T11:34:25.294Z"
   },
   {
    "duration": 89,
    "start_time": "2022-04-15T11:35:45.594Z"
   },
   {
    "duration": 93,
    "start_time": "2022-04-15T11:38:05.893Z"
   },
   {
    "duration": 86,
    "start_time": "2022-04-15T11:41:47.552Z"
   },
   {
    "duration": 85,
    "start_time": "2022-04-15T11:41:50.936Z"
   },
   {
    "duration": 84,
    "start_time": "2022-04-15T11:41:54.192Z"
   },
   {
    "duration": 170,
    "start_time": "2022-04-15T11:41:57.380Z"
   },
   {
    "duration": 88,
    "start_time": "2022-04-15T11:42:01.552Z"
   },
   {
    "duration": 91,
    "start_time": "2022-04-15T11:42:05.753Z"
   },
   {
    "duration": 86,
    "start_time": "2022-04-15T11:42:08.944Z"
   },
   {
    "duration": 86,
    "start_time": "2022-04-15T11:42:12.064Z"
   },
   {
    "duration": 97,
    "start_time": "2022-04-15T11:42:14.551Z"
   },
   {
    "duration": 96,
    "start_time": "2022-04-15T11:46:21.761Z"
   },
   {
    "duration": 90,
    "start_time": "2022-04-15T11:46:56.149Z"
   },
   {
    "duration": 85,
    "start_time": "2022-04-15T11:47:05.593Z"
   },
   {
    "duration": 84,
    "start_time": "2022-04-15T11:47:15.565Z"
   },
   {
    "duration": 82,
    "start_time": "2022-04-15T11:47:36.980Z"
   },
   {
    "duration": 81,
    "start_time": "2022-04-15T11:47:52.944Z"
   },
   {
    "duration": 87,
    "start_time": "2022-04-15T11:48:01.852Z"
   },
   {
    "duration": 82,
    "start_time": "2022-04-15T11:48:27.271Z"
   },
   {
    "duration": 179,
    "start_time": "2022-04-15T11:48:46.744Z"
   },
   {
    "duration": 84,
    "start_time": "2022-04-15T11:49:15.824Z"
   },
   {
    "duration": 84,
    "start_time": "2022-04-15T11:49:24.831Z"
   }
  ],
  "kernelspec": {
   "display_name": "Python 3 (ipykernel)",
   "language": "python",
   "name": "python3"
  },
  "language_info": {
   "codemirror_mode": {
    "name": "ipython",
    "version": 3
   },
   "file_extension": ".py",
   "mimetype": "text/x-python",
   "name": "python",
   "nbconvert_exporter": "python",
   "pygments_lexer": "ipython3",
   "version": "3.9.5"
  },
  "toc": {
   "base_numbering": 1,
   "nav_menu": {},
   "number_sections": true,
   "sideBar": true,
   "skip_h1_title": false,
   "title_cell": "Table of Contents",
   "title_sidebar": "Contents",
   "toc_cell": false,
   "toc_position": {},
   "toc_section_display": true,
   "toc_window_display": true
  }
 },
 "nbformat": 4,
 "nbformat_minor": 2
}
