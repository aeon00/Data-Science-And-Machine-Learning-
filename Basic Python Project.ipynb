{
 "cells": [
  {
   "cell_type": "markdown",
   "metadata": {},
   "source": [
    "<div style=\"border:solid green 2px; padding: 20px\"> \n",
    "    \n",
    "Hello Harvey, \n",
    "    \n",
    "    \n",
    "my name is Aleksandra. I'm going to review your project! Nice to meet you! 🙌\n",
    "\n",
    "You can find my comments under the heading **«Review»**. I will categorize my comments in green, blue or red boxes like this:\n",
    "\n",
    "<div class=\"alert alert-success\">\n",
    "    <b>Success:</b> if everything is done successfully\n",
    "</div>\n",
    "<div class=\"alert alert-warning\">\n",
    "    <b>Remarks:</b> if I can give some recommendations or ways to improve the project\n",
    "</div>\n",
    "<div class=\"alert alert-danger\">\n",
    "    <b>Needs fixing:</b> if the block requires some corrections. Work can't be accepted with the red comments\n",
    "</div>\n",
    "\n",
    "Please don't remove my comments :) If you have any questions don't hesitate to respond to my comments in a different section. "
   ]
  },
  {
   "cell_type": "markdown",
   "metadata": {},
   "source": [
    "<div class=\"alert alert-block alert-success\">\n",
    "<b>Overall reviewer's comment v1</b> <a class=\"tocSkip\"></a>\n",
    "    \n",
    "Harvey, thanks a lot for the project! Great job! I can see that a lot of efforts have been made. \n",
    "    \n",
    "Let's fix some mistakes:\n",
    "    \n",
    "- rework a loop for missing values\n",
    "- create new indexes after deleating duplicates\n",
    "    \n",
    "    \n",
    "I left guidance comments as we went along. You are on your way! Will look forward for your work!"
   ]
  },
  {
   "cell_type": "markdown",
   "metadata": {},
   "source": [
    "<div class=\"alert alert-block alert-success\">\n",
    "<b>Overall reviewer's comment v2</b> <a class=\"tocSkip\"></a>\n",
    "    \n",
    "Harvey, thanks again for the project! Well done! Everything is perfect now! Good lck at next steps!"
   ]
  },
  {
   "cell_type": "markdown",
   "metadata": {
    "id": "E0vqbgi9ay0H"
   },
   "source": [
    "# Yandex.Music"
   ]
  },
  {
   "cell_type": "markdown",
   "metadata": {
    "id": "fhq_eyov_Zcs"
   },
   "source": [
    "# Contents <a id='back'></a>\n",
    "\n",
    "* [Introduction](#intro)\n",
    "* [Stage 1. Data overview](#data_review)\n",
    "    * [Conclusions](#data_review_conclusions)\n",
    "* [Stage 2. Data preprocessing](#data_preprocessing)\n",
    "    * [2.1 Header style](#header_style)\n",
    "    * [2.2 Missing values](#missing_values)\n",
    "    * [2.3 Duplicates](#duplicates)\n",
    "    * [2.4 Conclusions](#data_preprocessing_conclusions)\n",
    "* [Stage 3. Testing the hypotheses](#hypotheses)\n",
    "    * [3.1 Hypothesis 1: user activity in the two cities](#activity)\n",
    "    * [3.2 Hypothesis 2: music preferences on Monday and Friday](#week)\n",
    "    * [3.3 Hypothesis 3: genre preferences in Springfield and Shelbyville](#genre)\n",
    "* [Findings](#end)"
   ]
  },
  {
   "cell_type": "markdown",
   "metadata": {
    "id": "VUC88oWjTJw2"
   },
   "source": [
    "## Introduction <a id='intro'></a>\n",
    "Whenever we're doing research, we need to formulate hypotheses that we can then test. Sometimes we accept these hypotheses; other times, we reject them. To make the right decisions, a business must be able to understand whether or not it's making the right assumptions.\n",
    "\n",
    "In this project, you'll compare the music preferences of the cities of Springfield and Shelbyville. You'll study real Yandex.Music data to test the hypotheses below and compare user behavior for these two cities.\n",
    "\n",
    "### Goal: \n",
    "Test three hypotheses:\n",
    "1. User activity differs depending on the day of the week and from city to city. \n",
    "2. On Monday mornings, Springfield and Shelbyville residents listen to different genres. This is also true for Friday evenings. \n",
    "3. Springfield and Shelbyville listeners have different preferences. In Springfield, they prefer pop, while Shelbyville has more rap fans.\n",
    "\n",
    "### Stages \n",
    "Data on user behavior is stored in the file `/datasets/music_project_en.csv`. There is no information about the quality of the data, so you will need to explore it before testing the hypotheses. \n",
    "\n",
    "First, you'll evaluate the quality of the data and see whether its issues are significant. Then, during data preprocessing, you will try to account for the most critical problems.\n",
    " \n",
    "Your project will consist of three stages:\n",
    " 1. Data overview\n",
    " 2. Data preprocessing\n",
    " 3. Testing the hypotheses\n",
    " \n",
    "[Back to Contents](#back)"
   ]
  },
  {
   "cell_type": "markdown",
   "metadata": {
    "id": "Ml1hmfXC_Zcs"
   },
   "source": [
    "## Stage 1. Data overview <a id='data_review'></a>\n",
    "\n",
    "Open the data on Yandex.Music and explore it."
   ]
  },
  {
   "cell_type": "markdown",
   "metadata": {
    "id": "57eAOGIz_Zcs"
   },
   "source": [
    "You'll need `pandas`, so import it."
   ]
  },
  {
   "cell_type": "code",
   "execution_count": 1,
   "metadata": {
    "id": "AXN7PHPN_Zcs"
   },
   "outputs": [],
   "source": [
    "# importing pandas\n",
    "import pandas as pd"
   ]
  },
  {
   "cell_type": "markdown",
   "metadata": {},
   "source": [
    "<div class=\"alert alert-block alert-success\">\n",
    "<b>Reviewer's comment v1</b>\n",
    "    \n",
    "Cool that you use the abbreviation pd for Pandas, it is a common abbreviation for this library for convenient further work."
   ]
  },
  {
   "cell_type": "markdown",
   "metadata": {
    "id": "SG23P8tt_Zcs"
   },
   "source": [
    "Read the file `music_project_en.csv` from the `/datasets/` folder and save it in the `df` variable:"
   ]
  },
  {
   "cell_type": "code",
   "execution_count": 2,
   "metadata": {
    "id": "fFVu7vqh_Zct"
   },
   "outputs": [],
   "source": [
    "# reading the file and storing it to df\n",
    "df = pd.read_csv('/datasets/music_project_en.csv')"
   ]
  },
  {
   "cell_type": "markdown",
   "metadata": {},
   "source": [
    "<div class=\"alert alert-block alert-success\">\n",
    "<b>Reviewer's comment v1</b>\n",
    "\n",
    "The correct path to the file is specified: the slash at the beginning of the path is very important because it indicates that you should search for the file in the root folder."
   ]
  },
  {
   "cell_type": "markdown",
   "metadata": {
    "id": "rDoOMd3uTqnZ"
   },
   "source": [
    "Print the first 10 table rows:"
   ]
  },
  {
   "cell_type": "code",
   "execution_count": 3,
   "metadata": {
    "id": "oWTVX3gW_Zct"
   },
   "outputs": [
    {
     "name": "stdout",
     "output_type": "stream",
     "text": [
      "     userID                        Track            artist   genre  \\\n",
      "0  FFB692EC            Kamigata To Boots  The Mass Missile    rock   \n",
      "1  55204538  Delayed Because of Accident  Andreas Rönnberg    rock   \n",
      "2    20EC38            Funiculì funiculà       Mario Lanza     pop   \n",
      "3  A3DD03C9        Dragons in the Sunset        Fire + Ice    folk   \n",
      "4  E2DC1FAE                  Soul People        Space Echo   dance   \n",
      "5  842029A1                       Chains          Obladaet  rusrap   \n",
      "6  4CB90AA5                         True      Roman Messer   dance   \n",
      "7  F03E1C1F             Feeling This Way   Polina Griffith   dance   \n",
      "8  8FA1D3BE                     L’estate       Julia Dalia  ruspop   \n",
      "9  E772D5C0                    Pessimist               NaN   dance   \n",
      "\n",
      "        City        time        Day  \n",
      "0  Shelbyville  20:28:33  Wednesday  \n",
      "1  Springfield  14:07:09     Friday  \n",
      "2  Shelbyville  20:58:07  Wednesday  \n",
      "3  Shelbyville  08:37:09     Monday  \n",
      "4  Springfield  08:34:34     Monday  \n",
      "5  Shelbyville  13:09:41     Friday  \n",
      "6  Springfield  13:00:07  Wednesday  \n",
      "7  Springfield  20:47:49  Wednesday  \n",
      "8  Springfield  09:17:40     Friday  \n",
      "9  Shelbyville  21:20:49  Wednesday  \n"
     ]
    }
   ],
   "source": [
    "# obtaining the first 10 rows from the df table\n",
    "print(df.head(10))"
   ]
  },
  {
   "cell_type": "markdown",
   "metadata": {},
   "source": [
    "<div class=\"alert alert-block alert-success\">\n",
    "<b>Reviewer's comment v1</b>\n",
    "\n",
    "Good work with head(). A tail() method exists for last rows of the table."
   ]
  },
  {
   "cell_type": "markdown",
   "metadata": {
    "id": "EO73Kwic_Zct"
   },
   "source": [
    "Obtaining the general information about the table with one command:"
   ]
  },
  {
   "cell_type": "code",
   "execution_count": 4,
   "metadata": {
    "id": "DSf2kIb-_Zct"
   },
   "outputs": [
    {
     "name": "stdout",
     "output_type": "stream",
     "text": [
      "<class 'pandas.core.frame.DataFrame'>\n",
      "RangeIndex: 65079 entries, 0 to 65078\n",
      "Data columns (total 7 columns):\n",
      "  userID    65079 non-null object\n",
      "Track       63736 non-null object\n",
      "artist      57512 non-null object\n",
      "genre       63881 non-null object\n",
      "  City      65079 non-null object\n",
      "time        65079 non-null object\n",
      "Day         65079 non-null object\n",
      "dtypes: object(7)\n",
      "memory usage: 3.5+ MB\n",
      "None\n"
     ]
    }
   ],
   "source": [
    "# obtaining general information about the data in df\n",
    "print(df.info())"
   ]
  },
  {
   "cell_type": "markdown",
   "metadata": {},
   "source": [
    "<div class=\"alert alert-block alert-success\">\n",
    "<b>Reviewer's comment v1</b>\n",
    "\n",
    "Excellent choice of method - info really shows a lot of information about dataframe."
   ]
  },
  {
   "cell_type": "markdown",
   "metadata": {
    "id": "TaQ2Iwbr_Zct"
   },
   "source": [
    "The table contains seven columns. They all store the same data type: `object`.\n",
    "\n",
    "According to the documentation:\n",
    "- `'userID'` — user identifier\n",
    "- `'Track'` — track title\n",
    "- `'artist'` — artist's name\n",
    "- `'genre'`\n",
    "- `'City'` — user's city\n",
    "- `'time'` — the exact time the track was played\n",
    "- `'Day'` — day of the week\n",
    "\n",
    "We can see three issues with style in the column names:\n",
    "1. Some names are uppercase, some are lowercase.\n",
    "2. There are spaces in some names.\n",
    "3. Names with more than one word do not use snake_case.\n",
    "\n",
    "The number of column values is different. This means the data contains missing values.\n"
   ]
  },
  {
   "cell_type": "markdown",
   "metadata": {},
   "source": [
    "<div class=\"alert alert-block alert-success\">\n",
    "<b>Reviewer's comment v1</b>\n",
    "\n",
    "Correct answer to the question!  And we are also dealing with snake_case - in 'userID' column"
   ]
  },
  {
   "cell_type": "markdown",
   "metadata": {
    "id": "MCB6-dXG_Zct"
   },
   "source": [
    "### Conclusions <a id='data_review_conclusions'></a> \n",
    "\n",
    "Each row in the table stores data on a track that was played. Some columns describe the track itself: its title, artist and genre. The rest convey information about the user: the city they come from, the time they played the track. \n",
    "\n",
    "It's clear that the data is sufficient to test the hypotheses. However, there are missing values.\n",
    "\n",
    "To move forward, we need to preprocess the data."
   ]
  },
  {
   "cell_type": "markdown",
   "metadata": {
    "id": "3eL__vcwViOi"
   },
   "source": [
    "[Back to Contents](#back)"
   ]
  },
  {
   "cell_type": "markdown",
   "metadata": {
    "id": "SjYF6Ub9_Zct"
   },
   "source": [
    "## Stage 2. Data preprocessing <a id='data_preprocessing'></a>\n",
    "Correct the formatting in the column headers and deal with the missing values. Then, check whether there are duplicates in the data."
   ]
  },
  {
   "cell_type": "markdown",
   "metadata": {
    "id": "dIaKXr29_Zct"
   },
   "source": [
    "### Header style <a id='header_style'></a>\n",
    "Print the column header:"
   ]
  },
  {
   "cell_type": "code",
   "execution_count": 5,
   "metadata": {
    "id": "oKOTdF_Q_Zct"
   },
   "outputs": [
    {
     "name": "stdout",
     "output_type": "stream",
     "text": [
      "Index(['  userID', 'Track', 'artist', 'genre', '  City  ', 'time', 'Day'], dtype='object')\n"
     ]
    }
   ],
   "source": [
    "# the list of column names in the df table\n",
    "print(df.columns)"
   ]
  },
  {
   "cell_type": "markdown",
   "metadata": {},
   "source": [
    "<div class=\"alert alert-block alert-warning\">\n",
    "<b>Reviewer's comment v1</b>\n",
    "To display columns on the screen, you do not need to use the print() function: the result will be displayed as it is the last line of the cell."
   ]
  },
  {
   "cell_type": "markdown",
   "metadata": {
    "id": "zj5534cv_Zct"
   },
   "source": [
    "Change column names according to the rules of good style:\n",
    "* If the name has several words, use snake_case\n",
    "* All characters must be lowercase\n",
    "* Delete spaces"
   ]
  },
  {
   "cell_type": "code",
   "execution_count": 6,
   "metadata": {
    "id": "ISlFqs5y_Zct"
   },
   "outputs": [
    {
     "name": "stdout",
     "output_type": "stream",
     "text": [
      "Index(['user_id', 'track', 'artist', 'genre', 'city', 'time', 'day'], dtype='object')\n"
     ]
    }
   ],
   "source": [
    "# renaming columns\n",
    "df = df.rename(columns={\n",
    "    '  userID':'user_id',\n",
    "    'Track':'track',\n",
    "    '  City  ':'city',\n",
    "    'Day':'day'\n",
    "})\n",
    "print(df.columns)"
   ]
  },
  {
   "cell_type": "markdown",
   "metadata": {},
   "source": [
    "<div class=\"alert alert-block alert-success\">\n",
    "<b>Reviewer's comment v1</b> \n",
    "\n",
    "A good choice of method - rename works without errors, even if the order of the columns changes."
   ]
  },
  {
   "cell_type": "markdown",
   "metadata": {
    "id": "1dqbh00J_Zct"
   },
   "source": [
    "Check the result. Print the names of the columns once more:"
   ]
  },
  {
   "cell_type": "code",
   "execution_count": 7,
   "metadata": {
    "id": "d4NOAmTW_Zct"
   },
   "outputs": [
    {
     "name": "stdout",
     "output_type": "stream",
     "text": [
      "Index(['user_id', 'track', 'artist', 'genre', 'city', 'time', 'day'], dtype='object')\n"
     ]
    }
   ],
   "source": [
    "# checking result: the list of column names\n",
    "print(df.columns)"
   ]
  },
  {
   "cell_type": "markdown",
   "metadata": {
    "id": "xYJk6ksJVpOl"
   },
   "source": [
    "[Back to Contents](#back)"
   ]
  },
  {
   "cell_type": "markdown",
   "metadata": {
    "id": "5ISfbcfY_Zct"
   },
   "source": [
    "### Missing values <a id='missing_values'></a>\n",
    "First, find the number of missing values in the table. To do so, use two `pandas` methods:"
   ]
  },
  {
   "cell_type": "code",
   "execution_count": 8,
   "metadata": {
    "id": "RskX29qr_Zct"
   },
   "outputs": [
    {
     "name": "stdout",
     "output_type": "stream",
     "text": [
      "user_id       0\n",
      "track      1343\n",
      "artist     7567\n",
      "genre      1198\n",
      "city          0\n",
      "time          0\n",
      "day           0\n",
      "dtype: int64\n"
     ]
    }
   ],
   "source": [
    "# calculating missing values\n",
    "print(df.isna().sum())"
   ]
  },
  {
   "cell_type": "markdown",
   "metadata": {},
   "source": [
    "<div class=\"alert alert-block alert-success\">\n",
    "<b>Reviewer's comment v1</b>\n",
    "\n",
    "The isna() method is chosen to find missing values, that’s great! In fact, isnull() and isna() do the same thing, but isna() is preferred."
   ]
  },
  {
   "cell_type": "markdown",
   "metadata": {
    "id": "qubhgnlO_Zct"
   },
   "source": [
    "Not all missing values affect the research. For instance, the missing values in `track` and `artist` are not critical. You can simply replace them with clear markers.\n",
    "\n",
    "But missing values in `'genre'` can affect the comparison of music preferences in Springfield and Shelbyville. In real life, it would be useful to learn the reasons why the data is missing and try to make up for them. But we do not have that opportunity in this project. So you will have to:\n",
    "* Fill in these missing values with markers\n",
    "* Evaluate how much the missing values may affect your computations"
   ]
  },
  {
   "cell_type": "markdown",
   "metadata": {
    "id": "fSv2laPA_Zct"
   },
   "source": [
    "Replace the missing values in `'track'`, `'artist'`, and `'genre'` with the string `'unknown'`. To do this, create the `columns_to_replace` list, loop over it with `for`, and replace the missing values in each of the columns:"
   ]
  },
  {
   "cell_type": "code",
   "execution_count": 34,
   "metadata": {
    "id": "KplB5qWs_Zct"
   },
   "outputs": [],
   "source": [
    "# looping over column names and replacing missing values with 'unknown'\n",
    "columns_to_replace = ['track','artist','genre']\n",
    "for value in columns_to_replace:\n",
    "    df[value] = df[value].fillna('unknown')\n",
    " "
   ]
  },
  {
   "cell_type": "markdown",
   "metadata": {},
   "source": [
    "<div class=\"alert alert-block alert-danger\">\n",
    "<b>Reviewer's comment v1</b>\n",
    "\n",
    "<s>Here we should create a list of column names and loop them to change Nones. Could yuo please do this?"
   ]
  },
  {
   "cell_type": "markdown",
   "metadata": {},
   "source": [
    "<div class=\"alert alert-block alert-success\">\n",
    "<b>Reviewer's comment v2</b> Well done!"
   ]
  },
  {
   "cell_type": "markdown",
   "metadata": {
    "id": "Ilsm-MZo_Zct"
   },
   "source": [
    "Make sure the table contains no more missing values. Count the missing values again."
   ]
  },
  {
   "cell_type": "code",
   "execution_count": 35,
   "metadata": {
    "id": "Tq4nYRX4_Zct"
   },
   "outputs": [
    {
     "name": "stdout",
     "output_type": "stream",
     "text": [
      "index      0\n",
      "user_id    0\n",
      "track      0\n",
      "artist     0\n",
      "genre      0\n",
      "city       0\n",
      "time       0\n",
      "day        0\n",
      "dtype: int64\n"
     ]
    }
   ],
   "source": [
    "# counting missing values\n",
    "print(df.isna().sum())"
   ]
  },
  {
   "cell_type": "markdown",
   "metadata": {
    "id": "74ZIBmq9VrsK"
   },
   "source": [
    "[Back to Contents](#back)"
   ]
  },
  {
   "cell_type": "markdown",
   "metadata": {
    "id": "BWKRtBJ3_Zct"
   },
   "source": [
    "### Duplicates <a id='duplicates'></a>\n",
    "Find the number of obvious duplicates in the table using one command:"
   ]
  },
  {
   "cell_type": "code",
   "execution_count": 11,
   "metadata": {
    "id": "36eES_S0_Zct"
   },
   "outputs": [
    {
     "name": "stdout",
     "output_type": "stream",
     "text": [
      "3826\n"
     ]
    }
   ],
   "source": [
    "# counting clear duplicates\n",
    "print(df.duplicated().sum())"
   ]
  },
  {
   "cell_type": "markdown",
   "metadata": {
    "id": "Ot25h6XR_Zct"
   },
   "source": [
    "Call the `pandas` method for getting rid of obvious duplicates:"
   ]
  },
  {
   "cell_type": "code",
   "execution_count": 37,
   "metadata": {
    "id": "exFHq6tt_Zct"
   },
   "outputs": [],
   "source": [
    "# removing obvious duplicates\n",
    "df = df.drop_duplicates().reset_index(drop=True)"
   ]
  },
  {
   "cell_type": "markdown",
   "metadata": {},
   "source": [
    "<div class=\"alert alert-block alert-danger\">\n",
    "<b>Reviewer's comment v1</b>\n",
    "\n",
    "<s>Here we shoukd drop old indexes adn create new ones. Could you please do this?"
   ]
  },
  {
   "cell_type": "markdown",
   "metadata": {},
   "source": [
    "<div class=\"alert alert-block alert-success\">\n",
    "<b>Reviewer's comment v2</b> Correct!"
   ]
  },
  {
   "cell_type": "markdown",
   "metadata": {
    "id": "Im2YwBEG_Zct"
   },
   "source": [
    "Count obvious duplicates once more to make sure you have removed all of them:"
   ]
  },
  {
   "cell_type": "code",
   "execution_count": 13,
   "metadata": {
    "id": "-8PuNWQ0_Zct"
   },
   "outputs": [
    {
     "name": "stdout",
     "output_type": "stream",
     "text": [
      "0\n"
     ]
    }
   ],
   "source": [
    "# checking for duplicates\n",
    "print(df.duplicated().sum())"
   ]
  },
  {
   "cell_type": "markdown",
   "metadata": {
    "id": "QlFBsxAr_Zct"
   },
   "source": [
    "Now get rid of implicit duplicates in the `genre` column. For example, the name of a genre can be written in different ways. Such errors will also affect the result."
   ]
  },
  {
   "cell_type": "markdown",
   "metadata": {
    "id": "eSjWwsOh_Zct"
   },
   "source": [
    "Print a list of unique genre names, sorted in alphabetical order. To do so:\n",
    "* Retrieve the intended DataFrame column \n",
    "* Apply a sorting method to it\n",
    "* For the sorted column, call the method that will return all unique column values"
   ]
  },
  {
   "cell_type": "code",
   "execution_count": 36,
   "metadata": {
    "id": "JIUcqzZN_Zct"
   },
   "outputs": [
    {
     "name": "stdout",
     "output_type": "stream",
     "text": [
      "['acid' 'acoustic' 'action' 'adult' 'africa' 'afrikaans' 'alternative'\n",
      " 'ambient' 'americana' 'animated' 'anime' 'arabesk' 'arabic' 'arena'\n",
      " 'argentinetango' 'art' 'audiobook' 'avantgarde' 'axé' 'baile' 'balkan'\n",
      " 'beats' 'bigroom' 'black' 'bluegrass' 'blues' 'bollywood' 'bossa'\n",
      " 'brazilian' 'breakbeat' 'breaks' 'broadway' 'cantautori' 'cantopop'\n",
      " 'canzone' 'caribbean' 'caucasian' 'celtic' 'chamber' 'children' 'chill'\n",
      " 'chinese' 'choral' 'christian' 'christmas' 'classical' 'classicmetal'\n",
      " 'club' 'colombian' 'comedy' 'conjazz' 'contemporary' 'country' 'cuban'\n",
      " 'dance' 'dancehall' 'dancepop' 'dark' 'death' 'deep' 'deutschrock'\n",
      " 'deutschspr' 'dirty' 'disco' 'dnb' 'documentary' 'downbeat' 'downtempo'\n",
      " 'drum' 'dub' 'dubstep' 'eastern' 'easy' 'electronic' 'electropop' 'emo'\n",
      " 'entehno' 'epicmetal' 'estrada' 'ethnic' 'eurofolk' 'european'\n",
      " 'experimental' 'extrememetal' 'fado' 'film' 'fitness' 'flamenco' 'folk'\n",
      " 'folklore' 'folkmetal' 'folkrock' 'folktronica' 'forró' 'frankreich'\n",
      " 'französisch' 'french' 'funk' 'future' 'gangsta' 'garage' 'german'\n",
      " 'ghazal' 'gitarre' 'glitch' 'gospel' 'gothic' 'grime' 'grunge' 'gypsy'\n",
      " 'handsup' \"hard'n'heavy\" 'hardcore' 'hardstyle' 'hardtechno' 'hip'\n",
      " 'hip-hop' 'hiphop' 'historisch' 'holiday' 'hop' 'horror' 'house' 'idm'\n",
      " 'independent' 'indian' 'indie' 'indipop' 'industrial' 'inspirational'\n",
      " 'instrumental' 'international' 'irish' 'jam' 'japanese' 'jazz' 'jewish'\n",
      " 'jpop' 'jungle' 'k-pop' 'karadeniz' 'karaoke' 'kayokyoku' 'korean'\n",
      " 'laiko' 'latin' 'latino' 'leftfield' 'local' 'lounge' 'loungeelectronic'\n",
      " 'lovers' 'malaysian' 'mandopop' 'marschmusik' 'meditative'\n",
      " 'mediterranean' 'melodic' 'metal' 'metalcore' 'mexican' 'middle'\n",
      " 'minimal' 'miscellaneous' 'modern' 'mood' 'mpb' 'muslim' 'native'\n",
      " 'neoklassik' 'neue' 'new' 'newage' 'newwave' 'nu' 'nujazz' 'numetal'\n",
      " 'oceania' 'old' 'opera' 'orchestral' 'other' 'piano' 'pop'\n",
      " 'popelectronic' 'popeurodance' 'post' 'posthardcore' 'postrock' 'power'\n",
      " 'progmetal' 'progressive' 'psychedelic' 'punjabi' 'punk' 'quebecois'\n",
      " 'ragga' 'ram' 'rancheras' 'rap' 'rave' 'reggae' 'reggaeton' 'regional'\n",
      " 'relax' 'religious' 'retro' 'rhythm' 'rnb' 'rnr' 'rock' 'rockabilly'\n",
      " 'romance' 'roots' 'ruspop' 'rusrap' 'rusrock' 'salsa' 'samba' 'schlager'\n",
      " 'self' 'sertanejo' 'shoegazing' 'showtunes' 'singer' 'ska' 'slow'\n",
      " 'smooth' 'soul' 'soulful' 'sound' 'soundtrack' 'southern' 'specialty'\n",
      " 'speech' 'spiritual' 'sport' 'stonerrock' 'surf' 'swing' 'synthpop'\n",
      " 'sängerportrait' 'tango' 'tanzorchester' 'taraftar' 'tech' 'techno'\n",
      " 'thrash' 'top' 'traditional' 'tradjazz' 'trance' 'tribal' 'trip'\n",
      " 'triphop' 'tropical' 'türk' 'türkçe' 'unknown' 'urban' 'uzbek' 'variété'\n",
      " 'vi' 'videogame' 'vocal' 'western' 'world' 'worldbeat' 'ïîï']\n"
     ]
    }
   ],
   "source": [
    "# viewing unique genre names\n",
    "df['genre'] = sorted(df['genre'])\n",
    "print(df['genre'].unique())"
   ]
  },
  {
   "cell_type": "markdown",
   "metadata": {},
   "source": [
    "<div class=\"alert alert-block alert-success\">\n",
    "<b>Reviewer's comment v1</b>\n",
    "\n",
    "The list is sorted!"
   ]
  },
  {
   "cell_type": "markdown",
   "metadata": {
    "id": "qej-Qmuo_Zct"
   },
   "source": [
    "Look through the list to find implicit duplicates of the genre `hiphop`. These could be names written incorrectly or alternative names of the same genre.\n",
    "\n",
    "You will see the following implicit duplicates:\n",
    "* `hip`\n",
    "* `hop`\n",
    "* `hip-hop`\n",
    "\n",
    "To get rid of them, declare the function `replace_wrong_genres()` with two parameters: \n",
    "* `wrong_genres=` — the list of duplicates\n",
    "* `correct_genre=` — the string with the correct value\n",
    "\n",
    "The function should correct the names in the `'genre'` column from the `df` table, i.e. replace each value from the `wrong_genres` list with the value in `correct_genre`."
   ]
  },
  {
   "cell_type": "code",
   "execution_count": null,
   "metadata": {
    "id": "ErNDkmns_Zct"
   },
   "outputs": [],
   "source": [
    "# function for replacing implicit duplicates\n",
    "def replace_wrong_genres(wrong_genre, correct_genre):\n",
    "    for genre in wrong_genre:\n",
    "        df['genre'] = df['genre'].replace(wrong_genre, correct_genre)"
   ]
  },
  {
   "cell_type": "markdown",
   "metadata": {
    "id": "aDoBJxbA_Zct"
   },
   "source": [
    "Call `replace_wrong_genres()` and pass it arguments so that it clears implicit duplcates (`hip`, `hop`, and `hip-hop`) and replaces them with `hiphop`:"
   ]
  },
  {
   "cell_type": "code",
   "execution_count": null,
   "metadata": {
    "id": "YN5i2hpmSo09"
   },
   "outputs": [],
   "source": [
    "# removing implicit duplicates\n",
    "replace_wrong_genres(['hip','hop','hip-hop'],'hiphop')"
   ]
  },
  {
   "cell_type": "markdown",
   "metadata": {
    "id": "zQKF16_RG15m"
   },
   "source": [
    "Make sure the duplicate names were removed. Print the list of unique values from the `'genre'` column:"
   ]
  },
  {
   "cell_type": "code",
   "execution_count": null,
   "metadata": {
    "id": "wvixALnFG15m"
   },
   "outputs": [],
   "source": [
    "# checking for implicit duplicates\n",
    "print(df['genre'].unique())"
   ]
  },
  {
   "cell_type": "markdown",
   "metadata": {
    "id": "ALgNbvF3VtPA"
   },
   "source": [
    "[Back to Contents](#back)"
   ]
  },
  {
   "cell_type": "markdown",
   "metadata": {
    "id": "jz6a9-7HQUDd"
   },
   "source": [
    "### Conclusions <a id='data_preprocessing_conclusions'></a>\n",
    "We detected three issues with the data:\n",
    "\n",
    "- Incorrect header styles\n",
    "- Missing values\n",
    "- Obvious and implicit duplicates\n",
    "\n",
    "The headers have been cleaned up to make processing the table simpler.\n",
    "\n",
    "All missing values have been replaced with `'unknown'`. But we still have to see whether the missing values in `'genre'` will affect our calculations.\n",
    "\n",
    "The absence of duplicates will make the results more precise and easier to understand.\n",
    "\n",
    "Now we can move on to testing hypotheses. "
   ]
  },
  {
   "cell_type": "markdown",
   "metadata": {
    "id": "eK1es74rVujj"
   },
   "source": [
    "[Back to Contents](#back)"
   ]
  },
  {
   "cell_type": "markdown",
   "metadata": {
    "id": "WttZHXH0SqKk"
   },
   "source": [
    "## Stage 3. Testing hypotheses <a id='hypotheses'></a>"
   ]
  },
  {
   "cell_type": "markdown",
   "metadata": {
    "id": "Im936VVi_Zcu"
   },
   "source": [
    "### Hypothesis 1: comparing user behavior in two cities <a id='activity'></a>"
   ]
  },
  {
   "cell_type": "markdown",
   "metadata": {
    "id": "nwt_MuaL_Zcu"
   },
   "source": [
    "According to the first hypothesis, users from Springfield and Shelbyville listen to music differently. Test this using the data on three days of the week: Monday, Wednesday, and Friday.\n",
    "\n",
    "* Divide the users into groups by city.\n",
    "* Compare how many tracks each group played on Monday, Wednesday, and Friday.\n"
   ]
  },
  {
   "cell_type": "markdown",
   "metadata": {
    "id": "8Dw_YMmT_Zcu"
   },
   "source": [
    "For the sake of practice, perform each computation separately. \n",
    "\n",
    "Evaluate user activity in each city. Group the data by city and find the number of songs played in each group.\n",
    "\n"
   ]
  },
  {
   "cell_type": "code",
   "execution_count": null,
   "metadata": {
    "id": "0_Qs96oh_Zcu"
   },
   "outputs": [],
   "source": [
    "# Counting up the tracks played in each city\n",
    "print(df.groupby('city').count())"
   ]
  },
  {
   "cell_type": "markdown",
   "metadata": {
    "id": "dzli3w8o_Zcu"
   },
   "source": [
    "Springfield has more tracks played than Shelbyville. But that does not imply that citizens of Springfield listen to music more often. This city is simply bigger, and there are more users.\n",
    "\n",
    "Now group the data by day of the week and find the number of tracks played on Monday, Wednesday, and Friday.\n"
   ]
  },
  {
   "cell_type": "code",
   "execution_count": null,
   "metadata": {
    "id": "uZMKjiJz_Zcu"
   },
   "outputs": [],
   "source": [
    "# Calculating tracks played on each of the three days\n",
    "day_group = df.groupby('day').count()\n",
    "print(day_group)"
   ]
  },
  {
   "cell_type": "markdown",
   "metadata": {},
   "source": [
    "<div class=\"alert alert-block alert-success\">\n",
    "<b>Reviewer's comment v1</b>\n",
    "\n",
    "The groupby is correct!"
   ]
  },
  {
   "cell_type": "markdown",
   "metadata": {
    "id": "cC2tNrlL_Zcu"
   },
   "source": [
    "Wednesday is the quietest day overall. But if we consider the two cities separately, we might come to a different conclusion."
   ]
  },
  {
   "cell_type": "markdown",
   "metadata": {
    "id": "POzs8bGa_Zcu"
   },
   "source": [
    "You have seen how grouping by city or day works. Now write a function that will group by both.\n",
    "\n",
    "Create the `number_tracks()` function to calculate the number of songs played for a given day and city. It will require two parameters:\n",
    "* day of the week\n",
    "* name of the city\n",
    "\n",
    "In the function, use a variable to store the rows from the original table, where:\n",
    "  * `'day'` column value is equal to the `day` parameter\n",
    "  * `'city'` column value is equal to the `city` parameter\n",
    "\n",
    "Apply consecutive filtering with logical indexing.\n",
    "\n",
    "Then calculate the `'user_id'` column values in the resulting table. Store the result to a new variable. Return this variable from the function."
   ]
  },
  {
   "cell_type": "code",
   "execution_count": null,
   "metadata": {
    "id": "Nz3GdQB1_Zcu"
   },
   "outputs": [],
   "source": [
    "# <creating the function number_tracks()>\n",
    "# We'll declare a function with two parameters: day=, city=.\n",
    "# Let the track_list variable store the df rows where\n",
    "# the value in the 'day' column is equal to the day= parameter and, at the same time, \n",
    "# the value in the 'city' column is equal to the city= parameter (apply consecutive filtering \n",
    "# with logical indexing).\n",
    "# Let the track_list_count variable store the number of 'user_id' column values in track_list\n",
    "# (found with the count() method).\n",
    "# Let the function return a number: the value of track_list_count.\n",
    "            \n",
    "# The function counts tracked played for a certain city and day.\n",
    "# It first retrieves the rows with the intended day from the table,\n",
    "# then filters out the rows with the intended city from the result,\n",
    "# then finds the number of 'user_id' values in the filtered table,\n",
    "# then returns that number.\n",
    "# To see what it returns, wrap the function call in print().\n",
    "\n",
    "def number_tracks(day,city):\n",
    "    track_list = df[df['day'] == day] \n",
    "    track_list = track_list[track_list['city'] == city]\n",
    "    track_list_count = track_list['user_id'].count()\n",
    "    return(track_list_count)\n",
    "    print(track_list)\n",
    "    \n",
    "    print(track_list_count)"
   ]
  },
  {
   "cell_type": "markdown",
   "metadata": {},
   "source": [
    "<div class=\"alert alert-block alert-success\">\n",
    "<b>Reviewer's comment v1</b>\n",
    "\n",
    "The function is correct!"
   ]
  },
  {
   "cell_type": "markdown",
   "metadata": {
    "id": "ytf7xFrFJQ2r"
   },
   "source": [
    "Call `number_tracks()` six times, changing the parameter values, so that you retrieve the data on both cities for each of the three days."
   ]
  },
  {
   "cell_type": "code",
   "execution_count": null,
   "metadata": {
    "id": "rJcRATNQ_Zcu"
   },
   "outputs": [],
   "source": [
    "# the number of songs played in Springfield on Monday\n",
    "number_tracks('Monday','Springfield')"
   ]
  },
  {
   "cell_type": "code",
   "execution_count": null,
   "metadata": {
    "id": "hq_ncZ5T_Zcu"
   },
   "outputs": [],
   "source": [
    "# the number of songs played in Shelbyville on Monday\n",
    "number_tracks('Monday', 'Shelbyville')"
   ]
  },
  {
   "cell_type": "code",
   "execution_count": null,
   "metadata": {
    "id": "_NTy2VPU_Zcu"
   },
   "outputs": [],
   "source": [
    "# the number of songs played in Springfield on Wednesday\n",
    "number_tracks('Monday', 'Shelbyville')"
   ]
  },
  {
   "cell_type": "code",
   "execution_count": null,
   "metadata": {
    "id": "j2y3TAwo_Zcu"
   },
   "outputs": [],
   "source": [
    "# the number of songs played in Shelbyville on Wednesday\n",
    "number_tracks('Wednesday', 'Shelbyville')"
   ]
  },
  {
   "cell_type": "code",
   "execution_count": null,
   "metadata": {
    "id": "vYDw5u_K_Zcu"
   },
   "outputs": [],
   "source": [
    "# the number of songs played in Springfield on Friday\n",
    "number_tracks('Friday', 'Springfield')"
   ]
  },
  {
   "cell_type": "code",
   "execution_count": null,
   "metadata": {
    "id": "8_yzFtW3_Zcu"
   },
   "outputs": [],
   "source": [
    "# the number of songs played in Shelbyville on Friday\n",
    "number_tracks('Friday', 'Shelbyville')"
   ]
  },
  {
   "cell_type": "markdown",
   "metadata": {
    "id": "7QXffbO-_Zcu"
   },
   "source": [
    "Use `pd.DataFrame` to create a table, where\n",
    "* Column names are: `['city', 'monday', 'wednesday', 'friday']`\n",
    "* The data is the results you got from `number_tracks()`"
   ]
  },
  {
   "cell_type": "code",
   "execution_count": null,
   "metadata": {
    "id": "APAcLpOr_Zcu"
   },
   "outputs": [],
   "source": [
    "# table with results\n",
    "column_names = ['city', 'Monday', 'Wednesday', 'Friday']\n",
    "results = [\n",
    "    [\n",
    "        'Springfield',\n",
    "    number_tracks('Monday','Springfield'),\n",
    "    number_tracks('Wednesday', 'Springfield'),\n",
    "    number_tracks('Friday', 'Springfield')],\n",
    "    [\n",
    "        'Shelbyville',\n",
    "    number_tracks('Monday', 'Shelbyville'),\n",
    "    number_tracks('Wednesday', 'Shelbyville'),\n",
    "    number_tracks('Friday', 'Shelbyville')\n",
    "]\n",
    "]\n",
    "table_with_results = pd.DataFrame(data=results, columns=column_names)\n",
    "print(table_with_results)"
   ]
  },
  {
   "cell_type": "markdown",
   "metadata": {},
   "source": [
    "<div class=\"alert alert-block alert-success\">\n",
    "<b>Reviewer's comment v1</b>\n",
    "\n",
    "Cool that you use results of your function instead of hardcode!"
   ]
  },
  {
   "cell_type": "markdown",
   "metadata": {
    "id": "-EgPIHYu_Zcu"
   },
   "source": [
    "**Conclusions**\n",
    "\n",
    "The data reveals differences in user behavior:\n",
    "\n",
    "- In Springfield, the number of songs played peaks on Mondays and Fridays, while on Wednesday there is a decrease in activity.\n",
    "- In Shelbyville, on the contrary, users listen to music more on Wednesday. User activity on Monday and Friday is smaller.\n",
    "\n",
    "So the first hypothesis seems to be correct."
   ]
  },
  {
   "cell_type": "markdown",
   "metadata": {
    "id": "p7nFQajCVw5B"
   },
   "source": [
    "[Back to Contents](#back)"
   ]
  },
  {
   "cell_type": "markdown",
   "metadata": {
    "id": "atZAxtq4_Zcu"
   },
   "source": [
    "### Hypothesis 2: music at the beginning and end of the week <a id='week'></a>"
   ]
  },
  {
   "cell_type": "markdown",
   "metadata": {
    "id": "eXrQqXFH_Zcu"
   },
   "source": [
    "According to the second hypothesis, on Monday morning and Friday night, citizens of Springfield listen to genres that differ from ones users from Shelbyville enjoy."
   ]
  },
  {
   "cell_type": "markdown",
   "metadata": {
    "id": "S8UcW6Hw_Zcu"
   },
   "source": [
    "Get tables (make sure that the name of your combined table matches the DataFrame given in the two code blocks below):\n",
    "* For Springfield — `spr_general`\n",
    "* For Shelbyville — `shel_general`"
   ]
  },
  {
   "cell_type": "code",
   "execution_count": null,
   "metadata": {
    "id": "qeaFfM_P_Zcu",
    "pycharm": {
     "is_executing": true
    }
   },
   "outputs": [],
   "source": [
    "# create the spr_general table from the df rows, \n",
    "# where the value in the 'city' column is 'Springfield'\n",
    "spr_general = df[:][df['city'] == 'Springfield']\n",
    "print(spr_general)\n"
   ]
  },
  {
   "cell_type": "code",
   "execution_count": null,
   "metadata": {
    "id": "ORaVRKto_Zcu"
   },
   "outputs": [],
   "source": [
    "# create the shel_general from the df rows,\n",
    "# where the value in the 'city' column is 'Shelbyville'\n",
    "shel_general = df[:][df['city'] == 'Shelbyville']\n",
    "print(shel_general)"
   ]
  },
  {
   "cell_type": "markdown",
   "metadata": {
    "id": "MEJV-CX2_Zcu"
   },
   "source": [
    "Write the `genre_weekday()` function with four parameters:\n",
    "* A table for data (`df`)\n",
    "* The day of the week (`day`)\n",
    "* The first timestamp, in 'hh:mm' format (`time1`)\n",
    "* The last timestamp, in 'hh:mm' format (`time2`)\n",
    "\n",
    "The function should return info on the 15 most popular genres on a given day within the period between the two timestamps."
   ]
  },
  {
   "cell_type": "code",
   "execution_count": null,
   "metadata": {
    "id": "laJT9BYl_Zcu"
   },
   "outputs": [],
   "source": [
    "# 1) Let the genre_df variable store the rows that meet several conditions:\n",
    "#    - the value in the 'day' column is equal to the value of the day= argument\n",
    "#    - the value in the 'time' column is greater than the value of the time1= argument\n",
    "#    - the value in the 'time' column is smaller than the value of the time2= argument\n",
    "#    Use consecutive filtering with logical indexing.\n",
    "# 2) Group genre_df by the 'genre' column, take one of its columns, \n",
    "#    and use the count() method to find the number of entries for each of \n",
    "#    the represented genres; store the resulting Series to the\n",
    "#    genre_df_count variable\n",
    "# 3) Sort genre_df_count in descending order of frequency and store the result\n",
    "#    to the genre_df_sorted variable\n",
    "# 4) Return a Series object with the first 15 genre_df_sorted value - the 15 most\n",
    "#    popular genres (on a given day, within a certain timeframe)\n",
    "\n",
    "# Write your function here\n",
    "def genre_weekday(df, day, time1, time2):\n",
    "    # consecutive filtering\n",
    "    # Create the variable genre_df which will store only those df rows where the day is equal to day=\n",
    "    genre_df = df[df['day']==day]\n",
    "\n",
    "    # filter again so that genre_df will store only those rows where the time is smaller than time2=\n",
    "    genre_df = genre_df[genre_df['time']<time2]\n",
    "\n",
    "    # filter once more so that genre_df will store only rows where the time is greater than time1=\n",
    "    genre_df = genre_df[genre_df['time']>time1]\n",
    "\n",
    "    # group the filtered DataFrame by the column with the names of genres, take the genre column, and find the number of rows for each genre with the count() method\n",
    "    genre_df_count = genre_df.groupby('genre').count()\n",
    "\n",
    "    # sort the result in descending order (so that the most popular genres come first in the Series object)\n",
    "    genre_df_sorted = genre_df_count.sort_values(by='track', ascending=False)\n",
    "\n",
    "    # we will return the Series object storing the 15 most popular genres on a given day in a given timeframe\n",
    "    return genre_df_sorted[:15]"
   ]
  },
  {
   "cell_type": "markdown",
   "metadata": {},
   "source": [
    "<div class=\"alert alert-block alert-success\">\n",
    "<b>Reviewer's comment v1</b>\n",
    "\n",
    "The function is correct!"
   ]
  },
  {
   "cell_type": "markdown",
   "metadata": {
    "id": "la2s2_PF_Zcu"
   },
   "source": [
    "Compare the results of the `genre_weekday()` function for Springfield and Shelbyville on Monday morning (from 7AM to 11AM) and on Friday evening (from 17:00 to 23:00):"
   ]
  },
  {
   "cell_type": "code",
   "execution_count": null,
   "metadata": {
    "id": "yz7itPUQ_Zcu"
   },
   "outputs": [],
   "source": [
    "# calling the function for Monday morning in Springfield (use spr_general instead of the df table)\n",
    "genre_weekday(spr_general, 'Monday', '7', '11')"
   ]
  },
  {
   "cell_type": "code",
   "execution_count": null,
   "metadata": {
    "id": "kwUcHPdy_Zcu"
   },
   "outputs": [],
   "source": [
    "# calling the function for Monday morning in Shelbyville (use shel_general instead of the df table)\n",
    "genre_weekday(shel_general, 'Monday', '7', '11')"
   ]
  },
  {
   "cell_type": "code",
   "execution_count": null,
   "metadata": {
    "id": "EzXVRE1o_Zcu"
   },
   "outputs": [],
   "source": [
    "# calling the function for Friday evening in Springfield\n",
    "genre_weekday(spr_general, 'Friday', '17', '23')"
   ]
  },
  {
   "cell_type": "code",
   "execution_count": null,
   "metadata": {
    "id": "JZaEKu5v_Zcu"
   },
   "outputs": [],
   "source": [
    "# calling the function for Friday evening in Shelbyville\n",
    "genre_weekday(shel_general, 'Friday', '17', '23')"
   ]
  },
  {
   "cell_type": "markdown",
   "metadata": {
    "id": "wrCe4MNX_Zcu"
   },
   "source": [
    "**Conclusion**\n",
    "\n",
    "Having compared the top 15 genres on Monday morning, we can draw the following conclusions:\n",
    "\n",
    "1. Users from Springfield and Shelbyville listen to similar music. The top five genres are the same, only rock and electronic have switched places.\n",
    "\n",
    "2. In Springfield, the number of missing values turned out to be so big that the value `'unknown'` came in 10th. This means that missing values make up a considerable portion of the data, which may be a basis for questioning the reliability of our conclusions.\n",
    "\n",
    "For Friday evening, the situation is similar. Individual genres vary somewhat, but on the whole, the top 15 is similar for the two cities.\n",
    "\n",
    "Thus, the second hypothesis has been partially proven true:\n",
    "* Users listen to similar music at the beginning and end of the week.\n",
    "* There is no major difference between Springfield and Shelbyville. In both cities, pop is the most popular genre.\n",
    "\n",
    "However, the number of missing values makes this result questionable. In Springfield, there are so many that they affect our top 15. Were we not missing these values, things might look different."
   ]
  },
  {
   "cell_type": "markdown",
   "metadata": {
    "id": "jLmXgdanVyhP"
   },
   "source": [
    "[Back to Contents](#back)"
   ]
  },
  {
   "cell_type": "markdown",
   "metadata": {
    "id": "JolODAqr_Zcu"
   },
   "source": [
    "### Hypothesis 3: genre preferences in Springfield and Shelbyville <a id='genre'></a>\n",
    "\n",
    "Hypothesis: Shelbyville loves rap music. Springfield's citizens are more into pop."
   ]
  },
  {
   "cell_type": "markdown",
   "metadata": {
    "id": "DlegSvaT_Zcu"
   },
   "source": [
    "Group the `spr_general` table by genre and find the number of songs played for each genre with the `count()` method. Then sort the result in descending order and store it to `spr_genres`."
   ]
  },
  {
   "cell_type": "code",
   "execution_count": null,
   "metadata": {
    "id": "r19lIPke_Zcu"
   },
   "outputs": [],
   "source": [
    "# on one line: group the spr_general table by the 'genre' column, \n",
    "# count the 'genre' values with count() in the grouping, \n",
    "# sort the resulting Series in descending order, and store it to spr_genres\n",
    "spr_general = spr_general.groupby('genre')\n",
    "spr_general_count = spr_general.count()\n",
    "spr_genres = spr_general_count.sort_values(by='track',ascending=False)"
   ]
  },
  {
   "cell_type": "markdown",
   "metadata": {
    "id": "6kMuomxTiIr8"
   },
   "source": [
    "Print the first 10 rows from `spr_genres`:"
   ]
  },
  {
   "cell_type": "code",
   "execution_count": null,
   "metadata": {
    "id": "WhCSooF8_Zcv"
   },
   "outputs": [],
   "source": [
    "# printing the first 10 rows of spr_genres\n",
    "print(spr_genres.head(10))"
   ]
  },
  {
   "cell_type": "markdown",
   "metadata": {
    "id": "cnPG2vnN_Zcv"
   },
   "source": [
    "Now do the same with the data on Shelbyville.\n",
    "\n",
    "Group the `shel_general` table by genre and find the number of songs played for each genre. Then sort the result in descending order and store it to the `shel_genres` table:\n"
   ]
  },
  {
   "cell_type": "code",
   "execution_count": null,
   "metadata": {
    "id": "gluLIpE7_Zcv"
   },
   "outputs": [],
   "source": [
    "# on one line: group the shel_general table by the 'genre' column, \n",
    "# count the 'genre' values in the grouping with count(), \n",
    "# sort the resulting Series in descending order and store it to shel_genres\n",
    "shel_general = shel_general.groupby('genre')\n",
    "shel_general_count = shel_general.count()\n",
    "shel_genres = shel_general_count.sort_values(by='track',ascending=False)"
   ]
  },
  {
   "cell_type": "markdown",
   "metadata": {
    "id": "5Doha_ODgyQ8"
   },
   "source": [
    "Print the first 10 rows of `shel_genres`:"
   ]
  },
  {
   "cell_type": "code",
   "execution_count": null,
   "metadata": {
    "id": "uaGJHjVU_Zcv"
   },
   "outputs": [],
   "source": [
    "# printing the first 10 rows from shel_genres\n",
    "print(shel_genres.head(10))"
   ]
  },
  {
   "cell_type": "markdown",
   "metadata": {
    "id": "RY51YJYu_Zcv"
   },
   "source": [
    "**Conclusion**"
   ]
  },
  {
   "cell_type": "markdown",
   "metadata": {
    "id": "nVhnJEm__Zcv"
   },
   "source": [
    "The hypothesis has been partially proven true:\n",
    "* Pop music is the most popular genre in Springfield, as expected.\n",
    "* However, pop music turned out to be equally popular in Springfield and Shelbyville, and rap wasn't in the top 5 for either city.\n"
   ]
  },
  {
   "cell_type": "markdown",
   "metadata": {
    "id": "Byr0RfpPVz14"
   },
   "source": [
    "[Back to Contents](#back)"
   ]
  },
  {
   "cell_type": "markdown",
   "metadata": {
    "id": "ykKQ0N65_Zcv"
   },
   "source": [
    "# Findings <a id='end'></a>"
   ]
  },
  {
   "cell_type": "markdown",
   "metadata": {
    "id": "tjUwbHb3_Zcv"
   },
   "source": [
    "We have tested the following three hypotheses:\n",
    "\n",
    "1. User activity differs depending on the day of the week and from city to city. \n",
    "2. On Monday mornings, Springfield and Shelbyville residents listen to different genres. This is also true for Friday evenings. \n",
    "3. Springfield and Shelbyville listeners have different preferences. In both Springfield and Shelbyville, they prefer pop.\n",
    "\n",
    "After analyzing the data, we concluded:\n",
    "\n",
    "1. User activity in Springfield and Shelbyville depends on the day of the week, though the cities vary in different ways. \n",
    "\n",
    "The first hypothesis is fully accepted.\n",
    "\n",
    "2. Musical preferences do not vary significantly over the course of the week in both Springfield and Shelbyville. We can see small differences in order on Mondays, but:\n",
    "* In Springfield and Shelbyville, people listen to pop music most.\n",
    "\n",
    "So we can't accept this hypothesis. We must also keep in mind that the result could have been different if not for the missing values.\n",
    "\n",
    "3. It turns out that the musical preferences of users from Springfield and Shelbyville are quite similar.\n",
    "\n",
    "The third hypothesis is rejected. If there is any difference in preferences, it cannot be seen from this data.\n",
    "\n",
    "### Note \n",
    "In real projects, research involves statistical hypothesis testing, which is more precise and more quantitative. Also note that you cannot always draw conclusions about an entire city based on the data from just one source.\n",
    "\n",
    "You will study hypothesis testing in the sprint on statistical data analysis."
   ]
  },
  {
   "cell_type": "markdown",
   "metadata": {},
   "source": [
    "<div class=\"alert alert-success\">\n",
    "<b>Reviewer's comment v1:</b>\n",
    "    \n",
    "Thanks for the final conclusion! You conducted great research."
   ]
  },
  {
   "cell_type": "markdown",
   "metadata": {
    "id": "Ju4AHDSgV1FE"
   },
   "source": [
    "[Back to Contents](#back)"
   ]
  }
 ],
 "metadata": {
  "ExecuteTimeLog": [
   {
    "duration": 83,
    "start_time": "2022-01-28T17:19:59.598Z"
   },
   {
    "duration": 88,
    "start_time": "2022-01-28T17:21:32.130Z"
   },
   {
    "duration": 286,
    "start_time": "2022-01-28T17:23:21.784Z"
   },
   {
    "duration": 254,
    "start_time": "2022-01-28T17:23:38.984Z"
   },
   {
    "duration": 704,
    "start_time": "2022-01-28T17:24:05.319Z"
   },
   {
    "duration": 140,
    "start_time": "2022-01-28T17:24:11.368Z"
   },
   {
    "duration": 150,
    "start_time": "2022-01-28T17:24:54.623Z"
   },
   {
    "duration": 7,
    "start_time": "2022-01-28T17:25:32.720Z"
   },
   {
    "duration": 8,
    "start_time": "2022-01-28T17:25:52.914Z"
   },
   {
    "duration": 24,
    "start_time": "2022-01-28T17:26:23.051Z"
   },
   {
    "duration": 6206,
    "start_time": "2022-01-28T17:34:43.231Z"
   },
   {
    "duration": 1864,
    "start_time": "2022-01-28T17:36:02.006Z"
   },
   {
    "duration": 2467,
    "start_time": "2022-01-28T17:36:31.040Z"
   },
   {
    "duration": 1899,
    "start_time": "2022-01-28T17:36:46.918Z"
   },
   {
    "duration": 1863,
    "start_time": "2022-01-28T17:37:16.208Z"
   },
   {
    "duration": 4,
    "start_time": "2022-01-28T17:37:55.176Z"
   },
   {
    "duration": 20,
    "start_time": "2022-01-28T17:43:27.489Z"
   },
   {
    "duration": 18,
    "start_time": "2022-01-28T17:44:52.905Z"
   },
   {
    "duration": 13,
    "start_time": "2022-01-28T18:05:06.659Z"
   },
   {
    "duration": 19,
    "start_time": "2022-01-28T18:06:22.629Z"
   },
   {
    "duration": 19,
    "start_time": "2022-01-28T18:12:04.697Z"
   },
   {
    "duration": 83,
    "start_time": "2022-01-28T18:15:41.977Z"
   },
   {
    "duration": 22,
    "start_time": "2022-01-28T18:16:19.137Z"
   },
   {
    "duration": 14,
    "start_time": "2022-01-28T18:16:40.019Z"
   },
   {
    "duration": 3,
    "start_time": "2022-01-28T18:17:32.247Z"
   },
   {
    "duration": 22,
    "start_time": "2022-01-28T18:33:34.063Z"
   },
   {
    "duration": 6461,
    "start_time": "2022-01-28T18:39:14.298Z"
   },
   {
    "duration": 19,
    "start_time": "2022-01-28T18:40:53.344Z"
   },
   {
    "duration": 14,
    "start_time": "2022-01-28T18:41:42.117Z"
   },
   {
    "duration": 292,
    "start_time": "2022-01-28T19:58:34.334Z"
   },
   {
    "duration": 87,
    "start_time": "2022-01-28T20:00:11.884Z"
   },
   {
    "duration": 370,
    "start_time": "2022-01-28T20:00:19.104Z"
   },
   {
    "duration": 256,
    "start_time": "2022-01-28T20:01:31.603Z"
   },
   {
    "duration": 258,
    "start_time": "2022-01-28T20:17:57.154Z"
   },
   {
    "duration": 247,
    "start_time": "2022-01-28T20:19:28.318Z"
   },
   {
    "duration": 251,
    "start_time": "2022-01-28T20:20:12.868Z"
   },
   {
    "duration": 251,
    "start_time": "2022-01-28T20:20:23.292Z"
   },
   {
    "duration": 259,
    "start_time": "2022-01-28T20:25:07.062Z"
   },
   {
    "duration": 258,
    "start_time": "2022-01-28T20:26:41.869Z"
   },
   {
    "duration": 424,
    "start_time": "2022-01-28T20:27:15.201Z"
   },
   {
    "duration": 253,
    "start_time": "2022-01-28T20:27:53.301Z"
   },
   {
    "duration": 14,
    "start_time": "2022-01-28T21:15:33.195Z"
   },
   {
    "duration": 302,
    "start_time": "2022-01-28T21:16:31.678Z"
   },
   {
    "duration": 6,
    "start_time": "2022-01-28T21:17:12.324Z"
   },
   {
    "duration": 89,
    "start_time": "2022-01-28T21:18:28.649Z"
   },
   {
    "duration": 252,
    "start_time": "2022-01-28T21:20:35.086Z"
   },
   {
    "duration": 311,
    "start_time": "2022-01-28T21:23:01.320Z"
   },
   {
    "duration": 432,
    "start_time": "2022-01-28T21:23:33.648Z"
   },
   {
    "duration": 448,
    "start_time": "2022-01-28T21:24:04.876Z"
   },
   {
    "duration": 6,
    "start_time": "2022-01-28T21:24:38.959Z"
   },
   {
    "duration": 363,
    "start_time": "2022-01-28T21:25:07.698Z"
   },
   {
    "duration": 262,
    "start_time": "2022-01-28T21:25:19.424Z"
   },
   {
    "duration": 778,
    "start_time": "2022-01-28T21:25:31.540Z"
   },
   {
    "duration": 4,
    "start_time": "2022-01-28T21:25:43.322Z"
   },
   {
    "duration": 34,
    "start_time": "2022-01-28T21:25:51.603Z"
   },
   {
    "duration": 4,
    "start_time": "2022-01-28T21:25:56.176Z"
   },
   {
    "duration": 23,
    "start_time": "2022-01-28T21:26:02.473Z"
   },
   {
    "duration": 4,
    "start_time": "2022-01-28T21:27:24.541Z"
   },
   {
    "duration": 15,
    "start_time": "2022-01-28T21:28:20.918Z"
   },
   {
    "duration": 22,
    "start_time": "2022-01-28T21:28:37.685Z"
   },
   {
    "duration": 15,
    "start_time": "2022-01-28T21:28:52.724Z"
   },
   {
    "duration": 335,
    "start_time": "2022-01-29T09:41:58.404Z"
   },
   {
    "duration": 399,
    "start_time": "2022-01-29T09:42:04.653Z"
   },
   {
    "duration": 664,
    "start_time": "2022-01-29T09:42:34.316Z"
   },
   {
    "duration": 118,
    "start_time": "2022-01-29T09:42:39.431Z"
   },
   {
    "duration": 6,
    "start_time": "2022-01-29T09:42:44.162Z"
   },
   {
    "duration": 20,
    "start_time": "2022-01-29T09:42:49.427Z"
   },
   {
    "duration": 3,
    "start_time": "2022-01-29T09:42:56.760Z"
   },
   {
    "duration": 20,
    "start_time": "2022-01-29T09:43:00.851Z"
   },
   {
    "duration": 4,
    "start_time": "2022-01-29T09:43:05.137Z"
   },
   {
    "duration": 19,
    "start_time": "2022-01-29T09:43:10.467Z"
   },
   {
    "duration": 320,
    "start_time": "2022-01-29T09:43:15.310Z"
   },
   {
    "duration": 6,
    "start_time": "2022-01-29T09:43:48.687Z"
   },
   {
    "duration": 7782,
    "start_time": "2022-01-29T09:45:29.367Z"
   },
   {
    "duration": 8,
    "start_time": "2022-01-29T09:46:07.398Z"
   },
   {
    "duration": 339,
    "start_time": "2022-01-29T09:47:58.257Z"
   },
   {
    "duration": 108,
    "start_time": "2022-01-29T09:55:58.473Z"
   },
   {
    "duration": 118,
    "start_time": "2022-01-29T09:56:14.401Z"
   },
   {
    "duration": 304,
    "start_time": "2022-01-29T09:56:29.524Z"
   },
   {
    "duration": 305,
    "start_time": "2022-01-29T09:57:40.321Z"
   },
   {
    "duration": 8,
    "start_time": "2022-01-29T09:59:33.966Z"
   },
   {
    "duration": 16,
    "start_time": "2022-01-29T09:59:48.118Z"
   },
   {
    "duration": 25,
    "start_time": "2022-01-29T10:00:20.825Z"
   },
   {
    "duration": 13,
    "start_time": "2022-01-29T10:01:08.383Z"
   },
   {
    "duration": 7,
    "start_time": "2022-01-29T10:04:57.768Z"
   },
   {
    "duration": 315,
    "start_time": "2022-01-29T10:05:19.284Z"
   },
   {
    "duration": 313,
    "start_time": "2022-01-29T10:05:49.320Z"
   },
   {
    "duration": 314,
    "start_time": "2022-01-29T10:10:59.374Z"
   },
   {
    "duration": 329,
    "start_time": "2022-01-29T10:11:26.041Z"
   },
   {
    "duration": 296,
    "start_time": "2022-01-29T10:11:54.556Z"
   },
   {
    "duration": 326,
    "start_time": "2022-01-29T10:14:44.329Z"
   },
   {
    "duration": 307,
    "start_time": "2022-01-29T10:14:53.090Z"
   },
   {
    "duration": 336,
    "start_time": "2022-01-29T10:15:10.036Z"
   },
   {
    "duration": 357,
    "start_time": "2022-01-29T10:15:23.532Z"
   },
   {
    "duration": 322,
    "start_time": "2022-01-29T10:15:41.117Z"
   },
   {
    "duration": 389,
    "start_time": "2022-01-29T10:16:33.910Z"
   },
   {
    "duration": 300,
    "start_time": "2022-01-29T10:17:01.733Z"
   },
   {
    "duration": 97,
    "start_time": "2022-01-29T10:17:26.969Z"
   },
   {
    "duration": 296,
    "start_time": "2022-01-29T10:19:54.061Z"
   },
   {
    "duration": 7,
    "start_time": "2022-01-29T10:20:07.982Z"
   },
   {
    "duration": 15,
    "start_time": "2022-01-29T10:24:35.020Z"
   },
   {
    "duration": 19,
    "start_time": "2022-01-29T10:25:27.161Z"
   },
   {
    "duration": 37,
    "start_time": "2022-01-29T11:01:10.508Z"
   },
   {
    "duration": 34,
    "start_time": "2022-01-29T11:01:23.021Z"
   },
   {
    "duration": 23,
    "start_time": "2022-01-29T11:01:27.408Z"
   },
   {
    "duration": 65,
    "start_time": "2022-01-29T11:02:46.631Z"
   },
   {
    "duration": 67,
    "start_time": "2022-01-29T11:03:33.458Z"
   },
   {
    "duration": 57,
    "start_time": "2022-01-29T11:05:59.927Z"
   },
   {
    "duration": 49,
    "start_time": "2022-01-29T11:06:24.704Z"
   },
   {
    "duration": 757,
    "start_time": "2022-01-29T18:31:20.021Z"
   },
   {
    "duration": 157,
    "start_time": "2022-01-29T18:31:20.781Z"
   },
   {
    "duration": 10,
    "start_time": "2022-01-29T18:31:20.940Z"
   },
   {
    "duration": 56,
    "start_time": "2022-01-29T18:31:20.953Z"
   },
   {
    "duration": 3,
    "start_time": "2022-01-29T18:31:21.011Z"
   },
   {
    "duration": 26,
    "start_time": "2022-01-29T18:31:21.016Z"
   },
   {
    "duration": 13,
    "start_time": "2022-01-29T18:31:21.044Z"
   },
   {
    "duration": 26,
    "start_time": "2022-01-29T18:31:21.059Z"
   },
   {
    "duration": 62,
    "start_time": "2022-01-29T18:31:21.088Z"
   },
   {
    "duration": 22,
    "start_time": "2022-01-29T18:31:21.152Z"
   },
   {
    "duration": 82,
    "start_time": "2022-01-29T18:31:21.176Z"
   },
   {
    "duration": 85,
    "start_time": "2022-01-29T18:31:21.260Z"
   },
   {
    "duration": 64,
    "start_time": "2022-01-29T18:31:21.347Z"
   },
   {
    "duration": 3,
    "start_time": "2022-01-29T18:31:21.413Z"
   },
   {
    "duration": 15,
    "start_time": "2022-01-29T18:31:21.418Z"
   },
   {
    "duration": 16,
    "start_time": "2022-01-29T18:31:21.435Z"
   },
   {
    "duration": 12,
    "start_time": "2022-01-29T18:31:21.453Z"
   },
   {
    "duration": 16,
    "start_time": "2022-01-29T18:31:21.468Z"
   },
   {
    "duration": 12,
    "start_time": "2022-01-29T18:31:21.486Z"
   },
   {
    "duration": 10,
    "start_time": "2022-01-29T18:31:21.501Z"
   },
   {
    "duration": 23,
    "start_time": "2022-01-29T18:31:21.513Z"
   },
   {
    "duration": 10,
    "start_time": "2022-01-29T18:31:21.538Z"
   },
   {
    "duration": 12,
    "start_time": "2022-01-29T18:31:21.552Z"
   },
   {
    "duration": 17,
    "start_time": "2022-01-29T18:31:21.567Z"
   },
   {
    "duration": 12,
    "start_time": "2022-01-29T18:31:21.586Z"
   },
   {
    "duration": 8,
    "start_time": "2022-01-29T18:31:21.600Z"
   },
   {
    "duration": 8,
    "start_time": "2022-01-29T18:31:21.610Z"
   },
   {
    "duration": 8,
    "start_time": "2022-01-29T18:31:21.620Z"
   },
   {
    "duration": 13,
    "start_time": "2022-01-29T18:31:21.630Z"
   },
   {
    "duration": 87,
    "start_time": "2022-01-29T18:31:21.645Z"
   },
   {
    "duration": -3063,
    "start_time": "2022-01-29T18:31:24.797Z"
   },
   {
    "duration": -3070,
    "start_time": "2022-01-29T18:31:24.806Z"
   },
   {
    "duration": -3079,
    "start_time": "2022-01-29T18:31:24.817Z"
   },
   {
    "duration": -3100,
    "start_time": "2022-01-29T18:31:24.839Z"
   },
   {
    "duration": -3104,
    "start_time": "2022-01-29T18:31:24.845Z"
   },
   {
    "duration": -3115,
    "start_time": "2022-01-29T18:31:24.857Z"
   },
   {
    "duration": -3120,
    "start_time": "2022-01-29T18:31:24.864Z"
   },
   {
    "duration": -3128,
    "start_time": "2022-01-29T18:31:24.873Z"
   },
   {
    "duration": 7,
    "start_time": "2022-01-29T18:42:33.701Z"
   },
   {
    "duration": 297,
    "start_time": "2022-01-29T19:04:46.856Z"
   },
   {
    "duration": 250,
    "start_time": "2022-01-29T19:05:04.868Z"
   },
   {
    "duration": 1838,
    "start_time": "2022-01-29T19:10:37.512Z"
   },
   {
    "duration": 1652,
    "start_time": "2022-01-29T19:13:34.061Z"
   },
   {
    "duration": 823,
    "start_time": "2022-01-29T19:16:41.575Z"
   },
   {
    "duration": 162,
    "start_time": "2022-01-29T19:16:42.400Z"
   },
   {
    "duration": 7,
    "start_time": "2022-01-29T19:16:42.565Z"
   },
   {
    "duration": 39,
    "start_time": "2022-01-29T19:16:42.575Z"
   },
   {
    "duration": 4,
    "start_time": "2022-01-29T19:16:42.616Z"
   },
   {
    "duration": 25,
    "start_time": "2022-01-29T19:16:42.622Z"
   },
   {
    "duration": 5,
    "start_time": "2022-01-29T19:16:42.649Z"
   },
   {
    "duration": 57,
    "start_time": "2022-01-29T19:16:42.656Z"
   },
   {
    "duration": 47,
    "start_time": "2022-01-29T19:16:42.716Z"
   },
   {
    "duration": 22,
    "start_time": "2022-01-29T19:16:42.765Z"
   },
   {
    "duration": 74,
    "start_time": "2022-01-29T19:16:42.789Z"
   },
   {
    "duration": 89,
    "start_time": "2022-01-29T19:16:42.865Z"
   },
   {
    "duration": 66,
    "start_time": "2022-01-29T19:16:42.956Z"
   },
   {
    "duration": 1708,
    "start_time": "2022-01-29T19:16:43.024Z"
   },
   {
    "duration": -2765,
    "start_time": "2022-01-29T19:16:47.501Z"
   },
   {
    "duration": -2797,
    "start_time": "2022-01-29T19:16:47.534Z"
   },
   {
    "duration": -2845,
    "start_time": "2022-01-29T19:16:47.583Z"
   },
   {
    "duration": -2885,
    "start_time": "2022-01-29T19:16:47.624Z"
   },
   {
    "duration": -2902,
    "start_time": "2022-01-29T19:16:47.642Z"
   },
   {
    "duration": -2922,
    "start_time": "2022-01-29T19:16:47.663Z"
   },
   {
    "duration": -2942,
    "start_time": "2022-01-29T19:16:47.685Z"
   },
   {
    "duration": -2952,
    "start_time": "2022-01-29T19:16:47.696Z"
   },
   {
    "duration": -2968,
    "start_time": "2022-01-29T19:16:47.713Z"
   },
   {
    "duration": -2976,
    "start_time": "2022-01-29T19:16:47.722Z"
   },
   {
    "duration": -3065,
    "start_time": "2022-01-29T19:16:47.812Z"
   },
   {
    "duration": -3142,
    "start_time": "2022-01-29T19:16:47.890Z"
   },
   {
    "duration": -3154,
    "start_time": "2022-01-29T19:16:47.903Z"
   },
   {
    "duration": -3184,
    "start_time": "2022-01-29T19:16:47.935Z"
   },
   {
    "duration": -3216,
    "start_time": "2022-01-29T19:16:47.968Z"
   },
   {
    "duration": -3250,
    "start_time": "2022-01-29T19:16:48.003Z"
   },
   {
    "duration": -3262,
    "start_time": "2022-01-29T19:16:48.016Z"
   },
   {
    "duration": -3283,
    "start_time": "2022-01-29T19:16:48.038Z"
   },
   {
    "duration": -3291,
    "start_time": "2022-01-29T19:16:48.047Z"
   },
   {
    "duration": -3298,
    "start_time": "2022-01-29T19:16:48.055Z"
   },
   {
    "duration": -3304,
    "start_time": "2022-01-29T19:16:48.063Z"
   },
   {
    "duration": -3315,
    "start_time": "2022-01-29T19:16:48.075Z"
   },
   {
    "duration": -3330,
    "start_time": "2022-01-29T19:16:48.091Z"
   },
   {
    "duration": -3396,
    "start_time": "2022-01-29T19:16:48.158Z"
   },
   {
    "duration": 1929,
    "start_time": "2022-01-29T19:17:13.399Z"
   },
   {
    "duration": 2283,
    "start_time": "2022-01-29T19:17:45.682Z"
   },
   {
    "duration": 727,
    "start_time": "2022-01-29T19:20:11.237Z"
   },
   {
    "duration": 151,
    "start_time": "2022-01-29T19:20:15.745Z"
   },
   {
    "duration": 6,
    "start_time": "2022-01-29T19:20:21.840Z"
   },
   {
    "duration": 24,
    "start_time": "2022-01-29T19:20:29.212Z"
   },
   {
    "duration": 4,
    "start_time": "2022-01-29T19:21:11.141Z"
   },
   {
    "duration": 23,
    "start_time": "2022-01-29T19:21:14.921Z"
   },
   {
    "duration": 4,
    "start_time": "2022-01-29T19:21:19.761Z"
   },
   {
    "duration": 23,
    "start_time": "2022-01-29T19:21:23.561Z"
   },
   {
    "duration": 44,
    "start_time": "2022-01-29T19:21:27.369Z"
   },
   {
    "duration": 23,
    "start_time": "2022-01-29T19:21:30.128Z"
   },
   {
    "duration": 60,
    "start_time": "2022-01-29T19:21:33.281Z"
   },
   {
    "duration": 69,
    "start_time": "2022-01-29T19:21:36.389Z"
   },
   {
    "duration": 56,
    "start_time": "2022-01-29T19:21:38.561Z"
   },
   {
    "duration": 9,
    "start_time": "2022-01-29T19:21:58.929Z"
   },
   {
    "duration": 58,
    "start_time": "2022-01-29T19:22:51.501Z"
   },
   {
    "duration": 306,
    "start_time": "2022-01-29T19:23:11.189Z"
   },
   {
    "duration": 49,
    "start_time": "2022-01-29T19:23:22.689Z"
   },
   {
    "duration": 285,
    "start_time": "2022-01-29T19:40:41.470Z"
   },
   {
    "duration": 243,
    "start_time": "2022-01-29T19:44:18.002Z"
   },
   {
    "duration": 50,
    "start_time": "2022-01-29T19:44:34.135Z"
   },
   {
    "duration": 24,
    "start_time": "2022-01-29T19:51:57.801Z"
   },
   {
    "duration": 3,
    "start_time": "2022-01-29T20:04:41.969Z"
   },
   {
    "duration": 242,
    "start_time": "2022-01-29T20:05:41.841Z"
   },
   {
    "duration": 3,
    "start_time": "2022-01-29T20:33:14.589Z"
   },
   {
    "duration": 4,
    "start_time": "2022-01-29T20:33:35.679Z"
   },
   {
    "duration": 233,
    "start_time": "2022-01-29T20:38:17.138Z"
   },
   {
    "duration": 474,
    "start_time": "2022-01-29T20:39:04.740Z"
   },
   {
    "duration": 3,
    "start_time": "2022-01-29T20:44:21.656Z"
   },
   {
    "duration": 17,
    "start_time": "2022-01-29T20:44:24.816Z"
   },
   {
    "duration": 6,
    "start_time": "2022-01-29T20:49:33.902Z"
   },
   {
    "duration": 263,
    "start_time": "2022-01-29T22:27:22.982Z"
   },
   {
    "duration": 4,
    "start_time": "2022-01-29T22:28:36.560Z"
   },
   {
    "duration": 32,
    "start_time": "2022-01-29T22:30:58.184Z"
   },
   {
    "duration": 34,
    "start_time": "2022-01-29T22:34:38.139Z"
   },
   {
    "duration": 32,
    "start_time": "2022-01-29T22:35:02.427Z"
   },
   {
    "duration": 33,
    "start_time": "2022-01-29T22:35:23.293Z"
   },
   {
    "duration": 31,
    "start_time": "2022-01-29T22:36:46.695Z"
   },
   {
    "duration": 36,
    "start_time": "2022-01-29T22:37:49.813Z"
   },
   {
    "duration": 35,
    "start_time": "2022-01-29T22:38:14.984Z"
   },
   {
    "duration": 34,
    "start_time": "2022-01-29T22:39:05.943Z"
   },
   {
    "duration": 768,
    "start_time": "2022-02-01T19:38:59.270Z"
   },
   {
    "duration": 152,
    "start_time": "2022-02-01T19:39:00.040Z"
   },
   {
    "duration": 7,
    "start_time": "2022-02-01T19:39:00.195Z"
   },
   {
    "duration": 32,
    "start_time": "2022-02-01T19:39:00.204Z"
   },
   {
    "duration": 6,
    "start_time": "2022-02-01T19:39:00.238Z"
   },
   {
    "duration": 39,
    "start_time": "2022-02-01T19:39:00.245Z"
   },
   {
    "duration": 8,
    "start_time": "2022-02-01T19:39:00.286Z"
   },
   {
    "duration": 27,
    "start_time": "2022-02-01T19:39:00.296Z"
   },
   {
    "duration": 62,
    "start_time": "2022-02-01T19:39:00.325Z"
   },
   {
    "duration": 21,
    "start_time": "2022-02-01T19:39:00.389Z"
   },
   {
    "duration": 73,
    "start_time": "2022-02-01T19:39:00.412Z"
   },
   {
    "duration": 84,
    "start_time": "2022-02-01T19:39:00.487Z"
   },
   {
    "duration": 53,
    "start_time": "2022-02-01T19:39:00.573Z"
   },
   {
    "duration": 35,
    "start_time": "2022-02-01T19:39:00.628Z"
   },
   {
    "duration": 10,
    "start_time": "2022-02-01T19:39:00.666Z"
   },
   {
    "duration": 37,
    "start_time": "2022-02-01T19:39:00.678Z"
   },
   {
    "duration": 6,
    "start_time": "2022-02-01T19:39:00.717Z"
   },
   {
    "duration": 35,
    "start_time": "2022-02-01T19:39:00.724Z"
   },
   {
    "duration": 32,
    "start_time": "2022-02-01T19:39:00.761Z"
   },
   {
    "duration": 3,
    "start_time": "2022-02-01T19:39:00.795Z"
   },
   {
    "duration": 16,
    "start_time": "2022-02-01T19:39:00.800Z"
   },
   {
    "duration": 7,
    "start_time": "2022-02-01T19:39:00.818Z"
   },
   {
    "duration": 10,
    "start_time": "2022-02-01T19:39:00.829Z"
   },
   {
    "duration": 11,
    "start_time": "2022-02-01T19:39:00.841Z"
   },
   {
    "duration": 7,
    "start_time": "2022-02-01T19:39:00.858Z"
   },
   {
    "duration": 8,
    "start_time": "2022-02-01T19:39:00.866Z"
   },
   {
    "duration": 10,
    "start_time": "2022-02-01T19:39:00.876Z"
   },
   {
    "duration": 11,
    "start_time": "2022-02-01T19:39:00.888Z"
   },
   {
    "duration": 7,
    "start_time": "2022-02-01T19:39:00.901Z"
   },
   {
    "duration": 74,
    "start_time": "2022-02-01T19:39:00.909Z"
   },
   {
    "duration": -2917,
    "start_time": "2022-02-01T19:39:03.902Z"
   },
   {
    "duration": -2922,
    "start_time": "2022-02-01T19:39:03.908Z"
   },
   {
    "duration": -2931,
    "start_time": "2022-02-01T19:39:03.918Z"
   },
   {
    "duration": -2937,
    "start_time": "2022-02-01T19:39:03.925Z"
   },
   {
    "duration": -2944,
    "start_time": "2022-02-01T19:39:03.934Z"
   },
   {
    "duration": -2950,
    "start_time": "2022-02-01T19:39:03.941Z"
   },
   {
    "duration": -2959,
    "start_time": "2022-02-01T19:39:03.951Z"
   },
   {
    "duration": -2963,
    "start_time": "2022-02-01T19:39:03.957Z"
   },
   {
    "duration": 7,
    "start_time": "2022-02-01T19:39:27.378Z"
   },
   {
    "duration": 238,
    "start_time": "2022-02-01T19:39:49.979Z"
   },
   {
    "duration": 3,
    "start_time": "2022-02-01T19:40:51.728Z"
   },
   {
    "duration": 4,
    "start_time": "2022-02-01T20:08:33.785Z"
   },
   {
    "duration": 3,
    "start_time": "2022-02-01T20:10:00.824Z"
   },
   {
    "duration": 4,
    "start_time": "2022-02-01T20:10:59.323Z"
   },
   {
    "duration": 3,
    "start_time": "2022-02-01T20:11:55.675Z"
   },
   {
    "duration": 386,
    "start_time": "2022-02-01T20:12:39.409Z"
   },
   {
    "duration": 3,
    "start_time": "2022-02-01T20:13:11.219Z"
   },
   {
    "duration": 470,
    "start_time": "2022-02-01T20:13:14.218Z"
   },
   {
    "duration": 5,
    "start_time": "2022-02-01T20:15:39.119Z"
   },
   {
    "duration": 377,
    "start_time": "2022-02-01T20:15:42.939Z"
   },
   {
    "duration": 414,
    "start_time": "2022-02-01T20:26:54.483Z"
   },
   {
    "duration": 827,
    "start_time": "2022-02-01T22:19:06.878Z"
   },
   {
    "duration": 163,
    "start_time": "2022-02-01T22:19:07.707Z"
   },
   {
    "duration": 7,
    "start_time": "2022-02-01T22:19:07.872Z"
   },
   {
    "duration": 40,
    "start_time": "2022-02-01T22:19:07.881Z"
   },
   {
    "duration": 7,
    "start_time": "2022-02-01T22:19:07.923Z"
   },
   {
    "duration": 26,
    "start_time": "2022-02-01T22:19:07.932Z"
   },
   {
    "duration": 9,
    "start_time": "2022-02-01T22:19:07.960Z"
   },
   {
    "duration": 39,
    "start_time": "2022-02-01T22:19:07.971Z"
   },
   {
    "duration": 45,
    "start_time": "2022-02-01T22:19:08.012Z"
   },
   {
    "duration": 22,
    "start_time": "2022-02-01T22:19:08.059Z"
   },
   {
    "duration": 78,
    "start_time": "2022-02-01T22:19:08.084Z"
   },
   {
    "duration": 83,
    "start_time": "2022-02-01T22:19:08.164Z"
   },
   {
    "duration": 66,
    "start_time": "2022-02-01T22:19:08.249Z"
   },
   {
    "duration": 24,
    "start_time": "2022-02-01T22:19:08.318Z"
   },
   {
    "duration": 15,
    "start_time": "2022-02-01T22:19:08.344Z"
   },
   {
    "duration": 22,
    "start_time": "2022-02-01T22:19:08.361Z"
   },
   {
    "duration": 24,
    "start_time": "2022-02-01T22:19:08.384Z"
   },
   {
    "duration": 55,
    "start_time": "2022-02-01T22:19:08.411Z"
   },
   {
    "duration": 35,
    "start_time": "2022-02-01T22:19:08.468Z"
   },
   {
    "duration": 5,
    "start_time": "2022-02-01T22:19:08.508Z"
   },
   {
    "duration": 551,
    "start_time": "2022-02-01T22:19:08.515Z"
   },
   {
    "duration": -2676,
    "start_time": "2022-02-01T22:19:11.745Z"
   },
   {
    "duration": -2686,
    "start_time": "2022-02-01T22:19:11.756Z"
   },
   {
    "duration": -2696,
    "start_time": "2022-02-01T22:19:11.768Z"
   },
   {
    "duration": -2708,
    "start_time": "2022-02-01T22:19:11.781Z"
   },
   {
    "duration": -2741,
    "start_time": "2022-02-01T22:19:11.816Z"
   },
   {
    "duration": -2891,
    "start_time": "2022-02-01T22:19:11.968Z"
   },
   {
    "duration": -2897,
    "start_time": "2022-02-01T22:19:11.975Z"
   },
   {
    "duration": -2901,
    "start_time": "2022-02-01T22:19:11.981Z"
   },
   {
    "duration": -2909,
    "start_time": "2022-02-01T22:19:11.990Z"
   },
   {
    "duration": -2914,
    "start_time": "2022-02-01T22:19:11.997Z"
   },
   {
    "duration": -2958,
    "start_time": "2022-02-01T22:19:12.043Z"
   },
   {
    "duration": -2966,
    "start_time": "2022-02-01T22:19:12.052Z"
   },
   {
    "duration": -2972,
    "start_time": "2022-02-01T22:19:12.060Z"
   },
   {
    "duration": -2980,
    "start_time": "2022-02-01T22:19:12.070Z"
   },
   {
    "duration": -2986,
    "start_time": "2022-02-01T22:19:12.077Z"
   },
   {
    "duration": -2993,
    "start_time": "2022-02-01T22:19:12.086Z"
   },
   {
    "duration": -2998,
    "start_time": "2022-02-01T22:19:12.093Z"
   },
   {
    "duration": 81,
    "start_time": "2022-02-01T22:19:39.085Z"
   },
   {
    "duration": 4,
    "start_time": "2022-02-01T22:19:58.477Z"
   },
   {
    "duration": 518,
    "start_time": "2022-02-01T22:20:03.494Z"
   },
   {
    "duration": 4,
    "start_time": "2022-02-01T22:20:14.966Z"
   },
   {
    "duration": 490,
    "start_time": "2022-02-01T22:20:18.644Z"
   },
   {
    "duration": 4,
    "start_time": "2022-02-01T22:22:16.196Z"
   },
   {
    "duration": 494,
    "start_time": "2022-02-01T22:22:19.486Z"
   },
   {
    "duration": 6,
    "start_time": "2022-02-01T22:25:06.254Z"
   },
   {
    "duration": 31,
    "start_time": "2022-02-01T22:25:10.263Z"
   },
   {
    "duration": 4,
    "start_time": "2022-02-01T22:28:00.112Z"
   },
   {
    "duration": 22,
    "start_time": "2022-02-01T22:28:01.871Z"
   },
   {
    "duration": 22,
    "start_time": "2022-02-01T22:28:09.910Z"
   },
   {
    "duration": 20,
    "start_time": "2022-02-01T22:28:10.584Z"
   },
   {
    "duration": 20,
    "start_time": "2022-02-01T22:28:15.665Z"
   },
   {
    "duration": 21,
    "start_time": "2022-02-01T22:28:19.333Z"
   },
   {
    "duration": 21,
    "start_time": "2022-02-01T22:28:24.944Z"
   },
   {
    "duration": 262,
    "start_time": "2022-02-01T22:28:33.395Z"
   },
   {
    "duration": 3,
    "start_time": "2022-02-01T22:31:03.589Z"
   },
   {
    "duration": 22,
    "start_time": "2022-02-01T22:31:04.463Z"
   },
   {
    "duration": 23,
    "start_time": "2022-02-01T22:31:16.965Z"
   },
   {
    "duration": 4,
    "start_time": "2022-02-01T22:31:51.489Z"
   },
   {
    "duration": 22,
    "start_time": "2022-02-01T22:31:53.208Z"
   },
   {
    "duration": 4,
    "start_time": "2022-02-01T22:32:20.971Z"
   },
   {
    "duration": 29,
    "start_time": "2022-02-01T22:32:22.911Z"
   },
   {
    "duration": 5,
    "start_time": "2022-02-01T22:32:44.071Z"
   },
   {
    "duration": 30,
    "start_time": "2022-02-01T22:32:46.687Z"
   },
   {
    "duration": 252,
    "start_time": "2022-02-01T22:34:37.959Z"
   },
   {
    "duration": 478,
    "start_time": "2022-02-01T22:40:21.648Z"
   },
   {
    "duration": 4,
    "start_time": "2022-02-01T22:43:40.974Z"
   },
   {
    "duration": 31,
    "start_time": "2022-02-01T22:43:43.076Z"
   },
   {
    "duration": 4,
    "start_time": "2022-02-01T22:48:39.045Z"
   },
   {
    "duration": 20,
    "start_time": "2022-02-01T22:48:45.020Z"
   },
   {
    "duration": 20,
    "start_time": "2022-02-01T22:48:54.580Z"
   },
   {
    "duration": 3,
    "start_time": "2022-02-01T22:49:30.949Z"
   },
   {
    "duration": 41,
    "start_time": "2022-02-01T22:49:33.538Z"
   },
   {
    "duration": 24,
    "start_time": "2022-02-01T22:49:45.323Z"
   },
   {
    "duration": 24,
    "start_time": "2022-02-01T22:49:49.394Z"
   },
   {
    "duration": 27,
    "start_time": "2022-02-01T22:49:52.674Z"
   },
   {
    "duration": 28,
    "start_time": "2022-02-01T22:49:56.494Z"
   },
   {
    "duration": 26,
    "start_time": "2022-02-01T22:50:00.396Z"
   },
   {
    "duration": 486,
    "start_time": "2022-02-01T22:50:10.026Z"
   },
   {
    "duration": 518,
    "start_time": "2022-02-01T22:52:58.348Z"
   },
   {
    "duration": 361,
    "start_time": "2022-02-01T22:57:42.233Z"
   },
   {
    "duration": 409,
    "start_time": "2022-02-01T23:04:35.122Z"
   },
   {
    "duration": 402,
    "start_time": "2022-02-01T23:05:32.693Z"
   },
   {
    "duration": 1013,
    "start_time": "2022-02-02T17:42:48.388Z"
   },
   {
    "duration": 210,
    "start_time": "2022-02-02T17:42:49.403Z"
   },
   {
    "duration": 9,
    "start_time": "2022-02-02T17:42:49.616Z"
   },
   {
    "duration": 57,
    "start_time": "2022-02-02T17:42:49.627Z"
   },
   {
    "duration": 6,
    "start_time": "2022-02-02T17:42:49.686Z"
   },
   {
    "duration": 28,
    "start_time": "2022-02-02T17:42:49.695Z"
   },
   {
    "duration": 35,
    "start_time": "2022-02-02T17:42:49.726Z"
   },
   {
    "duration": 29,
    "start_time": "2022-02-02T17:42:49.766Z"
   },
   {
    "duration": 90,
    "start_time": "2022-02-02T17:42:49.799Z"
   },
   {
    "duration": 25,
    "start_time": "2022-02-02T17:42:49.891Z"
   },
   {
    "duration": 104,
    "start_time": "2022-02-02T17:42:49.919Z"
   },
   {
    "duration": 100,
    "start_time": "2022-02-02T17:42:50.027Z"
   },
   {
    "duration": 84,
    "start_time": "2022-02-02T17:42:50.130Z"
   },
   {
    "duration": 47,
    "start_time": "2022-02-02T17:42:50.217Z"
   },
   {
    "duration": 6,
    "start_time": "2022-02-02T17:42:50.269Z"
   },
   {
    "duration": 25,
    "start_time": "2022-02-02T17:42:50.277Z"
   },
   {
    "duration": 8,
    "start_time": "2022-02-02T17:42:50.305Z"
   },
   {
    "duration": 77,
    "start_time": "2022-02-02T17:42:50.316Z"
   },
   {
    "duration": 38,
    "start_time": "2022-02-02T17:42:50.395Z"
   },
   {
    "duration": 4,
    "start_time": "2022-02-02T17:42:50.436Z"
   },
   {
    "duration": 61,
    "start_time": "2022-02-02T17:42:50.443Z"
   },
   {
    "duration": 31,
    "start_time": "2022-02-02T17:42:50.506Z"
   },
   {
    "duration": 39,
    "start_time": "2022-02-02T17:42:50.562Z"
   },
   {
    "duration": 30,
    "start_time": "2022-02-02T17:42:50.604Z"
   },
   {
    "duration": 53,
    "start_time": "2022-02-02T17:42:50.636Z"
   },
   {
    "duration": 30,
    "start_time": "2022-02-02T17:42:50.691Z"
   },
   {
    "duration": 604,
    "start_time": "2022-02-02T17:42:50.723Z"
   },
   {
    "duration": -3311,
    "start_time": "2022-02-02T17:42:54.641Z"
   },
   {
    "duration": -3315,
    "start_time": "2022-02-02T17:42:54.647Z"
   },
   {
    "duration": -3319,
    "start_time": "2022-02-02T17:42:54.653Z"
   },
   {
    "duration": -3325,
    "start_time": "2022-02-02T17:42:54.662Z"
   },
   {
    "duration": -3336,
    "start_time": "2022-02-02T17:42:54.675Z"
   },
   {
    "duration": -3383,
    "start_time": "2022-02-02T17:42:54.724Z"
   },
   {
    "duration": -3388,
    "start_time": "2022-02-02T17:42:54.731Z"
   },
   {
    "duration": -3392,
    "start_time": "2022-02-02T17:42:54.737Z"
   },
   {
    "duration": -3411,
    "start_time": "2022-02-02T17:42:54.759Z"
   },
   {
    "duration": -3419,
    "start_time": "2022-02-02T17:42:54.769Z"
   },
   {
    "duration": -3437,
    "start_time": "2022-02-02T17:42:54.789Z"
   },
   {
    "duration": 5,
    "start_time": "2022-02-02T18:07:02.854Z"
   },
   {
    "duration": 21,
    "start_time": "2022-02-02T18:07:06.520Z"
   },
   {
    "duration": 20,
    "start_time": "2022-02-02T18:07:15.880Z"
   },
   {
    "duration": 19,
    "start_time": "2022-02-02T18:07:19.335Z"
   },
   {
    "duration": 27,
    "start_time": "2022-02-02T18:07:21.325Z"
   },
   {
    "duration": 38,
    "start_time": "2022-02-02T18:07:24.631Z"
   },
   {
    "duration": 20,
    "start_time": "2022-02-02T18:07:27.227Z"
   },
   {
    "duration": 527,
    "start_time": "2022-02-02T18:07:32.976Z"
   },
   {
    "duration": 474,
    "start_time": "2022-02-02T18:13:20.612Z"
   },
   {
    "duration": 592,
    "start_time": "2022-02-02T18:15:05.840Z"
   },
   {
    "duration": 92,
    "start_time": "2022-02-02T18:15:56.611Z"
   },
   {
    "duration": 971,
    "start_time": "2022-02-02T19:35:01.109Z"
   },
   {
    "duration": 207,
    "start_time": "2022-02-02T19:35:02.083Z"
   },
   {
    "duration": 9,
    "start_time": "2022-02-02T19:35:02.294Z"
   },
   {
    "duration": 31,
    "start_time": "2022-02-02T19:35:02.306Z"
   },
   {
    "duration": 9,
    "start_time": "2022-02-02T19:35:02.363Z"
   },
   {
    "duration": 42,
    "start_time": "2022-02-02T19:35:02.374Z"
   },
   {
    "duration": 4,
    "start_time": "2022-02-02T19:35:02.419Z"
   },
   {
    "duration": 56,
    "start_time": "2022-02-02T19:35:02.427Z"
   },
   {
    "duration": 52,
    "start_time": "2022-02-02T19:35:02.487Z"
   },
   {
    "duration": 45,
    "start_time": "2022-02-02T19:35:02.542Z"
   },
   {
    "duration": 96,
    "start_time": "2022-02-02T19:35:02.589Z"
   },
   {
    "duration": 107,
    "start_time": "2022-02-02T19:35:02.687Z"
   },
   {
    "duration": 89,
    "start_time": "2022-02-02T19:35:02.796Z"
   },
   {
    "duration": 29,
    "start_time": "2022-02-02T19:35:02.887Z"
   },
   {
    "duration": 4,
    "start_time": "2022-02-02T19:35:02.919Z"
   },
   {
    "duration": 50,
    "start_time": "2022-02-02T19:35:02.925Z"
   },
   {
    "duration": 8,
    "start_time": "2022-02-02T19:35:02.977Z"
   },
   {
    "duration": 42,
    "start_time": "2022-02-02T19:35:02.987Z"
   },
   {
    "duration": 76,
    "start_time": "2022-02-02T19:35:03.032Z"
   },
   {
    "duration": 5,
    "start_time": "2022-02-02T19:35:03.110Z"
   },
   {
    "duration": 23,
    "start_time": "2022-02-02T19:35:03.118Z"
   },
   {
    "duration": 26,
    "start_time": "2022-02-02T19:35:03.160Z"
   },
   {
    "duration": 19,
    "start_time": "2022-02-02T19:35:03.193Z"
   },
   {
    "duration": 61,
    "start_time": "2022-02-02T19:35:03.215Z"
   },
   {
    "duration": 21,
    "start_time": "2022-02-02T19:35:03.279Z"
   },
   {
    "duration": 18,
    "start_time": "2022-02-02T19:35:03.303Z"
   },
   {
    "duration": 113,
    "start_time": "2022-02-02T19:35:03.324Z"
   },
   {
    "duration": 3,
    "start_time": "2022-02-02T19:35:03.439Z"
   },
   {
    "duration": 18,
    "start_time": "2022-02-02T19:35:03.443Z"
   },
   {
    "duration": 494,
    "start_time": "2022-02-02T19:35:03.464Z"
   },
   {
    "duration": -3388,
    "start_time": "2022-02-02T19:35:07.348Z"
   },
   {
    "duration": -3397,
    "start_time": "2022-02-02T19:35:07.359Z"
   },
   {
    "duration": -3408,
    "start_time": "2022-02-02T19:35:07.372Z"
   },
   {
    "duration": -3419,
    "start_time": "2022-02-02T19:35:07.385Z"
   },
   {
    "duration": -3432,
    "start_time": "2022-02-02T19:35:07.399Z"
   },
   {
    "duration": -3440,
    "start_time": "2022-02-02T19:35:07.408Z"
   },
   {
    "duration": -3492,
    "start_time": "2022-02-02T19:35:07.462Z"
   },
   {
    "duration": -3513,
    "start_time": "2022-02-02T19:35:07.484Z"
   },
   {
    "duration": 6,
    "start_time": "2022-02-02T19:41:54.950Z"
   },
   {
    "duration": 5058,
    "start_time": "2022-02-02T19:42:22.949Z"
   },
   {
    "duration": 3,
    "start_time": "2022-02-02T19:42:37.086Z"
   },
   {
    "duration": 12,
    "start_time": "2022-02-02T19:46:12.028Z"
   },
   {
    "duration": 25,
    "start_time": "2022-02-02T19:52:48.934Z"
   },
   {
    "duration": 13,
    "start_time": "2022-02-02T19:54:33.897Z"
   },
   {
    "duration": 442,
    "start_time": "2022-02-02T19:54:47.954Z"
   },
   {
    "duration": 22,
    "start_time": "2022-02-02T19:54:56.804Z"
   },
   {
    "duration": 21,
    "start_time": "2022-02-02T19:59:09.871Z"
   },
   {
    "duration": 19,
    "start_time": "2022-02-02T19:59:45.521Z"
   },
   {
    "duration": 187,
    "start_time": "2022-02-02T20:00:17.344Z"
   },
   {
    "duration": 4,
    "start_time": "2022-02-02T20:00:33.741Z"
   },
   {
    "duration": 6,
    "start_time": "2022-02-02T20:22:37.473Z"
   },
   {
    "duration": 6,
    "start_time": "2022-02-02T20:24:12.795Z"
   },
   {
    "duration": 787,
    "start_time": "2022-02-02T20:24:39.419Z"
   },
   {
    "duration": 169,
    "start_time": "2022-02-02T20:24:40.209Z"
   },
   {
    "duration": 10,
    "start_time": "2022-02-02T20:24:40.381Z"
   },
   {
    "duration": 32,
    "start_time": "2022-02-02T20:24:40.394Z"
   },
   {
    "duration": 4,
    "start_time": "2022-02-02T20:24:40.429Z"
   },
   {
    "duration": 30,
    "start_time": "2022-02-02T20:24:40.460Z"
   },
   {
    "duration": 5,
    "start_time": "2022-02-02T20:24:40.492Z"
   },
   {
    "duration": 29,
    "start_time": "2022-02-02T20:24:40.499Z"
   },
   {
    "duration": 55,
    "start_time": "2022-02-02T20:24:40.563Z"
   },
   {
    "duration": 40,
    "start_time": "2022-02-02T20:24:40.621Z"
   },
   {
    "duration": 79,
    "start_time": "2022-02-02T20:24:40.668Z"
   },
   {
    "duration": 92,
    "start_time": "2022-02-02T20:24:40.758Z"
   },
   {
    "duration": 77,
    "start_time": "2022-02-02T20:24:40.853Z"
   },
   {
    "duration": 50,
    "start_time": "2022-02-02T20:24:40.932Z"
   },
   {
    "duration": 4,
    "start_time": "2022-02-02T20:24:40.985Z"
   },
   {
    "duration": 23,
    "start_time": "2022-02-02T20:24:40.992Z"
   },
   {
    "duration": 45,
    "start_time": "2022-02-02T20:24:41.017Z"
   },
   {
    "duration": 60,
    "start_time": "2022-02-02T20:24:41.072Z"
   },
   {
    "duration": 64,
    "start_time": "2022-02-02T20:24:41.135Z"
   },
   {
    "duration": 5,
    "start_time": "2022-02-02T20:24:41.201Z"
   },
   {
    "duration": 35,
    "start_time": "2022-02-02T20:24:41.208Z"
   },
   {
    "duration": 41,
    "start_time": "2022-02-02T20:24:41.245Z"
   },
   {
    "duration": 19,
    "start_time": "2022-02-02T20:24:41.289Z"
   },
   {
    "duration": 50,
    "start_time": "2022-02-02T20:24:41.311Z"
   },
   {
    "duration": 23,
    "start_time": "2022-02-02T20:24:41.367Z"
   },
   {
    "duration": 19,
    "start_time": "2022-02-02T20:24:41.393Z"
   },
   {
    "duration": 125,
    "start_time": "2022-02-02T20:24:41.416Z"
   },
   {
    "duration": 30,
    "start_time": "2022-02-02T20:24:41.545Z"
   },
   {
    "duration": 446,
    "start_time": "2022-02-02T20:24:41.578Z"
   },
   {
    "duration": -3415,
    "start_time": "2022-02-02T20:24:45.442Z"
   },
   {
    "duration": -3433,
    "start_time": "2022-02-02T20:24:45.462Z"
   },
   {
    "duration": -3447,
    "start_time": "2022-02-02T20:24:45.477Z"
   },
   {
    "duration": -3470,
    "start_time": "2022-02-02T20:24:45.501Z"
   },
   {
    "duration": -3476,
    "start_time": "2022-02-02T20:24:45.509Z"
   },
   {
    "duration": -3481,
    "start_time": "2022-02-02T20:24:45.515Z"
   },
   {
    "duration": -3489,
    "start_time": "2022-02-02T20:24:45.525Z"
   },
   {
    "duration": -3493,
    "start_time": "2022-02-02T20:24:45.531Z"
   },
   {
    "duration": -3503,
    "start_time": "2022-02-02T20:24:45.542Z"
   },
   {
    "duration": 24,
    "start_time": "2022-02-02T20:25:21.284Z"
   },
   {
    "duration": 6,
    "start_time": "2022-02-02T20:25:45.088Z"
   },
   {
    "duration": 6,
    "start_time": "2022-02-02T20:26:00.074Z"
   },
   {
    "duration": 1937,
    "start_time": "2022-02-02T20:27:35.989Z"
   },
   {
    "duration": 753,
    "start_time": "2022-02-02T20:28:03.005Z"
   },
   {
    "duration": 6,
    "start_time": "2022-02-02T20:28:46.102Z"
   },
   {
    "duration": 5,
    "start_time": "2022-02-02T20:28:58.904Z"
   },
   {
    "duration": 749,
    "start_time": "2022-02-02T20:29:02.481Z"
   },
   {
    "duration": 7,
    "start_time": "2022-02-02T20:32:59.873Z"
   },
   {
    "duration": 7,
    "start_time": "2022-02-02T20:35:31.380Z"
   },
   {
    "duration": 6,
    "start_time": "2022-02-02T20:37:15.257Z"
   },
   {
    "duration": 764,
    "start_time": "2022-02-02T20:38:19.846Z"
   },
   {
    "duration": 6,
    "start_time": "2022-02-02T20:39:10.872Z"
   },
   {
    "duration": 26,
    "start_time": "2022-02-02T20:39:13.237Z"
   },
   {
    "duration": 24,
    "start_time": "2022-02-02T20:40:40.626Z"
   },
   {
    "duration": 28,
    "start_time": "2022-02-02T20:43:54.326Z"
   },
   {
    "duration": 35,
    "start_time": "2022-02-02T20:43:59.298Z"
   },
   {
    "duration": 29,
    "start_time": "2022-02-02T20:44:02.938Z"
   },
   {
    "duration": 29,
    "start_time": "2022-02-02T20:44:29.857Z"
   },
   {
    "duration": 6,
    "start_time": "2022-02-02T20:54:28.129Z"
   },
   {
    "duration": 24,
    "start_time": "2022-02-02T20:54:31.792Z"
   },
   {
    "duration": 19,
    "start_time": "2022-02-02T20:54:35.342Z"
   },
   {
    "duration": 36,
    "start_time": "2022-02-02T20:54:40.714Z"
   },
   {
    "duration": 33,
    "start_time": "2022-02-02T20:54:49.759Z"
   },
   {
    "duration": 29,
    "start_time": "2022-02-02T20:58:37.183Z"
   },
   {
    "duration": 8,
    "start_time": "2022-02-02T20:58:57.192Z"
   },
   {
    "duration": 18,
    "start_time": "2022-02-02T21:04:07.005Z"
   },
   {
    "duration": 10,
    "start_time": "2022-02-02T21:04:27.670Z"
   },
   {
    "duration": 4,
    "start_time": "2022-02-02T21:05:05.138Z"
   },
   {
    "duration": 950,
    "start_time": "2022-02-02T21:05:16.446Z"
   },
   {
    "duration": 182,
    "start_time": "2022-02-02T21:05:17.399Z"
   },
   {
    "duration": 11,
    "start_time": "2022-02-02T21:05:17.583Z"
   },
   {
    "duration": 32,
    "start_time": "2022-02-02T21:05:17.596Z"
   },
   {
    "duration": 34,
    "start_time": "2022-02-02T21:05:17.631Z"
   },
   {
    "duration": 40,
    "start_time": "2022-02-02T21:05:17.668Z"
   },
   {
    "duration": 4,
    "start_time": "2022-02-02T21:05:17.712Z"
   },
   {
    "duration": 72,
    "start_time": "2022-02-02T21:05:17.723Z"
   },
   {
    "duration": 94,
    "start_time": "2022-02-02T21:05:17.799Z"
   },
   {
    "duration": 49,
    "start_time": "2022-02-02T21:05:17.896Z"
   },
   {
    "duration": 104,
    "start_time": "2022-02-02T21:05:17.960Z"
   },
   {
    "duration": 95,
    "start_time": "2022-02-02T21:05:18.067Z"
   },
   {
    "duration": 95,
    "start_time": "2022-02-02T21:05:18.164Z"
   },
   {
    "duration": 43,
    "start_time": "2022-02-02T21:05:18.262Z"
   },
   {
    "duration": 4,
    "start_time": "2022-02-02T21:05:18.311Z"
   },
   {
    "duration": 44,
    "start_time": "2022-02-02T21:05:18.317Z"
   },
   {
    "duration": 13,
    "start_time": "2022-02-02T21:05:18.363Z"
   },
   {
    "duration": 45,
    "start_time": "2022-02-02T21:05:18.378Z"
   },
   {
    "duration": 67,
    "start_time": "2022-02-02T21:05:18.425Z"
   },
   {
    "duration": 5,
    "start_time": "2022-02-02T21:05:18.495Z"
   },
   {
    "duration": 35,
    "start_time": "2022-02-02T21:05:18.502Z"
   },
   {
    "duration": 31,
    "start_time": "2022-02-02T21:05:18.559Z"
   },
   {
    "duration": 20,
    "start_time": "2022-02-02T21:05:18.594Z"
   },
   {
    "duration": 48,
    "start_time": "2022-02-02T21:05:18.616Z"
   },
   {
    "duration": 25,
    "start_time": "2022-02-02T21:05:18.666Z"
   },
   {
    "duration": 18,
    "start_time": "2022-02-02T21:05:18.693Z"
   },
   {
    "duration": 122,
    "start_time": "2022-02-02T21:05:18.714Z"
   },
   {
    "duration": 36,
    "start_time": "2022-02-02T21:05:18.839Z"
   },
   {
    "duration": 20,
    "start_time": "2022-02-02T21:05:18.877Z"
   },
   {
    "duration": 5,
    "start_time": "2022-02-02T21:05:18.900Z"
   },
   {
    "duration": 63,
    "start_time": "2022-02-02T21:05:18.907Z"
   },
   {
    "duration": 24,
    "start_time": "2022-02-02T21:05:18.973Z"
   },
   {
    "duration": 36,
    "start_time": "2022-02-02T21:05:19.000Z"
   },
   {
    "duration": 47,
    "start_time": "2022-02-02T21:05:19.039Z"
   },
   {
    "duration": 28,
    "start_time": "2022-02-02T21:05:19.089Z"
   },
   {
    "duration": 321,
    "start_time": "2022-02-03T07:43:23.498Z"
   },
   {
    "duration": 728,
    "start_time": "2022-02-03T07:43:37.255Z"
   },
   {
    "duration": 187,
    "start_time": "2022-02-03T07:43:37.985Z"
   },
   {
    "duration": 10,
    "start_time": "2022-02-03T07:43:38.174Z"
   },
   {
    "duration": 52,
    "start_time": "2022-02-03T07:43:38.187Z"
   },
   {
    "duration": 4,
    "start_time": "2022-02-03T07:43:38.242Z"
   },
   {
    "duration": 34,
    "start_time": "2022-02-03T07:43:38.249Z"
   },
   {
    "duration": 4,
    "start_time": "2022-02-03T07:43:38.285Z"
   },
   {
    "duration": 64,
    "start_time": "2022-02-03T07:43:38.291Z"
   },
   {
    "duration": 76,
    "start_time": "2022-02-03T07:43:38.358Z"
   },
   {
    "duration": 28,
    "start_time": "2022-02-03T07:43:38.437Z"
   },
   {
    "duration": 101,
    "start_time": "2022-02-03T07:43:38.467Z"
   },
   {
    "duration": 98,
    "start_time": "2022-02-03T07:43:38.571Z"
   },
   {
    "duration": 87,
    "start_time": "2022-02-03T07:43:38.671Z"
   },
   {
    "duration": 30,
    "start_time": "2022-02-03T07:43:38.761Z"
   },
   {
    "duration": 4,
    "start_time": "2022-02-03T07:43:38.794Z"
   },
   {
    "duration": 20,
    "start_time": "2022-02-03T07:43:39.622Z"
   },
   {
    "duration": 9,
    "start_time": "2022-02-03T07:43:39.645Z"
   },
   {
    "duration": 42,
    "start_time": "2022-02-03T07:43:39.657Z"
   },
   {
    "duration": 43,
    "start_time": "2022-02-03T07:43:40.051Z"
   },
   {
    "duration": 5,
    "start_time": "2022-02-03T07:43:40.584Z"
   },
   {
    "duration": 38,
    "start_time": "2022-02-03T07:43:40.592Z"
   },
   {
    "duration": 21,
    "start_time": "2022-02-03T07:43:40.634Z"
   },
   {
    "duration": 21,
    "start_time": "2022-02-03T07:43:41.182Z"
   },
   {
    "duration": 19,
    "start_time": "2022-02-03T07:43:41.206Z"
   },
   {
    "duration": 22,
    "start_time": "2022-02-03T07:43:41.228Z"
   },
   {
    "duration": 29,
    "start_time": "2022-02-03T07:43:42.101Z"
   },
   {
    "duration": 91,
    "start_time": "2022-02-03T07:43:42.133Z"
   },
   {
    "duration": 23,
    "start_time": "2022-02-03T07:43:42.453Z"
   },
   {
    "duration": 20,
    "start_time": "2022-02-03T07:43:42.479Z"
   },
   {
    "duration": 6,
    "start_time": "2022-02-03T07:43:43.443Z"
   },
   {
    "duration": 37,
    "start_time": "2022-02-03T07:43:43.451Z"
   },
   {
    "duration": 21,
    "start_time": "2022-02-03T07:43:43.842Z"
   },
   {
    "duration": 38,
    "start_time": "2022-02-03T07:43:43.867Z"
   },
   {
    "duration": 56,
    "start_time": "2022-02-03T07:43:43.908Z"
   },
   {
    "duration": 41,
    "start_time": "2022-02-03T07:43:44.384Z"
   },
   {
    "duration": 11,
    "start_time": "2022-02-03T07:43:44.428Z"
   },
   {
    "duration": 19,
    "start_time": "2022-02-03T07:43:44.942Z"
   },
   {
    "duration": 8,
    "start_time": "2022-02-03T07:43:44.964Z"
   },
   {
    "duration": 68,
    "start_time": "2022-02-03T07:45:37.950Z"
   },
   {
    "duration": 64,
    "start_time": "2022-02-03T07:45:52.225Z"
   },
   {
    "duration": 57,
    "start_time": "2022-02-03T07:46:00.605Z"
   },
   {
    "duration": 49,
    "start_time": "2022-02-03T07:46:01.394Z"
   },
   {
    "duration": 29,
    "start_time": "2022-02-03T07:46:39.708Z"
   },
   {
    "duration": 77,
    "start_time": "2022-02-03T07:47:55.429Z"
   },
   {
    "duration": 100,
    "start_time": "2022-02-03T07:48:42.271Z"
   },
   {
    "duration": 82,
    "start_time": "2022-02-03T07:49:02.601Z"
   },
   {
    "duration": 98,
    "start_time": "2022-02-03T07:49:19.312Z"
   },
   {
    "duration": 788,
    "start_time": "2022-02-03T07:54:17.934Z"
   },
   {
    "duration": 186,
    "start_time": "2022-02-03T07:54:18.725Z"
   },
   {
    "duration": 19,
    "start_time": "2022-02-03T07:54:18.914Z"
   },
   {
    "duration": 55,
    "start_time": "2022-02-03T07:54:18.936Z"
   },
   {
    "duration": 4,
    "start_time": "2022-02-03T07:54:18.994Z"
   },
   {
    "duration": 60,
    "start_time": "2022-02-03T07:54:19.000Z"
   },
   {
    "duration": 10,
    "start_time": "2022-02-03T07:54:19.063Z"
   },
   {
    "duration": 63,
    "start_time": "2022-02-03T07:54:19.078Z"
   },
   {
    "duration": 25,
    "start_time": "2022-02-03T07:54:19.145Z"
   },
   {
    "duration": 59,
    "start_time": "2022-02-03T07:54:19.173Z"
   },
   {
    "duration": 104,
    "start_time": "2022-02-03T07:54:19.235Z"
   },
   {
    "duration": 119,
    "start_time": "2022-02-03T07:54:19.342Z"
   },
   {
    "duration": 94,
    "start_time": "2022-02-03T07:54:19.463Z"
   },
   {
    "duration": 385,
    "start_time": "2022-02-03T07:54:19.560Z"
   },
   {
    "duration": 1786,
    "start_time": "2022-02-03T07:54:18.162Z"
   },
   {
    "duration": 1773,
    "start_time": "2022-02-03T07:54:18.177Z"
   },
   {
    "duration": 1761,
    "start_time": "2022-02-03T07:54:18.191Z"
   },
   {
    "duration": 1750,
    "start_time": "2022-02-03T07:54:18.203Z"
   },
   {
    "duration": 1711,
    "start_time": "2022-02-03T07:54:18.243Z"
   },
   {
    "duration": 1701,
    "start_time": "2022-02-03T07:54:18.255Z"
   },
   {
    "duration": 1690,
    "start_time": "2022-02-03T07:54:18.267Z"
   },
   {
    "duration": 1665,
    "start_time": "2022-02-03T07:54:18.293Z"
   },
   {
    "duration": 1655,
    "start_time": "2022-02-03T07:54:18.305Z"
   },
   {
    "duration": 1633,
    "start_time": "2022-02-03T07:54:18.332Z"
   },
   {
    "duration": 1609,
    "start_time": "2022-02-03T07:54:18.358Z"
   },
   {
    "duration": 1580,
    "start_time": "2022-02-03T07:54:18.389Z"
   },
   {
    "duration": 1558,
    "start_time": "2022-02-03T07:54:18.413Z"
   },
   {
    "duration": 1535,
    "start_time": "2022-02-03T07:54:18.439Z"
   },
   {
    "duration": 1512,
    "start_time": "2022-02-03T07:54:18.464Z"
   },
   {
    "duration": 1490,
    "start_time": "2022-02-03T07:54:18.488Z"
   },
   {
    "duration": 1468,
    "start_time": "2022-02-03T07:54:18.512Z"
   },
   {
    "duration": 1456,
    "start_time": "2022-02-03T07:54:18.525Z"
   },
   {
    "duration": 1433,
    "start_time": "2022-02-03T07:54:18.550Z"
   },
   {
    "duration": 1409,
    "start_time": "2022-02-03T07:54:18.576Z"
   },
   {
    "duration": 1398,
    "start_time": "2022-02-03T07:54:18.589Z"
   },
   {
    "duration": 1370,
    "start_time": "2022-02-03T07:54:18.618Z"
   },
   {
    "duration": 1347,
    "start_time": "2022-02-03T07:54:18.643Z"
   },
   {
    "duration": 1353,
    "start_time": "2022-02-03T07:54:18.678Z"
   },
   {
    "duration": 608,
    "start_time": "2022-02-03T15:46:34.464Z"
   },
   {
    "duration": 110,
    "start_time": "2022-02-03T15:46:35.074Z"
   },
   {
    "duration": 6,
    "start_time": "2022-02-03T15:46:35.185Z"
   },
   {
    "duration": 21,
    "start_time": "2022-02-03T15:46:35.193Z"
   },
   {
    "duration": 12,
    "start_time": "2022-02-03T15:46:35.216Z"
   },
   {
    "duration": 30,
    "start_time": "2022-02-03T15:46:35.229Z"
   },
   {
    "duration": 4,
    "start_time": "2022-02-03T15:46:35.261Z"
   },
   {
    "duration": 18,
    "start_time": "2022-02-03T15:46:35.268Z"
   },
   {
    "duration": 13,
    "start_time": "2022-02-03T15:46:35.288Z"
   },
   {
    "duration": 27,
    "start_time": "2022-02-03T15:46:35.302Z"
   },
   {
    "duration": 47,
    "start_time": "2022-02-03T15:46:35.331Z"
   },
   {
    "duration": 68,
    "start_time": "2022-02-03T15:46:35.380Z"
   },
   {
    "duration": 44,
    "start_time": "2022-02-03T15:46:35.449Z"
   },
   {
    "duration": 368,
    "start_time": "2022-02-03T15:46:35.494Z"
   },
   {
    "duration": -5546,
    "start_time": "2022-02-03T15:46:41.410Z"
   },
   {
    "duration": -5556,
    "start_time": "2022-02-03T15:46:41.421Z"
   },
   {
    "duration": -5566,
    "start_time": "2022-02-03T15:46:41.432Z"
   },
   {
    "duration": -5576,
    "start_time": "2022-02-03T15:46:41.444Z"
   },
   {
    "duration": -5583,
    "start_time": "2022-02-03T15:46:41.452Z"
   },
   {
    "duration": -5596,
    "start_time": "2022-02-03T15:46:41.466Z"
   },
   {
    "duration": -5608,
    "start_time": "2022-02-03T15:46:41.480Z"
   },
   {
    "duration": -5642,
    "start_time": "2022-02-03T15:46:41.515Z"
   },
   {
    "duration": -5674,
    "start_time": "2022-02-03T15:46:41.548Z"
   },
   {
    "duration": -5716,
    "start_time": "2022-02-03T15:46:41.592Z"
   },
   {
    "duration": -5739,
    "start_time": "2022-02-03T15:46:41.616Z"
   },
   {
    "duration": -5748,
    "start_time": "2022-02-03T15:46:41.626Z"
   },
   {
    "duration": -5768,
    "start_time": "2022-02-03T15:46:41.647Z"
   },
   {
    "duration": -5774,
    "start_time": "2022-02-03T15:46:41.655Z"
   },
   {
    "duration": -5796,
    "start_time": "2022-02-03T15:46:41.678Z"
   },
   {
    "duration": -5817,
    "start_time": "2022-02-03T15:46:41.700Z"
   },
   {
    "duration": -5827,
    "start_time": "2022-02-03T15:46:41.711Z"
   },
   {
    "duration": -5846,
    "start_time": "2022-02-03T15:46:41.731Z"
   },
   {
    "duration": -5855,
    "start_time": "2022-02-03T15:46:41.742Z"
   },
   {
    "duration": -5876,
    "start_time": "2022-02-03T15:46:41.764Z"
   },
   {
    "duration": -5887,
    "start_time": "2022-02-03T15:46:41.776Z"
   },
   {
    "duration": -5913,
    "start_time": "2022-02-03T15:46:41.803Z"
   },
   {
    "duration": -5921,
    "start_time": "2022-02-03T15:46:41.813Z"
   },
   {
    "duration": -5926,
    "start_time": "2022-02-03T15:46:41.819Z"
   },
   {
    "duration": 323,
    "start_time": "2022-02-03T15:47:33.059Z"
   },
   {
    "duration": 13,
    "start_time": "2022-02-03T15:49:24.570Z"
   },
   {
    "duration": 19,
    "start_time": "2022-02-03T15:49:31.575Z"
   },
   {
    "duration": 31,
    "start_time": "2022-02-03T15:49:37.933Z"
   },
   {
    "duration": 60,
    "start_time": "2022-02-03T15:50:28.763Z"
   },
   {
    "duration": 19,
    "start_time": "2022-02-03T15:50:35.724Z"
   },
   {
    "duration": 332,
    "start_time": "2022-02-03T15:51:27.691Z"
   },
   {
    "duration": 347,
    "start_time": "2022-02-03T15:51:34.009Z"
   },
   {
    "duration": 320,
    "start_time": "2022-02-03T15:51:52.123Z"
   },
   {
    "duration": 330,
    "start_time": "2022-02-03T15:52:22.537Z"
   },
   {
    "duration": 364,
    "start_time": "2022-02-03T15:52:57.319Z"
   },
   {
    "duration": 11,
    "start_time": "2022-02-03T15:53:30.948Z"
   },
   {
    "duration": 18,
    "start_time": "2022-02-03T15:53:35.797Z"
   },
   {
    "duration": 319,
    "start_time": "2022-02-03T15:54:22.688Z"
   },
   {
    "duration": 7,
    "start_time": "2022-02-03T15:56:55.646Z"
   },
   {
    "duration": 11,
    "start_time": "2022-02-03T16:02:06.684Z"
   },
   {
    "duration": 18,
    "start_time": "2022-02-03T16:02:14.244Z"
   },
   {
    "duration": 19,
    "start_time": "2022-02-03T16:02:18.170Z"
   },
   {
    "duration": 325,
    "start_time": "2022-02-03T16:02:46.620Z"
   },
   {
    "duration": 13,
    "start_time": "2022-02-03T16:03:16.166Z"
   },
   {
    "duration": 20,
    "start_time": "2022-02-03T16:03:20.065Z"
   },
   {
    "duration": 19,
    "start_time": "2022-02-03T16:03:28.675Z"
   },
   {
    "duration": 52,
    "start_time": "2022-02-03T16:04:55.626Z"
   },
   {
    "duration": 86,
    "start_time": "2022-02-04T07:53:31.624Z"
   },
   {
    "duration": 83,
    "start_time": "2022-02-04T07:53:44.691Z"
   }
  ],
  "colab": {
   "collapsed_sections": [
    "E0vqbgi9ay0H",
    "VUC88oWjTJw2",
    "atZAxtq4_Zcu"
   ],
   "name": "EmptyFinalProject.ipynb\"",
   "provenance": []
  },
  "kernelspec": {
   "display_name": "Python 3 (ipykernel)",
   "language": "python",
   "name": "python3"
  },
  "language_info": {
   "codemirror_mode": {
    "name": "ipython",
    "version": 3
   },
   "file_extension": ".py",
   "mimetype": "text/x-python",
   "name": "python",
   "nbconvert_exporter": "python",
   "pygments_lexer": "ipython3",
   "version": "3.9.5"
  },
  "toc": {
   "base_numbering": 1,
   "nav_menu": {},
   "number_sections": true,
   "sideBar": true,
   "skip_h1_title": true,
   "title_cell": "Table of Contents",
   "title_sidebar": "Contents",
   "toc_cell": false,
   "toc_position": {},
   "toc_section_display": true,
   "toc_window_display": false
  }
 },
 "nbformat": 4,
 "nbformat_minor": 4
}
