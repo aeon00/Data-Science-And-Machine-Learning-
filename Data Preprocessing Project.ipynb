{
 "cells": [
  {
   "cell_type": "markdown",
   "metadata": {},
   "source": [
    "<div style=\"border:solid green 2px; padding: 20px\"> \n",
    "    \n",
    "Hello Harvey, \n",
    "    \n",
    "    \n",
    "my name is Aleksandra. I'm going to review your project! Nice to meet you! 🙌\n",
    "\n",
    "You can find my comments under the heading **«Review»**. I will categorize my comments in green, blue or red boxes like this:\n",
    "\n",
    "<div class=\"alert alert-success\">\n",
    "    <b>Success:</b> if everything is done successfully\n",
    "</div>\n",
    "<div class=\"alert alert-warning\">\n",
    "    <b>Remarks:</b> if I can give some recommendations or ways to improve the project\n",
    "</div>\n",
    "<div class=\"alert alert-danger\">\n",
    "    <b>Needs fixing:</b> if the block requires some corrections. Work can't be accepted with the red comments\n",
    "</div>\n",
    "\n",
    "Please don't remove my comments :) If you have any questions don't hesitate to respond to my comments in a different section. "
   ]
  },
  {
   "cell_type": "markdown",
   "metadata": {},
   "source": [
    "<div class=\"alert alert-block alert-success\">\n",
    "<b>Overall reviewer's comment v1</b> <a class=\"tocSkip\"></a>\n",
    "    \n",
    "Harvey, thanks a lot for the project! Great job! Everything is perfect. I can see that a lot of efforts have been made, and it turned out to be very strong. You work very carefully with data and you make qualitative assumptions - like a real analyst. There are no critical comments. I left guidance ones as we went along. If you have any questions,  feel free to ask me through your tutor. Good luck at next steps!"
   ]
  },
  {
   "cell_type": "markdown",
   "metadata": {},
   "source": [
    "# Analyzing borrowers’ risk of defaulting\n",
    "\n",
    "Your project is to prepare a report for a bank’s loan division. You’ll need to find out if a customer’s marital status and number of children has an impact on whether they will default on a loan. The bank already has some data on customers’ credit worthiness.\n",
    "\n",
    "Your report will be considered when building the **credit score** of a potential customer. The **credit score** is used to evaluate the ability of a potential borrower to repay their loan.\n",
    "\n",
    "[In this notebook you're provided with hints and brief instructions and thinking prompts. Don't ignore them as they are designed to equip you with the structure for the project and will help you analyze what you're doing on a deeper level. Before submitting your project, make sure you remove all hints and descriptions provided to you. Instead, make this report look as if you're sending it to your teammates to demonstrate your findings - they shouldn't know you had some external help from us! To help you out, we've placed the hints you should remove in square brackets.]\n",
    "\n",
    "[Before you dive into analyzing your data, explain the purposes of the project and hypotheses you're going to test.]"
   ]
  },
  {
   "cell_type": "markdown",
   "metadata": {},
   "source": [
    "## Open the data file and have a look at the general information. \n",
    "Import Panda libraries"
   ]
  },
  {
   "cell_type": "code",
   "execution_count": 1,
   "metadata": {},
   "outputs": [],
   "source": [
    "# Loading all the libraries\n",
    "import pandas as pd\n",
    "\n",
    "# Load the data\n",
    "df = pd.read_csv('/datasets/credit_scoring_eng.csv')"
   ]
  },
  {
   "cell_type": "markdown",
   "metadata": {},
   "source": [
    "## Task 1. Data exploration\n",
    "\n",
    "**Description of the data**\n",
    "- `children` - the number of children in the family\n",
    "- `days_employed` - work experience in days\n",
    "- `dob_years` - client's age in years\n",
    "- `education` - client's education\n",
    "- `education_id` - education identifier\n",
    "- `family_status` - marital status\n",
    "- `family_status_id` - marital status identifier\n",
    "- `gender` - gender of the client\n",
    "- `income_type` - type of employment\n",
    "- `debt` - was there any debt on loan repayment\n",
    "- `total_income` - monthly income\n",
    "- `purpose` - the purpose of obtaining a loan\n",
    "\n",
    "Print out the dataset to have an overview and understand it better"
   ]
  },
  {
   "cell_type": "code",
   "execution_count": 2,
   "metadata": {},
   "outputs": [
    {
     "name": "stdout",
     "output_type": "stream",
     "text": [
      "       children  days_employed  dob_years            education  education_id  \\\n",
      "0             1   -8437.673028         42    bachelor's degree             0   \n",
      "1             1   -4024.803754         36  secondary education             1   \n",
      "2             0   -5623.422610         33  Secondary Education             1   \n",
      "3             3   -4124.747207         32  secondary education             1   \n",
      "4             0  340266.072047         53  secondary education             1   \n",
      "...         ...            ...        ...                  ...           ...   \n",
      "21520         1   -4529.316663         43  secondary education             1   \n",
      "21521         0  343937.404131         67  secondary education             1   \n",
      "21522         1   -2113.346888         38  secondary education             1   \n",
      "21523         3   -3112.481705         38  secondary education             1   \n",
      "21524         2   -1984.507589         40  secondary education             1   \n",
      "\n",
      "           family_status  family_status_id gender income_type  debt  \\\n",
      "0                married                 0      F    employee     0   \n",
      "1                married                 0      F    employee     0   \n",
      "2                married                 0      M    employee     0   \n",
      "3                married                 0      M    employee     0   \n",
      "4      civil partnership                 1      F     retiree     0   \n",
      "...                  ...               ...    ...         ...   ...   \n",
      "21520  civil partnership                 1      F    business     0   \n",
      "21521            married                 0      F     retiree     0   \n",
      "21522  civil partnership                 1      M    employee     1   \n",
      "21523            married                 0      M    employee     1   \n",
      "21524            married                 0      F    employee     0   \n",
      "\n",
      "       total_income                  purpose  \n",
      "0         40620.102    purchase of the house  \n",
      "1         17932.802             car purchase  \n",
      "2         23341.752    purchase of the house  \n",
      "3         42820.568  supplementary education  \n",
      "4         25378.572        to have a wedding  \n",
      "...             ...                      ...  \n",
      "21520     35966.698     housing transactions  \n",
      "21521     24959.969        purchase of a car  \n",
      "21522     14347.610                 property  \n",
      "21523     39054.888        buying my own car  \n",
      "21524     13127.587             to buy a car  \n",
      "\n",
      "[21525 rows x 12 columns]\n"
     ]
    }
   ],
   "source": [
    "# Let's see how many rows and columns our dataset has\n",
    "\n",
    "print(df)"
   ]
  },
  {
   "cell_type": "code",
   "execution_count": 3,
   "metadata": {
    "scrolled": true
   },
   "outputs": [
    {
     "name": "stdout",
     "output_type": "stream",
     "text": [
      "   children  days_employed  dob_years            education  education_id  \\\n",
      "0         1   -8437.673028         42    bachelor's degree             0   \n",
      "1         1   -4024.803754         36  secondary education             1   \n",
      "2         0   -5623.422610         33  Secondary Education             1   \n",
      "3         3   -4124.747207         32  secondary education             1   \n",
      "4         0  340266.072047         53  secondary education             1   \n",
      "5         0    -926.185831         27    bachelor's degree             0   \n",
      "6         0   -2879.202052         43    bachelor's degree             0   \n",
      "7         0    -152.779569         50  SECONDARY EDUCATION             1   \n",
      "8         2   -6929.865299         35    BACHELOR'S DEGREE             0   \n",
      "9         0   -2188.756445         41  secondary education             1   \n",
      "\n",
      "       family_status  family_status_id gender income_type  debt  total_income  \\\n",
      "0            married                 0      F    employee     0     40620.102   \n",
      "1            married                 0      F    employee     0     17932.802   \n",
      "2            married                 0      M    employee     0     23341.752   \n",
      "3            married                 0      M    employee     0     42820.568   \n",
      "4  civil partnership                 1      F     retiree     0     25378.572   \n",
      "5  civil partnership                 1      M    business     0     40922.170   \n",
      "6            married                 0      F    business     0     38484.156   \n",
      "7            married                 0      M    employee     0     21731.829   \n",
      "8  civil partnership                 1      F    employee     0     15337.093   \n",
      "9            married                 0      M    employee     0     23108.150   \n",
      "\n",
      "                               purpose  \n",
      "0                purchase of the house  \n",
      "1                         car purchase  \n",
      "2                purchase of the house  \n",
      "3              supplementary education  \n",
      "4                    to have a wedding  \n",
      "5                purchase of the house  \n",
      "6                 housing transactions  \n",
      "7                            education  \n",
      "8                     having a wedding  \n",
      "9  purchase of the house for my family  \n"
     ]
    }
   ],
   "source": [
    "# let's print the first 10 rows\n",
    "\n",
    "print(df.head(10))"
   ]
  },
  {
   "cell_type": "markdown",
   "metadata": {},
   "source": [
    "The days_employed column seems to have negative values. Other than that, the dataset seems ok at first glance. But it'd serve us well to look at the dataset info."
   ]
  },
  {
   "cell_type": "code",
   "execution_count": 4,
   "metadata": {
    "scrolled": false
   },
   "outputs": [
    {
     "name": "stdout",
     "output_type": "stream",
     "text": [
      "<class 'pandas.core.frame.DataFrame'>\n",
      "RangeIndex: 21525 entries, 0 to 21524\n",
      "Data columns (total 12 columns):\n",
      " #   Column            Non-Null Count  Dtype  \n",
      "---  ------            --------------  -----  \n",
      " 0   children          21525 non-null  int64  \n",
      " 1   days_employed     19351 non-null  float64\n",
      " 2   dob_years         21525 non-null  int64  \n",
      " 3   education         21525 non-null  object \n",
      " 4   education_id      21525 non-null  int64  \n",
      " 5   family_status     21525 non-null  object \n",
      " 6   family_status_id  21525 non-null  int64  \n",
      " 7   gender            21525 non-null  object \n",
      " 8   income_type       21525 non-null  object \n",
      " 9   debt              21525 non-null  int64  \n",
      " 10  total_income      19351 non-null  float64\n",
      " 11  purpose           21525 non-null  object \n",
      "dtypes: float64(2), int64(5), object(5)\n",
      "memory usage: 2.0+ MB\n",
      "None\n"
     ]
    }
   ],
   "source": [
    "# Get info on data\n",
    "print(df.info())"
   ]
  },
  {
   "cell_type": "markdown",
   "metadata": {},
   "source": [
    "Just as we suspected. There are missing values in the dataset. We can see them in total_income and days_employed columns."
   ]
  },
  {
   "cell_type": "code",
   "execution_count": 5,
   "metadata": {
    "scrolled": true
   },
   "outputs": [
    {
     "name": "stdout",
     "output_type": "stream",
     "text": [
      "       children  days_employed  dob_years            education  education_id  \\\n",
      "12            0            NaN         65  secondary education             1   \n",
      "26            0            NaN         41  secondary education             1   \n",
      "29            0            NaN         63  secondary education             1   \n",
      "41            0            NaN         50  secondary education             1   \n",
      "55            0            NaN         54  secondary education             1   \n",
      "...         ...            ...        ...                  ...           ...   \n",
      "21489         2            NaN         47  Secondary Education             1   \n",
      "21495         1            NaN         50  secondary education             1   \n",
      "21497         0            NaN         48    BACHELOR'S DEGREE             0   \n",
      "21502         1            NaN         42  secondary education             1   \n",
      "21510         2            NaN         28  secondary education             1   \n",
      "\n",
      "           family_status  family_status_id gender    income_type  debt  \\\n",
      "12     civil partnership                 1      M        retiree     0   \n",
      "26               married                 0      M  civil servant     0   \n",
      "29             unmarried                 4      F        retiree     0   \n",
      "41               married                 0      F  civil servant     0   \n",
      "55     civil partnership                 1      F        retiree     1   \n",
      "...                  ...               ...    ...            ...   ...   \n",
      "21489            married                 0      M       business     0   \n",
      "21495  civil partnership                 1      F       employee     0   \n",
      "21497            married                 0      F       business     0   \n",
      "21502            married                 0      F       employee     0   \n",
      "21510            married                 0      F       employee     0   \n",
      "\n",
      "       total_income                   purpose  \n",
      "12              NaN         to have a wedding  \n",
      "26              NaN                 education  \n",
      "29              NaN    building a real estate  \n",
      "41              NaN  second-hand car purchase  \n",
      "55              NaN         to have a wedding  \n",
      "...             ...                       ...  \n",
      "21489           NaN         purchase of a car  \n",
      "21495           NaN          wedding ceremony  \n",
      "21497           NaN       building a property  \n",
      "21502           NaN    building a real estate  \n",
      "21510           NaN              car purchase  \n",
      "\n",
      "[2174 rows x 12 columns]\n"
     ]
    }
   ],
   "source": [
    "# Let's look at the filtered table with missing values in the the first column with missing data\n",
    "\n",
    "print(df[df['days_employed'].isna()])"
   ]
  },
  {
   "cell_type": "markdown",
   "metadata": {},
   "source": [
    "It seems the rows with missing data are identical in both columns. But we have to check if the number of rows of missing data are the same in both columns to be able to draw a conclusion."
   ]
  },
  {
   "cell_type": "markdown",
   "metadata": {},
   "source": [
    "<div class=\"alert alert-block alert-success\">\n",
    "<b>Reviewer's comment v1</b>  You are right"
   ]
  },
  {
   "cell_type": "code",
   "execution_count": 6,
   "metadata": {},
   "outputs": [
    {
     "name": "stdout",
     "output_type": "stream",
     "text": [
      "2174\n",
      "2174\n",
      "Percentage of missing values in days employed column: 10.1%\n",
      "Percentage of missing values in total income column: 10.1%\n"
     ]
    }
   ],
   "source": [
    "# Let's apply multiple conditions for filtering data and look at the number of rows in the filtered table.\n",
    "\n",
    "days_employed_filtered = (df[df['days_employed'].isna()])\n",
    "total_income_filtered = (df[df['total_income'].isna()])\n",
    "days_employed_percentage = len(days_employed_filtered)/ len(df['days_employed'])\n",
    "total_income_percentage = len(total_income_filtered)/len(df['total_income'])\n",
    "print(len(days_employed_filtered))\n",
    "print(len(total_income_filtered))\n",
    "\n",
    "print(f'Percentage of missing values in days employed column: {days_employed_percentage:.1%}')\n",
    "print(f'Percentage of missing values in total income column: {total_income_percentage:.1%}')"
   ]
  },
  {
   "cell_type": "markdown",
   "metadata": {},
   "source": [
    "**Intermediate conclusion**\n",
    "\n",
    "The rows with mising data are of the same number. Which means that for every row where days employed was missed, total income was also missed. Could it mean that these customers are unemployed?\n",
    "\n",
    "The percentage of missing data in each column is 10.1%. Though that may not be a lot, it's worth looking into. \n",
    "\n",
    "Let's check if there's truly a relationship between income type and the missing values."
   ]
  },
  {
   "cell_type": "markdown",
   "metadata": {},
   "source": [
    "<div class=\"alert alert-block alert-success\">\n",
    "<b>Reviewer's comment v1</b> Yes, the amount of missing values is significant. We can't delete them"
   ]
  },
  {
   "cell_type": "code",
   "execution_count": 7,
   "metadata": {
    "scrolled": true
   },
   "outputs": [
    {
     "name": "stdout",
     "output_type": "stream",
     "text": [
      "               children  days_employed  dob_years  education  education_id  \\\n",
      "income_type                                                                  \n",
      "business            508              0        508        508           508   \n",
      "civil servant       147              0        147        147           147   \n",
      "employee           1105              0       1105       1105          1105   \n",
      "entrepreneur          1              0          1          1             1   \n",
      "retiree             413              0        413        413           413   \n",
      "\n",
      "               family_status  family_status_id  gender  debt  total_income  \\\n",
      "income_type                                                                  \n",
      "business                 508               508     508   508             0   \n",
      "civil servant            147               147     147   147             0   \n",
      "employee                1105              1105    1105  1105             0   \n",
      "entrepreneur               1                 1       1     1             0   \n",
      "retiree                  413               413     413   413             0   \n",
      "\n",
      "               purpose  \n",
      "income_type             \n",
      "business           508  \n",
      "civil servant      147  \n",
      "employee          1105  \n",
      "entrepreneur         1  \n",
      "retiree            413  \n"
     ]
    }
   ],
   "source": [
    "# Let's investigate clients who do not have data on identified characteristic and the column with the missing values\n",
    "print(days_employed_filtered.groupby('income_type').count())\n",
    "\n"
   ]
  },
  {
   "cell_type": "code",
   "execution_count": 8,
   "metadata": {},
   "outputs": [
    {
     "name": "stdout",
     "output_type": "stream",
     "text": [
      "               days_employed\n",
      "income_type                 \n",
      "business                   0\n",
      "civil servant              0\n",
      "employee                   0\n",
      "entrepreneur               0\n",
      "retiree                    0\n"
     ]
    }
   ],
   "source": [
    "# Checking distribution\n",
    "\n",
    "print(days_employed_filtered.pivot_table(index='income_type', values='days_employed', aggfunc='count'))"
   ]
  },
  {
   "cell_type": "markdown",
   "metadata": {},
   "source": [
    "From what we could gather, there doesn't seem to be a relationship between specific income types and the missing values.\n",
    "\n",
    "**Possible reasons for missing values in data**\n",
    "\n",
    "We still stand by the assumption that customers with missing values may be unemployed. Although, there doesn't seem to be any patterns to the missing data."
   ]
  },
  {
   "cell_type": "code",
   "execution_count": 9,
   "metadata": {},
   "outputs": [
    {
     "name": "stdout",
     "output_type": "stream",
     "text": [
      "                             days_employed\n",
      "income_type                               \n",
      "business                              4577\n",
      "civil servant                         1312\n",
      "employee                             10014\n",
      "entrepreneur                             1\n",
      "paternity / maternity leave              1\n",
      "retiree                               3443\n",
      "student                                  1\n",
      "unemployed                               2\n"
     ]
    }
   ],
   "source": [
    "# Checking the distribution in the whole dataset\n",
    "\n",
    "print(df.pivot_table(index='income_type', values='days_employed', aggfunc='count'))"
   ]
  },
  {
   "cell_type": "markdown",
   "metadata": {},
   "source": [
    "**Intermediate conclusion**\n",
    "From our assessment, the missing data seems to be random"
   ]
  },
  {
   "cell_type": "code",
   "execution_count": 10,
   "metadata": {},
   "outputs": [],
   "source": [
    "# Check for other reasons and patterns that could lead to missing values\n",
    "\n"
   ]
  },
  {
   "cell_type": "markdown",
   "metadata": {},
   "source": [
    "**Intermediate conclusion**\n",
    "\n",
    "None"
   ]
  },
  {
   "cell_type": "code",
   "execution_count": 11,
   "metadata": {
    "scrolled": true
   },
   "outputs": [],
   "source": [
    "# Checking for other patterns - explain which"
   ]
  },
  {
   "cell_type": "markdown",
   "metadata": {},
   "source": [
    "**Conclusions**\n",
    "\n",
    "There was no identifiable pattern to the missing data\n",
    "\n",
    "We might need to fill missing values with the mean or median of their columns to be able to draw good conclusions on the dataset.\n",
    "\n",
    "Next we will explore each column and make corrections to the data if need be."
   ]
  },
  {
   "cell_type": "markdown",
   "metadata": {},
   "source": [
    "## Data transformation\n",
    "\n",
    "Let's go through each column to see what issues we may have in them.\n",
    "\n",
    "Begin with removing duplicates and fixing educational information if required."
   ]
  },
  {
   "cell_type": "code",
   "execution_count": 12,
   "metadata": {},
   "outputs": [
    {
     "name": "stdout",
     "output_type": "stream",
     "text": [
      "[\"bachelor's degree\" 'secondary education' 'Secondary Education'\n",
      " 'SECONDARY EDUCATION' \"BACHELOR'S DEGREE\" 'some college'\n",
      " 'primary education' \"Bachelor's Degree\" 'SOME COLLEGE' 'Some College'\n",
      " 'PRIMARY EDUCATION' 'Primary Education' 'Graduate Degree'\n",
      " 'GRADUATE DEGREE' 'graduate degree']\n"
     ]
    }
   ],
   "source": [
    "# Let's see all values in education column to check if and what spellings will need to be fixed\n",
    "print(df['education'].unique())"
   ]
  },
  {
   "cell_type": "code",
   "execution_count": 13,
   "metadata": {
    "scrolled": true
   },
   "outputs": [],
   "source": [
    "# Fix the registers if required\n",
    "df['education']= df['education'].str.upper()"
   ]
  },
  {
   "cell_type": "markdown",
   "metadata": {},
   "source": [
    "<div class=\"alert alert-block alert-warning\">\n",
    "<b>Reviewer's comment v1</b> It's always better to lowercase data"
   ]
  },
  {
   "cell_type": "code",
   "execution_count": 14,
   "metadata": {},
   "outputs": [
    {
     "name": "stdout",
     "output_type": "stream",
     "text": [
      "[\"BACHELOR'S DEGREE\" 'SECONDARY EDUCATION' 'SOME COLLEGE'\n",
      " 'PRIMARY EDUCATION' 'GRADUATE DEGREE']\n"
     ]
    }
   ],
   "source": [
    "# Checking all the values in the column to make sure we fixed them\n",
    "\n",
    "print(df['education'].unique())"
   ]
  },
  {
   "cell_type": "markdown",
   "metadata": {},
   "source": [
    "Check the data the `children` column"
   ]
  },
  {
   "cell_type": "code",
   "execution_count": 15,
   "metadata": {},
   "outputs": [
    {
     "name": "stdout",
     "output_type": "stream",
     "text": [
      "[ 1  0  3  2 -1  4 20  5]\n",
      "0.002183507549361208\n"
     ]
    }
   ],
   "source": [
    "# Let's see the distribution of values in the `children` column\n",
    "print(df['children'].unique())\n",
    "print(len(df[df['children'] == -1])/len(df['children']))"
   ]
  },
  {
   "cell_type": "markdown",
   "metadata": {},
   "source": [
    "From the `children` column, we can see a rather interesting value of -1. This may be a typo or may mean the child is deceased but there's no way to know for sure. However, It's percentage is negligible so it won't make much of a difference. I suggest we look at it as a typo and correct it. Theres also a value with 20. This is possible in some parts of the world so it might be safer to leave it."
   ]
  },
  {
   "cell_type": "code",
   "execution_count": 16,
   "metadata": {},
   "outputs": [],
   "source": [
    "# [fix the data based on your decision]\n",
    "df[df['children'] == -1] = 1"
   ]
  },
  {
   "cell_type": "markdown",
   "metadata": {},
   "source": [
    "<div class=\"alert alert-warning\">\n",
    "<b>Reviewer's comment v1</b> Great that you calculate share of abnormal values! Now the proportion of anomalies is small and it will not affect anything. Next time, try to calculate their share immediately and if it is less than 5%, get rid of it. Maybe our assumption that  -1==1 is wrong"
   ]
  },
  {
   "cell_type": "code",
   "execution_count": 17,
   "metadata": {},
   "outputs": [
    {
     "name": "stdout",
     "output_type": "stream",
     "text": [
      "[ 1  0  3  2  4 20  5]\n"
     ]
    }
   ],
   "source": [
    "# Checking the `children` column again to make sure it's all fixed\n",
    "\n",
    "print(df['children'].unique())"
   ]
  },
  {
   "cell_type": "markdown",
   "metadata": {},
   "source": [
    "Check the data in the `days_employed` column."
   ]
  },
  {
   "cell_type": "code",
   "execution_count": 18,
   "metadata": {},
   "outputs": [
    {
     "name": "stdout",
     "output_type": "stream",
     "text": [
      "73.7%\n"
     ]
    }
   ],
   "source": [
    "# Find problematic data in `days_employed`, if they exist, and calculate the percentage\n",
    "values_percentage = len(df[df['days_employed'] < 0])/len(df['days_employed'])\n",
    "print(f'{values_percentage:.1%}')"
   ]
  },
  {
   "cell_type": "markdown",
   "metadata": {},
   "source": [
    "A staggering 74.1% of values are negative values and this might have happened due to an error in the system. Let's convert these values to positive values."
   ]
  },
  {
   "cell_type": "code",
   "execution_count": 19,
   "metadata": {},
   "outputs": [],
   "source": [
    "# Address the problematic values, if they exist\n",
    "df['days_employed'] = abs(df['days_employed'])\n"
   ]
  },
  {
   "cell_type": "code",
   "execution_count": 20,
   "metadata": {},
   "outputs": [
    {
     "name": "stdout",
     "output_type": "stream",
     "text": [
      "Empty DataFrame\n",
      "Columns: [children, days_employed, dob_years, education, education_id, family_status, family_status_id, gender, income_type, debt, total_income, purpose]\n",
      "Index: []\n",
      "0          8437.673028\n",
      "1          4024.803754\n",
      "2          5623.422610\n",
      "3          4124.747207\n",
      "4        340266.072047\n",
      "             ...      \n",
      "21520      4529.316663\n",
      "21521    343937.404131\n",
      "21522      2113.346888\n",
      "21523      3112.481705\n",
      "21524      1984.507589\n",
      "Name: days_employed, Length: 21525, dtype: float64\n"
     ]
    }
   ],
   "source": [
    "# Check the result - make sure it's fixed\n",
    "print(df[df['days_employed'] < 0])\n",
    "print(df['days_employed'])"
   ]
  },
  {
   "cell_type": "markdown",
   "metadata": {},
   "source": [
    "Problem solved."
   ]
  },
  {
   "cell_type": "code",
   "execution_count": 21,
   "metadata": {
    "scrolled": true
   },
   "outputs": [
    {
     "name": "stdout",
     "output_type": "stream",
     "text": [
      "[42 36 33 32 53 27 43 50 35 41 40 65 54 56 26 48 24 21 57 67 28 63 62 47\n",
      " 34 68 25 31 30 20 49 37 45 61 64 44 52 46 23 38 39 51  0 59 29 60 55 58\n",
      " 71 22 73 66  1 69 19 72 70 74 75]\n",
      "0.006875725900116144\n"
     ]
    }
   ],
   "source": [
    "# Check the `dob_years` for suspicious values and count the percentage\n",
    "\n",
    "print(df['dob_years'].unique())\n",
    "print(len(df[df['dob_years'] < 2])/len(df['dob_years']))"
   ]
  },
  {
   "cell_type": "markdown",
   "metadata": {},
   "source": [
    "We can see some ages don't match up. Some customers are 0 or 1 year olds and this is quite unlikely. But seeing as the percentage of such an incident is low, it;s best to leave it."
   ]
  },
  {
   "cell_type": "code",
   "execution_count": 22,
   "metadata": {},
   "outputs": [
    {
     "name": "stdout",
     "output_type": "stream",
     "text": [
      "99       0\n",
      "149      0\n",
      "270      0\n",
      "291      1\n",
      "578      0\n",
      "        ..\n",
      "20577    0\n",
      "20717    1\n",
      "21140    1\n",
      "21179    0\n",
      "21313    0\n",
      "Name: dob_years, Length: 148, dtype: int64\n"
     ]
    }
   ],
   "source": [
    "# Address the issues in the `dob_years` column, if they exist\n",
    "print(df['dob_years'][df['dob_years'] < 2])"
   ]
  },
  {
   "cell_type": "code",
   "execution_count": 23,
   "metadata": {},
   "outputs": [],
   "source": [
    "# Check the result - make sure it's fixed\n"
   ]
  },
  {
   "cell_type": "markdown",
   "metadata": {},
   "source": [
    "Now let's check the `family_status` column."
   ]
  },
  {
   "cell_type": "code",
   "execution_count": 24,
   "metadata": {},
   "outputs": [
    {
     "name": "stdout",
     "output_type": "stream",
     "text": [
      "['married' 'civil partnership' 'widow / widower' 'divorced' 'unmarried' 1]\n"
     ]
    }
   ],
   "source": [
    "# Let's see the values for the column\n",
    "\n",
    "print(df['family_status'].unique())"
   ]
  },
  {
   "cell_type": "code",
   "execution_count": 25,
   "metadata": {},
   "outputs": [
    {
     "name": "stdout",
     "output_type": "stream",
     "text": [
      "                   family_status_id\n",
      "family_status                      \n",
      "1                                 1\n",
      "civil partnership                 1\n",
      "divorced                          3\n",
      "married                           0\n",
      "unmarried                         4\n",
      "widow / widower                   2\n"
     ]
    },
    {
     "name": "stderr",
     "output_type": "stream",
     "text": [
      "/tmp/ipykernel_54/25736377.py:3: SettingWithCopyWarning: \n",
      "A value is trying to be set on a copy of a slice from a DataFrame\n",
      "\n",
      "See the caveats in the documentation: https://pandas.pydata.org/pandas-docs/stable/user_guide/indexing.html#returning-a-view-versus-a-copy\n",
      "  df['family_status'][df['family_status'] == 1] = 'civil partnership'\n"
     ]
    }
   ],
   "source": [
    "# Address the problematic values in `family_status`, if they exist\n",
    "print(df.pivot_table(index='family_status', values='family_status_id'))\n",
    "df['family_status'][df['family_status'] == 1] = 'civil partnership'"
   ]
  },
  {
   "cell_type": "code",
   "execution_count": 26,
   "metadata": {},
   "outputs": [
    {
     "name": "stdout",
     "output_type": "stream",
     "text": [
      "['married' 'civil partnership' 'widow / widower' 'divorced' 'unmarried']\n"
     ]
    }
   ],
   "source": [
    "# Check the result - make sure it's fixed\n",
    "print(df['family_status'].unique())"
   ]
  },
  {
   "cell_type": "markdown",
   "metadata": {},
   "source": [
    "Now let's check the `gender` column."
   ]
  },
  {
   "cell_type": "code",
   "execution_count": 27,
   "metadata": {},
   "outputs": [
    {
     "name": "stdout",
     "output_type": "stream",
     "text": [
      "['F' 'M' 1 'XNA']\n"
     ]
    }
   ],
   "source": [
    "# Let's see the values in the column\n",
    "print(df['gender'].unique())"
   ]
  },
  {
   "cell_type": "code",
   "execution_count": 28,
   "metadata": {},
   "outputs": [
    {
     "name": "stderr",
     "output_type": "stream",
     "text": [
      "/tmp/ipykernel_54/969072300.py:2: SettingWithCopyWarning: \n",
      "A value is trying to be set on a copy of a slice from a DataFrame\n",
      "\n",
      "See the caveats in the documentation: https://pandas.pydata.org/pandas-docs/stable/user_guide/indexing.html#returning-a-view-versus-a-copy\n",
      "  df['gender'][df['gender'] == 1] = 'N/A'\n",
      "/tmp/ipykernel_54/969072300.py:3: SettingWithCopyWarning: \n",
      "A value is trying to be set on a copy of a slice from a DataFrame\n",
      "\n",
      "See the caveats in the documentation: https://pandas.pydata.org/pandas-docs/stable/user_guide/indexing.html#returning-a-view-versus-a-copy\n",
      "  df['gender'][df['gender'] == 'XNA'] = 'N/A'\n"
     ]
    }
   ],
   "source": [
    "# Address the problematic values, if they exist\n",
    "df['gender'][df['gender'] == 1] = 'N/A'\n",
    "df['gender'][df['gender'] == 'XNA'] = 'N/A'"
   ]
  },
  {
   "cell_type": "code",
   "execution_count": 29,
   "metadata": {},
   "outputs": [
    {
     "name": "stdout",
     "output_type": "stream",
     "text": [
      "['F' 'M' 'N/A']\n"
     ]
    }
   ],
   "source": [
    "# Check the result - make sure it's fixed\n",
    "\n",
    "print(df['gender'].unique())"
   ]
  },
  {
   "cell_type": "markdown",
   "metadata": {},
   "source": [
    "<div class=\"alert alert-block alert-success\">\n",
    "<b>Reviewer's comment v1</b> Great that you found that abnormal values!"
   ]
  },
  {
   "cell_type": "markdown",
   "metadata": {},
   "source": [
    "Now let's check the `income_type` column."
   ]
  },
  {
   "cell_type": "code",
   "execution_count": 30,
   "metadata": {},
   "outputs": [
    {
     "name": "stdout",
     "output_type": "stream",
     "text": [
      "['employee' 'retiree' 'business' 'civil servant' 1 'unemployed'\n",
      " 'entrepreneur' 'student' 'paternity / maternity leave']\n"
     ]
    }
   ],
   "source": [
    "# Let's see the values in the column\n",
    "print(df['income_type'].unique())"
   ]
  },
  {
   "cell_type": "code",
   "execution_count": 31,
   "metadata": {},
   "outputs": [
    {
     "name": "stderr",
     "output_type": "stream",
     "text": [
      "/tmp/ipykernel_54/2097227964.py:2: SettingWithCopyWarning: \n",
      "A value is trying to be set on a copy of a slice from a DataFrame\n",
      "\n",
      "See the caveats in the documentation: https://pandas.pydata.org/pandas-docs/stable/user_guide/indexing.html#returning-a-view-versus-a-copy\n",
      "  df['income_type'][df['income_type'] == 1] = 'unknown'\n"
     ]
    }
   ],
   "source": [
    "# Address the problematic values, if they exist\n",
    "df['income_type'][df['income_type'] == 1] = 'unknown'"
   ]
  },
  {
   "cell_type": "code",
   "execution_count": 32,
   "metadata": {},
   "outputs": [
    {
     "name": "stdout",
     "output_type": "stream",
     "text": [
      "['employee' 'retiree' 'business' 'civil servant' 'unknown' 'unemployed'\n",
      " 'entrepreneur' 'student' 'paternity / maternity leave']\n"
     ]
    }
   ],
   "source": [
    "# Check the result - make sure it's fixed\n",
    "\n",
    "print(df['income_type'].unique())"
   ]
  },
  {
   "cell_type": "markdown",
   "metadata": {},
   "source": [
    "Now let's see if we have any duplicates in our data."
   ]
  },
  {
   "cell_type": "code",
   "execution_count": 33,
   "metadata": {},
   "outputs": [
    {
     "name": "stdout",
     "output_type": "stream",
     "text": [
      "       children  days_employed  dob_years            education  education_id  \\\n",
      "705           1            1.0          1                    1             1   \n",
      "742           1            1.0          1                    1             1   \n",
      "800           1            1.0          1                    1             1   \n",
      "941           1            1.0          1                    1             1   \n",
      "1363          1            1.0          1                    1             1   \n",
      "...         ...            ...        ...                  ...           ...   \n",
      "21032         0            NaN         60  SECONDARY EDUCATION             1   \n",
      "21132         0            NaN         47  SECONDARY EDUCATION             1   \n",
      "21140         1            1.0          1                    1             1   \n",
      "21281         1            NaN         30    BACHELOR'S DEGREE             0   \n",
      "21415         0            NaN         54  SECONDARY EDUCATION             1   \n",
      "\n",
      "           family_status  family_status_id gender income_type  debt  \\\n",
      "705    civil partnership                 1    N/A     unknown     1   \n",
      "742    civil partnership                 1    N/A     unknown     1   \n",
      "800    civil partnership                 1    N/A     unknown     1   \n",
      "941    civil partnership                 1    N/A     unknown     1   \n",
      "1363   civil partnership                 1    N/A     unknown     1   \n",
      "...                  ...               ...    ...         ...   ...   \n",
      "21032            married                 0      F     retiree     0   \n",
      "21132            married                 0      F    employee     0   \n",
      "21140  civil partnership                 1    N/A     unknown     1   \n",
      "21281            married                 0      F    employee     0   \n",
      "21415            married                 0      F     retiree     0   \n",
      "\n",
      "       total_income                     purpose  \n",
      "705             1.0                           1  \n",
      "742             1.0                           1  \n",
      "800             1.0                           1  \n",
      "941             1.0                           1  \n",
      "1363            1.0                           1  \n",
      "...             ...                         ...  \n",
      "21032           NaN          to become educated  \n",
      "21132           NaN          housing renovation  \n",
      "21140           1.0                           1  \n",
      "21281           NaN  buy commercial real estate  \n",
      "21415           NaN        housing transactions  \n",
      "\n",
      "[117 rows x 12 columns]\n"
     ]
    }
   ],
   "source": [
    "# Checking duplicates\n",
    "\n",
    "print(df[df.duplicated() == True])"
   ]
  },
  {
   "cell_type": "code",
   "execution_count": 34,
   "metadata": {},
   "outputs": [],
   "source": [
    "# Address the duplicates, if they exist\n",
    "df=df.drop_duplicates().reset_index(drop=True)"
   ]
  },
  {
   "cell_type": "code",
   "execution_count": 35,
   "metadata": {},
   "outputs": [
    {
     "name": "stdout",
     "output_type": "stream",
     "text": [
      "Empty DataFrame\n",
      "Columns: [children, days_employed, dob_years, education, education_id, family_status, family_status_id, gender, income_type, debt, total_income, purpose]\n",
      "Index: []\n"
     ]
    }
   ],
   "source": [
    "# Last check whether we have any duplicates\n",
    "print(df[df.duplicated() == True])"
   ]
  },
  {
   "cell_type": "code",
   "execution_count": 36,
   "metadata": {},
   "outputs": [
    {
     "name": "stdout",
     "output_type": "stream",
     "text": [
      "<class 'pandas.core.frame.DataFrame'>\n",
      "RangeIndex: 21408 entries, 0 to 21407\n",
      "Data columns (total 12 columns):\n",
      " #   Column            Non-Null Count  Dtype  \n",
      "---  ------            --------------  -----  \n",
      " 0   children          21408 non-null  int64  \n",
      " 1   days_employed     19308 non-null  float64\n",
      " 2   dob_years         21408 non-null  int64  \n",
      " 3   education         21408 non-null  object \n",
      " 4   education_id      21408 non-null  int64  \n",
      " 5   family_status     21408 non-null  object \n",
      " 6   family_status_id  21408 non-null  int64  \n",
      " 7   gender            21408 non-null  object \n",
      " 8   income_type       21408 non-null  object \n",
      " 9   debt              21408 non-null  int64  \n",
      " 10  total_income      19308 non-null  float64\n",
      " 11  purpose           21408 non-null  object \n",
      "dtypes: float64(2), int64(5), object(5)\n",
      "memory usage: 2.0+ MB\n",
      "None\n"
     ]
    }
   ],
   "source": [
    "# Check the size of the dataset that you now have after your first manipulations with it\n",
    "print(df.info())"
   ]
  },
  {
   "cell_type": "markdown",
   "metadata": {},
   "source": [
    "The duplicates have been dropped. 117 rows which is not up to 10% of our data. The integrity of the data is still preserved and we can move on with our analysis.\n"
   ]
  },
  {
   "cell_type": "markdown",
   "metadata": {},
   "source": [
    "<div class=\"alert alert-block alert-success\">\n",
    "<b>Reviewer's comment v1</b> You can only delete obvious duplicates after full data processing. Right!"
   ]
  },
  {
   "cell_type": "markdown",
   "metadata": {},
   "source": [
    "# Working with missing values"
   ]
  },
  {
   "cell_type": "markdown",
   "metadata": {},
   "source": [
    "To speed up working with some data, some dictionaries could be created for columns containing Id numbers to make it easier to get certain data. But seeing as our dataset is not too big, we may not need them here."
   ]
  },
  {
   "cell_type": "code",
   "execution_count": 37,
   "metadata": {},
   "outputs": [],
   "source": [
    "# Find the dictionaries"
   ]
  },
  {
   "cell_type": "markdown",
   "metadata": {},
   "source": [
    "<div class=\"alert alert-block alert-success\">\n",
    "<b>Reviewer's comment v1</b> You are right"
   ]
  },
  {
   "cell_type": "markdown",
   "metadata": {},
   "source": [
    "### Restoring missing values in `total_income`"
   ]
  },
  {
   "cell_type": "markdown",
   "metadata": {},
   "source": [
    "As previously stated `days_employed` and `total_income` columns both have missing values and we can fill this using the mean or median of these columns.\n",
    "\n",
    "\n",
    "Let's start with addressing `total_income` missing values. Let's create an age category for clients. Create a new column with the age category. \n",
    "We can split them into active workers and pensioners seeing that the official age of retirement is 65.\n"
   ]
  },
  {
   "cell_type": "code",
   "execution_count": 38,
   "metadata": {},
   "outputs": [],
   "source": [
    "# Let's write a function that calculates the age category\n",
    "\n",
    "def age_category(age):\n",
    "        if age <= 65:\n",
    "            return 'Active'\n",
    "        if age >= 65:\n",
    "            return 'Pensioner'"
   ]
  },
  {
   "cell_type": "code",
   "execution_count": 39,
   "metadata": {},
   "outputs": [
    {
     "name": "stdout",
     "output_type": "stream",
     "text": [
      "Pensioner\n"
     ]
    }
   ],
   "source": [
    "# Test if the function works\n",
    "print(age_category(75))"
   ]
  },
  {
   "cell_type": "code",
   "execution_count": 40,
   "metadata": {},
   "outputs": [],
   "source": [
    "# Creating new column based on function\n",
    "\n",
    "df['client_age_group'] = df['dob_years'].apply(age_category)"
   ]
  },
  {
   "cell_type": "code",
   "execution_count": 41,
   "metadata": {},
   "outputs": [
    {
     "name": "stdout",
     "output_type": "stream",
     "text": [
      "0           Active\n",
      "1           Active\n",
      "2           Active\n",
      "3           Active\n",
      "4           Active\n",
      "           ...    \n",
      "21403       Active\n",
      "21404    Pensioner\n",
      "21405       Active\n",
      "21406       Active\n",
      "21407       Active\n",
      "Name: client_age_group, Length: 21408, dtype: object\n"
     ]
    }
   ],
   "source": [
    "# Checking how values in the new column\n",
    "print(df['client_age_group'])\n"
   ]
  },
  {
   "cell_type": "markdown",
   "metadata": {},
   "source": [
    "Let's find the mean and median for the two age groups"
   ]
  },
  {
   "cell_type": "markdown",
   "metadata": {},
   "source": [
    "Let's create a table that only has data without missing values. This data will be used to restore the missing values."
   ]
  },
  {
   "cell_type": "code",
   "execution_count": 42,
   "metadata": {},
   "outputs": [
    {
     "name": "stdout",
     "output_type": "stream",
     "text": [
      "   children  days_employed  dob_years            education  education_id  \\\n",
      "0         1    8437.673028         42    BACHELOR'S DEGREE             0   \n",
      "1         1    4024.803754         36  SECONDARY EDUCATION             1   \n",
      "2         0    5623.422610         33  SECONDARY EDUCATION             1   \n",
      "3         3    4124.747207         32  SECONDARY EDUCATION             1   \n",
      "4         0  340266.072047         53  SECONDARY EDUCATION             1   \n",
      "\n",
      "       family_status  family_status_id gender income_type  debt  total_income  \\\n",
      "0            married                 0      F    employee     0     40620.102   \n",
      "1            married                 0      F    employee     0     17932.802   \n",
      "2            married                 0      M    employee     0     23341.752   \n",
      "3            married                 0      M    employee     0     42820.568   \n",
      "4  civil partnership                 1      F     retiree     0     25378.572   \n",
      "\n",
      "                   purpose client_age_group  \n",
      "0    purchase of the house           Active  \n",
      "1             car purchase           Active  \n",
      "2    purchase of the house           Active  \n",
      "3  supplementary education           Active  \n",
      "4        to have a wedding           Active  \n"
     ]
    }
   ],
   "source": [
    "# Create a table without missing values and print a few of its rows to make sure it looks fine\n",
    "df_filtered = df[df.isna() == False]\n",
    "print(df_filtered.head())"
   ]
  },
  {
   "cell_type": "code",
   "execution_count": 43,
   "metadata": {},
   "outputs": [
    {
     "name": "stdout",
     "output_type": "stream",
     "text": [
      "Pensioner mean: 20807.82241679627\n",
      "Active mean: 26997.246699062416\n"
     ]
    }
   ],
   "source": [
    "# Look at the mean values for income based on your identified factors\n",
    "pensioner_category = df_filtered[df_filtered['client_age_group'] == 'Pensioner']\n",
    "pensioner_mean = pensioner_category['total_income'].mean()\n",
    "print(f'Pensioner mean: {pensioner_mean}')\n",
    "active_category = df_filtered[df_filtered['client_age_group'] == 'Active']\n",
    "active_mean = active_category['total_income'].mean()\n",
    "print(f'Active mean: {active_mean}')"
   ]
  },
  {
   "cell_type": "code",
   "execution_count": 44,
   "metadata": {
    "scrolled": true
   },
   "outputs": [
    {
     "name": "stdout",
     "output_type": "stream",
     "text": [
      "Pensioner median: 17973.086\n",
      "Active median: 23356.895\n"
     ]
    }
   ],
   "source": [
    "# Look at the median values for income based on your identified factors\n",
    "pensioner_median = pensioner_category['total_income'].median()\n",
    "print(f'Pensioner median: {pensioner_median}')\n",
    "active_median = active_category['total_income'].median()\n",
    "print(f'Active median: {active_median}')"
   ]
  },
  {
   "cell_type": "markdown",
   "metadata": {},
   "source": [
    "\n",
    "\n"
   ]
  },
  {
   "cell_type": "markdown",
   "metadata": {},
   "source": [
    "The mean seems quite higher than the median. This means there could be outliers in the dataset. It's safer to replace the values with the median instead."
   ]
  },
  {
   "cell_type": "markdown",
   "metadata": {},
   "source": [
    "<div class=\"alert alert-block alert-success\">\n",
    "<b>Reviewer's comment v1</b> Correct"
   ]
  },
  {
   "cell_type": "code",
   "execution_count": 45,
   "metadata": {},
   "outputs": [],
   "source": [
    "#  Write a function that we will use for filling in missing values\n",
    "def fill_total_income(value):\n",
    "    if (value['client_age_group'] == 'Pensioner') and (pd.isna(value['total_income']) == True):\n",
    "        return pensioner_median\n",
    "    if (value['client_age_group'] == 'Active') and (pd.isna(value['total_income']) == True):\n",
    "        return active_median\n",
    "    else:\n",
    "        return value['total_income']\n",
    "    "
   ]
  },
  {
   "cell_type": "code",
   "execution_count": 46,
   "metadata": {},
   "outputs": [
    {
     "name": "stdout",
     "output_type": "stream",
     "text": [
      "   children client_age_group total_income      purpose\n",
      "0         1        Pensioner           10  school fees\n",
      "1         1           Active           21      for fun\n",
      "2        12           Active    23356.895      finally\n"
     ]
    }
   ],
   "source": [
    "# Check if it works\n",
    "row = [\n",
    "    [1, 'Pensioner', '10', 'school fees'],\n",
    "    [1, 'Active', '21', 'for fun'],\n",
    "    [12, 'Active', float('NaN'), 'finally']\n",
    "]\n",
    "columns =[ \n",
    "'children','client_age_group','total_income','purpose'\n",
    "]\n",
    "test = pd.DataFrame(data=row, columns= columns)\n",
    "test['total_income'] = test.apply(fill_total_income, axis=1)\n",
    "print(test)\n",
    "\n"
   ]
  },
  {
   "cell_type": "code",
   "execution_count": 47,
   "metadata": {},
   "outputs": [],
   "source": [
    "# Apply it to every row\n",
    "df[\"total_income\"] = df.apply(fill_total_income, axis=1)"
   ]
  },
  {
   "cell_type": "code",
   "execution_count": 48,
   "metadata": {},
   "outputs": [
    {
     "name": "stdout",
     "output_type": "stream",
     "text": [
      "0        40620.102\n",
      "1        17932.802\n",
      "2        23341.752\n",
      "3        42820.568\n",
      "4        25378.572\n",
      "           ...    \n",
      "21403    35966.698\n",
      "21404    24959.969\n",
      "21405    14347.610\n",
      "21406    39054.888\n",
      "21407    13127.587\n",
      "Name: total_income, Length: 21408, dtype: float64\n"
     ]
    }
   ],
   "source": [
    "# Check if we got any errors\n",
    "print(df['total_income'])"
   ]
  },
  {
   "cell_type": "markdown",
   "metadata": {},
   "source": [
    "It seems to have worked, so let's move on to the next one\n"
   ]
  },
  {
   "cell_type": "code",
   "execution_count": 49,
   "metadata": {},
   "outputs": [],
   "source": [
    "# Replacing missing values if there are any errors\n"
   ]
  },
  {
   "cell_type": "markdown",
   "metadata": {},
   "source": [
    "Let's check that the total number of values in this column matches the number of values in other ones."
   ]
  },
  {
   "cell_type": "code",
   "execution_count": 50,
   "metadata": {},
   "outputs": [
    {
     "name": "stdout",
     "output_type": "stream",
     "text": [
      "<class 'pandas.core.frame.DataFrame'>\n",
      "RangeIndex: 21408 entries, 0 to 21407\n",
      "Data columns (total 13 columns):\n",
      " #   Column            Non-Null Count  Dtype  \n",
      "---  ------            --------------  -----  \n",
      " 0   children          21408 non-null  int64  \n",
      " 1   days_employed     19308 non-null  float64\n",
      " 2   dob_years         21408 non-null  int64  \n",
      " 3   education         21408 non-null  object \n",
      " 4   education_id      21408 non-null  int64  \n",
      " 5   family_status     21408 non-null  object \n",
      " 6   family_status_id  21408 non-null  int64  \n",
      " 7   gender            21408 non-null  object \n",
      " 8   income_type       21408 non-null  object \n",
      " 9   debt              21408 non-null  int64  \n",
      " 10  total_income      21408 non-null  float64\n",
      " 11  purpose           21408 non-null  object \n",
      " 12  client_age_group  21408 non-null  object \n",
      "dtypes: float64(2), int64(5), object(6)\n",
      "memory usage: 2.1+ MB\n",
      "None\n"
     ]
    }
   ],
   "source": [
    "# Checking the number of entries in the columns\n",
    "\n",
    "print(df.info())"
   ]
  },
  {
   "cell_type": "markdown",
   "metadata": {},
   "source": [
    "###  Restoring values in `days_employed`"
   ]
  },
  {
   "cell_type": "markdown",
   "metadata": {},
   "source": [
    "Let's group the data using the previous groups for active workers and pensioners"
   ]
  },
  {
   "cell_type": "code",
   "execution_count": 51,
   "metadata": {
    "pycharm": {
     "name": "#%%\n"
    }
   },
   "outputs": [
    {
     "name": "stdout",
     "output_type": "stream",
     "text": [
      "Median days employed for Pensioners: 361032.7835389532\n",
      "Median days employed for Active workers: 2080.740408224058\n"
     ]
    }
   ],
   "source": [
    "# Distribution of `days_employed` medians based on your identified parameters\n",
    "pensioner_days_employed_median = pensioner_category['days_employed'].median()\n",
    "active_days_employed_median = active_category['days_employed'].median()\n",
    "print(f'Median days employed for Pensioners: {pensioner_days_employed_median}')\n",
    "print(f'Median days employed for Active workers: {active_days_employed_median}')\n"
   ]
  },
  {
   "cell_type": "code",
   "execution_count": 52,
   "metadata": {},
   "outputs": [
    {
     "name": "stdout",
     "output_type": "stream",
     "text": [
      "Mean days employed for Pensioners: 321223.4365150625\n",
      "Mean days employed for Active workers: 58168.813000589194\n"
     ]
    }
   ],
   "source": [
    "# Distribution of `days_employed` means based on your identified parameters\n",
    "pensioner_days_employed_mean = pensioner_category['days_employed'].mean()\n",
    "active_days_employed_mean = active_category['days_employed'].mean()\n",
    "print(f'Mean days employed for Pensioners: {pensioner_days_employed_mean}')\n",
    "print(f'Mean days employed for Active workers: {active_days_employed_mean}')"
   ]
  },
  {
   "cell_type": "markdown",
   "metadata": {},
   "source": [
    "Active workers seem to have more days employed than the pensioners which is not feasible. There must be some outliers in this dataset. It's best we use the median values as they are a better reflection of what it should really be."
   ]
  },
  {
   "cell_type": "code",
   "execution_count": 53,
   "metadata": {},
   "outputs": [],
   "source": [
    "# Let's write a function that calculates means or medians (depending on your decision) based on your identified parameter\n",
    "def fill_days_employed(value):\n",
    "    if (value['client_age_group'] == 'Pensioner') and (pd.isna(value['days_employed']) == True):\n",
    "        return pensioner_days_employed_median\n",
    "    if (value['client_age_group'] == 'Active') and (pd.isna(value['days_employed']) == True):\n",
    "        return active_days_employed_median\n",
    "    else:\n",
    "        return value['days_employed']\n",
    "    "
   ]
  },
  {
   "cell_type": "code",
   "execution_count": 54,
   "metadata": {},
   "outputs": [
    {
     "name": "stdout",
     "output_type": "stream",
     "text": [
      "   children client_age_group days_employed      purpose\n",
      "0         1        Pensioner            10  school fees\n",
      "1         1           Active            21      for fun\n",
      "2        12           Active   2080.740408      finally\n"
     ]
    }
   ],
   "source": [
    "# Check that the function works\n",
    "\n",
    "row = [\n",
    "    [1, 'Pensioner', '10', 'school fees'],\n",
    "    [1, 'Active', '21', 'for fun'],\n",
    "    [12, 'Active', float('NaN'), 'finally']\n",
    "]\n",
    "columns =[ \n",
    "'children','client_age_group','days_employed','purpose'\n",
    "]\n",
    "test = pd.DataFrame(data=row, columns= columns)\n",
    "test['days_employed'] = test.apply(fill_days_employed, axis=1)\n",
    "print(test)\n"
   ]
  },
  {
   "cell_type": "code",
   "execution_count": 55,
   "metadata": {},
   "outputs": [],
   "source": [
    "# Apply function to the days_employed\n",
    "df['days_employed'] = df.apply(fill_days_employed, axis=1)\n"
   ]
  },
  {
   "cell_type": "code",
   "execution_count": 56,
   "metadata": {},
   "outputs": [
    {
     "name": "stdout",
     "output_type": "stream",
     "text": [
      "Series([], Name: days_employed, dtype: float64)\n"
     ]
    }
   ],
   "source": [
    "# Check if function worked\n",
    "\n",
    "print(df['days_employed'][df['days_employed'].isna()])"
   ]
  },
  {
   "cell_type": "code",
   "execution_count": 57,
   "metadata": {},
   "outputs": [],
   "source": [
    "# Replacing missing values\n",
    "\n"
   ]
  },
  {
   "cell_type": "markdown",
   "metadata": {},
   "source": [
    "Let's check that the total number of values in this column matches the number of values in other ones."
   ]
  },
  {
   "cell_type": "code",
   "execution_count": 58,
   "metadata": {},
   "outputs": [
    {
     "name": "stdout",
     "output_type": "stream",
     "text": [
      "<class 'pandas.core.frame.DataFrame'>\n",
      "RangeIndex: 21408 entries, 0 to 21407\n",
      "Data columns (total 13 columns):\n",
      " #   Column            Non-Null Count  Dtype  \n",
      "---  ------            --------------  -----  \n",
      " 0   children          21408 non-null  int64  \n",
      " 1   days_employed     21408 non-null  float64\n",
      " 2   dob_years         21408 non-null  int64  \n",
      " 3   education         21408 non-null  object \n",
      " 4   education_id      21408 non-null  int64  \n",
      " 5   family_status     21408 non-null  object \n",
      " 6   family_status_id  21408 non-null  int64  \n",
      " 7   gender            21408 non-null  object \n",
      " 8   income_type       21408 non-null  object \n",
      " 9   debt              21408 non-null  int64  \n",
      " 10  total_income      21408 non-null  float64\n",
      " 11  purpose           21408 non-null  object \n",
      " 12  client_age_group  21408 non-null  object \n",
      "dtypes: float64(2), int64(5), object(6)\n",
      "memory usage: 2.1+ MB\n",
      "None\n"
     ]
    }
   ],
   "source": [
    "# Check the entries in all columns - make sure we fixed all missing values\n",
    "print(df.info())"
   ]
  },
  {
   "cell_type": "markdown",
   "metadata": {},
   "source": [
    "<div class=\"alert alert-block alert-success\">\n",
    "<b>Reviewer's comment v1</b> Data is ready for analysis. Well done"
   ]
  },
  {
   "cell_type": "markdown",
   "metadata": {},
   "source": [
    "## Categorization of data\n",
    "Let's categorize our data based on purpose and number of children. This will help us answer the questions asked and make our conclusions for a scoring system clearer."
   ]
  },
  {
   "cell_type": "code",
   "execution_count": 59,
   "metadata": {
    "scrolled": true
   },
   "outputs": [
    {
     "name": "stdout",
     "output_type": "stream",
     "text": [
      "0          purchase of the house\n",
      "1                   car purchase\n",
      "2          purchase of the house\n",
      "3        supplementary education\n",
      "4              to have a wedding\n",
      "                  ...           \n",
      "21403       housing transactions\n",
      "21404          purchase of a car\n",
      "21405                   property\n",
      "21406          buying my own car\n",
      "21407               to buy a car\n",
      "Name: purpose, Length: 21408, dtype: object\n"
     ]
    }
   ],
   "source": [
    "# Print the values for your selected data for categorization\n",
    "print(df['purpose'])"
   ]
  },
  {
   "cell_type": "markdown",
   "metadata": {},
   "source": [
    "Let's check unique values"
   ]
  },
  {
   "cell_type": "code",
   "execution_count": 60,
   "metadata": {},
   "outputs": [
    {
     "name": "stdout",
     "output_type": "stream",
     "text": [
      "['purchase of the house' 'car purchase' 'supplementary education'\n",
      " 'to have a wedding' 'housing transactions' 'education' 'having a wedding'\n",
      " 'purchase of the house for my family' 'buy real estate'\n",
      " 'buy commercial real estate' 'buy residential real estate'\n",
      " 'construction of own property' 'property' 'building a property'\n",
      " 'buying a second-hand car' 'buying my own car'\n",
      " 'transactions with commercial real estate' 'building a real estate'\n",
      " 'housing' 'transactions with my real estate' 'cars' 'to become educated'\n",
      " 'second-hand car purchase' 'getting an education' 'car'\n",
      " 'wedding ceremony' 'to get a supplementary education'\n",
      " 'purchase of my own house' 'real estate transactions'\n",
      " 'getting higher education' 'to own a car' 'purchase of a car'\n",
      " 'profile education' 'university education'\n",
      " 'buying property for renting out' 'to buy a car' 'housing renovation'\n",
      " 'going to university' 1]\n",
      "291    1\n",
      "Name: purpose, dtype: object\n"
     ]
    }
   ],
   "source": [
    "# Check the unique values\n",
    "print(df['purpose'].unique())\n",
    "print(df['purpose'][df['purpose'] == 1])\n",
    "df['purpose'] = df['purpose'].astype('str')"
   ]
  },
  {
   "cell_type": "markdown",
   "metadata": {},
   "source": [
    "Based on the unique values, we can see some distinct groups. Wedding related, car related, housing related and education related.\n",
    "\n",
    "Based on these themes, we will categorize our data.\n"
   ]
  },
  {
   "cell_type": "code",
   "execution_count": 61,
   "metadata": {},
   "outputs": [],
   "source": [
    "# Let's write a function to categorize the data based on common topics\n",
    "def category(value):\n",
    "    if 'wed' in value:\n",
    "        return 'wedding related'\n",
    "    elif 'car' in value:\n",
    "        return 'car related'\n",
    "    elif 'real' in value:\n",
    "        return 'housing related'\n",
    "    elif 'hous' in value:\n",
    "        return 'housing related'\n",
    "    else:\n",
    "        return 'education related'\n",
    "    "
   ]
  },
  {
   "cell_type": "code",
   "execution_count": 62,
   "metadata": {},
   "outputs": [
    {
     "name": "stdout",
     "output_type": "stream",
     "text": [
      "housing related      8252\n",
      "education related    6539\n",
      "car related          4295\n",
      "wedding related      2322\n",
      "Name: purpose_group, dtype: int64\n"
     ]
    }
   ],
   "source": [
    "# Create a column with the categories and count the values for them\n",
    "\n",
    "df['purpose_group'] = df['purpose'].apply(category)\n",
    "print(df['purpose_group'].value_counts())"
   ]
  },
  {
   "cell_type": "markdown",
   "metadata": {},
   "source": [
    "Let's make categories based on the number of children"
   ]
  },
  {
   "cell_type": "code",
   "execution_count": 63,
   "metadata": {},
   "outputs": [
    {
     "name": "stdout",
     "output_type": "stream",
     "text": [
      "0        1\n",
      "1        1\n",
      "2        0\n",
      "3        3\n",
      "4        0\n",
      "        ..\n",
      "21403    1\n",
      "21404    0\n",
      "21405    1\n",
      "21406    3\n",
      "21407    2\n",
      "Name: children, Length: 21408, dtype: int64\n"
     ]
    }
   ],
   "source": [
    "# Looking through all the numerical data in your selected column for categorization\n",
    "print( df['children'])"
   ]
  },
  {
   "cell_type": "code",
   "execution_count": 64,
   "metadata": {},
   "outputs": [
    {
     "name": "stdout",
     "output_type": "stream",
     "text": [
      "[ 1  0  3  2  4 20  5]\n"
     ]
    }
   ],
   "source": [
    "# Getting summary statistics for the column\n",
    "print(df['children'].unique())"
   ]
  },
  {
   "cell_type": "markdown",
   "metadata": {},
   "source": [
    "A small family will have at most 2 children, an average family has 4 children at most and anything more than that is a large family."
   ]
  },
  {
   "cell_type": "code",
   "execution_count": 65,
   "metadata": {},
   "outputs": [],
   "source": [
    "# Creating function for categorizing into different numerical groups based on ranges\n",
    "\n",
    "def numeric_category(value):\n",
    "    if 0 < value <= 2:\n",
    "        return 'small family'\n",
    "    elif value == 0:\n",
    "        return 'no children'\n",
    "    elif 2 < value <= 4:\n",
    "        return 'average family'\n",
    "    else:\n",
    "        return 'big family'"
   ]
  },
  {
   "cell_type": "code",
   "execution_count": 66,
   "metadata": {},
   "outputs": [],
   "source": [
    "# Creating column with categories\n",
    "df['family_type'] = df['children'].apply(numeric_category)"
   ]
  },
  {
   "cell_type": "code",
   "execution_count": 67,
   "metadata": {
    "scrolled": true
   },
   "outputs": [
    {
     "name": "stdout",
     "output_type": "stream",
     "text": [
      "no children       14091\n",
      "small family       6861\n",
      "average family      371\n",
      "big family           85\n",
      "Name: family_type, dtype: int64\n"
     ]
    }
   ],
   "source": [
    "# Count each categories values to see the distribution\n",
    "print(df['family_type'].value_counts())"
   ]
  },
  {
   "cell_type": "markdown",
   "metadata": {},
   "source": [
    "<div class=\"alert alert-block alert-success\">\n",
    "<b>Reviewer's comment v1</b> Good job with categorization"
   ]
  },
  {
   "cell_type": "markdown",
   "metadata": {},
   "source": [
    "## Checking the Hypotheses\n"
   ]
  },
  {
   "cell_type": "markdown",
   "metadata": {},
   "source": [
    "**Is there a correlation between having children and paying back on time?**"
   ]
  },
  {
   "cell_type": "code",
   "execution_count": 68,
   "metadata": {},
   "outputs": [
    {
     "name": "stdout",
     "output_type": "stream",
     "text": [
      "          debt\n",
      "children      \n",
      "0         1063\n",
      "1          445\n",
      "2          194\n",
      "3           27\n",
      "4            4\n",
      "5            0\n",
      "20           8\n",
      "Percentage of families with no children defaults : 4.965%\n",
      "Percentage of small family defaults : 2.985%\n",
      "Percentage of average family defaults : 0.145%\n",
      "Percentage of big family defaults : 0.037%\n"
     ]
    }
   ],
   "source": [
    "# Check the children data and paying back on time\n",
    "print(df.pivot_table(index= 'children', values= 'debt', aggfunc='sum'))\n",
    "\n",
    "# Calculating default-rate based on the number of children\n",
    "no_children_default = df[(df['family_type'] == 'no children') & (df['debt'] == 1)]\n",
    "no_children_default = no_children_default['family_type'].count() / df['family_type'].count()\n",
    "\n",
    "small_family_default = df[(df['family_type'] == 'small family') & (df['debt'] == 1)]\n",
    "small_family_default = small_family_default['family_type'].count() / df['family_type'].count()\n",
    "\n",
    "average_family_default = df[(df['family_type'] == 'average family') & (df['debt'] == 1)]\n",
    "average_family_default = average_family_default['family_type'].count() / df['family_type'].count()\n",
    "\n",
    "big_family_default = df[(df['family_type'] == 'big family') & (df['debt'] == 1)]\n",
    "big_family_default = big_family_default['family_type'].count() / df['family_type'].count()\n",
    "\n",
    "print(f'Percentage of families with no children defaults : {no_children_default:.3%}')\n",
    "\n",
    "print(f'Percentage of small family defaults : {small_family_default:.3%}')\n",
    "\n",
    "print(f'Percentage of average family defaults : {average_family_default:.3%}')\n",
    "\n",
    "print(f'Percentage of big family defaults : {big_family_default:.3%}')\n",
    "\n",
    "\n"
   ]
  },
  {
   "cell_type": "markdown",
   "metadata": {},
   "source": [
    "**Conclusion**\n",
    "\n",
    "From our analysis we can see that the customers with less children have the highest default rates. So the more the children, the less the chances of them defaulting on their loans.\n"
   ]
  },
  {
   "cell_type": "markdown",
   "metadata": {},
   "source": [
    "<div class=\"alert alert-block alert-warning\">\n",
    "<b>Reviewer's comment v1</b> Great that you work with pivot tables! If we add aggregation by mean, we can simply find share:\n",
    "    \n",
    "        df.pivot_table(index= 'children', values= 'debt', aggfunc=['count', 'sum', 'mean'])\n",
    "        "
   ]
  },
  {
   "cell_type": "markdown",
   "metadata": {},
   "source": [
    "**Is there a correlation between family status and paying back on time?**"
   ]
  },
  {
   "cell_type": "code",
   "execution_count": 69,
   "metadata": {},
   "outputs": [
    {
     "name": "stdout",
     "output_type": "stream",
     "text": [
      "                   debt\n",
      "family_status          \n",
      "civil partnership   389\n",
      "divorced             85\n",
      "married             930\n",
      "unmarried           274\n",
      "widow / widower      63\n",
      "Percentage of civil partnerships defaults : 1.817%\n",
      "Percentage of divorced defaults : 0.397%\n",
      "Percentage of married defaults : 4.344%\n",
      "Percentage of unmarried defaults : 1.280%\n",
      "Percentage of widow / widower defaults : 0.294%\n"
     ]
    }
   ],
   "source": [
    "# Check the family status data and paying back on time\n",
    "\n",
    "print(df.pivot_table(index= 'family_status', values= 'debt', aggfunc='sum'))\n",
    "\n",
    "\n",
    "# Calculating default-rate based on family status\n",
    "\n",
    "civil_partnership_default = df[(df['family_status'] == 'civil partnership') & (df['debt'] == 1)]\n",
    "civil_partnership_default = civil_partnership_default['family_status'].count() / df['family_status'].count()\n",
    "\n",
    "divorced_default = df[(df['family_status'] == 'divorced') & (df['debt'] == 1)]\n",
    "divorced_default = divorced_default['family_status'].count() / df['family_status'].count()\n",
    "\n",
    "married_default = df[(df['family_status'] == 'married') & (df['debt'] == 1)]\n",
    "married_default = married_default['family_status'].count() / df['family_status'].count()\n",
    "\n",
    "unmarried_default = df[(df['family_status'] == 'unmarried') & (df['debt'] == 1)]\n",
    "unmarried_default = unmarried_default['family_status'].count() / df['family_status'].count()\n",
    "\n",
    "widow_widower_default = df[(df['family_status'] == 'widow / widower') & (df['debt'] == 1)]\n",
    "widow_widower_default = widow_widower_default['family_status'].count() / df['family_status'].count()\n",
    "\n",
    "print(f'Percentage of civil partnerships defaults : {civil_partnership_default:.3%}')\n",
    "\n",
    "print(f'Percentage of divorced defaults : {divorced_default:.3%}')\n",
    "\n",
    "print(f'Percentage of married defaults : {married_default:.3%}')\n",
    "\n",
    "print(f'Percentage of unmarried defaults : {unmarried_default:.3%}')\n",
    "\n",
    "print(f'Percentage of widow / widower defaults : {widow_widower_default:.3%}')\n",
    "\n"
   ]
  },
  {
   "cell_type": "markdown",
   "metadata": {},
   "source": [
    "**Conclusion**\n",
    "\n",
    "Based on the results, we can see that married customers are more likely to default on a loan than any other group of people."
   ]
  },
  {
   "cell_type": "markdown",
   "metadata": {},
   "source": [
    "**Is there a correlation between income level and paying back on time?**"
   ]
  },
  {
   "cell_type": "code",
   "execution_count": 70,
   "metadata": {
    "scrolled": true
   },
   "outputs": [
    {
     "name": "stdout",
     "output_type": "stream",
     "text": [
      "                             debt\n",
      "income_type                      \n",
      "business                      376\n",
      "civil servant                  86\n",
      "employee                     1060\n",
      "entrepreneur                    0\n",
      "paternity / maternity leave     1\n",
      "retiree                       216\n",
      "student                         0\n",
      "unemployed                      1\n",
      "unknown                         1\n",
      "Percentage of business income defaults : 1.756%\n",
      "Percentage of civil servant income defaults : 0.402%\n",
      "Percentage of employee income defaults : 4.951%\n",
      "Percentage of entrepreneur income defaults : 0.000%\n",
      "Percentage of leave income defaults : 0.005%\n",
      "Percentage of retiree income defaults : 1.009%\n",
      "Percentage of student income defaults : 0.000%\n",
      "Percentage of unemployed income defaults : 0.005%\n",
      "Percentage of unknown income defaults : 0.005%\n"
     ]
    }
   ],
   "source": [
    "# Check the income level data and paying back on time\n",
    "\n",
    "print(df.pivot_table(index= 'income_type', values= 'debt', aggfunc='sum'))\n",
    "\n",
    "\n",
    "# Calculating default-rate based on income level\n",
    "\n",
    "business_income_default = df[(df['income_type'] == 'business') & (df['debt'] == 1)]\n",
    "business_income_default = business_income_default['income_type'].count() / df['income_type'].count()\n",
    "\n",
    "civil_servant_income_default = df[(df['income_type'] == 'civil servant') & (df['debt'] == 1)]\n",
    "civil_servant_income_default = civil_servant_income_default['income_type'].count() / df['income_type'].count()\n",
    "\n",
    "employee_income_default = df[(df['income_type'] == 'employee') & (df['debt'] == 1)]\n",
    "employee_income_default = employee_income_default['income_type'].count() / df['income_type'].count()\n",
    "\n",
    "entrepreneur_income_default = df[(df['income_type'] == 'entrepreneur') & (df['debt'] == 1)]\n",
    "entrepreneur_income_default = entrepreneur_income_default['income_type'].count() / df['income_type'].count()\n",
    "\n",
    "leave_income_default = df[(df['income_type'] == 'paternity / maternity leave') & (df['debt'] == 1)]\n",
    "leave_income_default = leave_income_default['income_type'].count() / df['income_type'].count()\n",
    "\n",
    "retiree_income_default = df[(df['income_type'] == 'retiree') & (df['debt'] == 1)]\n",
    "retiree_income_default = retiree_income_default['income_type'].count() / df['income_type'].count()\n",
    "\n",
    "student_income_default = df[(df['income_type'] == 'student') & (df['debt'] == 1)]\n",
    "student_income_default = student_income_default['income_type'].count() / df['income_type'].count()\n",
    "\n",
    "unemployed_income_default = df[(df['income_type'] == 'unemployed') & (df['debt'] == 1)]\n",
    "unemployed_income_default = unemployed_income_default['income_type'].count() / df['income_type'].count()\n",
    "\n",
    "unknown_income_default = df[(df['income_type'] == 'unknown') & (df['debt'] == 1)]\n",
    "unknown_income_default = unknown_income_default['income_type'].count() / df['income_type'].count()\n",
    "\n",
    "\n",
    "print(f'Percentage of business income defaults : {business_income_default:.3%}')\n",
    "\n",
    "print(f'Percentage of civil servant income defaults : {civil_servant_income_default:.3%}')\n",
    "\n",
    "print(f'Percentage of employee income defaults : {employee_income_default:.3%}')\n",
    "\n",
    "print(f'Percentage of entrepreneur income defaults : {entrepreneur_income_default:.3%}')\n",
    "\n",
    "print(f'Percentage of leave income defaults : {leave_income_default:.3%}')\n",
    "\n",
    "print(f'Percentage of retiree income defaults : {retiree_income_default:.3%}')\n",
    "\n",
    "print(f'Percentage of student income defaults : {student_income_default:.3%}')\n",
    "\n",
    "print(f'Percentage of unemployed income defaults : {unemployed_income_default:.3%}')\n",
    "\n",
    "print(f'Percentage of unknown income defaults : {unknown_income_default:.3%}')"
   ]
  },
  {
   "cell_type": "markdown",
   "metadata": {},
   "source": [
    "**Conclusion**\n",
    "\n",
    "From the above data, we can conclued that employees are far more likely to default on a loan than any other group of individuals."
   ]
  },
  {
   "cell_type": "markdown",
   "metadata": {},
   "source": [
    "**How does credit purpose affect the default rate?**"
   ]
  },
  {
   "cell_type": "code",
   "execution_count": 71,
   "metadata": {},
   "outputs": [
    {
     "name": "stdout",
     "output_type": "stream",
     "text": [
      "                   debt\n",
      "purpose_group          \n",
      "car related         402\n",
      "education related   561\n",
      "housing related     592\n",
      "wedding related     186\n",
      "Percentage of car related defaults : 1.878%\n",
      "Percentage of education related defaults : 2.621%\n",
      "Percentage of housing related defaults : 2.765%\n",
      "Percentage of wedding related defaults : 0.869%\n"
     ]
    }
   ],
   "source": [
    "# Check the percentages for default rate for each credit purpose and analyze them\n",
    "car_related_default = df[(df['purpose_group'] == 'car related') & (df['debt'] == 1)]\n",
    "car_related_default = car_related_default['purpose_group'].count() / df['purpose_group'].count()\n",
    "\n",
    "education_related_default = df[(df['purpose_group'] == 'education related') & (df['debt'] == 1)]\n",
    "education_related_default = education_related_default['purpose_group'].count() / df['purpose_group'].count()\n",
    "\n",
    "housing_related_default = df[(df['purpose_group'] == 'housing related') & (df['debt'] == 1)]\n",
    "housing_related_default = housing_related_default['purpose_group'].count() / df['purpose_group'].count()\n",
    "\n",
    "wedding_related_default = df[(df['purpose_group'] == 'wedding related') & (df['debt'] == 1)]\n",
    "wedding_related_default = wedding_related_default['purpose_group'].count() / df['purpose_group'].count()\n",
    "\n",
    "print(df.pivot_table(index= 'purpose_group', values= 'debt', aggfunc='sum'))\n",
    "\n",
    "\n",
    "print(f'Percentage of car related defaults : {car_related_default:.3%}')\n",
    "\n",
    "print(f'Percentage of education related defaults : {education_related_default:.3%}')\n",
    "\n",
    "print(f'Percentage of housing related defaults : {housing_related_default:.3%}')\n",
    "\n",
    "print(f'Percentage of wedding related defaults : {wedding_related_default:.3%}')\n",
    "\n",
    "\n"
   ]
  },
  {
   "cell_type": "markdown",
   "metadata": {},
   "source": [
    "**Conclusion**\n",
    "\n",
    "From our analysis, we can conclude that customers who take loans for wedding related purposes are more likely to pay back."
   ]
  },
  {
   "cell_type": "markdown",
   "metadata": {},
   "source": [
    "<div class=\"alert alert-success\">\n",
    "<b>Reviewer's comment v1</b> Well done"
   ]
  },
  {
   "cell_type": "markdown",
   "metadata": {},
   "source": [
    "# General Conclusion \n",
    "In summary, the dataset contained information about different customers seeking loans. 10% of the data in `days_employed` and `total_income` columns were missing. As a matter of fact, the rows with missing values were the same in both columns which led us to believe that they could be from people who were unemployed. Also 70% of the data in `days_employed` column was negative and so had to be changed to positive as there is no such thing as negative days employed.\n",
    "\n",
    "As for the missing data, the data was split into 2 groups, active workers and pensioners using the national retirment age of 65 as the determinant for this split. The rows were then filled with the median value of the columns which they fell under. The median was chosen as the value to fill because these rows had outliers evidenced by their non-coherent means.\n",
    "\n",
    "From our analysis, the smaller the family, the more likelihood that they would default on their loans. This was the most consistent conclusion. As for other parameters, higher default rates were associated with married individuals and employees. On the other hand, customers who took loans for wedding related reasons were shown to have a higher tendency to pay back.\n",
    "\n",
    "And so with this, we can make our credit score system using a scale of 5 for each correlation. The higher the repayment rate in each group, the more the points.\n",
    "\n"
   ]
  },
  {
   "cell_type": "markdown",
   "metadata": {},
   "source": [
    "<div class=\"alert alert-success\">\n",
    "<b>Reviewer's comment v1:</b>\n",
    "    \n",
    "Thanks for the final conclusion! You conducted great research."
   ]
  },
  {
   "cell_type": "code",
   "execution_count": null,
   "metadata": {},
   "outputs": [],
   "source": []
  }
 ],
 "metadata": {
  "ExecuteTimeLog": [
   {
    "duration": 2741,
    "start_time": "2021-10-21T01:08:49.480Z"
   },
   {
    "duration": 52,
    "start_time": "2021-10-21T01:08:53.315Z"
   },
   {
    "duration": 49,
    "start_time": "2021-10-21T01:08:57.432Z"
   },
   {
    "duration": 70,
    "start_time": "2021-10-21T01:09:07.706Z"
   },
   {
    "duration": 649,
    "start_time": "2022-02-19T15:04:12.745Z"
   },
   {
    "duration": 12,
    "start_time": "2022-02-19T15:04:37.452Z"
   },
   {
    "duration": 13,
    "start_time": "2022-02-19T17:05:42.969Z"
   },
   {
    "duration": 10,
    "start_time": "2022-02-19T17:06:07.391Z"
   },
   {
    "duration": 13,
    "start_time": "2022-02-19T17:07:14.892Z"
   },
   {
    "duration": 5,
    "start_time": "2022-02-19T17:09:07.529Z"
   },
   {
    "duration": 7,
    "start_time": "2022-02-19T17:10:18.431Z"
   },
   {
    "duration": 6,
    "start_time": "2022-02-19T17:11:57.933Z"
   },
   {
    "duration": 543,
    "start_time": "2022-02-19T17:12:20.341Z"
   },
   {
    "duration": 7,
    "start_time": "2022-02-19T17:12:37.732Z"
   },
   {
    "duration": 271,
    "start_time": "2022-02-19T17:12:53.577Z"
   },
   {
    "duration": 4,
    "start_time": "2022-02-19T17:14:27.142Z"
   },
   {
    "duration": 6,
    "start_time": "2022-02-19T17:15:12.125Z"
   },
   {
    "duration": 13,
    "start_time": "2022-02-19T17:15:27.881Z"
   },
   {
    "duration": 7457,
    "start_time": "2022-02-19T17:16:13.972Z"
   },
   {
    "duration": 7,
    "start_time": "2022-02-19T17:16:33.825Z"
   },
   {
    "duration": 14,
    "start_time": "2022-02-19T17:25:18.129Z"
   },
   {
    "duration": 302,
    "start_time": "2022-02-20T05:17:28.428Z"
   },
   {
    "duration": 630,
    "start_time": "2022-02-20T05:17:47.845Z"
   },
   {
    "duration": 13,
    "start_time": "2022-02-20T05:17:53.212Z"
   },
   {
    "duration": 8,
    "start_time": "2022-02-20T05:18:00.203Z"
   },
   {
    "duration": 12,
    "start_time": "2022-02-20T05:18:04.448Z"
   },
   {
    "duration": 14,
    "start_time": "2022-02-20T05:18:08.529Z"
   },
   {
    "duration": 7,
    "start_time": "2022-02-20T05:18:13.017Z"
   },
   {
    "duration": 318,
    "start_time": "2022-02-20T05:19:33.767Z"
   },
   {
    "duration": 9,
    "start_time": "2022-02-20T05:20:38.530Z"
   },
   {
    "duration": 333,
    "start_time": "2022-02-20T05:21:14.541Z"
   },
   {
    "duration": 274,
    "start_time": "2022-02-20T05:22:56.240Z"
   },
   {
    "duration": 261,
    "start_time": "2022-02-20T05:23:35.564Z"
   },
   {
    "duration": 275,
    "start_time": "2022-02-20T05:24:13.895Z"
   },
   {
    "duration": 9,
    "start_time": "2022-02-20T05:32:03.167Z"
   },
   {
    "duration": 8,
    "start_time": "2022-02-20T05:32:54.633Z"
   },
   {
    "duration": 8,
    "start_time": "2022-02-20T05:53:08.862Z"
   },
   {
    "duration": 9,
    "start_time": "2022-02-20T05:53:19.406Z"
   },
   {
    "duration": 4,
    "start_time": "2022-02-20T05:54:47.802Z"
   },
   {
    "duration": 11,
    "start_time": "2022-02-20T05:55:26.058Z"
   },
   {
    "duration": 88,
    "start_time": "2022-02-20T05:59:43.226Z"
   },
   {
    "duration": 10,
    "start_time": "2022-02-20T06:00:41.400Z"
   },
   {
    "duration": 11,
    "start_time": "2022-02-20T06:01:06.948Z"
   },
   {
    "duration": 10,
    "start_time": "2022-02-20T06:01:39.763Z"
   },
   {
    "duration": 11,
    "start_time": "2022-02-20T06:04:32.412Z"
   },
   {
    "duration": 13,
    "start_time": "2022-02-20T06:05:28.410Z"
   },
   {
    "duration": 8,
    "start_time": "2022-02-20T06:07:17.766Z"
   },
   {
    "duration": 834,
    "start_time": "2022-02-20T21:07:06.806Z"
   },
   {
    "duration": 14,
    "start_time": "2022-02-20T21:07:07.642Z"
   },
   {
    "duration": 16,
    "start_time": "2022-02-20T21:07:07.658Z"
   },
   {
    "duration": 16,
    "start_time": "2022-02-20T21:07:07.676Z"
   },
   {
    "duration": 24,
    "start_time": "2022-02-20T21:07:07.694Z"
   },
   {
    "duration": 10,
    "start_time": "2022-02-20T21:07:07.720Z"
   },
   {
    "duration": 15,
    "start_time": "2022-02-20T21:07:07.733Z"
   },
   {
    "duration": 3,
    "start_time": "2022-02-20T21:07:07.752Z"
   },
   {
    "duration": 8,
    "start_time": "2022-02-20T21:07:07.757Z"
   },
   {
    "duration": 8,
    "start_time": "2022-02-20T21:07:07.767Z"
   },
   {
    "duration": 9,
    "start_time": "2022-02-20T21:07:07.777Z"
   },
   {
    "duration": 6,
    "start_time": "2022-02-20T21:07:07.788Z"
   },
   {
    "duration": 7,
    "start_time": "2022-02-20T21:07:07.795Z"
   },
   {
    "duration": 20,
    "start_time": "2022-02-20T21:07:07.803Z"
   },
   {
    "duration": 20,
    "start_time": "2022-02-20T21:07:07.826Z"
   },
   {
    "duration": 9,
    "start_time": "2022-02-20T21:07:07.848Z"
   },
   {
    "duration": 11,
    "start_time": "2022-02-20T21:07:07.859Z"
   },
   {
    "duration": 15,
    "start_time": "2022-02-20T21:07:07.872Z"
   },
   {
    "duration": 7,
    "start_time": "2022-02-20T21:07:07.889Z"
   },
   {
    "duration": 9,
    "start_time": "2022-02-20T21:07:07.898Z"
   },
   {
    "duration": 8,
    "start_time": "2022-02-20T21:07:07.909Z"
   },
   {
    "duration": 20,
    "start_time": "2022-02-20T21:07:07.920Z"
   },
   {
    "duration": 3,
    "start_time": "2022-02-20T21:07:07.945Z"
   },
   {
    "duration": 11,
    "start_time": "2022-02-20T21:07:07.951Z"
   },
   {
    "duration": 7,
    "start_time": "2022-02-20T21:07:07.964Z"
   },
   {
    "duration": 8,
    "start_time": "2022-02-20T21:07:07.973Z"
   },
   {
    "duration": 12,
    "start_time": "2022-02-20T21:07:07.983Z"
   },
   {
    "duration": 8,
    "start_time": "2022-02-20T21:07:07.996Z"
   },
   {
    "duration": 8,
    "start_time": "2022-02-20T21:07:08.006Z"
   },
   {
    "duration": 9,
    "start_time": "2022-02-20T21:07:08.015Z"
   },
   {
    "duration": 15,
    "start_time": "2022-02-20T21:07:08.027Z"
   },
   {
    "duration": 6,
    "start_time": "2022-02-20T21:07:08.045Z"
   },
   {
    "duration": 7,
    "start_time": "2022-02-20T21:07:08.052Z"
   },
   {
    "duration": 4,
    "start_time": "2022-02-20T21:07:08.061Z"
   },
   {
    "duration": 6,
    "start_time": "2022-02-20T21:07:08.067Z"
   },
   {
    "duration": 6,
    "start_time": "2022-02-20T21:07:08.075Z"
   },
   {
    "duration": 7,
    "start_time": "2022-02-20T21:07:08.083Z"
   },
   {
    "duration": 5,
    "start_time": "2022-02-20T21:07:08.092Z"
   },
   {
    "duration": 8,
    "start_time": "2022-02-20T21:07:08.098Z"
   },
   {
    "duration": 8,
    "start_time": "2022-02-20T21:07:08.108Z"
   },
   {
    "duration": 21,
    "start_time": "2022-02-20T21:07:08.119Z"
   },
   {
    "duration": 16,
    "start_time": "2022-02-20T21:07:08.142Z"
   },
   {
    "duration": 5,
    "start_time": "2022-02-20T21:07:08.160Z"
   },
   {
    "duration": 9,
    "start_time": "2022-02-20T21:07:08.167Z"
   },
   {
    "duration": 8,
    "start_time": "2022-02-20T21:07:08.178Z"
   },
   {
    "duration": 6,
    "start_time": "2022-02-20T21:07:08.188Z"
   },
   {
    "duration": 9,
    "start_time": "2022-02-20T21:07:08.196Z"
   },
   {
    "duration": 7,
    "start_time": "2022-02-20T21:07:08.207Z"
   },
   {
    "duration": 12,
    "start_time": "2022-02-20T21:07:08.216Z"
   },
   {
    "duration": 11,
    "start_time": "2022-02-20T21:07:08.230Z"
   },
   {
    "duration": 11,
    "start_time": "2022-02-20T21:07:08.243Z"
   },
   {
    "duration": 12,
    "start_time": "2022-02-20T21:07:08.255Z"
   },
   {
    "duration": 5,
    "start_time": "2022-02-20T21:07:08.268Z"
   },
   {
    "duration": 14,
    "start_time": "2022-02-20T21:07:08.275Z"
   },
   {
    "duration": 4,
    "start_time": "2022-02-20T21:07:08.291Z"
   },
   {
    "duration": 9,
    "start_time": "2022-02-20T21:07:08.297Z"
   },
   {
    "duration": 10,
    "start_time": "2022-02-20T21:07:08.308Z"
   },
   {
    "duration": 17,
    "start_time": "2022-02-20T21:07:08.320Z"
   },
   {
    "duration": 9,
    "start_time": "2022-02-20T21:07:08.338Z"
   },
   {
    "duration": 7,
    "start_time": "2022-02-20T21:07:08.349Z"
   },
   {
    "duration": 8,
    "start_time": "2022-02-20T21:07:08.357Z"
   },
   {
    "duration": 8,
    "start_time": "2022-02-20T21:07:08.367Z"
   },
   {
    "duration": 11,
    "start_time": "2022-02-20T21:07:08.376Z"
   },
   {
    "duration": 6,
    "start_time": "2022-02-20T21:07:08.389Z"
   },
   {
    "duration": 9,
    "start_time": "2022-02-20T21:07:08.396Z"
   },
   {
    "duration": 8,
    "start_time": "2022-02-20T21:07:08.407Z"
   },
   {
    "duration": 31,
    "start_time": "2022-02-20T21:07:08.417Z"
   },
   {
    "duration": 8,
    "start_time": "2022-02-20T21:07:08.454Z"
   },
   {
    "duration": 12,
    "start_time": "2022-02-20T21:07:08.463Z"
   },
   {
    "duration": 5,
    "start_time": "2022-02-20T21:07:08.477Z"
   },
   {
    "duration": 6,
    "start_time": "2022-02-20T21:07:08.484Z"
   },
   {
    "duration": 320,
    "start_time": "2022-02-20T21:16:47.053Z"
   },
   {
    "duration": 18,
    "start_time": "2022-02-20T21:17:02.655Z"
   },
   {
    "duration": 11,
    "start_time": "2022-02-20T21:23:40.939Z"
   },
   {
    "duration": 16,
    "start_time": "2022-02-20T21:25:06.729Z"
   },
   {
    "duration": 33,
    "start_time": "2022-02-20T21:25:54.913Z"
   },
   {
    "duration": 23,
    "start_time": "2022-02-20T21:27:32.078Z"
   },
   {
    "duration": 13,
    "start_time": "2022-02-20T21:29:39.751Z"
   },
   {
    "duration": 15,
    "start_time": "2022-02-20T21:30:26.909Z"
   },
   {
    "duration": 12,
    "start_time": "2022-02-20T21:31:32.545Z"
   },
   {
    "duration": 138,
    "start_time": "2022-02-20T21:32:16.043Z"
   },
   {
    "duration": 81,
    "start_time": "2022-02-20T21:32:26.877Z"
   },
   {
    "duration": 13,
    "start_time": "2022-02-20T21:32:45.913Z"
   },
   {
    "duration": 27,
    "start_time": "2022-02-20T21:33:15.847Z"
   },
   {
    "duration": 27,
    "start_time": "2022-02-20T21:33:33.556Z"
   },
   {
    "duration": 23,
    "start_time": "2022-02-20T21:34:50.648Z"
   },
   {
    "duration": 22,
    "start_time": "2022-02-20T21:37:45.892Z"
   },
   {
    "duration": 650,
    "start_time": "2022-02-20T21:39:34.473Z"
   },
   {
    "duration": 14,
    "start_time": "2022-02-20T21:39:35.125Z"
   },
   {
    "duration": 11,
    "start_time": "2022-02-20T21:39:35.141Z"
   },
   {
    "duration": 14,
    "start_time": "2022-02-20T21:39:35.154Z"
   },
   {
    "duration": 13,
    "start_time": "2022-02-20T21:39:35.170Z"
   },
   {
    "duration": 38,
    "start_time": "2022-02-20T21:39:35.185Z"
   },
   {
    "duration": 9,
    "start_time": "2022-02-20T21:39:35.225Z"
   },
   {
    "duration": 29,
    "start_time": "2022-02-20T21:39:35.237Z"
   },
   {
    "duration": 2,
    "start_time": "2022-02-20T21:39:35.269Z"
   },
   {
    "duration": 5,
    "start_time": "2022-02-20T21:39:35.273Z"
   },
   {
    "duration": 5,
    "start_time": "2022-02-20T21:39:35.280Z"
   },
   {
    "duration": 31,
    "start_time": "2022-02-20T21:39:35.287Z"
   },
   {
    "duration": 3,
    "start_time": "2022-02-20T21:39:35.320Z"
   },
   {
    "duration": 8,
    "start_time": "2022-02-20T21:39:35.325Z"
   },
   {
    "duration": 11,
    "start_time": "2022-02-20T21:39:35.335Z"
   },
   {
    "duration": 7,
    "start_time": "2022-02-20T21:39:35.348Z"
   },
   {
    "duration": 6,
    "start_time": "2022-02-20T21:39:35.357Z"
   },
   {
    "duration": 8,
    "start_time": "2022-02-20T21:39:35.365Z"
   },
   {
    "duration": 11,
    "start_time": "2022-02-20T21:39:35.375Z"
   },
   {
    "duration": 10,
    "start_time": "2022-02-20T21:39:35.388Z"
   },
   {
    "duration": 12,
    "start_time": "2022-02-20T21:39:35.400Z"
   },
   {
    "duration": 5,
    "start_time": "2022-02-20T21:39:35.414Z"
   },
   {
    "duration": 3,
    "start_time": "2022-02-20T21:39:35.424Z"
   },
   {
    "duration": 5,
    "start_time": "2022-02-20T21:39:35.430Z"
   },
   {
    "duration": 6,
    "start_time": "2022-02-20T21:39:35.436Z"
   },
   {
    "duration": 9,
    "start_time": "2022-02-20T21:39:35.443Z"
   },
   {
    "duration": 8,
    "start_time": "2022-02-20T21:39:35.454Z"
   },
   {
    "duration": 6,
    "start_time": "2022-02-20T21:39:35.464Z"
   },
   {
    "duration": 7,
    "start_time": "2022-02-20T21:39:35.471Z"
   },
   {
    "duration": 7,
    "start_time": "2022-02-20T21:39:35.479Z"
   },
   {
    "duration": 4,
    "start_time": "2022-02-20T21:39:35.488Z"
   },
   {
    "duration": 9,
    "start_time": "2022-02-20T21:39:35.494Z"
   },
   {
    "duration": 7,
    "start_time": "2022-02-20T21:39:35.504Z"
   },
   {
    "duration": 2,
    "start_time": "2022-02-20T21:39:35.518Z"
   },
   {
    "duration": 10,
    "start_time": "2022-02-20T21:39:35.522Z"
   },
   {
    "duration": 9,
    "start_time": "2022-02-20T21:39:35.534Z"
   },
   {
    "duration": 12,
    "start_time": "2022-02-20T21:39:35.545Z"
   },
   {
    "duration": 16,
    "start_time": "2022-02-20T21:39:35.559Z"
   },
   {
    "duration": 8,
    "start_time": "2022-02-20T21:39:35.577Z"
   },
   {
    "duration": 8,
    "start_time": "2022-02-20T21:39:35.587Z"
   },
   {
    "duration": 7,
    "start_time": "2022-02-20T21:39:35.596Z"
   },
   {
    "duration": 6,
    "start_time": "2022-02-20T21:39:35.605Z"
   },
   {
    "duration": 5,
    "start_time": "2022-02-20T21:39:35.613Z"
   },
   {
    "duration": 9,
    "start_time": "2022-02-20T21:39:35.620Z"
   },
   {
    "duration": 6,
    "start_time": "2022-02-20T21:39:35.630Z"
   },
   {
    "duration": 9,
    "start_time": "2022-02-20T21:39:35.638Z"
   },
   {
    "duration": 11,
    "start_time": "2022-02-20T21:39:35.649Z"
   },
   {
    "duration": 8,
    "start_time": "2022-02-20T21:39:35.662Z"
   },
   {
    "duration": 9,
    "start_time": "2022-02-20T21:39:35.672Z"
   },
   {
    "duration": 9,
    "start_time": "2022-02-20T21:39:35.683Z"
   },
   {
    "duration": 10,
    "start_time": "2022-02-20T21:39:35.693Z"
   },
   {
    "duration": 7,
    "start_time": "2022-02-20T21:39:35.705Z"
   },
   {
    "duration": 10,
    "start_time": "2022-02-20T21:39:35.714Z"
   },
   {
    "duration": 5,
    "start_time": "2022-02-20T21:39:35.726Z"
   },
   {
    "duration": 6,
    "start_time": "2022-02-20T21:39:35.733Z"
   },
   {
    "duration": 5,
    "start_time": "2022-02-20T21:39:35.741Z"
   },
   {
    "duration": 8,
    "start_time": "2022-02-20T21:39:35.748Z"
   },
   {
    "duration": 6,
    "start_time": "2022-02-20T21:39:35.758Z"
   },
   {
    "duration": 7,
    "start_time": "2022-02-20T21:39:35.766Z"
   },
   {
    "duration": 7,
    "start_time": "2022-02-20T21:39:35.775Z"
   },
   {
    "duration": 9,
    "start_time": "2022-02-20T21:39:35.784Z"
   },
   {
    "duration": 10,
    "start_time": "2022-02-20T21:39:35.795Z"
   },
   {
    "duration": 8,
    "start_time": "2022-02-20T21:39:35.807Z"
   },
   {
    "duration": 5,
    "start_time": "2022-02-20T21:39:35.817Z"
   },
   {
    "duration": 6,
    "start_time": "2022-02-20T21:39:35.824Z"
   },
   {
    "duration": 6,
    "start_time": "2022-02-20T21:39:35.831Z"
   },
   {
    "duration": 8,
    "start_time": "2022-02-20T21:39:35.839Z"
   },
   {
    "duration": 5,
    "start_time": "2022-02-20T21:39:35.851Z"
   },
   {
    "duration": 6,
    "start_time": "2022-02-20T21:39:35.858Z"
   },
   {
    "duration": 6,
    "start_time": "2022-02-20T21:39:35.865Z"
   },
   {
    "duration": 7,
    "start_time": "2022-02-20T21:39:35.873Z"
   },
   {
    "duration": 378,
    "start_time": "2022-02-20T21:40:53.454Z"
   },
   {
    "duration": 19,
    "start_time": "2022-02-20T21:41:46.159Z"
   },
   {
    "duration": 19,
    "start_time": "2022-02-20T21:42:52.160Z"
   },
   {
    "duration": 20,
    "start_time": "2022-02-20T21:43:18.468Z"
   },
   {
    "duration": 23,
    "start_time": "2022-02-20T21:47:04.322Z"
   },
   {
    "duration": 696,
    "start_time": "2022-02-20T22:54:20.506Z"
   },
   {
    "duration": 13,
    "start_time": "2022-02-20T22:54:21.204Z"
   },
   {
    "duration": 9,
    "start_time": "2022-02-20T22:54:21.219Z"
   },
   {
    "duration": 12,
    "start_time": "2022-02-20T22:54:21.229Z"
   },
   {
    "duration": 12,
    "start_time": "2022-02-20T22:54:21.242Z"
   },
   {
    "duration": 7,
    "start_time": "2022-02-20T22:54:21.256Z"
   },
   {
    "duration": 12,
    "start_time": "2022-02-20T22:54:21.265Z"
   },
   {
    "duration": 51,
    "start_time": "2022-02-20T22:54:21.280Z"
   },
   {
    "duration": 20,
    "start_time": "2022-02-20T22:54:21.334Z"
   },
   {
    "duration": 2,
    "start_time": "2022-02-20T22:54:21.356Z"
   },
   {
    "duration": 5,
    "start_time": "2022-02-20T22:54:21.359Z"
   },
   {
    "duration": 5,
    "start_time": "2022-02-20T22:54:21.366Z"
   },
   {
    "duration": 5,
    "start_time": "2022-02-20T22:54:21.372Z"
   },
   {
    "duration": 7,
    "start_time": "2022-02-20T22:54:21.379Z"
   },
   {
    "duration": 31,
    "start_time": "2022-02-20T22:54:21.387Z"
   },
   {
    "duration": 3,
    "start_time": "2022-02-20T22:54:21.420Z"
   },
   {
    "duration": 6,
    "start_time": "2022-02-20T22:54:21.424Z"
   },
   {
    "duration": 7,
    "start_time": "2022-02-20T22:54:21.431Z"
   },
   {
    "duration": 7,
    "start_time": "2022-02-20T22:54:21.439Z"
   },
   {
    "duration": 4,
    "start_time": "2022-02-20T22:54:21.448Z"
   },
   {
    "duration": 5,
    "start_time": "2022-02-20T22:54:21.454Z"
   },
   {
    "duration": 6,
    "start_time": "2022-02-20T22:54:21.460Z"
   },
   {
    "duration": 3,
    "start_time": "2022-02-20T22:54:21.470Z"
   },
   {
    "duration": 4,
    "start_time": "2022-02-20T22:54:21.475Z"
   },
   {
    "duration": 9,
    "start_time": "2022-02-20T22:54:21.481Z"
   },
   {
    "duration": 31,
    "start_time": "2022-02-20T22:54:21.492Z"
   },
   {
    "duration": 13,
    "start_time": "2022-02-20T22:54:21.525Z"
   },
   {
    "duration": 6,
    "start_time": "2022-02-20T22:54:21.540Z"
   },
   {
    "duration": 5,
    "start_time": "2022-02-20T22:54:21.548Z"
   },
   {
    "duration": 5,
    "start_time": "2022-02-20T22:54:21.554Z"
   },
   {
    "duration": 5,
    "start_time": "2022-02-20T22:54:21.561Z"
   },
   {
    "duration": 6,
    "start_time": "2022-02-20T22:54:21.568Z"
   },
   {
    "duration": 5,
    "start_time": "2022-02-20T22:54:21.576Z"
   },
   {
    "duration": 4,
    "start_time": "2022-02-20T22:54:21.583Z"
   },
   {
    "duration": 8,
    "start_time": "2022-02-20T22:54:21.589Z"
   },
   {
    "duration": 5,
    "start_time": "2022-02-20T22:54:21.598Z"
   },
   {
    "duration": 5,
    "start_time": "2022-02-20T22:54:21.605Z"
   },
   {
    "duration": 2,
    "start_time": "2022-02-20T22:54:21.619Z"
   },
   {
    "duration": 4,
    "start_time": "2022-02-20T22:54:21.622Z"
   },
   {
    "duration": 4,
    "start_time": "2022-02-20T22:54:21.628Z"
   },
   {
    "duration": 7,
    "start_time": "2022-02-20T22:54:21.634Z"
   },
   {
    "duration": 5,
    "start_time": "2022-02-20T22:54:21.643Z"
   },
   {
    "duration": 8,
    "start_time": "2022-02-20T22:54:21.650Z"
   },
   {
    "duration": 7,
    "start_time": "2022-02-20T22:54:21.659Z"
   },
   {
    "duration": 5,
    "start_time": "2022-02-20T22:54:21.668Z"
   },
   {
    "duration": 7,
    "start_time": "2022-02-20T22:54:21.674Z"
   },
   {
    "duration": 9,
    "start_time": "2022-02-20T22:54:21.682Z"
   },
   {
    "duration": 11,
    "start_time": "2022-02-20T22:54:21.693Z"
   },
   {
    "duration": 5,
    "start_time": "2022-02-20T22:54:21.706Z"
   },
   {
    "duration": 2,
    "start_time": "2022-02-20T22:54:21.718Z"
   },
   {
    "duration": 5,
    "start_time": "2022-02-20T22:54:21.723Z"
   },
   {
    "duration": 7,
    "start_time": "2022-02-20T22:54:21.729Z"
   },
   {
    "duration": 6,
    "start_time": "2022-02-20T22:54:21.737Z"
   },
   {
    "duration": 4,
    "start_time": "2022-02-20T22:54:21.745Z"
   },
   {
    "duration": 4,
    "start_time": "2022-02-20T22:54:21.751Z"
   },
   {
    "duration": 6,
    "start_time": "2022-02-20T22:54:21.756Z"
   },
   {
    "duration": 9,
    "start_time": "2022-02-20T22:54:21.763Z"
   },
   {
    "duration": 7,
    "start_time": "2022-02-20T22:54:21.773Z"
   },
   {
    "duration": 9,
    "start_time": "2022-02-20T22:54:21.782Z"
   },
   {
    "duration": 6,
    "start_time": "2022-02-20T22:54:21.792Z"
   },
   {
    "duration": 5,
    "start_time": "2022-02-20T22:54:21.799Z"
   },
   {
    "duration": 12,
    "start_time": "2022-02-20T22:54:21.806Z"
   },
   {
    "duration": 2,
    "start_time": "2022-02-20T22:54:21.820Z"
   },
   {
    "duration": 7,
    "start_time": "2022-02-20T22:54:21.824Z"
   },
   {
    "duration": 7,
    "start_time": "2022-02-20T22:54:21.833Z"
   },
   {
    "duration": 12,
    "start_time": "2022-02-20T22:54:21.842Z"
   },
   {
    "duration": 7,
    "start_time": "2022-02-20T22:54:21.856Z"
   },
   {
    "duration": 3,
    "start_time": "2022-02-20T22:54:21.867Z"
   },
   {
    "duration": 5,
    "start_time": "2022-02-20T22:54:21.872Z"
   },
   {
    "duration": 5,
    "start_time": "2022-02-20T22:54:21.879Z"
   },
   {
    "duration": 7,
    "start_time": "2022-02-20T22:54:21.885Z"
   },
   {
    "duration": 4,
    "start_time": "2022-02-20T23:06:40.440Z"
   },
   {
    "duration": 4,
    "start_time": "2022-02-20T23:06:56.825Z"
   },
   {
    "duration": 20,
    "start_time": "2022-02-20T23:08:32.366Z"
   },
   {
    "duration": 7,
    "start_time": "2022-02-20T23:09:27.311Z"
   },
   {
    "duration": 8,
    "start_time": "2022-02-20T23:09:41.745Z"
   },
   {
    "duration": 375,
    "start_time": "2022-02-20T23:11:35.641Z"
   },
   {
    "duration": 272,
    "start_time": "2022-02-20T23:15:19.551Z"
   },
   {
    "duration": 12,
    "start_time": "2022-02-20T23:15:39.717Z"
   },
   {
    "duration": 11,
    "start_time": "2022-02-20T23:15:55.266Z"
   },
   {
    "duration": 765,
    "start_time": "2022-02-21T13:02:25.505Z"
   },
   {
    "duration": 18,
    "start_time": "2022-02-21T13:02:26.272Z"
   },
   {
    "duration": 24,
    "start_time": "2022-02-21T13:02:26.292Z"
   },
   {
    "duration": 22,
    "start_time": "2022-02-21T13:02:26.319Z"
   },
   {
    "duration": 22,
    "start_time": "2022-02-21T13:02:26.343Z"
   },
   {
    "duration": 16,
    "start_time": "2022-02-21T13:02:26.367Z"
   },
   {
    "duration": 31,
    "start_time": "2022-02-21T13:02:26.386Z"
   },
   {
    "duration": 32,
    "start_time": "2022-02-21T13:02:26.422Z"
   },
   {
    "duration": 58,
    "start_time": "2022-02-21T13:02:26.457Z"
   },
   {
    "duration": 3,
    "start_time": "2022-02-21T13:02:26.518Z"
   },
   {
    "duration": 28,
    "start_time": "2022-02-21T13:02:26.523Z"
   },
   {
    "duration": 41,
    "start_time": "2022-02-21T13:02:26.554Z"
   },
   {
    "duration": 41,
    "start_time": "2022-02-21T13:02:26.598Z"
   },
   {
    "duration": 20,
    "start_time": "2022-02-21T13:02:26.641Z"
   },
   {
    "duration": 30,
    "start_time": "2022-02-21T13:02:26.663Z"
   },
   {
    "duration": 12,
    "start_time": "2022-02-21T13:02:26.696Z"
   },
   {
    "duration": 32,
    "start_time": "2022-02-21T13:02:26.710Z"
   },
   {
    "duration": 11,
    "start_time": "2022-02-21T13:02:26.744Z"
   },
   {
    "duration": 20,
    "start_time": "2022-02-21T13:02:26.758Z"
   },
   {
    "duration": 27,
    "start_time": "2022-02-21T13:02:26.781Z"
   },
   {
    "duration": 18,
    "start_time": "2022-02-21T13:02:26.811Z"
   },
   {
    "duration": 24,
    "start_time": "2022-02-21T13:02:26.831Z"
   },
   {
    "duration": 21,
    "start_time": "2022-02-21T13:02:26.860Z"
   },
   {
    "duration": 11,
    "start_time": "2022-02-21T13:02:26.884Z"
   },
   {
    "duration": 26,
    "start_time": "2022-02-21T13:02:26.897Z"
   },
   {
    "duration": 31,
    "start_time": "2022-02-21T13:02:26.926Z"
   },
   {
    "duration": 23,
    "start_time": "2022-02-21T13:02:26.960Z"
   },
   {
    "duration": 16,
    "start_time": "2022-02-21T13:02:26.985Z"
   },
   {
    "duration": 19,
    "start_time": "2022-02-21T13:02:27.003Z"
   },
   {
    "duration": 31,
    "start_time": "2022-02-21T13:02:27.024Z"
   },
   {
    "duration": 37,
    "start_time": "2022-02-21T13:02:27.057Z"
   },
   {
    "duration": 19,
    "start_time": "2022-02-21T13:02:27.095Z"
   },
   {
    "duration": 42,
    "start_time": "2022-02-21T13:02:27.116Z"
   },
   {
    "duration": 18,
    "start_time": "2022-02-21T13:02:27.161Z"
   },
   {
    "duration": 13,
    "start_time": "2022-02-21T13:02:27.182Z"
   },
   {
    "duration": 19,
    "start_time": "2022-02-21T13:02:27.197Z"
   },
   {
    "duration": 18,
    "start_time": "2022-02-21T13:02:27.219Z"
   },
   {
    "duration": 34,
    "start_time": "2022-02-21T13:02:27.239Z"
   },
   {
    "duration": 15,
    "start_time": "2022-02-21T13:02:27.275Z"
   },
   {
    "duration": 37,
    "start_time": "2022-02-21T13:02:27.292Z"
   },
   {
    "duration": 28,
    "start_time": "2022-02-21T13:02:27.331Z"
   },
   {
    "duration": 22,
    "start_time": "2022-02-21T13:02:27.361Z"
   },
   {
    "duration": 31,
    "start_time": "2022-02-21T13:02:27.385Z"
   },
   {
    "duration": 19,
    "start_time": "2022-02-21T13:02:27.418Z"
   },
   {
    "duration": 31,
    "start_time": "2022-02-21T13:02:27.440Z"
   },
   {
    "duration": 18,
    "start_time": "2022-02-21T13:02:27.473Z"
   },
   {
    "duration": 32,
    "start_time": "2022-02-21T13:02:27.493Z"
   },
   {
    "duration": 23,
    "start_time": "2022-02-21T13:02:27.527Z"
   },
   {
    "duration": 32,
    "start_time": "2022-02-21T13:02:27.552Z"
   },
   {
    "duration": 23,
    "start_time": "2022-02-21T13:02:27.589Z"
   },
   {
    "duration": 42,
    "start_time": "2022-02-21T13:02:27.614Z"
   },
   {
    "duration": 33,
    "start_time": "2022-02-21T13:02:27.658Z"
   },
   {
    "duration": 21,
    "start_time": "2022-02-21T13:02:27.693Z"
   },
   {
    "duration": 10,
    "start_time": "2022-02-21T13:02:27.716Z"
   },
   {
    "duration": 38,
    "start_time": "2022-02-21T13:02:27.728Z"
   },
   {
    "duration": 31,
    "start_time": "2022-02-21T13:02:27.768Z"
   },
   {
    "duration": 39,
    "start_time": "2022-02-21T13:02:27.802Z"
   },
   {
    "duration": 23,
    "start_time": "2022-02-21T13:02:27.844Z"
   },
   {
    "duration": 31,
    "start_time": "2022-02-21T13:02:27.870Z"
   },
   {
    "duration": 20,
    "start_time": "2022-02-21T13:02:27.904Z"
   },
   {
    "duration": 34,
    "start_time": "2022-02-21T13:02:27.927Z"
   },
   {
    "duration": 21,
    "start_time": "2022-02-21T13:02:27.963Z"
   },
   {
    "duration": 44,
    "start_time": "2022-02-21T13:02:27.986Z"
   },
   {
    "duration": 51,
    "start_time": "2022-02-21T13:02:28.033Z"
   },
   {
    "duration": 34,
    "start_time": "2022-02-21T13:02:28.087Z"
   },
   {
    "duration": 19,
    "start_time": "2022-02-21T13:02:28.123Z"
   },
   {
    "duration": 39,
    "start_time": "2022-02-21T13:02:28.144Z"
   },
   {
    "duration": 14,
    "start_time": "2022-02-21T13:02:28.191Z"
   },
   {
    "duration": 20,
    "start_time": "2022-02-21T13:02:28.208Z"
   },
   {
    "duration": 33,
    "start_time": "2022-02-21T13:02:28.231Z"
   },
   {
    "duration": 16,
    "start_time": "2022-02-21T13:02:28.267Z"
   },
   {
    "duration": 6,
    "start_time": "2022-02-21T13:02:49.477Z"
   },
   {
    "duration": 698,
    "start_time": "2022-02-21T13:03:02.543Z"
   },
   {
    "duration": 14,
    "start_time": "2022-02-21T13:03:03.244Z"
   },
   {
    "duration": 31,
    "start_time": "2022-02-21T13:03:03.261Z"
   },
   {
    "duration": 39,
    "start_time": "2022-02-21T13:03:03.295Z"
   },
   {
    "duration": 47,
    "start_time": "2022-02-21T13:03:03.336Z"
   },
   {
    "duration": 15,
    "start_time": "2022-02-21T13:03:03.386Z"
   },
   {
    "duration": 22,
    "start_time": "2022-02-21T13:03:03.404Z"
   },
   {
    "duration": 23,
    "start_time": "2022-02-21T13:03:05.593Z"
   },
   {
    "duration": 26,
    "start_time": "2022-02-21T13:03:05.789Z"
   },
   {
    "duration": 2,
    "start_time": "2022-02-21T13:03:05.818Z"
   },
   {
    "duration": 3,
    "start_time": "2022-02-21T13:03:05.985Z"
   },
   {
    "duration": 16,
    "start_time": "2022-02-21T13:03:05.990Z"
   },
   {
    "duration": 15,
    "start_time": "2022-02-21T13:03:06.195Z"
   },
   {
    "duration": 95,
    "start_time": "2022-02-21T13:03:06.212Z"
   },
   {
    "duration": 8,
    "start_time": "2022-02-21T13:03:06.310Z"
   },
   {
    "duration": 3,
    "start_time": "2022-02-21T13:03:06.401Z"
   },
   {
    "duration": 15,
    "start_time": "2022-02-21T13:03:06.406Z"
   },
   {
    "duration": 12,
    "start_time": "2022-02-21T13:03:06.424Z"
   },
   {
    "duration": 3,
    "start_time": "2022-02-21T13:03:06.594Z"
   },
   {
    "duration": 17,
    "start_time": "2022-02-21T13:03:06.600Z"
   },
   {
    "duration": 21,
    "start_time": "2022-02-21T13:03:06.620Z"
   },
   {
    "duration": 10,
    "start_time": "2022-02-21T13:03:06.644Z"
   },
   {
    "duration": 8,
    "start_time": "2022-02-21T13:03:06.657Z"
   },
   {
    "duration": 4,
    "start_time": "2022-02-21T13:03:06.803Z"
   },
   {
    "duration": 8,
    "start_time": "2022-02-21T13:03:06.814Z"
   },
   {
    "duration": 9,
    "start_time": "2022-02-21T13:03:06.825Z"
   },
   {
    "duration": 12,
    "start_time": "2022-02-21T13:03:06.837Z"
   },
   {
    "duration": 3,
    "start_time": "2022-02-21T13:03:06.998Z"
   },
   {
    "duration": 13,
    "start_time": "2022-02-21T13:03:07.004Z"
   },
   {
    "duration": 7,
    "start_time": "2022-02-21T13:03:07.020Z"
   },
   {
    "duration": 11,
    "start_time": "2022-02-21T13:03:07.030Z"
   },
   {
    "duration": 6,
    "start_time": "2022-02-21T13:03:07.044Z"
   },
   {
    "duration": 6,
    "start_time": "2022-02-21T13:03:07.052Z"
   },
   {
    "duration": 3,
    "start_time": "2022-02-21T13:03:07.202Z"
   },
   {
    "duration": 10,
    "start_time": "2022-02-21T13:03:07.207Z"
   },
   {
    "duration": 16,
    "start_time": "2022-02-21T13:03:07.224Z"
   },
   {
    "duration": 7,
    "start_time": "2022-02-21T13:03:07.243Z"
   },
   {
    "duration": 7,
    "start_time": "2022-02-21T13:03:07.252Z"
   },
   {
    "duration": 6,
    "start_time": "2022-02-21T13:03:07.261Z"
   },
   {
    "duration": 3,
    "start_time": "2022-02-21T13:03:07.397Z"
   },
   {
    "duration": 8,
    "start_time": "2022-02-21T13:03:07.402Z"
   },
   {
    "duration": 3,
    "start_time": "2022-02-21T13:03:07.426Z"
   },
   {
    "duration": 8,
    "start_time": "2022-02-21T13:03:07.431Z"
   },
   {
    "duration": 12,
    "start_time": "2022-02-21T13:03:07.442Z"
   },
   {
    "duration": 23,
    "start_time": "2022-02-21T13:03:07.456Z"
   },
   {
    "duration": 7,
    "start_time": "2022-02-21T13:03:07.481Z"
   },
   {
    "duration": 3,
    "start_time": "2022-02-21T13:03:07.596Z"
   },
   {
    "duration": 3,
    "start_time": "2022-02-21T13:03:07.611Z"
   },
   {
    "duration": 3,
    "start_time": "2022-02-21T13:03:07.627Z"
   },
   {
    "duration": 7,
    "start_time": "2022-02-21T13:03:07.637Z"
   },
   {
    "duration": 12,
    "start_time": "2022-02-21T13:03:07.647Z"
   },
   {
    "duration": 12,
    "start_time": "2022-02-21T13:03:07.662Z"
   },
   {
    "duration": 17,
    "start_time": "2022-02-21T13:03:07.676Z"
   },
   {
    "duration": 3,
    "start_time": "2022-02-21T13:03:07.789Z"
   },
   {
    "duration": 3,
    "start_time": "2022-02-21T13:03:07.809Z"
   },
   {
    "duration": 19,
    "start_time": "2022-02-21T13:03:07.814Z"
   },
   {
    "duration": 25,
    "start_time": "2022-02-21T13:03:07.837Z"
   },
   {
    "duration": 10,
    "start_time": "2022-02-21T13:03:07.865Z"
   },
   {
    "duration": 13,
    "start_time": "2022-02-21T13:03:07.878Z"
   },
   {
    "duration": 5,
    "start_time": "2022-02-21T13:03:07.895Z"
   },
   {
    "duration": 12,
    "start_time": "2022-02-21T13:03:07.903Z"
   },
   {
    "duration": 4,
    "start_time": "2022-02-21T13:03:07.984Z"
   },
   {
    "duration": 4,
    "start_time": "2022-02-21T13:03:08.007Z"
   },
   {
    "duration": 8,
    "start_time": "2022-02-21T13:03:08.014Z"
   },
   {
    "duration": 11,
    "start_time": "2022-02-21T13:03:08.026Z"
   },
   {
    "duration": 10,
    "start_time": "2022-02-21T13:03:08.040Z"
   },
   {
    "duration": 9,
    "start_time": "2022-02-21T13:03:08.053Z"
   },
   {
    "duration": 10,
    "start_time": "2022-02-21T13:03:08.064Z"
   },
   {
    "duration": 10,
    "start_time": "2022-02-21T13:03:08.076Z"
   },
   {
    "duration": 3,
    "start_time": "2022-02-21T13:03:08.184Z"
   },
   {
    "duration": 3,
    "start_time": "2022-02-21T13:03:08.205Z"
   },
   {
    "duration": 15,
    "start_time": "2022-02-21T13:03:14.148Z"
   },
   {
    "duration": 11,
    "start_time": "2022-02-21T13:03:22.692Z"
   },
   {
    "duration": 35,
    "start_time": "2022-02-21T13:03:31.719Z"
   },
   {
    "duration": 773,
    "start_time": "2022-02-21T13:05:09.710Z"
   },
   {
    "duration": 21,
    "start_time": "2022-02-21T13:05:10.486Z"
   },
   {
    "duration": 13,
    "start_time": "2022-02-21T13:05:10.510Z"
   },
   {
    "duration": 23,
    "start_time": "2022-02-21T13:05:10.525Z"
   },
   {
    "duration": 18,
    "start_time": "2022-02-21T13:05:10.550Z"
   },
   {
    "duration": 39,
    "start_time": "2022-02-21T13:05:10.570Z"
   },
   {
    "duration": 15,
    "start_time": "2022-02-21T13:05:10.611Z"
   },
   {
    "duration": 31,
    "start_time": "2022-02-21T13:05:10.629Z"
   },
   {
    "duration": 66,
    "start_time": "2022-02-21T13:05:10.663Z"
   },
   {
    "duration": 3,
    "start_time": "2022-02-21T13:05:10.731Z"
   },
   {
    "duration": 9,
    "start_time": "2022-02-21T13:05:10.737Z"
   },
   {
    "duration": 9,
    "start_time": "2022-02-21T13:05:10.749Z"
   },
   {
    "duration": 57,
    "start_time": "2022-02-21T13:05:10.760Z"
   },
   {
    "duration": 12,
    "start_time": "2022-02-21T13:05:10.820Z"
   },
   {
    "duration": 9,
    "start_time": "2022-02-21T13:05:10.834Z"
   },
   {
    "duration": 8,
    "start_time": "2022-02-21T13:05:10.846Z"
   },
   {
    "duration": 7,
    "start_time": "2022-02-21T13:05:10.856Z"
   },
   {
    "duration": 41,
    "start_time": "2022-02-21T13:05:10.866Z"
   },
   {
    "duration": 3,
    "start_time": "2022-02-21T13:05:10.910Z"
   },
   {
    "duration": 17,
    "start_time": "2022-02-21T13:05:10.915Z"
   },
   {
    "duration": 11,
    "start_time": "2022-02-21T13:05:10.935Z"
   },
   {
    "duration": 14,
    "start_time": "2022-02-21T13:05:10.949Z"
   },
   {
    "duration": 22,
    "start_time": "2022-02-21T13:05:10.968Z"
   },
   {
    "duration": 18,
    "start_time": "2022-02-21T13:05:10.993Z"
   },
   {
    "duration": 18,
    "start_time": "2022-02-21T13:05:11.014Z"
   },
   {
    "duration": 13,
    "start_time": "2022-02-21T13:05:11.035Z"
   },
   {
    "duration": 19,
    "start_time": "2022-02-21T13:05:11.051Z"
   },
   {
    "duration": 13,
    "start_time": "2022-02-21T13:05:11.072Z"
   },
   {
    "duration": 11,
    "start_time": "2022-02-21T13:05:11.088Z"
   },
   {
    "duration": 12,
    "start_time": "2022-02-21T13:05:11.102Z"
   },
   {
    "duration": 17,
    "start_time": "2022-02-21T13:05:11.116Z"
   },
   {
    "duration": 19,
    "start_time": "2022-02-21T13:05:11.136Z"
   },
   {
    "duration": 19,
    "start_time": "2022-02-21T13:05:11.157Z"
   },
   {
    "duration": 15,
    "start_time": "2022-02-21T13:05:11.179Z"
   },
   {
    "duration": 17,
    "start_time": "2022-02-21T13:05:11.197Z"
   },
   {
    "duration": 15,
    "start_time": "2022-02-21T13:05:11.217Z"
   },
   {
    "duration": 10,
    "start_time": "2022-02-21T13:05:11.234Z"
   },
   {
    "duration": 25,
    "start_time": "2022-02-21T13:05:11.247Z"
   },
   {
    "duration": 18,
    "start_time": "2022-02-21T13:05:11.275Z"
   },
   {
    "duration": 11,
    "start_time": "2022-02-21T13:05:11.295Z"
   },
   {
    "duration": 29,
    "start_time": "2022-02-21T13:05:11.309Z"
   },
   {
    "duration": 26,
    "start_time": "2022-02-21T13:05:11.340Z"
   },
   {
    "duration": 17,
    "start_time": "2022-02-21T13:05:11.368Z"
   },
   {
    "duration": 17,
    "start_time": "2022-02-21T13:05:11.387Z"
   },
   {
    "duration": 12,
    "start_time": "2022-02-21T13:05:11.407Z"
   },
   {
    "duration": 19,
    "start_time": "2022-02-21T13:05:11.421Z"
   },
   {
    "duration": 23,
    "start_time": "2022-02-21T13:05:11.443Z"
   },
   {
    "duration": 14,
    "start_time": "2022-02-21T13:05:11.468Z"
   },
   {
    "duration": 15,
    "start_time": "2022-02-21T13:05:11.484Z"
   },
   {
    "duration": 12,
    "start_time": "2022-02-21T13:05:11.501Z"
   },
   {
    "duration": 11,
    "start_time": "2022-02-21T13:05:11.515Z"
   },
   {
    "duration": 15,
    "start_time": "2022-02-21T13:05:11.529Z"
   },
   {
    "duration": 15,
    "start_time": "2022-02-21T13:05:11.546Z"
   },
   {
    "duration": 15,
    "start_time": "2022-02-21T13:05:11.563Z"
   },
   {
    "duration": 36,
    "start_time": "2022-02-21T13:05:11.580Z"
   },
   {
    "duration": 11,
    "start_time": "2022-02-21T13:05:11.619Z"
   },
   {
    "duration": 13,
    "start_time": "2022-02-21T13:05:11.632Z"
   },
   {
    "duration": 14,
    "start_time": "2022-02-21T13:05:11.647Z"
   },
   {
    "duration": 14,
    "start_time": "2022-02-21T13:05:11.663Z"
   },
   {
    "duration": 10,
    "start_time": "2022-02-21T13:05:11.680Z"
   },
   {
    "duration": 20,
    "start_time": "2022-02-21T13:05:11.693Z"
   },
   {
    "duration": 26,
    "start_time": "2022-02-21T13:05:11.716Z"
   },
   {
    "duration": 20,
    "start_time": "2022-02-21T13:05:11.745Z"
   },
   {
    "duration": 20,
    "start_time": "2022-02-21T13:05:11.768Z"
   },
   {
    "duration": 18,
    "start_time": "2022-02-21T13:05:11.790Z"
   },
   {
    "duration": 15,
    "start_time": "2022-02-21T13:05:11.811Z"
   },
   {
    "duration": 11,
    "start_time": "2022-02-21T13:05:11.829Z"
   },
   {
    "duration": 11,
    "start_time": "2022-02-21T13:05:11.847Z"
   },
   {
    "duration": 13,
    "start_time": "2022-02-21T13:05:11.860Z"
   },
   {
    "duration": 16,
    "start_time": "2022-02-21T13:05:11.876Z"
   },
   {
    "duration": 18,
    "start_time": "2022-02-21T13:05:11.894Z"
   },
   {
    "duration": 16,
    "start_time": "2022-02-21T13:05:26.796Z"
   },
   {
    "duration": 80,
    "start_time": "2022-02-21T13:05:44.028Z"
   },
   {
    "duration": 17,
    "start_time": "2022-02-21T13:05:49.763Z"
   },
   {
    "duration": 27,
    "start_time": "2022-02-21T13:10:27.581Z"
   },
   {
    "duration": 944,
    "start_time": "2022-02-21T13:11:30.633Z"
   },
   {
    "duration": 20,
    "start_time": "2022-02-21T13:11:31.580Z"
   },
   {
    "duration": 30,
    "start_time": "2022-02-21T13:11:31.603Z"
   },
   {
    "duration": 26,
    "start_time": "2022-02-21T13:11:31.637Z"
   },
   {
    "duration": 34,
    "start_time": "2022-02-21T13:11:31.666Z"
   },
   {
    "duration": 14,
    "start_time": "2022-02-21T13:11:31.703Z"
   },
   {
    "duration": 28,
    "start_time": "2022-02-21T13:11:31.720Z"
   },
   {
    "duration": 25,
    "start_time": "2022-02-21T13:11:31.751Z"
   },
   {
    "duration": 43,
    "start_time": "2022-02-21T13:11:31.779Z"
   },
   {
    "duration": 3,
    "start_time": "2022-02-21T13:11:31.824Z"
   },
   {
    "duration": 27,
    "start_time": "2022-02-21T13:11:31.829Z"
   },
   {
    "duration": 27,
    "start_time": "2022-02-21T13:11:31.858Z"
   },
   {
    "duration": 12,
    "start_time": "2022-02-21T13:11:31.888Z"
   },
   {
    "duration": 25,
    "start_time": "2022-02-21T13:11:31.902Z"
   },
   {
    "duration": 11,
    "start_time": "2022-02-21T13:11:31.929Z"
   },
   {
    "duration": 39,
    "start_time": "2022-02-21T13:11:31.944Z"
   },
   {
    "duration": 45,
    "start_time": "2022-02-21T13:11:31.986Z"
   },
   {
    "duration": 50,
    "start_time": "2022-02-21T13:11:32.034Z"
   },
   {
    "duration": 26,
    "start_time": "2022-02-21T13:11:32.087Z"
   },
   {
    "duration": 44,
    "start_time": "2022-02-21T13:11:32.116Z"
   },
   {
    "duration": 19,
    "start_time": "2022-02-21T13:11:32.162Z"
   },
   {
    "duration": 50,
    "start_time": "2022-02-21T13:11:32.184Z"
   },
   {
    "duration": 14,
    "start_time": "2022-02-21T13:11:32.243Z"
   },
   {
    "duration": 10,
    "start_time": "2022-02-21T13:11:32.262Z"
   },
   {
    "duration": 29,
    "start_time": "2022-02-21T13:11:32.275Z"
   },
   {
    "duration": 22,
    "start_time": "2022-02-21T13:11:32.307Z"
   },
   {
    "duration": 16,
    "start_time": "2022-02-21T13:11:32.331Z"
   },
   {
    "duration": 23,
    "start_time": "2022-02-21T13:11:32.349Z"
   },
   {
    "duration": 61,
    "start_time": "2022-02-21T13:11:32.375Z"
   },
   {
    "duration": 112,
    "start_time": "2022-02-21T13:11:32.439Z"
   },
   {
    "duration": 95,
    "start_time": "2022-02-21T13:11:32.554Z"
   },
   {
    "duration": 43,
    "start_time": "2022-02-21T13:11:32.652Z"
   },
   {
    "duration": 16,
    "start_time": "2022-02-21T13:11:32.698Z"
   },
   {
    "duration": 12,
    "start_time": "2022-02-21T13:11:32.717Z"
   },
   {
    "duration": 16,
    "start_time": "2022-02-21T13:11:32.732Z"
   },
   {
    "duration": 8,
    "start_time": "2022-02-21T13:11:32.751Z"
   },
   {
    "duration": 16,
    "start_time": "2022-02-21T13:11:32.761Z"
   },
   {
    "duration": 9,
    "start_time": "2022-02-21T13:11:32.779Z"
   },
   {
    "duration": 17,
    "start_time": "2022-02-21T13:11:32.791Z"
   },
   {
    "duration": 19,
    "start_time": "2022-02-21T13:11:32.810Z"
   },
   {
    "duration": 33,
    "start_time": "2022-02-21T13:11:32.832Z"
   },
   {
    "duration": 15,
    "start_time": "2022-02-21T13:11:32.867Z"
   },
   {
    "duration": 24,
    "start_time": "2022-02-21T13:11:32.885Z"
   },
   {
    "duration": 31,
    "start_time": "2022-02-21T13:11:32.912Z"
   },
   {
    "duration": 27,
    "start_time": "2022-02-21T13:11:32.946Z"
   },
   {
    "duration": 9,
    "start_time": "2022-02-21T13:11:32.976Z"
   },
   {
    "duration": 25,
    "start_time": "2022-02-21T13:11:32.988Z"
   },
   {
    "duration": 31,
    "start_time": "2022-02-21T13:11:33.015Z"
   },
   {
    "duration": 26,
    "start_time": "2022-02-21T13:11:33.049Z"
   },
   {
    "duration": 40,
    "start_time": "2022-02-21T13:11:33.077Z"
   },
   {
    "duration": 31,
    "start_time": "2022-02-21T13:11:33.119Z"
   },
   {
    "duration": 40,
    "start_time": "2022-02-21T13:11:33.153Z"
   },
   {
    "duration": 31,
    "start_time": "2022-02-21T13:11:33.196Z"
   },
   {
    "duration": 25,
    "start_time": "2022-02-21T13:11:33.230Z"
   },
   {
    "duration": 26,
    "start_time": "2022-02-21T13:11:33.257Z"
   },
   {
    "duration": 31,
    "start_time": "2022-02-21T13:11:33.286Z"
   },
   {
    "duration": 34,
    "start_time": "2022-02-21T13:11:33.320Z"
   },
   {
    "duration": 22,
    "start_time": "2022-02-21T13:11:33.356Z"
   },
   {
    "duration": 20,
    "start_time": "2022-02-21T13:11:33.381Z"
   },
   {
    "duration": 27,
    "start_time": "2022-02-21T13:11:33.403Z"
   },
   {
    "duration": 84,
    "start_time": "2022-02-21T13:11:33.433Z"
   },
   {
    "duration": 17,
    "start_time": "2022-02-21T13:11:33.520Z"
   },
   {
    "duration": 31,
    "start_time": "2022-02-21T13:11:33.539Z"
   },
   {
    "duration": 17,
    "start_time": "2022-02-21T13:11:33.572Z"
   },
   {
    "duration": 33,
    "start_time": "2022-02-21T13:11:33.591Z"
   },
   {
    "duration": 11,
    "start_time": "2022-02-21T13:11:33.627Z"
   },
   {
    "duration": 22,
    "start_time": "2022-02-21T13:11:33.640Z"
   },
   {
    "duration": 25,
    "start_time": "2022-02-21T13:11:33.667Z"
   },
   {
    "duration": 31,
    "start_time": "2022-02-21T13:11:33.694Z"
   },
   {
    "duration": 37,
    "start_time": "2022-02-21T13:11:33.727Z"
   },
   {
    "duration": 24,
    "start_time": "2022-02-21T13:11:33.767Z"
   },
   {
    "duration": 8,
    "start_time": "2022-02-21T13:13:06.962Z"
   },
   {
    "duration": 19,
    "start_time": "2022-02-21T13:13:25.267Z"
   },
   {
    "duration": 782,
    "start_time": "2022-02-21T13:14:10.935Z"
   },
   {
    "duration": 22,
    "start_time": "2022-02-21T13:14:11.721Z"
   },
   {
    "duration": 15,
    "start_time": "2022-02-21T13:14:11.746Z"
   },
   {
    "duration": 25,
    "start_time": "2022-02-21T13:14:11.763Z"
   },
   {
    "duration": 36,
    "start_time": "2022-02-21T13:14:11.790Z"
   },
   {
    "duration": 10,
    "start_time": "2022-02-21T13:14:11.828Z"
   },
   {
    "duration": 21,
    "start_time": "2022-02-21T13:14:11.840Z"
   },
   {
    "duration": 59,
    "start_time": "2022-02-21T13:14:11.864Z"
   },
   {
    "duration": 29,
    "start_time": "2022-02-21T13:14:11.927Z"
   },
   {
    "duration": 3,
    "start_time": "2022-02-21T13:14:11.960Z"
   },
   {
    "duration": 9,
    "start_time": "2022-02-21T13:14:11.966Z"
   },
   {
    "duration": 40,
    "start_time": "2022-02-21T13:14:11.978Z"
   },
   {
    "duration": 3,
    "start_time": "2022-02-21T13:14:12.022Z"
   },
   {
    "duration": 9,
    "start_time": "2022-02-21T13:14:12.028Z"
   },
   {
    "duration": 4,
    "start_time": "2022-02-21T13:14:12.039Z"
   },
   {
    "duration": 7,
    "start_time": "2022-02-21T13:14:12.046Z"
   },
   {
    "duration": 6,
    "start_time": "2022-02-21T13:14:12.056Z"
   },
   {
    "duration": 12,
    "start_time": "2022-02-21T13:14:12.064Z"
   },
   {
    "duration": 3,
    "start_time": "2022-02-21T13:14:12.107Z"
   },
   {
    "duration": 9,
    "start_time": "2022-02-21T13:14:12.113Z"
   },
   {
    "duration": 9,
    "start_time": "2022-02-21T13:14:12.127Z"
   },
   {
    "duration": 10,
    "start_time": "2022-02-21T13:14:12.138Z"
   },
   {
    "duration": 17,
    "start_time": "2022-02-21T13:14:12.151Z"
   },
   {
    "duration": 15,
    "start_time": "2022-02-21T13:14:12.171Z"
   },
   {
    "duration": 13,
    "start_time": "2022-02-21T13:14:12.188Z"
   },
   {
    "duration": 15,
    "start_time": "2022-02-21T13:14:12.204Z"
   },
   {
    "duration": 14,
    "start_time": "2022-02-21T13:14:12.227Z"
   },
   {
    "duration": 19,
    "start_time": "2022-02-21T13:14:12.245Z"
   },
   {
    "duration": 18,
    "start_time": "2022-02-21T13:14:12.267Z"
   },
   {
    "duration": 31,
    "start_time": "2022-02-21T13:14:12.288Z"
   },
   {
    "duration": 22,
    "start_time": "2022-02-21T13:14:12.322Z"
   },
   {
    "duration": 9,
    "start_time": "2022-02-21T13:14:12.347Z"
   },
   {
    "duration": 24,
    "start_time": "2022-02-21T13:14:12.359Z"
   },
   {
    "duration": 27,
    "start_time": "2022-02-21T13:14:12.386Z"
   },
   {
    "duration": 26,
    "start_time": "2022-02-21T13:14:12.415Z"
   },
   {
    "duration": 21,
    "start_time": "2022-02-21T13:14:12.443Z"
   },
   {
    "duration": 23,
    "start_time": "2022-02-21T13:14:12.467Z"
   },
   {
    "duration": 24,
    "start_time": "2022-02-21T13:14:12.493Z"
   },
   {
    "duration": 16,
    "start_time": "2022-02-21T13:14:12.519Z"
   },
   {
    "duration": 25,
    "start_time": "2022-02-21T13:14:12.539Z"
   },
   {
    "duration": 15,
    "start_time": "2022-02-21T13:14:12.567Z"
   },
   {
    "duration": 23,
    "start_time": "2022-02-21T13:14:12.584Z"
   },
   {
    "duration": 20,
    "start_time": "2022-02-21T13:14:12.609Z"
   },
   {
    "duration": 17,
    "start_time": "2022-02-21T13:14:12.631Z"
   },
   {
    "duration": 18,
    "start_time": "2022-02-21T13:14:12.654Z"
   },
   {
    "duration": 17,
    "start_time": "2022-02-21T13:14:12.675Z"
   },
   {
    "duration": 20,
    "start_time": "2022-02-21T13:14:12.695Z"
   },
   {
    "duration": 18,
    "start_time": "2022-02-21T13:14:12.717Z"
   },
   {
    "duration": 15,
    "start_time": "2022-02-21T13:14:12.738Z"
   },
   {
    "duration": 12,
    "start_time": "2022-02-21T13:14:12.756Z"
   },
   {
    "duration": 7,
    "start_time": "2022-02-21T13:14:12.771Z"
   },
   {
    "duration": 16,
    "start_time": "2022-02-21T13:14:12.780Z"
   },
   {
    "duration": 11,
    "start_time": "2022-02-21T13:14:12.799Z"
   },
   {
    "duration": 21,
    "start_time": "2022-02-21T13:14:12.813Z"
   },
   {
    "duration": 10,
    "start_time": "2022-02-21T13:14:12.837Z"
   },
   {
    "duration": 10,
    "start_time": "2022-02-21T13:14:12.849Z"
   },
   {
    "duration": 11,
    "start_time": "2022-02-21T13:14:12.861Z"
   },
   {
    "duration": 34,
    "start_time": "2022-02-21T13:14:12.875Z"
   },
   {
    "duration": 24,
    "start_time": "2022-02-21T13:14:12.912Z"
   },
   {
    "duration": 10,
    "start_time": "2022-02-21T13:14:12.938Z"
   },
   {
    "duration": 20,
    "start_time": "2022-02-21T13:14:12.951Z"
   },
   {
    "duration": 15,
    "start_time": "2022-02-21T13:14:12.975Z"
   },
   {
    "duration": 20,
    "start_time": "2022-02-21T13:14:12.993Z"
   },
   {
    "duration": 29,
    "start_time": "2022-02-21T13:14:13.016Z"
   },
   {
    "duration": 18,
    "start_time": "2022-02-21T13:14:13.048Z"
   },
   {
    "duration": 17,
    "start_time": "2022-02-21T13:14:13.068Z"
   },
   {
    "duration": 15,
    "start_time": "2022-02-21T13:14:13.088Z"
   },
   {
    "duration": 13,
    "start_time": "2022-02-21T13:14:13.106Z"
   },
   {
    "duration": 13,
    "start_time": "2022-02-21T13:14:13.121Z"
   },
   {
    "duration": 9,
    "start_time": "2022-02-21T13:14:13.137Z"
   },
   {
    "duration": 16,
    "start_time": "2022-02-21T13:14:13.148Z"
   },
   {
    "duration": 8,
    "start_time": "2022-02-21T13:15:09.229Z"
   },
   {
    "duration": 19,
    "start_time": "2022-02-21T13:18:12.097Z"
   },
   {
    "duration": 6,
    "start_time": "2022-02-21T13:18:26.298Z"
   },
   {
    "duration": 366,
    "start_time": "2022-02-21T13:21:51.864Z"
   },
   {
    "duration": 22,
    "start_time": "2022-02-21T13:22:04.990Z"
   },
   {
    "duration": 23,
    "start_time": "2022-02-21T13:23:24.700Z"
   },
   {
    "duration": 5,
    "start_time": "2022-02-21T13:25:35.974Z"
   },
   {
    "duration": 14,
    "start_time": "2022-02-21T13:27:07.357Z"
   },
   {
    "duration": 5,
    "start_time": "2022-02-21T13:27:58.516Z"
   },
   {
    "duration": 7,
    "start_time": "2022-02-21T13:29:55.999Z"
   },
   {
    "duration": 6,
    "start_time": "2022-02-21T13:32:01.647Z"
   },
   {
    "duration": 16,
    "start_time": "2022-02-21T13:32:16.557Z"
   },
   {
    "duration": 7,
    "start_time": "2022-02-21T13:32:39.139Z"
   },
   {
    "duration": 82,
    "start_time": "2022-02-21T13:36:41.936Z"
   },
   {
    "duration": 6,
    "start_time": "2022-02-21T13:37:25.794Z"
   },
   {
    "duration": 6,
    "start_time": "2022-02-21T13:39:06.171Z"
   },
   {
    "duration": 231,
    "start_time": "2022-02-21T13:49:41.688Z"
   },
   {
    "duration": 73,
    "start_time": "2022-02-21T13:49:52.816Z"
   },
   {
    "duration": 5,
    "start_time": "2022-02-21T13:49:56.567Z"
   },
   {
    "duration": 4,
    "start_time": "2022-02-21T13:50:46.504Z"
   },
   {
    "duration": 8,
    "start_time": "2022-02-21T13:54:24.857Z"
   },
   {
    "duration": 6,
    "start_time": "2022-02-21T13:55:37.628Z"
   },
   {
    "duration": 4,
    "start_time": "2022-02-21T13:55:50.389Z"
   },
   {
    "duration": 4,
    "start_time": "2022-02-21T13:59:03.574Z"
   },
   {
    "duration": 265,
    "start_time": "2022-02-21T14:10:01.927Z"
   },
   {
    "duration": 94,
    "start_time": "2022-02-21T14:10:24.977Z"
   },
   {
    "duration": 315,
    "start_time": "2022-02-21T14:10:30.229Z"
   },
   {
    "duration": 4,
    "start_time": "2022-02-21T14:11:29.629Z"
   },
   {
    "duration": 309,
    "start_time": "2022-02-21T14:13:35.023Z"
   },
   {
    "duration": 22,
    "start_time": "2022-02-21T14:14:07.728Z"
   },
   {
    "duration": 5,
    "start_time": "2022-02-21T14:17:10.910Z"
   },
   {
    "duration": 5,
    "start_time": "2022-02-21T14:18:23.460Z"
   },
   {
    "duration": 18,
    "start_time": "2022-02-21T14:19:06.816Z"
   },
   {
    "duration": 26,
    "start_time": "2022-02-21T14:19:46.014Z"
   },
   {
    "duration": 19,
    "start_time": "2022-02-21T14:22:53.039Z"
   },
   {
    "duration": 17,
    "start_time": "2022-02-21T14:23:56.311Z"
   },
   {
    "duration": 599,
    "start_time": "2022-02-22T09:32:33.562Z"
   },
   {
    "duration": 12,
    "start_time": "2022-02-22T09:51:35.509Z"
   },
   {
    "duration": 7,
    "start_time": "2022-02-22T09:51:43.566Z"
   },
   {
    "duration": 11,
    "start_time": "2022-02-22T09:51:52.025Z"
   },
   {
    "duration": 371,
    "start_time": "2022-02-22T09:54:50.501Z"
   },
   {
    "duration": 12,
    "start_time": "2022-02-22T09:55:01.994Z"
   },
   {
    "duration": 6,
    "start_time": "2022-02-22T09:55:05.414Z"
   },
   {
    "duration": 9,
    "start_time": "2022-02-22T09:55:08.494Z"
   },
   {
    "duration": 21,
    "start_time": "2022-02-22T10:00:12.903Z"
   },
   {
    "duration": 7798,
    "start_time": "2022-02-22T10:02:01.438Z"
   },
   {
    "duration": 347,
    "start_time": "2022-02-22T10:58:29.304Z"
   },
   {
    "duration": 20,
    "start_time": "2022-02-22T10:58:50.788Z"
   },
   {
    "duration": 13,
    "start_time": "2022-02-22T10:59:57.473Z"
   },
   {
    "duration": 16,
    "start_time": "2022-02-22T11:00:10.929Z"
   },
   {
    "duration": 11,
    "start_time": "2022-02-22T11:12:42.374Z"
   },
   {
    "duration": 10,
    "start_time": "2022-02-22T11:13:16.188Z"
   },
   {
    "duration": 650,
    "start_time": "2022-02-22T22:07:21.291Z"
   },
   {
    "duration": 13,
    "start_time": "2022-02-22T22:07:21.943Z"
   },
   {
    "duration": 8,
    "start_time": "2022-02-22T22:07:21.958Z"
   },
   {
    "duration": 12,
    "start_time": "2022-02-22T22:07:21.968Z"
   },
   {
    "duration": 13,
    "start_time": "2022-02-22T22:07:21.981Z"
   },
   {
    "duration": 29,
    "start_time": "2022-02-22T22:07:21.996Z"
   },
   {
    "duration": 10,
    "start_time": "2022-02-22T22:07:22.026Z"
   },
   {
    "duration": 19,
    "start_time": "2022-02-22T22:07:22.039Z"
   },
   {
    "duration": 21,
    "start_time": "2022-02-22T22:07:22.060Z"
   },
   {
    "duration": 2,
    "start_time": "2022-02-22T22:07:22.083Z"
   },
   {
    "duration": 2,
    "start_time": "2022-02-22T22:07:22.120Z"
   },
   {
    "duration": 7,
    "start_time": "2022-02-22T22:07:22.125Z"
   },
   {
    "duration": 12,
    "start_time": "2022-02-22T22:07:22.134Z"
   },
   {
    "duration": 6,
    "start_time": "2022-02-22T22:07:22.148Z"
   },
   {
    "duration": 5,
    "start_time": "2022-02-22T22:07:22.156Z"
   },
   {
    "duration": 13,
    "start_time": "2022-02-22T22:07:22.162Z"
   },
   {
    "duration": 43,
    "start_time": "2022-02-22T22:07:22.176Z"
   },
   {
    "duration": 5,
    "start_time": "2022-02-22T22:07:22.221Z"
   },
   {
    "duration": 9,
    "start_time": "2022-02-22T22:07:22.228Z"
   },
   {
    "duration": 4,
    "start_time": "2022-02-22T22:07:22.239Z"
   },
   {
    "duration": 9,
    "start_time": "2022-02-22T22:07:22.244Z"
   },
   {
    "duration": 4,
    "start_time": "2022-02-22T22:07:22.255Z"
   },
   {
    "duration": 5,
    "start_time": "2022-02-22T22:07:22.262Z"
   },
   {
    "duration": 7,
    "start_time": "2022-02-22T22:07:22.269Z"
   },
   {
    "duration": 15,
    "start_time": "2022-02-22T22:07:22.278Z"
   },
   {
    "duration": 24,
    "start_time": "2022-02-22T22:07:22.295Z"
   },
   {
    "duration": 6,
    "start_time": "2022-02-22T22:07:22.321Z"
   },
   {
    "duration": 8,
    "start_time": "2022-02-22T22:07:22.329Z"
   },
   {
    "duration": 5,
    "start_time": "2022-02-22T22:07:22.339Z"
   },
   {
    "duration": 6,
    "start_time": "2022-02-22T22:07:22.345Z"
   },
   {
    "duration": 7,
    "start_time": "2022-02-22T22:07:22.353Z"
   },
   {
    "duration": 5,
    "start_time": "2022-02-22T22:07:22.362Z"
   },
   {
    "duration": 25,
    "start_time": "2022-02-22T22:07:22.369Z"
   },
   {
    "duration": 33,
    "start_time": "2022-02-22T22:07:22.396Z"
   },
   {
    "duration": 13,
    "start_time": "2022-02-22T22:07:22.431Z"
   },
   {
    "duration": 2,
    "start_time": "2022-02-22T22:07:22.446Z"
   },
   {
    "duration": 4,
    "start_time": "2022-02-22T22:07:22.450Z"
   },
   {
    "duration": 6,
    "start_time": "2022-02-22T22:07:22.455Z"
   },
   {
    "duration": 8,
    "start_time": "2022-02-22T22:07:22.463Z"
   },
   {
    "duration": 10,
    "start_time": "2022-02-22T22:07:22.472Z"
   },
   {
    "duration": 5,
    "start_time": "2022-02-22T22:07:22.484Z"
   },
   {
    "duration": 5,
    "start_time": "2022-02-22T22:07:22.490Z"
   },
   {
    "duration": 4,
    "start_time": "2022-02-22T22:07:22.497Z"
   },
   {
    "duration": 2,
    "start_time": "2022-02-22T22:07:22.519Z"
   },
   {
    "duration": 9,
    "start_time": "2022-02-22T22:07:22.523Z"
   },
   {
    "duration": 6,
    "start_time": "2022-02-22T22:07:22.534Z"
   },
   {
    "duration": 4,
    "start_time": "2022-02-22T22:07:22.542Z"
   },
   {
    "duration": 7,
    "start_time": "2022-02-22T22:07:22.547Z"
   },
   {
    "duration": 8,
    "start_time": "2022-02-22T22:07:22.555Z"
   },
   {
    "duration": 4,
    "start_time": "2022-02-22T22:07:22.564Z"
   },
   {
    "duration": 4,
    "start_time": "2022-02-22T22:07:22.570Z"
   },
   {
    "duration": 5,
    "start_time": "2022-02-22T22:07:22.576Z"
   },
   {
    "duration": 5,
    "start_time": "2022-02-22T22:07:22.583Z"
   },
   {
    "duration": 7,
    "start_time": "2022-02-22T22:07:22.590Z"
   },
   {
    "duration": 21,
    "start_time": "2022-02-22T22:07:22.598Z"
   },
   {
    "duration": 4,
    "start_time": "2022-02-22T22:07:22.621Z"
   },
   {
    "duration": 4,
    "start_time": "2022-02-22T22:07:22.627Z"
   },
   {
    "duration": 5,
    "start_time": "2022-02-22T22:07:22.632Z"
   },
   {
    "duration": 5,
    "start_time": "2022-02-22T22:07:22.639Z"
   },
   {
    "duration": 6,
    "start_time": "2022-02-22T22:07:22.645Z"
   },
   {
    "duration": 4,
    "start_time": "2022-02-22T22:07:22.653Z"
   },
   {
    "duration": 4,
    "start_time": "2022-02-22T22:07:22.659Z"
   },
   {
    "duration": 4,
    "start_time": "2022-02-22T22:07:22.665Z"
   },
   {
    "duration": 3,
    "start_time": "2022-02-22T22:07:22.671Z"
   },
   {
    "duration": 4,
    "start_time": "2022-02-22T22:07:22.676Z"
   },
   {
    "duration": 5,
    "start_time": "2022-02-22T22:07:22.682Z"
   },
   {
    "duration": 5,
    "start_time": "2022-02-22T22:07:22.720Z"
   },
   {
    "duration": 2,
    "start_time": "2022-02-22T22:07:22.730Z"
   },
   {
    "duration": 4,
    "start_time": "2022-02-22T22:07:22.734Z"
   },
   {
    "duration": 4,
    "start_time": "2022-02-22T22:07:22.739Z"
   },
   {
    "duration": 7,
    "start_time": "2022-02-22T22:07:22.744Z"
   },
   {
    "duration": 639,
    "start_time": "2022-02-22T22:10:11.023Z"
   },
   {
    "duration": 13,
    "start_time": "2022-02-22T22:10:15.654Z"
   },
   {
    "duration": 8,
    "start_time": "2022-02-22T22:10:19.026Z"
   },
   {
    "duration": 13,
    "start_time": "2022-02-22T22:10:23.872Z"
   },
   {
    "duration": 7,
    "start_time": "2022-02-22T22:10:30.591Z"
   },
   {
    "duration": 10,
    "start_time": "2022-02-22T22:10:34.735Z"
   },
   {
    "duration": 20,
    "start_time": "2022-02-22T22:10:38.630Z"
   },
   {
    "duration": 25,
    "start_time": "2022-02-22T22:10:41.590Z"
   },
   {
    "duration": 5,
    "start_time": "2022-02-22T22:10:47.592Z"
   },
   {
    "duration": 13,
    "start_time": "2022-02-22T22:10:50.456Z"
   },
   {
    "duration": 12,
    "start_time": "2022-02-22T22:11:01.873Z"
   },
   {
    "duration": 5,
    "start_time": "2022-02-22T22:11:04.633Z"
   },
   {
    "duration": 5,
    "start_time": "2022-02-22T22:11:07.683Z"
   },
   {
    "duration": 13,
    "start_time": "2022-02-22T22:11:11.500Z"
   },
   {
    "duration": 6,
    "start_time": "2022-02-22T22:11:21.556Z"
   },
   {
    "duration": 4,
    "start_time": "2022-02-22T22:11:33.975Z"
   },
   {
    "duration": 7,
    "start_time": "2022-02-22T22:12:14.647Z"
   },
   {
    "duration": 4,
    "start_time": "2022-02-22T22:13:36.054Z"
   },
   {
    "duration": 17,
    "start_time": "2022-02-22T22:15:42.079Z"
   },
   {
    "duration": 4,
    "start_time": "2022-02-22T22:16:31.314Z"
   },
   {
    "duration": 8,
    "start_time": "2022-02-22T22:23:45.104Z"
   },
   {
    "duration": 4,
    "start_time": "2022-02-22T22:24:07.405Z"
   },
   {
    "duration": 7,
    "start_time": "2022-02-22T22:24:39.777Z"
   },
   {
    "duration": 10,
    "start_time": "2022-02-22T22:25:57.928Z"
   },
   {
    "duration": 4,
    "start_time": "2022-02-22T22:26:02.201Z"
   },
   {
    "duration": 4,
    "start_time": "2022-02-22T22:26:11.636Z"
   },
   {
    "duration": 8,
    "start_time": "2022-02-22T22:28:38.889Z"
   },
   {
    "duration": 5,
    "start_time": "2022-02-22T22:29:03.234Z"
   },
   {
    "duration": 6,
    "start_time": "2022-02-22T22:29:12.724Z"
   },
   {
    "duration": 4,
    "start_time": "2022-02-22T22:29:16.817Z"
   },
   {
    "duration": 28,
    "start_time": "2022-02-22T22:29:30.162Z"
   },
   {
    "duration": 22,
    "start_time": "2022-02-22T22:31:00.364Z"
   },
   {
    "duration": 18,
    "start_time": "2022-02-22T22:31:09.825Z"
   },
   {
    "duration": 17,
    "start_time": "2022-02-22T22:31:12.850Z"
   },
   {
    "duration": 11,
    "start_time": "2022-02-22T22:41:48.704Z"
   },
   {
    "duration": 245,
    "start_time": "2022-02-22T22:42:18.104Z"
   },
   {
    "duration": 11,
    "start_time": "2022-02-22T22:42:37.933Z"
   },
   {
    "duration": 714,
    "start_time": "2022-02-23T09:07:48.101Z"
   },
   {
    "duration": 16,
    "start_time": "2022-02-23T09:07:48.818Z"
   },
   {
    "duration": 24,
    "start_time": "2022-02-23T09:07:48.836Z"
   },
   {
    "duration": 21,
    "start_time": "2022-02-23T09:07:48.863Z"
   },
   {
    "duration": 30,
    "start_time": "2022-02-23T09:07:48.887Z"
   },
   {
    "duration": 9,
    "start_time": "2022-02-23T09:07:48.919Z"
   },
   {
    "duration": 12,
    "start_time": "2022-02-23T09:07:48.930Z"
   },
   {
    "duration": 21,
    "start_time": "2022-02-23T09:07:48.946Z"
   },
   {
    "duration": 60,
    "start_time": "2022-02-23T09:07:48.970Z"
   },
   {
    "duration": 2,
    "start_time": "2022-02-23T09:07:49.033Z"
   },
   {
    "duration": 6,
    "start_time": "2022-02-23T09:07:49.038Z"
   },
   {
    "duration": 14,
    "start_time": "2022-02-23T09:07:49.046Z"
   },
   {
    "duration": 13,
    "start_time": "2022-02-23T09:07:49.063Z"
   },
   {
    "duration": 29,
    "start_time": "2022-02-23T09:07:49.078Z"
   },
   {
    "duration": 3,
    "start_time": "2022-02-23T09:07:49.110Z"
   },
   {
    "duration": 22,
    "start_time": "2022-02-23T09:07:49.115Z"
   },
   {
    "duration": 4,
    "start_time": "2022-02-23T09:07:49.139Z"
   },
   {
    "duration": 10,
    "start_time": "2022-02-23T09:07:49.145Z"
   },
   {
    "duration": 10,
    "start_time": "2022-02-23T09:07:49.157Z"
   },
   {
    "duration": 9,
    "start_time": "2022-02-23T09:07:49.170Z"
   },
   {
    "duration": 28,
    "start_time": "2022-02-23T09:07:49.181Z"
   },
   {
    "duration": 8,
    "start_time": "2022-02-23T09:07:49.211Z"
   },
   {
    "duration": 6,
    "start_time": "2022-02-23T09:07:49.224Z"
   },
   {
    "duration": 10,
    "start_time": "2022-02-23T09:07:49.234Z"
   },
   {
    "duration": 32,
    "start_time": "2022-02-23T09:07:49.247Z"
   },
   {
    "duration": 15,
    "start_time": "2022-02-23T09:07:49.281Z"
   },
   {
    "duration": 17,
    "start_time": "2022-02-23T09:07:49.307Z"
   },
   {
    "duration": 16,
    "start_time": "2022-02-23T09:07:49.326Z"
   },
   {
    "duration": 14,
    "start_time": "2022-02-23T09:07:49.344Z"
   },
   {
    "duration": 9,
    "start_time": "2022-02-23T09:07:49.360Z"
   },
   {
    "duration": 14,
    "start_time": "2022-02-23T09:07:49.372Z"
   },
   {
    "duration": 18,
    "start_time": "2022-02-23T09:07:49.389Z"
   },
   {
    "duration": 35,
    "start_time": "2022-02-23T09:07:49.410Z"
   },
   {
    "duration": 18,
    "start_time": "2022-02-23T09:07:49.447Z"
   },
   {
    "duration": 41,
    "start_time": "2022-02-23T09:07:49.467Z"
   },
   {
    "duration": 13,
    "start_time": "2022-02-23T09:07:49.510Z"
   },
   {
    "duration": 3,
    "start_time": "2022-02-23T09:07:49.525Z"
   },
   {
    "duration": 5,
    "start_time": "2022-02-23T09:07:49.530Z"
   },
   {
    "duration": 8,
    "start_time": "2022-02-23T09:07:49.538Z"
   },
   {
    "duration": 8,
    "start_time": "2022-02-23T09:07:49.548Z"
   },
   {
    "duration": 10,
    "start_time": "2022-02-23T09:07:49.558Z"
   },
   {
    "duration": 10,
    "start_time": "2022-02-23T09:07:49.570Z"
   },
   {
    "duration": 13,
    "start_time": "2022-02-23T09:07:49.582Z"
   },
   {
    "duration": 3,
    "start_time": "2022-02-23T09:07:49.608Z"
   },
   {
    "duration": 9,
    "start_time": "2022-02-23T09:07:49.613Z"
   },
   {
    "duration": 17,
    "start_time": "2022-02-23T09:07:49.625Z"
   },
   {
    "duration": 9,
    "start_time": "2022-02-23T09:07:49.644Z"
   },
   {
    "duration": 11,
    "start_time": "2022-02-23T09:07:49.655Z"
   },
   {
    "duration": 11,
    "start_time": "2022-02-23T09:07:49.668Z"
   },
   {
    "duration": 8,
    "start_time": "2022-02-23T09:07:49.681Z"
   },
   {
    "duration": 14,
    "start_time": "2022-02-23T09:07:49.691Z"
   },
   {
    "duration": 11,
    "start_time": "2022-02-23T09:07:49.707Z"
   },
   {
    "duration": 8,
    "start_time": "2022-02-23T09:07:49.721Z"
   },
   {
    "duration": 6,
    "start_time": "2022-02-23T09:07:49.731Z"
   },
   {
    "duration": 8,
    "start_time": "2022-02-23T09:07:49.739Z"
   },
   {
    "duration": 8,
    "start_time": "2022-02-23T09:07:49.749Z"
   },
   {
    "duration": 8,
    "start_time": "2022-02-23T09:07:49.759Z"
   },
   {
    "duration": 7,
    "start_time": "2022-02-23T09:07:49.769Z"
   },
   {
    "duration": 13,
    "start_time": "2022-02-23T09:07:49.779Z"
   },
   {
    "duration": 25,
    "start_time": "2022-02-23T09:07:49.794Z"
   },
   {
    "duration": 24,
    "start_time": "2022-02-23T09:07:49.821Z"
   },
   {
    "duration": 19,
    "start_time": "2022-02-23T09:07:49.847Z"
   },
   {
    "duration": 20,
    "start_time": "2022-02-23T09:07:49.869Z"
   },
   {
    "duration": 20,
    "start_time": "2022-02-23T09:07:49.892Z"
   },
   {
    "duration": 15,
    "start_time": "2022-02-23T09:07:49.914Z"
   },
   {
    "duration": 19,
    "start_time": "2022-02-23T09:07:49.931Z"
   },
   {
    "duration": 20,
    "start_time": "2022-02-23T09:07:49.952Z"
   },
   {
    "duration": 20,
    "start_time": "2022-02-23T09:07:49.979Z"
   },
   {
    "duration": 12,
    "start_time": "2022-02-23T09:07:50.001Z"
   },
   {
    "duration": 26,
    "start_time": "2022-02-23T09:07:50.015Z"
   },
   {
    "duration": 26,
    "start_time": "2022-02-23T09:07:50.043Z"
   },
   {
    "duration": 913,
    "start_time": "2022-02-23T10:53:15.157Z"
   },
   {
    "duration": 20,
    "start_time": "2022-02-23T10:53:16.073Z"
   },
   {
    "duration": 22,
    "start_time": "2022-02-23T10:53:16.096Z"
   },
   {
    "duration": 16,
    "start_time": "2022-02-23T10:53:16.120Z"
   },
   {
    "duration": 14,
    "start_time": "2022-02-23T10:53:16.138Z"
   },
   {
    "duration": 7,
    "start_time": "2022-02-23T10:53:16.155Z"
   },
   {
    "duration": 13,
    "start_time": "2022-02-23T10:53:16.164Z"
   },
   {
    "duration": 47,
    "start_time": "2022-02-23T10:53:16.181Z"
   },
   {
    "duration": 23,
    "start_time": "2022-02-23T10:53:16.231Z"
   },
   {
    "duration": 2,
    "start_time": "2022-02-23T10:53:16.257Z"
   },
   {
    "duration": 6,
    "start_time": "2022-02-23T10:53:16.261Z"
   },
   {
    "duration": 39,
    "start_time": "2022-02-23T10:53:16.269Z"
   },
   {
    "duration": 12,
    "start_time": "2022-02-23T10:53:16.310Z"
   },
   {
    "duration": 9,
    "start_time": "2022-02-23T10:53:16.323Z"
   },
   {
    "duration": 5,
    "start_time": "2022-02-23T10:53:16.334Z"
   },
   {
    "duration": 20,
    "start_time": "2022-02-23T10:53:16.342Z"
   },
   {
    "duration": 5,
    "start_time": "2022-02-23T10:53:16.364Z"
   },
   {
    "duration": 5,
    "start_time": "2022-02-23T10:53:16.408Z"
   },
   {
    "duration": 8,
    "start_time": "2022-02-23T10:53:16.416Z"
   },
   {
    "duration": 7,
    "start_time": "2022-02-23T10:53:16.427Z"
   },
   {
    "duration": 9,
    "start_time": "2022-02-23T10:53:16.436Z"
   },
   {
    "duration": 9,
    "start_time": "2022-02-23T10:53:16.447Z"
   },
   {
    "duration": 4,
    "start_time": "2022-02-23T10:53:16.461Z"
   },
   {
    "duration": 9,
    "start_time": "2022-02-23T10:53:16.467Z"
   },
   {
    "duration": 46,
    "start_time": "2022-02-23T10:53:16.478Z"
   },
   {
    "duration": 4,
    "start_time": "2022-02-23T10:53:16.526Z"
   },
   {
    "duration": 13,
    "start_time": "2022-02-23T10:53:16.532Z"
   },
   {
    "duration": 19,
    "start_time": "2022-02-23T10:53:16.547Z"
   },
   {
    "duration": 5,
    "start_time": "2022-02-23T10:53:16.569Z"
   },
   {
    "duration": 32,
    "start_time": "2022-02-23T10:53:16.576Z"
   },
   {
    "duration": 10,
    "start_time": "2022-02-23T10:53:16.611Z"
   },
   {
    "duration": 7,
    "start_time": "2022-02-23T10:53:16.624Z"
   },
   {
    "duration": 29,
    "start_time": "2022-02-23T10:53:16.634Z"
   },
   {
    "duration": 48,
    "start_time": "2022-02-23T10:53:16.665Z"
   },
   {
    "duration": 17,
    "start_time": "2022-02-23T10:53:16.715Z"
   },
   {
    "duration": 18,
    "start_time": "2022-02-23T10:53:16.735Z"
   },
   {
    "duration": 3,
    "start_time": "2022-02-23T10:53:16.755Z"
   },
   {
    "duration": 109,
    "start_time": "2022-02-23T10:53:16.760Z"
   },
   {
    "duration": -2350,
    "start_time": "2022-02-23T10:53:19.221Z"
   },
   {
    "duration": -2354,
    "start_time": "2022-02-23T10:53:19.227Z"
   },
   {
    "duration": -2363,
    "start_time": "2022-02-23T10:53:19.237Z"
   },
   {
    "duration": -2369,
    "start_time": "2022-02-23T10:53:19.244Z"
   },
   {
    "duration": -2379,
    "start_time": "2022-02-23T10:53:19.255Z"
   },
   {
    "duration": -2384,
    "start_time": "2022-02-23T10:53:19.261Z"
   },
   {
    "duration": -2392,
    "start_time": "2022-02-23T10:53:19.270Z"
   },
   {
    "duration": -2398,
    "start_time": "2022-02-23T10:53:19.277Z"
   },
   {
    "duration": -2552,
    "start_time": "2022-02-23T10:53:19.432Z"
   },
   {
    "duration": -2588,
    "start_time": "2022-02-23T10:53:19.469Z"
   },
   {
    "duration": -2727,
    "start_time": "2022-02-23T10:53:19.610Z"
   },
   {
    "duration": -2736,
    "start_time": "2022-02-23T10:53:19.620Z"
   },
   {
    "duration": -2741,
    "start_time": "2022-02-23T10:53:19.626Z"
   },
   {
    "duration": -2749,
    "start_time": "2022-02-23T10:53:19.635Z"
   },
   {
    "duration": -2755,
    "start_time": "2022-02-23T10:53:19.642Z"
   },
   {
    "duration": -2763,
    "start_time": "2022-02-23T10:53:19.651Z"
   },
   {
    "duration": -2769,
    "start_time": "2022-02-23T10:53:19.658Z"
   },
   {
    "duration": -2774,
    "start_time": "2022-02-23T10:53:19.664Z"
   },
   {
    "duration": -2781,
    "start_time": "2022-02-23T10:53:19.673Z"
   },
   {
    "duration": -2788,
    "start_time": "2022-02-23T10:53:19.681Z"
   },
   {
    "duration": -2797,
    "start_time": "2022-02-23T10:53:19.691Z"
   },
   {
    "duration": -2803,
    "start_time": "2022-02-23T10:53:19.698Z"
   },
   {
    "duration": -2811,
    "start_time": "2022-02-23T10:53:19.707Z"
   },
   {
    "duration": -2816,
    "start_time": "2022-02-23T10:53:19.713Z"
   },
   {
    "duration": -2825,
    "start_time": "2022-02-23T10:53:19.723Z"
   },
   {
    "duration": -2831,
    "start_time": "2022-02-23T10:53:19.730Z"
   },
   {
    "duration": -2845,
    "start_time": "2022-02-23T10:53:19.745Z"
   },
   {
    "duration": -2853,
    "start_time": "2022-02-23T10:53:19.754Z"
   },
   {
    "duration": -2881,
    "start_time": "2022-02-23T10:53:19.783Z"
   },
   {
    "duration": -2911,
    "start_time": "2022-02-23T10:53:19.814Z"
   },
   {
    "duration": -2935,
    "start_time": "2022-02-23T10:53:19.839Z"
   },
   {
    "duration": -2940,
    "start_time": "2022-02-23T10:53:19.845Z"
   },
   {
    "duration": -2950,
    "start_time": "2022-02-23T10:53:19.856Z"
   },
   {
    "duration": 4,
    "start_time": "2022-02-23T10:56:03.004Z"
   },
   {
    "duration": 523,
    "start_time": "2022-02-23T10:56:37.138Z"
   },
   {
    "duration": 3,
    "start_time": "2022-02-23T10:57:10.575Z"
   },
   {
    "duration": 4,
    "start_time": "2022-02-23T10:57:12.586Z"
   },
   {
    "duration": 4,
    "start_time": "2022-02-23T10:58:16.867Z"
   },
   {
    "duration": 4,
    "start_time": "2022-02-23T10:58:28.876Z"
   },
   {
    "duration": 4,
    "start_time": "2022-02-23T10:58:34.943Z"
   },
   {
    "duration": 650,
    "start_time": "2022-02-23T11:00:02.228Z"
   },
   {
    "duration": 3,
    "start_time": "2022-02-23T11:00:33.035Z"
   },
   {
    "duration": 549,
    "start_time": "2022-02-23T11:00:35.056Z"
   },
   {
    "duration": 3,
    "start_time": "2022-02-23T11:00:48.770Z"
   },
   {
    "duration": 4,
    "start_time": "2022-02-23T11:00:50.627Z"
   },
   {
    "duration": 8,
    "start_time": "2022-02-23T11:02:22.994Z"
   },
   {
    "duration": 6,
    "start_time": "2022-02-23T11:02:44.747Z"
   },
   {
    "duration": 33,
    "start_time": "2022-02-23T11:04:18.222Z"
   },
   {
    "duration": 288,
    "start_time": "2022-02-23T11:05:50.487Z"
   },
   {
    "duration": 5,
    "start_time": "2022-02-23T11:06:06.862Z"
   },
   {
    "duration": 6,
    "start_time": "2022-02-23T11:07:51.313Z"
   },
   {
    "duration": 760,
    "start_time": "2022-02-23T11:52:32.884Z"
   },
   {
    "duration": 15,
    "start_time": "2022-02-23T11:52:33.646Z"
   },
   {
    "duration": 15,
    "start_time": "2022-02-23T11:52:33.663Z"
   },
   {
    "duration": 32,
    "start_time": "2022-02-23T11:52:33.680Z"
   },
   {
    "duration": 18,
    "start_time": "2022-02-23T11:52:33.714Z"
   },
   {
    "duration": 8,
    "start_time": "2022-02-23T11:52:33.734Z"
   },
   {
    "duration": 28,
    "start_time": "2022-02-23T11:52:33.744Z"
   },
   {
    "duration": 35,
    "start_time": "2022-02-23T11:52:33.776Z"
   },
   {
    "duration": 28,
    "start_time": "2022-02-23T11:52:33.814Z"
   },
   {
    "duration": 3,
    "start_time": "2022-02-23T11:52:33.845Z"
   },
   {
    "duration": 24,
    "start_time": "2022-02-23T11:52:33.850Z"
   },
   {
    "duration": 17,
    "start_time": "2022-02-23T11:52:33.877Z"
   },
   {
    "duration": 19,
    "start_time": "2022-02-23T11:52:33.896Z"
   },
   {
    "duration": 7,
    "start_time": "2022-02-23T11:52:33.917Z"
   },
   {
    "duration": 29,
    "start_time": "2022-02-23T11:52:33.926Z"
   },
   {
    "duration": 17,
    "start_time": "2022-02-23T11:52:33.957Z"
   },
   {
    "duration": 5,
    "start_time": "2022-02-23T11:52:33.976Z"
   },
   {
    "duration": 11,
    "start_time": "2022-02-23T11:52:33.983Z"
   },
   {
    "duration": 8,
    "start_time": "2022-02-23T11:52:33.999Z"
   },
   {
    "duration": 11,
    "start_time": "2022-02-23T11:52:34.010Z"
   },
   {
    "duration": 12,
    "start_time": "2022-02-23T11:52:34.022Z"
   },
   {
    "duration": 15,
    "start_time": "2022-02-23T11:52:34.035Z"
   },
   {
    "duration": 12,
    "start_time": "2022-02-23T11:52:34.054Z"
   },
   {
    "duration": 9,
    "start_time": "2022-02-23T11:52:34.070Z"
   },
   {
    "duration": 27,
    "start_time": "2022-02-23T11:52:34.081Z"
   },
   {
    "duration": 5,
    "start_time": "2022-02-23T11:52:34.111Z"
   },
   {
    "duration": 12,
    "start_time": "2022-02-23T11:52:34.118Z"
   },
   {
    "duration": 29,
    "start_time": "2022-02-23T11:52:34.132Z"
   },
   {
    "duration": 10,
    "start_time": "2022-02-23T11:52:34.163Z"
   },
   {
    "duration": 14,
    "start_time": "2022-02-23T11:52:34.176Z"
   },
   {
    "duration": 22,
    "start_time": "2022-02-23T11:52:34.192Z"
   },
   {
    "duration": 12,
    "start_time": "2022-02-23T11:52:34.216Z"
   },
   {
    "duration": 35,
    "start_time": "2022-02-23T11:52:34.230Z"
   },
   {
    "duration": 40,
    "start_time": "2022-02-23T11:52:34.268Z"
   },
   {
    "duration": 22,
    "start_time": "2022-02-23T11:52:34.311Z"
   },
   {
    "duration": 20,
    "start_time": "2022-02-23T11:52:34.336Z"
   },
   {
    "duration": 14,
    "start_time": "2022-02-23T11:52:34.359Z"
   },
   {
    "duration": 13,
    "start_time": "2022-02-23T11:52:34.375Z"
   },
   {
    "duration": 18,
    "start_time": "2022-02-23T11:52:34.391Z"
   },
   {
    "duration": 17,
    "start_time": "2022-02-23T11:52:34.412Z"
   },
   {
    "duration": 23,
    "start_time": "2022-02-23T11:52:34.432Z"
   },
   {
    "duration": 46,
    "start_time": "2022-02-23T11:52:34.457Z"
   },
   {
    "duration": 5,
    "start_time": "2022-02-23T11:52:34.505Z"
   },
   {
    "duration": 8,
    "start_time": "2022-02-23T11:52:34.512Z"
   },
   {
    "duration": 7,
    "start_time": "2022-02-23T11:52:34.522Z"
   },
   {
    "duration": 11,
    "start_time": "2022-02-23T11:52:34.531Z"
   },
   {
    "duration": 8,
    "start_time": "2022-02-23T11:52:34.544Z"
   },
   {
    "duration": 8,
    "start_time": "2022-02-23T11:52:34.554Z"
   },
   {
    "duration": 10,
    "start_time": "2022-02-23T11:52:34.564Z"
   },
   {
    "duration": 9,
    "start_time": "2022-02-23T11:52:34.576Z"
   },
   {
    "duration": 20,
    "start_time": "2022-02-23T11:52:34.587Z"
   },
   {
    "duration": 3,
    "start_time": "2022-02-23T11:52:34.610Z"
   },
   {
    "duration": 13,
    "start_time": "2022-02-23T11:52:34.615Z"
   },
   {
    "duration": 11,
    "start_time": "2022-02-23T11:52:34.631Z"
   },
   {
    "duration": 8,
    "start_time": "2022-02-23T11:52:34.644Z"
   },
   {
    "duration": 10,
    "start_time": "2022-02-23T11:52:34.654Z"
   },
   {
    "duration": 24,
    "start_time": "2022-02-23T11:52:34.666Z"
   },
   {
    "duration": 10,
    "start_time": "2022-02-23T11:52:34.693Z"
   },
   {
    "duration": 13,
    "start_time": "2022-02-23T11:52:34.706Z"
   },
   {
    "duration": 11,
    "start_time": "2022-02-23T11:52:34.721Z"
   },
   {
    "duration": 14,
    "start_time": "2022-02-23T11:52:34.734Z"
   },
   {
    "duration": 10,
    "start_time": "2022-02-23T11:52:34.750Z"
   },
   {
    "duration": 13,
    "start_time": "2022-02-23T11:52:34.762Z"
   },
   {
    "duration": 12,
    "start_time": "2022-02-23T11:52:34.777Z"
   },
   {
    "duration": 14,
    "start_time": "2022-02-23T11:52:34.792Z"
   },
   {
    "duration": 10,
    "start_time": "2022-02-23T11:52:34.808Z"
   },
   {
    "duration": 10,
    "start_time": "2022-02-23T11:52:34.820Z"
   },
   {
    "duration": 10,
    "start_time": "2022-02-23T11:52:34.837Z"
   },
   {
    "duration": 12,
    "start_time": "2022-02-23T11:52:34.850Z"
   },
   {
    "duration": 9,
    "start_time": "2022-02-23T11:52:34.864Z"
   },
   {
    "duration": 9,
    "start_time": "2022-02-23T11:52:34.876Z"
   },
   {
    "duration": 17,
    "start_time": "2022-02-23T12:02:25.820Z"
   },
   {
    "duration": 360,
    "start_time": "2022-02-23T12:02:46.556Z"
   },
   {
    "duration": 5165,
    "start_time": "2022-02-23T12:02:58.983Z"
   },
   {
    "duration": 588,
    "start_time": "2022-02-23T21:41:11.671Z"
   },
   {
    "duration": 12,
    "start_time": "2022-02-23T21:41:12.261Z"
   },
   {
    "duration": 9,
    "start_time": "2022-02-23T21:41:12.275Z"
   },
   {
    "duration": 13,
    "start_time": "2022-02-23T21:41:12.286Z"
   },
   {
    "duration": 34,
    "start_time": "2022-02-23T21:41:12.300Z"
   },
   {
    "duration": 6,
    "start_time": "2022-02-23T21:41:12.335Z"
   },
   {
    "duration": 10,
    "start_time": "2022-02-23T21:41:12.343Z"
   },
   {
    "duration": 17,
    "start_time": "2022-02-23T21:41:12.355Z"
   },
   {
    "duration": 20,
    "start_time": "2022-02-23T21:41:12.374Z"
   },
   {
    "duration": 2,
    "start_time": "2022-02-23T21:41:12.395Z"
   },
   {
    "duration": 2,
    "start_time": "2022-02-23T21:41:12.430Z"
   },
   {
    "duration": 6,
    "start_time": "2022-02-23T21:41:12.434Z"
   },
   {
    "duration": 9,
    "start_time": "2022-02-23T21:41:12.441Z"
   },
   {
    "duration": 7,
    "start_time": "2022-02-23T21:41:12.452Z"
   },
   {
    "duration": 4,
    "start_time": "2022-02-23T21:41:12.460Z"
   },
   {
    "duration": 11,
    "start_time": "2022-02-23T21:41:12.466Z"
   },
   {
    "duration": 3,
    "start_time": "2022-02-23T21:41:12.479Z"
   },
   {
    "duration": 8,
    "start_time": "2022-02-23T21:41:12.484Z"
   },
   {
    "duration": 37,
    "start_time": "2022-02-23T21:41:12.493Z"
   },
   {
    "duration": 3,
    "start_time": "2022-02-23T21:41:12.532Z"
   },
   {
    "duration": 7,
    "start_time": "2022-02-23T21:41:12.536Z"
   },
   {
    "duration": 6,
    "start_time": "2022-02-23T21:41:12.545Z"
   },
   {
    "duration": 2,
    "start_time": "2022-02-23T21:41:12.555Z"
   },
   {
    "duration": 5,
    "start_time": "2022-02-23T21:41:12.560Z"
   },
   {
    "duration": 16,
    "start_time": "2022-02-23T21:41:12.567Z"
   },
   {
    "duration": 5,
    "start_time": "2022-02-23T21:41:12.585Z"
   },
   {
    "duration": 4,
    "start_time": "2022-02-23T21:41:12.630Z"
   },
   {
    "duration": 11,
    "start_time": "2022-02-23T21:41:12.636Z"
   },
   {
    "duration": 5,
    "start_time": "2022-02-23T21:41:12.649Z"
   },
   {
    "duration": 4,
    "start_time": "2022-02-23T21:41:12.656Z"
   },
   {
    "duration": 7,
    "start_time": "2022-02-23T21:41:12.662Z"
   },
   {
    "duration": 4,
    "start_time": "2022-02-23T21:41:12.671Z"
   },
   {
    "duration": 64,
    "start_time": "2022-02-23T21:41:12.676Z"
   },
   {
    "duration": 16,
    "start_time": "2022-02-23T21:41:12.742Z"
   },
   {
    "duration": 17,
    "start_time": "2022-02-23T21:41:12.760Z"
   },
   {
    "duration": 11,
    "start_time": "2022-02-23T21:41:12.779Z"
   },
   {
    "duration": 3,
    "start_time": "2022-02-23T21:41:12.791Z"
   },
   {
    "duration": 34,
    "start_time": "2022-02-23T21:41:12.796Z"
   },
   {
    "duration": 5,
    "start_time": "2022-02-23T21:41:12.832Z"
   },
   {
    "duration": 10,
    "start_time": "2022-02-23T21:41:12.838Z"
   },
   {
    "duration": 6,
    "start_time": "2022-02-23T21:41:12.849Z"
   },
   {
    "duration": 29,
    "start_time": "2022-02-23T21:41:12.856Z"
   },
   {
    "duration": 6,
    "start_time": "2022-02-23T21:41:12.887Z"
   },
   {
    "duration": 6,
    "start_time": "2022-02-23T21:41:12.895Z"
   },
   {
    "duration": 29,
    "start_time": "2022-02-23T21:41:12.902Z"
   },
   {
    "duration": 5,
    "start_time": "2022-02-23T21:41:12.932Z"
   },
   {
    "duration": 7,
    "start_time": "2022-02-23T21:41:12.939Z"
   },
   {
    "duration": 3,
    "start_time": "2022-02-23T21:41:12.948Z"
   },
   {
    "duration": 4,
    "start_time": "2022-02-23T21:41:12.953Z"
   },
   {
    "duration": 5,
    "start_time": "2022-02-23T21:41:12.958Z"
   },
   {
    "duration": 4,
    "start_time": "2022-02-23T21:41:12.964Z"
   },
   {
    "duration": 4,
    "start_time": "2022-02-23T21:41:12.970Z"
   },
   {
    "duration": 8,
    "start_time": "2022-02-23T21:41:12.975Z"
   },
   {
    "duration": 4,
    "start_time": "2022-02-23T21:41:12.985Z"
   },
   {
    "duration": 4,
    "start_time": "2022-02-23T21:41:12.991Z"
   },
   {
    "duration": 4,
    "start_time": "2022-02-23T21:41:12.997Z"
   },
   {
    "duration": 4,
    "start_time": "2022-02-23T21:41:13.002Z"
   },
   {
    "duration": 23,
    "start_time": "2022-02-23T21:41:13.008Z"
   },
   {
    "duration": 5,
    "start_time": "2022-02-23T21:41:13.032Z"
   },
   {
    "duration": 4,
    "start_time": "2022-02-23T21:41:13.038Z"
   },
   {
    "duration": 4,
    "start_time": "2022-02-23T21:41:13.044Z"
   },
   {
    "duration": 5,
    "start_time": "2022-02-23T21:41:13.050Z"
   },
   {
    "duration": 4,
    "start_time": "2022-02-23T21:41:13.057Z"
   },
   {
    "duration": 4,
    "start_time": "2022-02-23T21:41:13.063Z"
   },
   {
    "duration": 5,
    "start_time": "2022-02-23T21:41:13.069Z"
   },
   {
    "duration": 4,
    "start_time": "2022-02-23T21:41:13.076Z"
   },
   {
    "duration": 5,
    "start_time": "2022-02-23T21:41:13.082Z"
   },
   {
    "duration": 2,
    "start_time": "2022-02-23T21:41:13.091Z"
   },
   {
    "duration": 4,
    "start_time": "2022-02-23T21:41:13.094Z"
   },
   {
    "duration": 2,
    "start_time": "2022-02-23T21:41:13.130Z"
   },
   {
    "duration": 6,
    "start_time": "2022-02-23T21:41:13.134Z"
   },
   {
    "duration": 6,
    "start_time": "2022-02-23T21:41:57.361Z"
   },
   {
    "duration": 229,
    "start_time": "2022-02-23T21:42:18.090Z"
   },
   {
    "duration": 17,
    "start_time": "2022-02-23T21:42:42.815Z"
   },
   {
    "duration": 3,
    "start_time": "2022-02-23T21:50:30.763Z"
   },
   {
    "duration": 4,
    "start_time": "2022-02-23T21:51:04.966Z"
   },
   {
    "duration": 3,
    "start_time": "2022-02-23T22:11:58.634Z"
   },
   {
    "duration": 3,
    "start_time": "2022-02-23T22:12:21.528Z"
   },
   {
    "duration": 8,
    "start_time": "2022-02-23T22:13:20.298Z"
   },
   {
    "duration": 5,
    "start_time": "2022-02-23T22:13:50.206Z"
   },
   {
    "duration": 29,
    "start_time": "2022-02-23T22:23:59.307Z"
   },
   {
    "duration": 25,
    "start_time": "2022-02-23T22:24:35.257Z"
   },
   {
    "duration": 24,
    "start_time": "2022-02-23T22:25:27.360Z"
   },
   {
    "duration": 22,
    "start_time": "2022-02-23T22:25:36.666Z"
   },
   {
    "duration": 614,
    "start_time": "2022-02-23T22:30:08.441Z"
   },
   {
    "duration": 13,
    "start_time": "2022-02-23T22:30:09.057Z"
   },
   {
    "duration": 9,
    "start_time": "2022-02-23T22:30:09.072Z"
   },
   {
    "duration": 12,
    "start_time": "2022-02-23T22:30:09.083Z"
   },
   {
    "duration": 40,
    "start_time": "2022-02-23T22:30:09.097Z"
   },
   {
    "duration": 6,
    "start_time": "2022-02-23T22:30:09.139Z"
   },
   {
    "duration": 12,
    "start_time": "2022-02-23T22:30:09.146Z"
   },
   {
    "duration": 19,
    "start_time": "2022-02-23T22:30:09.161Z"
   },
   {
    "duration": 51,
    "start_time": "2022-02-23T22:30:09.182Z"
   },
   {
    "duration": 2,
    "start_time": "2022-02-23T22:30:09.235Z"
   },
   {
    "duration": 5,
    "start_time": "2022-02-23T22:30:09.238Z"
   },
   {
    "duration": 7,
    "start_time": "2022-02-23T22:30:09.245Z"
   },
   {
    "duration": 12,
    "start_time": "2022-02-23T22:30:09.253Z"
   },
   {
    "duration": 7,
    "start_time": "2022-02-23T22:30:09.267Z"
   },
   {
    "duration": 6,
    "start_time": "2022-02-23T22:30:09.276Z"
   },
   {
    "duration": 15,
    "start_time": "2022-02-23T22:30:09.284Z"
   },
   {
    "duration": 33,
    "start_time": "2022-02-23T22:30:09.300Z"
   },
   {
    "duration": 5,
    "start_time": "2022-02-23T22:30:09.335Z"
   },
   {
    "duration": 2,
    "start_time": "2022-02-23T22:30:09.342Z"
   },
   {
    "duration": 3,
    "start_time": "2022-02-23T22:30:09.347Z"
   },
   {
    "duration": 7,
    "start_time": "2022-02-23T22:30:09.352Z"
   },
   {
    "duration": 6,
    "start_time": "2022-02-23T22:30:09.361Z"
   },
   {
    "duration": 2,
    "start_time": "2022-02-23T22:30:09.372Z"
   },
   {
    "duration": 4,
    "start_time": "2022-02-23T22:30:09.376Z"
   },
   {
    "duration": 60,
    "start_time": "2022-02-23T22:30:09.382Z"
   },
   {
    "duration": 4,
    "start_time": "2022-02-23T22:30:09.444Z"
   },
   {
    "duration": 4,
    "start_time": "2022-02-23T22:30:09.450Z"
   },
   {
    "duration": 13,
    "start_time": "2022-02-23T22:30:09.455Z"
   },
   {
    "duration": 4,
    "start_time": "2022-02-23T22:30:09.469Z"
   },
   {
    "duration": 4,
    "start_time": "2022-02-23T22:30:09.475Z"
   },
   {
    "duration": 7,
    "start_time": "2022-02-23T22:30:09.480Z"
   },
   {
    "duration": 42,
    "start_time": "2022-02-23T22:30:09.488Z"
   },
   {
    "duration": 23,
    "start_time": "2022-02-23T22:30:09.532Z"
   },
   {
    "duration": 17,
    "start_time": "2022-02-23T22:30:09.556Z"
   },
   {
    "duration": 15,
    "start_time": "2022-02-23T22:30:09.574Z"
   },
   {
    "duration": 44,
    "start_time": "2022-02-23T22:30:09.590Z"
   },
   {
    "duration": 3,
    "start_time": "2022-02-23T22:30:09.635Z"
   },
   {
    "duration": 5,
    "start_time": "2022-02-23T22:30:09.640Z"
   },
   {
    "duration": 10,
    "start_time": "2022-02-23T22:30:09.646Z"
   },
   {
    "duration": 14,
    "start_time": "2022-02-23T22:30:09.657Z"
   },
   {
    "duration": 8,
    "start_time": "2022-02-23T22:30:09.672Z"
   },
   {
    "duration": 24,
    "start_time": "2022-02-23T22:30:09.681Z"
   },
   {
    "duration": 4,
    "start_time": "2022-02-23T22:30:09.706Z"
   },
   {
    "duration": 21,
    "start_time": "2022-02-23T22:30:09.711Z"
   },
   {
    "duration": 4,
    "start_time": "2022-02-23T22:30:09.734Z"
   },
   {
    "duration": 4,
    "start_time": "2022-02-23T22:30:09.740Z"
   },
   {
    "duration": 9,
    "start_time": "2022-02-23T22:30:09.746Z"
   },
   {
    "duration": 4,
    "start_time": "2022-02-23T22:30:09.757Z"
   },
   {
    "duration": 4,
    "start_time": "2022-02-23T22:30:09.763Z"
   },
   {
    "duration": 5,
    "start_time": "2022-02-23T22:30:09.769Z"
   },
   {
    "duration": 6,
    "start_time": "2022-02-23T22:30:09.775Z"
   },
   {
    "duration": 4,
    "start_time": "2022-02-23T22:30:09.782Z"
   },
   {
    "duration": 4,
    "start_time": "2022-02-23T22:30:09.788Z"
   },
   {
    "duration": 4,
    "start_time": "2022-02-23T22:30:09.794Z"
   },
   {
    "duration": 31,
    "start_time": "2022-02-23T22:30:09.800Z"
   },
   {
    "duration": 5,
    "start_time": "2022-02-23T22:30:09.833Z"
   },
   {
    "duration": 4,
    "start_time": "2022-02-23T22:30:09.839Z"
   },
   {
    "duration": 4,
    "start_time": "2022-02-23T22:30:09.844Z"
   },
   {
    "duration": 5,
    "start_time": "2022-02-23T22:30:09.849Z"
   },
   {
    "duration": 6,
    "start_time": "2022-02-23T22:30:09.856Z"
   },
   {
    "duration": 4,
    "start_time": "2022-02-23T22:30:09.864Z"
   },
   {
    "duration": 4,
    "start_time": "2022-02-23T22:30:09.870Z"
   },
   {
    "duration": 4,
    "start_time": "2022-02-23T22:30:09.876Z"
   },
   {
    "duration": 4,
    "start_time": "2022-02-23T22:30:09.882Z"
   },
   {
    "duration": 4,
    "start_time": "2022-02-23T22:30:09.887Z"
   },
   {
    "duration": 6,
    "start_time": "2022-02-23T22:30:09.892Z"
   },
   {
    "duration": 5,
    "start_time": "2022-02-23T22:30:09.899Z"
   },
   {
    "duration": 2,
    "start_time": "2022-02-23T22:30:09.933Z"
   },
   {
    "duration": 6,
    "start_time": "2022-02-23T22:30:09.937Z"
   },
   {
    "duration": 4,
    "start_time": "2022-02-23T22:30:09.945Z"
   },
   {
    "duration": 5,
    "start_time": "2022-02-23T22:30:09.950Z"
   },
   {
    "duration": 26,
    "start_time": "2022-02-23T22:31:46.054Z"
   },
   {
    "duration": 27,
    "start_time": "2022-02-23T22:32:28.220Z"
   },
   {
    "duration": 298,
    "start_time": "2022-02-23T22:33:15.794Z"
   },
   {
    "duration": 173,
    "start_time": "2022-02-23T22:33:37.819Z"
   },
   {
    "duration": 7,
    "start_time": "2022-02-23T22:35:11.785Z"
   },
   {
    "duration": 562,
    "start_time": "2022-02-23T22:35:44.195Z"
   },
   {
    "duration": 12,
    "start_time": "2022-02-23T22:35:44.758Z"
   },
   {
    "duration": 9,
    "start_time": "2022-02-23T22:35:44.772Z"
   },
   {
    "duration": 14,
    "start_time": "2022-02-23T22:35:44.783Z"
   },
   {
    "duration": 11,
    "start_time": "2022-02-23T22:35:44.799Z"
   },
   {
    "duration": 6,
    "start_time": "2022-02-23T22:35:44.830Z"
   },
   {
    "duration": 8,
    "start_time": "2022-02-23T22:35:44.837Z"
   },
   {
    "duration": 16,
    "start_time": "2022-02-23T22:35:44.847Z"
   },
   {
    "duration": 18,
    "start_time": "2022-02-23T22:35:44.865Z"
   },
   {
    "duration": 2,
    "start_time": "2022-02-23T22:35:44.885Z"
   },
   {
    "duration": 4,
    "start_time": "2022-02-23T22:35:44.888Z"
   },
   {
    "duration": 36,
    "start_time": "2022-02-23T22:35:44.894Z"
   },
   {
    "duration": 12,
    "start_time": "2022-02-23T22:35:44.932Z"
   },
   {
    "duration": 5,
    "start_time": "2022-02-23T22:35:44.945Z"
   },
   {
    "duration": 5,
    "start_time": "2022-02-23T22:35:44.951Z"
   },
   {
    "duration": 11,
    "start_time": "2022-02-23T22:35:44.957Z"
   },
   {
    "duration": 4,
    "start_time": "2022-02-23T22:35:44.970Z"
   },
   {
    "duration": 7,
    "start_time": "2022-02-23T22:35:44.975Z"
   },
   {
    "duration": 2,
    "start_time": "2022-02-23T22:35:44.984Z"
   },
   {
    "duration": 5,
    "start_time": "2022-02-23T22:35:44.987Z"
   },
   {
    "duration": 38,
    "start_time": "2022-02-23T22:35:44.993Z"
   },
   {
    "duration": 16,
    "start_time": "2022-02-23T22:35:45.032Z"
   },
   {
    "duration": 3,
    "start_time": "2022-02-23T22:35:45.051Z"
   },
   {
    "duration": 6,
    "start_time": "2022-02-23T22:35:45.056Z"
   },
   {
    "duration": 19,
    "start_time": "2022-02-23T22:35:45.063Z"
   },
   {
    "duration": 4,
    "start_time": "2022-02-23T22:35:45.083Z"
   },
   {
    "duration": 5,
    "start_time": "2022-02-23T22:35:45.088Z"
   },
   {
    "duration": 37,
    "start_time": "2022-02-23T22:35:45.095Z"
   },
   {
    "duration": 6,
    "start_time": "2022-02-23T22:35:45.134Z"
   },
   {
    "duration": 5,
    "start_time": "2022-02-23T22:35:45.142Z"
   },
   {
    "duration": 8,
    "start_time": "2022-02-23T22:35:45.149Z"
   },
   {
    "duration": 5,
    "start_time": "2022-02-23T22:35:45.159Z"
   },
   {
    "duration": 30,
    "start_time": "2022-02-23T22:35:45.166Z"
   },
   {
    "duration": 46,
    "start_time": "2022-02-23T22:35:45.198Z"
   },
   {
    "duration": 16,
    "start_time": "2022-02-23T22:35:45.246Z"
   },
   {
    "duration": 12,
    "start_time": "2022-02-23T22:35:45.264Z"
   },
   {
    "duration": 2,
    "start_time": "2022-02-23T22:35:45.278Z"
   },
   {
    "duration": 6,
    "start_time": "2022-02-23T22:35:45.282Z"
   },
   {
    "duration": 4,
    "start_time": "2022-02-23T22:35:45.290Z"
   },
   {
    "duration": 9,
    "start_time": "2022-02-23T22:35:45.331Z"
   },
   {
    "duration": 7,
    "start_time": "2022-02-23T22:35:45.342Z"
   },
   {
    "duration": 8,
    "start_time": "2022-02-23T22:35:45.351Z"
   },
   {
    "duration": 3187,
    "start_time": "2022-02-23T22:35:45.361Z"
   },
   {
    "duration": -344,
    "start_time": "2022-02-23T22:35:48.894Z"
   },
   {
    "duration": -388,
    "start_time": "2022-02-23T22:35:48.938Z"
   },
   {
    "duration": -409,
    "start_time": "2022-02-23T22:35:48.960Z"
   },
   {
    "duration": -418,
    "start_time": "2022-02-23T22:35:48.970Z"
   },
   {
    "duration": -424,
    "start_time": "2022-02-23T22:35:48.977Z"
   },
   {
    "duration": -433,
    "start_time": "2022-02-23T22:35:48.987Z"
   },
   {
    "duration": -439,
    "start_time": "2022-02-23T22:35:48.994Z"
   },
   {
    "duration": -448,
    "start_time": "2022-02-23T22:35:49.004Z"
   },
   {
    "duration": -454,
    "start_time": "2022-02-23T22:35:49.011Z"
   },
   {
    "duration": -465,
    "start_time": "2022-02-23T22:35:49.023Z"
   },
   {
    "duration": -471,
    "start_time": "2022-02-23T22:35:49.030Z"
   },
   {
    "duration": -479,
    "start_time": "2022-02-23T22:35:49.039Z"
   },
   {
    "duration": -484,
    "start_time": "2022-02-23T22:35:49.045Z"
   },
   {
    "duration": -493,
    "start_time": "2022-02-23T22:35:49.055Z"
   },
   {
    "duration": -500,
    "start_time": "2022-02-23T22:35:49.062Z"
   },
   {
    "duration": -509,
    "start_time": "2022-02-23T22:35:49.072Z"
   },
   {
    "duration": -531,
    "start_time": "2022-02-23T22:35:49.095Z"
   },
   {
    "duration": -557,
    "start_time": "2022-02-23T22:35:49.122Z"
   },
   {
    "duration": -563,
    "start_time": "2022-02-23T22:35:49.129Z"
   },
   {
    "duration": -572,
    "start_time": "2022-02-23T22:35:49.139Z"
   },
   {
    "duration": -580,
    "start_time": "2022-02-23T22:35:49.149Z"
   },
   {
    "duration": -588,
    "start_time": "2022-02-23T22:35:49.158Z"
   },
   {
    "duration": -595,
    "start_time": "2022-02-23T22:35:49.166Z"
   },
   {
    "duration": -602,
    "start_time": "2022-02-23T22:35:49.174Z"
   },
   {
    "duration": -609,
    "start_time": "2022-02-23T22:35:49.182Z"
   },
   {
    "duration": -616,
    "start_time": "2022-02-23T22:35:49.190Z"
   },
   {
    "duration": -622,
    "start_time": "2022-02-23T22:35:49.197Z"
   },
   {
    "duration": -628,
    "start_time": "2022-02-23T22:35:49.205Z"
   },
   {
    "duration": 27,
    "start_time": "2022-02-23T22:38:55.084Z"
   },
   {
    "duration": 218,
    "start_time": "2022-02-23T22:39:38.054Z"
   },
   {
    "duration": 23,
    "start_time": "2022-02-23T22:40:07.475Z"
   },
   {
    "duration": 20,
    "start_time": "2022-02-23T22:43:33.484Z"
   },
   {
    "duration": 23,
    "start_time": "2022-02-23T22:49:00.137Z"
   },
   {
    "duration": 28,
    "start_time": "2022-02-23T22:49:45.237Z"
   },
   {
    "duration": 22,
    "start_time": "2022-02-23T22:50:15.675Z"
   },
   {
    "duration": 4,
    "start_time": "2022-02-23T22:50:20.800Z"
   },
   {
    "duration": 4,
    "start_time": "2022-02-23T22:50:24.126Z"
   },
   {
    "duration": 7,
    "start_time": "2022-02-23T22:55:14.430Z"
   },
   {
    "duration": 89,
    "start_time": "2022-02-23T22:56:13.512Z"
   },
   {
    "duration": 170,
    "start_time": "2022-02-23T22:56:26.002Z"
   },
   {
    "duration": 74,
    "start_time": "2022-02-23T23:00:19.956Z"
   },
   {
    "duration": 7,
    "start_time": "2022-02-23T23:00:32.307Z"
   },
   {
    "duration": 11,
    "start_time": "2022-02-23T23:01:08.951Z"
   },
   {
    "duration": 4116,
    "start_time": "2022-02-23T23:03:10.163Z"
   },
   {
    "duration": 4938,
    "start_time": "2022-02-23T23:04:02.495Z"
   },
   {
    "duration": 15,
    "start_time": "2022-02-23T23:05:00.650Z"
   },
   {
    "duration": 4,
    "start_time": "2022-02-23T23:05:19.749Z"
   },
   {
    "duration": 246,
    "start_time": "2022-02-23T23:07:52.411Z"
   },
   {
    "duration": 188,
    "start_time": "2022-02-23T23:09:01.769Z"
   },
   {
    "duration": 167,
    "start_time": "2022-02-23T23:20:51.559Z"
   },
   {
    "duration": 5,
    "start_time": "2022-02-23T23:21:58.567Z"
   },
   {
    "duration": 13,
    "start_time": "2022-02-23T23:22:21.557Z"
   },
   {
    "duration": 7,
    "start_time": "2022-02-23T23:24:24.460Z"
   },
   {
    "duration": 12,
    "start_time": "2022-02-23T23:26:46.042Z"
   },
   {
    "duration": 6,
    "start_time": "2022-02-23T23:29:22.465Z"
   },
   {
    "duration": 2,
    "start_time": "2022-02-23T23:37:37.050Z"
   },
   {
    "duration": 3,
    "start_time": "2022-02-24T00:01:32.235Z"
   },
   {
    "duration": 847,
    "start_time": "2022-02-24T00:02:24.715Z"
   },
   {
    "duration": 3,
    "start_time": "2022-02-24T00:05:21.682Z"
   },
   {
    "duration": 872,
    "start_time": "2022-02-24T00:05:26.289Z"
   },
   {
    "duration": 61,
    "start_time": "2022-02-24T00:08:13.202Z"
   },
   {
    "duration": 3,
    "start_time": "2022-02-24T00:08:26.037Z"
   },
   {
    "duration": 2083,
    "start_time": "2022-02-24T00:08:29.057Z"
   },
   {
    "duration": 1499,
    "start_time": "2022-02-24T00:10:15.031Z"
   },
   {
    "duration": 655,
    "start_time": "2022-02-24T10:34:06.332Z"
   },
   {
    "duration": 13,
    "start_time": "2022-02-24T10:34:06.989Z"
   },
   {
    "duration": 21,
    "start_time": "2022-02-24T10:34:07.004Z"
   },
   {
    "duration": 31,
    "start_time": "2022-02-24T10:34:07.027Z"
   },
   {
    "duration": 14,
    "start_time": "2022-02-24T10:34:07.060Z"
   },
   {
    "duration": 16,
    "start_time": "2022-02-24T10:34:07.075Z"
   },
   {
    "duration": 28,
    "start_time": "2022-02-24T10:34:07.093Z"
   },
   {
    "duration": 19,
    "start_time": "2022-02-24T10:34:07.124Z"
   },
   {
    "duration": 25,
    "start_time": "2022-02-24T10:34:07.146Z"
   },
   {
    "duration": 2,
    "start_time": "2022-02-24T10:34:07.173Z"
   },
   {
    "duration": 10,
    "start_time": "2022-02-24T10:34:07.177Z"
   },
   {
    "duration": 13,
    "start_time": "2022-02-24T10:34:07.188Z"
   },
   {
    "duration": 25,
    "start_time": "2022-02-24T10:34:07.203Z"
   },
   {
    "duration": 13,
    "start_time": "2022-02-24T10:34:07.230Z"
   },
   {
    "duration": 14,
    "start_time": "2022-02-24T10:34:07.246Z"
   },
   {
    "duration": 33,
    "start_time": "2022-02-24T10:34:07.262Z"
   },
   {
    "duration": 21,
    "start_time": "2022-02-24T10:34:07.297Z"
   },
   {
    "duration": 22,
    "start_time": "2022-02-24T10:34:07.320Z"
   },
   {
    "duration": 31,
    "start_time": "2022-02-24T10:34:07.344Z"
   },
   {
    "duration": 15,
    "start_time": "2022-02-24T10:34:07.377Z"
   },
   {
    "duration": 20,
    "start_time": "2022-02-24T10:34:07.394Z"
   },
   {
    "duration": 18,
    "start_time": "2022-02-24T10:34:07.416Z"
   },
   {
    "duration": 18,
    "start_time": "2022-02-24T10:34:07.437Z"
   },
   {
    "duration": 24,
    "start_time": "2022-02-24T10:34:07.458Z"
   },
   {
    "duration": 24,
    "start_time": "2022-02-24T10:34:07.484Z"
   },
   {
    "duration": 11,
    "start_time": "2022-02-24T10:34:07.510Z"
   },
   {
    "duration": 27,
    "start_time": "2022-02-24T10:34:07.523Z"
   },
   {
    "duration": 21,
    "start_time": "2022-02-24T10:34:07.551Z"
   },
   {
    "duration": 13,
    "start_time": "2022-02-24T10:34:07.574Z"
   },
   {
    "duration": 29,
    "start_time": "2022-02-24T10:34:07.588Z"
   },
   {
    "duration": 31,
    "start_time": "2022-02-24T10:34:07.619Z"
   },
   {
    "duration": 39,
    "start_time": "2022-02-24T10:34:07.652Z"
   },
   {
    "duration": 43,
    "start_time": "2022-02-24T10:34:07.693Z"
   },
   {
    "duration": 18,
    "start_time": "2022-02-24T10:34:07.737Z"
   },
   {
    "duration": 19,
    "start_time": "2022-02-24T10:34:07.757Z"
   },
   {
    "duration": 18,
    "start_time": "2022-02-24T10:34:07.777Z"
   },
   {
    "duration": 7,
    "start_time": "2022-02-24T10:34:07.797Z"
   },
   {
    "duration": 10,
    "start_time": "2022-02-24T10:34:07.806Z"
   },
   {
    "duration": 26,
    "start_time": "2022-02-24T10:34:07.818Z"
   },
   {
    "duration": 17,
    "start_time": "2022-02-24T10:34:07.846Z"
   },
   {
    "duration": 17,
    "start_time": "2022-02-24T10:34:07.864Z"
   },
   {
    "duration": 44,
    "start_time": "2022-02-24T10:34:07.883Z"
   },
   {
    "duration": 11,
    "start_time": "2022-02-24T10:34:07.929Z"
   },
   {
    "duration": 7,
    "start_time": "2022-02-24T10:34:07.942Z"
   },
   {
    "duration": 16,
    "start_time": "2022-02-24T10:34:07.951Z"
   },
   {
    "duration": 11,
    "start_time": "2022-02-24T10:34:07.969Z"
   },
   {
    "duration": 1608,
    "start_time": "2022-02-24T10:34:07.982Z"
   },
   {
    "duration": -598,
    "start_time": "2022-02-24T10:34:10.190Z"
   },
   {
    "duration": -609,
    "start_time": "2022-02-24T10:34:10.202Z"
   },
   {
    "duration": -620,
    "start_time": "2022-02-24T10:34:10.214Z"
   },
   {
    "duration": -629,
    "start_time": "2022-02-24T10:34:10.225Z"
   },
   {
    "duration": -639,
    "start_time": "2022-02-24T10:34:10.236Z"
   },
   {
    "duration": -650,
    "start_time": "2022-02-24T10:34:10.248Z"
   },
   {
    "duration": -661,
    "start_time": "2022-02-24T10:34:10.259Z"
   },
   {
    "duration": -668,
    "start_time": "2022-02-24T10:34:10.267Z"
   },
   {
    "duration": -686,
    "start_time": "2022-02-24T10:34:10.286Z"
   },
   {
    "duration": -692,
    "start_time": "2022-02-24T10:34:10.293Z"
   },
   {
    "duration": -698,
    "start_time": "2022-02-24T10:34:10.300Z"
   },
   {
    "duration": -822,
    "start_time": "2022-02-24T10:34:10.425Z"
   },
   {
    "duration": -828,
    "start_time": "2022-02-24T10:34:10.432Z"
   },
   {
    "duration": -833,
    "start_time": "2022-02-24T10:34:10.438Z"
   },
   {
    "duration": -838,
    "start_time": "2022-02-24T10:34:10.444Z"
   },
   {
    "duration": -844,
    "start_time": "2022-02-24T10:34:10.451Z"
   },
   {
    "duration": -849,
    "start_time": "2022-02-24T10:34:10.457Z"
   },
   {
    "duration": -866,
    "start_time": "2022-02-24T10:34:10.475Z"
   },
   {
    "duration": -873,
    "start_time": "2022-02-24T10:34:10.482Z"
   },
   {
    "duration": -878,
    "start_time": "2022-02-24T10:34:10.488Z"
   },
   {
    "duration": -884,
    "start_time": "2022-02-24T10:34:10.495Z"
   },
   {
    "duration": -890,
    "start_time": "2022-02-24T10:34:10.502Z"
   },
   {
    "duration": -895,
    "start_time": "2022-02-24T10:34:10.508Z"
   },
   {
    "duration": -902,
    "start_time": "2022-02-24T10:34:10.516Z"
   },
   {
    "duration": 61,
    "start_time": "2022-02-24T10:35:42.778Z"
   },
   {
    "duration": 3,
    "start_time": "2022-02-24T10:41:46.361Z"
   },
   {
    "duration": 2193,
    "start_time": "2022-02-24T10:41:50.350Z"
   },
   {
    "duration": 3,
    "start_time": "2022-02-24T10:43:29.040Z"
   },
   {
    "duration": 1543,
    "start_time": "2022-02-24T10:44:24.954Z"
   },
   {
    "duration": 16,
    "start_time": "2022-02-24T10:45:02.014Z"
   },
   {
    "duration": 77,
    "start_time": "2022-02-24T10:49:37.856Z"
   },
   {
    "duration": 3437,
    "start_time": "2022-02-24T10:49:48.039Z"
   },
   {
    "duration": 3360,
    "start_time": "2022-02-24T10:50:26.965Z"
   },
   {
    "duration": 59,
    "start_time": "2022-02-24T10:56:12.237Z"
   },
   {
    "duration": 3,
    "start_time": "2022-02-24T10:56:22.025Z"
   },
   {
    "duration": 3,
    "start_time": "2022-02-24T10:56:35.641Z"
   },
   {
    "duration": 82,
    "start_time": "2022-02-24T10:56:38.880Z"
   },
   {
    "duration": 3,
    "start_time": "2022-02-24T10:56:54.694Z"
   },
   {
    "duration": 623,
    "start_time": "2022-02-24T12:06:56.669Z"
   },
   {
    "duration": 13,
    "start_time": "2022-02-24T12:06:57.293Z"
   },
   {
    "duration": 13,
    "start_time": "2022-02-24T12:06:57.308Z"
   },
   {
    "duration": 18,
    "start_time": "2022-02-24T12:06:57.323Z"
   },
   {
    "duration": 27,
    "start_time": "2022-02-24T12:06:57.342Z"
   },
   {
    "duration": 29,
    "start_time": "2022-02-24T12:06:57.371Z"
   },
   {
    "duration": 30,
    "start_time": "2022-02-24T12:06:57.402Z"
   },
   {
    "duration": 22,
    "start_time": "2022-02-24T12:06:57.435Z"
   },
   {
    "duration": 22,
    "start_time": "2022-02-24T12:06:57.459Z"
   },
   {
    "duration": 2,
    "start_time": "2022-02-24T12:06:57.483Z"
   },
   {
    "duration": 7,
    "start_time": "2022-02-24T12:06:57.486Z"
   },
   {
    "duration": 18,
    "start_time": "2022-02-24T12:06:57.494Z"
   },
   {
    "duration": 22,
    "start_time": "2022-02-24T12:06:57.514Z"
   },
   {
    "duration": 7,
    "start_time": "2022-02-24T12:06:57.538Z"
   },
   {
    "duration": 22,
    "start_time": "2022-02-24T12:06:57.547Z"
   },
   {
    "duration": 19,
    "start_time": "2022-02-24T12:06:57.571Z"
   },
   {
    "duration": 3,
    "start_time": "2022-02-24T12:06:57.591Z"
   },
   {
    "duration": 8,
    "start_time": "2022-02-24T12:06:57.596Z"
   },
   {
    "duration": 13,
    "start_time": "2022-02-24T12:06:57.605Z"
   },
   {
    "duration": 5,
    "start_time": "2022-02-24T12:06:57.619Z"
   },
   {
    "duration": 12,
    "start_time": "2022-02-24T12:06:57.626Z"
   },
   {
    "duration": 18,
    "start_time": "2022-02-24T12:06:57.639Z"
   },
   {
    "duration": 26,
    "start_time": "2022-02-24T12:06:57.662Z"
   },
   {
    "duration": 10,
    "start_time": "2022-02-24T12:06:57.691Z"
   },
   {
    "duration": 19,
    "start_time": "2022-02-24T12:06:57.703Z"
   },
   {
    "duration": 4,
    "start_time": "2022-02-24T12:06:57.724Z"
   },
   {
    "duration": 7,
    "start_time": "2022-02-24T12:06:57.730Z"
   },
   {
    "duration": 13,
    "start_time": "2022-02-24T12:06:57.739Z"
   },
   {
    "duration": 9,
    "start_time": "2022-02-24T12:06:57.754Z"
   },
   {
    "duration": 6,
    "start_time": "2022-02-24T12:06:57.765Z"
   },
   {
    "duration": 10,
    "start_time": "2022-02-24T12:06:57.773Z"
   },
   {
    "duration": 8,
    "start_time": "2022-02-24T12:06:57.784Z"
   },
   {
    "duration": 26,
    "start_time": "2022-02-24T12:06:57.794Z"
   },
   {
    "duration": 16,
    "start_time": "2022-02-24T12:06:57.822Z"
   },
   {
    "duration": 14,
    "start_time": "2022-02-24T12:06:57.859Z"
   },
   {
    "duration": 10,
    "start_time": "2022-02-24T12:06:57.875Z"
   },
   {
    "duration": 6,
    "start_time": "2022-02-24T12:06:57.887Z"
   },
   {
    "duration": 6,
    "start_time": "2022-02-24T12:06:57.894Z"
   },
   {
    "duration": 12,
    "start_time": "2022-02-24T12:06:57.901Z"
   },
   {
    "duration": 8,
    "start_time": "2022-02-24T12:06:57.915Z"
   },
   {
    "duration": 7,
    "start_time": "2022-02-24T12:06:57.925Z"
   },
   {
    "duration": 53,
    "start_time": "2022-02-24T12:06:57.933Z"
   },
   {
    "duration": 10,
    "start_time": "2022-02-24T12:06:57.988Z"
   },
   {
    "duration": 7,
    "start_time": "2022-02-24T12:06:58.000Z"
   },
   {
    "duration": 6,
    "start_time": "2022-02-24T12:06:58.009Z"
   },
   {
    "duration": 8,
    "start_time": "2022-02-24T12:06:58.016Z"
   },
   {
    "duration": 107,
    "start_time": "2022-02-24T12:06:58.026Z"
   },
   {
    "duration": 3,
    "start_time": "2022-02-24T12:06:58.135Z"
   },
   {
    "duration": 8,
    "start_time": "2022-02-24T12:06:58.139Z"
   },
   {
    "duration": 10,
    "start_time": "2022-02-24T12:06:58.149Z"
   },
   {
    "duration": 6,
    "start_time": "2022-02-24T12:06:58.162Z"
   },
   {
    "duration": 11,
    "start_time": "2022-02-24T12:06:58.170Z"
   },
   {
    "duration": 8,
    "start_time": "2022-02-24T12:06:58.183Z"
   },
   {
    "duration": 7,
    "start_time": "2022-02-24T12:06:58.193Z"
   },
   {
    "duration": 8,
    "start_time": "2022-02-24T12:06:58.202Z"
   },
   {
    "duration": 14,
    "start_time": "2022-02-24T12:06:58.212Z"
   },
   {
    "duration": 6,
    "start_time": "2022-02-24T12:06:58.228Z"
   },
   {
    "duration": 5,
    "start_time": "2022-02-24T12:06:58.236Z"
   },
   {
    "duration": 5,
    "start_time": "2022-02-24T12:06:58.242Z"
   },
   {
    "duration": 6,
    "start_time": "2022-02-24T12:06:58.249Z"
   },
   {
    "duration": 5,
    "start_time": "2022-02-24T12:06:58.256Z"
   },
   {
    "duration": 5,
    "start_time": "2022-02-24T12:06:58.263Z"
   },
   {
    "duration": 5,
    "start_time": "2022-02-24T12:06:58.269Z"
   },
   {
    "duration": 8,
    "start_time": "2022-02-24T12:06:58.276Z"
   },
   {
    "duration": 6,
    "start_time": "2022-02-24T12:06:58.285Z"
   },
   {
    "duration": 10,
    "start_time": "2022-02-24T12:06:58.293Z"
   },
   {
    "duration": 5,
    "start_time": "2022-02-24T12:06:58.305Z"
   },
   {
    "duration": 2,
    "start_time": "2022-02-24T12:06:58.314Z"
   },
   {
    "duration": 7,
    "start_time": "2022-02-24T12:06:58.317Z"
   },
   {
    "duration": 6,
    "start_time": "2022-02-24T12:06:58.325Z"
   },
   {
    "duration": 8,
    "start_time": "2022-02-24T12:06:58.333Z"
   },
   {
    "duration": 5,
    "start_time": "2022-02-24T12:27:56.773Z"
   },
   {
    "duration": 5,
    "start_time": "2022-02-24T12:33:32.422Z"
   },
   {
    "duration": 1574,
    "start_time": "2022-02-26T22:28:57.684Z"
   },
   {
    "duration": 7,
    "start_time": "2022-02-26T22:29:13.739Z"
   },
   {
    "duration": 15,
    "start_time": "2022-02-26T22:29:18.058Z"
   },
   {
    "duration": 7,
    "start_time": "2022-02-26T22:29:20.172Z"
   },
   {
    "duration": 6,
    "start_time": "2022-02-26T22:29:25.582Z"
   },
   {
    "duration": 18,
    "start_time": "2022-02-26T22:29:28.366Z"
   },
   {
    "duration": 5,
    "start_time": "2022-02-26T22:29:30.508Z"
   },
   {
    "duration": 7,
    "start_time": "2022-02-26T22:29:36.715Z"
   },
   {
    "duration": 6,
    "start_time": "2022-02-26T22:29:45.552Z"
   },
   {
    "duration": 7,
    "start_time": "2022-02-26T22:29:48.061Z"
   },
   {
    "duration": 23,
    "start_time": "2022-02-26T22:31:40.356Z"
   },
   {
    "duration": 5,
    "start_time": "2022-02-26T22:31:49.753Z"
   },
   {
    "duration": 5,
    "start_time": "2022-02-26T22:31:56.214Z"
   },
   {
    "duration": 14,
    "start_time": "2022-02-26T22:32:02.781Z"
   },
   {
    "duration": 5,
    "start_time": "2022-02-26T22:32:07.997Z"
   },
   {
    "duration": 6,
    "start_time": "2022-02-26T22:32:13.404Z"
   },
   {
    "duration": 9,
    "start_time": "2022-02-26T22:32:18.739Z"
   },
   {
    "duration": 5,
    "start_time": "2022-02-26T22:32:25.698Z"
   },
   {
    "duration": 34,
    "start_time": "2022-02-26T22:32:31.496Z"
   },
   {
    "duration": 23,
    "start_time": "2022-02-26T22:32:36.432Z"
   },
   {
    "duration": 21,
    "start_time": "2022-02-26T22:32:38.742Z"
   },
   {
    "duration": 14,
    "start_time": "2022-02-26T22:32:43.079Z"
   },
   {
    "duration": 4,
    "start_time": "2022-02-26T22:32:47.331Z"
   },
   {
    "duration": 4,
    "start_time": "2022-02-26T22:32:49.501Z"
   },
   {
    "duration": 10,
    "start_time": "2022-02-26T22:32:53.206Z"
   },
   {
    "duration": 6,
    "start_time": "2022-02-26T22:32:55.336Z"
   },
   {
    "duration": 37,
    "start_time": "2022-02-26T22:33:02.856Z"
   },
   {
    "duration": 16,
    "start_time": "2022-02-26T22:33:07.336Z"
   },
   {
    "duration": 8,
    "start_time": "2022-02-26T22:33:11.266Z"
   },
   {
    "duration": 5,
    "start_time": "2022-02-26T22:33:19.531Z"
   },
   {
    "duration": 19,
    "start_time": "2022-02-26T22:33:53.274Z"
   },
   {
    "duration": 293,
    "start_time": "2022-02-26T22:33:58.616Z"
   },
   {
    "duration": 798,
    "start_time": "2022-02-26T22:34:31.475Z"
   },
   {
    "duration": 19,
    "start_time": "2022-02-26T22:34:32.275Z"
   },
   {
    "duration": 14,
    "start_time": "2022-02-26T22:34:32.297Z"
   },
   {
    "duration": 15,
    "start_time": "2022-02-26T22:34:32.313Z"
   },
   {
    "duration": 20,
    "start_time": "2022-02-26T22:34:32.331Z"
   },
   {
    "duration": 10,
    "start_time": "2022-02-26T22:34:32.386Z"
   },
   {
    "duration": 16,
    "start_time": "2022-02-26T22:34:32.398Z"
   },
   {
    "duration": 29,
    "start_time": "2022-02-26T22:34:32.417Z"
   },
   {
    "duration": 34,
    "start_time": "2022-02-26T22:34:32.487Z"
   },
   {
    "duration": 3,
    "start_time": "2022-02-26T22:34:32.524Z"
   },
   {
    "duration": 5,
    "start_time": "2022-02-26T22:34:32.530Z"
   },
   {
    "duration": 9,
    "start_time": "2022-02-26T22:34:32.538Z"
   },
   {
    "duration": 14,
    "start_time": "2022-02-26T22:34:32.588Z"
   },
   {
    "duration": 9,
    "start_time": "2022-02-26T22:34:32.604Z"
   },
   {
    "duration": 7,
    "start_time": "2022-02-26T22:34:32.616Z"
   },
   {
    "duration": 20,
    "start_time": "2022-02-26T22:34:32.626Z"
   },
   {
    "duration": 39,
    "start_time": "2022-02-26T22:34:32.649Z"
   },
   {
    "duration": 11,
    "start_time": "2022-02-26T22:34:32.690Z"
   },
   {
    "duration": 7,
    "start_time": "2022-02-26T22:34:32.703Z"
   },
   {
    "duration": 5,
    "start_time": "2022-02-26T22:34:32.712Z"
   },
   {
    "duration": 7,
    "start_time": "2022-02-26T22:34:32.720Z"
   },
   {
    "duration": 10,
    "start_time": "2022-02-26T22:34:32.730Z"
   },
   {
    "duration": 39,
    "start_time": "2022-02-26T22:34:32.748Z"
   },
   {
    "duration": 8,
    "start_time": "2022-02-26T22:34:32.793Z"
   },
   {
    "duration": 28,
    "start_time": "2022-02-26T22:34:32.803Z"
   },
   {
    "duration": 6,
    "start_time": "2022-02-26T22:34:32.833Z"
   },
   {
    "duration": 13,
    "start_time": "2022-02-26T22:34:32.841Z"
   },
   {
    "duration": 13,
    "start_time": "2022-02-26T22:34:32.886Z"
   },
   {
    "duration": 17,
    "start_time": "2022-02-26T22:34:32.902Z"
   },
   {
    "duration": 10,
    "start_time": "2022-02-26T22:34:32.921Z"
   },
   {
    "duration": 13,
    "start_time": "2022-02-26T22:34:32.933Z"
   },
   {
    "duration": 15,
    "start_time": "2022-02-26T22:34:32.948Z"
   },
   {
    "duration": 52,
    "start_time": "2022-02-26T22:34:32.965Z"
   },
   {
    "duration": 22,
    "start_time": "2022-02-26T22:34:33.019Z"
   },
   {
    "duration": 20,
    "start_time": "2022-02-26T22:34:33.044Z"
   },
   {
    "duration": 14,
    "start_time": "2022-02-26T22:34:33.087Z"
   },
   {
    "duration": 3,
    "start_time": "2022-02-26T22:34:33.104Z"
   },
   {
    "duration": 5,
    "start_time": "2022-02-26T22:34:33.110Z"
   },
   {
    "duration": 5,
    "start_time": "2022-02-26T22:34:33.118Z"
   },
   {
    "duration": 11,
    "start_time": "2022-02-26T22:34:33.126Z"
   },
   {
    "duration": 51,
    "start_time": "2022-02-26T22:34:33.139Z"
   },
   {
    "duration": 40,
    "start_time": "2022-02-26T22:34:33.193Z"
   },
   {
    "duration": 15,
    "start_time": "2022-02-26T22:34:33.235Z"
   },
   {
    "duration": 38,
    "start_time": "2022-02-26T22:34:33.252Z"
   },
   {
    "duration": 12,
    "start_time": "2022-02-26T22:34:33.292Z"
   },
   {
    "duration": 10,
    "start_time": "2022-02-26T22:34:33.306Z"
   },
   {
    "duration": 7,
    "start_time": "2022-02-26T22:34:33.318Z"
   },
   {
    "duration": 12,
    "start_time": "2022-02-26T22:34:33.328Z"
   },
   {
    "duration": 10,
    "start_time": "2022-02-26T22:34:33.342Z"
   },
   {
    "duration": 9,
    "start_time": "2022-02-26T22:34:33.354Z"
   },
   {
    "duration": 25,
    "start_time": "2022-02-26T22:34:33.365Z"
   },
   {
    "duration": 8,
    "start_time": "2022-02-26T22:34:33.392Z"
   },
   {
    "duration": 5,
    "start_time": "2022-02-26T22:34:33.402Z"
   },
   {
    "duration": 6,
    "start_time": "2022-02-26T22:34:33.409Z"
   },
   {
    "duration": 7,
    "start_time": "2022-02-26T22:34:33.417Z"
   },
   {
    "duration": 6,
    "start_time": "2022-02-26T22:34:33.426Z"
   },
   {
    "duration": 8,
    "start_time": "2022-02-26T22:34:33.434Z"
   },
   {
    "duration": 8,
    "start_time": "2022-02-26T22:34:33.444Z"
   },
   {
    "duration": 3,
    "start_time": "2022-02-26T22:34:33.487Z"
   },
   {
    "duration": 7,
    "start_time": "2022-02-26T22:34:33.492Z"
   },
   {
    "duration": 9,
    "start_time": "2022-02-26T22:34:33.501Z"
   },
   {
    "duration": 6,
    "start_time": "2022-02-26T22:34:33.512Z"
   },
   {
    "duration": 10,
    "start_time": "2022-02-26T22:34:33.521Z"
   },
   {
    "duration": 7,
    "start_time": "2022-02-26T22:34:33.533Z"
   },
   {
    "duration": 8,
    "start_time": "2022-02-26T22:34:33.542Z"
   },
   {
    "duration": 8,
    "start_time": "2022-02-26T22:34:33.552Z"
   },
   {
    "duration": 25,
    "start_time": "2022-02-26T22:34:33.562Z"
   },
   {
    "duration": 3,
    "start_time": "2022-02-26T22:34:33.595Z"
   },
   {
    "duration": 7,
    "start_time": "2022-02-26T22:34:33.600Z"
   },
   {
    "duration": 12,
    "start_time": "2022-02-26T22:34:33.609Z"
   },
   {
    "duration": 6,
    "start_time": "2022-02-26T22:34:33.623Z"
   },
   {
    "duration": 69,
    "start_time": "2022-02-26T22:44:45.568Z"
   },
   {
    "duration": 4,
    "start_time": "2022-02-26T22:44:51.583Z"
   },
   {
    "duration": 351,
    "start_time": "2022-02-26T22:51:48.894Z"
   },
   {
    "duration": 214,
    "start_time": "2022-02-26T22:52:10.820Z"
   },
   {
    "duration": 211,
    "start_time": "2022-02-26T22:52:30.140Z"
   },
   {
    "duration": 9,
    "start_time": "2022-02-26T23:00:05.117Z"
   },
   {
    "duration": 815,
    "start_time": "2022-02-26T23:01:24.469Z"
   },
   {
    "duration": 19,
    "start_time": "2022-02-26T23:01:25.286Z"
   },
   {
    "duration": 18,
    "start_time": "2022-02-26T23:01:25.307Z"
   },
   {
    "duration": 18,
    "start_time": "2022-02-26T23:01:25.328Z"
   },
   {
    "duration": 42,
    "start_time": "2022-02-26T23:01:25.349Z"
   },
   {
    "duration": 8,
    "start_time": "2022-02-26T23:01:25.394Z"
   },
   {
    "duration": 13,
    "start_time": "2022-02-26T23:01:25.405Z"
   },
   {
    "duration": 27,
    "start_time": "2022-02-26T23:01:25.422Z"
   },
   {
    "duration": 32,
    "start_time": "2022-02-26T23:01:25.487Z"
   },
   {
    "duration": 3,
    "start_time": "2022-02-26T23:01:25.521Z"
   },
   {
    "duration": 6,
    "start_time": "2022-02-26T23:01:25.526Z"
   },
   {
    "duration": 9,
    "start_time": "2022-02-26T23:01:25.534Z"
   },
   {
    "duration": 51,
    "start_time": "2022-02-26T23:01:25.545Z"
   },
   {
    "duration": 5,
    "start_time": "2022-02-26T23:01:25.598Z"
   },
   {
    "duration": 6,
    "start_time": "2022-02-26T23:01:25.606Z"
   },
   {
    "duration": 18,
    "start_time": "2022-02-26T23:01:25.614Z"
   },
   {
    "duration": 5,
    "start_time": "2022-02-26T23:01:25.634Z"
   },
   {
    "duration": 8,
    "start_time": "2022-02-26T23:01:25.641Z"
   },
   {
    "duration": 3,
    "start_time": "2022-02-26T23:01:25.687Z"
   },
   {
    "duration": 10,
    "start_time": "2022-02-26T23:01:25.693Z"
   },
   {
    "duration": 9,
    "start_time": "2022-02-26T23:01:25.705Z"
   },
   {
    "duration": 8,
    "start_time": "2022-02-26T23:01:25.716Z"
   },
   {
    "duration": 5,
    "start_time": "2022-02-26T23:01:25.731Z"
   },
   {
    "duration": 8,
    "start_time": "2022-02-26T23:01:25.740Z"
   },
   {
    "duration": 57,
    "start_time": "2022-02-26T23:01:25.750Z"
   },
   {
    "duration": 5,
    "start_time": "2022-02-26T23:01:25.810Z"
   },
   {
    "duration": 7,
    "start_time": "2022-02-26T23:01:25.818Z"
   },
   {
    "duration": 15,
    "start_time": "2022-02-26T23:01:25.827Z"
   },
   {
    "duration": 43,
    "start_time": "2022-02-26T23:01:25.844Z"
   },
   {
    "duration": 9,
    "start_time": "2022-02-26T23:01:25.889Z"
   },
   {
    "duration": 11,
    "start_time": "2022-02-26T23:01:25.900Z"
   },
   {
    "duration": 9,
    "start_time": "2022-02-26T23:01:25.913Z"
   },
   {
    "duration": 64,
    "start_time": "2022-02-26T23:01:25.925Z"
   },
   {
    "duration": 24,
    "start_time": "2022-02-26T23:01:25.991Z"
   },
   {
    "duration": 23,
    "start_time": "2022-02-26T23:01:26.017Z"
   },
   {
    "duration": 47,
    "start_time": "2022-02-26T23:01:26.042Z"
   },
   {
    "duration": 3,
    "start_time": "2022-02-26T23:01:26.091Z"
   },
   {
    "duration": 7,
    "start_time": "2022-02-26T23:01:26.097Z"
   },
   {
    "duration": 7,
    "start_time": "2022-02-26T23:01:26.106Z"
   },
   {
    "duration": 11,
    "start_time": "2022-02-26T23:01:26.115Z"
   },
   {
    "duration": 7,
    "start_time": "2022-02-26T23:01:26.128Z"
   },
   {
    "duration": 85,
    "start_time": "2022-02-26T23:01:26.138Z"
   },
   {
    "duration": 14,
    "start_time": "2022-02-26T23:01:26.226Z"
   },
   {
    "duration": 7,
    "start_time": "2022-02-26T23:01:26.242Z"
   },
   {
    "duration": 5,
    "start_time": "2022-02-26T23:01:26.252Z"
   },
   {
    "duration": 522,
    "start_time": "2022-02-26T23:01:26.288Z"
   },
   {
    "duration": -2002,
    "start_time": "2022-02-26T23:01:28.815Z"
   },
   {
    "duration": -2024,
    "start_time": "2022-02-26T23:01:28.839Z"
   },
   {
    "duration": -2032,
    "start_time": "2022-02-26T23:01:28.850Z"
   },
   {
    "duration": -2038,
    "start_time": "2022-02-26T23:01:28.858Z"
   },
   {
    "duration": -2046,
    "start_time": "2022-02-26T23:01:28.868Z"
   },
   {
    "duration": -2053,
    "start_time": "2022-02-26T23:01:28.878Z"
   },
   {
    "duration": -2061,
    "start_time": "2022-02-26T23:01:28.888Z"
   },
   {
    "duration": -2077,
    "start_time": "2022-02-26T23:01:28.906Z"
   },
   {
    "duration": -2085,
    "start_time": "2022-02-26T23:01:28.916Z"
   },
   {
    "duration": -2090,
    "start_time": "2022-02-26T23:01:28.924Z"
   },
   {
    "duration": -2100,
    "start_time": "2022-02-26T23:01:28.936Z"
   },
   {
    "duration": -2111,
    "start_time": "2022-02-26T23:01:28.949Z"
   },
   {
    "duration": -2375,
    "start_time": "2022-02-26T23:01:29.215Z"
   },
   {
    "duration": -2381,
    "start_time": "2022-02-26T23:01:29.224Z"
   },
   {
    "duration": -2392,
    "start_time": "2022-02-26T23:01:29.237Z"
   },
   {
    "duration": -2399,
    "start_time": "2022-02-26T23:01:29.246Z"
   },
   {
    "duration": -2406,
    "start_time": "2022-02-26T23:01:29.255Z"
   },
   {
    "duration": -2381,
    "start_time": "2022-02-26T23:01:29.268Z"
   },
   {
    "duration": -2405,
    "start_time": "2022-02-26T23:01:29.294Z"
   },
   {
    "duration": -2412,
    "start_time": "2022-02-26T23:01:29.304Z"
   },
   {
    "duration": -2421,
    "start_time": "2022-02-26T23:01:29.315Z"
   },
   {
    "duration": -2426,
    "start_time": "2022-02-26T23:01:29.322Z"
   },
   {
    "duration": -2434,
    "start_time": "2022-02-26T23:01:29.332Z"
   },
   {
    "duration": -2439,
    "start_time": "2022-02-26T23:01:29.339Z"
   },
   {
    "duration": -2448,
    "start_time": "2022-02-26T23:01:29.351Z"
   },
   {
    "duration": 4,
    "start_time": "2022-02-26T23:02:40.135Z"
   },
   {
    "duration": 454,
    "start_time": "2022-02-26T23:02:45.237Z"
   },
   {
    "duration": 9,
    "start_time": "2022-02-26T23:03:04.303Z"
   },
   {
    "duration": 517,
    "start_time": "2022-02-26T23:03:35.708Z"
   },
   {
    "duration": 417,
    "start_time": "2022-02-26T23:04:11.705Z"
   },
   {
    "duration": 478,
    "start_time": "2022-02-26T23:05:52.049Z"
   },
   {
    "duration": 600,
    "start_time": "2022-02-26T23:08:08.377Z"
   },
   {
    "duration": 434,
    "start_time": "2022-02-26T23:08:48.947Z"
   },
   {
    "duration": 433,
    "start_time": "2022-02-26T23:12:34.464Z"
   },
   {
    "duration": 414,
    "start_time": "2022-02-26T23:12:45.459Z"
   },
   {
    "duration": 5,
    "start_time": "2022-02-26T23:15:24.439Z"
   },
   {
    "duration": 772,
    "start_time": "2022-02-26T23:15:39.360Z"
   },
   {
    "duration": 18,
    "start_time": "2022-02-26T23:15:40.134Z"
   },
   {
    "duration": 13,
    "start_time": "2022-02-26T23:15:40.155Z"
   },
   {
    "duration": 28,
    "start_time": "2022-02-26T23:15:40.170Z"
   },
   {
    "duration": 19,
    "start_time": "2022-02-26T23:15:40.200Z"
   },
   {
    "duration": 9,
    "start_time": "2022-02-26T23:15:40.221Z"
   },
   {
    "duration": 13,
    "start_time": "2022-02-26T23:15:40.233Z"
   },
   {
    "duration": 26,
    "start_time": "2022-02-26T23:15:40.289Z"
   },
   {
    "duration": 31,
    "start_time": "2022-02-26T23:15:40.318Z"
   },
   {
    "duration": 3,
    "start_time": "2022-02-26T23:15:40.351Z"
   },
   {
    "duration": 32,
    "start_time": "2022-02-26T23:15:40.356Z"
   },
   {
    "duration": 9,
    "start_time": "2022-02-26T23:15:40.390Z"
   },
   {
    "duration": 17,
    "start_time": "2022-02-26T23:15:40.401Z"
   },
   {
    "duration": 6,
    "start_time": "2022-02-26T23:15:40.421Z"
   },
   {
    "duration": 5,
    "start_time": "2022-02-26T23:15:40.430Z"
   },
   {
    "duration": 55,
    "start_time": "2022-02-26T23:15:40.437Z"
   },
   {
    "duration": 5,
    "start_time": "2022-02-26T23:15:40.494Z"
   },
   {
    "duration": 7,
    "start_time": "2022-02-26T23:15:40.502Z"
   },
   {
    "duration": 3,
    "start_time": "2022-02-26T23:15:40.511Z"
   },
   {
    "duration": 6,
    "start_time": "2022-02-26T23:15:40.516Z"
   },
   {
    "duration": 6,
    "start_time": "2022-02-26T23:15:40.524Z"
   },
   {
    "duration": 7,
    "start_time": "2022-02-26T23:15:40.532Z"
   },
   {
    "duration": 44,
    "start_time": "2022-02-26T23:15:40.545Z"
   },
   {
    "duration": 10,
    "start_time": "2022-02-26T23:15:40.592Z"
   },
   {
    "duration": 26,
    "start_time": "2022-02-26T23:15:40.604Z"
   },
   {
    "duration": 7,
    "start_time": "2022-02-26T23:15:40.633Z"
   },
   {
    "duration": 44,
    "start_time": "2022-02-26T23:15:40.643Z"
   },
   {
    "duration": 14,
    "start_time": "2022-02-26T23:15:40.690Z"
   },
   {
    "duration": 10,
    "start_time": "2022-02-26T23:15:40.707Z"
   },
   {
    "duration": 5,
    "start_time": "2022-02-26T23:15:40.719Z"
   },
   {
    "duration": 10,
    "start_time": "2022-02-26T23:15:40.726Z"
   },
   {
    "duration": 49,
    "start_time": "2022-02-26T23:15:40.738Z"
   },
   {
    "duration": 33,
    "start_time": "2022-02-26T23:15:40.789Z"
   },
   {
    "duration": 23,
    "start_time": "2022-02-26T23:15:40.824Z"
   },
   {
    "duration": 50,
    "start_time": "2022-02-26T23:15:40.849Z"
   },
   {
    "duration": 13,
    "start_time": "2022-02-26T23:15:40.901Z"
   },
   {
    "duration": 3,
    "start_time": "2022-02-26T23:15:40.917Z"
   },
   {
    "duration": 5,
    "start_time": "2022-02-26T23:15:40.922Z"
   },
   {
    "duration": 5,
    "start_time": "2022-02-26T23:15:40.930Z"
   },
   {
    "duration": 50,
    "start_time": "2022-02-26T23:15:40.937Z"
   },
   {
    "duration": 14,
    "start_time": "2022-02-26T23:15:40.989Z"
   },
   {
    "duration": 49,
    "start_time": "2022-02-26T23:15:41.005Z"
   },
   {
    "duration": 31,
    "start_time": "2022-02-26T23:15:41.056Z"
   },
   {
    "duration": 7,
    "start_time": "2022-02-26T23:15:41.089Z"
   },
   {
    "duration": 5,
    "start_time": "2022-02-26T23:15:41.098Z"
   },
   {
    "duration": 522,
    "start_time": "2022-02-26T23:15:41.105Z"
   },
   {
    "duration": -2814,
    "start_time": "2022-02-26T23:15:44.443Z"
   },
   {
    "duration": -2843,
    "start_time": "2022-02-26T23:15:44.474Z"
   },
   {
    "duration": -2875,
    "start_time": "2022-02-26T23:15:44.507Z"
   },
   {
    "duration": -2913,
    "start_time": "2022-02-26T23:15:44.546Z"
   },
   {
    "duration": -2923,
    "start_time": "2022-02-26T23:15:44.558Z"
   },
   {
    "duration": -2935,
    "start_time": "2022-02-26T23:15:44.571Z"
   },
   {
    "duration": -2943,
    "start_time": "2022-02-26T23:15:44.580Z"
   },
   {
    "duration": -2953,
    "start_time": "2022-02-26T23:15:44.592Z"
   },
   {
    "duration": -2958,
    "start_time": "2022-02-26T23:15:44.598Z"
   },
   {
    "duration": -2969,
    "start_time": "2022-02-26T23:15:44.610Z"
   },
   {
    "duration": -2974,
    "start_time": "2022-02-26T23:15:44.617Z"
   },
   {
    "duration": -2983,
    "start_time": "2022-02-26T23:15:44.627Z"
   },
   {
    "duration": -2989,
    "start_time": "2022-02-26T23:15:44.634Z"
   },
   {
    "duration": -3016,
    "start_time": "2022-02-26T23:15:44.663Z"
   },
   {
    "duration": -3024,
    "start_time": "2022-02-26T23:15:44.672Z"
   },
   {
    "duration": -3031,
    "start_time": "2022-02-26T23:15:44.680Z"
   },
   {
    "duration": -3037,
    "start_time": "2022-02-26T23:15:44.688Z"
   },
   {
    "duration": -3042,
    "start_time": "2022-02-26T23:15:44.694Z"
   },
   {
    "duration": -3049,
    "start_time": "2022-02-26T23:15:44.703Z"
   },
   {
    "duration": -3056,
    "start_time": "2022-02-26T23:15:44.711Z"
   },
   {
    "duration": -3063,
    "start_time": "2022-02-26T23:15:44.720Z"
   },
   {
    "duration": -3070,
    "start_time": "2022-02-26T23:15:44.728Z"
   },
   {
    "duration": -3075,
    "start_time": "2022-02-26T23:15:44.735Z"
   },
   {
    "duration": -3081,
    "start_time": "2022-02-26T23:15:44.742Z"
   },
   {
    "duration": -3087,
    "start_time": "2022-02-26T23:15:44.749Z"
   },
   {
    "duration": 446,
    "start_time": "2022-02-26T23:15:59.742Z"
   },
   {
    "duration": 458,
    "start_time": "2022-02-26T23:16:21.325Z"
   },
   {
    "duration": 23,
    "start_time": "2022-02-26T23:18:30.216Z"
   },
   {
    "duration": 4,
    "start_time": "2022-02-26T23:27:05.189Z"
   },
   {
    "duration": 6364,
    "start_time": "2022-02-26T23:27:10.733Z"
   },
   {
    "duration": 4,
    "start_time": "2022-02-26T23:27:49.062Z"
   },
   {
    "duration": 428,
    "start_time": "2022-02-26T23:27:51.779Z"
   },
   {
    "duration": 440,
    "start_time": "2022-02-26T23:28:32.726Z"
   },
   {
    "duration": 4,
    "start_time": "2022-02-26T23:30:49.764Z"
   },
   {
    "duration": 8,
    "start_time": "2022-02-26T23:30:53.971Z"
   },
   {
    "duration": 10,
    "start_time": "2022-02-26T23:31:17.249Z"
   },
   {
    "duration": 4,
    "start_time": "2022-02-26T23:35:05.723Z"
   },
   {
    "duration": 462,
    "start_time": "2022-02-26T23:35:09.387Z"
   },
   {
    "duration": 5,
    "start_time": "2022-02-26T23:39:13.906Z"
   },
   {
    "duration": 451,
    "start_time": "2022-02-26T23:39:19.070Z"
   },
   {
    "duration": 5,
    "start_time": "2022-02-26T23:43:47.682Z"
   },
   {
    "duration": 439,
    "start_time": "2022-02-26T23:43:51.931Z"
   },
   {
    "duration": 9,
    "start_time": "2022-02-26T23:44:34.970Z"
   },
   {
    "duration": 11,
    "start_time": "2022-02-26T23:44:44.543Z"
   },
   {
    "duration": 7,
    "start_time": "2022-02-26T23:46:07.357Z"
   },
   {
    "duration": 5430,
    "start_time": "2022-02-26T23:46:45.869Z"
   },
   {
    "duration": 15,
    "start_time": "2022-02-26T23:48:01.214Z"
   },
   {
    "duration": 5,
    "start_time": "2022-02-26T23:49:00.188Z"
   },
   {
    "duration": 4782,
    "start_time": "2022-02-26T23:49:30.188Z"
   },
   {
    "duration": 6,
    "start_time": "2022-02-26T23:50:45.393Z"
   },
   {
    "duration": 4781,
    "start_time": "2022-02-26T23:50:49.349Z"
   },
   {
    "duration": 5,
    "start_time": "2022-02-26T23:51:33.223Z"
   },
   {
    "duration": 4874,
    "start_time": "2022-02-26T23:51:38.243Z"
   },
   {
    "duration": 10,
    "start_time": "2022-02-27T00:01:20.847Z"
   },
   {
    "duration": 8,
    "start_time": "2022-02-27T00:01:24.734Z"
   },
   {
    "duration": 4795,
    "start_time": "2022-02-27T00:01:29.108Z"
   },
   {
    "duration": 819,
    "start_time": "2022-02-27T00:01:50.533Z"
   },
   {
    "duration": 19,
    "start_time": "2022-02-27T00:01:51.355Z"
   },
   {
    "duration": 12,
    "start_time": "2022-02-27T00:01:51.377Z"
   },
   {
    "duration": 20,
    "start_time": "2022-02-27T00:01:51.392Z"
   },
   {
    "duration": 18,
    "start_time": "2022-02-27T00:01:51.415Z"
   },
   {
    "duration": 9,
    "start_time": "2022-02-27T00:01:51.436Z"
   },
   {
    "duration": 52,
    "start_time": "2022-02-27T00:01:51.447Z"
   },
   {
    "duration": 29,
    "start_time": "2022-02-27T00:01:51.503Z"
   },
   {
    "duration": 68,
    "start_time": "2022-02-27T00:01:51.535Z"
   },
   {
    "duration": 4,
    "start_time": "2022-02-27T00:01:51.605Z"
   },
   {
    "duration": 12,
    "start_time": "2022-02-27T00:01:51.612Z"
   },
   {
    "duration": 10,
    "start_time": "2022-02-27T00:01:51.627Z"
   },
   {
    "duration": 14,
    "start_time": "2022-02-27T00:01:51.639Z"
   },
   {
    "duration": 33,
    "start_time": "2022-02-27T00:01:51.656Z"
   },
   {
    "duration": 5,
    "start_time": "2022-02-27T00:01:51.691Z"
   },
   {
    "duration": 28,
    "start_time": "2022-02-27T00:01:51.698Z"
   },
   {
    "duration": 5,
    "start_time": "2022-02-27T00:01:51.729Z"
   },
   {
    "duration": 9,
    "start_time": "2022-02-27T00:01:51.736Z"
   },
   {
    "duration": 39,
    "start_time": "2022-02-27T00:01:51.748Z"
   },
   {
    "duration": 3,
    "start_time": "2022-02-27T00:01:51.790Z"
   },
   {
    "duration": 9,
    "start_time": "2022-02-27T00:01:51.795Z"
   },
   {
    "duration": 13,
    "start_time": "2022-02-27T00:01:51.806Z"
   },
   {
    "duration": 2,
    "start_time": "2022-02-27T00:01:51.825Z"
   },
   {
    "duration": 6,
    "start_time": "2022-02-27T00:01:51.831Z"
   },
   {
    "duration": 57,
    "start_time": "2022-02-27T00:01:51.840Z"
   },
   {
    "duration": 7,
    "start_time": "2022-02-27T00:01:51.900Z"
   },
   {
    "duration": 8,
    "start_time": "2022-02-27T00:01:51.910Z"
   },
   {
    "duration": 17,
    "start_time": "2022-02-27T00:01:51.921Z"
   },
   {
    "duration": 50,
    "start_time": "2022-02-27T00:01:51.941Z"
   },
   {
    "duration": 8,
    "start_time": "2022-02-27T00:01:51.994Z"
   },
   {
    "duration": 12,
    "start_time": "2022-02-27T00:01:52.004Z"
   },
   {
    "duration": 8,
    "start_time": "2022-02-27T00:01:52.018Z"
   },
   {
    "duration": 78,
    "start_time": "2022-02-27T00:01:52.029Z"
   },
   {
    "duration": 25,
    "start_time": "2022-02-27T00:01:52.110Z"
   },
   {
    "duration": 50,
    "start_time": "2022-02-27T00:01:52.137Z"
   },
   {
    "duration": 16,
    "start_time": "2022-02-27T00:01:52.190Z"
   },
   {
    "duration": 3,
    "start_time": "2022-02-27T00:01:52.209Z"
   },
   {
    "duration": 7,
    "start_time": "2022-02-27T00:01:52.215Z"
   },
   {
    "duration": 7,
    "start_time": "2022-02-27T00:01:52.224Z"
   },
   {
    "duration": 57,
    "start_time": "2022-02-27T00:01:52.234Z"
   },
   {
    "duration": 6,
    "start_time": "2022-02-27T00:01:52.294Z"
   },
   {
    "duration": 41,
    "start_time": "2022-02-27T00:01:52.303Z"
   },
   {
    "duration": 46,
    "start_time": "2022-02-27T00:01:52.347Z"
   },
   {
    "duration": 8,
    "start_time": "2022-02-27T00:01:52.396Z"
   },
   {
    "duration": 8,
    "start_time": "2022-02-27T00:01:52.407Z"
   },
   {
    "duration": 10,
    "start_time": "2022-02-27T00:01:52.418Z"
   },
   {
    "duration": 5566,
    "start_time": "2022-02-27T00:01:52.431Z"
   },
   {
    "duration": -476,
    "start_time": "2022-02-27T00:01:58.476Z"
   },
   {
    "duration": -496,
    "start_time": "2022-02-27T00:01:58.497Z"
   },
   {
    "duration": -593,
    "start_time": "2022-02-27T00:01:58.596Z"
   },
   {
    "duration": -734,
    "start_time": "2022-02-27T00:01:58.738Z"
   },
   {
    "duration": -744,
    "start_time": "2022-02-27T00:01:58.749Z"
   },
   {
    "duration": -755,
    "start_time": "2022-02-27T00:01:58.761Z"
   },
   {
    "duration": -766,
    "start_time": "2022-02-27T00:01:58.773Z"
   },
   {
    "duration": -773,
    "start_time": "2022-02-27T00:01:58.782Z"
   },
   {
    "duration": -782,
    "start_time": "2022-02-27T00:01:58.793Z"
   },
   {
    "duration": -793,
    "start_time": "2022-02-27T00:01:58.805Z"
   },
   {
    "duration": -802,
    "start_time": "2022-02-27T00:01:58.815Z"
   },
   {
    "duration": -810,
    "start_time": "2022-02-27T00:01:58.825Z"
   },
   {
    "duration": -820,
    "start_time": "2022-02-27T00:01:58.836Z"
   },
   {
    "duration": -855,
    "start_time": "2022-02-27T00:01:58.872Z"
   },
   {
    "duration": -863,
    "start_time": "2022-02-27T00:01:58.881Z"
   },
   {
    "duration": -873,
    "start_time": "2022-02-27T00:01:58.892Z"
   },
   {
    "duration": -880,
    "start_time": "2022-02-27T00:01:58.901Z"
   },
   {
    "duration": -889,
    "start_time": "2022-02-27T00:01:58.911Z"
   },
   {
    "duration": -916,
    "start_time": "2022-02-27T00:01:58.939Z"
   },
   {
    "duration": -943,
    "start_time": "2022-02-27T00:01:58.968Z"
   },
   {
    "duration": -975,
    "start_time": "2022-02-27T00:01:59.001Z"
   },
   {
    "duration": -1007,
    "start_time": "2022-02-27T00:01:59.034Z"
   },
   {
    "duration": -1049,
    "start_time": "2022-02-27T00:01:59.077Z"
   },
   {
    "duration": -1071,
    "start_time": "2022-02-27T00:01:59.100Z"
   },
   {
    "duration": 16,
    "start_time": "2022-02-27T00:02:22.595Z"
   },
   {
    "duration": 8,
    "start_time": "2022-02-27T00:02:26.557Z"
   },
   {
    "duration": 5,
    "start_time": "2022-02-27T00:02:47.930Z"
   },
   {
    "duration": 5212,
    "start_time": "2022-02-27T00:02:51.735Z"
   },
   {
    "duration": 4,
    "start_time": "2022-02-27T00:06:12.766Z"
   },
   {
    "duration": 4,
    "start_time": "2022-02-27T00:06:51.332Z"
   },
   {
    "duration": 3019,
    "start_time": "2022-02-27T00:07:07.658Z"
   },
   {
    "duration": 4,
    "start_time": "2022-02-27T00:07:41.154Z"
   },
   {
    "duration": 4,
    "start_time": "2022-02-27T00:07:44.489Z"
   },
   {
    "duration": 9,
    "start_time": "2022-02-27T00:07:49.533Z"
   },
   {
    "duration": 6,
    "start_time": "2022-02-27T00:07:54.368Z"
   },
   {
    "duration": 33,
    "start_time": "2022-02-27T00:08:01.186Z"
   },
   {
    "duration": 15,
    "start_time": "2022-02-27T00:08:05.642Z"
   },
   {
    "duration": 16,
    "start_time": "2022-02-27T00:08:27.327Z"
   },
   {
    "duration": 7,
    "start_time": "2022-02-27T00:08:31.188Z"
   },
   {
    "duration": 4,
    "start_time": "2022-02-27T00:08:34.477Z"
   },
   {
    "duration": 3447,
    "start_time": "2022-02-27T00:08:39.263Z"
   },
   {
    "duration": 6,
    "start_time": "2022-02-27T00:27:33.569Z"
   },
   {
    "duration": 7,
    "start_time": "2022-02-27T00:27:52.777Z"
   },
   {
    "duration": 665,
    "start_time": "2022-02-27T00:32:05.240Z"
   },
   {
    "duration": 659,
    "start_time": "2022-02-27T00:34:06.008Z"
   },
   {
    "duration": 6,
    "start_time": "2022-02-27T00:38:45.301Z"
   },
   {
    "duration": 4889,
    "start_time": "2022-02-27T00:38:49.050Z"
   },
   {
    "duration": 4112,
    "start_time": "2022-02-27T00:39:16.841Z"
   },
   {
    "duration": 704,
    "start_time": "2022-02-27T10:41:14.690Z"
   },
   {
    "duration": 13,
    "start_time": "2022-02-27T10:41:15.396Z"
   },
   {
    "duration": 23,
    "start_time": "2022-02-27T10:41:15.411Z"
   },
   {
    "duration": 15,
    "start_time": "2022-02-27T10:41:15.436Z"
   },
   {
    "duration": 25,
    "start_time": "2022-02-27T10:41:15.452Z"
   },
   {
    "duration": 7,
    "start_time": "2022-02-27T10:41:15.479Z"
   },
   {
    "duration": 17,
    "start_time": "2022-02-27T10:41:15.487Z"
   },
   {
    "duration": 28,
    "start_time": "2022-02-27T10:41:15.507Z"
   },
   {
    "duration": 22,
    "start_time": "2022-02-27T10:41:15.537Z"
   },
   {
    "duration": 16,
    "start_time": "2022-02-27T10:41:15.561Z"
   },
   {
    "duration": 12,
    "start_time": "2022-02-27T10:41:15.579Z"
   },
   {
    "duration": 17,
    "start_time": "2022-02-27T10:41:15.593Z"
   },
   {
    "duration": 16,
    "start_time": "2022-02-27T10:41:15.611Z"
   },
   {
    "duration": 14,
    "start_time": "2022-02-27T10:41:15.629Z"
   },
   {
    "duration": 24,
    "start_time": "2022-02-27T10:41:15.645Z"
   },
   {
    "duration": 18,
    "start_time": "2022-02-27T10:41:15.671Z"
   },
   {
    "duration": 14,
    "start_time": "2022-02-27T10:41:15.691Z"
   },
   {
    "duration": 14,
    "start_time": "2022-02-27T10:41:15.707Z"
   },
   {
    "duration": 27,
    "start_time": "2022-02-27T10:41:15.723Z"
   },
   {
    "duration": 32,
    "start_time": "2022-02-27T10:41:15.751Z"
   },
   {
    "duration": 11,
    "start_time": "2022-02-27T10:41:15.785Z"
   },
   {
    "duration": 34,
    "start_time": "2022-02-27T10:41:15.799Z"
   },
   {
    "duration": 19,
    "start_time": "2022-02-27T10:41:15.839Z"
   },
   {
    "duration": 11,
    "start_time": "2022-02-27T10:41:15.862Z"
   },
   {
    "duration": 42,
    "start_time": "2022-02-27T10:41:15.875Z"
   },
   {
    "duration": 7,
    "start_time": "2022-02-27T10:41:15.919Z"
   },
   {
    "duration": 16,
    "start_time": "2022-02-27T10:41:15.928Z"
   },
   {
    "duration": 20,
    "start_time": "2022-02-27T10:41:15.946Z"
   },
   {
    "duration": 28,
    "start_time": "2022-02-27T10:41:15.968Z"
   },
   {
    "duration": 32,
    "start_time": "2022-02-27T10:41:15.997Z"
   },
   {
    "duration": 20,
    "start_time": "2022-02-27T10:41:16.031Z"
   },
   {
    "duration": 19,
    "start_time": "2022-02-27T10:41:16.052Z"
   },
   {
    "duration": 29,
    "start_time": "2022-02-27T10:41:16.072Z"
   },
   {
    "duration": 18,
    "start_time": "2022-02-27T10:41:16.103Z"
   },
   {
    "duration": 22,
    "start_time": "2022-02-27T10:41:16.123Z"
   },
   {
    "duration": 34,
    "start_time": "2022-02-27T10:41:16.147Z"
   },
   {
    "duration": 2,
    "start_time": "2022-02-27T10:41:16.183Z"
   },
   {
    "duration": 23,
    "start_time": "2022-02-27T10:41:16.187Z"
   },
   {
    "duration": 9,
    "start_time": "2022-02-27T10:41:16.212Z"
   },
   {
    "duration": 32,
    "start_time": "2022-02-27T10:41:16.224Z"
   },
   {
    "duration": 14,
    "start_time": "2022-02-27T10:41:16.258Z"
   },
   {
    "duration": 69,
    "start_time": "2022-02-27T10:41:16.274Z"
   },
   {
    "duration": 16,
    "start_time": "2022-02-27T10:41:16.345Z"
   },
   {
    "duration": 17,
    "start_time": "2022-02-27T10:41:16.363Z"
   },
   {
    "duration": 10,
    "start_time": "2022-02-27T10:41:16.382Z"
   },
   {
    "duration": 5489,
    "start_time": "2022-02-27T10:41:16.394Z"
   },
   {
    "duration": -1638,
    "start_time": "2022-02-27T10:41:23.523Z"
   },
   {
    "duration": -1671,
    "start_time": "2022-02-27T10:41:23.557Z"
   },
   {
    "duration": -1704,
    "start_time": "2022-02-27T10:41:23.591Z"
   },
   {
    "duration": -1731,
    "start_time": "2022-02-27T10:41:23.619Z"
   },
   {
    "duration": -1742,
    "start_time": "2022-02-27T10:41:23.631Z"
   },
   {
    "duration": -1753,
    "start_time": "2022-02-27T10:41:23.643Z"
   },
   {
    "duration": -1761,
    "start_time": "2022-02-27T10:41:23.653Z"
   },
   {
    "duration": -1771,
    "start_time": "2022-02-27T10:41:23.663Z"
   },
   {
    "duration": -1782,
    "start_time": "2022-02-27T10:41:23.675Z"
   },
   {
    "duration": -1790,
    "start_time": "2022-02-27T10:41:23.684Z"
   },
   {
    "duration": -1800,
    "start_time": "2022-02-27T10:41:23.695Z"
   },
   {
    "duration": -1809,
    "start_time": "2022-02-27T10:41:23.705Z"
   },
   {
    "duration": -1819,
    "start_time": "2022-02-27T10:41:23.715Z"
   },
   {
    "duration": -1852,
    "start_time": "2022-02-27T10:41:23.749Z"
   },
   {
    "duration": -1863,
    "start_time": "2022-02-27T10:41:23.761Z"
   },
   {
    "duration": -1872,
    "start_time": "2022-02-27T10:41:23.771Z"
   },
   {
    "duration": -1884,
    "start_time": "2022-02-27T10:41:23.784Z"
   },
   {
    "duration": -1894,
    "start_time": "2022-02-27T10:41:23.795Z"
   },
   {
    "duration": -1904,
    "start_time": "2022-02-27T10:41:23.806Z"
   },
   {
    "duration": -1913,
    "start_time": "2022-02-27T10:41:23.816Z"
   },
   {
    "duration": -1925,
    "start_time": "2022-02-27T10:41:23.829Z"
   },
   {
    "duration": -1934,
    "start_time": "2022-02-27T10:41:23.838Z"
   },
   {
    "duration": -1979,
    "start_time": "2022-02-27T10:41:23.884Z"
   },
   {
    "duration": -1989,
    "start_time": "2022-02-27T10:41:23.895Z"
   },
   {
    "duration": -2001,
    "start_time": "2022-02-27T10:41:23.908Z"
   },
   {
    "duration": 3,
    "start_time": "2022-02-27T10:43:04.685Z"
   },
   {
    "duration": 5451,
    "start_time": "2022-02-27T10:43:09.091Z"
   },
   {
    "duration": 5641,
    "start_time": "2022-02-27T10:56:09.601Z"
   },
   {
    "duration": 3,
    "start_time": "2022-02-27T11:50:21.483Z"
   },
   {
    "duration": 5366,
    "start_time": "2022-02-27T11:50:27.422Z"
   },
   {
    "duration": 4,
    "start_time": "2022-02-27T11:55:01.368Z"
   },
   {
    "duration": 3942,
    "start_time": "2022-02-27T11:55:08.076Z"
   },
   {
    "duration": 4,
    "start_time": "2022-02-27T11:56:16.382Z"
   },
   {
    "duration": 3,
    "start_time": "2022-02-27T12:00:23.657Z"
   },
   {
    "duration": 4207,
    "start_time": "2022-02-27T12:00:26.430Z"
   },
   {
    "duration": 3,
    "start_time": "2022-02-27T12:04:25.126Z"
   },
   {
    "duration": 3873,
    "start_time": "2022-02-27T12:04:29.844Z"
   },
   {
    "duration": 4,
    "start_time": "2022-02-27T12:06:30.970Z"
   },
   {
    "duration": 4012,
    "start_time": "2022-02-27T12:06:33.256Z"
   },
   {
    "duration": 619,
    "start_time": "2022-02-27T21:39:11.279Z"
   },
   {
    "duration": 11,
    "start_time": "2022-02-27T21:39:17.001Z"
   },
   {
    "duration": 7,
    "start_time": "2022-02-27T21:39:17.841Z"
   },
   {
    "duration": 10,
    "start_time": "2022-02-27T21:39:20.171Z"
   },
   {
    "duration": 11,
    "start_time": "2022-02-27T21:39:21.546Z"
   },
   {
    "duration": 6,
    "start_time": "2022-02-27T21:39:25.431Z"
   },
   {
    "duration": 9,
    "start_time": "2022-02-27T21:39:31.326Z"
   },
   {
    "duration": 8,
    "start_time": "2022-02-27T21:39:37.242Z"
   },
   {
    "duration": 16,
    "start_time": "2022-02-27T21:39:38.137Z"
   },
   {
    "duration": 19,
    "start_time": "2022-02-27T21:39:39.905Z"
   },
   {
    "duration": 2,
    "start_time": "2022-02-27T21:39:42.430Z"
   },
   {
    "duration": 2,
    "start_time": "2022-02-27T21:39:44.033Z"
   },
   {
    "duration": 4,
    "start_time": "2022-02-27T21:39:46.696Z"
   },
   {
    "duration": 9,
    "start_time": "2022-02-27T21:39:47.611Z"
   },
   {
    "duration": 4,
    "start_time": "2022-02-27T21:39:48.526Z"
   },
   {
    "duration": 4,
    "start_time": "2022-02-27T21:39:50.847Z"
   },
   {
    "duration": 11,
    "start_time": "2022-02-27T21:39:54.425Z"
   },
   {
    "duration": 3,
    "start_time": "2022-02-27T21:39:55.551Z"
   },
   {
    "duration": 5,
    "start_time": "2022-02-27T21:39:57.885Z"
   },
   {
    "duration": 2,
    "start_time": "2022-02-27T21:39:59.707Z"
   },
   {
    "duration": 2,
    "start_time": "2022-02-27T21:40:00.414Z"
   },
   {
    "duration": 3,
    "start_time": "2022-02-27T21:40:02.524Z"
   },
   {
    "duration": 5,
    "start_time": "2022-02-27T21:40:12.057Z"
   },
   {
    "duration": 2,
    "start_time": "2022-02-27T21:40:13.276Z"
   },
   {
    "duration": 3,
    "start_time": "2022-02-27T21:40:15.289Z"
   },
   {
    "duration": 14,
    "start_time": "2022-02-27T21:40:26.088Z"
   },
   {
    "duration": 4,
    "start_time": "2022-02-27T21:40:27.487Z"
   },
   {
    "duration": 3,
    "start_time": "2022-02-27T21:40:30.775Z"
   },
   {
    "duration": 8,
    "start_time": "2022-02-27T21:40:32.259Z"
   },
   {
    "duration": 4,
    "start_time": "2022-02-27T21:40:33.792Z"
   },
   {
    "duration": 4,
    "start_time": "2022-02-27T21:41:22.249Z"
   },
   {
    "duration": 6,
    "start_time": "2022-02-27T21:41:25.906Z"
   },
   {
    "duration": 4,
    "start_time": "2022-02-27T21:41:29.021Z"
   },
   {
    "duration": 20,
    "start_time": "2022-02-27T21:41:33.429Z"
   },
   {
    "duration": 15,
    "start_time": "2022-02-27T21:41:36.464Z"
   },
   {
    "duration": 13,
    "start_time": "2022-02-27T21:41:38.427Z"
   },
   {
    "duration": 10,
    "start_time": "2022-02-27T21:41:40.295Z"
   },
   {
    "duration": 2,
    "start_time": "2022-02-27T21:41:49.074Z"
   },
   {
    "duration": 3,
    "start_time": "2022-02-27T21:41:49.700Z"
   },
   {
    "duration": 3,
    "start_time": "2022-02-27T21:41:49.885Z"
   },
   {
    "duration": 7,
    "start_time": "2022-02-27T21:41:50.087Z"
   },
   {
    "duration": 4,
    "start_time": "2022-02-27T21:41:50.323Z"
   },
   {
    "duration": 24,
    "start_time": "2022-02-27T21:41:54.614Z"
   },
   {
    "duration": 10,
    "start_time": "2022-02-27T21:41:59.871Z"
   },
   {
    "duration": 5,
    "start_time": "2022-02-27T21:42:02.739Z"
   },
   {
    "duration": 5,
    "start_time": "2022-02-27T21:42:12.258Z"
   },
   {
    "duration": 3,
    "start_time": "2022-02-27T21:42:20.404Z"
   },
   {
    "duration": 3785,
    "start_time": "2022-02-27T21:42:23.239Z"
   },
   {
    "duration": 7317,
    "start_time": "2022-02-27T21:47:30.831Z"
   },
   {
    "duration": 4,
    "start_time": "2022-02-27T21:48:14.224Z"
   },
   {
    "duration": 775,
    "start_time": "2022-02-27T21:53:52.743Z"
   },
   {
    "duration": 3,
    "start_time": "2022-02-27T21:54:19.128Z"
   },
   {
    "duration": 5309,
    "start_time": "2022-02-27T21:54:38.960Z"
   },
   {
    "duration": 6,
    "start_time": "2022-02-27T21:55:34.398Z"
   },
   {
    "duration": 291,
    "start_time": "2022-02-27T21:55:50.661Z"
   },
   {
    "duration": 334,
    "start_time": "2022-02-27T21:56:12.303Z"
   },
   {
    "duration": 258,
    "start_time": "2022-02-27T21:56:21.101Z"
   },
   {
    "duration": 6,
    "start_time": "2022-02-27T21:56:37.286Z"
   },
   {
    "duration": 7,
    "start_time": "2022-02-27T21:56:46.128Z"
   },
   {
    "duration": 3816,
    "start_time": "2022-02-27T21:57:32.558Z"
   },
   {
    "duration": 3,
    "start_time": "2022-02-27T21:58:24.337Z"
   },
   {
    "duration": 7,
    "start_time": "2022-02-27T21:58:27.948Z"
   },
   {
    "duration": 547,
    "start_time": "2022-02-27T21:58:39.166Z"
   },
   {
    "duration": 4,
    "start_time": "2022-02-27T21:59:32.082Z"
   },
   {
    "duration": 557,
    "start_time": "2022-02-27T21:59:35.854Z"
   },
   {
    "duration": 3,
    "start_time": "2022-02-27T22:00:33.194Z"
   },
   {
    "duration": 584,
    "start_time": "2022-02-27T22:00:34.962Z"
   },
   {
    "duration": 4,
    "start_time": "2022-02-27T22:02:09.281Z"
   },
   {
    "duration": 610,
    "start_time": "2022-02-27T22:02:11.799Z"
   },
   {
    "duration": 3,
    "start_time": "2022-02-27T22:36:04.234Z"
   },
   {
    "duration": 4919,
    "start_time": "2022-02-27T22:36:08.362Z"
   },
   {
    "duration": 3,
    "start_time": "2022-02-27T22:36:37.377Z"
   },
   {
    "duration": 622,
    "start_time": "2022-02-27T22:36:38.218Z"
   },
   {
    "duration": 3,
    "start_time": "2022-02-27T22:37:48.144Z"
   },
   {
    "duration": 4778,
    "start_time": "2022-02-27T22:37:50.335Z"
   },
   {
    "duration": 3,
    "start_time": "2022-02-27T22:39:07.391Z"
   },
   {
    "duration": 9280,
    "start_time": "2022-02-27T22:39:09.459Z"
   },
   {
    "duration": 3,
    "start_time": "2022-02-27T22:40:08.186Z"
   },
   {
    "duration": 1937,
    "start_time": "2022-02-27T22:40:10.328Z"
   },
   {
    "duration": 132,
    "start_time": "2022-02-27T22:43:20.069Z"
   },
   {
    "duration": 559,
    "start_time": "2022-02-27T22:43:23.986Z"
   },
   {
    "duration": 4,
    "start_time": "2022-02-27T22:47:00.997Z"
   },
   {
    "duration": 534,
    "start_time": "2022-02-27T22:47:05.154Z"
   },
   {
    "duration": 3,
    "start_time": "2022-02-27T22:53:44.781Z"
   },
   {
    "duration": 15,
    "start_time": "2022-02-27T22:53:48.094Z"
   },
   {
    "duration": 4,
    "start_time": "2022-02-27T22:55:50.357Z"
   },
   {
    "duration": 589,
    "start_time": "2022-02-27T22:59:54.213Z"
   },
   {
    "duration": 11,
    "start_time": "2022-02-27T22:59:54.804Z"
   },
   {
    "duration": 8,
    "start_time": "2022-02-27T22:59:54.816Z"
   },
   {
    "duration": 12,
    "start_time": "2022-02-27T22:59:54.825Z"
   },
   {
    "duration": 10,
    "start_time": "2022-02-27T22:59:54.838Z"
   },
   {
    "duration": 5,
    "start_time": "2022-02-27T22:59:54.849Z"
   },
   {
    "duration": 7,
    "start_time": "2022-02-27T22:59:54.856Z"
   },
   {
    "duration": 44,
    "start_time": "2022-02-27T22:59:54.865Z"
   },
   {
    "duration": 17,
    "start_time": "2022-02-27T22:59:54.910Z"
   },
   {
    "duration": 1,
    "start_time": "2022-02-27T22:59:54.929Z"
   },
   {
    "duration": 3,
    "start_time": "2022-02-27T22:59:54.932Z"
   },
   {
    "duration": 5,
    "start_time": "2022-02-27T22:59:54.937Z"
   },
   {
    "duration": 8,
    "start_time": "2022-02-27T22:59:54.943Z"
   },
   {
    "duration": 4,
    "start_time": "2022-02-27T22:59:54.953Z"
   },
   {
    "duration": 5,
    "start_time": "2022-02-27T22:59:54.958Z"
   },
   {
    "duration": 13,
    "start_time": "2022-02-27T22:59:54.964Z"
   },
   {
    "duration": 28,
    "start_time": "2022-02-27T22:59:54.978Z"
   },
   {
    "duration": 4,
    "start_time": "2022-02-27T22:59:55.007Z"
   },
   {
    "duration": 4,
    "start_time": "2022-02-27T22:59:55.012Z"
   },
   {
    "duration": 5,
    "start_time": "2022-02-27T22:59:55.017Z"
   },
   {
    "duration": 5,
    "start_time": "2022-02-27T22:59:55.024Z"
   },
   {
    "duration": 7,
    "start_time": "2022-02-27T22:59:55.031Z"
   },
   {
    "duration": 2,
    "start_time": "2022-02-27T22:59:55.041Z"
   },
   {
    "duration": 6,
    "start_time": "2022-02-27T22:59:55.045Z"
   },
   {
    "duration": 15,
    "start_time": "2022-02-27T22:59:55.052Z"
   },
   {
    "duration": 3,
    "start_time": "2022-02-27T22:59:55.069Z"
   },
   {
    "duration": 34,
    "start_time": "2022-02-27T22:59:55.073Z"
   },
   {
    "duration": 11,
    "start_time": "2022-02-27T22:59:55.108Z"
   },
   {
    "duration": 5,
    "start_time": "2022-02-27T22:59:55.120Z"
   },
   {
    "duration": 5,
    "start_time": "2022-02-27T22:59:55.127Z"
   },
   {
    "duration": 7,
    "start_time": "2022-02-27T22:59:55.133Z"
   },
   {
    "duration": 3,
    "start_time": "2022-02-27T22:59:55.141Z"
   },
   {
    "duration": 21,
    "start_time": "2022-02-27T22:59:55.146Z"
   },
   {
    "duration": 46,
    "start_time": "2022-02-27T22:59:55.169Z"
   },
   {
    "duration": 12,
    "start_time": "2022-02-27T22:59:55.216Z"
   },
   {
    "duration": 8,
    "start_time": "2022-02-27T22:59:55.229Z"
   },
   {
    "duration": 2,
    "start_time": "2022-02-27T22:59:55.238Z"
   },
   {
    "duration": 4,
    "start_time": "2022-02-27T22:59:55.242Z"
   },
   {
    "duration": 4,
    "start_time": "2022-02-27T22:59:55.248Z"
   },
   {
    "duration": 7,
    "start_time": "2022-02-27T22:59:55.253Z"
   },
   {
    "duration": 8,
    "start_time": "2022-02-27T22:59:55.261Z"
   },
   {
    "duration": 42,
    "start_time": "2022-02-27T22:59:55.270Z"
   },
   {
    "duration": 9,
    "start_time": "2022-02-27T22:59:55.314Z"
   },
   {
    "duration": 4,
    "start_time": "2022-02-27T22:59:55.324Z"
   },
   {
    "duration": 5,
    "start_time": "2022-02-27T22:59:55.329Z"
   },
   {
    "duration": 374,
    "start_time": "2022-02-27T23:05:13.717Z"
   },
   {
    "duration": 648,
    "start_time": "2022-02-27T23:05:26.696Z"
   },
   {
    "duration": 2,
    "start_time": "2022-02-27T23:05:57.886Z"
   },
   {
    "duration": 3,
    "start_time": "2022-02-27T23:06:02.890Z"
   },
   {
    "duration": 7,
    "start_time": "2022-02-27T23:06:06.276Z"
   },
   {
    "duration": 5,
    "start_time": "2022-02-27T23:06:10.071Z"
   },
   {
    "duration": 5317,
    "start_time": "2022-02-27T23:06:21.046Z"
   },
   {
    "duration": 269,
    "start_time": "2022-02-27T23:06:48.242Z"
   },
   {
    "duration": 23,
    "start_time": "2022-02-27T23:06:59.117Z"
   },
   {
    "duration": 9,
    "start_time": "2022-02-27T23:07:10.282Z"
   },
   {
    "duration": 5,
    "start_time": "2022-02-27T23:07:16.208Z"
   },
   {
    "duration": 5246,
    "start_time": "2022-02-27T23:07:40.493Z"
   },
   {
    "duration": 4,
    "start_time": "2022-02-27T23:08:16.159Z"
   },
   {
    "duration": 12,
    "start_time": "2022-02-27T23:08:29.534Z"
   },
   {
    "duration": 5354,
    "start_time": "2022-02-27T23:09:00.294Z"
   },
   {
    "duration": 4,
    "start_time": "2022-02-27T23:09:21.450Z"
   },
   {
    "duration": 21,
    "start_time": "2022-02-27T23:10:04.790Z"
   },
   {
    "duration": 4,
    "start_time": "2022-02-27T23:10:07.077Z"
   },
   {
    "duration": 7835,
    "start_time": "2022-02-27T23:10:26.372Z"
   },
   {
    "duration": 128,
    "start_time": "2022-02-27T23:10:34.081Z"
   },
   {
    "duration": 14,
    "start_time": "2022-02-27T23:11:19.022Z"
   },
   {
    "duration": 4,
    "start_time": "2022-02-27T23:11:26.510Z"
   },
   {
    "duration": 280,
    "start_time": "2022-02-27T23:12:33.132Z"
   },
   {
    "duration": 7,
    "start_time": "2022-02-27T23:12:51.067Z"
   },
   {
    "duration": 4,
    "start_time": "2022-02-27T23:17:26.491Z"
   },
   {
    "duration": 13,
    "start_time": "2022-02-27T23:18:01.537Z"
   },
   {
    "duration": 155,
    "start_time": "2022-02-27T23:23:34.132Z"
   },
   {
    "duration": 88,
    "start_time": "2022-02-27T23:24:04.121Z"
   },
   {
    "duration": 132,
    "start_time": "2022-02-27T23:24:22.124Z"
   },
   {
    "duration": 102,
    "start_time": "2022-02-27T23:26:58.199Z"
   },
   {
    "duration": 86,
    "start_time": "2022-02-27T23:27:43.175Z"
   },
   {
    "duration": 3,
    "start_time": "2022-02-27T23:30:48.391Z"
   },
   {
    "duration": 534,
    "start_time": "2022-02-27T23:30:54.498Z"
   },
   {
    "duration": 3,
    "start_time": "2022-02-27T23:31:34.633Z"
   },
   {
    "duration": 5677,
    "start_time": "2022-02-27T23:31:37.314Z"
   },
   {
    "duration": 2,
    "start_time": "2022-02-27T23:31:57.746Z"
   },
   {
    "duration": 3912,
    "start_time": "2022-02-27T23:32:01.010Z"
   },
   {
    "duration": 2,
    "start_time": "2022-02-27T23:32:18.275Z"
   },
   {
    "duration": 535,
    "start_time": "2022-02-27T23:32:20.119Z"
   },
   {
    "duration": 3,
    "start_time": "2022-02-27T23:33:18.535Z"
   },
   {
    "duration": 7,
    "start_time": "2022-02-27T23:33:20.570Z"
   },
   {
    "duration": 99,
    "start_time": "2022-02-27T23:35:51.740Z"
   },
   {
    "duration": 3,
    "start_time": "2022-02-27T23:36:05.283Z"
   },
   {
    "duration": 9723,
    "start_time": "2022-02-27T23:36:08.214Z"
   },
   {
    "duration": 102,
    "start_time": "2022-02-27T23:40:50.799Z"
   },
   {
    "duration": 89,
    "start_time": "2022-02-27T23:41:44.884Z"
   },
   {
    "duration": 90,
    "start_time": "2022-02-27T23:42:10.592Z"
   },
   {
    "duration": 94,
    "start_time": "2022-02-27T23:42:25.703Z"
   },
   {
    "duration": 582,
    "start_time": "2022-02-27T23:43:45.266Z"
   },
   {
    "duration": 10,
    "start_time": "2022-02-27T23:43:45.850Z"
   },
   {
    "duration": 7,
    "start_time": "2022-02-27T23:43:45.862Z"
   },
   {
    "duration": 12,
    "start_time": "2022-02-27T23:43:45.871Z"
   },
   {
    "duration": 22,
    "start_time": "2022-02-27T23:43:45.884Z"
   },
   {
    "duration": 6,
    "start_time": "2022-02-27T23:43:45.907Z"
   },
   {
    "duration": 9,
    "start_time": "2022-02-27T23:43:45.914Z"
   },
   {
    "duration": 16,
    "start_time": "2022-02-27T23:43:45.926Z"
   },
   {
    "duration": 19,
    "start_time": "2022-02-27T23:43:45.944Z"
   },
   {
    "duration": 2,
    "start_time": "2022-02-27T23:43:45.965Z"
   },
   {
    "duration": 37,
    "start_time": "2022-02-27T23:43:45.969Z"
   },
   {
    "duration": 6,
    "start_time": "2022-02-27T23:43:46.007Z"
   },
   {
    "duration": 11,
    "start_time": "2022-02-27T23:43:46.015Z"
   },
   {
    "duration": 6,
    "start_time": "2022-02-27T23:43:46.028Z"
   },
   {
    "duration": 4,
    "start_time": "2022-02-27T23:43:46.036Z"
   },
   {
    "duration": 12,
    "start_time": "2022-02-27T23:43:46.042Z"
   },
   {
    "duration": 4,
    "start_time": "2022-02-27T23:43:46.055Z"
   },
   {
    "duration": 8,
    "start_time": "2022-02-27T23:43:46.061Z"
   },
   {
    "duration": 2,
    "start_time": "2022-02-27T23:43:46.105Z"
   },
   {
    "duration": 12,
    "start_time": "2022-02-27T23:43:46.109Z"
   },
   {
    "duration": 6,
    "start_time": "2022-02-27T23:43:46.123Z"
   },
   {
    "duration": 6,
    "start_time": "2022-02-27T23:43:46.131Z"
   },
   {
    "duration": 1,
    "start_time": "2022-02-27T23:43:46.142Z"
   },
   {
    "duration": 5,
    "start_time": "2022-02-27T23:43:46.146Z"
   },
   {
    "duration": 17,
    "start_time": "2022-02-27T23:43:46.152Z"
   },
   {
    "duration": 3,
    "start_time": "2022-02-27T23:43:46.171Z"
   },
   {
    "duration": 3,
    "start_time": "2022-02-27T23:43:46.205Z"
   },
   {
    "duration": 10,
    "start_time": "2022-02-27T23:43:46.209Z"
   },
   {
    "duration": 6,
    "start_time": "2022-02-27T23:43:46.220Z"
   },
   {
    "duration": 6,
    "start_time": "2022-02-27T23:43:46.228Z"
   },
   {
    "duration": 7,
    "start_time": "2022-02-27T23:43:46.235Z"
   },
   {
    "duration": 7,
    "start_time": "2022-02-27T23:43:46.243Z"
   },
   {
    "duration": 19,
    "start_time": "2022-02-27T23:43:46.251Z"
   },
   {
    "duration": 42,
    "start_time": "2022-02-27T23:43:46.272Z"
   },
   {
    "duration": 12,
    "start_time": "2022-02-27T23:43:46.315Z"
   },
   {
    "duration": 9,
    "start_time": "2022-02-27T23:43:46.328Z"
   },
   {
    "duration": 2,
    "start_time": "2022-02-27T23:43:46.338Z"
   },
   {
    "duration": 4,
    "start_time": "2022-02-27T23:43:46.342Z"
   },
   {
    "duration": 5,
    "start_time": "2022-02-27T23:43:46.347Z"
   },
   {
    "duration": 12,
    "start_time": "2022-02-27T23:43:46.353Z"
   },
   {
    "duration": 3,
    "start_time": "2022-02-27T23:43:46.366Z"
   },
   {
    "duration": 49,
    "start_time": "2022-02-27T23:43:46.370Z"
   },
   {
    "duration": 9,
    "start_time": "2022-02-27T23:43:46.421Z"
   },
   {
    "duration": 5,
    "start_time": "2022-02-27T23:43:46.431Z"
   },
   {
    "duration": 97,
    "start_time": "2022-02-27T23:43:46.437Z"
   },
   {
    "duration": -365,
    "start_time": "2022-02-27T23:43:46.902Z"
   },
   {
    "duration": -376,
    "start_time": "2022-02-27T23:43:46.913Z"
   },
   {
    "duration": -381,
    "start_time": "2022-02-27T23:43:46.919Z"
   },
   {
    "duration": -390,
    "start_time": "2022-02-27T23:43:46.929Z"
   },
   {
    "duration": -395,
    "start_time": "2022-02-27T23:43:46.935Z"
   },
   {
    "duration": -404,
    "start_time": "2022-02-27T23:43:46.945Z"
   },
   {
    "duration": -409,
    "start_time": "2022-02-27T23:43:46.951Z"
   },
   {
    "duration": -418,
    "start_time": "2022-02-27T23:43:46.961Z"
   },
   {
    "duration": -423,
    "start_time": "2022-02-27T23:43:46.967Z"
   },
   {
    "duration": -432,
    "start_time": "2022-02-27T23:43:46.977Z"
   },
   {
    "duration": -502,
    "start_time": "2022-02-27T23:43:47.048Z"
   },
   {
    "duration": -510,
    "start_time": "2022-02-27T23:43:47.057Z"
   },
   {
    "duration": -537,
    "start_time": "2022-02-27T23:43:47.085Z"
   },
   {
    "duration": -546,
    "start_time": "2022-02-27T23:43:47.095Z"
   },
   {
    "duration": -570,
    "start_time": "2022-02-27T23:43:47.119Z"
   },
   {
    "duration": -599,
    "start_time": "2022-02-27T23:43:47.149Z"
   },
   {
    "duration": -611,
    "start_time": "2022-02-27T23:43:47.162Z"
   },
   {
    "duration": -643,
    "start_time": "2022-02-27T23:43:47.195Z"
   },
   {
    "duration": -648,
    "start_time": "2022-02-27T23:43:47.201Z"
   },
   {
    "duration": -656,
    "start_time": "2022-02-27T23:43:47.210Z"
   },
   {
    "duration": -661,
    "start_time": "2022-02-27T23:43:47.216Z"
   },
   {
    "duration": -671,
    "start_time": "2022-02-27T23:43:47.227Z"
   },
   {
    "duration": -677,
    "start_time": "2022-02-27T23:43:47.234Z"
   },
   {
    "duration": -684,
    "start_time": "2022-02-27T23:43:47.242Z"
   },
   {
    "duration": -690,
    "start_time": "2022-02-27T23:43:47.248Z"
   },
   {
    "duration": -699,
    "start_time": "2022-02-27T23:43:47.258Z"
   },
   {
    "duration": 6,
    "start_time": "2022-02-27T23:44:55.477Z"
   },
   {
    "duration": 110,
    "start_time": "2022-02-27T23:45:37.337Z"
   },
   {
    "duration": 3,
    "start_time": "2022-02-27T23:48:26.329Z"
   },
   {
    "duration": 8,
    "start_time": "2022-02-27T23:48:34.842Z"
   },
   {
    "duration": 7,
    "start_time": "2022-02-27T23:50:04.555Z"
   },
   {
    "duration": 7,
    "start_time": "2022-02-27T23:51:13.357Z"
   },
   {
    "duration": 7,
    "start_time": "2022-02-27T23:52:12.211Z"
   },
   {
    "duration": 7,
    "start_time": "2022-02-27T23:53:10.077Z"
   },
   {
    "duration": 4012,
    "start_time": "2022-02-27T23:54:27.804Z"
   },
   {
    "duration": 606,
    "start_time": "2022-02-27T23:55:24.127Z"
   },
   {
    "duration": 10,
    "start_time": "2022-02-27T23:55:24.735Z"
   },
   {
    "duration": 8,
    "start_time": "2022-02-27T23:55:24.747Z"
   },
   {
    "duration": 11,
    "start_time": "2022-02-27T23:55:24.757Z"
   },
   {
    "duration": 42,
    "start_time": "2022-02-27T23:55:24.770Z"
   },
   {
    "duration": 7,
    "start_time": "2022-02-27T23:55:24.814Z"
   },
   {
    "duration": 9,
    "start_time": "2022-02-27T23:55:24.822Z"
   },
   {
    "duration": 14,
    "start_time": "2022-02-27T23:55:24.833Z"
   },
   {
    "duration": 17,
    "start_time": "2022-02-27T23:55:24.849Z"
   },
   {
    "duration": 2,
    "start_time": "2022-02-27T23:55:24.867Z"
   },
   {
    "duration": 36,
    "start_time": "2022-02-27T23:55:24.870Z"
   },
   {
    "duration": 6,
    "start_time": "2022-02-27T23:55:24.907Z"
   },
   {
    "duration": 9,
    "start_time": "2022-02-27T23:55:24.914Z"
   },
   {
    "duration": 5,
    "start_time": "2022-02-27T23:55:24.924Z"
   },
   {
    "duration": 6,
    "start_time": "2022-02-27T23:55:24.931Z"
   },
   {
    "duration": 11,
    "start_time": "2022-02-27T23:55:24.938Z"
   },
   {
    "duration": 3,
    "start_time": "2022-02-27T23:55:24.950Z"
   },
   {
    "duration": 7,
    "start_time": "2022-02-27T23:55:24.955Z"
   },
   {
    "duration": 3,
    "start_time": "2022-02-27T23:55:24.963Z"
   },
   {
    "duration": 6,
    "start_time": "2022-02-27T23:55:24.967Z"
   },
   {
    "duration": 31,
    "start_time": "2022-02-27T23:55:24.974Z"
   },
   {
    "duration": 4,
    "start_time": "2022-02-27T23:55:25.007Z"
   },
   {
    "duration": 4,
    "start_time": "2022-02-27T23:55:25.015Z"
   },
   {
    "duration": 7,
    "start_time": "2022-02-27T23:55:25.021Z"
   },
   {
    "duration": 17,
    "start_time": "2022-02-27T23:55:25.030Z"
   },
   {
    "duration": 3,
    "start_time": "2022-02-27T23:55:25.048Z"
   },
   {
    "duration": 4,
    "start_time": "2022-02-27T23:55:25.053Z"
   },
   {
    "duration": 9,
    "start_time": "2022-02-27T23:55:25.058Z"
   },
   {
    "duration": 5,
    "start_time": "2022-02-27T23:55:25.068Z"
   },
   {
    "duration": 33,
    "start_time": "2022-02-27T23:55:25.074Z"
   },
   {
    "duration": 7,
    "start_time": "2022-02-27T23:55:25.108Z"
   },
   {
    "duration": 5,
    "start_time": "2022-02-27T23:55:25.116Z"
   },
   {
    "duration": 22,
    "start_time": "2022-02-27T23:55:25.123Z"
   },
   {
    "duration": 16,
    "start_time": "2022-02-27T23:55:25.147Z"
   },
   {
    "duration": 47,
    "start_time": "2022-02-27T23:55:25.164Z"
   },
   {
    "duration": 10,
    "start_time": "2022-02-27T23:55:25.212Z"
   },
   {
    "duration": 2,
    "start_time": "2022-02-27T23:55:25.224Z"
   },
   {
    "duration": 6,
    "start_time": "2022-02-27T23:55:25.228Z"
   },
   {
    "duration": 6,
    "start_time": "2022-02-27T23:55:25.235Z"
   },
   {
    "duration": 8,
    "start_time": "2022-02-27T23:55:25.242Z"
   },
   {
    "duration": 6,
    "start_time": "2022-02-27T23:55:25.251Z"
   },
   {
    "duration": 49,
    "start_time": "2022-02-27T23:55:25.258Z"
   },
   {
    "duration": 9,
    "start_time": "2022-02-27T23:55:25.309Z"
   },
   {
    "duration": 6,
    "start_time": "2022-02-27T23:55:25.320Z"
   },
   {
    "duration": 4,
    "start_time": "2022-02-27T23:55:25.328Z"
   },
   {
    "duration": 9,
    "start_time": "2022-02-27T23:55:25.334Z"
   },
   {
    "duration": 553,
    "start_time": "2022-02-27T23:55:25.344Z"
   },
   {
    "duration": 8,
    "start_time": "2022-02-27T23:55:25.898Z"
   },
   {
    "duration": 8,
    "start_time": "2022-02-27T23:55:25.908Z"
   },
   {
    "duration": 9,
    "start_time": "2022-02-27T23:55:25.917Z"
   },
   {
    "duration": 7,
    "start_time": "2022-02-27T23:55:25.927Z"
   },
   {
    "duration": 9,
    "start_time": "2022-02-27T23:55:25.936Z"
   },
   {
    "duration": 7,
    "start_time": "2022-02-27T23:55:25.947Z"
   },
   {
    "duration": 4,
    "start_time": "2022-02-27T23:55:25.955Z"
   },
   {
    "duration": 5,
    "start_time": "2022-02-27T23:55:25.960Z"
   },
   {
    "duration": 6,
    "start_time": "2022-02-27T23:55:25.966Z"
   },
   {
    "duration": 8,
    "start_time": "2022-02-27T23:55:25.973Z"
   },
   {
    "duration": 6,
    "start_time": "2022-02-27T23:55:25.982Z"
   },
   {
    "duration": 4,
    "start_time": "2022-02-27T23:55:25.989Z"
   },
   {
    "duration": 11,
    "start_time": "2022-02-27T23:55:25.994Z"
   },
   {
    "duration": 4,
    "start_time": "2022-02-27T23:55:26.007Z"
   },
   {
    "duration": 7,
    "start_time": "2022-02-27T23:55:26.012Z"
   },
   {
    "duration": 11,
    "start_time": "2022-02-27T23:55:26.021Z"
   },
   {
    "duration": 15,
    "start_time": "2022-02-27T23:55:26.033Z"
   },
   {
    "duration": 17,
    "start_time": "2022-02-27T23:55:26.049Z"
   },
   {
    "duration": 19,
    "start_time": "2022-02-27T23:55:26.067Z"
   },
   {
    "duration": 22,
    "start_time": "2022-02-27T23:55:26.087Z"
   },
   {
    "duration": 19,
    "start_time": "2022-02-27T23:55:26.113Z"
   },
   {
    "duration": 19,
    "start_time": "2022-02-27T23:55:26.133Z"
   },
   {
    "duration": 17,
    "start_time": "2022-02-27T23:55:26.153Z"
   },
   {
    "duration": 4,
    "start_time": "2022-02-27T23:55:26.172Z"
   },
   {
    "duration": 321,
    "start_time": "2022-02-27T23:56:24.673Z"
   },
   {
    "duration": 10,
    "start_time": "2022-02-27T23:56:48.628Z"
   },
   {
    "duration": 782,
    "start_time": "2022-02-28T10:52:10.698Z"
   },
   {
    "duration": 19,
    "start_time": "2022-02-28T10:52:11.483Z"
   },
   {
    "duration": 12,
    "start_time": "2022-02-28T10:52:11.505Z"
   },
   {
    "duration": 16,
    "start_time": "2022-02-28T10:52:11.519Z"
   },
   {
    "duration": 52,
    "start_time": "2022-02-28T10:52:11.538Z"
   },
   {
    "duration": 9,
    "start_time": "2022-02-28T10:52:11.592Z"
   },
   {
    "duration": 14,
    "start_time": "2022-02-28T10:52:11.603Z"
   },
   {
    "duration": 63,
    "start_time": "2022-02-28T10:52:11.621Z"
   },
   {
    "duration": 32,
    "start_time": "2022-02-28T10:52:11.687Z"
   },
   {
    "duration": 2,
    "start_time": "2022-02-28T10:52:11.721Z"
   },
   {
    "duration": 11,
    "start_time": "2022-02-28T10:52:11.726Z"
   },
   {
    "duration": 18,
    "start_time": "2022-02-28T10:52:11.739Z"
   },
   {
    "duration": 34,
    "start_time": "2022-02-28T10:52:11.760Z"
   },
   {
    "duration": 9,
    "start_time": "2022-02-28T10:52:11.797Z"
   },
   {
    "duration": 6,
    "start_time": "2022-02-28T10:52:11.808Z"
   },
   {
    "duration": 21,
    "start_time": "2022-02-28T10:52:11.816Z"
   },
   {
    "duration": 5,
    "start_time": "2022-02-28T10:52:11.839Z"
   },
   {
    "duration": 38,
    "start_time": "2022-02-28T10:52:11.846Z"
   },
   {
    "duration": 10,
    "start_time": "2022-02-28T10:52:11.887Z"
   },
   {
    "duration": 7,
    "start_time": "2022-02-28T10:52:11.899Z"
   },
   {
    "duration": 10,
    "start_time": "2022-02-28T10:52:11.908Z"
   },
   {
    "duration": 12,
    "start_time": "2022-02-28T10:52:11.921Z"
   },
   {
    "duration": 7,
    "start_time": "2022-02-28T10:52:11.943Z"
   },
   {
    "duration": 6,
    "start_time": "2022-02-28T10:52:11.985Z"
   },
   {
    "duration": 30,
    "start_time": "2022-02-28T10:52:11.993Z"
   },
   {
    "duration": 4,
    "start_time": "2022-02-28T10:52:12.026Z"
   },
   {
    "duration": 10,
    "start_time": "2022-02-28T10:52:12.033Z"
   },
   {
    "duration": 44,
    "start_time": "2022-02-28T10:52:12.046Z"
   },
   {
    "duration": 13,
    "start_time": "2022-02-28T10:52:12.093Z"
   },
   {
    "duration": 12,
    "start_time": "2022-02-28T10:52:12.108Z"
   },
   {
    "duration": 22,
    "start_time": "2022-02-28T10:52:12.122Z"
   },
   {
    "duration": 9,
    "start_time": "2022-02-28T10:52:12.146Z"
   },
   {
    "duration": 55,
    "start_time": "2022-02-28T10:52:12.158Z"
   },
   {
    "duration": 20,
    "start_time": "2022-02-28T10:52:12.215Z"
   },
   {
    "duration": 21,
    "start_time": "2022-02-28T10:52:12.237Z"
   },
   {
    "duration": 29,
    "start_time": "2022-02-28T10:52:12.261Z"
   },
   {
    "duration": 12,
    "start_time": "2022-02-28T10:52:12.293Z"
   },
   {
    "duration": 9,
    "start_time": "2022-02-28T10:52:12.307Z"
   },
   {
    "duration": 31,
    "start_time": "2022-02-28T10:52:12.318Z"
   },
   {
    "duration": 25,
    "start_time": "2022-02-28T10:52:12.352Z"
   },
   {
    "duration": 9,
    "start_time": "2022-02-28T10:52:12.380Z"
   },
   {
    "duration": 40,
    "start_time": "2022-02-28T10:52:12.392Z"
   },
   {
    "duration": 14,
    "start_time": "2022-02-28T10:52:12.435Z"
   },
   {
    "duration": 10,
    "start_time": "2022-02-28T10:52:12.451Z"
   },
   {
    "duration": 9,
    "start_time": "2022-02-28T10:52:12.483Z"
   },
   {
    "duration": 19,
    "start_time": "2022-02-28T10:52:12.494Z"
   },
   {
    "duration": 995,
    "start_time": "2022-02-28T10:52:12.517Z"
   },
   {
    "duration": 7,
    "start_time": "2022-02-28T10:52:13.515Z"
   },
   {
    "duration": 4,
    "start_time": "2022-02-28T10:52:13.525Z"
   },
   {
    "duration": 18,
    "start_time": "2022-02-28T10:52:13.531Z"
   },
   {
    "duration": 31,
    "start_time": "2022-02-28T10:52:13.552Z"
   },
   {
    "duration": 6,
    "start_time": "2022-02-28T10:52:13.586Z"
   },
   {
    "duration": 4,
    "start_time": "2022-02-28T10:52:13.595Z"
   },
   {
    "duration": 5,
    "start_time": "2022-02-28T10:52:13.602Z"
   },
   {
    "duration": 8,
    "start_time": "2022-02-28T10:52:13.609Z"
   },
   {
    "duration": 7,
    "start_time": "2022-02-28T10:52:13.619Z"
   },
   {
    "duration": 6,
    "start_time": "2022-02-28T10:52:13.628Z"
   },
   {
    "duration": 45,
    "start_time": "2022-02-28T10:52:13.637Z"
   },
   {
    "duration": 3,
    "start_time": "2022-02-28T10:52:13.685Z"
   },
   {
    "duration": 6,
    "start_time": "2022-02-28T10:52:13.690Z"
   },
   {
    "duration": 6,
    "start_time": "2022-02-28T10:52:13.699Z"
   },
   {
    "duration": 6,
    "start_time": "2022-02-28T10:52:13.707Z"
   },
   {
    "duration": 10,
    "start_time": "2022-02-28T10:52:13.715Z"
   },
   {
    "duration": 10,
    "start_time": "2022-02-28T10:52:13.727Z"
   },
   {
    "duration": 6,
    "start_time": "2022-02-28T10:52:13.740Z"
   },
   {
    "duration": 34,
    "start_time": "2022-02-28T10:52:13.749Z"
   },
   {
    "duration": 13,
    "start_time": "2022-02-28T10:52:13.786Z"
   },
   {
    "duration": 3,
    "start_time": "2022-02-28T10:52:13.807Z"
   },
   {
    "duration": 5,
    "start_time": "2022-02-28T10:52:13.813Z"
   },
   {
    "duration": 7,
    "start_time": "2022-02-28T10:52:13.820Z"
   },
   {
    "duration": 6,
    "start_time": "2022-02-28T10:52:13.830Z"
   },
   {
    "duration": 5,
    "start_time": "2022-02-28T10:57:39.276Z"
   },
   {
    "duration": 14,
    "start_time": "2022-02-28T10:58:43.623Z"
   },
   {
    "duration": 5,
    "start_time": "2022-02-28T10:59:38.013Z"
   },
   {
    "duration": 13,
    "start_time": "2022-02-28T10:59:54.511Z"
   },
   {
    "duration": 12,
    "start_time": "2022-02-28T11:00:04.831Z"
   },
   {
    "duration": 7,
    "start_time": "2022-02-28T11:02:19.332Z"
   },
   {
    "duration": 13,
    "start_time": "2022-02-28T11:02:25.105Z"
   },
   {
    "duration": 1556,
    "start_time": "2022-02-28T11:03:20.350Z"
   },
   {
    "duration": 15,
    "start_time": "2022-02-28T11:03:40.952Z"
   },
   {
    "duration": 14,
    "start_time": "2022-02-28T11:04:16.653Z"
   },
   {
    "duration": 7,
    "start_time": "2022-02-28T11:04:40.071Z"
   },
   {
    "duration": 6,
    "start_time": "2022-02-28T11:05:21.211Z"
   },
   {
    "duration": 5,
    "start_time": "2022-02-28T11:52:18.093Z"
   },
   {
    "duration": 9,
    "start_time": "2022-02-28T11:54:12.891Z"
   },
   {
    "duration": 15,
    "start_time": "2022-02-28T11:57:32.136Z"
   },
   {
    "duration": 11,
    "start_time": "2022-02-28T12:00:09.109Z"
   },
   {
    "duration": 351,
    "start_time": "2022-02-28T12:00:45.973Z"
   },
   {
    "duration": 272,
    "start_time": "2022-02-28T12:01:02.817Z"
   },
   {
    "duration": 101,
    "start_time": "2022-02-28T12:03:51.765Z"
   },
   {
    "duration": 23,
    "start_time": "2022-02-28T12:04:01.940Z"
   },
   {
    "duration": 252,
    "start_time": "2022-02-28T12:06:29.689Z"
   },
   {
    "duration": 11,
    "start_time": "2022-02-28T12:06:36.877Z"
   },
   {
    "duration": 8,
    "start_time": "2022-02-28T12:28:37.436Z"
   },
   {
    "duration": 654,
    "start_time": "2022-03-01T10:19:33.777Z"
   },
   {
    "duration": 11,
    "start_time": "2022-03-01T10:19:34.432Z"
   },
   {
    "duration": 7,
    "start_time": "2022-03-01T10:19:34.445Z"
   },
   {
    "duration": 10,
    "start_time": "2022-03-01T10:19:34.454Z"
   },
   {
    "duration": 11,
    "start_time": "2022-03-01T10:19:34.465Z"
   },
   {
    "duration": 5,
    "start_time": "2022-03-01T10:19:34.477Z"
   },
   {
    "duration": 28,
    "start_time": "2022-03-01T10:19:34.484Z"
   },
   {
    "duration": 15,
    "start_time": "2022-03-01T10:19:34.514Z"
   },
   {
    "duration": 18,
    "start_time": "2022-03-01T10:19:34.531Z"
   },
   {
    "duration": 2,
    "start_time": "2022-03-01T10:19:34.550Z"
   },
   {
    "duration": 5,
    "start_time": "2022-03-01T10:19:34.553Z"
   },
   {
    "duration": 6,
    "start_time": "2022-03-01T10:19:34.559Z"
   },
   {
    "duration": 38,
    "start_time": "2022-03-01T10:19:34.566Z"
   },
   {
    "duration": 3,
    "start_time": "2022-03-01T10:19:34.607Z"
   },
   {
    "duration": 5,
    "start_time": "2022-03-01T10:19:34.611Z"
   },
   {
    "duration": 12,
    "start_time": "2022-03-01T10:19:34.618Z"
   },
   {
    "duration": 3,
    "start_time": "2022-03-01T10:19:34.631Z"
   },
   {
    "duration": 6,
    "start_time": "2022-03-01T10:19:34.635Z"
   },
   {
    "duration": 6,
    "start_time": "2022-03-01T10:19:34.642Z"
   },
   {
    "duration": 5,
    "start_time": "2022-03-01T10:19:34.649Z"
   },
   {
    "duration": 6,
    "start_time": "2022-03-01T10:19:34.655Z"
   },
   {
    "duration": 6,
    "start_time": "2022-03-01T10:19:34.662Z"
   },
   {
    "duration": 5,
    "start_time": "2022-03-01T10:19:34.671Z"
   },
   {
    "duration": 27,
    "start_time": "2022-03-01T10:19:34.678Z"
   },
   {
    "duration": 14,
    "start_time": "2022-03-01T10:19:34.707Z"
   },
   {
    "duration": 3,
    "start_time": "2022-03-01T10:19:34.722Z"
   },
   {
    "duration": 5,
    "start_time": "2022-03-01T10:19:34.726Z"
   },
   {
    "duration": 10,
    "start_time": "2022-03-01T10:19:34.733Z"
   },
   {
    "duration": 3,
    "start_time": "2022-03-01T10:19:34.744Z"
   },
   {
    "duration": 5,
    "start_time": "2022-03-01T10:19:34.748Z"
   },
   {
    "duration": 6,
    "start_time": "2022-03-01T10:19:34.755Z"
   },
   {
    "duration": 6,
    "start_time": "2022-03-01T10:19:34.763Z"
   },
   {
    "duration": 50,
    "start_time": "2022-03-01T10:19:34.770Z"
   },
   {
    "duration": 13,
    "start_time": "2022-03-01T10:19:34.821Z"
   },
   {
    "duration": 11,
    "start_time": "2022-03-01T10:19:34.836Z"
   },
   {
    "duration": 8,
    "start_time": "2022-03-01T10:19:34.849Z"
   },
   {
    "duration": 3,
    "start_time": "2022-03-01T10:19:34.858Z"
   },
   {
    "duration": 6,
    "start_time": "2022-03-01T10:19:34.862Z"
   },
   {
    "duration": 8,
    "start_time": "2022-03-01T10:19:34.870Z"
   },
   {
    "duration": 31,
    "start_time": "2022-03-01T10:19:34.879Z"
   },
   {
    "duration": 11,
    "start_time": "2022-03-01T10:19:34.911Z"
   },
   {
    "duration": 31,
    "start_time": "2022-03-01T10:19:34.923Z"
   },
   {
    "duration": 9,
    "start_time": "2022-03-01T10:19:34.955Z"
   },
   {
    "duration": 6,
    "start_time": "2022-03-01T10:19:34.965Z"
   },
   {
    "duration": 3,
    "start_time": "2022-03-01T10:19:34.972Z"
   },
   {
    "duration": 9,
    "start_time": "2022-03-01T10:19:34.976Z"
   },
   {
    "duration": 543,
    "start_time": "2022-03-01T10:19:34.986Z"
   },
   {
    "duration": 4,
    "start_time": "2022-03-01T10:19:35.530Z"
   },
   {
    "duration": 9,
    "start_time": "2022-03-01T10:19:35.535Z"
   },
   {
    "duration": 12,
    "start_time": "2022-03-01T10:19:35.545Z"
   },
   {
    "duration": 5,
    "start_time": "2022-03-01T10:19:35.558Z"
   },
   {
    "duration": 4,
    "start_time": "2022-03-01T10:19:35.564Z"
   },
   {
    "duration": 4,
    "start_time": "2022-03-01T10:19:35.569Z"
   },
   {
    "duration": 8,
    "start_time": "2022-03-01T10:19:35.574Z"
   },
   {
    "duration": 529,
    "start_time": "2022-03-01T10:19:35.584Z"
   },
   {
    "duration": 4,
    "start_time": "2022-03-01T10:19:36.114Z"
   },
   {
    "duration": 6,
    "start_time": "2022-03-01T10:19:36.119Z"
   },
   {
    "duration": 12,
    "start_time": "2022-03-01T10:19:36.126Z"
   },
   {
    "duration": 4,
    "start_time": "2022-03-01T10:19:36.139Z"
   },
   {
    "duration": 4,
    "start_time": "2022-03-01T10:19:36.144Z"
   },
   {
    "duration": 5,
    "start_time": "2022-03-01T10:19:36.149Z"
   },
   {
    "duration": 5,
    "start_time": "2022-03-01T10:19:36.155Z"
   },
   {
    "duration": 7,
    "start_time": "2022-03-01T10:19:36.162Z"
   },
   {
    "duration": 37,
    "start_time": "2022-03-01T10:19:36.171Z"
   },
   {
    "duration": 2,
    "start_time": "2022-03-01T10:19:36.210Z"
   },
   {
    "duration": 4,
    "start_time": "2022-03-01T10:19:36.213Z"
   },
   {
    "duration": 5,
    "start_time": "2022-03-01T10:19:36.219Z"
   },
   {
    "duration": 2,
    "start_time": "2022-03-01T10:19:36.228Z"
   },
   {
    "duration": 4,
    "start_time": "2022-03-01T10:19:36.231Z"
   },
   {
    "duration": 4,
    "start_time": "2022-03-01T10:19:36.236Z"
   },
   {
    "duration": 4,
    "start_time": "2022-03-01T10:19:36.242Z"
   },
   {
    "duration": 4,
    "start_time": "2022-03-01T10:20:22.808Z"
   },
   {
    "duration": 2,
    "start_time": "2022-03-01T10:20:33.638Z"
   },
   {
    "duration": 4,
    "start_time": "2022-03-01T10:20:56.368Z"
   },
   {
    "duration": 3,
    "start_time": "2022-03-01T10:21:14.528Z"
   },
   {
    "duration": 4,
    "start_time": "2022-03-01T10:22:49.750Z"
   },
   {
    "duration": 4,
    "start_time": "2022-03-01T10:23:30.774Z"
   },
   {
    "duration": 4,
    "start_time": "2022-03-01T10:23:49.181Z"
   },
   {
    "duration": 4,
    "start_time": "2022-03-01T10:24:51.154Z"
   },
   {
    "duration": 5,
    "start_time": "2022-03-01T10:25:06.996Z"
   },
   {
    "duration": 4,
    "start_time": "2022-03-01T10:26:45.810Z"
   },
   {
    "duration": 4,
    "start_time": "2022-03-01T10:27:00.809Z"
   },
   {
    "duration": 4,
    "start_time": "2022-03-01T10:27:53.699Z"
   },
   {
    "duration": 3,
    "start_time": "2022-03-01T10:28:04.019Z"
   },
   {
    "duration": 3,
    "start_time": "2022-03-01T10:35:03.855Z"
   },
   {
    "duration": 3683,
    "start_time": "2022-03-01T10:35:48.953Z"
   },
   {
    "duration": 7,
    "start_time": "2022-03-01T10:36:59.013Z"
   },
   {
    "duration": 3,
    "start_time": "2022-03-01T10:37:48.028Z"
   },
   {
    "duration": 7,
    "start_time": "2022-03-01T10:37:58.947Z"
   },
   {
    "duration": 9,
    "start_time": "2022-03-01T10:38:59.255Z"
   },
   {
    "duration": 3,
    "start_time": "2022-03-01T10:39:40.234Z"
   },
   {
    "duration": 84,
    "start_time": "2022-03-01T10:39:59.713Z"
   },
   {
    "duration": 3,
    "start_time": "2022-03-01T10:40:33.785Z"
   },
   {
    "duration": 2771,
    "start_time": "2022-03-01T10:40:36.051Z"
   },
   {
    "duration": 3,
    "start_time": "2022-03-01T10:42:01.211Z"
   },
   {
    "duration": 652,
    "start_time": "2022-03-01T10:42:05.448Z"
   },
   {
    "duration": 3,
    "start_time": "2022-03-01T10:44:28.565Z"
   },
   {
    "duration": 3882,
    "start_time": "2022-03-01T10:44:43.482Z"
   },
   {
    "duration": 795,
    "start_time": "2022-03-01T10:45:06.449Z"
   },
   {
    "duration": 5,
    "start_time": "2022-03-01T10:46:11.488Z"
   },
   {
    "duration": 7,
    "start_time": "2022-03-01T10:49:49.823Z"
   },
   {
    "duration": 10,
    "start_time": "2022-03-01T10:50:41.248Z"
   },
   {
    "duration": 200,
    "start_time": "2022-03-01T10:50:49.043Z"
   },
   {
    "duration": 2,
    "start_time": "2022-03-01T10:52:28.835Z"
   },
   {
    "duration": 1276,
    "start_time": "2022-03-01T10:52:56.030Z"
   },
   {
    "duration": 10,
    "start_time": "2022-03-01T10:53:06.243Z"
   },
   {
    "duration": 2,
    "start_time": "2022-03-01T10:53:36.432Z"
   },
   {
    "duration": 2,
    "start_time": "2022-03-01T10:54:20.208Z"
   },
   {
    "duration": 1392,
    "start_time": "2022-03-01T10:54:22.438Z"
   },
   {
    "duration": 2,
    "start_time": "2022-03-01T10:54:41.381Z"
   },
   {
    "duration": 11,
    "start_time": "2022-03-01T10:54:42.736Z"
   },
   {
    "duration": 2,
    "start_time": "2022-03-01T10:56:09.920Z"
   },
   {
    "duration": 10,
    "start_time": "2022-03-01T10:56:12.585Z"
   },
   {
    "duration": 3,
    "start_time": "2022-03-01T10:56:41.598Z"
   },
   {
    "duration": 10,
    "start_time": "2022-03-01T10:56:44.100Z"
   },
   {
    "duration": 3,
    "start_time": "2022-03-01T10:57:32.753Z"
   },
   {
    "duration": 14,
    "start_time": "2022-03-01T10:57:36.971Z"
   },
   {
    "duration": 3,
    "start_time": "2022-03-01T10:58:09.823Z"
   },
   {
    "duration": 10,
    "start_time": "2022-03-01T10:58:14.027Z"
   },
   {
    "duration": 92,
    "start_time": "2022-03-01T11:02:46.525Z"
   },
   {
    "duration": 2,
    "start_time": "2022-03-01T11:02:56.185Z"
   },
   {
    "duration": 7,
    "start_time": "2022-03-01T11:03:58.032Z"
   },
   {
    "duration": 4,
    "start_time": "2022-03-01T11:04:29.182Z"
   },
   {
    "duration": 4,
    "start_time": "2022-03-01T11:04:38.636Z"
   },
   {
    "duration": 6,
    "start_time": "2022-03-01T11:04:55.258Z"
   },
   {
    "duration": 3,
    "start_time": "2022-03-01T11:10:12.380Z"
   },
   {
    "duration": 7,
    "start_time": "2022-03-01T11:10:15.686Z"
   },
   {
    "duration": 6,
    "start_time": "2022-03-01T11:10:17.777Z"
   },
   {
    "duration": 15,
    "start_time": "2022-03-01T11:13:31.519Z"
   },
   {
    "duration": 10,
    "start_time": "2022-03-01T11:13:54.443Z"
   },
   {
    "duration": 10,
    "start_time": "2022-03-01T11:14:33.891Z"
   },
   {
    "duration": 11,
    "start_time": "2022-03-01T11:16:06.280Z"
   },
   {
    "duration": 280,
    "start_time": "2022-03-01T11:16:47.379Z"
   },
   {
    "duration": 14,
    "start_time": "2022-03-01T11:17:01.094Z"
   },
   {
    "duration": 11,
    "start_time": "2022-03-01T11:17:55.582Z"
   },
   {
    "duration": 711,
    "start_time": "2022-03-01T11:24:42.466Z"
   },
   {
    "duration": 307,
    "start_time": "2022-03-01T11:25:01.136Z"
   },
   {
    "duration": 10,
    "start_time": "2022-03-01T11:25:14.981Z"
   },
   {
    "duration": 19,
    "start_time": "2022-03-01T11:30:46.749Z"
   },
   {
    "duration": 20,
    "start_time": "2022-03-01T11:31:35.431Z"
   },
   {
    "duration": 18,
    "start_time": "2022-03-01T11:32:23.284Z"
   },
   {
    "duration": 20,
    "start_time": "2022-03-01T11:32:38.900Z"
   },
   {
    "duration": 19,
    "start_time": "2022-03-01T11:33:42.353Z"
   },
   {
    "duration": 327,
    "start_time": "2022-03-01T11:36:49.282Z"
   },
   {
    "duration": 393,
    "start_time": "2022-03-01T11:37:55.481Z"
   },
   {
    "duration": 23,
    "start_time": "2022-03-01T11:38:16.216Z"
   },
   {
    "duration": 7544,
    "start_time": "2022-03-01T11:42:04.761Z"
   },
   {
    "duration": 6905,
    "start_time": "2022-03-01T11:44:22.641Z"
   },
   {
    "duration": 2095,
    "start_time": "2022-03-01T11:45:31.289Z"
   },
   {
    "duration": 6,
    "start_time": "2022-03-01T11:46:42.810Z"
   },
   {
    "duration": 7,
    "start_time": "2022-03-01T11:53:19.076Z"
   },
   {
    "duration": 6,
    "start_time": "2022-03-01T11:53:38.998Z"
   },
   {
    "duration": 6,
    "start_time": "2022-03-01T11:53:49.976Z"
   },
   {
    "duration": 6,
    "start_time": "2022-03-01T11:54:00.314Z"
   },
   {
    "duration": 15,
    "start_time": "2022-03-01T11:54:07.375Z"
   },
   {
    "duration": 366,
    "start_time": "2022-03-01T11:57:45.751Z"
   },
   {
    "duration": 279,
    "start_time": "2022-03-01T11:58:50.514Z"
   },
   {
    "duration": 9,
    "start_time": "2022-03-01T11:58:58.663Z"
   },
   {
    "duration": 291,
    "start_time": "2022-03-01T12:00:34.875Z"
   },
   {
    "duration": 6,
    "start_time": "2022-03-01T12:00:57.266Z"
   },
   {
    "duration": 8,
    "start_time": "2022-03-01T12:01:49.011Z"
   },
   {
    "duration": 300,
    "start_time": "2022-03-01T12:09:25.871Z"
   },
   {
    "duration": 286,
    "start_time": "2022-03-01T12:10:05.226Z"
   },
   {
    "duration": 28,
    "start_time": "2022-03-01T12:10:37.635Z"
   },
   {
    "duration": 26,
    "start_time": "2022-03-01T12:10:58.854Z"
   },
   {
    "duration": 601,
    "start_time": "2022-03-01T13:12:30.428Z"
   },
   {
    "duration": 11,
    "start_time": "2022-03-01T13:12:31.031Z"
   },
   {
    "duration": 11,
    "start_time": "2022-03-01T13:12:31.044Z"
   },
   {
    "duration": 15,
    "start_time": "2022-03-01T13:12:31.056Z"
   },
   {
    "duration": 17,
    "start_time": "2022-03-01T13:12:31.073Z"
   },
   {
    "duration": 10,
    "start_time": "2022-03-01T13:12:31.092Z"
   },
   {
    "duration": 9,
    "start_time": "2022-03-01T13:12:31.103Z"
   },
   {
    "duration": 31,
    "start_time": "2022-03-01T13:12:31.115Z"
   },
   {
    "duration": 17,
    "start_time": "2022-03-01T13:12:31.148Z"
   },
   {
    "duration": 6,
    "start_time": "2022-03-01T13:12:31.166Z"
   },
   {
    "duration": 10,
    "start_time": "2022-03-01T13:12:31.173Z"
   },
   {
    "duration": 11,
    "start_time": "2022-03-01T13:12:31.184Z"
   },
   {
    "duration": 14,
    "start_time": "2022-03-01T13:12:31.196Z"
   },
   {
    "duration": 8,
    "start_time": "2022-03-01T13:12:31.212Z"
   },
   {
    "duration": 11,
    "start_time": "2022-03-01T13:12:31.222Z"
   },
   {
    "duration": 20,
    "start_time": "2022-03-01T13:12:31.234Z"
   },
   {
    "duration": 3,
    "start_time": "2022-03-01T13:12:31.255Z"
   },
   {
    "duration": 7,
    "start_time": "2022-03-01T13:12:31.259Z"
   },
   {
    "duration": 5,
    "start_time": "2022-03-01T13:12:31.267Z"
   },
   {
    "duration": 16,
    "start_time": "2022-03-01T13:12:31.273Z"
   },
   {
    "duration": 7,
    "start_time": "2022-03-01T13:12:31.291Z"
   },
   {
    "duration": 6,
    "start_time": "2022-03-01T13:12:31.299Z"
   },
   {
    "duration": 7,
    "start_time": "2022-03-01T13:12:31.308Z"
   },
   {
    "duration": 8,
    "start_time": "2022-03-01T13:12:31.316Z"
   },
   {
    "duration": 25,
    "start_time": "2022-03-01T13:12:31.325Z"
   },
   {
    "duration": 3,
    "start_time": "2022-03-01T13:12:31.352Z"
   },
   {
    "duration": 7,
    "start_time": "2022-03-01T13:12:31.357Z"
   },
   {
    "duration": 14,
    "start_time": "2022-03-01T13:12:31.366Z"
   },
   {
    "duration": 4,
    "start_time": "2022-03-01T13:12:31.382Z"
   },
   {
    "duration": 6,
    "start_time": "2022-03-01T13:12:31.387Z"
   },
   {
    "duration": 13,
    "start_time": "2022-03-01T13:12:31.394Z"
   },
   {
    "duration": 5,
    "start_time": "2022-03-01T13:12:31.409Z"
   },
   {
    "duration": 22,
    "start_time": "2022-03-01T13:12:31.415Z"
   },
   {
    "duration": 14,
    "start_time": "2022-03-01T13:12:31.438Z"
   },
   {
    "duration": 12,
    "start_time": "2022-03-01T13:12:31.453Z"
   },
   {
    "duration": 8,
    "start_time": "2022-03-01T13:12:31.467Z"
   },
   {
    "duration": 29,
    "start_time": "2022-03-01T13:12:31.476Z"
   },
   {
    "duration": 12,
    "start_time": "2022-03-01T13:12:31.507Z"
   },
   {
    "duration": 7,
    "start_time": "2022-03-01T13:12:31.521Z"
   },
   {
    "duration": 9,
    "start_time": "2022-03-01T13:12:31.530Z"
   },
   {
    "duration": 4,
    "start_time": "2022-03-01T13:12:31.540Z"
   },
   {
    "duration": 28,
    "start_time": "2022-03-01T13:12:31.545Z"
   },
   {
    "duration": 8,
    "start_time": "2022-03-01T13:12:31.575Z"
   },
   {
    "duration": 20,
    "start_time": "2022-03-01T13:12:31.585Z"
   },
   {
    "duration": 3,
    "start_time": "2022-03-01T13:12:31.606Z"
   },
   {
    "duration": 17,
    "start_time": "2022-03-01T13:12:31.610Z"
   },
   {
    "duration": 524,
    "start_time": "2022-03-01T13:12:31.630Z"
   },
   {
    "duration": 4,
    "start_time": "2022-03-01T13:12:32.155Z"
   },
   {
    "duration": 6,
    "start_time": "2022-03-01T13:12:32.160Z"
   },
   {
    "duration": 15,
    "start_time": "2022-03-01T13:12:32.167Z"
   },
   {
    "duration": 5,
    "start_time": "2022-03-01T13:12:32.183Z"
   },
   {
    "duration": 16,
    "start_time": "2022-03-01T13:12:32.189Z"
   },
   {
    "duration": 3,
    "start_time": "2022-03-01T13:12:32.206Z"
   },
   {
    "duration": 10,
    "start_time": "2022-03-01T13:12:32.210Z"
   },
   {
    "duration": 524,
    "start_time": "2022-03-01T13:12:32.221Z"
   },
   {
    "duration": 3,
    "start_time": "2022-03-01T13:12:32.747Z"
   },
   {
    "duration": 5,
    "start_time": "2022-03-01T13:12:32.752Z"
   },
   {
    "duration": 12,
    "start_time": "2022-03-01T13:12:32.758Z"
   },
   {
    "duration": 4,
    "start_time": "2022-03-01T13:12:32.772Z"
   },
   {
    "duration": 9,
    "start_time": "2022-03-01T13:12:32.777Z"
   },
   {
    "duration": 20,
    "start_time": "2022-03-01T13:12:32.787Z"
   },
   {
    "duration": 14,
    "start_time": "2022-03-01T13:12:32.808Z"
   },
   {
    "duration": 3,
    "start_time": "2022-03-01T13:12:32.823Z"
   },
   {
    "duration": 6,
    "start_time": "2022-03-01T13:12:32.827Z"
   },
   {
    "duration": 4,
    "start_time": "2022-03-01T13:12:32.834Z"
   },
   {
    "duration": 8,
    "start_time": "2022-03-01T13:12:32.841Z"
   },
   {
    "duration": 5,
    "start_time": "2022-03-01T13:12:32.850Z"
   },
   {
    "duration": 14,
    "start_time": "2022-03-01T13:12:32.856Z"
   },
   {
    "duration": 38,
    "start_time": "2022-03-01T13:12:32.872Z"
   },
   {
    "duration": 9,
    "start_time": "2022-03-01T13:12:32.911Z"
   },
   {
    "duration": 24,
    "start_time": "2022-03-01T13:12:32.922Z"
   },
   {
    "duration": 39,
    "start_time": "2022-03-01T13:39:40.609Z"
   },
   {
    "duration": 41,
    "start_time": "2022-03-01T13:46:20.427Z"
   },
   {
    "duration": 43,
    "start_time": "2022-03-01T13:46:59.442Z"
   },
   {
    "duration": 42,
    "start_time": "2022-03-01T13:47:53.615Z"
   },
   {
    "duration": 25,
    "start_time": "2022-03-01T14:02:38.761Z"
   },
   {
    "duration": 26,
    "start_time": "2022-03-01T14:02:55.271Z"
   },
   {
    "duration": 26,
    "start_time": "2022-03-01T14:03:20.434Z"
   },
   {
    "duration": 644,
    "start_time": "2022-03-20T21:29:39.248Z"
   },
   {
    "duration": 22,
    "start_time": "2022-03-20T21:29:39.894Z"
   },
   {
    "duration": 13,
    "start_time": "2022-03-20T21:29:39.919Z"
   },
   {
    "duration": 60,
    "start_time": "2022-03-20T21:29:39.937Z"
   },
   {
    "duration": 21,
    "start_time": "2022-03-20T21:29:39.999Z"
   },
   {
    "duration": 15,
    "start_time": "2022-03-20T21:29:40.022Z"
   },
   {
    "duration": 16,
    "start_time": "2022-03-20T21:29:40.039Z"
   },
   {
    "duration": 57,
    "start_time": "2022-03-20T21:29:40.056Z"
   },
   {
    "duration": 69,
    "start_time": "2022-03-20T21:29:40.115Z"
   },
   {
    "duration": 3,
    "start_time": "2022-03-20T21:29:40.188Z"
   },
   {
    "duration": 11,
    "start_time": "2022-03-20T21:29:40.193Z"
   },
   {
    "duration": 16,
    "start_time": "2022-03-20T21:29:40.206Z"
   },
   {
    "duration": 23,
    "start_time": "2022-03-20T21:29:40.224Z"
   },
   {
    "duration": 11,
    "start_time": "2022-03-20T21:29:40.250Z"
   },
   {
    "duration": 24,
    "start_time": "2022-03-20T21:29:40.263Z"
   },
   {
    "duration": 15,
    "start_time": "2022-03-20T21:29:40.289Z"
   },
   {
    "duration": 5,
    "start_time": "2022-03-20T21:29:40.307Z"
   },
   {
    "duration": 14,
    "start_time": "2022-03-20T21:29:40.314Z"
   },
   {
    "duration": 10,
    "start_time": "2022-03-20T21:29:40.330Z"
   },
   {
    "duration": 6,
    "start_time": "2022-03-20T21:29:40.343Z"
   },
   {
    "duration": 32,
    "start_time": "2022-03-20T21:29:40.352Z"
   },
   {
    "duration": 10,
    "start_time": "2022-03-20T21:29:40.386Z"
   },
   {
    "duration": 6,
    "start_time": "2022-03-20T21:29:40.398Z"
   },
   {
    "duration": 10,
    "start_time": "2022-03-20T21:29:40.406Z"
   },
   {
    "duration": 24,
    "start_time": "2022-03-20T21:29:40.418Z"
   },
   {
    "duration": 43,
    "start_time": "2022-03-20T21:29:40.444Z"
   },
   {
    "duration": 8,
    "start_time": "2022-03-20T21:29:40.490Z"
   },
   {
    "duration": 15,
    "start_time": "2022-03-20T21:29:40.505Z"
   },
   {
    "duration": 6,
    "start_time": "2022-03-20T21:29:40.523Z"
   },
   {
    "duration": 7,
    "start_time": "2022-03-20T21:29:40.532Z"
   },
   {
    "duration": 11,
    "start_time": "2022-03-20T21:29:40.585Z"
   },
   {
    "duration": 9,
    "start_time": "2022-03-20T21:29:40.599Z"
   },
   {
    "duration": 38,
    "start_time": "2022-03-20T21:29:40.610Z"
   },
   {
    "duration": 56,
    "start_time": "2022-03-20T21:29:40.651Z"
   },
   {
    "duration": 25,
    "start_time": "2022-03-20T21:29:40.709Z"
   },
   {
    "duration": 48,
    "start_time": "2022-03-20T21:29:40.736Z"
   },
   {
    "duration": 3,
    "start_time": "2022-03-20T21:29:40.786Z"
   },
   {
    "duration": 7,
    "start_time": "2022-03-20T21:29:40.791Z"
   },
   {
    "duration": 18,
    "start_time": "2022-03-20T21:29:40.800Z"
   },
   {
    "duration": 14,
    "start_time": "2022-03-20T21:29:40.821Z"
   },
   {
    "duration": 12,
    "start_time": "2022-03-20T21:29:40.837Z"
   },
   {
    "duration": 52,
    "start_time": "2022-03-20T21:29:40.851Z"
   },
   {
    "duration": 17,
    "start_time": "2022-03-20T21:29:40.907Z"
   },
   {
    "duration": 40,
    "start_time": "2022-03-20T21:29:40.926Z"
   },
   {
    "duration": 12,
    "start_time": "2022-03-20T21:29:40.968Z"
   },
   {
    "duration": 14,
    "start_time": "2022-03-20T21:29:40.982Z"
   },
   {
    "duration": 532,
    "start_time": "2022-03-20T21:29:40.999Z"
   },
   {
    "duration": 6,
    "start_time": "2022-03-20T21:29:41.533Z"
   },
   {
    "duration": 12,
    "start_time": "2022-03-20T21:29:41.541Z"
   },
   {
    "duration": 36,
    "start_time": "2022-03-20T21:29:41.555Z"
   },
   {
    "duration": 8,
    "start_time": "2022-03-20T21:29:41.593Z"
   },
   {
    "duration": 17,
    "start_time": "2022-03-20T21:29:41.603Z"
   },
   {
    "duration": 25,
    "start_time": "2022-03-20T21:29:41.622Z"
   },
   {
    "duration": 20,
    "start_time": "2022-03-20T21:29:41.649Z"
   },
   {
    "duration": 536,
    "start_time": "2022-03-20T21:29:41.671Z"
   },
   {
    "duration": 6,
    "start_time": "2022-03-20T21:29:42.209Z"
   },
   {
    "duration": 21,
    "start_time": "2022-03-20T21:29:42.217Z"
   },
   {
    "duration": 24,
    "start_time": "2022-03-20T21:29:42.240Z"
   },
   {
    "duration": 18,
    "start_time": "2022-03-20T21:29:42.267Z"
   },
   {
    "duration": 12,
    "start_time": "2022-03-20T21:29:42.287Z"
   },
   {
    "duration": 17,
    "start_time": "2022-03-20T21:29:42.301Z"
   },
   {
    "duration": 31,
    "start_time": "2022-03-20T21:29:42.321Z"
   },
   {
    "duration": 5,
    "start_time": "2022-03-20T21:29:42.355Z"
   },
   {
    "duration": 22,
    "start_time": "2022-03-20T21:29:42.362Z"
   },
   {
    "duration": 5,
    "start_time": "2022-03-20T21:29:42.386Z"
   },
   {
    "duration": 17,
    "start_time": "2022-03-20T21:29:42.393Z"
   },
   {
    "duration": 8,
    "start_time": "2022-03-20T21:29:42.413Z"
   },
   {
    "duration": 36,
    "start_time": "2022-03-20T21:29:42.424Z"
   },
   {
    "duration": 56,
    "start_time": "2022-03-20T21:29:42.462Z"
   },
   {
    "duration": 94,
    "start_time": "2022-03-20T21:29:42.521Z"
   },
   {
    "duration": 43,
    "start_time": "2022-03-20T21:29:42.617Z"
   },
   {
    "duration": 606,
    "start_time": "2022-03-20T23:02:32.709Z"
   },
   {
    "duration": 23,
    "start_time": "2022-03-20T23:02:33.318Z"
   },
   {
    "duration": 49,
    "start_time": "2022-03-20T23:02:33.343Z"
   },
   {
    "duration": 32,
    "start_time": "2022-03-20T23:02:33.395Z"
   },
   {
    "duration": 19,
    "start_time": "2022-03-20T23:02:33.429Z"
   },
   {
    "duration": 36,
    "start_time": "2022-03-20T23:02:33.450Z"
   },
   {
    "duration": 15,
    "start_time": "2022-03-20T23:02:33.489Z"
   },
   {
    "duration": 41,
    "start_time": "2022-03-20T23:02:33.506Z"
   },
   {
    "duration": 75,
    "start_time": "2022-03-20T23:02:33.550Z"
   },
   {
    "duration": 24,
    "start_time": "2022-03-20T23:02:33.630Z"
   },
   {
    "duration": 6,
    "start_time": "2022-03-20T23:02:33.657Z"
   },
   {
    "duration": 20,
    "start_time": "2022-03-20T23:02:33.666Z"
   },
   {
    "duration": 32,
    "start_time": "2022-03-20T23:02:33.688Z"
   },
   {
    "duration": 8,
    "start_time": "2022-03-20T23:02:33.722Z"
   },
   {
    "duration": 15,
    "start_time": "2022-03-20T23:02:33.732Z"
   },
   {
    "duration": 29,
    "start_time": "2022-03-20T23:02:33.750Z"
   },
   {
    "duration": 46,
    "start_time": "2022-03-20T23:02:33.781Z"
   },
   {
    "duration": 16,
    "start_time": "2022-03-20T23:02:33.830Z"
   },
   {
    "duration": 10,
    "start_time": "2022-03-20T23:02:33.849Z"
   },
   {
    "duration": 13,
    "start_time": "2022-03-20T23:02:33.862Z"
   },
   {
    "duration": 18,
    "start_time": "2022-03-20T23:02:33.877Z"
   },
   {
    "duration": 12,
    "start_time": "2022-03-20T23:02:33.897Z"
   },
   {
    "duration": 8,
    "start_time": "2022-03-20T23:02:33.911Z"
   },
   {
    "duration": 24,
    "start_time": "2022-03-20T23:02:33.921Z"
   },
   {
    "duration": 55,
    "start_time": "2022-03-20T23:02:33.947Z"
   },
   {
    "duration": 6,
    "start_time": "2022-03-20T23:02:34.004Z"
   },
   {
    "duration": 18,
    "start_time": "2022-03-20T23:02:34.012Z"
   },
   {
    "duration": 27,
    "start_time": "2022-03-20T23:02:34.037Z"
   },
   {
    "duration": 25,
    "start_time": "2022-03-20T23:02:34.066Z"
   },
   {
    "duration": 24,
    "start_time": "2022-03-20T23:02:34.093Z"
   },
   {
    "duration": 19,
    "start_time": "2022-03-20T23:02:34.119Z"
   },
   {
    "duration": 15,
    "start_time": "2022-03-20T23:02:34.140Z"
   },
   {
    "duration": 45,
    "start_time": "2022-03-20T23:02:34.157Z"
   },
   {
    "duration": 27,
    "start_time": "2022-03-20T23:02:34.204Z"
   },
   {
    "duration": 25,
    "start_time": "2022-03-20T23:02:34.233Z"
   },
   {
    "duration": 21,
    "start_time": "2022-03-20T23:02:34.284Z"
   },
   {
    "duration": 3,
    "start_time": "2022-03-20T23:02:34.307Z"
   },
   {
    "duration": 7,
    "start_time": "2022-03-20T23:02:34.312Z"
   },
   {
    "duration": 11,
    "start_time": "2022-03-20T23:02:34.321Z"
   },
   {
    "duration": 19,
    "start_time": "2022-03-20T23:02:34.334Z"
   },
   {
    "duration": 29,
    "start_time": "2022-03-20T23:02:34.355Z"
   },
   {
    "duration": 33,
    "start_time": "2022-03-20T23:02:34.386Z"
   },
   {
    "duration": 19,
    "start_time": "2022-03-20T23:02:34.421Z"
   },
   {
    "duration": 41,
    "start_time": "2022-03-20T23:02:34.443Z"
   },
   {
    "duration": 5,
    "start_time": "2022-03-20T23:02:34.487Z"
   },
   {
    "duration": 18,
    "start_time": "2022-03-20T23:02:34.494Z"
   },
   {
    "duration": 540,
    "start_time": "2022-03-20T23:02:34.514Z"
   },
   {
    "duration": 7,
    "start_time": "2022-03-20T23:02:35.056Z"
   },
   {
    "duration": 19,
    "start_time": "2022-03-20T23:02:35.065Z"
   },
   {
    "duration": 26,
    "start_time": "2022-03-20T23:02:35.087Z"
   },
   {
    "duration": 7,
    "start_time": "2022-03-20T23:02:35.115Z"
   },
   {
    "duration": 16,
    "start_time": "2022-03-20T23:02:35.124Z"
   },
   {
    "duration": 10,
    "start_time": "2022-03-20T23:02:35.142Z"
   },
   {
    "duration": 35,
    "start_time": "2022-03-20T23:02:35.154Z"
   },
   {
    "duration": 519,
    "start_time": "2022-03-20T23:02:35.191Z"
   },
   {
    "duration": 6,
    "start_time": "2022-03-20T23:02:35.712Z"
   },
   {
    "duration": 12,
    "start_time": "2022-03-20T23:02:35.720Z"
   },
   {
    "duration": 28,
    "start_time": "2022-03-20T23:02:35.735Z"
   },
   {
    "duration": 20,
    "start_time": "2022-03-20T23:02:35.765Z"
   },
   {
    "duration": 18,
    "start_time": "2022-03-20T23:02:35.787Z"
   },
   {
    "duration": 10,
    "start_time": "2022-03-20T23:02:35.807Z"
   },
   {
    "duration": 21,
    "start_time": "2022-03-20T23:02:35.819Z"
   },
   {
    "duration": 7,
    "start_time": "2022-03-20T23:02:35.842Z"
   },
   {
    "duration": 39,
    "start_time": "2022-03-20T23:02:35.851Z"
   },
   {
    "duration": 18,
    "start_time": "2022-03-20T23:02:35.893Z"
   },
   {
    "duration": 21,
    "start_time": "2022-03-20T23:02:35.914Z"
   },
   {
    "duration": 15,
    "start_time": "2022-03-20T23:02:35.937Z"
   },
   {
    "duration": 32,
    "start_time": "2022-03-20T23:02:35.955Z"
   },
   {
    "duration": 45,
    "start_time": "2022-03-20T23:02:35.990Z"
   },
   {
    "duration": 96,
    "start_time": "2022-03-20T23:02:36.038Z"
   },
   {
    "duration": 65,
    "start_time": "2022-03-20T23:02:36.137Z"
   },
   {
    "duration": 613,
    "start_time": "2022-03-20T23:04:43.832Z"
   },
   {
    "duration": 20,
    "start_time": "2022-03-20T23:04:44.448Z"
   },
   {
    "duration": 21,
    "start_time": "2022-03-20T23:04:44.470Z"
   },
   {
    "duration": 26,
    "start_time": "2022-03-20T23:04:44.494Z"
   },
   {
    "duration": 17,
    "start_time": "2022-03-20T23:04:44.523Z"
   },
   {
    "duration": 43,
    "start_time": "2022-03-20T23:04:44.542Z"
   },
   {
    "duration": 12,
    "start_time": "2022-03-20T23:04:44.587Z"
   },
   {
    "duration": 30,
    "start_time": "2022-03-20T23:04:44.601Z"
   },
   {
    "duration": 67,
    "start_time": "2022-03-20T23:04:44.633Z"
   },
   {
    "duration": 3,
    "start_time": "2022-03-20T23:04:44.704Z"
   },
   {
    "duration": 9,
    "start_time": "2022-03-20T23:04:44.709Z"
   },
   {
    "duration": 8,
    "start_time": "2022-03-20T23:04:44.720Z"
   },
   {
    "duration": 22,
    "start_time": "2022-03-20T23:04:44.731Z"
   },
   {
    "duration": 30,
    "start_time": "2022-03-20T23:04:44.755Z"
   },
   {
    "duration": 6,
    "start_time": "2022-03-20T23:04:44.788Z"
   },
   {
    "duration": 15,
    "start_time": "2022-03-20T23:04:44.796Z"
   },
   {
    "duration": 6,
    "start_time": "2022-03-20T23:04:44.813Z"
   },
   {
    "duration": 13,
    "start_time": "2022-03-20T23:04:44.822Z"
   },
   {
    "duration": 79,
    "start_time": "2022-03-20T23:04:44.838Z"
   },
   {
    "duration": 9,
    "start_time": "2022-03-20T23:04:44.919Z"
   },
   {
    "duration": 9,
    "start_time": "2022-03-20T23:04:44.930Z"
   },
   {
    "duration": 14,
    "start_time": "2022-03-20T23:04:44.941Z"
   },
   {
    "duration": 15,
    "start_time": "2022-03-20T23:04:44.957Z"
   },
   {
    "duration": 14,
    "start_time": "2022-03-20T23:04:44.975Z"
   },
   {
    "duration": 26,
    "start_time": "2022-03-20T23:04:44.992Z"
   },
   {
    "duration": 7,
    "start_time": "2022-03-20T23:04:45.021Z"
   },
   {
    "duration": 13,
    "start_time": "2022-03-20T23:04:45.030Z"
   },
   {
    "duration": 44,
    "start_time": "2022-03-20T23:04:45.049Z"
   },
   {
    "duration": 10,
    "start_time": "2022-03-20T23:04:45.095Z"
   },
   {
    "duration": 9,
    "start_time": "2022-03-20T23:04:45.107Z"
   },
   {
    "duration": 14,
    "start_time": "2022-03-20T23:04:45.119Z"
   },
   {
    "duration": 10,
    "start_time": "2022-03-20T23:04:45.135Z"
   },
   {
    "duration": 65,
    "start_time": "2022-03-20T23:04:45.148Z"
   },
   {
    "duration": 27,
    "start_time": "2022-03-20T23:04:45.215Z"
   },
   {
    "duration": 45,
    "start_time": "2022-03-20T23:04:45.244Z"
   },
   {
    "duration": 22,
    "start_time": "2022-03-20T23:04:45.291Z"
   },
   {
    "duration": 3,
    "start_time": "2022-03-20T23:04:45.315Z"
   },
   {
    "duration": 6,
    "start_time": "2022-03-20T23:04:45.320Z"
   },
   {
    "duration": 9,
    "start_time": "2022-03-20T23:04:45.329Z"
   },
   {
    "duration": 44,
    "start_time": "2022-03-20T23:04:45.340Z"
   },
   {
    "duration": 9,
    "start_time": "2022-03-20T23:04:45.386Z"
   },
   {
    "duration": 33,
    "start_time": "2022-03-20T23:04:45.397Z"
   },
   {
    "duration": 18,
    "start_time": "2022-03-20T23:04:45.432Z"
   },
   {
    "duration": 37,
    "start_time": "2022-03-20T23:04:45.453Z"
   },
   {
    "duration": 5,
    "start_time": "2022-03-20T23:04:45.492Z"
   },
   {
    "duration": 17,
    "start_time": "2022-03-20T23:04:45.499Z"
   },
   {
    "duration": 547,
    "start_time": "2022-03-20T23:04:45.519Z"
   },
   {
    "duration": 6,
    "start_time": "2022-03-20T23:04:46.069Z"
   },
   {
    "duration": 3,
    "start_time": "2022-03-20T23:04:46.085Z"
   },
   {
    "duration": 28,
    "start_time": "2022-03-20T23:04:46.090Z"
   },
   {
    "duration": 10,
    "start_time": "2022-03-20T23:04:46.120Z"
   },
   {
    "duration": 7,
    "start_time": "2022-03-20T23:04:46.132Z"
   },
   {
    "duration": 45,
    "start_time": "2022-03-20T23:04:46.141Z"
   },
   {
    "duration": 14,
    "start_time": "2022-03-20T23:04:46.188Z"
   },
   {
    "duration": 524,
    "start_time": "2022-03-20T23:04:46.204Z"
   },
   {
    "duration": 6,
    "start_time": "2022-03-20T23:04:46.730Z"
   },
   {
    "duration": 12,
    "start_time": "2022-03-20T23:04:46.738Z"
   },
   {
    "duration": 37,
    "start_time": "2022-03-20T23:04:46.753Z"
   },
   {
    "duration": 7,
    "start_time": "2022-03-20T23:04:46.792Z"
   },
   {
    "duration": 11,
    "start_time": "2022-03-20T23:04:46.801Z"
   },
   {
    "duration": 6,
    "start_time": "2022-03-20T23:04:46.814Z"
   },
   {
    "duration": 24,
    "start_time": "2022-03-20T23:04:46.822Z"
   },
   {
    "duration": 39,
    "start_time": "2022-03-20T23:04:46.848Z"
   },
   {
    "duration": 6,
    "start_time": "2022-03-20T23:04:46.889Z"
   },
   {
    "duration": 6,
    "start_time": "2022-03-20T23:04:46.897Z"
   },
   {
    "duration": 14,
    "start_time": "2022-03-20T23:04:46.905Z"
   },
   {
    "duration": 9,
    "start_time": "2022-03-20T23:04:46.922Z"
   },
   {
    "duration": 64,
    "start_time": "2022-03-20T23:04:46.934Z"
   },
   {
    "duration": 44,
    "start_time": "2022-03-20T23:04:47.000Z"
   },
   {
    "duration": 89,
    "start_time": "2022-03-20T23:04:47.046Z"
   },
   {
    "duration": 65,
    "start_time": "2022-03-20T23:04:47.137Z"
   },
   {
    "duration": 15,
    "start_time": "2022-03-20T23:07:21.130Z"
   },
   {
    "duration": 14,
    "start_time": "2022-03-20T23:07:56.352Z"
   },
   {
    "duration": 17,
    "start_time": "2022-03-20T23:09:32.047Z"
   },
   {
    "duration": 676,
    "start_time": "2022-03-20T23:11:18.741Z"
   },
   {
    "duration": 22,
    "start_time": "2022-03-20T23:11:19.420Z"
   },
   {
    "duration": 14,
    "start_time": "2022-03-20T23:11:19.445Z"
   },
   {
    "duration": 25,
    "start_time": "2022-03-20T23:11:19.485Z"
   },
   {
    "duration": 20,
    "start_time": "2022-03-20T23:11:19.512Z"
   },
   {
    "duration": 11,
    "start_time": "2022-03-20T23:11:19.535Z"
   },
   {
    "duration": 15,
    "start_time": "2022-03-20T23:11:19.583Z"
   },
   {
    "duration": 18,
    "start_time": "2022-03-20T23:11:19.600Z"
   },
   {
    "duration": 17,
    "start_time": "2022-03-20T23:11:19.621Z"
   },
   {
    "duration": 4,
    "start_time": "2022-03-20T23:11:19.686Z"
   },
   {
    "duration": 8,
    "start_time": "2022-03-20T23:11:19.693Z"
   },
   {
    "duration": 9,
    "start_time": "2022-03-20T23:11:19.703Z"
   },
   {
    "duration": 16,
    "start_time": "2022-03-20T23:11:19.715Z"
   },
   {
    "duration": 7,
    "start_time": "2022-03-20T23:11:19.733Z"
   },
   {
    "duration": 6,
    "start_time": "2022-03-20T23:11:19.784Z"
   },
   {
    "duration": 15,
    "start_time": "2022-03-20T23:11:19.793Z"
   },
   {
    "duration": 6,
    "start_time": "2022-03-20T23:11:19.810Z"
   },
   {
    "duration": 8,
    "start_time": "2022-03-20T23:11:19.819Z"
   },
   {
    "duration": 54,
    "start_time": "2022-03-20T23:11:19.830Z"
   },
   {
    "duration": 4,
    "start_time": "2022-03-20T23:11:19.886Z"
   },
   {
    "duration": 18,
    "start_time": "2022-03-20T23:11:19.893Z"
   },
   {
    "duration": 10,
    "start_time": "2022-03-20T23:11:19.913Z"
   },
   {
    "duration": 4,
    "start_time": "2022-03-20T23:11:19.925Z"
   },
   {
    "duration": 9,
    "start_time": "2022-03-20T23:11:19.931Z"
   },
   {
    "duration": 54,
    "start_time": "2022-03-20T23:11:19.942Z"
   },
   {
    "duration": 6,
    "start_time": "2022-03-20T23:11:19.998Z"
   },
   {
    "duration": 10,
    "start_time": "2022-03-20T23:11:20.006Z"
   },
   {
    "duration": 15,
    "start_time": "2022-03-20T23:11:20.024Z"
   },
   {
    "duration": 43,
    "start_time": "2022-03-20T23:11:20.042Z"
   },
   {
    "duration": 11,
    "start_time": "2022-03-20T23:11:20.088Z"
   },
   {
    "duration": 16,
    "start_time": "2022-03-20T23:11:20.102Z"
   },
   {
    "duration": 12,
    "start_time": "2022-03-20T23:11:20.120Z"
   },
   {
    "duration": 62,
    "start_time": "2022-03-20T23:11:20.135Z"
   },
   {
    "duration": 26,
    "start_time": "2022-03-20T23:11:20.200Z"
   },
   {
    "duration": 25,
    "start_time": "2022-03-20T23:11:20.228Z"
   },
   {
    "duration": 46,
    "start_time": "2022-03-20T23:11:20.255Z"
   },
   {
    "duration": 5,
    "start_time": "2022-03-20T23:11:20.304Z"
   },
   {
    "duration": 11,
    "start_time": "2022-03-20T23:11:20.311Z"
   },
   {
    "duration": 11,
    "start_time": "2022-03-20T23:11:20.325Z"
   },
   {
    "duration": 16,
    "start_time": "2022-03-20T23:11:20.339Z"
   },
   {
    "duration": 27,
    "start_time": "2022-03-20T23:11:20.357Z"
   },
   {
    "duration": 34,
    "start_time": "2022-03-20T23:11:20.386Z"
   },
   {
    "duration": 18,
    "start_time": "2022-03-20T23:11:20.423Z"
   },
   {
    "duration": 40,
    "start_time": "2022-03-20T23:11:20.444Z"
   },
   {
    "duration": 9,
    "start_time": "2022-03-20T23:11:20.486Z"
   },
   {
    "duration": 17,
    "start_time": "2022-03-20T23:11:20.497Z"
   },
   {
    "duration": 612,
    "start_time": "2022-03-20T23:11:20.516Z"
   },
   {
    "duration": 6,
    "start_time": "2022-03-20T23:11:21.130Z"
   },
   {
    "duration": 11,
    "start_time": "2022-03-20T23:11:21.138Z"
   },
   {
    "duration": 38,
    "start_time": "2022-03-20T23:11:21.151Z"
   },
   {
    "duration": 8,
    "start_time": "2022-03-20T23:11:21.191Z"
   },
   {
    "duration": 6,
    "start_time": "2022-03-20T23:11:21.202Z"
   },
   {
    "duration": 5,
    "start_time": "2022-03-20T23:11:21.211Z"
   },
   {
    "duration": 14,
    "start_time": "2022-03-20T23:11:21.219Z"
   },
   {
    "duration": 589,
    "start_time": "2022-03-20T23:11:21.236Z"
   },
   {
    "duration": 5,
    "start_time": "2022-03-20T23:11:21.828Z"
   },
   {
    "duration": 9,
    "start_time": "2022-03-20T23:11:21.836Z"
   },
   {
    "duration": 43,
    "start_time": "2022-03-20T23:11:21.847Z"
   },
   {
    "duration": 5,
    "start_time": "2022-03-20T23:11:21.892Z"
   },
   {
    "duration": 12,
    "start_time": "2022-03-20T23:11:21.899Z"
   },
   {
    "duration": 7,
    "start_time": "2022-03-20T23:11:21.913Z"
   },
   {
    "duration": 21,
    "start_time": "2022-03-20T23:11:21.922Z"
   },
   {
    "duration": 39,
    "start_time": "2022-03-20T23:11:21.945Z"
   },
   {
    "duration": 9,
    "start_time": "2022-03-20T23:11:21.986Z"
   },
   {
    "duration": 7,
    "start_time": "2022-03-20T23:11:21.997Z"
   },
   {
    "duration": 13,
    "start_time": "2022-03-20T23:11:22.006Z"
   },
   {
    "duration": 17,
    "start_time": "2022-03-20T23:11:22.021Z"
   },
   {
    "duration": 51,
    "start_time": "2022-03-20T23:11:22.040Z"
   },
   {
    "duration": 44,
    "start_time": "2022-03-20T23:11:22.093Z"
   },
   {
    "duration": 96,
    "start_time": "2022-03-20T23:11:22.140Z"
   },
   {
    "duration": 59,
    "start_time": "2022-03-20T23:11:22.239Z"
   },
   {
    "duration": 594,
    "start_time": "2022-03-20T23:18:38.813Z"
   },
   {
    "duration": 20,
    "start_time": "2022-03-20T23:18:39.409Z"
   },
   {
    "duration": 24,
    "start_time": "2022-03-20T23:18:39.431Z"
   },
   {
    "duration": 39,
    "start_time": "2022-03-20T23:18:39.458Z"
   },
   {
    "duration": 18,
    "start_time": "2022-03-20T23:18:39.499Z"
   },
   {
    "duration": 10,
    "start_time": "2022-03-20T23:18:39.519Z"
   },
   {
    "duration": 13,
    "start_time": "2022-03-20T23:18:39.531Z"
   },
   {
    "duration": 49,
    "start_time": "2022-03-20T23:18:39.546Z"
   },
   {
    "duration": 17,
    "start_time": "2022-03-20T23:18:39.597Z"
   },
   {
    "duration": 3,
    "start_time": "2022-03-20T23:18:39.618Z"
   },
   {
    "duration": 9,
    "start_time": "2022-03-20T23:18:39.623Z"
   },
   {
    "duration": 11,
    "start_time": "2022-03-20T23:18:39.634Z"
   },
   {
    "duration": 15,
    "start_time": "2022-03-20T23:18:39.683Z"
   },
   {
    "duration": 10,
    "start_time": "2022-03-20T23:18:39.701Z"
   },
   {
    "duration": 6,
    "start_time": "2022-03-20T23:18:39.713Z"
   },
   {
    "duration": 14,
    "start_time": "2022-03-20T23:18:39.721Z"
   },
   {
    "duration": 5,
    "start_time": "2022-03-20T23:18:39.737Z"
   },
   {
    "duration": 45,
    "start_time": "2022-03-20T23:18:39.745Z"
   },
   {
    "duration": 17,
    "start_time": "2022-03-20T23:18:39.792Z"
   },
   {
    "duration": 11,
    "start_time": "2022-03-20T23:18:39.812Z"
   },
   {
    "duration": 12,
    "start_time": "2022-03-20T23:18:39.825Z"
   },
   {
    "duration": 9,
    "start_time": "2022-03-20T23:18:39.840Z"
   },
   {
    "duration": 5,
    "start_time": "2022-03-20T23:18:39.851Z"
   },
   {
    "duration": 31,
    "start_time": "2022-03-20T23:18:39.858Z"
   },
   {
    "duration": 29,
    "start_time": "2022-03-20T23:18:39.891Z"
   },
   {
    "duration": 6,
    "start_time": "2022-03-20T23:18:39.923Z"
   },
   {
    "duration": 13,
    "start_time": "2022-03-20T23:18:39.931Z"
   },
   {
    "duration": 49,
    "start_time": "2022-03-20T23:18:39.950Z"
   },
   {
    "duration": 13,
    "start_time": "2022-03-20T23:18:40.001Z"
   },
   {
    "duration": 11,
    "start_time": "2022-03-20T23:18:40.016Z"
   },
   {
    "duration": 14,
    "start_time": "2022-03-20T23:18:40.029Z"
   },
   {
    "duration": 38,
    "start_time": "2022-03-20T23:18:40.046Z"
   },
   {
    "duration": 38,
    "start_time": "2022-03-20T23:18:40.087Z"
   },
   {
    "duration": 28,
    "start_time": "2022-03-20T23:18:40.127Z"
   },
   {
    "duration": 50,
    "start_time": "2022-03-20T23:18:40.158Z"
   },
   {
    "duration": 22,
    "start_time": "2022-03-20T23:18:40.210Z"
   },
   {
    "duration": 4,
    "start_time": "2022-03-20T23:18:40.234Z"
   },
   {
    "duration": 8,
    "start_time": "2022-03-20T23:18:40.240Z"
   },
   {
    "duration": 4,
    "start_time": "2022-03-20T23:18:40.284Z"
   },
   {
    "duration": 14,
    "start_time": "2022-03-20T23:18:40.291Z"
   },
   {
    "duration": 9,
    "start_time": "2022-03-20T23:18:40.307Z"
   },
   {
    "duration": 37,
    "start_time": "2022-03-20T23:18:40.318Z"
   },
   {
    "duration": 44,
    "start_time": "2022-03-20T23:18:40.358Z"
   },
   {
    "duration": 9,
    "start_time": "2022-03-20T23:18:40.404Z"
   },
   {
    "duration": 7,
    "start_time": "2022-03-20T23:18:40.415Z"
   },
   {
    "duration": 19,
    "start_time": "2022-03-20T23:18:40.424Z"
   },
   {
    "duration": 560,
    "start_time": "2022-03-20T23:18:40.445Z"
   },
   {
    "duration": 7,
    "start_time": "2022-03-20T23:18:41.008Z"
   },
   {
    "duration": 9,
    "start_time": "2022-03-20T23:18:41.017Z"
   },
   {
    "duration": 27,
    "start_time": "2022-03-20T23:18:41.028Z"
   },
   {
    "duration": 29,
    "start_time": "2022-03-20T23:18:41.058Z"
   },
   {
    "duration": 8,
    "start_time": "2022-03-20T23:18:41.089Z"
   },
   {
    "duration": 7,
    "start_time": "2022-03-20T23:18:41.099Z"
   },
   {
    "duration": 14,
    "start_time": "2022-03-20T23:18:41.108Z"
   },
   {
    "duration": 546,
    "start_time": "2022-03-20T23:18:41.124Z"
   },
   {
    "duration": 12,
    "start_time": "2022-03-20T23:18:41.672Z"
   },
   {
    "duration": 7,
    "start_time": "2022-03-20T23:18:41.686Z"
   },
   {
    "duration": 28,
    "start_time": "2022-03-20T23:18:41.695Z"
   },
   {
    "duration": 6,
    "start_time": "2022-03-20T23:18:41.725Z"
   },
   {
    "duration": 14,
    "start_time": "2022-03-20T23:18:41.733Z"
   },
   {
    "duration": 37,
    "start_time": "2022-03-20T23:18:41.749Z"
   },
   {
    "duration": 19,
    "start_time": "2022-03-20T23:18:41.788Z"
   },
   {
    "duration": 5,
    "start_time": "2022-03-20T23:18:41.810Z"
   },
   {
    "duration": 8,
    "start_time": "2022-03-20T23:18:41.817Z"
   },
   {
    "duration": 9,
    "start_time": "2022-03-20T23:18:41.827Z"
   },
   {
    "duration": 46,
    "start_time": "2022-03-20T23:18:41.838Z"
   },
   {
    "duration": 9,
    "start_time": "2022-03-20T23:18:41.886Z"
   },
   {
    "duration": 28,
    "start_time": "2022-03-20T23:18:41.897Z"
   },
   {
    "duration": 59,
    "start_time": "2022-03-20T23:18:41.927Z"
   },
   {
    "duration": 69,
    "start_time": "2022-03-20T23:18:41.988Z"
   },
   {
    "duration": 66,
    "start_time": "2022-03-20T23:18:42.060Z"
   },
   {
    "duration": 7,
    "start_time": "2022-03-20T23:27:37.426Z"
   },
   {
    "duration": 657,
    "start_time": "2022-03-20T23:35:50.869Z"
   },
   {
    "duration": 19,
    "start_time": "2022-03-20T23:35:51.529Z"
   },
   {
    "duration": 38,
    "start_time": "2022-03-20T23:35:51.550Z"
   },
   {
    "duration": 43,
    "start_time": "2022-03-20T23:35:51.591Z"
   },
   {
    "duration": 22,
    "start_time": "2022-03-20T23:35:51.636Z"
   },
   {
    "duration": 24,
    "start_time": "2022-03-20T23:35:51.661Z"
   },
   {
    "duration": 27,
    "start_time": "2022-03-20T23:35:51.687Z"
   },
   {
    "duration": 33,
    "start_time": "2022-03-20T23:35:51.716Z"
   },
   {
    "duration": 25,
    "start_time": "2022-03-20T23:35:51.751Z"
   },
   {
    "duration": 11,
    "start_time": "2022-03-20T23:35:51.781Z"
   },
   {
    "duration": 39,
    "start_time": "2022-03-20T23:35:51.794Z"
   },
   {
    "duration": 33,
    "start_time": "2022-03-20T23:35:51.836Z"
   },
   {
    "duration": 38,
    "start_time": "2022-03-20T23:35:51.871Z"
   },
   {
    "duration": 51,
    "start_time": "2022-03-20T23:35:51.911Z"
   },
   {
    "duration": 33,
    "start_time": "2022-03-20T23:35:51.964Z"
   },
   {
    "duration": 39,
    "start_time": "2022-03-20T23:35:51.999Z"
   },
   {
    "duration": 36,
    "start_time": "2022-03-20T23:35:52.040Z"
   },
   {
    "duration": 19,
    "start_time": "2022-03-20T23:35:52.078Z"
   },
   {
    "duration": 43,
    "start_time": "2022-03-20T23:35:52.099Z"
   },
   {
    "duration": 37,
    "start_time": "2022-03-20T23:35:52.145Z"
   },
   {
    "duration": 26,
    "start_time": "2022-03-20T23:35:52.184Z"
   },
   {
    "duration": 41,
    "start_time": "2022-03-20T23:35:52.212Z"
   },
   {
    "duration": 24,
    "start_time": "2022-03-20T23:35:52.255Z"
   },
   {
    "duration": 24,
    "start_time": "2022-03-20T23:35:52.281Z"
   },
   {
    "duration": 55,
    "start_time": "2022-03-20T23:35:52.307Z"
   },
   {
    "duration": 32,
    "start_time": "2022-03-20T23:35:52.364Z"
   },
   {
    "duration": 44,
    "start_time": "2022-03-20T23:35:52.398Z"
   },
   {
    "duration": 44,
    "start_time": "2022-03-20T23:35:52.449Z"
   },
   {
    "duration": 20,
    "start_time": "2022-03-20T23:35:52.495Z"
   },
   {
    "duration": 38,
    "start_time": "2022-03-20T23:35:52.517Z"
   },
   {
    "duration": 44,
    "start_time": "2022-03-20T23:35:52.557Z"
   },
   {
    "duration": 34,
    "start_time": "2022-03-20T23:35:52.603Z"
   },
   {
    "duration": 74,
    "start_time": "2022-03-20T23:35:52.640Z"
   },
   {
    "duration": 26,
    "start_time": "2022-03-20T23:35:52.717Z"
   },
   {
    "duration": 31,
    "start_time": "2022-03-20T23:35:52.745Z"
   },
   {
    "duration": 22,
    "start_time": "2022-03-20T23:35:52.784Z"
   },
   {
    "duration": 18,
    "start_time": "2022-03-20T23:35:52.808Z"
   },
   {
    "duration": 34,
    "start_time": "2022-03-20T23:35:52.828Z"
   },
   {
    "duration": 22,
    "start_time": "2022-03-20T23:35:52.864Z"
   },
   {
    "duration": 43,
    "start_time": "2022-03-20T23:35:52.888Z"
   },
   {
    "duration": 27,
    "start_time": "2022-03-20T23:35:52.933Z"
   },
   {
    "duration": 60,
    "start_time": "2022-03-20T23:35:52.962Z"
   },
   {
    "duration": 19,
    "start_time": "2022-03-20T23:35:53.025Z"
   },
   {
    "duration": 27,
    "start_time": "2022-03-20T23:35:53.047Z"
   },
   {
    "duration": 20,
    "start_time": "2022-03-20T23:35:53.076Z"
   },
   {
    "duration": 54,
    "start_time": "2022-03-20T23:35:53.098Z"
   },
   {
    "duration": 563,
    "start_time": "2022-03-20T23:35:53.154Z"
   },
   {
    "duration": 7,
    "start_time": "2022-03-20T23:35:53.719Z"
   },
   {
    "duration": 40,
    "start_time": "2022-03-20T23:35:53.728Z"
   },
   {
    "duration": 64,
    "start_time": "2022-03-20T23:35:53.770Z"
   },
   {
    "duration": 29,
    "start_time": "2022-03-20T23:35:53.836Z"
   },
   {
    "duration": 47,
    "start_time": "2022-03-20T23:35:53.868Z"
   },
   {
    "duration": 25,
    "start_time": "2022-03-20T23:35:53.918Z"
   },
   {
    "duration": 64,
    "start_time": "2022-03-20T23:35:53.946Z"
   },
   {
    "duration": 787,
    "start_time": "2022-03-20T23:35:54.013Z"
   },
   {
    "duration": 6,
    "start_time": "2022-03-20T23:35:54.802Z"
   },
   {
    "duration": 22,
    "start_time": "2022-03-20T23:35:54.810Z"
   },
   {
    "duration": 57,
    "start_time": "2022-03-20T23:35:54.834Z"
   },
   {
    "duration": 18,
    "start_time": "2022-03-20T23:35:54.894Z"
   },
   {
    "duration": 44,
    "start_time": "2022-03-20T23:35:54.915Z"
   },
   {
    "duration": 41,
    "start_time": "2022-03-20T23:35:54.962Z"
   },
   {
    "duration": 49,
    "start_time": "2022-03-20T23:35:55.006Z"
   },
   {
    "duration": 40,
    "start_time": "2022-03-20T23:35:55.058Z"
   },
   {
    "duration": 55,
    "start_time": "2022-03-20T23:35:55.100Z"
   },
   {
    "duration": 38,
    "start_time": "2022-03-20T23:35:55.158Z"
   },
   {
    "duration": 34,
    "start_time": "2022-03-20T23:35:55.199Z"
   },
   {
    "duration": 50,
    "start_time": "2022-03-20T23:35:55.235Z"
   },
   {
    "duration": 64,
    "start_time": "2022-03-20T23:35:55.287Z"
   },
   {
    "duration": 66,
    "start_time": "2022-03-20T23:35:55.354Z"
   },
   {
    "duration": 81,
    "start_time": "2022-03-20T23:35:55.423Z"
   },
   {
    "duration": 42,
    "start_time": "2022-03-20T23:35:55.507Z"
   },
   {
    "duration": 10,
    "start_time": "2022-03-20T23:47:24.253Z"
   },
   {
    "duration": 6124,
    "start_time": "2022-03-20T23:51:33.375Z"
   },
   {
    "duration": 24,
    "start_time": "2022-03-20T23:52:05.328Z"
   },
   {
    "duration": 5,
    "start_time": "2022-03-20T23:56:49.307Z"
   },
   {
    "duration": 6,
    "start_time": "2022-03-20T23:56:55.377Z"
   },
   {
    "duration": 8,
    "start_time": "2022-03-20T23:57:20.394Z"
   },
   {
    "duration": 8,
    "start_time": "2022-03-20T23:58:38.137Z"
   },
   {
    "duration": 7,
    "start_time": "2022-03-21T00:03:28.914Z"
   },
   {
    "duration": 7,
    "start_time": "2022-03-21T00:04:01.519Z"
   },
   {
    "duration": 598,
    "start_time": "2022-03-21T00:09:08.412Z"
   },
   {
    "duration": 22,
    "start_time": "2022-03-21T00:09:09.013Z"
   },
   {
    "duration": 13,
    "start_time": "2022-03-21T00:09:09.038Z"
   },
   {
    "duration": 27,
    "start_time": "2022-03-21T00:09:09.086Z"
   },
   {
    "duration": 21,
    "start_time": "2022-03-21T00:09:09.116Z"
   },
   {
    "duration": 54,
    "start_time": "2022-03-21T00:09:09.140Z"
   },
   {
    "duration": 15,
    "start_time": "2022-03-21T00:09:09.197Z"
   },
   {
    "duration": 16,
    "start_time": "2022-03-21T00:09:09.215Z"
   },
   {
    "duration": 61,
    "start_time": "2022-03-21T00:09:09.233Z"
   },
   {
    "duration": 3,
    "start_time": "2022-03-21T00:09:09.298Z"
   },
   {
    "duration": 9,
    "start_time": "2022-03-21T00:09:09.303Z"
   },
   {
    "duration": 25,
    "start_time": "2022-03-21T00:09:09.314Z"
   },
   {
    "duration": 23,
    "start_time": "2022-03-21T00:09:09.341Z"
   },
   {
    "duration": 36,
    "start_time": "2022-03-21T00:09:09.367Z"
   },
   {
    "duration": 12,
    "start_time": "2022-03-21T00:09:09.406Z"
   },
   {
    "duration": 13,
    "start_time": "2022-03-21T00:09:09.420Z"
   },
   {
    "duration": 21,
    "start_time": "2022-03-21T00:09:09.435Z"
   },
   {
    "duration": 20,
    "start_time": "2022-03-21T00:09:09.458Z"
   },
   {
    "duration": 12,
    "start_time": "2022-03-21T00:09:09.480Z"
   },
   {
    "duration": 21,
    "start_time": "2022-03-21T00:09:09.494Z"
   },
   {
    "duration": 31,
    "start_time": "2022-03-21T00:09:09.517Z"
   },
   {
    "duration": 20,
    "start_time": "2022-03-21T00:09:09.550Z"
   },
   {
    "duration": 18,
    "start_time": "2022-03-21T00:09:09.572Z"
   },
   {
    "duration": 38,
    "start_time": "2022-03-21T00:09:09.592Z"
   },
   {
    "duration": 34,
    "start_time": "2022-03-21T00:09:09.632Z"
   },
   {
    "duration": 6,
    "start_time": "2022-03-21T00:09:09.668Z"
   },
   {
    "duration": 24,
    "start_time": "2022-03-21T00:09:09.676Z"
   },
   {
    "duration": 19,
    "start_time": "2022-03-21T00:09:09.706Z"
   },
   {
    "duration": 35,
    "start_time": "2022-03-21T00:09:09.727Z"
   },
   {
    "duration": 24,
    "start_time": "2022-03-21T00:09:09.764Z"
   },
   {
    "duration": 25,
    "start_time": "2022-03-21T00:09:09.790Z"
   },
   {
    "duration": 30,
    "start_time": "2022-03-21T00:09:09.817Z"
   },
   {
    "duration": 50,
    "start_time": "2022-03-21T00:09:09.849Z"
   },
   {
    "duration": 28,
    "start_time": "2022-03-21T00:09:09.901Z"
   },
   {
    "duration": 31,
    "start_time": "2022-03-21T00:09:09.932Z"
   },
   {
    "duration": 35,
    "start_time": "2022-03-21T00:09:09.966Z"
   },
   {
    "duration": 15,
    "start_time": "2022-03-21T00:09:10.004Z"
   },
   {
    "duration": 17,
    "start_time": "2022-03-21T00:09:10.021Z"
   },
   {
    "duration": 38,
    "start_time": "2022-03-21T00:09:10.040Z"
   },
   {
    "duration": 30,
    "start_time": "2022-03-21T00:09:10.080Z"
   },
   {
    "duration": 21,
    "start_time": "2022-03-21T00:09:10.113Z"
   },
   {
    "duration": 52,
    "start_time": "2022-03-21T00:09:10.137Z"
   },
   {
    "duration": 18,
    "start_time": "2022-03-21T00:09:10.192Z"
   },
   {
    "duration": 15,
    "start_time": "2022-03-21T00:09:10.212Z"
   },
   {
    "duration": 26,
    "start_time": "2022-03-21T00:09:10.229Z"
   },
   {
    "duration": 28,
    "start_time": "2022-03-21T00:09:10.258Z"
   },
   {
    "duration": 533,
    "start_time": "2022-03-21T00:09:10.289Z"
   },
   {
    "duration": 8,
    "start_time": "2022-03-21T00:09:10.824Z"
   },
   {
    "duration": 29,
    "start_time": "2022-03-21T00:09:10.834Z"
   },
   {
    "duration": 29,
    "start_time": "2022-03-21T00:09:10.865Z"
   },
   {
    "duration": 17,
    "start_time": "2022-03-21T00:09:10.896Z"
   },
   {
    "duration": 12,
    "start_time": "2022-03-21T00:09:10.915Z"
   },
   {
    "duration": 23,
    "start_time": "2022-03-21T00:09:10.929Z"
   },
   {
    "duration": 18,
    "start_time": "2022-03-21T00:09:10.955Z"
   },
   {
    "duration": 521,
    "start_time": "2022-03-21T00:09:10.976Z"
   },
   {
    "duration": 5,
    "start_time": "2022-03-21T00:09:11.499Z"
   },
   {
    "duration": 15,
    "start_time": "2022-03-21T00:09:11.506Z"
   },
   {
    "duration": 31,
    "start_time": "2022-03-21T00:09:11.523Z"
   },
   {
    "duration": 14,
    "start_time": "2022-03-21T00:09:11.556Z"
   },
   {
    "duration": 30,
    "start_time": "2022-03-21T00:09:11.572Z"
   },
   {
    "duration": 11,
    "start_time": "2022-03-21T00:09:11.604Z"
   },
   {
    "duration": 39,
    "start_time": "2022-03-21T00:09:11.617Z"
   },
   {
    "duration": 30,
    "start_time": "2022-03-21T00:09:11.658Z"
   },
   {
    "duration": 20,
    "start_time": "2022-03-21T00:09:11.690Z"
   },
   {
    "duration": 37,
    "start_time": "2022-03-21T00:09:11.712Z"
   },
   {
    "duration": 32,
    "start_time": "2022-03-21T00:09:11.751Z"
   },
   {
    "duration": 29,
    "start_time": "2022-03-21T00:09:11.785Z"
   },
   {
    "duration": 42,
    "start_time": "2022-03-21T00:09:11.816Z"
   },
   {
    "duration": 45,
    "start_time": "2022-03-21T00:09:11.860Z"
   },
   {
    "duration": 77,
    "start_time": "2022-03-21T00:09:11.907Z"
   },
   {
    "duration": 44,
    "start_time": "2022-03-21T00:09:11.986Z"
   },
   {
    "duration": 9,
    "start_time": "2022-03-21T13:20:08.236Z"
   },
   {
    "duration": 438,
    "start_time": "2022-03-21T13:21:15.598Z"
   },
   {
    "duration": 12,
    "start_time": "2022-03-21T13:21:16.038Z"
   },
   {
    "duration": 19,
    "start_time": "2022-03-21T13:21:16.051Z"
   },
   {
    "duration": 29,
    "start_time": "2022-03-21T13:21:16.073Z"
   },
   {
    "duration": 24,
    "start_time": "2022-03-21T13:21:16.104Z"
   },
   {
    "duration": 11,
    "start_time": "2022-03-21T13:21:16.130Z"
   },
   {
    "duration": 23,
    "start_time": "2022-03-21T13:21:16.142Z"
   },
   {
    "duration": 51,
    "start_time": "2022-03-21T13:21:16.167Z"
   },
   {
    "duration": 11,
    "start_time": "2022-03-21T13:21:16.220Z"
   },
   {
    "duration": 2,
    "start_time": "2022-03-21T13:21:16.234Z"
   },
   {
    "duration": 9,
    "start_time": "2022-03-21T13:21:16.238Z"
   },
   {
    "duration": 8,
    "start_time": "2022-03-21T13:21:16.248Z"
   },
   {
    "duration": 13,
    "start_time": "2022-03-21T13:21:16.258Z"
   },
   {
    "duration": 10,
    "start_time": "2022-03-21T13:21:16.273Z"
   },
   {
    "duration": 9,
    "start_time": "2022-03-21T13:21:16.284Z"
   },
   {
    "duration": 9,
    "start_time": "2022-03-21T13:21:16.295Z"
   },
   {
    "duration": 5,
    "start_time": "2022-03-21T13:21:16.305Z"
   },
   {
    "duration": 9,
    "start_time": "2022-03-21T13:21:16.311Z"
   },
   {
    "duration": 4,
    "start_time": "2022-03-21T13:21:16.321Z"
   },
   {
    "duration": 8,
    "start_time": "2022-03-21T13:21:16.326Z"
   },
   {
    "duration": 8,
    "start_time": "2022-03-21T13:21:16.335Z"
   },
   {
    "duration": 7,
    "start_time": "2022-03-21T13:21:16.344Z"
   },
   {
    "duration": 6,
    "start_time": "2022-03-21T13:21:16.353Z"
   },
   {
    "duration": 8,
    "start_time": "2022-03-21T13:21:16.382Z"
   },
   {
    "duration": 21,
    "start_time": "2022-03-21T13:21:16.391Z"
   },
   {
    "duration": 4,
    "start_time": "2022-03-21T13:21:16.413Z"
   },
   {
    "duration": 5,
    "start_time": "2022-03-21T13:21:16.418Z"
   },
   {
    "duration": 14,
    "start_time": "2022-03-21T13:21:16.426Z"
   },
   {
    "duration": 9,
    "start_time": "2022-03-21T13:21:16.442Z"
   },
   {
    "duration": 4,
    "start_time": "2022-03-21T13:21:16.481Z"
   },
   {
    "duration": 8,
    "start_time": "2022-03-21T13:21:16.487Z"
   },
   {
    "duration": 9,
    "start_time": "2022-03-21T13:21:16.497Z"
   },
   {
    "duration": 23,
    "start_time": "2022-03-21T13:21:16.508Z"
   },
   {
    "duration": 16,
    "start_time": "2022-03-21T13:21:16.533Z"
   },
   {
    "duration": 46,
    "start_time": "2022-03-21T13:21:16.550Z"
   },
   {
    "duration": 20,
    "start_time": "2022-03-21T13:21:16.598Z"
   },
   {
    "duration": 3,
    "start_time": "2022-03-21T13:21:16.620Z"
   },
   {
    "duration": 7,
    "start_time": "2022-03-21T13:21:16.624Z"
   },
   {
    "duration": 6,
    "start_time": "2022-03-21T13:21:16.632Z"
   },
   {
    "duration": 11,
    "start_time": "2022-03-21T13:21:16.639Z"
   },
   {
    "duration": 7,
    "start_time": "2022-03-21T13:21:16.652Z"
   },
   {
    "duration": 27,
    "start_time": "2022-03-21T13:21:16.681Z"
   },
   {
    "duration": 14,
    "start_time": "2022-03-21T13:21:16.710Z"
   },
   {
    "duration": 6,
    "start_time": "2022-03-21T13:21:16.725Z"
   },
   {
    "duration": 5,
    "start_time": "2022-03-21T13:21:16.732Z"
   },
   {
    "duration": 10,
    "start_time": "2022-03-21T13:21:16.739Z"
   },
   {
    "duration": 469,
    "start_time": "2022-03-21T13:21:16.751Z"
   },
   {
    "duration": 4,
    "start_time": "2022-03-21T13:21:17.222Z"
   },
   {
    "duration": 8,
    "start_time": "2022-03-21T13:21:17.227Z"
   },
   {
    "duration": 25,
    "start_time": "2022-03-21T13:21:17.236Z"
   },
   {
    "duration": 6,
    "start_time": "2022-03-21T13:21:17.262Z"
   },
   {
    "duration": 5,
    "start_time": "2022-03-21T13:21:17.281Z"
   },
   {
    "duration": 9,
    "start_time": "2022-03-21T13:21:17.287Z"
   },
   {
    "duration": 8,
    "start_time": "2022-03-21T13:21:17.298Z"
   },
   {
    "duration": 289,
    "start_time": "2022-03-21T13:21:17.308Z"
   },
   {
    "duration": 5,
    "start_time": "2022-03-21T13:21:17.598Z"
   },
   {
    "duration": 4,
    "start_time": "2022-03-21T13:21:17.605Z"
   },
   {
    "duration": 18,
    "start_time": "2022-03-21T13:21:17.610Z"
   },
   {
    "duration": 4,
    "start_time": "2022-03-21T13:21:17.629Z"
   },
   {
    "duration": 13,
    "start_time": "2022-03-21T13:21:17.635Z"
   },
   {
    "duration": 33,
    "start_time": "2022-03-21T13:21:17.649Z"
   },
   {
    "duration": 15,
    "start_time": "2022-03-21T13:21:17.683Z"
   },
   {
    "duration": 7,
    "start_time": "2022-03-21T13:21:17.700Z"
   },
   {
    "duration": 5,
    "start_time": "2022-03-21T13:21:17.709Z"
   },
   {
    "duration": 4,
    "start_time": "2022-03-21T13:21:17.716Z"
   },
   {
    "duration": 10,
    "start_time": "2022-03-21T13:21:17.722Z"
   },
   {
    "duration": 5,
    "start_time": "2022-03-21T13:21:17.733Z"
   },
   {
    "duration": 42,
    "start_time": "2022-03-21T13:21:17.740Z"
   },
   {
    "duration": 38,
    "start_time": "2022-03-21T13:21:17.783Z"
   },
   {
    "duration": 77,
    "start_time": "2022-03-21T13:21:17.823Z"
   },
   {
    "duration": 38,
    "start_time": "2022-03-21T13:21:17.902Z"
   },
   {
    "duration": 62,
    "start_time": "2022-03-21T15:45:56.647Z"
   },
   {
    "duration": 2716,
    "start_time": "2022-03-21T15:46:06.650Z"
   },
   {
    "duration": 17,
    "start_time": "2022-03-21T15:46:09.368Z"
   },
   {
    "duration": 8,
    "start_time": "2022-03-21T15:46:09.387Z"
   },
   {
    "duration": 19,
    "start_time": "2022-03-21T15:46:09.397Z"
   },
   {
    "duration": 25,
    "start_time": "2022-03-21T15:46:09.418Z"
   },
   {
    "duration": 9,
    "start_time": "2022-03-21T15:46:09.445Z"
   },
   {
    "duration": 13,
    "start_time": "2022-03-21T15:46:09.456Z"
   },
   {
    "duration": 19,
    "start_time": "2022-03-21T15:46:09.471Z"
   },
   {
    "duration": 45,
    "start_time": "2022-03-21T15:46:09.492Z"
   },
   {
    "duration": 3,
    "start_time": "2022-03-21T15:46:09.541Z"
   },
   {
    "duration": 14,
    "start_time": "2022-03-21T15:46:09.545Z"
   },
   {
    "duration": 10,
    "start_time": "2022-03-21T15:46:09.561Z"
   },
   {
    "duration": 15,
    "start_time": "2022-03-21T15:46:09.573Z"
   },
   {
    "duration": 12,
    "start_time": "2022-03-21T15:46:09.590Z"
   },
   {
    "duration": 7,
    "start_time": "2022-03-21T15:46:09.604Z"
   },
   {
    "duration": 9,
    "start_time": "2022-03-21T15:46:09.632Z"
   },
   {
    "duration": 4,
    "start_time": "2022-03-21T15:46:09.643Z"
   },
   {
    "duration": 8,
    "start_time": "2022-03-21T15:46:09.649Z"
   },
   {
    "duration": 8,
    "start_time": "2022-03-21T15:46:09.659Z"
   },
   {
    "duration": 9,
    "start_time": "2022-03-21T15:46:09.668Z"
   },
   {
    "duration": 8,
    "start_time": "2022-03-21T15:46:09.679Z"
   },
   {
    "duration": 44,
    "start_time": "2022-03-21T15:46:09.689Z"
   },
   {
    "duration": 4,
    "start_time": "2022-03-21T15:46:09.735Z"
   },
   {
    "duration": 9,
    "start_time": "2022-03-21T15:46:09.741Z"
   },
   {
    "duration": 24,
    "start_time": "2022-03-21T15:46:09.752Z"
   },
   {
    "duration": 5,
    "start_time": "2022-03-21T15:46:09.778Z"
   },
   {
    "duration": 6,
    "start_time": "2022-03-21T15:46:09.785Z"
   },
   {
    "duration": 41,
    "start_time": "2022-03-21T15:46:09.796Z"
   },
   {
    "duration": 15,
    "start_time": "2022-03-21T15:46:09.839Z"
   },
   {
    "duration": 7,
    "start_time": "2022-03-21T15:46:09.856Z"
   },
   {
    "duration": 10,
    "start_time": "2022-03-21T15:46:09.865Z"
   },
   {
    "duration": 7,
    "start_time": "2022-03-21T15:46:09.877Z"
   },
   {
    "duration": 48,
    "start_time": "2022-03-21T15:46:09.886Z"
   },
   {
    "duration": 20,
    "start_time": "2022-03-21T15:46:09.936Z"
   },
   {
    "duration": 22,
    "start_time": "2022-03-21T15:46:09.958Z"
   },
   {
    "duration": 23,
    "start_time": "2022-03-21T15:46:09.982Z"
   },
   {
    "duration": 3,
    "start_time": "2022-03-21T15:46:10.033Z"
   },
   {
    "duration": 18,
    "start_time": "2022-03-21T15:46:10.038Z"
   },
   {
    "duration": 6,
    "start_time": "2022-03-21T15:46:10.058Z"
   },
   {
    "duration": 15,
    "start_time": "2022-03-21T15:46:10.066Z"
   },
   {
    "duration": 10,
    "start_time": "2022-03-21T15:46:10.083Z"
   },
   {
    "duration": 44,
    "start_time": "2022-03-21T15:46:10.095Z"
   },
   {
    "duration": 45,
    "start_time": "2022-03-21T15:46:10.142Z"
   },
   {
    "duration": 33,
    "start_time": "2022-03-21T15:46:10.189Z"
   },
   {
    "duration": 9,
    "start_time": "2022-03-21T15:46:10.224Z"
   },
   {
    "duration": 15,
    "start_time": "2022-03-21T15:46:10.235Z"
   },
   {
    "duration": 328,
    "start_time": "2022-03-21T15:46:10.252Z"
   },
   {
    "duration": 6,
    "start_time": "2022-03-21T15:46:10.581Z"
   },
   {
    "duration": 6,
    "start_time": "2022-03-21T15:46:10.588Z"
   },
   {
    "duration": 20,
    "start_time": "2022-03-21T15:46:10.596Z"
   },
   {
    "duration": 18,
    "start_time": "2022-03-21T15:46:10.618Z"
   },
   {
    "duration": 6,
    "start_time": "2022-03-21T15:46:10.638Z"
   },
   {
    "duration": 7,
    "start_time": "2022-03-21T15:46:10.646Z"
   },
   {
    "duration": 11,
    "start_time": "2022-03-21T15:46:10.655Z"
   },
   {
    "duration": 347,
    "start_time": "2022-03-21T15:46:10.668Z"
   },
   {
    "duration": 4,
    "start_time": "2022-03-21T15:46:11.017Z"
   },
   {
    "duration": 13,
    "start_time": "2022-03-21T15:46:11.023Z"
   },
   {
    "duration": 24,
    "start_time": "2022-03-21T15:46:11.038Z"
   },
   {
    "duration": 5,
    "start_time": "2022-03-21T15:46:11.063Z"
   },
   {
    "duration": 12,
    "start_time": "2022-03-21T15:46:11.070Z"
   },
   {
    "duration": 4,
    "start_time": "2022-03-21T15:46:11.084Z"
   },
   {
    "duration": 43,
    "start_time": "2022-03-21T15:46:11.090Z"
   },
   {
    "duration": 6,
    "start_time": "2022-03-21T15:46:11.135Z"
   },
   {
    "duration": 8,
    "start_time": "2022-03-21T15:46:11.143Z"
   },
   {
    "duration": 10,
    "start_time": "2022-03-21T15:46:11.152Z"
   },
   {
    "duration": 10,
    "start_time": "2022-03-21T15:46:11.165Z"
   },
   {
    "duration": 10,
    "start_time": "2022-03-21T15:46:11.178Z"
   },
   {
    "duration": 68,
    "start_time": "2022-03-21T15:46:11.190Z"
   },
   {
    "duration": 37,
    "start_time": "2022-03-21T15:46:11.260Z"
   },
   {
    "duration": 74,
    "start_time": "2022-03-21T15:46:11.299Z"
   },
   {
    "duration": 32,
    "start_time": "2022-03-21T15:46:11.375Z"
   }
  ],
  "kernelspec": {
   "display_name": "Python 3 (ipykernel)",
   "language": "python",
   "name": "python3"
  },
  "language_info": {
   "codemirror_mode": {
    "name": "ipython",
    "version": 3
   },
   "file_extension": ".py",
   "mimetype": "text/x-python",
   "name": "python",
   "nbconvert_exporter": "python",
   "pygments_lexer": "ipython3",
   "version": "3.9.5"
  },
  "toc": {
   "base_numbering": 1,
   "nav_menu": {},
   "number_sections": true,
   "sideBar": true,
   "skip_h1_title": true,
   "title_cell": "Table of Contents",
   "title_sidebar": "Contents",
   "toc_cell": false,
   "toc_position": {},
   "toc_section_display": true,
   "toc_window_display": false
  }
 },
 "nbformat": 4,
 "nbformat_minor": 2
}
