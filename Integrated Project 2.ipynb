{
 "cells": [
  {
   "cell_type": "markdown",
   "metadata": {},
   "source": [
    "<div class=\"alert alert-success\">\n",
    "<b>Reviewer's comment V4</b>\n",
    "\n",
    "Thanks for taking the time to improve the project! Now it is accepted and you can move on to the next sprint. Good luck!\n",
    "    \n",
    "\n",
    "</div>"
   ]
  },
  {
   "cell_type": "markdown",
   "metadata": {},
   "source": [
    "**Review**\n",
    "\n",
    "Hi, my name is Dmitry and I will be reviewing your project.\n",
    "  \n",
    "You can find my comments in colored markdown cells:\n",
    "  \n",
    "<div class=\"alert alert-success\">\n",
    "  If everything is done successfully.\n",
    "</div>\n",
    "  \n",
    "<div class=\"alert alert-warning\">\n",
    "  If I have some (optional) suggestions, or questions to think about, or general comments.\n",
    "</div>\n",
    "  \n",
    "<div class=\"alert alert-danger\">\n",
    "  If a section requires some corrections. Work can't be accepted with red comments.\n",
    "</div>\n",
    "  \n",
    "Please don't remove my comments, as it will make further review iterations much harder for me.\n",
    "  \n",
    "Feel free to reply to my comments or ask questions using the following template:\n",
    "  \n",
    "<div class=\"alert alert-info\">\n",
    "  For your comments and questions.\n",
    "</div>\n",
    "  \n",
    "First of all, thank you for turning in the project! You did a pretty good job, although there are a few problems that need to be fixed before the project is accepted. Let me know if you have any questions!"
   ]
  },
  {
   "cell_type": "markdown",
   "metadata": {},
   "source": [
    "# Introduction"
   ]
  },
  {
   "cell_type": "markdown",
   "metadata": {},
   "source": [
    "Prepare a prototype of a machine learning model for Zyfra. The company develops efficiency solutions for heavy industry.\n",
    "\n",
    "The model should predict the amount of gold recovered from gold ore. You have the data on extraction and purification.\n",
    "\n",
    "The model will help to optimize the production and eliminate unprofitable parameters."
   ]
  },
  {
   "cell_type": "markdown",
   "metadata": {},
   "source": [
    "## Initialization"
   ]
  },
  {
   "cell_type": "markdown",
   "metadata": {},
   "source": [
    "### Load up libraries"
   ]
  },
  {
   "cell_type": "code",
   "execution_count": 2,
   "metadata": {},
   "outputs": [],
   "source": [
    "# Load up necessary libraries\n",
    "import pandas as pd \n",
    "import numpy as np\n",
    "from sklearn.metrics import mean_absolute_error\n",
    "from scipy import stats as st\n",
    "from sklearn.model_selection import train_test_split\n",
    "import matplotlib.pyplot as plt\n",
    "from sklearn.linear_model import LinearRegression\n",
    "from sklearn.tree import DecisionTreeRegressor\n",
    "from sklearn.ensemble import RandomForestRegressor\n",
    "from sklearn.model_selection import cross_val_score\n",
    "from sklearn.metrics import make_scorer\n",
    "from sklearn.dummy import DummyRegressor"
   ]
  },
  {
   "cell_type": "markdown",
   "metadata": {},
   "source": [
    "### Load up datasets"
   ]
  },
  {
   "cell_type": "code",
   "execution_count": 3,
   "metadata": {},
   "outputs": [],
   "source": [
    "# Load full dataset\n",
    "full = pd.read_csv('/datasets/gold_recovery_full.csv')"
   ]
  },
  {
   "cell_type": "code",
   "execution_count": 4,
   "metadata": {},
   "outputs": [],
   "source": [
    "# Load train dataset\n",
    "train = pd.read_csv('/datasets/gold_recovery_train.csv')"
   ]
  },
  {
   "cell_type": "code",
   "execution_count": 5,
   "metadata": {},
   "outputs": [],
   "source": [
    "# Load test dataset\n",
    "test = pd.read_csv('/datasets/gold_recovery_test.csv')"
   ]
  },
  {
   "cell_type": "markdown",
   "metadata": {},
   "source": [
    "### Visualize datasets and info"
   ]
  },
  {
   "cell_type": "markdown",
   "metadata": {},
   "source": [
    "#### Full dataset"
   ]
  },
  {
   "cell_type": "code",
   "execution_count": 6,
   "metadata": {},
   "outputs": [
    {
     "data": {
      "text/html": [
       "<div>\n",
       "<style scoped>\n",
       "    .dataframe tbody tr th:only-of-type {\n",
       "        vertical-align: middle;\n",
       "    }\n",
       "\n",
       "    .dataframe tbody tr th {\n",
       "        vertical-align: top;\n",
       "    }\n",
       "\n",
       "    .dataframe thead th {\n",
       "        text-align: right;\n",
       "    }\n",
       "</style>\n",
       "<table border=\"1\" class=\"dataframe\">\n",
       "  <thead>\n",
       "    <tr style=\"text-align: right;\">\n",
       "      <th></th>\n",
       "      <th>date</th>\n",
       "      <th>final.output.concentrate_ag</th>\n",
       "      <th>final.output.concentrate_pb</th>\n",
       "      <th>final.output.concentrate_sol</th>\n",
       "      <th>final.output.concentrate_au</th>\n",
       "      <th>final.output.recovery</th>\n",
       "      <th>final.output.tail_ag</th>\n",
       "      <th>final.output.tail_pb</th>\n",
       "      <th>final.output.tail_sol</th>\n",
       "      <th>final.output.tail_au</th>\n",
       "      <th>...</th>\n",
       "      <th>secondary_cleaner.state.floatbank4_a_air</th>\n",
       "      <th>secondary_cleaner.state.floatbank4_a_level</th>\n",
       "      <th>secondary_cleaner.state.floatbank4_b_air</th>\n",
       "      <th>secondary_cleaner.state.floatbank4_b_level</th>\n",
       "      <th>secondary_cleaner.state.floatbank5_a_air</th>\n",
       "      <th>secondary_cleaner.state.floatbank5_a_level</th>\n",
       "      <th>secondary_cleaner.state.floatbank5_b_air</th>\n",
       "      <th>secondary_cleaner.state.floatbank5_b_level</th>\n",
       "      <th>secondary_cleaner.state.floatbank6_a_air</th>\n",
       "      <th>secondary_cleaner.state.floatbank6_a_level</th>\n",
       "    </tr>\n",
       "  </thead>\n",
       "  <tbody>\n",
       "    <tr>\n",
       "      <th>0</th>\n",
       "      <td>2016-01-15 00:00:00</td>\n",
       "      <td>6.055403</td>\n",
       "      <td>9.889648</td>\n",
       "      <td>5.507324</td>\n",
       "      <td>42.192020</td>\n",
       "      <td>70.541216</td>\n",
       "      <td>10.411962</td>\n",
       "      <td>0.895447</td>\n",
       "      <td>16.904297</td>\n",
       "      <td>2.143149</td>\n",
       "      <td>...</td>\n",
       "      <td>14.016835</td>\n",
       "      <td>-502.488007</td>\n",
       "      <td>12.099931</td>\n",
       "      <td>-504.715942</td>\n",
       "      <td>9.925633</td>\n",
       "      <td>-498.310211</td>\n",
       "      <td>8.079666</td>\n",
       "      <td>-500.470978</td>\n",
       "      <td>14.151341</td>\n",
       "      <td>-605.841980</td>\n",
       "    </tr>\n",
       "    <tr>\n",
       "      <th>1</th>\n",
       "      <td>2016-01-15 01:00:00</td>\n",
       "      <td>6.029369</td>\n",
       "      <td>9.968944</td>\n",
       "      <td>5.257781</td>\n",
       "      <td>42.701629</td>\n",
       "      <td>69.266198</td>\n",
       "      <td>10.462676</td>\n",
       "      <td>0.927452</td>\n",
       "      <td>16.634514</td>\n",
       "      <td>2.224930</td>\n",
       "      <td>...</td>\n",
       "      <td>13.992281</td>\n",
       "      <td>-505.503262</td>\n",
       "      <td>11.950531</td>\n",
       "      <td>-501.331529</td>\n",
       "      <td>10.039245</td>\n",
       "      <td>-500.169983</td>\n",
       "      <td>7.984757</td>\n",
       "      <td>-500.582168</td>\n",
       "      <td>13.998353</td>\n",
       "      <td>-599.787184</td>\n",
       "    </tr>\n",
       "    <tr>\n",
       "      <th>2</th>\n",
       "      <td>2016-01-15 02:00:00</td>\n",
       "      <td>6.055926</td>\n",
       "      <td>10.213995</td>\n",
       "      <td>5.383759</td>\n",
       "      <td>42.657501</td>\n",
       "      <td>68.116445</td>\n",
       "      <td>10.507046</td>\n",
       "      <td>0.953716</td>\n",
       "      <td>16.208849</td>\n",
       "      <td>2.257889</td>\n",
       "      <td>...</td>\n",
       "      <td>14.015015</td>\n",
       "      <td>-502.520901</td>\n",
       "      <td>11.912783</td>\n",
       "      <td>-501.133383</td>\n",
       "      <td>10.070913</td>\n",
       "      <td>-500.129135</td>\n",
       "      <td>8.013877</td>\n",
       "      <td>-500.517572</td>\n",
       "      <td>14.028663</td>\n",
       "      <td>-601.427363</td>\n",
       "    </tr>\n",
       "    <tr>\n",
       "      <th>3</th>\n",
       "      <td>2016-01-15 03:00:00</td>\n",
       "      <td>6.047977</td>\n",
       "      <td>9.977019</td>\n",
       "      <td>4.858634</td>\n",
       "      <td>42.689819</td>\n",
       "      <td>68.347543</td>\n",
       "      <td>10.422762</td>\n",
       "      <td>0.883763</td>\n",
       "      <td>16.532835</td>\n",
       "      <td>2.146849</td>\n",
       "      <td>...</td>\n",
       "      <td>14.036510</td>\n",
       "      <td>-500.857308</td>\n",
       "      <td>11.999550</td>\n",
       "      <td>-501.193686</td>\n",
       "      <td>9.970366</td>\n",
       "      <td>-499.201640</td>\n",
       "      <td>7.977324</td>\n",
       "      <td>-500.255908</td>\n",
       "      <td>14.005551</td>\n",
       "      <td>-599.996129</td>\n",
       "    </tr>\n",
       "    <tr>\n",
       "      <th>4</th>\n",
       "      <td>2016-01-15 04:00:00</td>\n",
       "      <td>6.148599</td>\n",
       "      <td>10.142511</td>\n",
       "      <td>4.939416</td>\n",
       "      <td>42.774141</td>\n",
       "      <td>66.927016</td>\n",
       "      <td>10.360302</td>\n",
       "      <td>0.792826</td>\n",
       "      <td>16.525686</td>\n",
       "      <td>2.055292</td>\n",
       "      <td>...</td>\n",
       "      <td>14.027298</td>\n",
       "      <td>-499.838632</td>\n",
       "      <td>11.953070</td>\n",
       "      <td>-501.053894</td>\n",
       "      <td>9.925709</td>\n",
       "      <td>-501.686727</td>\n",
       "      <td>7.894242</td>\n",
       "      <td>-500.356035</td>\n",
       "      <td>13.996647</td>\n",
       "      <td>-601.496691</td>\n",
       "    </tr>\n",
       "    <tr>\n",
       "      <th>...</th>\n",
       "      <td>...</td>\n",
       "      <td>...</td>\n",
       "      <td>...</td>\n",
       "      <td>...</td>\n",
       "      <td>...</td>\n",
       "      <td>...</td>\n",
       "      <td>...</td>\n",
       "      <td>...</td>\n",
       "      <td>...</td>\n",
       "      <td>...</td>\n",
       "      <td>...</td>\n",
       "      <td>...</td>\n",
       "      <td>...</td>\n",
       "      <td>...</td>\n",
       "      <td>...</td>\n",
       "      <td>...</td>\n",
       "      <td>...</td>\n",
       "      <td>...</td>\n",
       "      <td>...</td>\n",
       "      <td>...</td>\n",
       "      <td>...</td>\n",
       "    </tr>\n",
       "    <tr>\n",
       "      <th>22711</th>\n",
       "      <td>2018-08-18 06:59:59</td>\n",
       "      <td>3.224920</td>\n",
       "      <td>11.356233</td>\n",
       "      <td>6.803482</td>\n",
       "      <td>46.713954</td>\n",
       "      <td>73.755150</td>\n",
       "      <td>8.769645</td>\n",
       "      <td>3.141541</td>\n",
       "      <td>10.403181</td>\n",
       "      <td>1.529220</td>\n",
       "      <td>...</td>\n",
       "      <td>23.031497</td>\n",
       "      <td>-501.167942</td>\n",
       "      <td>20.007571</td>\n",
       "      <td>-499.740028</td>\n",
       "      <td>18.006038</td>\n",
       "      <td>-499.834374</td>\n",
       "      <td>13.001114</td>\n",
       "      <td>-500.155694</td>\n",
       "      <td>20.007840</td>\n",
       "      <td>-501.296428</td>\n",
       "    </tr>\n",
       "    <tr>\n",
       "      <th>22712</th>\n",
       "      <td>2018-08-18 07:59:59</td>\n",
       "      <td>3.195978</td>\n",
       "      <td>11.349355</td>\n",
       "      <td>6.862249</td>\n",
       "      <td>46.866780</td>\n",
       "      <td>69.049291</td>\n",
       "      <td>8.897321</td>\n",
       "      <td>3.130493</td>\n",
       "      <td>10.549470</td>\n",
       "      <td>1.612542</td>\n",
       "      <td>...</td>\n",
       "      <td>22.960095</td>\n",
       "      <td>-501.612783</td>\n",
       "      <td>20.035660</td>\n",
       "      <td>-500.251357</td>\n",
       "      <td>17.998535</td>\n",
       "      <td>-500.395178</td>\n",
       "      <td>12.954048</td>\n",
       "      <td>-499.895163</td>\n",
       "      <td>19.968498</td>\n",
       "      <td>-501.041608</td>\n",
       "    </tr>\n",
       "    <tr>\n",
       "      <th>22713</th>\n",
       "      <td>2018-08-18 08:59:59</td>\n",
       "      <td>3.109998</td>\n",
       "      <td>11.434366</td>\n",
       "      <td>6.886013</td>\n",
       "      <td>46.795691</td>\n",
       "      <td>67.002189</td>\n",
       "      <td>8.529606</td>\n",
       "      <td>2.911418</td>\n",
       "      <td>11.115147</td>\n",
       "      <td>1.596616</td>\n",
       "      <td>...</td>\n",
       "      <td>23.015718</td>\n",
       "      <td>-501.711599</td>\n",
       "      <td>19.951231</td>\n",
       "      <td>-499.857027</td>\n",
       "      <td>18.019543</td>\n",
       "      <td>-500.451156</td>\n",
       "      <td>13.023431</td>\n",
       "      <td>-499.914391</td>\n",
       "      <td>19.990885</td>\n",
       "      <td>-501.518452</td>\n",
       "    </tr>\n",
       "    <tr>\n",
       "      <th>22714</th>\n",
       "      <td>2018-08-18 09:59:59</td>\n",
       "      <td>3.367241</td>\n",
       "      <td>11.625587</td>\n",
       "      <td>6.799433</td>\n",
       "      <td>46.408188</td>\n",
       "      <td>65.523246</td>\n",
       "      <td>8.777171</td>\n",
       "      <td>2.819214</td>\n",
       "      <td>10.463847</td>\n",
       "      <td>1.602879</td>\n",
       "      <td>...</td>\n",
       "      <td>23.024963</td>\n",
       "      <td>-501.153409</td>\n",
       "      <td>20.054122</td>\n",
       "      <td>-500.314711</td>\n",
       "      <td>17.979515</td>\n",
       "      <td>-499.272871</td>\n",
       "      <td>12.992404</td>\n",
       "      <td>-499.976268</td>\n",
       "      <td>20.013986</td>\n",
       "      <td>-500.625471</td>\n",
       "    </tr>\n",
       "    <tr>\n",
       "      <th>22715</th>\n",
       "      <td>2018-08-18 10:59:59</td>\n",
       "      <td>3.598375</td>\n",
       "      <td>11.737832</td>\n",
       "      <td>6.717509</td>\n",
       "      <td>46.299438</td>\n",
       "      <td>70.281454</td>\n",
       "      <td>8.406690</td>\n",
       "      <td>2.517518</td>\n",
       "      <td>10.652193</td>\n",
       "      <td>1.389434</td>\n",
       "      <td>...</td>\n",
       "      <td>23.018622</td>\n",
       "      <td>-500.492702</td>\n",
       "      <td>20.020205</td>\n",
       "      <td>-500.220296</td>\n",
       "      <td>17.963512</td>\n",
       "      <td>-499.939490</td>\n",
       "      <td>12.990306</td>\n",
       "      <td>-500.080993</td>\n",
       "      <td>19.990336</td>\n",
       "      <td>-499.191575</td>\n",
       "    </tr>\n",
       "  </tbody>\n",
       "</table>\n",
       "<p>22716 rows × 87 columns</p>\n",
       "</div>"
      ],
      "text/plain": [
       "                      date  final.output.concentrate_ag  \\\n",
       "0      2016-01-15 00:00:00                     6.055403   \n",
       "1      2016-01-15 01:00:00                     6.029369   \n",
       "2      2016-01-15 02:00:00                     6.055926   \n",
       "3      2016-01-15 03:00:00                     6.047977   \n",
       "4      2016-01-15 04:00:00                     6.148599   \n",
       "...                    ...                          ...   \n",
       "22711  2018-08-18 06:59:59                     3.224920   \n",
       "22712  2018-08-18 07:59:59                     3.195978   \n",
       "22713  2018-08-18 08:59:59                     3.109998   \n",
       "22714  2018-08-18 09:59:59                     3.367241   \n",
       "22715  2018-08-18 10:59:59                     3.598375   \n",
       "\n",
       "       final.output.concentrate_pb  final.output.concentrate_sol  \\\n",
       "0                         9.889648                      5.507324   \n",
       "1                         9.968944                      5.257781   \n",
       "2                        10.213995                      5.383759   \n",
       "3                         9.977019                      4.858634   \n",
       "4                        10.142511                      4.939416   \n",
       "...                            ...                           ...   \n",
       "22711                    11.356233                      6.803482   \n",
       "22712                    11.349355                      6.862249   \n",
       "22713                    11.434366                      6.886013   \n",
       "22714                    11.625587                      6.799433   \n",
       "22715                    11.737832                      6.717509   \n",
       "\n",
       "       final.output.concentrate_au  final.output.recovery  \\\n",
       "0                        42.192020              70.541216   \n",
       "1                        42.701629              69.266198   \n",
       "2                        42.657501              68.116445   \n",
       "3                        42.689819              68.347543   \n",
       "4                        42.774141              66.927016   \n",
       "...                            ...                    ...   \n",
       "22711                    46.713954              73.755150   \n",
       "22712                    46.866780              69.049291   \n",
       "22713                    46.795691              67.002189   \n",
       "22714                    46.408188              65.523246   \n",
       "22715                    46.299438              70.281454   \n",
       "\n",
       "       final.output.tail_ag  final.output.tail_pb  final.output.tail_sol  \\\n",
       "0                 10.411962              0.895447              16.904297   \n",
       "1                 10.462676              0.927452              16.634514   \n",
       "2                 10.507046              0.953716              16.208849   \n",
       "3                 10.422762              0.883763              16.532835   \n",
       "4                 10.360302              0.792826              16.525686   \n",
       "...                     ...                   ...                    ...   \n",
       "22711              8.769645              3.141541              10.403181   \n",
       "22712              8.897321              3.130493              10.549470   \n",
       "22713              8.529606              2.911418              11.115147   \n",
       "22714              8.777171              2.819214              10.463847   \n",
       "22715              8.406690              2.517518              10.652193   \n",
       "\n",
       "       final.output.tail_au  ...  secondary_cleaner.state.floatbank4_a_air  \\\n",
       "0                  2.143149  ...                                 14.016835   \n",
       "1                  2.224930  ...                                 13.992281   \n",
       "2                  2.257889  ...                                 14.015015   \n",
       "3                  2.146849  ...                                 14.036510   \n",
       "4                  2.055292  ...                                 14.027298   \n",
       "...                     ...  ...                                       ...   \n",
       "22711              1.529220  ...                                 23.031497   \n",
       "22712              1.612542  ...                                 22.960095   \n",
       "22713              1.596616  ...                                 23.015718   \n",
       "22714              1.602879  ...                                 23.024963   \n",
       "22715              1.389434  ...                                 23.018622   \n",
       "\n",
       "       secondary_cleaner.state.floatbank4_a_level  \\\n",
       "0                                     -502.488007   \n",
       "1                                     -505.503262   \n",
       "2                                     -502.520901   \n",
       "3                                     -500.857308   \n",
       "4                                     -499.838632   \n",
       "...                                           ...   \n",
       "22711                                 -501.167942   \n",
       "22712                                 -501.612783   \n",
       "22713                                 -501.711599   \n",
       "22714                                 -501.153409   \n",
       "22715                                 -500.492702   \n",
       "\n",
       "       secondary_cleaner.state.floatbank4_b_air  \\\n",
       "0                                     12.099931   \n",
       "1                                     11.950531   \n",
       "2                                     11.912783   \n",
       "3                                     11.999550   \n",
       "4                                     11.953070   \n",
       "...                                         ...   \n",
       "22711                                 20.007571   \n",
       "22712                                 20.035660   \n",
       "22713                                 19.951231   \n",
       "22714                                 20.054122   \n",
       "22715                                 20.020205   \n",
       "\n",
       "       secondary_cleaner.state.floatbank4_b_level  \\\n",
       "0                                     -504.715942   \n",
       "1                                     -501.331529   \n",
       "2                                     -501.133383   \n",
       "3                                     -501.193686   \n",
       "4                                     -501.053894   \n",
       "...                                           ...   \n",
       "22711                                 -499.740028   \n",
       "22712                                 -500.251357   \n",
       "22713                                 -499.857027   \n",
       "22714                                 -500.314711   \n",
       "22715                                 -500.220296   \n",
       "\n",
       "       secondary_cleaner.state.floatbank5_a_air  \\\n",
       "0                                      9.925633   \n",
       "1                                     10.039245   \n",
       "2                                     10.070913   \n",
       "3                                      9.970366   \n",
       "4                                      9.925709   \n",
       "...                                         ...   \n",
       "22711                                 18.006038   \n",
       "22712                                 17.998535   \n",
       "22713                                 18.019543   \n",
       "22714                                 17.979515   \n",
       "22715                                 17.963512   \n",
       "\n",
       "       secondary_cleaner.state.floatbank5_a_level  \\\n",
       "0                                     -498.310211   \n",
       "1                                     -500.169983   \n",
       "2                                     -500.129135   \n",
       "3                                     -499.201640   \n",
       "4                                     -501.686727   \n",
       "...                                           ...   \n",
       "22711                                 -499.834374   \n",
       "22712                                 -500.395178   \n",
       "22713                                 -500.451156   \n",
       "22714                                 -499.272871   \n",
       "22715                                 -499.939490   \n",
       "\n",
       "       secondary_cleaner.state.floatbank5_b_air  \\\n",
       "0                                      8.079666   \n",
       "1                                      7.984757   \n",
       "2                                      8.013877   \n",
       "3                                      7.977324   \n",
       "4                                      7.894242   \n",
       "...                                         ...   \n",
       "22711                                 13.001114   \n",
       "22712                                 12.954048   \n",
       "22713                                 13.023431   \n",
       "22714                                 12.992404   \n",
       "22715                                 12.990306   \n",
       "\n",
       "       secondary_cleaner.state.floatbank5_b_level  \\\n",
       "0                                     -500.470978   \n",
       "1                                     -500.582168   \n",
       "2                                     -500.517572   \n",
       "3                                     -500.255908   \n",
       "4                                     -500.356035   \n",
       "...                                           ...   \n",
       "22711                                 -500.155694   \n",
       "22712                                 -499.895163   \n",
       "22713                                 -499.914391   \n",
       "22714                                 -499.976268   \n",
       "22715                                 -500.080993   \n",
       "\n",
       "       secondary_cleaner.state.floatbank6_a_air  \\\n",
       "0                                     14.151341   \n",
       "1                                     13.998353   \n",
       "2                                     14.028663   \n",
       "3                                     14.005551   \n",
       "4                                     13.996647   \n",
       "...                                         ...   \n",
       "22711                                 20.007840   \n",
       "22712                                 19.968498   \n",
       "22713                                 19.990885   \n",
       "22714                                 20.013986   \n",
       "22715                                 19.990336   \n",
       "\n",
       "       secondary_cleaner.state.floatbank6_a_level  \n",
       "0                                     -605.841980  \n",
       "1                                     -599.787184  \n",
       "2                                     -601.427363  \n",
       "3                                     -599.996129  \n",
       "4                                     -601.496691  \n",
       "...                                           ...  \n",
       "22711                                 -501.296428  \n",
       "22712                                 -501.041608  \n",
       "22713                                 -501.518452  \n",
       "22714                                 -500.625471  \n",
       "22715                                 -499.191575  \n",
       "\n",
       "[22716 rows x 87 columns]"
      ]
     },
     "execution_count": 6,
     "metadata": {},
     "output_type": "execute_result"
    }
   ],
   "source": [
    "# Visualize full dataset\n",
    "full"
   ]
  },
  {
   "cell_type": "code",
   "execution_count": 7,
   "metadata": {},
   "outputs": [
    {
     "name": "stdout",
     "output_type": "stream",
     "text": [
      "<class 'pandas.core.frame.DataFrame'>\n",
      "RangeIndex: 22716 entries, 0 to 22715\n",
      "Data columns (total 87 columns):\n",
      " #   Column                                              Non-Null Count  Dtype  \n",
      "---  ------                                              --------------  -----  \n",
      " 0   date                                                22716 non-null  object \n",
      " 1   final.output.concentrate_ag                         22627 non-null  float64\n",
      " 2   final.output.concentrate_pb                         22629 non-null  float64\n",
      " 3   final.output.concentrate_sol                        22331 non-null  float64\n",
      " 4   final.output.concentrate_au                         22630 non-null  float64\n",
      " 5   final.output.recovery                               20753 non-null  float64\n",
      " 6   final.output.tail_ag                                22633 non-null  float64\n",
      " 7   final.output.tail_pb                                22516 non-null  float64\n",
      " 8   final.output.tail_sol                               22445 non-null  float64\n",
      " 9   final.output.tail_au                                22635 non-null  float64\n",
      " 10  primary_cleaner.input.sulfate                       21107 non-null  float64\n",
      " 11  primary_cleaner.input.depressant                    21170 non-null  float64\n",
      " 12  primary_cleaner.input.feed_size                     22716 non-null  float64\n",
      " 13  primary_cleaner.input.xanthate                      21565 non-null  float64\n",
      " 14  primary_cleaner.output.concentrate_ag               22618 non-null  float64\n",
      " 15  primary_cleaner.output.concentrate_pb               22268 non-null  float64\n",
      " 16  primary_cleaner.output.concentrate_sol              21918 non-null  float64\n",
      " 17  primary_cleaner.output.concentrate_au               22618 non-null  float64\n",
      " 18  primary_cleaner.output.tail_ag                      22614 non-null  float64\n",
      " 19  primary_cleaner.output.tail_pb                      22594 non-null  float64\n",
      " 20  primary_cleaner.output.tail_sol                     22365 non-null  float64\n",
      " 21  primary_cleaner.output.tail_au                      22617 non-null  float64\n",
      " 22  primary_cleaner.state.floatbank8_a_air              22660 non-null  float64\n",
      " 23  primary_cleaner.state.floatbank8_a_level            22667 non-null  float64\n",
      " 24  primary_cleaner.state.floatbank8_b_air              22660 non-null  float64\n",
      " 25  primary_cleaner.state.floatbank8_b_level            22673 non-null  float64\n",
      " 26  primary_cleaner.state.floatbank8_c_air              22662 non-null  float64\n",
      " 27  primary_cleaner.state.floatbank8_c_level            22673 non-null  float64\n",
      " 28  primary_cleaner.state.floatbank8_d_air              22661 non-null  float64\n",
      " 29  primary_cleaner.state.floatbank8_d_level            22673 non-null  float64\n",
      " 30  rougher.calculation.sulfate_to_au_concentrate       22672 non-null  float64\n",
      " 31  rougher.calculation.floatbank10_sulfate_to_au_feed  22672 non-null  float64\n",
      " 32  rougher.calculation.floatbank11_sulfate_to_au_feed  22672 non-null  float64\n",
      " 33  rougher.calculation.au_pb_ratio                     21089 non-null  float64\n",
      " 34  rougher.input.feed_ag                               22618 non-null  float64\n",
      " 35  rougher.input.feed_pb                               22472 non-null  float64\n",
      " 36  rougher.input.feed_rate                             22163 non-null  float64\n",
      " 37  rougher.input.feed_size                             22277 non-null  float64\n",
      " 38  rougher.input.feed_sol                              22357 non-null  float64\n",
      " 39  rougher.input.feed_au                               22617 non-null  float64\n",
      " 40  rougher.input.floatbank10_sulfate                   21415 non-null  float64\n",
      " 41  rougher.input.floatbank10_xanthate                  22247 non-null  float64\n",
      " 42  rougher.input.floatbank11_sulfate                   22038 non-null  float64\n",
      " 43  rougher.input.floatbank11_xanthate                  20459 non-null  float64\n",
      " 44  rougher.output.concentrate_ag                       22618 non-null  float64\n",
      " 45  rougher.output.concentrate_pb                       22618 non-null  float64\n",
      " 46  rougher.output.concentrate_sol                      22526 non-null  float64\n",
      " 47  rougher.output.concentrate_au                       22618 non-null  float64\n",
      " 48  rougher.output.recovery                             19597 non-null  float64\n",
      " 49  rougher.output.tail_ag                              19979 non-null  float64\n",
      " 50  rougher.output.tail_pb                              22618 non-null  float64\n",
      " 51  rougher.output.tail_sol                             19980 non-null  float64\n",
      " 52  rougher.output.tail_au                              19980 non-null  float64\n",
      " 53  rougher.state.floatbank10_a_air                     22646 non-null  float64\n",
      " 54  rougher.state.floatbank10_a_level                   22647 non-null  float64\n",
      " 55  rougher.state.floatbank10_b_air                     22646 non-null  float64\n",
      " 56  rougher.state.floatbank10_b_level                   22647 non-null  float64\n",
      " 57  rougher.state.floatbank10_c_air                     22646 non-null  float64\n",
      " 58  rougher.state.floatbank10_c_level                   22654 non-null  float64\n",
      " 59  rougher.state.floatbank10_d_air                     22641 non-null  float64\n",
      " 60  rougher.state.floatbank10_d_level                   22649 non-null  float64\n",
      " 61  rougher.state.floatbank10_e_air                     22096 non-null  float64\n",
      " 62  rougher.state.floatbank10_e_level                   22649 non-null  float64\n",
      " 63  rougher.state.floatbank10_f_air                     22641 non-null  float64\n",
      " 64  rougher.state.floatbank10_f_level                   22642 non-null  float64\n",
      " 65  secondary_cleaner.output.tail_ag                    22616 non-null  float64\n",
      " 66  secondary_cleaner.output.tail_pb                    22600 non-null  float64\n",
      " 67  secondary_cleaner.output.tail_sol                   20501 non-null  float64\n",
      " 68  secondary_cleaner.output.tail_au                    22618 non-null  float64\n",
      " 69  secondary_cleaner.state.floatbank2_a_air            22333 non-null  float64\n",
      " 70  secondary_cleaner.state.floatbank2_a_level          22591 non-null  float64\n",
      " 71  secondary_cleaner.state.floatbank2_b_air            22538 non-null  float64\n",
      " 72  secondary_cleaner.state.floatbank2_b_level          22588 non-null  float64\n",
      " 73  secondary_cleaner.state.floatbank3_a_air            22585 non-null  float64\n",
      " 74  secondary_cleaner.state.floatbank3_a_level          22587 non-null  float64\n",
      " 75  secondary_cleaner.state.floatbank3_b_air            22592 non-null  float64\n",
      " 76  secondary_cleaner.state.floatbank3_b_level          22590 non-null  float64\n",
      " 77  secondary_cleaner.state.floatbank4_a_air            22571 non-null  float64\n",
      " 78  secondary_cleaner.state.floatbank4_a_level          22587 non-null  float64\n",
      " 79  secondary_cleaner.state.floatbank4_b_air            22608 non-null  float64\n",
      " 80  secondary_cleaner.state.floatbank4_b_level          22607 non-null  float64\n",
      " 81  secondary_cleaner.state.floatbank5_a_air            22615 non-null  float64\n",
      " 82  secondary_cleaner.state.floatbank5_a_level          22615 non-null  float64\n",
      " 83  secondary_cleaner.state.floatbank5_b_air            22615 non-null  float64\n",
      " 84  secondary_cleaner.state.floatbank5_b_level          22616 non-null  float64\n",
      " 85  secondary_cleaner.state.floatbank6_a_air            22597 non-null  float64\n",
      " 86  secondary_cleaner.state.floatbank6_a_level          22615 non-null  float64\n",
      "dtypes: float64(86), object(1)\n",
      "memory usage: 15.1+ MB\n"
     ]
    }
   ],
   "source": [
    "# Visualize full info\n",
    "full.info()"
   ]
  },
  {
   "cell_type": "markdown",
   "metadata": {},
   "source": [
    "#### Train dataset"
   ]
  },
  {
   "cell_type": "code",
   "execution_count": 8,
   "metadata": {},
   "outputs": [
    {
     "data": {
      "text/html": [
       "<div>\n",
       "<style scoped>\n",
       "    .dataframe tbody tr th:only-of-type {\n",
       "        vertical-align: middle;\n",
       "    }\n",
       "\n",
       "    .dataframe tbody tr th {\n",
       "        vertical-align: top;\n",
       "    }\n",
       "\n",
       "    .dataframe thead th {\n",
       "        text-align: right;\n",
       "    }\n",
       "</style>\n",
       "<table border=\"1\" class=\"dataframe\">\n",
       "  <thead>\n",
       "    <tr style=\"text-align: right;\">\n",
       "      <th></th>\n",
       "      <th>date</th>\n",
       "      <th>final.output.concentrate_ag</th>\n",
       "      <th>final.output.concentrate_pb</th>\n",
       "      <th>final.output.concentrate_sol</th>\n",
       "      <th>final.output.concentrate_au</th>\n",
       "      <th>final.output.recovery</th>\n",
       "      <th>final.output.tail_ag</th>\n",
       "      <th>final.output.tail_pb</th>\n",
       "      <th>final.output.tail_sol</th>\n",
       "      <th>final.output.tail_au</th>\n",
       "      <th>...</th>\n",
       "      <th>secondary_cleaner.state.floatbank4_a_air</th>\n",
       "      <th>secondary_cleaner.state.floatbank4_a_level</th>\n",
       "      <th>secondary_cleaner.state.floatbank4_b_air</th>\n",
       "      <th>secondary_cleaner.state.floatbank4_b_level</th>\n",
       "      <th>secondary_cleaner.state.floatbank5_a_air</th>\n",
       "      <th>secondary_cleaner.state.floatbank5_a_level</th>\n",
       "      <th>secondary_cleaner.state.floatbank5_b_air</th>\n",
       "      <th>secondary_cleaner.state.floatbank5_b_level</th>\n",
       "      <th>secondary_cleaner.state.floatbank6_a_air</th>\n",
       "      <th>secondary_cleaner.state.floatbank6_a_level</th>\n",
       "    </tr>\n",
       "  </thead>\n",
       "  <tbody>\n",
       "    <tr>\n",
       "      <th>0</th>\n",
       "      <td>2016-01-15 00:00:00</td>\n",
       "      <td>6.055403</td>\n",
       "      <td>9.889648</td>\n",
       "      <td>5.507324</td>\n",
       "      <td>42.192020</td>\n",
       "      <td>70.541216</td>\n",
       "      <td>10.411962</td>\n",
       "      <td>0.895447</td>\n",
       "      <td>16.904297</td>\n",
       "      <td>2.143149</td>\n",
       "      <td>...</td>\n",
       "      <td>14.016835</td>\n",
       "      <td>-502.488007</td>\n",
       "      <td>12.099931</td>\n",
       "      <td>-504.715942</td>\n",
       "      <td>9.925633</td>\n",
       "      <td>-498.310211</td>\n",
       "      <td>8.079666</td>\n",
       "      <td>-500.470978</td>\n",
       "      <td>14.151341</td>\n",
       "      <td>-605.841980</td>\n",
       "    </tr>\n",
       "    <tr>\n",
       "      <th>1</th>\n",
       "      <td>2016-01-15 01:00:00</td>\n",
       "      <td>6.029369</td>\n",
       "      <td>9.968944</td>\n",
       "      <td>5.257781</td>\n",
       "      <td>42.701629</td>\n",
       "      <td>69.266198</td>\n",
       "      <td>10.462676</td>\n",
       "      <td>0.927452</td>\n",
       "      <td>16.634514</td>\n",
       "      <td>2.224930</td>\n",
       "      <td>...</td>\n",
       "      <td>13.992281</td>\n",
       "      <td>-505.503262</td>\n",
       "      <td>11.950531</td>\n",
       "      <td>-501.331529</td>\n",
       "      <td>10.039245</td>\n",
       "      <td>-500.169983</td>\n",
       "      <td>7.984757</td>\n",
       "      <td>-500.582168</td>\n",
       "      <td>13.998353</td>\n",
       "      <td>-599.787184</td>\n",
       "    </tr>\n",
       "    <tr>\n",
       "      <th>2</th>\n",
       "      <td>2016-01-15 02:00:00</td>\n",
       "      <td>6.055926</td>\n",
       "      <td>10.213995</td>\n",
       "      <td>5.383759</td>\n",
       "      <td>42.657501</td>\n",
       "      <td>68.116445</td>\n",
       "      <td>10.507046</td>\n",
       "      <td>0.953716</td>\n",
       "      <td>16.208849</td>\n",
       "      <td>2.257889</td>\n",
       "      <td>...</td>\n",
       "      <td>14.015015</td>\n",
       "      <td>-502.520901</td>\n",
       "      <td>11.912783</td>\n",
       "      <td>-501.133383</td>\n",
       "      <td>10.070913</td>\n",
       "      <td>-500.129135</td>\n",
       "      <td>8.013877</td>\n",
       "      <td>-500.517572</td>\n",
       "      <td>14.028663</td>\n",
       "      <td>-601.427363</td>\n",
       "    </tr>\n",
       "    <tr>\n",
       "      <th>3</th>\n",
       "      <td>2016-01-15 03:00:00</td>\n",
       "      <td>6.047977</td>\n",
       "      <td>9.977019</td>\n",
       "      <td>4.858634</td>\n",
       "      <td>42.689819</td>\n",
       "      <td>68.347543</td>\n",
       "      <td>10.422762</td>\n",
       "      <td>0.883763</td>\n",
       "      <td>16.532835</td>\n",
       "      <td>2.146849</td>\n",
       "      <td>...</td>\n",
       "      <td>14.036510</td>\n",
       "      <td>-500.857308</td>\n",
       "      <td>11.999550</td>\n",
       "      <td>-501.193686</td>\n",
       "      <td>9.970366</td>\n",
       "      <td>-499.201640</td>\n",
       "      <td>7.977324</td>\n",
       "      <td>-500.255908</td>\n",
       "      <td>14.005551</td>\n",
       "      <td>-599.996129</td>\n",
       "    </tr>\n",
       "    <tr>\n",
       "      <th>4</th>\n",
       "      <td>2016-01-15 04:00:00</td>\n",
       "      <td>6.148599</td>\n",
       "      <td>10.142511</td>\n",
       "      <td>4.939416</td>\n",
       "      <td>42.774141</td>\n",
       "      <td>66.927016</td>\n",
       "      <td>10.360302</td>\n",
       "      <td>0.792826</td>\n",
       "      <td>16.525686</td>\n",
       "      <td>2.055292</td>\n",
       "      <td>...</td>\n",
       "      <td>14.027298</td>\n",
       "      <td>-499.838632</td>\n",
       "      <td>11.953070</td>\n",
       "      <td>-501.053894</td>\n",
       "      <td>9.925709</td>\n",
       "      <td>-501.686727</td>\n",
       "      <td>7.894242</td>\n",
       "      <td>-500.356035</td>\n",
       "      <td>13.996647</td>\n",
       "      <td>-601.496691</td>\n",
       "    </tr>\n",
       "    <tr>\n",
       "      <th>...</th>\n",
       "      <td>...</td>\n",
       "      <td>...</td>\n",
       "      <td>...</td>\n",
       "      <td>...</td>\n",
       "      <td>...</td>\n",
       "      <td>...</td>\n",
       "      <td>...</td>\n",
       "      <td>...</td>\n",
       "      <td>...</td>\n",
       "      <td>...</td>\n",
       "      <td>...</td>\n",
       "      <td>...</td>\n",
       "      <td>...</td>\n",
       "      <td>...</td>\n",
       "      <td>...</td>\n",
       "      <td>...</td>\n",
       "      <td>...</td>\n",
       "      <td>...</td>\n",
       "      <td>...</td>\n",
       "      <td>...</td>\n",
       "      <td>...</td>\n",
       "    </tr>\n",
       "    <tr>\n",
       "      <th>16855</th>\n",
       "      <td>2018-08-18 06:59:59</td>\n",
       "      <td>3.224920</td>\n",
       "      <td>11.356233</td>\n",
       "      <td>6.803482</td>\n",
       "      <td>46.713954</td>\n",
       "      <td>73.755150</td>\n",
       "      <td>8.769645</td>\n",
       "      <td>3.141541</td>\n",
       "      <td>10.403181</td>\n",
       "      <td>1.529220</td>\n",
       "      <td>...</td>\n",
       "      <td>23.031497</td>\n",
       "      <td>-501.167942</td>\n",
       "      <td>20.007571</td>\n",
       "      <td>-499.740028</td>\n",
       "      <td>18.006038</td>\n",
       "      <td>-499.834374</td>\n",
       "      <td>13.001114</td>\n",
       "      <td>-500.155694</td>\n",
       "      <td>20.007840</td>\n",
       "      <td>-501.296428</td>\n",
       "    </tr>\n",
       "    <tr>\n",
       "      <th>16856</th>\n",
       "      <td>2018-08-18 07:59:59</td>\n",
       "      <td>3.195978</td>\n",
       "      <td>11.349355</td>\n",
       "      <td>6.862249</td>\n",
       "      <td>46.866780</td>\n",
       "      <td>69.049291</td>\n",
       "      <td>8.897321</td>\n",
       "      <td>3.130493</td>\n",
       "      <td>10.549470</td>\n",
       "      <td>1.612542</td>\n",
       "      <td>...</td>\n",
       "      <td>22.960095</td>\n",
       "      <td>-501.612783</td>\n",
       "      <td>20.035660</td>\n",
       "      <td>-500.251357</td>\n",
       "      <td>17.998535</td>\n",
       "      <td>-500.395178</td>\n",
       "      <td>12.954048</td>\n",
       "      <td>-499.895163</td>\n",
       "      <td>19.968498</td>\n",
       "      <td>-501.041608</td>\n",
       "    </tr>\n",
       "    <tr>\n",
       "      <th>16857</th>\n",
       "      <td>2018-08-18 08:59:59</td>\n",
       "      <td>3.109998</td>\n",
       "      <td>11.434366</td>\n",
       "      <td>6.886013</td>\n",
       "      <td>46.795691</td>\n",
       "      <td>67.002189</td>\n",
       "      <td>8.529606</td>\n",
       "      <td>2.911418</td>\n",
       "      <td>11.115147</td>\n",
       "      <td>1.596616</td>\n",
       "      <td>...</td>\n",
       "      <td>23.015718</td>\n",
       "      <td>-501.711599</td>\n",
       "      <td>19.951231</td>\n",
       "      <td>-499.857027</td>\n",
       "      <td>18.019543</td>\n",
       "      <td>-500.451156</td>\n",
       "      <td>13.023431</td>\n",
       "      <td>-499.914391</td>\n",
       "      <td>19.990885</td>\n",
       "      <td>-501.518452</td>\n",
       "    </tr>\n",
       "    <tr>\n",
       "      <th>16858</th>\n",
       "      <td>2018-08-18 09:59:59</td>\n",
       "      <td>3.367241</td>\n",
       "      <td>11.625587</td>\n",
       "      <td>6.799433</td>\n",
       "      <td>46.408188</td>\n",
       "      <td>65.523246</td>\n",
       "      <td>8.777171</td>\n",
       "      <td>2.819214</td>\n",
       "      <td>10.463847</td>\n",
       "      <td>1.602879</td>\n",
       "      <td>...</td>\n",
       "      <td>23.024963</td>\n",
       "      <td>-501.153409</td>\n",
       "      <td>20.054122</td>\n",
       "      <td>-500.314711</td>\n",
       "      <td>17.979515</td>\n",
       "      <td>-499.272871</td>\n",
       "      <td>12.992404</td>\n",
       "      <td>-499.976268</td>\n",
       "      <td>20.013986</td>\n",
       "      <td>-500.625471</td>\n",
       "    </tr>\n",
       "    <tr>\n",
       "      <th>16859</th>\n",
       "      <td>2018-08-18 10:59:59</td>\n",
       "      <td>3.598375</td>\n",
       "      <td>11.737832</td>\n",
       "      <td>6.717509</td>\n",
       "      <td>46.299438</td>\n",
       "      <td>70.281454</td>\n",
       "      <td>8.406690</td>\n",
       "      <td>2.517518</td>\n",
       "      <td>10.652193</td>\n",
       "      <td>1.389434</td>\n",
       "      <td>...</td>\n",
       "      <td>23.018622</td>\n",
       "      <td>-500.492702</td>\n",
       "      <td>20.020205</td>\n",
       "      <td>-500.220296</td>\n",
       "      <td>17.963512</td>\n",
       "      <td>-499.939490</td>\n",
       "      <td>12.990306</td>\n",
       "      <td>-500.080993</td>\n",
       "      <td>19.990336</td>\n",
       "      <td>-499.191575</td>\n",
       "    </tr>\n",
       "  </tbody>\n",
       "</table>\n",
       "<p>16860 rows × 87 columns</p>\n",
       "</div>"
      ],
      "text/plain": [
       "                      date  final.output.concentrate_ag  \\\n",
       "0      2016-01-15 00:00:00                     6.055403   \n",
       "1      2016-01-15 01:00:00                     6.029369   \n",
       "2      2016-01-15 02:00:00                     6.055926   \n",
       "3      2016-01-15 03:00:00                     6.047977   \n",
       "4      2016-01-15 04:00:00                     6.148599   \n",
       "...                    ...                          ...   \n",
       "16855  2018-08-18 06:59:59                     3.224920   \n",
       "16856  2018-08-18 07:59:59                     3.195978   \n",
       "16857  2018-08-18 08:59:59                     3.109998   \n",
       "16858  2018-08-18 09:59:59                     3.367241   \n",
       "16859  2018-08-18 10:59:59                     3.598375   \n",
       "\n",
       "       final.output.concentrate_pb  final.output.concentrate_sol  \\\n",
       "0                         9.889648                      5.507324   \n",
       "1                         9.968944                      5.257781   \n",
       "2                        10.213995                      5.383759   \n",
       "3                         9.977019                      4.858634   \n",
       "4                        10.142511                      4.939416   \n",
       "...                            ...                           ...   \n",
       "16855                    11.356233                      6.803482   \n",
       "16856                    11.349355                      6.862249   \n",
       "16857                    11.434366                      6.886013   \n",
       "16858                    11.625587                      6.799433   \n",
       "16859                    11.737832                      6.717509   \n",
       "\n",
       "       final.output.concentrate_au  final.output.recovery  \\\n",
       "0                        42.192020              70.541216   \n",
       "1                        42.701629              69.266198   \n",
       "2                        42.657501              68.116445   \n",
       "3                        42.689819              68.347543   \n",
       "4                        42.774141              66.927016   \n",
       "...                            ...                    ...   \n",
       "16855                    46.713954              73.755150   \n",
       "16856                    46.866780              69.049291   \n",
       "16857                    46.795691              67.002189   \n",
       "16858                    46.408188              65.523246   \n",
       "16859                    46.299438              70.281454   \n",
       "\n",
       "       final.output.tail_ag  final.output.tail_pb  final.output.tail_sol  \\\n",
       "0                 10.411962              0.895447              16.904297   \n",
       "1                 10.462676              0.927452              16.634514   \n",
       "2                 10.507046              0.953716              16.208849   \n",
       "3                 10.422762              0.883763              16.532835   \n",
       "4                 10.360302              0.792826              16.525686   \n",
       "...                     ...                   ...                    ...   \n",
       "16855              8.769645              3.141541              10.403181   \n",
       "16856              8.897321              3.130493              10.549470   \n",
       "16857              8.529606              2.911418              11.115147   \n",
       "16858              8.777171              2.819214              10.463847   \n",
       "16859              8.406690              2.517518              10.652193   \n",
       "\n",
       "       final.output.tail_au  ...  secondary_cleaner.state.floatbank4_a_air  \\\n",
       "0                  2.143149  ...                                 14.016835   \n",
       "1                  2.224930  ...                                 13.992281   \n",
       "2                  2.257889  ...                                 14.015015   \n",
       "3                  2.146849  ...                                 14.036510   \n",
       "4                  2.055292  ...                                 14.027298   \n",
       "...                     ...  ...                                       ...   \n",
       "16855              1.529220  ...                                 23.031497   \n",
       "16856              1.612542  ...                                 22.960095   \n",
       "16857              1.596616  ...                                 23.015718   \n",
       "16858              1.602879  ...                                 23.024963   \n",
       "16859              1.389434  ...                                 23.018622   \n",
       "\n",
       "       secondary_cleaner.state.floatbank4_a_level  \\\n",
       "0                                     -502.488007   \n",
       "1                                     -505.503262   \n",
       "2                                     -502.520901   \n",
       "3                                     -500.857308   \n",
       "4                                     -499.838632   \n",
       "...                                           ...   \n",
       "16855                                 -501.167942   \n",
       "16856                                 -501.612783   \n",
       "16857                                 -501.711599   \n",
       "16858                                 -501.153409   \n",
       "16859                                 -500.492702   \n",
       "\n",
       "       secondary_cleaner.state.floatbank4_b_air  \\\n",
       "0                                     12.099931   \n",
       "1                                     11.950531   \n",
       "2                                     11.912783   \n",
       "3                                     11.999550   \n",
       "4                                     11.953070   \n",
       "...                                         ...   \n",
       "16855                                 20.007571   \n",
       "16856                                 20.035660   \n",
       "16857                                 19.951231   \n",
       "16858                                 20.054122   \n",
       "16859                                 20.020205   \n",
       "\n",
       "       secondary_cleaner.state.floatbank4_b_level  \\\n",
       "0                                     -504.715942   \n",
       "1                                     -501.331529   \n",
       "2                                     -501.133383   \n",
       "3                                     -501.193686   \n",
       "4                                     -501.053894   \n",
       "...                                           ...   \n",
       "16855                                 -499.740028   \n",
       "16856                                 -500.251357   \n",
       "16857                                 -499.857027   \n",
       "16858                                 -500.314711   \n",
       "16859                                 -500.220296   \n",
       "\n",
       "       secondary_cleaner.state.floatbank5_a_air  \\\n",
       "0                                      9.925633   \n",
       "1                                     10.039245   \n",
       "2                                     10.070913   \n",
       "3                                      9.970366   \n",
       "4                                      9.925709   \n",
       "...                                         ...   \n",
       "16855                                 18.006038   \n",
       "16856                                 17.998535   \n",
       "16857                                 18.019543   \n",
       "16858                                 17.979515   \n",
       "16859                                 17.963512   \n",
       "\n",
       "       secondary_cleaner.state.floatbank5_a_level  \\\n",
       "0                                     -498.310211   \n",
       "1                                     -500.169983   \n",
       "2                                     -500.129135   \n",
       "3                                     -499.201640   \n",
       "4                                     -501.686727   \n",
       "...                                           ...   \n",
       "16855                                 -499.834374   \n",
       "16856                                 -500.395178   \n",
       "16857                                 -500.451156   \n",
       "16858                                 -499.272871   \n",
       "16859                                 -499.939490   \n",
       "\n",
       "       secondary_cleaner.state.floatbank5_b_air  \\\n",
       "0                                      8.079666   \n",
       "1                                      7.984757   \n",
       "2                                      8.013877   \n",
       "3                                      7.977324   \n",
       "4                                      7.894242   \n",
       "...                                         ...   \n",
       "16855                                 13.001114   \n",
       "16856                                 12.954048   \n",
       "16857                                 13.023431   \n",
       "16858                                 12.992404   \n",
       "16859                                 12.990306   \n",
       "\n",
       "       secondary_cleaner.state.floatbank5_b_level  \\\n",
       "0                                     -500.470978   \n",
       "1                                     -500.582168   \n",
       "2                                     -500.517572   \n",
       "3                                     -500.255908   \n",
       "4                                     -500.356035   \n",
       "...                                           ...   \n",
       "16855                                 -500.155694   \n",
       "16856                                 -499.895163   \n",
       "16857                                 -499.914391   \n",
       "16858                                 -499.976268   \n",
       "16859                                 -500.080993   \n",
       "\n",
       "       secondary_cleaner.state.floatbank6_a_air  \\\n",
       "0                                     14.151341   \n",
       "1                                     13.998353   \n",
       "2                                     14.028663   \n",
       "3                                     14.005551   \n",
       "4                                     13.996647   \n",
       "...                                         ...   \n",
       "16855                                 20.007840   \n",
       "16856                                 19.968498   \n",
       "16857                                 19.990885   \n",
       "16858                                 20.013986   \n",
       "16859                                 19.990336   \n",
       "\n",
       "       secondary_cleaner.state.floatbank6_a_level  \n",
       "0                                     -605.841980  \n",
       "1                                     -599.787184  \n",
       "2                                     -601.427363  \n",
       "3                                     -599.996129  \n",
       "4                                     -601.496691  \n",
       "...                                           ...  \n",
       "16855                                 -501.296428  \n",
       "16856                                 -501.041608  \n",
       "16857                                 -501.518452  \n",
       "16858                                 -500.625471  \n",
       "16859                                 -499.191575  \n",
       "\n",
       "[16860 rows x 87 columns]"
      ]
     },
     "execution_count": 8,
     "metadata": {},
     "output_type": "execute_result"
    }
   ],
   "source": [
    "# Visualize train dataset\n",
    "train"
   ]
  },
  {
   "cell_type": "code",
   "execution_count": 9,
   "metadata": {},
   "outputs": [
    {
     "name": "stdout",
     "output_type": "stream",
     "text": [
      "<class 'pandas.core.frame.DataFrame'>\n",
      "RangeIndex: 16860 entries, 0 to 16859\n",
      "Data columns (total 87 columns):\n",
      " #   Column                                              Non-Null Count  Dtype  \n",
      "---  ------                                              --------------  -----  \n",
      " 0   date                                                16860 non-null  object \n",
      " 1   final.output.concentrate_ag                         16788 non-null  float64\n",
      " 2   final.output.concentrate_pb                         16788 non-null  float64\n",
      " 3   final.output.concentrate_sol                        16490 non-null  float64\n",
      " 4   final.output.concentrate_au                         16789 non-null  float64\n",
      " 5   final.output.recovery                               15339 non-null  float64\n",
      " 6   final.output.tail_ag                                16794 non-null  float64\n",
      " 7   final.output.tail_pb                                16677 non-null  float64\n",
      " 8   final.output.tail_sol                               16715 non-null  float64\n",
      " 9   final.output.tail_au                                16794 non-null  float64\n",
      " 10  primary_cleaner.input.sulfate                       15553 non-null  float64\n",
      " 11  primary_cleaner.input.depressant                    15598 non-null  float64\n",
      " 12  primary_cleaner.input.feed_size                     16860 non-null  float64\n",
      " 13  primary_cleaner.input.xanthate                      15875 non-null  float64\n",
      " 14  primary_cleaner.output.concentrate_ag               16778 non-null  float64\n",
      " 15  primary_cleaner.output.concentrate_pb               16502 non-null  float64\n",
      " 16  primary_cleaner.output.concentrate_sol              16224 non-null  float64\n",
      " 17  primary_cleaner.output.concentrate_au               16778 non-null  float64\n",
      " 18  primary_cleaner.output.tail_ag                      16777 non-null  float64\n",
      " 19  primary_cleaner.output.tail_pb                      16761 non-null  float64\n",
      " 20  primary_cleaner.output.tail_sol                     16579 non-null  float64\n",
      " 21  primary_cleaner.output.tail_au                      16777 non-null  float64\n",
      " 22  primary_cleaner.state.floatbank8_a_air              16820 non-null  float64\n",
      " 23  primary_cleaner.state.floatbank8_a_level            16827 non-null  float64\n",
      " 24  primary_cleaner.state.floatbank8_b_air              16820 non-null  float64\n",
      " 25  primary_cleaner.state.floatbank8_b_level            16833 non-null  float64\n",
      " 26  primary_cleaner.state.floatbank8_c_air              16822 non-null  float64\n",
      " 27  primary_cleaner.state.floatbank8_c_level            16833 non-null  float64\n",
      " 28  primary_cleaner.state.floatbank8_d_air              16821 non-null  float64\n",
      " 29  primary_cleaner.state.floatbank8_d_level            16833 non-null  float64\n",
      " 30  rougher.calculation.sulfate_to_au_concentrate       16833 non-null  float64\n",
      " 31  rougher.calculation.floatbank10_sulfate_to_au_feed  16833 non-null  float64\n",
      " 32  rougher.calculation.floatbank11_sulfate_to_au_feed  16833 non-null  float64\n",
      " 33  rougher.calculation.au_pb_ratio                     15618 non-null  float64\n",
      " 34  rougher.input.feed_ag                               16778 non-null  float64\n",
      " 35  rougher.input.feed_pb                               16632 non-null  float64\n",
      " 36  rougher.input.feed_rate                             16347 non-null  float64\n",
      " 37  rougher.input.feed_size                             16443 non-null  float64\n",
      " 38  rougher.input.feed_sol                              16568 non-null  float64\n",
      " 39  rougher.input.feed_au                               16777 non-null  float64\n",
      " 40  rougher.input.floatbank10_sulfate                   15816 non-null  float64\n",
      " 41  rougher.input.floatbank10_xanthate                  16514 non-null  float64\n",
      " 42  rougher.input.floatbank11_sulfate                   16237 non-null  float64\n",
      " 43  rougher.input.floatbank11_xanthate                  14956 non-null  float64\n",
      " 44  rougher.output.concentrate_ag                       16778 non-null  float64\n",
      " 45  rougher.output.concentrate_pb                       16778 non-null  float64\n",
      " 46  rougher.output.concentrate_sol                      16698 non-null  float64\n",
      " 47  rougher.output.concentrate_au                       16778 non-null  float64\n",
      " 48  rougher.output.recovery                             14287 non-null  float64\n",
      " 49  rougher.output.tail_ag                              14610 non-null  float64\n",
      " 50  rougher.output.tail_pb                              16778 non-null  float64\n",
      " 51  rougher.output.tail_sol                             14611 non-null  float64\n",
      " 52  rougher.output.tail_au                              14611 non-null  float64\n",
      " 53  rougher.state.floatbank10_a_air                     16807 non-null  float64\n",
      " 54  rougher.state.floatbank10_a_level                   16807 non-null  float64\n",
      " 55  rougher.state.floatbank10_b_air                     16807 non-null  float64\n",
      " 56  rougher.state.floatbank10_b_level                   16807 non-null  float64\n",
      " 57  rougher.state.floatbank10_c_air                     16807 non-null  float64\n",
      " 58  rougher.state.floatbank10_c_level                   16814 non-null  float64\n",
      " 59  rougher.state.floatbank10_d_air                     16802 non-null  float64\n",
      " 60  rougher.state.floatbank10_d_level                   16809 non-null  float64\n",
      " 61  rougher.state.floatbank10_e_air                     16257 non-null  float64\n",
      " 62  rougher.state.floatbank10_e_level                   16809 non-null  float64\n",
      " 63  rougher.state.floatbank10_f_air                     16802 non-null  float64\n",
      " 64  rougher.state.floatbank10_f_level                   16802 non-null  float64\n",
      " 65  secondary_cleaner.output.tail_ag                    16776 non-null  float64\n",
      " 66  secondary_cleaner.output.tail_pb                    16764 non-null  float64\n",
      " 67  secondary_cleaner.output.tail_sol                   14874 non-null  float64\n",
      " 68  secondary_cleaner.output.tail_au                    16778 non-null  float64\n",
      " 69  secondary_cleaner.state.floatbank2_a_air            16497 non-null  float64\n",
      " 70  secondary_cleaner.state.floatbank2_a_level          16751 non-null  float64\n",
      " 71  secondary_cleaner.state.floatbank2_b_air            16705 non-null  float64\n",
      " 72  secondary_cleaner.state.floatbank2_b_level          16748 non-null  float64\n",
      " 73  secondary_cleaner.state.floatbank3_a_air            16763 non-null  float64\n",
      " 74  secondary_cleaner.state.floatbank3_a_level          16747 non-null  float64\n",
      " 75  secondary_cleaner.state.floatbank3_b_air            16752 non-null  float64\n",
      " 76  secondary_cleaner.state.floatbank3_b_level          16750 non-null  float64\n",
      " 77  secondary_cleaner.state.floatbank4_a_air            16731 non-null  float64\n",
      " 78  secondary_cleaner.state.floatbank4_a_level          16747 non-null  float64\n",
      " 79  secondary_cleaner.state.floatbank4_b_air            16768 non-null  float64\n",
      " 80  secondary_cleaner.state.floatbank4_b_level          16767 non-null  float64\n",
      " 81  secondary_cleaner.state.floatbank5_a_air            16775 non-null  float64\n",
      " 82  secondary_cleaner.state.floatbank5_a_level          16775 non-null  float64\n",
      " 83  secondary_cleaner.state.floatbank5_b_air            16775 non-null  float64\n",
      " 84  secondary_cleaner.state.floatbank5_b_level          16776 non-null  float64\n",
      " 85  secondary_cleaner.state.floatbank6_a_air            16757 non-null  float64\n",
      " 86  secondary_cleaner.state.floatbank6_a_level          16775 non-null  float64\n",
      "dtypes: float64(86), object(1)\n",
      "memory usage: 11.2+ MB\n"
     ]
    }
   ],
   "source": [
    "# Visualize train info\n",
    "train.info()"
   ]
  },
  {
   "cell_type": "markdown",
   "metadata": {},
   "source": [
    "#### Test dataset"
   ]
  },
  {
   "cell_type": "code",
   "execution_count": 10,
   "metadata": {},
   "outputs": [
    {
     "data": {
      "text/html": [
       "<div>\n",
       "<style scoped>\n",
       "    .dataframe tbody tr th:only-of-type {\n",
       "        vertical-align: middle;\n",
       "    }\n",
       "\n",
       "    .dataframe tbody tr th {\n",
       "        vertical-align: top;\n",
       "    }\n",
       "\n",
       "    .dataframe thead th {\n",
       "        text-align: right;\n",
       "    }\n",
       "</style>\n",
       "<table border=\"1\" class=\"dataframe\">\n",
       "  <thead>\n",
       "    <tr style=\"text-align: right;\">\n",
       "      <th></th>\n",
       "      <th>date</th>\n",
       "      <th>primary_cleaner.input.sulfate</th>\n",
       "      <th>primary_cleaner.input.depressant</th>\n",
       "      <th>primary_cleaner.input.feed_size</th>\n",
       "      <th>primary_cleaner.input.xanthate</th>\n",
       "      <th>primary_cleaner.state.floatbank8_a_air</th>\n",
       "      <th>primary_cleaner.state.floatbank8_a_level</th>\n",
       "      <th>primary_cleaner.state.floatbank8_b_air</th>\n",
       "      <th>primary_cleaner.state.floatbank8_b_level</th>\n",
       "      <th>primary_cleaner.state.floatbank8_c_air</th>\n",
       "      <th>...</th>\n",
       "      <th>secondary_cleaner.state.floatbank4_a_air</th>\n",
       "      <th>secondary_cleaner.state.floatbank4_a_level</th>\n",
       "      <th>secondary_cleaner.state.floatbank4_b_air</th>\n",
       "      <th>secondary_cleaner.state.floatbank4_b_level</th>\n",
       "      <th>secondary_cleaner.state.floatbank5_a_air</th>\n",
       "      <th>secondary_cleaner.state.floatbank5_a_level</th>\n",
       "      <th>secondary_cleaner.state.floatbank5_b_air</th>\n",
       "      <th>secondary_cleaner.state.floatbank5_b_level</th>\n",
       "      <th>secondary_cleaner.state.floatbank6_a_air</th>\n",
       "      <th>secondary_cleaner.state.floatbank6_a_level</th>\n",
       "    </tr>\n",
       "  </thead>\n",
       "  <tbody>\n",
       "    <tr>\n",
       "      <th>0</th>\n",
       "      <td>2016-09-01 00:59:59</td>\n",
       "      <td>210.800909</td>\n",
       "      <td>14.993118</td>\n",
       "      <td>8.080000</td>\n",
       "      <td>1.005021</td>\n",
       "      <td>1398.981301</td>\n",
       "      <td>-500.225577</td>\n",
       "      <td>1399.144926</td>\n",
       "      <td>-499.919735</td>\n",
       "      <td>1400.102998</td>\n",
       "      <td>...</td>\n",
       "      <td>12.023554</td>\n",
       "      <td>-497.795834</td>\n",
       "      <td>8.016656</td>\n",
       "      <td>-501.289139</td>\n",
       "      <td>7.946562</td>\n",
       "      <td>-432.317850</td>\n",
       "      <td>4.872511</td>\n",
       "      <td>-500.037437</td>\n",
       "      <td>26.705889</td>\n",
       "      <td>-499.709414</td>\n",
       "    </tr>\n",
       "    <tr>\n",
       "      <th>1</th>\n",
       "      <td>2016-09-01 01:59:59</td>\n",
       "      <td>215.392455</td>\n",
       "      <td>14.987471</td>\n",
       "      <td>8.080000</td>\n",
       "      <td>0.990469</td>\n",
       "      <td>1398.777912</td>\n",
       "      <td>-500.057435</td>\n",
       "      <td>1398.055362</td>\n",
       "      <td>-499.778182</td>\n",
       "      <td>1396.151033</td>\n",
       "      <td>...</td>\n",
       "      <td>12.058140</td>\n",
       "      <td>-498.695773</td>\n",
       "      <td>8.130979</td>\n",
       "      <td>-499.634209</td>\n",
       "      <td>7.958270</td>\n",
       "      <td>-525.839648</td>\n",
       "      <td>4.878850</td>\n",
       "      <td>-500.162375</td>\n",
       "      <td>25.019940</td>\n",
       "      <td>-499.819438</td>\n",
       "    </tr>\n",
       "    <tr>\n",
       "      <th>2</th>\n",
       "      <td>2016-09-01 02:59:59</td>\n",
       "      <td>215.259946</td>\n",
       "      <td>12.884934</td>\n",
       "      <td>7.786667</td>\n",
       "      <td>0.996043</td>\n",
       "      <td>1398.493666</td>\n",
       "      <td>-500.868360</td>\n",
       "      <td>1398.860436</td>\n",
       "      <td>-499.764529</td>\n",
       "      <td>1398.075709</td>\n",
       "      <td>...</td>\n",
       "      <td>11.962366</td>\n",
       "      <td>-498.767484</td>\n",
       "      <td>8.096893</td>\n",
       "      <td>-500.827423</td>\n",
       "      <td>8.071056</td>\n",
       "      <td>-500.801673</td>\n",
       "      <td>4.905125</td>\n",
       "      <td>-499.828510</td>\n",
       "      <td>24.994862</td>\n",
       "      <td>-500.622559</td>\n",
       "    </tr>\n",
       "    <tr>\n",
       "      <th>3</th>\n",
       "      <td>2016-09-01 03:59:59</td>\n",
       "      <td>215.336236</td>\n",
       "      <td>12.006805</td>\n",
       "      <td>7.640000</td>\n",
       "      <td>0.863514</td>\n",
       "      <td>1399.618111</td>\n",
       "      <td>-498.863574</td>\n",
       "      <td>1397.440120</td>\n",
       "      <td>-499.211024</td>\n",
       "      <td>1400.129303</td>\n",
       "      <td>...</td>\n",
       "      <td>12.033091</td>\n",
       "      <td>-498.350935</td>\n",
       "      <td>8.074946</td>\n",
       "      <td>-499.474407</td>\n",
       "      <td>7.897085</td>\n",
       "      <td>-500.868509</td>\n",
       "      <td>4.931400</td>\n",
       "      <td>-499.963623</td>\n",
       "      <td>24.948919</td>\n",
       "      <td>-498.709987</td>\n",
       "    </tr>\n",
       "    <tr>\n",
       "      <th>4</th>\n",
       "      <td>2016-09-01 04:59:59</td>\n",
       "      <td>199.099327</td>\n",
       "      <td>10.682530</td>\n",
       "      <td>7.530000</td>\n",
       "      <td>0.805575</td>\n",
       "      <td>1401.268123</td>\n",
       "      <td>-500.808305</td>\n",
       "      <td>1398.128818</td>\n",
       "      <td>-499.504543</td>\n",
       "      <td>1402.172226</td>\n",
       "      <td>...</td>\n",
       "      <td>12.025367</td>\n",
       "      <td>-500.786497</td>\n",
       "      <td>8.054678</td>\n",
       "      <td>-500.397500</td>\n",
       "      <td>8.107890</td>\n",
       "      <td>-509.526725</td>\n",
       "      <td>4.957674</td>\n",
       "      <td>-500.360026</td>\n",
       "      <td>25.003331</td>\n",
       "      <td>-500.856333</td>\n",
       "    </tr>\n",
       "    <tr>\n",
       "      <th>...</th>\n",
       "      <td>...</td>\n",
       "      <td>...</td>\n",
       "      <td>...</td>\n",
       "      <td>...</td>\n",
       "      <td>...</td>\n",
       "      <td>...</td>\n",
       "      <td>...</td>\n",
       "      <td>...</td>\n",
       "      <td>...</td>\n",
       "      <td>...</td>\n",
       "      <td>...</td>\n",
       "      <td>...</td>\n",
       "      <td>...</td>\n",
       "      <td>...</td>\n",
       "      <td>...</td>\n",
       "      <td>...</td>\n",
       "      <td>...</td>\n",
       "      <td>...</td>\n",
       "      <td>...</td>\n",
       "      <td>...</td>\n",
       "      <td>...</td>\n",
       "    </tr>\n",
       "    <tr>\n",
       "      <th>5851</th>\n",
       "      <td>2017-12-31 19:59:59</td>\n",
       "      <td>173.957757</td>\n",
       "      <td>15.963399</td>\n",
       "      <td>8.070000</td>\n",
       "      <td>0.896701</td>\n",
       "      <td>1401.930554</td>\n",
       "      <td>-499.728848</td>\n",
       "      <td>1401.441445</td>\n",
       "      <td>-499.193423</td>\n",
       "      <td>1399.810313</td>\n",
       "      <td>...</td>\n",
       "      <td>13.995957</td>\n",
       "      <td>-500.157454</td>\n",
       "      <td>12.069155</td>\n",
       "      <td>-499.673279</td>\n",
       "      <td>7.977259</td>\n",
       "      <td>-499.516126</td>\n",
       "      <td>5.933319</td>\n",
       "      <td>-499.965973</td>\n",
       "      <td>8.987171</td>\n",
       "      <td>-499.755909</td>\n",
       "    </tr>\n",
       "    <tr>\n",
       "      <th>5852</th>\n",
       "      <td>2017-12-31 20:59:59</td>\n",
       "      <td>172.910270</td>\n",
       "      <td>16.002605</td>\n",
       "      <td>8.070000</td>\n",
       "      <td>0.896519</td>\n",
       "      <td>1447.075722</td>\n",
       "      <td>-494.716823</td>\n",
       "      <td>1448.851892</td>\n",
       "      <td>-465.963026</td>\n",
       "      <td>1443.890424</td>\n",
       "      <td>...</td>\n",
       "      <td>16.749781</td>\n",
       "      <td>-496.031539</td>\n",
       "      <td>13.365371</td>\n",
       "      <td>-499.122723</td>\n",
       "      <td>9.288553</td>\n",
       "      <td>-496.892967</td>\n",
       "      <td>7.372897</td>\n",
       "      <td>-499.942956</td>\n",
       "      <td>8.986832</td>\n",
       "      <td>-499.903761</td>\n",
       "    </tr>\n",
       "    <tr>\n",
       "      <th>5853</th>\n",
       "      <td>2017-12-31 21:59:59</td>\n",
       "      <td>171.135718</td>\n",
       "      <td>15.993669</td>\n",
       "      <td>8.070000</td>\n",
       "      <td>1.165996</td>\n",
       "      <td>1498.836182</td>\n",
       "      <td>-501.770403</td>\n",
       "      <td>1499.572353</td>\n",
       "      <td>-495.516347</td>\n",
       "      <td>1502.749213</td>\n",
       "      <td>...</td>\n",
       "      <td>19.994130</td>\n",
       "      <td>-499.791312</td>\n",
       "      <td>15.101425</td>\n",
       "      <td>-499.936252</td>\n",
       "      <td>10.989181</td>\n",
       "      <td>-498.347898</td>\n",
       "      <td>9.020944</td>\n",
       "      <td>-500.040448</td>\n",
       "      <td>8.982038</td>\n",
       "      <td>-497.789882</td>\n",
       "    </tr>\n",
       "    <tr>\n",
       "      <th>5854</th>\n",
       "      <td>2017-12-31 22:59:59</td>\n",
       "      <td>179.697158</td>\n",
       "      <td>15.438979</td>\n",
       "      <td>8.070000</td>\n",
       "      <td>1.501068</td>\n",
       "      <td>1498.466243</td>\n",
       "      <td>-500.483984</td>\n",
       "      <td>1497.986986</td>\n",
       "      <td>-519.200340</td>\n",
       "      <td>1496.569047</td>\n",
       "      <td>...</td>\n",
       "      <td>19.958760</td>\n",
       "      <td>-499.958750</td>\n",
       "      <td>15.026853</td>\n",
       "      <td>-499.723143</td>\n",
       "      <td>11.011607</td>\n",
       "      <td>-499.985046</td>\n",
       "      <td>9.009783</td>\n",
       "      <td>-499.937902</td>\n",
       "      <td>9.012660</td>\n",
       "      <td>-500.154284</td>\n",
       "    </tr>\n",
       "    <tr>\n",
       "      <th>5855</th>\n",
       "      <td>2017-12-31 23:59:59</td>\n",
       "      <td>181.556856</td>\n",
       "      <td>14.995850</td>\n",
       "      <td>8.070000</td>\n",
       "      <td>1.623454</td>\n",
       "      <td>1498.096303</td>\n",
       "      <td>-499.796922</td>\n",
       "      <td>1501.743791</td>\n",
       "      <td>-505.146931</td>\n",
       "      <td>1499.535978</td>\n",
       "      <td>...</td>\n",
       "      <td>20.034715</td>\n",
       "      <td>-500.728588</td>\n",
       "      <td>14.914199</td>\n",
       "      <td>-499.948518</td>\n",
       "      <td>10.986607</td>\n",
       "      <td>-500.658027</td>\n",
       "      <td>8.989497</td>\n",
       "      <td>-500.337588</td>\n",
       "      <td>8.988632</td>\n",
       "      <td>-500.764937</td>\n",
       "    </tr>\n",
       "  </tbody>\n",
       "</table>\n",
       "<p>5856 rows × 53 columns</p>\n",
       "</div>"
      ],
      "text/plain": [
       "                     date  primary_cleaner.input.sulfate  \\\n",
       "0     2016-09-01 00:59:59                     210.800909   \n",
       "1     2016-09-01 01:59:59                     215.392455   \n",
       "2     2016-09-01 02:59:59                     215.259946   \n",
       "3     2016-09-01 03:59:59                     215.336236   \n",
       "4     2016-09-01 04:59:59                     199.099327   \n",
       "...                   ...                            ...   \n",
       "5851  2017-12-31 19:59:59                     173.957757   \n",
       "5852  2017-12-31 20:59:59                     172.910270   \n",
       "5853  2017-12-31 21:59:59                     171.135718   \n",
       "5854  2017-12-31 22:59:59                     179.697158   \n",
       "5855  2017-12-31 23:59:59                     181.556856   \n",
       "\n",
       "      primary_cleaner.input.depressant  primary_cleaner.input.feed_size  \\\n",
       "0                            14.993118                         8.080000   \n",
       "1                            14.987471                         8.080000   \n",
       "2                            12.884934                         7.786667   \n",
       "3                            12.006805                         7.640000   \n",
       "4                            10.682530                         7.530000   \n",
       "...                                ...                              ...   \n",
       "5851                         15.963399                         8.070000   \n",
       "5852                         16.002605                         8.070000   \n",
       "5853                         15.993669                         8.070000   \n",
       "5854                         15.438979                         8.070000   \n",
       "5855                         14.995850                         8.070000   \n",
       "\n",
       "      primary_cleaner.input.xanthate  primary_cleaner.state.floatbank8_a_air  \\\n",
       "0                           1.005021                             1398.981301   \n",
       "1                           0.990469                             1398.777912   \n",
       "2                           0.996043                             1398.493666   \n",
       "3                           0.863514                             1399.618111   \n",
       "4                           0.805575                             1401.268123   \n",
       "...                              ...                                     ...   \n",
       "5851                        0.896701                             1401.930554   \n",
       "5852                        0.896519                             1447.075722   \n",
       "5853                        1.165996                             1498.836182   \n",
       "5854                        1.501068                             1498.466243   \n",
       "5855                        1.623454                             1498.096303   \n",
       "\n",
       "      primary_cleaner.state.floatbank8_a_level  \\\n",
       "0                                  -500.225577   \n",
       "1                                  -500.057435   \n",
       "2                                  -500.868360   \n",
       "3                                  -498.863574   \n",
       "4                                  -500.808305   \n",
       "...                                        ...   \n",
       "5851                               -499.728848   \n",
       "5852                               -494.716823   \n",
       "5853                               -501.770403   \n",
       "5854                               -500.483984   \n",
       "5855                               -499.796922   \n",
       "\n",
       "      primary_cleaner.state.floatbank8_b_air  \\\n",
       "0                                1399.144926   \n",
       "1                                1398.055362   \n",
       "2                                1398.860436   \n",
       "3                                1397.440120   \n",
       "4                                1398.128818   \n",
       "...                                      ...   \n",
       "5851                             1401.441445   \n",
       "5852                             1448.851892   \n",
       "5853                             1499.572353   \n",
       "5854                             1497.986986   \n",
       "5855                             1501.743791   \n",
       "\n",
       "      primary_cleaner.state.floatbank8_b_level  \\\n",
       "0                                  -499.919735   \n",
       "1                                  -499.778182   \n",
       "2                                  -499.764529   \n",
       "3                                  -499.211024   \n",
       "4                                  -499.504543   \n",
       "...                                        ...   \n",
       "5851                               -499.193423   \n",
       "5852                               -465.963026   \n",
       "5853                               -495.516347   \n",
       "5854                               -519.200340   \n",
       "5855                               -505.146931   \n",
       "\n",
       "      primary_cleaner.state.floatbank8_c_air  ...  \\\n",
       "0                                1400.102998  ...   \n",
       "1                                1396.151033  ...   \n",
       "2                                1398.075709  ...   \n",
       "3                                1400.129303  ...   \n",
       "4                                1402.172226  ...   \n",
       "...                                      ...  ...   \n",
       "5851                             1399.810313  ...   \n",
       "5852                             1443.890424  ...   \n",
       "5853                             1502.749213  ...   \n",
       "5854                             1496.569047  ...   \n",
       "5855                             1499.535978  ...   \n",
       "\n",
       "      secondary_cleaner.state.floatbank4_a_air  \\\n",
       "0                                    12.023554   \n",
       "1                                    12.058140   \n",
       "2                                    11.962366   \n",
       "3                                    12.033091   \n",
       "4                                    12.025367   \n",
       "...                                        ...   \n",
       "5851                                 13.995957   \n",
       "5852                                 16.749781   \n",
       "5853                                 19.994130   \n",
       "5854                                 19.958760   \n",
       "5855                                 20.034715   \n",
       "\n",
       "      secondary_cleaner.state.floatbank4_a_level  \\\n",
       "0                                    -497.795834   \n",
       "1                                    -498.695773   \n",
       "2                                    -498.767484   \n",
       "3                                    -498.350935   \n",
       "4                                    -500.786497   \n",
       "...                                          ...   \n",
       "5851                                 -500.157454   \n",
       "5852                                 -496.031539   \n",
       "5853                                 -499.791312   \n",
       "5854                                 -499.958750   \n",
       "5855                                 -500.728588   \n",
       "\n",
       "      secondary_cleaner.state.floatbank4_b_air  \\\n",
       "0                                     8.016656   \n",
       "1                                     8.130979   \n",
       "2                                     8.096893   \n",
       "3                                     8.074946   \n",
       "4                                     8.054678   \n",
       "...                                        ...   \n",
       "5851                                 12.069155   \n",
       "5852                                 13.365371   \n",
       "5853                                 15.101425   \n",
       "5854                                 15.026853   \n",
       "5855                                 14.914199   \n",
       "\n",
       "      secondary_cleaner.state.floatbank4_b_level  \\\n",
       "0                                    -501.289139   \n",
       "1                                    -499.634209   \n",
       "2                                    -500.827423   \n",
       "3                                    -499.474407   \n",
       "4                                    -500.397500   \n",
       "...                                          ...   \n",
       "5851                                 -499.673279   \n",
       "5852                                 -499.122723   \n",
       "5853                                 -499.936252   \n",
       "5854                                 -499.723143   \n",
       "5855                                 -499.948518   \n",
       "\n",
       "      secondary_cleaner.state.floatbank5_a_air  \\\n",
       "0                                     7.946562   \n",
       "1                                     7.958270   \n",
       "2                                     8.071056   \n",
       "3                                     7.897085   \n",
       "4                                     8.107890   \n",
       "...                                        ...   \n",
       "5851                                  7.977259   \n",
       "5852                                  9.288553   \n",
       "5853                                 10.989181   \n",
       "5854                                 11.011607   \n",
       "5855                                 10.986607   \n",
       "\n",
       "      secondary_cleaner.state.floatbank5_a_level  \\\n",
       "0                                    -432.317850   \n",
       "1                                    -525.839648   \n",
       "2                                    -500.801673   \n",
       "3                                    -500.868509   \n",
       "4                                    -509.526725   \n",
       "...                                          ...   \n",
       "5851                                 -499.516126   \n",
       "5852                                 -496.892967   \n",
       "5853                                 -498.347898   \n",
       "5854                                 -499.985046   \n",
       "5855                                 -500.658027   \n",
       "\n",
       "      secondary_cleaner.state.floatbank5_b_air  \\\n",
       "0                                     4.872511   \n",
       "1                                     4.878850   \n",
       "2                                     4.905125   \n",
       "3                                     4.931400   \n",
       "4                                     4.957674   \n",
       "...                                        ...   \n",
       "5851                                  5.933319   \n",
       "5852                                  7.372897   \n",
       "5853                                  9.020944   \n",
       "5854                                  9.009783   \n",
       "5855                                  8.989497   \n",
       "\n",
       "      secondary_cleaner.state.floatbank5_b_level  \\\n",
       "0                                    -500.037437   \n",
       "1                                    -500.162375   \n",
       "2                                    -499.828510   \n",
       "3                                    -499.963623   \n",
       "4                                    -500.360026   \n",
       "...                                          ...   \n",
       "5851                                 -499.965973   \n",
       "5852                                 -499.942956   \n",
       "5853                                 -500.040448   \n",
       "5854                                 -499.937902   \n",
       "5855                                 -500.337588   \n",
       "\n",
       "      secondary_cleaner.state.floatbank6_a_air  \\\n",
       "0                                    26.705889   \n",
       "1                                    25.019940   \n",
       "2                                    24.994862   \n",
       "3                                    24.948919   \n",
       "4                                    25.003331   \n",
       "...                                        ...   \n",
       "5851                                  8.987171   \n",
       "5852                                  8.986832   \n",
       "5853                                  8.982038   \n",
       "5854                                  9.012660   \n",
       "5855                                  8.988632   \n",
       "\n",
       "      secondary_cleaner.state.floatbank6_a_level  \n",
       "0                                    -499.709414  \n",
       "1                                    -499.819438  \n",
       "2                                    -500.622559  \n",
       "3                                    -498.709987  \n",
       "4                                    -500.856333  \n",
       "...                                          ...  \n",
       "5851                                 -499.755909  \n",
       "5852                                 -499.903761  \n",
       "5853                                 -497.789882  \n",
       "5854                                 -500.154284  \n",
       "5855                                 -500.764937  \n",
       "\n",
       "[5856 rows x 53 columns]"
      ]
     },
     "execution_count": 10,
     "metadata": {},
     "output_type": "execute_result"
    }
   ],
   "source": [
    "# Visualize test dataset\n",
    "test"
   ]
  },
  {
   "cell_type": "code",
   "execution_count": 11,
   "metadata": {},
   "outputs": [
    {
     "name": "stdout",
     "output_type": "stream",
     "text": [
      "<class 'pandas.core.frame.DataFrame'>\n",
      "RangeIndex: 5856 entries, 0 to 5855\n",
      "Data columns (total 53 columns):\n",
      " #   Column                                      Non-Null Count  Dtype  \n",
      "---  ------                                      --------------  -----  \n",
      " 0   date                                        5856 non-null   object \n",
      " 1   primary_cleaner.input.sulfate               5554 non-null   float64\n",
      " 2   primary_cleaner.input.depressant            5572 non-null   float64\n",
      " 3   primary_cleaner.input.feed_size             5856 non-null   float64\n",
      " 4   primary_cleaner.input.xanthate              5690 non-null   float64\n",
      " 5   primary_cleaner.state.floatbank8_a_air      5840 non-null   float64\n",
      " 6   primary_cleaner.state.floatbank8_a_level    5840 non-null   float64\n",
      " 7   primary_cleaner.state.floatbank8_b_air      5840 non-null   float64\n",
      " 8   primary_cleaner.state.floatbank8_b_level    5840 non-null   float64\n",
      " 9   primary_cleaner.state.floatbank8_c_air      5840 non-null   float64\n",
      " 10  primary_cleaner.state.floatbank8_c_level    5840 non-null   float64\n",
      " 11  primary_cleaner.state.floatbank8_d_air      5840 non-null   float64\n",
      " 12  primary_cleaner.state.floatbank8_d_level    5840 non-null   float64\n",
      " 13  rougher.input.feed_ag                       5840 non-null   float64\n",
      " 14  rougher.input.feed_pb                       5840 non-null   float64\n",
      " 15  rougher.input.feed_rate                     5816 non-null   float64\n",
      " 16  rougher.input.feed_size                     5834 non-null   float64\n",
      " 17  rougher.input.feed_sol                      5789 non-null   float64\n",
      " 18  rougher.input.feed_au                       5840 non-null   float64\n",
      " 19  rougher.input.floatbank10_sulfate           5599 non-null   float64\n",
      " 20  rougher.input.floatbank10_xanthate          5733 non-null   float64\n",
      " 21  rougher.input.floatbank11_sulfate           5801 non-null   float64\n",
      " 22  rougher.input.floatbank11_xanthate          5503 non-null   float64\n",
      " 23  rougher.state.floatbank10_a_air             5839 non-null   float64\n",
      " 24  rougher.state.floatbank10_a_level           5840 non-null   float64\n",
      " 25  rougher.state.floatbank10_b_air             5839 non-null   float64\n",
      " 26  rougher.state.floatbank10_b_level           5840 non-null   float64\n",
      " 27  rougher.state.floatbank10_c_air             5839 non-null   float64\n",
      " 28  rougher.state.floatbank10_c_level           5840 non-null   float64\n",
      " 29  rougher.state.floatbank10_d_air             5839 non-null   float64\n",
      " 30  rougher.state.floatbank10_d_level           5840 non-null   float64\n",
      " 31  rougher.state.floatbank10_e_air             5839 non-null   float64\n",
      " 32  rougher.state.floatbank10_e_level           5840 non-null   float64\n",
      " 33  rougher.state.floatbank10_f_air             5839 non-null   float64\n",
      " 34  rougher.state.floatbank10_f_level           5840 non-null   float64\n",
      " 35  secondary_cleaner.state.floatbank2_a_air    5836 non-null   float64\n",
      " 36  secondary_cleaner.state.floatbank2_a_level  5840 non-null   float64\n",
      " 37  secondary_cleaner.state.floatbank2_b_air    5833 non-null   float64\n",
      " 38  secondary_cleaner.state.floatbank2_b_level  5840 non-null   float64\n",
      " 39  secondary_cleaner.state.floatbank3_a_air    5822 non-null   float64\n",
      " 40  secondary_cleaner.state.floatbank3_a_level  5840 non-null   float64\n",
      " 41  secondary_cleaner.state.floatbank3_b_air    5840 non-null   float64\n",
      " 42  secondary_cleaner.state.floatbank3_b_level  5840 non-null   float64\n",
      " 43  secondary_cleaner.state.floatbank4_a_air    5840 non-null   float64\n",
      " 44  secondary_cleaner.state.floatbank4_a_level  5840 non-null   float64\n",
      " 45  secondary_cleaner.state.floatbank4_b_air    5840 non-null   float64\n",
      " 46  secondary_cleaner.state.floatbank4_b_level  5840 non-null   float64\n",
      " 47  secondary_cleaner.state.floatbank5_a_air    5840 non-null   float64\n",
      " 48  secondary_cleaner.state.floatbank5_a_level  5840 non-null   float64\n",
      " 49  secondary_cleaner.state.floatbank5_b_air    5840 non-null   float64\n",
      " 50  secondary_cleaner.state.floatbank5_b_level  5840 non-null   float64\n",
      " 51  secondary_cleaner.state.floatbank6_a_air    5840 non-null   float64\n",
      " 52  secondary_cleaner.state.floatbank6_a_level  5840 non-null   float64\n",
      "dtypes: float64(52), object(1)\n",
      "memory usage: 2.4+ MB\n"
     ]
    }
   ],
   "source": [
    "# Visualize test info\n",
    "test.info()"
   ]
  },
  {
   "cell_type": "markdown",
   "metadata": {},
   "source": [
    "<div class=\"alert alert-success\">\n",
    "<b>Reviewer's comment</b>\n",
    "\n",
    "Alright, there is an initial inspection of the data!\n",
    "\n",
    "</div>"
   ]
  },
  {
   "cell_type": "markdown",
   "metadata": {},
   "source": [
    "### Recovery Calculations: Rougher output recovery "
   ]
  },
  {
   "cell_type": "markdown",
   "metadata": {},
   "source": [
    "#### Select columns"
   ]
  },
  {
   "cell_type": "code",
   "execution_count": 12,
   "metadata": {},
   "outputs": [
    {
     "data": {
      "text/html": [
       "<div>\n",
       "<style scoped>\n",
       "    .dataframe tbody tr th:only-of-type {\n",
       "        vertical-align: middle;\n",
       "    }\n",
       "\n",
       "    .dataframe tbody tr th {\n",
       "        vertical-align: top;\n",
       "    }\n",
       "\n",
       "    .dataframe thead th {\n",
       "        text-align: right;\n",
       "    }\n",
       "</style>\n",
       "<table border=\"1\" class=\"dataframe\">\n",
       "  <thead>\n",
       "    <tr style=\"text-align: right;\">\n",
       "      <th></th>\n",
       "      <th>rougher.output.concentrate_au</th>\n",
       "      <th>rougher.input.feed_au</th>\n",
       "      <th>rougher.output.tail_au</th>\n",
       "    </tr>\n",
       "  </thead>\n",
       "  <tbody>\n",
       "    <tr>\n",
       "      <th>0</th>\n",
       "      <td>19.793808</td>\n",
       "      <td>6.486150</td>\n",
       "      <td>1.170244</td>\n",
       "    </tr>\n",
       "    <tr>\n",
       "      <th>1</th>\n",
       "      <td>20.050975</td>\n",
       "      <td>6.478583</td>\n",
       "      <td>1.184827</td>\n",
       "    </tr>\n",
       "    <tr>\n",
       "      <th>2</th>\n",
       "      <td>19.737170</td>\n",
       "      <td>6.362222</td>\n",
       "      <td>1.162562</td>\n",
       "    </tr>\n",
       "    <tr>\n",
       "      <th>3</th>\n",
       "      <td>19.320810</td>\n",
       "      <td>6.118189</td>\n",
       "      <td>1.079755</td>\n",
       "    </tr>\n",
       "    <tr>\n",
       "      <th>4</th>\n",
       "      <td>19.216101</td>\n",
       "      <td>5.663707</td>\n",
       "      <td>1.012642</td>\n",
       "    </tr>\n",
       "    <tr>\n",
       "      <th>5</th>\n",
       "      <td>18.950385</td>\n",
       "      <td>5.687168</td>\n",
       "      <td>0.915835</td>\n",
       "    </tr>\n",
       "    <tr>\n",
       "      <th>6</th>\n",
       "      <td>19.319591</td>\n",
       "      <td>6.038436</td>\n",
       "      <td>0.986248</td>\n",
       "    </tr>\n",
       "    <tr>\n",
       "      <th>7</th>\n",
       "      <td>19.507897</td>\n",
       "      <td>6.433854</td>\n",
       "      <td>1.116110</td>\n",
       "    </tr>\n",
       "    <tr>\n",
       "      <th>8</th>\n",
       "      <td>19.789465</td>\n",
       "      <td>6.526612</td>\n",
       "      <td>1.186780</td>\n",
       "    </tr>\n",
       "    <tr>\n",
       "      <th>9</th>\n",
       "      <td>19.497669</td>\n",
       "      <td>6.633002</td>\n",
       "      <td>1.167140</td>\n",
       "    </tr>\n",
       "  </tbody>\n",
       "</table>\n",
       "</div>"
      ],
      "text/plain": [
       "   rougher.output.concentrate_au  rougher.input.feed_au  \\\n",
       "0                      19.793808               6.486150   \n",
       "1                      20.050975               6.478583   \n",
       "2                      19.737170               6.362222   \n",
       "3                      19.320810               6.118189   \n",
       "4                      19.216101               5.663707   \n",
       "5                      18.950385               5.687168   \n",
       "6                      19.319591               6.038436   \n",
       "7                      19.507897               6.433854   \n",
       "8                      19.789465               6.526612   \n",
       "9                      19.497669               6.633002   \n",
       "\n",
       "   rougher.output.tail_au  \n",
       "0                1.170244  \n",
       "1                1.184827  \n",
       "2                1.162562  \n",
       "3                1.079755  \n",
       "4                1.012642  \n",
       "5                0.915835  \n",
       "6                0.986248  \n",
       "7                1.116110  \n",
       "8                1.186780  \n",
       "9                1.167140  "
      ]
     },
     "execution_count": 12,
     "metadata": {},
     "output_type": "execute_result"
    }
   ],
   "source": [
    "# Select columns relevant for calculation\n",
    "rel_col = train.loc[:, ['rougher.output.concentrate_au', 'rougher.input.feed_au', 'rougher.output.tail_au']]\n",
    "rel_col = rel_col.fillna(method='ffill', axis=0)\n",
    "rel_col.head(10)"
   ]
  },
  {
   "cell_type": "code",
   "execution_count": 13,
   "metadata": {},
   "outputs": [],
   "source": [
    "# Create formula for calculation\n",
    "def rough_out_rec(rough_out_conc, rough_in_feed, rough_out_tail):\n",
    "    # Declare variables\n",
    "    C = rough_out_conc\n",
    "    F = rough_in_feed\n",
    "    T = rough_out_tail\n",
    "    \n",
    "    rec_final = 100*C*(F-T) / (F*(C-T))\n",
    "     \n",
    "    return rec_final"
   ]
  },
  {
   "cell_type": "code",
   "execution_count": 14,
   "metadata": {},
   "outputs": [
    {
     "name": "stdout",
     "output_type": "stream",
     "text": [
      "0    87.107763\n",
      "1    86.843261\n",
      "2    86.842308\n",
      "3    87.226430\n",
      "4    86.688794\n",
      "5    88.156912\n",
      "6    88.168065\n",
      "7    87.668336\n",
      "8    87.035862\n",
      "9    87.650868\n",
      "dtype: float64\n"
     ]
    }
   ],
   "source": [
    "# Calculate recovery\n",
    "corr_rec = rough_out_rec(rel_col['rougher.output.concentrate_au'], rel_col['rougher.input.feed_au'], rel_col['rougher.output.tail_au'])\n",
    "print(corr_rec.head(10))"
   ]
  },
  {
   "cell_type": "code",
   "execution_count": 15,
   "metadata": {},
   "outputs": [
    {
     "name": "stdout",
     "output_type": "stream",
     "text": [
      "MAE: 1.1101950495226952e-14\n"
     ]
    }
   ],
   "source": [
    "# Calculate MAE using MAE formula\n",
    "ror = train['rougher.output.recovery']\n",
    "ror_diff_abs = (ror - corr_rec).abs()\n",
    "\n",
    "print('MAE:', ror_diff_abs.sum()/ror_diff_abs.count())"
   ]
  },
  {
   "cell_type": "markdown",
   "metadata": {},
   "source": [
    "An MAE of this value shows that the recovery was calculated correctly in the train dataset"
   ]
  },
  {
   "cell_type": "markdown",
   "metadata": {},
   "source": [
    "<div class=\"alert alert-danger\">\n",
    "<s><b>Reviewer's comment</b>\n",
    "\n",
    "48 is a huge MAE (compare it with the mean value of `rougher.output.recovery`). Try calculating it only on the data where the needed values are not missing\n",
    "\n",
    "</div>"
   ]
  },
  {
   "cell_type": "markdown",
   "metadata": {},
   "source": [
    "<div class=\"alert alert-info\">\n",
    "  Indeed 48 is huge and after musch tweaking, the result is even worse. Could you please give a direct example, so I can know where my code is wrong. It'd really be a big help\n",
    "</div>"
   ]
  },
  {
   "cell_type": "markdown",
   "metadata": {},
   "source": [
    "<div class=\"alert alert-danger\">\n",
    "<s><b>Reviewer's comment V2</b>\n",
    "\n",
    "I mean, can you just create a copy of the data where missing values are dropped and not filled and calculate recovery on that data?\n",
    "\n",
    "</div>"
   ]
  },
  {
   "cell_type": "markdown",
   "metadata": {},
   "source": [
    "<div class=\"alert alert-success\">\n",
    "<b>Reviewer's comment V3</b>\n",
    "\n",
    "Ok, great! Now we can see that the target values that are not missing are indeed correct\n",
    "\n",
    "</div>"
   ]
  },
  {
   "cell_type": "markdown",
   "metadata": {},
   "source": [
    "### Compare training and test set features"
   ]
  },
  {
   "cell_type": "code",
   "execution_count": 16,
   "metadata": {},
   "outputs": [
    {
     "data": {
      "text/plain": [
       "Index(['date', 'final.output.concentrate_ag', 'final.output.concentrate_pb',\n",
       "       'final.output.concentrate_sol', 'final.output.concentrate_au',\n",
       "       'final.output.recovery', 'final.output.tail_ag', 'final.output.tail_pb',\n",
       "       'final.output.tail_sol', 'final.output.tail_au',\n",
       "       'primary_cleaner.input.sulfate', 'primary_cleaner.input.depressant',\n",
       "       'primary_cleaner.input.feed_size', 'primary_cleaner.input.xanthate',\n",
       "       'primary_cleaner.output.concentrate_ag',\n",
       "       'primary_cleaner.output.concentrate_pb',\n",
       "       'primary_cleaner.output.concentrate_sol',\n",
       "       'primary_cleaner.output.concentrate_au',\n",
       "       'primary_cleaner.output.tail_ag', 'primary_cleaner.output.tail_pb',\n",
       "       'primary_cleaner.output.tail_sol', 'primary_cleaner.output.tail_au',\n",
       "       'primary_cleaner.state.floatbank8_a_air',\n",
       "       'primary_cleaner.state.floatbank8_a_level',\n",
       "       'primary_cleaner.state.floatbank8_b_air',\n",
       "       'primary_cleaner.state.floatbank8_b_level',\n",
       "       'primary_cleaner.state.floatbank8_c_air',\n",
       "       'primary_cleaner.state.floatbank8_c_level',\n",
       "       'primary_cleaner.state.floatbank8_d_air',\n",
       "       'primary_cleaner.state.floatbank8_d_level',\n",
       "       'rougher.calculation.sulfate_to_au_concentrate',\n",
       "       'rougher.calculation.floatbank10_sulfate_to_au_feed',\n",
       "       'rougher.calculation.floatbank11_sulfate_to_au_feed',\n",
       "       'rougher.calculation.au_pb_ratio', 'rougher.input.feed_ag',\n",
       "       'rougher.input.feed_pb', 'rougher.input.feed_rate',\n",
       "       'rougher.input.feed_size', 'rougher.input.feed_sol',\n",
       "       'rougher.input.feed_au', 'rougher.input.floatbank10_sulfate',\n",
       "       'rougher.input.floatbank10_xanthate',\n",
       "       'rougher.input.floatbank11_sulfate',\n",
       "       'rougher.input.floatbank11_xanthate', 'rougher.output.concentrate_ag',\n",
       "       'rougher.output.concentrate_pb', 'rougher.output.concentrate_sol',\n",
       "       'rougher.output.concentrate_au', 'rougher.output.recovery',\n",
       "       'rougher.output.tail_ag', 'rougher.output.tail_pb',\n",
       "       'rougher.output.tail_sol', 'rougher.output.tail_au',\n",
       "       'rougher.state.floatbank10_a_air', 'rougher.state.floatbank10_a_level',\n",
       "       'rougher.state.floatbank10_b_air', 'rougher.state.floatbank10_b_level',\n",
       "       'rougher.state.floatbank10_c_air', 'rougher.state.floatbank10_c_level',\n",
       "       'rougher.state.floatbank10_d_air', 'rougher.state.floatbank10_d_level',\n",
       "       'rougher.state.floatbank10_e_air', 'rougher.state.floatbank10_e_level',\n",
       "       'rougher.state.floatbank10_f_air', 'rougher.state.floatbank10_f_level',\n",
       "       'secondary_cleaner.output.tail_ag', 'secondary_cleaner.output.tail_pb',\n",
       "       'secondary_cleaner.output.tail_sol', 'secondary_cleaner.output.tail_au',\n",
       "       'secondary_cleaner.state.floatbank2_a_air',\n",
       "       'secondary_cleaner.state.floatbank2_a_level',\n",
       "       'secondary_cleaner.state.floatbank2_b_air',\n",
       "       'secondary_cleaner.state.floatbank2_b_level',\n",
       "       'secondary_cleaner.state.floatbank3_a_air',\n",
       "       'secondary_cleaner.state.floatbank3_a_level',\n",
       "       'secondary_cleaner.state.floatbank3_b_air',\n",
       "       'secondary_cleaner.state.floatbank3_b_level',\n",
       "       'secondary_cleaner.state.floatbank4_a_air',\n",
       "       'secondary_cleaner.state.floatbank4_a_level',\n",
       "       'secondary_cleaner.state.floatbank4_b_air',\n",
       "       'secondary_cleaner.state.floatbank4_b_level',\n",
       "       'secondary_cleaner.state.floatbank5_a_air',\n",
       "       'secondary_cleaner.state.floatbank5_a_level',\n",
       "       'secondary_cleaner.state.floatbank5_b_air',\n",
       "       'secondary_cleaner.state.floatbank5_b_level',\n",
       "       'secondary_cleaner.state.floatbank6_a_air',\n",
       "       'secondary_cleaner.state.floatbank6_a_level'],\n",
       "      dtype='object')"
      ]
     },
     "execution_count": 16,
     "metadata": {},
     "output_type": "execute_result"
    }
   ],
   "source": [
    "# Visualize columns\n",
    "train.columns"
   ]
  },
  {
   "cell_type": "code",
   "execution_count": 17,
   "metadata": {},
   "outputs": [
    {
     "data": {
      "text/plain": [
       "Index(['date', 'primary_cleaner.input.sulfate',\n",
       "       'primary_cleaner.input.depressant', 'primary_cleaner.input.feed_size',\n",
       "       'primary_cleaner.input.xanthate',\n",
       "       'primary_cleaner.state.floatbank8_a_air',\n",
       "       'primary_cleaner.state.floatbank8_a_level',\n",
       "       'primary_cleaner.state.floatbank8_b_air',\n",
       "       'primary_cleaner.state.floatbank8_b_level',\n",
       "       'primary_cleaner.state.floatbank8_c_air',\n",
       "       'primary_cleaner.state.floatbank8_c_level',\n",
       "       'primary_cleaner.state.floatbank8_d_air',\n",
       "       'primary_cleaner.state.floatbank8_d_level', 'rougher.input.feed_ag',\n",
       "       'rougher.input.feed_pb', 'rougher.input.feed_rate',\n",
       "       'rougher.input.feed_size', 'rougher.input.feed_sol',\n",
       "       'rougher.input.feed_au', 'rougher.input.floatbank10_sulfate',\n",
       "       'rougher.input.floatbank10_xanthate',\n",
       "       'rougher.input.floatbank11_sulfate',\n",
       "       'rougher.input.floatbank11_xanthate', 'rougher.state.floatbank10_a_air',\n",
       "       'rougher.state.floatbank10_a_level', 'rougher.state.floatbank10_b_air',\n",
       "       'rougher.state.floatbank10_b_level', 'rougher.state.floatbank10_c_air',\n",
       "       'rougher.state.floatbank10_c_level', 'rougher.state.floatbank10_d_air',\n",
       "       'rougher.state.floatbank10_d_level', 'rougher.state.floatbank10_e_air',\n",
       "       'rougher.state.floatbank10_e_level', 'rougher.state.floatbank10_f_air',\n",
       "       'rougher.state.floatbank10_f_level',\n",
       "       'secondary_cleaner.state.floatbank2_a_air',\n",
       "       'secondary_cleaner.state.floatbank2_a_level',\n",
       "       'secondary_cleaner.state.floatbank2_b_air',\n",
       "       'secondary_cleaner.state.floatbank2_b_level',\n",
       "       'secondary_cleaner.state.floatbank3_a_air',\n",
       "       'secondary_cleaner.state.floatbank3_a_level',\n",
       "       'secondary_cleaner.state.floatbank3_b_air',\n",
       "       'secondary_cleaner.state.floatbank3_b_level',\n",
       "       'secondary_cleaner.state.floatbank4_a_air',\n",
       "       'secondary_cleaner.state.floatbank4_a_level',\n",
       "       'secondary_cleaner.state.floatbank4_b_air',\n",
       "       'secondary_cleaner.state.floatbank4_b_level',\n",
       "       'secondary_cleaner.state.floatbank5_a_air',\n",
       "       'secondary_cleaner.state.floatbank5_a_level',\n",
       "       'secondary_cleaner.state.floatbank5_b_air',\n",
       "       'secondary_cleaner.state.floatbank5_b_level',\n",
       "       'secondary_cleaner.state.floatbank6_a_air',\n",
       "       'secondary_cleaner.state.floatbank6_a_level'],\n",
       "      dtype='object')"
      ]
     },
     "execution_count": 17,
     "metadata": {},
     "output_type": "execute_result"
    }
   ],
   "source": [
    "# Visualize columns\n",
    "test.columns"
   ]
  },
  {
   "cell_type": "code",
   "execution_count": 18,
   "metadata": {},
   "outputs": [
    {
     "name": "stdout",
     "output_type": "stream",
     "text": [
      "final.output.concentrate_ag\n",
      "final.output.concentrate_pb\n",
      "final.output.concentrate_sol\n",
      "final.output.concentrate_au\n",
      "final.output.recovery\n",
      "final.output.tail_ag\n",
      "final.output.tail_pb\n",
      "final.output.tail_sol\n",
      "final.output.tail_au\n",
      "primary_cleaner.output.concentrate_ag\n",
      "primary_cleaner.output.concentrate_pb\n",
      "primary_cleaner.output.concentrate_sol\n",
      "primary_cleaner.output.concentrate_au\n",
      "primary_cleaner.output.tail_ag\n",
      "primary_cleaner.output.tail_pb\n",
      "primary_cleaner.output.tail_sol\n",
      "primary_cleaner.output.tail_au\n",
      "rougher.calculation.sulfate_to_au_concentrate\n",
      "rougher.calculation.floatbank10_sulfate_to_au_feed\n",
      "rougher.calculation.floatbank11_sulfate_to_au_feed\n",
      "rougher.calculation.au_pb_ratio\n",
      "rougher.output.concentrate_ag\n",
      "rougher.output.concentrate_pb\n",
      "rougher.output.concentrate_sol\n",
      "rougher.output.concentrate_au\n",
      "rougher.output.recovery\n",
      "rougher.output.tail_ag\n",
      "rougher.output.tail_pb\n",
      "rougher.output.tail_sol\n",
      "rougher.output.tail_au\n",
      "secondary_cleaner.output.tail_ag\n",
      "secondary_cleaner.output.tail_pb\n",
      "secondary_cleaner.output.tail_sol\n",
      "secondary_cleaner.output.tail_au\n"
     ]
    }
   ],
   "source": [
    "# Get missing columns\n",
    "miss_col = []\n",
    "for item in train.columns:\n",
    "    if item not in test.columns:\n",
    "        miss_col.append(item)\n",
    "        print(item)"
   ]
  },
  {
   "cell_type": "code",
   "execution_count": 19,
   "metadata": {},
   "outputs": [
    {
     "name": "stdout",
     "output_type": "stream",
     "text": [
      "<class 'pandas.core.frame.DataFrame'>\n",
      "RangeIndex: 16860 entries, 0 to 16859\n",
      "Data columns (total 34 columns):\n",
      " #   Column                                              Non-Null Count  Dtype  \n",
      "---  ------                                              --------------  -----  \n",
      " 0   final.output.concentrate_ag                         16788 non-null  float64\n",
      " 1   final.output.concentrate_pb                         16788 non-null  float64\n",
      " 2   final.output.concentrate_sol                        16490 non-null  float64\n",
      " 3   final.output.concentrate_au                         16789 non-null  float64\n",
      " 4   final.output.recovery                               15339 non-null  float64\n",
      " 5   final.output.tail_ag                                16794 non-null  float64\n",
      " 6   final.output.tail_pb                                16677 non-null  float64\n",
      " 7   final.output.tail_sol                               16715 non-null  float64\n",
      " 8   final.output.tail_au                                16794 non-null  float64\n",
      " 9   primary_cleaner.output.concentrate_ag               16778 non-null  float64\n",
      " 10  primary_cleaner.output.concentrate_pb               16502 non-null  float64\n",
      " 11  primary_cleaner.output.concentrate_sol              16224 non-null  float64\n",
      " 12  primary_cleaner.output.concentrate_au               16778 non-null  float64\n",
      " 13  primary_cleaner.output.tail_ag                      16777 non-null  float64\n",
      " 14  primary_cleaner.output.tail_pb                      16761 non-null  float64\n",
      " 15  primary_cleaner.output.tail_sol                     16579 non-null  float64\n",
      " 16  primary_cleaner.output.tail_au                      16777 non-null  float64\n",
      " 17  rougher.calculation.sulfate_to_au_concentrate       16833 non-null  float64\n",
      " 18  rougher.calculation.floatbank10_sulfate_to_au_feed  16833 non-null  float64\n",
      " 19  rougher.calculation.floatbank11_sulfate_to_au_feed  16833 non-null  float64\n",
      " 20  rougher.calculation.au_pb_ratio                     15618 non-null  float64\n",
      " 21  rougher.output.concentrate_ag                       16778 non-null  float64\n",
      " 22  rougher.output.concentrate_pb                       16778 non-null  float64\n",
      " 23  rougher.output.concentrate_sol                      16698 non-null  float64\n",
      " 24  rougher.output.concentrate_au                       16778 non-null  float64\n",
      " 25  rougher.output.recovery                             14287 non-null  float64\n",
      " 26  rougher.output.tail_ag                              14610 non-null  float64\n",
      " 27  rougher.output.tail_pb                              16778 non-null  float64\n",
      " 28  rougher.output.tail_sol                             14611 non-null  float64\n",
      " 29  rougher.output.tail_au                              14611 non-null  float64\n",
      " 30  secondary_cleaner.output.tail_ag                    16776 non-null  float64\n",
      " 31  secondary_cleaner.output.tail_pb                    16764 non-null  float64\n",
      " 32  secondary_cleaner.output.tail_sol                   14874 non-null  float64\n",
      " 33  secondary_cleaner.output.tail_au                    16778 non-null  float64\n",
      "dtypes: float64(34)\n",
      "memory usage: 4.4 MB\n"
     ]
    }
   ],
   "source": [
    "# Check the datatypes\n",
    "train[miss_col].info()"
   ]
  },
  {
   "cell_type": "markdown",
   "metadata": {},
   "source": [
    "From the above analysis,the columns that are missing from the test set are outputs and calculation based on those outputs."
   ]
  },
  {
   "cell_type": "markdown",
   "metadata": {},
   "source": [
    "<div class=\"alert alert-danger\">\n",
    "<s><b>Reviewer's comment</b>\n",
    "\n",
    "It seems that you slightly misunderstood the point of this task. The columns that are missing from the test set are outputs and calculation based on those outputs. As we won't be able to obtain the values in these columns before the process is finished when the model is deployed in production, we can't use them as features in our models. Adding them back results in data leakage.\n",
    "\n",
    "</div>"
   ]
  },
  {
   "cell_type": "markdown",
   "metadata": {},
   "source": [
    "<div class=\"alert alert-success\">\n",
    "<b>Reviewer's comment V2</b>\n",
    "\n",
    "Ok!\n",
    "\n",
    "</div>"
   ]
  },
  {
   "cell_type": "markdown",
   "metadata": {},
   "source": [
    "## Data Preprocessing"
   ]
  },
  {
   "cell_type": "markdown",
   "metadata": {},
   "source": [
    "### Check datasets for duplicates"
   ]
  },
  {
   "cell_type": "code",
   "execution_count": 20,
   "metadata": {},
   "outputs": [
    {
     "data": {
      "text/plain": [
       "False    22716\n",
       "dtype: int64"
      ]
     },
     "execution_count": 20,
     "metadata": {},
     "output_type": "execute_result"
    }
   ],
   "source": [
    "# Check for duplicates\n",
    "full.duplicated().value_counts()"
   ]
  },
  {
   "cell_type": "code",
   "execution_count": 21,
   "metadata": {},
   "outputs": [
    {
     "data": {
      "text/plain": [
       "False    16860\n",
       "dtype: int64"
      ]
     },
     "execution_count": 21,
     "metadata": {},
     "output_type": "execute_result"
    }
   ],
   "source": [
    "# Check for duplicates\n",
    "train.duplicated().value_counts()"
   ]
  },
  {
   "cell_type": "code",
   "execution_count": 22,
   "metadata": {},
   "outputs": [
    {
     "data": {
      "text/plain": [
       "False    5856\n",
       "dtype: int64"
      ]
     },
     "execution_count": 22,
     "metadata": {},
     "output_type": "execute_result"
    }
   ],
   "source": [
    "# Check for duplicates\n",
    "test.duplicated().value_counts()"
   ]
  },
  {
   "cell_type": "markdown",
   "metadata": {},
   "source": [
    "Datasets contain no duplicates. Now for missing values"
   ]
  },
  {
   "cell_type": "markdown",
   "metadata": {},
   "source": [
    "### Dealing with missing values"
   ]
  },
  {
   "cell_type": "code",
   "execution_count": 23,
   "metadata": {},
   "outputs": [
    {
     "name": "stdout",
     "output_type": "stream",
     "text": [
      "22716\n",
      "16860\n"
     ]
    }
   ],
   "source": [
    "print(len(full))\n",
    "print(len(train))"
   ]
  },
  {
   "cell_type": "code",
   "execution_count": 24,
   "metadata": {},
   "outputs": [
    {
     "data": {
      "text/plain": [
       "19439"
      ]
     },
     "execution_count": 24,
     "metadata": {},
     "output_type": "execute_result"
    }
   ],
   "source": [
    "# Drop missing targets in full dataframe\n",
    "n = full['rougher.output.recovery'].dropna().index\n",
    "full = full.loc[n]\n",
    "\n",
    "m = full['final.output.recovery'].dropna().index\n",
    "full = full.loc[m]\n",
    "\n",
    "len(full)"
   ]
  },
  {
   "cell_type": "code",
   "execution_count": 25,
   "metadata": {},
   "outputs": [
    {
     "data": {
      "text/plain": [
       "14149"
      ]
     },
     "execution_count": 25,
     "metadata": {},
     "output_type": "execute_result"
    }
   ],
   "source": [
    "# Drop missing values in train dataframe\n",
    "a = train['rougher.output.recovery'].dropna().index\n",
    "train = train.loc[a]\n",
    "\n",
    "b = train['final.output.recovery'].dropna().index\n",
    "train = train.loc[b]\n",
    "\n",
    "len(train)"
   ]
  },
  {
   "cell_type": "markdown",
   "metadata": {},
   "source": [
    "All missing target values have been dropped in the full and train datasets. The test dataset has no target columns and so didn't need for them to be dropped"
   ]
  },
  {
   "cell_type": "code",
   "execution_count": 26,
   "metadata": {},
   "outputs": [],
   "source": [
    "# Fill missing values using forward fill\n",
    "\n",
    "new_train = train.fillna(method='ffill')\n",
    "\n",
    "new_test = test.fillna(method='ffill')"
   ]
  },
  {
   "cell_type": "markdown",
   "metadata": {},
   "source": [
    "Looking at the whole datasets, each column containesd similar data and for a machine learning task, its better to fill in these values to provide a full and complete dataset. The values have been forward filled as the values close in time are similar."
   ]
  },
  {
   "cell_type": "markdown",
   "metadata": {},
   "source": [
    "<div class=\"alert alert-danger\">\n",
    "<s><b>Reviewer's comment</b>\n",
    "\n",
    "This method seems a little bit too crude, especially considering that there are quite a few missing values. Project instruction says that values close in time should be similar, which suggests using the last known value to fill missing values (i.e. forward fill)\n",
    "\n",
    "</div>"
   ]
  },
  {
   "cell_type": "markdown",
   "metadata": {},
   "source": [
    "<div class=\"alert alert-danger\">\n",
    "<s><b>Reviewer's comment V2</b>\n",
    "\n",
    "This problem still persists\n",
    "\n",
    "</div>"
   ]
  },
  {
   "cell_type": "markdown",
   "metadata": {},
   "source": [
    "<div class=\"alert alert-info\">\n",
    "  Why do you think so? I have just used forward fill as you instructed. Is there another reason as to why you think the problem still persists? Moreover, the datasets eventually used to train the models are different from these.\n",
    "</div>"
   ]
  },
  {
   "cell_type": "markdown",
   "metadata": {},
   "source": [
    "<div class=\"alert alert-danger\">\n",
    "<s><b>Reviewer's comment V3</b>\n",
    "\n",
    "Sorry, I'm an idiot! I was sure that I wrote something else in that comment, but it seems that I forgot to. My bad!\n",
    "    \n",
    "You indeed used a different method, so that's good! But what I actually wanted to write about is that apart from missing features, there are quite a few missing target values. For the targets, we want a higher degree of certainty in their correctness (especially for testing the models, but also for training), so we need to drop missing targets before applying any method of filling missing values. (if you make a different split, then we should drop missing targets from the full dataset before splitting it)\n",
    "\n",
    "</div>"
   ]
  },
  {
   "cell_type": "markdown",
   "metadata": {},
   "source": [
    "<div class=\"alert alert-success\">\n",
    "<b>Reviewer's comment V4</b>\n",
    "\n",
    "Ok, great!\n",
    "\n",
    "</div>"
   ]
  },
  {
   "cell_type": "markdown",
   "metadata": {},
   "source": [
    "The date column doesn't have the right data type bust seeingas we will eventually drop it before we train the model, I guess we can leave it be"
   ]
  },
  {
   "cell_type": "markdown",
   "metadata": {},
   "source": [
    "## Data Analysis"
   ]
  },
  {
   "cell_type": "markdown",
   "metadata": {},
   "source": [
    "### Observe concentration of metals accross purification stages"
   ]
  },
  {
   "cell_type": "code",
   "execution_count": 27,
   "metadata": {},
   "outputs": [
    {
     "data": {
      "text/html": [
       "<div>\n",
       "<style scoped>\n",
       "    .dataframe tbody tr th:only-of-type {\n",
       "        vertical-align: middle;\n",
       "    }\n",
       "\n",
       "    .dataframe tbody tr th {\n",
       "        vertical-align: top;\n",
       "    }\n",
       "\n",
       "    .dataframe thead th {\n",
       "        text-align: right;\n",
       "    }\n",
       "</style>\n",
       "<table border=\"1\" class=\"dataframe\">\n",
       "  <thead>\n",
       "    <tr style=\"text-align: right;\">\n",
       "      <th></th>\n",
       "      <th>final.output.concentrate_ag</th>\n",
       "      <th>final.output.concentrate_pb</th>\n",
       "      <th>final.output.concentrate_sol</th>\n",
       "      <th>final.output.concentrate_au</th>\n",
       "      <th>primary_cleaner.input.feed_size</th>\n",
       "      <th>primary_cleaner.output.concentrate_ag</th>\n",
       "      <th>primary_cleaner.output.concentrate_pb</th>\n",
       "      <th>primary_cleaner.output.concentrate_sol</th>\n",
       "      <th>primary_cleaner.output.concentrate_au</th>\n",
       "      <th>rougher.calculation.sulfate_to_au_concentrate</th>\n",
       "      <th>...</th>\n",
       "      <th>rougher.input.feed_ag</th>\n",
       "      <th>rougher.input.feed_pb</th>\n",
       "      <th>rougher.input.feed_rate</th>\n",
       "      <th>rougher.input.feed_size</th>\n",
       "      <th>rougher.input.feed_sol</th>\n",
       "      <th>rougher.input.feed_au</th>\n",
       "      <th>rougher.output.concentrate_ag</th>\n",
       "      <th>rougher.output.concentrate_pb</th>\n",
       "      <th>rougher.output.concentrate_sol</th>\n",
       "      <th>rougher.output.concentrate_au</th>\n",
       "    </tr>\n",
       "  </thead>\n",
       "  <tbody>\n",
       "    <tr>\n",
       "      <th>0</th>\n",
       "      <td>6.055403</td>\n",
       "      <td>9.889648</td>\n",
       "      <td>5.507324</td>\n",
       "      <td>42.192020</td>\n",
       "      <td>7.25</td>\n",
       "      <td>8.547551</td>\n",
       "      <td>10.389648</td>\n",
       "      <td>19.529297</td>\n",
       "      <td>34.174427</td>\n",
       "      <td>41885.707031</td>\n",
       "      <td>...</td>\n",
       "      <td>6.100378</td>\n",
       "      <td>2.284912</td>\n",
       "      <td>523.546326</td>\n",
       "      <td>55.486599</td>\n",
       "      <td>36.808594</td>\n",
       "      <td>6.486150</td>\n",
       "      <td>11.500771</td>\n",
       "      <td>7.101074</td>\n",
       "      <td>28.029297</td>\n",
       "      <td>19.793808</td>\n",
       "    </tr>\n",
       "    <tr>\n",
       "      <th>1</th>\n",
       "      <td>6.029369</td>\n",
       "      <td>9.968944</td>\n",
       "      <td>5.257781</td>\n",
       "      <td>42.701629</td>\n",
       "      <td>7.25</td>\n",
       "      <td>8.558743</td>\n",
       "      <td>10.497069</td>\n",
       "      <td>19.369147</td>\n",
       "      <td>34.118526</td>\n",
       "      <td>42050.861809</td>\n",
       "      <td>...</td>\n",
       "      <td>6.161113</td>\n",
       "      <td>2.266033</td>\n",
       "      <td>525.290581</td>\n",
       "      <td>57.278666</td>\n",
       "      <td>35.753385</td>\n",
       "      <td>6.478583</td>\n",
       "      <td>11.615865</td>\n",
       "      <td>7.278807</td>\n",
       "      <td>28.067063</td>\n",
       "      <td>20.050975</td>\n",
       "    </tr>\n",
       "    <tr>\n",
       "      <th>2</th>\n",
       "      <td>6.055926</td>\n",
       "      <td>10.213995</td>\n",
       "      <td>5.383759</td>\n",
       "      <td>42.657501</td>\n",
       "      <td>7.25</td>\n",
       "      <td>8.603505</td>\n",
       "      <td>10.354494</td>\n",
       "      <td>19.167579</td>\n",
       "      <td>33.969464</td>\n",
       "      <td>42018.101184</td>\n",
       "      <td>...</td>\n",
       "      <td>6.116455</td>\n",
       "      <td>2.159622</td>\n",
       "      <td>530.026610</td>\n",
       "      <td>57.510649</td>\n",
       "      <td>35.971630</td>\n",
       "      <td>6.362222</td>\n",
       "      <td>11.695753</td>\n",
       "      <td>7.216833</td>\n",
       "      <td>27.454037</td>\n",
       "      <td>19.737170</td>\n",
       "    </tr>\n",
       "    <tr>\n",
       "      <th>3</th>\n",
       "      <td>6.047977</td>\n",
       "      <td>9.977019</td>\n",
       "      <td>4.858634</td>\n",
       "      <td>42.689819</td>\n",
       "      <td>7.25</td>\n",
       "      <td>7.221879</td>\n",
       "      <td>8.496563</td>\n",
       "      <td>15.978538</td>\n",
       "      <td>28.260743</td>\n",
       "      <td>42029.447991</td>\n",
       "      <td>...</td>\n",
       "      <td>6.043309</td>\n",
       "      <td>2.037807</td>\n",
       "      <td>542.590390</td>\n",
       "      <td>57.792734</td>\n",
       "      <td>36.862241</td>\n",
       "      <td>6.118189</td>\n",
       "      <td>11.915047</td>\n",
       "      <td>7.175616</td>\n",
       "      <td>27.341277</td>\n",
       "      <td>19.320810</td>\n",
       "    </tr>\n",
       "    <tr>\n",
       "      <th>4</th>\n",
       "      <td>6.148599</td>\n",
       "      <td>10.142511</td>\n",
       "      <td>4.939416</td>\n",
       "      <td>42.774141</td>\n",
       "      <td>7.25</td>\n",
       "      <td>9.089428</td>\n",
       "      <td>9.986786</td>\n",
       "      <td>19.199864</td>\n",
       "      <td>33.044932</td>\n",
       "      <td>42125.354245</td>\n",
       "      <td>...</td>\n",
       "      <td>6.060915</td>\n",
       "      <td>1.786875</td>\n",
       "      <td>540.531893</td>\n",
       "      <td>56.047189</td>\n",
       "      <td>34.347666</td>\n",
       "      <td>5.663707</td>\n",
       "      <td>12.411054</td>\n",
       "      <td>7.240205</td>\n",
       "      <td>27.041023</td>\n",
       "      <td>19.216101</td>\n",
       "    </tr>\n",
       "    <tr>\n",
       "      <th>...</th>\n",
       "      <td>...</td>\n",
       "      <td>...</td>\n",
       "      <td>...</td>\n",
       "      <td>...</td>\n",
       "      <td>...</td>\n",
       "      <td>...</td>\n",
       "      <td>...</td>\n",
       "      <td>...</td>\n",
       "      <td>...</td>\n",
       "      <td>...</td>\n",
       "      <td>...</td>\n",
       "      <td>...</td>\n",
       "      <td>...</td>\n",
       "      <td>...</td>\n",
       "      <td>...</td>\n",
       "      <td>...</td>\n",
       "      <td>...</td>\n",
       "      <td>...</td>\n",
       "      <td>...</td>\n",
       "      <td>...</td>\n",
       "      <td>...</td>\n",
       "    </tr>\n",
       "    <tr>\n",
       "      <th>22711</th>\n",
       "      <td>3.224920</td>\n",
       "      <td>11.356233</td>\n",
       "      <td>6.803482</td>\n",
       "      <td>46.713954</td>\n",
       "      <td>6.50</td>\n",
       "      <td>6.559174</td>\n",
       "      <td>12.445966</td>\n",
       "      <td>7.056338</td>\n",
       "      <td>32.940215</td>\n",
       "      <td>45912.942619</td>\n",
       "      <td>...</td>\n",
       "      <td>6.091855</td>\n",
       "      <td>4.617558</td>\n",
       "      <td>560.889077</td>\n",
       "      <td>85.718304</td>\n",
       "      <td>37.369774</td>\n",
       "      <td>5.335862</td>\n",
       "      <td>11.124896</td>\n",
       "      <td>10.984003</td>\n",
       "      <td>30.068876</td>\n",
       "      <td>18.603550</td>\n",
       "    </tr>\n",
       "    <tr>\n",
       "      <th>22712</th>\n",
       "      <td>3.195978</td>\n",
       "      <td>11.349355</td>\n",
       "      <td>6.862249</td>\n",
       "      <td>46.866780</td>\n",
       "      <td>6.50</td>\n",
       "      <td>6.612376</td>\n",
       "      <td>12.623947</td>\n",
       "      <td>7.542264</td>\n",
       "      <td>32.925325</td>\n",
       "      <td>46200.099585</td>\n",
       "      <td>...</td>\n",
       "      <td>6.121323</td>\n",
       "      <td>4.144989</td>\n",
       "      <td>559.031805</td>\n",
       "      <td>119.499241</td>\n",
       "      <td>38.591551</td>\n",
       "      <td>4.838619</td>\n",
       "      <td>11.425983</td>\n",
       "      <td>10.888213</td>\n",
       "      <td>29.783972</td>\n",
       "      <td>18.441436</td>\n",
       "    </tr>\n",
       "    <tr>\n",
       "      <th>22713</th>\n",
       "      <td>3.109998</td>\n",
       "      <td>11.434366</td>\n",
       "      <td>6.886013</td>\n",
       "      <td>46.795691</td>\n",
       "      <td>6.50</td>\n",
       "      <td>7.128896</td>\n",
       "      <td>12.633558</td>\n",
       "      <td>7.941900</td>\n",
       "      <td>31.856742</td>\n",
       "      <td>44585.181334</td>\n",
       "      <td>...</td>\n",
       "      <td>5.970515</td>\n",
       "      <td>4.020002</td>\n",
       "      <td>555.682872</td>\n",
       "      <td>122.262690</td>\n",
       "      <td>40.074026</td>\n",
       "      <td>4.525061</td>\n",
       "      <td>8.523497</td>\n",
       "      <td>8.955135</td>\n",
       "      <td>22.786467</td>\n",
       "      <td>15.111231</td>\n",
       "    </tr>\n",
       "    <tr>\n",
       "      <th>22714</th>\n",
       "      <td>3.367241</td>\n",
       "      <td>11.625587</td>\n",
       "      <td>6.799433</td>\n",
       "      <td>46.408188</td>\n",
       "      <td>6.50</td>\n",
       "      <td>7.490444</td>\n",
       "      <td>12.012378</td>\n",
       "      <td>6.942972</td>\n",
       "      <td>30.770892</td>\n",
       "      <td>44084.735708</td>\n",
       "      <td>...</td>\n",
       "      <td>6.048130</td>\n",
       "      <td>3.902537</td>\n",
       "      <td>544.731687</td>\n",
       "      <td>123.742430</td>\n",
       "      <td>39.713906</td>\n",
       "      <td>4.362781</td>\n",
       "      <td>11.658799</td>\n",
       "      <td>10.655377</td>\n",
       "      <td>29.052742</td>\n",
       "      <td>17.834772</td>\n",
       "    </tr>\n",
       "    <tr>\n",
       "      <th>22715</th>\n",
       "      <td>3.598375</td>\n",
       "      <td>11.737832</td>\n",
       "      <td>6.717509</td>\n",
       "      <td>46.299438</td>\n",
       "      <td>6.50</td>\n",
       "      <td>7.537584</td>\n",
       "      <td>11.650285</td>\n",
       "      <td>6.203553</td>\n",
       "      <td>30.356618</td>\n",
       "      <td>44082.866565</td>\n",
       "      <td>...</td>\n",
       "      <td>6.158718</td>\n",
       "      <td>3.875727</td>\n",
       "      <td>555.820208</td>\n",
       "      <td>94.544358</td>\n",
       "      <td>39.135119</td>\n",
       "      <td>4.365491</td>\n",
       "      <td>11.959486</td>\n",
       "      <td>10.702148</td>\n",
       "      <td>29.078235</td>\n",
       "      <td>17.804134</td>\n",
       "    </tr>\n",
       "  </tbody>\n",
       "</table>\n",
       "<p>19439 rows × 22 columns</p>\n",
       "</div>"
      ],
      "text/plain": [
       "       final.output.concentrate_ag  final.output.concentrate_pb  \\\n",
       "0                         6.055403                     9.889648   \n",
       "1                         6.029369                     9.968944   \n",
       "2                         6.055926                    10.213995   \n",
       "3                         6.047977                     9.977019   \n",
       "4                         6.148599                    10.142511   \n",
       "...                            ...                          ...   \n",
       "22711                     3.224920                    11.356233   \n",
       "22712                     3.195978                    11.349355   \n",
       "22713                     3.109998                    11.434366   \n",
       "22714                     3.367241                    11.625587   \n",
       "22715                     3.598375                    11.737832   \n",
       "\n",
       "       final.output.concentrate_sol  final.output.concentrate_au  \\\n",
       "0                          5.507324                    42.192020   \n",
       "1                          5.257781                    42.701629   \n",
       "2                          5.383759                    42.657501   \n",
       "3                          4.858634                    42.689819   \n",
       "4                          4.939416                    42.774141   \n",
       "...                             ...                          ...   \n",
       "22711                      6.803482                    46.713954   \n",
       "22712                      6.862249                    46.866780   \n",
       "22713                      6.886013                    46.795691   \n",
       "22714                      6.799433                    46.408188   \n",
       "22715                      6.717509                    46.299438   \n",
       "\n",
       "       primary_cleaner.input.feed_size  primary_cleaner.output.concentrate_ag  \\\n",
       "0                                 7.25                               8.547551   \n",
       "1                                 7.25                               8.558743   \n",
       "2                                 7.25                               8.603505   \n",
       "3                                 7.25                               7.221879   \n",
       "4                                 7.25                               9.089428   \n",
       "...                                ...                                    ...   \n",
       "22711                             6.50                               6.559174   \n",
       "22712                             6.50                               6.612376   \n",
       "22713                             6.50                               7.128896   \n",
       "22714                             6.50                               7.490444   \n",
       "22715                             6.50                               7.537584   \n",
       "\n",
       "       primary_cleaner.output.concentrate_pb  \\\n",
       "0                                  10.389648   \n",
       "1                                  10.497069   \n",
       "2                                  10.354494   \n",
       "3                                   8.496563   \n",
       "4                                   9.986786   \n",
       "...                                      ...   \n",
       "22711                              12.445966   \n",
       "22712                              12.623947   \n",
       "22713                              12.633558   \n",
       "22714                              12.012378   \n",
       "22715                              11.650285   \n",
       "\n",
       "       primary_cleaner.output.concentrate_sol  \\\n",
       "0                                   19.529297   \n",
       "1                                   19.369147   \n",
       "2                                   19.167579   \n",
       "3                                   15.978538   \n",
       "4                                   19.199864   \n",
       "...                                       ...   \n",
       "22711                                7.056338   \n",
       "22712                                7.542264   \n",
       "22713                                7.941900   \n",
       "22714                                6.942972   \n",
       "22715                                6.203553   \n",
       "\n",
       "       primary_cleaner.output.concentrate_au  \\\n",
       "0                                  34.174427   \n",
       "1                                  34.118526   \n",
       "2                                  33.969464   \n",
       "3                                  28.260743   \n",
       "4                                  33.044932   \n",
       "...                                      ...   \n",
       "22711                              32.940215   \n",
       "22712                              32.925325   \n",
       "22713                              31.856742   \n",
       "22714                              30.770892   \n",
       "22715                              30.356618   \n",
       "\n",
       "       rougher.calculation.sulfate_to_au_concentrate  ...  \\\n",
       "0                                       41885.707031  ...   \n",
       "1                                       42050.861809  ...   \n",
       "2                                       42018.101184  ...   \n",
       "3                                       42029.447991  ...   \n",
       "4                                       42125.354245  ...   \n",
       "...                                              ...  ...   \n",
       "22711                                   45912.942619  ...   \n",
       "22712                                   46200.099585  ...   \n",
       "22713                                   44585.181334  ...   \n",
       "22714                                   44084.735708  ...   \n",
       "22715                                   44082.866565  ...   \n",
       "\n",
       "       rougher.input.feed_ag  rougher.input.feed_pb  rougher.input.feed_rate  \\\n",
       "0                   6.100378               2.284912               523.546326   \n",
       "1                   6.161113               2.266033               525.290581   \n",
       "2                   6.116455               2.159622               530.026610   \n",
       "3                   6.043309               2.037807               542.590390   \n",
       "4                   6.060915               1.786875               540.531893   \n",
       "...                      ...                    ...                      ...   \n",
       "22711               6.091855               4.617558               560.889077   \n",
       "22712               6.121323               4.144989               559.031805   \n",
       "22713               5.970515               4.020002               555.682872   \n",
       "22714               6.048130               3.902537               544.731687   \n",
       "22715               6.158718               3.875727               555.820208   \n",
       "\n",
       "       rougher.input.feed_size  rougher.input.feed_sol  rougher.input.feed_au  \\\n",
       "0                    55.486599               36.808594               6.486150   \n",
       "1                    57.278666               35.753385               6.478583   \n",
       "2                    57.510649               35.971630               6.362222   \n",
       "3                    57.792734               36.862241               6.118189   \n",
       "4                    56.047189               34.347666               5.663707   \n",
       "...                        ...                     ...                    ...   \n",
       "22711                85.718304               37.369774               5.335862   \n",
       "22712               119.499241               38.591551               4.838619   \n",
       "22713               122.262690               40.074026               4.525061   \n",
       "22714               123.742430               39.713906               4.362781   \n",
       "22715                94.544358               39.135119               4.365491   \n",
       "\n",
       "       rougher.output.concentrate_ag  rougher.output.concentrate_pb  \\\n",
       "0                          11.500771                       7.101074   \n",
       "1                          11.615865                       7.278807   \n",
       "2                          11.695753                       7.216833   \n",
       "3                          11.915047                       7.175616   \n",
       "4                          12.411054                       7.240205   \n",
       "...                              ...                            ...   \n",
       "22711                      11.124896                      10.984003   \n",
       "22712                      11.425983                      10.888213   \n",
       "22713                       8.523497                       8.955135   \n",
       "22714                      11.658799                      10.655377   \n",
       "22715                      11.959486                      10.702148   \n",
       "\n",
       "       rougher.output.concentrate_sol  rougher.output.concentrate_au  \n",
       "0                           28.029297                      19.793808  \n",
       "1                           28.067063                      20.050975  \n",
       "2                           27.454037                      19.737170  \n",
       "3                           27.341277                      19.320810  \n",
       "4                           27.041023                      19.216101  \n",
       "...                               ...                            ...  \n",
       "22711                       30.068876                      18.603550  \n",
       "22712                       29.783972                      18.441436  \n",
       "22713                       22.786467                      15.111231  \n",
       "22714                       29.052742                      17.834772  \n",
       "22715                       29.078235                      17.804134  \n",
       "\n",
       "[19439 rows x 22 columns]"
      ]
     },
     "execution_count": 27,
     "metadata": {},
     "output_type": "execute_result"
    }
   ],
   "source": [
    "# Select necessary columns\n",
    "conc_col = []\n",
    "\n",
    "for value in full.columns:\n",
    "    if \"concentrate\" in value:\n",
    "        conc_col.append(value)\n",
    "    if \"feed\" in value:\n",
    "        conc_col.append(value)\n",
    "        \n",
    "conc_df = full[conc_col]\n",
    "\n",
    "conc_df"
   ]
  },
  {
   "cell_type": "code",
   "execution_count": 28,
   "metadata": {
    "scrolled": false
   },
   "outputs": [
    {
     "data": {
      "text/html": [
       "<div>\n",
       "<style scoped>\n",
       "    .dataframe tbody tr th:only-of-type {\n",
       "        vertical-align: middle;\n",
       "    }\n",
       "\n",
       "    .dataframe tbody tr th {\n",
       "        vertical-align: top;\n",
       "    }\n",
       "\n",
       "    .dataframe thead th {\n",
       "        text-align: right;\n",
       "    }\n",
       "</style>\n",
       "<table border=\"1\" class=\"dataframe\">\n",
       "  <thead>\n",
       "    <tr style=\"text-align: right;\">\n",
       "      <th></th>\n",
       "      <th>final.output.concentrate_au</th>\n",
       "      <th>primary_cleaner.output.concentrate_au</th>\n",
       "      <th>rougher.calculation.sulfate_to_au_concentrate</th>\n",
       "      <th>rougher.calculation.floatbank10_sulfate_to_au_feed</th>\n",
       "      <th>rougher.calculation.floatbank11_sulfate_to_au_feed</th>\n",
       "      <th>rougher.input.feed_au</th>\n",
       "      <th>rougher.output.concentrate_au</th>\n",
       "    </tr>\n",
       "  </thead>\n",
       "  <tbody>\n",
       "    <tr>\n",
       "      <th>0</th>\n",
       "      <td>42.192020</td>\n",
       "      <td>34.174427</td>\n",
       "      <td>41885.707031</td>\n",
       "      <td>3481.779053</td>\n",
       "      <td>3520.337158</td>\n",
       "      <td>6.486150</td>\n",
       "      <td>19.793808</td>\n",
       "    </tr>\n",
       "    <tr>\n",
       "      <th>1</th>\n",
       "      <td>42.701629</td>\n",
       "      <td>34.118526</td>\n",
       "      <td>42050.861809</td>\n",
       "      <td>3498.370979</td>\n",
       "      <td>3489.981857</td>\n",
       "      <td>6.478583</td>\n",
       "      <td>20.050975</td>\n",
       "    </tr>\n",
       "    <tr>\n",
       "      <th>2</th>\n",
       "      <td>42.657501</td>\n",
       "      <td>33.969464</td>\n",
       "      <td>42018.101184</td>\n",
       "      <td>3495.348910</td>\n",
       "      <td>3502.359819</td>\n",
       "      <td>6.362222</td>\n",
       "      <td>19.737170</td>\n",
       "    </tr>\n",
       "    <tr>\n",
       "      <th>3</th>\n",
       "      <td>42.689819</td>\n",
       "      <td>28.260743</td>\n",
       "      <td>42029.447991</td>\n",
       "      <td>3498.578313</td>\n",
       "      <td>3499.162912</td>\n",
       "      <td>6.118189</td>\n",
       "      <td>19.320810</td>\n",
       "    </tr>\n",
       "    <tr>\n",
       "      <th>4</th>\n",
       "      <td>42.774141</td>\n",
       "      <td>33.044932</td>\n",
       "      <td>42125.354245</td>\n",
       "      <td>3494.800771</td>\n",
       "      <td>3506.679315</td>\n",
       "      <td>5.663707</td>\n",
       "      <td>19.216101</td>\n",
       "    </tr>\n",
       "    <tr>\n",
       "      <th>5</th>\n",
       "      <td>41.633678</td>\n",
       "      <td>32.070664</td>\n",
       "      <td>41973.280986</td>\n",
       "      <td>3501.916973</td>\n",
       "      <td>3499.527175</td>\n",
       "      <td>5.687168</td>\n",
       "      <td>18.950385</td>\n",
       "    </tr>\n",
       "    <tr>\n",
       "      <th>6</th>\n",
       "      <td>41.995316</td>\n",
       "      <td>33.184823</td>\n",
       "      <td>41956.468979</td>\n",
       "      <td>3497.427365</td>\n",
       "      <td>3506.352790</td>\n",
       "      <td>6.038436</td>\n",
       "      <td>19.319591</td>\n",
       "    </tr>\n",
       "    <tr>\n",
       "      <th>7</th>\n",
       "      <td>42.452727</td>\n",
       "      <td>34.027719</td>\n",
       "      <td>41812.416893</td>\n",
       "      <td>3497.275828</td>\n",
       "      <td>3501.000030</td>\n",
       "      <td>6.433854</td>\n",
       "      <td>19.507897</td>\n",
       "    </tr>\n",
       "    <tr>\n",
       "      <th>8</th>\n",
       "      <td>43.404078</td>\n",
       "      <td>34.964974</td>\n",
       "      <td>41905.757985</td>\n",
       "      <td>3498.332166</td>\n",
       "      <td>3498.120075</td>\n",
       "      <td>6.526612</td>\n",
       "      <td>19.789465</td>\n",
       "    </tr>\n",
       "    <tr>\n",
       "      <th>9</th>\n",
       "      <td>43.235220</td>\n",
       "      <td>34.826500</td>\n",
       "      <td>41882.126352</td>\n",
       "      <td>3499.915439</td>\n",
       "      <td>3519.952954</td>\n",
       "      <td>6.633002</td>\n",
       "      <td>19.497669</td>\n",
       "    </tr>\n",
       "  </tbody>\n",
       "</table>\n",
       "</div>"
      ],
      "text/plain": [
       "   final.output.concentrate_au  primary_cleaner.output.concentrate_au  \\\n",
       "0                    42.192020                              34.174427   \n",
       "1                    42.701629                              34.118526   \n",
       "2                    42.657501                              33.969464   \n",
       "3                    42.689819                              28.260743   \n",
       "4                    42.774141                              33.044932   \n",
       "5                    41.633678                              32.070664   \n",
       "6                    41.995316                              33.184823   \n",
       "7                    42.452727                              34.027719   \n",
       "8                    43.404078                              34.964974   \n",
       "9                    43.235220                              34.826500   \n",
       "\n",
       "   rougher.calculation.sulfate_to_au_concentrate  \\\n",
       "0                                   41885.707031   \n",
       "1                                   42050.861809   \n",
       "2                                   42018.101184   \n",
       "3                                   42029.447991   \n",
       "4                                   42125.354245   \n",
       "5                                   41973.280986   \n",
       "6                                   41956.468979   \n",
       "7                                   41812.416893   \n",
       "8                                   41905.757985   \n",
       "9                                   41882.126352   \n",
       "\n",
       "   rougher.calculation.floatbank10_sulfate_to_au_feed  \\\n",
       "0                                        3481.779053    \n",
       "1                                        3498.370979    \n",
       "2                                        3495.348910    \n",
       "3                                        3498.578313    \n",
       "4                                        3494.800771    \n",
       "5                                        3501.916973    \n",
       "6                                        3497.427365    \n",
       "7                                        3497.275828    \n",
       "8                                        3498.332166    \n",
       "9                                        3499.915439    \n",
       "\n",
       "   rougher.calculation.floatbank11_sulfate_to_au_feed  rougher.input.feed_au  \\\n",
       "0                                        3520.337158                6.486150   \n",
       "1                                        3489.981857                6.478583   \n",
       "2                                        3502.359819                6.362222   \n",
       "3                                        3499.162912                6.118189   \n",
       "4                                        3506.679315                5.663707   \n",
       "5                                        3499.527175                5.687168   \n",
       "6                                        3506.352790                6.038436   \n",
       "7                                        3501.000030                6.433854   \n",
       "8                                        3498.120075                6.526612   \n",
       "9                                        3519.952954                6.633002   \n",
       "\n",
       "   rougher.output.concentrate_au  \n",
       "0                      19.793808  \n",
       "1                      20.050975  \n",
       "2                      19.737170  \n",
       "3                      19.320810  \n",
       "4                      19.216101  \n",
       "5                      18.950385  \n",
       "6                      19.319591  \n",
       "7                      19.507897  \n",
       "8                      19.789465  \n",
       "9                      19.497669  "
      ]
     },
     "execution_count": 28,
     "metadata": {},
     "output_type": "execute_result"
    }
   ],
   "source": [
    "# Get columns for Au\n",
    "au_conc_col =[] \n",
    "\n",
    "for value in conc_df.columns:\n",
    "    if 'au' in value:\n",
    "        au_conc_col.append(value)\n",
    "\n",
    "au_conc = conc_df[au_conc_col]\n",
    "\n",
    "au_conc.head(10)"
   ]
  },
  {
   "cell_type": "code",
   "execution_count": 29,
   "metadata": {},
   "outputs": [
    {
     "data": {
      "image/png": "[encoded data removed]",
      "text/plain": [
       "<Figure size 432x288 with 4 Axes>"
      ]
     },
     "metadata": {
      "needs_background": "light"
     },
     "output_type": "display_data"
    }
   ],
   "source": [
    "# Plot Au histogram to compare stages\n",
    "au_conc.hist(['final.output.concentrate_au', 'primary_cleaner.output.concentrate_au', 'rougher.input.feed_au', 'rougher.output.concentrate_au'])\n",
    "plt.show()"
   ]
  },
  {
   "cell_type": "markdown",
   "metadata": {},
   "source": [
    "From the above histograms, we can see that the concentration of gold increases in each stage with the final output concentrate having the highest gold concentration of all the stages."
   ]
  },
  {
   "cell_type": "code",
   "execution_count": 30,
   "metadata": {},
   "outputs": [
    {
     "data": {
      "text/html": [
       "<div>\n",
       "<style scoped>\n",
       "    .dataframe tbody tr th:only-of-type {\n",
       "        vertical-align: middle;\n",
       "    }\n",
       "\n",
       "    .dataframe tbody tr th {\n",
       "        vertical-align: top;\n",
       "    }\n",
       "\n",
       "    .dataframe thead th {\n",
       "        text-align: right;\n",
       "    }\n",
       "</style>\n",
       "<table border=\"1\" class=\"dataframe\">\n",
       "  <thead>\n",
       "    <tr style=\"text-align: right;\">\n",
       "      <th></th>\n",
       "      <th>final.output.concentrate_ag</th>\n",
       "      <th>primary_cleaner.output.concentrate_ag</th>\n",
       "      <th>rougher.input.feed_ag</th>\n",
       "      <th>rougher.output.concentrate_ag</th>\n",
       "    </tr>\n",
       "  </thead>\n",
       "  <tbody>\n",
       "    <tr>\n",
       "      <th>0</th>\n",
       "      <td>6.055403</td>\n",
       "      <td>8.547551</td>\n",
       "      <td>6.100378</td>\n",
       "      <td>11.500771</td>\n",
       "    </tr>\n",
       "    <tr>\n",
       "      <th>1</th>\n",
       "      <td>6.029369</td>\n",
       "      <td>8.558743</td>\n",
       "      <td>6.161113</td>\n",
       "      <td>11.615865</td>\n",
       "    </tr>\n",
       "    <tr>\n",
       "      <th>2</th>\n",
       "      <td>6.055926</td>\n",
       "      <td>8.603505</td>\n",
       "      <td>6.116455</td>\n",
       "      <td>11.695753</td>\n",
       "    </tr>\n",
       "    <tr>\n",
       "      <th>3</th>\n",
       "      <td>6.047977</td>\n",
       "      <td>7.221879</td>\n",
       "      <td>6.043309</td>\n",
       "      <td>11.915047</td>\n",
       "    </tr>\n",
       "    <tr>\n",
       "      <th>4</th>\n",
       "      <td>6.148599</td>\n",
       "      <td>9.089428</td>\n",
       "      <td>6.060915</td>\n",
       "      <td>12.411054</td>\n",
       "    </tr>\n",
       "    <tr>\n",
       "      <th>5</th>\n",
       "      <td>6.482968</td>\n",
       "      <td>9.553724</td>\n",
       "      <td>5.801920</td>\n",
       "      <td>11.985584</td>\n",
       "    </tr>\n",
       "    <tr>\n",
       "      <th>6</th>\n",
       "      <td>6.533849</td>\n",
       "      <td>8.968869</td>\n",
       "      <td>6.056253</td>\n",
       "      <td>11.684307</td>\n",
       "    </tr>\n",
       "    <tr>\n",
       "      <th>7</th>\n",
       "      <td>6.130823</td>\n",
       "      <td>8.545238</td>\n",
       "      <td>5.955053</td>\n",
       "      <td>11.182624</td>\n",
       "    </tr>\n",
       "    <tr>\n",
       "      <th>8</th>\n",
       "      <td>5.834140</td>\n",
       "      <td>8.046686</td>\n",
       "      <td>5.878084</td>\n",
       "      <td>11.051323</td>\n",
       "    </tr>\n",
       "    <tr>\n",
       "      <th>9</th>\n",
       "      <td>5.687063</td>\n",
       "      <td>8.098985</td>\n",
       "      <td>5.908793</td>\n",
       "      <td>11.116297</td>\n",
       "    </tr>\n",
       "  </tbody>\n",
       "</table>\n",
       "</div>"
      ],
      "text/plain": [
       "   final.output.concentrate_ag  primary_cleaner.output.concentrate_ag  \\\n",
       "0                     6.055403                               8.547551   \n",
       "1                     6.029369                               8.558743   \n",
       "2                     6.055926                               8.603505   \n",
       "3                     6.047977                               7.221879   \n",
       "4                     6.148599                               9.089428   \n",
       "5                     6.482968                               9.553724   \n",
       "6                     6.533849                               8.968869   \n",
       "7                     6.130823                               8.545238   \n",
       "8                     5.834140                               8.046686   \n",
       "9                     5.687063                               8.098985   \n",
       "\n",
       "   rougher.input.feed_ag  rougher.output.concentrate_ag  \n",
       "0               6.100378                      11.500771  \n",
       "1               6.161113                      11.615865  \n",
       "2               6.116455                      11.695753  \n",
       "3               6.043309                      11.915047  \n",
       "4               6.060915                      12.411054  \n",
       "5               5.801920                      11.985584  \n",
       "6               6.056253                      11.684307  \n",
       "7               5.955053                      11.182624  \n",
       "8               5.878084                      11.051323  \n",
       "9               5.908793                      11.116297  "
      ]
     },
     "execution_count": 30,
     "metadata": {},
     "output_type": "execute_result"
    }
   ],
   "source": [
    "# Get columns for Ag\n",
    "ag_conc_col =[] \n",
    "\n",
    "for value in conc_df.columns:\n",
    "    if 'ag' in value:\n",
    "        ag_conc_col.append(value)\n",
    "\n",
    "ag_conc = conc_df[ag_conc_col]\n",
    "\n",
    "ag_conc.head(10)"
   ]
  },
  {
   "cell_type": "code",
   "execution_count": 31,
   "metadata": {
    "scrolled": true
   },
   "outputs": [
    {
     "data": {
      "image/png": "[encoded data removed]",
      "text/plain": [
       "<Figure size 432x288 with 4 Axes>"
      ]
     },
     "metadata": {
      "needs_background": "light"
     },
     "output_type": "display_data"
    }
   ],
   "source": [
    "# Plot Ag histogram to compare stages\n",
    "ag_conc.hist(ag_conc.columns)\n",
    "plt.show()"
   ]
  },
  {
   "cell_type": "markdown",
   "metadata": {},
   "source": [
    "From the above histograms, silver concentration seems to increase in the second stage (rougher.output.concentrate) but then falls in subsequent stages making the concentration in the final stage to be the lowest of all the stages."
   ]
  },
  {
   "cell_type": "code",
   "execution_count": 32,
   "metadata": {},
   "outputs": [
    {
     "data": {
      "text/html": [
       "<div>\n",
       "<style scoped>\n",
       "    .dataframe tbody tr th:only-of-type {\n",
       "        vertical-align: middle;\n",
       "    }\n",
       "\n",
       "    .dataframe tbody tr th {\n",
       "        vertical-align: top;\n",
       "    }\n",
       "\n",
       "    .dataframe thead th {\n",
       "        text-align: right;\n",
       "    }\n",
       "</style>\n",
       "<table border=\"1\" class=\"dataframe\">\n",
       "  <thead>\n",
       "    <tr style=\"text-align: right;\">\n",
       "      <th></th>\n",
       "      <th>final.output.concentrate_pb</th>\n",
       "      <th>primary_cleaner.output.concentrate_pb</th>\n",
       "      <th>rougher.input.feed_pb</th>\n",
       "      <th>rougher.output.concentrate_pb</th>\n",
       "    </tr>\n",
       "  </thead>\n",
       "  <tbody>\n",
       "    <tr>\n",
       "      <th>0</th>\n",
       "      <td>9.889648</td>\n",
       "      <td>10.389648</td>\n",
       "      <td>2.284912</td>\n",
       "      <td>7.101074</td>\n",
       "    </tr>\n",
       "    <tr>\n",
       "      <th>1</th>\n",
       "      <td>9.968944</td>\n",
       "      <td>10.497069</td>\n",
       "      <td>2.266033</td>\n",
       "      <td>7.278807</td>\n",
       "    </tr>\n",
       "    <tr>\n",
       "      <th>2</th>\n",
       "      <td>10.213995</td>\n",
       "      <td>10.354494</td>\n",
       "      <td>2.159622</td>\n",
       "      <td>7.216833</td>\n",
       "    </tr>\n",
       "    <tr>\n",
       "      <th>3</th>\n",
       "      <td>9.977019</td>\n",
       "      <td>8.496563</td>\n",
       "      <td>2.037807</td>\n",
       "      <td>7.175616</td>\n",
       "    </tr>\n",
       "    <tr>\n",
       "      <th>4</th>\n",
       "      <td>10.142511</td>\n",
       "      <td>9.986786</td>\n",
       "      <td>1.786875</td>\n",
       "      <td>7.240205</td>\n",
       "    </tr>\n",
       "    <tr>\n",
       "      <th>5</th>\n",
       "      <td>10.049416</td>\n",
       "      <td>9.816215</td>\n",
       "      <td>1.879351</td>\n",
       "      <td>7.121903</td>\n",
       "    </tr>\n",
       "    <tr>\n",
       "      <th>6</th>\n",
       "      <td>10.058141</td>\n",
       "      <td>10.081306</td>\n",
       "      <td>2.105501</td>\n",
       "      <td>7.304849</td>\n",
       "    </tr>\n",
       "    <tr>\n",
       "      <th>7</th>\n",
       "      <td>9.935481</td>\n",
       "      <td>10.224540</td>\n",
       "      <td>2.310432</td>\n",
       "      <td>7.258496</td>\n",
       "    </tr>\n",
       "    <tr>\n",
       "      <th>8</th>\n",
       "      <td>10.071156</td>\n",
       "      <td>10.500065</td>\n",
       "      <td>2.391713</td>\n",
       "      <td>7.380043</td>\n",
       "    </tr>\n",
       "    <tr>\n",
       "      <th>9</th>\n",
       "      <td>9.980404</td>\n",
       "      <td>10.525324</td>\n",
       "      <td>2.440899</td>\n",
       "      <td>7.297363</td>\n",
       "    </tr>\n",
       "  </tbody>\n",
       "</table>\n",
       "</div>"
      ],
      "text/plain": [
       "   final.output.concentrate_pb  primary_cleaner.output.concentrate_pb  \\\n",
       "0                     9.889648                              10.389648   \n",
       "1                     9.968944                              10.497069   \n",
       "2                    10.213995                              10.354494   \n",
       "3                     9.977019                               8.496563   \n",
       "4                    10.142511                               9.986786   \n",
       "5                    10.049416                               9.816215   \n",
       "6                    10.058141                              10.081306   \n",
       "7                     9.935481                              10.224540   \n",
       "8                    10.071156                              10.500065   \n",
       "9                     9.980404                              10.525324   \n",
       "\n",
       "   rougher.input.feed_pb  rougher.output.concentrate_pb  \n",
       "0               2.284912                       7.101074  \n",
       "1               2.266033                       7.278807  \n",
       "2               2.159622                       7.216833  \n",
       "3               2.037807                       7.175616  \n",
       "4               1.786875                       7.240205  \n",
       "5               1.879351                       7.121903  \n",
       "6               2.105501                       7.304849  \n",
       "7               2.310432                       7.258496  \n",
       "8               2.391713                       7.380043  \n",
       "9               2.440899                       7.297363  "
      ]
     },
     "execution_count": 32,
     "metadata": {},
     "output_type": "execute_result"
    }
   ],
   "source": [
    "# Get columns for Pb\n",
    "pb_conc_col =[] \n",
    "\n",
    "for value in conc_df.columns:\n",
    "    if 'pb' in value:\n",
    "        pb_conc_col.append(value)\n",
    "\n",
    "pb_conc = conc_df[pb_conc_col]\n",
    "\n",
    "pb_conc.head(10)"
   ]
  },
  {
   "cell_type": "code",
   "execution_count": 33,
   "metadata": {},
   "outputs": [
    {
     "data": {
      "image/png": "[encoded data removed]",
      "text/plain": [
       "<Figure size 432x288 with 4 Axes>"
      ]
     },
     "metadata": {
      "needs_background": "light"
     },
     "output_type": "display_data"
    }
   ],
   "source": [
    "# Plot Pb histogram to compare stages\n",
    "pb_conc.hist(pb_conc.columns)\n",
    "plt.show()"
   ]
  },
  {
   "cell_type": "markdown",
   "metadata": {},
   "source": [
    "From the above histograms we can see that the concentration of lead slowly increases across the first 3 stages and is highest in the third stage (primary_cleaner.output.concentrate) after wich there's a slight reduction in the final stage."
   ]
  },
  {
   "cell_type": "markdown",
   "metadata": {},
   "source": [
    "<div class=\"alert alert-danger\">\n",
    "<s><b>Reviewer's comment</b>\n",
    "\n",
    "Just printing a small sample of values doesn't really get us anywhere. Let's try summarizing the data in some way. One way is to plot a histogram for each stage of each metal (try putting the histograms of different stages of the same metal on one axis for easier comparison)\n",
    "\n",
    "</div>"
   ]
  },
  {
   "cell_type": "markdown",
   "metadata": {},
   "source": [
    "<div class=\"alert alert-danger\">\n",
    "<s><b>Reviewer's comment V2</b>\n",
    "\n",
    "Ok, what's the conclusion though?\n",
    "\n",
    "</div>"
   ]
  },
  {
   "cell_type": "markdown",
   "metadata": {},
   "source": [
    "<div class=\"alert alert-success\">\n",
    "<b>Reviewer's comment V3</b>\n",
    "\n",
    "Great!\n",
    "\n",
    "</div>"
   ]
  },
  {
   "cell_type": "markdown",
   "metadata": {},
   "source": [
    "### Compare the feed particle size distributions accross datasets"
   ]
  },
  {
   "cell_type": "code",
   "execution_count": 34,
   "metadata": {},
   "outputs": [
    {
     "name": "stdout",
     "output_type": "stream",
     "text": [
      "p-value: 4.658193921042471e-34\n",
      "We reject the null hypothesis\n"
     ]
    }
   ],
   "source": [
    "# Compare data from train and test datasets\n",
    "\n",
    "test_feed_size = new_test['rougher.input.feed_size'].dropna()\n",
    "train_feed_size = new_train['rougher.input.feed_size']\n",
    "\n",
    "alpha = 0.05 #critical significance level\n",
    "\n",
    "results = st.ttest_ind(test_feed_size, train_feed_size)\n",
    "\n",
    "print('p-value:', results.pvalue)\n",
    "\n",
    "if results.pvalue < alpha:\n",
    "    print(\"We reject the null hypothesis\")\n",
    "else:\n",
    "    print(\"We can't reject the null hypothesis\")"
   ]
  },
  {
   "cell_type": "code",
   "execution_count": 35,
   "metadata": {},
   "outputs": [
    {
     "data": {
      "image/png": "[encoded data removed]",
      "text/plain": [
       "<Figure size 432x288 with 1 Axes>"
      ]
     },
     "metadata": {
      "needs_background": "light"
     },
     "output_type": "display_data"
    },
    {
     "data": {
      "image/png": "[encoded data removed]",
      "text/plain": [
       "<Figure size 432x288 with 1 Axes>"
      ]
     },
     "metadata": {
      "needs_background": "light"
     },
     "output_type": "display_data"
    }
   ],
   "source": [
    "# Plot histogram for comparison\n",
    "new_test.hist('rougher.input.feed_size')\n",
    "plt.show()\n",
    "\n",
    "new_train.hist('rougher.input.feed_size', label='Train')\n",
    "plt.show()"
   ]
  },
  {
   "cell_type": "markdown",
   "metadata": {},
   "source": [
    "The variation in the values of the test and train datasets is very significant. Let's get a new sample from the full dataset."
   ]
  },
  {
   "cell_type": "markdown",
   "metadata": {},
   "source": [
    "<div class=\"alert alert-warning\">\n",
    "<b>Reviewer's comment</b>\n",
    "\n",
    "The t-test only tests whether the mean values of two samples are the same, not whether the distributions are similar or not. And even then, statistical significance only measures how likely the result is to be due to chance, but we need to think about the effect size to see if the difference is meaningful or not. It can very well be that there is tiny, but statistically significant difference (this is especially true for samples of large size).\n",
    "    \n",
    "By the way, we don't really need the train and test set distribution to be exactly the same (that would be very sad and it would make almost all machine learning models invalid). We just need the distributions to be approximately similar.\n",
    "    \n",
    "Could you please plot the histograms of the two samples here for comparison as well?\n",
    "\n",
    "</div>"
   ]
  },
  {
   "cell_type": "code",
   "execution_count": 36,
   "metadata": {},
   "outputs": [],
   "source": [
    "# Create new split\n",
    "re_train, re_test = train_test_split(full, test_size = 0.25, random_state=12345)"
   ]
  },
  {
   "cell_type": "code",
   "execution_count": 37,
   "metadata": {
    "scrolled": false
   },
   "outputs": [
    {
     "data": {
      "text/html": [
       "<div>\n",
       "<style scoped>\n",
       "    .dataframe tbody tr th:only-of-type {\n",
       "        vertical-align: middle;\n",
       "    }\n",
       "\n",
       "    .dataframe tbody tr th {\n",
       "        vertical-align: top;\n",
       "    }\n",
       "\n",
       "    .dataframe thead th {\n",
       "        text-align: right;\n",
       "    }\n",
       "</style>\n",
       "<table border=\"1\" class=\"dataframe\">\n",
       "  <thead>\n",
       "    <tr style=\"text-align: right;\">\n",
       "      <th></th>\n",
       "      <th>date</th>\n",
       "      <th>final.output.concentrate_ag</th>\n",
       "      <th>final.output.concentrate_pb</th>\n",
       "      <th>final.output.concentrate_sol</th>\n",
       "      <th>final.output.concentrate_au</th>\n",
       "      <th>final.output.recovery</th>\n",
       "      <th>final.output.tail_ag</th>\n",
       "      <th>final.output.tail_pb</th>\n",
       "      <th>final.output.tail_sol</th>\n",
       "      <th>final.output.tail_au</th>\n",
       "      <th>...</th>\n",
       "      <th>secondary_cleaner.state.floatbank4_a_air</th>\n",
       "      <th>secondary_cleaner.state.floatbank4_a_level</th>\n",
       "      <th>secondary_cleaner.state.floatbank4_b_air</th>\n",
       "      <th>secondary_cleaner.state.floatbank4_b_level</th>\n",
       "      <th>secondary_cleaner.state.floatbank5_a_air</th>\n",
       "      <th>secondary_cleaner.state.floatbank5_a_level</th>\n",
       "      <th>secondary_cleaner.state.floatbank5_b_air</th>\n",
       "      <th>secondary_cleaner.state.floatbank5_b_level</th>\n",
       "      <th>secondary_cleaner.state.floatbank6_a_air</th>\n",
       "      <th>secondary_cleaner.state.floatbank6_a_level</th>\n",
       "    </tr>\n",
       "  </thead>\n",
       "  <tbody>\n",
       "    <tr>\n",
       "      <th>9787</th>\n",
       "      <td>2017-02-25 18:59:59</td>\n",
       "      <td>4.133409</td>\n",
       "      <td>9.939991</td>\n",
       "      <td>14.611599</td>\n",
       "      <td>47.449512</td>\n",
       "      <td>70.829722</td>\n",
       "      <td>11.919113</td>\n",
       "      <td>4.925532</td>\n",
       "      <td>9.511431</td>\n",
       "      <td>4.299428</td>\n",
       "      <td>...</td>\n",
       "      <td>25.017484</td>\n",
       "      <td>-399.631804</td>\n",
       "      <td>22.929951</td>\n",
       "      <td>-400.079944</td>\n",
       "      <td>23.007578</td>\n",
       "      <td>-448.820360</td>\n",
       "      <td>20.011684</td>\n",
       "      <td>-449.770851</td>\n",
       "      <td>25.030925</td>\n",
       "      <td>-499.755404</td>\n",
       "    </tr>\n",
       "    <tr>\n",
       "      <th>8405</th>\n",
       "      <td>2016-12-30 04:59:59</td>\n",
       "      <td>6.264912</td>\n",
       "      <td>8.636036</td>\n",
       "      <td>12.879876</td>\n",
       "      <td>45.381330</td>\n",
       "      <td>61.906803</td>\n",
       "      <td>10.861991</td>\n",
       "      <td>2.762691</td>\n",
       "      <td>9.370230</td>\n",
       "      <td>4.026861</td>\n",
       "      <td>...</td>\n",
       "      <td>17.024740</td>\n",
       "      <td>-499.992757</td>\n",
       "      <td>14.962641</td>\n",
       "      <td>-500.030556</td>\n",
       "      <td>15.014538</td>\n",
       "      <td>-500.906852</td>\n",
       "      <td>12.021239</td>\n",
       "      <td>-500.206709</td>\n",
       "      <td>21.035960</td>\n",
       "      <td>-500.995688</td>\n",
       "    </tr>\n",
       "    <tr>\n",
       "      <th>10994</th>\n",
       "      <td>2017-04-17 01:59:59</td>\n",
       "      <td>5.429641</td>\n",
       "      <td>11.083504</td>\n",
       "      <td>9.442614</td>\n",
       "      <td>43.509390</td>\n",
       "      <td>69.201066</td>\n",
       "      <td>9.197867</td>\n",
       "      <td>2.794044</td>\n",
       "      <td>11.602388</td>\n",
       "      <td>2.507238</td>\n",
       "      <td>...</td>\n",
       "      <td>24.969971</td>\n",
       "      <td>-398.515818</td>\n",
       "      <td>22.918592</td>\n",
       "      <td>-399.737900</td>\n",
       "      <td>26.006475</td>\n",
       "      <td>-449.238549</td>\n",
       "      <td>23.974494</td>\n",
       "      <td>-450.086212</td>\n",
       "      <td>30.013152</td>\n",
       "      <td>-499.964897</td>\n",
       "    </tr>\n",
       "    <tr>\n",
       "      <th>8317</th>\n",
       "      <td>2016-12-26 12:59:59</td>\n",
       "      <td>4.484523</td>\n",
       "      <td>8.944700</td>\n",
       "      <td>12.880172</td>\n",
       "      <td>45.914473</td>\n",
       "      <td>75.355033</td>\n",
       "      <td>11.186340</td>\n",
       "      <td>3.728393</td>\n",
       "      <td>8.919303</td>\n",
       "      <td>2.947809</td>\n",
       "      <td>...</td>\n",
       "      <td>16.994538</td>\n",
       "      <td>-501.067910</td>\n",
       "      <td>15.054807</td>\n",
       "      <td>-500.639201</td>\n",
       "      <td>12.533880</td>\n",
       "      <td>-501.545827</td>\n",
       "      <td>11.979390</td>\n",
       "      <td>-500.334673</td>\n",
       "      <td>21.006130</td>\n",
       "      <td>-500.347922</td>\n",
       "    </tr>\n",
       "    <tr>\n",
       "      <th>13189</th>\n",
       "      <td>2017-07-17 12:59:59</td>\n",
       "      <td>3.274139</td>\n",
       "      <td>9.560047</td>\n",
       "      <td>10.188429</td>\n",
       "      <td>48.116029</td>\n",
       "      <td>52.833870</td>\n",
       "      <td>7.336521</td>\n",
       "      <td>2.945864</td>\n",
       "      <td>10.973701</td>\n",
       "      <td>3.166949</td>\n",
       "      <td>...</td>\n",
       "      <td>21.991757</td>\n",
       "      <td>-498.737394</td>\n",
       "      <td>14.973811</td>\n",
       "      <td>-379.379200</td>\n",
       "      <td>17.967770</td>\n",
       "      <td>-499.513914</td>\n",
       "      <td>13.004322</td>\n",
       "      <td>-500.119033</td>\n",
       "      <td>15.016232</td>\n",
       "      <td>-499.187401</td>\n",
       "    </tr>\n",
       "    <tr>\n",
       "      <th>...</th>\n",
       "      <td>...</td>\n",
       "      <td>...</td>\n",
       "      <td>...</td>\n",
       "      <td>...</td>\n",
       "      <td>...</td>\n",
       "      <td>...</td>\n",
       "      <td>...</td>\n",
       "      <td>...</td>\n",
       "      <td>...</td>\n",
       "      <td>...</td>\n",
       "      <td>...</td>\n",
       "      <td>...</td>\n",
       "      <td>...</td>\n",
       "      <td>...</td>\n",
       "      <td>...</td>\n",
       "      <td>...</td>\n",
       "      <td>...</td>\n",
       "      <td>...</td>\n",
       "      <td>...</td>\n",
       "      <td>...</td>\n",
       "      <td>...</td>\n",
       "    </tr>\n",
       "    <tr>\n",
       "      <th>19750</th>\n",
       "      <td>2018-04-16 21:59:59</td>\n",
       "      <td>4.987400</td>\n",
       "      <td>7.850656</td>\n",
       "      <td>6.932919</td>\n",
       "      <td>41.786578</td>\n",
       "      <td>71.910457</td>\n",
       "      <td>13.528813</td>\n",
       "      <td>2.060883</td>\n",
       "      <td>5.807828</td>\n",
       "      <td>2.232067</td>\n",
       "      <td>...</td>\n",
       "      <td>26.955688</td>\n",
       "      <td>-496.902935</td>\n",
       "      <td>20.100861</td>\n",
       "      <td>-499.618298</td>\n",
       "      <td>17.982623</td>\n",
       "      <td>-498.841303</td>\n",
       "      <td>11.988487</td>\n",
       "      <td>-499.610504</td>\n",
       "      <td>14.986523</td>\n",
       "      <td>-498.471014</td>\n",
       "    </tr>\n",
       "    <tr>\n",
       "      <th>4884</th>\n",
       "      <td>2016-08-05 11:59:59</td>\n",
       "      <td>5.445556</td>\n",
       "      <td>8.952285</td>\n",
       "      <td>6.411172</td>\n",
       "      <td>45.340116</td>\n",
       "      <td>50.326708</td>\n",
       "      <td>9.221758</td>\n",
       "      <td>2.927331</td>\n",
       "      <td>1.894110</td>\n",
       "      <td>4.049517</td>\n",
       "      <td>...</td>\n",
       "      <td>20.004660</td>\n",
       "      <td>-399.328475</td>\n",
       "      <td>9.986119</td>\n",
       "      <td>-399.854293</td>\n",
       "      <td>9.292217</td>\n",
       "      <td>-399.778459</td>\n",
       "      <td>4.976880</td>\n",
       "      <td>-399.977882</td>\n",
       "      <td>23.027222</td>\n",
       "      <td>-499.469003</td>\n",
       "    </tr>\n",
       "    <tr>\n",
       "      <th>13546</th>\n",
       "      <td>2017-08-01 09:59:59</td>\n",
       "      <td>3.912146</td>\n",
       "      <td>10.212409</td>\n",
       "      <td>7.426972</td>\n",
       "      <td>46.123212</td>\n",
       "      <td>60.823750</td>\n",
       "      <td>8.300627</td>\n",
       "      <td>3.721006</td>\n",
       "      <td>10.643486</td>\n",
       "      <td>3.619017</td>\n",
       "      <td>...</td>\n",
       "      <td>12.982780</td>\n",
       "      <td>-500.914576</td>\n",
       "      <td>9.996514</td>\n",
       "      <td>-400.050606</td>\n",
       "      <td>10.986925</td>\n",
       "      <td>-500.529286</td>\n",
       "      <td>9.025608</td>\n",
       "      <td>-499.893300</td>\n",
       "      <td>12.006470</td>\n",
       "      <td>-500.051946</td>\n",
       "    </tr>\n",
       "    <tr>\n",
       "      <th>2750</th>\n",
       "      <td>2016-05-08 13:59:59</td>\n",
       "      <td>4.503115</td>\n",
       "      <td>9.095947</td>\n",
       "      <td>8.726863</td>\n",
       "      <td>46.831838</td>\n",
       "      <td>52.673450</td>\n",
       "      <td>7.867313</td>\n",
       "      <td>2.403803</td>\n",
       "      <td>11.356413</td>\n",
       "      <td>3.773137</td>\n",
       "      <td>...</td>\n",
       "      <td>14.063243</td>\n",
       "      <td>-500.117426</td>\n",
       "      <td>11.940926</td>\n",
       "      <td>-500.908091</td>\n",
       "      <td>11.034758</td>\n",
       "      <td>-497.991379</td>\n",
       "      <td>5.911308</td>\n",
       "      <td>-499.581526</td>\n",
       "      <td>20.009024</td>\n",
       "      <td>-499.185014</td>\n",
       "    </tr>\n",
       "    <tr>\n",
       "      <th>13608</th>\n",
       "      <td>2017-08-03 23:59:59</td>\n",
       "      <td>3.885522</td>\n",
       "      <td>11.860754</td>\n",
       "      <td>7.019332</td>\n",
       "      <td>46.394094</td>\n",
       "      <td>58.661882</td>\n",
       "      <td>7.423151</td>\n",
       "      <td>3.474655</td>\n",
       "      <td>11.468060</td>\n",
       "      <td>3.230754</td>\n",
       "      <td>...</td>\n",
       "      <td>12.994391</td>\n",
       "      <td>-501.173025</td>\n",
       "      <td>9.961757</td>\n",
       "      <td>-399.905774</td>\n",
       "      <td>11.016845</td>\n",
       "      <td>-500.603439</td>\n",
       "      <td>9.013287</td>\n",
       "      <td>-500.185889</td>\n",
       "      <td>11.983234</td>\n",
       "      <td>-499.767206</td>\n",
       "    </tr>\n",
       "  </tbody>\n",
       "</table>\n",
       "<p>14579 rows × 87 columns</p>\n",
       "</div>"
      ],
      "text/plain": [
       "                      date  final.output.concentrate_ag  \\\n",
       "9787   2017-02-25 18:59:59                     4.133409   \n",
       "8405   2016-12-30 04:59:59                     6.264912   \n",
       "10994  2017-04-17 01:59:59                     5.429641   \n",
       "8317   2016-12-26 12:59:59                     4.484523   \n",
       "13189  2017-07-17 12:59:59                     3.274139   \n",
       "...                    ...                          ...   \n",
       "19750  2018-04-16 21:59:59                     4.987400   \n",
       "4884   2016-08-05 11:59:59                     5.445556   \n",
       "13546  2017-08-01 09:59:59                     3.912146   \n",
       "2750   2016-05-08 13:59:59                     4.503115   \n",
       "13608  2017-08-03 23:59:59                     3.885522   \n",
       "\n",
       "       final.output.concentrate_pb  final.output.concentrate_sol  \\\n",
       "9787                      9.939991                     14.611599   \n",
       "8405                      8.636036                     12.879876   \n",
       "10994                    11.083504                      9.442614   \n",
       "8317                      8.944700                     12.880172   \n",
       "13189                     9.560047                     10.188429   \n",
       "...                            ...                           ...   \n",
       "19750                     7.850656                      6.932919   \n",
       "4884                      8.952285                      6.411172   \n",
       "13546                    10.212409                      7.426972   \n",
       "2750                      9.095947                      8.726863   \n",
       "13608                    11.860754                      7.019332   \n",
       "\n",
       "       final.output.concentrate_au  final.output.recovery  \\\n",
       "9787                     47.449512              70.829722   \n",
       "8405                     45.381330              61.906803   \n",
       "10994                    43.509390              69.201066   \n",
       "8317                     45.914473              75.355033   \n",
       "13189                    48.116029              52.833870   \n",
       "...                            ...                    ...   \n",
       "19750                    41.786578              71.910457   \n",
       "4884                     45.340116              50.326708   \n",
       "13546                    46.123212              60.823750   \n",
       "2750                     46.831838              52.673450   \n",
       "13608                    46.394094              58.661882   \n",
       "\n",
       "       final.output.tail_ag  final.output.tail_pb  final.output.tail_sol  \\\n",
       "9787              11.919113              4.925532               9.511431   \n",
       "8405              10.861991              2.762691               9.370230   \n",
       "10994              9.197867              2.794044              11.602388   \n",
       "8317              11.186340              3.728393               8.919303   \n",
       "13189              7.336521              2.945864              10.973701   \n",
       "...                     ...                   ...                    ...   \n",
       "19750             13.528813              2.060883               5.807828   \n",
       "4884               9.221758              2.927331               1.894110   \n",
       "13546              8.300627              3.721006              10.643486   \n",
       "2750               7.867313              2.403803              11.356413   \n",
       "13608              7.423151              3.474655              11.468060   \n",
       "\n",
       "       final.output.tail_au  ...  secondary_cleaner.state.floatbank4_a_air  \\\n",
       "9787               4.299428  ...                                 25.017484   \n",
       "8405               4.026861  ...                                 17.024740   \n",
       "10994              2.507238  ...                                 24.969971   \n",
       "8317               2.947809  ...                                 16.994538   \n",
       "13189              3.166949  ...                                 21.991757   \n",
       "...                     ...  ...                                       ...   \n",
       "19750              2.232067  ...                                 26.955688   \n",
       "4884               4.049517  ...                                 20.004660   \n",
       "13546              3.619017  ...                                 12.982780   \n",
       "2750               3.773137  ...                                 14.063243   \n",
       "13608              3.230754  ...                                 12.994391   \n",
       "\n",
       "       secondary_cleaner.state.floatbank4_a_level  \\\n",
       "9787                                  -399.631804   \n",
       "8405                                  -499.992757   \n",
       "10994                                 -398.515818   \n",
       "8317                                  -501.067910   \n",
       "13189                                 -498.737394   \n",
       "...                                           ...   \n",
       "19750                                 -496.902935   \n",
       "4884                                  -399.328475   \n",
       "13546                                 -500.914576   \n",
       "2750                                  -500.117426   \n",
       "13608                                 -501.173025   \n",
       "\n",
       "       secondary_cleaner.state.floatbank4_b_air  \\\n",
       "9787                                  22.929951   \n",
       "8405                                  14.962641   \n",
       "10994                                 22.918592   \n",
       "8317                                  15.054807   \n",
       "13189                                 14.973811   \n",
       "...                                         ...   \n",
       "19750                                 20.100861   \n",
       "4884                                   9.986119   \n",
       "13546                                  9.996514   \n",
       "2750                                  11.940926   \n",
       "13608                                  9.961757   \n",
       "\n",
       "       secondary_cleaner.state.floatbank4_b_level  \\\n",
       "9787                                  -400.079944   \n",
       "8405                                  -500.030556   \n",
       "10994                                 -399.737900   \n",
       "8317                                  -500.639201   \n",
       "13189                                 -379.379200   \n",
       "...                                           ...   \n",
       "19750                                 -499.618298   \n",
       "4884                                  -399.854293   \n",
       "13546                                 -400.050606   \n",
       "2750                                  -500.908091   \n",
       "13608                                 -399.905774   \n",
       "\n",
       "       secondary_cleaner.state.floatbank5_a_air  \\\n",
       "9787                                  23.007578   \n",
       "8405                                  15.014538   \n",
       "10994                                 26.006475   \n",
       "8317                                  12.533880   \n",
       "13189                                 17.967770   \n",
       "...                                         ...   \n",
       "19750                                 17.982623   \n",
       "4884                                   9.292217   \n",
       "13546                                 10.986925   \n",
       "2750                                  11.034758   \n",
       "13608                                 11.016845   \n",
       "\n",
       "       secondary_cleaner.state.floatbank5_a_level  \\\n",
       "9787                                  -448.820360   \n",
       "8405                                  -500.906852   \n",
       "10994                                 -449.238549   \n",
       "8317                                  -501.545827   \n",
       "13189                                 -499.513914   \n",
       "...                                           ...   \n",
       "19750                                 -498.841303   \n",
       "4884                                  -399.778459   \n",
       "13546                                 -500.529286   \n",
       "2750                                  -497.991379   \n",
       "13608                                 -500.603439   \n",
       "\n",
       "       secondary_cleaner.state.floatbank5_b_air  \\\n",
       "9787                                  20.011684   \n",
       "8405                                  12.021239   \n",
       "10994                                 23.974494   \n",
       "8317                                  11.979390   \n",
       "13189                                 13.004322   \n",
       "...                                         ...   \n",
       "19750                                 11.988487   \n",
       "4884                                   4.976880   \n",
       "13546                                  9.025608   \n",
       "2750                                   5.911308   \n",
       "13608                                  9.013287   \n",
       "\n",
       "       secondary_cleaner.state.floatbank5_b_level  \\\n",
       "9787                                  -449.770851   \n",
       "8405                                  -500.206709   \n",
       "10994                                 -450.086212   \n",
       "8317                                  -500.334673   \n",
       "13189                                 -500.119033   \n",
       "...                                           ...   \n",
       "19750                                 -499.610504   \n",
       "4884                                  -399.977882   \n",
       "13546                                 -499.893300   \n",
       "2750                                  -499.581526   \n",
       "13608                                 -500.185889   \n",
       "\n",
       "       secondary_cleaner.state.floatbank6_a_air  \\\n",
       "9787                                  25.030925   \n",
       "8405                                  21.035960   \n",
       "10994                                 30.013152   \n",
       "8317                                  21.006130   \n",
       "13189                                 15.016232   \n",
       "...                                         ...   \n",
       "19750                                 14.986523   \n",
       "4884                                  23.027222   \n",
       "13546                                 12.006470   \n",
       "2750                                  20.009024   \n",
       "13608                                 11.983234   \n",
       "\n",
       "       secondary_cleaner.state.floatbank6_a_level  \n",
       "9787                                  -499.755404  \n",
       "8405                                  -500.995688  \n",
       "10994                                 -499.964897  \n",
       "8317                                  -500.347922  \n",
       "13189                                 -499.187401  \n",
       "...                                           ...  \n",
       "19750                                 -498.471014  \n",
       "4884                                  -499.469003  \n",
       "13546                                 -500.051946  \n",
       "2750                                  -499.185014  \n",
       "13608                                 -499.767206  \n",
       "\n",
       "[14579 rows x 87 columns]"
      ]
     },
     "execution_count": 37,
     "metadata": {},
     "output_type": "execute_result"
    }
   ],
   "source": [
    "re_train"
   ]
  },
  {
   "cell_type": "code",
   "execution_count": 38,
   "metadata": {
    "scrolled": false
   },
   "outputs": [
    {
     "data": {
      "text/html": [
       "<div>\n",
       "<style scoped>\n",
       "    .dataframe tbody tr th:only-of-type {\n",
       "        vertical-align: middle;\n",
       "    }\n",
       "\n",
       "    .dataframe tbody tr th {\n",
       "        vertical-align: top;\n",
       "    }\n",
       "\n",
       "    .dataframe thead th {\n",
       "        text-align: right;\n",
       "    }\n",
       "</style>\n",
       "<table border=\"1\" class=\"dataframe\">\n",
       "  <thead>\n",
       "    <tr style=\"text-align: right;\">\n",
       "      <th></th>\n",
       "      <th>date</th>\n",
       "      <th>final.output.concentrate_ag</th>\n",
       "      <th>final.output.concentrate_pb</th>\n",
       "      <th>final.output.concentrate_sol</th>\n",
       "      <th>final.output.concentrate_au</th>\n",
       "      <th>final.output.recovery</th>\n",
       "      <th>final.output.tail_ag</th>\n",
       "      <th>final.output.tail_pb</th>\n",
       "      <th>final.output.tail_sol</th>\n",
       "      <th>final.output.tail_au</th>\n",
       "      <th>...</th>\n",
       "      <th>secondary_cleaner.state.floatbank4_a_air</th>\n",
       "      <th>secondary_cleaner.state.floatbank4_a_level</th>\n",
       "      <th>secondary_cleaner.state.floatbank4_b_air</th>\n",
       "      <th>secondary_cleaner.state.floatbank4_b_level</th>\n",
       "      <th>secondary_cleaner.state.floatbank5_a_air</th>\n",
       "      <th>secondary_cleaner.state.floatbank5_a_level</th>\n",
       "      <th>secondary_cleaner.state.floatbank5_b_air</th>\n",
       "      <th>secondary_cleaner.state.floatbank5_b_level</th>\n",
       "      <th>secondary_cleaner.state.floatbank6_a_air</th>\n",
       "      <th>secondary_cleaner.state.floatbank6_a_level</th>\n",
       "    </tr>\n",
       "  </thead>\n",
       "  <tbody>\n",
       "    <tr>\n",
       "      <th>6327</th>\n",
       "      <td>2016-10-04 14:59:59</td>\n",
       "      <td>6.794600</td>\n",
       "      <td>9.054957</td>\n",
       "      <td>16.004123</td>\n",
       "      <td>43.648261</td>\n",
       "      <td>69.972633</td>\n",
       "      <td>11.069316</td>\n",
       "      <td>3.055067</td>\n",
       "      <td>9.719336</td>\n",
       "      <td>3.595190</td>\n",
       "      <td>...</td>\n",
       "      <td>14.028001</td>\n",
       "      <td>-498.910216</td>\n",
       "      <td>13.032441</td>\n",
       "      <td>-500.358286</td>\n",
       "      <td>10.143363</td>\n",
       "      <td>-499.314485</td>\n",
       "      <td>8.147565</td>\n",
       "      <td>-499.650507</td>\n",
       "      <td>22.997377</td>\n",
       "      <td>-499.900959</td>\n",
       "    </tr>\n",
       "    <tr>\n",
       "      <th>14686</th>\n",
       "      <td>2017-09-17 21:59:59</td>\n",
       "      <td>5.110333</td>\n",
       "      <td>11.114576</td>\n",
       "      <td>7.572588</td>\n",
       "      <td>44.725173</td>\n",
       "      <td>69.415110</td>\n",
       "      <td>7.484338</td>\n",
       "      <td>2.814891</td>\n",
       "      <td>12.347273</td>\n",
       "      <td>2.740724</td>\n",
       "      <td>...</td>\n",
       "      <td>12.005280</td>\n",
       "      <td>-502.249154</td>\n",
       "      <td>8.916441</td>\n",
       "      <td>-401.636419</td>\n",
       "      <td>9.017671</td>\n",
       "      <td>-501.322562</td>\n",
       "      <td>7.018271</td>\n",
       "      <td>-500.837070</td>\n",
       "      <td>10.039155</td>\n",
       "      <td>-503.676153</td>\n",
       "    </tr>\n",
       "    <tr>\n",
       "      <th>5151</th>\n",
       "      <td>2016-08-16 14:59:59</td>\n",
       "      <td>6.441173</td>\n",
       "      <td>9.064088</td>\n",
       "      <td>11.273021</td>\n",
       "      <td>43.482633</td>\n",
       "      <td>74.092709</td>\n",
       "      <td>9.838359</td>\n",
       "      <td>2.748540</td>\n",
       "      <td>9.996859</td>\n",
       "      <td>3.466387</td>\n",
       "      <td>...</td>\n",
       "      <td>17.880962</td>\n",
       "      <td>-399.457823</td>\n",
       "      <td>10.029009</td>\n",
       "      <td>-400.402439</td>\n",
       "      <td>14.936650</td>\n",
       "      <td>-395.346330</td>\n",
       "      <td>4.959238</td>\n",
       "      <td>-400.204035</td>\n",
       "      <td>22.990928</td>\n",
       "      <td>-496.222805</td>\n",
       "    </tr>\n",
       "    <tr>\n",
       "      <th>618</th>\n",
       "      <td>2016-02-09 18:00:00</td>\n",
       "      <td>4.993571</td>\n",
       "      <td>11.321386</td>\n",
       "      <td>5.691245</td>\n",
       "      <td>43.493480</td>\n",
       "      <td>63.580614</td>\n",
       "      <td>10.676063</td>\n",
       "      <td>1.487393</td>\n",
       "      <td>18.834149</td>\n",
       "      <td>2.309034</td>\n",
       "      <td>...</td>\n",
       "      <td>20.016661</td>\n",
       "      <td>-496.383512</td>\n",
       "      <td>15.964599</td>\n",
       "      <td>-498.280089</td>\n",
       "      <td>18.051289</td>\n",
       "      <td>-500.899548</td>\n",
       "      <td>15.992132</td>\n",
       "      <td>-500.148410</td>\n",
       "      <td>24.973915</td>\n",
       "      <td>-499.066802</td>\n",
       "    </tr>\n",
       "    <tr>\n",
       "      <th>3939</th>\n",
       "      <td>2016-06-27 02:59:59</td>\n",
       "      <td>5.355851</td>\n",
       "      <td>7.035347</td>\n",
       "      <td>8.940517</td>\n",
       "      <td>47.588582</td>\n",
       "      <td>63.054522</td>\n",
       "      <td>9.120233</td>\n",
       "      <td>1.494015</td>\n",
       "      <td>13.932352</td>\n",
       "      <td>3.027215</td>\n",
       "      <td>...</td>\n",
       "      <td>17.025755</td>\n",
       "      <td>-499.709920</td>\n",
       "      <td>8.866634</td>\n",
       "      <td>-500.210883</td>\n",
       "      <td>16.966829</td>\n",
       "      <td>-499.891129</td>\n",
       "      <td>7.921560</td>\n",
       "      <td>-500.585852</td>\n",
       "      <td>24.985645</td>\n",
       "      <td>-501.155498</td>\n",
       "    </tr>\n",
       "    <tr>\n",
       "      <th>...</th>\n",
       "      <td>...</td>\n",
       "      <td>...</td>\n",
       "      <td>...</td>\n",
       "      <td>...</td>\n",
       "      <td>...</td>\n",
       "      <td>...</td>\n",
       "      <td>...</td>\n",
       "      <td>...</td>\n",
       "      <td>...</td>\n",
       "      <td>...</td>\n",
       "      <td>...</td>\n",
       "      <td>...</td>\n",
       "      <td>...</td>\n",
       "      <td>...</td>\n",
       "      <td>...</td>\n",
       "      <td>...</td>\n",
       "      <td>...</td>\n",
       "      <td>...</td>\n",
       "      <td>...</td>\n",
       "      <td>...</td>\n",
       "      <td>...</td>\n",
       "    </tr>\n",
       "    <tr>\n",
       "      <th>3034</th>\n",
       "      <td>2016-05-20 09:59:59</td>\n",
       "      <td>5.690474</td>\n",
       "      <td>10.340794</td>\n",
       "      <td>12.371678</td>\n",
       "      <td>42.561367</td>\n",
       "      <td>65.473226</td>\n",
       "      <td>12.542838</td>\n",
       "      <td>3.520653</td>\n",
       "      <td>11.668610</td>\n",
       "      <td>4.065586</td>\n",
       "      <td>...</td>\n",
       "      <td>10.005662</td>\n",
       "      <td>-499.882557</td>\n",
       "      <td>8.023613</td>\n",
       "      <td>-499.918554</td>\n",
       "      <td>8.982407</td>\n",
       "      <td>-549.985711</td>\n",
       "      <td>5.980463</td>\n",
       "      <td>-550.089219</td>\n",
       "      <td>19.995940</td>\n",
       "      <td>-599.796366</td>\n",
       "    </tr>\n",
       "    <tr>\n",
       "      <th>1665</th>\n",
       "      <td>2016-03-24 09:00:00</td>\n",
       "      <td>4.952163</td>\n",
       "      <td>11.097677</td>\n",
       "      <td>NaN</td>\n",
       "      <td>42.837984</td>\n",
       "      <td>52.733484</td>\n",
       "      <td>10.958410</td>\n",
       "      <td>1.952160</td>\n",
       "      <td>15.732565</td>\n",
       "      <td>3.713153</td>\n",
       "      <td>...</td>\n",
       "      <td>11.983186</td>\n",
       "      <td>-500.005223</td>\n",
       "      <td>12.055624</td>\n",
       "      <td>-500.119869</td>\n",
       "      <td>12.031357</td>\n",
       "      <td>-499.811920</td>\n",
       "      <td>9.979719</td>\n",
       "      <td>-500.142628</td>\n",
       "      <td>19.985365</td>\n",
       "      <td>-499.934784</td>\n",
       "    </tr>\n",
       "    <tr>\n",
       "      <th>3832</th>\n",
       "      <td>2016-06-22 15:59:59</td>\n",
       "      <td>5.790349</td>\n",
       "      <td>9.564467</td>\n",
       "      <td>8.613087</td>\n",
       "      <td>43.601361</td>\n",
       "      <td>69.144070</td>\n",
       "      <td>8.485743</td>\n",
       "      <td>2.090250</td>\n",
       "      <td>11.116733</td>\n",
       "      <td>2.516792</td>\n",
       "      <td>...</td>\n",
       "      <td>15.948998</td>\n",
       "      <td>-498.009701</td>\n",
       "      <td>7.921544</td>\n",
       "      <td>-405.122494</td>\n",
       "      <td>15.949495</td>\n",
       "      <td>-499.088473</td>\n",
       "      <td>6.982833</td>\n",
       "      <td>-499.477869</td>\n",
       "      <td>25.022182</td>\n",
       "      <td>-500.484111</td>\n",
       "    </tr>\n",
       "    <tr>\n",
       "      <th>16423</th>\n",
       "      <td>2017-11-29 06:59:59</td>\n",
       "      <td>4.817210</td>\n",
       "      <td>9.004010</td>\n",
       "      <td>9.086014</td>\n",
       "      <td>48.622543</td>\n",
       "      <td>56.244179</td>\n",
       "      <td>11.845188</td>\n",
       "      <td>3.597366</td>\n",
       "      <td>11.908953</td>\n",
       "      <td>5.536300</td>\n",
       "      <td>...</td>\n",
       "      <td>17.041562</td>\n",
       "      <td>-499.914655</td>\n",
       "      <td>14.993485</td>\n",
       "      <td>-496.917821</td>\n",
       "      <td>10.979250</td>\n",
       "      <td>-499.836947</td>\n",
       "      <td>8.996918</td>\n",
       "      <td>-500.735910</td>\n",
       "      <td>12.009882</td>\n",
       "      <td>-500.458638</td>\n",
       "    </tr>\n",
       "    <tr>\n",
       "      <th>6742</th>\n",
       "      <td>2016-10-21 21:59:59</td>\n",
       "      <td>4.733969</td>\n",
       "      <td>7.878926</td>\n",
       "      <td>10.436160</td>\n",
       "      <td>48.976043</td>\n",
       "      <td>70.843371</td>\n",
       "      <td>9.227868</td>\n",
       "      <td>2.376097</td>\n",
       "      <td>10.316193</td>\n",
       "      <td>3.304513</td>\n",
       "      <td>...</td>\n",
       "      <td>19.972609</td>\n",
       "      <td>-498.882229</td>\n",
       "      <td>17.031724</td>\n",
       "      <td>-499.854133</td>\n",
       "      <td>16.971764</td>\n",
       "      <td>-498.144619</td>\n",
       "      <td>14.039057</td>\n",
       "      <td>-500.511368</td>\n",
       "      <td>25.011739</td>\n",
       "      <td>-250.505522</td>\n",
       "    </tr>\n",
       "  </tbody>\n",
       "</table>\n",
       "<p>4860 rows × 87 columns</p>\n",
       "</div>"
      ],
      "text/plain": [
       "                      date  final.output.concentrate_ag  \\\n",
       "6327   2016-10-04 14:59:59                     6.794600   \n",
       "14686  2017-09-17 21:59:59                     5.110333   \n",
       "5151   2016-08-16 14:59:59                     6.441173   \n",
       "618    2016-02-09 18:00:00                     4.993571   \n",
       "3939   2016-06-27 02:59:59                     5.355851   \n",
       "...                    ...                          ...   \n",
       "3034   2016-05-20 09:59:59                     5.690474   \n",
       "1665   2016-03-24 09:00:00                     4.952163   \n",
       "3832   2016-06-22 15:59:59                     5.790349   \n",
       "16423  2017-11-29 06:59:59                     4.817210   \n",
       "6742   2016-10-21 21:59:59                     4.733969   \n",
       "\n",
       "       final.output.concentrate_pb  final.output.concentrate_sol  \\\n",
       "6327                      9.054957                     16.004123   \n",
       "14686                    11.114576                      7.572588   \n",
       "5151                      9.064088                     11.273021   \n",
       "618                      11.321386                      5.691245   \n",
       "3939                      7.035347                      8.940517   \n",
       "...                            ...                           ...   \n",
       "3034                     10.340794                     12.371678   \n",
       "1665                     11.097677                           NaN   \n",
       "3832                      9.564467                      8.613087   \n",
       "16423                     9.004010                      9.086014   \n",
       "6742                      7.878926                     10.436160   \n",
       "\n",
       "       final.output.concentrate_au  final.output.recovery  \\\n",
       "6327                     43.648261              69.972633   \n",
       "14686                    44.725173              69.415110   \n",
       "5151                     43.482633              74.092709   \n",
       "618                      43.493480              63.580614   \n",
       "3939                     47.588582              63.054522   \n",
       "...                            ...                    ...   \n",
       "3034                     42.561367              65.473226   \n",
       "1665                     42.837984              52.733484   \n",
       "3832                     43.601361              69.144070   \n",
       "16423                    48.622543              56.244179   \n",
       "6742                     48.976043              70.843371   \n",
       "\n",
       "       final.output.tail_ag  final.output.tail_pb  final.output.tail_sol  \\\n",
       "6327              11.069316              3.055067               9.719336   \n",
       "14686              7.484338              2.814891              12.347273   \n",
       "5151               9.838359              2.748540               9.996859   \n",
       "618               10.676063              1.487393              18.834149   \n",
       "3939               9.120233              1.494015              13.932352   \n",
       "...                     ...                   ...                    ...   \n",
       "3034              12.542838              3.520653              11.668610   \n",
       "1665              10.958410              1.952160              15.732565   \n",
       "3832               8.485743              2.090250              11.116733   \n",
       "16423             11.845188              3.597366              11.908953   \n",
       "6742               9.227868              2.376097              10.316193   \n",
       "\n",
       "       final.output.tail_au  ...  secondary_cleaner.state.floatbank4_a_air  \\\n",
       "6327               3.595190  ...                                 14.028001   \n",
       "14686              2.740724  ...                                 12.005280   \n",
       "5151               3.466387  ...                                 17.880962   \n",
       "618                2.309034  ...                                 20.016661   \n",
       "3939               3.027215  ...                                 17.025755   \n",
       "...                     ...  ...                                       ...   \n",
       "3034               4.065586  ...                                 10.005662   \n",
       "1665               3.713153  ...                                 11.983186   \n",
       "3832               2.516792  ...                                 15.948998   \n",
       "16423              5.536300  ...                                 17.041562   \n",
       "6742               3.304513  ...                                 19.972609   \n",
       "\n",
       "       secondary_cleaner.state.floatbank4_a_level  \\\n",
       "6327                                  -498.910216   \n",
       "14686                                 -502.249154   \n",
       "5151                                  -399.457823   \n",
       "618                                   -496.383512   \n",
       "3939                                  -499.709920   \n",
       "...                                           ...   \n",
       "3034                                  -499.882557   \n",
       "1665                                  -500.005223   \n",
       "3832                                  -498.009701   \n",
       "16423                                 -499.914655   \n",
       "6742                                  -498.882229   \n",
       "\n",
       "       secondary_cleaner.state.floatbank4_b_air  \\\n",
       "6327                                  13.032441   \n",
       "14686                                  8.916441   \n",
       "5151                                  10.029009   \n",
       "618                                   15.964599   \n",
       "3939                                   8.866634   \n",
       "...                                         ...   \n",
       "3034                                   8.023613   \n",
       "1665                                  12.055624   \n",
       "3832                                   7.921544   \n",
       "16423                                 14.993485   \n",
       "6742                                  17.031724   \n",
       "\n",
       "       secondary_cleaner.state.floatbank4_b_level  \\\n",
       "6327                                  -500.358286   \n",
       "14686                                 -401.636419   \n",
       "5151                                  -400.402439   \n",
       "618                                   -498.280089   \n",
       "3939                                  -500.210883   \n",
       "...                                           ...   \n",
       "3034                                  -499.918554   \n",
       "1665                                  -500.119869   \n",
       "3832                                  -405.122494   \n",
       "16423                                 -496.917821   \n",
       "6742                                  -499.854133   \n",
       "\n",
       "       secondary_cleaner.state.floatbank5_a_air  \\\n",
       "6327                                  10.143363   \n",
       "14686                                  9.017671   \n",
       "5151                                  14.936650   \n",
       "618                                   18.051289   \n",
       "3939                                  16.966829   \n",
       "...                                         ...   \n",
       "3034                                   8.982407   \n",
       "1665                                  12.031357   \n",
       "3832                                  15.949495   \n",
       "16423                                 10.979250   \n",
       "6742                                  16.971764   \n",
       "\n",
       "       secondary_cleaner.state.floatbank5_a_level  \\\n",
       "6327                                  -499.314485   \n",
       "14686                                 -501.322562   \n",
       "5151                                  -395.346330   \n",
       "618                                   -500.899548   \n",
       "3939                                  -499.891129   \n",
       "...                                           ...   \n",
       "3034                                  -549.985711   \n",
       "1665                                  -499.811920   \n",
       "3832                                  -499.088473   \n",
       "16423                                 -499.836947   \n",
       "6742                                  -498.144619   \n",
       "\n",
       "       secondary_cleaner.state.floatbank5_b_air  \\\n",
       "6327                                   8.147565   \n",
       "14686                                  7.018271   \n",
       "5151                                   4.959238   \n",
       "618                                   15.992132   \n",
       "3939                                   7.921560   \n",
       "...                                         ...   \n",
       "3034                                   5.980463   \n",
       "1665                                   9.979719   \n",
       "3832                                   6.982833   \n",
       "16423                                  8.996918   \n",
       "6742                                  14.039057   \n",
       "\n",
       "       secondary_cleaner.state.floatbank5_b_level  \\\n",
       "6327                                  -499.650507   \n",
       "14686                                 -500.837070   \n",
       "5151                                  -400.204035   \n",
       "618                                   -500.148410   \n",
       "3939                                  -500.585852   \n",
       "...                                           ...   \n",
       "3034                                  -550.089219   \n",
       "1665                                  -500.142628   \n",
       "3832                                  -499.477869   \n",
       "16423                                 -500.735910   \n",
       "6742                                  -500.511368   \n",
       "\n",
       "       secondary_cleaner.state.floatbank6_a_air  \\\n",
       "6327                                  22.997377   \n",
       "14686                                 10.039155   \n",
       "5151                                  22.990928   \n",
       "618                                   24.973915   \n",
       "3939                                  24.985645   \n",
       "...                                         ...   \n",
       "3034                                  19.995940   \n",
       "1665                                  19.985365   \n",
       "3832                                  25.022182   \n",
       "16423                                 12.009882   \n",
       "6742                                  25.011739   \n",
       "\n",
       "       secondary_cleaner.state.floatbank6_a_level  \n",
       "6327                                  -499.900959  \n",
       "14686                                 -503.676153  \n",
       "5151                                  -496.222805  \n",
       "618                                   -499.066802  \n",
       "3939                                  -501.155498  \n",
       "...                                           ...  \n",
       "3034                                  -599.796366  \n",
       "1665                                  -499.934784  \n",
       "3832                                  -500.484111  \n",
       "16423                                 -500.458638  \n",
       "6742                                  -250.505522  \n",
       "\n",
       "[4860 rows x 87 columns]"
      ]
     },
     "execution_count": 38,
     "metadata": {},
     "output_type": "execute_result"
    }
   ],
   "source": [
    "re_test"
   ]
  },
  {
   "cell_type": "code",
   "execution_count": 39,
   "metadata": {
    "scrolled": true
   },
   "outputs": [
    {
     "name": "stdout",
     "output_type": "stream",
     "text": [
      "p-value: 0.7287008562853454\n",
      "We can't reject the null hypothesis\n"
     ]
    }
   ],
   "source": [
    "# Compare data from train and test datasets\n",
    "\n",
    "test_feed_size = re_test['rougher.input.feed_size'].dropna()\n",
    "train_feed_size = re_train['rougher.input.feed_size'].dropna()\n",
    "\n",
    "alpha = 0.05 #critical significance level\n",
    "\n",
    "results = st.ttest_ind(test_feed_size, train_feed_size)\n",
    "\n",
    "print('p-value:', results.pvalue)\n",
    "\n",
    "if results.pvalue < alpha:\n",
    "    print(\"We reject the null hypothesis\")\n",
    "else:\n",
    "    print(\"We can't reject the null hypothesis\")"
   ]
  },
  {
   "cell_type": "markdown",
   "metadata": {},
   "source": [
    "Now this is a better split and our model should be more accurate now."
   ]
  },
  {
   "cell_type": "markdown",
   "metadata": {},
   "source": [
    "<div class=\"alert alert-success\">\n",
    "<b>Reviewer's comment</b>\n",
    "\n",
    "Yeah, sure, you can do a new train-test split if you'd like, indeed it seems to be a better split!\n",
    "\n",
    "</div>"
   ]
  },
  {
   "cell_type": "markdown",
   "metadata": {},
   "source": [
    "### Fill missing values in new dataset"
   ]
  },
  {
   "cell_type": "code",
   "execution_count": 40,
   "metadata": {},
   "outputs": [],
   "source": [
    "# fill training set\n",
    "re_train = re_train.fillna(method = 'ffill')"
   ]
  },
  {
   "cell_type": "code",
   "execution_count": 41,
   "metadata": {},
   "outputs": [],
   "source": [
    "# fill test set\n",
    "re_test = re_test.fillna(method = 'ffill')"
   ]
  },
  {
   "cell_type": "markdown",
   "metadata": {},
   "source": [
    "###  Total concentrations of all substances at different stages"
   ]
  },
  {
   "cell_type": "markdown",
   "metadata": {},
   "source": [
    "#### Conc tables"
   ]
  },
  {
   "cell_type": "code",
   "execution_count": 42,
   "metadata": {
    "scrolled": false
   },
   "outputs": [
    {
     "data": {
      "text/html": [
       "<div>\n",
       "<style scoped>\n",
       "    .dataframe tbody tr th:only-of-type {\n",
       "        vertical-align: middle;\n",
       "    }\n",
       "\n",
       "    .dataframe tbody tr th {\n",
       "        vertical-align: top;\n",
       "    }\n",
       "\n",
       "    .dataframe thead th {\n",
       "        text-align: right;\n",
       "    }\n",
       "</style>\n",
       "<table border=\"1\" class=\"dataframe\">\n",
       "  <thead>\n",
       "    <tr style=\"text-align: right;\">\n",
       "      <th></th>\n",
       "      <th>rougher.input.feed_au</th>\n",
       "      <th>rougher.output.concentrate_au</th>\n",
       "      <th>final.output.concentrate_au</th>\n",
       "    </tr>\n",
       "  </thead>\n",
       "  <tbody>\n",
       "    <tr>\n",
       "      <th>0</th>\n",
       "      <td>6.486150</td>\n",
       "      <td>19.793808</td>\n",
       "      <td>42.192020</td>\n",
       "    </tr>\n",
       "    <tr>\n",
       "      <th>1</th>\n",
       "      <td>6.478583</td>\n",
       "      <td>20.050975</td>\n",
       "      <td>42.701629</td>\n",
       "    </tr>\n",
       "    <tr>\n",
       "      <th>2</th>\n",
       "      <td>6.362222</td>\n",
       "      <td>19.737170</td>\n",
       "      <td>42.657501</td>\n",
       "    </tr>\n",
       "    <tr>\n",
       "      <th>3</th>\n",
       "      <td>6.118189</td>\n",
       "      <td>19.320810</td>\n",
       "      <td>42.689819</td>\n",
       "    </tr>\n",
       "    <tr>\n",
       "      <th>4</th>\n",
       "      <td>5.663707</td>\n",
       "      <td>19.216101</td>\n",
       "      <td>42.774141</td>\n",
       "    </tr>\n",
       "    <tr>\n",
       "      <th>...</th>\n",
       "      <td>...</td>\n",
       "      <td>...</td>\n",
       "      <td>...</td>\n",
       "    </tr>\n",
       "    <tr>\n",
       "      <th>22711</th>\n",
       "      <td>5.335862</td>\n",
       "      <td>18.603550</td>\n",
       "      <td>46.713954</td>\n",
       "    </tr>\n",
       "    <tr>\n",
       "      <th>22712</th>\n",
       "      <td>4.838619</td>\n",
       "      <td>18.441436</td>\n",
       "      <td>46.866780</td>\n",
       "    </tr>\n",
       "    <tr>\n",
       "      <th>22713</th>\n",
       "      <td>4.525061</td>\n",
       "      <td>15.111231</td>\n",
       "      <td>46.795691</td>\n",
       "    </tr>\n",
       "    <tr>\n",
       "      <th>22714</th>\n",
       "      <td>4.362781</td>\n",
       "      <td>17.834772</td>\n",
       "      <td>46.408188</td>\n",
       "    </tr>\n",
       "    <tr>\n",
       "      <th>22715</th>\n",
       "      <td>4.365491</td>\n",
       "      <td>17.804134</td>\n",
       "      <td>46.299438</td>\n",
       "    </tr>\n",
       "  </tbody>\n",
       "</table>\n",
       "<p>19439 rows × 3 columns</p>\n",
       "</div>"
      ],
      "text/plain": [
       "       rougher.input.feed_au  rougher.output.concentrate_au  \\\n",
       "0                   6.486150                      19.793808   \n",
       "1                   6.478583                      20.050975   \n",
       "2                   6.362222                      19.737170   \n",
       "3                   6.118189                      19.320810   \n",
       "4                   5.663707                      19.216101   \n",
       "...                      ...                            ...   \n",
       "22711               5.335862                      18.603550   \n",
       "22712               4.838619                      18.441436   \n",
       "22713               4.525061                      15.111231   \n",
       "22714               4.362781                      17.834772   \n",
       "22715               4.365491                      17.804134   \n",
       "\n",
       "       final.output.concentrate_au  \n",
       "0                        42.192020  \n",
       "1                        42.701629  \n",
       "2                        42.657501  \n",
       "3                        42.689819  \n",
       "4                        42.774141  \n",
       "...                            ...  \n",
       "22711                    46.713954  \n",
       "22712                    46.866780  \n",
       "22713                    46.795691  \n",
       "22714                    46.408188  \n",
       "22715                    46.299438  \n",
       "\n",
       "[19439 rows x 3 columns]"
      ]
     },
     "execution_count": 42,
     "metadata": {},
     "output_type": "execute_result"
    }
   ],
   "source": [
    "# Total conc of Au\n",
    "au_conc.loc[:, ['rougher.input.feed_au', 'rougher.output.concentrate_au', 'final.output.concentrate_au']]"
   ]
  },
  {
   "cell_type": "code",
   "execution_count": 43,
   "metadata": {},
   "outputs": [
    {
     "data": {
      "text/html": [
       "<div>\n",
       "<style scoped>\n",
       "    .dataframe tbody tr th:only-of-type {\n",
       "        vertical-align: middle;\n",
       "    }\n",
       "\n",
       "    .dataframe tbody tr th {\n",
       "        vertical-align: top;\n",
       "    }\n",
       "\n",
       "    .dataframe thead th {\n",
       "        text-align: right;\n",
       "    }\n",
       "</style>\n",
       "<table border=\"1\" class=\"dataframe\">\n",
       "  <thead>\n",
       "    <tr style=\"text-align: right;\">\n",
       "      <th></th>\n",
       "      <th>rougher.input.feed_ag</th>\n",
       "      <th>rougher.output.concentrate_ag</th>\n",
       "      <th>final.output.concentrate_ag</th>\n",
       "    </tr>\n",
       "  </thead>\n",
       "  <tbody>\n",
       "    <tr>\n",
       "      <th>0</th>\n",
       "      <td>6.100378</td>\n",
       "      <td>11.500771</td>\n",
       "      <td>6.055403</td>\n",
       "    </tr>\n",
       "    <tr>\n",
       "      <th>1</th>\n",
       "      <td>6.161113</td>\n",
       "      <td>11.615865</td>\n",
       "      <td>6.029369</td>\n",
       "    </tr>\n",
       "    <tr>\n",
       "      <th>2</th>\n",
       "      <td>6.116455</td>\n",
       "      <td>11.695753</td>\n",
       "      <td>6.055926</td>\n",
       "    </tr>\n",
       "    <tr>\n",
       "      <th>3</th>\n",
       "      <td>6.043309</td>\n",
       "      <td>11.915047</td>\n",
       "      <td>6.047977</td>\n",
       "    </tr>\n",
       "    <tr>\n",
       "      <th>4</th>\n",
       "      <td>6.060915</td>\n",
       "      <td>12.411054</td>\n",
       "      <td>6.148599</td>\n",
       "    </tr>\n",
       "    <tr>\n",
       "      <th>...</th>\n",
       "      <td>...</td>\n",
       "      <td>...</td>\n",
       "      <td>...</td>\n",
       "    </tr>\n",
       "    <tr>\n",
       "      <th>22711</th>\n",
       "      <td>6.091855</td>\n",
       "      <td>11.124896</td>\n",
       "      <td>3.224920</td>\n",
       "    </tr>\n",
       "    <tr>\n",
       "      <th>22712</th>\n",
       "      <td>6.121323</td>\n",
       "      <td>11.425983</td>\n",
       "      <td>3.195978</td>\n",
       "    </tr>\n",
       "    <tr>\n",
       "      <th>22713</th>\n",
       "      <td>5.970515</td>\n",
       "      <td>8.523497</td>\n",
       "      <td>3.109998</td>\n",
       "    </tr>\n",
       "    <tr>\n",
       "      <th>22714</th>\n",
       "      <td>6.048130</td>\n",
       "      <td>11.658799</td>\n",
       "      <td>3.367241</td>\n",
       "    </tr>\n",
       "    <tr>\n",
       "      <th>22715</th>\n",
       "      <td>6.158718</td>\n",
       "      <td>11.959486</td>\n",
       "      <td>3.598375</td>\n",
       "    </tr>\n",
       "  </tbody>\n",
       "</table>\n",
       "<p>19439 rows × 3 columns</p>\n",
       "</div>"
      ],
      "text/plain": [
       "       rougher.input.feed_ag  rougher.output.concentrate_ag  \\\n",
       "0                   6.100378                      11.500771   \n",
       "1                   6.161113                      11.615865   \n",
       "2                   6.116455                      11.695753   \n",
       "3                   6.043309                      11.915047   \n",
       "4                   6.060915                      12.411054   \n",
       "...                      ...                            ...   \n",
       "22711               6.091855                      11.124896   \n",
       "22712               6.121323                      11.425983   \n",
       "22713               5.970515                       8.523497   \n",
       "22714               6.048130                      11.658799   \n",
       "22715               6.158718                      11.959486   \n",
       "\n",
       "       final.output.concentrate_ag  \n",
       "0                         6.055403  \n",
       "1                         6.029369  \n",
       "2                         6.055926  \n",
       "3                         6.047977  \n",
       "4                         6.148599  \n",
       "...                            ...  \n",
       "22711                     3.224920  \n",
       "22712                     3.195978  \n",
       "22713                     3.109998  \n",
       "22714                     3.367241  \n",
       "22715                     3.598375  \n",
       "\n",
       "[19439 rows x 3 columns]"
      ]
     },
     "execution_count": 43,
     "metadata": {},
     "output_type": "execute_result"
    }
   ],
   "source": [
    "# Total conc of Ag\n",
    "ag_conc.loc[:, ['rougher.input.feed_ag', 'rougher.output.concentrate_ag', 'final.output.concentrate_ag']]"
   ]
  },
  {
   "cell_type": "code",
   "execution_count": 44,
   "metadata": {},
   "outputs": [
    {
     "data": {
      "text/html": [
       "<div>\n",
       "<style scoped>\n",
       "    .dataframe tbody tr th:only-of-type {\n",
       "        vertical-align: middle;\n",
       "    }\n",
       "\n",
       "    .dataframe tbody tr th {\n",
       "        vertical-align: top;\n",
       "    }\n",
       "\n",
       "    .dataframe thead th {\n",
       "        text-align: right;\n",
       "    }\n",
       "</style>\n",
       "<table border=\"1\" class=\"dataframe\">\n",
       "  <thead>\n",
       "    <tr style=\"text-align: right;\">\n",
       "      <th></th>\n",
       "      <th>rougher.input.feed_pb</th>\n",
       "      <th>rougher.output.concentrate_pb</th>\n",
       "      <th>final.output.concentrate_pb</th>\n",
       "    </tr>\n",
       "  </thead>\n",
       "  <tbody>\n",
       "    <tr>\n",
       "      <th>0</th>\n",
       "      <td>2.284912</td>\n",
       "      <td>7.101074</td>\n",
       "      <td>9.889648</td>\n",
       "    </tr>\n",
       "    <tr>\n",
       "      <th>1</th>\n",
       "      <td>2.266033</td>\n",
       "      <td>7.278807</td>\n",
       "      <td>9.968944</td>\n",
       "    </tr>\n",
       "    <tr>\n",
       "      <th>2</th>\n",
       "      <td>2.159622</td>\n",
       "      <td>7.216833</td>\n",
       "      <td>10.213995</td>\n",
       "    </tr>\n",
       "    <tr>\n",
       "      <th>3</th>\n",
       "      <td>2.037807</td>\n",
       "      <td>7.175616</td>\n",
       "      <td>9.977019</td>\n",
       "    </tr>\n",
       "    <tr>\n",
       "      <th>4</th>\n",
       "      <td>1.786875</td>\n",
       "      <td>7.240205</td>\n",
       "      <td>10.142511</td>\n",
       "    </tr>\n",
       "    <tr>\n",
       "      <th>...</th>\n",
       "      <td>...</td>\n",
       "      <td>...</td>\n",
       "      <td>...</td>\n",
       "    </tr>\n",
       "    <tr>\n",
       "      <th>22711</th>\n",
       "      <td>4.617558</td>\n",
       "      <td>10.984003</td>\n",
       "      <td>11.356233</td>\n",
       "    </tr>\n",
       "    <tr>\n",
       "      <th>22712</th>\n",
       "      <td>4.144989</td>\n",
       "      <td>10.888213</td>\n",
       "      <td>11.349355</td>\n",
       "    </tr>\n",
       "    <tr>\n",
       "      <th>22713</th>\n",
       "      <td>4.020002</td>\n",
       "      <td>8.955135</td>\n",
       "      <td>11.434366</td>\n",
       "    </tr>\n",
       "    <tr>\n",
       "      <th>22714</th>\n",
       "      <td>3.902537</td>\n",
       "      <td>10.655377</td>\n",
       "      <td>11.625587</td>\n",
       "    </tr>\n",
       "    <tr>\n",
       "      <th>22715</th>\n",
       "      <td>3.875727</td>\n",
       "      <td>10.702148</td>\n",
       "      <td>11.737832</td>\n",
       "    </tr>\n",
       "  </tbody>\n",
       "</table>\n",
       "<p>19439 rows × 3 columns</p>\n",
       "</div>"
      ],
      "text/plain": [
       "       rougher.input.feed_pb  rougher.output.concentrate_pb  \\\n",
       "0                   2.284912                       7.101074   \n",
       "1                   2.266033                       7.278807   \n",
       "2                   2.159622                       7.216833   \n",
       "3                   2.037807                       7.175616   \n",
       "4                   1.786875                       7.240205   \n",
       "...                      ...                            ...   \n",
       "22711               4.617558                      10.984003   \n",
       "22712               4.144989                      10.888213   \n",
       "22713               4.020002                       8.955135   \n",
       "22714               3.902537                      10.655377   \n",
       "22715               3.875727                      10.702148   \n",
       "\n",
       "       final.output.concentrate_pb  \n",
       "0                         9.889648  \n",
       "1                         9.968944  \n",
       "2                        10.213995  \n",
       "3                         9.977019  \n",
       "4                        10.142511  \n",
       "...                            ...  \n",
       "22711                    11.356233  \n",
       "22712                    11.349355  \n",
       "22713                    11.434366  \n",
       "22714                    11.625587  \n",
       "22715                    11.737832  \n",
       "\n",
       "[19439 rows x 3 columns]"
      ]
     },
     "execution_count": 44,
     "metadata": {},
     "output_type": "execute_result"
    }
   ],
   "source": [
    "# Total conc of Pb\n",
    "pb_conc.loc[:, ['rougher.input.feed_pb', 'rougher.output.concentrate_pb', 'final.output.concentrate_pb']]"
   ]
  },
  {
   "cell_type": "markdown",
   "metadata": {},
   "source": [
    "#### Total concentration across all stages"
   ]
  },
  {
   "cell_type": "code",
   "execution_count": 45,
   "metadata": {},
   "outputs": [
    {
     "data": {
      "image/png": "[encoded data removed]",
      "text/plain": [
       "<Figure size 432x288 with 1 Axes>"
      ]
     },
     "metadata": {
      "needs_background": "light"
     },
     "output_type": "display_data"
    }
   ],
   "source": [
    "# Conc in feed \n",
    "feed_conc = au_conc['rougher.input.feed_au'] + ag_conc['rougher.input.feed_ag'] + pb_conc['rougher.input.feed_pb']\n",
    "feed_conc.plot(kind='hist')\n",
    "plt.show()"
   ]
  },
  {
   "cell_type": "code",
   "execution_count": 46,
   "metadata": {},
   "outputs": [
    {
     "data": {
      "image/png": "[encoded data removed]",
      "text/plain": [
       "<Figure size 432x288 with 1 Axes>"
      ]
     },
     "metadata": {
      "needs_background": "light"
     },
     "output_type": "display_data"
    }
   ],
   "source": [
    "# Conc in rougher output\n",
    "rougher_conc = au_conc['rougher.output.concentrate_au'] + ag_conc['rougher.output.concentrate_ag'] + pb_conc['rougher.output.concentrate_pb']\n",
    "rougher_conc.plot(kind='hist')\n",
    "plt.show()"
   ]
  },
  {
   "cell_type": "code",
   "execution_count": 47,
   "metadata": {},
   "outputs": [
    {
     "data": {
      "image/png": "[encoded data removed]",
      "text/plain": [
       "<Figure size 432x288 with 1 Axes>"
      ]
     },
     "metadata": {
      "needs_background": "light"
     },
     "output_type": "display_data"
    }
   ],
   "source": [
    "# Conc in final output\n",
    "final_conc = au_conc['final.output.concentrate_au'] + ag_conc['final.output.concentrate_ag'] + pb_conc['final.output.concentrate_pb']\n",
    "final_conc.plot(kind='hist')\n",
    "plt.show()"
   ]
  },
  {
   "cell_type": "markdown",
   "metadata": {},
   "source": [
    "Lookinga at the total concentration accross all stages of purification, we can see outliers. This poses a problem as it could inflate error metrics and cause problems during fitting in regression models."
   ]
  },
  {
   "cell_type": "markdown",
   "metadata": {},
   "source": [
    "Across all concentration columns, there are outliers which are both lower and higher than the acceptable values but not significantly. But considering that we are working with metals, this is a regular occurence. And in as much as removing these outliers might seem the logical thing to do, the dataset will then not represent the real life scenarios and we might risk having overfitted models and get bad results when using the same model with another dataset."
   ]
  },
  {
   "cell_type": "markdown",
   "metadata": {},
   "source": [
    "<div class=\"alert alert-danger\">\n",
    "<s><b>Reviewer's comment</b>\n",
    "\n",
    "1. Total concentration at some stage means summing the concentrations of all metals. E.g. for initial concentration, the total can be found by summing the `rougher.input.feed_au`, `rougher.input.feed_ag` and `rougher.input.feed_pb` columns\n",
    "2. A box plot is not really an appropriate tool for distribution visualization. It is essentially only a visualization of quartiles and a couple of other statistics. Could you please plot the histograms of the total concentrations as well?\n",
    "\n",
    "</div>"
   ]
  },
  {
   "cell_type": "markdown",
   "metadata": {},
   "source": [
    "<div class=\"alert alert-warning\">\n",
    "<b>Reviewer's comment V2</b>\n",
    "\n",
    "Ok, I can agree with your assessment, although I would argue that the spike at 0 is most probably just faulty data (due to some sensor malfunction for example), and thus can be safely removed.\n",
    "\n",
    "</div>"
   ]
  },
  {
   "cell_type": "markdown",
   "metadata": {},
   "source": [
    "## Working with models"
   ]
  },
  {
   "cell_type": "markdown",
   "metadata": {},
   "source": [
    "### Create a function to calculate the final sMAPE value."
   ]
  },
  {
   "cell_type": "code",
   "execution_count": 48,
   "metadata": {},
   "outputs": [],
   "source": [
    "# Create sMAPE value function\n",
    "\n",
    "def smape(target, prediction, **kwargs):\n",
    "    formula = (1/len(target)) * sum((abs((target - prediction) * 100))/((abs(target) + abs(prediction))/2))\n",
    "    return formula"
   ]
  },
  {
   "cell_type": "code",
   "execution_count": 49,
   "metadata": {},
   "outputs": [],
   "source": [
    "# Create final sMAPE value function\n",
    "\n",
    "def final_smape(rougher, final):\n",
    "    formula = (0.25 * rougher) + (0.75 * final)\n",
    "    return formula"
   ]
  },
  {
   "cell_type": "markdown",
   "metadata": {},
   "source": [
    "<div class=\"alert alert-success\">\n",
    "<b>Reviewer's comment</b>\n",
    "\n",
    "The functions for SMAPE calculation are correct\n",
    "\n",
    "</div>"
   ]
  },
  {
   "cell_type": "markdown",
   "metadata": {},
   "source": [
    "### Create target and features"
   ]
  },
  {
   "cell_type": "code",
   "execution_count": 50,
   "metadata": {},
   "outputs": [],
   "source": [
    "# Create target and features\n",
    "features_train = re_train[test.columns].drop('date', axis=1)\n",
    "target_1_train = re_train['final.output.recovery']\n",
    "target_2_train = re_train['rougher.output.recovery']"
   ]
  },
  {
   "cell_type": "code",
   "execution_count": 51,
   "metadata": {},
   "outputs": [],
   "source": [
    "# Create target and features\n",
    "features_test = re_test[test.columns].drop('date', axis=1)\n",
    "target_1_test = re_test['final.output.recovery']\n",
    "target_2_test = re_test['rougher.output.recovery']"
   ]
  },
  {
   "cell_type": "markdown",
   "metadata": {},
   "source": [
    "<div class=\"alert alert-danger\">\n",
    "<s><b>Reviewer's comment</b>\n",
    "\n",
    "As mentioned earlier, we should only use the columns from the original test set as features (that is, without output/calculation features) to avoid data leakage\n",
    "\n",
    "</div>"
   ]
  },
  {
   "cell_type": "markdown",
   "metadata": {},
   "source": [
    "<div class=\"alert alert-success\">\n",
    "<b>Reviewer's comment V2</b>\n",
    "\n",
    "Fixed!\n",
    "\n",
    "</div>"
   ]
  },
  {
   "cell_type": "markdown",
   "metadata": {},
   "source": [
    "### Create scorer"
   ]
  },
  {
   "cell_type": "code",
   "execution_count": 52,
   "metadata": {},
   "outputs": [],
   "source": [
    "scorer = make_scorer(smape, greater_is_better = False)"
   ]
  },
  {
   "cell_type": "markdown",
   "metadata": {},
   "source": [
    "### Create and train models"
   ]
  },
  {
   "cell_type": "markdown",
   "metadata": {},
   "source": [
    "#### Linear Regression Model 1"
   ]
  },
  {
   "cell_type": "code",
   "execution_count": 53,
   "metadata": {},
   "outputs": [
    {
     "data": {
      "text/plain": [
       "LinearRegression()"
      ]
     },
     "execution_count": 53,
     "metadata": {},
     "output_type": "execute_result"
    }
   ],
   "source": [
    "# Create model\n",
    "lr_1 = LinearRegression()\n",
    "lr_1.fit(features_train, target_1_train)"
   ]
  },
  {
   "cell_type": "code",
   "execution_count": 54,
   "metadata": {},
   "outputs": [
    {
     "name": "stdout",
     "output_type": "stream",
     "text": [
      "sMAPE(Final): 9.095715306595219\n"
     ]
    }
   ],
   "source": [
    "# Get sMAPE(final)\n",
    "lr_pred_1 = lr_1.predict(features_test)\n",
    "lr_res_1 = smape(target_1_test, lr_pred_1)\n",
    "print(f'sMAPE(Final): {lr_res_1}')"
   ]
  },
  {
   "cell_type": "markdown",
   "metadata": {},
   "source": [
    "#### Linear Regression Model 2"
   ]
  },
  {
   "cell_type": "code",
   "execution_count": 55,
   "metadata": {},
   "outputs": [
    {
     "data": {
      "text/plain": [
       "LinearRegression()"
      ]
     },
     "execution_count": 55,
     "metadata": {},
     "output_type": "execute_result"
    }
   ],
   "source": [
    "lr_2 = LinearRegression()\n",
    "lr_2.fit(features_train, target_2_train)"
   ]
  },
  {
   "cell_type": "code",
   "execution_count": 56,
   "metadata": {},
   "outputs": [
    {
     "name": "stdout",
     "output_type": "stream",
     "text": [
      "sMAPE(Rougher): 9.00988567062081\n"
     ]
    }
   ],
   "source": [
    "# Get sMAPE(rougher)\n",
    "lr_pred_2 = lr_2.predict(features_test)\n",
    "lr_res_2 = smape(target_2_test, lr_pred_2)\n",
    "print(f'sMAPE(Rougher): {lr_res_2}')"
   ]
  },
  {
   "cell_type": "markdown",
   "metadata": {},
   "source": [
    "#### Final sMAPE with Linear Regression Model"
   ]
  },
  {
   "cell_type": "code",
   "execution_count": 57,
   "metadata": {},
   "outputs": [
    {
     "name": "stdout",
     "output_type": "stream",
     "text": [
      "Final sMape: 9.074257897601617\n"
     ]
    }
   ],
   "source": [
    "# Get final sMAPE\n",
    "lr_final = final_smape(lr_res_2, lr_res_1)\n",
    "print(f'Final sMape: {lr_final}')"
   ]
  },
  {
   "cell_type": "markdown",
   "metadata": {},
   "source": [
    "#### Decision Tree Model 1"
   ]
  },
  {
   "cell_type": "code",
   "execution_count": 59,
   "metadata": {},
   "outputs": [
    {
     "name": "stdout",
     "output_type": "stream",
     "text": [
      "Best depth: 3\n",
      "sMAPE(Final): 9.369292369639007\n"
     ]
    }
   ],
   "source": [
    "# Create best model\n",
    "best_dt_1 = None\n",
    "best_depth = 0\n",
    "cross_val_dt = float('-inf')\n",
    "\n",
    "for depth in range(1,10):\n",
    "    dt_1 = DecisionTreeRegressor(max_depth= depth, random_state = 12345)\n",
    "    \n",
    "    cross = cross_val_score(dt_1, features_train, target_1_train, cv=5, scoring=scorer).mean()\n",
    "    if cross > cross_val_dt:\n",
    "        cross_val_dt = cross\n",
    "        best_dt_1 = dt_1\n",
    "        best_depth = depth\n",
    "    \n",
    "best_dt_1.fit(features_train, target_1_train)\n",
    "dt_pred_1 = best_dt_1.predict(features_test)\n",
    "target_1_test = target_1_test.reset_index(drop=True)\n",
    "dt_pred_1 = pd.Series(dt_pred_1)\n",
    "    \n",
    "result = smape(target_1_test, dt_pred_1)\n",
    "\n",
    "print(\"Best depth:\", best_depth)\n",
    "\n",
    "print(\"sMAPE(Final):\", result)"
   ]
  },
  {
   "cell_type": "markdown",
   "metadata": {},
   "source": [
    "#### Decision Tree Model 2"
   ]
  },
  {
   "cell_type": "code",
   "execution_count": 61,
   "metadata": {},
   "outputs": [
    {
     "name": "stdout",
     "output_type": "stream",
     "text": [
      "Best depth: 2\n",
      "sMAPE(Rougher): 9.757754964733325\n"
     ]
    }
   ],
   "source": [
    "# Create best model\n",
    "best_dt_2 = None\n",
    "best_depth_2 = 0\n",
    "cross_val_dt_2 = float('-inf')\n",
    "\n",
    "for depth in range(1,10):\n",
    "    dt_2 = DecisionTreeRegressor(max_depth= depth, random_state = 12345)\n",
    "    \n",
    "    cross = cross_val_score(dt_2, features_train, target_2_train, cv=5, scoring=scorer).mean()\n",
    "    if cross > cross_val_dt_2:\n",
    "        cross_val_dt_2 = cross\n",
    "        best_dt_2 = dt_2\n",
    "        best_depth_2 = depth\n",
    "    \n",
    "best_dt_2.fit(features_train, target_2_train)\n",
    "dt_pred_2 = best_dt_2.predict(features_test)\n",
    "target_2_test = target_2_test.reset_index(drop=True)\n",
    "dt_pred_2 = pd.Series(dt_pred_2)\n",
    "    \n",
    "result_2 = smape(target_2_test, dt_pred_2)\n",
    "\n",
    "print(\"Best depth:\", best_depth_2)\n",
    "\n",
    "print(\"sMAPE(Rougher):\", result_2)"
   ]
  },
  {
   "cell_type": "markdown",
   "metadata": {},
   "source": [
    "#### Final sMAPE with Decision Tree Regressor Model"
   ]
  },
  {
   "cell_type": "code",
   "execution_count": 62,
   "metadata": {},
   "outputs": [
    {
     "name": "stdout",
     "output_type": "stream",
     "text": [
      "Final sMape: 9.466408018412587\n"
     ]
    }
   ],
   "source": [
    "# Get final sMAPE\n",
    "dt_final = final_smape(result_2, result)\n",
    "print(f'Final sMape: {dt_final}')"
   ]
  },
  {
   "cell_type": "markdown",
   "metadata": {},
   "source": [
    "#### Random Forest Model 1"
   ]
  },
  {
   "cell_type": "code",
   "execution_count": 63,
   "metadata": {},
   "outputs": [
    {
     "name": "stdout",
     "output_type": "stream",
     "text": [
      "Ideal number of estimators: 0\n",
      "Ideal depth: 10\n",
      "sMAPE(final): 8.016127513232018\n"
     ]
    }
   ],
   "source": [
    "# Create best model\n",
    "best_rf_1 = None\n",
    "ideal_est_1 = 0\n",
    "ideal_depth_1 = 0\n",
    "cross_val_1 = float('-inf')\n",
    "\n",
    "for est in range(1, 11):\n",
    "    for depth in range(1, 11):\n",
    "        rf_1 = RandomForestRegressor(n_estimators = est, max_depth = depth, random_state=12345)\n",
    "        \n",
    "        cross = cross_val_score(rf_1, features_train, target_1_train, cv=5, scoring=scorer).mean()\n",
    "        if cross > cross_val_1:\n",
    "            cross_val_1 = cross\n",
    "            best_rf_1 = rf_1\n",
    "            ideal_depth_1 = depth\n",
    "    \n",
    "best_rf_1.fit(features_train, target_1_train)\n",
    "rf_pred_1 = best_rf_1.predict(features_test)\n",
    "target_1_test = target_1_test.reset_index(drop=True)\n",
    "rf_pred_1 = pd.Series(rf_pred_1)\n",
    "    \n",
    "result_3 = smape(target_1_test, rf_pred_1)\n",
    "\n",
    "print(\"Ideal number of estimators:\", ideal_est_1)\n",
    "\n",
    "print(\"Ideal depth:\", ideal_depth_1)\n",
    "\n",
    "print(\"sMAPE(final):\", result_3)"
   ]
  },
  {
   "cell_type": "markdown",
   "metadata": {},
   "source": [
    "#### Random Forest Model 2"
   ]
  },
  {
   "cell_type": "code",
   "execution_count": 64,
   "metadata": {},
   "outputs": [
    {
     "name": "stdout",
     "output_type": "stream",
     "text": [
      "Ideal number of estimators: 0\n",
      "Ideal depth: 5\n",
      "sMAPE(rougher): 8.643481084933683\n"
     ]
    }
   ],
   "source": [
    "# Create best model\n",
    "best_rf_2 = None\n",
    "ideal_est_2 = 0\n",
    "ideal_depth_2 = 0\n",
    "cross_val_2 = float('-inf')\n",
    "\n",
    "for est in range(1, 11):\n",
    "    for depth in range(1, 11):\n",
    "        rf_2 = RandomForestRegressor(n_estimators = est, max_depth = depth, random_state=12345)\n",
    "        \n",
    "        cross = cross_val_score(rf_2, features_train, target_2_train, cv=5, scoring=scorer).mean()\n",
    "        if cross > cross_val_2:\n",
    "            cross_val_2 = cross\n",
    "            best_rf_2 = rf_2\n",
    "            ideal_depth_2 = depth\n",
    "    \n",
    "best_rf_2.fit(features_train, target_2_train)\n",
    "rf_pred_2 = best_rf_2.predict(features_test)\n",
    "target_2_test = target_2_test.reset_index(drop=True)\n",
    "rf_pred_2 = pd.Series(rf_pred_2)\n",
    "    \n",
    "result_4 = smape(target_2_test, rf_pred_2)\n",
    "\n",
    "print(\"Ideal number of estimators:\", ideal_est_2)\n",
    "\n",
    "print(\"Ideal depth:\", ideal_depth_2)\n",
    "\n",
    "print(\"sMAPE(rougher):\", result_4)"
   ]
  },
  {
   "cell_type": "markdown",
   "metadata": {},
   "source": [
    "#### Final sMAPE with Random Forest Regressor Model"
   ]
  },
  {
   "cell_type": "code",
   "execution_count": 65,
   "metadata": {
    "scrolled": true
   },
   "outputs": [
    {
     "name": "stdout",
     "output_type": "stream",
     "text": [
      "Final sMAPE: 8.172965906157433\n"
     ]
    }
   ],
   "source": [
    "# Get final sMAPE\n",
    "rf_final = final_smape(result_4, result_3)\n",
    "print(f'Final sMAPE: {rf_final}')"
   ]
  },
  {
   "cell_type": "markdown",
   "metadata": {},
   "source": [
    "#### Sanity check"
   ]
  },
  {
   "cell_type": "code",
   "execution_count": 66,
   "metadata": {},
   "outputs": [
    {
     "name": "stdout",
     "output_type": "stream",
     "text": [
      "10.699717314528431\n"
     ]
    }
   ],
   "source": [
    "# Comapre with dummy regressor\n",
    "dummy_1 = DummyRegressor(strategy= 'mean')\n",
    "dummy_1.fit(features_train, target_1_train)\n",
    "dum_pred_1 = dummy_1.predict(features_test)\n",
    "f_smape = smape(target_1_test, dum_pred_1)\n",
    "print(f_smape)"
   ]
  },
  {
   "cell_type": "code",
   "execution_count": 67,
   "metadata": {},
   "outputs": [
    {
     "name": "stdout",
     "output_type": "stream",
     "text": [
      "10.568391940016538\n"
     ]
    }
   ],
   "source": [
    "# Comapre with dummy regressor\n",
    "dummy_2 = DummyRegressor(strategy= 'mean')\n",
    "dummy_2.fit(features_train, target_2_train)\n",
    "dum_pred_2 = dummy_2.predict(features_test)\n",
    "r_smape = smape(target_2_test, dum_pred_2)\n",
    "print(r_smape)"
   ]
  },
  {
   "cell_type": "code",
   "execution_count": 68,
   "metadata": {},
   "outputs": [
    {
     "name": "stdout",
     "output_type": "stream",
     "text": [
      "10.66688597090046\n"
     ]
    }
   ],
   "source": [
    "d_final = final_smape(r_smape, f_smape)\n",
    "print(d_final)"
   ]
  },
  {
   "cell_type": "markdown",
   "metadata": {},
   "source": [
    "Seeing as the dummy regressor predicted the highest values of all sMAPE scores, we can be sure that our models actually work and aren't just predicting means or medians."
   ]
  },
  {
   "cell_type": "markdown",
   "metadata": {},
   "source": [
    "# Conclusion"
   ]
  },
  {
   "cell_type": "markdown",
   "metadata": {},
   "source": [
    "For this task, the random forest model is the best to use for this tasks as it has the lowest Final sMAPE though it's the slowest of the three models. \n",
    "If speed is important, then the linear regression model would be preferable as this is a faster model and more accurate than the decision tree model for this task as it has a lower Final sMAPE."
   ]
  },
  {
   "cell_type": "markdown",
   "metadata": {},
   "source": [
    "<div class=\"alert alert-danger\">\n",
    "<s><b>Reviewer's comment</b>\n",
    "\n",
    "A couple of points:\n",
    "    \n",
    "1. Could you please use SMAPE as the scoring for cross-validation instead of whatever you're using now? You can make a scoring object for `cross_val_score` or `GridSearchCV` out of your scoring function using [make_scorer](https://scikit-learn.org/stable/modules/generated/sklearn.metrics.make_scorer.html), for details check out [this page](https://scikit-learn.org/stable/modules/model_evaluation.html#scoring)\n",
    "2. I'm not sure how you came to the conclusion that linear regression is the best model, as the other models show NaN values instead of a valid score. The only way that this could occur is if for some examples both prediction and target are 0. I would suggest removing all rows with 0 targets to fix this (0 targets are not compatible with the SMAPE metric).\n",
    "3. Please also add a comparison with a simple baseline, for example a constant model always predicting mean or median of train set targets (e.g. using [DummyRegressor](https://scikit-learn.org/stable/modules/generated/sklearn.dummy.DummyRegressor.html))\n",
    "\n",
    "</div>"
   ]
  },
  {
   "cell_type": "markdown",
   "metadata": {},
   "source": [
    "<div class=\"alert alert-danger\">\n",
    "<s><b>Reviewer's comment V2</b>\n",
    "\n",
    "Ok problems 2 and 3 were fixed, but problem 1 is still there: in fact it's even worse, because now you're not using cross-validation at all, and tuning the models using the test set. That is not a good idea, because tuning the models' hyperparameters using the test set leads to an overly optimistic test set metrics. To get an unbiased estimate of how well the model generalizes to new data, we need to use completely new data, which is not used for training or hyperparameter tuning, and a model can only be evaluated on the test set just once for that assumption to hold.\n",
    "    \n",
    "\n",
    "</div>"
   ]
  },
  {
   "cell_type": "markdown",
   "metadata": {},
   "source": [
    "<div class=\"alert alert-danger\">\n",
    "<s><b>Reviewer's comment V3</b>\n",
    "\n",
    "Ok, now you're using cross-validation with the SMAPE metric, so that's great! But there's one slight discrepancy: when tuning hyperparameters, you're actually selecting the model with the highest error value (e.g. `if cross > cross_val_1`, etc.). Btw this can be easily fixed by setting `greater_is_better` parameter of `make_scorer` to False, then the SMAPE value will be multiplied by -1, and you will be correctly selecting the value closest to 0 (nevermind that it will be multiplied by -1): in fact GridSearchCV and similar objects also internally always maximize the score as returned by the scoring object, and multiplying the metric by -1 by setting `greater_is_better=False` flips the function and turns minima into maxima and vice versa (think of what happens when we multiply y=x^2 by -1 to get y=-x^2 for example). This is useful for error functions like SMAPE or MAE, which we want to minimize and not maximize (like metrics such as accuracy, precision, etc.), and also why in [predefined metrics](https://scikit-learn.org/stable/modules/model_evaluation.html#common-cases-predefined-values) of scikit-learn you can find `neg_mean_squared_error` instead of `mean_squared_error` and so on.\n",
    "\n",
    "</div>"
   ]
  },
  {
   "cell_type": "markdown",
   "metadata": {},
   "source": [
    "<div class=\"alert alert-success\">\n",
    "<b>Reviewer's comment V4</b>\n",
    "\n",
    "Fixed!\n",
    "\n",
    "</div>"
   ]
  }
 ],
 "metadata": {
  "ExecuteTimeLog": [
   {
    "duration": 371,
    "start_time": "2022-06-29T08:20:47.367Z"
   },
   {
    "duration": 478,
    "start_time": "2022-06-29T08:22:27.678Z"
   },
   {
    "duration": 306,
    "start_time": "2022-06-29T08:23:23.669Z"
   },
   {
    "duration": 596,
    "start_time": "2022-06-29T08:23:58.310Z"
   },
   {
    "duration": 148,
    "start_time": "2022-06-29T08:24:40.310Z"
   },
   {
    "duration": 36,
    "start_time": "2022-06-29T08:25:29.500Z"
   },
   {
    "duration": 23,
    "start_time": "2022-06-29T08:25:57.369Z"
   },
   {
    "duration": 29,
    "start_time": "2022-06-29T08:27:22.070Z"
   },
   {
    "duration": 18,
    "start_time": "2022-06-29T08:27:50.109Z"
   },
   {
    "duration": 27,
    "start_time": "2022-06-29T08:28:49.829Z"
   },
   {
    "duration": 14,
    "start_time": "2022-06-29T08:29:26.759Z"
   },
   {
    "duration": 50,
    "start_time": "2022-06-29T16:36:09.161Z"
   },
   {
    "duration": 377,
    "start_time": "2022-06-29T16:36:20.610Z"
   },
   {
    "duration": 2026,
    "start_time": "2022-06-29T16:36:20.989Z"
   },
   {
    "duration": 1476,
    "start_time": "2022-06-29T16:36:23.016Z"
   },
   {
    "duration": 388,
    "start_time": "2022-06-29T16:36:24.494Z"
   },
   {
    "duration": 36,
    "start_time": "2022-06-29T16:36:24.884Z"
   },
   {
    "duration": 19,
    "start_time": "2022-06-29T16:36:24.921Z"
   },
   {
    "duration": 28,
    "start_time": "2022-06-29T16:36:24.942Z"
   },
   {
    "duration": 18,
    "start_time": "2022-06-29T16:36:24.971Z"
   },
   {
    "duration": 50,
    "start_time": "2022-06-29T16:36:24.993Z"
   },
   {
    "duration": 19,
    "start_time": "2022-06-29T16:36:25.046Z"
   },
   {
    "duration": 2562,
    "start_time": "2022-06-29T16:36:25.067Z"
   },
   {
    "duration": 12,
    "start_time": "2022-06-29T16:37:00.367Z"
   },
   {
    "duration": 8,
    "start_time": "2022-06-29T16:37:12.559Z"
   },
   {
    "duration": 11,
    "start_time": "2022-06-29T16:37:19.429Z"
   },
   {
    "duration": 4,
    "start_time": "2022-06-29T16:44:39.231Z"
   },
   {
    "duration": 12,
    "start_time": "2022-06-29T16:49:31.893Z"
   },
   {
    "duration": 2,
    "start_time": "2022-06-29T16:50:28.863Z"
   },
   {
    "duration": 3,
    "start_time": "2022-06-29T16:50:30.633Z"
   },
   {
    "duration": 4,
    "start_time": "2022-06-29T16:55:54.395Z"
   },
   {
    "duration": 16,
    "start_time": "2022-06-29T16:55:56.914Z"
   },
   {
    "duration": 4,
    "start_time": "2022-06-29T16:58:21.924Z"
   },
   {
    "duration": 14,
    "start_time": "2022-06-29T16:58:24.333Z"
   },
   {
    "duration": 14,
    "start_time": "2022-06-29T16:59:18.684Z"
   },
   {
    "duration": 2,
    "start_time": "2022-06-29T17:00:19.684Z"
   },
   {
    "duration": 6,
    "start_time": "2022-06-29T17:00:21.743Z"
   },
   {
    "duration": 8,
    "start_time": "2022-06-29T17:00:42.454Z"
   },
   {
    "duration": 12,
    "start_time": "2022-06-29T17:00:55.793Z"
   },
   {
    "duration": 12,
    "start_time": "2022-06-29T17:01:04.134Z"
   },
   {
    "duration": 7,
    "start_time": "2022-06-29T17:01:16.543Z"
   },
   {
    "duration": 781,
    "start_time": "2022-06-29T17:01:58.223Z"
   },
   {
    "duration": 7,
    "start_time": "2022-06-29T17:06:12.078Z"
   },
   {
    "duration": 1046,
    "start_time": "2022-06-29T23:27:22.941Z"
   },
   {
    "duration": 569,
    "start_time": "2022-06-29T23:27:23.989Z"
   },
   {
    "duration": 433,
    "start_time": "2022-06-29T23:27:24.560Z"
   },
   {
    "duration": 122,
    "start_time": "2022-06-29T23:27:24.996Z"
   },
   {
    "duration": 34,
    "start_time": "2022-06-29T23:27:25.120Z"
   },
   {
    "duration": 18,
    "start_time": "2022-06-29T23:27:25.156Z"
   },
   {
    "duration": 26,
    "start_time": "2022-06-29T23:27:25.176Z"
   },
   {
    "duration": 32,
    "start_time": "2022-06-29T23:27:25.204Z"
   },
   {
    "duration": 28,
    "start_time": "2022-06-29T23:27:25.237Z"
   },
   {
    "duration": 13,
    "start_time": "2022-06-29T23:27:25.267Z"
   },
   {
    "duration": 9,
    "start_time": "2022-06-29T23:27:25.281Z"
   },
   {
    "duration": 6,
    "start_time": "2022-06-29T23:27:25.291Z"
   },
   {
    "duration": 7,
    "start_time": "2022-06-29T23:27:25.327Z"
   },
   {
    "duration": 108,
    "start_time": "2022-06-29T23:27:25.336Z"
   },
   {
    "duration": 10,
    "start_time": "2022-06-29T23:27:50.960Z"
   },
   {
    "duration": 10,
    "start_time": "2022-06-29T23:28:12.939Z"
   },
   {
    "duration": 6,
    "start_time": "2022-06-29T23:28:23.121Z"
   },
   {
    "duration": 5,
    "start_time": "2022-06-29T23:28:36.662Z"
   },
   {
    "duration": 10,
    "start_time": "2022-06-29T23:29:03.551Z"
   },
   {
    "duration": 8,
    "start_time": "2022-06-29T23:30:28.324Z"
   },
   {
    "duration": 5,
    "start_time": "2022-06-29T23:31:42.549Z"
   },
   {
    "duration": 4,
    "start_time": "2022-06-29T23:32:58.762Z"
   },
   {
    "duration": 5,
    "start_time": "2022-06-29T23:33:15.262Z"
   },
   {
    "duration": 4,
    "start_time": "2022-06-29T23:33:20.783Z"
   },
   {
    "duration": 4,
    "start_time": "2022-06-29T23:34:39.903Z"
   },
   {
    "duration": 72,
    "start_time": "2022-06-29T23:38:15.284Z"
   },
   {
    "duration": 8,
    "start_time": "2022-06-29T23:40:07.340Z"
   },
   {
    "duration": 6,
    "start_time": "2022-06-29T23:42:28.062Z"
   },
   {
    "duration": 7,
    "start_time": "2022-06-29T23:43:32.586Z"
   },
   {
    "duration": 5,
    "start_time": "2022-06-29T23:46:54.649Z"
   },
   {
    "duration": 3,
    "start_time": "2022-06-29T23:46:58.808Z"
   },
   {
    "duration": 6,
    "start_time": "2022-06-29T23:47:02.724Z"
   },
   {
    "duration": 13,
    "start_time": "2022-06-29T23:47:11.072Z"
   },
   {
    "duration": 14,
    "start_time": "2022-06-29T23:48:17.683Z"
   },
   {
    "duration": 13,
    "start_time": "2022-06-29T23:48:27.172Z"
   },
   {
    "duration": 6,
    "start_time": "2022-06-29T23:48:59.919Z"
   },
   {
    "duration": 6,
    "start_time": "2022-06-29T23:49:35.625Z"
   },
   {
    "duration": 6,
    "start_time": "2022-06-29T23:50:12.934Z"
   },
   {
    "duration": 14,
    "start_time": "2022-06-29T23:50:40.986Z"
   },
   {
    "duration": 7,
    "start_time": "2022-06-29T23:51:13.642Z"
   },
   {
    "duration": 5,
    "start_time": "2022-06-29T23:51:23.393Z"
   },
   {
    "duration": 7,
    "start_time": "2022-06-29T23:51:26.931Z"
   },
   {
    "duration": 8,
    "start_time": "2022-06-29T23:51:57.721Z"
   },
   {
    "duration": 6,
    "start_time": "2022-06-29T23:52:44.481Z"
   },
   {
    "duration": 6,
    "start_time": "2022-06-29T23:52:59.821Z"
   },
   {
    "duration": 7,
    "start_time": "2022-06-29T23:53:13.967Z"
   },
   {
    "duration": 6,
    "start_time": "2022-06-29T23:53:25.441Z"
   },
   {
    "duration": 7,
    "start_time": "2022-06-29T23:53:45.401Z"
   },
   {
    "duration": 1008,
    "start_time": "2022-06-29T23:53:51.687Z"
   },
   {
    "duration": 399,
    "start_time": "2022-06-29T23:53:52.697Z"
   },
   {
    "duration": 321,
    "start_time": "2022-06-29T23:53:53.097Z"
   },
   {
    "duration": 79,
    "start_time": "2022-06-29T23:53:53.420Z"
   },
   {
    "duration": 43,
    "start_time": "2022-06-29T23:53:53.501Z"
   },
   {
    "duration": 20,
    "start_time": "2022-06-29T23:53:53.546Z"
   },
   {
    "duration": 29,
    "start_time": "2022-06-29T23:53:53.567Z"
   },
   {
    "duration": 42,
    "start_time": "2022-06-29T23:53:53.598Z"
   },
   {
    "duration": 29,
    "start_time": "2022-06-29T23:53:53.642Z"
   },
   {
    "duration": 13,
    "start_time": "2022-06-29T23:53:53.673Z"
   },
   {
    "duration": 9,
    "start_time": "2022-06-29T23:53:53.687Z"
   },
   {
    "duration": 30,
    "start_time": "2022-06-29T23:53:53.697Z"
   },
   {
    "duration": 7,
    "start_time": "2022-06-29T23:53:53.729Z"
   },
   {
    "duration": 7,
    "start_time": "2022-06-29T23:53:53.738Z"
   },
   {
    "duration": 4,
    "start_time": "2022-06-29T23:53:53.747Z"
   },
   {
    "duration": 4,
    "start_time": "2022-06-29T23:53:53.753Z"
   },
   {
    "duration": 11,
    "start_time": "2022-06-29T23:53:53.758Z"
   },
   {
    "duration": 7,
    "start_time": "2022-06-29T23:53:53.770Z"
   },
   {
    "duration": 4,
    "start_time": "2022-06-30T00:05:59.666Z"
   },
   {
    "duration": 279,
    "start_time": "2022-06-30T00:06:02.201Z"
   },
   {
    "duration": 9,
    "start_time": "2022-06-30T00:06:09.278Z"
   },
   {
    "duration": 4,
    "start_time": "2022-06-30T00:07:36.530Z"
   },
   {
    "duration": 7,
    "start_time": "2022-06-30T00:07:38.307Z"
   },
   {
    "duration": 7,
    "start_time": "2022-06-30T00:07:43.004Z"
   },
   {
    "duration": 5,
    "start_time": "2022-06-30T00:09:26.669Z"
   },
   {
    "duration": 9,
    "start_time": "2022-06-30T00:09:43.907Z"
   },
   {
    "duration": 94,
    "start_time": "2022-06-30T00:18:14.348Z"
   },
   {
    "duration": 14,
    "start_time": "2022-06-30T00:18:49.970Z"
   },
   {
    "duration": 8,
    "start_time": "2022-06-30T00:19:55.875Z"
   },
   {
    "duration": 1068,
    "start_time": "2022-06-30T00:21:33.028Z"
   },
   {
    "duration": 384,
    "start_time": "2022-06-30T00:21:34.098Z"
   },
   {
    "duration": 283,
    "start_time": "2022-06-30T00:21:34.483Z"
   },
   {
    "duration": 80,
    "start_time": "2022-06-30T00:21:34.768Z"
   },
   {
    "duration": 36,
    "start_time": "2022-06-30T00:21:34.850Z"
   },
   {
    "duration": 16,
    "start_time": "2022-06-30T00:21:34.888Z"
   },
   {
    "duration": 38,
    "start_time": "2022-06-30T00:21:34.905Z"
   },
   {
    "duration": 22,
    "start_time": "2022-06-30T00:21:34.945Z"
   },
   {
    "duration": 27,
    "start_time": "2022-06-30T00:21:34.968Z"
   },
   {
    "duration": 12,
    "start_time": "2022-06-30T00:21:34.998Z"
   },
   {
    "duration": 22,
    "start_time": "2022-06-30T00:21:35.011Z"
   },
   {
    "duration": 12,
    "start_time": "2022-06-30T00:21:35.034Z"
   },
   {
    "duration": 20,
    "start_time": "2022-06-30T00:21:35.048Z"
   },
   {
    "duration": 6,
    "start_time": "2022-06-30T00:21:35.070Z"
   },
   {
    "duration": 11,
    "start_time": "2022-06-30T00:21:35.078Z"
   },
   {
    "duration": 8,
    "start_time": "2022-06-30T00:21:35.091Z"
   },
   {
    "duration": 4,
    "start_time": "2022-06-30T00:21:35.101Z"
   },
   {
    "duration": 21,
    "start_time": "2022-06-30T00:21:35.106Z"
   },
   {
    "duration": 6,
    "start_time": "2022-06-30T00:21:35.128Z"
   },
   {
    "duration": 104,
    "start_time": "2022-06-30T00:21:35.135Z"
   },
   {
    "duration": 16,
    "start_time": "2022-06-30T00:22:48.737Z"
   },
   {
    "duration": 7,
    "start_time": "2022-06-30T00:23:24.286Z"
   },
   {
    "duration": 8,
    "start_time": "2022-06-30T00:23:34.258Z"
   },
   {
    "duration": 15,
    "start_time": "2022-06-30T00:24:15.692Z"
   },
   {
    "duration": 7,
    "start_time": "2022-06-30T00:24:57.029Z"
   },
   {
    "duration": 15,
    "start_time": "2022-06-30T00:25:17.628Z"
   },
   {
    "duration": 6,
    "start_time": "2022-06-30T00:27:28.304Z"
   },
   {
    "duration": 4,
    "start_time": "2022-06-30T00:27:47.142Z"
   },
   {
    "duration": 11,
    "start_time": "2022-06-30T00:29:32.960Z"
   },
   {
    "duration": 6,
    "start_time": "2022-06-30T00:29:43.222Z"
   },
   {
    "duration": 7,
    "start_time": "2022-06-30T00:31:00.903Z"
   },
   {
    "duration": 15,
    "start_time": "2022-06-30T00:31:25.583Z"
   },
   {
    "duration": 13,
    "start_time": "2022-06-30T00:43:07.862Z"
   },
   {
    "duration": 7,
    "start_time": "2022-06-30T00:43:27.862Z"
   },
   {
    "duration": 7,
    "start_time": "2022-06-30T00:43:32.923Z"
   },
   {
    "duration": 5,
    "start_time": "2022-06-30T00:44:13.948Z"
   },
   {
    "duration": 4,
    "start_time": "2022-06-30T00:44:30.464Z"
   },
   {
    "duration": 7,
    "start_time": "2022-06-30T00:49:49.320Z"
   },
   {
    "duration": 12,
    "start_time": "2022-06-30T00:50:43.319Z"
   },
   {
    "duration": 10,
    "start_time": "2022-06-30T00:50:49.926Z"
   },
   {
    "duration": 12,
    "start_time": "2022-06-30T00:50:57.199Z"
   },
   {
    "duration": 12,
    "start_time": "2022-06-30T00:51:01.340Z"
   },
   {
    "duration": 8,
    "start_time": "2022-06-30T00:51:08.760Z"
   },
   {
    "duration": 3,
    "start_time": "2022-06-30T00:53:47.423Z"
   },
   {
    "duration": 4,
    "start_time": "2022-06-30T00:53:53.781Z"
   },
   {
    "duration": 257,
    "start_time": "2022-06-30T00:53:57.100Z"
   },
   {
    "duration": 240,
    "start_time": "2022-06-30T00:54:17.566Z"
   },
   {
    "duration": 4,
    "start_time": "2022-06-30T00:54:26.522Z"
   },
   {
    "duration": 254,
    "start_time": "2022-06-30T00:54:29.168Z"
   },
   {
    "duration": 247,
    "start_time": "2022-06-30T00:54:39.950Z"
   },
   {
    "duration": 16,
    "start_time": "2022-06-30T00:54:51.739Z"
   },
   {
    "duration": 4,
    "start_time": "2022-06-30T00:55:38.643Z"
   },
   {
    "duration": 224,
    "start_time": "2022-06-30T00:55:40.747Z"
   },
   {
    "duration": 16,
    "start_time": "2022-06-30T00:55:45.797Z"
   },
   {
    "duration": 4,
    "start_time": "2022-06-30T00:56:05.078Z"
   },
   {
    "duration": 6,
    "start_time": "2022-06-30T00:56:07.066Z"
   },
   {
    "duration": 16,
    "start_time": "2022-06-30T00:56:09.601Z"
   },
   {
    "duration": 16,
    "start_time": "2022-06-30T00:56:43.808Z"
   },
   {
    "duration": 5,
    "start_time": "2022-06-30T00:56:57.196Z"
   },
   {
    "duration": 4,
    "start_time": "2022-06-30T00:57:14.371Z"
   },
   {
    "duration": 12,
    "start_time": "2022-06-30T00:57:27.861Z"
   },
   {
    "duration": 36,
    "start_time": "2022-06-30T00:58:21.187Z"
   },
   {
    "duration": 22,
    "start_time": "2022-06-30T00:59:34.525Z"
   },
   {
    "duration": 11,
    "start_time": "2022-06-30T00:59:42.343Z"
   },
   {
    "duration": 21,
    "start_time": "2022-06-30T01:00:38.783Z"
   },
   {
    "duration": 25,
    "start_time": "2022-06-30T01:00:46.403Z"
   },
   {
    "duration": 1115,
    "start_time": "2022-06-30T01:01:25.899Z"
   },
   {
    "duration": 403,
    "start_time": "2022-06-30T01:01:27.016Z"
   },
   {
    "duration": 285,
    "start_time": "2022-06-30T01:01:27.421Z"
   },
   {
    "duration": 75,
    "start_time": "2022-06-30T01:01:27.708Z"
   },
   {
    "duration": 33,
    "start_time": "2022-06-30T01:01:27.784Z"
   },
   {
    "duration": 21,
    "start_time": "2022-06-30T01:01:27.819Z"
   },
   {
    "duration": 25,
    "start_time": "2022-06-30T01:01:27.842Z"
   },
   {
    "duration": 15,
    "start_time": "2022-06-30T01:01:27.869Z"
   },
   {
    "duration": 52,
    "start_time": "2022-06-30T01:01:27.886Z"
   },
   {
    "duration": 11,
    "start_time": "2022-06-30T01:01:27.941Z"
   },
   {
    "duration": 9,
    "start_time": "2022-06-30T01:01:27.954Z"
   },
   {
    "duration": 13,
    "start_time": "2022-06-30T01:01:27.964Z"
   },
   {
    "duration": 12,
    "start_time": "2022-06-30T01:01:27.978Z"
   },
   {
    "duration": 7,
    "start_time": "2022-06-30T01:01:27.992Z"
   },
   {
    "duration": 26,
    "start_time": "2022-06-30T01:01:28.001Z"
   },
   {
    "duration": 5,
    "start_time": "2022-06-30T01:01:28.029Z"
   },
   {
    "duration": 11,
    "start_time": "2022-06-30T01:01:28.035Z"
   },
   {
    "duration": 106,
    "start_time": "2022-06-30T01:01:28.048Z"
   },
   {
    "duration": 0,
    "start_time": "2022-06-30T01:01:28.155Z"
   },
   {
    "duration": 0,
    "start_time": "2022-06-30T01:01:28.156Z"
   },
   {
    "duration": 0,
    "start_time": "2022-06-30T01:01:28.157Z"
   },
   {
    "duration": 0,
    "start_time": "2022-06-30T01:01:28.159Z"
   },
   {
    "duration": 0,
    "start_time": "2022-06-30T01:01:28.160Z"
   },
   {
    "duration": 0,
    "start_time": "2022-06-30T01:01:28.161Z"
   },
   {
    "duration": 5,
    "start_time": "2022-06-30T01:01:37.018Z"
   },
   {
    "duration": 4,
    "start_time": "2022-06-30T01:01:37.808Z"
   },
   {
    "duration": 5,
    "start_time": "2022-06-30T01:01:38.329Z"
   },
   {
    "duration": 13,
    "start_time": "2022-06-30T01:01:38.567Z"
   },
   {
    "duration": 25,
    "start_time": "2022-06-30T01:01:38.826Z"
   },
   {
    "duration": 24,
    "start_time": "2022-06-30T01:01:39.047Z"
   },
   {
    "duration": 11,
    "start_time": "2022-06-30T01:07:02.972Z"
   },
   {
    "duration": 27,
    "start_time": "2022-06-30T01:07:10.682Z"
   },
   {
    "duration": 1357,
    "start_time": "2022-06-30T01:08:30.285Z"
   },
   {
    "duration": 6,
    "start_time": "2022-06-30T01:08:55.844Z"
   },
   {
    "duration": 5,
    "start_time": "2022-06-30T01:09:22.183Z"
   },
   {
    "duration": 5,
    "start_time": "2022-06-30T01:09:44.404Z"
   },
   {
    "duration": 15,
    "start_time": "2022-06-30T01:10:11.184Z"
   },
   {
    "duration": 10,
    "start_time": "2022-06-30T01:10:35.039Z"
   },
   {
    "duration": 10,
    "start_time": "2022-06-30T01:10:40.847Z"
   },
   {
    "duration": 5,
    "start_time": "2022-06-30T01:11:01.985Z"
   },
   {
    "duration": 11,
    "start_time": "2022-06-30T01:11:04.699Z"
   },
   {
    "duration": 29,
    "start_time": "2022-06-30T01:12:50.365Z"
   },
   {
    "duration": 54,
    "start_time": "2022-06-30T01:13:55.346Z"
   },
   {
    "duration": 1055,
    "start_time": "2022-06-30T01:14:08.662Z"
   },
   {
    "duration": 26,
    "start_time": "2022-06-30T01:14:58.444Z"
   },
   {
    "duration": 9,
    "start_time": "2022-06-30T01:16:26.125Z"
   },
   {
    "duration": 16,
    "start_time": "2022-06-30T01:16:41.585Z"
   },
   {
    "duration": 25,
    "start_time": "2022-06-30T01:16:47.945Z"
   },
   {
    "duration": 19,
    "start_time": "2022-06-30T01:17:23.179Z"
   },
   {
    "duration": 10,
    "start_time": "2022-06-30T01:17:27.071Z"
   },
   {
    "duration": 12,
    "start_time": "2022-06-30T01:17:40.805Z"
   },
   {
    "duration": 10,
    "start_time": "2022-06-30T01:17:43.159Z"
   },
   {
    "duration": 14,
    "start_time": "2022-06-30T01:19:32.785Z"
   },
   {
    "duration": 25,
    "start_time": "2022-06-30T01:19:34.983Z"
   },
   {
    "duration": 23,
    "start_time": "2022-06-30T01:20:03.636Z"
   },
   {
    "duration": 95,
    "start_time": "2022-06-30T01:20:21.700Z"
   },
   {
    "duration": 22,
    "start_time": "2022-06-30T01:20:41.785Z"
   },
   {
    "duration": 6,
    "start_time": "2022-06-30T01:21:18.976Z"
   },
   {
    "duration": 13,
    "start_time": "2022-06-30T01:24:03.146Z"
   },
   {
    "duration": 15,
    "start_time": "2022-06-30T01:24:25.940Z"
   },
   {
    "duration": 24,
    "start_time": "2022-06-30T01:24:35.803Z"
   },
   {
    "duration": 30,
    "start_time": "2022-06-30T01:24:41.983Z"
   },
   {
    "duration": 27,
    "start_time": "2022-06-30T01:25:38.740Z"
   },
   {
    "duration": 28,
    "start_time": "2022-06-30T01:26:02.704Z"
   },
   {
    "duration": 9,
    "start_time": "2022-06-30T01:34:17.820Z"
   },
   {
    "duration": 1026,
    "start_time": "2022-06-30T01:34:46.828Z"
   },
   {
    "duration": 392,
    "start_time": "2022-06-30T01:34:47.856Z"
   },
   {
    "duration": 287,
    "start_time": "2022-06-30T01:34:48.250Z"
   },
   {
    "duration": 75,
    "start_time": "2022-06-30T01:34:48.539Z"
   },
   {
    "duration": 38,
    "start_time": "2022-06-30T01:34:48.615Z"
   },
   {
    "duration": 19,
    "start_time": "2022-06-30T01:34:48.654Z"
   },
   {
    "duration": 28,
    "start_time": "2022-06-30T01:34:48.674Z"
   },
   {
    "duration": 16,
    "start_time": "2022-06-30T01:34:48.727Z"
   },
   {
    "duration": 25,
    "start_time": "2022-06-30T01:34:48.745Z"
   },
   {
    "duration": 13,
    "start_time": "2022-06-30T01:34:48.772Z"
   },
   {
    "duration": 47,
    "start_time": "2022-06-30T01:34:48.787Z"
   },
   {
    "duration": 8,
    "start_time": "2022-06-30T01:34:48.836Z"
   },
   {
    "duration": 7,
    "start_time": "2022-06-30T01:34:48.845Z"
   },
   {
    "duration": 6,
    "start_time": "2022-06-30T01:34:48.854Z"
   },
   {
    "duration": 5,
    "start_time": "2022-06-30T01:34:48.862Z"
   },
   {
    "duration": 4,
    "start_time": "2022-06-30T01:34:48.869Z"
   },
   {
    "duration": 13,
    "start_time": "2022-06-30T01:34:48.874Z"
   },
   {
    "duration": 131,
    "start_time": "2022-06-30T01:34:48.889Z"
   },
   {
    "duration": 0,
    "start_time": "2022-06-30T01:34:49.027Z"
   },
   {
    "duration": 0,
    "start_time": "2022-06-30T01:34:49.028Z"
   },
   {
    "duration": 0,
    "start_time": "2022-06-30T01:34:49.030Z"
   },
   {
    "duration": 0,
    "start_time": "2022-06-30T01:34:49.031Z"
   },
   {
    "duration": 0,
    "start_time": "2022-06-30T01:34:49.032Z"
   },
   {
    "duration": 0,
    "start_time": "2022-06-30T01:34:49.033Z"
   },
   {
    "duration": 0,
    "start_time": "2022-06-30T01:34:49.034Z"
   },
   {
    "duration": 5,
    "start_time": "2022-06-30T01:35:05.146Z"
   },
   {
    "duration": 4,
    "start_time": "2022-06-30T01:35:10.136Z"
   },
   {
    "duration": 5,
    "start_time": "2022-06-30T01:35:14.361Z"
   },
   {
    "duration": 4,
    "start_time": "2022-06-30T01:35:15.098Z"
   },
   {
    "duration": 9,
    "start_time": "2022-06-30T01:35:15.740Z"
   },
   {
    "duration": 19,
    "start_time": "2022-06-30T01:35:16.139Z"
   },
   {
    "duration": 9,
    "start_time": "2022-06-30T01:35:16.346Z"
   },
   {
    "duration": 7,
    "start_time": "2022-06-30T01:35:16.580Z"
   },
   {
    "duration": 19,
    "start_time": "2022-06-30T01:35:16.757Z"
   },
   {
    "duration": 1011,
    "start_time": "2022-06-30T01:35:51.813Z"
   },
   {
    "duration": 395,
    "start_time": "2022-06-30T01:35:52.826Z"
   },
   {
    "duration": 297,
    "start_time": "2022-06-30T01:35:53.223Z"
   },
   {
    "duration": 74,
    "start_time": "2022-06-30T01:35:53.522Z"
   },
   {
    "duration": 43,
    "start_time": "2022-06-30T01:35:53.598Z"
   },
   {
    "duration": 18,
    "start_time": "2022-06-30T01:35:53.642Z"
   },
   {
    "duration": 25,
    "start_time": "2022-06-30T01:35:53.662Z"
   },
   {
    "duration": 41,
    "start_time": "2022-06-30T01:35:53.688Z"
   },
   {
    "duration": 26,
    "start_time": "2022-06-30T01:35:53.731Z"
   },
   {
    "duration": 11,
    "start_time": "2022-06-30T01:35:53.759Z"
   },
   {
    "duration": 12,
    "start_time": "2022-06-30T01:35:53.772Z"
   },
   {
    "duration": 9,
    "start_time": "2022-06-30T01:35:53.785Z"
   },
   {
    "duration": 8,
    "start_time": "2022-06-30T01:35:53.827Z"
   },
   {
    "duration": 10,
    "start_time": "2022-06-30T01:35:53.837Z"
   },
   {
    "duration": 6,
    "start_time": "2022-06-30T01:35:53.849Z"
   },
   {
    "duration": 9,
    "start_time": "2022-06-30T01:35:53.857Z"
   },
   {
    "duration": 14,
    "start_time": "2022-06-30T01:35:53.868Z"
   },
   {
    "duration": 122,
    "start_time": "2022-06-30T01:35:53.884Z"
   },
   {
    "duration": 0,
    "start_time": "2022-06-30T01:35:54.008Z"
   },
   {
    "duration": 0,
    "start_time": "2022-06-30T01:35:54.009Z"
   },
   {
    "duration": 0,
    "start_time": "2022-06-30T01:35:54.010Z"
   },
   {
    "duration": 0,
    "start_time": "2022-06-30T01:35:54.011Z"
   },
   {
    "duration": 0,
    "start_time": "2022-06-30T01:35:54.012Z"
   },
   {
    "duration": 0,
    "start_time": "2022-06-30T01:35:54.026Z"
   },
   {
    "duration": 0,
    "start_time": "2022-06-30T01:35:54.028Z"
   },
   {
    "duration": 28,
    "start_time": "2022-06-30T01:36:06.590Z"
   },
   {
    "duration": 3,
    "start_time": "2022-06-30T01:37:37.665Z"
   },
   {
    "duration": 1090,
    "start_time": "2022-06-30T01:37:45.262Z"
   },
   {
    "duration": 452,
    "start_time": "2022-06-30T01:37:46.355Z"
   },
   {
    "duration": 315,
    "start_time": "2022-06-30T01:37:46.809Z"
   },
   {
    "duration": 88,
    "start_time": "2022-06-30T01:37:47.126Z"
   },
   {
    "duration": 47,
    "start_time": "2022-06-30T01:37:47.215Z"
   },
   {
    "duration": 21,
    "start_time": "2022-06-30T01:37:47.264Z"
   },
   {
    "duration": 27,
    "start_time": "2022-06-30T01:37:47.287Z"
   },
   {
    "duration": 25,
    "start_time": "2022-06-30T01:37:47.329Z"
   },
   {
    "duration": 28,
    "start_time": "2022-06-30T01:37:47.356Z"
   },
   {
    "duration": 12,
    "start_time": "2022-06-30T01:37:47.387Z"
   },
   {
    "duration": 34,
    "start_time": "2022-06-30T01:37:47.401Z"
   },
   {
    "duration": 18,
    "start_time": "2022-06-30T01:37:47.436Z"
   },
   {
    "duration": 10,
    "start_time": "2022-06-30T01:37:47.455Z"
   },
   {
    "duration": 8,
    "start_time": "2022-06-30T01:37:47.466Z"
   },
   {
    "duration": 8,
    "start_time": "2022-06-30T01:37:47.476Z"
   },
   {
    "duration": 5,
    "start_time": "2022-06-30T01:37:47.486Z"
   },
   {
    "duration": 11,
    "start_time": "2022-06-30T01:37:47.492Z"
   },
   {
    "duration": 4,
    "start_time": "2022-06-30T01:37:47.505Z"
   },
   {
    "duration": 24,
    "start_time": "2022-06-30T01:37:47.526Z"
   },
   {
    "duration": 7,
    "start_time": "2022-06-30T01:37:47.552Z"
   },
   {
    "duration": 9,
    "start_time": "2022-06-30T01:37:47.560Z"
   },
   {
    "duration": 16,
    "start_time": "2022-06-30T01:37:47.570Z"
   },
   {
    "duration": 5,
    "start_time": "2022-06-30T01:37:47.588Z"
   },
   {
    "duration": 33,
    "start_time": "2022-06-30T01:37:47.594Z"
   },
   {
    "duration": 38,
    "start_time": "2022-06-30T01:38:25.146Z"
   },
   {
    "duration": 34,
    "start_time": "2022-06-30T01:38:51.703Z"
   },
   {
    "duration": 193,
    "start_time": "2022-06-30T01:41:31.063Z"
   },
   {
    "duration": 83,
    "start_time": "2022-06-30T01:41:53.785Z"
   },
   {
    "duration": 16,
    "start_time": "2022-06-30T01:43:13.520Z"
   },
   {
    "duration": 21,
    "start_time": "2022-06-30T01:43:16.870Z"
   },
   {
    "duration": 29,
    "start_time": "2022-06-30T01:43:21.647Z"
   },
   {
    "duration": 21,
    "start_time": "2022-06-30T01:48:12.826Z"
   },
   {
    "duration": 1083,
    "start_time": "2022-06-30T18:49:19.321Z"
   },
   {
    "duration": 615,
    "start_time": "2022-06-30T18:49:20.406Z"
   },
   {
    "duration": 453,
    "start_time": "2022-06-30T18:49:21.022Z"
   },
   {
    "duration": 131,
    "start_time": "2022-06-30T18:49:21.477Z"
   },
   {
    "duration": 36,
    "start_time": "2022-06-30T18:49:21.610Z"
   },
   {
    "duration": 17,
    "start_time": "2022-06-30T18:49:21.648Z"
   },
   {
    "duration": 29,
    "start_time": "2022-06-30T18:49:21.667Z"
   },
   {
    "duration": 36,
    "start_time": "2022-06-30T18:49:21.699Z"
   },
   {
    "duration": 27,
    "start_time": "2022-06-30T18:49:21.737Z"
   },
   {
    "duration": 13,
    "start_time": "2022-06-30T18:49:21.767Z"
   },
   {
    "duration": 9,
    "start_time": "2022-06-30T18:49:21.781Z"
   },
   {
    "duration": 37,
    "start_time": "2022-06-30T18:49:21.792Z"
   },
   {
    "duration": 8,
    "start_time": "2022-06-30T18:49:21.831Z"
   },
   {
    "duration": 116,
    "start_time": "2022-06-30T18:49:21.840Z"
   },
   {
    "duration": 0,
    "start_time": "2022-06-30T18:49:21.958Z"
   },
   {
    "duration": 0,
    "start_time": "2022-06-30T18:49:21.959Z"
   },
   {
    "duration": 0,
    "start_time": "2022-06-30T18:49:21.960Z"
   },
   {
    "duration": 0,
    "start_time": "2022-06-30T18:49:21.961Z"
   },
   {
    "duration": 0,
    "start_time": "2022-06-30T18:49:21.963Z"
   },
   {
    "duration": 0,
    "start_time": "2022-06-30T18:49:21.964Z"
   },
   {
    "duration": 0,
    "start_time": "2022-06-30T18:49:21.964Z"
   },
   {
    "duration": 3,
    "start_time": "2022-06-30T18:51:13.972Z"
   },
   {
    "duration": 13,
    "start_time": "2022-06-30T18:51:49.699Z"
   },
   {
    "duration": 14,
    "start_time": "2022-06-30T18:52:23.251Z"
   },
   {
    "duration": 13,
    "start_time": "2022-06-30T19:46:03.133Z"
   },
   {
    "duration": 1012,
    "start_time": "2022-06-30T19:46:20.275Z"
   },
   {
    "duration": 405,
    "start_time": "2022-06-30T19:46:21.289Z"
   },
   {
    "duration": 280,
    "start_time": "2022-06-30T19:46:21.695Z"
   },
   {
    "duration": 74,
    "start_time": "2022-06-30T19:46:21.976Z"
   },
   {
    "duration": 35,
    "start_time": "2022-06-30T19:46:22.052Z"
   },
   {
    "duration": 17,
    "start_time": "2022-06-30T19:46:22.089Z"
   },
   {
    "duration": 43,
    "start_time": "2022-06-30T19:46:22.108Z"
   },
   {
    "duration": 16,
    "start_time": "2022-06-30T19:46:22.153Z"
   },
   {
    "duration": 25,
    "start_time": "2022-06-30T19:46:22.171Z"
   },
   {
    "duration": 41,
    "start_time": "2022-06-30T19:46:22.198Z"
   },
   {
    "duration": 12,
    "start_time": "2022-06-30T19:46:22.241Z"
   },
   {
    "duration": 4,
    "start_time": "2022-06-30T19:46:22.255Z"
   },
   {
    "duration": 11,
    "start_time": "2022-06-30T19:46:22.260Z"
   },
   {
    "duration": 123,
    "start_time": "2022-06-30T19:46:22.273Z"
   },
   {
    "duration": 0,
    "start_time": "2022-06-30T19:46:22.398Z"
   },
   {
    "duration": 0,
    "start_time": "2022-06-30T19:46:22.399Z"
   },
   {
    "duration": 0,
    "start_time": "2022-06-30T19:46:22.401Z"
   },
   {
    "duration": 0,
    "start_time": "2022-06-30T19:46:22.402Z"
   },
   {
    "duration": 0,
    "start_time": "2022-06-30T19:46:22.403Z"
   },
   {
    "duration": 0,
    "start_time": "2022-06-30T19:46:22.405Z"
   },
   {
    "duration": 0,
    "start_time": "2022-06-30T19:46:22.406Z"
   },
   {
    "duration": 5,
    "start_time": "2022-06-30T19:46:46.274Z"
   },
   {
    "duration": 5,
    "start_time": "2022-06-30T19:46:48.515Z"
   },
   {
    "duration": 21,
    "start_time": "2022-06-30T19:46:53.224Z"
   },
   {
    "duration": 4,
    "start_time": "2022-06-30T19:47:03.885Z"
   },
   {
    "duration": 6,
    "start_time": "2022-06-30T19:47:07.835Z"
   },
   {
    "duration": 13,
    "start_time": "2022-06-30T19:47:20.195Z"
   },
   {
    "duration": 12,
    "start_time": "2022-06-30T19:47:34.015Z"
   },
   {
    "duration": 17,
    "start_time": "2022-06-30T19:48:08.628Z"
   },
   {
    "duration": 14,
    "start_time": "2022-06-30T19:48:39.096Z"
   },
   {
    "duration": 1017,
    "start_time": "2022-06-30T19:48:56.566Z"
   },
   {
    "duration": 401,
    "start_time": "2022-06-30T19:48:57.585Z"
   },
   {
    "duration": 293,
    "start_time": "2022-06-30T19:48:57.988Z"
   },
   {
    "duration": 76,
    "start_time": "2022-06-30T19:48:58.282Z"
   },
   {
    "duration": 36,
    "start_time": "2022-06-30T19:48:58.361Z"
   },
   {
    "duration": 32,
    "start_time": "2022-06-30T19:48:58.398Z"
   },
   {
    "duration": 27,
    "start_time": "2022-06-30T19:48:58.432Z"
   },
   {
    "duration": 20,
    "start_time": "2022-06-30T19:48:58.461Z"
   },
   {
    "duration": 51,
    "start_time": "2022-06-30T19:48:58.483Z"
   },
   {
    "duration": 13,
    "start_time": "2022-06-30T19:48:58.537Z"
   },
   {
    "duration": 10,
    "start_time": "2022-06-30T19:48:58.552Z"
   },
   {
    "duration": 25,
    "start_time": "2022-06-30T19:48:58.565Z"
   },
   {
    "duration": 14,
    "start_time": "2022-06-30T19:48:58.592Z"
   },
   {
    "duration": 3,
    "start_time": "2022-06-30T19:48:58.609Z"
   },
   {
    "duration": 15,
    "start_time": "2022-06-30T19:48:58.613Z"
   },
   {
    "duration": 6,
    "start_time": "2022-06-30T19:48:58.630Z"
   },
   {
    "duration": 14,
    "start_time": "2022-06-30T19:48:58.638Z"
   },
   {
    "duration": 21,
    "start_time": "2022-06-30T19:48:58.653Z"
   },
   {
    "duration": 9,
    "start_time": "2022-06-30T19:48:58.676Z"
   },
   {
    "duration": 23,
    "start_time": "2022-06-30T19:48:58.687Z"
   },
   {
    "duration": 28,
    "start_time": "2022-06-30T19:48:58.727Z"
   },
   {
    "duration": 55,
    "start_time": "2022-06-30T20:27:52.846Z"
   },
   {
    "duration": 5,
    "start_time": "2022-06-30T20:28:02.694Z"
   },
   {
    "duration": 418,
    "start_time": "2022-06-30T20:28:06.024Z"
   },
   {
    "duration": 104,
    "start_time": "2022-06-30T20:28:42.044Z"
   },
   {
    "duration": 817,
    "start_time": "2022-06-30T20:29:19.404Z"
   },
   {
    "duration": 14,
    "start_time": "2022-06-30T20:29:29.304Z"
   },
   {
    "duration": 15,
    "start_time": "2022-06-30T20:30:18.876Z"
   },
   {
    "duration": 48,
    "start_time": "2022-06-30T20:30:43.041Z"
   },
   {
    "duration": 14,
    "start_time": "2022-06-30T20:31:00.765Z"
   },
   {
    "duration": 18,
    "start_time": "2022-06-30T20:31:33.926Z"
   },
   {
    "duration": 7,
    "start_time": "2022-06-30T20:31:55.896Z"
   },
   {
    "duration": 1071,
    "start_time": "2022-06-30T22:06:33.808Z"
   },
   {
    "duration": 572,
    "start_time": "2022-06-30T22:06:34.882Z"
   },
   {
    "duration": 442,
    "start_time": "2022-06-30T22:06:35.456Z"
   },
   {
    "duration": 130,
    "start_time": "2022-06-30T22:06:35.900Z"
   },
   {
    "duration": 42,
    "start_time": "2022-06-30T22:06:36.032Z"
   },
   {
    "duration": 20,
    "start_time": "2022-06-30T22:06:36.076Z"
   },
   {
    "duration": 52,
    "start_time": "2022-06-30T22:06:36.099Z"
   },
   {
    "duration": 18,
    "start_time": "2022-06-30T22:06:36.153Z"
   },
   {
    "duration": 32,
    "start_time": "2022-06-30T22:06:36.173Z"
   },
   {
    "duration": 12,
    "start_time": "2022-06-30T22:06:36.206Z"
   },
   {
    "duration": 33,
    "start_time": "2022-06-30T22:06:36.219Z"
   },
   {
    "duration": 7,
    "start_time": "2022-06-30T22:06:36.253Z"
   },
   {
    "duration": 342,
    "start_time": "2022-06-30T22:06:36.262Z"
   },
   {
    "duration": 7,
    "start_time": "2022-06-30T22:06:36.608Z"
   },
   {
    "duration": 4,
    "start_time": "2022-06-30T22:06:36.617Z"
   },
   {
    "duration": 29,
    "start_time": "2022-06-30T22:06:36.623Z"
   },
   {
    "duration": 10,
    "start_time": "2022-06-30T22:06:36.654Z"
   },
   {
    "duration": 14,
    "start_time": "2022-06-30T22:06:36.666Z"
   },
   {
    "duration": 8,
    "start_time": "2022-06-30T22:06:36.681Z"
   },
   {
    "duration": 27,
    "start_time": "2022-06-30T22:06:36.691Z"
   },
   {
    "duration": 50,
    "start_time": "2022-06-30T22:06:36.720Z"
   },
   {
    "duration": 121,
    "start_time": "2022-06-30T22:10:15.637Z"
   },
   {
    "duration": 126,
    "start_time": "2022-06-30T22:10:28.428Z"
   },
   {
    "duration": 87,
    "start_time": "2022-06-30T22:11:04.307Z"
   },
   {
    "duration": 38,
    "start_time": "2022-06-30T22:11:37.067Z"
   },
   {
    "duration": 3,
    "start_time": "2022-06-30T22:17:26.678Z"
   },
   {
    "duration": 104,
    "start_time": "2022-06-30T22:19:04.524Z"
   },
   {
    "duration": 86,
    "start_time": "2022-06-30T22:19:43.359Z"
   },
   {
    "duration": 59,
    "start_time": "2022-06-30T22:19:59.161Z"
   },
   {
    "duration": 32,
    "start_time": "2022-06-30T22:24:40.018Z"
   },
   {
    "duration": 32,
    "start_time": "2022-06-30T22:27:13.987Z"
   },
   {
    "duration": 32,
    "start_time": "2022-06-30T22:27:38.341Z"
   },
   {
    "duration": 20,
    "start_time": "2022-06-30T22:30:12.769Z"
   },
   {
    "duration": 39,
    "start_time": "2022-06-30T22:34:48.458Z"
   },
   {
    "duration": 20,
    "start_time": "2022-06-30T22:35:29.869Z"
   },
   {
    "duration": 28,
    "start_time": "2022-06-30T22:36:33.258Z"
   },
   {
    "duration": 31,
    "start_time": "2022-06-30T22:38:32.780Z"
   },
   {
    "duration": 15,
    "start_time": "2022-06-30T22:40:30.110Z"
   },
   {
    "duration": 14,
    "start_time": "2022-06-30T22:40:40.641Z"
   },
   {
    "duration": 11,
    "start_time": "2022-06-30T22:42:30.541Z"
   },
   {
    "duration": 17,
    "start_time": "2022-06-30T22:43:46.374Z"
   },
   {
    "duration": 3,
    "start_time": "2022-06-30T23:06:42.622Z"
   },
   {
    "duration": 2,
    "start_time": "2022-06-30T23:11:07.503Z"
   },
   {
    "duration": 5,
    "start_time": "2022-06-30T23:14:31.842Z"
   },
   {
    "duration": 6,
    "start_time": "2022-06-30T23:17:12.403Z"
   },
   {
    "duration": 5,
    "start_time": "2022-06-30T23:17:22.702Z"
   },
   {
    "duration": 5,
    "start_time": "2022-06-30T23:17:54.782Z"
   },
   {
    "duration": 5,
    "start_time": "2022-06-30T23:18:08.553Z"
   },
   {
    "duration": 6,
    "start_time": "2022-06-30T23:18:37.461Z"
   },
   {
    "duration": 5,
    "start_time": "2022-06-30T23:19:15.533Z"
   },
   {
    "duration": 5,
    "start_time": "2022-06-30T23:19:23.983Z"
   },
   {
    "duration": 6,
    "start_time": "2022-06-30T23:19:30.604Z"
   },
   {
    "duration": 6,
    "start_time": "2022-06-30T23:20:09.622Z"
   },
   {
    "duration": 5,
    "start_time": "2022-06-30T23:20:29.542Z"
   },
   {
    "duration": 33,
    "start_time": "2022-06-30T23:28:40.543Z"
   },
   {
    "duration": 32,
    "start_time": "2022-06-30T23:29:24.682Z"
   },
   {
    "duration": 9,
    "start_time": "2022-06-30T23:30:08.424Z"
   },
   {
    "duration": 7,
    "start_time": "2022-06-30T23:30:49.982Z"
   },
   {
    "duration": 6,
    "start_time": "2022-06-30T23:31:46.422Z"
   },
   {
    "duration": 6,
    "start_time": "2022-06-30T23:31:58.673Z"
   },
   {
    "duration": 6,
    "start_time": "2022-06-30T23:32:21.062Z"
   },
   {
    "duration": 7,
    "start_time": "2022-06-30T23:32:54.324Z"
   },
   {
    "duration": 7,
    "start_time": "2022-06-30T23:33:18.675Z"
   },
   {
    "duration": 13,
    "start_time": "2022-06-30T23:34:56.783Z"
   },
   {
    "duration": 5,
    "start_time": "2022-06-30T23:35:16.353Z"
   },
   {
    "duration": 1240,
    "start_time": "2022-06-30T23:47:44.495Z"
   },
   {
    "duration": 12,
    "start_time": "2022-06-30T23:48:52.174Z"
   },
   {
    "duration": 12,
    "start_time": "2022-06-30T23:50:48.674Z"
   },
   {
    "duration": 1044,
    "start_time": "2022-07-01T07:54:35.866Z"
   },
   {
    "duration": 578,
    "start_time": "2022-07-01T07:54:36.911Z"
   },
   {
    "duration": 407,
    "start_time": "2022-07-01T07:54:37.491Z"
   },
   {
    "duration": 115,
    "start_time": "2022-07-01T07:54:37.900Z"
   },
   {
    "duration": 34,
    "start_time": "2022-07-01T07:54:38.016Z"
   },
   {
    "duration": 17,
    "start_time": "2022-07-01T07:54:38.051Z"
   },
   {
    "duration": 27,
    "start_time": "2022-07-01T07:54:38.070Z"
   },
   {
    "duration": 16,
    "start_time": "2022-07-01T07:54:38.099Z"
   },
   {
    "duration": 26,
    "start_time": "2022-07-01T07:54:38.116Z"
   },
   {
    "duration": 13,
    "start_time": "2022-07-01T07:54:38.167Z"
   },
   {
    "duration": 10,
    "start_time": "2022-07-01T07:54:38.181Z"
   },
   {
    "duration": 6,
    "start_time": "2022-07-01T07:54:38.192Z"
   },
   {
    "duration": 320,
    "start_time": "2022-07-01T07:54:38.199Z"
   },
   {
    "duration": 6,
    "start_time": "2022-07-01T07:54:38.520Z"
   },
   {
    "duration": 6,
    "start_time": "2022-07-01T07:54:38.527Z"
   },
   {
    "duration": 6,
    "start_time": "2022-07-01T07:54:38.534Z"
   },
   {
    "duration": 9,
    "start_time": "2022-07-01T07:54:38.541Z"
   },
   {
    "duration": 13,
    "start_time": "2022-07-01T07:54:38.567Z"
   },
   {
    "duration": 7,
    "start_time": "2022-07-01T07:54:38.582Z"
   },
   {
    "duration": 29,
    "start_time": "2022-07-01T07:54:38.591Z"
   },
   {
    "duration": 24,
    "start_time": "2022-07-01T07:54:38.622Z"
   },
   {
    "duration": 129,
    "start_time": "2022-07-01T07:54:38.647Z"
   },
   {
    "duration": 76,
    "start_time": "2022-07-01T07:54:38.778Z"
   },
   {
    "duration": 63,
    "start_time": "2022-07-01T07:54:38.855Z"
   },
   {
    "duration": 3,
    "start_time": "2022-07-01T07:54:38.920Z"
   },
   {
    "duration": 129,
    "start_time": "2022-07-01T07:54:38.925Z"
   },
   {
    "duration": 38,
    "start_time": "2022-07-01T07:54:39.056Z"
   },
   {
    "duration": 17,
    "start_time": "2022-07-01T07:54:39.098Z"
   },
   {
    "duration": 16,
    "start_time": "2022-07-01T07:54:39.116Z"
   },
   {
    "duration": 35,
    "start_time": "2022-07-01T07:54:39.133Z"
   },
   {
    "duration": 7,
    "start_time": "2022-07-01T07:54:39.170Z"
   },
   {
    "duration": 8,
    "start_time": "2022-07-01T07:54:39.178Z"
   },
   {
    "duration": 15,
    "start_time": "2022-07-01T07:54:39.188Z"
   },
   {
    "duration": 19,
    "start_time": "2022-07-01T07:54:39.204Z"
   },
   {
    "duration": 9,
    "start_time": "2022-07-01T07:57:21.886Z"
   },
   {
    "duration": 58,
    "start_time": "2022-07-01T07:57:31.406Z"
   },
   {
    "duration": 6,
    "start_time": "2022-07-01T07:57:39.376Z"
   },
   {
    "duration": 5,
    "start_time": "2022-07-01T07:57:48.626Z"
   },
   {
    "duration": 6,
    "start_time": "2022-07-01T07:58:22.768Z"
   },
   {
    "duration": 8,
    "start_time": "2022-07-01T08:00:11.486Z"
   },
   {
    "duration": 22,
    "start_time": "2022-07-01T08:02:22.026Z"
   },
   {
    "duration": 33,
    "start_time": "2022-07-01T08:02:27.397Z"
   },
   {
    "duration": 26,
    "start_time": "2022-07-01T08:02:41.128Z"
   },
   {
    "duration": 7,
    "start_time": "2022-07-01T08:03:32.256Z"
   },
   {
    "duration": 19,
    "start_time": "2022-07-01T08:05:43.837Z"
   },
   {
    "duration": 29,
    "start_time": "2022-07-01T08:05:49.969Z"
   },
   {
    "duration": 29,
    "start_time": "2022-07-01T08:05:58.709Z"
   },
   {
    "duration": 7,
    "start_time": "2022-07-01T08:06:11.435Z"
   },
   {
    "duration": 1124,
    "start_time": "2022-07-01T23:55:01.777Z"
   },
   {
    "duration": 695,
    "start_time": "2022-07-01T23:55:02.903Z"
   },
   {
    "duration": 512,
    "start_time": "2022-07-01T23:55:03.600Z"
   },
   {
    "duration": 168,
    "start_time": "2022-07-01T23:55:04.113Z"
   },
   {
    "duration": 34,
    "start_time": "2022-07-01T23:55:04.284Z"
   },
   {
    "duration": 18,
    "start_time": "2022-07-01T23:55:04.319Z"
   },
   {
    "duration": 44,
    "start_time": "2022-07-01T23:55:04.339Z"
   },
   {
    "duration": 22,
    "start_time": "2022-07-01T23:55:04.386Z"
   },
   {
    "duration": 47,
    "start_time": "2022-07-01T23:55:04.410Z"
   },
   {
    "duration": 22,
    "start_time": "2022-07-01T23:55:04.462Z"
   },
   {
    "duration": 21,
    "start_time": "2022-07-01T23:55:04.485Z"
   },
   {
    "duration": 6,
    "start_time": "2022-07-01T23:55:04.508Z"
   },
   {
    "duration": 357,
    "start_time": "2022-07-01T23:55:04.516Z"
   },
   {
    "duration": 8,
    "start_time": "2022-07-01T23:55:04.882Z"
   },
   {
    "duration": 4,
    "start_time": "2022-07-01T23:55:04.892Z"
   },
   {
    "duration": 6,
    "start_time": "2022-07-01T23:55:04.897Z"
   },
   {
    "duration": 8,
    "start_time": "2022-07-01T23:55:04.904Z"
   },
   {
    "duration": 42,
    "start_time": "2022-07-01T23:55:04.913Z"
   },
   {
    "duration": 15,
    "start_time": "2022-07-01T23:55:04.967Z"
   },
   {
    "duration": 19,
    "start_time": "2022-07-01T23:55:04.984Z"
   },
   {
    "duration": 24,
    "start_time": "2022-07-01T23:55:05.004Z"
   },
   {
    "duration": 138,
    "start_time": "2022-07-01T23:55:05.030Z"
   },
   {
    "duration": 90,
    "start_time": "2022-07-01T23:55:05.172Z"
   },
   {
    "duration": 45,
    "start_time": "2022-07-01T23:55:05.263Z"
   },
   {
    "duration": 2,
    "start_time": "2022-07-01T23:55:05.310Z"
   },
   {
    "duration": 101,
    "start_time": "2022-07-01T23:55:05.314Z"
   },
   {
    "duration": 39,
    "start_time": "2022-07-01T23:55:05.416Z"
   },
   {
    "duration": 27,
    "start_time": "2022-07-01T23:55:05.457Z"
   },
   {
    "duration": 13,
    "start_time": "2022-07-01T23:55:05.486Z"
   },
   {
    "duration": 16,
    "start_time": "2022-07-01T23:55:05.501Z"
   },
   {
    "duration": 7,
    "start_time": "2022-07-01T23:55:05.518Z"
   },
   {
    "duration": 5,
    "start_time": "2022-07-01T23:55:05.527Z"
   },
   {
    "duration": 43,
    "start_time": "2022-07-01T23:55:05.534Z"
   },
   {
    "duration": 51,
    "start_time": "2022-07-01T23:55:05.581Z"
   },
   {
    "duration": 39,
    "start_time": "2022-07-01T23:55:05.635Z"
   },
   {
    "duration": 11,
    "start_time": "2022-07-01T23:55:05.677Z"
   },
   {
    "duration": 16,
    "start_time": "2022-07-01T23:55:05.690Z"
   },
   {
    "duration": 12,
    "start_time": "2022-07-01T23:55:05.708Z"
   },
   {
    "duration": 11,
    "start_time": "2022-07-01T23:56:34.628Z"
   },
   {
    "duration": 413,
    "start_time": "2022-07-02T00:03:35.089Z"
   },
   {
    "duration": 4,
    "start_time": "2022-07-02T00:35:40.782Z"
   },
   {
    "duration": 3,
    "start_time": "2022-07-02T00:37:32.978Z"
   },
   {
    "duration": 3,
    "start_time": "2022-07-02T00:40:02.279Z"
   },
   {
    "duration": 77,
    "start_time": "2022-07-02T00:47:06.204Z"
   },
   {
    "duration": 58,
    "start_time": "2022-07-02T00:47:30.845Z"
   },
   {
    "duration": 6,
    "start_time": "2022-07-02T00:50:12.564Z"
   },
   {
    "duration": 160,
    "start_time": "2022-07-02T00:50:48.647Z"
   },
   {
    "duration": 124,
    "start_time": "2022-07-02T00:52:21.122Z"
   },
   {
    "duration": 107,
    "start_time": "2022-07-02T00:53:05.440Z"
   },
   {
    "duration": 130,
    "start_time": "2022-07-02T00:53:19.178Z"
   },
   {
    "duration": 151,
    "start_time": "2022-07-02T00:55:47.025Z"
   },
   {
    "duration": 11,
    "start_time": "2022-07-02T01:03:22.589Z"
   },
   {
    "duration": 187,
    "start_time": "2022-07-02T01:04:14.800Z"
   },
   {
    "duration": 112,
    "start_time": "2022-07-02T01:11:09.087Z"
   },
   {
    "duration": 116,
    "start_time": "2022-07-02T01:11:18.546Z"
   },
   {
    "duration": 105,
    "start_time": "2022-07-02T01:11:23.976Z"
   },
   {
    "duration": 114,
    "start_time": "2022-07-02T01:11:32.076Z"
   },
   {
    "duration": 113,
    "start_time": "2022-07-02T01:11:38.447Z"
   },
   {
    "duration": 127,
    "start_time": "2022-07-02T01:14:29.263Z"
   },
   {
    "duration": 106,
    "start_time": "2022-07-02T01:15:51.378Z"
   },
   {
    "duration": 117,
    "start_time": "2022-07-02T01:16:53.947Z"
   },
   {
    "duration": 109,
    "start_time": "2022-07-02T01:17:15.837Z"
   },
   {
    "duration": 115,
    "start_time": "2022-07-02T01:24:31.079Z"
   },
   {
    "duration": 117,
    "start_time": "2022-07-02T01:24:45.983Z"
   },
   {
    "duration": 13,
    "start_time": "2022-07-02T01:27:35.974Z"
   },
   {
    "duration": 120,
    "start_time": "2022-07-02T01:27:43.454Z"
   },
   {
    "duration": 115,
    "start_time": "2022-07-02T01:27:54.889Z"
   },
   {
    "duration": 207,
    "start_time": "2022-07-02T01:39:07.679Z"
   },
   {
    "duration": 100,
    "start_time": "2022-07-02T01:39:46.019Z"
   },
   {
    "duration": 122,
    "start_time": "2022-07-02T01:41:26.130Z"
   },
   {
    "duration": 112,
    "start_time": "2022-07-02T01:41:34.961Z"
   },
   {
    "duration": 108,
    "start_time": "2022-07-02T01:43:33.991Z"
   },
   {
    "duration": 108,
    "start_time": "2022-07-02T01:43:51.067Z"
   },
   {
    "duration": 1766,
    "start_time": "2022-07-02T13:24:22.311Z"
   },
   {
    "duration": 2058,
    "start_time": "2022-07-02T13:24:24.079Z"
   },
   {
    "duration": 1552,
    "start_time": "2022-07-02T13:24:26.139Z"
   },
   {
    "duration": 415,
    "start_time": "2022-07-02T13:24:27.692Z"
   },
   {
    "duration": 45,
    "start_time": "2022-07-02T13:24:28.109Z"
   },
   {
    "duration": 21,
    "start_time": "2022-07-02T13:24:28.156Z"
   },
   {
    "duration": 30,
    "start_time": "2022-07-02T13:24:28.179Z"
   },
   {
    "duration": 40,
    "start_time": "2022-07-02T13:24:28.210Z"
   },
   {
    "duration": 28,
    "start_time": "2022-07-02T13:24:28.252Z"
   },
   {
    "duration": 14,
    "start_time": "2022-07-02T13:24:28.281Z"
   },
   {
    "duration": 10,
    "start_time": "2022-07-02T13:24:28.297Z"
   },
   {
    "duration": 38,
    "start_time": "2022-07-02T13:24:28.309Z"
   },
   {
    "duration": 334,
    "start_time": "2022-07-02T13:24:28.349Z"
   },
   {
    "duration": 8,
    "start_time": "2022-07-02T13:24:28.686Z"
   },
   {
    "duration": 6,
    "start_time": "2022-07-02T13:24:28.695Z"
   },
   {
    "duration": 6,
    "start_time": "2022-07-02T13:24:28.702Z"
   },
   {
    "duration": 30,
    "start_time": "2022-07-02T13:24:28.711Z"
   },
   {
    "duration": 18,
    "start_time": "2022-07-02T13:24:28.744Z"
   },
   {
    "duration": 8,
    "start_time": "2022-07-02T13:24:28.764Z"
   },
   {
    "duration": 32,
    "start_time": "2022-07-02T13:24:28.773Z"
   },
   {
    "duration": 61,
    "start_time": "2022-07-02T13:24:28.807Z"
   },
   {
    "duration": 141,
    "start_time": "2022-07-02T13:24:28.870Z"
   },
   {
    "duration": 94,
    "start_time": "2022-07-02T13:24:29.013Z"
   },
   {
    "duration": 54,
    "start_time": "2022-07-02T13:24:29.109Z"
   },
   {
    "duration": 3,
    "start_time": "2022-07-02T13:24:29.165Z"
   },
   {
    "duration": 109,
    "start_time": "2022-07-02T13:24:29.170Z"
   },
   {
    "duration": 30,
    "start_time": "2022-07-02T13:24:29.281Z"
   },
   {
    "duration": 31,
    "start_time": "2022-07-02T13:24:29.313Z"
   },
   {
    "duration": 12,
    "start_time": "2022-07-02T13:24:29.346Z"
   },
   {
    "duration": 17,
    "start_time": "2022-07-02T13:24:29.360Z"
   },
   {
    "duration": 8,
    "start_time": "2022-07-02T13:24:29.379Z"
   },
   {
    "duration": 21,
    "start_time": "2022-07-02T13:24:29.389Z"
   },
   {
    "duration": 62,
    "start_time": "2022-07-02T13:24:29.412Z"
   },
   {
    "duration": 31,
    "start_time": "2022-07-02T13:24:29.476Z"
   },
   {
    "duration": 7,
    "start_time": "2022-07-02T13:24:29.509Z"
   },
   {
    "duration": 79,
    "start_time": "2022-07-02T13:24:29.542Z"
   },
   {
    "duration": 66,
    "start_time": "2022-07-02T13:24:29.623Z"
   },
   {
    "duration": 15,
    "start_time": "2022-07-02T13:24:29.691Z"
   },
   {
    "duration": 179,
    "start_time": "2022-07-02T13:24:29.708Z"
   },
   {
    "duration": 156,
    "start_time": "2022-07-02T13:24:29.889Z"
   },
   {
    "duration": 153,
    "start_time": "2022-07-02T13:24:30.049Z"
   },
   {
    "duration": 23,
    "start_time": "2022-07-02T13:24:30.204Z"
   },
   {
    "duration": 222,
    "start_time": "2022-07-02T13:24:30.230Z"
   },
   {
    "duration": 146,
    "start_time": "2022-07-02T13:24:30.454Z"
   },
   {
    "duration": 144,
    "start_time": "2022-07-02T13:24:30.602Z"
   },
   {
    "duration": 13,
    "start_time": "2022-07-02T13:24:30.748Z"
   },
   {
    "duration": 146,
    "start_time": "2022-07-02T13:24:30.763Z"
   },
   {
    "duration": 157,
    "start_time": "2022-07-02T13:24:30.911Z"
   },
   {
    "duration": 137,
    "start_time": "2022-07-02T13:24:31.070Z"
   },
   {
    "duration": 3,
    "start_time": "2022-07-02T13:24:31.209Z"
   },
   {
    "duration": 16,
    "start_time": "2022-07-02T13:24:31.214Z"
   },
   {
    "duration": 36,
    "start_time": "2022-07-02T13:24:31.231Z"
   },
   {
    "duration": 11,
    "start_time": "2022-07-02T13:24:31.269Z"
   },
   {
    "duration": 6,
    "start_time": "2022-07-02T13:24:31.282Z"
   },
   {
    "duration": 211,
    "start_time": "2022-07-02T13:25:19.776Z"
   },
   {
    "duration": 8,
    "start_time": "2022-07-02T13:26:05.653Z"
   },
   {
    "duration": 206,
    "start_time": "2022-07-02T13:26:12.747Z"
   },
   {
    "duration": 53,
    "start_time": "2022-07-02T13:34:16.877Z"
   },
   {
    "duration": 6,
    "start_time": "2022-07-02T13:34:37.601Z"
   },
   {
    "duration": 7,
    "start_time": "2022-07-02T13:34:40.409Z"
   },
   {
    "duration": 145,
    "start_time": "2022-07-02T13:36:16.205Z"
   },
   {
    "duration": 5,
    "start_time": "2022-07-02T13:36:38.009Z"
   },
   {
    "duration": 3,
    "start_time": "2022-07-02T13:50:43.852Z"
   },
   {
    "duration": 917,
    "start_time": "2022-07-02T14:00:40.955Z"
   },
   {
    "duration": 4647,
    "start_time": "2022-07-02T14:00:57.887Z"
   },
   {
    "duration": 1464,
    "start_time": "2022-07-02T14:07:17.631Z"
   },
   {
    "duration": 434,
    "start_time": "2022-07-02T14:07:19.097Z"
   },
   {
    "duration": 314,
    "start_time": "2022-07-02T14:07:19.533Z"
   },
   {
    "duration": 88,
    "start_time": "2022-07-02T14:07:19.850Z"
   },
   {
    "duration": 41,
    "start_time": "2022-07-02T14:07:19.939Z"
   },
   {
    "duration": 20,
    "start_time": "2022-07-02T14:07:19.983Z"
   },
   {
    "duration": 54,
    "start_time": "2022-07-02T14:07:20.005Z"
   },
   {
    "duration": 24,
    "start_time": "2022-07-02T14:07:20.062Z"
   },
   {
    "duration": 57,
    "start_time": "2022-07-02T14:07:20.088Z"
   },
   {
    "duration": 14,
    "start_time": "2022-07-02T14:07:20.147Z"
   },
   {
    "duration": 10,
    "start_time": "2022-07-02T14:07:20.162Z"
   },
   {
    "duration": 7,
    "start_time": "2022-07-02T14:07:20.174Z"
   },
   {
    "duration": 399,
    "start_time": "2022-07-02T14:07:20.182Z"
   },
   {
    "duration": 6,
    "start_time": "2022-07-02T14:07:20.583Z"
   },
   {
    "duration": 11,
    "start_time": "2022-07-02T14:07:20.591Z"
   },
   {
    "duration": 7,
    "start_time": "2022-07-02T14:07:20.603Z"
   },
   {
    "duration": 7,
    "start_time": "2022-07-02T14:07:20.611Z"
   },
   {
    "duration": 31,
    "start_time": "2022-07-02T14:07:20.620Z"
   },
   {
    "duration": 7,
    "start_time": "2022-07-02T14:07:20.653Z"
   },
   {
    "duration": 25,
    "start_time": "2022-07-02T14:07:20.661Z"
   },
   {
    "duration": 28,
    "start_time": "2022-07-02T14:07:20.688Z"
   },
   {
    "duration": 154,
    "start_time": "2022-07-02T14:07:20.717Z"
   },
   {
    "duration": 96,
    "start_time": "2022-07-02T14:07:20.873Z"
   },
   {
    "duration": 47,
    "start_time": "2022-07-02T14:07:20.970Z"
   },
   {
    "duration": 4,
    "start_time": "2022-07-02T14:07:21.018Z"
   },
   {
    "duration": 121,
    "start_time": "2022-07-02T14:07:21.023Z"
   },
   {
    "duration": 29,
    "start_time": "2022-07-02T14:07:21.146Z"
   },
   {
    "duration": 15,
    "start_time": "2022-07-02T14:07:21.179Z"
   },
   {
    "duration": 21,
    "start_time": "2022-07-02T14:07:21.197Z"
   },
   {
    "duration": 35,
    "start_time": "2022-07-02T14:07:21.219Z"
   },
   {
    "duration": 9,
    "start_time": "2022-07-02T14:07:21.255Z"
   },
   {
    "duration": 20,
    "start_time": "2022-07-02T14:07:21.266Z"
   },
   {
    "duration": 36,
    "start_time": "2022-07-02T14:07:21.287Z"
   },
   {
    "duration": 33,
    "start_time": "2022-07-02T14:07:21.342Z"
   },
   {
    "duration": 6,
    "start_time": "2022-07-02T14:07:21.377Z"
   },
   {
    "duration": 98,
    "start_time": "2022-07-02T14:07:21.385Z"
   },
   {
    "duration": 43,
    "start_time": "2022-07-02T14:07:21.485Z"
   },
   {
    "duration": 21,
    "start_time": "2022-07-02T14:07:21.530Z"
   },
   {
    "duration": 166,
    "start_time": "2022-07-02T14:07:21.553Z"
   },
   {
    "duration": 151,
    "start_time": "2022-07-02T14:07:21.721Z"
   },
   {
    "duration": 139,
    "start_time": "2022-07-02T14:07:21.874Z"
   },
   {
    "duration": 12,
    "start_time": "2022-07-02T14:07:22.015Z"
   },
   {
    "duration": 208,
    "start_time": "2022-07-02T14:07:22.041Z"
   },
   {
    "duration": 144,
    "start_time": "2022-07-02T14:07:22.251Z"
   },
   {
    "duration": 179,
    "start_time": "2022-07-02T14:07:22.397Z"
   },
   {
    "duration": 13,
    "start_time": "2022-07-02T14:07:22.578Z"
   },
   {
    "duration": 143,
    "start_time": "2022-07-02T14:07:22.592Z"
   },
   {
    "duration": 147,
    "start_time": "2022-07-02T14:07:22.741Z"
   },
   {
    "duration": 139,
    "start_time": "2022-07-02T14:07:22.890Z"
   },
   {
    "duration": 12,
    "start_time": "2022-07-02T14:07:23.031Z"
   },
   {
    "duration": 7,
    "start_time": "2022-07-02T14:07:23.045Z"
   },
   {
    "duration": 17,
    "start_time": "2022-07-02T14:07:23.054Z"
   },
   {
    "duration": 14,
    "start_time": "2022-07-02T14:07:23.073Z"
   },
   {
    "duration": 256,
    "start_time": "2022-07-02T14:07:23.089Z"
   },
   {
    "duration": 96,
    "start_time": "2022-07-02T14:07:23.347Z"
   },
   {
    "duration": 403,
    "start_time": "2022-07-02T14:07:23.445Z"
   },
   {
    "duration": 96,
    "start_time": "2022-07-02T14:07:23.850Z"
   },
   {
    "duration": 1447,
    "start_time": "2022-07-02T14:12:02.761Z"
   },
   {
    "duration": 411,
    "start_time": "2022-07-02T14:12:04.210Z"
   },
   {
    "duration": 294,
    "start_time": "2022-07-02T14:12:04.622Z"
   },
   {
    "duration": 80,
    "start_time": "2022-07-02T14:12:04.919Z"
   },
   {
    "duration": 43,
    "start_time": "2022-07-02T14:12:05.001Z"
   },
   {
    "duration": 21,
    "start_time": "2022-07-02T14:12:05.046Z"
   },
   {
    "duration": 33,
    "start_time": "2022-07-02T14:12:05.069Z"
   },
   {
    "duration": 50,
    "start_time": "2022-07-02T14:12:05.104Z"
   },
   {
    "duration": 28,
    "start_time": "2022-07-02T14:12:05.156Z"
   },
   {
    "duration": 13,
    "start_time": "2022-07-02T14:12:05.187Z"
   },
   {
    "duration": 10,
    "start_time": "2022-07-02T14:12:05.202Z"
   },
   {
    "duration": 5,
    "start_time": "2022-07-02T14:12:05.242Z"
   },
   {
    "duration": 353,
    "start_time": "2022-07-02T14:12:05.248Z"
   },
   {
    "duration": 7,
    "start_time": "2022-07-02T14:12:05.603Z"
   },
   {
    "duration": 9,
    "start_time": "2022-07-02T14:12:05.612Z"
   },
   {
    "duration": 21,
    "start_time": "2022-07-02T14:12:05.622Z"
   },
   {
    "duration": 10,
    "start_time": "2022-07-02T14:12:05.645Z"
   },
   {
    "duration": 15,
    "start_time": "2022-07-02T14:12:05.657Z"
   },
   {
    "duration": 8,
    "start_time": "2022-07-02T14:12:05.673Z"
   },
   {
    "duration": 25,
    "start_time": "2022-07-02T14:12:05.682Z"
   },
   {
    "duration": 54,
    "start_time": "2022-07-02T14:12:05.709Z"
   },
   {
    "duration": 135,
    "start_time": "2022-07-02T14:12:05.765Z"
   },
   {
    "duration": 101,
    "start_time": "2022-07-02T14:12:05.902Z"
   },
   {
    "duration": 70,
    "start_time": "2022-07-02T14:12:06.005Z"
   },
   {
    "duration": 3,
    "start_time": "2022-07-02T14:12:06.078Z"
   },
   {
    "duration": 113,
    "start_time": "2022-07-02T14:12:06.083Z"
   },
   {
    "duration": 30,
    "start_time": "2022-07-02T14:12:06.197Z"
   },
   {
    "duration": 25,
    "start_time": "2022-07-02T14:12:06.231Z"
   },
   {
    "duration": 16,
    "start_time": "2022-07-02T14:12:06.257Z"
   },
   {
    "duration": 14,
    "start_time": "2022-07-02T14:12:06.275Z"
   },
   {
    "duration": 9,
    "start_time": "2022-07-02T14:12:06.291Z"
   },
   {
    "duration": 47,
    "start_time": "2022-07-02T14:12:06.301Z"
   },
   {
    "duration": 33,
    "start_time": "2022-07-02T14:12:06.350Z"
   },
   {
    "duration": 29,
    "start_time": "2022-07-02T14:12:06.384Z"
   },
   {
    "duration": 29,
    "start_time": "2022-07-02T14:12:06.414Z"
   },
   {
    "duration": 81,
    "start_time": "2022-07-02T14:12:06.444Z"
   },
   {
    "duration": 57,
    "start_time": "2022-07-02T14:12:06.526Z"
   },
   {
    "duration": 11,
    "start_time": "2022-07-02T14:12:06.585Z"
   },
   {
    "duration": 152,
    "start_time": "2022-07-02T14:12:06.597Z"
   },
   {
    "duration": 159,
    "start_time": "2022-07-02T14:12:06.751Z"
   },
   {
    "duration": 178,
    "start_time": "2022-07-02T14:12:06.913Z"
   },
   {
    "duration": 15,
    "start_time": "2022-07-02T14:12:07.094Z"
   },
   {
    "duration": 224,
    "start_time": "2022-07-02T14:12:07.111Z"
   },
   {
    "duration": 173,
    "start_time": "2022-07-02T14:12:07.341Z"
   },
   {
    "duration": 146,
    "start_time": "2022-07-02T14:12:07.516Z"
   },
   {
    "duration": 12,
    "start_time": "2022-07-02T14:12:07.665Z"
   },
   {
    "duration": 137,
    "start_time": "2022-07-02T14:12:07.679Z"
   },
   {
    "duration": 149,
    "start_time": "2022-07-02T14:12:07.818Z"
   },
   {
    "duration": 144,
    "start_time": "2022-07-02T14:12:07.969Z"
   },
   {
    "duration": 3,
    "start_time": "2022-07-02T14:12:08.115Z"
   },
   {
    "duration": 8,
    "start_time": "2022-07-02T14:12:08.120Z"
   },
   {
    "duration": 17,
    "start_time": "2022-07-02T14:12:08.130Z"
   },
   {
    "duration": 10,
    "start_time": "2022-07-02T14:12:08.149Z"
   },
   {
    "duration": 286,
    "start_time": "2022-07-02T14:12:08.161Z"
   },
   {
    "duration": 96,
    "start_time": "2022-07-02T14:12:08.448Z"
   },
   {
    "duration": 403,
    "start_time": "2022-07-02T14:12:08.546Z"
   },
   {
    "duration": 93,
    "start_time": "2022-07-02T14:12:08.950Z"
   },
   {
    "duration": 1424,
    "start_time": "2022-07-02T14:24:56.760Z"
   },
   {
    "duration": 417,
    "start_time": "2022-07-02T14:24:58.186Z"
   },
   {
    "duration": 299,
    "start_time": "2022-07-02T14:24:58.604Z"
   },
   {
    "duration": 82,
    "start_time": "2022-07-02T14:24:58.905Z"
   },
   {
    "duration": 36,
    "start_time": "2022-07-02T14:24:58.990Z"
   },
   {
    "duration": 28,
    "start_time": "2022-07-02T14:24:59.028Z"
   },
   {
    "duration": 30,
    "start_time": "2022-07-02T14:24:59.058Z"
   },
   {
    "duration": 18,
    "start_time": "2022-07-02T14:24:59.091Z"
   },
   {
    "duration": 56,
    "start_time": "2022-07-02T14:24:59.111Z"
   },
   {
    "duration": 14,
    "start_time": "2022-07-02T14:24:59.168Z"
   },
   {
    "duration": 9,
    "start_time": "2022-07-02T14:24:59.184Z"
   },
   {
    "duration": 7,
    "start_time": "2022-07-02T14:24:59.195Z"
   },
   {
    "duration": 356,
    "start_time": "2022-07-02T14:24:59.204Z"
   },
   {
    "duration": 8,
    "start_time": "2022-07-02T14:24:59.563Z"
   },
   {
    "duration": 5,
    "start_time": "2022-07-02T14:24:59.572Z"
   },
   {
    "duration": 7,
    "start_time": "2022-07-02T14:24:59.578Z"
   },
   {
    "duration": 8,
    "start_time": "2022-07-02T14:24:59.586Z"
   },
   {
    "duration": 15,
    "start_time": "2022-07-02T14:24:59.595Z"
   },
   {
    "duration": 37,
    "start_time": "2022-07-02T14:24:59.611Z"
   },
   {
    "duration": 25,
    "start_time": "2022-07-02T14:24:59.649Z"
   },
   {
    "duration": 37,
    "start_time": "2022-07-02T14:24:59.676Z"
   },
   {
    "duration": 144,
    "start_time": "2022-07-02T14:24:59.714Z"
   },
   {
    "duration": 90,
    "start_time": "2022-07-02T14:24:59.860Z"
   },
   {
    "duration": 43,
    "start_time": "2022-07-02T14:24:59.952Z"
   },
   {
    "duration": 4,
    "start_time": "2022-07-02T14:24:59.997Z"
   },
   {
    "duration": 133,
    "start_time": "2022-07-02T14:25:00.002Z"
   },
   {
    "duration": 32,
    "start_time": "2022-07-02T14:25:00.137Z"
   },
   {
    "duration": 14,
    "start_time": "2022-07-02T14:25:00.171Z"
   },
   {
    "duration": 18,
    "start_time": "2022-07-02T14:25:00.187Z"
   },
   {
    "duration": 26,
    "start_time": "2022-07-02T14:25:00.207Z"
   },
   {
    "duration": 16,
    "start_time": "2022-07-02T14:25:00.242Z"
   },
   {
    "duration": 30,
    "start_time": "2022-07-02T14:25:00.259Z"
   },
   {
    "duration": 45,
    "start_time": "2022-07-02T14:25:00.292Z"
   },
   {
    "duration": 36,
    "start_time": "2022-07-02T14:25:00.340Z"
   },
   {
    "duration": 8,
    "start_time": "2022-07-02T14:25:00.377Z"
   },
   {
    "duration": 116,
    "start_time": "2022-07-02T14:25:00.386Z"
   },
   {
    "duration": 47,
    "start_time": "2022-07-02T14:25:00.504Z"
   },
   {
    "duration": 12,
    "start_time": "2022-07-02T14:25:00.553Z"
   },
   {
    "duration": 160,
    "start_time": "2022-07-02T14:25:00.567Z"
   },
   {
    "duration": 160,
    "start_time": "2022-07-02T14:25:00.729Z"
   },
   {
    "duration": 142,
    "start_time": "2022-07-02T14:25:00.893Z"
   },
   {
    "duration": 16,
    "start_time": "2022-07-02T14:25:01.037Z"
   },
   {
    "duration": 222,
    "start_time": "2022-07-02T14:25:01.054Z"
   },
   {
    "duration": 152,
    "start_time": "2022-07-02T14:25:01.278Z"
   },
   {
    "duration": 144,
    "start_time": "2022-07-02T14:25:01.432Z"
   },
   {
    "duration": 14,
    "start_time": "2022-07-02T14:25:01.578Z"
   },
   {
    "duration": 147,
    "start_time": "2022-07-02T14:25:01.594Z"
   },
   {
    "duration": 150,
    "start_time": "2022-07-02T14:25:01.743Z"
   },
   {
    "duration": 135,
    "start_time": "2022-07-02T14:25:01.894Z"
   },
   {
    "duration": 11,
    "start_time": "2022-07-02T14:25:02.030Z"
   },
   {
    "duration": 11,
    "start_time": "2022-07-02T14:25:02.043Z"
   },
   {
    "duration": 21,
    "start_time": "2022-07-02T14:25:02.056Z"
   },
   {
    "duration": 13,
    "start_time": "2022-07-02T14:25:02.079Z"
   },
   {
    "duration": 250,
    "start_time": "2022-07-02T14:25:02.094Z"
   },
   {
    "duration": 100,
    "start_time": "2022-07-02T14:25:02.347Z"
   },
   {
    "duration": 501,
    "start_time": "2022-07-02T14:25:02.450Z"
   },
   {
    "duration": 192,
    "start_time": "2022-07-02T14:25:02.953Z"
   },
   {
    "duration": 4,
    "start_time": "2022-07-02T14:25:03.147Z"
   },
   {
    "duration": 1402,
    "start_time": "2022-07-02T14:51:43.786Z"
   },
   {
    "duration": 412,
    "start_time": "2022-07-02T14:51:45.191Z"
   },
   {
    "duration": 302,
    "start_time": "2022-07-02T14:51:45.605Z"
   },
   {
    "duration": 82,
    "start_time": "2022-07-02T14:51:45.908Z"
   },
   {
    "duration": 37,
    "start_time": "2022-07-02T14:51:45.992Z"
   },
   {
    "duration": 29,
    "start_time": "2022-07-02T14:51:46.031Z"
   },
   {
    "duration": 38,
    "start_time": "2022-07-02T14:51:46.062Z"
   },
   {
    "duration": 42,
    "start_time": "2022-07-02T14:51:46.101Z"
   },
   {
    "duration": 29,
    "start_time": "2022-07-02T14:51:46.144Z"
   },
   {
    "duration": 15,
    "start_time": "2022-07-02T14:51:46.175Z"
   },
   {
    "duration": 10,
    "start_time": "2022-07-02T14:51:46.192Z"
   },
   {
    "duration": 39,
    "start_time": "2022-07-02T14:51:46.203Z"
   },
   {
    "duration": 341,
    "start_time": "2022-07-02T14:51:46.244Z"
   },
   {
    "duration": 7,
    "start_time": "2022-07-02T14:51:46.588Z"
   },
   {
    "duration": 9,
    "start_time": "2022-07-02T14:51:46.596Z"
   },
   {
    "duration": 10,
    "start_time": "2022-07-02T14:51:46.607Z"
   },
   {
    "duration": 23,
    "start_time": "2022-07-02T14:51:46.619Z"
   },
   {
    "duration": 16,
    "start_time": "2022-07-02T14:51:46.644Z"
   },
   {
    "duration": 8,
    "start_time": "2022-07-02T14:51:46.662Z"
   },
   {
    "duration": 32,
    "start_time": "2022-07-02T14:51:46.671Z"
   },
   {
    "duration": 61,
    "start_time": "2022-07-02T14:51:46.705Z"
   },
   {
    "duration": 164,
    "start_time": "2022-07-02T14:51:46.768Z"
   },
   {
    "duration": 108,
    "start_time": "2022-07-02T14:51:46.934Z"
   },
   {
    "duration": 43,
    "start_time": "2022-07-02T14:51:47.044Z"
   },
   {
    "duration": 4,
    "start_time": "2022-07-02T14:51:47.089Z"
   },
   {
    "duration": 120,
    "start_time": "2022-07-02T14:51:47.094Z"
   },
   {
    "duration": 36,
    "start_time": "2022-07-02T14:51:47.216Z"
   },
   {
    "duration": 14,
    "start_time": "2022-07-02T14:51:47.253Z"
   },
   {
    "duration": 14,
    "start_time": "2022-07-02T14:51:47.269Z"
   },
   {
    "duration": 14,
    "start_time": "2022-07-02T14:51:47.285Z"
   },
   {
    "duration": 9,
    "start_time": "2022-07-02T14:51:47.301Z"
   },
   {
    "duration": 47,
    "start_time": "2022-07-02T14:51:47.312Z"
   },
   {
    "duration": 36,
    "start_time": "2022-07-02T14:51:47.361Z"
   },
   {
    "duration": 50,
    "start_time": "2022-07-02T14:51:47.398Z"
   },
   {
    "duration": 6,
    "start_time": "2022-07-02T14:51:47.450Z"
   },
   {
    "duration": 91,
    "start_time": "2022-07-02T14:51:47.458Z"
   },
   {
    "duration": 43,
    "start_time": "2022-07-02T14:51:47.551Z"
   },
   {
    "duration": 12,
    "start_time": "2022-07-02T14:51:47.596Z"
   },
   {
    "duration": 164,
    "start_time": "2022-07-02T14:51:47.610Z"
   },
   {
    "duration": 147,
    "start_time": "2022-07-02T14:51:47.776Z"
   },
   {
    "duration": 148,
    "start_time": "2022-07-02T14:51:47.927Z"
   },
   {
    "duration": 12,
    "start_time": "2022-07-02T14:51:48.076Z"
   },
   {
    "duration": 221,
    "start_time": "2022-07-02T14:51:48.089Z"
   },
   {
    "duration": 138,
    "start_time": "2022-07-02T14:51:48.312Z"
   },
   {
    "duration": 146,
    "start_time": "2022-07-02T14:51:48.452Z"
   },
   {
    "duration": 11,
    "start_time": "2022-07-02T14:51:48.600Z"
   },
   {
    "duration": 138,
    "start_time": "2022-07-02T14:51:48.613Z"
   },
   {
    "duration": 149,
    "start_time": "2022-07-02T14:51:48.752Z"
   },
   {
    "duration": 143,
    "start_time": "2022-07-02T14:51:48.903Z"
   },
   {
    "duration": 4,
    "start_time": "2022-07-02T14:51:49.047Z"
   },
   {
    "duration": 5,
    "start_time": "2022-07-02T14:51:49.053Z"
   },
   {
    "duration": 11,
    "start_time": "2022-07-02T14:51:49.060Z"
   },
   {
    "duration": 9,
    "start_time": "2022-07-02T14:51:49.072Z"
   },
   {
    "duration": 263,
    "start_time": "2022-07-02T14:51:49.083Z"
   },
   {
    "duration": 102,
    "start_time": "2022-07-02T14:51:49.347Z"
   },
   {
    "duration": 492,
    "start_time": "2022-07-02T14:51:49.451Z"
   },
   {
    "duration": 105,
    "start_time": "2022-07-02T14:51:49.944Z"
   },
   {
    "duration": 99,
    "start_time": "2022-07-02T14:51:50.050Z"
   },
   {
    "duration": 30605,
    "start_time": "2022-07-02T14:51:50.151Z"
   },
   {
    "duration": 0,
    "start_time": "2022-07-02T14:52:20.758Z"
   },
   {
    "duration": 0,
    "start_time": "2022-07-02T14:52:20.760Z"
   },
   {
    "duration": 0,
    "start_time": "2022-07-02T14:52:20.762Z"
   },
   {
    "duration": 0,
    "start_time": "2022-07-02T14:52:20.763Z"
   },
   {
    "duration": 0,
    "start_time": "2022-07-02T14:52:20.765Z"
   },
   {
    "duration": 0,
    "start_time": "2022-07-02T14:52:20.766Z"
   },
   {
    "duration": 0,
    "start_time": "2022-07-02T14:52:20.768Z"
   },
   {
    "duration": 0,
    "start_time": "2022-07-02T14:52:20.769Z"
   },
   {
    "duration": 0,
    "start_time": "2022-07-02T14:52:20.771Z"
   },
   {
    "duration": 30345,
    "start_time": "2022-07-02T14:52:39.188Z"
   },
   {
    "duration": 7,
    "start_time": "2022-07-02T14:53:17.897Z"
   },
   {
    "duration": 30040,
    "start_time": "2022-07-02T14:53:39.510Z"
   },
   {
    "duration": 8,
    "start_time": "2022-07-02T14:55:12.037Z"
   },
   {
    "duration": 29748,
    "start_time": "2022-07-02T14:55:27.457Z"
   },
   {
    "duration": 6,
    "start_time": "2022-07-02T14:56:20.997Z"
   },
   {
    "duration": 8,
    "start_time": "2022-07-02T14:56:36.420Z"
   },
   {
    "duration": 7,
    "start_time": "2022-07-02T14:57:15.740Z"
   },
   {
    "duration": 8,
    "start_time": "2022-07-02T14:57:31.269Z"
   },
   {
    "duration": 12,
    "start_time": "2022-07-02T14:57:48.549Z"
   },
   {
    "duration": 11,
    "start_time": "2022-07-02T14:58:08.155Z"
   },
   {
    "duration": 1764,
    "start_time": "2022-07-02T20:15:23.445Z"
   },
   {
    "duration": 717,
    "start_time": "2022-07-02T20:15:25.211Z"
   },
   {
    "duration": 615,
    "start_time": "2022-07-02T20:15:25.930Z"
   },
   {
    "duration": 154,
    "start_time": "2022-07-02T20:15:26.547Z"
   },
   {
    "duration": 46,
    "start_time": "2022-07-02T20:15:26.703Z"
   },
   {
    "duration": 19,
    "start_time": "2022-07-02T20:15:26.751Z"
   },
   {
    "duration": 42,
    "start_time": "2022-07-02T20:15:26.772Z"
   },
   {
    "duration": 30,
    "start_time": "2022-07-02T20:15:26.816Z"
   },
   {
    "duration": 36,
    "start_time": "2022-07-02T20:15:26.849Z"
   },
   {
    "duration": 50,
    "start_time": "2022-07-02T20:15:26.887Z"
   },
   {
    "duration": 14,
    "start_time": "2022-07-02T20:15:26.939Z"
   },
   {
    "duration": 6,
    "start_time": "2022-07-02T20:15:26.955Z"
   },
   {
    "duration": 374,
    "start_time": "2022-07-02T20:15:26.962Z"
   },
   {
    "duration": 11,
    "start_time": "2022-07-02T20:15:27.342Z"
   },
   {
    "duration": 7,
    "start_time": "2022-07-02T20:15:27.354Z"
   },
   {
    "duration": 9,
    "start_time": "2022-07-02T20:15:27.363Z"
   },
   {
    "duration": 11,
    "start_time": "2022-07-02T20:15:27.374Z"
   },
   {
    "duration": 16,
    "start_time": "2022-07-02T20:15:27.387Z"
   },
   {
    "duration": 11,
    "start_time": "2022-07-02T20:15:27.429Z"
   },
   {
    "duration": 40,
    "start_time": "2022-07-02T20:15:27.449Z"
   },
   {
    "duration": 56,
    "start_time": "2022-07-02T20:15:27.492Z"
   },
   {
    "duration": 134,
    "start_time": "2022-07-02T20:15:27.550Z"
   },
   {
    "duration": 119,
    "start_time": "2022-07-02T20:15:27.685Z"
   },
   {
    "duration": 57,
    "start_time": "2022-07-02T20:15:27.807Z"
   },
   {
    "duration": 5,
    "start_time": "2022-07-02T20:15:27.866Z"
   },
   {
    "duration": 145,
    "start_time": "2022-07-02T20:15:27.873Z"
   },
   {
    "duration": 45,
    "start_time": "2022-07-02T20:15:28.021Z"
   },
   {
    "duration": 21,
    "start_time": "2022-07-02T20:15:28.068Z"
   },
   {
    "duration": 53,
    "start_time": "2022-07-02T20:15:28.091Z"
   },
   {
    "duration": 46,
    "start_time": "2022-07-02T20:15:28.146Z"
   },
   {
    "duration": 16,
    "start_time": "2022-07-02T20:15:28.195Z"
   },
   {
    "duration": 45,
    "start_time": "2022-07-02T20:15:28.213Z"
   },
   {
    "duration": 57,
    "start_time": "2022-07-02T20:15:28.260Z"
   },
   {
    "duration": 50,
    "start_time": "2022-07-02T20:15:28.319Z"
   },
   {
    "duration": 22,
    "start_time": "2022-07-02T20:15:28.372Z"
   },
   {
    "duration": 92,
    "start_time": "2022-07-02T20:15:28.396Z"
   },
   {
    "duration": 50,
    "start_time": "2022-07-02T20:15:28.490Z"
   },
   {
    "duration": 25,
    "start_time": "2022-07-02T20:15:28.542Z"
   },
   {
    "duration": 220,
    "start_time": "2022-07-02T20:15:28.570Z"
   },
   {
    "duration": 173,
    "start_time": "2022-07-02T20:15:28.792Z"
   },
   {
    "duration": 201,
    "start_time": "2022-07-02T20:15:28.971Z"
   },
   {
    "duration": 18,
    "start_time": "2022-07-02T20:15:29.174Z"
   },
   {
    "duration": 332,
    "start_time": "2022-07-02T20:15:29.195Z"
   },
   {
    "duration": 173,
    "start_time": "2022-07-02T20:15:29.530Z"
   },
   {
    "duration": 179,
    "start_time": "2022-07-02T20:15:29.706Z"
   },
   {
    "duration": 15,
    "start_time": "2022-07-02T20:15:29.887Z"
   },
   {
    "duration": 176,
    "start_time": "2022-07-02T20:15:29.904Z"
   },
   {
    "duration": 168,
    "start_time": "2022-07-02T20:15:30.081Z"
   },
   {
    "duration": 172,
    "start_time": "2022-07-02T20:15:30.252Z"
   },
   {
    "duration": 9,
    "start_time": "2022-07-02T20:15:30.426Z"
   },
   {
    "duration": 34,
    "start_time": "2022-07-02T20:15:30.440Z"
   },
   {
    "duration": 24,
    "start_time": "2022-07-02T20:15:30.476Z"
   },
   {
    "duration": 58,
    "start_time": "2022-07-02T20:15:30.501Z"
   },
   {
    "duration": 1801,
    "start_time": "2022-07-02T20:15:30.561Z"
   },
   {
    "duration": 159,
    "start_time": "2022-07-02T20:15:32.369Z"
   },
   {
    "duration": 801,
    "start_time": "2022-07-02T20:15:32.533Z"
   },
   {
    "duration": 90,
    "start_time": "2022-07-02T20:15:33.351Z"
   },
   {
    "duration": 93,
    "start_time": "2022-07-02T20:15:33.480Z"
   },
   {
    "duration": 31593,
    "start_time": "2022-07-02T20:15:33.575Z"
   },
   {
    "duration": 10,
    "start_time": "2022-07-02T20:16:05.170Z"
   },
   {
    "duration": 29047,
    "start_time": "2022-07-02T20:16:05.181Z"
   },
   {
    "duration": 18,
    "start_time": "2022-07-02T20:16:34.230Z"
   },
   {
    "duration": 4,
    "start_time": "2022-07-02T20:16:34.249Z"
   },
   {
    "duration": 731364,
    "start_time": "2022-07-02T20:16:34.255Z"
   },
   {
    "duration": 13,
    "start_time": "2022-07-02T20:28:45.625Z"
   },
   {
    "duration": 701281,
    "start_time": "2022-07-02T20:28:45.640Z"
   },
   {
    "duration": 19,
    "start_time": "2022-07-02T20:40:26.926Z"
   },
   {
    "duration": 4,
    "start_time": "2022-07-02T20:40:26.947Z"
   },
   {
    "duration": 4,
    "start_time": "2022-07-02T20:40:55.952Z"
   },
   {
    "duration": 555,
    "start_time": "2022-07-02T20:51:54.093Z"
   },
   {
    "duration": 433,
    "start_time": "2022-07-02T20:52:33.433Z"
   },
   {
    "duration": 427,
    "start_time": "2022-07-02T20:52:48.673Z"
   },
   {
    "duration": 440,
    "start_time": "2022-07-02T20:54:43.577Z"
   },
   {
    "duration": 397,
    "start_time": "2022-07-02T20:58:00.539Z"
   },
   {
    "duration": 461,
    "start_time": "2022-07-02T20:58:20.793Z"
   },
   {
    "duration": 535,
    "start_time": "2022-07-02T20:58:38.679Z"
   },
   {
    "duration": 17,
    "start_time": "2022-07-02T21:00:24.761Z"
   },
   {
    "duration": 7,
    "start_time": "2022-07-02T21:41:28.482Z"
   },
   {
    "duration": 7,
    "start_time": "2022-07-02T21:41:40.540Z"
   },
   {
    "duration": 3,
    "start_time": "2022-07-02T21:42:58.651Z"
   },
   {
    "duration": 14,
    "start_time": "2022-07-02T21:43:49.826Z"
   },
   {
    "duration": 7,
    "start_time": "2022-07-02T21:43:58.779Z"
   },
   {
    "duration": 20,
    "start_time": "2022-07-02T21:44:12.122Z"
   },
   {
    "duration": 8,
    "start_time": "2022-07-02T21:44:29.314Z"
   },
   {
    "duration": 8,
    "start_time": "2022-07-02T21:47:40.024Z"
   },
   {
    "duration": 15,
    "start_time": "2022-07-02T21:47:49.472Z"
   },
   {
    "duration": 14,
    "start_time": "2022-07-02T21:47:54.165Z"
   },
   {
    "duration": 6,
    "start_time": "2022-07-02T21:48:00.442Z"
   },
   {
    "duration": 202,
    "start_time": "2022-07-02T21:48:14.923Z"
   },
   {
    "duration": 13,
    "start_time": "2022-07-02T21:48:23.051Z"
   },
   {
    "duration": 4,
    "start_time": "2022-07-02T21:48:26.038Z"
   },
   {
    "duration": 19,
    "start_time": "2022-07-02T21:50:50.847Z"
   },
   {
    "duration": 8,
    "start_time": "2022-07-02T21:51:26.248Z"
   },
   {
    "duration": 7,
    "start_time": "2022-07-02T21:51:28.421Z"
   },
   {
    "duration": 9,
    "start_time": "2022-07-02T21:51:33.277Z"
   },
   {
    "duration": 877,
    "start_time": "2022-07-02T22:08:58.601Z"
   },
   {
    "duration": 20,
    "start_time": "2022-07-02T22:09:09.197Z"
   },
   {
    "duration": 12,
    "start_time": "2022-07-02T22:09:27.143Z"
   },
   {
    "duration": 10,
    "start_time": "2022-07-02T22:10:00.436Z"
   },
   {
    "duration": 8,
    "start_time": "2022-07-02T22:11:21.951Z"
   },
   {
    "duration": 7,
    "start_time": "2022-07-02T22:11:43.081Z"
   },
   {
    "duration": 13,
    "start_time": "2022-07-02T22:12:15.040Z"
   },
   {
    "duration": 8,
    "start_time": "2022-07-02T22:12:19.153Z"
   },
   {
    "duration": 8,
    "start_time": "2022-07-02T22:16:14.607Z"
   },
   {
    "duration": 10,
    "start_time": "2022-07-02T22:17:00.051Z"
   },
   {
    "duration": 10,
    "start_time": "2022-07-02T22:17:07.994Z"
   },
   {
    "duration": 5,
    "start_time": "2022-07-02T22:30:05.847Z"
   },
   {
    "duration": 6,
    "start_time": "2022-07-02T22:33:35.643Z"
   },
   {
    "duration": 5,
    "start_time": "2022-07-02T22:34:28.300Z"
   },
   {
    "duration": 86,
    "start_time": "2022-07-03T23:19:10.238Z"
   },
   {
    "duration": 2560,
    "start_time": "2022-07-03T23:19:31.104Z"
   },
   {
    "duration": 2310,
    "start_time": "2022-07-03T23:19:33.666Z"
   },
   {
    "duration": 1996,
    "start_time": "2022-07-03T23:19:35.983Z"
   },
   {
    "duration": 468,
    "start_time": "2022-07-03T23:19:37.981Z"
   },
   {
    "duration": 69,
    "start_time": "2022-07-03T23:19:38.458Z"
   },
   {
    "duration": 43,
    "start_time": "2022-07-03T23:19:38.528Z"
   },
   {
    "duration": 65,
    "start_time": "2022-07-03T23:19:38.574Z"
   },
   {
    "duration": 34,
    "start_time": "2022-07-03T23:19:38.645Z"
   },
   {
    "duration": 116,
    "start_time": "2022-07-03T23:19:38.681Z"
   },
   {
    "duration": 68,
    "start_time": "2022-07-03T23:19:38.799Z"
   },
   {
    "duration": 192,
    "start_time": "2022-07-03T23:19:44.847Z"
   },
   {
    "duration": 11,
    "start_time": "2022-07-03T23:19:58.792Z"
   },
   {
    "duration": 7,
    "start_time": "2022-07-03T23:20:07.982Z"
   },
   {
    "duration": 494,
    "start_time": "2022-07-03T23:20:10.940Z"
   },
   {
    "duration": 38,
    "start_time": "2022-07-03T23:20:15.273Z"
   },
   {
    "duration": 9,
    "start_time": "2022-07-03T23:21:08.595Z"
   },
   {
    "duration": 15,
    "start_time": "2022-07-03T23:22:36.587Z"
   },
   {
    "duration": 22,
    "start_time": "2022-07-03T23:23:02.403Z"
   },
   {
    "duration": 17,
    "start_time": "2022-07-03T23:23:24.381Z"
   },
   {
    "duration": 23,
    "start_time": "2022-07-03T23:23:50.390Z"
   },
   {
    "duration": 1718,
    "start_time": "2022-07-03T23:24:13.022Z"
   },
   {
    "duration": 574,
    "start_time": "2022-07-03T23:24:14.742Z"
   },
   {
    "duration": 486,
    "start_time": "2022-07-03T23:24:15.318Z"
   },
   {
    "duration": 169,
    "start_time": "2022-07-03T23:24:15.808Z"
   },
   {
    "duration": 64,
    "start_time": "2022-07-03T23:24:15.986Z"
   },
   {
    "duration": 28,
    "start_time": "2022-07-03T23:24:16.052Z"
   },
   {
    "duration": 89,
    "start_time": "2022-07-03T23:24:16.082Z"
   },
   {
    "duration": 53,
    "start_time": "2022-07-03T23:24:16.173Z"
   },
   {
    "duration": 110,
    "start_time": "2022-07-03T23:24:16.228Z"
   },
   {
    "duration": 26,
    "start_time": "2022-07-03T23:24:16.340Z"
   },
   {
    "duration": 17,
    "start_time": "2022-07-03T23:24:22.420Z"
   },
   {
    "duration": 11,
    "start_time": "2022-07-03T23:24:27.455Z"
   },
   {
    "duration": 2030,
    "start_time": "2022-07-03T23:24:34.353Z"
   },
   {
    "duration": 8,
    "start_time": "2022-07-03T23:25:41.585Z"
   },
   {
    "duration": 2099,
    "start_time": "2022-07-03T23:25:44.023Z"
   },
   {
    "duration": 13,
    "start_time": "2022-07-03T23:26:18.120Z"
   },
   {
    "duration": 5,
    "start_time": "2022-07-03T23:26:21.943Z"
   },
   {
    "duration": 485,
    "start_time": "2022-07-03T23:26:26.207Z"
   },
   {
    "duration": 12,
    "start_time": "2022-07-03T23:27:00.453Z"
   },
   {
    "duration": 2053,
    "start_time": "2022-07-03T23:27:33.551Z"
   },
   {
    "duration": 745,
    "start_time": "2022-07-03T23:27:35.617Z"
   },
   {
    "duration": 507,
    "start_time": "2022-07-03T23:27:36.369Z"
   },
   {
    "duration": 184,
    "start_time": "2022-07-03T23:27:36.878Z"
   },
   {
    "duration": 58,
    "start_time": "2022-07-03T23:27:37.066Z"
   },
   {
    "duration": 39,
    "start_time": "2022-07-03T23:27:37.127Z"
   },
   {
    "duration": 75,
    "start_time": "2022-07-03T23:27:37.168Z"
   },
   {
    "duration": 26,
    "start_time": "2022-07-03T23:27:37.246Z"
   },
   {
    "duration": 99,
    "start_time": "2022-07-03T23:27:37.275Z"
   },
   {
    "duration": 78,
    "start_time": "2022-07-03T23:27:37.376Z"
   },
   {
    "duration": 69,
    "start_time": "2022-07-03T23:27:37.459Z"
   },
   {
    "duration": 12,
    "start_time": "2022-07-03T23:27:37.533Z"
   },
   {
    "duration": 513,
    "start_time": "2022-07-03T23:27:37.551Z"
   },
   {
    "duration": 203,
    "start_time": "2022-07-03T23:27:43.420Z"
   },
   {
    "duration": 8,
    "start_time": "2022-07-03T23:28:33.993Z"
   },
   {
    "duration": 25,
    "start_time": "2022-07-03T23:32:32.333Z"
   },
   {
    "duration": 198,
    "start_time": "2022-07-03T23:37:54.070Z"
   },
   {
    "duration": 7,
    "start_time": "2022-07-03T23:38:06.878Z"
   },
   {
    "duration": 579,
    "start_time": "2022-07-03T23:38:06.892Z"
   },
   {
    "duration": 359,
    "start_time": "2022-07-03T23:38:07.473Z"
   },
   {
    "duration": 115,
    "start_time": "2022-07-03T23:38:07.835Z"
   },
   {
    "duration": 55,
    "start_time": "2022-07-03T23:38:07.952Z"
   },
   {
    "duration": 38,
    "start_time": "2022-07-03T23:38:08.009Z"
   },
   {
    "duration": 60,
    "start_time": "2022-07-03T23:38:08.049Z"
   },
   {
    "duration": 49,
    "start_time": "2022-07-03T23:38:08.110Z"
   },
   {
    "duration": 49,
    "start_time": "2022-07-03T23:38:08.161Z"
   },
   {
    "duration": 48,
    "start_time": "2022-07-03T23:38:08.212Z"
   },
   {
    "duration": 28,
    "start_time": "2022-07-03T23:38:08.262Z"
   },
   {
    "duration": 41,
    "start_time": "2022-07-03T23:38:08.292Z"
   },
   {
    "duration": 531,
    "start_time": "2022-07-03T23:38:08.337Z"
   },
   {
    "duration": 8,
    "start_time": "2022-07-03T23:38:08.870Z"
   },
   {
    "duration": 11,
    "start_time": "2022-07-03T23:38:08.882Z"
   },
   {
    "duration": 38,
    "start_time": "2022-07-03T23:38:08.895Z"
   },
   {
    "duration": 9,
    "start_time": "2022-07-03T23:38:08.935Z"
   },
   {
    "duration": 31,
    "start_time": "2022-07-03T23:38:08.945Z"
   },
   {
    "duration": 214,
    "start_time": "2022-07-03T23:38:08.977Z"
   },
   {
    "duration": 112,
    "start_time": "2022-07-03T23:38:09.194Z"
   },
   {
    "duration": 32,
    "start_time": "2022-07-03T23:38:09.308Z"
   },
   {
    "duration": 3,
    "start_time": "2022-07-03T23:38:09.343Z"
   },
   {
    "duration": 69,
    "start_time": "2022-07-03T23:38:09.348Z"
   },
   {
    "duration": 31,
    "start_time": "2022-07-03T23:38:09.421Z"
   },
   {
    "duration": 28,
    "start_time": "2022-07-03T23:38:09.454Z"
   },
   {
    "duration": 56,
    "start_time": "2022-07-03T23:38:09.486Z"
   },
   {
    "duration": 742,
    "start_time": "2022-07-03T23:38:14.865Z"
   },
   {
    "duration": 619,
    "start_time": "2022-07-03T23:39:10.727Z"
   },
   {
    "duration": 564,
    "start_time": "2022-07-03T23:39:21.167Z"
   },
   {
    "duration": 35,
    "start_time": "2022-07-03T23:41:29.635Z"
   },
   {
    "duration": 2210,
    "start_time": "2022-07-03T23:41:50.654Z"
   },
   {
    "duration": 684,
    "start_time": "2022-07-03T23:41:52.868Z"
   },
   {
    "duration": 474,
    "start_time": "2022-07-03T23:41:53.554Z"
   },
   {
    "duration": 211,
    "start_time": "2022-07-03T23:41:54.031Z"
   },
   {
    "duration": 92,
    "start_time": "2022-07-03T23:41:54.245Z"
   },
   {
    "duration": 30,
    "start_time": "2022-07-03T23:41:54.338Z"
   },
   {
    "duration": 72,
    "start_time": "2022-07-03T23:41:54.370Z"
   },
   {
    "duration": 33,
    "start_time": "2022-07-03T23:41:54.445Z"
   },
   {
    "duration": 66,
    "start_time": "2022-07-03T23:41:54.479Z"
   },
   {
    "duration": 18,
    "start_time": "2022-07-03T23:41:54.547Z"
   },
   {
    "duration": 63,
    "start_time": "2022-07-03T23:41:54.567Z"
   },
   {
    "duration": 4,
    "start_time": "2022-07-03T23:42:00.832Z"
   },
   {
    "duration": 594,
    "start_time": "2022-07-03T23:42:03.884Z"
   },
   {
    "duration": 12,
    "start_time": "2022-07-03T23:42:07.721Z"
   },
   {
    "duration": 19,
    "start_time": "2022-07-03T23:42:20.052Z"
   },
   {
    "duration": 169,
    "start_time": "2022-07-03T23:49:03.921Z"
   },
   {
    "duration": 7,
    "start_time": "2022-07-03T23:49:16.066Z"
   },
   {
    "duration": 645,
    "start_time": "2022-07-03T23:49:16.076Z"
   },
   {
    "duration": 400,
    "start_time": "2022-07-03T23:49:16.726Z"
   },
   {
    "duration": 122,
    "start_time": "2022-07-03T23:49:17.132Z"
   },
   {
    "duration": 56,
    "start_time": "2022-07-03T23:49:17.262Z"
   },
   {
    "duration": 39,
    "start_time": "2022-07-03T23:49:17.320Z"
   },
   {
    "duration": 97,
    "start_time": "2022-07-03T23:49:17.361Z"
   },
   {
    "duration": 38,
    "start_time": "2022-07-03T23:49:17.460Z"
   },
   {
    "duration": 100,
    "start_time": "2022-07-03T23:49:17.504Z"
   },
   {
    "duration": 35,
    "start_time": "2022-07-03T23:49:17.606Z"
   },
   {
    "duration": 25,
    "start_time": "2022-07-03T23:49:17.648Z"
   },
   {
    "duration": 48,
    "start_time": "2022-07-03T23:49:17.677Z"
   },
   {
    "duration": 668,
    "start_time": "2022-07-03T23:49:17.729Z"
   },
   {
    "duration": 8,
    "start_time": "2022-07-03T23:49:18.399Z"
   },
   {
    "duration": 116,
    "start_time": "2022-07-03T23:49:18.409Z"
   },
   {
    "duration": 19,
    "start_time": "2022-07-03T23:49:18.527Z"
   },
   {
    "duration": 38,
    "start_time": "2022-07-03T23:49:18.548Z"
   },
   {
    "duration": 60,
    "start_time": "2022-07-03T23:49:18.588Z"
   },
   {
    "duration": 286,
    "start_time": "2022-07-03T23:49:18.650Z"
   },
   {
    "duration": 107,
    "start_time": "2022-07-03T23:49:18.944Z"
   },
   {
    "duration": 16,
    "start_time": "2022-07-03T23:49:19.053Z"
   },
   {
    "duration": 0,
    "start_time": "2022-07-03T23:49:19.075Z"
   },
   {
    "duration": 0,
    "start_time": "2022-07-03T23:49:19.080Z"
   },
   {
    "duration": 0,
    "start_time": "2022-07-03T23:49:19.084Z"
   },
   {
    "duration": 0,
    "start_time": "2022-07-03T23:49:19.085Z"
   },
   {
    "duration": 0,
    "start_time": "2022-07-03T23:49:19.091Z"
   },
   {
    "duration": 0,
    "start_time": "2022-07-03T23:49:19.092Z"
   },
   {
    "duration": 0,
    "start_time": "2022-07-03T23:49:19.094Z"
   },
   {
    "duration": 24,
    "start_time": "2022-07-03T23:49:21.594Z"
   },
   {
    "duration": 43,
    "start_time": "2022-07-03T23:49:50.993Z"
   },
   {
    "duration": 14,
    "start_time": "2022-07-03T23:50:12.114Z"
   },
   {
    "duration": 15,
    "start_time": "2022-07-03T23:50:14.535Z"
   },
   {
    "duration": 63,
    "start_time": "2022-07-03T23:50:20.927Z"
   },
   {
    "duration": 20,
    "start_time": "2022-07-03T23:50:24.399Z"
   },
   {
    "duration": 20,
    "start_time": "2022-07-03T23:50:27.169Z"
   },
   {
    "duration": 617,
    "start_time": "2022-07-03T23:50:30.652Z"
   },
   {
    "duration": 31,
    "start_time": "2022-07-03T23:50:36.951Z"
   },
   {
    "duration": 533,
    "start_time": "2022-07-03T23:50:40.380Z"
   },
   {
    "duration": 293,
    "start_time": "2022-07-03T23:54:00.521Z"
   },
   {
    "duration": 1731,
    "start_time": "2022-07-03T23:54:52.238Z"
   },
   {
    "duration": 572,
    "start_time": "2022-07-03T23:54:53.973Z"
   },
   {
    "duration": 373,
    "start_time": "2022-07-03T23:54:54.546Z"
   },
   {
    "duration": 102,
    "start_time": "2022-07-03T23:54:54.922Z"
   },
   {
    "duration": 41,
    "start_time": "2022-07-03T23:54:55.025Z"
   },
   {
    "duration": 40,
    "start_time": "2022-07-03T23:54:55.069Z"
   },
   {
    "duration": 49,
    "start_time": "2022-07-03T23:54:55.114Z"
   },
   {
    "duration": 30,
    "start_time": "2022-07-03T23:54:55.167Z"
   },
   {
    "duration": 69,
    "start_time": "2022-07-03T23:54:55.199Z"
   },
   {
    "duration": 64,
    "start_time": "2022-07-03T23:54:55.277Z"
   },
   {
    "duration": 12,
    "start_time": "2022-07-03T23:54:55.343Z"
   },
   {
    "duration": 82,
    "start_time": "2022-07-03T23:54:55.360Z"
   },
   {
    "duration": 459,
    "start_time": "2022-07-03T23:54:55.444Z"
   },
   {
    "duration": 16,
    "start_time": "2022-07-03T23:54:55.905Z"
   },
   {
    "duration": 19,
    "start_time": "2022-07-03T23:54:55.928Z"
   },
   {
    "duration": 34,
    "start_time": "2022-07-03T23:54:55.949Z"
   },
   {
    "duration": 31,
    "start_time": "2022-07-03T23:54:55.985Z"
   },
   {
    "duration": 18,
    "start_time": "2022-07-03T23:54:56.017Z"
   },
   {
    "duration": 147,
    "start_time": "2022-07-03T23:54:56.037Z"
   },
   {
    "duration": 113,
    "start_time": "2022-07-03T23:54:56.196Z"
   },
   {
    "duration": 27,
    "start_time": "2022-07-03T23:54:56.311Z"
   },
   {
    "duration": 4,
    "start_time": "2022-07-03T23:54:56.339Z"
   },
   {
    "duration": 34,
    "start_time": "2022-07-03T23:54:56.345Z"
   },
   {
    "duration": 88,
    "start_time": "2022-07-03T23:54:56.381Z"
   },
   {
    "duration": 19,
    "start_time": "2022-07-03T23:54:56.471Z"
   },
   {
    "duration": 262,
    "start_time": "2022-07-03T23:55:08.913Z"
   },
   {
    "duration": 418,
    "start_time": "2022-07-03T23:55:52.386Z"
   },
   {
    "duration": 12,
    "start_time": "2022-07-03T23:57:50.151Z"
   },
   {
    "duration": 11,
    "start_time": "2022-07-03T23:58:24.074Z"
   },
   {
    "duration": 456,
    "start_time": "2022-07-03T23:59:41.988Z"
   },
   {
    "duration": 387,
    "start_time": "2022-07-04T00:01:22.331Z"
   },
   {
    "duration": 409,
    "start_time": "2022-07-04T00:01:35.250Z"
   },
   {
    "duration": 154,
    "start_time": "2022-07-04T00:03:35.251Z"
   },
   {
    "duration": 6,
    "start_time": "2022-07-04T00:03:54.651Z"
   },
   {
    "duration": 565,
    "start_time": "2022-07-04T00:03:54.661Z"
   },
   {
    "duration": 409,
    "start_time": "2022-07-04T00:03:55.242Z"
   },
   {
    "duration": 117,
    "start_time": "2022-07-04T00:03:55.656Z"
   },
   {
    "duration": 47,
    "start_time": "2022-07-04T00:03:55.777Z"
   },
   {
    "duration": 29,
    "start_time": "2022-07-04T00:03:55.827Z"
   },
   {
    "duration": 89,
    "start_time": "2022-07-04T00:03:55.858Z"
   },
   {
    "duration": 20,
    "start_time": "2022-07-04T00:03:55.948Z"
   },
   {
    "duration": 69,
    "start_time": "2022-07-04T00:03:55.973Z"
   },
   {
    "duration": 18,
    "start_time": "2022-07-04T00:03:56.044Z"
   },
   {
    "duration": 43,
    "start_time": "2022-07-04T00:03:56.066Z"
   },
   {
    "duration": 10,
    "start_time": "2022-07-04T00:03:56.115Z"
   },
   {
    "duration": 443,
    "start_time": "2022-07-04T00:03:56.126Z"
   },
   {
    "duration": 8,
    "start_time": "2022-07-04T00:03:56.573Z"
   },
   {
    "duration": 40,
    "start_time": "2022-07-04T00:03:56.582Z"
   },
   {
    "duration": 6,
    "start_time": "2022-07-04T00:03:56.624Z"
   },
   {
    "duration": 10,
    "start_time": "2022-07-04T00:03:56.631Z"
   },
   {
    "duration": 21,
    "start_time": "2022-07-04T00:03:56.643Z"
   },
   {
    "duration": 190,
    "start_time": "2022-07-04T00:03:56.668Z"
   },
   {
    "duration": 106,
    "start_time": "2022-07-04T00:03:56.859Z"
   },
   {
    "duration": 46,
    "start_time": "2022-07-04T00:03:56.967Z"
   },
   {
    "duration": 14,
    "start_time": "2022-07-04T00:03:57.016Z"
   },
   {
    "duration": 18,
    "start_time": "2022-07-04T00:03:57.031Z"
   },
   {
    "duration": 47,
    "start_time": "2022-07-04T00:03:57.051Z"
   },
   {
    "duration": 40,
    "start_time": "2022-07-04T00:03:57.101Z"
   },
   {
    "duration": 425,
    "start_time": "2022-07-04T00:03:57.143Z"
   },
   {
    "duration": 12,
    "start_time": "2022-07-04T00:03:57.570Z"
   },
   {
    "duration": 445,
    "start_time": "2022-07-04T00:03:57.584Z"
   },
   {
    "duration": 11,
    "start_time": "2022-07-04T00:03:58.034Z"
   },
   {
    "duration": 548,
    "start_time": "2022-07-04T00:03:58.046Z"
   },
   {
    "duration": 15,
    "start_time": "2022-07-04T00:03:58.600Z"
   },
   {
    "duration": 308,
    "start_time": "2022-07-04T00:03:58.618Z"
   },
   {
    "duration": 33,
    "start_time": "2022-07-04T00:03:58.927Z"
   },
   {
    "duration": 51,
    "start_time": "2022-07-04T00:03:58.963Z"
   },
   {
    "duration": 54,
    "start_time": "2022-07-04T00:03:59.015Z"
   },
   {
    "duration": 10,
    "start_time": "2022-07-04T00:03:59.071Z"
   },
   {
    "duration": 47,
    "start_time": "2022-07-04T00:03:59.084Z"
   },
   {
    "duration": 15,
    "start_time": "2022-07-04T00:04:17.105Z"
   },
   {
    "duration": 1979,
    "start_time": "2022-07-04T00:04:20.630Z"
   },
   {
    "duration": 10,
    "start_time": "2022-07-04T00:09:53.275Z"
   },
   {
    "duration": 611,
    "start_time": "2022-07-04T00:09:53.287Z"
   },
   {
    "duration": 423,
    "start_time": "2022-07-04T00:09:53.900Z"
   },
   {
    "duration": 116,
    "start_time": "2022-07-04T00:09:54.327Z"
   },
   {
    "duration": 36,
    "start_time": "2022-07-04T00:09:54.445Z"
   },
   {
    "duration": 62,
    "start_time": "2022-07-04T00:09:54.482Z"
   },
   {
    "duration": 36,
    "start_time": "2022-07-04T00:09:54.545Z"
   },
   {
    "duration": 39,
    "start_time": "2022-07-04T00:09:54.583Z"
   },
   {
    "duration": 34,
    "start_time": "2022-07-04T00:09:54.624Z"
   },
   {
    "duration": 23,
    "start_time": "2022-07-04T00:09:54.660Z"
   },
   {
    "duration": 51,
    "start_time": "2022-07-04T00:09:54.690Z"
   },
   {
    "duration": 12,
    "start_time": "2022-07-04T00:09:54.742Z"
   },
   {
    "duration": 560,
    "start_time": "2022-07-04T00:09:54.756Z"
   },
   {
    "duration": 12,
    "start_time": "2022-07-04T00:09:55.318Z"
   },
   {
    "duration": 92,
    "start_time": "2022-07-04T00:09:55.338Z"
   },
   {
    "duration": 12,
    "start_time": "2022-07-04T00:09:55.431Z"
   },
   {
    "duration": 57,
    "start_time": "2022-07-04T00:09:55.445Z"
   },
   {
    "duration": 52,
    "start_time": "2022-07-04T00:09:55.504Z"
   },
   {
    "duration": 281,
    "start_time": "2022-07-04T00:09:55.557Z"
   },
   {
    "duration": 139,
    "start_time": "2022-07-04T00:09:55.842Z"
   },
   {
    "duration": 36,
    "start_time": "2022-07-04T00:09:55.984Z"
   },
   {
    "duration": 22,
    "start_time": "2022-07-04T00:09:56.022Z"
   },
   {
    "duration": 45,
    "start_time": "2022-07-04T00:09:56.047Z"
   },
   {
    "duration": 105,
    "start_time": "2022-07-04T00:09:56.094Z"
   },
   {
    "duration": 52,
    "start_time": "2022-07-04T00:09:56.202Z"
   },
   {
    "duration": 497,
    "start_time": "2022-07-04T00:09:56.264Z"
   },
   {
    "duration": 17,
    "start_time": "2022-07-04T00:09:56.766Z"
   },
   {
    "duration": 485,
    "start_time": "2022-07-04T00:09:56.785Z"
   },
   {
    "duration": 15,
    "start_time": "2022-07-04T00:09:57.277Z"
   },
   {
    "duration": 517,
    "start_time": "2022-07-04T00:09:57.297Z"
   },
   {
    "duration": 17,
    "start_time": "2022-07-04T00:09:57.819Z"
   },
   {
    "duration": 491,
    "start_time": "2022-07-04T00:09:57.838Z"
   },
   {
    "duration": 40,
    "start_time": "2022-07-04T00:09:58.331Z"
   },
   {
    "duration": 97,
    "start_time": "2022-07-04T00:09:58.373Z"
   },
   {
    "duration": 43,
    "start_time": "2022-07-04T00:09:58.479Z"
   },
   {
    "duration": 6,
    "start_time": "2022-07-04T00:09:58.525Z"
   },
   {
    "duration": 15,
    "start_time": "2022-07-04T00:09:58.532Z"
   },
   {
    "duration": 1561,
    "start_time": "2022-07-04T00:09:58.549Z"
   },
   {
    "duration": 13,
    "start_time": "2022-07-04T00:10:00.114Z"
   },
   {
    "duration": 169,
    "start_time": "2022-07-04T00:10:00.130Z"
   },
   {
    "duration": 149,
    "start_time": "2022-07-04T00:10:00.301Z"
   },
   {
    "duration": 171,
    "start_time": "2022-07-04T00:10:00.456Z"
   },
   {
    "duration": 12,
    "start_time": "2022-07-04T00:10:00.629Z"
   },
   {
    "duration": 232,
    "start_time": "2022-07-04T00:10:00.643Z"
   },
   {
    "duration": 157,
    "start_time": "2022-07-04T00:10:00.877Z"
   },
   {
    "duration": 168,
    "start_time": "2022-07-04T00:10:01.036Z"
   },
   {
    "duration": 18,
    "start_time": "2022-07-04T00:10:01.206Z"
   },
   {
    "duration": 181,
    "start_time": "2022-07-04T00:10:01.226Z"
   },
   {
    "duration": 183,
    "start_time": "2022-07-04T00:10:01.409Z"
   },
   {
    "duration": 170,
    "start_time": "2022-07-04T00:10:01.598Z"
   },
   {
    "duration": 5,
    "start_time": "2022-07-04T00:10:01.775Z"
   },
   {
    "duration": 44,
    "start_time": "2022-07-04T00:10:01.786Z"
   },
   {
    "duration": 12,
    "start_time": "2022-07-04T00:10:01.832Z"
   },
   {
    "duration": 33,
    "start_time": "2022-07-04T00:10:06.254Z"
   },
   {
    "duration": 88,
    "start_time": "2022-07-04T00:10:16.711Z"
   },
   {
    "duration": 21,
    "start_time": "2022-07-04T00:10:43.742Z"
   },
   {
    "duration": 11,
    "start_time": "2022-07-04T00:10:57.922Z"
   },
   {
    "duration": 731,
    "start_time": "2022-07-04T00:11:00.732Z"
   },
   {
    "duration": 48,
    "start_time": "2022-07-04T00:11:05.058Z"
   },
   {
    "duration": 1705,
    "start_time": "2022-07-04T00:12:21.844Z"
   },
   {
    "duration": 528,
    "start_time": "2022-07-04T00:12:23.551Z"
   },
   {
    "duration": 364,
    "start_time": "2022-07-04T00:12:24.081Z"
   },
   {
    "duration": 113,
    "start_time": "2022-07-04T00:12:24.446Z"
   },
   {
    "duration": 47,
    "start_time": "2022-07-04T00:12:24.562Z"
   },
   {
    "duration": 53,
    "start_time": "2022-07-04T00:12:24.610Z"
   },
   {
    "duration": 34,
    "start_time": "2022-07-04T00:12:24.665Z"
   },
   {
    "duration": 78,
    "start_time": "2022-07-04T00:12:24.702Z"
   },
   {
    "duration": 78,
    "start_time": "2022-07-04T00:12:24.785Z"
   },
   {
    "duration": 24,
    "start_time": "2022-07-04T00:12:24.865Z"
   },
   {
    "duration": 70,
    "start_time": "2022-07-04T00:12:24.895Z"
   },
   {
    "duration": 61,
    "start_time": "2022-07-04T00:12:24.974Z"
   },
   {
    "duration": 532,
    "start_time": "2022-07-04T00:12:25.037Z"
   },
   {
    "duration": 11,
    "start_time": "2022-07-04T00:12:25.572Z"
   },
   {
    "duration": 115,
    "start_time": "2022-07-04T00:12:25.584Z"
   },
   {
    "duration": 36,
    "start_time": "2022-07-04T00:12:25.701Z"
   },
   {
    "duration": 20,
    "start_time": "2022-07-04T00:12:25.739Z"
   },
   {
    "duration": 76,
    "start_time": "2022-07-04T00:12:25.765Z"
   },
   {
    "duration": 176,
    "start_time": "2022-07-04T00:12:25.843Z"
   },
   {
    "duration": 101,
    "start_time": "2022-07-04T00:12:26.024Z"
   },
   {
    "duration": 28,
    "start_time": "2022-07-04T00:12:26.127Z"
   },
   {
    "duration": 3,
    "start_time": "2022-07-04T00:12:26.157Z"
   },
   {
    "duration": 80,
    "start_time": "2022-07-04T00:12:26.162Z"
   },
   {
    "duration": 36,
    "start_time": "2022-07-04T00:12:26.243Z"
   },
   {
    "duration": 50,
    "start_time": "2022-07-04T00:12:26.281Z"
   },
   {
    "duration": 488,
    "start_time": "2022-07-04T00:12:26.332Z"
   },
   {
    "duration": 13,
    "start_time": "2022-07-04T00:12:26.822Z"
   },
   {
    "duration": 479,
    "start_time": "2022-07-04T00:12:26.836Z"
   },
   {
    "duration": 20,
    "start_time": "2022-07-04T00:12:27.319Z"
   },
   {
    "duration": 581,
    "start_time": "2022-07-04T00:12:27.341Z"
   },
   {
    "duration": 7,
    "start_time": "2022-07-04T00:12:27.931Z"
   },
   {
    "duration": 370,
    "start_time": "2022-07-04T00:12:27.940Z"
   },
   {
    "duration": 27,
    "start_time": "2022-07-04T00:12:28.313Z"
   },
   {
    "duration": 116,
    "start_time": "2022-07-04T00:12:28.342Z"
   },
   {
    "duration": 43,
    "start_time": "2022-07-04T00:12:28.463Z"
   },
   {
    "duration": 36,
    "start_time": "2022-07-04T00:12:28.508Z"
   },
   {
    "duration": 99,
    "start_time": "2022-07-04T00:12:28.547Z"
   },
   {
    "duration": 67,
    "start_time": "2022-07-04T00:12:28.648Z"
   },
   {
    "duration": 38,
    "start_time": "2022-07-04T00:12:28.721Z"
   },
   {
    "duration": 219,
    "start_time": "2022-07-04T00:12:28.763Z"
   },
   {
    "duration": 185,
    "start_time": "2022-07-04T00:12:28.989Z"
   },
   {
    "duration": 178,
    "start_time": "2022-07-04T00:12:29.177Z"
   },
   {
    "duration": 17,
    "start_time": "2022-07-04T00:12:29.357Z"
   },
   {
    "duration": 214,
    "start_time": "2022-07-04T00:12:29.378Z"
   },
   {
    "duration": 169,
    "start_time": "2022-07-04T00:12:29.597Z"
   },
   {
    "duration": 159,
    "start_time": "2022-07-04T00:12:29.768Z"
   },
   {
    "duration": 13,
    "start_time": "2022-07-04T00:12:29.929Z"
   },
   {
    "duration": 201,
    "start_time": "2022-07-04T00:12:29.943Z"
   },
   {
    "duration": 288,
    "start_time": "2022-07-04T00:12:30.146Z"
   },
   {
    "duration": 181,
    "start_time": "2022-07-04T00:12:30.436Z"
   },
   {
    "duration": 8,
    "start_time": "2022-07-04T00:12:30.625Z"
   },
   {
    "duration": 89,
    "start_time": "2022-07-04T00:12:30.635Z"
   },
   {
    "duration": 42,
    "start_time": "2022-07-04T00:12:30.726Z"
   },
   {
    "duration": 77,
    "start_time": "2022-07-04T00:12:30.774Z"
   },
   {
    "duration": 1012,
    "start_time": "2022-07-04T00:12:30.854Z"
   },
   {
    "duration": 176,
    "start_time": "2022-07-04T00:12:34.779Z"
   },
   {
    "duration": 718,
    "start_time": "2022-07-04T00:12:42.870Z"
   },
   {
    "duration": 15,
    "start_time": "2022-07-04T00:12:46.124Z"
   },
   {
    "duration": 6,
    "start_time": "2022-07-04T00:12:51.577Z"
   },
   {
    "duration": 8,
    "start_time": "2022-07-04T00:14:11.489Z"
   },
   {
    "duration": 21098,
    "start_time": "2022-07-04T00:18:21.177Z"
   },
   {
    "duration": 17,
    "start_time": "2022-07-04T00:18:47.998Z"
   },
   {
    "duration": 7,
    "start_time": "2022-07-04T00:26:36.468Z"
   },
   {
    "duration": 114,
    "start_time": "2022-07-04T00:27:13.207Z"
   },
   {
    "duration": 4,
    "start_time": "2022-07-04T00:27:19.979Z"
   },
   {
    "duration": 8,
    "start_time": "2022-07-04T00:27:44.803Z"
   },
   {
    "duration": 157,
    "start_time": "2022-07-04T00:28:52.664Z"
   },
   {
    "duration": 22,
    "start_time": "2022-07-04T00:29:05.636Z"
   },
   {
    "duration": 19,
    "start_time": "2022-07-04T00:29:17.979Z"
   },
   {
    "duration": 7,
    "start_time": "2022-07-04T00:29:25.779Z"
   },
   {
    "duration": 33,
    "start_time": "2022-07-04T00:29:47.846Z"
   },
   {
    "duration": 13,
    "start_time": "2022-07-04T00:31:34.103Z"
   },
   {
    "duration": 19,
    "start_time": "2022-07-04T00:31:46.505Z"
   },
   {
    "duration": 4,
    "start_time": "2022-07-04T00:32:40.792Z"
   },
   {
    "duration": 568,
    "start_time": "2022-07-04T00:32:40.805Z"
   },
   {
    "duration": 392,
    "start_time": "2022-07-04T00:32:41.375Z"
   },
   {
    "duration": 107,
    "start_time": "2022-07-04T00:32:41.772Z"
   },
   {
    "duration": 41,
    "start_time": "2022-07-04T00:32:41.882Z"
   },
   {
    "duration": 27,
    "start_time": "2022-07-04T00:32:41.924Z"
   },
   {
    "duration": 69,
    "start_time": "2022-07-04T00:32:41.957Z"
   },
   {
    "duration": 16,
    "start_time": "2022-07-04T00:32:42.028Z"
   },
   {
    "duration": 37,
    "start_time": "2022-07-04T00:32:42.046Z"
   },
   {
    "duration": 53,
    "start_time": "2022-07-04T00:32:42.086Z"
   },
   {
    "duration": 25,
    "start_time": "2022-07-04T00:32:42.142Z"
   },
   {
    "duration": 54,
    "start_time": "2022-07-04T00:32:42.169Z"
   },
   {
    "duration": 461,
    "start_time": "2022-07-04T00:32:42.225Z"
   },
   {
    "duration": 9,
    "start_time": "2022-07-04T00:32:42.690Z"
   },
   {
    "duration": 35,
    "start_time": "2022-07-04T00:32:42.704Z"
   },
   {
    "duration": 8,
    "start_time": "2022-07-04T00:32:42.741Z"
   },
   {
    "duration": 72,
    "start_time": "2022-07-04T00:32:42.750Z"
   },
   {
    "duration": 14,
    "start_time": "2022-07-04T00:32:42.824Z"
   },
   {
    "duration": 169,
    "start_time": "2022-07-04T00:32:42.840Z"
   },
   {
    "duration": 112,
    "start_time": "2022-07-04T00:32:43.011Z"
   },
   {
    "duration": 25,
    "start_time": "2022-07-04T00:32:43.125Z"
   },
   {
    "duration": 3,
    "start_time": "2022-07-04T00:32:43.152Z"
   },
   {
    "duration": 78,
    "start_time": "2022-07-04T00:32:43.157Z"
   },
   {
    "duration": 43,
    "start_time": "2022-07-04T00:32:43.237Z"
   },
   {
    "duration": 35,
    "start_time": "2022-07-04T00:32:43.286Z"
   },
   {
    "duration": 425,
    "start_time": "2022-07-04T00:32:43.324Z"
   },
   {
    "duration": 17,
    "start_time": "2022-07-04T00:32:43.755Z"
   },
   {
    "duration": 485,
    "start_time": "2022-07-04T00:32:43.774Z"
   },
   {
    "duration": 20,
    "start_time": "2022-07-04T00:32:44.270Z"
   },
   {
    "duration": 484,
    "start_time": "2022-07-04T00:32:44.295Z"
   },
   {
    "duration": 10,
    "start_time": "2022-07-04T00:32:44.784Z"
   },
   {
    "duration": 406,
    "start_time": "2022-07-04T00:32:44.799Z"
   },
   {
    "duration": 31,
    "start_time": "2022-07-04T00:32:45.207Z"
   },
   {
    "duration": 62,
    "start_time": "2022-07-04T00:32:45.241Z"
   },
   {
    "duration": 70,
    "start_time": "2022-07-04T00:32:45.305Z"
   },
   {
    "duration": 10,
    "start_time": "2022-07-04T00:32:45.377Z"
   },
   {
    "duration": 58,
    "start_time": "2022-07-04T00:32:45.389Z"
   },
   {
    "duration": 11,
    "start_time": "2022-07-04T00:32:45.449Z"
   },
   {
    "duration": 75,
    "start_time": "2022-07-04T00:32:45.461Z"
   },
   {
    "duration": 289,
    "start_time": "2022-07-04T00:32:45.538Z"
   },
   {
    "duration": 160,
    "start_time": "2022-07-04T00:32:45.829Z"
   },
   {
    "duration": 157,
    "start_time": "2022-07-04T00:32:45.991Z"
   },
   {
    "duration": 14,
    "start_time": "2022-07-04T00:32:46.150Z"
   },
   {
    "duration": 203,
    "start_time": "2022-07-04T00:32:46.165Z"
   },
   {
    "duration": 165,
    "start_time": "2022-07-04T00:32:46.372Z"
   },
   {
    "duration": 154,
    "start_time": "2022-07-04T00:32:46.539Z"
   },
   {
    "duration": 17,
    "start_time": "2022-07-04T00:32:46.703Z"
   },
   {
    "duration": 163,
    "start_time": "2022-07-04T00:32:46.722Z"
   },
   {
    "duration": 153,
    "start_time": "2022-07-04T00:32:46.886Z"
   },
   {
    "duration": 150,
    "start_time": "2022-07-04T00:32:47.041Z"
   },
   {
    "duration": 15,
    "start_time": "2022-07-04T00:32:47.195Z"
   },
   {
    "duration": 6,
    "start_time": "2022-07-04T00:32:47.218Z"
   },
   {
    "duration": 15,
    "start_time": "2022-07-04T00:32:47.226Z"
   },
   {
    "duration": 13,
    "start_time": "2022-07-04T00:32:47.242Z"
   },
   {
    "duration": 524,
    "start_time": "2022-07-04T00:32:51.547Z"
   },
   {
    "duration": 92,
    "start_time": "2022-07-04T00:32:57.782Z"
   },
   {
    "duration": 3,
    "start_time": "2022-07-04T00:33:06.436Z"
   },
   {
    "duration": 136,
    "start_time": "2022-07-04T00:36:30.375Z"
   },
   {
    "duration": 4275,
    "start_time": "2022-07-04T00:36:50.015Z"
   },
   {
    "duration": 4202,
    "start_time": "2022-07-04T00:37:35.917Z"
   },
   {
    "duration": 103,
    "start_time": "2022-07-04T00:41:14.417Z"
   },
   {
    "duration": 4157,
    "start_time": "2022-07-04T00:41:22.814Z"
   },
   {
    "duration": 9,
    "start_time": "2022-07-04T00:42:12.016Z"
   },
   {
    "duration": 3,
    "start_time": "2022-07-04T00:42:17.891Z"
   },
   {
    "duration": 422,
    "start_time": "2022-07-04T00:49:24.177Z"
   },
   {
    "duration": 400,
    "start_time": "2022-07-04T00:50:18.170Z"
   },
   {
    "duration": 396,
    "start_time": "2022-07-04T00:50:23.788Z"
   },
   {
    "duration": 416,
    "start_time": "2022-07-04T00:50:31.305Z"
   },
   {
    "duration": 408,
    "start_time": "2022-07-04T00:50:38.105Z"
   },
   {
    "duration": 6,
    "start_time": "2022-07-04T00:52:07.435Z"
   },
   {
    "duration": 14,
    "start_time": "2022-07-04T00:52:23.746Z"
   },
   {
    "duration": 21,
    "start_time": "2022-07-04T00:52:33.747Z"
   },
   {
    "duration": 15,
    "start_time": "2022-07-04T00:52:40.479Z"
   },
   {
    "duration": 419,
    "start_time": "2022-07-04T00:53:01.625Z"
   },
   {
    "duration": 69,
    "start_time": "2022-07-04T00:53:51.210Z"
   },
   {
    "duration": 7,
    "start_time": "2022-07-04T00:53:56.295Z"
   },
   {
    "duration": 673,
    "start_time": "2022-07-04T00:54:02.767Z"
   },
   {
    "duration": 700,
    "start_time": "2022-07-04T00:54:15.390Z"
   },
   {
    "duration": 6,
    "start_time": "2022-07-04T00:54:20.779Z"
   },
   {
    "duration": 656,
    "start_time": "2022-07-04T00:54:29.578Z"
   },
   {
    "duration": 634,
    "start_time": "2022-07-04T00:54:37.579Z"
   },
   {
    "duration": 715,
    "start_time": "2022-07-04T00:54:45.401Z"
   },
   {
    "duration": 4,
    "start_time": "2022-07-04T00:55:54.105Z"
   },
   {
    "duration": 483,
    "start_time": "2022-07-04T00:55:54.112Z"
   },
   {
    "duration": 326,
    "start_time": "2022-07-04T00:55:54.598Z"
   },
   {
    "duration": 90,
    "start_time": "2022-07-04T00:55:54.926Z"
   },
   {
    "duration": 28,
    "start_time": "2022-07-04T00:55:55.019Z"
   },
   {
    "duration": 30,
    "start_time": "2022-07-04T00:55:55.048Z"
   },
   {
    "duration": 52,
    "start_time": "2022-07-04T00:55:55.085Z"
   },
   {
    "duration": 17,
    "start_time": "2022-07-04T00:55:55.139Z"
   },
   {
    "duration": 53,
    "start_time": "2022-07-04T00:55:55.158Z"
   },
   {
    "duration": 33,
    "start_time": "2022-07-04T00:55:55.213Z"
   },
   {
    "duration": 30,
    "start_time": "2022-07-04T00:55:55.249Z"
   },
   {
    "duration": 45,
    "start_time": "2022-07-04T00:55:55.281Z"
   },
   {
    "duration": 670,
    "start_time": "2022-07-04T00:55:55.328Z"
   },
   {
    "duration": 23,
    "start_time": "2022-07-04T00:56:00.377Z"
   },
   {
    "duration": 19,
    "start_time": "2022-07-04T00:56:29.977Z"
   },
   {
    "duration": 20,
    "start_time": "2022-07-04T00:56:49.273Z"
   },
   {
    "duration": 6,
    "start_time": "2022-07-04T00:57:07.900Z"
   },
   {
    "duration": 105,
    "start_time": "2022-07-04T00:57:24.898Z"
   },
   {
    "duration": 6,
    "start_time": "2022-07-04T00:58:02.215Z"
   },
   {
    "duration": 5,
    "start_time": "2022-07-04T01:01:30.345Z"
   },
   {
    "duration": 362,
    "start_time": "2022-07-04T01:01:34.973Z"
   },
   {
    "duration": 31,
    "start_time": "2022-07-04T01:02:34.016Z"
   },
   {
    "duration": 1398,
    "start_time": "2022-07-04T01:02:59.396Z"
   },
   {
    "duration": 421,
    "start_time": "2022-07-04T01:03:00.797Z"
   },
   {
    "duration": 309,
    "start_time": "2022-07-04T01:03:01.220Z"
   },
   {
    "duration": 86,
    "start_time": "2022-07-04T01:03:01.531Z"
   },
   {
    "duration": 48,
    "start_time": "2022-07-04T01:03:01.619Z"
   },
   {
    "duration": 28,
    "start_time": "2022-07-04T01:03:01.669Z"
   },
   {
    "duration": 35,
    "start_time": "2022-07-04T01:03:01.699Z"
   },
   {
    "duration": 32,
    "start_time": "2022-07-04T01:03:01.736Z"
   },
   {
    "duration": 38,
    "start_time": "2022-07-04T01:03:01.771Z"
   },
   {
    "duration": 12,
    "start_time": "2022-07-04T01:03:01.811Z"
   },
   {
    "duration": 11,
    "start_time": "2022-07-04T01:03:01.825Z"
   },
   {
    "duration": 13,
    "start_time": "2022-07-04T01:03:01.838Z"
   },
   {
    "duration": 410,
    "start_time": "2022-07-04T01:03:01.852Z"
   },
   {
    "duration": 131,
    "start_time": "2022-07-04T01:03:09.298Z"
   },
   {
    "duration": 4,
    "start_time": "2022-07-04T01:04:23.496Z"
   },
   {
    "duration": 391,
    "start_time": "2022-07-04T01:04:26.506Z"
   },
   {
    "duration": 5,
    "start_time": "2022-07-04T01:05:21.016Z"
   },
   {
    "duration": 12,
    "start_time": "2022-07-04T01:08:18.785Z"
   },
   {
    "duration": 5,
    "start_time": "2022-07-04T01:08:31.846Z"
   },
   {
    "duration": 94,
    "start_time": "2022-07-04T01:13:57.126Z"
   },
   {
    "duration": 8,
    "start_time": "2022-07-04T01:14:03.479Z"
   },
   {
    "duration": 609,
    "start_time": "2022-07-04T01:14:08.296Z"
   },
   {
    "duration": 15,
    "start_time": "2022-07-04T01:14:13.970Z"
   },
   {
    "duration": 7,
    "start_time": "2022-07-04T01:14:40.317Z"
   },
   {
    "duration": 7,
    "start_time": "2022-07-04T01:14:47.776Z"
   },
   {
    "duration": 4,
    "start_time": "2022-07-04T01:23:43.511Z"
   },
   {
    "duration": 459,
    "start_time": "2022-07-04T01:23:43.519Z"
   },
   {
    "duration": 336,
    "start_time": "2022-07-04T01:23:43.981Z"
   },
   {
    "duration": 82,
    "start_time": "2022-07-04T01:23:44.319Z"
   },
   {
    "duration": 29,
    "start_time": "2022-07-04T01:23:44.403Z"
   },
   {
    "duration": 34,
    "start_time": "2022-07-04T01:23:44.433Z"
   },
   {
    "duration": 57,
    "start_time": "2022-07-04T01:23:44.470Z"
   },
   {
    "duration": 16,
    "start_time": "2022-07-04T01:23:44.528Z"
   },
   {
    "duration": 46,
    "start_time": "2022-07-04T01:23:44.545Z"
   },
   {
    "duration": 15,
    "start_time": "2022-07-04T01:23:44.593Z"
   },
   {
    "duration": 11,
    "start_time": "2022-07-04T01:23:44.610Z"
   },
   {
    "duration": 8,
    "start_time": "2022-07-04T01:23:44.622Z"
   },
   {
    "duration": 668,
    "start_time": "2022-07-04T01:23:44.632Z"
   },
   {
    "duration": 10,
    "start_time": "2022-07-04T01:23:45.301Z"
   },
   {
    "duration": 14,
    "start_time": "2022-07-04T01:23:45.313Z"
   },
   {
    "duration": 10,
    "start_time": "2022-07-04T01:23:45.329Z"
   },
   {
    "duration": 48,
    "start_time": "2022-07-04T01:23:45.341Z"
   },
   {
    "duration": 27,
    "start_time": "2022-07-04T01:23:45.395Z"
   },
   {
    "duration": 157,
    "start_time": "2022-07-04T01:23:45.424Z"
   },
   {
    "duration": 103,
    "start_time": "2022-07-04T01:23:45.592Z"
   },
   {
    "duration": 23,
    "start_time": "2022-07-04T01:23:45.697Z"
   },
   {
    "duration": 3,
    "start_time": "2022-07-04T01:23:45.721Z"
   },
   {
    "duration": 18,
    "start_time": "2022-07-04T01:23:45.726Z"
   },
   {
    "duration": 49,
    "start_time": "2022-07-04T01:23:45.745Z"
   },
   {
    "duration": 14,
    "start_time": "2022-07-04T01:23:45.796Z"
   },
   {
    "duration": 392,
    "start_time": "2022-07-04T01:23:45.812Z"
   },
   {
    "duration": 17,
    "start_time": "2022-07-04T01:23:46.205Z"
   },
   {
    "duration": 374,
    "start_time": "2022-07-04T01:23:46.224Z"
   },
   {
    "duration": 11,
    "start_time": "2022-07-04T01:23:46.601Z"
   },
   {
    "duration": 455,
    "start_time": "2022-07-04T01:23:46.613Z"
   },
   {
    "duration": 10,
    "start_time": "2022-07-04T01:23:47.069Z"
   },
   {
    "duration": 288,
    "start_time": "2022-07-04T01:23:47.081Z"
   },
   {
    "duration": 25,
    "start_time": "2022-07-04T01:23:47.375Z"
   },
   {
    "duration": 35,
    "start_time": "2022-07-04T01:23:47.402Z"
   },
   {
    "duration": 55,
    "start_time": "2022-07-04T01:23:47.439Z"
   },
   {
    "duration": 7,
    "start_time": "2022-07-04T01:23:47.496Z"
   },
   {
    "duration": 19,
    "start_time": "2022-07-04T01:23:47.504Z"
   },
   {
    "duration": 6,
    "start_time": "2022-07-04T01:23:47.525Z"
   },
   {
    "duration": 9,
    "start_time": "2022-07-04T01:23:47.533Z"
   },
   {
    "duration": 138,
    "start_time": "2022-07-04T01:23:47.544Z"
   },
   {
    "duration": 14,
    "start_time": "2022-07-04T01:23:47.683Z"
   },
   {
    "duration": 12,
    "start_time": "2022-07-04T01:23:47.699Z"
   },
   {
    "duration": 11,
    "start_time": "2022-07-04T01:23:59.981Z"
   },
   {
    "duration": 10,
    "start_time": "2022-07-04T01:26:44.283Z"
   },
   {
    "duration": 9,
    "start_time": "2022-07-04T01:28:41.983Z"
   },
   {
    "duration": 19,
    "start_time": "2022-07-04T01:28:54.378Z"
   },
   {
    "duration": 7,
    "start_time": "2022-07-04T01:29:28.090Z"
   },
   {
    "duration": 157,
    "start_time": "2022-07-04T01:31:58.332Z"
   },
   {
    "duration": 144,
    "start_time": "2022-07-04T01:32:14.780Z"
   },
   {
    "duration": 156,
    "start_time": "2022-07-04T01:32:35.452Z"
   },
   {
    "duration": 154,
    "start_time": "2022-07-04T01:32:47.353Z"
   },
   {
    "duration": 1488,
    "start_time": "2022-07-04T01:44:06.205Z"
   },
   {
    "duration": 470,
    "start_time": "2022-07-04T01:44:07.696Z"
   },
   {
    "duration": 342,
    "start_time": "2022-07-04T01:44:08.170Z"
   },
   {
    "duration": 81,
    "start_time": "2022-07-04T01:44:08.514Z"
   },
   {
    "duration": 33,
    "start_time": "2022-07-04T01:44:08.597Z"
   },
   {
    "duration": 37,
    "start_time": "2022-07-04T01:44:08.631Z"
   },
   {
    "duration": 35,
    "start_time": "2022-07-04T01:44:08.669Z"
   },
   {
    "duration": 18,
    "start_time": "2022-07-04T01:44:08.706Z"
   },
   {
    "duration": 52,
    "start_time": "2022-07-04T01:44:08.725Z"
   },
   {
    "duration": 24,
    "start_time": "2022-07-04T01:44:08.780Z"
   },
   {
    "duration": 11,
    "start_time": "2022-07-04T01:44:08.806Z"
   },
   {
    "duration": 6,
    "start_time": "2022-07-04T01:44:08.819Z"
   },
   {
    "duration": 596,
    "start_time": "2022-07-04T01:44:08.826Z"
   },
   {
    "duration": 6,
    "start_time": "2022-07-04T01:44:09.424Z"
   },
   {
    "duration": 8,
    "start_time": "2022-07-04T01:44:09.432Z"
   },
   {
    "duration": 17,
    "start_time": "2022-07-04T01:44:09.442Z"
   },
   {
    "duration": 13,
    "start_time": "2022-07-04T01:44:09.461Z"
   },
   {
    "duration": 29,
    "start_time": "2022-07-04T01:44:09.479Z"
   },
   {
    "duration": 120,
    "start_time": "2022-07-04T01:44:09.510Z"
   },
   {
    "duration": 93,
    "start_time": "2022-07-04T01:44:09.631Z"
   },
   {
    "duration": 43,
    "start_time": "2022-07-04T01:44:09.725Z"
   },
   {
    "duration": 11,
    "start_time": "2022-07-04T01:44:09.770Z"
   },
   {
    "duration": 22,
    "start_time": "2022-07-04T01:44:09.786Z"
   },
   {
    "duration": 29,
    "start_time": "2022-07-04T01:44:09.809Z"
   },
   {
    "duration": 27,
    "start_time": "2022-07-04T01:44:09.840Z"
   },
   {
    "duration": 446,
    "start_time": "2022-07-04T01:44:09.876Z"
   },
   {
    "duration": 10,
    "start_time": "2022-07-04T01:44:10.324Z"
   },
   {
    "duration": 413,
    "start_time": "2022-07-04T01:44:10.337Z"
   },
   {
    "duration": 20,
    "start_time": "2022-07-04T01:44:10.754Z"
   },
   {
    "duration": 501,
    "start_time": "2022-07-04T01:44:10.776Z"
   },
   {
    "duration": 9,
    "start_time": "2022-07-04T01:44:11.279Z"
   },
   {
    "duration": 301,
    "start_time": "2022-07-04T01:44:11.295Z"
   },
   {
    "duration": 29,
    "start_time": "2022-07-04T01:44:11.599Z"
   },
   {
    "duration": 62,
    "start_time": "2022-07-04T01:44:11.630Z"
   },
   {
    "duration": 28,
    "start_time": "2022-07-04T01:44:11.695Z"
   },
   {
    "duration": 9,
    "start_time": "2022-07-04T01:44:11.725Z"
   },
   {
    "duration": 21,
    "start_time": "2022-07-04T01:44:11.751Z"
   },
   {
    "duration": 31,
    "start_time": "2022-07-04T01:44:11.773Z"
   },
   {
    "duration": 12,
    "start_time": "2022-07-04T01:44:11.806Z"
   },
   {
    "duration": 21,
    "start_time": "2022-07-04T01:44:11.820Z"
   },
   {
    "duration": 19,
    "start_time": "2022-07-04T01:44:11.844Z"
   },
   {
    "duration": 181,
    "start_time": "2022-07-04T01:44:11.865Z"
   },
   {
    "duration": 168,
    "start_time": "2022-07-04T01:44:12.047Z"
   },
   {
    "duration": 164,
    "start_time": "2022-07-04T01:44:12.217Z"
   },
   {
    "duration": 5,
    "start_time": "2022-07-04T01:44:12.387Z"
   },
   {
    "duration": 4,
    "start_time": "2022-07-04T01:44:12.394Z"
   },
   {
    "duration": 21,
    "start_time": "2022-07-04T01:44:12.399Z"
   },
   {
    "duration": 13,
    "start_time": "2022-07-04T01:44:12.422Z"
   },
   {
    "duration": 524,
    "start_time": "2022-07-04T01:44:12.437Z"
   },
   {
    "duration": 113,
    "start_time": "2022-07-04T01:44:12.967Z"
   },
   {
    "duration": 307,
    "start_time": "2022-07-04T01:44:13.083Z"
   },
   {
    "duration": 139,
    "start_time": "2022-07-04T01:44:13.459Z"
   },
   {
    "duration": 49,
    "start_time": "2022-07-04T01:44:13.604Z"
   },
   {
    "duration": 4104,
    "start_time": "2022-07-04T01:44:13.664Z"
   },
   {
    "duration": 3767,
    "start_time": "2022-07-04T01:44:17.771Z"
   },
   {
    "duration": 4,
    "start_time": "2022-07-04T01:44:21.540Z"
   },
   {
    "duration": 1386,
    "start_time": "2022-07-04T01:46:32.402Z"
   },
   {
    "duration": 480,
    "start_time": "2022-07-04T01:46:33.792Z"
   },
   {
    "duration": 310,
    "start_time": "2022-07-04T01:46:34.282Z"
   },
   {
    "duration": 84,
    "start_time": "2022-07-04T01:46:34.594Z"
   },
   {
    "duration": 40,
    "start_time": "2022-07-04T01:46:34.680Z"
   },
   {
    "duration": 42,
    "start_time": "2022-07-04T01:46:34.722Z"
   },
   {
    "duration": 42,
    "start_time": "2022-07-04T01:46:34.773Z"
   },
   {
    "duration": 17,
    "start_time": "2022-07-04T01:46:34.817Z"
   },
   {
    "duration": 52,
    "start_time": "2022-07-04T01:46:34.836Z"
   },
   {
    "duration": 16,
    "start_time": "2022-07-04T01:46:34.890Z"
   },
   {
    "duration": 10,
    "start_time": "2022-07-04T01:46:34.909Z"
   },
   {
    "duration": 12,
    "start_time": "2022-07-04T01:46:34.921Z"
   },
   {
    "duration": 677,
    "start_time": "2022-07-04T01:46:34.934Z"
   },
   {
    "duration": 6,
    "start_time": "2022-07-04T01:46:35.615Z"
   },
   {
    "duration": 18,
    "start_time": "2022-07-04T01:46:35.623Z"
   },
   {
    "duration": 19,
    "start_time": "2022-07-04T01:46:35.643Z"
   },
   {
    "duration": 34,
    "start_time": "2022-07-04T01:46:35.667Z"
   },
   {
    "duration": 25,
    "start_time": "2022-07-04T01:46:35.702Z"
   },
   {
    "duration": 120,
    "start_time": "2022-07-04T01:46:35.729Z"
   },
   {
    "duration": 117,
    "start_time": "2022-07-04T01:46:35.851Z"
   },
   {
    "duration": 35,
    "start_time": "2022-07-04T01:46:35.980Z"
   },
   {
    "duration": 4,
    "start_time": "2022-07-04T01:46:36.016Z"
   },
   {
    "duration": 20,
    "start_time": "2022-07-04T01:46:36.022Z"
   },
   {
    "duration": 36,
    "start_time": "2022-07-04T01:46:36.043Z"
   },
   {
    "duration": 47,
    "start_time": "2022-07-04T01:46:36.081Z"
   },
   {
    "duration": 453,
    "start_time": "2022-07-04T01:46:36.136Z"
   },
   {
    "duration": 16,
    "start_time": "2022-07-04T01:46:36.591Z"
   },
   {
    "duration": 385,
    "start_time": "2022-07-04T01:46:36.609Z"
   },
   {
    "duration": 14,
    "start_time": "2022-07-04T01:46:36.996Z"
   },
   {
    "duration": 501,
    "start_time": "2022-07-04T01:46:37.012Z"
   },
   {
    "duration": 8,
    "start_time": "2022-07-04T01:46:37.515Z"
   },
   {
    "duration": 284,
    "start_time": "2022-07-04T01:46:37.525Z"
   },
   {
    "duration": 21,
    "start_time": "2022-07-04T01:46:37.811Z"
   },
   {
    "duration": 61,
    "start_time": "2022-07-04T01:46:37.834Z"
   },
   {
    "duration": 39,
    "start_time": "2022-07-04T01:46:37.897Z"
   },
   {
    "duration": 9,
    "start_time": "2022-07-04T01:46:37.953Z"
   },
   {
    "duration": 53,
    "start_time": "2022-07-04T01:46:37.963Z"
   },
   {
    "duration": 8,
    "start_time": "2022-07-04T01:46:38.018Z"
   },
   {
    "duration": 11,
    "start_time": "2022-07-04T01:46:38.028Z"
   },
   {
    "duration": 25,
    "start_time": "2022-07-04T01:46:38.041Z"
   },
   {
    "duration": 31,
    "start_time": "2022-07-04T01:46:38.071Z"
   },
   {
    "duration": 142,
    "start_time": "2022-07-04T01:46:38.104Z"
   },
   {
    "duration": 153,
    "start_time": "2022-07-04T01:46:38.248Z"
   },
   {
    "duration": 173,
    "start_time": "2022-07-04T01:46:38.404Z"
   },
   {
    "duration": 4,
    "start_time": "2022-07-04T01:46:38.579Z"
   },
   {
    "duration": 25,
    "start_time": "2022-07-04T01:46:38.584Z"
   },
   {
    "duration": 21,
    "start_time": "2022-07-04T01:46:38.610Z"
   },
   {
    "duration": 12,
    "start_time": "2022-07-04T01:46:38.633Z"
   },
   {
    "duration": 316,
    "start_time": "2022-07-04T01:46:38.646Z"
   },
   {
    "duration": 219,
    "start_time": "2022-07-04T01:46:38.964Z"
   },
   {
    "duration": 694,
    "start_time": "2022-07-04T01:46:39.185Z"
   },
   {
    "duration": 185,
    "start_time": "2022-07-04T01:46:39.886Z"
   },
   {
    "duration": 76,
    "start_time": "2022-07-04T01:46:40.078Z"
   },
   {
    "duration": 4101,
    "start_time": "2022-07-04T01:46:40.161Z"
   },
   {
    "duration": 3886,
    "start_time": "2022-07-04T01:46:44.271Z"
   },
   {
    "duration": 5,
    "start_time": "2022-07-04T01:46:48.175Z"
   },
   {
    "duration": 160342,
    "start_time": "2022-07-04T01:46:48.182Z"
   },
   {
    "duration": 162509,
    "start_time": "2022-07-04T01:49:28.526Z"
   },
   {
    "duration": 4,
    "start_time": "2022-07-04T01:52:11.036Z"
   },
   {
    "duration": 4,
    "start_time": "2022-07-04T01:58:58.426Z"
   },
   {
    "duration": 8,
    "start_time": "2022-07-04T02:03:09.345Z"
   },
   {
    "duration": 12,
    "start_time": "2022-07-04T02:04:18.345Z"
   },
   {
    "duration": 3,
    "start_time": "2022-07-04T02:05:30.146Z"
   },
   {
    "duration": 1551,
    "start_time": "2022-07-04T21:15:38.068Z"
   },
   {
    "duration": 598,
    "start_time": "2022-07-04T21:15:39.621Z"
   },
   {
    "duration": 469,
    "start_time": "2022-07-04T21:15:40.221Z"
   },
   {
    "duration": 145,
    "start_time": "2022-07-04T21:15:40.692Z"
   },
   {
    "duration": 37,
    "start_time": "2022-07-04T21:15:40.838Z"
   },
   {
    "duration": 18,
    "start_time": "2022-07-04T21:15:40.876Z"
   },
   {
    "duration": 26,
    "start_time": "2022-07-04T21:15:40.896Z"
   },
   {
    "duration": 36,
    "start_time": "2022-07-04T21:15:40.924Z"
   },
   {
    "duration": 25,
    "start_time": "2022-07-04T21:15:40.961Z"
   },
   {
    "duration": 11,
    "start_time": "2022-07-04T21:15:40.988Z"
   },
   {
    "duration": 9,
    "start_time": "2022-07-04T21:15:41.000Z"
   },
   {
    "duration": 5,
    "start_time": "2022-07-04T21:17:36.218Z"
   },
   {
    "duration": 659,
    "start_time": "2022-07-04T21:17:39.259Z"
   },
   {
    "duration": 5,
    "start_time": "2022-07-04T21:17:52.688Z"
   },
   {
    "duration": 1325,
    "start_time": "2022-07-04T21:18:44.501Z"
   },
   {
    "duration": 363,
    "start_time": "2022-07-04T21:18:45.828Z"
   },
   {
    "duration": 261,
    "start_time": "2022-07-04T21:18:46.193Z"
   },
   {
    "duration": 65,
    "start_time": "2022-07-04T21:18:46.456Z"
   },
   {
    "duration": 38,
    "start_time": "2022-07-04T21:18:46.523Z"
   },
   {
    "duration": 17,
    "start_time": "2022-07-04T21:18:46.562Z"
   },
   {
    "duration": 27,
    "start_time": "2022-07-04T21:18:46.581Z"
   },
   {
    "duration": 43,
    "start_time": "2022-07-04T21:18:46.609Z"
   },
   {
    "duration": 27,
    "start_time": "2022-07-04T21:18:46.654Z"
   },
   {
    "duration": 11,
    "start_time": "2022-07-04T21:18:46.683Z"
   },
   {
    "duration": 9,
    "start_time": "2022-07-04T21:18:46.696Z"
   },
   {
    "duration": 7,
    "start_time": "2022-07-04T21:18:46.707Z"
   },
   {
    "duration": 635,
    "start_time": "2022-07-04T21:18:46.716Z"
   },
   {
    "duration": 106,
    "start_time": "2022-07-04T21:18:51.789Z"
   },
   {
    "duration": 16,
    "start_time": "2022-07-04T21:19:14.088Z"
   },
   {
    "duration": 5,
    "start_time": "2022-07-04T21:19:25.429Z"
   },
   {
    "duration": 1188,
    "start_time": "2022-07-04T21:19:40.573Z"
   },
   {
    "duration": 332,
    "start_time": "2022-07-04T21:19:41.762Z"
   },
   {
    "duration": 246,
    "start_time": "2022-07-04T21:19:42.096Z"
   },
   {
    "duration": 66,
    "start_time": "2022-07-04T21:19:42.344Z"
   },
   {
    "duration": 38,
    "start_time": "2022-07-04T21:19:42.412Z"
   },
   {
    "duration": 16,
    "start_time": "2022-07-04T21:19:42.451Z"
   },
   {
    "duration": 25,
    "start_time": "2022-07-04T21:19:42.468Z"
   },
   {
    "duration": 16,
    "start_time": "2022-07-04T21:19:42.494Z"
   },
   {
    "duration": 47,
    "start_time": "2022-07-04T21:19:42.511Z"
   },
   {
    "duration": 11,
    "start_time": "2022-07-04T21:19:42.560Z"
   },
   {
    "duration": 9,
    "start_time": "2022-07-04T21:19:42.573Z"
   },
   {
    "duration": 8,
    "start_time": "2022-07-04T21:19:42.583Z"
   },
   {
    "duration": 555,
    "start_time": "2022-07-04T21:19:42.592Z"
   },
   {
    "duration": 14,
    "start_time": "2022-07-04T21:21:29.902Z"
   },
   {
    "duration": 4,
    "start_time": "2022-07-04T21:24:31.912Z"
   },
   {
    "duration": 341,
    "start_time": "2022-07-04T21:24:34.373Z"
   },
   {
    "duration": 102,
    "start_time": "2022-07-04T21:24:41.573Z"
   },
   {
    "duration": 4,
    "start_time": "2022-07-04T21:25:05.373Z"
   },
   {
    "duration": 540,
    "start_time": "2022-07-04T21:25:07.504Z"
   },
   {
    "duration": 5,
    "start_time": "2022-07-04T21:25:10.323Z"
   },
   {
    "duration": 14,
    "start_time": "2022-07-04T21:29:23.783Z"
   },
   {
    "duration": 1350,
    "start_time": "2022-07-05T07:56:55.381Z"
   },
   {
    "duration": 570,
    "start_time": "2022-07-05T07:56:56.732Z"
   },
   {
    "duration": 418,
    "start_time": "2022-07-05T07:56:57.304Z"
   },
   {
    "duration": 119,
    "start_time": "2022-07-05T07:56:57.723Z"
   },
   {
    "duration": 33,
    "start_time": "2022-07-05T07:56:57.844Z"
   },
   {
    "duration": 19,
    "start_time": "2022-07-05T07:56:57.878Z"
   },
   {
    "duration": 44,
    "start_time": "2022-07-05T07:56:57.899Z"
   },
   {
    "duration": 19,
    "start_time": "2022-07-05T07:56:57.945Z"
   },
   {
    "duration": 26,
    "start_time": "2022-07-05T07:56:57.965Z"
   },
   {
    "duration": 36,
    "start_time": "2022-07-05T07:56:57.992Z"
   },
   {
    "duration": 10,
    "start_time": "2022-07-05T07:56:58.030Z"
   },
   {
    "duration": 6,
    "start_time": "2022-07-05T07:56:58.042Z"
   },
   {
    "duration": 579,
    "start_time": "2022-07-05T07:56:58.049Z"
   },
   {
    "duration": 5,
    "start_time": "2022-07-05T07:56:58.631Z"
   },
   {
    "duration": 9,
    "start_time": "2022-07-05T07:56:58.637Z"
   },
   {
    "duration": 6,
    "start_time": "2022-07-05T07:56:58.648Z"
   },
   {
    "duration": 11,
    "start_time": "2022-07-05T07:56:58.656Z"
   },
   {
    "duration": 14,
    "start_time": "2022-07-05T07:56:58.669Z"
   },
   {
    "duration": 136,
    "start_time": "2022-07-05T07:56:58.684Z"
   },
   {
    "duration": 101,
    "start_time": "2022-07-05T07:56:58.824Z"
   },
   {
    "duration": 32,
    "start_time": "2022-07-05T07:56:58.927Z"
   },
   {
    "duration": 104,
    "start_time": "2022-07-05T07:57:33.811Z"
   },
   {
    "duration": 13,
    "start_time": "2022-07-05T07:57:37.282Z"
   },
   {
    "duration": 58,
    "start_time": "2022-07-05T07:57:39.990Z"
   },
   {
    "duration": 64,
    "start_time": "2022-07-05T07:58:11.132Z"
   },
   {
    "duration": 10,
    "start_time": "2022-07-05T08:25:26.145Z"
   },
   {
    "duration": 8,
    "start_time": "2022-07-05T08:26:37.272Z"
   },
   {
    "duration": 50,
    "start_time": "2022-07-05T08:36:28.482Z"
   },
   {
    "duration": 4,
    "start_time": "2022-07-05T08:36:41.251Z"
   },
   {
    "duration": 4,
    "start_time": "2022-07-05T08:36:56.192Z"
   },
   {
    "duration": 400,
    "start_time": "2022-07-05T08:36:56.200Z"
   },
   {
    "duration": 277,
    "start_time": "2022-07-05T08:36:56.602Z"
   },
   {
    "duration": 77,
    "start_time": "2022-07-05T08:36:56.880Z"
   },
   {
    "duration": 31,
    "start_time": "2022-07-05T08:36:56.960Z"
   },
   {
    "duration": 30,
    "start_time": "2022-07-05T08:36:56.993Z"
   },
   {
    "duration": 27,
    "start_time": "2022-07-05T08:36:57.025Z"
   },
   {
    "duration": 18,
    "start_time": "2022-07-05T08:36:57.053Z"
   },
   {
    "duration": 50,
    "start_time": "2022-07-05T08:36:57.073Z"
   },
   {
    "duration": 12,
    "start_time": "2022-07-05T08:36:57.125Z"
   },
   {
    "duration": 10,
    "start_time": "2022-07-05T08:36:57.140Z"
   },
   {
    "duration": 6,
    "start_time": "2022-07-05T08:36:57.151Z"
   },
   {
    "duration": 625,
    "start_time": "2022-07-05T08:36:57.159Z"
   },
   {
    "duration": 4,
    "start_time": "2022-07-05T08:36:57.786Z"
   },
   {
    "duration": 20,
    "start_time": "2022-07-05T08:36:57.792Z"
   },
   {
    "duration": 12,
    "start_time": "2022-07-05T08:36:57.813Z"
   },
   {
    "duration": 7,
    "start_time": "2022-07-05T08:36:57.826Z"
   },
   {
    "duration": 10,
    "start_time": "2022-07-05T08:36:57.835Z"
   },
   {
    "duration": 25,
    "start_time": "2022-07-05T08:36:57.847Z"
   },
   {
    "duration": 123,
    "start_time": "2022-07-05T08:36:57.874Z"
   },
   {
    "duration": 87,
    "start_time": "2022-07-05T08:36:57.998Z"
   },
   {
    "duration": 23,
    "start_time": "2022-07-05T08:36:58.087Z"
   },
   {
    "duration": 18,
    "start_time": "2022-07-05T08:36:58.112Z"
   },
   {
    "duration": 29,
    "start_time": "2022-07-05T08:36:58.132Z"
   },
   {
    "duration": 13,
    "start_time": "2022-07-05T08:36:58.162Z"
   },
   {
    "duration": 397,
    "start_time": "2022-07-05T08:36:58.177Z"
   },
   {
    "duration": 11,
    "start_time": "2022-07-05T08:36:58.576Z"
   },
   {
    "duration": 469,
    "start_time": "2022-07-05T08:36:58.589Z"
   },
   {
    "duration": 13,
    "start_time": "2022-07-05T08:36:59.062Z"
   },
   {
    "duration": 393,
    "start_time": "2022-07-05T08:36:59.077Z"
   },
   {
    "duration": 6,
    "start_time": "2022-07-05T08:36:59.472Z"
   },
   {
    "duration": 278,
    "start_time": "2022-07-05T08:36:59.480Z"
   },
   {
    "duration": 26,
    "start_time": "2022-07-05T08:36:59.760Z"
   },
   {
    "duration": 57,
    "start_time": "2022-07-05T08:36:59.788Z"
   },
   {
    "duration": 39,
    "start_time": "2022-07-05T08:36:59.847Z"
   },
   {
    "duration": 7,
    "start_time": "2022-07-05T08:36:59.888Z"
   },
   {
    "duration": 37,
    "start_time": "2022-07-05T08:36:59.897Z"
   },
   {
    "duration": 7,
    "start_time": "2022-07-05T08:36:59.936Z"
   },
   {
    "duration": 14,
    "start_time": "2022-07-05T08:36:59.944Z"
   },
   {
    "duration": 14,
    "start_time": "2022-07-05T08:36:59.959Z"
   },
   {
    "duration": 14,
    "start_time": "2022-07-05T08:36:59.975Z"
   },
   {
    "duration": 173,
    "start_time": "2022-07-05T08:36:59.990Z"
   },
   {
    "duration": 131,
    "start_time": "2022-07-05T08:37:00.165Z"
   },
   {
    "duration": 150,
    "start_time": "2022-07-05T08:37:00.297Z"
   },
   {
    "duration": 4,
    "start_time": "2022-07-05T08:37:00.449Z"
   },
   {
    "duration": 16,
    "start_time": "2022-07-05T08:37:00.455Z"
   },
   {
    "duration": 21,
    "start_time": "2022-07-05T08:37:00.473Z"
   },
   {
    "duration": 19,
    "start_time": "2022-07-05T08:37:00.495Z"
   },
   {
    "duration": 9,
    "start_time": "2022-07-05T08:37:00.516Z"
   },
   {
    "duration": 39,
    "start_time": "2022-07-05T08:37:06.191Z"
   },
   {
    "duration": 11,
    "start_time": "2022-07-05T08:37:13.231Z"
   },
   {
    "duration": 1376,
    "start_time": "2022-07-05T08:37:23.502Z"
   },
   {
    "duration": 382,
    "start_time": "2022-07-05T08:37:24.880Z"
   },
   {
    "duration": 265,
    "start_time": "2022-07-05T08:37:25.264Z"
   },
   {
    "duration": 72,
    "start_time": "2022-07-05T08:37:25.531Z"
   },
   {
    "duration": 41,
    "start_time": "2022-07-05T08:37:25.605Z"
   },
   {
    "duration": 19,
    "start_time": "2022-07-05T08:37:25.648Z"
   },
   {
    "duration": 55,
    "start_time": "2022-07-05T08:37:25.669Z"
   },
   {
    "duration": 19,
    "start_time": "2022-07-05T08:37:25.726Z"
   },
   {
    "duration": 28,
    "start_time": "2022-07-05T08:37:25.746Z"
   },
   {
    "duration": 12,
    "start_time": "2022-07-05T08:37:25.776Z"
   },
   {
    "duration": 42,
    "start_time": "2022-07-05T08:37:25.789Z"
   },
   {
    "duration": 5,
    "start_time": "2022-07-05T08:37:25.832Z"
   },
   {
    "duration": 629,
    "start_time": "2022-07-05T08:37:25.838Z"
   },
   {
    "duration": 5,
    "start_time": "2022-07-05T08:37:26.469Z"
   },
   {
    "duration": 11,
    "start_time": "2022-07-05T08:37:26.475Z"
   },
   {
    "duration": 8,
    "start_time": "2022-07-05T08:37:26.487Z"
   },
   {
    "duration": 7,
    "start_time": "2022-07-05T08:37:26.497Z"
   },
   {
    "duration": 5,
    "start_time": "2022-07-05T08:37:26.523Z"
   },
   {
    "duration": 26,
    "start_time": "2022-07-05T08:37:26.529Z"
   },
   {
    "duration": 128,
    "start_time": "2022-07-05T08:37:26.557Z"
   },
   {
    "duration": 88,
    "start_time": "2022-07-05T08:37:26.687Z"
   },
   {
    "duration": 25,
    "start_time": "2022-07-05T08:37:26.776Z"
   },
   {
    "duration": 22,
    "start_time": "2022-07-05T08:37:26.802Z"
   },
   {
    "duration": 28,
    "start_time": "2022-07-05T08:37:26.826Z"
   },
   {
    "duration": 13,
    "start_time": "2022-07-05T08:37:26.855Z"
   },
   {
    "duration": 380,
    "start_time": "2022-07-05T08:37:26.869Z"
   },
   {
    "duration": 11,
    "start_time": "2022-07-05T08:37:27.250Z"
   },
   {
    "duration": 385,
    "start_time": "2022-07-05T08:37:27.263Z"
   },
   {
    "duration": 10,
    "start_time": "2022-07-05T08:37:27.650Z"
   },
   {
    "duration": 446,
    "start_time": "2022-07-05T08:37:27.662Z"
   },
   {
    "duration": 13,
    "start_time": "2022-07-05T08:37:28.110Z"
   },
   {
    "duration": 272,
    "start_time": "2022-07-05T08:37:28.125Z"
   },
   {
    "duration": 32,
    "start_time": "2022-07-05T08:37:28.399Z"
   },
   {
    "duration": 31,
    "start_time": "2022-07-05T08:37:28.433Z"
   },
   {
    "duration": 1353,
    "start_time": "2022-07-05T08:37:50.829Z"
   },
   {
    "duration": 374,
    "start_time": "2022-07-05T08:37:52.183Z"
   },
   {
    "duration": 285,
    "start_time": "2022-07-05T08:37:52.559Z"
   },
   {
    "duration": 71,
    "start_time": "2022-07-05T08:37:52.845Z"
   },
   {
    "duration": 42,
    "start_time": "2022-07-05T08:37:52.919Z"
   },
   {
    "duration": 21,
    "start_time": "2022-07-05T08:37:52.962Z"
   },
   {
    "duration": 65,
    "start_time": "2022-07-05T08:37:52.985Z"
   },
   {
    "duration": 19,
    "start_time": "2022-07-05T08:37:53.052Z"
   },
   {
    "duration": 27,
    "start_time": "2022-07-05T08:37:53.072Z"
   },
   {
    "duration": 30,
    "start_time": "2022-07-05T08:37:53.101Z"
   },
   {
    "duration": 8,
    "start_time": "2022-07-05T08:37:53.133Z"
   },
   {
    "duration": 14,
    "start_time": "2022-07-05T08:37:53.143Z"
   },
   {
    "duration": 592,
    "start_time": "2022-07-05T08:37:53.159Z"
   },
   {
    "duration": 5,
    "start_time": "2022-07-05T08:37:53.754Z"
   },
   {
    "duration": 14,
    "start_time": "2022-07-05T08:37:53.760Z"
   },
   {
    "duration": 4,
    "start_time": "2022-07-05T08:37:53.775Z"
   },
   {
    "duration": 8,
    "start_time": "2022-07-05T08:37:53.781Z"
   },
   {
    "duration": 8,
    "start_time": "2022-07-05T08:37:53.791Z"
   },
   {
    "duration": 28,
    "start_time": "2022-07-05T08:37:53.824Z"
   },
   {
    "duration": 119,
    "start_time": "2022-07-05T08:37:53.853Z"
   },
   {
    "duration": 86,
    "start_time": "2022-07-05T08:37:53.973Z"
   },
   {
    "duration": 25,
    "start_time": "2022-07-05T08:37:54.061Z"
   },
   {
    "duration": 11,
    "start_time": "2022-07-05T08:37:54.088Z"
   },
   {
    "duration": 49,
    "start_time": "2022-07-05T08:37:54.101Z"
   },
   {
    "duration": 13,
    "start_time": "2022-07-05T08:37:54.152Z"
   },
   {
    "duration": 358,
    "start_time": "2022-07-05T08:37:54.166Z"
   },
   {
    "duration": 10,
    "start_time": "2022-07-05T08:37:54.526Z"
   },
   {
    "duration": 364,
    "start_time": "2022-07-05T08:37:54.538Z"
   },
   {
    "duration": 12,
    "start_time": "2022-07-05T08:37:54.904Z"
   },
   {
    "duration": 431,
    "start_time": "2022-07-05T08:37:54.923Z"
   },
   {
    "duration": 6,
    "start_time": "2022-07-05T08:37:55.355Z"
   },
   {
    "duration": 274,
    "start_time": "2022-07-05T08:37:55.363Z"
   },
   {
    "duration": 19,
    "start_time": "2022-07-05T08:37:55.639Z"
   },
   {
    "duration": 32,
    "start_time": "2022-07-05T08:37:55.660Z"
   },
   {
    "duration": 50,
    "start_time": "2022-07-05T08:37:55.694Z"
   },
   {
    "duration": 6,
    "start_time": "2022-07-05T08:37:55.745Z"
   },
   {
    "duration": 21,
    "start_time": "2022-07-05T08:37:55.752Z"
   },
   {
    "duration": 6,
    "start_time": "2022-07-05T08:37:55.775Z"
   },
   {
    "duration": 25,
    "start_time": "2022-07-05T08:37:55.782Z"
   },
   {
    "duration": 22,
    "start_time": "2022-07-05T08:37:55.809Z"
   },
   {
    "duration": 11,
    "start_time": "2022-07-05T08:37:55.834Z"
   },
   {
    "duration": 148,
    "start_time": "2022-07-05T08:37:55.846Z"
   },
   {
    "duration": 145,
    "start_time": "2022-07-05T08:37:55.996Z"
   },
   {
    "duration": 138,
    "start_time": "2022-07-05T08:37:56.143Z"
   },
   {
    "duration": 3,
    "start_time": "2022-07-05T08:37:56.283Z"
   },
   {
    "duration": 8,
    "start_time": "2022-07-05T08:37:56.288Z"
   },
   {
    "duration": 20,
    "start_time": "2022-07-05T08:37:56.298Z"
   },
   {
    "duration": 7,
    "start_time": "2022-07-05T08:37:56.323Z"
   },
   {
    "duration": 6,
    "start_time": "2022-07-05T08:37:56.331Z"
   },
   {
    "duration": 95,
    "start_time": "2022-07-05T08:37:56.338Z"
   },
   {
    "duration": 85,
    "start_time": "2022-07-05T08:38:08.139Z"
   },
   {
    "duration": 10,
    "start_time": "2022-07-05T08:38:10.429Z"
   },
   {
    "duration": 99,
    "start_time": "2022-07-05T08:38:13.928Z"
   },
   {
    "duration": 9,
    "start_time": "2022-07-05T08:38:16.947Z"
   },
   {
    "duration": 3,
    "start_time": "2022-07-05T08:38:22.669Z"
   },
   {
    "duration": 3,
    "start_time": "2022-07-05T08:54:06.993Z"
   },
   {
    "duration": 382,
    "start_time": "2022-07-05T08:54:06.998Z"
   },
   {
    "duration": 291,
    "start_time": "2022-07-05T08:54:07.382Z"
   },
   {
    "duration": 71,
    "start_time": "2022-07-05T08:54:07.675Z"
   },
   {
    "duration": 30,
    "start_time": "2022-07-05T08:54:07.748Z"
   },
   {
    "duration": 19,
    "start_time": "2022-07-05T08:54:07.780Z"
   },
   {
    "duration": 49,
    "start_time": "2022-07-05T08:54:07.801Z"
   },
   {
    "duration": 17,
    "start_time": "2022-07-05T08:54:07.851Z"
   },
   {
    "duration": 27,
    "start_time": "2022-07-05T08:54:07.870Z"
   },
   {
    "duration": 37,
    "start_time": "2022-07-05T08:54:07.898Z"
   },
   {
    "duration": 16,
    "start_time": "2022-07-05T08:54:07.936Z"
   },
   {
    "duration": 7,
    "start_time": "2022-07-05T08:54:07.953Z"
   },
   {
    "duration": 616,
    "start_time": "2022-07-05T08:54:07.962Z"
   },
   {
    "duration": 4,
    "start_time": "2022-07-05T08:54:08.580Z"
   },
   {
    "duration": 17,
    "start_time": "2022-07-05T08:54:08.586Z"
   },
   {
    "duration": 21,
    "start_time": "2022-07-05T08:54:08.604Z"
   },
   {
    "duration": 13,
    "start_time": "2022-07-05T08:54:08.627Z"
   },
   {
    "duration": 10,
    "start_time": "2022-07-05T08:54:08.641Z"
   },
   {
    "duration": 29,
    "start_time": "2022-07-05T08:54:08.652Z"
   },
   {
    "duration": 123,
    "start_time": "2022-07-05T08:54:08.683Z"
   },
   {
    "duration": 98,
    "start_time": "2022-07-05T08:54:08.807Z"
   },
   {
    "duration": 41,
    "start_time": "2022-07-05T08:54:08.907Z"
   },
   {
    "duration": 14,
    "start_time": "2022-07-05T08:54:08.950Z"
   },
   {
    "duration": 55,
    "start_time": "2022-07-05T08:54:08.970Z"
   },
   {
    "duration": 18,
    "start_time": "2022-07-05T08:54:09.027Z"
   },
   {
    "duration": 425,
    "start_time": "2022-07-05T08:54:09.046Z"
   },
   {
    "duration": 12,
    "start_time": "2022-07-05T08:54:09.472Z"
   },
   {
    "duration": 465,
    "start_time": "2022-07-05T08:54:09.486Z"
   },
   {
    "duration": 11,
    "start_time": "2022-07-05T08:54:09.953Z"
   },
   {
    "duration": 341,
    "start_time": "2022-07-05T08:54:09.965Z"
   },
   {
    "duration": 17,
    "start_time": "2022-07-05T08:54:10.308Z"
   },
   {
    "duration": 264,
    "start_time": "2022-07-05T08:54:10.327Z"
   },
   {
    "duration": 16,
    "start_time": "2022-07-05T08:54:10.593Z"
   },
   {
    "duration": 43,
    "start_time": "2022-07-05T08:54:10.611Z"
   },
   {
    "duration": 37,
    "start_time": "2022-07-05T08:54:10.656Z"
   },
   {
    "duration": 7,
    "start_time": "2022-07-05T08:54:10.694Z"
   },
   {
    "duration": 14,
    "start_time": "2022-07-05T08:54:10.724Z"
   },
   {
    "duration": 7,
    "start_time": "2022-07-05T08:54:10.739Z"
   },
   {
    "duration": 11,
    "start_time": "2022-07-05T08:54:10.748Z"
   },
   {
    "duration": 14,
    "start_time": "2022-07-05T08:54:10.761Z"
   },
   {
    "duration": 12,
    "start_time": "2022-07-05T08:54:10.777Z"
   },
   {
    "duration": 177,
    "start_time": "2022-07-05T08:54:10.791Z"
   },
   {
    "duration": 162,
    "start_time": "2022-07-05T08:54:10.970Z"
   },
   {
    "duration": 145,
    "start_time": "2022-07-05T08:54:11.134Z"
   },
   {
    "duration": 4,
    "start_time": "2022-07-05T08:54:11.281Z"
   },
   {
    "duration": 7,
    "start_time": "2022-07-05T08:54:11.287Z"
   },
   {
    "duration": 29,
    "start_time": "2022-07-05T08:54:11.296Z"
   },
   {
    "duration": 8,
    "start_time": "2022-07-05T08:54:11.326Z"
   },
   {
    "duration": 5,
    "start_time": "2022-07-05T08:54:11.336Z"
   },
   {
    "duration": 91,
    "start_time": "2022-07-05T08:54:11.343Z"
   },
   {
    "duration": 98,
    "start_time": "2022-07-05T08:54:11.436Z"
   },
   {
    "duration": 202,
    "start_time": "2022-07-05T08:54:11.624Z"
   },
   {
    "duration": 102,
    "start_time": "2022-07-05T08:54:11.828Z"
   },
   {
    "duration": 102,
    "start_time": "2022-07-05T08:54:11.933Z"
   },
   {
    "duration": 487,
    "start_time": "2022-07-05T08:54:42.021Z"
   },
   {
    "duration": 15381,
    "start_time": "2022-07-05T08:55:52.853Z"
   },
   {
    "duration": 14741,
    "start_time": "2022-07-05T08:57:08.221Z"
   },
   {
    "duration": 15567,
    "start_time": "2022-07-05T09:05:55.791Z"
   },
   {
    "duration": 14876,
    "start_time": "2022-07-05T09:06:59.762Z"
   },
   {
    "duration": 15055,
    "start_time": "2022-07-05T09:10:07.175Z"
   },
   {
    "duration": 14796,
    "start_time": "2022-07-05T09:10:41.992Z"
   },
   {
    "duration": 14876,
    "start_time": "2022-07-05T09:11:33.431Z"
   },
   {
    "duration": 14261,
    "start_time": "2022-07-05T09:12:40.002Z"
   },
   {
    "duration": 15030,
    "start_time": "2022-07-05T09:13:06.983Z"
   },
   {
    "duration": 1412,
    "start_time": "2022-07-05T09:14:10.130Z"
   },
   {
    "duration": 405,
    "start_time": "2022-07-05T09:14:11.545Z"
   },
   {
    "duration": 264,
    "start_time": "2022-07-05T09:14:11.952Z"
   },
   {
    "duration": 73,
    "start_time": "2022-07-05T09:14:12.218Z"
   },
   {
    "duration": 40,
    "start_time": "2022-07-05T09:14:12.293Z"
   },
   {
    "duration": 19,
    "start_time": "2022-07-05T09:14:12.335Z"
   },
   {
    "duration": 28,
    "start_time": "2022-07-05T09:14:12.356Z"
   },
   {
    "duration": 45,
    "start_time": "2022-07-05T09:14:12.386Z"
   },
   {
    "duration": 26,
    "start_time": "2022-07-05T09:14:12.433Z"
   },
   {
    "duration": 14,
    "start_time": "2022-07-05T09:14:12.461Z"
   },
   {
    "duration": 10,
    "start_time": "2022-07-05T09:14:12.477Z"
   },
   {
    "duration": 9,
    "start_time": "2022-07-05T09:14:12.489Z"
   },
   {
    "duration": 610,
    "start_time": "2022-07-05T09:14:12.523Z"
   },
   {
    "duration": 5,
    "start_time": "2022-07-05T09:14:13.136Z"
   },
   {
    "duration": 8,
    "start_time": "2022-07-05T09:14:13.143Z"
   },
   {
    "duration": 5,
    "start_time": "2022-07-05T09:14:13.153Z"
   },
   {
    "duration": 6,
    "start_time": "2022-07-05T09:14:13.161Z"
   },
   {
    "duration": 8,
    "start_time": "2022-07-05T09:14:13.168Z"
   },
   {
    "duration": 60,
    "start_time": "2022-07-05T09:14:13.178Z"
   },
   {
    "duration": 123,
    "start_time": "2022-07-05T09:14:13.240Z"
   },
   {
    "duration": 91,
    "start_time": "2022-07-05T09:14:13.366Z"
   },
   {
    "duration": 23,
    "start_time": "2022-07-05T09:14:13.458Z"
   },
   {
    "duration": 13,
    "start_time": "2022-07-05T09:14:13.482Z"
   },
   {
    "duration": 53,
    "start_time": "2022-07-05T09:14:13.497Z"
   },
   {
    "duration": 16,
    "start_time": "2022-07-05T09:14:13.552Z"
   },
   {
    "duration": 381,
    "start_time": "2022-07-05T09:14:13.570Z"
   },
   {
    "duration": 11,
    "start_time": "2022-07-05T09:14:13.952Z"
   },
   {
    "duration": 375,
    "start_time": "2022-07-05T09:14:13.964Z"
   },
   {
    "duration": 11,
    "start_time": "2022-07-05T09:14:14.341Z"
   },
   {
    "duration": 445,
    "start_time": "2022-07-05T09:14:14.353Z"
   },
   {
    "duration": 6,
    "start_time": "2022-07-05T09:14:14.800Z"
   },
   {
    "duration": 272,
    "start_time": "2022-07-05T09:14:14.808Z"
   },
   {
    "duration": 19,
    "start_time": "2022-07-05T09:14:15.082Z"
   },
   {
    "duration": 42,
    "start_time": "2022-07-05T09:14:15.103Z"
   },
   {
    "duration": 33,
    "start_time": "2022-07-05T09:14:15.147Z"
   },
   {
    "duration": 5,
    "start_time": "2022-07-05T09:14:15.182Z"
   },
   {
    "duration": 35,
    "start_time": "2022-07-05T09:14:15.189Z"
   },
   {
    "duration": 6,
    "start_time": "2022-07-05T09:14:15.226Z"
   },
   {
    "duration": 11,
    "start_time": "2022-07-05T09:14:15.234Z"
   },
   {
    "duration": 23,
    "start_time": "2022-07-05T09:14:15.247Z"
   },
   {
    "duration": 13,
    "start_time": "2022-07-05T09:14:15.275Z"
   },
   {
    "duration": 162,
    "start_time": "2022-07-05T09:14:15.290Z"
   },
   {
    "duration": 137,
    "start_time": "2022-07-05T09:14:15.454Z"
   },
   {
    "duration": 145,
    "start_time": "2022-07-05T09:14:15.593Z"
   },
   {
    "duration": 4,
    "start_time": "2022-07-05T09:14:15.739Z"
   },
   {
    "duration": 5,
    "start_time": "2022-07-05T09:14:15.745Z"
   },
   {
    "duration": 17,
    "start_time": "2022-07-05T09:14:15.752Z"
   },
   {
    "duration": 10,
    "start_time": "2022-07-05T09:14:15.771Z"
   },
   {
    "duration": 5,
    "start_time": "2022-07-05T09:14:15.783Z"
   },
   {
    "duration": 143,
    "start_time": "2022-07-05T09:14:15.789Z"
   },
   {
    "duration": 96,
    "start_time": "2022-07-05T09:14:15.936Z"
   },
   {
    "duration": 397,
    "start_time": "2022-07-05T09:14:16.034Z"
   },
   {
    "duration": 190,
    "start_time": "2022-07-05T09:14:16.433Z"
   },
   {
    "duration": 100,
    "start_time": "2022-07-05T09:14:16.625Z"
   },
   {
    "duration": 14282,
    "start_time": "2022-07-05T09:14:16.726Z"
   },
   {
    "duration": 14190,
    "start_time": "2022-07-05T09:14:31.010Z"
   },
   {
    "duration": 3,
    "start_time": "2022-07-05T09:16:48.165Z"
   },
   {
    "duration": 8,
    "start_time": "2022-07-05T09:16:51.845Z"
   },
   {
    "duration": 137,
    "start_time": "2022-07-05T09:17:02.446Z"
   },
   {
    "duration": 8,
    "start_time": "2022-07-05T09:17:58.462Z"
   },
   {
    "duration": 59,
    "start_time": "2022-07-05T09:18:40.961Z"
   },
   {
    "duration": 15,
    "start_time": "2022-07-05T09:18:50.962Z"
   },
   {
    "duration": 606080,
    "start_time": "2022-07-05T09:27:11.359Z"
   },
   {
    "duration": 4,
    "start_time": "2022-07-05T09:38:38.957Z"
   },
   {
    "duration": 580001,
    "start_time": "2022-07-05T09:41:07.274Z"
   }
  ],
  "kernelspec": {
   "display_name": "Python 3 (ipykernel)",
   "language": "python",
   "name": "python3"
  },
  "language_info": {
   "codemirror_mode": {
    "name": "ipython",
    "version": 3
   },
   "file_extension": ".py",
   "mimetype": "text/x-python",
   "name": "python",
   "nbconvert_exporter": "python",
   "pygments_lexer": "ipython3",
   "version": "3.9.5"
  },
  "toc": {
   "base_numbering": 1,
   "nav_menu": {},
   "number_sections": true,
   "sideBar": true,
   "skip_h1_title": true,
   "title_cell": "Table of Contents",
   "title_sidebar": "Contents",
   "toc_cell": false,
   "toc_position": {},
   "toc_section_display": true,
   "toc_window_display": true
  }
 },
 "nbformat": 4,
 "nbformat_minor": 2
}
